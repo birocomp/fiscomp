{
 "cells": [
  {
   "cell_type": "markdown",
   "id": "4e7740b0-ae89-4e78-9ac2-f4b8ec694b0a",
   "metadata": {},
   "source": [
    "# Python \n",
    "\n",
    "Python é uma linguagem de programação publicada em 1991, possui vantanges como\n",
    "\n",
    "1. Síntaxe relativamente simples: podendo se escrever programas em menos linhas do que seria necessário em outra linguagens, além de abandonar coisas como uso excessivo de colchetes, chaves, etc.\n",
    "\n",
    "2. Versatilidade: pode ser usada para fazer jogos, simulações, apps, aplicações web, etc. Alguns apps de dispositivos móveis bem famosos são feitos em Python (e.g. Instagram, Spotify e Uber)\n",
    "\n",
    "3. Popularidade: por ser muito popular, existem várias ferramentes, comunidades e pacotes disponíveis para Python."
   ]
  }
 ],
 "metadata": {
  "kernelspec": {
   "display_name": "Python 3",
   "language": "python",
   "name": "python3"
  },
  "language_info": {
   "codemirror_mode": {
    "name": "ipython",
    "version": 3
   },
   "file_extension": ".py",
   "mimetype": "text/x-python",
   "name": "python",
   "nbconvert_exporter": "python",
   "pygments_lexer": "ipython3",
   "version": "3.8.6"
  }
 },
 "nbformat": 4,
 "nbformat_minor": 5
}
