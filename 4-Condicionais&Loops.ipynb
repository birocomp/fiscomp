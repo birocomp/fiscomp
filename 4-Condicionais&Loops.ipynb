{
 "cells": [
  {
   "cell_type": "markdown",
   "id": "bab381d0-d3a2-4c36-9314-34a3a7449aff",
   "metadata": {},
   "source": [
    "# Loops\n",
    "\n",
    "Loops servem para executar tarefas repetitivas. Para isso utilizamos as funções `for` ou `while`.\n",
    "\n",
    "1. `for`: Executa uma tarefa para um certo intervalo pré definido\n",
    "2. `while`: Executa uma trefa **enquanto** algo for verdade\n",
    "\n",
    "Por exemplo, podemos mandar escrever todos os números de 1 até 100, desta forma"
   ]
  },
  {
   "cell_type": "code",
   "execution_count": null,
   "id": "99df9353-4102-40ff-9af3-fd603f1e9ebf",
   "metadata": {},
   "outputs": [],
   "source": [
    "for i in range(1,100):\n",
    "    print "
   ]
  },
  {
   "cell_type": "markdown",
   "id": "d4cfe8e2-f3d7-42c1-96ff-fe0ffce5b296",
   "metadata": {},
   "source": [
    "# Condicionais\n",
    "\n",
    "Condicionais servem para executar uma tarefa apenas se uma certa condição for alcançada. Usa-se o comando `if` para realizar tal tarefa\n",
    "\n",
    ">```Python\n",
    "x=6\n",
    "if x>2:\n",
    "    print(x)\n",
    ">```"
   ]
  },
  {
   "cell_type": "code",
   "execution_count": null,
   "id": "b355690c-f611-4650-ad8e-50d2458750f3",
   "metadata": {},
   "outputs": [],
   "source": []
  }
 ],
 "metadata": {
  "kernelspec": {
   "display_name": "Python 3",
   "language": "python",
   "name": "python3"
  },
  "language_info": {
   "codemirror_mode": {
    "name": "ipython",
    "version": 3
   },
   "file_extension": ".py",
   "mimetype": "text/x-python",
   "name": "python",
   "nbconvert_exporter": "python",
   "pygments_lexer": "ipython3",
   "version": "3.9.1"
  },
  "widgets": {
   "application/vnd.jupyter.widget-state+json": {
    "state": {},
    "version_major": 2,
    "version_minor": 0
   }
  }
 },
 "nbformat": 4,
 "nbformat_minor": 5
}
