{
 "cells": [
  {
   "cell_type": "markdown",
   "id": "d4cfe8e2-f3d7-42c1-96ff-fe0ffce5b296",
   "metadata": {
    "slideshow": {
     "slide_type": "slide"
    }
   },
   "source": [
    "# Condicionais\n",
    "\n",
    "Condicionais servem para executar uma tarefa apenas se uma certa condição for alcançada. \n",
    "\n",
    "## Comando `if`\n",
    "\n",
    "Usa-se o comando `if` para realizar tal tarefa. Por exemplo, podemos escrever um programa para printar um valor `x` apenas se ele for maior do que 2"
   ]
  },
  {
   "cell_type": "code",
   "execution_count": 7,
   "id": "a63262dc",
   "metadata": {
    "slideshow": {
     "slide_type": "fragment"
    }
   },
   "outputs": [
    {
     "name": "stdout",
     "output_type": "stream",
     "text": [
      "2\n"
     ]
    }
   ],
   "source": [
    "x=2\n",
    "if x==2:\n",
    "    print(x)"
   ]
  },
  {
   "cell_type": "markdown",
   "id": "8b8e4ae4-0e81-4dd3-b7e7-84d44b5a75e1",
   "metadata": {
    "slideshow": {
     "slide_type": "slide"
    }
   },
   "source": [
    "Também podemos utilizar o comando `else` para especificar o que fazer caso a condição do `if` não seja alcançada. Por exemplo, vamos pedir para escrever um texto"
   ]
  },
  {
   "cell_type": "code",
   "execution_count": 9,
   "id": "06a66f23-d73c-47c0-9015-58ea73dfc5e4",
   "metadata": {
    "slideshow": {
     "slide_type": "fragment"
    }
   },
   "outputs": [
    {
     "name": "stdout",
     "output_type": "stream",
     "text": [
      "x é maior que 2\n"
     ]
    }
   ],
   "source": [
    "x=4\n",
    "\n",
    "if x>2:\n",
    "    print('x é maior que 2')\n",
    "else:\n",
    "    print('x não é maior que 2')"
   ]
  },
  {
   "cell_type": "markdown",
   "id": "a2847280-9889-492d-984e-72b7caf78589",
   "metadata": {
    "slideshow": {
     "slide_type": "slide"
    }
   },
   "source": [
    "Podemos especificar uma condição para o `else` utilizando o comando `elif`:"
   ]
  },
  {
   "cell_type": "code",
   "execution_count": 12,
   "id": "6006513c-68b8-4dcc-9f90-a4d4a2744876",
   "metadata": {
    "slideshow": {
     "slide_type": "fragment"
    }
   },
   "outputs": [
    {
     "name": "stdout",
     "output_type": "stream",
     "text": [
      "x é maior que 4\n",
      "x é maior que 6\n"
     ]
    }
   ],
   "source": [
    "x=2\n",
    "\n",
    "if x>2:\n",
    "    print('x é maior que 2')\n",
    "elif x<2:\n",
    "    print('x é menor que 2')\n",
    "else:\n",
    "    print('x é igual a 2')"
   ]
  },
  {
   "cell_type": "markdown",
   "id": "79e2fc8b-6ff5-40a2-8e23-fdaf054df260",
   "metadata": {
    "slideshow": {
     "slide_type": "slide"
    }
   },
   "source": [
    "O Python faz as comparações de cima para baixo, então **se uma uma condicão for alcançada, as comparações abaixo nem são feitas!**"
   ]
  },
  {
   "cell_type": "code",
   "execution_count": 7,
   "id": "6c68f65c-214f-4ab5-a193-60a769061694",
   "metadata": {
    "slideshow": {
     "slide_type": "fragment"
    }
   },
   "outputs": [
    {
     "name": "stdout",
     "output_type": "stream",
     "text": [
      "x é maior ou igual a 5\n"
     ]
    }
   ],
   "source": [
    "x=5\n",
    "\n",
    "if x>=5:\n",
    "    print('x é maior ou igual a 5')\n",
    "elif x==5:\n",
    "    print('x é igual a 5')"
   ]
  },
  {
   "cell_type": "markdown",
   "id": "5425db27-eb9d-49cb-930b-9f76c55ea8e1",
   "metadata": {
    "slideshow": {
     "slide_type": "slide"
    }
   },
   "source": [
    "## Operadores `and` e `or`\n",
    "\n",
    "Você pode usar alguns operadores de comparações especiais para estabelecer múltiplas opções. Podemos ver se está `x` está entre 5 e 7, com o operador `and`:"
   ]
  },
  {
   "cell_type": "code",
   "execution_count": 15,
   "id": "c9b8aebd-b0f7-407d-af28-bc4ef9272c62",
   "metadata": {
    "slideshow": {
     "slide_type": "fragment"
    }
   },
   "outputs": [
    {
     "name": "stdout",
     "output_type": "stream",
     "text": [
      "x é maior que 5 E menor que 12\n"
     ]
    }
   ],
   "source": [
    "x=7\n",
    "if x>5 and x<12: #x é maior que 5 E menor que 12?\n",
    "    print('x é maior que 5 E menor que 12')"
   ]
  },
  {
   "cell_type": "markdown",
   "id": "20ee8f1d-341f-4410-9679-b510ed54ac29",
   "metadata": {
    "slideshow": {
     "slide_type": "slide"
    }
   },
   "source": [
    "Podemos também fazer a mesma comparação acima usando apenas  o operador de comparação `<` na ordem certa:"
   ]
  },
  {
   "cell_type": "code",
   "execution_count": 11,
   "id": "3d4f5426-88ef-434a-b5e3-c8f8c92ff680",
   "metadata": {
    "slideshow": {
     "slide_type": "fragment"
    }
   },
   "outputs": [
    {
     "name": "stdout",
     "output_type": "stream",
     "text": [
      "x é maior que 5 E menor que 12\n"
     ]
    }
   ],
   "source": [
    "x=7\n",
    "if 5<x<12:\n",
    "    print('x é maior que 5 E menor que 12')"
   ]
  },
  {
   "cell_type": "markdown",
   "id": "806f4570-5aa2-4e90-994d-70d8b14eb630",
   "metadata": {
    "slideshow": {
     "slide_type": "slide"
    }
   },
   "source": [
    "Também podemos ver se `x` está entre 5 e 12, com o operador `or`:"
   ]
  },
  {
   "cell_type": "code",
   "execution_count": 12,
   "id": "e7994d1d-10f9-4db1-ac8b-4155c7086ed6",
   "metadata": {
    "slideshow": {
     "slide_type": "fragment"
    }
   },
   "outputs": [
    {
     "name": "stdout",
     "output_type": "stream",
     "text": [
      "x é maior que 5 OU menor que 12\n"
     ]
    }
   ],
   "source": [
    "x=15\n",
    "if x>5 or x<12: #x é maior que 5 OU menor que 12\n",
    "    print('x é maior que 5 OU menor que 12')"
   ]
  },
  {
   "cell_type": "markdown",
   "id": "e05d9a8e-34f8-43d7-a6ff-54f679d45ba3",
   "metadata": {
    "slideshow": {
     "slide_type": "slide"
    }
   },
   "source": [
    "# Loops\n",
    "\n",
    "Loops servem para executar tarefas repetitivas. Para isso utilizamos as funções `for` ou `while`.\n",
    "\n",
    "1. `for`: Executa uma tarefa para um certo intervalo pré definido\n",
    "2. `while`: Executa uma tarefa **enquanto** algo for verdade"
   ]
  },
  {
   "cell_type": "markdown",
   "id": "626721c7-819d-4a09-9337-f9cfe7c5ec48",
   "metadata": {
    "slideshow": {
     "slide_type": "slide"
    }
   },
   "source": [
    "## Comando `for`\n",
    "Por exemplo, em Fortran, podemos mandar escrever todos os números de 1 até 5, desta forma:\n",
    "\n",
    ">```fortran\n",
    "do i=1,5\n",
    "    write(*,*) i\n",
    "end do\n",
    ">```\n",
    "\n",
    "Já em Python, podemos usar:"
   ]
  },
  {
   "cell_type": "code",
   "execution_count": 21,
   "id": "99df9353-4102-40ff-9af3-fd603f1e9ebf",
   "metadata": {
    "slideshow": {
     "slide_type": "slide"
    }
   },
   "outputs": [
    {
     "name": "stdout",
     "output_type": "stream",
     "text": [
      "1\n",
      "2\n",
      "3\n",
      "4\n"
     ]
    }
   ],
   "source": [
    "for i in range(1,5):\n",
    "    print(i)\n",
    "    "
   ]
  },
  {
   "cell_type": "markdown",
   "id": "08ab9a68-f529-4718-b3ca-f5ab836b0ed2",
   "metadata": {
    "slideshow": {
     "slide_type": "fragment"
    }
   },
   "source": [
    "Note que o elemento `i=5` não foi printado. Isso porque assim que o comando `for` chega em `i=4` ele não executa o loop uma última vez, e sim, automaticamente o para."
   ]
  },
  {
   "cell_type": "markdown",
   "id": "9a49952c-cc31-48b0-b656-370681ddc244",
   "metadata": {
    "slideshow": {
     "slide_type": "slide"
    }
   },
   "source": [
    "Também podemos fazer um loop para todos os elementos em uma lista com o comando `for`, por exemplo:"
   ]
  },
  {
   "cell_type": "code",
   "execution_count": 22,
   "id": "2f3cb46d-3884-42d9-9ef0-276677852b30",
   "metadata": {
    "slideshow": {
     "slide_type": "fragment"
    }
   },
   "outputs": [
    {
     "name": "stdout",
     "output_type": "stream",
     "text": [
      "pedro\n",
      "lucas\n",
      "joao\n"
     ]
    }
   ],
   "source": [
    "nomes=['pedro','lucas','joao']\n",
    "\n",
    "for x in nomes: #para 'todos os valores x' em 'nomes':\n",
    "    print(x)"
   ]
  },
  {
   "cell_type": "markdown",
   "id": "06508584-99ed-49d3-8f23-e3db5e4e4de5",
   "metadata": {
    "slideshow": {
     "slide_type": "slide"
    }
   },
   "source": [
    "Também podemos fazer um loop sobre as letras de uma **string**."
   ]
  },
  {
   "cell_type": "code",
   "execution_count": 23,
   "id": "a8c63df9-546d-48b1-a5d8-a7830344165d",
   "metadata": {
    "slideshow": {
     "slide_type": "fragment"
    }
   },
   "outputs": [
    {
     "name": "stdout",
     "output_type": "stream",
     "text": [
      "b\n",
      "a\n",
      "n\n",
      "a\n",
      "n\n",
      "a\n"
     ]
    }
   ],
   "source": [
    "for y in 'banana':\n",
    "    print(y)"
   ]
  },
  {
   "cell_type": "markdown",
   "id": "cb5a0a64-3dd8-48eb-ae3c-7fec1e8e7576",
   "metadata": {
    "slideshow": {
     "slide_type": "slide"
    }
   },
   "source": [
    "## Comandos `break` e `continue`\n",
    "\n",
    "* Podemos usar o comando `break` para parar o loop sobre uma lista quando alcançarmos um certo elemento.\n",
    "* Podemos usar o comando `continue` para pular um certo elemento durante o loop sobre uma lista.\n",
    "\n",
    "Por exemplo, se temos uma lista com os números inteiros de 1 a 10 e queremos pular o elemento `x=2`"
   ]
  },
  {
   "cell_type": "code",
   "execution_count": 18,
   "id": "6c51fca4-9dfc-4f09-8794-636e03d0afa3",
   "metadata": {
    "slideshow": {
     "slide_type": "slide"
    }
   },
   "outputs": [
    {
     "name": "stdout",
     "output_type": "stream",
     "text": [
      "1\n",
      "3\n",
      "4\n",
      "5\n",
      "6\n",
      "7\n",
      "8\n",
      "9\n",
      "10\n"
     ]
    }
   ],
   "source": [
    "I=[1,2,3,4,5,6,7,8,9,10]\n",
    "for x in I:\n",
    "    if x==2:\n",
    "        continue\n",
    "    print(x)"
   ]
  },
  {
   "cell_type": "markdown",
   "id": "129555f6-2889-4dd1-8ed0-475163a1f516",
   "metadata": {
    "slideshow": {
     "slide_type": "slide"
    }
   },
   "source": [
    "Se quisermos parar o loop em `x=7`, podemos utilizar o `break` da seguinte forma:"
   ]
  },
  {
   "cell_type": "code",
   "execution_count": 19,
   "id": "aa100efd-5452-4adb-8e58-7fd473ad3e76",
   "metadata": {
    "slideshow": {
     "slide_type": "fragment"
    }
   },
   "outputs": [
    {
     "name": "stdout",
     "output_type": "stream",
     "text": [
      "1\n",
      "2\n",
      "3\n",
      "4\n",
      "5\n",
      "6\n"
     ]
    }
   ],
   "source": [
    "I=[1,2,3,4,5,6,7,8,9,10]\n",
    "\n",
    "for x in I:\n",
    "    if x==7:\n",
    "        break\n",
    "    print(x)"
   ]
  },
  {
   "cell_type": "markdown",
   "id": "627a28d5-f53c-4b2f-8148-a400ddc1c699",
   "metadata": {
    "slideshow": {
     "slide_type": "slide"
    }
   },
   "source": [
    "## Comando `while`\n",
    "\n",
    "Podemos usar o comando `while` para executar um loop **enquanto** uma condição for válida. Por exemplo, se temos uma variável `d=0` e queremos escreve-lá e adicionar 1 ao seu valor, enquanto `d<7`, podemos fazer:"
   ]
  },
  {
   "cell_type": "code",
   "execution_count": 20,
   "id": "18cbdbe5-2399-4e7a-abe5-58db08fe206d",
   "metadata": {
    "slideshow": {
     "slide_type": "fragment"
    }
   },
   "outputs": [
    {
     "name": "stdout",
     "output_type": "stream",
     "text": [
      "0\n",
      "1\n",
      "2\n",
      "3\n",
      "4\n",
      "5\n",
      "6\n"
     ]
    }
   ],
   "source": [
    "d=0\n",
    "while d<7:\n",
    "    print(d)\n",
    "    d=d+1"
   ]
  }
 ],
 "metadata": {
  "celltoolbar": "Slideshow",
  "hide_input": false,
  "kernelspec": {
   "display_name": "Python 3",
   "language": "python",
   "name": "python3"
  },
  "language_info": {
   "codemirror_mode": {
    "name": "ipython",
    "version": 3
   },
   "file_extension": ".py",
   "mimetype": "text/x-python",
   "name": "python",
   "nbconvert_exporter": "python",
   "pygments_lexer": "ipython3",
   "version": "3.9.5"
  },
  "toc": {
   "base_numbering": 1,
   "nav_menu": {},
   "number_sections": true,
   "sideBar": true,
   "skip_h1_title": false,
   "title_cell": "Table of Contents",
   "title_sidebar": "Contents",
   "toc_cell": false,
   "toc_position": {},
   "toc_section_display": true,
   "toc_window_display": false
  },
  "widgets": {
   "application/vnd.jupyter.widget-state+json": {
    "state": {},
    "version_major": 2,
    "version_minor": 0
   }
  }
 },
 "nbformat": 4,
 "nbformat_minor": 5
}
