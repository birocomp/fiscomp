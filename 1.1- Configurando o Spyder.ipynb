{
 "cells": [
  {
   "cell_type": "markdown",
   "id": "f67f1d92-f1a1-4812-beb2-f8f350f2e2f9",
   "metadata": {
    "slideshow": {
     "slide_type": "slide"
    }
   },
   "source": [
    "# Configurando o Spyder"
   ]
  },
  {
   "cell_type": "markdown",
   "id": "e526b762-8f94-4822-8efe-471ba1f94127",
   "metadata": {
    "slideshow": {
     "slide_type": "fragment"
    }
   },
   "source": [
    "Vamos fazer algumas configurações no Spyder para facilitar na hora de programar:"
   ]
  },
  {
   "cell_type": "markdown",
   "id": "9b7cdf2a-8a3c-4d24-ae22-a0aaf106508e",
   "metadata": {
    "slideshow": {
     "slide_type": "slide"
    }
   },
   "source": [
    "## Mudando para português\n",
    "\n",
    "* Clique no botão preferências (chave de fenda na barra de ferramentas do Spyder)\n",
    "\n",
    "<center><img style=\"float: center\" src=\"files/t1.png\"></center>"
   ]
  },
  {
   "cell_type": "markdown",
   "id": "41f81590-5d48-4319-b3e0-305ce8da921b",
   "metadata": {
    "slideshow": {
     "slide_type": "slide"
    }
   },
   "source": [
    "* Uma janela se abrirá. Clique em 'general' na lista à esquerda e depois na aba 'advanced settings' escolha a língua 'português' e clique em 'apply' no canto inferior direito.\n",
    "\n",
    "<center><img style=\"float: center\" src=\"files/t2.png\"></center>\n",
    "\n",
    "* Reinicie o Spyder para efetivar a mudança de língua."
   ]
  },
  {
   "cell_type": "markdown",
   "id": "b2a20bf8-5a84-44d6-a758-1ad4c3be5dbe",
   "metadata": {
    "slideshow": {
     "slide_type": "slide"
    }
   },
   "source": [
    "## Aparência (opcional)"
   ]
  },
  {
   "cell_type": "markdown",
   "id": "fe0bab0f-ec5d-4925-ae4f-2df1f849bc98",
   "metadata": {
    "slideshow": {
     "slide_type": "fragment"
    }
   },
   "source": [
    "* No 'preferências' novamente (botão da chave de fenda)\n",
    "\n",
    "<center><img style=\"float: center\" src=\"files/t3.png\"></center>\n"
   ]
  },
  {
   "cell_type": "markdown",
   "id": "ff10f047-c318-46d7-a6c2-e80cefa68e40",
   "metadata": {
    "slideshow": {
     "slide_type": "slide"
    }
   },
   "source": [
    "Nesse menu você vai poder escolher algumas opções nos seguintes painéis.\n",
    "* Interface principal\n",
    "    * Tema da interface: basicamente o **dark** (escuro) ou o **light** (claro).\n",
    "    * Tema dos ícones: os temas dos ícones no Spyder.\n",
    "* Tema de destaque de sintaxe\n",
    "    * O esquema de cores que o Spyder vai utiizar para destacar sua síntaxe (um pré-visualização está disponível do lado direito)\n",
    "* Fontes\n",
    "    * Texto simples/tamanho: a fonte e o tamanho dela nos textos que você escrever no Spyder (no editor de código, por exemplo)"
   ]
  },
  {
   "cell_type": "markdown",
   "id": "7d5b3c25-2025-478c-8f58-5c6061dca8e5",
   "metadata": {
    "slideshow": {
     "slide_type": "slide"
    }
   },
   "source": [
    "## Execução (recomendado)\n",
    "\n",
    "* Em 'executar' marque esta opção para remover todas as variáveis da memória sempre que executar a um código.\n",
    "\n",
    "<center><img style=\"float: center\" src=\"files/t4.png\"></center>"
   ]
  },
  {
   "cell_type": "markdown",
   "id": "de95e269-d945-435a-8dea-6f31a102eac1",
   "metadata": {
    "slideshow": {
     "slide_type": "slide"
    }
   },
   "source": [
    "## Atalhos\n",
    "\n",
    "* Em 'Teclas de Atalho' você pode configurar os atalhos para certos comandos. Por exemplo, procure por 'run', clique duas vezes em 'F5', então escolha qual tecla irá rodar o código para você.\n",
    "\n",
    "<center><img style=\"float: center\" src=\"files/t5.png\"></center>"
   ]
  },
  {
   "cell_type": "markdown",
   "id": "46dad998-8d8b-48fc-98d8-b4fa15301f77",
   "metadata": {
    "slideshow": {
     "slide_type": "slide"
    }
   },
   "source": [
    "# Editor\n",
    "\n",
    "* Em 'Editor' selecione a aba visualização e marque essas 3 opções para facilitar na hora de escrever o código.\n",
    "\n",
    "<center><img style=\"float: center\" src=\"files/t6.png\"></center>"
   ]
  },
  {
   "cell_type": "markdown",
   "id": "b9eb468e-3aa1-43ee-83b6-b7892bffe0d1",
   "metadata": {
    "slideshow": {
     "slide_type": "slide"
    }
   },
   "source": [
    "## Guias de Indentação (recomendado)\n",
    "\n",
    "Essas guias vão servir para podermos saber que linhas o Python está considerando como indentadas (ex. quais linhas fazem parte de uma função, condicional ou qualquer outro escopo que exija indentação. "
   ]
  },
  {
   "cell_type": "markdown",
   "id": "1e1847e1-72eb-4746-bd81-f129bd0149d6",
   "metadata": {
    "slideshow": {
     "slide_type": "slide"
    }
   },
   "source": [
    "* Veja abaixo que essas 'barras cinzas' na primeira coluna mostram tudo que faz parte da função `f()`\n",
    "    * A segunda barra, mais para a direita, mostra tudo que faz parte do `if` dentro da função\n",
    "\n",
    "<center><img style=\"float: center\" src=\"files/s1.png\"></center>"
   ]
  },
  {
   "cell_type": "markdown",
   "id": "c9fc4213-da2b-491b-82d5-a4e5f8216e80",
   "metadata": {
    "slideshow": {
     "slide_type": "slide"
    }
   },
   "source": [
    "## Recolhimento de código (opcional)\n",
    "\n",
    "* Com essa ferramenta ativada, podemos passar o mouse na barra vertical do lado esquerdo do código e veremos 'setinhas verdes'. Elas vão servir para recolher parte do código (ex. uma função, uma condicional, etc). Isso é mais para organização visual do que qualquer outra coisa.\n",
    "\n",
    "<center><img style=\"float: center\" src=\"files/s3.png\"></center>\n",
    "<center><img style=\"float: center\" src=\"files/s4.png\"></center>\n",
    "<center><img style=\"float: center\" src=\"files/s5.png\"></center>"
   ]
  },
  {
   "cell_type": "markdown",
   "id": "710a9443-14ac-4659-93e9-ddd9bcb80dae",
   "metadata": {
    "slideshow": {
     "slide_type": "slide"
    }
   },
   "source": [
    "## Número de linhas de código (recomendado)\n",
    "* Como diz o nome, ativar essa função nos mostrará uma numeração na barra esquerda vertical.\n",
    "\n",
    "<center><img style=\"float: center\" src=\"files/s6.png\"></center>"
   ]
  },
  {
   "cell_type": "markdown",
   "id": "6b292b2b-b8d1-49d3-b145-2eca5d2c4043",
   "metadata": {
    "slideshow": {
     "slide_type": "slide"
    }
   },
   "source": [
    "* Agora na aba executar código marque esta opção.\n",
    "\n",
    "<center><img style=\"float: center\" src=\"files/t7.png\"></center>"
   ]
  },
  {
   "cell_type": "markdown",
   "id": "d97a5acc-319f-4047-9bd3-9df52fc0d5b8",
   "metadata": {
    "slideshow": {
     "slide_type": "slide"
    }
   },
   "source": [
    "# Funções simples do Spyder\n",
    "\n",
    "* $\\color{green}{Rodar \\, o \\, arquivo \\rightarrow}$ Atalho padrão:`F5` \n",
    "* $\\color{blue}{Rodar \\, celula \\, de \\, codigo \\rightarrow}$ Atalho padrão:`Shift + Enter`\n",
    "* $\\color{red}{Preferencias}$ \n",
    "\n",
    "<center><img style=\"float: center\" src=\"files/sf.png\"></center>"
   ]
  },
  {
   "cell_type": "markdown",
   "id": "ec59c615-7cdd-454b-800e-127fe4349651",
   "metadata": {
    "slideshow": {
     "slide_type": "slide"
    }
   },
   "source": [
    "***\n",
    "## Célula de Código\n",
    "\n",
    "No Spyder, uma célula de código é uma parte específica do seu código separada por uma linha comentada assim: `#%%`. No exemplo abaixo, cada print é uma célula de código, se usamos `Shift + Enter` para executar, o Spyder executará apenas a célula onde está o ponteiro do seu mouse.\n",
    "\n",
    ">```Python\n",
    "print(25)\n",
    "#%%\n",
    "print(21)\n",
    "#%%\n",
    "print(11)\n",
    ">```\n",
    "\n",
    "Se não há nenhuma separador (`#%%`), então `Shift + Enter` executará o código todo.\n",
    "***\n"
   ]
  },
  {
   "cell_type": "markdown",
   "id": "72293df6-e4a0-40c9-aa02-2ca4284c42b6",
   "metadata": {
    "slideshow": {
     "slide_type": "slide"
    }
   },
   "source": [
    "# Arquivo\n",
    "\n",
    "Na parte de cima do Spyder você verá vários menus e opções. \n",
    "\n",
    "Para salvar seu código pela primeira vez clique em:\n",
    " * `Arquivo -> Salvar como...` \n",
    " \n",
    "Escolha o **nome** e o local para salvar o arquivo. Lembre-se que **a extensão do arquivo (o final do nome), precisa ser `.py`**.\n",
    "\n",
    "<center><img style=\"float: center\" src=\"files/sop.png\"></center>"
   ]
  },
  {
   "cell_type": "markdown",
   "id": "e6f9a5e1-e309-4fc3-8900-11f8e64b1825",
   "metadata": {
    "slideshow": {
     "slide_type": "slide"
    }
   },
   "source": [
    "Depois de salvo pela primeira vez:\n",
    "* Você pode utilizar `Ctrl+S` para salvar rapidamente. \n",
    "* O Spyder salvará automaticamente seu arquivo, por padrão, a cada 60 segundos.\n",
    "* Na parte em verde, você verá onde está salvo o arquivo que está aberto."
   ]
  },
  {
   "cell_type": "markdown",
   "id": "5aa55da6-62d4-44b1-b9f0-34993620e555",
   "metadata": {
    "slideshow": {
     "slide_type": "slide"
    }
   },
   "source": [
    "# Abas\n",
    "\n",
    "Se você abrir mais de um arquivo ao mesmo tempo, o `Spyder` mostrará cada um em uma aba separada\n",
    "\n",
    "<center><img style=\"float: center\" src=\"files/sabas.png\"></center>"
   ]
  },
  {
   "cell_type": "markdown",
   "id": "51b25f1b-b991-4c33-b5da-6103b51f4673",
   "metadata": {
    "slideshow": {
     "slide_type": "slide"
    }
   },
   "source": [
    "# Botões de acesso rápido\n",
    "\n",
    "<center><img style=\"float: center\" src=\"files/sbt.png\"></center>\n",
    "\n",
    "Em ordem, da esquerda para a direita, o que esses botões fazem é:\n",
    "\n",
    "1. Cria um novo arquivo\n",
    "2. Abre um arquivo já salvo no seu sistema\n",
    "3. Salva o arquivo atual\n",
    "4. Salva todos os arquivos abertos"
   ]
  }
 ],
 "metadata": {
  "celltoolbar": "Slideshow",
  "hide_input": false,
  "kernelspec": {
   "display_name": "Python 3",
   "language": "python",
   "name": "python3"
  },
  "language_info": {
   "codemirror_mode": {
    "name": "ipython",
    "version": 3
   },
   "file_extension": ".py",
   "mimetype": "text/x-python",
   "name": "python",
   "nbconvert_exporter": "python",
   "pygments_lexer": "ipython3",
   "version": "3.9.5"
  },
  "toc": {
   "base_numbering": 1,
   "nav_menu": {},
   "number_sections": true,
   "sideBar": true,
   "skip_h1_title": false,
   "title_cell": "Table of Contents",
   "title_sidebar": "Contents",
   "toc_cell": false,
   "toc_position": {},
   "toc_section_display": true,
   "toc_window_display": false
  },
  "widgets": {
   "application/vnd.jupyter.widget-state+json": {
    "state": {},
    "version_major": 2,
    "version_minor": 0
   }
  }
 },
 "nbformat": 4,
 "nbformat_minor": 5
}
