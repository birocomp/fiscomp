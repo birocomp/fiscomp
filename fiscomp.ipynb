{
 "cells": [
  {
   "cell_type": "markdown",
   "id": "2dee1ad1",
   "metadata": {},
   "source": [
    "# Variáveis básicas"
   ]
  },
  {
   "cell_type": "markdown",
   "id": "f2329588",
   "metadata": {},
   "source": [
    "Uma variável, em termos mais gerais, é um 'valor' carregado na memória do computador. Podemos atribuir um *rótulo* para uma variável, salvando-a na memória. Por exemplo, podemos criar e escrever uma variável `x` no console com o comando `print(x)` dessa forma:"
   ]
  },
  {
   "cell_type": "code",
   "execution_count": 42,
   "id": "c8b90af4",
   "metadata": {},
   "outputs": [],
   "source": [
    "#Tudo que vem depois do 'jogo da velha' '#' em uma linha, é considerado um comentário e ignorado pelo compilador\n",
    "x=50 #'x' é salvo na memória como o valor 50\n",
    "print(x) #escreve-se 'x' no console"
   ]
  },
  {
   "cell_type": "markdown",
   "id": "5f8c2e0f",
   "metadata": {},
   "source": [
    "É preciso cuidado, pois **o Python diferencia letras minúsculas de maiúsculas!** Podemos escrever dois valores com o comando print(A,B) apenas os separando por vírgula"
   ]
  },
  {
   "cell_type": "code",
   "execution_count": 1,
   "id": "cec7746c",
   "metadata": {},
   "outputs": [
    {
     "name": "stdout",
     "output_type": "stream",
     "text": [
      "50\n",
      "20\n"
     ]
    }
   ],
   "source": [
    "a=50\n",
    "A=20\n",
    "print(a)\n",
    "print(A) "
   ]
  },
  {
   "cell_type": "markdown",
   "id": "b3f0dcab",
   "metadata": {},
   "source": [
    " Uma variável pode ser, basicamente, de três tipos:\n",
    "\n",
    "1. **String**: Uma string é um pedaço de texto. Strings são escritas entres 'aspas simples' ou \"aspas duplas\"\n",
    "2. **Numérica**: Um número com precisão que pode ser especificada. Esse tipo de variável possui basicamente 3 subtipos:\\\n",
    "    A. Inteiro (int)  \n",
    "    B. Real (float)   \n",
    "    C. Número complexo (complex)\n",
    "3. **Bool**: São valores da lógica Booleana que podem ter apenas 2 valores: True (verdadeiro) ou False (falso).\n",
    "Vamos escrever o número '50' das três formas acima.\n",
    "\n",
    "***\n",
    "\n",
    "## 1. String\n",
    "\n",
    "Esse tipo de variável é um texto, sempre escrito entre `'apas simples'` ou `\"aspas duplas\"`"
   ]
  },
  {
   "cell_type": "code",
   "execution_count": 57,
   "id": "af18d07d",
   "metadata": {},
   "outputs": [
    {
     "name": "stdout",
     "output_type": "stream",
     "text": [
      "Este é um texto!\n",
      "Este também é um texto!\n"
     ]
    }
   ],
   "source": [
    "A='Este é um texto!'\n",
    "B=\"Este também é um texto!\"\n",
    "print(A)\n",
    "print(B)"
   ]
  },
  {
   "cell_type": "markdown",
   "id": "3b507442",
   "metadata": {},
   "source": [
    "Abaixo você vê um exemplo de uma *'string'* declarada de forma errada!"
   ]
  },
  {
   "cell_type": "code",
   "execution_count": 40,
   "id": "5e186975",
   "metadata": {},
   "outputs": [
    {
     "ename": "SyntaxError",
     "evalue": "invalid syntax (<ipython-input-40-3e81b87c20c7>, line 1)",
     "output_type": "error",
     "traceback": [
      "\u001b[0;36m  File \u001b[0;32m\"<ipython-input-40-3e81b87c20c7>\"\u001b[0;36m, line \u001b[0;32m1\u001b[0m\n\u001b[0;31m    A=Este não é um texto!\u001b[0m\n\u001b[0m           ^\u001b[0m\n\u001b[0;31mSyntaxError\u001b[0m\u001b[0;31m:\u001b[0m invalid syntax\n"
     ]
    }
   ],
   "source": [
    "A=Este não é um texto!\n",
    "print(A)"
   ]
  },
  {
   "cell_type": "markdown",
   "id": "c2ddd6df",
   "metadata": {},
   "source": [
    "***\n",
    "## 2. Numérica\n",
    "\n",
    "### A. Inteiro (int)\n",
    "\n",
    "Um **int** é apenas um número inteiro.\n"
   ]
  },
  {
   "cell_type": "code",
   "execution_count": 2,
   "id": "46f0d249",
   "metadata": {},
   "outputs": [
    {
     "name": "stdout",
     "output_type": "stream",
     "text": [
      "inteiro: 50\n"
     ]
    }
   ],
   "source": [
    "inteiro=50 #Atribui o valor 50 à variável 'inteiro'\n",
    "print('inteiro:',inteiro)"
   ]
  },
  {
   "cell_type": "markdown",
   "id": "e1742e13",
   "metadata": {},
   "source": [
    "### B. Real (float)\n",
    "\n",
    "Um real (float) pode ser escrito de várias maneiras, por exemplo, o número 50 pode ser escrito como\n",
    "\n",
    "* $50 \\rightarrow$`50.0`\n",
    "\n",
    "* $50 \\rightarrow$`50.`\n",
    "\n",
    "* ${\\color{red}5} \\times 10^{\\color{red}1} \\rightarrow$`5e1`"
   ]
  },
  {
   "cell_type": "code",
   "execution_count": 5,
   "id": "fff58627",
   "metadata": {},
   "outputs": [
    {
     "name": "stdout",
     "output_type": "stream",
     "text": [
      "real1= 50.0\n",
      "real2= 50.0\n",
      "real3= 50.0\n"
     ]
    }
   ],
   "source": [
    "real1=50. #50.0\n",
    "real2=5e1 #50x10¹\n",
    "real3=float(50)\n",
    "\n",
    "print('real1=',real1)\n",
    "print('real2=',real2)\n",
    "print('real3=',real3)"
   ]
  },
  {
   "cell_type": "markdown",
   "id": "ca1299ca",
   "metadata": {},
   "source": [
    "### C. Complexo (complex)\n",
    "\n",
    "A unidade imaginária é *'j'*, portanto, um número complexo qualquer é escrito como $a+ib$ é escrito como\n",
    "\n",
    "* $a+ib \\rightarrow$`a+bj`\n",
    "\n",
    "* $a+ib \\rightarrow$`complex(a,b)`\n",
    "\n",
    "Por exemplo, o número $z=50-i3$ pode ser escrito da seguinte forma"
   ]
  },
  {
   "cell_type": "code",
   "execution_count": 8,
   "id": "265876ce",
   "metadata": {},
   "outputs": [
    {
     "name": "stdout",
     "output_type": "stream",
     "text": [
      "img1= (50-3j)\n",
      "img2= (50-3j)\n"
     ]
    }
   ],
   "source": [
    "z1=complex(50,-3)\n",
    "z2=50-3j #Aqui 'j' representa a unidade imaginária\n",
    "\n",
    "print('img1=',z1)\n",
    "print('img2=',z2)"
   ]
  },
  {
   "cell_type": "markdown",
   "id": "730e4063",
   "metadata": {},
   "source": [
    "***\n",
    "## 3. Bool\n",
    "\n",
    "Uma variável do tipo bool (abreviação de Boolean) só pode ter dois valores:\n",
    "\n",
    "* $Verdadeiro \\rightarrow$ `True`\n",
    "* $False \\rightarrow$ `False`"
   ]
  },
  {
   "cell_type": "code",
   "execution_count": 71,
   "id": "444baf7a",
   "metadata": {},
   "outputs": [
    {
     "name": "stdout",
     "output_type": "stream",
     "text": [
      "F= False\n",
      "V= True\n"
     ]
    }
   ],
   "source": [
    "F=False\n",
    "V=True\n",
    "print('F=',F)\n",
    "print('V=',V)"
   ]
  },
  {
   "cell_type": "markdown",
   "id": "21fc8507",
   "metadata": {},
   "source": [
    "***\n",
    "\n",
    "# Função Type\n",
    "\n",
    "\n",
    "Podemos descobrir o tipo de uma variável `x` usando o comando `type(x)`"
   ]
  },
  {
   "cell_type": "code",
   "execution_count": 10,
   "id": "18e0fc2e",
   "metadata": {},
   "outputs": [
    {
     "data": {
      "text/plain": [
       "str"
      ]
     },
     "execution_count": 10,
     "metadata": {},
     "output_type": "execute_result"
    }
   ],
   "source": [
    "type('50')"
   ]
  },
  {
   "cell_type": "markdown",
   "id": "d521482c",
   "metadata": {},
   "source": [
    "Note que porque o '50' acima está entre aspas, ele é interpretado como uma **string** (str) e não como um **inteiro**"
   ]
  },
  {
   "cell_type": "markdown",
   "id": "9ca6ef1b",
   "metadata": {},
   "source": [
    "# Operações Aritméticas"
   ]
  },
  {
   "cell_type": "markdown",
   "id": "35b8b31d",
   "metadata": {},
   "source": [
    "Podemos realizar operações entre diferentes variáveis, como: soma, subtração, divisão, etc. "
   ]
  },
  {
   "cell_type": "code",
   "execution_count": 93,
   "id": "fd434287",
   "metadata": {},
   "outputs": [
    {
     "name": "stdout",
     "output_type": "stream",
     "text": [
      "5+2= 7\n",
      "5-2= 3\n",
      "5*2= 10\n",
      "5/2= 2.5\n",
      "5**2= 25\n"
     ]
    }
   ],
   "source": [
    "print('5+2=',5+2) #soma\n",
    "print('5-2=',5-2) #subtração\n",
    "print('5*2=',5*2) #multiplicação\n",
    "print('5/2=',5/2) #divisão\n",
    "print('5**2=',5**2)#exponenciação"
   ]
  },
  {
   "cell_type": "markdown",
   "id": "b9d3cb3c",
   "metadata": {},
   "source": [
    "Também existem algumas operações para facilitar nossa vida. Por exemplo, se queremos o resto da divisão entre 5 e 2, podemos usar o seguinte código"
   ]
  },
  {
   "cell_type": "code",
   "execution_count": 86,
   "id": "4e92151d",
   "metadata": {},
   "outputs": [
    {
     "data": {
      "text/plain": [
       "1"
      ]
     },
     "execution_count": 86,
     "metadata": {},
     "output_type": "execute_result"
    }
   ],
   "source": [
    "5%2"
   ]
  },
  {
   "cell_type": "markdown",
   "id": "4748b36a",
   "metadata": {},
   "source": [
    "Se queremos truncar o resultado da divisão entre 5 e 2 (aproximar para o valor mais baixo) podemos usar"
   ]
  },
  {
   "cell_type": "code",
   "execution_count": 87,
   "id": "7ef4d71c",
   "metadata": {},
   "outputs": [
    {
     "data": {
      "text/plain": [
       "2"
      ]
     },
     "execution_count": 87,
     "metadata": {},
     "output_type": "execute_result"
    }
   ],
   "source": [
    "5//2"
   ]
  },
  {
   "cell_type": "code",
   "execution_count": 91,
   "id": "ca25f1c4",
   "metadata": {},
   "outputs": [
    {
     "name": "stdout",
     "output_type": "stream",
     "text": [
      "Valor da divisão= 2.5\n",
      "Valor truncado da divisão= 2\n",
      "Resto da divisão= 1\n"
     ]
    }
   ],
   "source": [
    "print('Valor da divisão=', 5/2)\n",
    "print('Valor truncado da divisão=', 5//2)\n",
    "print('Resto da divisão=', 5%2)"
   ]
  },
  {
   "cell_type": "markdown",
   "id": "be47f5fb",
   "metadata": {},
   "source": [
    "# Operadores de comparação"
   ]
  },
  {
   "cell_type": "markdown",
   "id": "d1344a85",
   "metadata": {},
   "source": [
    "Podemos usar alguns operadores para comparar duas variáveis ou valores. Por exemplo, digamos que queremos saber se 200 é maior que 75, podemos usar o operador '>' e o console nos dirá se a relação é verdadeira ou falsa"
   ]
  },
  {
   "cell_type": "code",
   "execution_count": 96,
   "id": "4860575f",
   "metadata": {},
   "outputs": [
    {
     "data": {
      "text/plain": [
       "True"
      ]
     },
     "execution_count": 96,
     "metadata": {},
     "output_type": "execute_result"
    }
   ],
   "source": [
    "200>75 "
   ]
  },
  {
   "cell_type": "markdown",
   "id": "27adc633",
   "metadata": {},
   "source": [
    "Também podemos utilizar a mesma lógica com os operadores maior ou igual, menor ou igual, diferente, menor, etc"
   ]
  },
  {
   "cell_type": "code",
   "execution_count": 109,
   "id": "8d37d198",
   "metadata": {},
   "outputs": [
    {
     "name": "stdout",
     "output_type": "stream",
     "text": [
      "200>75 : True\n",
      "125>=75 : True\n",
      "75<75 : False\n",
      "75<=75 : True\n",
      "75==75 : True\n",
      "225!=22 : True\n"
     ]
    }
   ],
   "source": [
    "print('200>75 :', 200>75) #200 maior que 75?\n",
    "print('125>=75 :', 125>=75) #125 maior ou igual a 75?\n",
    "print('75<75 :', 100<75) #75 menor que 75?\n",
    "print('75<=75 :', 75<=75) #75 menor ou igual a 75?\n",
    "print('75==75 :', 75==75) #75 igual a 75?\n",
    "print('225!=22 :', 225!=22) #225 diferente de 22?"
   ]
  },
  {
   "cell_type": "code",
   "execution_count": 108,
   "id": "62abf509",
   "metadata": {},
   "outputs": [
    {
     "data": {
      "text/plain": [
       "True"
      ]
     },
     "execution_count": 108,
     "metadata": {},
     "output_type": "execute_result"
    }
   ],
   "source": [
    "225<75 or 225>75"
   ]
  },
  {
   "cell_type": "code",
   "execution_count": null,
   "id": "6d904504",
   "metadata": {},
   "outputs": [],
   "source": []
  }
 ],
 "metadata": {
  "kernelspec": {
   "display_name": "Python 3",
   "language": "python",
   "name": "python3"
  },
  "language_info": {
   "codemirror_mode": {
    "name": "ipython",
    "version": 3
   },
   "file_extension": ".py",
   "mimetype": "text/x-python",
   "name": "python",
   "nbconvert_exporter": "python",
   "pygments_lexer": "ipython3",
   "version": "3.8.6"
  }
 },
 "nbformat": 4,
 "nbformat_minor": 5
}
