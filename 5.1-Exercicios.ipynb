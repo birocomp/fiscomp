{
 "cells": [
  {
   "cell_type": "markdown",
   "id": "ddc3077a-b42e-4bc3-b218-8ffa01e1416b",
   "metadata": {
    "slideshow": {
     "slide_type": "slide"
    }
   },
   "source": [
    "# Exercícios"
   ]
  },
  {
   "cell_type": "markdown",
   "id": "d10864f2-61e7-4016-974b-c250a89b8001",
   "metadata": {
    "slideshow": {
     "slide_type": "slide"
    }
   },
   "source": [
    "1. Escreva um programa que \n",
    "    * Printe todos os números de 1 a 20, escrevendo se são ímpares ou pares.\n",
    "    >**Output:**\n",
    "    >\n",
    "    >1 é ímpar\n",
    "    >\n",
    "    >2 é par\n",
    "    >\n",
    "    >3 é ímpar\n",
    "    >\n",
    "    >4 é par\n",
    "    >\n",
    "    >$\\vdots$ é $\\vdots$\n",
    "    >\n",
    "    >20 é par"
   ]
  },
  {
   "cell_type": "markdown",
   "id": "3366d7a1-e522-47d9-8724-24c3318c2801",
   "metadata": {
    "slideshow": {
     "slide_type": "slide"
    }
   },
   "source": [
    "   * Dicas: \n",
    "       * Use as funções `np.arange()` para criar um arranjo com os inteiros\n",
    "       * Use um loop `for` para iterar sobre todos os elementos da lista\n",
    "       * Use `if` para estabelecer uma condicional\n",
    "       * Use o operador resto de divisão `%` para checar se o número é par\n",
    "       * Use o comando `print()` para escrever o resultado na tela"
   ]
  },
  {
   "cell_type": "code",
   "execution_count": 1,
   "id": "e58ff57e-e268-4880-b1d2-4a03e345608f",
   "metadata": {
    "slideshow": {
     "slide_type": "fragment"
    },
    "tags": []
   },
   "outputs": [
    {
     "ename": "IndentationError",
     "evalue": "unexpected indent (<ipython-input-1-c35daa0ae9f0>, line 3)",
     "output_type": "error",
     "traceback": [
      "\u001b[0;36m  File \u001b[0;32m\"<ipython-input-1-c35daa0ae9f0>\"\u001b[0;36m, line \u001b[0;32m3\u001b[0m\n\u001b[0;31m    for x in a:\u001b[0m\n\u001b[0m    ^\u001b[0m\n\u001b[0;31mIndentationError\u001b[0m\u001b[0;31m:\u001b[0m unexpected indent\n"
     ]
    }
   ],
   "source": [
    "import numpy as np\n",
    "a=np.arange(1,21)\n",
    "    for x in a:\n",
    "#        if #o número for par:\n",
    "#            print(número,'é par')\n",
    "#        else:\n",
    "#            print(número,'é ímpar')"
   ]
  },
  {
   "cell_type": "code",
   "execution_count": null,
   "id": "3dcc9936-886b-4da1-8538-16882b33420a",
   "metadata": {
    "slideshow": {
     "slide_type": "slide"
    },
    "tags": []
   },
   "outputs": [],
   "source": [
    "import numpy as np\n",
    "a=np.arange(1,21)\n",
    "for x in range(0,20):\n",
    "    if a[x]%2==0:\n",
    "        print(a[x], 'é par')\n",
    "    else:\n",
    "        print(a[x], 'é ímpar')"
   ]
  },
  {
   "cell_type": "markdown",
   "id": "cf075a1c-d61a-40be-822a-9f62d322290a",
   "metadata": {
    "slideshow": {
     "slide_type": "slide"
    }
   },
   "source": [
    "2. Escreva um programa que\n",
    "    * Crie uma lista com todos os inteiros de 1 a 20\n",
    "    * Multiplique todos os múltiplos de 3 pelo elemento anterior da lista\n",
    "    * Printe o resultado\n",
    "    > **Output:**\n",
    "    >\n",
    "    >Lista original: [ 1  2  3  4  5  6  7  8  9 10 11 12 13 14 15 16 17 18 19 20]\n",
    "    >\n",
    "    >Lista modificada: [  1   2   6   4   5  30   7   8  72  10  11 132  13  14 210  16  17 306\n",
    "  19  20]\n",
    "  "
   ]
  },
  {
   "cell_type": "markdown",
   "id": "3d41f4ba-81c6-440c-befd-dee8d2c657a4",
   "metadata": {
    "slideshow": {
     "slide_type": "slide"
    }
   },
   "source": [
    "* Dicas: \n",
    "    * Use as função `np.arange()` para criar um arranjo com os inteiros\n",
    "    * Use `for` para iterar sobre uma variável que representará os índices dos elementos da lista\n",
    "    * Use `if` para estabelecer uma condicional\n",
    "    * Use o operador resto de divisão `%` para checar se o número é múltiplo de 3\n",
    "    * Use o comando `print()` para escrever todos os elementos na tela"
   ]
  },
  {
   "cell_type": "code",
   "execution_count": null,
   "id": "4a0c5a2a-01c1-4f6d-b98e-4f40ac057555",
   "metadata": {
    "slideshow": {
     "slide_type": "fragment"
    },
    "tags": []
   },
   "outputs": [],
   "source": []
  },
  {
   "cell_type": "code",
   "execution_count": 3,
   "id": "b8528b5b-2593-4529-a196-fc62632d4dd8",
   "metadata": {
    "slideshow": {
     "slide_type": "slide"
    }
   },
   "outputs": [
    {
     "name": "stdout",
     "output_type": "stream",
     "text": [
      "[  1   2   6   4   5  30   7   8  72  10  11 132  13  14 210  16  17 306\n",
      "  19  20]\n"
     ]
    }
   ],
   "source": [
    "import numpy as np\n",
    "a=np.arange(1,21)\n",
    "for x in range(1,20):\n",
    "    if a[x]%3==0:\n",
    "        a[x]=a[x]*a[x-1]\n",
    "print(a)"
   ]
  },
  {
   "cell_type": "code",
   "execution_count": null,
   "id": "4b98d1e5",
   "metadata": {},
   "outputs": [],
   "source": []
  }
 ],
 "metadata": {
  "celltoolbar": "Slideshow",
  "hide_input": false,
  "kernelspec": {
   "display_name": "Python 3",
   "language": "python",
   "name": "python3"
  },
  "language_info": {
   "codemirror_mode": {
    "name": "ipython",
    "version": 3
   },
   "file_extension": ".py",
   "mimetype": "text/x-python",
   "name": "python",
   "nbconvert_exporter": "python",
   "pygments_lexer": "ipython3",
   "version": "3.9.5"
  },
  "toc": {
   "base_numbering": 1,
   "nav_menu": {},
   "number_sections": true,
   "sideBar": true,
   "skip_h1_title": false,
   "title_cell": "Table of Contents",
   "title_sidebar": "Contents",
   "toc_cell": false,
   "toc_position": {},
   "toc_section_display": true,
   "toc_window_display": false
  },
  "widgets": {
   "application/vnd.jupyter.widget-state+json": {
    "state": {},
    "version_major": 2,
    "version_minor": 0
   }
  }
 },
 "nbformat": 4,
 "nbformat_minor": 5
}
