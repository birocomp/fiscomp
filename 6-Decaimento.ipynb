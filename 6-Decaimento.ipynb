{
 "cells": [
  {
   "attachments": {
    "5a7193e4-2327-4349-ba2d-f03408a311f0.png": {
     "image/png": "[encoded data removed]"
    }
   },
   "cell_type": "markdown",
   "id": "743aa2e3-9bbc-4795-8242-abc0716f3404",
   "metadata": {
    "tags": []
   },
   "source": [
    "# Decaimento Radioativo\n",
    "\n",
    "Um problema recorrente é aquele do decaimento radioativo, onde um elemento decai para outro ao emitir radiação. Um modelo simples e eficiente para representar esse sistema físico é escrever a taxa de decaimento do material como sendo proporcional a quantidade dele que ainda não decaiu. Ou seja\n",
    "\n",
    "$$\\frac{du}{dt}=- a u$$\n",
    "\n",
    "onde $u$ é a quantidade de material radioativo, $a$ é a taxa de decaimento radioativo e $t$ é o tempo. \n",
    "***\n",
    "## Solução Analítica\n",
    "\n",
    "É interessante que tenhamos a solução analítica para compararmos com nossa aproximação numérica. Podemos obter uma solução geral para esse problema apenas integrando a equação toda:\n",
    "\n",
    "$$\\ln{u}=at+C$$\n",
    "\n",
    "Onde $C$ é uma constante de integração. Impomos então a condição inicial de que $u(0)=u_0$ para eliminarmos a constante arbitrária $C$, isolamos $u$ e ficamos com\n",
    "\n",
    "$$u=u_0 e^{at}$$\n",
    "***\n",
    "## Solução Numérica\n",
    "\n",
    "Vamos utilizar o método de Euler para resolver esse problema. Portanto, se você se lembra das aulas de Cálculo 1, lembra que a definição de derivada:\n",
    "\n",
    "$$\\frac{du}{dt}=\\lim_{\\Delta t \\rightarrow 0}\\frac{u(t+\\Delta t)-u(t)}{\\Delta t}$$\n",
    "\n",
    "Nossa aproximação será que: **$\\Delta t$ é tão pequeno, e tão próximo de $0$, que podemos retirar o limite da equação acima** e ficar apenas com\n",
    "\n",
    "$$\\frac{du}{dt}=\\frac{u(t+\\Delta t)-u( t)}{\\Delta t}$$\n",
    "\n",
    "**Isso significa que a medida que nosso $\\Delta t$ cresce, nossa aproximação se torna mais e mais imprecisa.**\n",
    "\n",
    "Substituindo a equação acima na original, temos\n",
    "\n",
    "$$\\frac{u(t+\\Delta t)-u( t)}{\\Delta t}=- a u$$\n",
    "\n",
    "Logo\n",
    "\n",
    "$$u(t+\\Delta t)=u(t)- a u \\Delta t$$\n",
    "\n",
    "Se consideramos $t=t_0$ (onde $t_0$ é o tempo inicial), então podemos impor nossa condição inicial $u(t_0)=u_0$ e encontrar $u(t_0+\\Delta t)$ com a equação acima. Podemos seguir fazendo isso quantas vezes desejarmos! Cada ponto que obtermos representará um ponto na nossa solução numérica.\n",
    "***\n",
    "### O Programa\n",
    "\n",
    "Nós vamos usar os pacotes `numpy` para lidar com os *arrays* e o `matplotlib` para plotarmos nossa solução. O primeiro passo é importá-los no programa, podemos fazer isso usando o comando `import`\n",
    "\n",
    ">```\n",
    "import numpy as np\n",
    ">```\n",
    "\n",
    "Acima, nós apenas importamos o pacote `numpy` e o chamamos de `np` para abreviar e facilitar nossa vida (também é uma convenção abreviá-lo com este nome). Agora precisamos importar o `matplotlib`, porém, vamos importar apenas a sua função `matplotlib.pyplot` e para facilitar nossa vida a chamaremos de `plt`\n",
    "\n",
    ">```python\n",
    "ìmport matplotlib.pyplot as plt\n",
    ">```\n",
    "\n",
    "Incialmente, vamos definir $a=0.005$ e discretizar a linha do tempo em $nt=1000$ pontos\n",
    "\n",
    ">```python\n",
    "a=0.005\n",
    "nt=1000\n",
    ">```\n",
    "\n",
    "Vamos usar a função `linspace()` do `numpy` para criar um vetor contendo $nt$ pontos no tempo, iniciando em $t=0$ e terminando em $t=1000$.\n",
    "\n",
    ">```python\n",
    "t=np.linspace(0,1000,nt)\n",
    ">```\n",
    "\n",
    "Mas porque queremos saber qual o $dt$ definido, adicionaremos o argumento `retstep=True` para que a função nos devolva, além do vetor, o espaçamento $dt$ entre dois pontos vizinhos nele\n",
    "\n",
    "\n",
    ">```python\n",
    "t, dt=np.linspace(0,1000,nt,retstep=True)\n",
    ">```\n",
    "\n",
    "Agora vamos adicionar um vetor $u$ para guardar as quantidades correspondentes ao valor da quantidade do elemento em cada passo no tempo.\n",
    "\n",
    "$$u=[u(0),\\, u(\\Delta t),\\, u(2\\Delta t),\\, u(3\\Delta t),\\, ...,\\, u((nt-1)\\Delta t)]$$ \n",
    "\n",
    "Note que o último elemento é o de número$(nt-1)$, pois temos $(nt)$ elementos e começamos com o zero. Como ainda não sabemos quais serão esses valores, criaremos esse vetor com todas as $nt$ componentes iguais a zero, apenas para reservar memória para elas. Para isso vamos usar a função `zeros((nt))` do `numpy`\n",
    "\n",
    ">```python\n",
    "u=np.zeros((nt))\n",
    ">```\n",
    "\n",
    "Por fim, antes de executar a iteração, precisamos impor o valor inicial de $u$. Inicialmente, colocaremos o valor como $u(0)=1.0$, podemos fazer isso da seguinte forma:\n",
    "\n",
    ">```python\n",
    "u[0]=1.0\n",
    ">```\n",
    "\n",
    "Até agora, seu código deve estar assim:\n",
    "\n",
    ">```python\n",
    "import numpy as np\n",
    "import matplotlib.pyplot as plt\n",
    "a=0.005\n",
    "nt=100\n",
    "t, dt=np.linspace(0,1000,nt,retstep=True)\n",
    "u=np.zeros((nt))\n",
    "u[0]=1.0\n",
    ">```\n",
    "\n",
    "Seguimos agora para o loop no tempo. Queremos evoluir o sistema $nt$ vezes no tempo, portanto, faremos um loop com o comando `for` em uma variável `i` e determinar seus parâmetros através do comando `range()`. Dentro do loop colocamos a equação que discretizamos acima\n",
    "\n",
    ">```python\n",
    "for i in range(0,nt-1):\n",
    "    u[i+1]=u[i]+dt*a*u[i]\n",
    ">```\n",
    "\n",
    "Faremos o `i` indo de `0` até `nt-1` por causa do termo `u[i+1]`. **Note que se `i=nt-1`, a última iteração tentará acessar o elemento `u[nt]` mas esse elemento não existe! Isso porque apesar do vetor `u` ter `nt` elementos, o primeiro é `u[0]`!** Veja o exemplo abaixo onde temos em vermelho a indexação do python e em azul um vetor, também com `nt` elementos, mas que começa no elemento de número `1`\n",
    "\n",
    "![image.png](attachment:5a7193e4-2327-4349-ba2d-f03408a311f0.png)\n",
    "\n",
    "Por fim, utilizamos o comando `plt.plot(t,u)` para plotar o vetor `t` como eixo x e `u` como eixo y e, o comando `plt.show()` para mostrar o gráfico na tela\n",
    "\n",
    ">```python\n",
    "plt.plot(t,u)\n",
    "plt.show()\n",
    ">```\n",
    "\n",
    "***\n",
    "\n",
    "O programa final fica como abaixo"
   ]
  },
  {
   "cell_type": "code",
   "execution_count": 4,
   "id": "a3c0d3fe",
   "metadata": {},
   "outputs": [
    {
     "data": {
      "image/png": "[encoded data removed]",
      "text/plain": [
       "<Figure size 432x288 with 1 Axes>"
      ]
     },
     "metadata": {
      "needs_background": "light"
     },
     "output_type": "display_data"
    }
   ],
   "source": [
    "import numpy as np\n",
    "import matplotlib.pyplot as plt\n",
    "a=0.005\n",
    "nt=100\n",
    "t, dt=np.linspace(0,1000,nt,retstep=True)\n",
    "u=np.zeros((nt))\n",
    "u[0]=1.0\n",
    "for i in range(0,nt-1):\n",
    "    u[i+1]=u[i]+dt*a*u[i]\n",
    "plt.plot(t,u)\n",
    "plt.show()"
   ]
  }
 ],
 "metadata": {
  "hide_input": false,
  "kernelspec": {
   "display_name": "Python 3",
   "language": "python",
   "name": "python3"
  },
  "language_info": {
   "codemirror_mode": {
    "name": "ipython",
    "version": 3
   },
   "file_extension": ".py",
   "mimetype": "text/x-python",
   "name": "python",
   "nbconvert_exporter": "python",
   "pygments_lexer": "ipython3",
   "version": "3.9.1"
  },
  "toc": {
   "base_numbering": 1,
   "nav_menu": {},
   "number_sections": true,
   "sideBar": true,
   "skip_h1_title": false,
   "title_cell": "Table of Contents",
   "title_sidebar": "Contents",
   "toc_cell": false,
   "toc_position": {},
   "toc_section_display": true,
   "toc_window_display": false
  },
  "toc-autonumbering": true,
  "toc-showmarkdowntxt": false,
  "toc-showtags": true,
  "widgets": {
   "application/vnd.jupyter.widget-state+json": {
    "state": {},
    "version_major": 2,
    "version_minor": 0
   }
  }
 },
 "nbformat": 4,
 "nbformat_minor": 5
}
