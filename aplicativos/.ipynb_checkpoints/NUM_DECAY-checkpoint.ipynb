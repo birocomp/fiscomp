{
 "cells": [
  {
   "cell_type": "markdown",
   "id": "split-county",
   "metadata": {},
   "source": [
    "# Precisão (interativo)\n",
    "\n",
    "Soluções numéricas e analíticas da equação para o decaimento radioativo de um material\n",
    "\n",
    "$$\\frac{du}{dt}=-au$$\n",
    "\n",
    "Abaixo você pode ver como o espaçamento dos pontos no tempo afeta o resultado da solução para o caso de \n",
    "\n",
    "$$u(t_0=0)=1$$\n",
    "\n",
    "No intervalo de tempo\n",
    "\n",
    "$$t=[0,1000)$$\n",
    "\n",
    "Abaixo você vê um aplicativo interativo comparando as soluções numéricas utilizando: método de Euler (também conhecido como Runge-Kutta de ordem 1), Runge-Kutta de ordem 2 e Runge-Kutta de ordem 4."
   ]
  },
  {
   "cell_type": "code",
   "execution_count": 2,
   "id": "improving-bridge",
   "metadata": {
    "tags": [
     "remove_input"
    ]
   },
   "outputs": [
    {
     "data": {
      "application/vnd.jupyter.widget-view+json": {
       "model_id": "ab9576b92f904805a84ae6c7db2b5546",
       "version_major": 2,
       "version_minor": 0
      },
      "text/plain": [
       "VBox(children=(FloatSlider(value=50.0, continuous_update=False, description='$\\\\Delta t:$', layout=Layout(widt…"
      ]
     },
     "metadata": {},
     "output_type": "display_data"
    },
    {
     "data": {
      "application/vnd.jupyter.widget-view+json": {
       "model_id": "8a54988f07814eef8d8b43e7add8dfe1",
       "version_major": 2,
       "version_minor": 0
      },
      "text/plain": [
       "Output()"
      ]
     },
     "metadata": {},
     "output_type": "display_data"
    }
   ],
   "source": [
    "%matplotlib widget\n",
    "from ipywidgets import interact\n",
    "import ipywidgets as wid\n",
    "import numpy as np\n",
    "import matplotlib.pyplot as plt\n",
    "from numba import njit\n",
    "\n",
    "plt.rc('font',size=12)\n",
    "plt.rc('lines',markersize=7,linewidth=3)\n",
    "a=0.005\n",
    "dt=0.1\n",
    "tt=np.arange(0,1000,dt)\n",
    "lay=wid.Layout(width=\"repeat(auto-fill, 180px)\")\n",
    "laybox=wid.Layout(width=\"95%\")\n",
    "layauto=wid.Layout(width=\"25%\")\n",
    "dt=wid.FloatSlider(value=50,min=1.0,\n",
    "    max=200,step=5,\n",
    "    description='$\\Delta t:$',\n",
    "    continuous_update=False,layout=laybox)\n",
    "an=wid.ToggleButton(\n",
    "    value=True,\n",
    "    description='Analítico',\n",
    "    button_style='', # 'success', 'info', 'warning', 'danger' or ''\n",
    "    tooltip='Ativa ou desativa a solução analítica',\n",
    "    icon='check',layout=layauto)\n",
    "e=wid.ToggleButton(\n",
    "    value=True,\n",
    "    description='RK1(Euler)',\n",
    "    button_style='', # 'success', 'info', 'warning', 'danger' or ''\n",
    "    tooltip='Ativa ou desativa a solução RK1(Euler)',\n",
    "    icon='check',layout=layauto)\n",
    "r2=wid.ToggleButton(\n",
    "    value=True,\n",
    "    description='RK2',\n",
    "    button_style='', # 'success', 'info', 'warning', 'danger' or ''\n",
    "    tooltip='Ativa ou desativa a solução RK2',\n",
    "    icon='check',layout=layauto)\n",
    "r4=wid.ToggleButton(\n",
    "    value=True,\n",
    "    description='RK4',\n",
    "    button_style='', # 'success', 'info', 'warning', 'danger' or ''\n",
    "    tooltip='Ativa ou desativa a solução RK4',\n",
    "    icon='check',layout=layauto)\n",
    "\n",
    "Hsol=wid.HBox([an,e,r2,r4],layout=lay)\n",
    "Vmain=wid.VBox([dt,Hsol],layout=laybox)\n",
    "\n",
    "def main(dt,an,e,r2,r4):\n",
    "    t=np.arange(0,1000,dt)\n",
    "    nt=t.size\n",
    "    ue=np.zeros((nt))\n",
    "    ur2=np.zeros((nt))\n",
    "    ur4=np.zeros((nt))\n",
    "    ue[0], ur2[0], ur4[0] = (1.0,1.0,1.0)\n",
    "    \n",
    "    @njit\n",
    "    def Fl(fv):\n",
    "        return -a*fv\n",
    "    \n",
    "    @njit\n",
    "    def euler(f,dt):\n",
    "        for i in range(0,nt-1):\n",
    "            f[i+1]=f[i]+Fl(f[i])*dt\n",
    "        return f\n",
    "    \n",
    "    @njit\n",
    "    def rk2(f,dt):\n",
    "        for i in range(0,nt-1):\n",
    "            k1=Fl(f[i])\n",
    "            k2=Fl(f[i]+dt*k1)\n",
    "            f[i+1]=f[i]+dt*(k1+k2)/2\n",
    "        return f\n",
    "    \n",
    "    @njit\n",
    "    def rk4(f,dt):\n",
    "        for i in range(0,nt-1):\n",
    "            k1=Fl(f[i])\n",
    "            k2=Fl(f[i]+k1*dt/2)\n",
    "            k3=Fl(f[i]+k2*dt/2)\n",
    "            k4=Fl(f[i]+k3*dt)\n",
    "            f[i+1]=f[i]+dt*(k1+2*k2+2*k3+k4)/6\n",
    "        return f\n",
    "    \n",
    "    if e==True: ue=euler(ue,dt)\n",
    "    if r2==True: ur2=rk2(ur2,dt)\n",
    "    if r4==True: ur4=rk4(ur4,dt)\n",
    "    fig,ax=plt.subplots(figsize=(16,9))\n",
    "    if (e,an,r2,r4)!=(False,False,False,False):\n",
    "        if an==True: fig=plt.plot(tt,np.exp(-a*tt),\n",
    "                        'k-',linewidth=10,label='Analítico')\n",
    "        if r4==True: fig=plt.plot(t,ur4,\n",
    "                        'o--',color='skyblue',label=f'RK4 (NT={nt})')\n",
    "        if r2==True: fig=plt.plot(t,ur2,\n",
    "                        'o--',color='fuchsia',label=f'RK2 (NT={nt})')\n",
    "        if e==True: fig=plt.plot(t,ue,\n",
    "                        'o--',color='coral',label=f'Euler (NT={nt})')   \n",
    "        ax.set_xlabel('Tempo')\n",
    "        ax.set_ylabel('Massa do elemento')\n",
    "        plt.title(f'$\\Delta t=${dt:.3f}')\n",
    "        leg=plt.legend()\n",
    "    else:\n",
    "        plt.clf()\n",
    "        plt.title('Nada para plotar')\n",
    "    \n",
    "out=wid.interactive_output(main, {'dt':dt,'an':an,'e':e,'r2':r2,'r4':r4})\n",
    "display(Vmain,out)"
   ]
  },
  {
   "cell_type": "code",
   "execution_count": null,
   "id": "ef0e3fb4-5bd2-4ad0-a970-9a3416a9e878",
   "metadata": {},
   "outputs": [],
   "source": []
  }
 ],
 "metadata": {
  "hide_input": false,
  "kernelspec": {
   "display_name": "Python 3",
   "language": "python",
   "name": "python3"
  },
  "language_info": {
   "codemirror_mode": {
    "name": "ipython",
    "version": 3
   },
   "file_extension": ".py",
   "mimetype": "text/x-python",
   "name": "python",
   "nbconvert_exporter": "python",
   "pygments_lexer": "ipython3",
   "version": "3.9.5"
  },
  "toc": {
   "base_numbering": 1,
   "nav_menu": {},
   "number_sections": true,
   "sideBar": true,
   "skip_h1_title": false,
   "title_cell": "Table of Contents",
   "title_sidebar": "Contents",
   "toc_cell": false,
   "toc_position": {},
   "toc_section_display": true,
   "toc_window_display": false
  },
  "widgets": {
   "application/vnd.jupyter.widget-state+json": {
    "state": {
     "0baa37c213a946309e9c46de7a91c62a": {
      "model_module": "@jupyter-widgets/controls",
      "model_module_version": "1.5.0",
      "model_name": "ToggleButtonModel",
      "state": {
       "description": "Analítico",
       "icon": "check",
       "layout": "IPY_MODEL_e09f36276d284c78a002a944c6de9c31",
       "style": "IPY_MODEL_95c8c45d53f54f9b8f7c7a50d67cb6d8",
       "tooltip": "Ativa ou desativa a solução analítica",
       "value": true
      }
     },
     "0cdf0681154a43e49e2c05e3e573f64b": {
      "model_module": "@jupyter-widgets/base",
      "model_module_version": "1.2.0",
      "model_name": "LayoutModel",
      "state": {}
     },
     "0d79451c86d6435da5a573b67078b836": {
      "model_module": "@jupyter-widgets/base",
      "model_module_version": "1.2.0",
      "model_name": "LayoutModel",
      "state": {
       "width": "95%"
      }
     },
     "16d92aaab23040f5b2ac9fb05247202f": {
      "model_module": "@jupyter-widgets/controls",
      "model_module_version": "1.5.0",
      "model_name": "ToggleButtonModel",
      "state": {
       "description": "RK1(Euler)",
       "icon": "check",
       "layout": "IPY_MODEL_e09f36276d284c78a002a944c6de9c31",
       "style": "IPY_MODEL_3fac68486f074b838d5de14456274da4",
       "tooltip": "Ativa ou desativa a solução RK1(Euler)",
       "value": true
      }
     },
     "1c1c33aa03c148aca200db73a23e330f": {
      "model_module": "@jupyter-widgets/base",
      "model_module_version": "1.2.0",
      "model_name": "LayoutModel",
      "state": {}
     },
     "250b549bb9de425c860c8a3d043eb56f": {
      "model_module": "@jupyter-widgets/controls",
      "model_module_version": "1.5.0",
      "model_name": "DescriptionStyleModel",
      "state": {
       "description_width": ""
      }
     },
     "271c65cc1bf041aca89800596a583329": {
      "model_module": "@jupyter-widgets/base",
      "model_module_version": "1.2.0",
      "model_name": "LayoutModel",
      "state": {}
     },
     "3bc606cdc1cb49bb91616bfa7719466b": {
      "model_module": "@jupyter-widgets/controls",
      "model_module_version": "1.5.0",
      "model_name": "VBoxModel",
      "state": {
       "children": [
        "IPY_MODEL_4a501282beaa40cb93e6fda3aff9c6b7",
        "IPY_MODEL_91508e98fce742018f64ac3f1d3c2bc9"
       ],
       "layout": "IPY_MODEL_b0f1cd95c3864427ae122914e212dced"
      }
     },
     "3fac68486f074b838d5de14456274da4": {
      "model_module": "@jupyter-widgets/controls",
      "model_module_version": "1.5.0",
      "model_name": "DescriptionStyleModel",
      "state": {
       "description_width": ""
      }
     },
     "403807c76f1f453e9988e1f7f1c00f59": {
      "model_module": "@jupyter-widgets/controls",
      "model_module_version": "1.5.0",
      "model_name": "DescriptionStyleModel",
      "state": {
       "description_width": ""
      }
     },
     "49a6be131da04622b33d73593fe78530": {
      "model_module": "jupyter-matplotlib",
      "model_module_version": "^0.9.0",
      "model_name": "ToolbarModel",
      "state": {
       "layout": "IPY_MODEL_1c1c33aa03c148aca200db73a23e330f",
       "toolitems": [
        [
         "Home",
         "Reset original view",
         "home",
         "home"
        ],
        [
         "Back",
         "Back to previous view",
         "arrow-left",
         "back"
        ],
        [
         "Forward",
         "Forward to next view",
         "arrow-right",
         "forward"
        ],
        [
         "Pan",
         "Left button pans, Right button zooms\nx/y fixes axis, CTRL fixes aspect",
         "arrows",
         "pan"
        ],
        [
         "Zoom",
         "Zoom to rectangle\nx/y fixes axis, CTRL fixes aspect",
         "square-o",
         "zoom"
        ],
        [
         "Download",
         "Download plot",
         "floppy-o",
         "save_figure"
        ]
       ]
      }
     },
     "4a501282beaa40cb93e6fda3aff9c6b7": {
      "model_module": "@jupyter-widgets/controls",
      "model_module_version": "1.5.0",
      "model_name": "FloatSliderModel",
      "state": {
       "continuous_update": false,
       "description": "$\\Delta t:$",
       "layout": "IPY_MODEL_b0f1cd95c3864427ae122914e212dced",
       "max": 200,
       "min": 1,
       "step": 5,
       "style": "IPY_MODEL_ed912b2782b24ee3ab4ed56e31dd424c",
       "value": 50
      }
     },
     "4fb02638a54f457b9845dbb9174fdbbb": {
      "model_module": "@jupyter-widgets/controls",
      "model_module_version": "1.5.0",
      "model_name": "SliderStyleModel",
      "state": {
       "description_width": ""
      }
     },
     "57ef0043cb794befba17c6c1e6bd6ccb": {
      "model_module": "@jupyter-widgets/base",
      "model_module_version": "1.2.0",
      "model_name": "LayoutModel",
      "state": {}
     },
     "6e226af2149f410bbfc53c48a64d2f24": {
      "model_module": "@jupyter-widgets/controls",
      "model_module_version": "1.5.0",
      "model_name": "ToggleButtonModel",
      "state": {
       "description": "RK1(Euler)",
       "icon": "check",
       "layout": "IPY_MODEL_8b59a1648dba41ec8c86820734b54f7e",
       "style": "IPY_MODEL_9e8712082f59452b884170e012bac1d0",
       "tooltip": "Ativa ou desativa a solução RK1(Euler)",
       "value": true
      }
     },
     "8a54988f07814eef8d8b43e7add8dfe1": {
      "model_module": "@jupyter-widgets/output",
      "model_module_version": "1.0.0",
      "model_name": "OutputModel",
      "state": {
       "layout": "IPY_MODEL_57ef0043cb794befba17c6c1e6bd6ccb",
       "outputs": [
        {
         "data": {
          "application/vnd.jupyter.widget-view+json": {
           "model_id": "926e072b54064207a0d6b4651207b637",
           "version_major": 2,
           "version_minor": 0
          },
          "text/plain": "Canvas(toolbar=Toolbar(toolitems=[('Home', 'Reset original view', 'home', 'home'), ('Back', 'Back to previous …"
         },
         "metadata": {},
         "output_type": "display_data"
        }
       ]
      }
     },
     "8ac1d6417b2b492389375711b0135395": {
      "model_module": "@jupyter-widgets/controls",
      "model_module_version": "1.5.0",
      "model_name": "FloatSliderModel",
      "state": {
       "continuous_update": false,
       "description": "$\\Delta t:$",
       "layout": "IPY_MODEL_0d79451c86d6435da5a573b67078b836",
       "max": 200,
       "min": 1,
       "step": 5,
       "style": "IPY_MODEL_4fb02638a54f457b9845dbb9174fdbbb",
       "value": 50
      }
     },
     "8b59a1648dba41ec8c86820734b54f7e": {
      "model_module": "@jupyter-widgets/base",
      "model_module_version": "1.2.0",
      "model_name": "LayoutModel",
      "state": {
       "width": "25%"
      }
     },
     "8b668bc5281841d488ed27a62a0e8a8b": {
      "model_module": "@jupyter-widgets/controls",
      "model_module_version": "1.5.0",
      "model_name": "ToggleButtonModel",
      "state": {
       "description": "Analítico",
       "icon": "check",
       "layout": "IPY_MODEL_8b59a1648dba41ec8c86820734b54f7e",
       "style": "IPY_MODEL_a66f4aa277004190b75914048783c6d0",
       "tooltip": "Ativa ou desativa a solução analítica",
       "value": true
      }
     },
     "8c830cd03c5c4ec0bf06d5642e946d5a": {
      "model_module": "jupyter-matplotlib",
      "model_module_version": "^0.9.0",
      "model_name": "ToolbarModel",
      "state": {
       "layout": "IPY_MODEL_ce2a2fe2811a43ee8b9fbbeac38c8cdb",
       "toolitems": [
        [
         "Home",
         "Reset original view",
         "home",
         "home"
        ],
        [
         "Back",
         "Back to previous view",
         "arrow-left",
         "back"
        ],
        [
         "Forward",
         "Forward to next view",
         "arrow-right",
         "forward"
        ],
        [
         "Pan",
         "Left button pans, Right button zooms\nx/y fixes axis, CTRL fixes aspect",
         "arrows",
         "pan"
        ],
        [
         "Zoom",
         "Zoom to rectangle\nx/y fixes axis, CTRL fixes aspect",
         "square-o",
         "zoom"
        ],
        [
         "Download",
         "Download plot",
         "floppy-o",
         "save_figure"
        ]
       ]
      }
     },
     "910a019e5f95487c953346655405c955": {
      "model_module": "@jupyter-widgets/base",
      "model_module_version": "1.2.0",
      "model_name": "LayoutModel",
      "state": {}
     },
     "910f6acee482463ca062bc2835b45b27": {
      "model_module": "@jupyter-widgets/controls",
      "model_module_version": "1.5.0",
      "model_name": "ToggleButtonModel",
      "state": {
       "description": "RK4",
       "icon": "check",
       "layout": "IPY_MODEL_e09f36276d284c78a002a944c6de9c31",
       "style": "IPY_MODEL_403807c76f1f453e9988e1f7f1c00f59",
       "tooltip": "Ativa ou desativa a solução RK4",
       "value": true
      }
     },
     "91508e98fce742018f64ac3f1d3c2bc9": {
      "model_module": "@jupyter-widgets/controls",
      "model_module_version": "1.5.0",
      "model_name": "HBoxModel",
      "state": {
       "children": [
        "IPY_MODEL_8b668bc5281841d488ed27a62a0e8a8b",
        "IPY_MODEL_6e226af2149f410bbfc53c48a64d2f24",
        "IPY_MODEL_9736c9e4b93148b58544f3265e04544f",
        "IPY_MODEL_9ee6fc63a7fb41e3b7fa95e3ba248f25"
       ],
       "layout": "IPY_MODEL_d0944d73b9bc480d9490ac0a4ee2aeae"
      }
     },
     "920bb02040ff4056a72cf9277b49b6a6": {
      "model_module": "@jupyter-widgets/output",
      "model_module_version": "1.0.0",
      "model_name": "OutputModel",
      "state": {
       "layout": "IPY_MODEL_0cdf0681154a43e49e2c05e3e573f64b",
       "outputs": [
        {
         "data": {
          "image/png": "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\n",
          "text/plain": "<Figure size 1152x648 with 1 Axes>"
         },
         "metadata": {
          "needs_background": "light"
         },
         "output_type": "display_data"
        }
       ]
      }
     },
     "926e072b54064207a0d6b4651207b637": {
      "model_module": "jupyter-matplotlib",
      "model_module_version": "^0.9.0",
      "model_name": "MPLCanvasModel",
      "state": {
       "_cursor": "move",
       "_figure_label": "Figure 3",
       "_height": 899,
       "_image_mode": "diff",
       "_message": "x=188.3 y=0.755",
       "_width": 1600,
       "layout": "IPY_MODEL_e704461b97e144828fbc828a6b2f8e55",
       "toolbar": "IPY_MODEL_bf3f9b1d90eb47b0922e64f8909efec9",
       "toolbar_position": "left"
      }
     },
     "95c8c45d53f54f9b8f7c7a50d67cb6d8": {
      "model_module": "@jupyter-widgets/controls",
      "model_module_version": "1.5.0",
      "model_name": "DescriptionStyleModel",
      "state": {
       "description_width": ""
      }
     },
     "9736c9e4b93148b58544f3265e04544f": {
      "model_module": "@jupyter-widgets/controls",
      "model_module_version": "1.5.0",
      "model_name": "ToggleButtonModel",
      "state": {
       "description": "RK2",
       "icon": "check",
       "layout": "IPY_MODEL_8b59a1648dba41ec8c86820734b54f7e",
       "style": "IPY_MODEL_250b549bb9de425c860c8a3d043eb56f",
       "tooltip": "Ativa ou desativa a solução RK2",
       "value": true
      }
     },
     "9e8712082f59452b884170e012bac1d0": {
      "model_module": "@jupyter-widgets/controls",
      "model_module_version": "1.5.0",
      "model_name": "DescriptionStyleModel",
      "state": {
       "description_width": ""
      }
     },
     "9ee6fc63a7fb41e3b7fa95e3ba248f25": {
      "model_module": "@jupyter-widgets/controls",
      "model_module_version": "1.5.0",
      "model_name": "ToggleButtonModel",
      "state": {
       "description": "RK4",
       "icon": "check",
       "layout": "IPY_MODEL_8b59a1648dba41ec8c86820734b54f7e",
       "style": "IPY_MODEL_de766cf25feb4a309636243153296c13",
       "tooltip": "Ativa ou desativa a solução RK4",
       "value": true
      }
     },
     "a3c8f5544677423ea6e25930aab1d8bd": {
      "model_module": "jupyter-matplotlib",
      "model_module_version": "^0.9.0",
      "model_name": "MPLCanvasModel",
      "state": {
       "_cursor": "default",
       "_figure_label": "Figure 2",
       "_height": 899,
       "_width": 1600,
       "layout": "IPY_MODEL_cc30839b5f3b4ef485f1c003b7c738d9",
       "toolbar": "IPY_MODEL_8c830cd03c5c4ec0bf06d5642e946d5a",
       "toolbar_position": "left"
      }
     },
     "a66f4aa277004190b75914048783c6d0": {
      "model_module": "@jupyter-widgets/controls",
      "model_module_version": "1.5.0",
      "model_name": "DescriptionStyleModel",
      "state": {
       "description_width": ""
      }
     },
     "ab9576b92f904805a84ae6c7db2b5546": {
      "model_module": "@jupyter-widgets/controls",
      "model_module_version": "1.5.0",
      "model_name": "VBoxModel",
      "state": {
       "children": [
        "IPY_MODEL_8ac1d6417b2b492389375711b0135395",
        "IPY_MODEL_d3b6b1bf13104c938ed084bef7cb9667"
       ],
       "layout": "IPY_MODEL_0d79451c86d6435da5a573b67078b836"
      }
     },
     "b0f1cd95c3864427ae122914e212dced": {
      "model_module": "@jupyter-widgets/base",
      "model_module_version": "1.2.0",
      "model_name": "LayoutModel",
      "state": {
       "width": "95%"
      }
     },
     "bf2477db7743413086b9b35fb64c27d7": {
      "model_module": "@jupyter-widgets/base",
      "model_module_version": "1.2.0",
      "model_name": "LayoutModel",
      "state": {
       "width": "repeat(auto-fill, 180px)"
      }
     },
     "bf3f9b1d90eb47b0922e64f8909efec9": {
      "model_module": "jupyter-matplotlib",
      "model_module_version": "^0.9.0",
      "model_name": "ToolbarModel",
      "state": {
       "_current_action": "pan",
       "layout": "IPY_MODEL_271c65cc1bf041aca89800596a583329",
       "toolitems": [
        [
         "Home",
         "Reset original view",
         "home",
         "home"
        ],
        [
         "Back",
         "Back to previous view",
         "arrow-left",
         "back"
        ],
        [
         "Forward",
         "Forward to next view",
         "arrow-right",
         "forward"
        ],
        [
         "Pan",
         "Left button pans, Right button zooms\nx/y fixes axis, CTRL fixes aspect",
         "arrows",
         "pan"
        ],
        [
         "Zoom",
         "Zoom to rectangle\nx/y fixes axis, CTRL fixes aspect",
         "square-o",
         "zoom"
        ],
        [
         "Download",
         "Download plot",
         "floppy-o",
         "save_figure"
        ]
       ]
      }
     },
     "c78d81ffcfef45eb8e57ad82ef552a65": {
      "model_module": "@jupyter-widgets/controls",
      "model_module_version": "1.5.0",
      "model_name": "DescriptionStyleModel",
      "state": {
       "description_width": ""
      }
     },
     "c87ef5f661524408a6719106eca51952": {
      "model_module": "jupyter-matplotlib",
      "model_module_version": "^0.9.0",
      "model_name": "MPLCanvasModel",
      "state": {
       "_cursor": "default",
       "_figure_label": "Figure 1",
       "_height": 899,
       "_width": 1600,
       "layout": "IPY_MODEL_910a019e5f95487c953346655405c955",
       "toolbar": "IPY_MODEL_49a6be131da04622b33d73593fe78530",
       "toolbar_position": "left"
      }
     },
     "cc30839b5f3b4ef485f1c003b7c738d9": {
      "model_module": "@jupyter-widgets/base",
      "model_module_version": "1.2.0",
      "model_name": "LayoutModel",
      "state": {}
     },
     "ce2a2fe2811a43ee8b9fbbeac38c8cdb": {
      "model_module": "@jupyter-widgets/base",
      "model_module_version": "1.2.0",
      "model_name": "LayoutModel",
      "state": {}
     },
     "d0944d73b9bc480d9490ac0a4ee2aeae": {
      "model_module": "@jupyter-widgets/base",
      "model_module_version": "1.2.0",
      "model_name": "LayoutModel",
      "state": {
       "width": "repeat(auto-fill, 180px)"
      }
     },
     "d3b6b1bf13104c938ed084bef7cb9667": {
      "model_module": "@jupyter-widgets/controls",
      "model_module_version": "1.5.0",
      "model_name": "HBoxModel",
      "state": {
       "children": [
        "IPY_MODEL_0baa37c213a946309e9c46de7a91c62a",
        "IPY_MODEL_16d92aaab23040f5b2ac9fb05247202f",
        "IPY_MODEL_f96c176d73b5442b8996f9e30db26699",
        "IPY_MODEL_910f6acee482463ca062bc2835b45b27"
       ],
       "layout": "IPY_MODEL_bf2477db7743413086b9b35fb64c27d7"
      }
     },
     "de766cf25feb4a309636243153296c13": {
      "model_module": "@jupyter-widgets/controls",
      "model_module_version": "1.5.0",
      "model_name": "DescriptionStyleModel",
      "state": {
       "description_width": ""
      }
     },
     "e09f36276d284c78a002a944c6de9c31": {
      "model_module": "@jupyter-widgets/base",
      "model_module_version": "1.2.0",
      "model_name": "LayoutModel",
      "state": {
       "width": "25%"
      }
     },
     "e704461b97e144828fbc828a6b2f8e55": {
      "model_module": "@jupyter-widgets/base",
      "model_module_version": "1.2.0",
      "model_name": "LayoutModel",
      "state": {}
     },
     "ed912b2782b24ee3ab4ed56e31dd424c": {
      "model_module": "@jupyter-widgets/controls",
      "model_module_version": "1.5.0",
      "model_name": "SliderStyleModel",
      "state": {
       "description_width": ""
      }
     },
     "f96c176d73b5442b8996f9e30db26699": {
      "model_module": "@jupyter-widgets/controls",
      "model_module_version": "1.5.0",
      "model_name": "ToggleButtonModel",
      "state": {
       "description": "RK2",
       "icon": "check",
       "layout": "IPY_MODEL_e09f36276d284c78a002a944c6de9c31",
       "style": "IPY_MODEL_c78d81ffcfef45eb8e57ad82ef552a65",
       "tooltip": "Ativa ou desativa a solução RK2",
       "value": true
      }
     }
    },
    "version_major": 2,
    "version_minor": 0
   }
  }
 },
 "nbformat": 4,
 "nbformat_minor": 5
}
