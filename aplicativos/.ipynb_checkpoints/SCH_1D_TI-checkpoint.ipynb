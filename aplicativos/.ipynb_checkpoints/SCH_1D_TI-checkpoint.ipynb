{
 "cells": [
  {
   "cell_type": "markdown",
   "id": "4081ff1f-1d23-4bc7-a822-8a227cc31130",
   "metadata": {},
   "source": [
    "# Como usar\n",
    "\n",
    "Esse aplicativo web é divido em 3 partes:\n",
    "1. **Gerar o seu sistema:** Isso pode ser feito após entrar as informações do domínio da função de onda $\\Psi(x)$, o número de pontos utilizados para representá-la, a forma da **energia potencial $V(x)$** e clicar em `Gerar`.\n",
    "    * Existem energias potenciais $V(x)$ pré definidas dentro do menu `Potenciais pré definidos`. Se escolher uma opção pré definida, o domínio e o número de pontos serão selecionados automaticamente e, em seguida, o botão 'Gerar' será clicado.\n",
    "    * A expressão para $V(x)$ está em eletron-volts, e $x$ estará em unidades Raio de Bohr (veja sobre as unidades de Rydberg abaixo).\n",
    "    * Caso você deseje utilizar $x$ em Angstroms, divida-o sempre por `ang`. Por exemplo:\n",
    "        * **$V(x)=((x/ang) - 10)^2$ resultará em um potencial harmônico em eletron-volts, centrado em $x=10$ Angstroms.**\n",
    "        * **$V(x)=(x - 10)^2$ resultará em um potencial harmônico em eletron-volts, centrado em $x=10$ Raio de Bohr.**\n",
    "\n",
    "\n",
    "2. **Diagonalizar a matriz do sistema:** Após o sistema ser gerado, o menu `Diagonalizar/Informações` exibirá uma tabela com algumas informações sobre o sistema gerado. Se estiver tudo como você quer, clique em `Diagonalizar` para resolver a matriz correspondente ao sistema, gerando as auto funções e os auto valores.\n",
    "\n",
    "3. **Plotar o resultado:** Após exibida a mensagem `Diagonalizado!` no próprio botão `Diagonalizar`, você será direcionado para a aba `Funções de onda`, onde as densidades de probabilidades dos 11 primeiros estados serão plotados automaticamente.\n",
    "\n",
    "***"
   ]
  },
  {
   "cell_type": "code",
   "execution_count": 3,
   "id": "dcdb271d",
   "metadata": {
    "tags": []
   },
   "outputs": [
    {
     "data": {
      "application/vnd.jupyter.widget-view+json": {
       "model_id": "ea94de747fa448f798797eea6ed09c5e",
       "version_major": 2,
       "version_minor": 0
      },
      "text/plain": [
       "Tab(children=(VBox(children=(Accordion(children=(GridBox(children=(Button(description='Poço Infinito', style=B…"
      ]
     },
     "metadata": {},
     "output_type": "display_data"
    }
   ],
   "source": [
    "%matplotlib widget\n",
    "import numpy as np\n",
    "import scipy.sparse as sparse\n",
    "import matplotlib.pyplot as plt\n",
    "from numba import jit\n",
    "import ipywidgets as wid\n",
    "from ipywidgets import interactive,fixed, interactive_output\n",
    "\n",
    "plt.rc('font',size=12)\n",
    "RY=13.60566 #x*RY: Rydberg -> ev\n",
    "ang=1.88972 #X/ang: raio de bohr -> angstroms\n",
    "pot_exemplos=['(2e-4)*((x)**2)','0',\n",
    "             '(1e-5)*(x**2)+(1e-7)*(x**4)',\n",
    "             '(10)*( (49.2 / (x/ang+84) )**12 - (49.2 / (x/ang+84) )**6)',\n",
    "             '3.5*(np.exp(-2*(0.1*(x/ang) + 2.75)) - 2*np.exp(-(0.1*(x/ang) + 2.75)))',\n",
    "             '-4*(np.cosh(0.1*x/ang)**(-2))',\n",
    "             '0.05*abs(x/ang)-1.5',\n",
    "             '(1e-5)*(x**2)-(2e-7)*(x**4)',\n",
    "             '0.05*x/ang',\n",
    "             '-0.05*x/ang',\n",
    "             '4*np.sin(-2*np.abs(x/ang)*np.pi/(35))']\n",
    "def diagg(boo):\n",
    "    global x,psi,prob,eig,V,L,N\n",
    "    DIAG.description='Diagonalizando...'\n",
    "    \n",
    "    @jit\n",
    "    def diagH(H,V):\n",
    "        H=H+V\n",
    "        eig, psi=np.linalg.eigh(H) #Resolve o sistema e atribui-se: eig=autovalores, psi=autovetores\n",
    "        prob=np.abs(psi)**2 #Atribui a densidade de probabilidade |Psi|² a variável prob\n",
    "        return H,V,psi,prob,eig\n",
    "    \n",
    "    N=x.size #Armazena o tamanho do vetor posição e o comprimento do espaço que ele representa\n",
    "    a=- 1/(dx**2) #Define 'a' por conveniência\n",
    "    H=sparse.diags([a,-2*a,a],[-1,0,1],shape=(N,N),dtype=np.complex128).toarray() #Cria a matriz Hamiltoniano\n",
    "    H[0,0]=-a\n",
    "    H[N-1,N-1]=-a\n",
    "    H,V,psi,prob,eig=diagH(H,V)\n",
    "    \n",
    "    V=np.diag(V)\n",
    "    PLOT.children[8].disabled=False\n",
    "    PLOT.children[8].description=('Plotar')\n",
    "    PLOT.children[8].click()\n",
    "    DIAG.disabled=True\n",
    "    DIAG.description='Diagonalizado!'\n",
    "    tab.selected_index=1\n",
    "    \n",
    "def syst(xx,N,potV):   \n",
    "    global x,dx,V,Vlim\n",
    "    def vetores(xx,N):\n",
    "        xmin,xmax=xx\n",
    "        x,dx=np.linspace(xmin*ang,xmax*ang, N, \n",
    "                         retstep=True,dtype=np.float64) #Define o vetor posição (raio de bohr)\n",
    "        return x,dx,xmin,xmax\n",
    "    \n",
    "    def pot(N,pot):\n",
    "        V=np.ones(shape=(N))\n",
    "        V=V*eval(pot)/RY\n",
    "        V=np.diag(V)\n",
    "        return V\n",
    "    \n",
    "    x, dx, xmin, xmax=vetores(xx,N)\n",
    "    V=pot(N,potV)\n",
    "    \n",
    "    xmin, xmax= x.min()/ang, x.max()/ang\n",
    "    L=xmax-xmin\n",
    "    Vlim=[V.min()*RY, V.max()*RY]\n",
    "    info.children[1].value=f\"{dx/ang: .2f}\"\n",
    "    info.children[3].value=f\"{L: .2f}\"\n",
    "    info.children[5].value=f\"[{Vlim[0]:.5f} , {Vlim[1]:.5f}]\"\n",
    "    info.children[7].value=SYST.children[2].value\n",
    "    info.children[9].value=f\"{SYST.children[1].value: 1d}\"\n",
    "    \n",
    "    fig1, ax1= plt.subplots(figsize=(12,8))\n",
    "    ax1.set_xlabel('$x (\\AA)$')\n",
    "    ax1.set_ylabel('Potencial (eV)')  \n",
    "    \n",
    "    plt.plot(x/ang,np.diag(V)*RY,'r-',label='$V(x)$')    \n",
    "    plt.axhline(Vlim[0], xmin, xmax,color='r',ls='--',label='limites de $V(x)$')\n",
    "    plt.axhline(Vlim[1], xmin, xmax,color='r',ls='--')\n",
    "    plt.axvline(x=x.min()/ang,color='k',ls='--',label='limites de $x$')\n",
    "    plt.axvline(x=x.max()/ang,color='k',ls='--',)\n",
    "    plt.setp(ax1, xticks=[xmin, xmax], yticks=Vlim)\n",
    "    leg=plt.legend(loc='upper right')\n",
    "    \n",
    "    DIAG.disabled=False\n",
    "    DIAG.description='Diagonalizar'\n",
    "    PLOT.children[8].disabled=True\n",
    "    PLOT.children[8].description=('Diagonalize...')\n",
    "    INFO.selected_index=0\n",
    "    return V,x,dx,xmin,xmax\n",
    "    \n",
    "def plotall(NES,limx,wav,xs,ys,dpi,limy,autolim):\n",
    "    fig, ax = plt.subplots(figsize=(xs,ys), dpi=dpi)\n",
    "    nmin,nmax = NES\n",
    "    En=eig*RY\n",
    "    #elim=(En.min(), En.max())###########\n",
    "    ax.set_xlim([x.min()/ang-limx, x.max()/ang +limx])\n",
    "    ax.set_xlabel('$x (\\AA)$')\n",
    "    ax.set_ylabel('Auto energias (eV)')\n",
    "    plt.title(f\"$\\Delta x$ = {dx/ang:.2f}, Ordem da matriz = {N} x {N}\")\n",
    "    probb=norm(prob,nmin,nmax,En,1)\n",
    "    if wav==1:\n",
    "        for i in range(nmax,nmin-1,-1):\n",
    "            fig=plt.plot(x/ang,probb[:,i]+En[i], \n",
    "                         label=f'$E_{{{i}}}={En[i]:.5f}$ eV')\n",
    "    elif wav==2:\n",
    "        for i in range(nmax,nmin-1,-1):\n",
    "            fig=plt.plot(x/ang,np.real(psi[:,i])+En[i], \n",
    "                         label=f'$E_{{{i}}}={En[i]:.5f}$ eV')\n",
    "    elif wav==3:\n",
    "        for i in range(nmax,nmin-1,-1):\n",
    "            fig=plt.plot(x/ang,np.imag(psi[:,i])+En[i], \n",
    "                         label=f'$E_{{{i}}}={En[i]:.5f}$ eV')\n",
    "    if autolim==False:\n",
    "        ax.set_ylim(limy)\n",
    "        \n",
    "    fig=plt.axvline(x=x.min()/ang,color='k',ls='--')\n",
    "    fig=plt.axvline(x=x.max()/ang,color='k',ls='--')\n",
    "    fig=plt.plot(x/ang,V*RY,'k',label='V($x$)')\n",
    "    leg=plt.legend(loc='upper right')\n",
    "    \n",
    "    plt.show()\n",
    "\n",
    "@jit\n",
    "def norm(prob,nmin,nmax,En,wav):\n",
    "    mmax=np.zeros(nmax+2)\n",
    "    if wav==1:\n",
    "        for i in range(0,nmax+2):\n",
    "            mmax[i]=(En[i+1]-En[i])*0.9\n",
    "        for i in range(0,nmax+2):\n",
    "            prob[:,i]=prob[:,i]*np.abs(mmax[i]/prob[:,i].max())\n",
    "    #else:\n",
    "    #    for i in range(1,nmax+2):\n",
    "    #        mmax[i]=(prob[:,i+1].min()-prob[:,i-1].max() \\\n",
    "    #                /(prob[:,i].max()-prob[:,i].min()))\n",
    "    #    for i in range(1,nmax+2):\n",
    "    #        prob[:,i-1]=prob[:,i-1]*np.abs(mmax[i]*0.9)\n",
    "    return prob\n",
    "\n",
    "def potlist(bo):\n",
    "    b=bo.description\n",
    "    if b=='Oscilador Harmônico':\n",
    "        SYST.children[2].value=pot_exemplos[0]\n",
    "    elif b=='Poço Infinito':\n",
    "        SYST.children[2].value=pot_exemplos[1]\n",
    "    elif b=='Duffing Holmes (+)':\n",
    "        SYST.children[2].value=pot_exemplos[2]\n",
    "    elif b=='Lennard Jones':\n",
    "        SYST.children[2].value=pot_exemplos[3]\n",
    "    elif b=='Morse':\n",
    "        SYST.children[2].value=pot_exemplos[4]\n",
    "    elif b=='Pöschl–Teller':\n",
    "        SYST.children[2].value=pot_exemplos[5]\n",
    "    elif b=='Poço Triangular':\n",
    "        SYST.children[2].value=pot_exemplos[6]\n",
    "    elif b=='Duffing Holmes (-)':\n",
    "        SYST.children[2].value=pot_exemplos[7]\n",
    "    elif b=='Campo Uniforme (-)':\n",
    "        SYST.children[2].value=pot_exemplos[8]\n",
    "    elif b=='Campo Uniforme (+)':\n",
    "        SYST.children[2].value=pot_exemplos[9]\n",
    "    SYST.children[0].value=[-35,35]\n",
    "    SYST.children[3].click()\n",
    "    \n",
    "################################STYLES/LAYOUT###############################\n",
    "lslider=wid.Layout(width='90%', display='flex')\n",
    "sty = {'description_width': 'initial'}\n",
    "\n",
    "################################INTERACTIVES################################\n",
    "SYST=interactive(syst, {'manual': True}, \n",
    "                    xx=wid.FloatRangeSlider(\n",
    "                        value=[-35.0, 35.0],\n",
    "                        min=-150.0,\n",
    "                        max=150.0,\n",
    "                        step=1,\n",
    "                        continuous_update=False,\n",
    "                        orientation='horizontal',\n",
    "                        readout_format='1d',\n",
    "                        layout=lslider,\n",
    "                        description=('Domínio de $\\Psi(x)$: '),\n",
    "                        style=sty),\n",
    "                    N=wid.IntSlider(value=550,\n",
    "                        min=50,\n",
    "                        max=1050,\n",
    "                        step=10,\n",
    "                        continuous_update=False, \n",
    "                        layout=lslider,\n",
    "                        description=('Número de pontos: '),\n",
    "                        style=sty),\n",
    "                    potV=wid.Text(description='Expressão de $V(x)$: ',\n",
    "                        value=\"0\",\n",
    "                        placeholder='Escreva a expressão aqui.',\n",
    "                        style=sty,\n",
    "                        layout=lslider))\n",
    "\n",
    "PLOT=interactive(plotall, {'manual': True},\n",
    "                    NES=wid.IntRangeSlider(\n",
    "                        value=[0, 10],\n",
    "                        min=0,\n",
    "                        max=20,\n",
    "                        step=1,\n",
    "                        description='Plotar estados:',\n",
    "                        continuous_update=False,\n",
    "                        orientation='horizontal',\n",
    "                        layout=lslider,\n",
    "                        style=sty),\n",
    "                    limx=wid.IntSlider(\n",
    "                        value=20,\n",
    "                        min=0,\n",
    "                        max=100,\n",
    "                        step=1,\n",
    "                        description='Margens horizontais  (angstroms):   ',\n",
    "                        continuous_update=False,\n",
    "                        layout=lslider,\n",
    "                        style=sty),\n",
    "                    wav=wid.Dropdown(\n",
    "                        options=[('densidades de probabilidades',1),\n",
    "                                 ('funções de onda (parte real, +)',2),\n",
    "                                 ('funções de onda (parte imaginária)',3)],\n",
    "                        value=1,\n",
    "                        description='Plotar as',\n",
    "                        style=sty),\n",
    "                    xs=wid.IntSlider(value=16,\n",
    "                        min=0,\n",
    "                        max=20,\n",
    "                        step=1,\n",
    "                        description='Largura da imagem (polegadas):',\n",
    "                        style=sty,\n",
    "                        layout=lslider),\n",
    "                    ys=wid.IntSlider(value=9,\n",
    "                        min=0,\n",
    "                        max=20,\n",
    "                        step=1,\n",
    "                        description='Altura da imagem (polegadas): ',\n",
    "                        style=sty,\n",
    "                        layout=lslider),\n",
    "                    dpi=wid.IntSlider(value=80,\n",
    "                        min=10,\n",
    "                        max=300,\n",
    "                        step=1,\n",
    "                        description='Pixels por polegada:',\n",
    "                        style=sty,layout=lslider),\n",
    "                    limy=wid.FloatRangeSlider(value=[-2.,2.],\n",
    "                        min=-10.,\n",
    "                        max=10.,\n",
    "                        step=0.005,\n",
    "                        description='Limites do eixo y (eV):',\n",
    "                        orientation='horizontal',\n",
    "                        readout_format='.1f',\n",
    "                        layout=lslider,\n",
    "                        style=sty),\n",
    "                    autolim=wid.Checkbox(\n",
    "                        value=True,\n",
    "                        description='Auto limitar eixo y',\n",
    "                        style=sty))\n",
    "\n",
    "################################GRIDS################################\n",
    "items = [wid.Label('Passo $\\Delta x $ (angstroms) ='), wid.Label('dx'), \n",
    "        wid.Label('Largura do domínio (angstroms) ='), wid.Label('L'),\n",
    "        wid.Label('V(x)[min,max] (eV) ='), wid.Label('[V_min,V_max]'),\n",
    "        wid.Label('Expressão V(x) ='), wid.Label(''),\n",
    "        wid.Label('Número de pontos ='), wid.Label('')]\n",
    "info=wid.GridBox(items, layout=wid.Layout(grid_template_columns=\"repeat(2, 250px)\"))\n",
    "\n",
    "################################BOTOES################################\n",
    "DIAG=wid.Button(description='Diagonalizar',disabled=True)\n",
    "OHS=wid.Button(description='Oscilador Harmônico')\n",
    "POCO=wid.Button(description='Poço Infinito')\n",
    "DUFHOLMES=wid.Button(description='Duffing Holmes (+)', style=sty)\n",
    "MDUFHOLMES=wid.Button(description='Duffing Holmes (-)', style=sty)\n",
    "LENJON=wid.Button(description='Lennard Jones', style=sty)\n",
    "MORSE=wid.Button(description='Morse', style=sty)\n",
    "POSTEL=wid.Button(description='Pöschl–Teller', style=sty)\n",
    "TRIANG=wid.Button(description='Poço Triangular', style=sty)\n",
    "CAMPMENOS=wid.Button(description='Campo Uniforme (-)', style=sty)\n",
    "CAMPMAIS=wid.Button(description='Campo Uniforme (+)', style=sty)\n",
    "\n",
    "################################ON_EVENTS###############################\n",
    "DIAG.on_click(diagg)\n",
    "OHS.on_click(potlist)\n",
    "POCO.on_click(potlist)\n",
    "DUFHOLMES.on_click(potlist)\n",
    "MDUFHOLMES.on_click(potlist)\n",
    "LENJON.on_click(potlist)\n",
    "MORSE.on_click(potlist)\n",
    "POSTEL.on_click(potlist)\n",
    "TRIANG.on_click(potlist)\n",
    "CAMPMAIS.on_click(potlist)\n",
    "CAMPMENOS.on_click(potlist)\n",
    "\n",
    "\n",
    "################################BOXES###############################\n",
    "POTSBUT=wid.GridBox([POCO,TRIANG,CAMPMAIS,CAMPMENOS,OHS,DUFHOLMES,\n",
    "                MDUFHOLMES,LENJON,MORSE,POSTEL],\n",
    "    layout=wid.Layout(grid_template_columns=\"repeat(auto-fill, 180px)\"))\n",
    "POTLIST=wid.Accordion([POTSBUT])\n",
    "INFODIAG=wid.VBox([info,DIAG])\n",
    "INFO=wid.Accordion([INFODIAG])\n",
    "POTLIST.set_title(0,'Potenciais pré definidos')\n",
    "INFO.set_title(0,'Diagonalizar/Informações')\n",
    "SYSTBOX=wid.VBox([POTLIST,SYST,INFO])\n",
    "\n",
    "################################UI################################\n",
    "SYST.children[3].description=('Gerar')\n",
    "PLOT.children[8].description=('Plotar')\n",
    "PLOT.children[8].disabled=True\n",
    "INFO.selected_index=None\n",
    "\n",
    "################################TABS################################\n",
    "tab=wid.Tab(children=[SYSTBOX,PLOT])\n",
    "tab.set_title(0, 'Gerar o Sistema')\n",
    "tab.set_title(1, 'Funções de Onda')\n",
    "display(tab)"
   ]
  },
  {
   "cell_type": "markdown",
   "id": "b2e792b6-1657-44c5-8baf-1760a8c0b568",
   "metadata": {},
   "source": [
    "***\n",
    "# Unidades atômicas de Rydberg\n",
    "<details><summary>Clique aqui para mostrar</summary>\n",
    "Tabela de conversão de unidades entre o sistema de Rydberg e o MKSA, que é a base constante do SI. Cheque a fonte original mais abaixo para um tabela mais completa em inglês.\n",
    "\n",
    "Fonte da tabela: [(Departamento de Física, Universidade Rei Fahd de Petróleos e Minerais)](https://faculty.kfupm.edu.sa/phys/aanaqvi/rydberg.pdf)\n",
    "\n",
    "|Dimensão |  Sistema de Unidades Rydberg | MKSA (base do SI) | Outras equivalências|\n",
    "| :- |  :-: | :-: | :-:|\n",
    "|Comprimento | $$1=a_0$$ | $$5.2917725 \\times 10^{-11} $$ | $$\\approx 0.5291772 \\text{ Å}$$|\n",
    "|Massa| $$1=2m_e$$ | $$1.8218779\\times 10^{-30} \\text{ kg} $$| - |\n",
    "|Tempo |$$1$$| $$1 4.8377687 \\times 10^{-17} \\text{ s}$$ | $$=1/20 \\text{ fs}$$ |\n",
    "|Frequência | $$1$$ | $$ 2.0670687 \\times 10^{16} \\text{ Hz}$$ | - |\n",
    "|Velocidade| $$1$$ | $$1.0938457 \\times 10^{6} \\text{ m/s}$$| -|\n",
    "|Momento| $$1$$ | $$1.9928534 \\times 10^{-24} \\text{ kg.m/s}$$| - |\n",
    "|Energia| $$1=E_{Ryd}=e^2/(2a_0)$$ | $$2.1798741 \\times 10 ^{-18} \\text{ J}$$| $$3.605698 \\text{ eV}$$|\n",
    "|Carga | $$1=e/\\sqrt{2}$$ | $$1.1329105\\times 10^{-19} \\text{ C}$$| - |\n",
    "|Campo Elétrico |$$1$$| $$1 3.6360903 \\times 10^{11} \\text{ V/m}$$|-|\n",
    "|Potencial | $$1$$ | $$19.241363 \\text{ V}$$|-|\n",
    "\n",
    "|Constantes Úteis | Símbolo |Sistema de Unidades Rydberg | MKSA (base do SI) |\n",
    "|:-|:-:|:-:|:-|\n",
    "|Constante de Planck reduzida | $$\\hbar$$| $$1$$| $$1.05457266\\times 10 ^{-34} \\text{ J.s}$$|\n",
    "|$h= 2\\pi\\hbar$| $$h$$ | $$2\\pi$$ | $$6.6260755\\times 10^{-34} \\text{ J.s}$$|\n",
    "|Carga do elétron | $$e$$ | $$\\sqrt{2}$$| $$1.60217733\\times 10 ^{-19} \\text{ C}$$|\n",
    "|Raio de Bohr|$$a_0$$| $$1=\\hbar^2/(me^2)$$| $$5.29177249\\times 10^{-11} \\text{ m}$$|\n",
    "|Energia de Hartree| $$E_h$$|$$2=e^2/(a_0)$$ | $$4.3597482\\times 10^{-18} \\text{ J}$$|\n",
    "|Constante de estrutura fina| $$\\alpha$$| $$e^2/(\\hbar c)=1/137.0359895 $$| - |\n",
    "|Velocidade da luz | $$c$$ | $$2/\\alpha \\approx 274$$ | $$2.99792458\\times 10^{8} \\text{ m/s}$$|\n",
    "|Permeabilidade do vácuo| $$\\mu_0$$ | $$\\pi\\alpha^2\\approx 1.7 \\times 10^{-4}$$| $$4\\pi \\times 10^{-7} \\text{ H/m}$$|\n",
    "|Permissividade do vácuo| $$\\epsilon_0$$| $$1/(4\\pi)\\approx 0.08$$| $$8.854187817\\times 10^{-12} \\text{ F/m}$$|\n",
    "|Massa do elétron| $$m_e$$| $$1/2$$ |$$9.1093897 \\times 10^{-31} \\text{ kg}$$|\n",
    "|Massa do próton| $$m_p$$ | $$918.07638$$ | $$1.6726231\\times 10^{-27} kg$$|\n",
    "</details>"
   ]
  },
  {
   "cell_type": "markdown",
   "id": "99896775-43e8-4631-933f-1e5bf589bf42",
   "metadata": {
    "tags": []
   },
   "source": [
    "# Modelo Matemático\n",
    "<details><summary>Clique aqui para mostrar</summary>\n",
    "Escrevemos a equação de Schrodinger 1D independente do tempo, para um único eletron, fazendo $\\hbar^2 /(2m)=1$, já que utilizaremos o sistema de unidades atômicas de Rydberg:\n",
    "$$-\\frac{\\partial^2 \\Psi}{\\partial x^2}+V(x)=E\\Psi \\tag{1}$$\n",
    "    \n",
    "Discretizamos as derivadas parciais utilizando o método de diferenças finitas, fazendo a primeira derivada pela direita e a segunda pela esquerda para diminuir o erro:\n",
    "\n",
    "$$\\frac{\\partial \\Psi}{\\partial x} \\approx \\frac{\\Psi(x+\\Delta x)-\\Psi(x)}{\\Delta x}$$\n",
    "\n",
    "$$\\frac{\\partial \\Psi}{\\partial x} \\approx \\frac{\\Psi(x)-\\Psi(x-\\Delta x)}{\\Delta x}$$\n",
    "    \n",
    "Isso resultará em\n",
    "    \n",
    "$$\\frac{\\partial^2 \\Psi}{\\partial x^2} \\approx \\frac{\\Psi(x+\\Delta x)-2\\Psi(x)+\\Psi(x-\\Delta x)}{\\Delta x^2} \\tag{2}$$\n",
    "\n",
    "Descreveremos o sistema dentro de um intervalo que vai de $x_{min}$ até um certo valor $x_{max}$. Como o intervalo será discreto, utilizaremos um vetor posição $x$ com $N$ componentes para representá-lo. Por conveniência, mudamos a $\\color{blue}{\\text{notação com a variável }x}$ para $\\color{red}{\\text{notação com índices }i}$, tal que o vetor $x$ seja\n",
    "    \n",
    "$$x=\\color{blue}{\\begin{bmatrix}x_{min}&+&(1-1)\\Delta x\\\\ x_{min}&+&(2-1)\\Delta x \\\\ x_{min}&+& (3-1) \\Delta x \\\\\\vdots & +&\\vdots\\\\ x_{min}&+&(N-1)\\Delta x  \\end{bmatrix}}=\\color{red}{\\begin{bmatrix}x_{1}\\\\ x_{2} \\\\ x_{3}\\\\\\vdots  \\\\ x_{N}\\end{bmatrix}}$$\n",
    "\n",
    "Agora, de maneira similar, a função de onda será representada por um vetor $\\Psi$ contendo todos os valores discretos de uma função de onda unidimensional representada por $N$ pontos e com uma indexação de que vai $i=1$ até $i=N$, ou seja:\n",
    "\n",
    "$$\\Psi=\\color{blue}{\\begin{bmatrix}\\Psi(x + (1-1)\\Delta x)\\\\\\Psi(x + (2-1) \\Delta x) \\\\\\Psi( x+ (3-1) \\Delta x) \\\\\\vdots \\\\ \\Psi(x + (N-1)\\Delta x)\\end{bmatrix}}= \\color{red}{\\begin{bmatrix}\\Psi_{1}\\\\\\Psi_{2}\\\\\\Psi_3\\\\\\vdots \\\\ \\Psi_{N}\\end{bmatrix}}$$\n",
    "   \n",
    "Substituindo (2) em (1) e utilizando a notação com índices, temos:\n",
    "\n",
    "$$\\frac{-\\left(\\Psi_{i-1}-2\\Psi_{i}+\\Psi_{i+1}\\right)}{\\Delta x^2}+V_i \\Psi_i=E\\Psi_i$$\n",
    "\n",
    "Definindo $a={-1}/{\\Delta x ^2}$, tem-se\n",
    "    \n",
    "$$a\\left(\\Psi_{i-1}-2\\Psi_{i}+\\Psi_{i+1}\\right)+V_i \\Psi_i=E\\Psi_i$$\n",
    "\n",
    "Rearranjando a equação acima de uma forma conveniente, obtem-se\n",
    "    \n",
    "$$a\\Psi_{i-1}+ (V_1-2a)\\Psi_{i}+ a\\Psi_{i+1}=E\\Psi_i$$\n",
    "\n",
    "Isso pode ser reescrito como uma equação matricial da forma:\n",
    "    \n",
    "$$\\begin{matrix}\n",
    "a\\Psi_{0}&+& (V_1-2a)\\Psi_{1}&+& a\\Psi_{2}  &= & E\\Psi_1 \\\\ \n",
    "a \\Psi_{1}&+&(V_2-2a)\\Psi_{2}&+&a\\Psi_{3}& = & E\\Psi_2 \\\\ \n",
    "a \\Psi_{2}&+&(V_3-2a)\\Psi_{3}&+&a\\Psi_{4}& = & E\\Psi_3 \\\\ \n",
    "\\vdots & +& \\vdots&+& \\vdots & = &\\vdots\\\\ \n",
    "a\\Psi_{N-1}&+&(V_{N}-2a)\\Psi_{N}&+&a\\Psi_{N+1}& = & E\\Psi_{N}\n",
    "\\end{matrix}$$\n",
    "\n",
    "Note que na primeira e última equações do sistema acima, do lado esquerdo da igualdade, temos os termos $\\Psi_0$ e $\\Psi_{N+1}$, que não correspondem a nenhuma componente do nosso vetor da função de onda discreta $\\Psi$. Nós iremos utilizá-los para definir as condições de contorno (o valor da função de onda nas bordas do sistema).\n",
    "    \n",
    ">## Condições de contorno\n",
    "> Abaixo estão dois exemplos básicos de condições de contorno\n",
    ">### Fronteiras Fixas (poço infinito)\n",
    ">Nessa condição forçamos a função de onda a ser 0 nas bordas, ou seja\n",
    ">$$\\Psi(x_{min})=\\Psi(x_{max})=0$$\n",
    ">Aqui, isso será equivalente a\n",
    ">\\begin{aligned}\\Psi_0&=0 \\\\ \\Psi_{N+1}&=0\\end{aligned}\n",
    ">### Condição de contorno periódica\n",
    ">Nessa condição forçamos a função de onda no último ponto a ser igual ao valor do primeiro ponto, ou seja\n",
    ">$$\\Psi(x_{min})=\\Psi_(x_{max})$$\n",
    ">Aqui, isso será equivalente a\n",
    ">\\begin{aligned}\\Psi_{N+1}&=\\Psi_{1} \\\\ \\Psi_{0}&=\\Psi_{N}\\end{aligned}\n",
    "## Equação matricial\n",
    "    \n",
    "Aplicando a condição de contorno do poço infinito, temos:\n",
    "$$\\begin{matrix}\n",
    "0&+& \\color{blue}{(V_1-2a)}\\Psi_{1}&+& \\color{blue}a \\Psi_{2}  &= & E\\Psi_1 \\\\ \n",
    "\\color{red}a \\Psi_{1}&+&\\color{red}{(V_2-2a)}\\Psi_{2}&+&\\color{red}a\\Psi_{3}& = & E\\Psi_2 \\\\ \n",
    "\\color{orange}a \\Psi_{2}&+&\\color{orange}{(V_3-2a)}\\Psi_{3}&+&\\color{orange}a \\Psi_{4}& = & E\\Psi_3 \\\\ \n",
    "\\vdots & +& \\vdots&+& \\vdots & = &\\vdots\\\\ \n",
    "\\color{purple}a\\Psi_{N-2}&+&\\color{purple}{(V_{N-1}-2a)} \\Psi_{N-1}& +&\\color{purple}a \\Psi_{N}&= & E\\Psi_{N-1}\\\\\n",
    "\\color{green}a\\Psi_{N-1}&+&\\color{green}{(V_{N}-2a)} \\Psi_{N}&+&0& = & E\\Psi_{N}\n",
    "\\end{matrix}$$\n",
    "\n",
    "Esse sistema pode ser reescrito como uma matriz do tipo:\n",
    "$$\\begin{bmatrix}  \\color{blue}{(V_1-2a)} & \\color{blue}a & 0  & 0 & 0 & 0\\\\\n",
    "\\color{red}a & \\color{red}{(V_2-2a)} & \\color{red}a  & 0 & 0 &0 \\\\\n",
    "0&\\color{orange}a & \\color{orange}{(V_3-2a)} &  \\color{orange}a  & 0  &0  \\\\\n",
    " 0 & 0 & \\ddots & \\ddots & \\ddots & 0 \\\\\n",
    "0& 0 & 0  & \\color{purple}a & \\color{purple}{(V_{N-1}-2a)}& \\color{purple}a\\\\\n",
    "0& 0 & 0 & 0 & \\color{green}a & \\color{green}{(V_{N}-2a)} \n",
    "\\end{bmatrix} \n",
    "\\begin{bmatrix}\\Psi_{1}\\\\\\Psi_2\\\\\\Psi_3\\\\\\vdots \\\\\\Psi_{N-1}\\\\ \\Psi_{N}\\end{bmatrix}=E\\begin{bmatrix}\\Psi_{1}\\\\\\Psi_2\\\\\\Psi_3\\\\\\vdots \\\\ \\Psi_{N-1}\\\\\\Psi_{N}\\end{bmatrix}$$\n",
    "\n",
    "Isso é equivalente a um problema de autovetores e autovalores, onde a matriz quadrada de ordem $N$ acima é o operador Hamiltoniano $\\hat{H}$:\n",
    "\n",
    "$$\\hat{H}\\Psi=E\\Psi$$\n",
    "\n",
    "Podemos diagonalizá-lo para obter os autovalores e seus respectivos autovetores. Os autovetores serão vetores $\\Psi_n$ com $N$ componentes representando as respectivas funções de ondas dos estados $n$, e os autovalores $E$ serão as energias correspondentes aos respectivos estados. \n",
    "</details>\n"
   ]
  },
  {
   "cell_type": "code",
   "execution_count": null,
   "id": "3fdc748c-9b22-405c-9606-82a9583b30a2",
   "metadata": {},
   "outputs": [],
   "source": []
  }
 ],
 "metadata": {
  "hide_input": false,
  "kernelspec": {
   "display_name": "Python 3",
   "language": "python",
   "name": "python3"
  },
  "language_info": {
   "codemirror_mode": {
    "name": "ipython",
    "version": 3
   },
   "file_extension": ".py",
   "mimetype": "text/x-python",
   "name": "python",
   "nbconvert_exporter": "python",
   "pygments_lexer": "ipython3",
   "version": "3.9.5"
  },
  "toc": {
   "base_numbering": 1,
   "nav_menu": {},
   "number_sections": true,
   "sideBar": true,
   "skip_h1_title": false,
   "title_cell": "Table of Contents",
   "title_sidebar": "Contents",
   "toc_cell": false,
   "toc_position": {},
   "toc_section_display": true,
   "toc_window_display": false
  },
  "widgets": {
   "application/vnd.jupyter.widget-state+json": {
    "state": {
     "00fb1c5c28ce44e28c2dbc10100a1501": {
      "model_module": "@jupyter-widgets/base",
      "model_module_version": "1.2.0",
      "model_name": "LayoutModel",
      "state": {}
     },
     "02c3b75695c24947b11183c0bdebcaa3": {
      "model_module": "@jupyter-widgets/base",
      "model_module_version": "1.2.0",
      "model_name": "LayoutModel",
      "state": {}
     },
     "02d57cce1b28476d927a2bead6df8b32": {
      "model_module": "@jupyter-widgets/base",
      "model_module_version": "1.2.0",
      "model_name": "LayoutModel",
      "state": {}
     },
     "0337eb92ba124f5dbb8bd3b48d70f163": {
      "model_module": "@jupyter-widgets/controls",
      "model_module_version": "1.5.0",
      "model_name": "DescriptionStyleModel",
      "state": {
       "description_width": ""
      }
     },
     "05609d71e67b4d738a7b689e34cd42c7": {
      "model_module": "@jupyter-widgets/controls",
      "model_module_version": "1.5.0",
      "model_name": "LabelModel",
      "state": {
       "layout": "IPY_MODEL_4974ad77309042eb90f6a69a6575c757",
       "style": "IPY_MODEL_5b4a172d1ad04d1fa61127fc7304429e",
       "value": " 0.13"
      }
     },
     "057f8177c880464d8c9613555d7b21b2": {
      "model_module": "@jupyter-widgets/controls",
      "model_module_version": "1.5.0",
      "model_name": "DescriptionStyleModel",
      "state": {
       "description_width": ""
      }
     },
     "06b1336d8ea340ada5027fe0e571fa13": {
      "model_module": "@jupyter-widgets/base",
      "model_module_version": "1.2.0",
      "model_name": "LayoutModel",
      "state": {}
     },
     "06f41d778ffc4ff5befce81587f9a5f8": {
      "model_module": "@jupyter-widgets/controls",
      "model_module_version": "1.5.0",
      "model_name": "LabelModel",
      "state": {
       "layout": "IPY_MODEL_a5aa6cc9551e4380aa1b2a1bc0acc5cc",
       "style": "IPY_MODEL_0c41e904b7c947738d41bf3168a35a07",
       "value": " 550"
      }
     },
     "09bcfe6416a5442ca9f6fb863a490462": {
      "model_module": "@jupyter-widgets/base",
      "model_module_version": "1.2.0",
      "model_name": "LayoutModel",
      "state": {}
     },
     "09bde00d91474aa29874576ae0eda854": {
      "model_module": "@jupyter-widgets/controls",
      "model_module_version": "1.5.0",
      "model_name": "IntSliderModel",
      "state": {
       "continuous_update": false,
       "description": "Margens horizontais  (angstroms):   ",
       "layout": "IPY_MODEL_c1c24061bb00459fa6bbcf55c0229f5c",
       "style": "IPY_MODEL_65120fac88f241898440230725703cf4",
       "value": 20
      }
     },
     "0a18dcbe8ae748628b73494a1b601d57": {
      "model_module": "@jupyter-widgets/base",
      "model_module_version": "1.2.0",
      "model_name": "LayoutModel",
      "state": {}
     },
     "0a214bf1c8b34f33836f688f657c1f36": {
      "model_module": "@jupyter-widgets/controls",
      "model_module_version": "1.5.0",
      "model_name": "SliderStyleModel",
      "state": {
       "description_width": "initial"
      }
     },
     "0adfbb2b57354fbca22062f82c28b4cb": {
      "model_module": "@jupyter-widgets/controls",
      "model_module_version": "1.5.0",
      "model_name": "VBoxModel",
      "state": {
       "_dom_classes": [
        "widget-interact"
       ],
       "children": [
        "IPY_MODEL_1827db0328da4889a79eb96782edb6b6",
        "IPY_MODEL_745f8f48b0ed4a52be957eb01816fc18",
        "IPY_MODEL_1da8d670bd1e40f98b7f34b5c96b0ccb",
        "IPY_MODEL_e36d7b3aa7ca4778bb26b31823bc723a",
        "IPY_MODEL_9758f72a10df464f8c6eba5183c0d47b"
       ],
       "layout": "IPY_MODEL_abf2c9ff54e54ea5becf8151f1a8a0a7"
      }
     },
     "0bff449244dc478cbff45f93bf790c12": {
      "model_module": "@jupyter-widgets/controls",
      "model_module_version": "1.5.0",
      "model_name": "LabelModel",
      "state": {
       "layout": "IPY_MODEL_d2d321ab74fa41a8b26633cfbd52af53",
       "style": "IPY_MODEL_552e5c4bca68485fb1103cfcea977ee0",
       "value": "-4*(np.cosh(0.1*x/ang)**(-2))"
      }
     },
     "0c41e904b7c947738d41bf3168a35a07": {
      "model_module": "@jupyter-widgets/controls",
      "model_module_version": "1.5.0",
      "model_name": "DescriptionStyleModel",
      "state": {
       "description_width": ""
      }
     },
     "0c5f8d38340847bd83f24d641557f50c": {
      "model_module": "@jupyter-widgets/controls",
      "model_module_version": "1.5.0",
      "model_name": "LabelModel",
      "state": {
       "layout": "IPY_MODEL_a57d114b68784886a5a54480b67b2bb8",
       "style": "IPY_MODEL_7ac82b2d267940ceb1bca3947e74dfe1",
       "value": "Largura do domínio (angstroms) ="
      }
     },
     "0e4f4afaabc642a9819bc2ac9ad35710": {
      "model_module": "@jupyter-widgets/controls",
      "model_module_version": "1.5.0",
      "model_name": "DescriptionStyleModel",
      "state": {
       "description_width": ""
      }
     },
     "0e559b4d52d746aab89c1592cc14f4f8": {
      "model_module": "@jupyter-widgets/controls",
      "model_module_version": "1.5.0",
      "model_name": "DescriptionStyleModel",
      "state": {
       "description_width": ""
      }
     },
     "0ee8c0fbe62b49ef9cee656c9d43352f": {
      "model_module": "jupyter-matplotlib",
      "model_module_version": "^0.9.0",
      "model_name": "ToolbarModel",
      "state": {
       "layout": "IPY_MODEL_5b39de690afb4d44b906d4cdcb7fbb91",
       "toolitems": [
        [
         "Home",
         "Reset original view",
         "home",
         "home"
        ],
        [
         "Back",
         "Back to previous view",
         "arrow-left",
         "back"
        ],
        [
         "Forward",
         "Forward to next view",
         "arrow-right",
         "forward"
        ],
        [
         "Pan",
         "Left button pans, Right button zooms\nx/y fixes axis, CTRL fixes aspect",
         "arrows",
         "pan"
        ],
        [
         "Zoom",
         "Zoom to rectangle\nx/y fixes axis, CTRL fixes aspect",
         "square-o",
         "zoom"
        ],
        [
         "Download",
         "Download plot",
         "floppy-o",
         "save_figure"
        ]
       ]
      }
     },
     "0f78a67e9b4e4309aa8588c4a58b416d": {
      "model_module": "@jupyter-widgets/base",
      "model_module_version": "1.2.0",
      "model_name": "LayoutModel",
      "state": {}
     },
     "0ff1a9855dea46dfb16a890ec55ee860": {
      "model_module": "@jupyter-widgets/controls",
      "model_module_version": "1.5.0",
      "model_name": "ButtonModel",
      "state": {
       "description": "Diagonalizado!",
       "disabled": true,
       "layout": "IPY_MODEL_af679d8ed58c4770bcb68b3b4c6f3b42",
       "style": "IPY_MODEL_e6d95b7dcbac4657bbd335c174baa165"
      }
     },
     "111aa02e667e4ba2b9482cf18be95f7b": {
      "model_module": "@jupyter-widgets/controls",
      "model_module_version": "1.5.0",
      "model_name": "SliderStyleModel",
      "state": {
       "description_width": "initial"
      }
     },
     "118f6ea5f3db4150b135774453b51f2d": {
      "model_module": "@jupyter-widgets/controls",
      "model_module_version": "1.5.0",
      "model_name": "SliderStyleModel",
      "state": {
       "description_width": "initial"
      }
     },
     "12ccb12216d34bc49f46a601917fdd18": {
      "model_module": "@jupyter-widgets/controls",
      "model_module_version": "1.5.0",
      "model_name": "ButtonModel",
      "state": {
       "description": "Poço Infinito",
       "layout": "IPY_MODEL_d8c94570c0f144648524949e710c409e",
       "style": "IPY_MODEL_7fea74df05d149a28aa7d4d84a5b178c"
      }
     },
     "1301fcb05eb54f24ac0dfc72263c4fc3": {
      "model_module": "@jupyter-widgets/controls",
      "model_module_version": "1.5.0",
      "model_name": "DescriptionStyleModel",
      "state": {
       "description_width": ""
      }
     },
     "155e4455f3a94da4bd72d56497215f65": {
      "model_module": "@jupyter-widgets/base",
      "model_module_version": "1.2.0",
      "model_name": "LayoutModel",
      "state": {}
     },
     "15dce47cc2de48fb8d853f50fa31e28b": {
      "model_module": "@jupyter-widgets/base",
      "model_module_version": "1.2.0",
      "model_name": "LayoutModel",
      "state": {}
     },
     "1646779fcb73446cbdf7853b932e6dc9": {
      "model_module": "@jupyter-widgets/controls",
      "model_module_version": "1.5.0",
      "model_name": "ButtonModel",
      "state": {
       "description": "Oscilador Harmônico",
       "layout": "IPY_MODEL_56f092453dc84b5fbce74a12603c6cdc",
       "style": "IPY_MODEL_aca7df8ce7ad4da29f90b014734ada0f"
      }
     },
     "167f097d9f734531850f0e968c2c9c6d": {
      "model_module": "@jupyter-widgets/controls",
      "model_module_version": "1.5.0",
      "model_name": "LabelModel",
      "state": {
       "layout": "IPY_MODEL_f8e440aa55504e23bb6f70963dfe57a5",
       "style": "IPY_MODEL_1fbf7aeb935a41fd8869911834ee7e6a",
       "value": " 70.00"
      }
     },
     "16a3432dd5d04d359bb2ab66b0798d11": {
      "model_module": "@jupyter-widgets/base",
      "model_module_version": "1.2.0",
      "model_name": "LayoutModel",
      "state": {}
     },
     "1776133737624e6ca8a94ef5aeb439a0": {
      "model_module": "@jupyter-widgets/controls",
      "model_module_version": "1.5.0",
      "model_name": "DescriptionStyleModel",
      "state": {
       "description_width": ""
      }
     },
     "1827db0328da4889a79eb96782edb6b6": {
      "model_module": "@jupyter-widgets/controls",
      "model_module_version": "1.5.0",
      "model_name": "FloatRangeSliderModel",
      "state": {
       "_model_name": "FloatRangeSliderModel",
       "_view_name": "FloatRangeSliderView",
       "continuous_update": false,
       "description": "Domínio de $\\Psi(x)$: ",
       "layout": "IPY_MODEL_3234ad155ea6478aa8a0c7543dde0e9d",
       "max": 150,
       "min": -150,
       "readout_format": "1d",
       "style": "IPY_MODEL_6d318d07f0b544939af4eb55645ff6cc",
       "value": [
        -35,
        35
       ]
      }
     },
     "18c882a8ea834843a7a8b312dbce563d": {
      "model_module": "@jupyter-widgets/base",
      "model_module_version": "1.2.0",
      "model_name": "LayoutModel",
      "state": {}
     },
     "18e19f569c764f3986b8f62c77332004": {
      "model_module": "@jupyter-widgets/controls",
      "model_module_version": "1.5.0",
      "model_name": "LabelModel",
      "state": {
       "layout": "IPY_MODEL_4c8ede8684184af7a164ff990069dd35",
       "style": "IPY_MODEL_1301fcb05eb54f24ac0dfc72263c4fc3",
       "value": "V(x)[min,max] (eV) ="
      }
     },
     "1921e774b871432aa64147b340e8fce1": {
      "model_module": "@jupyter-widgets/output",
      "model_module_version": "1.0.0",
      "model_name": "OutputModel",
      "state": {
       "layout": "IPY_MODEL_d23b0b352a8946218da8a1d4e6d93596",
       "outputs": [
        {
         "data": {
          "image/png": "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\n",
          "text/plain": "<Figure size 1280x720 with 1 Axes>"
         },
         "metadata": {
          "needs_background": "light"
         },
         "output_type": "display_data"
        }
       ]
      }
     },
     "19305e54ccf44302b67a8a8120831191": {
      "model_module": "@jupyter-widgets/controls",
      "model_module_version": "1.5.0",
      "model_name": "ButtonModel",
      "state": {
       "description": "Pöschl–Teller",
       "layout": "IPY_MODEL_a1e308cfe19b4147ade78054ba4e0dfa",
       "style": "IPY_MODEL_ab76d097fb204fdcbdc59958a9b4bfaa"
      }
     },
     "1a216c3e387447aebad4a1ef18fafa3a": {
      "model_module": "@jupyter-widgets/controls",
      "model_module_version": "1.5.0",
      "model_name": "ButtonStyleModel",
      "state": {}
     },
     "1a55ff7cf41349b6849c96f997865696": {
      "model_module": "@jupyter-widgets/controls",
      "model_module_version": "1.5.0",
      "model_name": "GridBoxModel",
      "state": {
       "children": [
        "IPY_MODEL_1dc533f455e04573bfced323db806ddd",
        "IPY_MODEL_1c6cc8eeaa5143ea8a64dc3712a7256f",
        "IPY_MODEL_0c5f8d38340847bd83f24d641557f50c",
        "IPY_MODEL_ca212a930c2941e0a484c4e8beccdc1f",
        "IPY_MODEL_18e19f569c764f3986b8f62c77332004",
        "IPY_MODEL_1fe859b5cf8d4843a46399014d63c2db",
        "IPY_MODEL_6fba0f0cc76c4c60a8a8903216c3831f",
        "IPY_MODEL_d5ed8a4fd06c466eb0e9aea9958c58d1",
        "IPY_MODEL_29786d297e11420084acf3771b69410d",
        "IPY_MODEL_96ba67a4d6e64c1c86b59320d995ce68"
       ],
       "layout": "IPY_MODEL_63995885fdaa47a69f1aad72274a096b"
      }
     },
     "1a9c49918faa44eda16bd381ddada5b5": {
      "model_module": "@jupyter-widgets/base",
      "model_module_version": "1.2.0",
      "model_name": "LayoutModel",
      "state": {}
     },
     "1ab25a0695064e81818ffc6274810e46": {
      "model_module": "@jupyter-widgets/base",
      "model_module_version": "1.2.0",
      "model_name": "LayoutModel",
      "state": {}
     },
     "1ae88dd2d92443a9bf04b289aa9b37a8": {
      "model_module": "@jupyter-widgets/base",
      "model_module_version": "1.2.0",
      "model_name": "LayoutModel",
      "state": {}
     },
     "1b3b184e78c545199ff8002caca5e677": {
      "model_module": "@jupyter-widgets/controls",
      "model_module_version": "1.5.0",
      "model_name": "ButtonModel",
      "state": {
       "description": "Oscilador Harmônico",
       "layout": "IPY_MODEL_229a50ac6b4649af9ec14f7754450307",
       "style": "IPY_MODEL_559eee9a83f547ba849c7f8ad35f41f4"
      }
     },
     "1c6cc8eeaa5143ea8a64dc3712a7256f": {
      "model_module": "@jupyter-widgets/controls",
      "model_module_version": "1.5.0",
      "model_name": "LabelModel",
      "state": {
       "layout": "IPY_MODEL_d149099ff85546c188af3b9b3d11088f",
       "style": "IPY_MODEL_f4e9c98d07554bf08c68acc8bb39d7af",
       "value": " 0.13"
      }
     },
     "1c71f5ca7a7544bdb7d82cec92440aea": {
      "model_module": "@jupyter-widgets/base",
      "model_module_version": "1.2.0",
      "model_name": "LayoutModel",
      "state": {}
     },
     "1d9e661c843844fdbe8f79de58d7d507": {
      "model_module": "jupyter-matplotlib",
      "model_module_version": "^0.9.0",
      "model_name": "MPLCanvasModel",
      "state": {
       "_cursor": "default",
       "_figure_label": "Figure 1",
       "_height": 800,
       "_image_mode": "diff",
       "_width": 1200,
       "layout": "IPY_MODEL_74b0f6a3aa864704b877c9c6ed2c3619",
       "toolbar": "IPY_MODEL_fc7004add36d465a9919e97f920db946",
       "toolbar_position": "left"
      }
     },
     "1da8d670bd1e40f98b7f34b5c96b0ccb": {
      "model_module": "@jupyter-widgets/controls",
      "model_module_version": "1.5.0",
      "model_name": "TextModel",
      "state": {
       "description": "Expressão de $V(x)$: ",
       "layout": "IPY_MODEL_3234ad155ea6478aa8a0c7543dde0e9d",
       "placeholder": "Escreva a expressão aqui.",
       "style": "IPY_MODEL_4ba89b1fd4bc4212b06c5bc55449a5bc",
       "value": "-4*(np.cosh(0.1*x/ang)**(-2))"
      }
     },
     "1dc533f455e04573bfced323db806ddd": {
      "model_module": "@jupyter-widgets/controls",
      "model_module_version": "1.5.0",
      "model_name": "LabelModel",
      "state": {
       "layout": "IPY_MODEL_92ff911d6a51407ab09aae86ec1029bc",
       "style": "IPY_MODEL_0e559b4d52d746aab89c1592cc14f4f8",
       "value": "Passo $\\Delta x $ (angstroms) ="
      }
     },
     "1df785220cc8460e8a5924baf027992f": {
      "model_module": "@jupyter-widgets/base",
      "model_module_version": "1.2.0",
      "model_name": "LayoutModel",
      "state": {}
     },
     "1f01f0bc5f5a40288ee39f7008f41d47": {
      "model_module": "@jupyter-widgets/controls",
      "model_module_version": "1.5.0",
      "model_name": "DescriptionStyleModel",
      "state": {
       "description_width": "initial"
      }
     },
     "1fbf7aeb935a41fd8869911834ee7e6a": {
      "model_module": "@jupyter-widgets/controls",
      "model_module_version": "1.5.0",
      "model_name": "DescriptionStyleModel",
      "state": {
       "description_width": ""
      }
     },
     "1fe859b5cf8d4843a46399014d63c2db": {
      "model_module": "@jupyter-widgets/controls",
      "model_module_version": "1.5.0",
      "model_name": "LabelModel",
      "state": {
       "layout": "IPY_MODEL_6e80decc777740c6ae5d30661fb93dc3",
       "style": "IPY_MODEL_9ec35432178e486c839b87fbb3bb1136",
       "value": "[-3.99984 , 0.00000]"
      }
     },
     "21153bdc98104a599f41d39df250661b": {
      "model_module": "@jupyter-widgets/controls",
      "model_module_version": "1.5.0",
      "model_name": "ButtonStyleModel",
      "state": {}
     },
     "229a50ac6b4649af9ec14f7754450307": {
      "model_module": "@jupyter-widgets/base",
      "model_module_version": "1.2.0",
      "model_name": "LayoutModel",
      "state": {}
     },
     "2491044d3e6a4f518b8d165f74b07ddc": {
      "model_module": "@jupyter-widgets/controls",
      "model_module_version": "1.5.0",
      "model_name": "IntSliderModel",
      "state": {
       "continuous_update": false,
       "description": "Número de pontos: ",
       "layout": "IPY_MODEL_f083dab90ca54709ab30508acaec2579",
       "max": 1050,
       "min": 50,
       "step": 10,
       "style": "IPY_MODEL_118f6ea5f3db4150b135774453b51f2d",
       "value": 550
      }
     },
     "2589e80813b54535ac263f7e48b52394": {
      "model_module": "@jupyter-widgets/controls",
      "model_module_version": "1.5.0",
      "model_name": "IntSliderModel",
      "state": {
       "description": "Largura da imagem (polegadas):",
       "layout": "IPY_MODEL_c1c24061bb00459fa6bbcf55c0229f5c",
       "max": 20,
       "style": "IPY_MODEL_5d230419ea5d480da685f1397099ccd4",
       "value": 16
      }
     },
     "26170b5ea6054083bb849ec0c9f6ca8e": {
      "model_module": "@jupyter-widgets/controls",
      "model_module_version": "1.5.0",
      "model_name": "GridBoxModel",
      "state": {
       "children": [
        "IPY_MODEL_469b00fba3bc4e3fa1ea4ec0845e8561",
        "IPY_MODEL_d07772d637134f7e886d602bcc73f98e",
        "IPY_MODEL_45dbe39eb6cf4c3e87e73a0dd15cb03f",
        "IPY_MODEL_167f097d9f734531850f0e968c2c9c6d",
        "IPY_MODEL_6f92f0a743a748418e03d443ff938674",
        "IPY_MODEL_68407fc2424d4bbaaf3d5efe7d164ce5",
        "IPY_MODEL_2f1f357ee9dc45efb28f76ca4c01da10",
        "IPY_MODEL_0bff449244dc478cbff45f93bf790c12",
        "IPY_MODEL_a63183646f464a8abfd14b79abf616fa",
        "IPY_MODEL_26e9656202564fe4bce5c9cdf342d239"
       ],
       "layout": "IPY_MODEL_6e97c2bea5f945bf8e12c3af274fae12"
      }
     },
     "26df57532dab4fae85532aa78306dc81": {
      "model_module": "@jupyter-widgets/base",
      "model_module_version": "1.2.0",
      "model_name": "LayoutModel",
      "state": {}
     },
     "26e9656202564fe4bce5c9cdf342d239": {
      "model_module": "@jupyter-widgets/controls",
      "model_module_version": "1.5.0",
      "model_name": "LabelModel",
      "state": {
       "layout": "IPY_MODEL_1a9c49918faa44eda16bd381ddada5b5",
       "style": "IPY_MODEL_beb5f20b6d5841bfa9ed2ad5e33453c5",
       "value": " 550"
      }
     },
     "2718518b2bfa4a50baa3268c81889d04": {
      "model_module": "@jupyter-widgets/controls",
      "model_module_version": "1.5.0",
      "model_name": "LabelModel",
      "state": {
       "layout": "IPY_MODEL_5e2c4eebb99d422b84a3c47c4c868609",
       "style": "IPY_MODEL_ce3b62c14a584dd49480f5839cc8342d",
       "value": "3.5*(np.exp(-2*(0.1*(x/ang) + 2.75)) - 2*np.exp(-(0.1*(x/ang) + 2.75)))"
      }
     },
     "2805d7ff2fe94d82b9cfa2c88d399880": {
      "model_module": "@jupyter-widgets/controls",
      "model_module_version": "1.5.0",
      "model_name": "SliderStyleModel",
      "state": {
       "description_width": "initial"
      }
     },
     "28a9451ad6054915a4709ee252005ddf": {
      "model_module": "jupyter-matplotlib",
      "model_module_version": "^0.9.0",
      "model_name": "ToolbarModel",
      "state": {
       "layout": "IPY_MODEL_a802881ea7a64b338234a5b26cf715e4",
       "toolitems": [
        [
         "Home",
         "Reset original view",
         "home",
         "home"
        ],
        [
         "Back",
         "Back to previous view",
         "arrow-left",
         "back"
        ],
        [
         "Forward",
         "Forward to next view",
         "arrow-right",
         "forward"
        ],
        [
         "Pan",
         "Left button pans, Right button zooms\nx/y fixes axis, CTRL fixes aspect",
         "arrows",
         "pan"
        ],
        [
         "Zoom",
         "Zoom to rectangle\nx/y fixes axis, CTRL fixes aspect",
         "square-o",
         "zoom"
        ],
        [
         "Download",
         "Download plot",
         "floppy-o",
         "save_figure"
        ]
       ]
      }
     },
     "28b29d7f279d4c0a8b568ac46ef1ad0d": {
      "model_module": "@jupyter-widgets/controls",
      "model_module_version": "1.5.0",
      "model_name": "ButtonStyleModel",
      "state": {}
     },
     "29274026a0dd42629478a9d6d2a24bb5": {
      "model_module": "@jupyter-widgets/controls",
      "model_module_version": "1.5.0",
      "model_name": "FloatRangeSliderModel",
      "state": {
       "_model_name": "FloatRangeSliderModel",
       "_view_name": "FloatRangeSliderView",
       "description": "Limites do eixo y (eV):",
       "layout": "IPY_MODEL_3234ad155ea6478aa8a0c7543dde0e9d",
       "max": 10,
       "min": -10,
       "readout_format": ".1f",
       "step": 0.005,
       "style": "IPY_MODEL_43363969f6b04992b1548dd61dfd987a",
       "value": [
        -2,
        2
       ]
      }
     },
     "29786d297e11420084acf3771b69410d": {
      "model_module": "@jupyter-widgets/controls",
      "model_module_version": "1.5.0",
      "model_name": "LabelModel",
      "state": {
       "layout": "IPY_MODEL_40cd17dbc1884afa9a24a7b87e42a2a1",
       "style": "IPY_MODEL_0e4f4afaabc642a9819bc2ac9ad35710",
       "value": "Número de pontos ="
      }
     },
     "2a9c3ab084774465b8fdea611e0d7746": {
      "model_module": "@jupyter-widgets/controls",
      "model_module_version": "1.5.0",
      "model_name": "DescriptionStyleModel",
      "state": {
       "description_width": ""
      }
     },
     "2acf16f391ed43a4977856ea6a532d10": {
      "model_module": "@jupyter-widgets/base",
      "model_module_version": "1.2.0",
      "model_name": "LayoutModel",
      "state": {}
     },
     "2b42717a8d384107a71000ea0af27798": {
      "model_module": "@jupyter-widgets/base",
      "model_module_version": "1.2.0",
      "model_name": "LayoutModel",
      "state": {}
     },
     "2c76f9ea481d45a999b253bc21f355e9": {
      "model_module": "jupyter-matplotlib",
      "model_module_version": "^0.9.0",
      "model_name": "MPLCanvasModel",
      "state": {
       "_cursor": "default",
       "_figure_label": "Figure 8",
       "_height": 1539,
       "_image_mode": "diff",
       "_width": 2736,
       "layout": "IPY_MODEL_c3512ad5c7034300961fbfe0a99412fd",
       "toolbar": "IPY_MODEL_e575bdd1c9864a97a9f71a5d62343bd8",
       "toolbar_position": "left"
      }
     },
     "2c82af04c821439c8abebd6a799ff601": {
      "model_module": "@jupyter-widgets/base",
      "model_module_version": "1.2.0",
      "model_name": "LayoutModel",
      "state": {}
     },
     "2e825a66a2a04dcf9ac46bdc16858d7b": {
      "model_module": "@jupyter-widgets/controls",
      "model_module_version": "1.5.0",
      "model_name": "ButtonModel",
      "state": {
       "description": "Diagonalizar",
       "layout": "IPY_MODEL_3f7d38e2ca2b4f07b48f33e657b2f908",
       "style": "IPY_MODEL_995e2c0a95fc4aef80e3d69c642e990e"
      }
     },
     "2f1f357ee9dc45efb28f76ca4c01da10": {
      "model_module": "@jupyter-widgets/controls",
      "model_module_version": "1.5.0",
      "model_name": "LabelModel",
      "state": {
       "layout": "IPY_MODEL_d760284ec46a4de3977acd922c7a1800",
       "style": "IPY_MODEL_3a4df0ed586a40d1b29c7cd1c0873fc7",
       "value": "Expressão V(x) ="
      }
     },
     "2fa3789938ce4a50bfff25908f71283d": {
      "model_module": "@jupyter-widgets/base",
      "model_module_version": "1.2.0",
      "model_name": "LayoutModel",
      "state": {}
     },
     "2fc749eff5b4464ea2487a0dd9c9017e": {
      "model_module": "@jupyter-widgets/controls",
      "model_module_version": "1.5.0",
      "model_name": "GridBoxModel",
      "state": {
       "children": [
        "IPY_MODEL_9fb1e18296f64aa684d97af50b3c4e0d",
        "IPY_MODEL_05609d71e67b4d738a7b689e34cd42c7",
        "IPY_MODEL_e871ee1c310c47d5a8d31f86a202fed7",
        "IPY_MODEL_7cc71bdc1bcc4e5b95a8408db480362b",
        "IPY_MODEL_f08ee1cf76e844deb4ac4016e0d2d063",
        "IPY_MODEL_a2e64572730640edbb2958a5575a2c41",
        "IPY_MODEL_fc6d3fe69d584ba4bddef033f6a83a92",
        "IPY_MODEL_2718518b2bfa4a50baa3268c81889d04",
        "IPY_MODEL_f4b7494c33b04299afa6fb0edf7c3e0c",
        "IPY_MODEL_06f41d778ffc4ff5befce81587f9a5f8"
       ],
       "layout": "IPY_MODEL_73f7788b506b4e6ba56bcbb6adde31e3"
      }
     },
     "2ff3b0aff4a34953847259733802bc3a": {
      "model_module": "@jupyter-widgets/controls",
      "model_module_version": "1.5.0",
      "model_name": "ButtonStyleModel",
      "state": {}
     },
     "3212ecbf5834470b8c8c9aeb73261f90": {
      "model_module": "jupyter-matplotlib",
      "model_module_version": "^0.9.0",
      "model_name": "ToolbarModel",
      "state": {
       "layout": "IPY_MODEL_97364455a38947fe9ae2f7c045e13046",
       "toolitems": [
        [
         "Home",
         "Reset original view",
         "home",
         "home"
        ],
        [
         "Back",
         "Back to previous view",
         "arrow-left",
         "back"
        ],
        [
         "Forward",
         "Forward to next view",
         "arrow-right",
         "forward"
        ],
        [
         "Pan",
         "Left button pans, Right button zooms\nx/y fixes axis, CTRL fixes aspect",
         "arrows",
         "pan"
        ],
        [
         "Zoom",
         "Zoom to rectangle\nx/y fixes axis, CTRL fixes aspect",
         "square-o",
         "zoom"
        ],
        [
         "Download",
         "Download plot",
         "floppy-o",
         "save_figure"
        ]
       ]
      }
     },
     "3234ad155ea6478aa8a0c7543dde0e9d": {
      "model_module": "@jupyter-widgets/base",
      "model_module_version": "1.2.0",
      "model_name": "LayoutModel",
      "state": {
       "display": "flex",
       "width": "90%"
      }
     },
     "337fa51d460a41a7bce73b74ca966c04": {
      "model_module": "@jupyter-widgets/controls",
      "model_module_version": "1.5.0",
      "model_name": "VBoxModel",
      "state": {
       "children": [
        "IPY_MODEL_2fc749eff5b4464ea2487a0dd9c9017e",
        "IPY_MODEL_0ff1a9855dea46dfb16a890ec55ee860"
       ],
       "layout": "IPY_MODEL_b40f48e5038a4747bf25202f0020a313"
      }
     },
     "339b93fa9c6b4d7eb09632bb22c5fcaa": {
      "model_module": "jupyter-matplotlib",
      "model_module_version": "^0.9.0",
      "model_name": "ToolbarModel",
      "state": {
       "layout": "IPY_MODEL_38ad0b17517a48e6821da8f4371f965b",
       "toolitems": [
        [
         "Home",
         "Reset original view",
         "home",
         "home"
        ],
        [
         "Back",
         "Back to previous view",
         "arrow-left",
         "back"
        ],
        [
         "Forward",
         "Forward to next view",
         "arrow-right",
         "forward"
        ],
        [
         "Pan",
         "Left button pans, Right button zooms\nx/y fixes axis, CTRL fixes aspect",
         "arrows",
         "pan"
        ],
        [
         "Zoom",
         "Zoom to rectangle\nx/y fixes axis, CTRL fixes aspect",
         "square-o",
         "zoom"
        ],
        [
         "Download",
         "Download plot",
         "floppy-o",
         "save_figure"
        ]
       ]
      }
     },
     "33c703f47cab4211835b5fc4a76d26e8": {
      "model_module": "@jupyter-widgets/controls",
      "model_module_version": "1.5.0",
      "model_name": "SliderStyleModel",
      "state": {
       "description_width": "initial"
      }
     },
     "33e7f6ae8f004b2bb4889349f3a41ad5": {
      "model_module": "@jupyter-widgets/base",
      "model_module_version": "1.2.0",
      "model_name": "LayoutModel",
      "state": {}
     },
     "36ac54666345425cac157ce6de3bdb46": {
      "model_module": "@jupyter-widgets/base",
      "model_module_version": "1.2.0",
      "model_name": "LayoutModel",
      "state": {
       "grid_template_columns": "repeat(auto-fill, 180px)"
      }
     },
     "37425ea277f44239adfd356f1001a6c1": {
      "model_module": "@jupyter-widgets/controls",
      "model_module_version": "1.5.0",
      "model_name": "SliderStyleModel",
      "state": {
       "description_width": "initial"
      }
     },
     "377bd6a4668d4349862b4302fdfc0042": {
      "model_module": "@jupyter-widgets/controls",
      "model_module_version": "1.5.0",
      "model_name": "DescriptionStyleModel",
      "state": {
       "description_width": ""
      }
     },
     "38ad0b17517a48e6821da8f4371f965b": {
      "model_module": "@jupyter-widgets/base",
      "model_module_version": "1.2.0",
      "model_name": "LayoutModel",
      "state": {}
     },
     "39073230e0af4a5c8df6aa8a3c6b4720": {
      "model_module": "@jupyter-widgets/controls",
      "model_module_version": "1.5.0",
      "model_name": "VBoxModel",
      "state": {
       "children": [
        "IPY_MODEL_1a55ff7cf41349b6849c96f997865696",
        "IPY_MODEL_2e825a66a2a04dcf9ac46bdc16858d7b"
       ],
       "layout": "IPY_MODEL_e29926154e2c452bb650e99148dc15d5"
      }
     },
     "39836891977446a3900565078998f4b1": {
      "model_module": "@jupyter-widgets/controls",
      "model_module_version": "1.5.0",
      "model_name": "ButtonModel",
      "state": {
       "description": "Duffing Holmes (+)",
       "layout": "IPY_MODEL_bb8d6d2fcc5a4b6f93e02412cd834813",
       "style": "IPY_MODEL_54ac60cfd03b40d7b27ac0fe576e21ef"
      }
     },
     "3a4df0ed586a40d1b29c7cd1c0873fc7": {
      "model_module": "@jupyter-widgets/controls",
      "model_module_version": "1.5.0",
      "model_name": "DescriptionStyleModel",
      "state": {
       "description_width": ""
      }
     },
     "3b17bb449ef74ac8a1f1fe6cf324a16e": {
      "model_module": "@jupyter-widgets/controls",
      "model_module_version": "1.5.0",
      "model_name": "IntSliderModel",
      "state": {
       "description": "Pixels por polegada:",
       "layout": "IPY_MODEL_f083dab90ca54709ab30508acaec2579",
       "max": 300,
       "min": 10,
       "style": "IPY_MODEL_a910907eaa6948baa6c9509b0d4adea6",
       "value": 80
      }
     },
     "3cc53d80167d4ece8313628b52a2e37d": {
      "model_module": "@jupyter-widgets/base",
      "model_module_version": "1.2.0",
      "model_name": "LayoutModel",
      "state": {}
     },
     "3d41da9a2e2f4b82afee47e641b679ef": {
      "model_module": "@jupyter-widgets/base",
      "model_module_version": "1.2.0",
      "model_name": "LayoutModel",
      "state": {}
     },
     "3d689fae2fdb410aab5239165fbb8bc7": {
      "model_module": "@jupyter-widgets/controls",
      "model_module_version": "1.5.0",
      "model_name": "ButtonModel",
      "state": {
       "description": "Duffing Holmes (-)",
       "layout": "IPY_MODEL_4e1e390a461b4d0d8c332bc7ab7cebcb",
       "style": "IPY_MODEL_ccba57c4bc734b3384c45eaabe73e20b"
      }
     },
     "3d910233223f41b2a81dd35fa19739f9": {
      "model_module": "@jupyter-widgets/controls",
      "model_module_version": "1.5.0",
      "model_name": "SliderStyleModel",
      "state": {
       "description_width": "initial"
      }
     },
     "3f7d38e2ca2b4f07b48f33e657b2f908": {
      "model_module": "@jupyter-widgets/base",
      "model_module_version": "1.2.0",
      "model_name": "LayoutModel",
      "state": {}
     },
     "3fb8736b76dd4e9a907569c9998e00bc": {
      "model_module": "@jupyter-widgets/base",
      "model_module_version": "1.2.0",
      "model_name": "LayoutModel",
      "state": {}
     },
     "40965ee6ab9f4e7894c7b5d9c0eb615d": {
      "model_module": "@jupyter-widgets/controls",
      "model_module_version": "1.5.0",
      "model_name": "IntSliderModel",
      "state": {
       "description": "Largura da imagem (polegadas):",
       "layout": "IPY_MODEL_3234ad155ea6478aa8a0c7543dde0e9d",
       "max": 20,
       "style": "IPY_MODEL_0a214bf1c8b34f33836f688f657c1f36",
       "value": 16
      }
     },
     "40a6010079024993ac65a719faa83232": {
      "model_module": "@jupyter-widgets/base",
      "model_module_version": "1.2.0",
      "model_name": "LayoutModel",
      "state": {}
     },
     "40cd17dbc1884afa9a24a7b87e42a2a1": {
      "model_module": "@jupyter-widgets/base",
      "model_module_version": "1.2.0",
      "model_name": "LayoutModel",
      "state": {}
     },
     "41e744de384a425cbb00b6d5b6a3f0b6": {
      "model_module": "@jupyter-widgets/controls",
      "model_module_version": "1.5.0",
      "model_name": "SliderStyleModel",
      "state": {
       "description_width": "initial"
      }
     },
     "423d09f36f874b9eaf2da2101cde0e6b": {
      "model_module": "@jupyter-widgets/base",
      "model_module_version": "1.2.0",
      "model_name": "LayoutModel",
      "state": {}
     },
     "42a543527abd487695ec1743d81619e6": {
      "model_module": "@jupyter-widgets/controls",
      "model_module_version": "1.5.0",
      "model_name": "ButtonStyleModel",
      "state": {}
     },
     "43363969f6b04992b1548dd61dfd987a": {
      "model_module": "@jupyter-widgets/controls",
      "model_module_version": "1.5.0",
      "model_name": "SliderStyleModel",
      "state": {
       "description_width": "initial"
      }
     },
     "440257d2a6884737866c44a46ce96522": {
      "model_module": "@jupyter-widgets/controls",
      "model_module_version": "1.5.0",
      "model_name": "IntSliderModel",
      "state": {
       "continuous_update": false,
       "description": "Número de pontos: ",
       "layout": "IPY_MODEL_c1c24061bb00459fa6bbcf55c0229f5c",
       "max": 1050,
       "min": 50,
       "step": 10,
       "style": "IPY_MODEL_e1c5e9648d674c0e9f074fa9fe4fd526",
       "value": 550
      }
     },
     "44d1199ffbe8426eb43a44567375df86": {
      "model_module": "@jupyter-widgets/controls",
      "model_module_version": "1.5.0",
      "model_name": "SliderStyleModel",
      "state": {
       "description_width": "initial"
      }
     },
     "45dbe39eb6cf4c3e87e73a0dd15cb03f": {
      "model_module": "@jupyter-widgets/controls",
      "model_module_version": "1.5.0",
      "model_name": "LabelModel",
      "state": {
       "layout": "IPY_MODEL_e33ed0cc280d4030a37680262fc8dbec",
       "style": "IPY_MODEL_e0645460b69448438384a96956d49dfd",
       "value": "Largura do domínio (angstroms) ="
      }
     },
     "469b00fba3bc4e3fa1ea4ec0845e8561": {
      "model_module": "@jupyter-widgets/controls",
      "model_module_version": "1.5.0",
      "model_name": "LabelModel",
      "state": {
       "layout": "IPY_MODEL_155e4455f3a94da4bd72d56497215f65",
       "style": "IPY_MODEL_791af8e901c540c88bad7a762d8fcb89",
       "value": "Passo $\\Delta x $ (angstroms) ="
      }
     },
     "478421682640444aba7568a8bc963857": {
      "model_module": "@jupyter-widgets/controls",
      "model_module_version": "1.5.0",
      "model_name": "ButtonModel",
      "state": {
       "description": "Poço Triangular",
       "layout": "IPY_MODEL_c6bc2a99c201440582702d7ddd0accea",
       "style": "IPY_MODEL_83b538f9283644c9b235ec3ca3ce7612"
      }
     },
     "4795ffb94dac4df49593b32345394ad6": {
      "model_module": "@jupyter-widgets/controls",
      "model_module_version": "1.5.0",
      "model_name": "ButtonModel",
      "state": {
       "description": "Lennard Jones",
       "layout": "IPY_MODEL_16a3432dd5d04d359bb2ab66b0798d11",
       "style": "IPY_MODEL_626e1303fa2849faad67fa6e97733b61"
      }
     },
     "4943dfab174743c7a1e261e773b26f51": {
      "model_module": "@jupyter-widgets/controls",
      "model_module_version": "1.5.0",
      "model_name": "ButtonModel",
      "state": {
       "description": "Campo Uniforme (+)",
       "layout": "IPY_MODEL_f85a2c193c0d4f0b943855d3609e6c25",
       "style": "IPY_MODEL_a2b1fcedc2034e30a73a475c28f236cb"
      }
     },
     "4974ad77309042eb90f6a69a6575c757": {
      "model_module": "@jupyter-widgets/base",
      "model_module_version": "1.2.0",
      "model_name": "LayoutModel",
      "state": {}
     },
     "498cc0bd9b564817800b4d9eae578751": {
      "model_module": "@jupyter-widgets/controls",
      "model_module_version": "1.5.0",
      "model_name": "ButtonModel",
      "state": {
       "description": "Duffing Holmes (+)",
       "layout": "IPY_MODEL_86a99f20a33e4f88b0af723a53e2d3ab",
       "style": "IPY_MODEL_8620f9e599264afba7020dbc294bb627"
      }
     },
     "4ba89b1fd4bc4212b06c5bc55449a5bc": {
      "model_module": "@jupyter-widgets/controls",
      "model_module_version": "1.5.0",
      "model_name": "DescriptionStyleModel",
      "state": {
       "description_width": "initial"
      }
     },
     "4bbc78248d7c43da91f1b6a69bec48bb": {
      "model_module": "@jupyter-widgets/base",
      "model_module_version": "1.2.0",
      "model_name": "LayoutModel",
      "state": {}
     },
     "4c8d777900ea4a0a860496af167b362c": {
      "model_module": "@jupyter-widgets/base",
      "model_module_version": "1.2.0",
      "model_name": "LayoutModel",
      "state": {
       "grid_template_columns": "repeat(auto-fill, 180px)"
      }
     },
     "4c8ede8684184af7a164ff990069dd35": {
      "model_module": "@jupyter-widgets/base",
      "model_module_version": "1.2.0",
      "model_name": "LayoutModel",
      "state": {}
     },
     "4dbc25d93c5a45ec8b0a9fd0399d882e": {
      "model_module": "@jupyter-widgets/base",
      "model_module_version": "1.2.0",
      "model_name": "LayoutModel",
      "state": {}
     },
     "4e1e390a461b4d0d8c332bc7ab7cebcb": {
      "model_module": "@jupyter-widgets/base",
      "model_module_version": "1.2.0",
      "model_name": "LayoutModel",
      "state": {}
     },
     "4e6529a9cb8d4202b19025207f0f279a": {
      "model_module": "jupyter-matplotlib",
      "model_module_version": "^0.9.0",
      "model_name": "MPLCanvasModel",
      "state": {
       "_cursor": "default",
       "_figure_label": "Figure 10",
       "_height": 989,
       "_image_mode": "diff",
       "_width": 1760,
       "layout": "IPY_MODEL_aee68d495ff746d597bcb72b7689ef0c",
       "toolbar": "IPY_MODEL_0ee8c0fbe62b49ef9cee656c9d43352f",
       "toolbar_position": "left"
      }
     },
     "4eabce86c55944c791aef41f63b38ea8": {
      "model_module": "@jupyter-widgets/base",
      "model_module_version": "1.2.0",
      "model_name": "LayoutModel",
      "state": {}
     },
     "52a6cbc6e6d444b5a2934f3dad389c58": {
      "model_module": "@jupyter-widgets/controls",
      "model_module_version": "1.5.0",
      "model_name": "ButtonModel",
      "state": {
       "description": "Oscilador Harmônico",
       "layout": "IPY_MODEL_5c14f8d84b2a46038fdba30ee0190837",
       "style": "IPY_MODEL_ba44718be5e14d72be72c3c3b6767ab5"
      }
     },
     "5441011ca4254e17abee8bd9c817a17b": {
      "model_module": "@jupyter-widgets/controls",
      "model_module_version": "1.5.0",
      "model_name": "SliderStyleModel",
      "state": {
       "description_width": "initial"
      }
     },
     "54ac60cfd03b40d7b27ac0fe576e21ef": {
      "model_module": "@jupyter-widgets/controls",
      "model_module_version": "1.5.0",
      "model_name": "ButtonStyleModel",
      "state": {}
     },
     "54c4c5b3449f40f9b239251d359001c1": {
      "model_module": "@jupyter-widgets/controls",
      "model_module_version": "1.5.0",
      "model_name": "VBoxModel",
      "state": {
       "children": [
        "IPY_MODEL_6187ede1c4b748fda03535f2fe6c8914",
        "IPY_MODEL_6fbd0cfa0c134f6a83babcc8157cd001",
        "IPY_MODEL_6623d2251a5a4bd8ada22f0e182f1f64"
       ],
       "layout": "IPY_MODEL_d8161fd060094e79b98431ace7bc8219"
      }
     },
     "552e5c4bca68485fb1103cfcea977ee0": {
      "model_module": "@jupyter-widgets/controls",
      "model_module_version": "1.5.0",
      "model_name": "DescriptionStyleModel",
      "state": {
       "description_width": ""
      }
     },
     "559eee9a83f547ba849c7f8ad35f41f4": {
      "model_module": "@jupyter-widgets/controls",
      "model_module_version": "1.5.0",
      "model_name": "ButtonStyleModel",
      "state": {}
     },
     "55cb8a7235074b5d83757b9e8f1b2986": {
      "model_module": "@jupyter-widgets/controls",
      "model_module_version": "1.5.0",
      "model_name": "GridBoxModel",
      "state": {
       "children": [
        "IPY_MODEL_12ccb12216d34bc49f46a601917fdd18",
        "IPY_MODEL_682d4da42b324410889174e15f12afe6",
        "IPY_MODEL_8dac6b98e2ef49d283adde15e077805c",
        "IPY_MODEL_6a0b2d0af0614a35b94a7f89d8a50fda",
        "IPY_MODEL_52a6cbc6e6d444b5a2934f3dad389c58",
        "IPY_MODEL_498cc0bd9b564817800b4d9eae578751",
        "IPY_MODEL_3d689fae2fdb410aab5239165fbb8bc7",
        "IPY_MODEL_e0d42c42f20e4682a7fa445c4c6f57a5",
        "IPY_MODEL_b2ea2abdc7cf45ddad02ad08578a71c1",
        "IPY_MODEL_19305e54ccf44302b67a8a8120831191"
       ],
       "layout": "IPY_MODEL_36ac54666345425cac157ce6de3bdb46"
      }
     },
     "5668ed274293481ca2a1bafcd4a42827": {
      "model_module": "@jupyter-widgets/controls",
      "model_module_version": "1.5.0",
      "model_name": "ButtonModel",
      "state": {
       "description": "Gerar",
       "layout": "IPY_MODEL_3fb8736b76dd4e9a907569c9998e00bc",
       "style": "IPY_MODEL_71fe9254d583426e8afdea58bee5f524"
      }
     },
     "56bfbd8aec0140ef9110db74c7ffc7e7": {
      "model_module": "@jupyter-widgets/controls",
      "model_module_version": "1.5.0",
      "model_name": "GridBoxModel",
      "state": {
       "children": [
        "IPY_MODEL_b8d4e35c27b04b1f8e337883e7d6f33e",
        "IPY_MODEL_b26a9d8991814a30b07d2932bb72fcc8",
        "IPY_MODEL_90c8b9cd91ad4f66879337b6df04cd54",
        "IPY_MODEL_5774db6ee5394f8390b1acc51cd7569e",
        "IPY_MODEL_1b3b184e78c545199ff8002caca5e677",
        "IPY_MODEL_9464d5a2dbd24af194316d522aad1dc2",
        "IPY_MODEL_cdd2d14e660142cdac49813708178f84",
        "IPY_MODEL_c655873c1af84f0d9439815d48bc8040",
        "IPY_MODEL_d346510f122542ceaf0b404c6a5feb5f",
        "IPY_MODEL_d8d7b08b044f43c58470fdb39a3c3952"
       ],
       "layout": "IPY_MODEL_8911b6ac9b1944f79a4493796e704756"
      }
     },
     "56f092453dc84b5fbce74a12603c6cdc": {
      "model_module": "@jupyter-widgets/base",
      "model_module_version": "1.2.0",
      "model_name": "LayoutModel",
      "state": {}
     },
     "5774db6ee5394f8390b1acc51cd7569e": {
      "model_module": "@jupyter-widgets/controls",
      "model_module_version": "1.5.0",
      "model_name": "ButtonModel",
      "state": {
       "description": "Campo Uniforme (-)",
       "layout": "IPY_MODEL_1c71f5ca7a7544bdb7d82cec92440aea",
       "style": "IPY_MODEL_611c3390c2674ac0927749751f521617"
      }
     },
     "579a3a7e4c8b4d7fbee946c7cb707379": {
      "model_module": "@jupyter-widgets/controls",
      "model_module_version": "1.5.0",
      "model_name": "FloatRangeSliderModel",
      "state": {
       "_model_name": "FloatRangeSliderModel",
       "_view_name": "FloatRangeSliderView",
       "description": "Limites do eixo y (eV):",
       "layout": "IPY_MODEL_c1c24061bb00459fa6bbcf55c0229f5c",
       "max": 10,
       "min": -10,
       "readout_format": ".1f",
       "step": 0.005,
       "style": "IPY_MODEL_adbcd09e992c48f9b37fce2009102428",
       "value": [
        -9.59,
        6.61
       ]
      }
     },
     "58e3f64fda664271ba7025d3ba9d33ad": {
      "model_module": "@jupyter-widgets/base",
      "model_module_version": "1.2.0",
      "model_name": "LayoutModel",
      "state": {}
     },
     "599f9eebdd2744fcba3a033f1b53ade5": {
      "model_module": "@jupyter-widgets/controls",
      "model_module_version": "1.5.0",
      "model_name": "CheckboxModel",
      "state": {
       "description": "Auto limitar eixo y",
       "disabled": false,
       "layout": "IPY_MODEL_3cc53d80167d4ece8313628b52a2e37d",
       "style": "IPY_MODEL_f6c1adfa4be34751b57e8aedfe6f569c",
       "value": true
      }
     },
     "59a7b946e64546aaaa11eecbc93699c5": {
      "model_module": "@jupyter-widgets/controls",
      "model_module_version": "1.5.0",
      "model_name": "TextModel",
      "state": {
       "description": "Expressão de $V(x)$: ",
       "layout": "IPY_MODEL_c1c24061bb00459fa6bbcf55c0229f5c",
       "placeholder": "Escreva a expressão aqui.",
       "style": "IPY_MODEL_e094172c15dd4441a95ded3a05dda150",
       "value": "-4*(np.cosh(0.1*x/ang)**(-2))"
      }
     },
     "5a1149181e0d494d8f181a4588a8a991": {
      "model_module": "@jupyter-widgets/base",
      "model_module_version": "1.2.0",
      "model_name": "LayoutModel",
      "state": {}
     },
     "5b024d4545b24d49b2a7326f59045aab": {
      "model_module": "@jupyter-widgets/controls",
      "model_module_version": "1.5.0",
      "model_name": "ButtonStyleModel",
      "state": {}
     },
     "5b39de690afb4d44b906d4cdcb7fbb91": {
      "model_module": "@jupyter-widgets/base",
      "model_module_version": "1.2.0",
      "model_name": "LayoutModel",
      "state": {}
     },
     "5b4a172d1ad04d1fa61127fc7304429e": {
      "model_module": "@jupyter-widgets/controls",
      "model_module_version": "1.5.0",
      "model_name": "DescriptionStyleModel",
      "state": {
       "description_width": ""
      }
     },
     "5c14f8d84b2a46038fdba30ee0190837": {
      "model_module": "@jupyter-widgets/base",
      "model_module_version": "1.2.0",
      "model_name": "LayoutModel",
      "state": {}
     },
     "5c90823d723043509b80168df2f96241": {
      "model_module": "@jupyter-widgets/controls",
      "model_module_version": "1.5.0",
      "model_name": "SliderStyleModel",
      "state": {
       "description_width": "initial"
      }
     },
     "5cb7574083a744fca0565f2724f7164a": {
      "model_module": "@jupyter-widgets/controls",
      "model_module_version": "1.5.0",
      "model_name": "IntSliderModel",
      "state": {
       "description": "Altura da imagem (polegadas): ",
       "layout": "IPY_MODEL_c1c24061bb00459fa6bbcf55c0229f5c",
       "max": 20,
       "style": "IPY_MODEL_a5119dcec06f4a08a5d1894fe717b04f",
       "value": 9
      }
     },
     "5d230419ea5d480da685f1397099ccd4": {
      "model_module": "@jupyter-widgets/controls",
      "model_module_version": "1.5.0",
      "model_name": "SliderStyleModel",
      "state": {
       "description_width": "initial"
      }
     },
     "5d55161bd02444b08aa4f9f92b0bb845": {
      "model_module": "@jupyter-widgets/base",
      "model_module_version": "1.2.0",
      "model_name": "LayoutModel",
      "state": {}
     },
     "5e2c4eebb99d422b84a3c47c4c868609": {
      "model_module": "@jupyter-widgets/base",
      "model_module_version": "1.2.0",
      "model_name": "LayoutModel",
      "state": {}
     },
     "5e34300d03904b099940560f6f0cd4f7": {
      "model_module": "@jupyter-widgets/base",
      "model_module_version": "1.2.0",
      "model_name": "LayoutModel",
      "state": {}
     },
     "5f6161d00f2a40a79b1b08edf34a4c7c": {
      "model_module": "@jupyter-widgets/controls",
      "model_module_version": "1.5.0",
      "model_name": "DropdownModel",
      "state": {
       "_options_labels": [
        "densidades de probabilidades",
        "funções de onda (parte real, +)",
        "funções de onda (parte imaginária)"
       ],
       "description": "Plotar as",
       "index": 0,
       "layout": "IPY_MODEL_2c82af04c821439c8abebd6a799ff601",
       "style": "IPY_MODEL_63461b46c7cc4571b5284f6e2559fab2"
      }
     },
     "609fea27444f47ec91a8ed9a2679fd03": {
      "model_module": "@jupyter-widgets/base",
      "model_module_version": "1.2.0",
      "model_name": "LayoutModel",
      "state": {}
     },
     "60ee338ef6e54855a0a72e6ff3bba638": {
      "model_module": "@jupyter-widgets/controls",
      "model_module_version": "1.5.0",
      "model_name": "ButtonModel",
      "state": {
       "description": "Campo Uniforme (-)",
       "layout": "IPY_MODEL_71465a529f4949d4ad8aa2818a8ecf98",
       "style": "IPY_MODEL_f4d69b0f913c4b3781bea5a71e6f440d"
      }
     },
     "611c3390c2674ac0927749751f521617": {
      "model_module": "@jupyter-widgets/controls",
      "model_module_version": "1.5.0",
      "model_name": "ButtonStyleModel",
      "state": {}
     },
     "6127bdbeef344087a305ed24bfa1a154": {
      "model_module": "@jupyter-widgets/base",
      "model_module_version": "1.2.0",
      "model_name": "LayoutModel",
      "state": {}
     },
     "6187ede1c4b748fda03535f2fe6c8914": {
      "model_module": "@jupyter-widgets/controls",
      "model_module_version": "1.5.0",
      "model_name": "AccordionModel",
      "state": {
       "_titles": {
        "0": "Potenciais pré definidos"
       },
       "children": [
        "IPY_MODEL_56bfbd8aec0140ef9110db74c7ffc7e7"
       ],
       "layout": "IPY_MODEL_bb68e227dc3140dbae459416083b17ab"
      }
     },
     "626e1303fa2849faad67fa6e97733b61": {
      "model_module": "@jupyter-widgets/controls",
      "model_module_version": "1.5.0",
      "model_name": "ButtonStyleModel",
      "state": {}
     },
     "63461b46c7cc4571b5284f6e2559fab2": {
      "model_module": "@jupyter-widgets/controls",
      "model_module_version": "1.5.0",
      "model_name": "DescriptionStyleModel",
      "state": {
       "description_width": "initial"
      }
     },
     "63995885fdaa47a69f1aad72274a096b": {
      "model_module": "@jupyter-widgets/base",
      "model_module_version": "1.2.0",
      "model_name": "LayoutModel",
      "state": {
       "grid_template_columns": "repeat(2, 250px)"
      }
     },
     "6461f10be46e46e8bf01f811454882f4": {
      "model_module": "@jupyter-widgets/base",
      "model_module_version": "1.2.0",
      "model_name": "LayoutModel",
      "state": {}
     },
     "6470155392674288a5556a52d8e65499": {
      "model_module": "@jupyter-widgets/controls",
      "model_module_version": "1.5.0",
      "model_name": "ButtonStyleModel",
      "state": {}
     },
     "64c2a48f36c34f0c82496fa51b39fb91": {
      "model_module": "@jupyter-widgets/controls",
      "model_module_version": "1.5.0",
      "model_name": "ButtonStyleModel",
      "state": {}
     },
     "65120fac88f241898440230725703cf4": {
      "model_module": "@jupyter-widgets/controls",
      "model_module_version": "1.5.0",
      "model_name": "SliderStyleModel",
      "state": {
       "description_width": "initial"
      }
     },
     "652e46ad6b17412db3f6a0884b1b2e05": {
      "model_module": "@jupyter-widgets/controls",
      "model_module_version": "1.5.0",
      "model_name": "ButtonModel",
      "state": {
       "description": "Poço Infinito",
       "layout": "IPY_MODEL_02c3b75695c24947b11183c0bdebcaa3",
       "style": "IPY_MODEL_21153bdc98104a599f41d39df250661b"
      }
     },
     "657b3483a1b3480e83907f673a1bcfa5": {
      "model_module": "@jupyter-widgets/controls",
      "model_module_version": "1.5.0",
      "model_name": "ButtonStyleModel",
      "state": {}
     },
     "6623d2251a5a4bd8ada22f0e182f1f64": {
      "model_module": "@jupyter-widgets/controls",
      "model_module_version": "1.5.0",
      "model_name": "AccordionModel",
      "state": {
       "_titles": {
        "0": "Diagonalizar/Informações"
       },
       "children": [
        "IPY_MODEL_337fa51d460a41a7bce73b74ca966c04"
       ],
       "layout": "IPY_MODEL_6461f10be46e46e8bf01f811454882f4"
      }
     },
     "669c987bcab14d398873d33f2487a4ae": {
      "model_module": "@jupyter-widgets/controls",
      "model_module_version": "1.5.0",
      "model_name": "DescriptionStyleModel",
      "state": {
       "description_width": ""
      }
     },
     "66bfa91dccc741f085a6d4cc804cacb2": {
      "model_module": "@jupyter-widgets/controls",
      "model_module_version": "1.5.0",
      "model_name": "DescriptionStyleModel",
      "state": {
       "description_width": "initial"
      }
     },
     "66ef3b18ade047cbbec634033de1a225": {
      "model_module": "@jupyter-widgets/controls",
      "model_module_version": "1.5.0",
      "model_name": "DescriptionStyleModel",
      "state": {
       "description_width": ""
      }
     },
     "678682dd068d4ff9a45ffa184d269cb4": {
      "model_module": "@jupyter-widgets/base",
      "model_module_version": "1.2.0",
      "model_name": "LayoutModel",
      "state": {}
     },
     "682d4da42b324410889174e15f12afe6": {
      "model_module": "@jupyter-widgets/controls",
      "model_module_version": "1.5.0",
      "model_name": "ButtonModel",
      "state": {
       "description": "Poço Triangular",
       "layout": "IPY_MODEL_e8f685cc07564e74a473fdad1540b544",
       "style": "IPY_MODEL_2ff3b0aff4a34953847259733802bc3a"
      }
     },
     "68407fc2424d4bbaaf3d5efe7d164ce5": {
      "model_module": "@jupyter-widgets/controls",
      "model_module_version": "1.5.0",
      "model_name": "LabelModel",
      "state": {
       "layout": "IPY_MODEL_02d57cce1b28476d927a2bead6df8b32",
       "style": "IPY_MODEL_0337eb92ba124f5dbb8bd3b48d70f163",
       "value": "[-3.99984 , 0.00000]"
      }
     },
     "686af36d6bc54b039085e0dc412bd960": {
      "model_module": "@jupyter-widgets/controls",
      "model_module_version": "1.5.0",
      "model_name": "DescriptionStyleModel",
      "state": {
       "description_width": ""
      }
     },
     "69e586f88da34a93ae54c598a4f2ea24": {
      "model_module": "@jupyter-widgets/output",
      "model_module_version": "1.0.0",
      "model_name": "OutputModel",
      "state": {
       "layout": "IPY_MODEL_3d41da9a2e2f4b82afee47e641b679ef",
       "outputs": [
        {
         "data": {
          "image/png": "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\n",
          "text/plain": "<Figure size 864x576 with 1 Axes>"
         },
         "metadata": {
          "needs_background": "light"
         },
         "output_type": "display_data"
        }
       ]
      }
     },
     "6a0b2d0af0614a35b94a7f89d8a50fda": {
      "model_module": "@jupyter-widgets/controls",
      "model_module_version": "1.5.0",
      "model_name": "ButtonModel",
      "state": {
       "description": "Campo Uniforme (-)",
       "layout": "IPY_MODEL_efc96b11c2e84e1c95d5cf6fa77bf13a",
       "style": "IPY_MODEL_6470155392674288a5556a52d8e65499"
      }
     },
     "6aead5be3a2d49e794c6f25b5403ffb9": {
      "model_module": "@jupyter-widgets/controls",
      "model_module_version": "1.5.0",
      "model_name": "ButtonStyleModel",
      "state": {}
     },
     "6b2fbad32cab4ae196d174270f124f96": {
      "model_module": "@jupyter-widgets/controls",
      "model_module_version": "1.5.0",
      "model_name": "VBoxModel",
      "state": {
       "_dom_classes": [
        "widget-interact"
       ],
       "children": [
        "IPY_MODEL_a484838543ee4c4a92f54d18a6d9ad2f",
        "IPY_MODEL_a96c7b9f260e4d23b9725e0c7f027580",
        "IPY_MODEL_5f6161d00f2a40a79b1b08edf34a4c7c",
        "IPY_MODEL_40965ee6ab9f4e7894c7b5d9c0eb615d",
        "IPY_MODEL_a266e373ae87404391db78266b3c8ebd",
        "IPY_MODEL_e23d0ecdeb3a4150aef17762fb1b4c60",
        "IPY_MODEL_29274026a0dd42629478a9d6d2a24bb5",
        "IPY_MODEL_f4f5b1d40a514d1a9070be8d681a8573",
        "IPY_MODEL_a4536fd51483454e9f94706afc3b0e74",
        "IPY_MODEL_a5b8e918bc504b6da87a9e230a0a9153"
       ],
       "layout": "IPY_MODEL_7e6ac79520a24c818055cf12cbf42eae"
      }
     },
     "6b7a4fb879fb46859d9a0881e3e1ea80": {
      "model_module": "@jupyter-widgets/base",
      "model_module_version": "1.2.0",
      "model_name": "LayoutModel",
      "state": {}
     },
     "6bc15ee098b34834bf801abffca7d729": {
      "model_module": "@jupyter-widgets/controls",
      "model_module_version": "1.5.0",
      "model_name": "FloatRangeSliderModel",
      "state": {
       "_model_name": "FloatRangeSliderModel",
       "_view_name": "FloatRangeSliderView",
       "description": "Limites do eixo y (eV):",
       "layout": "IPY_MODEL_f083dab90ca54709ab30508acaec2579",
       "max": 10,
       "min": -10,
       "readout_format": ".1f",
       "step": 0.005,
       "style": "IPY_MODEL_37425ea277f44239adfd356f1001a6c1",
       "value": [
        -2,
        2
       ]
      }
     },
     "6d318d07f0b544939af4eb55645ff6cc": {
      "model_module": "@jupyter-widgets/controls",
      "model_module_version": "1.5.0",
      "model_name": "SliderStyleModel",
      "state": {
       "description_width": "initial"
      }
     },
     "6d35156825ef449a96e0d96387b4badd": {
      "model_module": "@jupyter-widgets/controls",
      "model_module_version": "1.5.0",
      "model_name": "ButtonStyleModel",
      "state": {}
     },
     "6d48e8510d9d4ff7aabea50b3ee40b07": {
      "model_module": "@jupyter-widgets/controls",
      "model_module_version": "1.5.0",
      "model_name": "SliderStyleModel",
      "state": {
       "description_width": "initial"
      }
     },
     "6e1bf8fa1d0a416a879a7c5f7735f6a9": {
      "model_module": "jupyter-matplotlib",
      "model_module_version": "^0.9.0",
      "model_name": "ToolbarModel",
      "state": {
       "layout": "IPY_MODEL_76248979ed8746ada4fb316e3c4a3523",
       "toolitems": [
        [
         "Home",
         "Reset original view",
         "home",
         "home"
        ],
        [
         "Back",
         "Back to previous view",
         "arrow-left",
         "back"
        ],
        [
         "Forward",
         "Forward to next view",
         "arrow-right",
         "forward"
        ],
        [
         "Pan",
         "Left button pans, Right button zooms\nx/y fixes axis, CTRL fixes aspect",
         "arrows",
         "pan"
        ],
        [
         "Zoom",
         "Zoom to rectangle\nx/y fixes axis, CTRL fixes aspect",
         "square-o",
         "zoom"
        ],
        [
         "Download",
         "Download plot",
         "floppy-o",
         "save_figure"
        ]
       ]
      }
     },
     "6e1cb4ab98fd430eb60103d8e5553022": {
      "model_module": "@jupyter-widgets/controls",
      "model_module_version": "1.5.0",
      "model_name": "ButtonStyleModel",
      "state": {}
     },
     "6e80decc777740c6ae5d30661fb93dc3": {
      "model_module": "@jupyter-widgets/base",
      "model_module_version": "1.2.0",
      "model_name": "LayoutModel",
      "state": {}
     },
     "6e97c2bea5f945bf8e12c3af274fae12": {
      "model_module": "@jupyter-widgets/base",
      "model_module_version": "1.2.0",
      "model_name": "LayoutModel",
      "state": {
       "grid_template_columns": "repeat(2, 250px)"
      }
     },
     "6ed6121f6a254b0783eae18a44053ef0": {
      "model_module": "@jupyter-widgets/controls",
      "model_module_version": "1.5.0",
      "model_name": "ButtonModel",
      "state": {
       "description": "Pöschl–Teller",
       "layout": "IPY_MODEL_d37b554596c54016867135a428d58739",
       "style": "IPY_MODEL_f6b02bc100984c638e1c7b03bf930c7a"
      }
     },
     "6f92f0a743a748418e03d443ff938674": {
      "model_module": "@jupyter-widgets/controls",
      "model_module_version": "1.5.0",
      "model_name": "LabelModel",
      "state": {
       "layout": "IPY_MODEL_9fecfd55a3b74ab8a0874553259cce5d",
       "style": "IPY_MODEL_ef1f96277cbd49dfa61c905789fb83e2",
       "value": "V(x)[min,max] (eV) ="
      }
     },
     "6fba0f0cc76c4c60a8a8903216c3831f": {
      "model_module": "@jupyter-widgets/controls",
      "model_module_version": "1.5.0",
      "model_name": "LabelModel",
      "state": {
       "layout": "IPY_MODEL_2fa3789938ce4a50bfff25908f71283d",
       "style": "IPY_MODEL_2a9c3ab084774465b8fdea611e0d7746",
       "value": "Expressão V(x) ="
      }
     },
     "6fbd0cfa0c134f6a83babcc8157cd001": {
      "model_module": "@jupyter-widgets/controls",
      "model_module_version": "1.5.0",
      "model_name": "VBoxModel",
      "state": {
       "_dom_classes": [
        "widget-interact"
       ],
       "children": [
        "IPY_MODEL_960330af78ff4ce3b8bad538ac9c99cc",
        "IPY_MODEL_2491044d3e6a4f518b8d165f74b07ddc",
        "IPY_MODEL_dc9e94c425634f3eb80fb5876748318c",
        "IPY_MODEL_9fff1e3f4bdd4511a536a132289994ba",
        "IPY_MODEL_69e586f88da34a93ae54c598a4f2ea24"
       ],
       "layout": "IPY_MODEL_a9dcd5038766446abc55e0291a20a6a2"
      }
     },
     "71465a529f4949d4ad8aa2818a8ecf98": {
      "model_module": "@jupyter-widgets/base",
      "model_module_version": "1.2.0",
      "model_name": "LayoutModel",
      "state": {}
     },
     "71fe9254d583426e8afdea58bee5f524": {
      "model_module": "@jupyter-widgets/controls",
      "model_module_version": "1.5.0",
      "model_name": "ButtonStyleModel",
      "state": {}
     },
     "73281ff1b7b0468d96ef950d36f05aa4": {
      "model_module": "@jupyter-widgets/controls",
      "model_module_version": "1.5.0",
      "model_name": "VBoxModel",
      "state": {
       "_dom_classes": [
        "widget-interact"
       ],
       "children": [
        "IPY_MODEL_d3c4e9683e564b888638ec07bdc0cae5",
        "IPY_MODEL_440257d2a6884737866c44a46ce96522",
        "IPY_MODEL_59a7b946e64546aaaa11eecbc93699c5",
        "IPY_MODEL_5668ed274293481ca2a1bafcd4a42827",
        "IPY_MODEL_842a8f40d5334f8481530f67af46a61b"
       ],
       "layout": "IPY_MODEL_74f53cf491e8442a8e6274bcef4b5481"
      }
     },
     "73f7788b506b4e6ba56bcbb6adde31e3": {
      "model_module": "@jupyter-widgets/base",
      "model_module_version": "1.2.0",
      "model_name": "LayoutModel",
      "state": {
       "grid_template_columns": "repeat(2, 250px)"
      }
     },
     "745f8f48b0ed4a52be957eb01816fc18": {
      "model_module": "@jupyter-widgets/controls",
      "model_module_version": "1.5.0",
      "model_name": "IntSliderModel",
      "state": {
       "continuous_update": false,
       "description": "Número de pontos: ",
       "layout": "IPY_MODEL_3234ad155ea6478aa8a0c7543dde0e9d",
       "max": 1050,
       "min": 50,
       "step": 10,
       "style": "IPY_MODEL_6d48e8510d9d4ff7aabea50b3ee40b07",
       "value": 550
      }
     },
     "748fe1fd7da34d6abdd35b26dfeb7f49": {
      "model_module": "@jupyter-widgets/controls",
      "model_module_version": "1.5.0",
      "model_name": "ButtonModel",
      "state": {
       "description": "Plotar",
       "layout": "IPY_MODEL_a2e0e953ba2543e192180991c5c2f4e3",
       "style": "IPY_MODEL_64c2a48f36c34f0c82496fa51b39fb91"
      }
     },
     "74b0f6a3aa864704b877c9c6ed2c3619": {
      "model_module": "@jupyter-widgets/base",
      "model_module_version": "1.2.0",
      "model_name": "LayoutModel",
      "state": {}
     },
     "74f53cf491e8442a8e6274bcef4b5481": {
      "model_module": "@jupyter-widgets/base",
      "model_module_version": "1.2.0",
      "model_name": "LayoutModel",
      "state": {}
     },
     "7614bdb530e24796a563f4538e41df46": {
      "model_module": "@jupyter-widgets/base",
      "model_module_version": "1.2.0",
      "model_name": "LayoutModel",
      "state": {}
     },
     "76248979ed8746ada4fb316e3c4a3523": {
      "model_module": "@jupyter-widgets/base",
      "model_module_version": "1.2.0",
      "model_name": "LayoutModel",
      "state": {}
     },
     "775ed4e516ff41cea552b5fe5d811bd3": {
      "model_module": "@jupyter-widgets/base",
      "model_module_version": "1.2.0",
      "model_name": "LayoutModel",
      "state": {}
     },
     "7774f65ecd3048fbabff12b1c4a63bb1": {
      "model_module": "@jupyter-widgets/base",
      "model_module_version": "1.2.0",
      "model_name": "LayoutModel",
      "state": {}
     },
     "77f33f56a44f453ba821d678234cb3b0": {
      "model_module": "jupyter-matplotlib",
      "model_module_version": "^0.9.0",
      "model_name": "MPLCanvasModel",
      "state": {
       "_cursor": "default",
       "_figure_label": "Figure 9",
       "_height": 989,
       "_image_mode": "diff",
       "_width": 1760,
       "layout": "IPY_MODEL_c99412a5711e4b7c82f25215ce9f4cef",
       "toolbar": "IPY_MODEL_28a9451ad6054915a4709ee252005ddf",
       "toolbar_position": "left"
      }
     },
     "781b4a6907e44d77a9bd267db9c38928": {
      "model_module": "@jupyter-widgets/controls",
      "model_module_version": "1.5.0",
      "model_name": "DescriptionStyleModel",
      "state": {
       "description_width": ""
      }
     },
     "78908ffcaccb4de38f93cc98efd069a5": {
      "model_module": "@jupyter-widgets/controls",
      "model_module_version": "1.5.0",
      "model_name": "VBoxModel",
      "state": {
       "_dom_classes": [
        "widget-interact"
       ],
       "children": [
        "IPY_MODEL_af0d4c570e2043c4af579299880e78d7",
        "IPY_MODEL_895741e74a154a92901fe9ced47e8923",
        "IPY_MODEL_94d20a72fbd54acfb73160bbdfaa9d5c",
        "IPY_MODEL_af9ec49dd0c14d2ea52a15ae0ce11c4d",
        "IPY_MODEL_e6276bbca06d4d2aa2d5483d9cf94884",
        "IPY_MODEL_3b17bb449ef74ac8a1f1fe6cf324a16e",
        "IPY_MODEL_6bc15ee098b34834bf801abffca7d729",
        "IPY_MODEL_d0c903d0b0564d7e859b0b93c1346fa8",
        "IPY_MODEL_e8c6a404f450447199f1566bd76d0e82",
        "IPY_MODEL_1921e774b871432aa64147b340e8fce1"
       ],
       "layout": "IPY_MODEL_91a1f753f9744929a2534e64f3c184d9"
      }
     },
     "78e31aeafb5a437084de8a21b578cc6f": {
      "model_module": "@jupyter-widgets/controls",
      "model_module_version": "1.5.0",
      "model_name": "ButtonStyleModel",
      "state": {}
     },
     "791af8e901c540c88bad7a762d8fcb89": {
      "model_module": "@jupyter-widgets/controls",
      "model_module_version": "1.5.0",
      "model_name": "DescriptionStyleModel",
      "state": {
       "description_width": ""
      }
     },
     "7a978d29b11346f08bfccd21f42e40d2": {
      "model_module": "@jupyter-widgets/base",
      "model_module_version": "1.2.0",
      "model_name": "LayoutModel",
      "state": {}
     },
     "7ac82b2d267940ceb1bca3947e74dfe1": {
      "model_module": "@jupyter-widgets/controls",
      "model_module_version": "1.5.0",
      "model_name": "DescriptionStyleModel",
      "state": {
       "description_width": ""
      }
     },
     "7c0156ef4c944a4ba30e886a6ef3ac03": {
      "model_module": "jupyter-matplotlib",
      "model_module_version": "^0.9.0",
      "model_name": "ToolbarModel",
      "state": {
       "layout": "IPY_MODEL_c0bf061143e043fd83827bd442c6b5d7",
       "toolitems": [
        [
         "Home",
         "Reset original view",
         "home",
         "home"
        ],
        [
         "Back",
         "Back to previous view",
         "arrow-left",
         "back"
        ],
        [
         "Forward",
         "Forward to next view",
         "arrow-right",
         "forward"
        ],
        [
         "Pan",
         "Left button pans, Right button zooms\nx/y fixes axis, CTRL fixes aspect",
         "arrows",
         "pan"
        ],
        [
         "Zoom",
         "Zoom to rectangle\nx/y fixes axis, CTRL fixes aspect",
         "square-o",
         "zoom"
        ],
        [
         "Download",
         "Download plot",
         "floppy-o",
         "save_figure"
        ]
       ]
      }
     },
     "7cc1af44669946bbb48cdd45ad975593": {
      "model_module": "@jupyter-widgets/base",
      "model_module_version": "1.2.0",
      "model_name": "LayoutModel",
      "state": {}
     },
     "7cc71bdc1bcc4e5b95a8408db480362b": {
      "model_module": "@jupyter-widgets/controls",
      "model_module_version": "1.5.0",
      "model_name": "LabelModel",
      "state": {
       "layout": "IPY_MODEL_a793cacf92234d6cbd319dff11fbf9a6",
       "style": "IPY_MODEL_66ef3b18ade047cbbec634033de1a225",
       "value": " 70.00"
      }
     },
     "7d30505dce5b42da8214a223da66e9c7": {
      "model_module": "@jupyter-widgets/base",
      "model_module_version": "1.2.0",
      "model_name": "LayoutModel",
      "state": {}
     },
     "7e6ac79520a24c818055cf12cbf42eae": {
      "model_module": "@jupyter-widgets/base",
      "model_module_version": "1.2.0",
      "model_name": "LayoutModel",
      "state": {}
     },
     "7ea3eedb9ee746c2b76d3cd41f79dff2": {
      "model_module": "@jupyter-widgets/controls",
      "model_module_version": "1.5.0",
      "model_name": "ButtonStyleModel",
      "state": {}
     },
     "7f1a28216bf24511922eeb0186fba41f": {
      "model_module": "@jupyter-widgets/controls",
      "model_module_version": "1.5.0",
      "model_name": "ButtonStyleModel",
      "state": {}
     },
     "7fea74df05d149a28aa7d4d84a5b178c": {
      "model_module": "@jupyter-widgets/controls",
      "model_module_version": "1.5.0",
      "model_name": "ButtonStyleModel",
      "state": {}
     },
     "81ccb82cd08e4a1db57d3ad660cd26f4": {
      "model_module": "@jupyter-widgets/controls",
      "model_module_version": "1.5.0",
      "model_name": "ButtonStyleModel",
      "state": {}
     },
     "821f28fe257847fbb89888e93643a10e": {
      "model_module": "@jupyter-widgets/controls",
      "model_module_version": "1.5.0",
      "model_name": "VBoxModel",
      "state": {
       "children": [
        "IPY_MODEL_26170b5ea6054083bb849ec0c9f6ca8e",
        "IPY_MODEL_d2631081199747ba883b04bc278fa284"
       ],
       "layout": "IPY_MODEL_5d55161bd02444b08aa4f9f92b0bb845"
      }
     },
     "831f430d825b47f1a2dabc0e1cf2fcfd": {
      "model_module": "jupyter-matplotlib",
      "model_module_version": "^0.9.0",
      "model_name": "MPLCanvasModel",
      "state": {
       "_cursor": "default",
       "_figure_label": "Figure 4",
       "_height": 720,
       "_image_mode": "diff",
       "_width": 1280,
       "layout": "IPY_MODEL_33e7f6ae8f004b2bb4889349f3a41ad5",
       "toolbar": "IPY_MODEL_7c0156ef4c944a4ba30e886a6ef3ac03",
       "toolbar_position": "left"
      }
     },
     "834283ba3c8141e18c7c6fbd618d9128": {
      "model_module": "@jupyter-widgets/controls",
      "model_module_version": "1.5.0",
      "model_name": "DescriptionStyleModel",
      "state": {
       "description_width": "initial"
      }
     },
     "8349140cf597437aaaf70a64057a7c71": {
      "model_module": "@jupyter-widgets/base",
      "model_module_version": "1.2.0",
      "model_name": "LayoutModel",
      "state": {}
     },
     "83b538f9283644c9b235ec3ca3ce7612": {
      "model_module": "@jupyter-widgets/controls",
      "model_module_version": "1.5.0",
      "model_name": "ButtonStyleModel",
      "state": {}
     },
     "842a8f40d5334f8481530f67af46a61b": {
      "model_module": "@jupyter-widgets/output",
      "model_module_version": "1.0.0",
      "model_name": "OutputModel",
      "state": {
       "layout": "IPY_MODEL_8ccccaa717354df88ae1bfcd1d4b9423",
       "outputs": [
        {
         "data": {
          "application/vnd.jupyter.widget-view+json": {
           "model_id": "f8189165d5124942bac529b692174ae7",
           "version_major": 2,
           "version_minor": 0
          },
          "text/plain": "Canvas(toolbar=Toolbar(toolitems=[('Home', 'Reset original view', 'home', 'home'), ('Back', 'Back to previous …"
         },
         "metadata": {},
         "output_type": "display_data"
        }
       ]
      }
     },
     "8620f9e599264afba7020dbc294bb627": {
      "model_module": "@jupyter-widgets/controls",
      "model_module_version": "1.5.0",
      "model_name": "ButtonStyleModel",
      "state": {}
     },
     "865fa538f58d445ca9ce2e4a8331d3af": {
      "model_module": "@jupyter-widgets/output",
      "model_module_version": "1.0.0",
      "model_name": "OutputModel",
      "state": {
       "layout": "IPY_MODEL_6b7a4fb879fb46859d9a0881e3e1ea80",
       "outputs": [
        {
         "data": {
          "application/vnd.jupyter.widget-view+json": {
           "model_id": "8e9e9e91101743bd9a09a781b6c39bc4",
           "version_major": 2,
           "version_minor": 0
          },
          "text/plain": "Canvas(toolbar=Toolbar(toolitems=[('Home', 'Reset original view', 'home', 'home'), ('Back', 'Back to previous …"
         },
         "metadata": {},
         "output_type": "display_data"
        }
       ]
      }
     },
     "86a99f20a33e4f88b0af723a53e2d3ab": {
      "model_module": "@jupyter-widgets/base",
      "model_module_version": "1.2.0",
      "model_name": "LayoutModel",
      "state": {}
     },
     "86b849c77fc143fba6d1c502fd7a0ae7": {
      "model_module": "@jupyter-widgets/base",
      "model_module_version": "1.2.0",
      "model_name": "LayoutModel",
      "state": {}
     },
     "8911b6ac9b1944f79a4493796e704756": {
      "model_module": "@jupyter-widgets/base",
      "model_module_version": "1.2.0",
      "model_name": "LayoutModel",
      "state": {
       "grid_template_columns": "repeat(auto-fill, 180px)"
      }
     },
     "895741e74a154a92901fe9ced47e8923": {
      "model_module": "@jupyter-widgets/controls",
      "model_module_version": "1.5.0",
      "model_name": "IntSliderModel",
      "state": {
       "continuous_update": false,
       "description": "Margens horizontais  (angstroms):   ",
       "layout": "IPY_MODEL_f083dab90ca54709ab30508acaec2579",
       "style": "IPY_MODEL_2805d7ff2fe94d82b9cfa2c88d399880",
       "value": 20
      }
     },
     "896db09a492a4a5cb6b821e48720a178": {
      "model_module": "@jupyter-widgets/base",
      "model_module_version": "1.2.0",
      "model_name": "LayoutModel",
      "state": {}
     },
     "8ccccaa717354df88ae1bfcd1d4b9423": {
      "model_module": "@jupyter-widgets/base",
      "model_module_version": "1.2.0",
      "model_name": "LayoutModel",
      "state": {}
     },
     "8ce4ee72ab7e44e391e0fdf0a168ce29": {
      "model_module": "jupyter-matplotlib",
      "model_module_version": "^0.9.0",
      "model_name": "ToolbarModel",
      "state": {
       "layout": "IPY_MODEL_7774f65ecd3048fbabff12b1c4a63bb1",
       "toolitems": [
        [
         "Home",
         "Reset original view",
         "home",
         "home"
        ],
        [
         "Back",
         "Back to previous view",
         "arrow-left",
         "back"
        ],
        [
         "Forward",
         "Forward to next view",
         "arrow-right",
         "forward"
        ],
        [
         "Pan",
         "Left button pans, Right button zooms\nx/y fixes axis, CTRL fixes aspect",
         "arrows",
         "pan"
        ],
        [
         "Zoom",
         "Zoom to rectangle\nx/y fixes axis, CTRL fixes aspect",
         "square-o",
         "zoom"
        ],
        [
         "Download",
         "Download plot",
         "floppy-o",
         "save_figure"
        ]
       ]
      }
     },
     "8d9ca6d92be7472e8015cb3a1968fd8f": {
      "model_module": "@jupyter-widgets/base",
      "model_module_version": "1.2.0",
      "model_name": "LayoutModel",
      "state": {}
     },
     "8dac6b98e2ef49d283adde15e077805c": {
      "model_module": "@jupyter-widgets/controls",
      "model_module_version": "1.5.0",
      "model_name": "ButtonModel",
      "state": {
       "description": "Campo Uniforme (+)",
       "layout": "IPY_MODEL_eebefd201d4742248e12da9b20ced3ab",
       "style": "IPY_MODEL_42a543527abd487695ec1743d81619e6"
      }
     },
     "8e9e9e91101743bd9a09a781b6c39bc4": {
      "model_module": "jupyter-matplotlib",
      "model_module_version": "^0.9.0",
      "model_name": "MPLCanvasModel",
      "state": {
       "_cursor": "default",
       "_figure_label": "Figure 11",
       "_height": 989,
       "_width": 1760,
       "layout": "IPY_MODEL_7d30505dce5b42da8214a223da66e9c7",
       "toolbar": "IPY_MODEL_8ce4ee72ab7e44e391e0fdf0a168ce29",
       "toolbar_position": "left"
      }
     },
     "900826d5e4614ff5b24ca9018f477c9b": {
      "model_module": "@jupyter-widgets/controls",
      "model_module_version": "1.5.0",
      "model_name": "ButtonStyleModel",
      "state": {}
     },
     "90c8b9cd91ad4f66879337b6df04cd54": {
      "model_module": "@jupyter-widgets/controls",
      "model_module_version": "1.5.0",
      "model_name": "ButtonModel",
      "state": {
       "description": "Campo Uniforme (+)",
       "layout": "IPY_MODEL_7614bdb530e24796a563f4538e41df46",
       "style": "IPY_MODEL_6d35156825ef449a96e0d96387b4badd"
      }
     },
     "91048c75a4b94e7ca0910a6ada551191": {
      "model_module": "jupyter-matplotlib",
      "model_module_version": "^0.9.0",
      "model_name": "MPLCanvasModel",
      "state": {
       "_cursor": "default",
       "_figure_label": "Figure 3",
       "_height": 720,
       "_image_mode": "diff",
       "_width": 1280,
       "layout": "IPY_MODEL_26df57532dab4fae85532aa78306dc81",
       "toolbar": "IPY_MODEL_6e1bf8fa1d0a416a879a7c5f7735f6a9",
       "toolbar_position": "left"
      }
     },
     "91a1f753f9744929a2534e64f3c184d9": {
      "model_module": "@jupyter-widgets/base",
      "model_module_version": "1.2.0",
      "model_name": "LayoutModel",
      "state": {}
     },
     "92ff911d6a51407ab09aae86ec1029bc": {
      "model_module": "@jupyter-widgets/base",
      "model_module_version": "1.2.0",
      "model_name": "LayoutModel",
      "state": {}
     },
     "9464d5a2dbd24af194316d522aad1dc2": {
      "model_module": "@jupyter-widgets/controls",
      "model_module_version": "1.5.0",
      "model_name": "ButtonModel",
      "state": {
       "description": "Duffing Holmes (+)",
       "layout": "IPY_MODEL_678682dd068d4ff9a45ffa184d269cb4",
       "style": "IPY_MODEL_1a216c3e387447aebad4a1ef18fafa3a"
      }
     },
     "94d20a72fbd54acfb73160bbdfaa9d5c": {
      "model_module": "@jupyter-widgets/controls",
      "model_module_version": "1.5.0",
      "model_name": "DropdownModel",
      "state": {
       "_options_labels": [
        "densidades de probabilidades",
        "funções de onda (parte real, +)",
        "funções de onda (parte imaginária)"
       ],
       "description": "Plotar as",
       "index": 0,
       "layout": "IPY_MODEL_96db91ae60fb4bffaeee291582fb1cfa",
       "style": "IPY_MODEL_e514db7721504c07bb8bb3d20d75f32d"
      }
     },
     "960330af78ff4ce3b8bad538ac9c99cc": {
      "model_module": "@jupyter-widgets/controls",
      "model_module_version": "1.5.0",
      "model_name": "FloatRangeSliderModel",
      "state": {
       "_model_name": "FloatRangeSliderModel",
       "_view_name": "FloatRangeSliderView",
       "continuous_update": false,
       "description": "Domínio de $\\Psi(x)$: ",
       "layout": "IPY_MODEL_f083dab90ca54709ab30508acaec2579",
       "max": 150,
       "min": -150,
       "readout_format": "1d",
       "style": "IPY_MODEL_b07ed557027d4783a67d4b713a202b3a",
       "value": [
        -35,
        35
       ]
      }
     },
     "96ba67a4d6e64c1c86b59320d995ce68": {
      "model_module": "@jupyter-widgets/controls",
      "model_module_version": "1.5.0",
      "model_name": "LabelModel",
      "state": {
       "layout": "IPY_MODEL_dd1e97df3239426ab4b7b2a55f0bf14b",
       "style": "IPY_MODEL_686af36d6bc54b039085e0dc412bd960",
       "value": " 550"
      }
     },
     "96db91ae60fb4bffaeee291582fb1cfa": {
      "model_module": "@jupyter-widgets/base",
      "model_module_version": "1.2.0",
      "model_name": "LayoutModel",
      "state": {}
     },
     "97364455a38947fe9ae2f7c045e13046": {
      "model_module": "@jupyter-widgets/base",
      "model_module_version": "1.2.0",
      "model_name": "LayoutModel",
      "state": {}
     },
     "9758f72a10df464f8c6eba5183c0d47b": {
      "model_module": "@jupyter-widgets/output",
      "model_module_version": "1.0.0",
      "model_name": "OutputModel",
      "state": {
       "layout": "IPY_MODEL_4bbc78248d7c43da91f1b6a69bec48bb",
       "outputs": [
        {
         "data": {
          "image/png": "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\n",
          "text/plain": "<Figure size 864x576 with 1 Axes>"
         },
         "metadata": {
          "needs_background": "light"
         },
         "output_type": "display_data"
        }
       ]
      }
     },
     "97ea78d13d63434ebb6333c65010c089": {
      "model_module": "@jupyter-widgets/controls",
      "model_module_version": "1.5.0",
      "model_name": "AccordionModel",
      "state": {
       "_titles": {
        "0": "Potenciais pré definidos"
       },
       "children": [
        "IPY_MODEL_e87899eedb804f30819fa4b92d1b0bfd"
       ],
       "layout": "IPY_MODEL_58e3f64fda664271ba7025d3ba9d33ad"
      }
     },
     "995e2c0a95fc4aef80e3d69c642e990e": {
      "model_module": "@jupyter-widgets/controls",
      "model_module_version": "1.5.0",
      "model_name": "ButtonStyleModel",
      "state": {}
     },
     "9a088e27f22c409a965eafb91865ef3d": {
      "model_module": "@jupyter-widgets/controls",
      "model_module_version": "1.5.0",
      "model_name": "IntSliderModel",
      "state": {
       "description": "Pixels por polegada:",
       "layout": "IPY_MODEL_c1c24061bb00459fa6bbcf55c0229f5c",
       "max": 300,
       "min": 10,
       "style": "IPY_MODEL_111aa02e667e4ba2b9482cf18be95f7b",
       "value": 110
      }
     },
     "9b6377d2168e4585ac6362c3eb5aa8a7": {
      "model_module": "@jupyter-widgets/controls",
      "model_module_version": "1.5.0",
      "model_name": "ButtonStyleModel",
      "state": {}
     },
     "9ec35432178e486c839b87fbb3bb1136": {
      "model_module": "@jupyter-widgets/controls",
      "model_module_version": "1.5.0",
      "model_name": "DescriptionStyleModel",
      "state": {
       "description_width": ""
      }
     },
     "9ef9051bbe974ee789915470a1b1d2de": {
      "model_module": "@jupyter-widgets/controls",
      "model_module_version": "1.5.0",
      "model_name": "VBoxModel",
      "state": {
       "children": [
        "IPY_MODEL_daba9e68071a4aef9e03d1b22fa8dad4",
        "IPY_MODEL_73281ff1b7b0468d96ef950d36f05aa4",
        "IPY_MODEL_e77746ca33a543de89dd122a0fed0ff9"
       ],
       "layout": "IPY_MODEL_09bcfe6416a5442ca9f6fb863a490462"
      }
     },
     "9fb1e18296f64aa684d97af50b3c4e0d": {
      "model_module": "@jupyter-widgets/controls",
      "model_module_version": "1.5.0",
      "model_name": "LabelModel",
      "state": {
       "layout": "IPY_MODEL_aca862fbcd3c429b9266904d4a69c624",
       "style": "IPY_MODEL_dc01bb755df347b587d783c97dd13b38",
       "value": "Passo $\\Delta x $ (angstroms) ="
      }
     },
     "9fecfd55a3b74ab8a0874553259cce5d": {
      "model_module": "@jupyter-widgets/base",
      "model_module_version": "1.2.0",
      "model_name": "LayoutModel",
      "state": {}
     },
     "9fff1e3f4bdd4511a536a132289994ba": {
      "model_module": "@jupyter-widgets/controls",
      "model_module_version": "1.5.0",
      "model_name": "ButtonModel",
      "state": {
       "description": "Gerar",
       "layout": "IPY_MODEL_be53c80c215740f89cb4f97f17c74208",
       "style": "IPY_MODEL_5b024d4545b24d49b2a7326f59045aab"
      }
     },
     "a1e308cfe19b4147ade78054ba4e0dfa": {
      "model_module": "@jupyter-widgets/base",
      "model_module_version": "1.2.0",
      "model_name": "LayoutModel",
      "state": {}
     },
     "a1ec1d257e654a81953a499d8ea4022b": {
      "model_module": "@jupyter-widgets/controls",
      "model_module_version": "1.5.0",
      "model_name": "SliderStyleModel",
      "state": {
       "description_width": "initial"
      }
     },
     "a266e373ae87404391db78266b3c8ebd": {
      "model_module": "@jupyter-widgets/controls",
      "model_module_version": "1.5.0",
      "model_name": "IntSliderModel",
      "state": {
       "description": "Altura da imagem (polegadas): ",
       "layout": "IPY_MODEL_3234ad155ea6478aa8a0c7543dde0e9d",
       "max": 20,
       "style": "IPY_MODEL_44d1199ffbe8426eb43a44567375df86",
       "value": 9
      }
     },
     "a2b1fcedc2034e30a73a475c28f236cb": {
      "model_module": "@jupyter-widgets/controls",
      "model_module_version": "1.5.0",
      "model_name": "ButtonStyleModel",
      "state": {}
     },
     "a2e0e953ba2543e192180991c5c2f4e3": {
      "model_module": "@jupyter-widgets/base",
      "model_module_version": "1.2.0",
      "model_name": "LayoutModel",
      "state": {}
     },
     "a2e64572730640edbb2958a5575a2c41": {
      "model_module": "@jupyter-widgets/controls",
      "model_module_version": "1.5.0",
      "model_name": "LabelModel",
      "state": {
       "layout": "IPY_MODEL_cf2f35718bed47b09e5e58808d1cb017",
       "style": "IPY_MODEL_781b4a6907e44d77a9bd267db9c38928",
       "value": "[-3.49998 , 0.86691]"
      }
     },
     "a4536fd51483454e9f94706afc3b0e74": {
      "model_module": "@jupyter-widgets/controls",
      "model_module_version": "1.5.0",
      "model_name": "ButtonModel",
      "state": {
       "description": "Diagonalize...",
       "disabled": true,
       "layout": "IPY_MODEL_adc02ec067aa49ea9453c8d1cf3bdd65",
       "style": "IPY_MODEL_ea478025d1d44911a96fdb3202e8ca0e"
      }
     },
     "a484838543ee4c4a92f54d18a6d9ad2f": {
      "model_module": "@jupyter-widgets/controls",
      "model_module_version": "1.5.0",
      "model_name": "IntRangeSliderModel",
      "state": {
       "_model_name": "IntRangeSliderModel",
       "_view_name": "IntRangeSliderView",
       "continuous_update": false,
       "description": "Plotar estados:",
       "layout": "IPY_MODEL_3234ad155ea6478aa8a0c7543dde0e9d",
       "max": 20,
       "style": "IPY_MODEL_f469572bd1504ac8bf6d9425d3ab9886",
       "value": [
        0,
        10
       ]
      }
     },
     "a49e0eb32c054699b2ee623568690b67": {
      "model_module": "@jupyter-widgets/controls",
      "model_module_version": "1.5.0",
      "model_name": "SliderStyleModel",
      "state": {
       "description_width": "initial"
      }
     },
     "a5119dcec06f4a08a5d1894fe717b04f": {
      "model_module": "@jupyter-widgets/controls",
      "model_module_version": "1.5.0",
      "model_name": "SliderStyleModel",
      "state": {
       "description_width": "initial"
      }
     },
     "a57d114b68784886a5a54480b67b2bb8": {
      "model_module": "@jupyter-widgets/base",
      "model_module_version": "1.2.0",
      "model_name": "LayoutModel",
      "state": {}
     },
     "a5aa6cc9551e4380aa1b2a1bc0acc5cc": {
      "model_module": "@jupyter-widgets/base",
      "model_module_version": "1.2.0",
      "model_name": "LayoutModel",
      "state": {}
     },
     "a5b8e918bc504b6da87a9e230a0a9153": {
      "model_module": "@jupyter-widgets/output",
      "model_module_version": "1.0.0",
      "model_name": "OutputModel",
      "state": {
       "layout": "IPY_MODEL_00fb1c5c28ce44e28c2dbc10100a1501"
      }
     },
     "a606025fab0443e494c2dc04b2e860d4": {
      "model_module": "@jupyter-widgets/controls",
      "model_module_version": "1.5.0",
      "model_name": "DescriptionStyleModel",
      "state": {
       "description_width": ""
      }
     },
     "a63183646f464a8abfd14b79abf616fa": {
      "model_module": "@jupyter-widgets/controls",
      "model_module_version": "1.5.0",
      "model_name": "LabelModel",
      "state": {
       "layout": "IPY_MODEL_2acf16f391ed43a4977856ea6a532d10",
       "style": "IPY_MODEL_1776133737624e6ca8a94ef5aeb439a0",
       "value": "Número de pontos ="
      }
     },
     "a793cacf92234d6cbd319dff11fbf9a6": {
      "model_module": "@jupyter-widgets/base",
      "model_module_version": "1.2.0",
      "model_name": "LayoutModel",
      "state": {}
     },
     "a802881ea7a64b338234a5b26cf715e4": {
      "model_module": "@jupyter-widgets/base",
      "model_module_version": "1.2.0",
      "model_name": "LayoutModel",
      "state": {}
     },
     "a910907eaa6948baa6c9509b0d4adea6": {
      "model_module": "@jupyter-widgets/controls",
      "model_module_version": "1.5.0",
      "model_name": "SliderStyleModel",
      "state": {
       "description_width": "initial"
      }
     },
     "a96c7b9f260e4d23b9725e0c7f027580": {
      "model_module": "@jupyter-widgets/controls",
      "model_module_version": "1.5.0",
      "model_name": "IntSliderModel",
      "state": {
       "continuous_update": false,
       "description": "Margens horizontais  (angstroms):   ",
       "layout": "IPY_MODEL_3234ad155ea6478aa8a0c7543dde0e9d",
       "style": "IPY_MODEL_5c90823d723043509b80168df2f96241",
       "value": 20
      }
     },
     "a9dcd5038766446abc55e0291a20a6a2": {
      "model_module": "@jupyter-widgets/base",
      "model_module_version": "1.2.0",
      "model_name": "LayoutModel",
      "state": {}
     },
     "ab46c13d07c54dc091c04aeaee9e1784": {
      "model_module": "@jupyter-widgets/controls",
      "model_module_version": "1.5.0",
      "model_name": "ButtonStyleModel",
      "state": {}
     },
     "ab76d097fb204fdcbdc59958a9b4bfaa": {
      "model_module": "@jupyter-widgets/controls",
      "model_module_version": "1.5.0",
      "model_name": "ButtonStyleModel",
      "state": {}
     },
     "abbd2bd8a78d4502a173e48fb037e339": {
      "model_module": "@jupyter-widgets/controls",
      "model_module_version": "1.5.0",
      "model_name": "VBoxModel",
      "state": {
       "_dom_classes": [
        "widget-interact"
       ],
       "children": [
        "IPY_MODEL_fd08ec0dbc15457da93486c078001b5f",
        "IPY_MODEL_09bde00d91474aa29874576ae0eda854",
        "IPY_MODEL_b384d6ec8fbe4a1f8734c348420de6dd",
        "IPY_MODEL_2589e80813b54535ac263f7e48b52394",
        "IPY_MODEL_5cb7574083a744fca0565f2724f7164a",
        "IPY_MODEL_9a088e27f22c409a965eafb91865ef3d",
        "IPY_MODEL_579a3a7e4c8b4d7fbee946c7cb707379",
        "IPY_MODEL_599f9eebdd2744fcba3a033f1b53ade5",
        "IPY_MODEL_748fe1fd7da34d6abdd35b26dfeb7f49",
        "IPY_MODEL_865fa538f58d445ca9ce2e4a8331d3af"
       ],
       "layout": "IPY_MODEL_e1fb8290c8d241b7b94b1e95dac9a771"
      }
     },
     "abf2c9ff54e54ea5becf8151f1a8a0a7": {
      "model_module": "@jupyter-widgets/base",
      "model_module_version": "1.2.0",
      "model_name": "LayoutModel",
      "state": {}
     },
     "aca7df8ce7ad4da29f90b014734ada0f": {
      "model_module": "@jupyter-widgets/controls",
      "model_module_version": "1.5.0",
      "model_name": "ButtonStyleModel",
      "state": {}
     },
     "aca862fbcd3c429b9266904d4a69c624": {
      "model_module": "@jupyter-widgets/base",
      "model_module_version": "1.2.0",
      "model_name": "LayoutModel",
      "state": {}
     },
     "ad4ea909ec80403b8d5ada1d79ddb31f": {
      "model_module": "@jupyter-widgets/base",
      "model_module_version": "1.2.0",
      "model_name": "LayoutModel",
      "state": {}
     },
     "adbcd09e992c48f9b37fce2009102428": {
      "model_module": "@jupyter-widgets/controls",
      "model_module_version": "1.5.0",
      "model_name": "SliderStyleModel",
      "state": {
       "description_width": "initial"
      }
     },
     "adc02ec067aa49ea9453c8d1cf3bdd65": {
      "model_module": "@jupyter-widgets/base",
      "model_module_version": "1.2.0",
      "model_name": "LayoutModel",
      "state": {}
     },
     "aee68d495ff746d597bcb72b7689ef0c": {
      "model_module": "@jupyter-widgets/base",
      "model_module_version": "1.2.0",
      "model_name": "LayoutModel",
      "state": {}
     },
     "af0d4c570e2043c4af579299880e78d7": {
      "model_module": "@jupyter-widgets/controls",
      "model_module_version": "1.5.0",
      "model_name": "IntRangeSliderModel",
      "state": {
       "_model_name": "IntRangeSliderModel",
       "_view_name": "IntRangeSliderView",
       "continuous_update": false,
       "description": "Plotar estados:",
       "layout": "IPY_MODEL_f083dab90ca54709ab30508acaec2579",
       "max": 20,
       "style": "IPY_MODEL_33c703f47cab4211835b5fc4a76d26e8",
       "value": [
        0,
        10
       ]
      }
     },
     "af679d8ed58c4770bcb68b3b4c6f3b42": {
      "model_module": "@jupyter-widgets/base",
      "model_module_version": "1.2.0",
      "model_name": "LayoutModel",
      "state": {}
     },
     "af9ec49dd0c14d2ea52a15ae0ce11c4d": {
      "model_module": "@jupyter-widgets/controls",
      "model_module_version": "1.5.0",
      "model_name": "IntSliderModel",
      "state": {
       "description": "Largura da imagem (polegadas):",
       "layout": "IPY_MODEL_f083dab90ca54709ab30508acaec2579",
       "max": 20,
       "style": "IPY_MODEL_3d910233223f41b2a81dd35fa19739f9",
       "value": 16
      }
     },
     "b07ed557027d4783a67d4b713a202b3a": {
      "model_module": "@jupyter-widgets/controls",
      "model_module_version": "1.5.0",
      "model_name": "SliderStyleModel",
      "state": {
       "description_width": "initial"
      }
     },
     "b0ca4c4377734d5ba4b97a3af6f8b52d": {
      "model_module": "jupyter-matplotlib",
      "model_module_version": "^0.9.0",
      "model_name": "MPLCanvasModel",
      "state": {
       "_cursor": "default",
       "_figure_label": "Figure 6",
       "_height": 720,
       "_image_mode": "diff",
       "_width": 1280,
       "layout": "IPY_MODEL_7a978d29b11346f08bfccd21f42e40d2",
       "toolbar": "IPY_MODEL_339b93fa9c6b4d7eb09632bb22c5fcaa",
       "toolbar_position": "left"
      }
     },
     "b26a9d8991814a30b07d2932bb72fcc8": {
      "model_module": "@jupyter-widgets/controls",
      "model_module_version": "1.5.0",
      "model_name": "ButtonModel",
      "state": {
       "description": "Poço Triangular",
       "layout": "IPY_MODEL_e5f077407e2448c4b5fa19650b4b770a",
       "style": "IPY_MODEL_81ccb82cd08e4a1db57d3ad660cd26f4"
      }
     },
     "b2ea2abdc7cf45ddad02ad08578a71c1": {
      "model_module": "@jupyter-widgets/controls",
      "model_module_version": "1.5.0",
      "model_name": "ButtonModel",
      "state": {
       "description": "Morse",
       "layout": "IPY_MODEL_0f78a67e9b4e4309aa8588c4a58b416d",
       "style": "IPY_MODEL_657b3483a1b3480e83907f673a1bcfa5"
      }
     },
     "b384d6ec8fbe4a1f8734c348420de6dd": {
      "model_module": "@jupyter-widgets/controls",
      "model_module_version": "1.5.0",
      "model_name": "DropdownModel",
      "state": {
       "_options_labels": [
        "densidades de probabilidades",
        "funções de onda (parte real, +)",
        "funções de onda (parte imaginária)"
       ],
       "description": "Plotar as",
       "index": 0,
       "layout": "IPY_MODEL_fbfc6a146b294835ade068111f3559dd",
       "style": "IPY_MODEL_834283ba3c8141e18c7c6fbd618d9128"
      }
     },
     "b40f48e5038a4747bf25202f0020a313": {
      "model_module": "@jupyter-widgets/base",
      "model_module_version": "1.2.0",
      "model_name": "LayoutModel",
      "state": {}
     },
     "b6c2ae4ae5ee42cbab07d02e1733bbd7": {
      "model_module": "@jupyter-widgets/base",
      "model_module_version": "1.2.0",
      "model_name": "LayoutModel",
      "state": {}
     },
     "b8c8462fe5af42048cc3293c83b5c51a": {
      "model_module": "@jupyter-widgets/base",
      "model_module_version": "1.2.0",
      "model_name": "LayoutModel",
      "state": {}
     },
     "b8d4e35c27b04b1f8e337883e7d6f33e": {
      "model_module": "@jupyter-widgets/controls",
      "model_module_version": "1.5.0",
      "model_name": "ButtonModel",
      "state": {
       "description": "Poço Infinito",
       "layout": "IPY_MODEL_1ab25a0695064e81818ffc6274810e46",
       "style": "IPY_MODEL_900826d5e4614ff5b24ca9018f477c9b"
      }
     },
     "b9fec5456c5e4a159184604742c4b928": {
      "model_module": "@jupyter-widgets/base",
      "model_module_version": "1.2.0",
      "model_name": "LayoutModel",
      "state": {}
     },
     "ba44718be5e14d72be72c3c3b6767ab5": {
      "model_module": "@jupyter-widgets/controls",
      "model_module_version": "1.5.0",
      "model_name": "ButtonStyleModel",
      "state": {}
     },
     "ba44e6fe07d5475096f4390dfbaee77f": {
      "model_module": "@jupyter-widgets/base",
      "model_module_version": "1.2.0",
      "model_name": "LayoutModel",
      "state": {}
     },
     "bb68e227dc3140dbae459416083b17ab": {
      "model_module": "@jupyter-widgets/base",
      "model_module_version": "1.2.0",
      "model_name": "LayoutModel",
      "state": {}
     },
     "bb8d6d2fcc5a4b6f93e02412cd834813": {
      "model_module": "@jupyter-widgets/base",
      "model_module_version": "1.2.0",
      "model_name": "LayoutModel",
      "state": {}
     },
     "bc60ffee734e4c64be640f05da1549a4": {
      "model_module": "@jupyter-widgets/controls",
      "model_module_version": "1.5.0",
      "model_name": "DescriptionStyleModel",
      "state": {
       "description_width": ""
      }
     },
     "be53c80c215740f89cb4f97f17c74208": {
      "model_module": "@jupyter-widgets/base",
      "model_module_version": "1.2.0",
      "model_name": "LayoutModel",
      "state": {}
     },
     "beb5f20b6d5841bfa9ed2ad5e33453c5": {
      "model_module": "@jupyter-widgets/controls",
      "model_module_version": "1.5.0",
      "model_name": "DescriptionStyleModel",
      "state": {
       "description_width": ""
      }
     },
     "c0bf061143e043fd83827bd442c6b5d7": {
      "model_module": "@jupyter-widgets/base",
      "model_module_version": "1.2.0",
      "model_name": "LayoutModel",
      "state": {}
     },
     "c1c24061bb00459fa6bbcf55c0229f5c": {
      "model_module": "@jupyter-widgets/base",
      "model_module_version": "1.2.0",
      "model_name": "LayoutModel",
      "state": {
       "display": "flex",
       "width": "90%"
      }
     },
     "c27efe6b43cd44ecb1b3b6d2fee05a83": {
      "model_module": "@jupyter-widgets/base",
      "model_module_version": "1.2.0",
      "model_name": "LayoutModel",
      "state": {}
     },
     "c3512ad5c7034300961fbfe0a99412fd": {
      "model_module": "@jupyter-widgets/base",
      "model_module_version": "1.2.0",
      "model_name": "LayoutModel",
      "state": {}
     },
     "c655873c1af84f0d9439815d48bc8040": {
      "model_module": "@jupyter-widgets/controls",
      "model_module_version": "1.5.0",
      "model_name": "ButtonModel",
      "state": {
       "description": "Lennard Jones",
       "layout": "IPY_MODEL_18c882a8ea834843a7a8b312dbce563d",
       "style": "IPY_MODEL_9b6377d2168e4585ac6362c3eb5aa8a7"
      }
     },
     "c6bc2a99c201440582702d7ddd0accea": {
      "model_module": "@jupyter-widgets/base",
      "model_module_version": "1.2.0",
      "model_name": "LayoutModel",
      "state": {}
     },
     "c6e211af28044149a6ea43661d6d099e": {
      "model_module": "@jupyter-widgets/controls",
      "model_module_version": "1.5.0",
      "model_name": "DescriptionStyleModel",
      "state": {
       "description_width": ""
      }
     },
     "c7c90bd8e0d24eb7946f9f2e578f15c9": {
      "model_module": "@jupyter-widgets/base",
      "model_module_version": "1.2.0",
      "model_name": "LayoutModel",
      "state": {}
     },
     "c99412a5711e4b7c82f25215ce9f4cef": {
      "model_module": "@jupyter-widgets/base",
      "model_module_version": "1.2.0",
      "model_name": "LayoutModel",
      "state": {}
     },
     "c99cf394217b4566a274d18f644af089": {
      "model_module": "@jupyter-widgets/controls",
      "model_module_version": "1.5.0",
      "model_name": "ButtonStyleModel",
      "state": {}
     },
     "ca07df30ff1b4505b42f1f519c947ebf": {
      "model_module": "jupyter-matplotlib",
      "model_module_version": "^0.9.0",
      "model_name": "MPLCanvasModel",
      "state": {
       "_cursor": "default",
       "_figure_label": "Figure 5",
       "_height": 720,
       "_image_mode": "diff",
       "_width": 1280,
       "layout": "IPY_MODEL_7cc1af44669946bbb48cdd45ad975593",
       "toolbar": "IPY_MODEL_3212ecbf5834470b8c8c9aeb73261f90",
       "toolbar_position": "left"
      }
     },
     "ca212a930c2941e0a484c4e8beccdc1f": {
      "model_module": "@jupyter-widgets/controls",
      "model_module_version": "1.5.0",
      "model_name": "LabelModel",
      "state": {
       "layout": "IPY_MODEL_15dce47cc2de48fb8d853f50fa31e28b",
       "style": "IPY_MODEL_da50654a1dd546ac99b01f99582c0beb",
       "value": " 70.00"
      }
     },
     "ccba57c4bc734b3384c45eaabe73e20b": {
      "model_module": "@jupyter-widgets/controls",
      "model_module_version": "1.5.0",
      "model_name": "ButtonStyleModel",
      "state": {}
     },
     "cd17846c3d434ea195474e822f9f5e05": {
      "model_module": "@jupyter-widgets/controls",
      "model_module_version": "1.5.0",
      "model_name": "DescriptionStyleModel",
      "state": {
       "description_width": "initial"
      }
     },
     "cdd2d14e660142cdac49813708178f84": {
      "model_module": "@jupyter-widgets/controls",
      "model_module_version": "1.5.0",
      "model_name": "ButtonModel",
      "state": {
       "description": "Duffing Holmes (-)",
       "layout": "IPY_MODEL_c7c90bd8e0d24eb7946f9f2e578f15c9",
       "style": "IPY_MODEL_6aead5be3a2d49e794c6f25b5403ffb9"
      }
     },
     "ce3b62c14a584dd49480f5839cc8342d": {
      "model_module": "@jupyter-widgets/controls",
      "model_module_version": "1.5.0",
      "model_name": "DescriptionStyleModel",
      "state": {
       "description_width": ""
      }
     },
     "cf2f35718bed47b09e5e58808d1cb017": {
      "model_module": "@jupyter-widgets/base",
      "model_module_version": "1.2.0",
      "model_name": "LayoutModel",
      "state": {}
     },
     "d07772d637134f7e886d602bcc73f98e": {
      "model_module": "@jupyter-widgets/controls",
      "model_module_version": "1.5.0",
      "model_name": "LabelModel",
      "state": {
       "layout": "IPY_MODEL_b9fec5456c5e4a159184604742c4b928",
       "style": "IPY_MODEL_a606025fab0443e494c2dc04b2e860d4",
       "value": " 0.13"
      }
     },
     "d0b1006c044a47f293b76dc95f2a0db7": {
      "model_module": "@jupyter-widgets/controls",
      "model_module_version": "1.5.0",
      "model_name": "TabModel",
      "state": {
       "_titles": {
        "0": "Gerar o Sistema",
        "1": "Funções de Onda"
       },
       "children": [
        "IPY_MODEL_da90e27774f348328e311cfe14521e28",
        "IPY_MODEL_6b2fbad32cab4ae196d174270f124f96"
       ],
       "layout": "IPY_MODEL_8349140cf597437aaaf70a64057a7c71"
      }
     },
     "d0c903d0b0564d7e859b0b93c1346fa8": {
      "model_module": "@jupyter-widgets/controls",
      "model_module_version": "1.5.0",
      "model_name": "CheckboxModel",
      "state": {
       "description": "Auto limitar eixo y",
       "disabled": false,
       "layout": "IPY_MODEL_f692b73168614053a36167c196eff310",
       "style": "IPY_MODEL_66bfa91dccc741f085a6d4cc804cacb2",
       "value": true
      }
     },
     "d149099ff85546c188af3b9b3d11088f": {
      "model_module": "@jupyter-widgets/base",
      "model_module_version": "1.2.0",
      "model_name": "LayoutModel",
      "state": {}
     },
     "d23b0b352a8946218da8a1d4e6d93596": {
      "model_module": "@jupyter-widgets/base",
      "model_module_version": "1.2.0",
      "model_name": "LayoutModel",
      "state": {}
     },
     "d2631081199747ba883b04bc278fa284": {
      "model_module": "@jupyter-widgets/controls",
      "model_module_version": "1.5.0",
      "model_name": "ButtonModel",
      "state": {
       "description": "Diagonalizado!",
       "disabled": true,
       "layout": "IPY_MODEL_b6c2ae4ae5ee42cbab07d02e1733bbd7",
       "style": "IPY_MODEL_c99cf394217b4566a274d18f644af089"
      }
     },
     "d2d321ab74fa41a8b26633cfbd52af53": {
      "model_module": "@jupyter-widgets/base",
      "model_module_version": "1.2.0",
      "model_name": "LayoutModel",
      "state": {}
     },
     "d346510f122542ceaf0b404c6a5feb5f": {
      "model_module": "@jupyter-widgets/controls",
      "model_module_version": "1.5.0",
      "model_name": "ButtonModel",
      "state": {
       "description": "Morse",
       "layout": "IPY_MODEL_6127bdbeef344087a305ed24bfa1a154",
       "style": "IPY_MODEL_78e31aeafb5a437084de8a21b578cc6f"
      }
     },
     "d37b554596c54016867135a428d58739": {
      "model_module": "@jupyter-widgets/base",
      "model_module_version": "1.2.0",
      "model_name": "LayoutModel",
      "state": {}
     },
     "d3c4e9683e564b888638ec07bdc0cae5": {
      "model_module": "@jupyter-widgets/controls",
      "model_module_version": "1.5.0",
      "model_name": "FloatRangeSliderModel",
      "state": {
       "_model_name": "FloatRangeSliderModel",
       "_view_name": "FloatRangeSliderView",
       "continuous_update": false,
       "description": "Domínio de $\\Psi(x)$: ",
       "layout": "IPY_MODEL_c1c24061bb00459fa6bbcf55c0229f5c",
       "max": 150,
       "min": -150,
       "readout_format": "1d",
       "style": "IPY_MODEL_5441011ca4254e17abee8bd9c817a17b",
       "value": [
        -35,
        35
       ]
      }
     },
     "d400deebd71a4cb7ad2d8e6a160bbc30": {
      "model_module": "@jupyter-widgets/controls",
      "model_module_version": "1.5.0",
      "model_name": "AccordionModel",
      "state": {
       "_titles": {
        "0": "Diagonalizar/Informações"
       },
       "children": [
        "IPY_MODEL_39073230e0af4a5c8df6aa8a3c6b4720"
       ],
       "layout": "IPY_MODEL_5e34300d03904b099940560f6f0cd4f7"
      }
     },
     "d462101a4aef4dd895311be4b10a9ff5": {
      "model_module": "jupyter-matplotlib",
      "model_module_version": "^0.9.0",
      "model_name": "MPLCanvasModel",
      "state": {
       "_cursor": "default",
       "_figure_label": "Figure 7",
       "_height": 405,
       "_image_mode": "diff",
       "_width": 719,
       "layout": "IPY_MODEL_1df785220cc8460e8a5924baf027992f",
       "toolbar": "IPY_MODEL_d5bb9a3865944ab1a359084ce2b21f84",
       "toolbar_position": "left"
      }
     },
     "d5bb9a3865944ab1a359084ce2b21f84": {
      "model_module": "jupyter-matplotlib",
      "model_module_version": "^0.9.0",
      "model_name": "ToolbarModel",
      "state": {
       "layout": "IPY_MODEL_5a1149181e0d494d8f181a4588a8a991",
       "toolitems": [
        [
         "Home",
         "Reset original view",
         "home",
         "home"
        ],
        [
         "Back",
         "Back to previous view",
         "arrow-left",
         "back"
        ],
        [
         "Forward",
         "Forward to next view",
         "arrow-right",
         "forward"
        ],
        [
         "Pan",
         "Left button pans, Right button zooms\nx/y fixes axis, CTRL fixes aspect",
         "arrows",
         "pan"
        ],
        [
         "Zoom",
         "Zoom to rectangle\nx/y fixes axis, CTRL fixes aspect",
         "square-o",
         "zoom"
        ],
        [
         "Download",
         "Download plot",
         "floppy-o",
         "save_figure"
        ]
       ]
      }
     },
     "d5ed8a4fd06c466eb0e9aea9958c58d1": {
      "model_module": "@jupyter-widgets/controls",
      "model_module_version": "1.5.0",
      "model_name": "LabelModel",
      "state": {
       "layout": "IPY_MODEL_06b1336d8ea340ada5027fe0e571fa13",
       "style": "IPY_MODEL_669c987bcab14d398873d33f2487a4ae",
       "value": "-4*(np.cosh(0.1*x/ang)**(-2))"
      }
     },
     "d760284ec46a4de3977acd922c7a1800": {
      "model_module": "@jupyter-widgets/base",
      "model_module_version": "1.2.0",
      "model_name": "LayoutModel",
      "state": {}
     },
     "d8161fd060094e79b98431ace7bc8219": {
      "model_module": "@jupyter-widgets/base",
      "model_module_version": "1.2.0",
      "model_name": "LayoutModel",
      "state": {}
     },
     "d870757251e746eea8c3586ea7929690": {
      "model_module": "jupyter-matplotlib",
      "model_module_version": "^0.9.0",
      "model_name": "ToolbarModel",
      "state": {
       "layout": "IPY_MODEL_4eabce86c55944c791aef41f63b38ea8",
       "toolitems": [
        [
         "Home",
         "Reset original view",
         "home",
         "home"
        ],
        [
         "Back",
         "Back to previous view",
         "arrow-left",
         "back"
        ],
        [
         "Forward",
         "Forward to next view",
         "arrow-right",
         "forward"
        ],
        [
         "Pan",
         "Left button pans, Right button zooms\nx/y fixes axis, CTRL fixes aspect",
         "arrows",
         "pan"
        ],
        [
         "Zoom",
         "Zoom to rectangle\nx/y fixes axis, CTRL fixes aspect",
         "square-o",
         "zoom"
        ],
        [
         "Download",
         "Download plot",
         "floppy-o",
         "save_figure"
        ]
       ]
      }
     },
     "d8c94570c0f144648524949e710c409e": {
      "model_module": "@jupyter-widgets/base",
      "model_module_version": "1.2.0",
      "model_name": "LayoutModel",
      "state": {}
     },
     "d8d7b08b044f43c58470fdb39a3c3952": {
      "model_module": "@jupyter-widgets/controls",
      "model_module_version": "1.5.0",
      "model_name": "ButtonModel",
      "state": {
       "description": "Pöschl–Teller",
       "layout": "IPY_MODEL_8d9ca6d92be7472e8015cb3a1968fd8f",
       "style": "IPY_MODEL_e18cbf8c88d54faf855a14b69ffb08c7"
      }
     },
     "da50654a1dd546ac99b01f99582c0beb": {
      "model_module": "@jupyter-widgets/controls",
      "model_module_version": "1.5.0",
      "model_name": "DescriptionStyleModel",
      "state": {
       "description_width": ""
      }
     },
     "da90e27774f348328e311cfe14521e28": {
      "model_module": "@jupyter-widgets/controls",
      "model_module_version": "1.5.0",
      "model_name": "VBoxModel",
      "state": {
       "children": [
        "IPY_MODEL_97ea78d13d63434ebb6333c65010c089",
        "IPY_MODEL_0adfbb2b57354fbca22062f82c28b4cb",
        "IPY_MODEL_d400deebd71a4cb7ad2d8e6a160bbc30"
       ],
       "layout": "IPY_MODEL_775ed4e516ff41cea552b5fe5d811bd3"
      }
     },
     "daba9e68071a4aef9e03d1b22fa8dad4": {
      "model_module": "@jupyter-widgets/controls",
      "model_module_version": "1.5.0",
      "model_name": "AccordionModel",
      "state": {
       "_titles": {
        "0": "Potenciais pré definidos"
       },
       "children": [
        "IPY_MODEL_55cb8a7235074b5d83757b9e8f1b2986"
       ],
       "layout": "IPY_MODEL_ad4ea909ec80403b8d5ada1d79ddb31f"
      }
     },
     "dc01bb755df347b587d783c97dd13b38": {
      "model_module": "@jupyter-widgets/controls",
      "model_module_version": "1.5.0",
      "model_name": "DescriptionStyleModel",
      "state": {
       "description_width": ""
      }
     },
     "dc75648fc96a4f53b9312ce3435614c5": {
      "model_module": "@jupyter-widgets/controls",
      "model_module_version": "1.5.0",
      "model_name": "ButtonModel",
      "state": {
       "description": "Duffing Holmes (-)",
       "layout": "IPY_MODEL_e7daaeecf3114fbc8a1836ba52a0c82a",
       "style": "IPY_MODEL_7f1a28216bf24511922eeb0186fba41f"
      }
     },
     "dc9e94c425634f3eb80fb5876748318c": {
      "model_module": "@jupyter-widgets/controls",
      "model_module_version": "1.5.0",
      "model_name": "TextModel",
      "state": {
       "description": "Expressão de $V(x)$: ",
       "layout": "IPY_MODEL_f083dab90ca54709ab30508acaec2579",
       "placeholder": "Escreva a expressão aqui.",
       "style": "IPY_MODEL_cd17846c3d434ea195474e822f9f5e05",
       "value": "3.5*(np.exp(-2*(0.1*(x/ang) + 2.75)) - 2*np.exp(-(0.1*(x/ang) + 2.75)))"
      }
     },
     "dd1e97df3239426ab4b7b2a55f0bf14b": {
      "model_module": "@jupyter-widgets/base",
      "model_module_version": "1.2.0",
      "model_name": "LayoutModel",
      "state": {}
     },
     "e0645460b69448438384a96956d49dfd": {
      "model_module": "@jupyter-widgets/controls",
      "model_module_version": "1.5.0",
      "model_name": "DescriptionStyleModel",
      "state": {
       "description_width": ""
      }
     },
     "e094172c15dd4441a95ded3a05dda150": {
      "model_module": "@jupyter-widgets/controls",
      "model_module_version": "1.5.0",
      "model_name": "DescriptionStyleModel",
      "state": {
       "description_width": "initial"
      }
     },
     "e0d42c42f20e4682a7fa445c4c6f57a5": {
      "model_module": "@jupyter-widgets/controls",
      "model_module_version": "1.5.0",
      "model_name": "ButtonModel",
      "state": {
       "description": "Lennard Jones",
       "layout": "IPY_MODEL_0a18dcbe8ae748628b73494a1b601d57",
       "style": "IPY_MODEL_7ea3eedb9ee746c2b76d3cd41f79dff2"
      }
     },
     "e18cbf8c88d54faf855a14b69ffb08c7": {
      "model_module": "@jupyter-widgets/controls",
      "model_module_version": "1.5.0",
      "model_name": "ButtonStyleModel",
      "state": {}
     },
     "e1c5e9648d674c0e9f074fa9fe4fd526": {
      "model_module": "@jupyter-widgets/controls",
      "model_module_version": "1.5.0",
      "model_name": "SliderStyleModel",
      "state": {
       "description_width": "initial"
      }
     },
     "e1fb8290c8d241b7b94b1e95dac9a771": {
      "model_module": "@jupyter-widgets/base",
      "model_module_version": "1.2.0",
      "model_name": "LayoutModel",
      "state": {}
     },
     "e23d0ecdeb3a4150aef17762fb1b4c60": {
      "model_module": "@jupyter-widgets/controls",
      "model_module_version": "1.5.0",
      "model_name": "IntSliderModel",
      "state": {
       "description": "Pixels por polegada:",
       "layout": "IPY_MODEL_3234ad155ea6478aa8a0c7543dde0e9d",
       "max": 300,
       "min": 10,
       "style": "IPY_MODEL_a49e0eb32c054699b2ee623568690b67",
       "value": 80
      }
     },
     "e29926154e2c452bb650e99148dc15d5": {
      "model_module": "@jupyter-widgets/base",
      "model_module_version": "1.2.0",
      "model_name": "LayoutModel",
      "state": {}
     },
     "e2d11f22b04e461184efd46a62a484ee": {
      "model_module": "@jupyter-widgets/base",
      "model_module_version": "1.2.0",
      "model_name": "LayoutModel",
      "state": {}
     },
     "e33ed0cc280d4030a37680262fc8dbec": {
      "model_module": "@jupyter-widgets/base",
      "model_module_version": "1.2.0",
      "model_name": "LayoutModel",
      "state": {}
     },
     "e36d7b3aa7ca4778bb26b31823bc723a": {
      "model_module": "@jupyter-widgets/controls",
      "model_module_version": "1.5.0",
      "model_name": "ButtonModel",
      "state": {
       "description": "Gerar",
       "layout": "IPY_MODEL_2b42717a8d384107a71000ea0af27798",
       "style": "IPY_MODEL_ab46c13d07c54dc091c04aeaee9e1784"
      }
     },
     "e514db7721504c07bb8bb3d20d75f32d": {
      "model_module": "@jupyter-widgets/controls",
      "model_module_version": "1.5.0",
      "model_name": "DescriptionStyleModel",
      "state": {
       "description_width": "initial"
      }
     },
     "e575bdd1c9864a97a9f71a5d62343bd8": {
      "model_module": "jupyter-matplotlib",
      "model_module_version": "^0.9.0",
      "model_name": "ToolbarModel",
      "state": {
       "layout": "IPY_MODEL_1ae88dd2d92443a9bf04b289aa9b37a8",
       "toolitems": [
        [
         "Home",
         "Reset original view",
         "home",
         "home"
        ],
        [
         "Back",
         "Back to previous view",
         "arrow-left",
         "back"
        ],
        [
         "Forward",
         "Forward to next view",
         "arrow-right",
         "forward"
        ],
        [
         "Pan",
         "Left button pans, Right button zooms\nx/y fixes axis, CTRL fixes aspect",
         "arrows",
         "pan"
        ],
        [
         "Zoom",
         "Zoom to rectangle\nx/y fixes axis, CTRL fixes aspect",
         "square-o",
         "zoom"
        ],
        [
         "Download",
         "Download plot",
         "floppy-o",
         "save_figure"
        ]
       ]
      }
     },
     "e5be378591544b50ad22fc7adecb1337": {
      "model_module": "@jupyter-widgets/controls",
      "model_module_version": "1.5.0",
      "model_name": "ButtonModel",
      "state": {
       "description": "Morse",
       "layout": "IPY_MODEL_896db09a492a4a5cb6b821e48720a178",
       "style": "IPY_MODEL_28b29d7f279d4c0a8b568ac46ef1ad0d"
      }
     },
     "e5f077407e2448c4b5fa19650b4b770a": {
      "model_module": "@jupyter-widgets/base",
      "model_module_version": "1.2.0",
      "model_name": "LayoutModel",
      "state": {}
     },
     "e6276bbca06d4d2aa2d5483d9cf94884": {
      "model_module": "@jupyter-widgets/controls",
      "model_module_version": "1.5.0",
      "model_name": "IntSliderModel",
      "state": {
       "description": "Altura da imagem (polegadas): ",
       "layout": "IPY_MODEL_f083dab90ca54709ab30508acaec2579",
       "max": 20,
       "style": "IPY_MODEL_a1ec1d257e654a81953a499d8ea4022b",
       "value": 9
      }
     },
     "e6d95b7dcbac4657bbd335c174baa165": {
      "model_module": "@jupyter-widgets/controls",
      "model_module_version": "1.5.0",
      "model_name": "ButtonStyleModel",
      "state": {}
     },
     "e77746ca33a543de89dd122a0fed0ff9": {
      "model_module": "@jupyter-widgets/controls",
      "model_module_version": "1.5.0",
      "model_name": "AccordionModel",
      "state": {
       "_titles": {
        "0": "Diagonalizar/Informações"
       },
       "children": [
        "IPY_MODEL_821f28fe257847fbb89888e93643a10e"
       ],
       "layout": "IPY_MODEL_ba44e6fe07d5475096f4390dfbaee77f"
      }
     },
     "e7daaeecf3114fbc8a1836ba52a0c82a": {
      "model_module": "@jupyter-widgets/base",
      "model_module_version": "1.2.0",
      "model_name": "LayoutModel",
      "state": {}
     },
     "e871ee1c310c47d5a8d31f86a202fed7": {
      "model_module": "@jupyter-widgets/controls",
      "model_module_version": "1.5.0",
      "model_name": "LabelModel",
      "state": {
       "layout": "IPY_MODEL_e2d11f22b04e461184efd46a62a484ee",
       "style": "IPY_MODEL_057f8177c880464d8c9613555d7b21b2",
       "value": "Largura do domínio (angstroms) ="
      }
     },
     "e87899eedb804f30819fa4b92d1b0bfd": {
      "model_module": "@jupyter-widgets/controls",
      "model_module_version": "1.5.0",
      "model_name": "GridBoxModel",
      "state": {
       "children": [
        "IPY_MODEL_652e46ad6b17412db3f6a0884b1b2e05",
        "IPY_MODEL_478421682640444aba7568a8bc963857",
        "IPY_MODEL_4943dfab174743c7a1e261e773b26f51",
        "IPY_MODEL_60ee338ef6e54855a0a72e6ff3bba638",
        "IPY_MODEL_1646779fcb73446cbdf7853b932e6dc9",
        "IPY_MODEL_39836891977446a3900565078998f4b1",
        "IPY_MODEL_dc75648fc96a4f53b9312ce3435614c5",
        "IPY_MODEL_4795ffb94dac4df49593b32345394ad6",
        "IPY_MODEL_e5be378591544b50ad22fc7adecb1337",
        "IPY_MODEL_6ed6121f6a254b0783eae18a44053ef0"
       ],
       "layout": "IPY_MODEL_4c8d777900ea4a0a860496af167b362c"
      }
     },
     "e8c6a404f450447199f1566bd76d0e82": {
      "model_module": "@jupyter-widgets/controls",
      "model_module_version": "1.5.0",
      "model_name": "ButtonModel",
      "state": {
       "description": "Plotar",
       "layout": "IPY_MODEL_c27efe6b43cd44ecb1b3b6d2fee05a83",
       "style": "IPY_MODEL_6e1cb4ab98fd430eb60103d8e5553022"
      }
     },
     "e8f685cc07564e74a473fdad1540b544": {
      "model_module": "@jupyter-widgets/base",
      "model_module_version": "1.2.0",
      "model_name": "LayoutModel",
      "state": {}
     },
     "ea478025d1d44911a96fdb3202e8ca0e": {
      "model_module": "@jupyter-widgets/controls",
      "model_module_version": "1.5.0",
      "model_name": "ButtonStyleModel",
      "state": {}
     },
     "ea94de747fa448f798797eea6ed09c5e": {
      "model_module": "@jupyter-widgets/controls",
      "model_module_version": "1.5.0",
      "model_name": "TabModel",
      "state": {
       "_titles": {
        "0": "Gerar o Sistema",
        "1": "Funções de Onda"
       },
       "children": [
        "IPY_MODEL_9ef9051bbe974ee789915470a1b1d2de",
        "IPY_MODEL_abbd2bd8a78d4502a173e48fb037e339"
       ],
       "layout": "IPY_MODEL_f5d3786eca73459bb7bb0b1afa79621b",
       "selected_index": 1
      }
     },
     "ecac3a0652d04c429381eed404886985": {
      "model_module": "@jupyter-widgets/controls",
      "model_module_version": "1.5.0",
      "model_name": "TabModel",
      "state": {
       "_titles": {
        "0": "Gerar o Sistema",
        "1": "Funções de Onda"
       },
       "children": [
        "IPY_MODEL_54c4c5b3449f40f9b239251d359001c1",
        "IPY_MODEL_78908ffcaccb4de38f93cc98efd069a5"
       ],
       "layout": "IPY_MODEL_609fea27444f47ec91a8ed9a2679fd03",
       "selected_index": 1
      }
     },
     "ee2919be882d4e91931dc6e796e71d5b": {
      "model_module": "@jupyter-widgets/base",
      "model_module_version": "1.2.0",
      "model_name": "LayoutModel",
      "state": {}
     },
     "eebefd201d4742248e12da9b20ced3ab": {
      "model_module": "@jupyter-widgets/base",
      "model_module_version": "1.2.0",
      "model_name": "LayoutModel",
      "state": {}
     },
     "ef1f96277cbd49dfa61c905789fb83e2": {
      "model_module": "@jupyter-widgets/controls",
      "model_module_version": "1.5.0",
      "model_name": "DescriptionStyleModel",
      "state": {
       "description_width": ""
      }
     },
     "efc96b11c2e84e1c95d5cf6fa77bf13a": {
      "model_module": "@jupyter-widgets/base",
      "model_module_version": "1.2.0",
      "model_name": "LayoutModel",
      "state": {}
     },
     "f083dab90ca54709ab30508acaec2579": {
      "model_module": "@jupyter-widgets/base",
      "model_module_version": "1.2.0",
      "model_name": "LayoutModel",
      "state": {
       "display": "flex",
       "width": "90%"
      }
     },
     "f08ee1cf76e844deb4ac4016e0d2d063": {
      "model_module": "@jupyter-widgets/controls",
      "model_module_version": "1.5.0",
      "model_name": "LabelModel",
      "state": {
       "layout": "IPY_MODEL_4dbc25d93c5a45ec8b0a9fd0399d882e",
       "style": "IPY_MODEL_bc60ffee734e4c64be640f05da1549a4",
       "value": "V(x)[min,max] (eV) ="
      }
     },
     "f469572bd1504ac8bf6d9425d3ab9886": {
      "model_module": "@jupyter-widgets/controls",
      "model_module_version": "1.5.0",
      "model_name": "SliderStyleModel",
      "state": {
       "description_width": "initial"
      }
     },
     "f4b7494c33b04299afa6fb0edf7c3e0c": {
      "model_module": "@jupyter-widgets/controls",
      "model_module_version": "1.5.0",
      "model_name": "LabelModel",
      "state": {
       "layout": "IPY_MODEL_40a6010079024993ac65a719faa83232",
       "style": "IPY_MODEL_c6e211af28044149a6ea43661d6d099e",
       "value": "Número de pontos ="
      }
     },
     "f4d69b0f913c4b3781bea5a71e6f440d": {
      "model_module": "@jupyter-widgets/controls",
      "model_module_version": "1.5.0",
      "model_name": "ButtonStyleModel",
      "state": {}
     },
     "f4e9c98d07554bf08c68acc8bb39d7af": {
      "model_module": "@jupyter-widgets/controls",
      "model_module_version": "1.5.0",
      "model_name": "DescriptionStyleModel",
      "state": {
       "description_width": ""
      }
     },
     "f4f5b1d40a514d1a9070be8d681a8573": {
      "model_module": "@jupyter-widgets/controls",
      "model_module_version": "1.5.0",
      "model_name": "CheckboxModel",
      "state": {
       "description": "Auto limitar eixo y",
       "disabled": false,
       "layout": "IPY_MODEL_b8c8462fe5af42048cc3293c83b5c51a",
       "style": "IPY_MODEL_1f01f0bc5f5a40288ee39f7008f41d47",
       "value": true
      }
     },
     "f5d3786eca73459bb7bb0b1afa79621b": {
      "model_module": "@jupyter-widgets/base",
      "model_module_version": "1.2.0",
      "model_name": "LayoutModel",
      "state": {}
     },
     "f692b73168614053a36167c196eff310": {
      "model_module": "@jupyter-widgets/base",
      "model_module_version": "1.2.0",
      "model_name": "LayoutModel",
      "state": {}
     },
     "f6b02bc100984c638e1c7b03bf930c7a": {
      "model_module": "@jupyter-widgets/controls",
      "model_module_version": "1.5.0",
      "model_name": "ButtonStyleModel",
      "state": {}
     },
     "f6c1adfa4be34751b57e8aedfe6f569c": {
      "model_module": "@jupyter-widgets/controls",
      "model_module_version": "1.5.0",
      "model_name": "DescriptionStyleModel",
      "state": {
       "description_width": "initial"
      }
     },
     "f8189165d5124942bac529b692174ae7": {
      "model_module": "jupyter-matplotlib",
      "model_module_version": "^0.9.0",
      "model_name": "MPLCanvasModel",
      "state": {
       "_cursor": "default",
       "_figure_label": "Figure 2",
       "_height": 800,
       "_image_mode": "diff",
       "_width": 1200,
       "layout": "IPY_MODEL_ee2919be882d4e91931dc6e796e71d5b",
       "toolbar": "IPY_MODEL_d870757251e746eea8c3586ea7929690",
       "toolbar_position": "left"
      }
     },
     "f85a2c193c0d4f0b943855d3609e6c25": {
      "model_module": "@jupyter-widgets/base",
      "model_module_version": "1.2.0",
      "model_name": "LayoutModel",
      "state": {}
     },
     "f8e440aa55504e23bb6f70963dfe57a5": {
      "model_module": "@jupyter-widgets/base",
      "model_module_version": "1.2.0",
      "model_name": "LayoutModel",
      "state": {}
     },
     "fbfc6a146b294835ade068111f3559dd": {
      "model_module": "@jupyter-widgets/base",
      "model_module_version": "1.2.0",
      "model_name": "LayoutModel",
      "state": {}
     },
     "fc6d3fe69d584ba4bddef033f6a83a92": {
      "model_module": "@jupyter-widgets/controls",
      "model_module_version": "1.5.0",
      "model_name": "LabelModel",
      "state": {
       "layout": "IPY_MODEL_423d09f36f874b9eaf2da2101cde0e6b",
       "style": "IPY_MODEL_377bd6a4668d4349862b4302fdfc0042",
       "value": "Expressão V(x) ="
      }
     },
     "fc7004add36d465a9919e97f920db946": {
      "model_module": "jupyter-matplotlib",
      "model_module_version": "^0.9.0",
      "model_name": "ToolbarModel",
      "state": {
       "layout": "IPY_MODEL_86b849c77fc143fba6d1c502fd7a0ae7",
       "toolitems": [
        [
         "Home",
         "Reset original view",
         "home",
         "home"
        ],
        [
         "Back",
         "Back to previous view",
         "arrow-left",
         "back"
        ],
        [
         "Forward",
         "Forward to next view",
         "arrow-right",
         "forward"
        ],
        [
         "Pan",
         "Left button pans, Right button zooms\nx/y fixes axis, CTRL fixes aspect",
         "arrows",
         "pan"
        ],
        [
         "Zoom",
         "Zoom to rectangle\nx/y fixes axis, CTRL fixes aspect",
         "square-o",
         "zoom"
        ],
        [
         "Download",
         "Download plot",
         "floppy-o",
         "save_figure"
        ]
       ]
      }
     },
     "fd08ec0dbc15457da93486c078001b5f": {
      "model_module": "@jupyter-widgets/controls",
      "model_module_version": "1.5.0",
      "model_name": "IntRangeSliderModel",
      "state": {
       "_model_name": "IntRangeSliderModel",
       "_view_name": "IntRangeSliderView",
       "continuous_update": false,
       "description": "Plotar estados:",
       "layout": "IPY_MODEL_c1c24061bb00459fa6bbcf55c0229f5c",
       "max": 20,
       "style": "IPY_MODEL_41e744de384a425cbb00b6d5b6a3f0b6",
       "value": [
        0,
        10
       ]
      }
     }
    },
    "version_major": 2,
    "version_minor": 0
   }
  }
 },
 "nbformat": 4,
 "nbformat_minor": 5
}
