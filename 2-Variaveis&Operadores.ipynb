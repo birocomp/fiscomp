{
 "cells": [
  {
   "cell_type": "markdown",
   "id": "567b57a9",
   "metadata": {
    "slideshow": {
     "slide_type": "slide"
    }
   },
   "source": [
    "# Variáveis básicas"
   ]
  },
  {
   "cell_type": "markdown",
   "id": "ea457d7e",
   "metadata": {
    "slideshow": {
     "slide_type": "fragment"
    }
   },
   "source": [
    "Uma variável, em termos mais gerais, é um 'valor' carregado na memória do computador. Podemos atribuir um *rótulo* para uma variável, salvando-a na memória. Por exemplo, podemos criar e escrever uma variável `x` no console com o comando `print(x)` dessa forma:"
   ]
  },
  {
   "cell_type": "code",
   "execution_count": 101,
   "id": "789419b5",
   "metadata": {
    "slideshow": {
     "slide_type": "fragment"
    }
   },
   "outputs": [
    {
     "data": {
      "text/plain": [
       "100"
      ]
     },
     "execution_count": 101,
     "metadata": {},
     "output_type": "execute_result"
    }
   ],
   "source": [
    "x=80\n",
    "x+20"
   ]
  },
  {
   "cell_type": "markdown",
   "id": "f8f3dfaa",
   "metadata": {
    "slideshow": {
     "slide_type": "slide"
    }
   },
   "source": [
    "É preciso cuidado, pois **o Python diferencia letras minúsculas de maiúsculas!** Podemos escrever dois valores com o comando print(A,B) apenas os separando por vírgula"
   ]
  },
  {
   "cell_type": "code",
   "execution_count": 16,
   "id": "fcd93a52",
   "metadata": {
    "slideshow": {
     "slide_type": "fragment"
    }
   },
   "outputs": [
    {
     "name": "stdout",
     "output_type": "stream",
     "text": [
      "100 50\n"
     ]
    }
   ],
   "source": [
    "a=500\n",
    "A=20\n",
    "print(A,a)"
   ]
  },
  {
   "cell_type": "markdown",
   "id": "2ce1ad50",
   "metadata": {
    "slideshow": {
     "slide_type": "slide"
    }
   },
   "source": [
    " Uma variável pode ser, basicamente, de três tipos:"
   ]
  },
  {
   "cell_type": "markdown",
   "id": "0a0f2c62",
   "metadata": {
    "slideshow": {
     "slide_type": "fragment"
    }
   },
   "source": [
    "1. **String**: Uma string é um pedaço de texto. Strings são escritas entres 'aspas simples' ou \"aspas duplas\""
   ]
  },
  {
   "cell_type": "markdown",
   "id": "552c8182",
   "metadata": {
    "slideshow": {
     "slide_type": "fragment"
    }
   },
   "source": [
    "2. **Numérica**: Um número com precisão que pode ser especificada. Esse tipo de variável possui basicamente 3 subtipos:\\\n",
    "    1. Inteiro (int)  \n",
    "    2. Real (float)   \n",
    "    3. Número complexo (complex)"
   ]
  },
  {
   "cell_type": "markdown",
   "id": "8ca69b5e",
   "metadata": {
    "slideshow": {
     "slide_type": "fragment"
    }
   },
   "source": [
    "3. **Bool**: São quantidades da lógica Booleana que podem ter apenas 2 valores: True (verdadeiro) ou False (falso).\n",
    "Vamos escrever o número '50' das três formas acima.\n",
    "\n",
    "***"
   ]
  },
  {
   "cell_type": "markdown",
   "id": "ba0003fa",
   "metadata": {
    "slideshow": {
     "slide_type": "slide"
    }
   },
   "source": [
    "\n",
    "## String\n",
    "\n",
    "Esse tipo de variável é um texto, sempre escrito entre `'aspas simples'` ou `\"aspas duplas\"`"
   ]
  },
  {
   "cell_type": "code",
   "execution_count": 17,
   "id": "6b583c0d",
   "metadata": {
    "slideshow": {
     "slide_type": "fragment"
    }
   },
   "outputs": [
    {
     "name": "stdout",
     "output_type": "stream",
     "text": [
      "Este também é um texto!\n"
     ]
    }
   ],
   "source": [
    "B=\"Este também é um texto!\"\n",
    "print(B)"
   ]
  },
  {
   "cell_type": "markdown",
   "id": "3d499f5e",
   "metadata": {
    "slideshow": {
     "slide_type": "slide"
    }
   },
   "source": [
    "Abaixo você vê um exemplo de uma *'string'* declarada de forma errada!"
   ]
  },
  {
   "cell_type": "code",
   "execution_count": 20,
   "id": "ee1a39d4",
   "metadata": {
    "slideshow": {
     "slide_type": "fragment"
    }
   },
   "outputs": [
    {
     "name": "stdout",
     "output_type": "stream",
     "text": [
      "500\n"
     ]
    }
   ],
   "source": [
    "A='500'\n",
    "print(A)"
   ]
  },
  {
   "cell_type": "markdown",
   "id": "8d9e68f2",
   "metadata": {
    "slideshow": {
     "slide_type": "slide"
    }
   },
   "source": [
    "***\n",
    "## Numérica\n",
    "\n",
    "Variáveis numéricas representam números e podem ser de **basicamente** 3 tipos, vamos ver uma por uma, mas antes vamos falar sobre as precisões."
   ]
  },
  {
   "cell_type": "markdown",
   "id": "8c1d9567",
   "metadata": {
    "slideshow": {
     "slide_type": "slide"
    }
   },
   "source": [
    "***\n",
    "Quando escreve um número, o computador armazena ou processa em binário, ou seja, ele passa o número para **base 2**.\n",
    "\n",
    "O número **125** em decimal, é escrito como:\n",
    "\n",
    "$${\\color{red}1}{\\color{blue}2}{\\color{orange}5}={\\color{red}100}+{\\color{blue}20}+{\\color{orange}5}$$\n",
    "\n",
    "O sistema é **decimal** porque escrevemos o número como uma soma de **10** elevado a outros inteiros, com alguns coeficientes:\n",
    "\n",
    "$${\\color{red}1}{\\color{blue}2}{\\color{orange}5}={\\color{red}1}\\times10^2 + {\\color{blue}2} \\times 10^1 + {\\color{orange}5} \\times 10^0$$\n"
   ]
  },
  {
   "cell_type": "markdown",
   "id": "efeb8a61",
   "metadata": {
    "slideshow": {
     "slide_type": "slide"
    }
   },
   "source": [
    "\n",
    "Em binário o mesmo número seria escrito como:\n",
    "\n",
    "$$125_{base \\, 2}=1111101 \\rightarrow 1\\times 2^6 + 1\\times 2^5 + 1\\times 2^4 + 1\\times 2^3 + 1\\times 2^2 + 0 \\times 2^1 + 1 \\times 2^0$$\n",
    "\n",
    "Aqui, cada **1** ou **0** é considerado um bit. Um inteiro positivo de **32 bits** (levando em conta que um dos 32 bits é utilizado para armazenar o sinal do número), em binário, tem que ser uma sequência de 63 números 1\n",
    "\n",
    "$$1111111111111111111111111111111_{base \\, 10}=2147483647$$"
   ]
  },
  {
   "cell_type": "markdown",
   "id": "1119e3ca",
   "metadata": {
    "slideshow": {
     "slide_type": "slide"
    }
   },
   "source": [
    "Em um sistema de **64 bits**, o maior inteiro possível seria uma sequência de **63 números 1**"
   ]
  },
  {
   "cell_type": "code",
   "execution_count": 24,
   "id": "3693737e",
   "metadata": {
    "slideshow": {
     "slide_type": "fragment"
    }
   },
   "outputs": [
    {
     "name": "stdout",
     "output_type": "stream",
     "text": [
      "9223372036854775807\n"
     ]
    }
   ],
   "source": [
    "import sys\n",
    "print (sys.maxsize)"
   ]
  },
  {
   "cell_type": "markdown",
   "id": "1706c740",
   "metadata": {
    "slideshow": {
     "slide_type": "slide"
    }
   },
   "source": [
    "As precisões vão denotar quantos **bits** serão atribuídos para representar seu número. \n",
    "\n",
    "* O Python entende números reais automaticamente como **dupla precisão**. Mais para frente veremos como usar o `numpy` para escrever números com uma precisão menor. Veja aqui a divisão **(2/3)** escrita em 3 precisões diferentes:\n",
    "    * `precisão dupla (64 bits): 0.6666666666666666`\n",
    "    \n",
    "    * `precisão simples (32 bits): 0.6666667`\n",
    "    \n",
    "    * `(16 bits): 0.6665`\n",
    "***"
   ]
  },
  {
   "cell_type": "markdown",
   "id": "5fb22d37",
   "metadata": {
    "slideshow": {
     "slide_type": "slide"
    }
   },
   "source": [
    "\n",
    "### Inteiro (int)\n",
    "\n",
    "Um **int** é apenas um número inteiro."
   ]
  },
  {
   "cell_type": "code",
   "execution_count": 25,
   "id": "24d9ddd4",
   "metadata": {
    "slideshow": {
     "slide_type": "fragment"
    }
   },
   "outputs": [
    {
     "name": "stdout",
     "output_type": "stream",
     "text": [
      "50\n"
     ]
    }
   ],
   "source": [
    "variavel=50\n",
    "print(variavel)"
   ]
  },
  {
   "cell_type": "markdown",
   "id": "4e988c07",
   "metadata": {
    "slideshow": {
     "slide_type": "slide"
    }
   },
   "source": [
    "### Real (float)\n",
    "\n",
    "Um real (float) pode ser escrito de várias maneiras, por exemplo, o número 50 pode ser escrito como\n",
    "\n",
    "* $50 \\rightarrow$`50.0`\n",
    "\n",
    "* $50 \\rightarrow$`50.`\n",
    "\n",
    "* ${\\color{red}5} \\times 10^{\\color{red}1} \\rightarrow$`5e1`"
   ]
  },
  {
   "cell_type": "code",
   "execution_count": 32,
   "id": "cc81b390",
   "metadata": {
    "slideshow": {
     "slide_type": "fragment"
    }
   },
   "outputs": [
    {
     "data": {
      "text/plain": [
       "50.0"
      ]
     },
     "execution_count": 32,
     "metadata": {},
     "output_type": "execute_result"
    }
   ],
   "source": [
    "50.0"
   ]
  },
  {
   "cell_type": "markdown",
   "id": "e66ff691",
   "metadata": {
    "slideshow": {
     "slide_type": "slide"
    }
   },
   "source": [
    "### Complexo (complex)\n",
    "\n",
    "A unidade imaginária é *'j'*, portanto, um número complexo qualquer $z=a+ib$ é escrito como\n",
    "\n",
    "* $a+ib \\rightarrow$`a+bj`\n",
    "\n",
    "* $a+ib \\rightarrow$`complex(a,b)`\n",
    "\n",
    "Por exemplo, o número $z=50-i3$ pode ser escrito da seguinte forma"
   ]
  },
  {
   "cell_type": "code",
   "execution_count": 45,
   "id": "b815bd15",
   "metadata": {
    "slideshow": {
     "slide_type": "fragment"
    }
   },
   "outputs": [
    {
     "name": "stdout",
     "output_type": "stream",
     "text": [
      "(50-3j)\n"
     ]
    }
   ],
   "source": [
    "print(50-3j)"
   ]
  },
  {
   "cell_type": "markdown",
   "id": "80eb7863",
   "metadata": {
    "slideshow": {
     "slide_type": "slide"
    }
   },
   "source": [
    "***\n",
    "## Bool\n",
    "\n",
    "Uma variável do tipo bool (abreviação de Boolean) só pode ter dois valores:\n",
    "\n",
    "* $Verdadeiro \\rightarrow$ `True`\n",
    "* $Falso \\rightarrow$ `False`"
   ]
  },
  {
   "cell_type": "code",
   "execution_count": 48,
   "id": "4586ab98",
   "metadata": {
    "slideshow": {
     "slide_type": "fragment"
    }
   },
   "outputs": [
    {
     "name": "stdout",
     "output_type": "stream",
     "text": [
      "False\n"
     ]
    }
   ],
   "source": [
    "F=False\n",
    "print(F)"
   ]
  },
  {
   "cell_type": "markdown",
   "id": "03a54169",
   "metadata": {
    "slideshow": {
     "slide_type": "slide"
    }
   },
   "source": [
    "**`True` e `False` precisam estar com as iniciais maiúsculas para serem reconhecidas pelo Python!**"
   ]
  },
  {
   "cell_type": "code",
   "execution_count": 54,
   "id": "5abe65f5",
   "metadata": {
    "slideshow": {
     "slide_type": "fragment"
    }
   },
   "outputs": [
    {
     "name": "stdout",
     "output_type": "stream",
     "text": [
      "False\n"
     ]
    }
   ],
   "source": [
    "F=False\n",
    "print(F)"
   ]
  },
  {
   "cell_type": "markdown",
   "id": "d2434881",
   "metadata": {
    "slideshow": {
     "slide_type": "slide"
    }
   },
   "source": [
    "***\n",
    "# Listas e Tuplas\n",
    "\n",
    "Listas e Tuplas são bem parecidas. As diferenças principais entre os dois métodos é que as Tuplas são: imutáveis e menos exigentes com a memória."
   ]
  },
  {
   "cell_type": "markdown",
   "id": "e2a9ae75",
   "metadata": {
    "slideshow": {
     "slide_type": "slide"
    }
   },
   "source": [
    "## Listas\n",
    "Listas são agrupamentos de objetos no Python. Os objetos são escritos entre colchetes e separados por vírgulas, por exemplo, podemos criar listas com números, strings e até misturar as duas, exemplo:"
   ]
  },
  {
   "cell_type": "code",
   "execution_count": 59,
   "id": "a3daaa47",
   "metadata": {
    "slideshow": {
     "slide_type": "fragment"
    }
   },
   "outputs": [
    {
     "name": "stdout",
     "output_type": "stream",
     "text": [
      "vermelho\n"
     ]
    }
   ],
   "source": [
    "inteiros=[1,2,3,4]\n",
    "cores=['azul','vermelho','rosa']\n",
    "print(cores[1])"
   ]
  },
  {
   "cell_type": "markdown",
   "id": "14d8cd7a",
   "metadata": {},
   "source": [
    "Podemos escrever um elemento específico da lista, utilizando os indíces. Por exemplo"
   ]
  },
  {
   "cell_type": "code",
   "execution_count": 62,
   "id": "afea5503",
   "metadata": {},
   "outputs": [
    {
     "name": "stdout",
     "output_type": "stream",
     "text": [
      "rosa\n"
     ]
    }
   ],
   "source": [
    "print(cores[2])"
   ]
  },
  {
   "cell_type": "markdown",
   "id": "771a1b62",
   "metadata": {},
   "source": [
    "**Note que o programa printou o valor `rosa` e não `vermelho` Isso porque a indexação das listas e tuplas começa em 0!**\n",
    "\n",
    "Veja na esquerda os índices do python e na direita o nosso objetos lista chamado `cores`\n",
    "\n",
    "$$\\begin{matrix}\n",
    "cores[0],&\n",
    "cores[1],&\n",
    "cores[2]\n",
    "\\end{matrix}=\\begin{bmatrix} 'azul', & 'vermelho', & 'rosa'  \\end{bmatrix}$$"
   ]
  },
  {
   "cell_type": "markdown",
   "id": "7e97cb93",
   "metadata": {
    "slideshow": {
     "slide_type": "slide"
    }
   },
   "source": [
    "## Tuplas\n",
    "\n",
    "Tuplas são bem parecidas com listas, são uma série de objetos escritos entre parentêses"
   ]
  },
  {
   "cell_type": "code",
   "execution_count": 63,
   "id": "a83532b3",
   "metadata": {
    "slideshow": {
     "slide_type": "fragment"
    }
   },
   "outputs": [
    {
     "name": "stdout",
     "output_type": "stream",
     "text": [
      "(1, 2, 3, 4, 5)\n"
     ]
    }
   ],
   "source": [
    "inteiros=(1,2,3,4,5)\n",
    "print(inteiros)"
   ]
  },
  {
   "cell_type": "markdown",
   "id": "435e18f5",
   "metadata": {
    "slideshow": {
     "slide_type": "slide"
    }
   },
   "source": [
    "***\n",
    "\n",
    "# Função Type\n",
    "\n",
    "\n",
    "Podemos descobrir o tipo de uma variável `x` usando o comando `type(x)`"
   ]
  },
  {
   "cell_type": "code",
   "execution_count": 68,
   "id": "63281c69",
   "metadata": {
    "slideshow": {
     "slide_type": "fragment"
    }
   },
   "outputs": [
    {
     "data": {
      "text/plain": [
       "str"
      ]
     },
     "execution_count": 68,
     "metadata": {},
     "output_type": "execute_result"
    }
   ],
   "source": [
    "type('50')"
   ]
  },
  {
   "cell_type": "markdown",
   "id": "9339d4fc",
   "metadata": {
    "slideshow": {
     "slide_type": "fragment"
    }
   },
   "source": [
    "Note que porque o '50' acima está entre aspas, ele é interpretado como uma **string** (str) e não como um **inteiro**"
   ]
  },
  {
   "cell_type": "markdown",
   "id": "5e0a8eed",
   "metadata": {
    "slideshow": {
     "slide_type": "slide"
    }
   },
   "source": [
    "***\n",
    "# Operações Aritméticas"
   ]
  },
  {
   "cell_type": "markdown",
   "id": "25e865ab",
   "metadata": {
    "slideshow": {
     "slide_type": "slide"
    }
   },
   "source": [
    "Podemos realizar operações entre diferentes variáveis, como: soma, subtração, divisão, etc; Das seguintes formas\n",
    "\n",
    "* $a+b \\rightarrow$ `a+b`\n",
    "\n",
    "* $a-b \\rightarrow$ `a-b`\n",
    "\n",
    "* $a\\times b \\rightarrow$ `a*b`\n",
    "\n",
    "* $a \\div b \\rightarrow$ `a/b`\n",
    "\n",
    "* $a^b \\rightarrow$ `a**b`\n",
    "\n",
    "Podemos ver um exemplo abaixo"
   ]
  },
  {
   "cell_type": "code",
   "execution_count": 84,
   "id": "6eede346",
   "metadata": {
    "slideshow": {
     "slide_type": "fragment"
    }
   },
   "outputs": [
    {
     "name": "stdout",
     "output_type": "stream",
     "text": [
      "8\n"
     ]
    }
   ],
   "source": [
    "a=2\n",
    "b=3\n",
    "print(a**b)"
   ]
  },
  {
   "cell_type": "code",
   "execution_count": 85,
   "id": "c7e49011",
   "metadata": {
    "slideshow": {
     "slide_type": "slide"
    }
   },
   "outputs": [
    {
     "name": "stdout",
     "output_type": "stream",
     "text": [
      "5+2= 7\n",
      "5-2= 3\n",
      "5*2= 10\n",
      "5/2= 2.5\n",
      "5**2= 25\n"
     ]
    }
   ],
   "source": [
    "print('5+2=',5+2) #soma\n",
    "print('5-2=',5-2) #subtração\n",
    "print('5*2=',5*2) #multiplicação\n",
    "print('5/2=',5/2) #divisão\n",
    "print('5**2=',5**2)#exponenciação"
   ]
  },
  {
   "attachments": {
    "29e484be-ac63-4bf0-9718-bee1f4f5aed3.png": {
     "image/png": "[encoded data removed]"
    }
   },
   "cell_type": "markdown",
   "id": "9ac53bbb",
   "metadata": {
    "slideshow": {
     "slide_type": "slide"
    }
   },
   "source": [
    "Também existem algumas operações para facilitar nossa vida. Considere a divisão abaixo\n",
    "\n",
    "![image.png](attachment:29e484be-ac63-4bf0-9718-bee1f4f5aed3.png)\n",
    "\n",
    "Podemos encontrar o **resto** da divisão utilizando apenas o operador `%`, ou seja\n",
    "\n",
    "* $Resto(17\\div 2) \\rightarrow$ `17%2`\n",
    "\n",
    "Veja"
   ]
  },
  {
   "cell_type": "code",
   "execution_count": 89,
   "id": "9283a87a",
   "metadata": {
    "slideshow": {
     "slide_type": "fragment"
    }
   },
   "outputs": [
    {
     "name": "stdout",
     "output_type": "stream",
     "text": [
      "1\n"
     ]
    }
   ],
   "source": [
    "print(17%2)"
   ]
  },
  {
   "cell_type": "markdown",
   "id": "b7834799",
   "metadata": {
    "slideshow": {
     "slide_type": "slide"
    }
   },
   "source": [
    "Se queremos truncar o resultado da divisão entre 17 e 2 (aproximar para o inteiro mais baixo) podemos usar o operador `//`"
   ]
  },
  {
   "cell_type": "code",
   "execution_count": 90,
   "id": "41b764ba",
   "metadata": {
    "slideshow": {
     "slide_type": "fragment"
    }
   },
   "outputs": [
    {
     "name": "stdout",
     "output_type": "stream",
     "text": [
      "Valor da divisão= 8.5\n",
      "Valor truncado da divisão= 8\n",
      "Resto da divisão= 1\n"
     ]
    }
   ],
   "source": [
    "print('Valor da divisão=', 17/2)\n",
    "print('Valor truncado da divisão=', 17//2)\n",
    "print('Resto da divisão=', 17%2)"
   ]
  },
  {
   "cell_type": "markdown",
   "id": "bae9a941",
   "metadata": {
    "slideshow": {
     "slide_type": "slide"
    }
   },
   "source": [
    "# Operadores de comparação"
   ]
  },
  {
   "cell_type": "markdown",
   "id": "e9069cea",
   "metadata": {
    "slideshow": {
     "slide_type": "fragment"
    }
   },
   "source": [
    "Podemos usar alguns operadores para comparar duas variáveis ou valores. Por exemplo, digamos que queremos saber se 200 é maior que 75, podemos usar o operador '>' e o console nos dirá se a relação é verdadeira ou falsa"
   ]
  },
  {
   "cell_type": "code",
   "execution_count": 92,
   "id": "0f67cbc7",
   "metadata": {
    "slideshow": {
     "slide_type": "fragment"
    }
   },
   "outputs": [
    {
     "name": "stdout",
     "output_type": "stream",
     "text": [
      "False\n"
     ]
    }
   ],
   "source": [
    "print(200>75)"
   ]
  },
  {
   "cell_type": "markdown",
   "id": "42dff8ac",
   "metadata": {
    "slideshow": {
     "slide_type": "slide"
    }
   },
   "source": [
    "Veja que o resultado é **True** (verdadeiro), logo 200 é maior que 75. Também podemos utilizar a mesma lógica com outros operadores, e perguntarmos se:\n",
    "* $a>b \\rightarrow$ `a>b`\n",
    "\n",
    "* $a<b \\rightarrow$ `a<b`\n",
    "\n",
    "* $a \\leq b \\rightarrow$ `a<=b`\n",
    "\n",
    "* $a \\geq b \\rightarrow$ `a>=b`\n",
    "\n",
    "* $a\\neq b \\rightarrow$ `a!=b`\n",
    "\n",
    "* $a = b \\rightarrow$ `a==b`\n",
    "\n",
    "Note que para fazer uma comparação entre $a$ e $b$, e descobrir se são iguais, utilizamos o operador `==` e não `=`"
   ]
  },
  {
   "cell_type": "code",
   "execution_count": 98,
   "id": "6f9812ed",
   "metadata": {
    "slideshow": {
     "slide_type": "slide"
    }
   },
   "outputs": [
    {
     "name": "stdout",
     "output_type": "stream",
     "text": [
      "False\n"
     ]
    }
   ],
   "source": [
    "print(452==125)"
   ]
  },
  {
   "cell_type": "markdown",
   "id": "7ee9a3d5",
   "metadata": {
    "slideshow": {
     "slide_type": "slide"
    }
   },
   "source": [
    "Algumas comparações também podem ser feitas com variáveis não numéricas, por exemplo"
   ]
  },
  {
   "cell_type": "code",
   "execution_count": 100,
   "id": "f1457a40",
   "metadata": {
    "slideshow": {
     "slide_type": "fragment"
    }
   },
   "outputs": [
    {
     "name": "stdout",
     "output_type": "stream",
     "text": [
      "True\n",
      "False\n",
      "True\n"
     ]
    }
   ],
   "source": [
    "m='maçã'\n",
    "b='banana'\n",
    "\n",
    "print(m==m) #'maçã' é igual a 'maçã'?\n",
    "print(b==m) #'banana' é igual a 'maçã'?\n",
    "print(m!=b) #'maçã' é diferente de 'banana'?"
   ]
  }
 ],
 "metadata": {
  "celltoolbar": "Slideshow",
  "hide_input": false,
  "kernelspec": {
   "display_name": "Python 3 (Spyder)",
   "language": "python3",
   "name": "python3"
  },
  "language_info": {
   "codemirror_mode": {
    "name": "ipython",
    "version": 3
   },
   "file_extension": ".py",
   "mimetype": "text/x-python",
   "name": "python",
   "nbconvert_exporter": "python",
   "pygments_lexer": "ipython3",
   "version": "3.9.5"
  },
  "toc": {
   "base_numbering": 1,
   "nav_menu": {},
   "number_sections": true,
   "sideBar": true,
   "skip_h1_title": false,
   "title_cell": "Table of Contents",
   "title_sidebar": "Contents",
   "toc_cell": false,
   "toc_position": {},
   "toc_section_display": true,
   "toc_window_display": true
  },
  "toc-autonumbering": true,
  "widgets": {
   "application/vnd.jupyter.widget-state+json": {
    "state": {},
    "version_major": 2,
    "version_minor": 0
   }
  }
 },
 "nbformat": 4,
 "nbformat_minor": 5
}
