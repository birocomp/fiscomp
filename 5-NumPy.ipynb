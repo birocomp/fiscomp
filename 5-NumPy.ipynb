{
 "cells": [
  {
   "cell_type": "markdown",
   "id": "5f7d10ca-2736-4c4d-97f3-a624948c67ba",
   "metadata": {
    "slideshow": {
     "slide_type": "slide"
    }
   },
   "source": [
    "# Pacotes\n",
    "\n",
    "Pacotes são coleções de funções, códigos e ferramentas para implementar tarefas de forma fácil no Python. Uma vez que os baixamos com um gerenciador de pacotes (`conda` ou `pip`), basta importá-los no nosso código."
   ]
  },
  {
   "cell_type": "markdown",
   "id": "ed6aadbc-06d9-4920-a50f-76dc0f90ac6b",
   "metadata": {
    "slideshow": {
     "slide_type": "slide"
    }
   },
   "source": [
    "# Numpy\n",
    "\n",
    "Numpy é um pacote Python feito para lidar com números, vetores, matrizes e álgebra no geral, com alta performance e facilidade."
   ]
  },
  {
   "cell_type": "code",
   "execution_count": 8,
   "id": "87d63e64-23f9-4adb-ba21-9dc3300883f7",
   "metadata": {
    "slideshow": {
     "slide_type": "fragment"
    }
   },
   "outputs": [],
   "source": [
    "#Antes de qualquer coisa, vamos importar o NumPy no nosso codigo como  uma abreviação 'np'\n",
    "import numpy as np #IMPORTAR numpy COMO np\n"
   ]
  },
  {
   "cell_type": "markdown",
   "id": "1549dcd4-19f7-49d6-a034-6e406193170d",
   "metadata": {
    "slideshow": {
     "slide_type": "slide"
    }
   },
   "source": [
    "Agora já podemos fazer uso de todas as funcionalidades do `numpy` no nosso código! Note que podemos importar o `numpy` como qualquer abreviação, e até mesmo sem uma! Por exemplo:"
   ]
  },
  {
   "cell_type": "markdown",
   "id": "3396fbe5-5c65-4ec0-9216-66cc49a7b39c",
   "metadata": {
    "slideshow": {
     "slide_type": "slide"
    }
   },
   "source": [
    ">```Python\n",
    "import numpy\n",
    ">```\n",
    "\n",
    "No entanto, se quisermos usar a função `array` do `numpy`, por exemplo, precisaremos digitar `numpy.array` e assim será para todas as funcionalidades. Portanto, é conveniente utilizar uma abreviação, neste caso digitaremos apenas `np.array`.\n",
    "\n",
    "**É uma convenção utilizar `np` como abreviação para `numpy`.**"
   ]
  },
  {
   "cell_type": "markdown",
   "id": "4b49f5a1",
   "metadata": {
    "slideshow": {
     "slide_type": "slide"
    }
   },
   "source": [
    "## tipos Numpy\n",
    "\n",
    "Para uma lista completa, atualizada e explicada de todos os tipos de variáveis básicas do `NumPy` (em inglês) [clique aqui](https://numpy.org/devdocs/user/basics.types.html).\n",
    "\n",
    "Vamos ver os tipos principais básicos que utilizaremos no Numpy. Isso servirá para especificar a precisão de uma variável."
   ]
  },
  {
   "cell_type": "markdown",
   "id": "a9c4b7ab-2910-4397-aee1-2d2daaf3830b",
   "metadata": {
    "slideshow": {
     "slide_type": "slide"
    }
   },
   "source": [
    "### signed ints\n",
    "\n",
    "Um `signed int` é um inteiro que utiliza um dos bits para guardar o sinal do número.\n",
    "\n",
    "| tipo Numpy | tipo C | bits | Descrição | nomes alternativos (bits) |\n",
    "| :- | :- | :- | :-| :- |\n",
    "| `np.byte` | char | 8  | Definido pela plataforma.| `np.int8`|\n",
    "| `np.short`| short | 16  | Definido pela plataforma.| `np.int16`|\n",
    "| `np.intc` | int | 32  | Definido pela plataforma.| `np.int32`|\n",
    "| `np.int_`| long | 64  |Definido pela plataforma.| `np.int64`|"
   ]
  },
  {
   "cell_type": "markdown",
   "id": "26150b2d-327c-4a21-bc8e-85c8bbc36b8d",
   "metadata": {
    "slideshow": {
     "slide_type": "slide"
    }
   },
   "source": [
    "### unsigned ints\n",
    "\n",
    "Um `unsigned int` é um  inteiro que não utilizada nenhum bit para guardar o sinal do número e, portanto, é sempre positivo e tem um alcance maior.\n",
    "\n",
    "| tipo Numpy | tipo C | bits | Descrição | nomes alternativos (bits) |\n",
    "| :- | :- | :- | :-| :- |\n",
    "| `np.ubyte` | char | 8 | Definido pela plataforma.| `np.uint8`|\n",
    "| `np.ushort`| short | 16 | Definido pela plataforma.| `np.uint16`|\n",
    "| `np.uintc` | int | 32  | Definido pela plataforma.| `np.uint32`|\n",
    "| `np.uint`| long | 64  |Definido pela plataforma.| `np.uint64`|"
   ]
  },
  {
   "cell_type": "markdown",
   "id": "fd2bdd22",
   "metadata": {
    "slideshow": {
     "slide_type": "slide"
    }
   },
   "source": [
    "| tipo Numpy |nomes alternativos| tipo C | bits | Descrição  | nomes alternativos (bits) |\n",
    "| :- | :- | :-: | :-: | :- | :-|\n",
    "|`np.half`| - |-| 16  | Float de meia precisão: expoente de 5 bits e mantissa de 10 bits.|`np.float16`|\n",
    "| `np.single`|-| float |  32  | Float de precisão única definido pela plataforma: normalmente um signed bit com expoente de 8 bits e uma mantissa de 23 bits.|  `np.float32` |\n",
    "| `np.double`|`np.float_`| double | 64  | Float de precisão dupla definido pela plataforma: normalmente um signed bit com expoente de 11 bits e uma mantissa de 52 bits.|`np.float64`|\n",
    "| `np.longdouble`| `np.longfloat`| long double |128  | Float de precisão estendida definido pela plataforma: normalmente um signed bit com expoente de 11 bits e uma mantissa de 52 bits.| **`np.float128`** \\*|\n",
    "| `np.csingle`|`np.singlecomplex`| float complex |2x32 | Número complexo representado por 2 floats de precisão única (parte real e imaginária).| `np.complex64 `|\n",
    "| `np.cdouble`|`numpy.cfloat`, `numpy.complex_`| double complex  | 2x64 | Número complexo representado por 2 floats de precisão dupla (parte real e imaginária).|`np.complex128`|\n",
    "| `np.clongdouble`|`numpy.clongfloat`, `numpy.longcomplex`| long double complex | 2x128 | Número complexo representado por 2 floats de precisão estendida (parte real e imaginária).| **`np.complex256`** \\*|\n",
    "\n",
    "\n",
    "A última coluna mostra alternativas com o número de bits explícitos. Items em negrito, marcados com asterisco, indicam nomenclaturas alternativas que podem não existir em algumas plataformas, vamos ver como checar isso usando a função `info` mais tarde."
   ]
  },
  {
   "cell_type": "code",
   "execution_count": 2,
   "id": "2510aff9",
   "metadata": {
    "slideshow": {
     "slide_type": "slide"
    }
   },
   "outputs": [
    {
     "name": "stdout",
     "output_type": "stream",
     "text": [
      "\n",
      " Reais:\n",
      "np.float16:     0.6665\n",
      "np.float32:     0.6666667\n",
      "np.float64:     0.6666666666666666\n",
      "np.longdouble:  0.6666666666666666667\n",
      "\n",
      " Complexos:\n",
      "np.complex64:    (0.6666667+0.33333334j)\n",
      "np.complex128:   (0.6666666666666666+0.3333333333333333j)\n",
      "np.clongdouble:  (0.6666666666666666667+0.33333333333333333334j)\n"
     ]
    }
   ],
   "source": [
    "import numpy as np\n",
    "\n",
    "print('\\n Reais:')\n",
    "print('np.float16:    ', np.float16(2/3))\n",
    "print('np.float32:    ', np.float32(2/3))\n",
    "print('np.float64:    ', np.float64(2/3))\n",
    "print('np.longdouble: ', (2/np.longdouble(3)))\n",
    "\n",
    "print('\\n Complexos:')\n",
    "print('np.complex64:   ', np.complex64(2/3 + 1j/3))\n",
    "print('np.complex128:  ', np.complex128(2/3 + 1j/3))\n",
    "print('np.clongdouble: ', np.clongdouble(2 + 1j)/3)"
   ]
  },
  {
   "cell_type": "markdown",
   "id": "748e3c90-7688-4c94-af4d-e9e8bcb529cd",
   "metadata": {
    "slideshow": {
     "slide_type": "slide"
    }
   },
   "source": [
    "Note que o `numpy` avalia a operação dentro da função de conversão antes de executá-la, então, por exemplo\n",
    "\n",
    "* `np.longdouble(2/3)` criará um `np.longdouble` que não necessariamente corresponderá a `2/3` até a última casa decimal disponível. Isso porque o Python fará nessa ordem:\n",
    "    1. `2/3 = 0.6666666666666666` $\\rightarrow$ salva-se `2/3` como um `np.float64`.\n",
    "    2. `np.longdouble(0.6666666666666666)` $\\rightarrow$ transforma-se um `np.float64` em um `np.longdouble`.\n",
    "    3. As casas decimais extras são adicionadas sem conhecimento de que `0.6666666666666666` é uma aproximação de `2/3`.\n",
    "    "
   ]
  },
  {
   "cell_type": "markdown",
   "id": "117e0e4e-0128-439b-a4e7-cd040bf6332b",
   "metadata": {
    "slideshow": {
     "slide_type": "slide"
    }
   },
   "source": [
    "Solução: \n",
    "\n",
    "* Define-se a fração definindo um dos números como `np.longdouble` e então executa-se as operações. Veja uma comparação:\n",
    "\n",
    "    1. `np.longdouble(2)/3 = 0.6666666666666666667`\n",
    "    2. `2/np.longdouble(3) = 0.6666666666666666667`\n",
    "    3. `np.longdouble(2/3) = 0.66666666666666662966`   \n",
    "    \n",
    "Uma vez que uma variável `np.longdouble` foi definida, qualquer operação com ela resultará em outra `np.longdouble`."
   ]
  },
  {
   "cell_type": "markdown",
   "id": "541b754d",
   "metadata": {
    "slideshow": {
     "slide_type": "slide"
    }
   },
   "source": [
    "### info()\n",
    "\n",
    "[Clique aqui](https://numpy.org/doc/stable/reference/generated/numpy.info.html) para abrir a documentação mais recente sobre a função (em inglês).\n",
    "\n",
    "Nós podemos usar a função `info` do `numpy` para exibir informações específicas de um tipo de variável para nossa plataforma:"
   ]
  },
  {
   "cell_type": "markdown",
   "id": "f4baf605",
   "metadata": {
    "slideshow": {
     "slide_type": "slide"
    }
   },
   "source": [
    "Input:\n",
    ">```Python\n",
    "import numpy as np #importa numpy como np\n",
    "print(np.info(np.int8)) #printa informações sobre o tipo 'np.int8' na minha plataforma\n",
    ">```\n",
    "\n",
    "Output:\n",
    ">int8()\n",
    ">\n",
    ">Signed integer type, compatible with C ``char``.\n",
    ">\n",
    ">:Character code: ``'b'``\n",
    ">\n",
    ">:Canonical name: `numpy.byte`\n",
    ">\n",
    ">:Alias on this platform: `numpy.int8`: 8-bit signed integer (``-128`` to ``127``).\n",
    ">\n",
    ">Methods:...\n",
    "\n",
    "Legenda:\n",
    "\n",
    "* **Character code**: o código para esse tipo de variável.\n",
    "* **Canonical name**: o nome padrão para esse tipo de variável.\n",
    "* **Alias on this platform**: nomes alternativos para esse tipo de variável e informações sobre sua precisão na sua plataforma.\n",
    "* **Methods**: lista de todos os métodos disponíveis para essa variável."
   ]
  },
  {
   "cell_type": "markdown",
   "id": "38ec43c7",
   "metadata": {
    "slideshow": {
     "slide_type": "slide"
    }
   },
   "source": [
    "### finfo()\n",
    "\n",
    "[Clique aqui](https://numpy.org/doc/stable/reference/generated/numpy.finfo.html) para abrir a documentação mais recente sobre a função (em inglês).\n",
    "\n",
    "Alternativamente, podemos usar `finfo` para exibir apenas informações detalhadas sobre a precisão de um tipo de float (ou complexo) na nossa máquina. Por exemplo, para exibir informações do tipo `np.double`, podemos printar o resultado da função `finfo` nesse tipo:"
   ]
  },
  {
   "cell_type": "code",
   "execution_count": 7,
   "id": "148dc7c9",
   "metadata": {
    "slideshow": {
     "slide_type": "slide"
    }
   },
   "outputs": [
    {
     "name": "stdout",
     "output_type": "stream",
     "text": [
      "Machine parameters for float64\n",
      "---------------------------------------------------------------\n",
      "precision =  15   resolution = 1.0000000000000001e-15\n",
      "machep =    -52   eps =        2.2204460492503131e-16\n",
      "negep =     -53   epsneg =     1.1102230246251565e-16\n",
      "minexp =  -1022   tiny =       2.2250738585072014e-308\n",
      "maxexp =   1024   max =        1.7976931348623157e+308\n",
      "nexp =       11   min =        -max\n",
      "---------------------------------------------------------------\n",
      "\n"
     ]
    }
   ],
   "source": [
    "import numpy as np\n",
    "print(np.finfo(np.float64))"
   ]
  },
  {
   "cell_type": "markdown",
   "id": "669c262c",
   "metadata": {
    "slideshow": {
     "slide_type": "slide"
    }
   },
   "source": [
    "| quantidade |tipo de valor| significado |\n",
    "| :- |:-| :- |\n",
    "|**bits**|int |O número de bits ocupado pelo tipo.|\n",
    "|**eps**|float|A diferença entre 1.0 e o próximo menor float representável maior que 1.0. Por exemplo, para um float binário de 64 bits no padrão IEEE-754, eps=$2^{-52}$, aproximandamente $2.22\\times 10^{-16}$.|\n",
    "|**epsneg**|float | A diferença entre 1.0 e o próximo menor float representável maior que 1.0. Por exemplo, para um float binário de 64 bits no padrão IEEE-754, eps=$2^{-53}$, aproximandamente $1.11\\times 10^{-16}$.|\n",
    "|**iexp**|int|O número de bits na parte do expoente na representação do float.|\n",
    "|**machar**|MachAr|O objeto que fez esses cálculos e tem mais informações detalhadas.|\n",
    "|**machep**|int|O expoente que produz **eps**. |\n",
    "|**max**|floating point number of the appropriate type| O maior número representável.|\n",
    "|**maxexp**|int|O menor valor positivo para a potência em base (2) que causa overflow.|\n",
    "|**min**|floating point number of the appropriate type|O menor valor representável, normalmente -**max**.|\n",
    "|**minexp**|int|O valor mais negativo do potência em base (2) consistente com não haver 0's na frente da mantissa.|\n",
    "|**negep**|int|O expoente que produz **epsneg**.|\n",
    "|**nexp**|int|O número de bits no expoente incluindo o sinal e o bias.|\n",
    "|**nmant**|int|O número de bits na mantissa.|\n",
    "|**precision**|int|O número aproximado de casas decimais para qual esse tipo de float é preciso.|\n",
    "|**resolution**|floating point number of the appropriate type|A resolução aproximada para este tipo, i.e., $10^{precision}$|\n",
    "|**tiny**|float|O menor valor possível para um float com precisão total.|"
   ]
  },
  {
   "cell_type": "markdown",
   "id": "a5dc5d21",
   "metadata": {
    "slideshow": {
     "slide_type": "slide"
    }
   },
   "source": [
    "### iinfo()\n",
    "\n",
    "[Clique aqui](https://numpy.org/doc/stable/reference/generated/numpy.iinfo.html) para abrir a documentação mais recente sobre a função.\n",
    "\n",
    "Um comando análogo ao `finfo()` porém para **inteiros**, o método de utilização é o mesmo:"
   ]
  },
  {
   "cell_type": "code",
   "execution_count": 2,
   "id": "c2010251",
   "metadata": {
    "slideshow": {
     "slide_type": "slide"
    }
   },
   "outputs": [
    {
     "name": "stdout",
     "output_type": "stream",
     "text": [
      "Machine parameters for int8\n",
      "---------------------------------------------------------------\n",
      "min = -128\n",
      "max = 127\n",
      "---------------------------------------------------------------\n",
      "\n"
     ]
    }
   ],
   "source": [
    "import numpy as np\n",
    "print(np.iinfo(np.byte))"
   ]
  },
  {
   "cell_type": "markdown",
   "id": "9a70a206-21bd-4d2e-8ee6-08521e08b497",
   "metadata": {
    "slideshow": {
     "slide_type": "slide"
    }
   },
   "source": [
    "## Arrays (arranjos)\n",
    "\n",
    "[Clique aqui](https://numpy.org/devdocs/reference/arrays.html) para abrir a documentação mais atualizada sobre arrays do `NumPy` (em inglês).\n",
    "\n",
    "Um arranjo no `numpy` é um 'contêiner' multidimensional (geralmente de tamanho fixo) de itens do mesmo tipo e tamanho."
   ]
  },
  {
   "cell_type": "markdown",
   "id": "019bf98f-a34c-4da9-9a26-411dfb17229f",
   "metadata": {
    "slideshow": {
     "slide_type": "fragment"
    }
   },
   "source": [
    "<center><img style=\"float: center\" src=\"files/nparray0.png\" width=\"800\"></center>"
   ]
  },
  {
   "cell_type": "markdown",
   "id": "5cf7e8b9",
   "metadata": {
    "slideshow": {
     "slide_type": "fragment"
    }
   },
   "source": [
    "\n",
    "Todos os elementos de um arranjo multidimensional são:\n",
    "\n",
    "   * do mesmo tipo.\n",
    "   * do mesmo tamanho (em bits). "
   ]
  },
  {
   "cell_type": "markdown",
   "id": "adef9c87",
   "metadata": {
    "slideshow": {
     "slide_type": "slide"
    }
   },
   "source": [
    "Uma maneira de criar um array é usando a função `array` do `numpy`. **Lembrando que os parâmetros de palavra-chave (keyword arguments ou simplesment kwargs, aqueles parâmetros que possuem um `=` explícito) são opicionais**.  Vejamos as principais utilidades da função `array` para nós:"
   ]
  },
  {
   "cell_type": "markdown",
   "id": "21d55453",
   "metadata": {
    "slideshow": {
     "slide_type": "slide"
    }
   },
   "source": [
    "### np.array()\n",
    "\n",
    "* `np.array(object, dtype=None, order='K', copy=True, subok=False, ndmin=0, like=None)`\n",
    "\n",
    "    * `object`: um objeto do tipo arranjo (lista, tupla, etc)\n",
    "    * `dtype`: tipo de variável dos elementos (`int`, `float`, `complex`, etc). Se omitido, será selecionado automaticamente o menor tipo necessário para guardar os elementos.\n",
    "    * `order`: 'C', 'F', 'K' ou 'A'. O tipo de ordenação do arranjo:\n",
    "        * 'C' = Ordenação da linguagem C, as linhas são o primeiro índice.\n",
    "        * 'F' = Ordenação da linguagem Fortran, as colunas são o primeiro índice.\n",
    "        * 'A' = Caso `object` seja um array, ordenação do Fortran se o input for F, caso contrário C.\n",
    "        * 'K' = Caso `object` seja um array, ordenação do C e do Fortran são preservadas nos array originais, caso contrário, assume-se a 'ordenação mais similiar'.\n",
    "        * Se omitido, assume-se `order='K'`\n",
    "    * `copy`: booleana (`True` ou `False`). Caso `copy=True`, uma cópia do arranjo é criada na memória. Se omitido, assume-se `True`."
   ]
  },
  {
   "cell_type": "markdown",
   "id": "edd5b22d",
   "metadata": {
    "slideshow": {
     "slide_type": "slide"
    }
   },
   "source": [
    "Vamos criar um arranjo unidimensional equivalente o seguinte vetor $a$ usando `np.array()`:\n",
    "\n",
    "$$a=\\begin{bmatrix}1 & 0 & 1 \\end{bmatrix}$$"
   ]
  },
  {
   "cell_type": "code",
   "execution_count": 13,
   "id": "67ec9cc1-3503-4336-bbfd-89e1706fff78",
   "metadata": {
    "slideshow": {
     "slide_type": "fragment"
    }
   },
   "outputs": [
    {
     "name": "stdout",
     "output_type": "stream",
     "text": [
      "[1 0]\n"
     ]
    }
   ],
   "source": [
    "import numpy as np \n",
    "b=[1,0]\n",
    "a=np.array(b)\n",
    "print(a)"
   ]
  },
  {
   "cell_type": "markdown",
   "id": "2e164be9",
   "metadata": {
    "slideshow": {
     "slide_type": "slide"
    }
   },
   "source": [
    "Vamos criar um arranjo bidimensional equivalente a matriz $B$ usando `np.array()`, com os elementos do tipo `np.float64`:\n",
    "\n",
    "$$B=\\begin{bmatrix}1 & 0 & 0 \\\\ 0 & 1 & 0 \\\\ 0 & 0 & 1 \\end{bmatrix}$$"
   ]
  },
  {
   "cell_type": "code",
   "execution_count": 15,
   "id": "f551287d-3eef-4cb4-8285-2eb61b3d0c22",
   "metadata": {
    "slideshow": {
     "slide_type": "slide"
    }
   },
   "outputs": [
    {
     "name": "stdout",
     "output_type": "stream",
     "text": [
      "[[1. 0. 0.]\n",
      " [0. 1. 0.]\n",
      " [0. 0. 1.]]\n"
     ]
    }
   ],
   "source": [
    "import numpy as np\n",
    "a=[[1,0,0] , [0,1,0] , [0,0,1]]\n",
    "B=np.array(a, dtype=np.float64)\n",
    "print(B)"
   ]
  },
  {
   "cell_type": "markdown",
   "id": "72239d64",
   "metadata": {
    "slideshow": {
     "slide_type": "slide"
    }
   },
   "source": [
    "### Métodos de informações sobre o arranjo\n",
    "\n",
    "Para um arranjo `B`, podemos obter informações sobre seu layout na memória com os seguintes comandos:\n",
    "\n",
    "|Método|Descrição| output para nosso arranjo `B` acima |\n",
    "|:-|:-|:-|\n",
    "|`B.shape`| Uma tupla com as dimensões do arranjo. | (3,3)|\n",
    "|`B.ndim`| Número de dimensões do arranjo. | 2 |\n",
    "|`B.size`| Número de elementos do arranjo. | 9 |\n",
    "|`B.itemsize`| Tamanho de um elemento do arranjo, em bytes. | 8 |\n",
    "|`B.nbytes`| Tamanho total consumido pelo arranjo, em bytes. | 72 |\n",
    "|`B.dtype`| Tipo de dados armazenados no arranjo. | dtype('float64') |\n",
    "|`B.flags`| Informações sobre o layout do arranjo na memória.|\n"
   ]
  },
  {
   "cell_type": "code",
   "execution_count": 19,
   "id": "9e3f9989",
   "metadata": {
    "slideshow": {
     "slide_type": "fragment"
    }
   },
   "outputs": [
    {
     "name": "stdout",
     "output_type": "stream",
     "text": [
      "(3, 3)\n"
     ]
    }
   ],
   "source": [
    "print(B.shape)"
   ]
  },
  {
   "cell_type": "markdown",
   "id": "5df3943a",
   "metadata": {
    "slideshow": {
     "slide_type": "slide"
    }
   },
   "source": [
    "No geral, um arranjo bidimensional $A$ de tamanho $n\\times m$ terá a forma:\n",
    "\n",
    "$$A=\\begin{bmatrix}a_{11} & a_{12} & ... & a_{1m} \\\\ a_{21} & a_{22} & ... & a_{2m} \\\\ \\vdots & \\vdots & \\ddots & \\vdots \\\\ a_{n1} & a_{n2} & ... & a_{nm}\\end{bmatrix}$$"
   ]
  },
  {
   "cell_type": "markdown",
   "id": "5d501474",
   "metadata": {
    "slideshow": {
     "slide_type": "slide"
    }
   },
   "source": [
    "Vamos definir um arranjo $C$ da seguinte forma:\n",
    "\n",
    "$$C=\\begin{bmatrix}1 & 2 \\\\ 3 & 4 \\end{bmatrix}$$"
   ]
  },
  {
   "cell_type": "code",
   "execution_count": 30,
   "id": "136ec298",
   "metadata": {
    "slideshow": {
     "slide_type": "fragment"
    }
   },
   "outputs": [
    {
     "name": "stdout",
     "output_type": "stream",
     "text": [
      "[[1 2]\n",
      " [3 4]]\n"
     ]
    }
   ],
   "source": [
    "import numpy as np\n",
    "C=np.array([[1,2],[3,4]])\n",
    "print(C)"
   ]
  },
  {
   "cell_type": "markdown",
   "id": "57e4157d",
   "metadata": {
    "slideshow": {
     "slide_type": "slide"
    }
   },
   "source": [
    "### Métodos/funções do formato\n",
    "\n",
    "Podemos usar algumas ferramentas para manipular o formato dos nossos arranjos. Como elas funcionam como funções, precisamos colocar `()` no final do comando para chamá-las.\n",
    "\n",
    "\n",
    "|Método para um arranjo `C`| Descrição| Função equivalente + Link para documentação |\n",
    "|:- |:- | :-|\n",
    "|`C.reshape(shape[, order])`|Retorna um arranjo contendo um novo formato (shape).|[np.reshape()](https://numpy.org/devdocs/reference/generated/numpy.reshape.html)|\n",
    "|`C.resize(new_shape[, refcheck])`|Modificar o tamanho e o formato do arranjo na hora.| [np.resize()](https://numpy.org/devdocs/reference/generated/numpy.resize.html)|\n",
    "|`C.transpose(*axes)`|Retorna a visualização da transposta de um arranjo.|[np.tranpose()](https://numpy.org/devdocs/reference/generated/numpy.transpose.html)|\n",
    "|`C.swapaxes(axis1, axis2)`|Retorna a visão de um arranjo com `axis1` e `axis2` trocados.|[swapaxes()](https://numpy.org/devdocs/reference/generated/numpy.swapaxes.html)|\n",
    "|`C.flatten([order])`|Retorna uma cópia do arranjo colapsado em uma dimensão.|[Método apenas](https://numpy.org/devdocs/reference/generated/numpy.ndarray.flatten.html)|\n",
    "|`C.ravel([order])`|Retorna um arranjo colapsado para uma dimensão.| [np.ravel()](https://numpy.org/devdocs/reference/generated/numpy.ravel.html)|\n",
    "|`C.squeeze([axis])`|Remove eixos de tamanho 1 do arranjo.| [np.squeeze()](https://numpy.org/devdocs/reference/generated/numpy.squeeze.html)|"
   ]
  },
  {
   "cell_type": "code",
   "execution_count": 34,
   "id": "9d3c22c0",
   "metadata": {
    "slideshow": {
     "slide_type": "slide"
    }
   },
   "outputs": [
    {
     "name": "stdout",
     "output_type": "stream",
     "text": [
      "C: \n",
      "[[1 2]\n",
      " [3 4]]\n",
      "reshape(4,1): \n",
      "[[1]\n",
      " [2]\n",
      " [3]\n",
      " [4]]\n",
      "resize(1,10): \n",
      "[[1 2]]\n"
     ]
    }
   ],
   "source": [
    "import numpy as np\n",
    "C=np.array([[1,2],[3,4]])\n",
    "reshapeC=np.reshape(C,(4,1))\n",
    "resizeB=np.resize(C,(1,10))\n",
    "\n",
    "print('C: ')\n",
    "print(C)\n",
    "print('reshape(4,1): ')\n",
    "print(reshapeC)\n",
    "print('resize(1,10): ')\n",
    "print(resizeB)"
   ]
  },
  {
   "cell_type": "markdown",
   "id": "f88e3be0",
   "metadata": {
    "slideshow": {
     "slide_type": "slide"
    }
   },
   "source": [
    "Os operadores básicos de aritmética (`*`,`/`,`//`,`**`, etc), também funcionam com arranjos, porém essas operações são feitas sempre **entre elementos**. \n",
    "\n",
    "* **A multiplicação matricial será dada pelo operador `@`.**"
   ]
  },
  {
   "cell_type": "markdown",
   "id": "4bcd9408",
   "metadata": {
    "slideshow": {
     "slide_type": "slide"
    }
   },
   "source": [
    "\n",
    "Vamos criar um arranjo para representar uma matriz identidade `I` (2x2) e operá-la com a matriz `C` que fizemos.\n",
    "\n",
    "`I*C` fará uma operação de elemento por elemento.\n",
    "`I@C` fará uma multiplicação matricial."
   ]
  },
  {
   "cell_type": "code",
   "execution_count": 22,
   "id": "a39343cf",
   "metadata": {
    "slideshow": {
     "slide_type": "fragment"
    }
   },
   "outputs": [
    {
     "name": "stdout",
     "output_type": "stream",
     "text": [
      "\n",
      " I: \n",
      " [[1 0]\n",
      " [0 1]]\n",
      "\n",
      " C: \n",
      " [[1 1]\n",
      " [1 1]]\n",
      "\n",
      " I*C: \n",
      "  [[1 0]\n",
      " [0 1]]\n",
      "\n",
      " I@C: \n",
      " [[1 1]\n",
      " [1 1]]\n"
     ]
    }
   ],
   "source": [
    "I=np.array([[1,0],[0,1]]) #'\\n é o operador de quebra de linha para strings, ele fará com que o print\n",
    "C=np.array([[1,1],[1,1]])\n",
    "print('\\n I: \\n',I)       #pule para a próxima linha, no meio de uma string, na hora de escrever\n",
    "print('\\n C: \\n',C)\n",
    "print('\\n I*C: \\n ',I*C)\n",
    "print('\\n I@C: \\n',I@C)"
   ]
  },
  {
   "cell_type": "code",
   "execution_count": null,
   "id": "51840e12",
   "metadata": {
    "slideshow": {
     "slide_type": "slide"
    }
   },
   "outputs": [],
   "source": []
  },
  {
   "cell_type": "markdown",
   "id": "9b3b82e1-0896-41a4-9f23-09c2b227c866",
   "metadata": {
    "slideshow": {
     "slide_type": "slide"
    }
   },
   "source": [
    "* Vários **métodos que alteram o arranjo** podem ser usadas ou como funções ou como métodos \n",
    "    * Cheque as tabelas acima parar se certificar que existe uma função equivalente ao método.\n",
    "    "
   ]
  },
  {
   "cell_type": "markdown",
   "id": "9b147683-ecad-4e2a-977c-c3108b9cf055",
   "metadata": {
    "slideshow": {
     "slide_type": "fragment"
    }
   },
   "source": [
    "* Embora, em geral, a síntaxe do método seja mais simples, **dê preferência para a função**, já que alguns métodos alterarão seu arranjo na hora e outros não, entre outros detalhes. \n",
    "    * Na dúvida, consulte a documentação sobre o método específico."
   ]
  },
  {
   "cell_type": "markdown",
   "id": "ff6f33f6-1b8c-4506-9697-9c701d3b01a5",
   "metadata": {
    "slideshow": {
     "slide_type": "slide"
    }
   },
   "source": [
    "* `reshape()` nos permitirá mudar o formato do nosso arranjo desde que o novo arranjo tenha o mesmo número de elementos que o antigo:"
   ]
  },
  {
   "cell_type": "markdown",
   "id": "20f935f1-5ebc-4396-a14a-3eac067a0fba",
   "metadata": {
    "slideshow": {
     "slide_type": "fragment"
    }
   },
   "source": [
    "$$C=\\begin{bmatrix}1 & 2 \\\\ 3 & 4 \\end{bmatrix} \\rightarrow \\textbf{C=np.reshape(C, (4,1))}  \\rightarrow C=\\begin{bmatrix} 1 \\\\ 2 \\\\ 3 \\\\ 4 \\end{bmatrix}$$"
   ]
  },
  {
   "cell_type": "markdown",
   "id": "845ae5be-54b2-4c62-b1be-fda8b2baa123",
   "metadata": {
    "slideshow": {
     "slide_type": "slide"
    }
   },
   "source": [
    "* `resize()` é similar a função `reshape()` mas nos permite mudar o tamanho do arranjo (o número de elementos).\n",
    "    * Caso o número de elementos do novo arranjo seja menor que o original, ele será truncado.\n",
    "    * Caso seja maior, por padrão, `resize()` o preencherá repetindo valores do arranjo original."
   ]
  },
  {
   "cell_type": "markdown",
   "id": "e506f171-ef74-4908-979d-c6f342d06527",
   "metadata": {
    "slideshow": {
     "slide_type": "fragment"
    }
   },
   "source": [
    "$$C=\\begin{bmatrix}1 & 2 \\\\ 3 & 4 \\end{bmatrix} \\rightarrow \\textbf{C=np.resize(C, (1,8))} \\rightarrow C=\\begin{bmatrix} 1 & 2 & 3&4&1&2&3&4 \\end{bmatrix}$$"
   ]
  },
  {
   "cell_type": "code",
   "execution_count": 44,
   "id": "880dae7b-ce85-4aa4-b8d6-126ab29869b0",
   "metadata": {
    "slideshow": {
     "slide_type": "fragment"
    }
   },
   "outputs": [
    {
     "name": "stdout",
     "output_type": "stream",
     "text": [
      "[[1 2 3 4 1 2 3 4]]\n"
     ]
    }
   ],
   "source": [
    "a=np.resize(C,(1,8))\n",
    "print(a)"
   ]
  },
  {
   "cell_type": "markdown",
   "id": "44cc448f",
   "metadata": {
    "slideshow": {
     "slide_type": "slide"
    }
   },
   "source": [
    "### Métodos/Funções de cálculo básicas\n",
    "\n",
    "|Método para um arranjo `C`| Descrição| Função equivalente + Link para documentação |\n",
    "|:- |:- | :-|\n",
    "|`C.max([axis, out, keepdims, initial, …])`|Retorna o valor máximo ao longo de um eixo.|[np.amax()](https://numpy.org/devdocs/reference/generated/numpy.amax.html)|\n",
    "|`C.argmax([axis, out])`|Retorna os índices do valor máximo ao longo de um eixo.| [np.argmax()](https://numpy.org/devdocs/reference/generated/numpy.argmax.html)|\n",
    "|`C.min([axis, out, keepdims, initial, …])`|Retorna o valor mínimo ao longo de um eixo.| [np.amin()](https://numpy.org/devdocs/reference/generated/numpy.amin.html)|\n",
    "|`C.argmin([axis, out])`|Retorna os índices do valor mínimo ao longo de um eixo.|[np.argmin()](https://numpy.org/devdocs/reference/generated/numpy.argmin.html)|\n",
    "|`C.ptp([axis, out, keepdims])`|Diferença entre o máximo e o mínimo ao longo de um eixo.| [np.ptp()](https://numpy.org/devdocs/reference/generated/numpy.ptp.html)|\n",
    "|`C.clip([min, max, out])`|Retorna um arranjo cujos valores são limitados entre [min, max].| [np.clip()](https://numpy.org/devdocs/reference/generated/numpy.clip.html)|\n",
    "|`C.conj()`|Complexo conjugado de todos os elementos.| [np.conj()](https://numpy.org/devdocs/reference/generated/numpy.conj.html)|\n",
    "|`C.round([decimals, out])`|Retorna a com cada elemento arredondado para um número de casas decimais.|[np.around()](https://numpy.org/devdocs/reference/generated/numpy.around.html)|\n",
    "|`C.trace([offset, axis1, axis2, dtype, out])`|Retorna a soma ao longo das diagonais de um eixo.|[np.trace()](https://numpy.org/devdocs/reference/generated/numpy.trace.html)|\n",
    "|`C.sum([axis, dtype, out, keepdims, …])`|Retorna a soma dos elementos ao longo de um eixo.|[np.sum()](https://numpy.org/devdocs/reference/generated/numpy.sum.html)|\n",
    "|`C.cumsum([axis, dtype, out])`|Retorna a soma cumulativa dos elementos ao longo de um eixo.|[np.cumsum()](https://numpy.org/devdocs/reference/generated/numpy.cumsum.html)|\n",
    "|`C.mean([axis, dtype, out, keepdims, where])`|Returns the average of the array elements along given axis.|[np.mean()](https://numpy.org/devdocs/reference/generated/numpy.mean.html)|\n",
    "|`C.var([axis, dtype, out, ddof, …])`|Retorna a variância dos elementos ao longo de um eixo.|[np.var()](https://numpy.org/devdocs/reference/generated/numpy.var.html)|\n",
    "|`C.std([axis, dtype, out, ddof, …])`|Retorna o erro padrão dos elementos ao longo de um eixo.|[np.std()](https://numpy.org/devdocs/reference/generated/numpy.std.html)|\n",
    "|`C.prod([axis, dtype, out, keepdims, …])`|Retorna o produto dos elementos ao longo de um eixo.| [np.prod()](https://numpy.org/devdocs/reference/generated/numpy.prod.html)|\n",
    "|`C.cumprod([axis, dtype, out])`|Retorna o produto cumulativo dos elementos ao longo de um eixo.| [np.cumprod()](https://numpy.org/devdocs/reference/generated/numpy.cumprod.html)|\n",
    "|`C.all([axis, out, keepdims, where])`|Retorna True se todos os elementos forem True.|[np.all()](https://numpy.org/devdocs/reference/generated/numpy.all.html)|\n",
    "|`C.any([axis, out, keepdims, where])`|Retorna True se qualquer um dos elementos a for True.|[np.any()](https://numpy.org/devdocs/reference/generated/numpy.any.html)|"
   ]
  },
  {
   "cell_type": "markdown",
   "id": "e547fbd4-0e8f-46c1-a4d2-f37a0ebd9643",
   "metadata": {
    "slideshow": {
     "slide_type": "slide"
    }
   },
   "source": [
    "## Criando intervalos numéricos (1D arrays)\n",
    "\n",
    "Algumas funções do `numpy` similiar ao `range()` do Python nos permitirão criar arranjos de forma similar, porém com argumentos podendo ser reais ou inteiros."
   ]
  },
  {
   "cell_type": "markdown",
   "id": "1122d8c8-e54a-4213-9037-8e22aa8756ce",
   "metadata": {
    "slideshow": {
     "slide_type": "slide"
    }
   },
   "source": [
    "### np.arange()\n",
    "\n",
    "A função `np.arange()` é bem similar ao `range()` (até no nome), mas nos permitirá especificar mais coisas, além de retornar um objeto do tipo `array` ao invés de um objeto do tipo `range`. ([Documentação](https://numpy.org/doc/stable/reference/generated/numpy.linspace.html#numpy.linspace))\n",
    "\n",
    "`np.arange(start=0, stop, step=1, dtype=None)`\n",
    "   * `start` é um `float` ou `int` opcional com valor padrão `0`\n",
    "   * `stop` é um `float` ou `int` obrigatório.\n",
    "   * `step` é um `float` out `int` opcional com valor padrão `1`.\n",
    "   * `dtype` é um tipo de variável numérica opcional, caso omitido, o valor padrão será definido pelos elementos do `array`.\n",
    "   * **Essa função retorna:** um `array` que representa um **intervalo semi-aberto** discreto $[start, \\, stop)$, com elementos que vão de `start` até `stop` com passo `step`. Note que como o intervalo é semi-aberto, `stop` não será parte do `array`.\n",
    "      * **Obs: para valores `step` não inteiros, os resultados normalmente não serão consistentes. Neste caso é melhor usar a função `linspace()` que já vamos falar sobre.**"
   ]
  },
  {
   "cell_type": "code",
   "execution_count": 46,
   "id": "e76ecf4c-7c6f-4b8d-ab7f-6acba40d0f53",
   "metadata": {
    "slideshow": {
     "slide_type": "slide"
    }
   },
   "outputs": [
    {
     "name": "stdout",
     "output_type": "stream",
     "text": [
      "[0.  0.5 1.  1.5 2.  2.5 3.  3.5 4.  4.5]\n"
     ]
    }
   ],
   "source": [
    "a=np.arange(0,5,0.5)\n",
    "print(a)"
   ]
  },
  {
   "cell_type": "markdown",
   "id": "1f126e64-88e7-467d-a875-0b85a24f1c93",
   "metadata": {
    "slideshow": {
     "slide_type": "slide"
    }
   },
   "source": [
    "### np.linspace()\n",
    "\n",
    "A função `np.linspace()` é similar a `range()` e `np.arange()`, porém, com parâmetros diferentes. ([Documentação](https://numpy.org/doc/stable/reference/generated/numpy.linspace.html#numpy.linspace))\n",
    "\n",
    "` np.linspace(start, stop, num=50, endpoint=True, retstep=False, dtype=None, axis=0)`\n",
    "   * `start` é um `float` ou `int` obrigatório.\n",
    "   * `stop` é um `float` ou `int` obrigatório.\n",
    "   * `num` é um `int` opcional com valor padrão `50`.\n",
    "   * `endpoint` é um `boolean` com valor padrão `True`.\n",
    "   * `retstep` é um `boolean` com valor padrão `False`.\n",
    "   * `dtype` é um tipo de variável numérica opcional, caso omitido, o valor padrão será definido pelos elementos do `array`.\n",
    "   * **Essa função retorna:** um `array` que representa um **intervalo fechado** discreto $[start, \\, stop]$, com `num` elementos que vão de `start` até `stop`.`endpoint` diz se o intervalo precisa conter `stop`. `retstep` diz para a função retornar além do `array`, o espaçamento entre os elementos do arranjo (equivalente ao `step` do `np.arange()`.\n",
    "      * **Obs: para valores `step` não inteiros, os resultados normalmente não serão consistentes. Neste caso é melhor usar a função `linspace()` que já vamos falar sobre.**"
   ]
  },
  {
   "cell_type": "code",
   "execution_count": 24,
   "id": "f563b395-554a-45e6-b381-ac05b7e9f326",
   "metadata": {
    "slideshow": {
     "slide_type": "slide"
    }
   },
   "outputs": [
    {
     "name": "stdout",
     "output_type": "stream",
     "text": [
      "[-11.          -9.42857143  -7.85714286  -6.28571429  -4.71428571\n",
      "  -3.14285714  -1.57142857   0.           1.57142857   3.14285714\n",
      "   4.71428571   6.28571429   7.85714286   9.42857143  11.        ] 1.5714285714285714\n"
     ]
    }
   ],
   "source": [
    "a, dx=np.linspace(-11, 11, num=15, retstep=True)\n",
    "print(a,dx)"
   ]
  }
 ],
 "metadata": {
  "celltoolbar": "Slideshow",
  "hide_input": false,
  "kernelspec": {
   "display_name": "Python 3",
   "language": "python",
   "name": "python3"
  },
  "language_info": {
   "codemirror_mode": {
    "name": "ipython",
    "version": 3
   },
   "file_extension": ".py",
   "mimetype": "text/x-python",
   "name": "python",
   "nbconvert_exporter": "python",
   "pygments_lexer": "ipython3",
   "version": "3.9.5"
  },
  "toc": {
   "base_numbering": 1,
   "nav_menu": {},
   "number_sections": true,
   "sideBar": true,
   "skip_h1_title": false,
   "title_cell": "Table of Contents",
   "title_sidebar": "Contents",
   "toc_cell": false,
   "toc_position": {
    "height": "calc(100% - 180px)",
    "left": "10px",
    "top": "150px",
    "width": "348.5px"
   },
   "toc_section_display": true,
   "toc_window_display": true
  },
  "widgets": {
   "application/vnd.jupyter.widget-state+json": {
    "state": {},
    "version_major": 2,
    "version_minor": 0
   }
  }
 },
 "nbformat": 4,
 "nbformat_minor": 5
}
