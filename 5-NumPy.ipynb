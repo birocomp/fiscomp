{
 "cells": [
  {
   "cell_type": "markdown",
   "id": "ed6aadbc-06d9-4920-a50f-76dc0f90ac6b",
   "metadata": {},
   "source": [
    "# Numpy\n",
    "\n",
    "Numpy é um pacote Python feito para lidar com números, vetores, matrizes e álgebra no geral, com alta performance e facilidade."
   ]
  },
  {
   "cell_type": "code",
   "execution_count": 9,
   "id": "87d63e64-23f9-4adb-ba21-9dc3300883f7",
   "metadata": {},
   "outputs": [],
   "source": [
    "#Antes de qualquer coisa, vamos importar o NumPy no nosso codigo como 'np'\n",
    "import numpy as np"
   ]
  },
  {
   "cell_type": "markdown",
   "id": "b8ceb4d9-3fde-4350-9f4f-1bdc48cf950d",
   "metadata": {},
   "source": [
    "No NumPy, um arranjo de números é chamado de *array* e funciona de maneira similar a uma lista. Podemos utilizar a função `array`. Como chamamos o NumPy de `np`, podemos invocá-la da seguinte forma\n",
    "\n",
    ">```Python\n",
    "np.array([])"
   ]
  }
 ],
 "metadata": {
  "kernelspec": {
   "display_name": "Python 3",
   "language": "python",
   "name": "python3"
  },
  "language_info": {
   "codemirror_mode": {
    "name": "ipython",
    "version": 3
   },
   "file_extension": ".py",
   "mimetype": "text/x-python",
   "name": "python",
   "nbconvert_exporter": "python",
   "pygments_lexer": "ipython3",
   "version": "3.9.1"
  },
  "widgets": {
   "application/vnd.jupyter.widget-state+json": {
    "state": {},
    "version_major": 2,
    "version_minor": 0
   }
  }
 },
 "nbformat": 4,
 "nbformat_minor": 5
}
