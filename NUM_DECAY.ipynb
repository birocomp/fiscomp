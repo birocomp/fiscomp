{
 "cells": [
  {
   "cell_type": "markdown",
   "id": "split-county",
   "metadata": {},
   "source": [
    "# Precisão (interativo)\n",
    "\n",
    "Soluções numéricas e analíticas da equação para o decaimento radioativo de um material\n",
    "\n",
    "$$\\frac{du}{dt}=-au$$\n",
    "\n",
    "Abaixo você pode ver como o espaçamento dos pontos no tempo afeta o resultado da solução para o caso de \n",
    "\n",
    "$$u(t_0=0)=1$$\n",
    "\n",
    "No intervalo de tempo\n",
    "\n",
    "$$t=[0,1000)$$\n",
    "\n",
    "Abaixo você vê um aplicativo interativo comparando as soluções numéricas utilizando: método de Euler (também conhecido como Runge-Kutta de ordem 1), Runge-Kutta de ordem 2 e Runge-Kutta de ordem 4."
   ]
  },
  {
   "cell_type": "code",
   "execution_count": 20,
   "id": "improving-bridge",
   "metadata": {
    "tags": [
     "remove_input"
    ]
   },
   "outputs": [
    {
     "data": {
      "application/vnd.jupyter.widget-view+json": {
       "model_id": "2462f05bd8bf49f88d4f6a1c676f3186",
       "version_major": 2,
       "version_minor": 0
      },
      "text/plain": [
       "VBox(children=(FloatSlider(value=50.0, continuous_update=False, description='$\\\\Delta t:$', layout=Layout(widt…"
      ]
     },
     "metadata": {},
     "output_type": "display_data"
    },
    {
     "data": {
      "application/vnd.jupyter.widget-view+json": {
       "model_id": "49b6bb9012d04f3697b92af2d7eb3688",
       "version_major": 2,
       "version_minor": 0
      },
      "text/plain": [
       "Output()"
      ]
     },
     "metadata": {},
     "output_type": "display_data"
    }
   ],
   "source": [
    "%matplotlib widget\n",
    "from ipywidgets import interact\n",
    "import ipywidgets as wid\n",
    "import numpy as np\n",
    "import matplotlib.pyplot as plt\n",
    "from numba import njit\n",
    "\n",
    "plt.rc('font',size=12)\n",
    "plt.rc('lines',markersize=5,linewidth=2)\n",
    "a=0.005\n",
    "dt=0.1\n",
    "tt=np.arange(0,1000,dt)\n",
    "lay=wid.Layout(width=\"repeat(auto-fill, 180px)\")\n",
    "laybox=wid.Layout(width=\"95%\")\n",
    "layauto=wid.Layout(width=\"25%\")\n",
    "dt=wid.FloatSlider(value=50,min=1.0,\n",
    "    max=200,step=5,\n",
    "    description='$\\Delta t:$',\n",
    "    continuous_update=False,layout=laybox)\n",
    "an=wid.ToggleButton(\n",
    "    value=True,\n",
    "    description='Analítico',\n",
    "    button_style='', # 'success', 'info', 'warning', 'danger' or ''\n",
    "    tooltip='Ativa ou desativa a solução analítica',\n",
    "    icon='check',layout=layauto)\n",
    "e=wid.ToggleButton(\n",
    "    value=True,\n",
    "    description='RK1(Euler)',\n",
    "    button_style='', # 'success', 'info', 'warning', 'danger' or ''\n",
    "    tooltip='Ativa ou desativa a solução RK1(Euler)',\n",
    "    icon='check',layout=layauto)\n",
    "r2=wid.ToggleButton(\n",
    "    value=True,\n",
    "    description='RK2',\n",
    "    button_style='', # 'success', 'info', 'warning', 'danger' or ''\n",
    "    tooltip='Ativa ou desativa a solução RK2',\n",
    "    icon='check',layout=layauto)\n",
    "r4=wid.ToggleButton(\n",
    "    value=True,\n",
    "    description='RK4',\n",
    "    button_style='', # 'success', 'info', 'warning', 'danger' or ''\n",
    "    tooltip='Ativa ou desativa a solução RK4',\n",
    "    icon='check',layout=layauto)\n",
    "\n",
    "Hsol=wid.HBox([an,e,r2,r4],layout=lay)\n",
    "Vmain=wid.VBox([dt,Hsol],layout=laybox)\n",
    "\n",
    "def main(dt,an,e,r2,r4):\n",
    "    fig, ax=plt.subplots()\n",
    "    t=np.arange(0,1000,dt)\n",
    "    nt=t.size\n",
    "    ue=np.zeros((nt))\n",
    "    ur2=np.zeros((nt))\n",
    "    ur4=np.zeros((nt))\n",
    "    ue[0], ur2[0], ur4[0] = (1.0,1.0,1.0)\n",
    "    \n",
    "    @njit\n",
    "    def Fl(fv):\n",
    "        return -a*fv\n",
    "    \n",
    "    @njit\n",
    "    def euler(f,dt):\n",
    "        for i in range(0,nt-1):\n",
    "            f[i+1]=f[i]+Fl(f[i])*dt\n",
    "        return f\n",
    "    \n",
    "    @njit\n",
    "    def rk2(f,dt):\n",
    "        for i in range(0,nt-1):\n",
    "            k1=Fl(f[i])\n",
    "            k2=Fl(f[i]+dt*k1)\n",
    "            f[i+1]=f[i]+dt*(k1+k2)/2\n",
    "        return f\n",
    "    \n",
    "    @njit\n",
    "    def rk4(f,dt):\n",
    "        for i in range(0,nt-1):\n",
    "            k1=Fl(f[i])\n",
    "            k2=Fl(f[i]+k1*dt/2)\n",
    "            k3=Fl(f[i]+k2*dt/2)\n",
    "            k4=Fl(f[i]+k3*dt)\n",
    "            f[i+1]=f[i]+dt*(k1+2*k2+2*k3+k4)/6\n",
    "        return f\n",
    "    \n",
    "    plt.clf()\n",
    "    if e==True: ue=euler(ue,dt)\n",
    "    if r2==True: ur2=rk2(ur2,dt)\n",
    "    if r4==True: ur4=rk4(ur4,dt)\n",
    "    if (e,an,r2,r4)!=(False,False,False,False):\n",
    "        if an==True: fig=plt.plot(tt,np.exp(-a*tt),\n",
    "                        'k-',linewidth=6,label='Analítico')\n",
    "        if r4==True: fig=plt.plot(t,ur4,\n",
    "                        'o--',color='skyblue',label=f'RK4 (NT={nt})')\n",
    "        if r2==True: fig=plt.plot(t,ur2,\n",
    "                        'o--',color='fuchsia',label=f'RK2 (NT={nt})')\n",
    "        if e==True: fig=plt.plot(t,ue,\n",
    "                        'o--',color='coral',label=f'Euler (NT={nt})')   \n",
    "        ax.set_xlabel('Tempo')\n",
    "        ax.set_ylabel('Massa do elemento')\n",
    "        plt.title(f'$\\Delta t=${dt:.3f}')\n",
    "        leg=plt.legend()\n",
    "    else:\n",
    "        plt.clf()\n",
    "        plt.title('Nada para plotar')\n",
    "    \n",
    "out=wid.interactive_output(main, {'dt':dt,'an':an,'e':e,'r2':r2,'r4':r4})\n",
    "display(Vmain,out)\n",
    "fig.canvas.layout.width = '100%'\n",
    "fig.canvas.layout.heigth = '100%'"
   ]
  },
  {
   "cell_type": "code",
   "execution_count": null,
   "id": "ef0e3fb4-5bd2-4ad0-a970-9a3416a9e878",
   "metadata": {},
   "outputs": [],
   "source": []
  }
 ],
 "metadata": {
  "hide_input": false,
  "kernelspec": {
   "display_name": "Python 3",
   "language": "python",
   "name": "python3"
  },
  "language_info": {
   "codemirror_mode": {
    "name": "ipython",
    "version": 3
   },
   "file_extension": ".py",
   "mimetype": "text/x-python",
   "name": "python",
   "nbconvert_exporter": "python",
   "pygments_lexer": "ipython3",
   "version": "3.9.5"
  },
  "toc": {
   "base_numbering": 1,
   "nav_menu": {},
   "number_sections": true,
   "sideBar": true,
   "skip_h1_title": false,
   "title_cell": "Table of Contents",
   "title_sidebar": "Contents",
   "toc_cell": false,
   "toc_position": {},
   "toc_section_display": true,
   "toc_window_display": false
  },
  "widgets": {
   "application/vnd.jupyter.widget-state+json": {
    "state": {
     "00a253282c5b46f0bb380dc60d88964b": {
      "model_module": "@jupyter-widgets/base",
      "model_module_version": "1.2.0",
      "model_name": "LayoutModel",
      "state": {
       "width": "95%"
      }
     },
     "00ec5b23dc804539801cf3049246c89d": {
      "model_module": "@jupyter-widgets/controls",
      "model_module_version": "1.5.0",
      "model_name": "DescriptionStyleModel",
      "state": {
       "description_width": ""
      }
     },
     "0131dd38612e465c8b14bd1099aedd2c": {
      "model_module": "@jupyter-widgets/controls",
      "model_module_version": "1.5.0",
      "model_name": "FloatSliderModel",
      "state": {
       "continuous_update": false,
       "description": "$\\Delta t:$",
       "layout": "IPY_MODEL_85ba7d22c2204972abac64ff3bff1d2b",
       "max": 200,
       "min": 1,
       "step": 5,
       "style": "IPY_MODEL_217dc9ebc60f4154bb5ac4665b24f888",
       "value": 50
      }
     },
     "01be45d872444d71acb4532362f6ab7e": {
      "model_module": "@jupyter-widgets/controls",
      "model_module_version": "1.5.0",
      "model_name": "DescriptionStyleModel",
      "state": {
       "description_width": ""
      }
     },
     "0209533b41fd42a4a788dc11c60d420e": {
      "model_module": "@jupyter-widgets/controls",
      "model_module_version": "1.5.0",
      "model_name": "HBoxModel",
      "state": {
       "children": [
        "IPY_MODEL_86f7201584264cb8a302a9e9aa6aa76f",
        "IPY_MODEL_2ce4688cccf7408283ecdbebb57c6328",
        "IPY_MODEL_3864cf1bc1764a129f2dec59e0aa8741",
        "IPY_MODEL_428d204563934271a8e858bc4ca0204e"
       ],
       "layout": "IPY_MODEL_5c80821c05c84622bee842b963e14f4f"
      }
     },
     "027b8aa0fe504884b893fe348bc990c9": {
      "model_module": "@jupyter-widgets/controls",
      "model_module_version": "1.5.0",
      "model_name": "VBoxModel",
      "state": {
       "children": [
        "IPY_MODEL_96d6873ce52a409893100724f1ffd5d0",
        "IPY_MODEL_02a931be2c0f4606804fe3ea457717f0"
       ],
       "layout": "IPY_MODEL_a2cd4abb3d7b4c74b742baaa68b897f2"
      }
     },
     "02a0036f8fc44d3a94dc1f02ae35f845": {
      "model_module": "@jupyter-widgets/controls",
      "model_module_version": "1.5.0",
      "model_name": "ToggleButtonModel",
      "state": {
       "description": "Analítico",
       "icon": "check",
       "layout": "IPY_MODEL_c3e79ade3a994eff8ff735526da64bb1",
       "style": "IPY_MODEL_a9d27666abdc4d318b85ac1023193850",
       "tooltip": "Ativa ou desativa a solução analítica",
       "value": true
      }
     },
     "02a931be2c0f4606804fe3ea457717f0": {
      "model_module": "@jupyter-widgets/controls",
      "model_module_version": "1.5.0",
      "model_name": "HBoxModel",
      "state": {
       "children": [
        "IPY_MODEL_5136a317e35e4c3f97189d99daf7e91e",
        "IPY_MODEL_d8d5ddfca93848bfbaeaccca28116f91",
        "IPY_MODEL_9112931138144c049fb70d11046eff91",
        "IPY_MODEL_c91afc50910e44249cfd2f13b501681f"
       ],
       "layout": "IPY_MODEL_b2b9017b938a45e89c9c5f4ac1320f47"
      }
     },
     "038cf09b4bfe4e9595dc92431770a345": {
      "model_module": "@jupyter-widgets/base",
      "model_module_version": "1.2.0",
      "model_name": "LayoutModel",
      "state": {
       "width": "repeat(auto-fill, 180px)"
      }
     },
     "041e2a8094db414b839d315fe033248e": {
      "model_module": "@jupyter-widgets/controls",
      "model_module_version": "1.5.0",
      "model_name": "ToggleButtonModel",
      "state": {
       "description": "RK1(Euler)",
       "icon": "check",
       "layout": "IPY_MODEL_09b756fc98d04ea3bb645911f5833be7",
       "style": "IPY_MODEL_ed7cc66277ce4b3b98cf09f55a2435ae",
       "tooltip": "Ativa ou desativa a solução RK1(Euler)",
       "value": true
      }
     },
     "042a8736a1e1499891f23f9f13babd66": {
      "model_module": "@jupyter-widgets/controls",
      "model_module_version": "1.5.0",
      "model_name": "ToggleButtonModel",
      "state": {
       "description": "Analítico",
       "icon": "check",
       "layout": "IPY_MODEL_b2985f9bfd9947c7a50c6494033d466b",
       "style": "IPY_MODEL_a4b76f5389d64449b31a76444fd53b39",
       "tooltip": "Ativa ou desativa a solução analítica",
       "value": true
      }
     },
     "04ca2d4a02614417a2e357ec320c7b0e": {
      "model_module": "@jupyter-widgets/controls",
      "model_module_version": "1.5.0",
      "model_name": "SliderStyleModel",
      "state": {
       "description_width": ""
      }
     },
     "0509749987474d07bc1535b5d8e58d56": {
      "model_module": "@jupyter-widgets/controls",
      "model_module_version": "1.5.0",
      "model_name": "FloatSliderModel",
      "state": {
       "continuous_update": false,
       "description": "$\\Delta t:$",
       "layout": "IPY_MODEL_383b6a808c51487e804a21f6f43dcde8",
       "max": 200,
       "min": 1,
       "step": 5,
       "style": "IPY_MODEL_c1ce52d22d1b481e854f143d187d2fae",
       "value": 61
      }
     },
     "05e08891579e4ff4965aea72413b6b3c": {
      "model_module": "@jupyter-widgets/base",
      "model_module_version": "1.2.0",
      "model_name": "LayoutModel",
      "state": {
       "width": "25%"
      }
     },
     "0657c4e74eb642ada1afc47d7fdd7a18": {
      "model_module": "@jupyter-widgets/controls",
      "model_module_version": "1.5.0",
      "model_name": "DescriptionStyleModel",
      "state": {
       "description_width": ""
      }
     },
     "066ba93492fe4cc39ceadcce9f7a059e": {
      "model_module": "@jupyter-widgets/controls",
      "model_module_version": "1.5.0",
      "model_name": "SliderStyleModel",
      "state": {
       "description_width": ""
      }
     },
     "067137205e1945438126d5c73ce74541": {
      "model_module": "@jupyter-widgets/controls",
      "model_module_version": "1.5.0",
      "model_name": "ToggleButtonModel",
      "state": {
       "description": "RK4",
       "icon": "check",
       "layout": "IPY_MODEL_f8a0a254f1e44eef8471249520b30e96",
       "style": "IPY_MODEL_72a3a5bd016549bfb96b990dccd0c164",
       "tooltip": "Ativa ou desativa a solução RK4",
       "value": true
      }
     },
     "07caa32c6a3d43f492a08838b4b2537a": {
      "model_module": "@jupyter-widgets/base",
      "model_module_version": "1.2.0",
      "model_name": "LayoutModel",
      "state": {
       "width": "95%"
      }
     },
     "07f1d807ca114d65ab724b31ae5677d5": {
      "model_module": "@jupyter-widgets/base",
      "model_module_version": "1.2.0",
      "model_name": "LayoutModel",
      "state": {
       "width": "25%"
      }
     },
     "08bc8f9a7b3d40b886c5cece8fa7a98b": {
      "model_module": "@jupyter-widgets/output",
      "model_module_version": "1.0.0",
      "model_name": "OutputModel",
      "state": {
       "layout": "IPY_MODEL_e0e49c9d011e412783207895b9f64062"
      }
     },
     "08ea529303f44e04871642d861be8f83": {
      "model_module": "@jupyter-widgets/controls",
      "model_module_version": "1.5.0",
      "model_name": "DescriptionStyleModel",
      "state": {
       "description_width": ""
      }
     },
     "09b756fc98d04ea3bb645911f5833be7": {
      "model_module": "@jupyter-widgets/base",
      "model_module_version": "1.2.0",
      "model_name": "LayoutModel",
      "state": {
       "width": "25%"
      }
     },
     "0b6210f15bd84a4cb583943f9e375fd8": {
      "model_module": "jupyter-matplotlib",
      "model_module_version": "^0.9.0",
      "model_name": "ToolbarModel",
      "state": {
       "layout": "IPY_MODEL_1a1c9c2e2b764b2f868bda3e76cf3439",
       "toolitems": [
        [
         "Home",
         "Reset original view",
         "home",
         "home"
        ],
        [
         "Back",
         "Back to previous view",
         "arrow-left",
         "back"
        ],
        [
         "Forward",
         "Forward to next view",
         "arrow-right",
         "forward"
        ],
        [
         "Pan",
         "Left button pans, Right button zooms\nx/y fixes axis, CTRL fixes aspect",
         "arrows",
         "pan"
        ],
        [
         "Zoom",
         "Zoom to rectangle\nx/y fixes axis, CTRL fixes aspect",
         "square-o",
         "zoom"
        ],
        [
         "Download",
         "Download plot",
         "floppy-o",
         "save_figure"
        ]
       ]
      }
     },
     "0c1ab08d88584e66a9dac39a3752483c": {
      "model_module": "@jupyter-widgets/base",
      "model_module_version": "1.2.0",
      "model_name": "LayoutModel",
      "state": {
       "width": "25%"
      }
     },
     "0cb2bf2fb1144841bea2fddd78dfcb3e": {
      "model_module": "@jupyter-widgets/base",
      "model_module_version": "1.2.0",
      "model_name": "LayoutModel",
      "state": {
       "width": "100%"
      }
     },
     "0d6ab24bcd774a7596421767c3cb94b4": {
      "model_module": "@jupyter-widgets/controls",
      "model_module_version": "1.5.0",
      "model_name": "HBoxModel",
      "state": {
       "children": [
        "IPY_MODEL_922bf38abec24f66a1c23f7791dbf736",
        "IPY_MODEL_efe5f5f7d68446debacf3def8069c8c5",
        "IPY_MODEL_f60a658e9582430ba539e024bc7660b5",
        "IPY_MODEL_cc270b39711c453bb3dc313ee9d36805"
       ],
       "layout": "IPY_MODEL_f38154eb4c61442992a8d0ac492fbbd2"
      }
     },
     "0e1b4b130786476f82e94ea7e5b4d312": {
      "model_module": "@jupyter-widgets/controls",
      "model_module_version": "1.5.0",
      "model_name": "DescriptionStyleModel",
      "state": {
       "description_width": ""
      }
     },
     "0f1c3eff0a5d48cf8c15de277d43345b": {
      "model_module": "@jupyter-widgets/controls",
      "model_module_version": "1.5.0",
      "model_name": "DescriptionStyleModel",
      "state": {
       "description_width": ""
      }
     },
     "10320059f557447abfc5ab14e5fe0362": {
      "model_module": "@jupyter-widgets/base",
      "model_module_version": "1.2.0",
      "model_name": "LayoutModel",
      "state": {}
     },
     "10bffc92596e4b4c81b0b249e73866fe": {
      "model_module": "@jupyter-widgets/base",
      "model_module_version": "1.2.0",
      "model_name": "LayoutModel",
      "state": {
       "width": "25%"
      }
     },
     "10d98e8ba92f49b5a15ee314119a8443": {
      "model_module": "@jupyter-widgets/base",
      "model_module_version": "1.2.0",
      "model_name": "LayoutModel",
      "state": {
       "width": "repeat(auto-fill, 180px)"
      }
     },
     "1286270f561e492ba821eac976f6e44e": {
      "model_module": "@jupyter-widgets/base",
      "model_module_version": "1.2.0",
      "model_name": "LayoutModel",
      "state": {}
     },
     "12c1cf0a074b45b08ebe1ab1b752f57b": {
      "model_module": "jupyter-matplotlib",
      "model_module_version": "^0.9.0",
      "model_name": "ToolbarModel",
      "state": {
       "layout": "IPY_MODEL_3cbbcbc45bd74be9894e352ee6695b70",
       "toolitems": [
        [
         "Home",
         "Reset original view",
         "home",
         "home"
        ],
        [
         "Back",
         "Back to previous view",
         "arrow-left",
         "back"
        ],
        [
         "Forward",
         "Forward to next view",
         "arrow-right",
         "forward"
        ],
        [
         "Pan",
         "Left button pans, Right button zooms\nx/y fixes axis, CTRL fixes aspect",
         "arrows",
         "pan"
        ],
        [
         "Zoom",
         "Zoom to rectangle\nx/y fixes axis, CTRL fixes aspect",
         "square-o",
         "zoom"
        ],
        [
         "Download",
         "Download plot",
         "floppy-o",
         "save_figure"
        ]
       ]
      }
     },
     "12dff10b7e2849a9910a21cdc296ceb6": {
      "model_module": "@jupyter-widgets/base",
      "model_module_version": "1.2.0",
      "model_name": "LayoutModel",
      "state": {
       "width": "repeat(auto-fill, 180px)"
      }
     },
     "13cc4e97d843459bb3f7700058161cb7": {
      "model_module": "@jupyter-widgets/base",
      "model_module_version": "1.2.0",
      "model_name": "LayoutModel",
      "state": {}
     },
     "13fa11ba34a4491ba47f63cc20122d89": {
      "model_module": "@jupyter-widgets/output",
      "model_module_version": "1.0.0",
      "model_name": "OutputModel",
      "state": {
       "layout": "IPY_MODEL_911ec0ed3e3942e294068f619ac8aacd",
       "outputs": [
        {
         "data": {
          "application/vnd.jupyter.widget-view+json": {
           "model_id": "7b145f0708ec408a9f1989a59c94dfef",
           "version_major": 2,
           "version_minor": 0
          },
          "text/plain": "Canvas(toolbar=Toolbar(toolitems=[('Home', 'Reset original view', 'home', 'home'), ('Back', 'Back to previous …"
         },
         "metadata": {},
         "output_type": "display_data"
        },
        {
         "ename": "TypeError",
         "evalue": "cannot unpack non-iterable Figure object",
         "output_type": "error",
         "traceback": [
          "\u001b[0;31m---------------------------------------------------------------------------\u001b[0m",
          "\u001b[0;31mTypeError\u001b[0m                                 Traceback (most recent call last)",
          "\u001b[0;32m~/miniconda3/lib/python3.9/site-packages/ipywidgets/widgets/interaction.py\u001b[0m in \u001b[0;36mobserver\u001b[0;34m(change)\u001b[0m\n\u001b[1;32m     77\u001b[0m         \u001b[0;32mwith\u001b[0m \u001b[0mout\u001b[0m\u001b[0;34m:\u001b[0m\u001b[0;34m\u001b[0m\u001b[0;34m\u001b[0m\u001b[0m\n\u001b[1;32m     78\u001b[0m             \u001b[0mclear_output\u001b[0m\u001b[0;34m(\u001b[0m\u001b[0mwait\u001b[0m\u001b[0;34m=\u001b[0m\u001b[0;32mTrue\u001b[0m\u001b[0;34m)\u001b[0m\u001b[0;34m\u001b[0m\u001b[0;34m\u001b[0m\u001b[0m\n\u001b[0;32m---> 79\u001b[0;31m             \u001b[0mf\u001b[0m\u001b[0;34m(\u001b[0m\u001b[0;34m**\u001b[0m\u001b[0mkwargs\u001b[0m\u001b[0;34m)\u001b[0m\u001b[0;34m\u001b[0m\u001b[0;34m\u001b[0m\u001b[0m\n\u001b[0m\u001b[1;32m     80\u001b[0m             \u001b[0mshow_inline_matplotlib_plots\u001b[0m\u001b[0;34m(\u001b[0m\u001b[0;34m)\u001b[0m\u001b[0;34m\u001b[0m\u001b[0;34m\u001b[0m\u001b[0m\n\u001b[1;32m     81\u001b[0m     \u001b[0;32mfor\u001b[0m \u001b[0mk\u001b[0m\u001b[0;34m,\u001b[0m\u001b[0mw\u001b[0m \u001b[0;32min\u001b[0m \u001b[0mcontrols\u001b[0m\u001b[0;34m.\u001b[0m\u001b[0mitems\u001b[0m\u001b[0;34m(\u001b[0m\u001b[0;34m)\u001b[0m\u001b[0;34m:\u001b[0m\u001b[0;34m\u001b[0m\u001b[0;34m\u001b[0m\u001b[0m\n",
          "\u001b[0;32m<ipython-input-4-e465c141304f>\u001b[0m in \u001b[0;36mmain\u001b[0;34m(dt, an, e, r2, r4)\u001b[0m\n\u001b[1;32m     81\u001b[0m             \u001b[0mf\u001b[0m\u001b[0;34m[\u001b[0m\u001b[0mi\u001b[0m\u001b[0;34m+\u001b[0m\u001b[0;36m1\u001b[0m\u001b[0;34m]\u001b[0m\u001b[0;34m=\u001b[0m\u001b[0mf\u001b[0m\u001b[0;34m[\u001b[0m\u001b[0mi\u001b[0m\u001b[0;34m]\u001b[0m\u001b[0;34m+\u001b[0m\u001b[0mdt\u001b[0m\u001b[0;34m*\u001b[0m\u001b[0;34m(\u001b[0m\u001b[0mk1\u001b[0m\u001b[0;34m+\u001b[0m\u001b[0;36m2\u001b[0m\u001b[0;34m*\u001b[0m\u001b[0mk2\u001b[0m\u001b[0;34m+\u001b[0m\u001b[0;36m2\u001b[0m\u001b[0;34m*\u001b[0m\u001b[0mk3\u001b[0m\u001b[0;34m+\u001b[0m\u001b[0mk4\u001b[0m\u001b[0;34m)\u001b[0m\u001b[0;34m/\u001b[0m\u001b[0;36m6\u001b[0m\u001b[0;34m\u001b[0m\u001b[0;34m\u001b[0m\u001b[0m\n\u001b[1;32m     82\u001b[0m         \u001b[0;32mreturn\u001b[0m \u001b[0mf\u001b[0m\u001b[0;34m\u001b[0m\u001b[0;34m\u001b[0m\u001b[0m\n\u001b[0;32m---> 83\u001b[0;31m     \u001b[0mfig\u001b[0m\u001b[0;34m,\u001b[0m \u001b[0max\u001b[0m\u001b[0;34m=\u001b[0m\u001b[0mplt\u001b[0m\u001b[0;34m.\u001b[0m\u001b[0mfigure\u001b[0m\u001b[0;34m(\u001b[0m\u001b[0;34m)\u001b[0m\u001b[0;34m\u001b[0m\u001b[0;34m\u001b[0m\u001b[0m\n\u001b[0m\u001b[1;32m     84\u001b[0m     \u001b[0mfig\u001b[0m\u001b[0;34m.\u001b[0m\u001b[0mcanvas\u001b[0m\u001b[0;34m.\u001b[0m\u001b[0mlayout\u001b[0m\u001b[0;34m.\u001b[0m\u001b[0mwidth\u001b[0m \u001b[0;34m=\u001b[0m \u001b[0;34m'auto'\u001b[0m\u001b[0;34m\u001b[0m\u001b[0;34m\u001b[0m\u001b[0m\n\u001b[1;32m     85\u001b[0m     \u001b[0mfig\u001b[0m\u001b[0;34m.\u001b[0m\u001b[0mcanvas\u001b[0m\u001b[0;34m.\u001b[0m\u001b[0mlayout\u001b[0m\u001b[0;34m.\u001b[0m\u001b[0mheigth\u001b[0m \u001b[0;34m=\u001b[0m \u001b[0;34m'auto'\u001b[0m\u001b[0;34m\u001b[0m\u001b[0;34m\u001b[0m\u001b[0m\n",
          "\u001b[0;31mTypeError\u001b[0m: cannot unpack non-iterable Figure object"
         ]
        }
       ]
      }
     },
     "14dfcfa0df7146b190fb7ba74ae671bc": {
      "model_module": "@jupyter-widgets/base",
      "model_module_version": "1.2.0",
      "model_name": "LayoutModel",
      "state": {}
     },
     "16425844254847b6a986ff5ca9ff3104": {
      "model_module": "@jupyter-widgets/controls",
      "model_module_version": "1.5.0",
      "model_name": "HBoxModel",
      "state": {
       "children": [
        "IPY_MODEL_faafcc0a7c8e4f4ca713bf05dd5fa7da",
        "IPY_MODEL_6dd41897ec4c43cea7165c3093c6d62b",
        "IPY_MODEL_d35db9e3b1a241e281b49b1188f41a25",
        "IPY_MODEL_aa223a0cd0254ad2835e66f6e51ca46a"
       ],
       "layout": "IPY_MODEL_af23f94aec074dc0a30f67acc879b06f"
      }
     },
     "17f749084af641919d5e4c9390be3dfc": {
      "model_module": "@jupyter-widgets/controls",
      "model_module_version": "1.5.0",
      "model_name": "ToggleButtonModel",
      "state": {
       "description": "RK2",
       "icon": "check",
       "layout": "IPY_MODEL_05e08891579e4ff4965aea72413b6b3c",
       "style": "IPY_MODEL_556239d736734b11b04e8bb199fb83ed",
       "tooltip": "Ativa ou desativa a solução RK2",
       "value": true
      }
     },
     "1a1c9c2e2b764b2f868bda3e76cf3439": {
      "model_module": "@jupyter-widgets/base",
      "model_module_version": "1.2.0",
      "model_name": "LayoutModel",
      "state": {}
     },
     "1b35af9932c1418d872c0b9af75f2a76": {
      "model_module": "@jupyter-widgets/controls",
      "model_module_version": "1.5.0",
      "model_name": "ToggleButtonModel",
      "state": {
       "description": "RK4",
       "icon": "check",
       "layout": "IPY_MODEL_07f1d807ca114d65ab724b31ae5677d5",
       "style": "IPY_MODEL_f4463cdb73344233860f47b58e1f0db2",
       "tooltip": "Ativa ou desativa a solução RK4",
       "value": true
      }
     },
     "1c8dd70a6f5f4aebbd4864f87ef26a85": {
      "model_module": "@jupyter-widgets/controls",
      "model_module_version": "1.5.0",
      "model_name": "ToggleButtonModel",
      "state": {
       "description": "RK2",
       "icon": "check",
       "layout": "IPY_MODEL_09b756fc98d04ea3bb645911f5833be7",
       "style": "IPY_MODEL_2b945cabbf0047229c396453a407d513",
       "tooltip": "Ativa ou desativa a solução RK2",
       "value": true
      }
     },
     "1d4c4c83d88e4f9a9eb8e5f8999b39c2": {
      "model_module": "jupyter-matplotlib",
      "model_module_version": "^0.9.0",
      "model_name": "ToolbarModel",
      "state": {
       "layout": "IPY_MODEL_e2a17337d3c447c9b2632484bcd3aba1",
       "toolitems": [
        [
         "Home",
         "Reset original view",
         "home",
         "home"
        ],
        [
         "Back",
         "Back to previous view",
         "arrow-left",
         "back"
        ],
        [
         "Forward",
         "Forward to next view",
         "arrow-right",
         "forward"
        ],
        [
         "Pan",
         "Left button pans, Right button zooms\nx/y fixes axis, CTRL fixes aspect",
         "arrows",
         "pan"
        ],
        [
         "Zoom",
         "Zoom to rectangle\nx/y fixes axis, CTRL fixes aspect",
         "square-o",
         "zoom"
        ],
        [
         "Download",
         "Download plot",
         "floppy-o",
         "save_figure"
        ]
       ]
      }
     },
     "1e5027a125324274817a5063771fb870": {
      "model_module": "@jupyter-widgets/output",
      "model_module_version": "1.0.0",
      "model_name": "OutputModel",
      "state": {
       "layout": "IPY_MODEL_6c5f2fcebe834eff92c80715d1bf68c9",
       "outputs": [
        {
         "data": {
          "application/vnd.jupyter.widget-view+json": {
           "model_id": "43f400d4c73a4e219eac6d69431fec5e",
           "version_major": 2,
           "version_minor": 0
          },
          "text/plain": "Canvas(toolbar=Toolbar(toolitems=[('Home', 'Reset original view', 'home', 'home'), ('Back', 'Back to previous …"
         },
         "metadata": {},
         "output_type": "display_data"
        }
       ]
      }
     },
     "1eaa1f7e8c434f248afd22f737eefe06": {
      "model_module": "@jupyter-widgets/controls",
      "model_module_version": "1.5.0",
      "model_name": "DescriptionStyleModel",
      "state": {
       "description_width": ""
      }
     },
     "1f4b423875a74924a61f392297066bf7": {
      "model_module": "@jupyter-widgets/controls",
      "model_module_version": "1.5.0",
      "model_name": "VBoxModel",
      "state": {
       "children": [
        "IPY_MODEL_0509749987474d07bc1535b5d8e58d56",
        "IPY_MODEL_9c05e20c4be44c868f919384915281c7"
       ],
       "layout": "IPY_MODEL_383b6a808c51487e804a21f6f43dcde8"
      }
     },
     "1fabaddff3f542f1840f167fe509777d": {
      "model_module": "@jupyter-widgets/output",
      "model_module_version": "1.0.0",
      "model_name": "OutputModel",
      "state": {
       "layout": "IPY_MODEL_235d38cfca544886965a669c3f17b23c",
       "outputs": [
        {
         "data": {
          "application/vnd.jupyter.widget-view+json": {
           "model_id": "eab6f4dfe0cc476992f8a1b5e09e78a8",
           "version_major": 2,
           "version_minor": 0
          },
          "text/plain": "Canvas(toolbar=Toolbar(toolitems=[('Home', 'Reset original view', 'home', 'home'), ('Back', 'Back to previous …"
         },
         "metadata": {},
         "output_type": "display_data"
        }
       ]
      }
     },
     "20d4d27bb0f54ed8b6b4afa4677e4cbc": {
      "model_module": "@jupyter-widgets/controls",
      "model_module_version": "1.5.0",
      "model_name": "HBoxModel",
      "state": {
       "children": [
        "IPY_MODEL_92874dcd01e24451bea97189ea0a1a1a",
        "IPY_MODEL_4efa94db43c748e49aacac6261e44e94",
        "IPY_MODEL_f32f1eb37b834fb68e29c595664acc30",
        "IPY_MODEL_067137205e1945438126d5c73ce74541"
       ],
       "layout": "IPY_MODEL_8e340e0aad5e4548a5fa3beb8beeedb1"
      }
     },
     "217dc9ebc60f4154bb5ac4665b24f888": {
      "model_module": "@jupyter-widgets/controls",
      "model_module_version": "1.5.0",
      "model_name": "SliderStyleModel",
      "state": {
       "description_width": ""
      }
     },
     "219fd2a42b114f52ab2ba4ce2f4a114c": {
      "model_module": "@jupyter-widgets/controls",
      "model_module_version": "1.5.0",
      "model_name": "DescriptionStyleModel",
      "state": {
       "description_width": ""
      }
     },
     "222204e03a6446e2b78d92d487c7d551": {
      "model_module": "@jupyter-widgets/base",
      "model_module_version": "1.2.0",
      "model_name": "LayoutModel",
      "state": {
       "width": "100%"
      }
     },
     "2277794f4a424477a73d832e0e767f69": {
      "model_module": "@jupyter-widgets/controls",
      "model_module_version": "1.5.0",
      "model_name": "DescriptionStyleModel",
      "state": {
       "description_width": ""
      }
     },
     "228551d767c04203a372e1f19a72585a": {
      "model_module": "@jupyter-widgets/base",
      "model_module_version": "1.2.0",
      "model_name": "LayoutModel",
      "state": {}
     },
     "22b9c359bf6b49239a58b2e52234fb0f": {
      "model_module": "@jupyter-widgets/output",
      "model_module_version": "1.0.0",
      "model_name": "OutputModel",
      "state": {
       "layout": "IPY_MODEL_310f15035b064fe2ac70ebd1bf6552ba",
       "outputs": [
        {
         "data": {
          "application/vnd.jupyter.widget-view+json": {
           "model_id": "68f4ec4cb8cb4ddb91c01083e1036231",
           "version_major": 2,
           "version_minor": 0
          },
          "text/plain": "Canvas(toolbar=Toolbar(toolitems=[('Home', 'Reset original view', 'home', 'home'), ('Back', 'Back to previous …"
         },
         "metadata": {},
         "output_type": "display_data"
        },
        {
         "ename": "AttributeError",
         "evalue": "'tuple' object has no attribute 'canvas'",
         "output_type": "error",
         "traceback": [
          "\u001b[0;31m---------------------------------------------------------------------------\u001b[0m",
          "\u001b[0;31mAttributeError\u001b[0m                            Traceback (most recent call last)",
          "\u001b[0;32m~/miniconda3/lib/python3.9/site-packages/ipywidgets/widgets/interaction.py\u001b[0m in \u001b[0;36mobserver\u001b[0;34m(change)\u001b[0m\n\u001b[1;32m     77\u001b[0m         \u001b[0;32mwith\u001b[0m \u001b[0mout\u001b[0m\u001b[0;34m:\u001b[0m\u001b[0;34m\u001b[0m\u001b[0;34m\u001b[0m\u001b[0m\n\u001b[1;32m     78\u001b[0m             \u001b[0mclear_output\u001b[0m\u001b[0;34m(\u001b[0m\u001b[0mwait\u001b[0m\u001b[0;34m=\u001b[0m\u001b[0;32mTrue\u001b[0m\u001b[0;34m)\u001b[0m\u001b[0;34m\u001b[0m\u001b[0;34m\u001b[0m\u001b[0m\n\u001b[0;32m---> 79\u001b[0;31m             \u001b[0mf\u001b[0m\u001b[0;34m(\u001b[0m\u001b[0;34m**\u001b[0m\u001b[0mkwargs\u001b[0m\u001b[0;34m)\u001b[0m\u001b[0;34m\u001b[0m\u001b[0;34m\u001b[0m\u001b[0m\n\u001b[0m\u001b[1;32m     80\u001b[0m             \u001b[0mshow_inline_matplotlib_plots\u001b[0m\u001b[0;34m(\u001b[0m\u001b[0;34m)\u001b[0m\u001b[0;34m\u001b[0m\u001b[0;34m\u001b[0m\u001b[0m\n\u001b[1;32m     81\u001b[0m     \u001b[0;32mfor\u001b[0m \u001b[0mk\u001b[0m\u001b[0;34m,\u001b[0m\u001b[0mw\u001b[0m \u001b[0;32min\u001b[0m \u001b[0mcontrols\u001b[0m\u001b[0;34m.\u001b[0m\u001b[0mitems\u001b[0m\u001b[0;34m(\u001b[0m\u001b[0;34m)\u001b[0m\u001b[0;34m:\u001b[0m\u001b[0;34m\u001b[0m\u001b[0;34m\u001b[0m\u001b[0m\n",
          "\u001b[0;32m<ipython-input-9-cf183902e6f9>\u001b[0m in \u001b[0;36mmain\u001b[0;34m(dt, an, e, r2, r4)\u001b[0m\n\u001b[1;32m     82\u001b[0m         \u001b[0;32mreturn\u001b[0m \u001b[0mf\u001b[0m\u001b[0;34m\u001b[0m\u001b[0;34m\u001b[0m\u001b[0m\n\u001b[1;32m     83\u001b[0m     \u001b[0mfig\u001b[0m\u001b[0;34m=\u001b[0m\u001b[0mplt\u001b[0m\u001b[0;34m.\u001b[0m\u001b[0msubplots\u001b[0m\u001b[0;34m(\u001b[0m\u001b[0;34m)\u001b[0m\u001b[0;34m\u001b[0m\u001b[0;34m\u001b[0m\u001b[0m\n\u001b[0;32m---> 84\u001b[0;31m     \u001b[0mfig\u001b[0m\u001b[0;34m.\u001b[0m\u001b[0mcanvas\u001b[0m\u001b[0;34m.\u001b[0m\u001b[0mlayout\u001b[0m\u001b[0;34m.\u001b[0m\u001b[0mwidth\u001b[0m \u001b[0;34m=\u001b[0m \u001b[0;34m'100%'\u001b[0m\u001b[0;34m\u001b[0m\u001b[0;34m\u001b[0m\u001b[0m\n\u001b[0m\u001b[1;32m     85\u001b[0m     \u001b[0mfig\u001b[0m\u001b[0;34m.\u001b[0m\u001b[0mcanvas\u001b[0m\u001b[0;34m.\u001b[0m\u001b[0mlayout\u001b[0m\u001b[0;34m.\u001b[0m\u001b[0mheigth\u001b[0m \u001b[0;34m=\u001b[0m \u001b[0;34m'100%'\u001b[0m\u001b[0;34m\u001b[0m\u001b[0;34m\u001b[0m\u001b[0m\n\u001b[1;32m     86\u001b[0m     \u001b[0;32mif\u001b[0m \u001b[0me\u001b[0m\u001b[0;34m==\u001b[0m\u001b[0;32mTrue\u001b[0m\u001b[0;34m:\u001b[0m \u001b[0mue\u001b[0m\u001b[0;34m=\u001b[0m\u001b[0meuler\u001b[0m\u001b[0;34m(\u001b[0m\u001b[0mue\u001b[0m\u001b[0;34m,\u001b[0m\u001b[0mdt\u001b[0m\u001b[0;34m)\u001b[0m\u001b[0;34m\u001b[0m\u001b[0;34m\u001b[0m\u001b[0m\n",
          "\u001b[0;31mAttributeError\u001b[0m: 'tuple' object has no attribute 'canvas'"
         ]
        }
       ]
      }
     },
     "2355c615a9004d27861ab0242823436e": {
      "model_module": "@jupyter-widgets/base",
      "model_module_version": "1.2.0",
      "model_name": "LayoutModel",
      "state": {}
     },
     "235d38cfca544886965a669c3f17b23c": {
      "model_module": "@jupyter-widgets/base",
      "model_module_version": "1.2.0",
      "model_name": "LayoutModel",
      "state": {}
     },
     "2462f05bd8bf49f88d4f6a1c676f3186": {
      "model_module": "@jupyter-widgets/controls",
      "model_module_version": "1.5.0",
      "model_name": "VBoxModel",
      "state": {
       "children": [
        "IPY_MODEL_0131dd38612e465c8b14bd1099aedd2c",
        "IPY_MODEL_0209533b41fd42a4a788dc11c60d420e"
       ],
       "layout": "IPY_MODEL_85ba7d22c2204972abac64ff3bff1d2b"
      }
     },
     "260c6b82ac324777bf2aebeecc8a4ccb": {
      "model_module": "@jupyter-widgets/controls",
      "model_module_version": "1.5.0",
      "model_name": "ToggleButtonModel",
      "state": {
       "description": "Analítico",
       "icon": "check",
       "layout": "IPY_MODEL_34bfe76491224623824a93d4111234d6",
       "style": "IPY_MODEL_903f402114d44e7f91abf03eb4055f35",
       "tooltip": "Ativa ou desativa a solução analítica",
       "value": true
      }
     },
     "274217efe4ab47da86b1bc65093bd397": {
      "model_module": "@jupyter-widgets/base",
      "model_module_version": "1.2.0",
      "model_name": "LayoutModel",
      "state": {
       "width": "100%"
      }
     },
     "294a263abe7b4a47a248eddbf77da36d": {
      "model_module": "@jupyter-widgets/controls",
      "model_module_version": "1.5.0",
      "model_name": "ToggleButtonModel",
      "state": {
       "description": "RK2",
       "icon": "check",
       "layout": "IPY_MODEL_07f1d807ca114d65ab724b31ae5677d5",
       "style": "IPY_MODEL_a7a1f5e837a74db08cba17199a60d428",
       "tooltip": "Ativa ou desativa a solução RK2",
       "value": true
      }
     },
     "2980f970afa345b2a1ef77174d06206c": {
      "model_module": "jupyter-matplotlib",
      "model_module_version": "^0.9.0",
      "model_name": "ToolbarModel",
      "state": {
       "layout": "IPY_MODEL_a7488fa815d0475aba86e1f3bffa3615",
       "toolitems": [
        [
         "Home",
         "Reset original view",
         "home",
         "home"
        ],
        [
         "Back",
         "Back to previous view",
         "arrow-left",
         "back"
        ],
        [
         "Forward",
         "Forward to next view",
         "arrow-right",
         "forward"
        ],
        [
         "Pan",
         "Left button pans, Right button zooms\nx/y fixes axis, CTRL fixes aspect",
         "arrows",
         "pan"
        ],
        [
         "Zoom",
         "Zoom to rectangle\nx/y fixes axis, CTRL fixes aspect",
         "square-o",
         "zoom"
        ],
        [
         "Download",
         "Download plot",
         "floppy-o",
         "save_figure"
        ]
       ]
      }
     },
     "2b945cabbf0047229c396453a407d513": {
      "model_module": "@jupyter-widgets/controls",
      "model_module_version": "1.5.0",
      "model_name": "DescriptionStyleModel",
      "state": {
       "description_width": ""
      }
     },
     "2ce4688cccf7408283ecdbebb57c6328": {
      "model_module": "@jupyter-widgets/controls",
      "model_module_version": "1.5.0",
      "model_name": "ToggleButtonModel",
      "state": {
       "description": "RK1(Euler)",
       "icon": "check",
       "layout": "IPY_MODEL_369e613d802747deb0b12ea75ed65356",
       "style": "IPY_MODEL_b16ab930ee80451ebcf98305f541f0ab",
       "tooltip": "Ativa ou desativa a solução RK1(Euler)",
       "value": true
      }
     },
     "2e300c2e70dc445d85bf40a7bbaaa59e": {
      "model_module": "@jupyter-widgets/base",
      "model_module_version": "1.2.0",
      "model_name": "LayoutModel",
      "state": {
       "width": "95%"
      }
     },
     "2fa8294e4f384a74b47895dac800b66c": {
      "model_module": "@jupyter-widgets/output",
      "model_module_version": "1.0.0",
      "model_name": "OutputModel",
      "state": {
       "layout": "IPY_MODEL_69984d5439fe4f9591e056a7106dd746"
      }
     },
     "2fc4bb65e30b48b4b9e59c34c1cfc17a": {
      "model_module": "@jupyter-widgets/controls",
      "model_module_version": "1.5.0",
      "model_name": "DescriptionStyleModel",
      "state": {
       "description_width": ""
      }
     },
     "30190d93b1eb47c8be2ba76cf51aaf76": {
      "model_module": "@jupyter-widgets/base",
      "model_module_version": "1.2.0",
      "model_name": "LayoutModel",
      "state": {
       "width": "25%"
      }
     },
     "30440fe91b314bf3990583cb6e9ab1a0": {
      "model_module": "@jupyter-widgets/controls",
      "model_module_version": "1.5.0",
      "model_name": "SliderStyleModel",
      "state": {
       "description_width": ""
      }
     },
     "310f15035b064fe2ac70ebd1bf6552ba": {
      "model_module": "@jupyter-widgets/base",
      "model_module_version": "1.2.0",
      "model_name": "LayoutModel",
      "state": {}
     },
     "324aaa0fbe314068b7bd93a15287f362": {
      "model_module": "@jupyter-widgets/controls",
      "model_module_version": "1.5.0",
      "model_name": "ToggleButtonModel",
      "state": {
       "description": "RK2",
       "icon": "check",
       "layout": "IPY_MODEL_41d44c6400fd48e6a1f6837f9d65578d",
       "style": "IPY_MODEL_e000d6174bc448f2b56685ae930ce0af",
       "tooltip": "Ativa ou desativa a solução RK2",
       "value": true
      }
     },
     "328ae1879a804451a0fe0f38379b6e53": {
      "model_module": "@jupyter-widgets/base",
      "model_module_version": "1.2.0",
      "model_name": "LayoutModel",
      "state": {
       "width": "repeat(auto-fill, 180px)"
      }
     },
     "32b6e451653745fe8dab0ded4166c98f": {
      "model_module": "@jupyter-widgets/base",
      "model_module_version": "1.2.0",
      "model_name": "LayoutModel",
      "state": {
       "width": "95%"
      }
     },
     "33964cc3464e4c74993c642e12dc250c": {
      "model_module": "@jupyter-widgets/controls",
      "model_module_version": "1.5.0",
      "model_name": "VBoxModel",
      "state": {
       "children": [
        "IPY_MODEL_7a3082ba543247079addac8801049972",
        "IPY_MODEL_3551df9c72d643b0a29e583f9552b760"
       ],
       "layout": "IPY_MODEL_92be6b2f246d40a28cc01f9e807048ef"
      }
     },
     "33e05d8946b442c5ba512e0e32781878": {
      "model_module": "@jupyter-widgets/base",
      "model_module_version": "1.2.0",
      "model_name": "LayoutModel",
      "state": {
       "width": "95%"
      }
     },
     "33fac4ab56e6404b962ac483030958e5": {
      "model_module": "@jupyter-widgets/controls",
      "model_module_version": "1.5.0",
      "model_name": "DescriptionStyleModel",
      "state": {
       "description_width": ""
      }
     },
     "34bfe76491224623824a93d4111234d6": {
      "model_module": "@jupyter-widgets/base",
      "model_module_version": "1.2.0",
      "model_name": "LayoutModel",
      "state": {
       "width": "25%"
      }
     },
     "34cdffa5e72e447ba589c47abacdea82": {
      "model_module": "@jupyter-widgets/base",
      "model_module_version": "1.2.0",
      "model_name": "LayoutModel",
      "state": {}
     },
     "353ead74a1594dbab1fd52855d245bdf": {
      "model_module": "@jupyter-widgets/controls",
      "model_module_version": "1.5.0",
      "model_name": "DescriptionStyleModel",
      "state": {
       "description_width": ""
      }
     },
     "3551df9c72d643b0a29e583f9552b760": {
      "model_module": "@jupyter-widgets/controls",
      "model_module_version": "1.5.0",
      "model_name": "HBoxModel",
      "state": {
       "children": [
        "IPY_MODEL_d23ea768ac2c4928881396e6ef763b7c",
        "IPY_MODEL_fa478d1b4242476e91028c069304bb64",
        "IPY_MODEL_42dfc38c6b634bebbcf4059c219a1e04",
        "IPY_MODEL_9249f6f4f46e4f90a92533235ce4839b"
       ],
       "layout": "IPY_MODEL_12dff10b7e2849a9910a21cdc296ceb6"
      }
     },
     "35f8391a444a45d2af3a1a0fa58b85b1": {
      "model_module": "@jupyter-widgets/controls",
      "model_module_version": "1.5.0",
      "model_name": "DescriptionStyleModel",
      "state": {
       "description_width": ""
      }
     },
     "36594800324b4b9d99d1e60443a190f2": {
      "model_module": "@jupyter-widgets/controls",
      "model_module_version": "1.5.0",
      "model_name": "FloatSliderModel",
      "state": {
       "continuous_update": false,
       "description": "$\\Delta t:$",
       "layout": "IPY_MODEL_d5f9b2b2b8d24102a9031851182c2197",
       "max": 200,
       "min": 1,
       "step": 5,
       "style": "IPY_MODEL_6de579d2053442eb86df52b5b171a080",
       "value": 50
      }
     },
     "369485b5ea604adab413ad10314fa9a6": {
      "model_module": "@jupyter-widgets/controls",
      "model_module_version": "1.5.0",
      "model_name": "SliderStyleModel",
      "state": {
       "description_width": ""
      }
     },
     "369e613d802747deb0b12ea75ed65356": {
      "model_module": "@jupyter-widgets/base",
      "model_module_version": "1.2.0",
      "model_name": "LayoutModel",
      "state": {
       "width": "25%"
      }
     },
     "36cf27ccfaa5470eb92d937a5227a436": {
      "model_module": "@jupyter-widgets/controls",
      "model_module_version": "1.5.0",
      "model_name": "DescriptionStyleModel",
      "state": {
       "description_width": ""
      }
     },
     "383b6a808c51487e804a21f6f43dcde8": {
      "model_module": "@jupyter-widgets/base",
      "model_module_version": "1.2.0",
      "model_name": "LayoutModel",
      "state": {
       "width": "95%"
      }
     },
     "3864cf1bc1764a129f2dec59e0aa8741": {
      "model_module": "@jupyter-widgets/controls",
      "model_module_version": "1.5.0",
      "model_name": "ToggleButtonModel",
      "state": {
       "description": "RK2",
       "icon": "check",
       "layout": "IPY_MODEL_369e613d802747deb0b12ea75ed65356",
       "style": "IPY_MODEL_4531214d10a840189ebce88e786f2967",
       "tooltip": "Ativa ou desativa a solução RK2",
       "value": true
      }
     },
     "39d3afb1e6214fbcb6c720a4e0fbbaaf": {
      "model_module": "@jupyter-widgets/controls",
      "model_module_version": "1.5.0",
      "model_name": "ToggleButtonModel",
      "state": {
       "description": "RK4",
       "icon": "check",
       "layout": "IPY_MODEL_68c8cf94673f40c39ced82a5dd517bfc",
       "style": "IPY_MODEL_a9aac4735b134fbb853020223d4fa794",
       "tooltip": "Ativa ou desativa a solução RK4",
       "value": true
      }
     },
     "39f31049807c4eeabe3a5d6a04c68d88": {
      "model_module": "@jupyter-widgets/base",
      "model_module_version": "1.2.0",
      "model_name": "LayoutModel",
      "state": {}
     },
     "3af76307804b4ac1848f1ab95b9af9cc": {
      "model_module": "@jupyter-widgets/controls",
      "model_module_version": "1.5.0",
      "model_name": "ToggleButtonModel",
      "state": {
       "description": "Analítico",
       "icon": "check",
       "layout": "IPY_MODEL_41d44c6400fd48e6a1f6837f9d65578d",
       "style": "IPY_MODEL_c0995ed30aa4420b978ba4965ce0335b",
       "tooltip": "Ativa ou desativa a solução analítica",
       "value": true
      }
     },
     "3b6d81f0c77544ec82a2a3d784669157": {
      "model_module": "@jupyter-widgets/controls",
      "model_module_version": "1.5.0",
      "model_name": "VBoxModel",
      "state": {
       "children": [
        "IPY_MODEL_6e99c75e878f46c2a2c8831086828a0b",
        "IPY_MODEL_c87294ac627b4aa0aa6c676846caf673"
       ],
       "layout": "IPY_MODEL_ad34d88c1cdc4155ac380792b5ab33df"
      }
     },
     "3cbbcbc45bd74be9894e352ee6695b70": {
      "model_module": "@jupyter-widgets/base",
      "model_module_version": "1.2.0",
      "model_name": "LayoutModel",
      "state": {}
     },
     "3d27a52849144a5f8b1069e35303528f": {
      "model_module": "@jupyter-widgets/controls",
      "model_module_version": "1.5.0",
      "model_name": "DescriptionStyleModel",
      "state": {
       "description_width": ""
      }
     },
     "3da678c47078462fbaafce1afc8537b8": {
      "model_module": "@jupyter-widgets/base",
      "model_module_version": "1.2.0",
      "model_name": "LayoutModel",
      "state": {}
     },
     "3e45b4974cff44c891c8390db2f7611e": {
      "model_module": "@jupyter-widgets/controls",
      "model_module_version": "1.5.0",
      "model_name": "DescriptionStyleModel",
      "state": {
       "description_width": ""
      }
     },
     "3ed6cfc82e1d403799d96d50cc57e1e2": {
      "model_module": "@jupyter-widgets/controls",
      "model_module_version": "1.5.0",
      "model_name": "ToggleButtonModel",
      "state": {
       "description": "RK2",
       "icon": "check",
       "layout": "IPY_MODEL_690fef78e3d64f53b1cc952326c0fe6d",
       "style": "IPY_MODEL_00ec5b23dc804539801cf3049246c89d",
       "tooltip": "Ativa ou desativa a solução RK2",
       "value": true
      }
     },
     "3f72f54bbb6848f0ba7dc32a9db57dc9": {
      "model_module": "@jupyter-widgets/controls",
      "model_module_version": "1.5.0",
      "model_name": "DescriptionStyleModel",
      "state": {
       "description_width": ""
      }
     },
     "40b9f115185a45fd981a66a0ccfa8fe6": {
      "model_module": "@jupyter-widgets/controls",
      "model_module_version": "1.5.0",
      "model_name": "ToggleButtonModel",
      "state": {
       "description": "Analítico",
       "icon": "check",
       "layout": "IPY_MODEL_10bffc92596e4b4c81b0b249e73866fe",
       "style": "IPY_MODEL_a73936cf01db45fba61f58b48921c387",
       "tooltip": "Ativa ou desativa a solução analítica",
       "value": true
      }
     },
     "41be8f30991e489fa0315dda25fe89ab": {
      "model_module": "jupyter-matplotlib",
      "model_module_version": "^0.9.0",
      "model_name": "ToolbarModel",
      "state": {
       "layout": "IPY_MODEL_ac0daeb8f5864217a54153a57433119e",
       "toolitems": [
        [
         "Home",
         "Reset original view",
         "home",
         "home"
        ],
        [
         "Back",
         "Back to previous view",
         "arrow-left",
         "back"
        ],
        [
         "Forward",
         "Forward to next view",
         "arrow-right",
         "forward"
        ],
        [
         "Pan",
         "Left button pans, Right button zooms\nx/y fixes axis, CTRL fixes aspect",
         "arrows",
         "pan"
        ],
        [
         "Zoom",
         "Zoom to rectangle\nx/y fixes axis, CTRL fixes aspect",
         "square-o",
         "zoom"
        ],
        [
         "Download",
         "Download plot",
         "floppy-o",
         "save_figure"
        ]
       ]
      }
     },
     "41d44c6400fd48e6a1f6837f9d65578d": {
      "model_module": "@jupyter-widgets/base",
      "model_module_version": "1.2.0",
      "model_name": "LayoutModel",
      "state": {
       "width": "25%"
      }
     },
     "41fce52e162d48b4a7e5126812743148": {
      "model_module": "@jupyter-widgets/controls",
      "model_module_version": "1.5.0",
      "model_name": "ToggleButtonModel",
      "state": {
       "description": "Analítico",
       "icon": "check",
       "layout": "IPY_MODEL_4360f0c580ae4b8180c3cd14bfeac4dd",
       "style": "IPY_MODEL_35f8391a444a45d2af3a1a0fa58b85b1",
       "tooltip": "Ativa ou desativa a solução analítica",
       "value": true
      }
     },
     "428d204563934271a8e858bc4ca0204e": {
      "model_module": "@jupyter-widgets/controls",
      "model_module_version": "1.5.0",
      "model_name": "ToggleButtonModel",
      "state": {
       "description": "RK4",
       "icon": "check",
       "layout": "IPY_MODEL_369e613d802747deb0b12ea75ed65356",
       "style": "IPY_MODEL_c91c74791b1e4b6393d67e0ccf1ab8c5",
       "tooltip": "Ativa ou desativa a solução RK4",
       "value": true
      }
     },
     "42dfc38c6b634bebbcf4059c219a1e04": {
      "model_module": "@jupyter-widgets/controls",
      "model_module_version": "1.5.0",
      "model_name": "ToggleButtonModel",
      "state": {
       "description": "RK2",
       "icon": "check",
       "layout": "IPY_MODEL_0c1ab08d88584e66a9dac39a3752483c",
       "style": "IPY_MODEL_ec1704e27f944cc3983b42747b05f928",
       "tooltip": "Ativa ou desativa a solução RK2",
       "value": true
      }
     },
     "4360f0c580ae4b8180c3cd14bfeac4dd": {
      "model_module": "@jupyter-widgets/base",
      "model_module_version": "1.2.0",
      "model_name": "LayoutModel",
      "state": {
       "width": "25%"
      }
     },
     "4531214d10a840189ebce88e786f2967": {
      "model_module": "@jupyter-widgets/controls",
      "model_module_version": "1.5.0",
      "model_name": "DescriptionStyleModel",
      "state": {
       "description_width": ""
      }
     },
     "45e109d0a47f40978d5db3b414bd85b8": {
      "model_module": "@jupyter-widgets/base",
      "model_module_version": "1.2.0",
      "model_name": "LayoutModel",
      "state": {}
     },
     "45e9f53642c34c59b43e9e5a10f0202c": {
      "model_module": "@jupyter-widgets/base",
      "model_module_version": "1.2.0",
      "model_name": "LayoutModel",
      "state": {}
     },
     "46202141bef842a485c630bc0e9028fe": {
      "model_module": "@jupyter-widgets/controls",
      "model_module_version": "1.5.0",
      "model_name": "ToggleButtonModel",
      "state": {
       "description": "RK4",
       "icon": "check",
       "layout": "IPY_MODEL_10bffc92596e4b4c81b0b249e73866fe",
       "style": "IPY_MODEL_ec2deca1f0fa427ba7b5fc02ba92408e",
       "tooltip": "Ativa ou desativa a solução RK4",
       "value": true
      }
     },
     "46269d8e0b4a4cd6a71c55d7f39adc9c": {
      "model_module": "@jupyter-widgets/controls",
      "model_module_version": "1.5.0",
      "model_name": "FloatSliderModel",
      "state": {
       "continuous_update": false,
       "description": "$\\Delta t:$",
       "layout": "IPY_MODEL_00a253282c5b46f0bb380dc60d88964b",
       "max": 200,
       "min": 1,
       "step": 5,
       "style": "IPY_MODEL_965ebec3522c4b019c5f512bdea15d59",
       "value": 50
      }
     },
     "4685f639965c46ba984622abe3557085": {
      "model_module": "@jupyter-widgets/controls",
      "model_module_version": "1.5.0",
      "model_name": "ToggleButtonModel",
      "state": {
       "description": "Analítico",
       "icon": "check",
       "layout": "IPY_MODEL_d114502873024df18b3a304432a3a957",
       "style": "IPY_MODEL_fac738f9506b4ddabec615c00b44786e",
       "tooltip": "Ativa ou desativa a solução analítica",
       "value": true
      }
     },
     "46fc7690b30b4d789954c499850cf247": {
      "model_module": "@jupyter-widgets/controls",
      "model_module_version": "1.5.0",
      "model_name": "FloatSliderModel",
      "state": {
       "continuous_update": false,
       "description": "$\\Delta t:$",
       "layout": "IPY_MODEL_d50233d884e94c098f7d48dbb2cd5c17",
       "max": 200,
       "min": 1,
       "step": 5,
       "style": "IPY_MODEL_c64ba02249654206a2db56539a3e9a05",
       "value": 50
      }
     },
     "49b6bb9012d04f3697b92af2d7eb3688": {
      "model_module": "@jupyter-widgets/output",
      "model_module_version": "1.0.0",
      "model_name": "OutputModel",
      "state": {
       "layout": "IPY_MODEL_6f12ae0d5da44f0ebef665184913d346",
       "outputs": [
        {
         "data": {
          "application/vnd.jupyter.widget-view+json": {
           "model_id": "fd9e9ffe3d3149fba877794074f7260c",
           "version_major": 2,
           "version_minor": 0
          },
          "text/plain": "Canvas(toolbar=Toolbar(toolitems=[('Home', 'Reset original view', 'home', 'home'), ('Back', 'Back to previous …"
         },
         "metadata": {},
         "output_type": "display_data"
        }
       ]
      }
     },
     "4a2e66ee59ec48278ec4b4140932da8b": {
      "model_module": "@jupyter-widgets/base",
      "model_module_version": "1.2.0",
      "model_name": "LayoutModel",
      "state": {}
     },
     "4ac5ba83b6034bf88713d265dbdbf1e4": {
      "model_module": "@jupyter-widgets/controls",
      "model_module_version": "1.5.0",
      "model_name": "VBoxModel",
      "state": {
       "children": [
        "IPY_MODEL_5ae4f3bba70344feb1708a6318058fc3",
        "IPY_MODEL_20d4d27bb0f54ed8b6b4afa4677e4cbc"
       ],
       "layout": "IPY_MODEL_8a548bebbd71437f91706704d074cad1"
      }
     },
     "4af07f2816684a9f88a7cdfc8b9414c4": {
      "model_module": "@jupyter-widgets/base",
      "model_module_version": "1.2.0",
      "model_name": "LayoutModel",
      "state": {}
     },
     "4bbda43595f64cf38c8ce18686f19996": {
      "model_module": "@jupyter-widgets/controls",
      "model_module_version": "1.5.0",
      "model_name": "HBoxModel",
      "state": {
       "children": [
        "IPY_MODEL_4ce378e1874f423d91200b0656adc7c2",
        "IPY_MODEL_926f0c3e9ac9450bb4977f59ac996817",
        "IPY_MODEL_3ed6cfc82e1d403799d96d50cc57e1e2",
        "IPY_MODEL_a28e844a2d724bf6b0e928ed0b2b6f26"
       ],
       "layout": "IPY_MODEL_4e3b909d1bff4f72bc2e536fee8a9ccb"
      }
     },
     "4bd42c5add6a4ca4b2cbdab0d1b4a01b": {
      "model_module": "@jupyter-widgets/output",
      "model_module_version": "1.0.0",
      "model_name": "OutputModel",
      "state": {
       "layout": "IPY_MODEL_bc7d12172218420d92649744e0f8f566",
       "outputs": [
        {
         "data": {
          "application/vnd.jupyter.widget-view+json": {
           "model_id": "1ce5a86714a7420986a01b6d708693b6",
           "version_major": 2,
           "version_minor": 0
          },
          "text/plain": "Canvas(toolbar=Toolbar(toolitems=[('Home', 'Reset original view', 'home', 'home'), ('Back', 'Back to previous …"
         },
         "metadata": {},
         "output_type": "display_data"
        }
       ]
      }
     },
     "4c4bd6d3c0244ed5ba7a7345ac2cf430": {
      "model_module": "@jupyter-widgets/base",
      "model_module_version": "1.2.0",
      "model_name": "LayoutModel",
      "state": {
       "width": "100%"
      }
     },
     "4c91b021bb514dd4bb8a170d9a8651c7": {
      "model_module": "@jupyter-widgets/base",
      "model_module_version": "1.2.0",
      "model_name": "LayoutModel",
      "state": {
       "width": "95%"
      }
     },
     "4ce378e1874f423d91200b0656adc7c2": {
      "model_module": "@jupyter-widgets/controls",
      "model_module_version": "1.5.0",
      "model_name": "ToggleButtonModel",
      "state": {
       "description": "Analítico",
       "icon": "check",
       "layout": "IPY_MODEL_690fef78e3d64f53b1cc952326c0fe6d",
       "style": "IPY_MODEL_36cf27ccfaa5470eb92d937a5227a436",
       "tooltip": "Ativa ou desativa a solução analítica",
       "value": true
      }
     },
     "4d4f250997cb4659963d420ee2199053": {
      "model_module": "@jupyter-widgets/controls",
      "model_module_version": "1.5.0",
      "model_name": "ToggleButtonModel",
      "state": {
       "description": "RK1(Euler)",
       "icon": "check",
       "layout": "IPY_MODEL_68c8cf94673f40c39ced82a5dd517bfc",
       "style": "IPY_MODEL_a7a69bba222740af8515067bbf241e23",
       "tooltip": "Ativa ou desativa a solução RK1(Euler)",
       "value": true
      }
     },
     "4d77266d2e5341d0ad7843e354841933": {
      "model_module": "@jupyter-widgets/controls",
      "model_module_version": "1.5.0",
      "model_name": "ToggleButtonModel",
      "state": {
       "description": "RK1(Euler)",
       "icon": "check",
       "layout": "IPY_MODEL_e36194e34d6e48f4b0a51a0d34e1b006",
       "style": "IPY_MODEL_562496c1c42843aba47b9b1c525463ff",
       "tooltip": "Ativa ou desativa a solução RK1(Euler)"
      }
     },
     "4e3b909d1bff4f72bc2e536fee8a9ccb": {
      "model_module": "@jupyter-widgets/base",
      "model_module_version": "1.2.0",
      "model_name": "LayoutModel",
      "state": {
       "width": "repeat(auto-fill, 180px)"
      }
     },
     "4e4f073b1c0d46d1a9dd515deaa6d5a3": {
      "model_module": "@jupyter-widgets/controls",
      "model_module_version": "1.5.0",
      "model_name": "DescriptionStyleModel",
      "state": {
       "description_width": ""
      }
     },
     "4efa94db43c748e49aacac6261e44e94": {
      "model_module": "@jupyter-widgets/controls",
      "model_module_version": "1.5.0",
      "model_name": "ToggleButtonModel",
      "state": {
       "description": "RK1(Euler)",
       "icon": "check",
       "layout": "IPY_MODEL_f8a0a254f1e44eef8471249520b30e96",
       "style": "IPY_MODEL_3f72f54bbb6848f0ba7dc32a9db57dc9",
       "tooltip": "Ativa ou desativa a solução RK1(Euler)",
       "value": true
      }
     },
     "4f7ad5615de84e80b805b8cc0973f7ee": {
      "model_module": "jupyter-matplotlib",
      "model_module_version": "^0.9.0",
      "model_name": "ToolbarModel",
      "state": {
       "layout": "IPY_MODEL_858094471a314cdf83932594255feddc",
       "toolitems": [
        [
         "Home",
         "Reset original view",
         "home",
         "home"
        ],
        [
         "Back",
         "Back to previous view",
         "arrow-left",
         "back"
        ],
        [
         "Forward",
         "Forward to next view",
         "arrow-right",
         "forward"
        ],
        [
         "Pan",
         "Left button pans, Right button zooms\nx/y fixes axis, CTRL fixes aspect",
         "arrows",
         "pan"
        ],
        [
         "Zoom",
         "Zoom to rectangle\nx/y fixes axis, CTRL fixes aspect",
         "square-o",
         "zoom"
        ],
        [
         "Download",
         "Download plot",
         "floppy-o",
         "save_figure"
        ]
       ]
      }
     },
     "5136a317e35e4c3f97189d99daf7e91e": {
      "model_module": "@jupyter-widgets/controls",
      "model_module_version": "1.5.0",
      "model_name": "ToggleButtonModel",
      "state": {
       "description": "Analítico",
       "icon": "check",
       "layout": "IPY_MODEL_a3335d589ae7474f81665721f8d78036",
       "style": "IPY_MODEL_940b3f5bee3d44c9ab2424c7577f3cb0",
       "tooltip": "Ativa ou desativa a solução analítica",
       "value": true
      }
     },
     "5254c83e428a47a888d7392f8ef289b5": {
      "model_module": "jupyter-matplotlib",
      "model_module_version": "^0.9.0",
      "model_name": "ToolbarModel",
      "state": {
       "layout": "IPY_MODEL_60ff722d4ac3486c8bb48c8b2fa24a4a",
       "toolitems": [
        [
         "Home",
         "Reset original view",
         "home",
         "home"
        ],
        [
         "Back",
         "Back to previous view",
         "arrow-left",
         "back"
        ],
        [
         "Forward",
         "Forward to next view",
         "arrow-right",
         "forward"
        ],
        [
         "Pan",
         "Left button pans, Right button zooms\nx/y fixes axis, CTRL fixes aspect",
         "arrows",
         "pan"
        ],
        [
         "Zoom",
         "Zoom to rectangle\nx/y fixes axis, CTRL fixes aspect",
         "square-o",
         "zoom"
        ],
        [
         "Download",
         "Download plot",
         "floppy-o",
         "save_figure"
        ]
       ]
      }
     },
     "52f06ff61d7f4932ad3a9017c9fabe04": {
      "model_module": "@jupyter-widgets/controls",
      "model_module_version": "1.5.0",
      "model_name": "ToggleButtonModel",
      "state": {
       "description": "Analítico",
       "icon": "check",
       "layout": "IPY_MODEL_05e08891579e4ff4965aea72413b6b3c",
       "style": "IPY_MODEL_353ead74a1594dbab1fd52855d245bdf",
       "tooltip": "Ativa ou desativa a solução analítica",
       "value": true
      }
     },
     "538872dce60348a5a2ec862488dd0be3": {
      "model_module": "jupyter-matplotlib",
      "model_module_version": "^0.9.0",
      "model_name": "ToolbarModel",
      "state": {
       "layout": "IPY_MODEL_557c6edc39e84d72aa594b619ed2201e",
       "toolitems": [
        [
         "Home",
         "Reset original view",
         "home",
         "home"
        ],
        [
         "Back",
         "Back to previous view",
         "arrow-left",
         "back"
        ],
        [
         "Forward",
         "Forward to next view",
         "arrow-right",
         "forward"
        ],
        [
         "Pan",
         "Left button pans, Right button zooms\nx/y fixes axis, CTRL fixes aspect",
         "arrows",
         "pan"
        ],
        [
         "Zoom",
         "Zoom to rectangle\nx/y fixes axis, CTRL fixes aspect",
         "square-o",
         "zoom"
        ],
        [
         "Download",
         "Download plot",
         "floppy-o",
         "save_figure"
        ]
       ]
      }
     },
     "53ef221761f446e0bd2c03977bcbc98e": {
      "model_module": "@jupyter-widgets/controls",
      "model_module_version": "1.5.0",
      "model_name": "HBoxModel",
      "state": {
       "children": [
        "IPY_MODEL_52f06ff61d7f4932ad3a9017c9fabe04",
        "IPY_MODEL_9f57dc7c66a44c7b8d9cdc56dc2a2bf6",
        "IPY_MODEL_17f749084af641919d5e4c9390be3dfc",
        "IPY_MODEL_7dac159cc7344a8cb36b5e3259b908c7"
       ],
       "layout": "IPY_MODEL_d078fa606fac40d8a7a4e7df675f3e8b"
      }
     },
     "544dd1324446459da4af192c3e12fc77": {
      "model_module": "@jupyter-widgets/controls",
      "model_module_version": "1.5.0",
      "model_name": "ToggleButtonModel",
      "state": {
       "description": "RK2",
       "icon": "check",
       "layout": "IPY_MODEL_68c8cf94673f40c39ced82a5dd517bfc",
       "style": "IPY_MODEL_3e45b4974cff44c891c8390db2f7611e",
       "tooltip": "Ativa ou desativa a solução RK2",
       "value": true
      }
     },
     "556239d736734b11b04e8bb199fb83ed": {
      "model_module": "@jupyter-widgets/controls",
      "model_module_version": "1.5.0",
      "model_name": "DescriptionStyleModel",
      "state": {
       "description_width": ""
      }
     },
     "557c6edc39e84d72aa594b619ed2201e": {
      "model_module": "@jupyter-widgets/base",
      "model_module_version": "1.2.0",
      "model_name": "LayoutModel",
      "state": {}
     },
     "55bd3b87455c440e9676678b62075125": {
      "model_module": "@jupyter-widgets/output",
      "model_module_version": "1.0.0",
      "model_name": "OutputModel",
      "state": {
       "layout": "IPY_MODEL_34cdffa5e72e447ba589c47abacdea82",
       "outputs": [
        {
         "data": {
          "application/vnd.jupyter.widget-view+json": {
           "model_id": "15759bf0dab4413395abd7ae86825eab",
           "version_major": 2,
           "version_minor": 0
          },
          "text/plain": "Canvas(toolbar=Toolbar(toolitems=[('Home', 'Reset original view', 'home', 'home'), ('Back', 'Back to previous …"
         },
         "metadata": {},
         "output_type": "display_data"
        }
       ]
      }
     },
     "56044cb3159e43aebf6a6b46ed30e3a6": {
      "model_module": "@jupyter-widgets/base",
      "model_module_version": "1.2.0",
      "model_name": "LayoutModel",
      "state": {}
     },
     "562496c1c42843aba47b9b1c525463ff": {
      "model_module": "@jupyter-widgets/controls",
      "model_module_version": "1.5.0",
      "model_name": "DescriptionStyleModel",
      "state": {
       "description_width": ""
      }
     },
     "56a2a8dc1cb040c399e2bc8751bc743f": {
      "model_module": "@jupyter-widgets/base",
      "model_module_version": "1.2.0",
      "model_name": "LayoutModel",
      "state": {
       "width": "repeat(auto-fill, 180px)"
      }
     },
     "58ba500ec9e743ec822e22f689831ae9": {
      "model_module": "@jupyter-widgets/controls",
      "model_module_version": "1.5.0",
      "model_name": "DescriptionStyleModel",
      "state": {
       "description_width": ""
      }
     },
     "58f879f0ff604ac2ae855979507470cd": {
      "model_module": "jupyter-matplotlib",
      "model_module_version": "^0.9.0",
      "model_name": "ToolbarModel",
      "state": {
       "layout": "IPY_MODEL_45e9f53642c34c59b43e9e5a10f0202c",
       "toolitems": [
        [
         "Home",
         "Reset original view",
         "home",
         "home"
        ],
        [
         "Back",
         "Back to previous view",
         "arrow-left",
         "back"
        ],
        [
         "Forward",
         "Forward to next view",
         "arrow-right",
         "forward"
        ],
        [
         "Pan",
         "Left button pans, Right button zooms\nx/y fixes axis, CTRL fixes aspect",
         "arrows",
         "pan"
        ],
        [
         "Zoom",
         "Zoom to rectangle\nx/y fixes axis, CTRL fixes aspect",
         "square-o",
         "zoom"
        ],
        [
         "Download",
         "Download plot",
         "floppy-o",
         "save_figure"
        ]
       ]
      }
     },
     "5a1c45c568944c58a0febfa062683543": {
      "model_module": "@jupyter-widgets/controls",
      "model_module_version": "1.5.0",
      "model_name": "DescriptionStyleModel",
      "state": {
       "description_width": ""
      }
     },
     "5a2dd884498b457ba393c852623703e4": {
      "model_module": "@jupyter-widgets/base",
      "model_module_version": "1.2.0",
      "model_name": "LayoutModel",
      "state": {
       "width": "100%"
      }
     },
     "5a8cf5a08b964c9db66f1419750be072": {
      "model_module": "@jupyter-widgets/base",
      "model_module_version": "1.2.0",
      "model_name": "LayoutModel",
      "state": {}
     },
     "5ae4f3bba70344feb1708a6318058fc3": {
      "model_module": "@jupyter-widgets/controls",
      "model_module_version": "1.5.0",
      "model_name": "FloatSliderModel",
      "state": {
       "continuous_update": false,
       "description": "$\\Delta t:$",
       "layout": "IPY_MODEL_8a548bebbd71437f91706704d074cad1",
       "max": 200,
       "min": 1,
       "step": 5,
       "style": "IPY_MODEL_6c7f24b126414bf4bb75a68588903d75",
       "value": 50
      }
     },
     "5b1d0ebd41564f3797f69e306f8dd82a": {
      "model_module": "@jupyter-widgets/controls",
      "model_module_version": "1.5.0",
      "model_name": "ToggleButtonModel",
      "state": {
       "description": "Analítico",
       "icon": "check",
       "layout": "IPY_MODEL_e36194e34d6e48f4b0a51a0d34e1b006",
       "style": "IPY_MODEL_4e4f073b1c0d46d1a9dd515deaa6d5a3",
       "tooltip": "Ativa ou desativa a solução analítica"
      }
     },
     "5b8ec0ed820849e89bd9587b89480d56": {
      "model_module": "@jupyter-widgets/controls",
      "model_module_version": "1.5.0",
      "model_name": "DescriptionStyleModel",
      "state": {
       "description_width": ""
      }
     },
     "5c0e2b621e674d2e9709753887d04360": {
      "model_module": "jupyter-matplotlib",
      "model_module_version": "^0.9.0",
      "model_name": "ToolbarModel",
      "state": {
       "layout": "IPY_MODEL_2355c615a9004d27861ab0242823436e",
       "toolitems": [
        [
         "Home",
         "Reset original view",
         "home",
         "home"
        ],
        [
         "Back",
         "Back to previous view",
         "arrow-left",
         "back"
        ],
        [
         "Forward",
         "Forward to next view",
         "arrow-right",
         "forward"
        ],
        [
         "Pan",
         "Left button pans, Right button zooms\nx/y fixes axis, CTRL fixes aspect",
         "arrows",
         "pan"
        ],
        [
         "Zoom",
         "Zoom to rectangle\nx/y fixes axis, CTRL fixes aspect",
         "square-o",
         "zoom"
        ],
        [
         "Download",
         "Download plot",
         "floppy-o",
         "save_figure"
        ]
       ]
      }
     },
     "5c80821c05c84622bee842b963e14f4f": {
      "model_module": "@jupyter-widgets/base",
      "model_module_version": "1.2.0",
      "model_name": "LayoutModel",
      "state": {
       "width": "repeat(auto-fill, 180px)"
      }
     },
     "5d05c68dad1249278d65aab5fc6314c2": {
      "model_module": "@jupyter-widgets/controls",
      "model_module_version": "1.5.0",
      "model_name": "ToggleButtonModel",
      "state": {
       "description": "RK4",
       "icon": "check",
       "layout": "IPY_MODEL_8d17e1a16ab944a9949dcf71a326c091",
       "style": "IPY_MODEL_1eaa1f7e8c434f248afd22f737eefe06",
       "tooltip": "Ativa ou desativa a solução RK4",
       "value": true
      }
     },
     "5d0d7941956f4df4ba09948be5a0ce5f": {
      "model_module": "@jupyter-widgets/controls",
      "model_module_version": "1.5.0",
      "model_name": "ToggleButtonModel",
      "state": {
       "description": "Analítico",
       "icon": "check",
       "layout": "IPY_MODEL_07f1d807ca114d65ab724b31ae5677d5",
       "style": "IPY_MODEL_6268ea67da50427d9bb10989c8937add",
       "tooltip": "Ativa ou desativa a solução analítica",
       "value": true
      }
     },
     "5d303f0a8962458692ce716122a81e77": {
      "model_module": "@jupyter-widgets/controls",
      "model_module_version": "1.5.0",
      "model_name": "ToggleButtonModel",
      "state": {
       "description": "RK1(Euler)",
       "icon": "check",
       "layout": "IPY_MODEL_c3e79ade3a994eff8ff735526da64bb1",
       "style": "IPY_MODEL_f76ee9fbbdc5462d8f7439ea8e62fedb",
       "tooltip": "Ativa ou desativa a solução RK1(Euler)",
       "value": true
      }
     },
     "5d7cdc624fe445488c3452590caa2b08": {
      "model_module": "@jupyter-widgets/controls",
      "model_module_version": "1.5.0",
      "model_name": "DescriptionStyleModel",
      "state": {
       "description_width": ""
      }
     },
     "5eb4bfca8859487e9adaec8300dd62b5": {
      "model_module": "@jupyter-widgets/controls",
      "model_module_version": "1.5.0",
      "model_name": "DescriptionStyleModel",
      "state": {
       "description_width": ""
      }
     },
     "5eba72afaf5541d5b5af06828f6234ef": {
      "model_module": "@jupyter-widgets/controls",
      "model_module_version": "1.5.0",
      "model_name": "DescriptionStyleModel",
      "state": {
       "description_width": ""
      }
     },
     "600ea2e904264a58931bffda760eef24": {
      "model_module": "@jupyter-widgets/controls",
      "model_module_version": "1.5.0",
      "model_name": "SliderStyleModel",
      "state": {
       "description_width": ""
      }
     },
     "603df785893443a198721abbc25c6de4": {
      "model_module": "@jupyter-widgets/base",
      "model_module_version": "1.2.0",
      "model_name": "LayoutModel",
      "state": {}
     },
     "60ff722d4ac3486c8bb48c8b2fa24a4a": {
      "model_module": "@jupyter-widgets/base",
      "model_module_version": "1.2.0",
      "model_name": "LayoutModel",
      "state": {}
     },
     "618ee7e0dfb341dfb6fd75bcf2f4b75a": {
      "model_module": "@jupyter-widgets/base",
      "model_module_version": "1.2.0",
      "model_name": "LayoutModel",
      "state": {}
     },
     "618fadf58701406193b6556dce49a416": {
      "model_module": "@jupyter-widgets/controls",
      "model_module_version": "1.5.0",
      "model_name": "HBoxModel",
      "state": {
       "children": [
        "IPY_MODEL_980890f95cab4893a782ecde54476453",
        "IPY_MODEL_041e2a8094db414b839d315fe033248e",
        "IPY_MODEL_1c8dd70a6f5f4aebbd4864f87ef26a85",
        "IPY_MODEL_d02bdb280dc84eb4a1e88ca01a4db911"
       ],
       "layout": "IPY_MODEL_f8fe461ce91749d7a0bfb0fd9905c3bd"
      }
     },
     "620fe90d49b940ffb2db39952e3e8c9b": {
      "model_module": "@jupyter-widgets/controls",
      "model_module_version": "1.5.0",
      "model_name": "VBoxModel",
      "state": {
       "children": [
        "IPY_MODEL_46269d8e0b4a4cd6a71c55d7f39adc9c",
        "IPY_MODEL_ce3db48569554b60a2bf0817adb15f3a"
       ],
       "layout": "IPY_MODEL_00a253282c5b46f0bb380dc60d88964b"
      }
     },
     "6268ea67da50427d9bb10989c8937add": {
      "model_module": "@jupyter-widgets/controls",
      "model_module_version": "1.5.0",
      "model_name": "DescriptionStyleModel",
      "state": {
       "description_width": ""
      }
     },
     "6272686592a04376978f3ff2b21c2988": {
      "model_module": "@jupyter-widgets/controls",
      "model_module_version": "1.5.0",
      "model_name": "DescriptionStyleModel",
      "state": {
       "description_width": ""
      }
     },
     "6286ffad6e114439bc0ec6cc9d7feda6": {
      "model_module": "@jupyter-widgets/base",
      "model_module_version": "1.2.0",
      "model_name": "LayoutModel",
      "state": {}
     },
     "64fa0b6031ad4c6b91e014b5b2e555c6": {
      "model_module": "@jupyter-widgets/base",
      "model_module_version": "1.2.0",
      "model_name": "LayoutModel",
      "state": {
       "width": "100%"
      }
     },
     "657b650f8fcb4d93bb42da2381c3d806": {
      "model_module": "jupyter-matplotlib",
      "model_module_version": "^0.9.0",
      "model_name": "ToolbarModel",
      "state": {
       "layout": "IPY_MODEL_d27fddfb0b8a4c2a96eeaf6aeb14c6fc",
       "toolitems": [
        [
         "Home",
         "Reset original view",
         "home",
         "home"
        ],
        [
         "Back",
         "Back to previous view",
         "arrow-left",
         "back"
        ],
        [
         "Forward",
         "Forward to next view",
         "arrow-right",
         "forward"
        ],
        [
         "Pan",
         "Left button pans, Right button zooms\nx/y fixes axis, CTRL fixes aspect",
         "arrows",
         "pan"
        ],
        [
         "Zoom",
         "Zoom to rectangle\nx/y fixes axis, CTRL fixes aspect",
         "square-o",
         "zoom"
        ],
        [
         "Download",
         "Download plot",
         "floppy-o",
         "save_figure"
        ]
       ]
      }
     },
     "67bee9bb80ee4f688d65921ab55c254a": {
      "model_module": "@jupyter-widgets/base",
      "model_module_version": "1.2.0",
      "model_name": "LayoutModel",
      "state": {
       "width": "95%"
      }
     },
     "67f1c55485934718a969fe3d9587ec96": {
      "model_module": "@jupyter-widgets/controls",
      "model_module_version": "1.5.0",
      "model_name": "SliderStyleModel",
      "state": {
       "description_width": ""
      }
     },
     "68c8cf94673f40c39ced82a5dd517bfc": {
      "model_module": "@jupyter-widgets/base",
      "model_module_version": "1.2.0",
      "model_name": "LayoutModel",
      "state": {
       "width": "25%"
      }
     },
     "690fef78e3d64f53b1cc952326c0fe6d": {
      "model_module": "@jupyter-widgets/base",
      "model_module_version": "1.2.0",
      "model_name": "LayoutModel",
      "state": {
       "width": "25%"
      }
     },
     "6918516ec0db4f52be049c4baf5ae453": {
      "model_module": "@jupyter-widgets/base",
      "model_module_version": "1.2.0",
      "model_name": "LayoutModel",
      "state": {}
     },
     "69984d5439fe4f9591e056a7106dd746": {
      "model_module": "@jupyter-widgets/base",
      "model_module_version": "1.2.0",
      "model_name": "LayoutModel",
      "state": {}
     },
     "6ba5e2145fd04daeba42a51c72559d0f": {
      "model_module": "@jupyter-widgets/controls",
      "model_module_version": "1.5.0",
      "model_name": "DescriptionStyleModel",
      "state": {
       "description_width": ""
      }
     },
     "6c5f2fcebe834eff92c80715d1bf68c9": {
      "model_module": "@jupyter-widgets/base",
      "model_module_version": "1.2.0",
      "model_name": "LayoutModel",
      "state": {}
     },
     "6c7f24b126414bf4bb75a68588903d75": {
      "model_module": "@jupyter-widgets/controls",
      "model_module_version": "1.5.0",
      "model_name": "SliderStyleModel",
      "state": {
       "description_width": ""
      }
     },
     "6d43a490e70d44259f6d6f0af9d7f6cd": {
      "model_module": "@jupyter-widgets/base",
      "model_module_version": "1.2.0",
      "model_name": "LayoutModel",
      "state": {
       "width": "repeat(auto-fill, 180px)"
      }
     },
     "6d96510c4f184030b186e485c369488a": {
      "model_module": "@jupyter-widgets/controls",
      "model_module_version": "1.5.0",
      "model_name": "DescriptionStyleModel",
      "state": {
       "description_width": ""
      }
     },
     "6dd0ce8351ef4db181e021856f28802e": {
      "model_module": "@jupyter-widgets/controls",
      "model_module_version": "1.5.0",
      "model_name": "ToggleButtonModel",
      "state": {
       "description": "RK4",
       "icon": "check",
       "layout": "IPY_MODEL_c3e79ade3a994eff8ff735526da64bb1",
       "style": "IPY_MODEL_75cd90e4dc334a8284d68303809fcf14",
       "tooltip": "Ativa ou desativa a solução RK4",
       "value": true
      }
     },
     "6dd41897ec4c43cea7165c3093c6d62b": {
      "model_module": "@jupyter-widgets/controls",
      "model_module_version": "1.5.0",
      "model_name": "ToggleButtonModel",
      "state": {
       "description": "RK1(Euler)",
       "icon": "check",
       "layout": "IPY_MODEL_87944b8ade5144a79712548c9ebd5f35",
       "style": "IPY_MODEL_c9b90c14732b42319abf2d3b711ca9f0",
       "tooltip": "Ativa ou desativa a solução RK1(Euler)",
       "value": true
      }
     },
     "6de579d2053442eb86df52b5b171a080": {
      "model_module": "@jupyter-widgets/controls",
      "model_module_version": "1.5.0",
      "model_name": "SliderStyleModel",
      "state": {
       "description_width": ""
      }
     },
     "6de66886bf4f49eda3f8b46e11e475e2": {
      "model_module": "@jupyter-widgets/controls",
      "model_module_version": "1.5.0",
      "model_name": "DescriptionStyleModel",
      "state": {
       "description_width": ""
      }
     },
     "6e99c75e878f46c2a2c8831086828a0b": {
      "model_module": "@jupyter-widgets/controls",
      "model_module_version": "1.5.0",
      "model_name": "FloatSliderModel",
      "state": {
       "continuous_update": false,
       "description": "$\\Delta t:$",
       "layout": "IPY_MODEL_ad34d88c1cdc4155ac380792b5ab33df",
       "max": 200,
       "min": 1,
       "step": 5,
       "style": "IPY_MODEL_85185c0de8b64e3caea25d166ca878ab",
       "value": 51
      }
     },
     "6f12ae0d5da44f0ebef665184913d346": {
      "model_module": "@jupyter-widgets/base",
      "model_module_version": "1.2.0",
      "model_name": "LayoutModel",
      "state": {}
     },
     "6ff569d6d348481591bc60f0422efe18": {
      "model_module": "@jupyter-widgets/controls",
      "model_module_version": "1.5.0",
      "model_name": "DescriptionStyleModel",
      "state": {
       "description_width": ""
      }
     },
     "70d4bbda8d9c4e098f18ddcb6b0b87e5": {
      "model_module": "@jupyter-widgets/controls",
      "model_module_version": "1.5.0",
      "model_name": "ToggleButtonModel",
      "state": {
       "description": "RK1(Euler)",
       "icon": "check",
       "layout": "IPY_MODEL_4360f0c580ae4b8180c3cd14bfeac4dd",
       "style": "IPY_MODEL_6272686592a04376978f3ff2b21c2988",
       "tooltip": "Ativa ou desativa a solução RK1(Euler)",
       "value": true
      }
     },
     "713016eca5bb4a1fb1f0fdbf4695487b": {
      "model_module": "@jupyter-widgets/controls",
      "model_module_version": "1.5.0",
      "model_name": "DescriptionStyleModel",
      "state": {
       "description_width": ""
      }
     },
     "71c6d9a70b4547f7813789769bc84700": {
      "model_module": "@jupyter-widgets/controls",
      "model_module_version": "1.5.0",
      "model_name": "FloatSliderModel",
      "state": {
       "continuous_update": false,
       "description": "$\\Delta t:$",
       "layout": "IPY_MODEL_4c91b021bb514dd4bb8a170d9a8651c7",
       "max": 200,
       "min": 1,
       "step": 5,
       "style": "IPY_MODEL_ba49e0e93fed4ead86a35c1fdd8bdd2f",
       "value": 50
      }
     },
     "72a3a5bd016549bfb96b990dccd0c164": {
      "model_module": "@jupyter-widgets/controls",
      "model_module_version": "1.5.0",
      "model_name": "DescriptionStyleModel",
      "state": {
       "description_width": ""
      }
     },
     "74030d93268d4265964981e59e5cb814": {
      "model_module": "@jupyter-widgets/controls",
      "model_module_version": "1.5.0",
      "model_name": "ToggleButtonModel",
      "state": {
       "description": "RK4",
       "icon": "check",
       "layout": "IPY_MODEL_b2985f9bfd9947c7a50c6494033d466b",
       "style": "IPY_MODEL_9366e13b77eb4b1c9aed1e151050e399",
       "tooltip": "Ativa ou desativa a solução RK4",
       "value": true
      }
     },
     "74c98c451e38478fb0907be7a2944f50": {
      "model_module": "@jupyter-widgets/base",
      "model_module_version": "1.2.0",
      "model_name": "LayoutModel",
      "state": {
       "width": "repeat(auto-fill, 180px)"
      }
     },
     "75cd90e4dc334a8284d68303809fcf14": {
      "model_module": "@jupyter-widgets/controls",
      "model_module_version": "1.5.0",
      "model_name": "DescriptionStyleModel",
      "state": {
       "description_width": ""
      }
     },
     "7710d79198fa4a16b26e6a264d93850b": {
      "model_module": "@jupyter-widgets/controls",
      "model_module_version": "1.5.0",
      "model_name": "DescriptionStyleModel",
      "state": {
       "description_width": ""
      }
     },
     "78415baeda8b4e03be41dfc915781d9c": {
      "model_module": "jupyter-matplotlib",
      "model_module_version": "^0.9.0",
      "model_name": "ToolbarModel",
      "state": {
       "layout": "IPY_MODEL_618ee7e0dfb341dfb6fd75bcf2f4b75a",
       "toolitems": [
        [
         "Home",
         "Reset original view",
         "home",
         "home"
        ],
        [
         "Back",
         "Back to previous view",
         "arrow-left",
         "back"
        ],
        [
         "Forward",
         "Forward to next view",
         "arrow-right",
         "forward"
        ],
        [
         "Pan",
         "Left button pans, Right button zooms\nx/y fixes axis, CTRL fixes aspect",
         "arrows",
         "pan"
        ],
        [
         "Zoom",
         "Zoom to rectangle\nx/y fixes axis, CTRL fixes aspect",
         "square-o",
         "zoom"
        ],
        [
         "Download",
         "Download plot",
         "floppy-o",
         "save_figure"
        ]
       ]
      }
     },
     "7a3082ba543247079addac8801049972": {
      "model_module": "@jupyter-widgets/controls",
      "model_module_version": "1.5.0",
      "model_name": "FloatSliderModel",
      "state": {
       "continuous_update": false,
       "description": "$\\Delta t:$",
       "layout": "IPY_MODEL_92be6b2f246d40a28cc01f9e807048ef",
       "max": 200,
       "min": 1,
       "step": 5,
       "style": "IPY_MODEL_c0ee99614b3b4861aaa31f63dec14924",
       "value": 50
      }
     },
     "7a30a846de524079b5b4bed9b42c93cb": {
      "model_module": "@jupyter-widgets/controls",
      "model_module_version": "1.5.0",
      "model_name": "ToggleButtonModel",
      "state": {
       "description": "RK2",
       "icon": "check",
       "layout": "IPY_MODEL_e36194e34d6e48f4b0a51a0d34e1b006",
       "style": "IPY_MODEL_cdebba02f1174adcb0adff6159a53c8b",
       "tooltip": "Ativa ou desativa a solução RK2"
      }
     },
     "7bd11af31a8c47a198f7750eb094c9e5": {
      "model_module": "@jupyter-widgets/controls",
      "model_module_version": "1.5.0",
      "model_name": "FloatSliderModel",
      "state": {
       "continuous_update": false,
       "description": "$\\Delta t:$",
       "layout": "IPY_MODEL_07caa32c6a3d43f492a08838b4b2537a",
       "max": 200,
       "min": 1,
       "step": 5,
       "style": "IPY_MODEL_30440fe91b314bf3990583cb6e9ab1a0",
       "value": 50
      }
     },
     "7bebf9f68a9646849d6178cfd807b7c4": {
      "model_module": "@jupyter-widgets/controls",
      "model_module_version": "1.5.0",
      "model_name": "DescriptionStyleModel",
      "state": {
       "description_width": ""
      }
     },
     "7d68632be62b49959ba727b086a1b6e1": {
      "model_module": "@jupyter-widgets/controls",
      "model_module_version": "1.5.0",
      "model_name": "DescriptionStyleModel",
      "state": {
       "description_width": ""
      }
     },
     "7d9a6fe2a8014d5ca48635bf8a6e0a50": {
      "model_module": "@jupyter-widgets/controls",
      "model_module_version": "1.5.0",
      "model_name": "SliderStyleModel",
      "state": {
       "description_width": ""
      }
     },
     "7dac159cc7344a8cb36b5e3259b908c7": {
      "model_module": "@jupyter-widgets/controls",
      "model_module_version": "1.5.0",
      "model_name": "ToggleButtonModel",
      "state": {
       "description": "RK4",
       "icon": "check",
       "layout": "IPY_MODEL_05e08891579e4ff4965aea72413b6b3c",
       "style": "IPY_MODEL_99ef900d171e4ec3b23e77da952b0b8f",
       "tooltip": "Ativa ou desativa a solução RK4",
       "value": true
      }
     },
     "7e120e6105724a198dfceefbd1c369fb": {
      "model_module": "@jupyter-widgets/base",
      "model_module_version": "1.2.0",
      "model_name": "LayoutModel",
      "state": {
       "width": "95%"
      }
     },
     "7eaacb5618ae40a1a95522be2bdce0af": {
      "model_module": "@jupyter-widgets/controls",
      "model_module_version": "1.5.0",
      "model_name": "ToggleButtonModel",
      "state": {
       "description": "RK1(Euler)",
       "icon": "check",
       "layout": "IPY_MODEL_41d44c6400fd48e6a1f6837f9d65578d",
       "style": "IPY_MODEL_33fac4ab56e6404b962ac483030958e5",
       "tooltip": "Ativa ou desativa a solução RK1(Euler)",
       "value": true
      }
     },
     "7f80e7a653054b06a44ca1374973a885": {
      "model_module": "@jupyter-widgets/base",
      "model_module_version": "1.2.0",
      "model_name": "LayoutModel",
      "state": {
       "width": "auto"
      }
     },
     "805ed4c33eed4a7c8ae1f8c7bbb86a60": {
      "model_module": "@jupyter-widgets/controls",
      "model_module_version": "1.5.0",
      "model_name": "DescriptionStyleModel",
      "state": {
       "description_width": ""
      }
     },
     "8076bf9f08f64c999b22eaaa72cae314": {
      "model_module": "@jupyter-widgets/controls",
      "model_module_version": "1.5.0",
      "model_name": "FloatSliderModel",
      "state": {
       "continuous_update": false,
       "description": "$\\Delta t:$",
       "layout": "IPY_MODEL_89ffc1d804a741619318358dc388782d",
       "max": 200,
       "min": 1,
       "step": 5,
       "style": "IPY_MODEL_d1d8cb22f9dc4fcc86130818c5340053",
       "value": 126
      }
     },
     "81126440c3d649d3949e034e0e4957ad": {
      "model_module": "jupyter-matplotlib",
      "model_module_version": "^0.9.0",
      "model_name": "ToolbarModel",
      "state": {
       "layout": "IPY_MODEL_6286ffad6e114439bc0ec6cc9d7feda6",
       "toolitems": [
        [
         "Home",
         "Reset original view",
         "home",
         "home"
        ],
        [
         "Back",
         "Back to previous view",
         "arrow-left",
         "back"
        ],
        [
         "Forward",
         "Forward to next view",
         "arrow-right",
         "forward"
        ],
        [
         "Pan",
         "Left button pans, Right button zooms\nx/y fixes axis, CTRL fixes aspect",
         "arrows",
         "pan"
        ],
        [
         "Zoom",
         "Zoom to rectangle\nx/y fixes axis, CTRL fixes aspect",
         "square-o",
         "zoom"
        ],
        [
         "Download",
         "Download plot",
         "floppy-o",
         "save_figure"
        ]
       ]
      }
     },
     "81cf43b723a84a608d03fa06ab112716": {
      "model_module": "@jupyter-widgets/controls",
      "model_module_version": "1.5.0",
      "model_name": "ToggleButtonModel",
      "state": {
       "description": "RK4",
       "icon": "check",
       "layout": "IPY_MODEL_34bfe76491224623824a93d4111234d6",
       "style": "IPY_MODEL_0e1b4b130786476f82e94ea7e5b4d312",
       "tooltip": "Ativa ou desativa a solução RK4",
       "value": true
      }
     },
     "8301e9358dea498f8c0b1b80ce8f504d": {
      "model_module": "@jupyter-widgets/base",
      "model_module_version": "1.2.0",
      "model_name": "LayoutModel",
      "state": {
       "width": "100%"
      }
     },
     "83c08a76985e44b6a025cfdaf3a46607": {
      "model_module": "@jupyter-widgets/controls",
      "model_module_version": "1.5.0",
      "model_name": "FloatSliderModel",
      "state": {
       "continuous_update": false,
       "description": "$\\Delta t:$",
       "layout": "IPY_MODEL_67bee9bb80ee4f688d65921ab55c254a",
       "max": 200,
       "min": 1,
       "step": 5,
       "style": "IPY_MODEL_066ba93492fe4cc39ceadcce9f7a059e",
       "value": 50
      }
     },
     "8449577e112c41a482cf512f76cf1f92": {
      "model_module": "@jupyter-widgets/controls",
      "model_module_version": "1.5.0",
      "model_name": "VBoxModel",
      "state": {
       "children": [
        "IPY_MODEL_7bd11af31a8c47a198f7750eb094c9e5",
        "IPY_MODEL_c57ea52e8958474286964818cc6ae457"
       ],
       "layout": "IPY_MODEL_07caa32c6a3d43f492a08838b4b2537a"
      }
     },
     "84687b9518134d5e88b96343547afd4c": {
      "model_module": "@jupyter-widgets/base",
      "model_module_version": "1.2.0",
      "model_name": "LayoutModel",
      "state": {
       "width": "auto"
      }
     },
     "85185c0de8b64e3caea25d166ca878ab": {
      "model_module": "@jupyter-widgets/controls",
      "model_module_version": "1.5.0",
      "model_name": "SliderStyleModel",
      "state": {
       "description_width": ""
      }
     },
     "858094471a314cdf83932594255feddc": {
      "model_module": "@jupyter-widgets/base",
      "model_module_version": "1.2.0",
      "model_name": "LayoutModel",
      "state": {}
     },
     "85ba7d22c2204972abac64ff3bff1d2b": {
      "model_module": "@jupyter-widgets/base",
      "model_module_version": "1.2.0",
      "model_name": "LayoutModel",
      "state": {
       "width": "95%"
      }
     },
     "86d49037f1cd423bbe05ae116b6fb2cb": {
      "model_module": "@jupyter-widgets/controls",
      "model_module_version": "1.5.0",
      "model_name": "ToggleButtonModel",
      "state": {
       "description": "RK1(Euler)",
       "icon": "check",
       "layout": "IPY_MODEL_10bffc92596e4b4c81b0b249e73866fe",
       "style": "IPY_MODEL_f1ec2e9238c243a6861fec8bd92b1272",
       "tooltip": "Ativa ou desativa a solução RK1(Euler)",
       "value": true
      }
     },
     "86f7201584264cb8a302a9e9aa6aa76f": {
      "model_module": "@jupyter-widgets/controls",
      "model_module_version": "1.5.0",
      "model_name": "ToggleButtonModel",
      "state": {
       "description": "Analítico",
       "icon": "check",
       "layout": "IPY_MODEL_369e613d802747deb0b12ea75ed65356",
       "style": "IPY_MODEL_9c9b1e0f006c40368fee7bb1504185de",
       "tooltip": "Ativa ou desativa a solução analítica",
       "value": true
      }
     },
     "87944b8ade5144a79712548c9ebd5f35": {
      "model_module": "@jupyter-widgets/base",
      "model_module_version": "1.2.0",
      "model_name": "LayoutModel",
      "state": {
       "width": "25%"
      }
     },
     "87fb664d758c46c68da0ad670ae87edd": {
      "model_module": "@jupyter-widgets/controls",
      "model_module_version": "1.5.0",
      "model_name": "HBoxModel",
      "state": {
       "children": [
        "IPY_MODEL_41fce52e162d48b4a7e5126812743148",
        "IPY_MODEL_70d4bbda8d9c4e098f18ddcb6b0b87e5",
        "IPY_MODEL_cc1048399ee94156b487d17ed28b6e88",
        "IPY_MODEL_c82b4b69f2644ae385845e1b665db221"
       ],
       "layout": "IPY_MODEL_328ae1879a804451a0fe0f38379b6e53"
      }
     },
     "881ce6141fc047608c803c9e7b82779b": {
      "model_module": "@jupyter-widgets/base",
      "model_module_version": "1.2.0",
      "model_name": "LayoutModel",
      "state": {
       "width": "repeat(auto-fill, 180px)"
      }
     },
     "886339515e29454582f591f0df21f95b": {
      "model_module": "@jupyter-widgets/base",
      "model_module_version": "1.2.0",
      "model_name": "LayoutModel",
      "state": {}
     },
     "88bb344e7a8d4dab8306539c8a550b37": {
      "model_module": "@jupyter-widgets/base",
      "model_module_version": "1.2.0",
      "model_name": "LayoutModel",
      "state": {}
     },
     "89ffc1d804a741619318358dc388782d": {
      "model_module": "@jupyter-widgets/base",
      "model_module_version": "1.2.0",
      "model_name": "LayoutModel",
      "state": {
       "width": "95%"
      }
     },
     "8a548bebbd71437f91706704d074cad1": {
      "model_module": "@jupyter-widgets/base",
      "model_module_version": "1.2.0",
      "model_name": "LayoutModel",
      "state": {
       "width": "95%"
      }
     },
     "8bb89ffab1df48b597584eb37c7ad355": {
      "model_module": "@jupyter-widgets/output",
      "model_module_version": "1.0.0",
      "model_name": "OutputModel",
      "state": {
       "layout": "IPY_MODEL_228551d767c04203a372e1f19a72585a",
       "outputs": [
        {
         "data": {
          "application/vnd.jupyter.widget-view+json": {
           "model_id": "",
           "version_major": 2,
           "version_minor": 0
          },
          "text/plain": "Canvas(toolbar=Toolbar(toolitems=[('Home', 'Reset original view', 'home', 'home'), ('Back', 'Back to previous …"
         },
         "metadata": {},
         "output_type": "display_data"
        }
       ]
      }
     },
     "8ce61e1a05b143f1a46e3e19438f8b1a": {
      "model_module": "@jupyter-widgets/controls",
      "model_module_version": "1.5.0",
      "model_name": "DescriptionStyleModel",
      "state": {
       "description_width": ""
      }
     },
     "8d17e1a16ab944a9949dcf71a326c091": {
      "model_module": "@jupyter-widgets/base",
      "model_module_version": "1.2.0",
      "model_name": "LayoutModel",
      "state": {
       "width": "25%"
      }
     },
     "8d426e13d0c4484aa1e96bb5c381f9bd": {
      "model_module": "@jupyter-widgets/controls",
      "model_module_version": "1.5.0",
      "model_name": "DescriptionStyleModel",
      "state": {
       "description_width": ""
      }
     },
     "8d5b88e3a1ab443a92a17b4945c70952": {
      "model_module": "@jupyter-widgets/output",
      "model_module_version": "1.0.0",
      "model_name": "OutputModel",
      "state": {
       "layout": "IPY_MODEL_603df785893443a198721abbc25c6de4",
       "outputs": [
        {
         "data": {
          "application/vnd.jupyter.widget-view+json": {
           "model_id": "afcd52581f7a40a2b82a6bbd391f76eb",
           "version_major": 2,
           "version_minor": 0
          },
          "text/plain": "Canvas(toolbar=Toolbar(toolitems=[('Home', 'Reset original view', 'home', 'home'), ('Back', 'Back to previous …"
         },
         "metadata": {},
         "output_type": "display_data"
        }
       ]
      }
     },
     "8d78df042ab44b2091609c50a9421998": {
      "model_module": "jupyter-matplotlib",
      "model_module_version": "^0.9.0",
      "model_name": "ToolbarModel",
      "state": {
       "layout": "IPY_MODEL_a756025d6ada42c687ace5ad7dd2e8c2",
       "toolitems": [
        [
         "Home",
         "Reset original view",
         "home",
         "home"
        ],
        [
         "Back",
         "Back to previous view",
         "arrow-left",
         "back"
        ],
        [
         "Forward",
         "Forward to next view",
         "arrow-right",
         "forward"
        ],
        [
         "Pan",
         "Left button pans, Right button zooms\nx/y fixes axis, CTRL fixes aspect",
         "arrows",
         "pan"
        ],
        [
         "Zoom",
         "Zoom to rectangle\nx/y fixes axis, CTRL fixes aspect",
         "square-o",
         "zoom"
        ],
        [
         "Download",
         "Download plot",
         "floppy-o",
         "save_figure"
        ]
       ]
      }
     },
     "8e340e0aad5e4548a5fa3beb8beeedb1": {
      "model_module": "@jupyter-widgets/base",
      "model_module_version": "1.2.0",
      "model_name": "LayoutModel",
      "state": {
       "width": "repeat(auto-fill, 180px)"
      }
     },
     "8e965f035b5d45bfb3a95174d6d8585f": {
      "model_module": "@jupyter-widgets/controls",
      "model_module_version": "1.5.0",
      "model_name": "FloatSliderModel",
      "state": {
       "continuous_update": false,
       "description": "$\\Delta t:$",
       "layout": "IPY_MODEL_32b6e451653745fe8dab0ded4166c98f",
       "max": 200,
       "min": 1,
       "step": 5,
       "style": "IPY_MODEL_369485b5ea604adab413ad10314fa9a6",
       "value": 50
      }
     },
     "8fdf6569e0af4f8cb90f7c729a57f2b7": {
      "model_module": "jupyter-matplotlib",
      "model_module_version": "^0.9.0",
      "model_name": "ToolbarModel",
      "state": {
       "layout": "IPY_MODEL_c6c1839c1f2c4bbba783f7048333cc49",
       "toolitems": [
        [
         "Home",
         "Reset original view",
         "home",
         "home"
        ],
        [
         "Back",
         "Back to previous view",
         "arrow-left",
         "back"
        ],
        [
         "Forward",
         "Forward to next view",
         "arrow-right",
         "forward"
        ],
        [
         "Pan",
         "Left button pans, Right button zooms\nx/y fixes axis, CTRL fixes aspect",
         "arrows",
         "pan"
        ],
        [
         "Zoom",
         "Zoom to rectangle\nx/y fixes axis, CTRL fixes aspect",
         "square-o",
         "zoom"
        ],
        [
         "Download",
         "Download plot",
         "floppy-o",
         "save_figure"
        ]
       ]
      }
     },
     "9011862300bb40d48425d3935c4ca666": {
      "model_module": "@jupyter-widgets/base",
      "model_module_version": "1.2.0",
      "model_name": "LayoutModel",
      "state": {}
     },
     "903cc289f18f4bd7a76454a6a866c965": {
      "model_module": "@jupyter-widgets/controls",
      "model_module_version": "1.5.0",
      "model_name": "DescriptionStyleModel",
      "state": {
       "description_width": ""
      }
     },
     "903f402114d44e7f91abf03eb4055f35": {
      "model_module": "@jupyter-widgets/controls",
      "model_module_version": "1.5.0",
      "model_name": "DescriptionStyleModel",
      "state": {
       "description_width": ""
      }
     },
     "906865c209b44556bf4c2d8fedc309e7": {
      "model_module": "@jupyter-widgets/base",
      "model_module_version": "1.2.0",
      "model_name": "LayoutModel",
      "state": {
       "width": "repeat(auto-fill, 180px)"
      }
     },
     "9112931138144c049fb70d11046eff91": {
      "model_module": "@jupyter-widgets/controls",
      "model_module_version": "1.5.0",
      "model_name": "ToggleButtonModel",
      "state": {
       "description": "RK2",
       "icon": "check",
       "layout": "IPY_MODEL_a3335d589ae7474f81665721f8d78036",
       "style": "IPY_MODEL_ace3ea4eedec4f39b77be02efaa52f88",
       "tooltip": "Ativa ou desativa a solução RK2",
       "value": true
      }
     },
     "911ec0ed3e3942e294068f619ac8aacd": {
      "model_module": "@jupyter-widgets/base",
      "model_module_version": "1.2.0",
      "model_name": "LayoutModel",
      "state": {}
     },
     "922bf38abec24f66a1c23f7791dbf736": {
      "model_module": "@jupyter-widgets/controls",
      "model_module_version": "1.5.0",
      "model_name": "ToggleButtonModel",
      "state": {
       "description": "Analítico",
       "icon": "check",
       "layout": "IPY_MODEL_30190d93b1eb47c8be2ba76cf51aaf76",
       "style": "IPY_MODEL_219fd2a42b114f52ab2ba4ce2f4a114c",
       "tooltip": "Ativa ou desativa a solução analítica",
       "value": true
      }
     },
     "9249f6f4f46e4f90a92533235ce4839b": {
      "model_module": "@jupyter-widgets/controls",
      "model_module_version": "1.5.0",
      "model_name": "ToggleButtonModel",
      "state": {
       "description": "RK4",
       "icon": "check",
       "layout": "IPY_MODEL_0c1ab08d88584e66a9dac39a3752483c",
       "style": "IPY_MODEL_0f1c3eff0a5d48cf8c15de277d43345b",
       "tooltip": "Ativa ou desativa a solução RK4",
       "value": true
      }
     },
     "926f0c3e9ac9450bb4977f59ac996817": {
      "model_module": "@jupyter-widgets/controls",
      "model_module_version": "1.5.0",
      "model_name": "ToggleButtonModel",
      "state": {
       "description": "RK1(Euler)",
       "icon": "check",
       "layout": "IPY_MODEL_690fef78e3d64f53b1cc952326c0fe6d",
       "style": "IPY_MODEL_ff922c1dd84a49ba987472b4ce992d93",
       "tooltip": "Ativa ou desativa a solução RK1(Euler)",
       "value": true
      }
     },
     "92874dcd01e24451bea97189ea0a1a1a": {
      "model_module": "@jupyter-widgets/controls",
      "model_module_version": "1.5.0",
      "model_name": "ToggleButtonModel",
      "state": {
       "description": "Analítico",
       "icon": "check",
       "layout": "IPY_MODEL_f8a0a254f1e44eef8471249520b30e96",
       "style": "IPY_MODEL_a68abc2507504fc9b6dc789c3af872d7",
       "tooltip": "Ativa ou desativa a solução analítica",
       "value": true
      }
     },
     "92be6b2f246d40a28cc01f9e807048ef": {
      "model_module": "@jupyter-widgets/base",
      "model_module_version": "1.2.0",
      "model_name": "LayoutModel",
      "state": {
       "width": "95%"
      }
     },
     "9366e13b77eb4b1c9aed1e151050e399": {
      "model_module": "@jupyter-widgets/controls",
      "model_module_version": "1.5.0",
      "model_name": "DescriptionStyleModel",
      "state": {
       "description_width": ""
      }
     },
     "93964593afdb4636a8be78db02a9b475": {
      "model_module": "@jupyter-widgets/base",
      "model_module_version": "1.2.0",
      "model_name": "LayoutModel",
      "state": {}
     },
     "940b3f5bee3d44c9ab2424c7577f3cb0": {
      "model_module": "@jupyter-widgets/controls",
      "model_module_version": "1.5.0",
      "model_name": "DescriptionStyleModel",
      "state": {
       "description_width": ""
      }
     },
     "9440a5b56e36440eb2fd81311d6699b0": {
      "model_module": "jupyter-matplotlib",
      "model_module_version": "^0.9.0",
      "model_name": "ToolbarModel",
      "state": {
       "layout": "IPY_MODEL_886339515e29454582f591f0df21f95b",
       "toolitems": [
        [
         "Home",
         "Reset original view",
         "home",
         "home"
        ],
        [
         "Back",
         "Back to previous view",
         "arrow-left",
         "back"
        ],
        [
         "Forward",
         "Forward to next view",
         "arrow-right",
         "forward"
        ],
        [
         "Pan",
         "Left button pans, Right button zooms\nx/y fixes axis, CTRL fixes aspect",
         "arrows",
         "pan"
        ],
        [
         "Zoom",
         "Zoom to rectangle\nx/y fixes axis, CTRL fixes aspect",
         "square-o",
         "zoom"
        ],
        [
         "Download",
         "Download plot",
         "floppy-o",
         "save_figure"
        ]
       ]
      }
     },
     "95bb5a1336aa436492c4e34404452510": {
      "model_module": "@jupyter-widgets/base",
      "model_module_version": "1.2.0",
      "model_name": "LayoutModel",
      "state": {}
     },
     "965ebec3522c4b019c5f512bdea15d59": {
      "model_module": "@jupyter-widgets/controls",
      "model_module_version": "1.5.0",
      "model_name": "SliderStyleModel",
      "state": {
       "description_width": ""
      }
     },
     "96d6873ce52a409893100724f1ffd5d0": {
      "model_module": "@jupyter-widgets/controls",
      "model_module_version": "1.5.0",
      "model_name": "FloatSliderModel",
      "state": {
       "continuous_update": false,
       "description": "$\\Delta t:$",
       "layout": "IPY_MODEL_a2cd4abb3d7b4c74b742baaa68b897f2",
       "max": 200,
       "min": 1,
       "step": 5,
       "style": "IPY_MODEL_67f1c55485934718a969fe3d9587ec96",
       "value": 50
      }
     },
     "97b4fc26ac1b46fd9cf98db76717805f": {
      "model_module": "@jupyter-widgets/controls",
      "model_module_version": "1.5.0",
      "model_name": "DescriptionStyleModel",
      "state": {
       "description_width": ""
      }
     },
     "980890f95cab4893a782ecde54476453": {
      "model_module": "@jupyter-widgets/controls",
      "model_module_version": "1.5.0",
      "model_name": "ToggleButtonModel",
      "state": {
       "description": "Analítico",
       "icon": "check",
       "layout": "IPY_MODEL_09b756fc98d04ea3bb645911f5833be7",
       "style": "IPY_MODEL_5b8ec0ed820849e89bd9587b89480d56",
       "tooltip": "Ativa ou desativa a solução analítica",
       "value": true
      }
     },
     "99ef900d171e4ec3b23e77da952b0b8f": {
      "model_module": "@jupyter-widgets/controls",
      "model_module_version": "1.5.0",
      "model_name": "DescriptionStyleModel",
      "state": {
       "description_width": ""
      }
     },
     "9a40a30adbc24c9c8926a3f64b51b696": {
      "model_module": "@jupyter-widgets/controls",
      "model_module_version": "1.5.0",
      "model_name": "VBoxModel",
      "state": {
       "children": [
        "IPY_MODEL_8e965f035b5d45bfb3a95174d6d8585f",
        "IPY_MODEL_4bbda43595f64cf38c8ce18686f19996"
       ],
       "layout": "IPY_MODEL_32b6e451653745fe8dab0ded4166c98f"
      }
     },
     "9c05e20c4be44c868f919384915281c7": {
      "model_module": "@jupyter-widgets/controls",
      "model_module_version": "1.5.0",
      "model_name": "HBoxModel",
      "state": {
       "children": [
        "IPY_MODEL_4685f639965c46ba984622abe3557085",
        "IPY_MODEL_f602143f321a4fcfbe171b0efda059eb",
        "IPY_MODEL_f5de1e962e9f437fbfaaa1d6e2a1fac7",
        "IPY_MODEL_9ffee29a9f0d46a88f7da310b3e760fc"
       ],
       "layout": "IPY_MODEL_74c98c451e38478fb0907be7a2944f50"
      }
     },
     "9c244525b75248a88e28eb25c139e800": {
      "model_module": "@jupyter-widgets/controls",
      "model_module_version": "1.5.0",
      "model_name": "VBoxModel",
      "state": {
       "children": [
        "IPY_MODEL_a50b5e3b41824a74a8c587c279b40970",
        "IPY_MODEL_9cb3764780504e0187112fd1e151b797"
       ],
       "layout": "IPY_MODEL_33e05d8946b442c5ba512e0e32781878"
      }
     },
     "9c9b1e0f006c40368fee7bb1504185de": {
      "model_module": "@jupyter-widgets/controls",
      "model_module_version": "1.5.0",
      "model_name": "DescriptionStyleModel",
      "state": {
       "description_width": ""
      }
     },
     "9cb3764780504e0187112fd1e151b797": {
      "model_module": "@jupyter-widgets/controls",
      "model_module_version": "1.5.0",
      "model_name": "HBoxModel",
      "state": {
       "children": [
        "IPY_MODEL_02a0036f8fc44d3a94dc1f02ae35f845",
        "IPY_MODEL_5d303f0a8962458692ce716122a81e77",
        "IPY_MODEL_dc4ae09d2be4440ba92bb163164932b6",
        "IPY_MODEL_6dd0ce8351ef4db181e021856f28802e"
       ],
       "layout": "IPY_MODEL_56a2a8dc1cb040c399e2bc8751bc743f"
      }
     },
     "9da7319441134a198ff6cca6d33d1a8d": {
      "model_module": "jupyter-matplotlib",
      "model_module_version": "^0.9.0",
      "model_name": "ToolbarModel",
      "state": {
       "layout": "IPY_MODEL_10320059f557447abfc5ab14e5fe0362",
       "toolitems": [
        [
         "Home",
         "Reset original view",
         "home",
         "home"
        ],
        [
         "Back",
         "Back to previous view",
         "arrow-left",
         "back"
        ],
        [
         "Forward",
         "Forward to next view",
         "arrow-right",
         "forward"
        ],
        [
         "Pan",
         "Left button pans, Right button zooms\nx/y fixes axis, CTRL fixes aspect",
         "arrows",
         "pan"
        ],
        [
         "Zoom",
         "Zoom to rectangle\nx/y fixes axis, CTRL fixes aspect",
         "square-o",
         "zoom"
        ],
        [
         "Download",
         "Download plot",
         "floppy-o",
         "save_figure"
        ]
       ]
      }
     },
     "9eaef92e8ca04fb3afc46d7b8366c3ce": {
      "model_module": "@jupyter-widgets/controls",
      "model_module_version": "1.5.0",
      "model_name": "SliderStyleModel",
      "state": {
       "description_width": ""
      }
     },
     "9ee418c1f5e849aea4c0816c7cf28274": {
      "model_module": "@jupyter-widgets/controls",
      "model_module_version": "1.5.0",
      "model_name": "ToggleButtonModel",
      "state": {
       "description": "RK1(Euler)",
       "icon": "check",
       "layout": "IPY_MODEL_34bfe76491224623824a93d4111234d6",
       "style": "IPY_MODEL_8ce61e1a05b143f1a46e3e19438f8b1a",
       "tooltip": "Ativa ou desativa a solução RK1(Euler)",
       "value": true
      }
     },
     "9ee91193249d4f499ff6f7119bde0827": {
      "model_module": "jupyter-matplotlib",
      "model_module_version": "^0.9.0",
      "model_name": "ToolbarModel",
      "state": {
       "layout": "IPY_MODEL_9011862300bb40d48425d3935c4ca666",
       "toolitems": [
        [
         "Home",
         "Reset original view",
         "home",
         "home"
        ],
        [
         "Back",
         "Back to previous view",
         "arrow-left",
         "back"
        ],
        [
         "Forward",
         "Forward to next view",
         "arrow-right",
         "forward"
        ],
        [
         "Pan",
         "Left button pans, Right button zooms\nx/y fixes axis, CTRL fixes aspect",
         "arrows",
         "pan"
        ],
        [
         "Zoom",
         "Zoom to rectangle\nx/y fixes axis, CTRL fixes aspect",
         "square-o",
         "zoom"
        ],
        [
         "Download",
         "Download plot",
         "floppy-o",
         "save_figure"
        ]
       ]
      }
     },
     "9f4b3cd8f20d4406b249047d907d948f": {
      "model_module": "@jupyter-widgets/controls",
      "model_module_version": "1.5.0",
      "model_name": "FloatSliderModel",
      "state": {
       "continuous_update": false,
       "description": "$\\Delta t:$",
       "layout": "IPY_MODEL_ece72eb7b4634c5d93c4f8199cae949e",
       "max": 200,
       "min": 1,
       "step": 5,
       "style": "IPY_MODEL_9eaef92e8ca04fb3afc46d7b8366c3ce",
       "value": 171
      }
     },
     "9f532bf9582a44f18fbb179f8749ad82": {
      "model_module": "jupyter-matplotlib",
      "model_module_version": "^0.9.0",
      "model_name": "ToolbarModel",
      "state": {
       "layout": "IPY_MODEL_9fc042460e144ae6859f000eea80c91c",
       "toolitems": [
        [
         "Home",
         "Reset original view",
         "home",
         "home"
        ],
        [
         "Back",
         "Back to previous view",
         "arrow-left",
         "back"
        ],
        [
         "Forward",
         "Forward to next view",
         "arrow-right",
         "forward"
        ],
        [
         "Pan",
         "Left button pans, Right button zooms\nx/y fixes axis, CTRL fixes aspect",
         "arrows",
         "pan"
        ],
        [
         "Zoom",
         "Zoom to rectangle\nx/y fixes axis, CTRL fixes aspect",
         "square-o",
         "zoom"
        ],
        [
         "Download",
         "Download plot",
         "floppy-o",
         "save_figure"
        ]
       ]
      }
     },
     "9f57dc7c66a44c7b8d9cdc56dc2a2bf6": {
      "model_module": "@jupyter-widgets/controls",
      "model_module_version": "1.5.0",
      "model_name": "ToggleButtonModel",
      "state": {
       "description": "RK1(Euler)",
       "icon": "check",
       "layout": "IPY_MODEL_05e08891579e4ff4965aea72413b6b3c",
       "style": "IPY_MODEL_5d7cdc624fe445488c3452590caa2b08",
       "tooltip": "Ativa ou desativa a solução RK1(Euler)",
       "value": true
      }
     },
     "9f953e58a1414a41ab9b29ee0d113104": {
      "model_module": "@jupyter-widgets/controls",
      "model_module_version": "1.5.0",
      "model_name": "ToggleButtonModel",
      "state": {
       "description": "RK2",
       "icon": "check",
       "layout": "IPY_MODEL_10bffc92596e4b4c81b0b249e73866fe",
       "style": "IPY_MODEL_6ff569d6d348481591bc60f0422efe18",
       "tooltip": "Ativa ou desativa a solução RK2",
       "value": true
      }
     },
     "9fc042460e144ae6859f000eea80c91c": {
      "model_module": "@jupyter-widgets/base",
      "model_module_version": "1.2.0",
      "model_name": "LayoutModel",
      "state": {}
     },
     "9ffee29a9f0d46a88f7da310b3e760fc": {
      "model_module": "@jupyter-widgets/controls",
      "model_module_version": "1.5.0",
      "model_name": "ToggleButtonModel",
      "state": {
       "description": "RK4",
       "icon": "check",
       "layout": "IPY_MODEL_d114502873024df18b3a304432a3a957",
       "style": "IPY_MODEL_c346ecb05585428989b8a80075871529",
       "tooltip": "Ativa ou desativa a solução RK4",
       "value": true
      }
     },
     "a005d6adf01949fdb01f2d45504e7eb4": {
      "model_module": "@jupyter-widgets/controls",
      "model_module_version": "1.5.0",
      "model_name": "FloatSliderModel",
      "state": {
       "continuous_update": false,
       "description": "$\\Delta t:$",
       "layout": "IPY_MODEL_2e300c2e70dc445d85bf40a7bbaaa59e",
       "max": 200,
       "min": 1,
       "step": 5,
       "style": "IPY_MODEL_7d9a6fe2a8014d5ca48635bf8a6e0a50",
       "value": 50
      }
     },
     "a1deabc69aea41a19f726e315d937b8a": {
      "model_module": "@jupyter-widgets/base",
      "model_module_version": "1.2.0",
      "model_name": "LayoutModel",
      "state": {
       "width": "100%"
      }
     },
     "a22a0537026248079a412f69e3d6fcb2": {
      "model_module": "@jupyter-widgets/base",
      "model_module_version": "1.2.0",
      "model_name": "LayoutModel",
      "state": {}
     },
     "a28e844a2d724bf6b0e928ed0b2b6f26": {
      "model_module": "@jupyter-widgets/controls",
      "model_module_version": "1.5.0",
      "model_name": "ToggleButtonModel",
      "state": {
       "description": "RK4",
       "icon": "check",
       "layout": "IPY_MODEL_690fef78e3d64f53b1cc952326c0fe6d",
       "style": "IPY_MODEL_8d426e13d0c4484aa1e96bb5c381f9bd",
       "tooltip": "Ativa ou desativa a solução RK4",
       "value": true
      }
     },
     "a2ade1f460484f069072a11e9f056ac0": {
      "model_module": "@jupyter-widgets/base",
      "model_module_version": "1.2.0",
      "model_name": "LayoutModel",
      "state": {
       "width": "repeat(auto-fill, 180px)"
      }
     },
     "a2cd4abb3d7b4c74b742baaa68b897f2": {
      "model_module": "@jupyter-widgets/base",
      "model_module_version": "1.2.0",
      "model_name": "LayoutModel",
      "state": {
       "width": "95%"
      }
     },
     "a3335d589ae7474f81665721f8d78036": {
      "model_module": "@jupyter-widgets/base",
      "model_module_version": "1.2.0",
      "model_name": "LayoutModel",
      "state": {
       "width": "25%"
      }
     },
     "a3358e2930ff4cedab6f717624d5e8fe": {
      "model_module": "@jupyter-widgets/controls",
      "model_module_version": "1.5.0",
      "model_name": "ToggleButtonModel",
      "state": {
       "description": "RK2",
       "icon": "check",
       "layout": "IPY_MODEL_b2985f9bfd9947c7a50c6494033d466b",
       "style": "IPY_MODEL_58ba500ec9e743ec822e22f689831ae9",
       "tooltip": "Ativa ou desativa a solução RK2",
       "value": true
      }
     },
     "a4b76f5389d64449b31a76444fd53b39": {
      "model_module": "@jupyter-widgets/controls",
      "model_module_version": "1.5.0",
      "model_name": "DescriptionStyleModel",
      "state": {
       "description_width": ""
      }
     },
     "a50b5e3b41824a74a8c587c279b40970": {
      "model_module": "@jupyter-widgets/controls",
      "model_module_version": "1.5.0",
      "model_name": "FloatSliderModel",
      "state": {
       "continuous_update": false,
       "description": "$\\Delta t:$",
       "layout": "IPY_MODEL_33e05d8946b442c5ba512e0e32781878",
       "max": 200,
       "min": 1,
       "step": 5,
       "style": "IPY_MODEL_04ca2d4a02614417a2e357ec320c7b0e",
       "value": 50
      }
     },
     "a54d60de6c3b4ad5859b4a41ef7d5af3": {
      "model_module": "@jupyter-widgets/base",
      "model_module_version": "1.2.0",
      "model_name": "LayoutModel",
      "state": {}
     },
     "a68abc2507504fc9b6dc789c3af872d7": {
      "model_module": "@jupyter-widgets/controls",
      "model_module_version": "1.5.0",
      "model_name": "DescriptionStyleModel",
      "state": {
       "description_width": ""
      }
     },
     "a73936cf01db45fba61f58b48921c387": {
      "model_module": "@jupyter-widgets/controls",
      "model_module_version": "1.5.0",
      "model_name": "DescriptionStyleModel",
      "state": {
       "description_width": ""
      }
     },
     "a7488fa815d0475aba86e1f3bffa3615": {
      "model_module": "@jupyter-widgets/base",
      "model_module_version": "1.2.0",
      "model_name": "LayoutModel",
      "state": {}
     },
     "a756025d6ada42c687ace5ad7dd2e8c2": {
      "model_module": "@jupyter-widgets/base",
      "model_module_version": "1.2.0",
      "model_name": "LayoutModel",
      "state": {}
     },
     "a759dc8892834e46897a886c31e619cf": {
      "model_module": "@jupyter-widgets/output",
      "model_module_version": "1.0.0",
      "model_name": "OutputModel",
      "state": {
       "layout": "IPY_MODEL_c98dfb9699e0433fbd341577227f354c",
       "outputs": [
        {
         "data": {
          "application/vnd.jupyter.widget-view+json": {
           "model_id": "2b7cb5f282a34bd28fd84c2685686a3d",
           "version_major": 2,
           "version_minor": 0
          },
          "text/plain": "Canvas(toolbar=Toolbar(toolitems=[('Home', 'Reset original view', 'home', 'home'), ('Back', 'Back to previous …"
         },
         "metadata": {},
         "output_type": "display_data"
        }
       ]
      }
     },
     "a7a1f5e837a74db08cba17199a60d428": {
      "model_module": "@jupyter-widgets/controls",
      "model_module_version": "1.5.0",
      "model_name": "DescriptionStyleModel",
      "state": {
       "description_width": ""
      }
     },
     "a7a69bba222740af8515067bbf241e23": {
      "model_module": "@jupyter-widgets/controls",
      "model_module_version": "1.5.0",
      "model_name": "DescriptionStyleModel",
      "state": {
       "description_width": ""
      }
     },
     "a847df07ee104066a8bcc8bc4c42ae98": {
      "model_module": "@jupyter-widgets/base",
      "model_module_version": "1.2.0",
      "model_name": "LayoutModel",
      "state": {}
     },
     "a93ec7b20c0c45c398561b422e021fb7": {
      "model_module": "@jupyter-widgets/output",
      "model_module_version": "1.0.0",
      "model_name": "OutputModel",
      "state": {
       "layout": "IPY_MODEL_b0422cc4dc1749a1a581577d21b71ac3"
      }
     },
     "a9aac4735b134fbb853020223d4fa794": {
      "model_module": "@jupyter-widgets/controls",
      "model_module_version": "1.5.0",
      "model_name": "DescriptionStyleModel",
      "state": {
       "description_width": ""
      }
     },
     "a9d27666abdc4d318b85ac1023193850": {
      "model_module": "@jupyter-widgets/controls",
      "model_module_version": "1.5.0",
      "model_name": "DescriptionStyleModel",
      "state": {
       "description_width": ""
      }
     },
     "aa223a0cd0254ad2835e66f6e51ca46a": {
      "model_module": "@jupyter-widgets/controls",
      "model_module_version": "1.5.0",
      "model_name": "ToggleButtonModel",
      "state": {
       "description": "RK4",
       "icon": "check",
       "layout": "IPY_MODEL_87944b8ade5144a79712548c9ebd5f35",
       "style": "IPY_MODEL_f7dfbd89ceba4d49ae547ce31fc97bd0",
       "tooltip": "Ativa ou desativa a solução RK4",
       "value": true
      }
     },
     "ab6499c8aab04442b41074e10059dfb0": {
      "model_module": "@jupyter-widgets/output",
      "model_module_version": "1.0.0",
      "model_name": "OutputModel",
      "state": {
       "layout": "IPY_MODEL_13cc4e97d843459bb3f7700058161cb7",
       "outputs": [
        {
         "data": {
          "application/vnd.jupyter.widget-view+json": {
           "model_id": "12e4cc889b4d409488cf9bfca90c4996",
           "version_major": 2,
           "version_minor": 0
          },
          "text/plain": "Canvas(toolbar=Toolbar(toolitems=[('Home', 'Reset original view', 'home', 'home'), ('Back', 'Back to previous …"
         },
         "metadata": {},
         "output_type": "display_data"
        }
       ]
      }
     },
     "abfdf5daeb164b638bd362a050f11ea8": {
      "model_module": "@jupyter-widgets/controls",
      "model_module_version": "1.5.0",
      "model_name": "SliderStyleModel",
      "state": {
       "description_width": ""
      }
     },
     "ac0daeb8f5864217a54153a57433119e": {
      "model_module": "@jupyter-widgets/base",
      "model_module_version": "1.2.0",
      "model_name": "LayoutModel",
      "state": {}
     },
     "acdf50835ee74e39ac97e589a033bf02": {
      "model_module": "@jupyter-widgets/controls",
      "model_module_version": "1.5.0",
      "model_name": "HBoxModel",
      "state": {
       "children": [
        "IPY_MODEL_3af76307804b4ac1848f1ab95b9af9cc",
        "IPY_MODEL_7eaacb5618ae40a1a95522be2bdce0af",
        "IPY_MODEL_324aaa0fbe314068b7bd93a15287f362",
        "IPY_MODEL_b9cdadac062a4e998284d6e39c6d42e6"
       ],
       "layout": "IPY_MODEL_881ce6141fc047608c803c9e7b82779b"
      }
     },
     "ace3ea4eedec4f39b77be02efaa52f88": {
      "model_module": "@jupyter-widgets/controls",
      "model_module_version": "1.5.0",
      "model_name": "DescriptionStyleModel",
      "state": {
       "description_width": ""
      }
     },
     "ad34d88c1cdc4155ac380792b5ab33df": {
      "model_module": "@jupyter-widgets/base",
      "model_module_version": "1.2.0",
      "model_name": "LayoutModel",
      "state": {
       "width": "95%"
      }
     },
     "ae1da57c1a6b481a846621739e695938": {
      "model_module": "@jupyter-widgets/controls",
      "model_module_version": "1.5.0",
      "model_name": "FloatSliderModel",
      "state": {
       "continuous_update": false,
       "description": "$\\Delta t:$",
       "layout": "IPY_MODEL_b46482ee37864826b74c5539e82e2f26",
       "max": 200,
       "min": 1,
       "step": 5,
       "style": "IPY_MODEL_abfdf5daeb164b638bd362a050f11ea8",
       "value": 50
      }
     },
     "af23f94aec074dc0a30f67acc879b06f": {
      "model_module": "@jupyter-widgets/base",
      "model_module_version": "1.2.0",
      "model_name": "LayoutModel",
      "state": {
       "width": "repeat(auto-fill, 180px)"
      }
     },
     "b0422cc4dc1749a1a581577d21b71ac3": {
      "model_module": "@jupyter-widgets/base",
      "model_module_version": "1.2.0",
      "model_name": "LayoutModel",
      "state": {}
     },
     "b13d0023a1404fb98ed80077961af3d4": {
      "model_module": "@jupyter-widgets/base",
      "model_module_version": "1.2.0",
      "model_name": "LayoutModel",
      "state": {
       "width": "repeat(auto-fill, 180px)"
      }
     },
     "b15ad57af39745c29fd1cfdb798e96a4": {
      "model_module": "@jupyter-widgets/output",
      "model_module_version": "1.0.0",
      "model_name": "OutputModel",
      "state": {
       "layout": "IPY_MODEL_45e109d0a47f40978d5db3b414bd85b8",
       "outputs": [
        {
         "data": {
          "application/vnd.jupyter.widget-view+json": {
           "model_id": "4ac1fd92a5ec4337852cb6a366b17cf9",
           "version_major": 2,
           "version_minor": 0
          },
          "text/plain": "Canvas(toolbar=Toolbar(toolitems=[('Home', 'Reset original view', 'home', 'home'), ('Back', 'Back to previous …"
         },
         "metadata": {},
         "output_type": "display_data"
        }
       ]
      }
     },
     "b16ab930ee80451ebcf98305f541f0ab": {
      "model_module": "@jupyter-widgets/controls",
      "model_module_version": "1.5.0",
      "model_name": "DescriptionStyleModel",
      "state": {
       "description_width": ""
      }
     },
     "b2985f9bfd9947c7a50c6494033d466b": {
      "model_module": "@jupyter-widgets/base",
      "model_module_version": "1.2.0",
      "model_name": "LayoutModel",
      "state": {
       "width": "25%"
      }
     },
     "b2b9017b938a45e89c9c5f4ac1320f47": {
      "model_module": "@jupyter-widgets/base",
      "model_module_version": "1.2.0",
      "model_name": "LayoutModel",
      "state": {
       "width": "repeat(auto-fill, 180px)"
      }
     },
     "b3c938dde9684bffb613961b9b8c5f20": {
      "model_module": "@jupyter-widgets/base",
      "model_module_version": "1.2.0",
      "model_name": "LayoutModel",
      "state": {
       "width": "auto"
      }
     },
     "b409a0b2c1cb408b857b1ede422e9c7a": {
      "model_module": "@jupyter-widgets/output",
      "model_module_version": "1.0.0",
      "model_name": "OutputModel",
      "state": {
       "layout": "IPY_MODEL_95bb5a1336aa436492c4e34404452510"
      }
     },
     "b46482ee37864826b74c5539e82e2f26": {
      "model_module": "@jupyter-widgets/base",
      "model_module_version": "1.2.0",
      "model_name": "LayoutModel",
      "state": {
       "width": "95%"
      }
     },
     "b5c663cf54a44703b7e45d48eb869cfe": {
      "model_module": "@jupyter-widgets/controls",
      "model_module_version": "1.5.0",
      "model_name": "ToggleButtonModel",
      "state": {
       "description": "RK2",
       "icon": "check",
       "layout": "IPY_MODEL_8d17e1a16ab944a9949dcf71a326c091",
       "style": "IPY_MODEL_6d96510c4f184030b186e485c369488a",
       "tooltip": "Ativa ou desativa a solução RK2",
       "value": true
      }
     },
     "b5e9f329b03b4d3c9ce4b901ecd86272": {
      "model_module": "@jupyter-widgets/controls",
      "model_module_version": "1.5.0",
      "model_name": "DescriptionStyleModel",
      "state": {
       "description_width": ""
      }
     },
     "b84cc89abd6f4dd3b69fa695513f83a8": {
      "model_module": "@jupyter-widgets/controls",
      "model_module_version": "1.5.0",
      "model_name": "ToggleButtonModel",
      "state": {
       "description": "Analítico",
       "icon": "check",
       "layout": "IPY_MODEL_68c8cf94673f40c39ced82a5dd517bfc",
       "style": "IPY_MODEL_5eba72afaf5541d5b5af06828f6234ef",
       "tooltip": "Ativa ou desativa a solução analítica",
       "value": true
      }
     },
     "b9cdadac062a4e998284d6e39c6d42e6": {
      "model_module": "@jupyter-widgets/controls",
      "model_module_version": "1.5.0",
      "model_name": "ToggleButtonModel",
      "state": {
       "description": "RK4",
       "icon": "check",
       "layout": "IPY_MODEL_41d44c6400fd48e6a1f6837f9d65578d",
       "style": "IPY_MODEL_713016eca5bb4a1fb1f0fdbf4695487b",
       "tooltip": "Ativa ou desativa a solução RK4",
       "value": true
      }
     },
     "ba49e0e93fed4ead86a35c1fdd8bdd2f": {
      "model_module": "@jupyter-widgets/controls",
      "model_module_version": "1.5.0",
      "model_name": "SliderStyleModel",
      "state": {
       "description_width": ""
      }
     },
     "bb95885ff1e84942b6cdee864d361d77": {
      "model_module": "@jupyter-widgets/controls",
      "model_module_version": "1.5.0",
      "model_name": "VBoxModel",
      "state": {
       "children": [
        "IPY_MODEL_ea098c6ad6664819aa26e31d4eed0760",
        "IPY_MODEL_53ef221761f446e0bd2c03977bcbc98e"
       ],
       "layout": "IPY_MODEL_f9115bee127642afab8d2f2193192084"
      }
     },
     "bbbdf76eeadb4284a1801d063e495044": {
      "model_module": "@jupyter-widgets/base",
      "model_module_version": "1.2.0",
      "model_name": "LayoutModel",
      "state": {
       "width": "100%"
      }
     },
     "bc7d12172218420d92649744e0f8f566": {
      "model_module": "@jupyter-widgets/base",
      "model_module_version": "1.2.0",
      "model_name": "LayoutModel",
      "state": {}
     },
     "bd77280c558f4a34887fe7eb6e6cf967": {
      "model_module": "@jupyter-widgets/output",
      "model_module_version": "1.0.0",
      "model_name": "OutputModel",
      "state": {
       "layout": "IPY_MODEL_39f31049807c4eeabe3a5d6a04c68d88",
       "outputs": [
        {
         "data": {
          "application/vnd.jupyter.widget-view+json": {
           "model_id": "1be4e9218ac04fe2bb6108d5a6fac499",
           "version_major": 2,
           "version_minor": 0
          },
          "text/plain": "Canvas(toolbar=Toolbar(toolitems=[('Home', 'Reset original view', 'home', 'home'), ('Back', 'Back to previous …"
         },
         "metadata": {},
         "output_type": "display_data"
        },
        {
         "ename": "NameError",
         "evalue": "name 'ax' is not defined",
         "output_type": "error",
         "traceback": [
          "\u001b[0;31m---------------------------------------------------------------------------\u001b[0m",
          "\u001b[0;31mNameError\u001b[0m                                 Traceback (most recent call last)",
          "\u001b[0;32m~/miniconda3/lib/python3.9/site-packages/ipywidgets/widgets/interaction.py\u001b[0m in \u001b[0;36mobserver\u001b[0;34m(change)\u001b[0m\n\u001b[1;32m     77\u001b[0m         \u001b[0;32mwith\u001b[0m \u001b[0mout\u001b[0m\u001b[0;34m:\u001b[0m\u001b[0;34m\u001b[0m\u001b[0;34m\u001b[0m\u001b[0m\n\u001b[1;32m     78\u001b[0m             \u001b[0mclear_output\u001b[0m\u001b[0;34m(\u001b[0m\u001b[0mwait\u001b[0m\u001b[0;34m=\u001b[0m\u001b[0;32mTrue\u001b[0m\u001b[0;34m)\u001b[0m\u001b[0;34m\u001b[0m\u001b[0;34m\u001b[0m\u001b[0m\n\u001b[0;32m---> 79\u001b[0;31m             \u001b[0mf\u001b[0m\u001b[0;34m(\u001b[0m\u001b[0;34m**\u001b[0m\u001b[0mkwargs\u001b[0m\u001b[0;34m)\u001b[0m\u001b[0;34m\u001b[0m\u001b[0;34m\u001b[0m\u001b[0m\n\u001b[0m\u001b[1;32m     80\u001b[0m             \u001b[0mshow_inline_matplotlib_plots\u001b[0m\u001b[0;34m(\u001b[0m\u001b[0;34m)\u001b[0m\u001b[0;34m\u001b[0m\u001b[0;34m\u001b[0m\u001b[0m\n\u001b[1;32m     81\u001b[0m     \u001b[0;32mfor\u001b[0m \u001b[0mk\u001b[0m\u001b[0;34m,\u001b[0m\u001b[0mw\u001b[0m \u001b[0;32min\u001b[0m \u001b[0mcontrols\u001b[0m\u001b[0;34m.\u001b[0m\u001b[0mitems\u001b[0m\u001b[0;34m(\u001b[0m\u001b[0;34m)\u001b[0m\u001b[0;34m:\u001b[0m\u001b[0;34m\u001b[0m\u001b[0;34m\u001b[0m\u001b[0m\n",
          "\u001b[0;32m<ipython-input-3-6deade9074f2>\u001b[0m in \u001b[0;36mmain\u001b[0;34m(dt, an, e, r2, r4)\u001b[0m\n\u001b[1;32m     96\u001b[0m         if e==True: fig=plt.plot(t,ue,\n\u001b[1;32m     97\u001b[0m                         'o--',color='coral',label=f'Euler (NT={nt})')   \n\u001b[0;32m---> 98\u001b[0;31m         \u001b[0max\u001b[0m\u001b[0;34m.\u001b[0m\u001b[0mset_xlabel\u001b[0m\u001b[0;34m(\u001b[0m\u001b[0;34m'Tempo'\u001b[0m\u001b[0;34m)\u001b[0m\u001b[0;34m\u001b[0m\u001b[0;34m\u001b[0m\u001b[0m\n\u001b[0m\u001b[1;32m     99\u001b[0m         \u001b[0max\u001b[0m\u001b[0;34m.\u001b[0m\u001b[0mset_ylabel\u001b[0m\u001b[0;34m(\u001b[0m\u001b[0;34m'Massa do elemento'\u001b[0m\u001b[0;34m)\u001b[0m\u001b[0;34m\u001b[0m\u001b[0;34m\u001b[0m\u001b[0m\n\u001b[1;32m    100\u001b[0m         \u001b[0mplt\u001b[0m\u001b[0;34m.\u001b[0m\u001b[0mtitle\u001b[0m\u001b[0;34m(\u001b[0m\u001b[0;34mf'$\\Delta t=${dt:.3f}'\u001b[0m\u001b[0;34m)\u001b[0m\u001b[0;34m\u001b[0m\u001b[0;34m\u001b[0m\u001b[0m\n",
          "\u001b[0;31mNameError\u001b[0m: name 'ax' is not defined"
         ]
        }
       ]
      }
     },
     "be04fc851b6b4bf6a3006bce9ce96606": {
      "model_module": "@jupyter-widgets/controls",
      "model_module_version": "1.5.0",
      "model_name": "ToggleButtonModel",
      "state": {
       "description": "RK4",
       "icon": "check",
       "layout": "IPY_MODEL_e36194e34d6e48f4b0a51a0d34e1b006",
       "style": "IPY_MODEL_6ba5e2145fd04daeba42a51c72559d0f",
       "tooltip": "Ativa ou desativa a solução RK4",
       "value": true
      }
     },
     "be935c5929ac4691bacf1984e9baa7bc": {
      "model_module": "@jupyter-widgets/controls",
      "model_module_version": "1.5.0",
      "model_name": "ToggleButtonModel",
      "state": {
       "description": "Analítico",
       "icon": "check",
       "layout": "IPY_MODEL_8d17e1a16ab944a9949dcf71a326c091",
       "style": "IPY_MODEL_7710d79198fa4a16b26e6a264d93850b",
       "tooltip": "Ativa ou desativa a solução analítica",
       "value": true
      }
     },
     "bf6adeb2e0794d9b9a61fc08079a8458": {
      "model_module": "@jupyter-widgets/controls",
      "model_module_version": "1.5.0",
      "model_name": "VBoxModel",
      "state": {
       "children": [
        "IPY_MODEL_8076bf9f08f64c999b22eaaa72cae314",
        "IPY_MODEL_f3b60ab0b38c497b881ffd75e6d3568e"
       ],
       "layout": "IPY_MODEL_89ffc1d804a741619318358dc388782d"
      }
     },
     "c0995ed30aa4420b978ba4965ce0335b": {
      "model_module": "@jupyter-widgets/controls",
      "model_module_version": "1.5.0",
      "model_name": "DescriptionStyleModel",
      "state": {
       "description_width": ""
      }
     },
     "c0ee99614b3b4861aaa31f63dec14924": {
      "model_module": "@jupyter-widgets/controls",
      "model_module_version": "1.5.0",
      "model_name": "SliderStyleModel",
      "state": {
       "description_width": ""
      }
     },
     "c13c763725ee41d49e26d90145b68cc2": {
      "model_module": "jupyter-matplotlib",
      "model_module_version": "^0.9.0",
      "model_name": "ToolbarModel",
      "state": {
       "layout": "IPY_MODEL_4af07f2816684a9f88a7cdfc8b9414c4",
       "toolitems": [
        [
         "Home",
         "Reset original view",
         "home",
         "home"
        ],
        [
         "Back",
         "Back to previous view",
         "arrow-left",
         "back"
        ],
        [
         "Forward",
         "Forward to next view",
         "arrow-right",
         "forward"
        ],
        [
         "Pan",
         "Left button pans, Right button zooms\nx/y fixes axis, CTRL fixes aspect",
         "arrows",
         "pan"
        ],
        [
         "Zoom",
         "Zoom to rectangle\nx/y fixes axis, CTRL fixes aspect",
         "square-o",
         "zoom"
        ],
        [
         "Download",
         "Download plot",
         "floppy-o",
         "save_figure"
        ]
       ]
      }
     },
     "c190d15ea98a4b33b68bc582c238e87b": {
      "model_module": "@jupyter-widgets/controls",
      "model_module_version": "1.5.0",
      "model_name": "DescriptionStyleModel",
      "state": {
       "description_width": ""
      }
     },
     "c1ce52d22d1b481e854f143d187d2fae": {
      "model_module": "@jupyter-widgets/controls",
      "model_module_version": "1.5.0",
      "model_name": "SliderStyleModel",
      "state": {
       "description_width": ""
      }
     },
     "c346ecb05585428989b8a80075871529": {
      "model_module": "@jupyter-widgets/controls",
      "model_module_version": "1.5.0",
      "model_name": "DescriptionStyleModel",
      "state": {
       "description_width": ""
      }
     },
     "c3e79ade3a994eff8ff735526da64bb1": {
      "model_module": "@jupyter-widgets/base",
      "model_module_version": "1.2.0",
      "model_name": "LayoutModel",
      "state": {
       "width": "25%"
      }
     },
     "c4164dcb751348c4af4cf793445ebfba": {
      "model_module": "@jupyter-widgets/controls",
      "model_module_version": "1.5.0",
      "model_name": "FloatSliderModel",
      "state": {
       "continuous_update": false,
       "description": "$\\Delta t:$",
       "layout": "IPY_MODEL_7e120e6105724a198dfceefbd1c369fb",
       "max": 200,
       "min": 1,
       "step": 5,
       "style": "IPY_MODEL_600ea2e904264a58931bffda760eef24",
       "value": 50
      }
     },
     "c4d62f0b5b5544ea8a406a3fe1df771c": {
      "model_module": "@jupyter-widgets/base",
      "model_module_version": "1.2.0",
      "model_name": "LayoutModel",
      "state": {}
     },
     "c5218e56be9f4cc7af4e713559b2ab8b": {
      "model_module": "jupyter-matplotlib",
      "model_module_version": "^0.9.0",
      "model_name": "ToolbarModel",
      "state": {
       "layout": "IPY_MODEL_93964593afdb4636a8be78db02a9b475",
       "toolitems": [
        [
         "Home",
         "Reset original view",
         "home",
         "home"
        ],
        [
         "Back",
         "Back to previous view",
         "arrow-left",
         "back"
        ],
        [
         "Forward",
         "Forward to next view",
         "arrow-right",
         "forward"
        ],
        [
         "Pan",
         "Left button pans, Right button zooms\nx/y fixes axis, CTRL fixes aspect",
         "arrows",
         "pan"
        ],
        [
         "Zoom",
         "Zoom to rectangle\nx/y fixes axis, CTRL fixes aspect",
         "square-o",
         "zoom"
        ],
        [
         "Download",
         "Download plot",
         "floppy-o",
         "save_figure"
        ]
       ]
      }
     },
     "c57ea52e8958474286964818cc6ae457": {
      "model_module": "@jupyter-widgets/controls",
      "model_module_version": "1.5.0",
      "model_name": "HBoxModel",
      "state": {
       "children": [
        "IPY_MODEL_5d0d7941956f4df4ba09948be5a0ce5f",
        "IPY_MODEL_fad4fcbeb9bb482cb6d352a371092dfd",
        "IPY_MODEL_294a263abe7b4a47a248eddbf77da36d",
        "IPY_MODEL_1b35af9932c1418d872c0b9af75f2a76"
       ],
       "layout": "IPY_MODEL_b13d0023a1404fb98ed80077961af3d4"
      }
     },
     "c5b2e262dea94e2884f933333091ee56": {
      "model_module": "@jupyter-widgets/controls",
      "model_module_version": "1.5.0",
      "model_name": "ToggleButtonModel",
      "state": {
       "description": "RK1(Euler)",
       "icon": "check",
       "layout": "IPY_MODEL_8d17e1a16ab944a9949dcf71a326c091",
       "style": "IPY_MODEL_2277794f4a424477a73d832e0e767f69",
       "tooltip": "Ativa ou desativa a solução RK1(Euler)",
       "value": true
      }
     },
     "c64ba02249654206a2db56539a3e9a05": {
      "model_module": "@jupyter-widgets/controls",
      "model_module_version": "1.5.0",
      "model_name": "SliderStyleModel",
      "state": {
       "description_width": ""
      }
     },
     "c6c1839c1f2c4bbba783f7048333cc49": {
      "model_module": "@jupyter-widgets/base",
      "model_module_version": "1.2.0",
      "model_name": "LayoutModel",
      "state": {}
     },
     "c82b4b69f2644ae385845e1b665db221": {
      "model_module": "@jupyter-widgets/controls",
      "model_module_version": "1.5.0",
      "model_name": "ToggleButtonModel",
      "state": {
       "description": "RK4",
       "icon": "check",
       "layout": "IPY_MODEL_4360f0c580ae4b8180c3cd14bfeac4dd",
       "style": "IPY_MODEL_5eb4bfca8859487e9adaec8300dd62b5",
       "tooltip": "Ativa ou desativa a solução RK4",
       "value": true
      }
     },
     "c865c40c297b484c882707d172effd9f": {
      "model_module": "jupyter-matplotlib",
      "model_module_version": "^0.9.0",
      "model_name": "ToolbarModel",
      "state": {
       "layout": "IPY_MODEL_4a2e66ee59ec48278ec4b4140932da8b",
       "toolitems": [
        [
         "Home",
         "Reset original view",
         "home",
         "home"
        ],
        [
         "Back",
         "Back to previous view",
         "arrow-left",
         "back"
        ],
        [
         "Forward",
         "Forward to next view",
         "arrow-right",
         "forward"
        ],
        [
         "Pan",
         "Left button pans, Right button zooms\nx/y fixes axis, CTRL fixes aspect",
         "arrows",
         "pan"
        ],
        [
         "Zoom",
         "Zoom to rectangle\nx/y fixes axis, CTRL fixes aspect",
         "square-o",
         "zoom"
        ],
        [
         "Download",
         "Download plot",
         "floppy-o",
         "save_figure"
        ]
       ]
      }
     },
     "c87294ac627b4aa0aa6c676846caf673": {
      "model_module": "@jupyter-widgets/controls",
      "model_module_version": "1.5.0",
      "model_name": "HBoxModel",
      "state": {
       "children": [
        "IPY_MODEL_260c6b82ac324777bf2aebeecc8a4ccb",
        "IPY_MODEL_9ee418c1f5e849aea4c0816c7cf28274",
        "IPY_MODEL_dff5bc6fe1944f279fd6eba04af737f2",
        "IPY_MODEL_81cf43b723a84a608d03fa06ab112716"
       ],
       "layout": "IPY_MODEL_d4da720269434cf08881247e9113e87f"
      }
     },
     "c884266469764c08bd900d513d47bd04": {
      "model_module": "jupyter-matplotlib",
      "model_module_version": "^0.9.0",
      "model_name": "ToolbarModel",
      "state": {
       "layout": "IPY_MODEL_dcf2109e7e0540518ba49426055f5d7f",
       "toolitems": [
        [
         "Home",
         "Reset original view",
         "home",
         "home"
        ],
        [
         "Back",
         "Back to previous view",
         "arrow-left",
         "back"
        ],
        [
         "Forward",
         "Forward to next view",
         "arrow-right",
         "forward"
        ],
        [
         "Pan",
         "Left button pans, Right button zooms\nx/y fixes axis, CTRL fixes aspect",
         "arrows",
         "pan"
        ],
        [
         "Zoom",
         "Zoom to rectangle\nx/y fixes axis, CTRL fixes aspect",
         "square-o",
         "zoom"
        ],
        [
         "Download",
         "Download plot",
         "floppy-o",
         "save_figure"
        ]
       ]
      }
     },
     "c91afc50910e44249cfd2f13b501681f": {
      "model_module": "@jupyter-widgets/controls",
      "model_module_version": "1.5.0",
      "model_name": "ToggleButtonModel",
      "state": {
       "description": "RK4",
       "icon": "check",
       "layout": "IPY_MODEL_a3335d589ae7474f81665721f8d78036",
       "style": "IPY_MODEL_08ea529303f44e04871642d861be8f83",
       "tooltip": "Ativa ou desativa a solução RK4",
       "value": true
      }
     },
     "c91c74791b1e4b6393d67e0ccf1ab8c5": {
      "model_module": "@jupyter-widgets/controls",
      "model_module_version": "1.5.0",
      "model_name": "DescriptionStyleModel",
      "state": {
       "description_width": ""
      }
     },
     "c98dfb9699e0433fbd341577227f354c": {
      "model_module": "@jupyter-widgets/base",
      "model_module_version": "1.2.0",
      "model_name": "LayoutModel",
      "state": {}
     },
     "c9b90c14732b42319abf2d3b711ca9f0": {
      "model_module": "@jupyter-widgets/controls",
      "model_module_version": "1.5.0",
      "model_name": "DescriptionStyleModel",
      "state": {
       "description_width": ""
      }
     },
     "ca75c79e161645ec83cabc8baafea0a0": {
      "model_module": "@jupyter-widgets/controls",
      "model_module_version": "1.5.0",
      "model_name": "ToggleButtonModel",
      "state": {
       "description": "RK1(Euler)",
       "icon": "check",
       "layout": "IPY_MODEL_b2985f9bfd9947c7a50c6494033d466b",
       "style": "IPY_MODEL_805ed4c33eed4a7c8ae1f8c7bbb86a60",
       "tooltip": "Ativa ou desativa a solução RK1(Euler)",
       "value": true
      }
     },
     "cbbb54511fa947ceb89d7b9e385c650e": {
      "model_module": "@jupyter-widgets/controls",
      "model_module_version": "1.5.0",
      "model_name": "DescriptionStyleModel",
      "state": {
       "description_width": ""
      }
     },
     "cc1048399ee94156b487d17ed28b6e88": {
      "model_module": "@jupyter-widgets/controls",
      "model_module_version": "1.5.0",
      "model_name": "ToggleButtonModel",
      "state": {
       "description": "RK2",
       "icon": "check",
       "layout": "IPY_MODEL_4360f0c580ae4b8180c3cd14bfeac4dd",
       "style": "IPY_MODEL_ee117321ce924bccb2bfb1b8f12ef8ae",
       "tooltip": "Ativa ou desativa a solução RK2",
       "value": true
      }
     },
     "cc270b39711c453bb3dc313ee9d36805": {
      "model_module": "@jupyter-widgets/controls",
      "model_module_version": "1.5.0",
      "model_name": "ToggleButtonModel",
      "state": {
       "description": "RK4",
       "icon": "check",
       "layout": "IPY_MODEL_30190d93b1eb47c8be2ba76cf51aaf76",
       "style": "IPY_MODEL_3d27a52849144a5f8b1069e35303528f",
       "tooltip": "Ativa ou desativa a solução RK4",
       "value": true
      }
     },
     "cd2a4efe8aaa443b8f6c330715826a80": {
      "model_module": "@jupyter-widgets/controls",
      "model_module_version": "1.5.0",
      "model_name": "VBoxModel",
      "state": {
       "children": [
        "IPY_MODEL_46fc7690b30b4d789954c499850cf247",
        "IPY_MODEL_618fadf58701406193b6556dce49a416"
       ],
       "layout": "IPY_MODEL_d50233d884e94c098f7d48dbb2cd5c17"
      }
     },
     "cdb606f581424236912b7e75606c419b": {
      "model_module": "@jupyter-widgets/controls",
      "model_module_version": "1.5.0",
      "model_name": "VBoxModel",
      "state": {
       "children": [
        "IPY_MODEL_c4164dcb751348c4af4cf793445ebfba",
        "IPY_MODEL_acdf50835ee74e39ac97e589a033bf02"
       ],
       "layout": "IPY_MODEL_7e120e6105724a198dfceefbd1c369fb"
      }
     },
     "cdc3b62c466d420988543e3fa81b2465": {
      "model_module": "@jupyter-widgets/base",
      "model_module_version": "1.2.0",
      "model_name": "LayoutModel",
      "state": {
       "width": "100%"
      }
     },
     "cdebba02f1174adcb0adff6159a53c8b": {
      "model_module": "@jupyter-widgets/controls",
      "model_module_version": "1.5.0",
      "model_name": "DescriptionStyleModel",
      "state": {
       "description_width": ""
      }
     },
     "ce3db48569554b60a2bf0817adb15f3a": {
      "model_module": "@jupyter-widgets/controls",
      "model_module_version": "1.5.0",
      "model_name": "HBoxModel",
      "state": {
       "children": [
        "IPY_MODEL_b84cc89abd6f4dd3b69fa695513f83a8",
        "IPY_MODEL_4d4f250997cb4659963d420ee2199053",
        "IPY_MODEL_544dd1324446459da4af192c3e12fc77",
        "IPY_MODEL_39d3afb1e6214fbcb6c720a4e0fbbaaf"
       ],
       "layout": "IPY_MODEL_6d43a490e70d44259f6d6f0af9d7f6cd"
      }
     },
     "ce805875d80c471799495bf800d861b9": {
      "model_module": "@jupyter-widgets/base",
      "model_module_version": "1.2.0",
      "model_name": "LayoutModel",
      "state": {
       "width": "100%"
      }
     },
     "cfa6cd32b7e44fa59b3b966025a195cc": {
      "model_module": "@jupyter-widgets/controls",
      "model_module_version": "1.5.0",
      "model_name": "HBoxModel",
      "state": {
       "children": [
        "IPY_MODEL_042a8736a1e1499891f23f9f13babd66",
        "IPY_MODEL_ca75c79e161645ec83cabc8baafea0a0",
        "IPY_MODEL_a3358e2930ff4cedab6f717624d5e8fe",
        "IPY_MODEL_74030d93268d4265964981e59e5cb814"
       ],
       "layout": "IPY_MODEL_10d98e8ba92f49b5a15ee314119a8443"
      }
     },
     "d02bdb280dc84eb4a1e88ca01a4db911": {
      "model_module": "@jupyter-widgets/controls",
      "model_module_version": "1.5.0",
      "model_name": "ToggleButtonModel",
      "state": {
       "description": "RK4",
       "icon": "check",
       "layout": "IPY_MODEL_09b756fc98d04ea3bb645911f5833be7",
       "style": "IPY_MODEL_01be45d872444d71acb4532362f6ab7e",
       "tooltip": "Ativa ou desativa a solução RK4",
       "value": true
      }
     },
     "d078fa606fac40d8a7a4e7df675f3e8b": {
      "model_module": "@jupyter-widgets/base",
      "model_module_version": "1.2.0",
      "model_name": "LayoutModel",
      "state": {
       "width": "repeat(auto-fill, 180px)"
      }
     },
     "d114502873024df18b3a304432a3a957": {
      "model_module": "@jupyter-widgets/base",
      "model_module_version": "1.2.0",
      "model_name": "LayoutModel",
      "state": {
       "width": "25%"
      }
     },
     "d1d8cb22f9dc4fcc86130818c5340053": {
      "model_module": "@jupyter-widgets/controls",
      "model_module_version": "1.5.0",
      "model_name": "SliderStyleModel",
      "state": {
       "description_width": ""
      }
     },
     "d23ea768ac2c4928881396e6ef763b7c": {
      "model_module": "@jupyter-widgets/controls",
      "model_module_version": "1.5.0",
      "model_name": "ToggleButtonModel",
      "state": {
       "description": "Analítico",
       "icon": "check",
       "layout": "IPY_MODEL_0c1ab08d88584e66a9dac39a3752483c",
       "style": "IPY_MODEL_cbbb54511fa947ceb89d7b9e385c650e",
       "tooltip": "Ativa ou desativa a solução analítica",
       "value": true
      }
     },
     "d27fddfb0b8a4c2a96eeaf6aeb14c6fc": {
      "model_module": "@jupyter-widgets/base",
      "model_module_version": "1.2.0",
      "model_name": "LayoutModel",
      "state": {}
     },
     "d3032732181a4fc18c70b32ef5d73526": {
      "model_module": "@jupyter-widgets/base",
      "model_module_version": "1.2.0",
      "model_name": "LayoutModel",
      "state": {
       "width": "100%"
      }
     },
     "d35db9e3b1a241e281b49b1188f41a25": {
      "model_module": "@jupyter-widgets/controls",
      "model_module_version": "1.5.0",
      "model_name": "ToggleButtonModel",
      "state": {
       "description": "RK2",
       "icon": "check",
       "layout": "IPY_MODEL_87944b8ade5144a79712548c9ebd5f35",
       "style": "IPY_MODEL_d981680a6e07458ea24f69a3426816cb",
       "tooltip": "Ativa ou desativa a solução RK2",
       "value": true
      }
     },
     "d3cdca6f9d0f4440a0dce50a25f2cfcc": {
      "model_module": "@jupyter-widgets/output",
      "model_module_version": "1.0.0",
      "model_name": "OutputModel",
      "state": {
       "layout": "IPY_MODEL_56044cb3159e43aebf6a6b46ed30e3a6",
       "outputs": [
        {
         "data": {
          "application/vnd.jupyter.widget-view+json": {
           "model_id": "5eeecd8b6d6a429faf9afd0178fbe1d5",
           "version_major": 2,
           "version_minor": 0
          },
          "text/plain": "Canvas(toolbar=Toolbar(toolitems=[('Home', 'Reset original view', 'home', 'home'), ('Back', 'Back to previous …"
         },
         "metadata": {},
         "output_type": "display_data"
        }
       ]
      }
     },
     "d4da720269434cf08881247e9113e87f": {
      "model_module": "@jupyter-widgets/base",
      "model_module_version": "1.2.0",
      "model_name": "LayoutModel",
      "state": {
       "width": "repeat(auto-fill, 180px)"
      }
     },
     "d50233d884e94c098f7d48dbb2cd5c17": {
      "model_module": "@jupyter-widgets/base",
      "model_module_version": "1.2.0",
      "model_name": "LayoutModel",
      "state": {
       "width": "95%"
      }
     },
     "d5f9b2b2b8d24102a9031851182c2197": {
      "model_module": "@jupyter-widgets/base",
      "model_module_version": "1.2.0",
      "model_name": "LayoutModel",
      "state": {
       "width": "95%"
      }
     },
     "d7d3c462acab4e6c8580fc097234a306": {
      "model_module": "@jupyter-widgets/output",
      "model_module_version": "1.0.0",
      "model_name": "OutputModel",
      "state": {
       "layout": "IPY_MODEL_a22a0537026248079a412f69e3d6fcb2",
       "outputs": [
        {
         "data": {
          "application/vnd.jupyter.widget-view+json": {
           "model_id": "7a719068fd59477ea544fd0f24345123",
           "version_major": 2,
           "version_minor": 0
          },
          "text/plain": "Canvas(toolbar=Toolbar(toolitems=[('Home', 'Reset original view', 'home', 'home'), ('Back', 'Back to previous …"
         },
         "metadata": {},
         "output_type": "display_data"
        }
       ]
      }
     },
     "d8d5ddfca93848bfbaeaccca28116f91": {
      "model_module": "@jupyter-widgets/controls",
      "model_module_version": "1.5.0",
      "model_name": "ToggleButtonModel",
      "state": {
       "description": "RK1(Euler)",
       "icon": "check",
       "layout": "IPY_MODEL_a3335d589ae7474f81665721f8d78036",
       "style": "IPY_MODEL_b5e9f329b03b4d3c9ce4b901ecd86272",
       "tooltip": "Ativa ou desativa a solução RK1(Euler)",
       "value": true
      }
     },
     "d900dc1691514ebd9c109bf290e0e4af": {
      "model_module": "@jupyter-widgets/controls",
      "model_module_version": "1.5.0",
      "model_name": "VBoxModel",
      "state": {
       "children": [
        "IPY_MODEL_9f4b3cd8f20d4406b249047d907d948f",
        "IPY_MODEL_87fb664d758c46c68da0ad670ae87edd"
       ],
       "layout": "IPY_MODEL_ece72eb7b4634c5d93c4f8199cae949e"
      }
     },
     "d981680a6e07458ea24f69a3426816cb": {
      "model_module": "@jupyter-widgets/controls",
      "model_module_version": "1.5.0",
      "model_name": "DescriptionStyleModel",
      "state": {
       "description_width": ""
      }
     },
     "dc4ae09d2be4440ba92bb163164932b6": {
      "model_module": "@jupyter-widgets/controls",
      "model_module_version": "1.5.0",
      "model_name": "ToggleButtonModel",
      "state": {
       "description": "RK2",
       "icon": "check",
       "layout": "IPY_MODEL_c3e79ade3a994eff8ff735526da64bb1",
       "style": "IPY_MODEL_97b4fc26ac1b46fd9cf98db76717805f",
       "tooltip": "Ativa ou desativa a solução RK2",
       "value": true
      }
     },
     "dcf2109e7e0540518ba49426055f5d7f": {
      "model_module": "@jupyter-widgets/base",
      "model_module_version": "1.2.0",
      "model_name": "LayoutModel",
      "state": {}
     },
     "dd4556e28e6c4b3babcb573918dbd398": {
      "model_module": "@jupyter-widgets/controls",
      "model_module_version": "1.5.0",
      "model_name": "VBoxModel",
      "state": {
       "children": [
        "IPY_MODEL_36594800324b4b9d99d1e60443a190f2",
        "IPY_MODEL_f3f44aacd22c4f8e9b28c1bf796cffcc"
       ],
       "layout": "IPY_MODEL_d5f9b2b2b8d24102a9031851182c2197"
      }
     },
     "de49b79c4d1345629779b7d88b7603e1": {
      "model_module": "jupyter-matplotlib",
      "model_module_version": "^0.9.0",
      "model_name": "ToolbarModel",
      "state": {
       "layout": "IPY_MODEL_3da678c47078462fbaafce1afc8537b8",
       "toolitems": [
        [
         "Home",
         "Reset original view",
         "home",
         "home"
        ],
        [
         "Back",
         "Back to previous view",
         "arrow-left",
         "back"
        ],
        [
         "Forward",
         "Forward to next view",
         "arrow-right",
         "forward"
        ],
        [
         "Pan",
         "Left button pans, Right button zooms\nx/y fixes axis, CTRL fixes aspect",
         "arrows",
         "pan"
        ],
        [
         "Zoom",
         "Zoom to rectangle\nx/y fixes axis, CTRL fixes aspect",
         "square-o",
         "zoom"
        ],
        [
         "Download",
         "Download plot",
         "floppy-o",
         "save_figure"
        ]
       ]
      }
     },
     "dfdb9fc2e17848008ee18b8e2dbc67b5": {
      "model_module": "@jupyter-widgets/controls",
      "model_module_version": "1.5.0",
      "model_name": "VBoxModel",
      "state": {
       "children": [
        "IPY_MODEL_71c6d9a70b4547f7813789769bc84700",
        "IPY_MODEL_16425844254847b6a986ff5ca9ff3104"
       ],
       "layout": "IPY_MODEL_4c91b021bb514dd4bb8a170d9a8651c7"
      }
     },
     "dfe84094116d44cab95f5cc10b50d7e3": {
      "model_module": "@jupyter-widgets/base",
      "model_module_version": "1.2.0",
      "model_name": "LayoutModel",
      "state": {
       "width": "100%"
      }
     },
     "dff5bc6fe1944f279fd6eba04af737f2": {
      "model_module": "@jupyter-widgets/controls",
      "model_module_version": "1.5.0",
      "model_name": "ToggleButtonModel",
      "state": {
       "description": "RK2",
       "icon": "check",
       "layout": "IPY_MODEL_34bfe76491224623824a93d4111234d6",
       "style": "IPY_MODEL_903cc289f18f4bd7a76454a6a866c965",
       "tooltip": "Ativa ou desativa a solução RK2",
       "value": true
      }
     },
     "e000d6174bc448f2b56685ae930ce0af": {
      "model_module": "@jupyter-widgets/controls",
      "model_module_version": "1.5.0",
      "model_name": "DescriptionStyleModel",
      "state": {
       "description_width": ""
      }
     },
     "e0e49c9d011e412783207895b9f64062": {
      "model_module": "@jupyter-widgets/base",
      "model_module_version": "1.2.0",
      "model_name": "LayoutModel",
      "state": {}
     },
     "e2a17337d3c447c9b2632484bcd3aba1": {
      "model_module": "@jupyter-widgets/base",
      "model_module_version": "1.2.0",
      "model_name": "LayoutModel",
      "state": {}
     },
     "e2fc89bac62f414295a3699b8d78b740": {
      "model_module": "@jupyter-widgets/output",
      "model_module_version": "1.0.0",
      "model_name": "OutputModel",
      "state": {
       "layout": "IPY_MODEL_6918516ec0db4f52be049c4baf5ae453",
       "outputs": [
        {
         "data": {
          "application/vnd.jupyter.widget-view+json": {
           "model_id": "1b4939b1d60c4218979194141701f8ab",
           "version_major": 2,
           "version_minor": 0
          },
          "text/plain": "Canvas(toolbar=Toolbar(toolitems=[('Home', 'Reset original view', 'home', 'home'), ('Back', 'Back to previous …"
         },
         "metadata": {},
         "output_type": "display_data"
        },
        {
         "ename": "NameError",
         "evalue": "name 'ax' is not defined",
         "output_type": "error",
         "traceback": [
          "\u001b[0;31m---------------------------------------------------------------------------\u001b[0m",
          "\u001b[0;31mNameError\u001b[0m                                 Traceback (most recent call last)",
          "\u001b[0;32m~/miniconda3/lib/python3.9/site-packages/ipywidgets/widgets/interaction.py\u001b[0m in \u001b[0;36mobserver\u001b[0;34m(change)\u001b[0m\n\u001b[1;32m     77\u001b[0m         \u001b[0;32mwith\u001b[0m \u001b[0mout\u001b[0m\u001b[0;34m:\u001b[0m\u001b[0;34m\u001b[0m\u001b[0;34m\u001b[0m\u001b[0m\n\u001b[1;32m     78\u001b[0m             \u001b[0mclear_output\u001b[0m\u001b[0;34m(\u001b[0m\u001b[0mwait\u001b[0m\u001b[0;34m=\u001b[0m\u001b[0;32mTrue\u001b[0m\u001b[0;34m)\u001b[0m\u001b[0;34m\u001b[0m\u001b[0;34m\u001b[0m\u001b[0m\n\u001b[0;32m---> 79\u001b[0;31m             \u001b[0mf\u001b[0m\u001b[0;34m(\u001b[0m\u001b[0;34m**\u001b[0m\u001b[0mkwargs\u001b[0m\u001b[0;34m)\u001b[0m\u001b[0;34m\u001b[0m\u001b[0;34m\u001b[0m\u001b[0m\n\u001b[0m\u001b[1;32m     80\u001b[0m             \u001b[0mshow_inline_matplotlib_plots\u001b[0m\u001b[0;34m(\u001b[0m\u001b[0;34m)\u001b[0m\u001b[0;34m\u001b[0m\u001b[0;34m\u001b[0m\u001b[0m\n\u001b[1;32m     81\u001b[0m     \u001b[0;32mfor\u001b[0m \u001b[0mk\u001b[0m\u001b[0;34m,\u001b[0m\u001b[0mw\u001b[0m \u001b[0;32min\u001b[0m \u001b[0mcontrols\u001b[0m\u001b[0;34m.\u001b[0m\u001b[0mitems\u001b[0m\u001b[0;34m(\u001b[0m\u001b[0;34m)\u001b[0m\u001b[0;34m:\u001b[0m\u001b[0;34m\u001b[0m\u001b[0;34m\u001b[0m\u001b[0m\n",
          "\u001b[0;32m<ipython-input-2-0f203f71f4a3>\u001b[0m in \u001b[0;36mmain\u001b[0;34m(dt, an, e, r2, r4)\u001b[0m\n\u001b[1;32m     95\u001b[0m         if e==True: fig=plt.plot(t,ue,\n\u001b[1;32m     96\u001b[0m                         'o--',color='coral',label=f'Euler (NT={nt})')   \n\u001b[0;32m---> 97\u001b[0;31m         \u001b[0max\u001b[0m\u001b[0;34m.\u001b[0m\u001b[0mset_xlabel\u001b[0m\u001b[0;34m(\u001b[0m\u001b[0;34m'Tempo'\u001b[0m\u001b[0;34m)\u001b[0m\u001b[0;34m\u001b[0m\u001b[0;34m\u001b[0m\u001b[0m\n\u001b[0m\u001b[1;32m     98\u001b[0m         \u001b[0max\u001b[0m\u001b[0;34m.\u001b[0m\u001b[0mset_ylabel\u001b[0m\u001b[0;34m(\u001b[0m\u001b[0;34m'Massa do elemento'\u001b[0m\u001b[0;34m)\u001b[0m\u001b[0;34m\u001b[0m\u001b[0;34m\u001b[0m\u001b[0m\n\u001b[1;32m     99\u001b[0m         \u001b[0mplt\u001b[0m\u001b[0;34m.\u001b[0m\u001b[0mtitle\u001b[0m\u001b[0;34m(\u001b[0m\u001b[0;34mf'$\\Delta t=${dt:.3f}'\u001b[0m\u001b[0;34m)\u001b[0m\u001b[0;34m\u001b[0m\u001b[0;34m\u001b[0m\u001b[0m\n",
          "\u001b[0;31mNameError\u001b[0m: name 'ax' is not defined"
         ]
        }
       ]
      }
     },
     "e36194e34d6e48f4b0a51a0d34e1b006": {
      "model_module": "@jupyter-widgets/base",
      "model_module_version": "1.2.0",
      "model_name": "LayoutModel",
      "state": {
       "width": "25%"
      }
     },
     "e6818d9adf96411397a58cd666018b3a": {
      "model_module": "jupyter-matplotlib",
      "model_module_version": "^0.9.0",
      "model_name": "ToolbarModel",
      "state": {
       "layout": "IPY_MODEL_88bb344e7a8d4dab8306539c8a550b37",
       "toolitems": [
        [
         "Home",
         "Reset original view",
         "home",
         "home"
        ],
        [
         "Back",
         "Back to previous view",
         "arrow-left",
         "back"
        ],
        [
         "Forward",
         "Forward to next view",
         "arrow-right",
         "forward"
        ],
        [
         "Pan",
         "Left button pans, Right button zooms\nx/y fixes axis, CTRL fixes aspect",
         "arrows",
         "pan"
        ],
        [
         "Zoom",
         "Zoom to rectangle\nx/y fixes axis, CTRL fixes aspect",
         "square-o",
         "zoom"
        ],
        [
         "Download",
         "Download plot",
         "floppy-o",
         "save_figure"
        ]
       ]
      }
     },
     "e760b0ae5f7646ef9f51eaa206aa06b6": {
      "model_module": "@jupyter-widgets/controls",
      "model_module_version": "1.5.0",
      "model_name": "VBoxModel",
      "state": {
       "children": [
        "IPY_MODEL_a005d6adf01949fdb01f2d45504e7eb4",
        "IPY_MODEL_fce6ec59ebd341f59a28ee1d505a0f75"
       ],
       "layout": "IPY_MODEL_2e300c2e70dc445d85bf40a7bbaaa59e"
      }
     },
     "e7a9262d746c45649e05f71a61763acd": {
      "model_module": "@jupyter-widgets/base",
      "model_module_version": "1.2.0",
      "model_name": "LayoutModel",
      "state": {
       "width": "100%"
      }
     },
     "ea098c6ad6664819aa26e31d4eed0760": {
      "model_module": "@jupyter-widgets/controls",
      "model_module_version": "1.5.0",
      "model_name": "FloatSliderModel",
      "state": {
       "continuous_update": false,
       "description": "$\\Delta t:$",
       "layout": "IPY_MODEL_f9115bee127642afab8d2f2193192084",
       "max": 200,
       "min": 1,
       "step": 5,
       "style": "IPY_MODEL_f5ba65b21ce34ccea52351150d2d62e8",
       "value": 111
      }
     },
     "ec1704e27f944cc3983b42747b05f928": {
      "model_module": "@jupyter-widgets/controls",
      "model_module_version": "1.5.0",
      "model_name": "DescriptionStyleModel",
      "state": {
       "description_width": ""
      }
     },
     "ec2deca1f0fa427ba7b5fc02ba92408e": {
      "model_module": "@jupyter-widgets/controls",
      "model_module_version": "1.5.0",
      "model_name": "DescriptionStyleModel",
      "state": {
       "description_width": ""
      }
     },
     "ec3a86d786c84a13be7a395cd63700de": {
      "model_module": "@jupyter-widgets/base",
      "model_module_version": "1.2.0",
      "model_name": "LayoutModel",
      "state": {
       "width": "100%"
      }
     },
     "ece72eb7b4634c5d93c4f8199cae949e": {
      "model_module": "@jupyter-widgets/base",
      "model_module_version": "1.2.0",
      "model_name": "LayoutModel",
      "state": {
       "width": "95%"
      }
     },
     "ed7cc66277ce4b3b98cf09f55a2435ae": {
      "model_module": "@jupyter-widgets/controls",
      "model_module_version": "1.5.0",
      "model_name": "DescriptionStyleModel",
      "state": {
       "description_width": ""
      }
     },
     "ee117321ce924bccb2bfb1b8f12ef8ae": {
      "model_module": "@jupyter-widgets/controls",
      "model_module_version": "1.5.0",
      "model_name": "DescriptionStyleModel",
      "state": {
       "description_width": ""
      }
     },
     "efe5f5f7d68446debacf3def8069c8c5": {
      "model_module": "@jupyter-widgets/controls",
      "model_module_version": "1.5.0",
      "model_name": "ToggleButtonModel",
      "state": {
       "description": "RK1(Euler)",
       "icon": "check",
       "layout": "IPY_MODEL_30190d93b1eb47c8be2ba76cf51aaf76",
       "style": "IPY_MODEL_5a1c45c568944c58a0febfa062683543",
       "tooltip": "Ativa ou desativa a solução RK1(Euler)",
       "value": true
      }
     },
     "f1ec2e9238c243a6861fec8bd92b1272": {
      "model_module": "@jupyter-widgets/controls",
      "model_module_version": "1.5.0",
      "model_name": "DescriptionStyleModel",
      "state": {
       "description_width": ""
      }
     },
     "f1fef724729e4f3fbf7d9ef05865c96d": {
      "model_module": "@jupyter-widgets/base",
      "model_module_version": "1.2.0",
      "model_name": "LayoutModel",
      "state": {}
     },
     "f32f1eb37b834fb68e29c595664acc30": {
      "model_module": "@jupyter-widgets/controls",
      "model_module_version": "1.5.0",
      "model_name": "ToggleButtonModel",
      "state": {
       "description": "RK2",
       "icon": "check",
       "layout": "IPY_MODEL_f8a0a254f1e44eef8471249520b30e96",
       "style": "IPY_MODEL_2fc4bb65e30b48b4b9e59c34c1cfc17a",
       "tooltip": "Ativa ou desativa a solução RK2",
       "value": true
      }
     },
     "f33c59c1074b4a9aa048ac55e9b4cd23": {
      "model_module": "@jupyter-widgets/controls",
      "model_module_version": "1.5.0",
      "model_name": "VBoxModel",
      "state": {
       "children": [
        "IPY_MODEL_83c08a76985e44b6a025cfdaf3a46607",
        "IPY_MODEL_0d6ab24bcd774a7596421767c3cb94b4"
       ],
       "layout": "IPY_MODEL_67bee9bb80ee4f688d65921ab55c254a"
      }
     },
     "f38154eb4c61442992a8d0ac492fbbd2": {
      "model_module": "@jupyter-widgets/base",
      "model_module_version": "1.2.0",
      "model_name": "LayoutModel",
      "state": {
       "width": "repeat(auto-fill, 180px)"
      }
     },
     "f3b60ab0b38c497b881ffd75e6d3568e": {
      "model_module": "@jupyter-widgets/controls",
      "model_module_version": "1.5.0",
      "model_name": "HBoxModel",
      "state": {
       "children": [
        "IPY_MODEL_5b1d0ebd41564f3797f69e306f8dd82a",
        "IPY_MODEL_4d77266d2e5341d0ad7843e354841933",
        "IPY_MODEL_7a30a846de524079b5b4bed9b42c93cb",
        "IPY_MODEL_be04fc851b6b4bf6a3006bce9ce96606"
       ],
       "layout": "IPY_MODEL_a2ade1f460484f069072a11e9f056ac0"
      }
     },
     "f3f44aacd22c4f8e9b28c1bf796cffcc": {
      "model_module": "@jupyter-widgets/controls",
      "model_module_version": "1.5.0",
      "model_name": "HBoxModel",
      "state": {
       "children": [
        "IPY_MODEL_40b9f115185a45fd981a66a0ccfa8fe6",
        "IPY_MODEL_86d49037f1cd423bbe05ae116b6fb2cb",
        "IPY_MODEL_9f953e58a1414a41ab9b29ee0d113104",
        "IPY_MODEL_46202141bef842a485c630bc0e9028fe"
       ],
       "layout": "IPY_MODEL_038cf09b4bfe4e9595dc92431770a345"
      }
     },
     "f4463cdb73344233860f47b58e1f0db2": {
      "model_module": "@jupyter-widgets/controls",
      "model_module_version": "1.5.0",
      "model_name": "DescriptionStyleModel",
      "state": {
       "description_width": ""
      }
     },
     "f44f7018b2d347e3b902835801915eb7": {
      "model_module": "@jupyter-widgets/controls",
      "model_module_version": "1.5.0",
      "model_name": "DescriptionStyleModel",
      "state": {
       "description_width": ""
      }
     },
     "f5ba65b21ce34ccea52351150d2d62e8": {
      "model_module": "@jupyter-widgets/controls",
      "model_module_version": "1.5.0",
      "model_name": "SliderStyleModel",
      "state": {
       "description_width": ""
      }
     },
     "f5de1e962e9f437fbfaaa1d6e2a1fac7": {
      "model_module": "@jupyter-widgets/controls",
      "model_module_version": "1.5.0",
      "model_name": "ToggleButtonModel",
      "state": {
       "description": "RK2",
       "icon": "check",
       "layout": "IPY_MODEL_d114502873024df18b3a304432a3a957",
       "style": "IPY_MODEL_f44f7018b2d347e3b902835801915eb7",
       "tooltip": "Ativa ou desativa a solução RK2",
       "value": true
      }
     },
     "f602143f321a4fcfbe171b0efda059eb": {
      "model_module": "@jupyter-widgets/controls",
      "model_module_version": "1.5.0",
      "model_name": "ToggleButtonModel",
      "state": {
       "description": "RK1(Euler)",
       "icon": "check",
       "layout": "IPY_MODEL_d114502873024df18b3a304432a3a957",
       "style": "IPY_MODEL_6de66886bf4f49eda3f8b46e11e475e2",
       "tooltip": "Ativa ou desativa a solução RK1(Euler)",
       "value": true
      }
     },
     "f60a658e9582430ba539e024bc7660b5": {
      "model_module": "@jupyter-widgets/controls",
      "model_module_version": "1.5.0",
      "model_name": "ToggleButtonModel",
      "state": {
       "description": "RK2",
       "icon": "check",
       "layout": "IPY_MODEL_30190d93b1eb47c8be2ba76cf51aaf76",
       "style": "IPY_MODEL_0657c4e74eb642ada1afc47d7fdd7a18",
       "tooltip": "Ativa ou desativa a solução RK2",
       "value": true
      }
     },
     "f62cfdce9516462992a0f8ce3b2c52fa": {
      "model_module": "@jupyter-widgets/base",
      "model_module_version": "1.2.0",
      "model_name": "LayoutModel",
      "state": {}
     },
     "f76ee9fbbdc5462d8f7439ea8e62fedb": {
      "model_module": "@jupyter-widgets/controls",
      "model_module_version": "1.5.0",
      "model_name": "DescriptionStyleModel",
      "state": {
       "description_width": ""
      }
     },
     "f7dfbd89ceba4d49ae547ce31fc97bd0": {
      "model_module": "@jupyter-widgets/controls",
      "model_module_version": "1.5.0",
      "model_name": "DescriptionStyleModel",
      "state": {
       "description_width": ""
      }
     },
     "f85262490cb145fb868af672aa2ce821": {
      "model_module": "@jupyter-widgets/controls",
      "model_module_version": "1.5.0",
      "model_name": "VBoxModel",
      "state": {
       "children": [
        "IPY_MODEL_ae1da57c1a6b481a846621739e695938",
        "IPY_MODEL_cfa6cd32b7e44fa59b3b966025a195cc"
       ],
       "layout": "IPY_MODEL_b46482ee37864826b74c5539e82e2f26"
      }
     },
     "f8a0a254f1e44eef8471249520b30e96": {
      "model_module": "@jupyter-widgets/base",
      "model_module_version": "1.2.0",
      "model_name": "LayoutModel",
      "state": {
       "width": "25%"
      }
     },
     "f8fe461ce91749d7a0bfb0fd9905c3bd": {
      "model_module": "@jupyter-widgets/base",
      "model_module_version": "1.2.0",
      "model_name": "LayoutModel",
      "state": {
       "width": "repeat(auto-fill, 180px)"
      }
     },
     "f9115bee127642afab8d2f2193192084": {
      "model_module": "@jupyter-widgets/base",
      "model_module_version": "1.2.0",
      "model_name": "LayoutModel",
      "state": {
       "width": "95%"
      }
     },
     "f9b066fa253d4552b8ae4804f5812200": {
      "model_module": "jupyter-matplotlib",
      "model_module_version": "^0.9.0",
      "model_name": "ToolbarModel",
      "state": {
       "layout": "IPY_MODEL_c4d62f0b5b5544ea8a406a3fe1df771c",
       "toolitems": [
        [
         "Home",
         "Reset original view",
         "home",
         "home"
        ],
        [
         "Back",
         "Back to previous view",
         "arrow-left",
         "back"
        ],
        [
         "Forward",
         "Forward to next view",
         "arrow-right",
         "forward"
        ],
        [
         "Pan",
         "Left button pans, Right button zooms\nx/y fixes axis, CTRL fixes aspect",
         "arrows",
         "pan"
        ],
        [
         "Zoom",
         "Zoom to rectangle\nx/y fixes axis, CTRL fixes aspect",
         "square-o",
         "zoom"
        ],
        [
         "Download",
         "Download plot",
         "floppy-o",
         "save_figure"
        ]
       ]
      }
     },
     "fa478d1b4242476e91028c069304bb64": {
      "model_module": "@jupyter-widgets/controls",
      "model_module_version": "1.5.0",
      "model_name": "ToggleButtonModel",
      "state": {
       "description": "RK1(Euler)",
       "icon": "check",
       "layout": "IPY_MODEL_0c1ab08d88584e66a9dac39a3752483c",
       "style": "IPY_MODEL_7bebf9f68a9646849d6178cfd807b7c4",
       "tooltip": "Ativa ou desativa a solução RK1(Euler)",
       "value": true
      }
     },
     "faafcc0a7c8e4f4ca713bf05dd5fa7da": {
      "model_module": "@jupyter-widgets/controls",
      "model_module_version": "1.5.0",
      "model_name": "ToggleButtonModel",
      "state": {
       "description": "Analítico",
       "icon": "check",
       "layout": "IPY_MODEL_87944b8ade5144a79712548c9ebd5f35",
       "style": "IPY_MODEL_7d68632be62b49959ba727b086a1b6e1",
       "tooltip": "Ativa ou desativa a solução analítica",
       "value": true
      }
     },
     "fac738f9506b4ddabec615c00b44786e": {
      "model_module": "@jupyter-widgets/controls",
      "model_module_version": "1.5.0",
      "model_name": "DescriptionStyleModel",
      "state": {
       "description_width": ""
      }
     },
     "fad4fcbeb9bb482cb6d352a371092dfd": {
      "model_module": "@jupyter-widgets/controls",
      "model_module_version": "1.5.0",
      "model_name": "ToggleButtonModel",
      "state": {
       "description": "RK1(Euler)",
       "icon": "check",
       "layout": "IPY_MODEL_07f1d807ca114d65ab724b31ae5677d5",
       "style": "IPY_MODEL_c190d15ea98a4b33b68bc582c238e87b",
       "tooltip": "Ativa ou desativa a solução RK1(Euler)",
       "value": true
      }
     },
     "fce6ec59ebd341f59a28ee1d505a0f75": {
      "model_module": "@jupyter-widgets/controls",
      "model_module_version": "1.5.0",
      "model_name": "HBoxModel",
      "state": {
       "children": [
        "IPY_MODEL_be935c5929ac4691bacf1984e9baa7bc",
        "IPY_MODEL_c5b2e262dea94e2884f933333091ee56",
        "IPY_MODEL_b5c663cf54a44703b7e45d48eb869cfe",
        "IPY_MODEL_5d05c68dad1249278d65aab5fc6314c2"
       ],
       "layout": "IPY_MODEL_906865c209b44556bf4c2d8fedc309e7"
      }
     },
     "fd9e9ffe3d3149fba877794074f7260c": {
      "model_module": "jupyter-matplotlib",
      "model_module_version": "^0.9.0",
      "model_name": "MPLCanvasModel",
      "state": {
       "_cursor": "default",
       "_figure_label": "Figure 1",
       "_height": 479,
       "_width": 640,
       "layout": "IPY_MODEL_14dfcfa0df7146b190fb7ba74ae671bc",
       "toolbar": "IPY_MODEL_657b650f8fcb4d93bb42da2381c3d806",
       "toolbar_position": "left"
      }
     },
     "ff52ffb6e01046fca87669517a70370c": {
      "model_module": "@jupyter-widgets/base",
      "model_module_version": "1.2.0",
      "model_name": "LayoutModel",
      "state": {}
     },
     "ff922c1dd84a49ba987472b4ce992d93": {
      "model_module": "@jupyter-widgets/controls",
      "model_module_version": "1.5.0",
      "model_name": "DescriptionStyleModel",
      "state": {
       "description_width": ""
      }
     }
    },
    "version_major": 2,
    "version_minor": 0
   }
  }
 },
 "nbformat": 4,
 "nbformat_minor": 5
}
