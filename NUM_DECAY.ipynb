{
 "cells": [
  {
   "cell_type": "markdown",
   "id": "split-county",
   "metadata": {},
   "source": [
    "# Precisão (interativo)\n",
    "\n",
    "Soluções numéricas e analíticas da equação para o decaimento radioativo de um material\n",
    "\n",
    "$$\\frac{du}{dt}=-au$$\n",
    "\n",
    "Abaixo você pode ver como o espaçamento dos pontos no tempo afeta o resultado da solução para o caso de \n",
    "\n",
    "$$u(t_0=0)=1$$\n",
    "\n",
    "No intervalo de tempo\n",
    "\n",
    "$$t=[0,1000)$$\n",
    "\n",
    "Abaixo você vê um aplicativo interativo comparando as soluções numéricas utilizando: método de Euler (também conhecido como Runge-Kutta de ordem 1), Runge-Kutta de ordem 2 e Runge-Kutta de ordem 4."
   ]
  },
  {
   "cell_type": "code",
   "execution_count": 1,
   "id": "improving-bridge",
   "metadata": {
    "tags": [
     "remove_input"
    ]
   },
   "outputs": [
    {
     "data": {
      "application/vnd.jupyter.widget-view+json": {
       "model_id": "4ac5ba83b6034bf88713d265dbdbf1e4",
       "version_major": 2,
       "version_minor": 0
      },
      "text/plain": [
       "VBox(children=(FloatSlider(value=50.0, continuous_update=False, description='$\\\\Delta t:$', layout=Layout(widt…"
      ]
     },
     "metadata": {},
     "output_type": "display_data"
    },
    {
     "data": {
      "application/vnd.jupyter.widget-view+json": {
       "model_id": "a759dc8892834e46897a886c31e619cf",
       "version_major": 2,
       "version_minor": 0
      },
      "text/plain": [
       "Output()"
      ]
     },
     "metadata": {},
     "output_type": "display_data"
    }
   ],
   "source": [
    "%matplotlib widget\n",
    "from ipywidgets import interact\n",
    "import ipywidgets as wid\n",
    "import numpy as np\n",
    "import matplotlib.pyplot as plt\n",
    "from numba import njit\n",
    "\n",
    "plt.rc('font',size=12)\n",
    "plt.rc('lines',markersize=7,linewidth=3)\n",
    "a=0.005\n",
    "dt=0.1\n",
    "tt=np.arange(0,1000,dt)\n",
    "lay=wid.Layout(width=\"repeat(auto-fill, 180px)\")\n",
    "laybox=wid.Layout(width=\"95%\")\n",
    "layauto=wid.Layout(width=\"25%\")\n",
    "dt=wid.FloatSlider(value=50,min=1.0,\n",
    "    max=200,step=5,\n",
    "    description='$\\Delta t:$',\n",
    "    continuous_update=False,layout=laybox)\n",
    "an=wid.ToggleButton(\n",
    "    value=True,\n",
    "    description='Analítico',\n",
    "    button_style='', # 'success', 'info', 'warning', 'danger' or ''\n",
    "    tooltip='Ativa ou desativa a solução analítica',\n",
    "    icon='check',layout=layauto)\n",
    "e=wid.ToggleButton(\n",
    "    value=True,\n",
    "    description='RK1(Euler)',\n",
    "    button_style='', # 'success', 'info', 'warning', 'danger' or ''\n",
    "    tooltip='Ativa ou desativa a solução RK1(Euler)',\n",
    "    icon='check',layout=layauto)\n",
    "r2=wid.ToggleButton(\n",
    "    value=True,\n",
    "    description='RK2',\n",
    "    button_style='', # 'success', 'info', 'warning', 'danger' or ''\n",
    "    tooltip='Ativa ou desativa a solução RK2',\n",
    "    icon='check',layout=layauto)\n",
    "r4=wid.ToggleButton(\n",
    "    value=True,\n",
    "    description='RK4',\n",
    "    button_style='', # 'success', 'info', 'warning', 'danger' or ''\n",
    "    tooltip='Ativa ou desativa a solução RK4',\n",
    "    icon='check',layout=layauto)\n",
    "\n",
    "Hsol=wid.HBox([an,e,r2,r4],layout=lay)\n",
    "Vmain=wid.VBox([dt,Hsol],layout=laybox)\n",
    "\n",
    "def main(dt,an,e,r2,r4):\n",
    "    t=np.arange(0,1000,dt)\n",
    "    nt=t.size\n",
    "    ue=np.zeros((nt))\n",
    "    ur2=np.zeros((nt))\n",
    "    ur4=np.zeros((nt))\n",
    "    ue[0], ur2[0], ur4[0] = (1.0,1.0,1.0)\n",
    "    \n",
    "    @njit\n",
    "    def Fl(fv):\n",
    "        return -a*fv\n",
    "    \n",
    "    @njit\n",
    "    def euler(f,dt):\n",
    "        for i in range(0,nt-1):\n",
    "            f[i+1]=f[i]+Fl(f[i])*dt\n",
    "        return f\n",
    "    \n",
    "    @njit\n",
    "    def rk2(f,dt):\n",
    "        for i in range(0,nt-1):\n",
    "            k1=Fl(f[i])\n",
    "            k2=Fl(f[i]+dt*k1)\n",
    "            f[i+1]=f[i]+dt*(k1+k2)/2\n",
    "        return f\n",
    "    \n",
    "    @njit\n",
    "    def rk4(f,dt):\n",
    "        for i in range(0,nt-1):\n",
    "            k1=Fl(f[i])\n",
    "            k2=Fl(f[i]+k1*dt/2)\n",
    "            k3=Fl(f[i]+k2*dt/2)\n",
    "            k4=Fl(f[i]+k3*dt)\n",
    "            f[i+1]=f[i]+dt*(k1+2*k2+2*k3+k4)/6\n",
    "        return f\n",
    "    \n",
    "    if e==True: ue=euler(ue,dt)\n",
    "    if r2==True: ur2=rk2(ur2,dt)\n",
    "    if r4==True: ur4=rk4(ur4,dt)\n",
    "    if (e,an,r2,r4)!=(False,False,False,False):\n",
    "        if an==True: fig=plt.plot(tt,np.exp(-a*tt),\n",
    "                        'k-',linewidth=10,label='Analítico')\n",
    "        if r4==True: fig=plt.plot(t,ur4,\n",
    "                        'o--',color='skyblue',label=f'RK4 (NT={nt})')\n",
    "        if r2==True: fig=plt.plot(t,ur2,\n",
    "                        'o--',color='fuchsia',label=f'RK2 (NT={nt})')\n",
    "        if e==True: fig=plt.plot(t,ue,\n",
    "                        'o--',color='coral',label=f'Euler (NT={nt})')   \n",
    "        ax.set_xlabel('Tempo')\n",
    "        ax.set_ylabel('Massa do elemento')\n",
    "        plt.title(f'$\\Delta t=${dt:.3f}')\n",
    "        leg=plt.legend()\n",
    "    else:\n",
    "        plt.clf()\n",
    "        plt.title('Nada para plotar')\n",
    "    \n",
    "out=wid.interactive_output(main, {'dt':dt,'an':an,'e':e,'r2':r2,'r4':r4})\n",
    "display(Vmain,out)"
   ]
  },
  {
   "cell_type": "code",
   "execution_count": null,
   "id": "ef0e3fb4-5bd2-4ad0-a970-9a3416a9e878",
   "metadata": {},
   "outputs": [],
   "source": []
  }
 ],
 "metadata": {
  "hide_input": false,
  "kernelspec": {
   "display_name": "Python 3",
   "language": "python",
   "name": "python3"
  },
  "language_info": {
   "codemirror_mode": {
    "name": "ipython",
    "version": 3
   },
   "file_extension": ".py",
   "mimetype": "text/x-python",
   "name": "python",
   "nbconvert_exporter": "python",
   "pygments_lexer": "ipython3",
   "version": "3.9.5"
  },
  "toc": {
   "base_numbering": 1,
   "nav_menu": {},
   "number_sections": true,
   "sideBar": true,
   "skip_h1_title": false,
   "title_cell": "Table of Contents",
   "title_sidebar": "Contents",
   "toc_cell": false,
   "toc_position": {},
   "toc_section_display": true,
   "toc_window_display": false
  },
  "widgets": {
   "application/vnd.jupyter.widget-state+json": {
    "state": {
     "067137205e1945438126d5c73ce74541": {
      "model_module": "@jupyter-widgets/controls",
      "model_module_version": "1.5.0",
      "model_name": "ToggleButtonModel",
      "state": {
       "description": "RK4",
       "icon": "check",
       "layout": "IPY_MODEL_f8a0a254f1e44eef8471249520b30e96",
       "style": "IPY_MODEL_72a3a5bd016549bfb96b990dccd0c164",
       "tooltip": "Ativa ou desativa a solução RK4",
       "value": true
      }
     },
     "20d4d27bb0f54ed8b6b4afa4677e4cbc": {
      "model_module": "@jupyter-widgets/controls",
      "model_module_version": "1.5.0",
      "model_name": "HBoxModel",
      "state": {
       "children": [
        "IPY_MODEL_92874dcd01e24451bea97189ea0a1a1a",
        "IPY_MODEL_4efa94db43c748e49aacac6261e44e94",
        "IPY_MODEL_f32f1eb37b834fb68e29c595664acc30",
        "IPY_MODEL_067137205e1945438126d5c73ce74541"
       ],
       "layout": "IPY_MODEL_8e340e0aad5e4548a5fa3beb8beeedb1"
      }
     },
     "2b7cb5f282a34bd28fd84c2685686a3d": {
      "model_module": "jupyter-matplotlib",
      "model_module_version": "^0.9.0",
      "model_name": "MPLCanvasModel",
      "state": {
       "_cursor": "default",
       "_figure_label": "Figure 1",
       "_height": 899,
       "_width": 1600,
       "layout": "IPY_MODEL_f1fef724729e4f3fbf7d9ef05865c96d",
       "toolbar": "IPY_MODEL_8d78df042ab44b2091609c50a9421998",
       "toolbar_position": "left"
      }
     },
     "2fc4bb65e30b48b4b9e59c34c1cfc17a": {
      "model_module": "@jupyter-widgets/controls",
      "model_module_version": "1.5.0",
      "model_name": "DescriptionStyleModel",
      "state": {
       "description_width": ""
      }
     },
     "3f72f54bbb6848f0ba7dc32a9db57dc9": {
      "model_module": "@jupyter-widgets/controls",
      "model_module_version": "1.5.0",
      "model_name": "DescriptionStyleModel",
      "state": {
       "description_width": ""
      }
     },
     "4ac5ba83b6034bf88713d265dbdbf1e4": {
      "model_module": "@jupyter-widgets/controls",
      "model_module_version": "1.5.0",
      "model_name": "VBoxModel",
      "state": {
       "children": [
        "IPY_MODEL_5ae4f3bba70344feb1708a6318058fc3",
        "IPY_MODEL_20d4d27bb0f54ed8b6b4afa4677e4cbc"
       ],
       "layout": "IPY_MODEL_8a548bebbd71437f91706704d074cad1"
      }
     },
     "4efa94db43c748e49aacac6261e44e94": {
      "model_module": "@jupyter-widgets/controls",
      "model_module_version": "1.5.0",
      "model_name": "ToggleButtonModel",
      "state": {
       "description": "RK1(Euler)",
       "icon": "check",
       "layout": "IPY_MODEL_f8a0a254f1e44eef8471249520b30e96",
       "style": "IPY_MODEL_3f72f54bbb6848f0ba7dc32a9db57dc9",
       "tooltip": "Ativa ou desativa a solução RK1(Euler)",
       "value": true
      }
     },
     "5ae4f3bba70344feb1708a6318058fc3": {
      "model_module": "@jupyter-widgets/controls",
      "model_module_version": "1.5.0",
      "model_name": "FloatSliderModel",
      "state": {
       "continuous_update": false,
       "description": "$\\Delta t:$",
       "layout": "IPY_MODEL_8a548bebbd71437f91706704d074cad1",
       "max": 200,
       "min": 1,
       "step": 5,
       "style": "IPY_MODEL_6c7f24b126414bf4bb75a68588903d75",
       "value": 50
      }
     },
     "6c7f24b126414bf4bb75a68588903d75": {
      "model_module": "@jupyter-widgets/controls",
      "model_module_version": "1.5.0",
      "model_name": "SliderStyleModel",
      "state": {
       "description_width": ""
      }
     },
     "72a3a5bd016549bfb96b990dccd0c164": {
      "model_module": "@jupyter-widgets/controls",
      "model_module_version": "1.5.0",
      "model_name": "DescriptionStyleModel",
      "state": {
       "description_width": ""
      }
     },
     "8a548bebbd71437f91706704d074cad1": {
      "model_module": "@jupyter-widgets/base",
      "model_module_version": "1.2.0",
      "model_name": "LayoutModel",
      "state": {
       "width": "95%"
      }
     },
     "8d78df042ab44b2091609c50a9421998": {
      "model_module": "jupyter-matplotlib",
      "model_module_version": "^0.9.0",
      "model_name": "ToolbarModel",
      "state": {
       "layout": "IPY_MODEL_a756025d6ada42c687ace5ad7dd2e8c2",
       "toolitems": [
        [
         "Home",
         "Reset original view",
         "home",
         "home"
        ],
        [
         "Back",
         "Back to previous view",
         "arrow-left",
         "back"
        ],
        [
         "Forward",
         "Forward to next view",
         "arrow-right",
         "forward"
        ],
        [
         "Pan",
         "Left button pans, Right button zooms\nx/y fixes axis, CTRL fixes aspect",
         "arrows",
         "pan"
        ],
        [
         "Zoom",
         "Zoom to rectangle\nx/y fixes axis, CTRL fixes aspect",
         "square-o",
         "zoom"
        ],
        [
         "Download",
         "Download plot",
         "floppy-o",
         "save_figure"
        ]
       ]
      }
     },
     "8e340e0aad5e4548a5fa3beb8beeedb1": {
      "model_module": "@jupyter-widgets/base",
      "model_module_version": "1.2.0",
      "model_name": "LayoutModel",
      "state": {
       "width": "repeat(auto-fill, 180px)"
      }
     },
     "92874dcd01e24451bea97189ea0a1a1a": {
      "model_module": "@jupyter-widgets/controls",
      "model_module_version": "1.5.0",
      "model_name": "ToggleButtonModel",
      "state": {
       "description": "Analítico",
       "icon": "check",
       "layout": "IPY_MODEL_f8a0a254f1e44eef8471249520b30e96",
       "style": "IPY_MODEL_a68abc2507504fc9b6dc789c3af872d7",
       "tooltip": "Ativa ou desativa a solução analítica",
       "value": true
      }
     },
     "a68abc2507504fc9b6dc789c3af872d7": {
      "model_module": "@jupyter-widgets/controls",
      "model_module_version": "1.5.0",
      "model_name": "DescriptionStyleModel",
      "state": {
       "description_width": ""
      }
     },
     "a756025d6ada42c687ace5ad7dd2e8c2": {
      "model_module": "@jupyter-widgets/base",
      "model_module_version": "1.2.0",
      "model_name": "LayoutModel",
      "state": {}
     },
     "a759dc8892834e46897a886c31e619cf": {
      "model_module": "@jupyter-widgets/output",
      "model_module_version": "1.0.0",
      "model_name": "OutputModel",
      "state": {
       "layout": "IPY_MODEL_c98dfb9699e0433fbd341577227f354c",
       "outputs": [
        {
         "data": {
          "application/vnd.jupyter.widget-view+json": {
           "model_id": "2b7cb5f282a34bd28fd84c2685686a3d",
           "version_major": 2,
           "version_minor": 0
          },
          "text/plain": "Canvas(toolbar=Toolbar(toolitems=[('Home', 'Reset original view', 'home', 'home'), ('Back', 'Back to previous …"
         },
         "metadata": {},
         "output_type": "display_data"
        }
       ]
      }
     },
     "c98dfb9699e0433fbd341577227f354c": {
      "model_module": "@jupyter-widgets/base",
      "model_module_version": "1.2.0",
      "model_name": "LayoutModel",
      "state": {}
     },
     "f1fef724729e4f3fbf7d9ef05865c96d": {
      "model_module": "@jupyter-widgets/base",
      "model_module_version": "1.2.0",
      "model_name": "LayoutModel",
      "state": {}
     },
     "f32f1eb37b834fb68e29c595664acc30": {
      "model_module": "@jupyter-widgets/controls",
      "model_module_version": "1.5.0",
      "model_name": "ToggleButtonModel",
      "state": {
       "description": "RK2",
       "icon": "check",
       "layout": "IPY_MODEL_f8a0a254f1e44eef8471249520b30e96",
       "style": "IPY_MODEL_2fc4bb65e30b48b4b9e59c34c1cfc17a",
       "tooltip": "Ativa ou desativa a solução RK2",
       "value": true
      }
     },
     "f8a0a254f1e44eef8471249520b30e96": {
      "model_module": "@jupyter-widgets/base",
      "model_module_version": "1.2.0",
      "model_name": "LayoutModel",
      "state": {
       "width": "25%"
      }
     }
    },
    "version_major": 2,
    "version_minor": 0
   }
  }
 },
 "nbformat": 4,
 "nbformat_minor": 5
}
