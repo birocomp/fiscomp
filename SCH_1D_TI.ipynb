{
 "cells": [
  {
   "cell_type": "markdown",
   "id": "4081ff1f-1d23-4bc7-a822-8a227cc31130",
   "metadata": {},
   "source": [
    "# Como usar\n",
    "\n",
    "Esse aplicativo web é divido em 3 partes:\n",
    "1. **Gerar o seu sistema:** Isso pode ser feito após entrar as informações do domínio da função de onda $\\Psi(x)$, o número de pontos utilizados para representá-la, a forma da **energia potencial $V(x)$** e clicar em `Gerar`.\n",
    "    * Existem energias potenciais $V(x)$ pré definidas dentro do menu `Potenciais pré definidos`. Se escolher uma opção pré definida, o domínio e o número de pontos serão selecionados automaticamente e, em seguida, o botão 'Gerar' será clicado.\n",
    "    * A expressão para $V(x)$ está em eletron-volts, e $x$ estará em unidades Raio de Bohr (veja sobre as unidades de Rydberg abaixo).\n",
    "    * Caso você deseje utilizar $x$ em Angstroms, divida-o sempre por `ang`. Por exemplo:\n",
    "        * **$V(x)=((x/ang) - 10)^2$ resultará em um potencial harmônico em eletron-volts, centrado em $x=10$ Angstroms.**\n",
    "        * **$V(x)=(x - 10)^2$ resultará em um potencial harmônico em eletron-volts, centrado em $x=10$ Raio de Bohr.**\n",
    "\n",
    "\n",
    "2. **Diagonalizar a matriz do sistema:** Após o sistema ser gerado, o menu `Diagonalizar/Informações` exibirá uma tabela com algumas informações sobre o sistema gerado. Se estiver tudo como você quer, clique em `Diagonalizar` para resolver a matriz correspondente ao sistema, gerando as auto funções e os auto valores.\n",
    "\n",
    "3. **Plotar o resultado:** Após exibida a mensagem `Diagonalizado!` no próprio botão `Diagonalizar`, você será direcionado para a aba `Funções de onda`, onde as densidades de probabilidades dos 11 primeiros estados serão plotados automaticamente.\n",
    "\n",
    "***"
   ]
  },
  {
   "cell_type": "code",
   "execution_count": 17,
   "id": "dcdb271d",
   "metadata": {
    "tags": []
   },
   "outputs": [
    {
     "data": {
      "application/vnd.jupyter.widget-view+json": {
       "model_id": "a314a4b40bba4cf08c6ee43a85153f03",
       "version_major": 2,
       "version_minor": 0
      },
      "text/plain": [
       "Tab(children=(VBox(children=(Accordion(children=(GridBox(children=(Button(description='Poço Infinito', style=B…"
      ]
     },
     "metadata": {},
     "output_type": "display_data"
    }
   ],
   "source": [
    "%matplotlib widget\n",
    "import numpy as np\n",
    "import scipy.sparse as sparse\n",
    "import matplotlib.pyplot as plt\n",
    "from numba import jit\n",
    "import ipywidgets as wid\n",
    "from ipywidgets import interactive,fixed, interactive_output\n",
    "\n",
    "plt.rc('font',size=10)\n",
    "RY=13.60566 #x*RY: Rydberg -> ev\n",
    "ang=1.88972 #X/ang: raio de bohr -> angstroms\n",
    "pot_exemplos=['(2e-4)*((x)**2)','0',\n",
    "             '(1e-5)*(x**2)+(1e-7)*(x**4)',\n",
    "             '(10)*( (49.2 / (x/ang+84) )**12 - (49.2 / (x/ang+84) )**6)',\n",
    "             '3.5*(np.exp(-2*(0.1*(x/ang) + 2.75)) - 2*np.exp(-(0.1*(x/ang) + 2.75)))',\n",
    "             '-4*(np.cosh(0.1*x/ang)**(-2))',\n",
    "             '0.05*abs(x/ang)-1.5',\n",
    "             '(1e-5)*(x**2)-(2e-7)*(x**4)',\n",
    "             '0.05*x/ang',\n",
    "             '-0.05*x/ang',\n",
    "             '4*np.sin(-2*np.abs(x/ang)*np.pi/(35))']\n",
    "\n",
    "def diagg(boo):\n",
    "    global x,psi,prob,eig,V,L,N\n",
    "    DIAG.description='Diagonalizando...'\n",
    "    \n",
    "    @jit\n",
    "    def diagH(H,V):\n",
    "        H=H+V\n",
    "        eig, psi=np.linalg.eigh(H) #Resolve o sistema e atribui-se: eig=autovalores, psi=autovetores\n",
    "        prob=np.abs(psi)**2 #Atribui a densidade de probabilidade |Psi|² a variável prob\n",
    "        return H,V,psi,prob,eig\n",
    "    \n",
    "    N=x.size #Armazena o tamanho do vetor posição e o comprimento do espaço que ele representa\n",
    "    a=- 1/(dx**2) #Define 'a' por conveniência\n",
    "    H=sparse.diags([a,-2*a,a],[-1,0,1],shape=(N,N),dtype=np.complex128).toarray() #Cria a matriz Hamiltoniano\n",
    "    H[0,0]=-a\n",
    "    H[N-1,N-1]=-a\n",
    "    H,V,psi,prob,eig=diagH(H,V)\n",
    "    \n",
    "    V=np.diag(V)\n",
    "    PLOT.children[6].disabled=False\n",
    "    PLOT.children[6].description=('Plotar')\n",
    "    PLOT.children[6].click()\n",
    "    DIAG.disabled=True\n",
    "    DIAG.description='Diagonalizado!'\n",
    "    tab.selected_index=1\n",
    "\n",
    "def syst(xx,N,potV):   \n",
    "    global x,dx,V,Vlim\n",
    "    def vetores(xx,N):\n",
    "        xmin,xmax=xx\n",
    "        x,dx=np.linspace(xmin*ang,xmax*ang, N, \n",
    "                         retstep=True,dtype=np.float64) #Define o vetor posição (raio de bohr)\n",
    "        return x,dx,xmin,xmax\n",
    "    \n",
    "    def pot(N,pot):\n",
    "        V=np.ones(shape=(N))\n",
    "        V=V*eval(pot)/RY\n",
    "        V=np.diag(V)\n",
    "        return V\n",
    "    \n",
    "    x, dx, xmin, xmax=vetores(xx,N)\n",
    "    V=pot(N,potV)\n",
    "    \n",
    "    xmin, xmax= x.min()/ang, x.max()/ang\n",
    "    L=xmax-xmin\n",
    "    Vlim=[V.min()*RY, V.max()*RY]\n",
    "    info.children[1].value=f\"{dx/ang: .2f}\"\n",
    "    info.children[3].value=f\"{L: .2f}\"\n",
    "    info.children[5].value=f\"[{Vlim[0]:.5f} , {Vlim[1]:.5f}]\"\n",
    "    info.children[7].value=SYST.children[2].value\n",
    "    info.children[9].value=f\"{SYST.children[1].value: 1d}\"\n",
    "    \n",
    "    fig1, ax1 = plt.subplots()\n",
    "    fig1.canvas.layout.width = '100%'\n",
    "    fig1.canvas.layout.heigth = '100%'\n",
    "    fig1.canvas.header_visible = False\n",
    "    ax1.set_xlabel('$x (\\AA)$')\n",
    "    ax1.set_ylabel('Potencial (eV)')  \n",
    "    \n",
    "    plt.plot(x/ang,np.diag(V)*RY,'r-',label='$V(x)$')    \n",
    "    plt.axhline(Vlim[0], xmin, xmax,color='r',ls='--',label='limites de $V(x)$')\n",
    "    plt.axhline(Vlim[1], xmin, xmax,color='r',ls='--')\n",
    "    plt.axvline(x=x.min()/ang,color='k',ls='--',label='limites de $x$')\n",
    "    plt.axvline(x=x.max()/ang,color='k',ls='--',)\n",
    "    plt.setp(ax1, xticks=[xmin, xmax], yticks=Vlim)\n",
    "    leg=plt.legend(loc='upper right')\n",
    "    \n",
    "    DIAG.disabled=False\n",
    "    DIAG.description='Diagonalizar'\n",
    "    PLOT.children[6].disabled=True\n",
    "    PLOT.children[6].description=('Diagonalize...')\n",
    "    INFO.selected_index=0\n",
    "    return V,x,dx,xmin,xmax\n",
    "\n",
    "def plotall(NES,limx,wav,dpi,limy,autolim):\n",
    "    fig, ax = plt.subplots(dpi=dpi)\n",
    "    fig.canvas.layout.width = '100%'\n",
    "    fig.canvas.layout.heigth = '100%'\n",
    "    fig.canvas.header_visible = False\n",
    "    nmin,nmax = NES\n",
    "    En=eig*RY\n",
    "    #elim=(En.min(), En.max())###########\n",
    "    ax.set_xlim([x.min()/ang-limx, x.max()/ang +limx])\n",
    "    ax.set_xlabel('$x (\\AA)$')\n",
    "    ax.set_ylabel('Auto energias (eV)')\n",
    "    plt.title(f\"$\\Delta x$ = {dx/ang:.2f}, Ordem da matriz = {N} x {N}\")\n",
    "    probb=norm(prob,nmin,nmax,En,1)\n",
    "    if wav==1:\n",
    "        for i in range(nmax,nmin-1,-1):\n",
    "            fig=plt.plot(x/ang,probb[:,i]+En[i], \n",
    "                         label=f'$E_{{{i}}}={En[i]:.5f}$ eV')\n",
    "    elif wav==2:\n",
    "        for i in range(nmax,nmin-1,-1):\n",
    "            fig=plt.plot(x/ang,np.real(psi[:,i])+En[i], \n",
    "                         label=f'$E_{{{i}}}={En[i]:.5f}$ eV')\n",
    "    elif wav==3:\n",
    "        for i in range(nmax,nmin-1,-1):\n",
    "            fig=plt.plot(x/ang,np.imag(psi[:,i])+En[i], \n",
    "                         label=f'$E_{{{i}}}={En[i]:.5f}$ eV')\n",
    "    if autolim==False:\n",
    "        ax.set_ylim(limy)\n",
    "        \n",
    "    fig=plt.axvline(x=x.min()/ang,color='k',ls='--')\n",
    "    fig=plt.axvline(x=x.max()/ang,color='k',ls='--')\n",
    "    fig=plt.plot(x/ang,V*RY,'k',label='V($x$)')\n",
    "    leg=plt.legend(loc='upper right')\n",
    "    \n",
    "    plt.show()\n",
    "\n",
    "@jit\n",
    "def norm(prob,nmin,nmax,En,wav):\n",
    "    mmax=np.zeros(nmax+2)\n",
    "    if wav==1:\n",
    "        for i in range(0,nmax+2):\n",
    "            mmax[i]=(En[i+1]-En[i])*0.9\n",
    "        for i in range(0,nmax+2):\n",
    "            prob[:,i]=prob[:,i]*np.abs(mmax[i]/prob[:,i].max())\n",
    "    #else:\n",
    "    #    for i in range(1,nmax+2):\n",
    "    #        mmax[i]=(prob[:,i+1].min()-prob[:,i-1].max() \\\n",
    "    #                /(prob[:,i].max()-prob[:,i].min()))\n",
    "    #    for i in range(1,nmax+2):\n",
    "    #        prob[:,i-1]=prob[:,i-1]*np.abs(mmax[i]*0.9)\n",
    "    return prob\n",
    "\n",
    "def potlist(bo):\n",
    "    b=bo.description\n",
    "    if b=='Oscilador Harmônico':\n",
    "        SYST.children[2].value=pot_exemplos[0]\n",
    "    elif b=='Poço Infinito':\n",
    "        SYST.children[2].value=pot_exemplos[1]\n",
    "    elif b=='Duffing Holmes (+)':\n",
    "        SYST.children[2].value=pot_exemplos[2]\n",
    "    elif b=='Lennard Jones':\n",
    "        SYST.children[2].value=pot_exemplos[3]\n",
    "    elif b=='Morse':\n",
    "        SYST.children[2].value=pot_exemplos[4]\n",
    "    elif b=='Pöschl–Teller':\n",
    "        SYST.children[2].value=pot_exemplos[5]\n",
    "    elif b=='Poço Triangular':\n",
    "        SYST.children[2].value=pot_exemplos[6]\n",
    "    elif b=='Duffing Holmes (-)':\n",
    "        SYST.children[2].value=pot_exemplos[7]\n",
    "    elif b=='Campo Uniforme (-)':\n",
    "        SYST.children[2].value=pot_exemplos[8]\n",
    "    elif b=='Campo Uniforme (+)':\n",
    "        SYST.children[2].value=pot_exemplos[9]\n",
    "    SYST.children[0].value=[-35,35]\n",
    "    SYST.children[3].click()\n",
    "    \n",
    "################################STYLES/LAYOUT###############################\n",
    "lslider=wid.Layout(width='95%', display='flex')\n",
    "sty = {'description_width': 'initial'}\n",
    "\n",
    "################################INTERACTIVES################################\n",
    "SYST=interactive(syst, {'manual': True}, \n",
    "                    xx=wid.FloatRangeSlider(\n",
    "                        value=[-35.0, 35.0],\n",
    "                        min=-150.0,\n",
    "                        max=150.0,\n",
    "                        step=1,\n",
    "                        continuous_update=False,\n",
    "                        orientation='horizontal',\n",
    "                        readout_format='1d',\n",
    "                        layout=lslider,\n",
    "                        description=('Domínio de $\\Psi(x)$: '),\n",
    "                        style=sty),\n",
    "                    N=wid.IntSlider(value=550,\n",
    "                        min=50,\n",
    "                        max=1050,\n",
    "                        step=10,\n",
    "                        continuous_update=False, \n",
    "                        layout=lslider,\n",
    "                        description=('Número de pontos: '),\n",
    "                        style=sty),\n",
    "                    potV=wid.Text(description='Expressão de $V(x)$: ',\n",
    "                        value=\"0\",\n",
    "                        placeholder='Escreva a expressão aqui.',\n",
    "                        style=sty,\n",
    "                        layout=lslider))\n",
    "\n",
    "PLOT=interactive(plotall, {'manual': True},\n",
    "                    NES=wid.IntRangeSlider(\n",
    "                        value=[0, 10],\n",
    "                        min=0,\n",
    "                        max=20,\n",
    "                        step=1,\n",
    "                        description='Plotar estados:',\n",
    "                        continuous_update=False,\n",
    "                        orientation='horizontal',\n",
    "                        layout=lslider,\n",
    "                        style=sty),\n",
    "                    limx=wid.IntSlider(\n",
    "                        value=20,\n",
    "                        min=0,\n",
    "                        max=100,\n",
    "                        step=1,\n",
    "                        description='Margens horizontais  (angstroms):   ',\n",
    "                        continuous_update=False,\n",
    "                        layout=lslider,\n",
    "                        style=sty),\n",
    "                    wav=wid.Dropdown(\n",
    "                        options=[('densidades de probabilidades',1),\n",
    "                                 ('funções de onda (parte real, +)',2),\n",
    "                                 ('funções de onda (parte imaginária)',3)],\n",
    "                        value=1,\n",
    "                        description='Plotar as',\n",
    "                        style=sty),\n",
    "                    dpi=wid.IntSlider(value=80,\n",
    "                        min=10,\n",
    "                        max=300,\n",
    "                        step=1,\n",
    "                        description='Pixels por polegada:',\n",
    "                        style=sty,layout=lslider),\n",
    "                    limy=wid.FloatRangeSlider(value=[-2.,2.],\n",
    "                        min=-10.,\n",
    "                        max=10.,\n",
    "                        step=0.005,\n",
    "                        description='Limites do eixo y (eV):',\n",
    "                        orientation='horizontal',\n",
    "                        readout_format='.1f',\n",
    "                        layout=lslider,\n",
    "                        style=sty),\n",
    "                    autolim=wid.Checkbox(\n",
    "                        value=True,\n",
    "                        description='Auto limitar eixo y',\n",
    "                        style=sty))\n",
    "\n",
    "################################GRIDS################################\n",
    "items = [wid.Label('Passo $\\Delta x $ (angstroms) ='), wid.Label('dx'), \n",
    "        wid.Label('Largura do domínio (angstroms) ='), wid.Label('L'),\n",
    "        wid.Label('V(x)[min,max] (eV) ='), wid.Label('[V_min,V_max]'),\n",
    "        wid.Label('Expressão V(x) ='), wid.Label(''),\n",
    "        wid.Label('Número de pontos ='), wid.Label('')]\n",
    "info=wid.GridBox(items, layout=wid.Layout(grid_template_columns=\"repeat(2, 250px)\"))\n",
    "\n",
    "################################BOTOES################################\n",
    "DIAG=wid.Button(description='Diagonalizar',disabled=True)\n",
    "OHS=wid.Button(description='Oscilador Harmônico')\n",
    "POCO=wid.Button(description='Poço Infinito')\n",
    "DUFHOLMES=wid.Button(description='Duffing Holmes (+)', style=sty)\n",
    "MDUFHOLMES=wid.Button(description='Duffing Holmes (-)', style=sty)\n",
    "LENJON=wid.Button(description='Lennard Jones', style=sty)\n",
    "MORSE=wid.Button(description='Morse', style=sty)\n",
    "POSTEL=wid.Button(description='Pöschl–Teller', style=sty)\n",
    "TRIANG=wid.Button(description='Poço Triangular', style=sty)\n",
    "CAMPMENOS=wid.Button(description='Campo Uniforme (-)', style=sty)\n",
    "CAMPMAIS=wid.Button(description='Campo Uniforme (+)', style=sty)\n",
    "\n",
    "################################ON_EVENTS###############################\n",
    "DIAG.on_click(diagg)\n",
    "OHS.on_click(potlist)\n",
    "POCO.on_click(potlist)\n",
    "DUFHOLMES.on_click(potlist)\n",
    "MDUFHOLMES.on_click(potlist)\n",
    "LENJON.on_click(potlist)\n",
    "MORSE.on_click(potlist)\n",
    "POSTEL.on_click(potlist)\n",
    "TRIANG.on_click(potlist)\n",
    "CAMPMAIS.on_click(potlist)\n",
    "CAMPMENOS.on_click(potlist)\n",
    "\n",
    "\n",
    "################################BOXES###############################\n",
    "POTSBUT=wid.GridBox([POCO,TRIANG,CAMPMAIS,CAMPMENOS,OHS,DUFHOLMES,\n",
    "                MDUFHOLMES,LENJON,MORSE,POSTEL],\n",
    "    layout=wid.Layout(grid_template_columns=\"repeat(auto-fill, 180px)\"))\n",
    "POTLIST=wid.Accordion([POTSBUT])\n",
    "INFODIAG=wid.VBox([info,DIAG])\n",
    "INFO=wid.Accordion([INFODIAG])\n",
    "POTLIST.set_title(0,'Potenciais pré definidos')\n",
    "INFO.set_title(0,'Diagonalizar/Informações')\n",
    "SYSTBOX=wid.VBox([POTLIST,SYST,INFO])\n",
    "\n",
    "################################UI################################\n",
    "SYST.children[3].description=('Gerar')\n",
    "PLOT.children[6].description=('Plotar')\n",
    "PLOT.children[6].disabled=True\n",
    "INFO.selected_index=None\n",
    "\n",
    "################################TABS################################\n",
    "tab=wid.Tab(children=[SYSTBOX,PLOT])\n",
    "tab.set_title(0, 'Gerar o Sistema')\n",
    "tab.set_title(1, 'Funções de Onda')\n",
    "display(tab)"
   ]
  },
  {
   "cell_type": "markdown",
   "id": "b2e792b6-1657-44c5-8baf-1760a8c0b568",
   "metadata": {},
   "source": [
    "***\n",
    "# Unidades atômicas de Rydberg\n",
    "<details><summary>Clique aqui para mostrar</summary>\n",
    "Tabela de conversão de unidades entre o sistema de Rydberg e o MKSA, que é a base constante do SI. Cheque a fonte original mais abaixo para um tabela mais completa em inglês.\n",
    "\n",
    "Fonte da tabela: [(Departamento de Física, Universidade Rei Fahd de Petróleos e Minerais)](https://faculty.kfupm.edu.sa/phys/aanaqvi/rydberg.pdf)\n",
    "\n",
    "|Dimensão |  Sistema de Unidades Rydberg | MKSA (base do SI) | Outras equivalências|\n",
    "| :- |  :-: | :-: | :-:|\n",
    "|Comprimento | $$1=a_0$$ | $$5.2917725 \\times 10^{-11} $$ | $$\\approx 0.5291772 \\text{ Å}$$|\n",
    "|Massa| $$1=2m_e$$ | $$1.8218779\\times 10^{-30} \\text{ kg} $$| - |\n",
    "|Tempo |$$1$$| $$1 4.8377687 \\times 10^{-17} \\text{ s}$$ | $$=1/20 \\text{ fs}$$ |\n",
    "|Frequência | $$1$$ | $$ 2.0670687 \\times 10^{16} \\text{ Hz}$$ | - |\n",
    "|Velocidade| $$1$$ | $$1.0938457 \\times 10^{6} \\text{ m/s}$$| -|\n",
    "|Momento| $$1$$ | $$1.9928534 \\times 10^{-24} \\text{ kg.m/s}$$| - |\n",
    "|Energia| $$1=E_{Ryd}=e^2/(2a_0)$$ | $$2.1798741 \\times 10 ^{-18} \\text{ J}$$| $$3.605698 \\text{ eV}$$|\n",
    "|Carga | $$1=e/\\sqrt{2}$$ | $$1.1329105\\times 10^{-19} \\text{ C}$$| - |\n",
    "|Campo Elétrico |$$1$$| $$1 3.6360903 \\times 10^{11} \\text{ V/m}$$|-|\n",
    "|Potencial | $$1$$ | $$19.241363 \\text{ V}$$|-|\n",
    "\n",
    "|Constantes Úteis | Símbolo |Sistema de Unidades Rydberg | MKSA (base do SI) |\n",
    "|:-|:-:|:-:|:-|\n",
    "|Constante de Planck reduzida | $$\\hbar$$| $$1$$| $$1.05457266\\times 10 ^{-34} \\text{ J.s}$$|\n",
    "|$h= 2\\pi\\hbar$| $$h$$ | $$2\\pi$$ | $$6.6260755\\times 10^{-34} \\text{ J.s}$$|\n",
    "|Carga do elétron | $$e$$ | $$\\sqrt{2}$$| $$1.60217733\\times 10 ^{-19} \\text{ C}$$|\n",
    "|Raio de Bohr|$$a_0$$| $$1=\\hbar^2/(me^2)$$| $$5.29177249\\times 10^{-11} \\text{ m}$$|\n",
    "|Energia de Hartree| $$E_h$$|$$2=e^2/(a_0)$$ | $$4.3597482\\times 10^{-18} \\text{ J}$$|\n",
    "|Constante de estrutura fina| $$\\alpha$$| $$e^2/(\\hbar c)=1/137.0359895 $$| - |\n",
    "|Velocidade da luz | $$c$$ | $$2/\\alpha \\approx 274$$ | $$2.99792458\\times 10^{8} \\text{ m/s}$$|\n",
    "|Permeabilidade do vácuo| $$\\mu_0$$ | $$\\pi\\alpha^2\\approx 1.7 \\times 10^{-4}$$| $$4\\pi \\times 10^{-7} \\text{ H/m}$$|\n",
    "|Permissividade do vácuo| $$\\epsilon_0$$| $$1/(4\\pi)\\approx 0.08$$| $$8.854187817\\times 10^{-12} \\text{ F/m}$$|\n",
    "|Massa do elétron| $$m_e$$| $$1/2$$ |$$9.1093897 \\times 10^{-31} \\text{ kg}$$|\n",
    "|Massa do próton| $$m_p$$ | $$918.07638$$ | $$1.6726231\\times 10^{-27} kg$$|\n",
    "</details>"
   ]
  },
  {
   "cell_type": "markdown",
   "id": "99896775-43e8-4631-933f-1e5bf589bf42",
   "metadata": {
    "tags": []
   },
   "source": [
    "# Modelo Matemático\n",
    "<details><summary>Clique aqui para mostrar</summary>\n",
    "Escrevemos a equação de Schrodinger 1D independente do tempo, para um único eletron, fazendo $\\hbar^2 /(2m)=1$, já que utilizaremos o sistema de unidades atômicas de Rydberg:\n",
    "$$-\\frac{\\partial^2 \\Psi}{\\partial x^2}+V(x)=E\\Psi \\tag{1}$$\n",
    "    \n",
    "Discretizamos as derivadas parciais utilizando o método de diferenças finitas, fazendo a primeira derivada pela direita e a segunda pela esquerda para diminuir o erro:\n",
    "\n",
    "$$\\frac{\\partial \\Psi}{\\partial x} \\approx \\frac{\\Psi(x+\\Delta x)-\\Psi(x)}{\\Delta x}$$\n",
    "\n",
    "$$\\frac{\\partial \\Psi}{\\partial x} \\approx \\frac{\\Psi(x)-\\Psi(x-\\Delta x)}{\\Delta x}$$\n",
    "    \n",
    "Isso resultará em\n",
    "    \n",
    "$$\\frac{\\partial^2 \\Psi}{\\partial x^2} \\approx \\frac{\\Psi(x+\\Delta x)-2\\Psi(x)+\\Psi(x-\\Delta x)}{\\Delta x^2} \\tag{2}$$\n",
    "\n",
    "Descreveremos o sistema dentro de um intervalo que vai de $x_{min}$ até um certo valor $x_{max}$. Como o intervalo será discreto, utilizaremos um vetor posição $x$ com $N$ componentes para representá-lo. Por conveniência, mudamos a $\\color{blue}{\\text{notação com a variável }x}$ para $\\color{red}{\\text{notação com índices }i}$, tal que o vetor $x$ seja\n",
    "    \n",
    "$$x=\\color{blue}{\\begin{bmatrix}x_{min}&+&(1-1)\\Delta x\\\\ x_{min}&+&(2-1)\\Delta x \\\\ x_{min}&+& (3-1) \\Delta x \\\\\\vdots & +&\\vdots\\\\ x_{min}&+&(N-1)\\Delta x  \\end{bmatrix}}=\\color{red}{\\begin{bmatrix}x_{1}\\\\ x_{2} \\\\ x_{3}\\\\\\vdots  \\\\ x_{N}\\end{bmatrix}}$$\n",
    "\n",
    "Agora, de maneira similar, a função de onda será representada por um vetor $\\Psi$ contendo todos os valores discretos de uma função de onda unidimensional representada por $N$ pontos e com uma indexação de que vai $i=1$ até $i=N$, ou seja:\n",
    "\n",
    "$$\\Psi=\\color{blue}{\\begin{bmatrix}\\Psi(x + (1-1)\\Delta x)\\\\\\Psi(x + (2-1) \\Delta x) \\\\\\Psi( x+ (3-1) \\Delta x) \\\\\\vdots \\\\ \\Psi(x + (N-1)\\Delta x)\\end{bmatrix}}= \\color{red}{\\begin{bmatrix}\\Psi_{1}\\\\\\Psi_{2}\\\\\\Psi_3\\\\\\vdots \\\\ \\Psi_{N}\\end{bmatrix}}$$\n",
    "   \n",
    "Substituindo (2) em (1) e utilizando a notação com índices, temos:\n",
    "\n",
    "$$\\frac{-\\left(\\Psi_{i-1}-2\\Psi_{i}+\\Psi_{i+1}\\right)}{\\Delta x^2}+V_i \\Psi_i=E\\Psi_i$$\n",
    "\n",
    "Definindo $a={-1}/{\\Delta x ^2}$, tem-se\n",
    "    \n",
    "$$a\\left(\\Psi_{i-1}-2\\Psi_{i}+\\Psi_{i+1}\\right)+V_i \\Psi_i=E\\Psi_i$$\n",
    "\n",
    "Rearranjando a equação acima de uma forma conveniente, obtem-se\n",
    "    \n",
    "$$a\\Psi_{i-1}+ (V_1-2a)\\Psi_{i}+ a\\Psi_{i+1}=E\\Psi_i$$\n",
    "\n",
    "Isso pode ser reescrito como uma equação matricial da forma:\n",
    "    \n",
    "$$\\begin{matrix}\n",
    "a\\Psi_{0}&+& (V_1-2a)\\Psi_{1}&+& a\\Psi_{2}  &= & E\\Psi_1 \\\\ \n",
    "a \\Psi_{1}&+&(V_2-2a)\\Psi_{2}&+&a\\Psi_{3}& = & E\\Psi_2 \\\\ \n",
    "a \\Psi_{2}&+&(V_3-2a)\\Psi_{3}&+&a\\Psi_{4}& = & E\\Psi_3 \\\\ \n",
    "\\vdots & +& \\vdots&+& \\vdots & = &\\vdots\\\\ \n",
    "a\\Psi_{N-1}&+&(V_{N}-2a)\\Psi_{N}&+&a\\Psi_{N+1}& = & E\\Psi_{N}\n",
    "\\end{matrix}$$\n",
    "\n",
    "Note que na primeira e última equações do sistema acima, do lado esquerdo da igualdade, temos os termos $\\Psi_0$ e $\\Psi_{N+1}$, que não correspondem a nenhuma componente do nosso vetor da função de onda discreta $\\Psi$. Nós iremos utilizá-los para definir as condições de contorno (o valor da função de onda nas bordas do sistema).\n",
    "    \n",
    ">## Condições de contorno\n",
    "> Abaixo estão dois exemplos básicos de condições de contorno\n",
    ">### Fronteiras Fixas (poço infinito)\n",
    ">Nessa condição forçamos a função de onda a ser 0 nas bordas, ou seja\n",
    ">$$\\Psi(x_{min})=\\Psi(x_{max})=0$$\n",
    ">Aqui, isso será equivalente a\n",
    ">\\begin{aligned}\\Psi_0&=0 \\\\ \\Psi_{N+1}&=0\\end{aligned}\n",
    ">### Condição de contorno periódica\n",
    ">Nessa condição forçamos a função de onda no último ponto a ser igual ao valor do primeiro ponto, ou seja\n",
    ">$$\\Psi(x_{min})=\\Psi_(x_{max})$$\n",
    ">Aqui, isso será equivalente a\n",
    ">\\begin{aligned}\\Psi_{N+1}&=\\Psi_{1} \\\\ \\Psi_{0}&=\\Psi_{N}\\end{aligned}\n",
    "## Equação matricial\n",
    "    \n",
    "Aplicando a condição de contorno do poço infinito, temos:\n",
    "$$\\begin{matrix}\n",
    "0&+& \\color{blue}{(V_1-2a)}\\Psi_{1}&+& \\color{blue}a \\Psi_{2}  &= & E\\Psi_1 \\\\ \n",
    "\\color{red}a \\Psi_{1}&+&\\color{red}{(V_2-2a)}\\Psi_{2}&+&\\color{red}a\\Psi_{3}& = & E\\Psi_2 \\\\ \n",
    "\\color{orange}a \\Psi_{2}&+&\\color{orange}{(V_3-2a)}\\Psi_{3}&+&\\color{orange}a \\Psi_{4}& = & E\\Psi_3 \\\\ \n",
    "\\vdots & +& \\vdots&+& \\vdots & = &\\vdots\\\\ \n",
    "\\color{purple}a\\Psi_{N-2}&+&\\color{purple}{(V_{N-1}-2a)} \\Psi_{N-1}& +&\\color{purple}a \\Psi_{N}&= & E\\Psi_{N-1}\\\\\n",
    "\\color{green}a\\Psi_{N-1}&+&\\color{green}{(V_{N}-2a)} \\Psi_{N}&+&0& = & E\\Psi_{N}\n",
    "\\end{matrix}$$\n",
    "\n",
    "Esse sistema pode ser reescrito como uma matriz do tipo:\n",
    "$$\\begin{bmatrix}  \\color{blue}{(V_1-2a)} & \\color{blue}a & 0  & 0 & 0 & 0\\\\\n",
    "\\color{red}a & \\color{red}{(V_2-2a)} & \\color{red}a  & 0 & 0 &0 \\\\\n",
    "0&\\color{orange}a & \\color{orange}{(V_3-2a)} &  \\color{orange}a  & 0  &0  \\\\\n",
    " 0 & 0 & \\ddots & \\ddots & \\ddots & 0 \\\\\n",
    "0& 0 & 0  & \\color{purple}a & \\color{purple}{(V_{N-1}-2a)}& \\color{purple}a\\\\\n",
    "0& 0 & 0 & 0 & \\color{green}a & \\color{green}{(V_{N}-2a)} \n",
    "\\end{bmatrix} \n",
    "\\begin{bmatrix}\\Psi_{1}\\\\\\Psi_2\\\\\\Psi_3\\\\\\vdots \\\\\\Psi_{N-1}\\\\ \\Psi_{N}\\end{bmatrix}=E\\begin{bmatrix}\\Psi_{1}\\\\\\Psi_2\\\\\\Psi_3\\\\\\vdots \\\\ \\Psi_{N-1}\\\\\\Psi_{N}\\end{bmatrix}$$\n",
    "\n",
    "Isso é equivalente a um problema de autovetores e autovalores, onde a matriz quadrada de ordem $N$ acima é o operador Hamiltoniano $\\hat{H}$:\n",
    "\n",
    "$$\\hat{H}\\Psi=E\\Psi$$\n",
    "\n",
    "Podemos diagonalizá-lo para obter os autovalores e seus respectivos autovetores. Os autovetores serão vetores $\\Psi_n$ com $N$ componentes representando as respectivas funções de ondas dos estados $n$, e os autovalores $E$ serão as energias correspondentes aos respectivos estados. \n",
    "</details>\n"
   ]
  },
  {
   "cell_type": "code",
   "execution_count": null,
   "id": "3fdc748c-9b22-405c-9606-82a9583b30a2",
   "metadata": {},
   "outputs": [],
   "source": []
  }
 ],
 "metadata": {
  "hide_input": false,
  "kernelspec": {
   "display_name": "Python 3",
   "language": "python",
   "name": "python3"
  },
  "language_info": {
   "codemirror_mode": {
    "name": "ipython",
    "version": 3
   },
   "file_extension": ".py",
   "mimetype": "text/x-python",
   "name": "python",
   "nbconvert_exporter": "python",
   "pygments_lexer": "ipython3",
   "version": "3.9.5"
  },
  "toc": {
   "base_numbering": 1,
   "nav_menu": {},
   "number_sections": true,
   "sideBar": true,
   "skip_h1_title": false,
   "title_cell": "Table of Contents",
   "title_sidebar": "Contents",
   "toc_cell": false,
   "toc_position": {},
   "toc_section_display": true,
   "toc_window_display": false
  },
  "widgets": {
   "application/vnd.jupyter.widget-state+json": {
    "state": {
     "0005c70228e746c68b49da27bf51c3a4": {
      "model_module": "@jupyter-widgets/controls",
      "model_module_version": "1.5.0",
      "model_name": "AccordionModel",
      "state": {
       "_titles": {
        "0": "Diagonalizar/Informações"
       },
       "children": [
        "IPY_MODEL_d7c17b2a0c224c8c98b602bca21883da"
       ],
       "layout": "IPY_MODEL_04cf97963a1745788bad38e81a8e2ada"
      }
     },
     "00156a88e6494d14bc469c95727ed9a0": {
      "model_module": "@jupyter-widgets/base",
      "model_module_version": "1.2.0",
      "model_name": "LayoutModel",
      "state": {}
     },
     "0088f90837094ff0b2265d4b8896a415": {
      "model_module": "@jupyter-widgets/base",
      "model_module_version": "1.2.0",
      "model_name": "LayoutModel",
      "state": {}
     },
     "01449e4d19f6487393c8f2ea670cabcb": {
      "model_module": "@jupyter-widgets/base",
      "model_module_version": "1.2.0",
      "model_name": "LayoutModel",
      "state": {}
     },
     "014990c504614445983829bd8009851a": {
      "model_module": "@jupyter-widgets/controls",
      "model_module_version": "1.5.0",
      "model_name": "ButtonModel",
      "state": {
       "description": "Campo Uniforme (+)",
       "layout": "IPY_MODEL_edbdad5287b443498cd981372aab2f2c",
       "style": "IPY_MODEL_e431c72f19f04935b9bebc5b043d6960"
      }
     },
     "015d24d77dd3498d95d4a77bff7fceb5": {
      "model_module": "@jupyter-widgets/base",
      "model_module_version": "1.2.0",
      "model_name": "LayoutModel",
      "state": {}
     },
     "015e481f008b4427ada9cc3e69fd0aec": {
      "model_module": "@jupyter-widgets/controls",
      "model_module_version": "1.5.0",
      "model_name": "SliderStyleModel",
      "state": {
       "description_width": "initial"
      }
     },
     "017b89d0f99340a29bd695412b28b4eb": {
      "model_module": "@jupyter-widgets/controls",
      "model_module_version": "1.5.0",
      "model_name": "SliderStyleModel",
      "state": {
       "description_width": "initial"
      }
     },
     "017f5f98b7e04486a85888b4e3dac15c": {
      "model_module": "@jupyter-widgets/base",
      "model_module_version": "1.2.0",
      "model_name": "LayoutModel",
      "state": {}
     },
     "01812523f72440a7ae7ec68570d02e7b": {
      "model_module": "@jupyter-widgets/controls",
      "model_module_version": "1.5.0",
      "model_name": "DescriptionStyleModel",
      "state": {
       "description_width": "initial"
      }
     },
     "01d0297bf3424702a44f6095543facbd": {
      "model_module": "@jupyter-widgets/base",
      "model_module_version": "1.2.0",
      "model_name": "LayoutModel",
      "state": {}
     },
     "01d701a125c343108df33ae7e0525bdd": {
      "model_module": "@jupyter-widgets/controls",
      "model_module_version": "1.5.0",
      "model_name": "FloatRangeSliderModel",
      "state": {
       "_model_name": "FloatRangeSliderModel",
       "_view_name": "FloatRangeSliderView",
       "continuous_update": false,
       "description": "Domínio de $\\Psi(x)$: ",
       "layout": "IPY_MODEL_3070f9637be34c64bc0b2d66c40307a6",
       "max": 150,
       "min": -150,
       "readout_format": "1d",
       "style": "IPY_MODEL_8dc8d9af2fd84c5d93938948ee0b3184",
       "value": [
        -35,
        35
       ]
      }
     },
     "01f062b561fd405bbd1fd17ec048049b": {
      "model_module": "@jupyter-widgets/controls",
      "model_module_version": "1.5.0",
      "model_name": "ButtonStyleModel",
      "state": {}
     },
     "0222967432cc435daa1422e3b0f0999d": {
      "model_module": "@jupyter-widgets/base",
      "model_module_version": "1.2.0",
      "model_name": "LayoutModel",
      "state": {}
     },
     "0238a40ec75141369f27a0393983af87": {
      "model_module": "@jupyter-widgets/controls",
      "model_module_version": "1.5.0",
      "model_name": "DescriptionStyleModel",
      "state": {
       "description_width": ""
      }
     },
     "023e239575eb460b8fce1ff6172e0f5c": {
      "model_module": "@jupyter-widgets/controls",
      "model_module_version": "1.5.0",
      "model_name": "FloatRangeSliderModel",
      "state": {
       "_model_name": "FloatRangeSliderModel",
       "_view_name": "FloatRangeSliderView",
       "description": "Limites do eixo y (eV):",
       "layout": "IPY_MODEL_27b89221c50646e7ad6fa7dd3ba9ef03",
       "max": 10,
       "min": -10,
       "readout_format": ".1f",
       "step": 0.005,
       "style": "IPY_MODEL_469f215393054b40b816c3ae5e24e2fa",
       "value": [
        -2,
        2
       ]
      }
     },
     "0250625a6506423fb5e5cc645b555af0": {
      "model_module": "@jupyter-widgets/controls",
      "model_module_version": "1.5.0",
      "model_name": "ButtonStyleModel",
      "state": {}
     },
     "02696da36bcc49feb2ebf9bc4265eebe": {
      "model_module": "@jupyter-widgets/controls",
      "model_module_version": "1.5.0",
      "model_name": "ButtonModel",
      "state": {
       "description": "Pöschl–Teller",
       "layout": "IPY_MODEL_47be79e4395f41a8834039b0adb026ee",
       "style": "IPY_MODEL_6015a19d9841449599536efe9c5e6aa6"
      }
     },
     "02c254bdac6e40df82d1e91af1938441": {
      "model_module": "@jupyter-widgets/controls",
      "model_module_version": "1.5.0",
      "model_name": "VBoxModel",
      "state": {
       "children": [
        "IPY_MODEL_5261f957dcf74f25943717287f84bac7",
        "IPY_MODEL_79035154365f4df9a546cb0303493942",
        "IPY_MODEL_abdf8b69b37f4011888d7a5a1b71c5a0"
       ],
       "layout": "IPY_MODEL_6b034fe291654d92afc9326100c533ab"
      }
     },
     "02c866dc15d945e9ae31e6fc009f6131": {
      "model_module": "@jupyter-widgets/controls",
      "model_module_version": "1.5.0",
      "model_name": "FloatRangeSliderModel",
      "state": {
       "_model_name": "FloatRangeSliderModel",
       "_view_name": "FloatRangeSliderView",
       "description": "Limites do eixo y (eV):",
       "layout": "IPY_MODEL_68c51c051cb44ff8abf5058b8b77093c",
       "max": 10,
       "min": -10,
       "readout_format": ".1f",
       "step": 0.005,
       "style": "IPY_MODEL_23669c35a06a492d9734fc1ba7144a57",
       "value": [
        -2,
        2
       ]
      }
     },
     "02f2c6849a524a849ee97aa5d117a776": {
      "model_module": "@jupyter-widgets/controls",
      "model_module_version": "1.5.0",
      "model_name": "ButtonStyleModel",
      "state": {}
     },
     "0383828af7e24d7ba68b886c33f490ff": {
      "model_module": "@jupyter-widgets/controls",
      "model_module_version": "1.5.0",
      "model_name": "LabelModel",
      "state": {
       "layout": "IPY_MODEL_babcd2279f1643baa5ae8dc958df234f",
       "style": "IPY_MODEL_7719bc3ed9dc4224a897b0840ce94b41",
       "value": "Número de pontos ="
      }
     },
     "038fca84eb5544deace4dd12381925da": {
      "model_module": "@jupyter-widgets/base",
      "model_module_version": "1.2.0",
      "model_name": "LayoutModel",
      "state": {}
     },
     "03e525dfc1834648820b3e11ea1d8321": {
      "model_module": "@jupyter-widgets/controls",
      "model_module_version": "1.5.0",
      "model_name": "VBoxModel",
      "state": {
       "children": [
        "IPY_MODEL_e552d80ba63d4a698339d7bf7166e4ac",
        "IPY_MODEL_86ea22c616a545349b5659f1d2c8e68b"
       ],
       "layout": "IPY_MODEL_61da5f9f9d8d4bbda777ed29dee91185"
      }
     },
     "03f925d76564423b9610e7f3952b181a": {
      "model_module": "@jupyter-widgets/controls",
      "model_module_version": "1.5.0",
      "model_name": "SliderStyleModel",
      "state": {
       "description_width": "initial"
      }
     },
     "04053d381d044cebb1f18934742c2535": {
      "model_module": "@jupyter-widgets/controls",
      "model_module_version": "1.5.0",
      "model_name": "VBoxModel",
      "state": {
       "_dom_classes": [
        "widget-interact"
       ],
       "children": [
        "IPY_MODEL_6c62f61126a64d398dca30870a5f0671",
        "IPY_MODEL_7a11e0b538fb46adbd8977e02fd96b35",
        "IPY_MODEL_797e830189af4e9ea410b216df831e23",
        "IPY_MODEL_7c5b4388edb449fea249c7d883c16e0e",
        "IPY_MODEL_4937d80b4a6f4d8b915366cdd5f503d3",
        "IPY_MODEL_fc7109835f374c8e90f7a1a2fb2455cc",
        "IPY_MODEL_569e6358e0cf4ae29e8283c2ed176f69",
        "IPY_MODEL_30fee3bee72a46bba84d555e2df91d78"
       ],
       "layout": "IPY_MODEL_5dc77e3ba5854d1997701e07e9fac424"
      }
     },
     "0422fc9e97034f00ac642c27dd5431de": {
      "model_module": "@jupyter-widgets/controls",
      "model_module_version": "1.5.0",
      "model_name": "LabelModel",
      "state": {
       "layout": "IPY_MODEL_5451e5d0129a4bcb8501ca28f88f9367",
       "style": "IPY_MODEL_0fa655d69dc647a28ac24498afcdc4ca",
       "value": "V(x)[min,max] (eV) ="
      }
     },
     "043846ceeb854190b84543e11d5ec57b": {
      "model_module": "@jupyter-widgets/controls",
      "model_module_version": "1.5.0",
      "model_name": "ButtonModel",
      "state": {
       "description": "Pöschl–Teller",
       "layout": "IPY_MODEL_941cfc0af7f34653a3d639fc59bc1e84",
       "style": "IPY_MODEL_7c4e7cfa04da4c56b376a8152a8356d1"
      }
     },
     "04631146cb524a9a9efd9116ab8e9826": {
      "model_module": "@jupyter-widgets/controls",
      "model_module_version": "1.5.0",
      "model_name": "ButtonStyleModel",
      "state": {}
     },
     "047f5219eb024eda9cd435efdf5a57aa": {
      "model_module": "@jupyter-widgets/controls",
      "model_module_version": "1.5.0",
      "model_name": "ButtonModel",
      "state": {
       "description": "Gerar",
       "layout": "IPY_MODEL_45d8d1de56aa44a0bd85c95233ebb62c",
       "style": "IPY_MODEL_747c127ea6184c6694524ce54f8d39b3"
      }
     },
     "0495128a9e77424c95fc5948930ef6be": {
      "model_module": "@jupyter-widgets/controls",
      "model_module_version": "1.5.0",
      "model_name": "IntRangeSliderModel",
      "state": {
       "_model_name": "IntRangeSliderModel",
       "_view_name": "IntRangeSliderView",
       "continuous_update": false,
       "description": "Plotar estados:",
       "layout": "IPY_MODEL_3070f9637be34c64bc0b2d66c40307a6",
       "max": 20,
       "style": "IPY_MODEL_88c08a165ef146859e5477b89ba18496",
       "value": [
        0,
        10
       ]
      }
     },
     "04ab4548002e428b926af20c0ca2176a": {
      "model_module": "@jupyter-widgets/controls",
      "model_module_version": "1.5.0",
      "model_name": "ButtonModel",
      "state": {
       "description": "Morse",
       "layout": "IPY_MODEL_67d83d0a6deb434b882a6b1fe16b534c",
       "style": "IPY_MODEL_d9e34ccc0e2340e1b45e51e8a1897909"
      }
     },
     "04cf97963a1745788bad38e81a8e2ada": {
      "model_module": "@jupyter-widgets/base",
      "model_module_version": "1.2.0",
      "model_name": "LayoutModel",
      "state": {}
     },
     "04dc6b977b38446fac46ddc8621a24ec": {
      "model_module": "@jupyter-widgets/base",
      "model_module_version": "1.2.0",
      "model_name": "LayoutModel",
      "state": {}
     },
     "04de399a3b5645399d37a6b53ae7f72f": {
      "model_module": "@jupyter-widgets/base",
      "model_module_version": "1.2.0",
      "model_name": "LayoutModel",
      "state": {}
     },
     "04e9e50a1a4d46b4b1f2336d54d67c71": {
      "model_module": "@jupyter-widgets/controls",
      "model_module_version": "1.5.0",
      "model_name": "AccordionModel",
      "state": {
       "_titles": {
        "0": "Potenciais pré definidos"
       },
       "children": [
        "IPY_MODEL_4e9722c1399941c8b428f11782540e73"
       ],
       "layout": "IPY_MODEL_9d9cd92cf15449a0a776b436f95a84d6"
      }
     },
     "0514b15a728e4112a9cb9d8dabaada84": {
      "model_module": "@jupyter-widgets/base",
      "model_module_version": "1.2.0",
      "model_name": "LayoutModel",
      "state": {}
     },
     "051deb2cc9754894a3f3e6cf24d262af": {
      "model_module": "@jupyter-widgets/controls",
      "model_module_version": "1.5.0",
      "model_name": "DescriptionStyleModel",
      "state": {
       "description_width": ""
      }
     },
     "052ab31b759d4a74b94d1a3e32131049": {
      "model_module": "@jupyter-widgets/controls",
      "model_module_version": "1.5.0",
      "model_name": "SliderStyleModel",
      "state": {
       "description_width": "initial"
      }
     },
     "05380a0480254dd48a88203612c730dd": {
      "model_module": "@jupyter-widgets/base",
      "model_module_version": "1.2.0",
      "model_name": "LayoutModel",
      "state": {}
     },
     "053e9415effc4098b6f3d75f56fb662d": {
      "model_module": "@jupyter-widgets/base",
      "model_module_version": "1.2.0",
      "model_name": "LayoutModel",
      "state": {}
     },
     "056be8f3d15d48afa521043e92b1bafb": {
      "model_module": "@jupyter-widgets/controls",
      "model_module_version": "1.5.0",
      "model_name": "FloatRangeSliderModel",
      "state": {
       "_model_name": "FloatRangeSliderModel",
       "_view_name": "FloatRangeSliderView",
       "description": "Limites do eixo y (eV):",
       "layout": "IPY_MODEL_7a4971e7f39242099a240552f9ec5a68",
       "max": 10,
       "min": -10,
       "readout_format": ".1f",
       "step": 0.005,
       "style": "IPY_MODEL_6ffedb5b5d3647a3a42a2a2dba096a36",
       "value": [
        -2,
        2
       ]
      }
     },
     "0578d7003e204dc29012d89d03e5ba63": {
      "model_module": "@jupyter-widgets/controls",
      "model_module_version": "1.5.0",
      "model_name": "VBoxModel",
      "state": {
       "children": [
        "IPY_MODEL_4bcb2d57d2164accbd9ec34f1df73a24",
        "IPY_MODEL_2f3a8211e98a4dc68d050e33d2dfc9ce",
        "IPY_MODEL_d36463492a364c46ba65d090564e3743"
       ],
       "layout": "IPY_MODEL_15e049def7d44190b7d6bfed4bf75189"
      }
     },
     "0591e4736aeb4f2da27bdd53298b06c4": {
      "model_module": "@jupyter-widgets/controls",
      "model_module_version": "1.5.0",
      "model_name": "IntSliderModel",
      "state": {
       "continuous_update": false,
       "description": "Número de pontos: ",
       "layout": "IPY_MODEL_3070f9637be34c64bc0b2d66c40307a6",
       "max": 1050,
       "min": 50,
       "step": 10,
       "style": "IPY_MODEL_37f2239d5a294a919714bc074dcc5608",
       "value": 550
      }
     },
     "05a76d9fb7484dd686d67ba96b6e4c74": {
      "model_module": "@jupyter-widgets/controls",
      "model_module_version": "1.5.0",
      "model_name": "ButtonModel",
      "state": {
       "description": "Campo Uniforme (-)",
       "layout": "IPY_MODEL_175de46ef98e4faba1958b0cb0f0531a",
       "style": "IPY_MODEL_359a8440e7b44e3082d108ed65169df9"
      }
     },
     "05a8ad8bd68b4b2fae9d99451dd042ca": {
      "model_module": "@jupyter-widgets/controls",
      "model_module_version": "1.5.0",
      "model_name": "LabelModel",
      "state": {
       "layout": "IPY_MODEL_ea41fffbd10a40cfbcd2bf632b1f3577",
       "style": "IPY_MODEL_7f3bf41fbf1243ef8520ef738dea8413",
       "value": " 550"
      }
     },
     "05bbb788abaf4b418f0f9055fb7eba97": {
      "model_module": "@jupyter-widgets/base",
      "model_module_version": "1.2.0",
      "model_name": "LayoutModel",
      "state": {
       "grid_template_columns": "repeat(auto-fill, 180px)"
      }
     },
     "05e1971dab7449fcab5d15ea408a6b02": {
      "model_module": "@jupyter-widgets/base",
      "model_module_version": "1.2.0",
      "model_name": "LayoutModel",
      "state": {}
     },
     "0651b1e0f5ae4b2abafad16ecc9c6331": {
      "model_module": "@jupyter-widgets/controls",
      "model_module_version": "1.5.0",
      "model_name": "ButtonModel",
      "state": {
       "description": "Poço Infinito",
       "layout": "IPY_MODEL_9b737914b9f848c7be7ea12ca54c4fd6",
       "style": "IPY_MODEL_ffcf3d9cb8424e70a60805f7da210640"
      }
     },
     "06c07407faf746f98332ab593121fadf": {
      "model_module": "@jupyter-widgets/controls",
      "model_module_version": "1.5.0",
      "model_name": "ButtonModel",
      "state": {
       "description": "Campo Uniforme (+)",
       "layout": "IPY_MODEL_91fb8a24e39d4b6891a371ca5f33ef65",
       "style": "IPY_MODEL_b0f8b2b6fd9d4e82a40e2e19c4e5f097"
      }
     },
     "06ee5d8292e347078e2dc32c88e4b657": {
      "model_module": "@jupyter-widgets/base",
      "model_module_version": "1.2.0",
      "model_name": "LayoutModel",
      "state": {}
     },
     "06f78e7a71324a4eaf2fcc4aebb7b753": {
      "model_module": "@jupyter-widgets/base",
      "model_module_version": "1.2.0",
      "model_name": "LayoutModel",
      "state": {}
     },
     "071f4922ce2c43e2afe2d65b32d0a885": {
      "model_module": "@jupyter-widgets/base",
      "model_module_version": "1.2.0",
      "model_name": "LayoutModel",
      "state": {}
     },
     "0723f97034584809a7144562430d1719": {
      "model_module": "@jupyter-widgets/base",
      "model_module_version": "1.2.0",
      "model_name": "LayoutModel",
      "state": {}
     },
     "075208ce89eb4dd78dfa652996e40f10": {
      "model_module": "@jupyter-widgets/base",
      "model_module_version": "1.2.0",
      "model_name": "LayoutModel",
      "state": {}
     },
     "0788ddd0f22948518ab9480910ca7d10": {
      "model_module": "@jupyter-widgets/base",
      "model_module_version": "1.2.0",
      "model_name": "LayoutModel",
      "state": {}
     },
     "07935bfc0e554b79bc626d96cada56af": {
      "model_module": "@jupyter-widgets/base",
      "model_module_version": "1.2.0",
      "model_name": "LayoutModel",
      "state": {
       "grid_template_columns": "repeat(auto-fill, 180px)"
      }
     },
     "0795927b44f74f18831d82de7caf84b2": {
      "model_module": "@jupyter-widgets/controls",
      "model_module_version": "1.5.0",
      "model_name": "SliderStyleModel",
      "state": {
       "description_width": "initial"
      }
     },
     "07e26e2b2e3240a5abe3a2b5b6df64f8": {
      "model_module": "@jupyter-widgets/controls",
      "model_module_version": "1.5.0",
      "model_name": "DescriptionStyleModel",
      "state": {
       "description_width": ""
      }
     },
     "08085747926c4f5e8be3eda88b20eb7c": {
      "model_module": "@jupyter-widgets/controls",
      "model_module_version": "1.5.0",
      "model_name": "LabelModel",
      "state": {
       "layout": "IPY_MODEL_6c033dfc4fde4b44b22f04bda26b9b9e",
       "style": "IPY_MODEL_051deb2cc9754894a3f3e6cf24d262af",
       "value": " 70.00"
      }
     },
     "081ba2439ee3442da3f5a743558fadb2": {
      "model_module": "@jupyter-widgets/base",
      "model_module_version": "1.2.0",
      "model_name": "LayoutModel",
      "state": {}
     },
     "0833d26c004843198f8ec4f53b9e0cc8": {
      "model_module": "@jupyter-widgets/base",
      "model_module_version": "1.2.0",
      "model_name": "LayoutModel",
      "state": {
       "grid_template_columns": "repeat(2, 250px)"
      }
     },
     "089cecc95a5e4781a106904d48a07677": {
      "model_module": "@jupyter-widgets/controls",
      "model_module_version": "1.5.0",
      "model_name": "DescriptionStyleModel",
      "state": {
       "description_width": ""
      }
     },
     "08ccb240de264ed28a94dcda31f24d19": {
      "model_module": "@jupyter-widgets/controls",
      "model_module_version": "1.5.0",
      "model_name": "ButtonModel",
      "state": {
       "description": "Duffing Holmes (+)",
       "layout": "IPY_MODEL_a9784f8339d9433a90e3cddbfd09c8b1",
       "style": "IPY_MODEL_d34fa29b08ea489abb521ba158f93510"
      }
     },
     "08d009ff353649859f6dd65774069320": {
      "model_module": "@jupyter-widgets/controls",
      "model_module_version": "1.5.0",
      "model_name": "SliderStyleModel",
      "state": {
       "description_width": "initial"
      }
     },
     "08fdbe8f524640d497ef455ccc44b442": {
      "model_module": "@jupyter-widgets/base",
      "model_module_version": "1.2.0",
      "model_name": "LayoutModel",
      "state": {}
     },
     "09040e383f5d4e24ba738324ee90812f": {
      "model_module": "@jupyter-widgets/base",
      "model_module_version": "1.2.0",
      "model_name": "LayoutModel",
      "state": {}
     },
     "0920ee29b2f1446f84e8f979e13bbadc": {
      "model_module": "@jupyter-widgets/controls",
      "model_module_version": "1.5.0",
      "model_name": "DescriptionStyleModel",
      "state": {
       "description_width": ""
      }
     },
     "092f147470094308a596e1f70c9a83b6": {
      "model_module": "@jupyter-widgets/controls",
      "model_module_version": "1.5.0",
      "model_name": "ButtonModel",
      "state": {
       "description": "Morse",
       "layout": "IPY_MODEL_fc59830df10648128ef4d6515cfc2c27",
       "style": "IPY_MODEL_8670eb0ef1244ed3b089498816f0528e"
      }
     },
     "09542434f3154bba9bf7bd76bc927c0f": {
      "model_module": "@jupyter-widgets/controls",
      "model_module_version": "1.5.0",
      "model_name": "DescriptionStyleModel",
      "state": {
       "description_width": ""
      }
     },
     "097ef6957f26495183c2a7deee08efb9": {
      "model_module": "@jupyter-widgets/controls",
      "model_module_version": "1.5.0",
      "model_name": "ButtonStyleModel",
      "state": {}
     },
     "098961e075834961a50e6789ef8fa551": {
      "model_module": "@jupyter-widgets/base",
      "model_module_version": "1.2.0",
      "model_name": "LayoutModel",
      "state": {}
     },
     "09c8a64a758347db9810cea71dec55fd": {
      "model_module": "@jupyter-widgets/controls",
      "model_module_version": "1.5.0",
      "model_name": "ButtonModel",
      "state": {
       "description": "Gerar",
       "layout": "IPY_MODEL_40692dd00aaf45b2bb9ddb4d8c29dc30",
       "style": "IPY_MODEL_77ffd317802249adad5ce5b843abbe90"
      }
     },
     "09c93ae1bc234226970321849da9b9ec": {
      "model_module": "@jupyter-widgets/controls",
      "model_module_version": "1.5.0",
      "model_name": "ButtonModel",
      "state": {
       "description": "Poço Triangular",
       "layout": "IPY_MODEL_0c65eb3ad9ea4716b387286b9632bc90",
       "style": "IPY_MODEL_0ea8a5da8c00478dbc51e9a720ee9231"
      }
     },
     "09d0476fd13c4e86bb800dd4eb66dd89": {
      "model_module": "@jupyter-widgets/controls",
      "model_module_version": "1.5.0",
      "model_name": "ButtonModel",
      "state": {
       "description": "Gerar",
       "layout": "IPY_MODEL_126d51e365e3455bba890d608097725b",
       "style": "IPY_MODEL_4aff6a572a32409f9aa592f9fbe7c366"
      }
     },
     "0a0174494aa240699dc93afd4c931398": {
      "model_module": "@jupyter-widgets/base",
      "model_module_version": "1.2.0",
      "model_name": "LayoutModel",
      "state": {}
     },
     "0aa52bd00274437dbe5388717a019d08": {
      "model_module": "@jupyter-widgets/controls",
      "model_module_version": "1.5.0",
      "model_name": "LabelModel",
      "state": {
       "layout": "IPY_MODEL_48344a8b9dfb47c38bc602b607948858",
       "style": "IPY_MODEL_cdc395223a0042ae9655951141da58a5",
       "value": "V(x)[min,max] (eV) ="
      }
     },
     "0ab644ff73674870a8837bd49cb2e16d": {
      "model_module": "@jupyter-widgets/controls",
      "model_module_version": "1.5.0",
      "model_name": "AccordionModel",
      "state": {
       "_titles": {
        "0": "Potenciais pré definidos"
       },
       "children": [
        "IPY_MODEL_ecc4c730d6d44172ae21d85d03d4106f"
       ],
       "layout": "IPY_MODEL_b7ce5f6abe1a4d0ca15c00caaee5ad05"
      }
     },
     "0abc091884ff422482e9d23d620554a6": {
      "model_module": "@jupyter-widgets/controls",
      "model_module_version": "1.5.0",
      "model_name": "ButtonStyleModel",
      "state": {}
     },
     "0ac893c3ca2f44889a683d5579a45f95": {
      "model_module": "@jupyter-widgets/controls",
      "model_module_version": "1.5.0",
      "model_name": "FloatRangeSliderModel",
      "state": {
       "_model_name": "FloatRangeSliderModel",
       "_view_name": "FloatRangeSliderView",
       "continuous_update": false,
       "description": "Domínio de $\\Psi(x)$: ",
       "layout": "IPY_MODEL_16010a52e9f5434c96eff916c5d6459a",
       "max": 150,
       "min": -150,
       "readout_format": "1d",
       "style": "IPY_MODEL_f51af8735669419997836fc76b3a9caf",
       "value": [
        -35,
        35
       ]
      }
     },
     "0aeef3a7b60d46cbb1c1b7e5bc5655a5": {
      "model_module": "@jupyter-widgets/base",
      "model_module_version": "1.2.0",
      "model_name": "LayoutModel",
      "state": {}
     },
     "0af355f0852b409a911a4a91599999ff": {
      "model_module": "@jupyter-widgets/controls",
      "model_module_version": "1.5.0",
      "model_name": "ButtonStyleModel",
      "state": {}
     },
     "0b1fa5d336fd4ba0ae433502c9c823b7": {
      "model_module": "@jupyter-widgets/controls",
      "model_module_version": "1.5.0",
      "model_name": "LabelModel",
      "state": {
       "layout": "IPY_MODEL_a0c10da7557846a09b02b6dfb50766ff",
       "style": "IPY_MODEL_60b3fbda39ea41ee8e3c8bb452f0a386",
       "value": "Expressão V(x) ="
      }
     },
     "0b8278a428e64bfc96cd8d246aa48d7b": {
      "model_module": "@jupyter-widgets/controls",
      "model_module_version": "1.5.0",
      "model_name": "DescriptionStyleModel",
      "state": {
       "description_width": ""
      }
     },
     "0b86d40beb894aea9c55a58e6ebc2f93": {
      "model_module": "@jupyter-widgets/controls",
      "model_module_version": "1.5.0",
      "model_name": "GridBoxModel",
      "state": {
       "children": [
        "IPY_MODEL_1cb1590f4a364faf97f9e46c9cb8b7c0",
        "IPY_MODEL_c67a3cd244474d2aae9ed125b93b935f",
        "IPY_MODEL_e3e26869156c41d8bc3acfd0665e98d7",
        "IPY_MODEL_ce7e42da90cf4d828ad0ead80c0767d1",
        "IPY_MODEL_6ca38e42a4e34a8abc1a89e4d704870d",
        "IPY_MODEL_78b536bf9198488088444c8ab378036a",
        "IPY_MODEL_e82dc4e0fd1a4f489e3fd2547cc2999d",
        "IPY_MODEL_92d3ddca6b464ec8990f5a353346d991",
        "IPY_MODEL_04ab4548002e428b926af20c0ca2176a",
        "IPY_MODEL_952fb33bfa404c0387461c8bb34cd6fe"
       ],
       "layout": "IPY_MODEL_f96cac98a77f4495a9ac890a28de24d5"
      }
     },
     "0bd0b30d1db94d188391f5b3a3cedfac": {
      "model_module": "@jupyter-widgets/base",
      "model_module_version": "1.2.0",
      "model_name": "LayoutModel",
      "state": {}
     },
     "0c03497bba9b4cb6ac865791ac857023": {
      "model_module": "@jupyter-widgets/base",
      "model_module_version": "1.2.0",
      "model_name": "LayoutModel",
      "state": {}
     },
     "0c3384a2f8ea4ec7b7889b363186bef2": {
      "model_module": "@jupyter-widgets/controls",
      "model_module_version": "1.5.0",
      "model_name": "ButtonStyleModel",
      "state": {}
     },
     "0c4372792477405a8a992d608d0a65e2": {
      "model_module": "@jupyter-widgets/base",
      "model_module_version": "1.2.0",
      "model_name": "LayoutModel",
      "state": {}
     },
     "0c5918f7f09940b0aec0f424e1e916de": {
      "model_module": "@jupyter-widgets/base",
      "model_module_version": "1.2.0",
      "model_name": "LayoutModel",
      "state": {}
     },
     "0c5ef7717f3f4679a7dce35f41371589": {
      "model_module": "@jupyter-widgets/base",
      "model_module_version": "1.2.0",
      "model_name": "LayoutModel",
      "state": {}
     },
     "0c65eb3ad9ea4716b387286b9632bc90": {
      "model_module": "@jupyter-widgets/base",
      "model_module_version": "1.2.0",
      "model_name": "LayoutModel",
      "state": {}
     },
     "0c6b9ab12b8340989c3806f138d54b18": {
      "model_module": "@jupyter-widgets/controls",
      "model_module_version": "1.5.0",
      "model_name": "DescriptionStyleModel",
      "state": {
       "description_width": "initial"
      }
     },
     "0cc32369f7ab4565b38158f06bd55896": {
      "model_module": "@jupyter-widgets/controls",
      "model_module_version": "1.5.0",
      "model_name": "ButtonModel",
      "state": {
       "description": "Plotar",
       "disabled": true,
       "layout": "IPY_MODEL_f83ad3935d3347da977a0ec5dadce019",
       "style": "IPY_MODEL_82b434f4e434477eae1d2051cbb16e1c"
      }
     },
     "0cf8ce7334404e88b59ea36aa8001ba7": {
      "model_module": "@jupyter-widgets/controls",
      "model_module_version": "1.5.0",
      "model_name": "ButtonStyleModel",
      "state": {}
     },
     "0cfeb67118804a3da409baaef2ca41b1": {
      "model_module": "@jupyter-widgets/controls",
      "model_module_version": "1.5.0",
      "model_name": "ButtonModel",
      "state": {
       "description": "Poço Triangular",
       "layout": "IPY_MODEL_19eeaf7b7a75478d951deb47794f6dd3",
       "style": "IPY_MODEL_b8f34f0d0f8245aeb246550b4bd256ae"
      }
     },
     "0d140b9c45644a2a9e9a53d2dcf3af89": {
      "model_module": "@jupyter-widgets/controls",
      "model_module_version": "1.5.0",
      "model_name": "ButtonStyleModel",
      "state": {}
     },
     "0d22095f517f4801a1ea7d196ff36510": {
      "model_module": "@jupyter-widgets/base",
      "model_module_version": "1.2.0",
      "model_name": "LayoutModel",
      "state": {}
     },
     "0d2c5ade0c494fc98f6bc419362870e7": {
      "model_module": "@jupyter-widgets/controls",
      "model_module_version": "1.5.0",
      "model_name": "DropdownModel",
      "state": {
       "_options_labels": [
        "densidades de probabilidades",
        "funções de onda (parte real, +)",
        "funções de onda (parte imaginária)"
       ],
       "description": "Plotar as",
       "index": 0,
       "layout": "IPY_MODEL_58dbe06d91f74247a17621aa8c46bbaf",
       "style": "IPY_MODEL_4593eaeb58c1421dbd2c0f3934125bf9"
      }
     },
     "0d8e73af3e71455bb6a3b41f9f417b07": {
      "model_module": "@jupyter-widgets/controls",
      "model_module_version": "1.5.0",
      "model_name": "SliderStyleModel",
      "state": {
       "description_width": "initial"
      }
     },
     "0d95b50e8de44bfebd19fdedc9b61b98": {
      "model_module": "@jupyter-widgets/controls",
      "model_module_version": "1.5.0",
      "model_name": "DescriptionStyleModel",
      "state": {
       "description_width": ""
      }
     },
     "0db302cdb17846929485bd57555c229d": {
      "model_module": "@jupyter-widgets/base",
      "model_module_version": "1.2.0",
      "model_name": "LayoutModel",
      "state": {}
     },
     "0dd94cdcbb084d42b7f4cf02aaa79719": {
      "model_module": "jupyter-matplotlib",
      "model_module_version": "^0.9.0",
      "model_name": "ToolbarModel",
      "state": {
       "layout": "IPY_MODEL_c545c71f16df47278635f27a6b5b2d3d",
       "toolitems": [
        [
         "Home",
         "Reset original view",
         "home",
         "home"
        ],
        [
         "Back",
         "Back to previous view",
         "arrow-left",
         "back"
        ],
        [
         "Forward",
         "Forward to next view",
         "arrow-right",
         "forward"
        ],
        [
         "Pan",
         "Left button pans, Right button zooms\nx/y fixes axis, CTRL fixes aspect",
         "arrows",
         "pan"
        ],
        [
         "Zoom",
         "Zoom to rectangle\nx/y fixes axis, CTRL fixes aspect",
         "square-o",
         "zoom"
        ],
        [
         "Download",
         "Download plot",
         "floppy-o",
         "save_figure"
        ]
       ]
      }
     },
     "0dfa7f5a58e840fbbf749f48c689912a": {
      "model_module": "@jupyter-widgets/base",
      "model_module_version": "1.2.0",
      "model_name": "LayoutModel",
      "state": {}
     },
     "0e47aef2e13445f19d7e6bb8d550e3cd": {
      "model_module": "@jupyter-widgets/controls",
      "model_module_version": "1.5.0",
      "model_name": "SliderStyleModel",
      "state": {
       "description_width": "initial"
      }
     },
     "0e4aee07e4ad4cdaa78433d9667bfef0": {
      "model_module": "@jupyter-widgets/output",
      "model_module_version": "1.0.0",
      "model_name": "OutputModel",
      "state": {
       "layout": "IPY_MODEL_9559e9d6aeb747558ee1c936eed2a46a"
      }
     },
     "0e6658ec0ad94238a2001e8c71f56e41": {
      "model_module": "@jupyter-widgets/controls",
      "model_module_version": "1.5.0",
      "model_name": "ButtonModel",
      "state": {
       "description": "Lennard Jones",
       "layout": "IPY_MODEL_9400a8deae354a63afd8f6ffb236f70b",
       "style": "IPY_MODEL_86655dbb01134a4f9aeea7765976cecf"
      }
     },
     "0e701b4787ee447985737f2928b4cd62": {
      "model_module": "@jupyter-widgets/controls",
      "model_module_version": "1.5.0",
      "model_name": "GridBoxModel",
      "state": {
       "children": [
        "IPY_MODEL_5f3d6888dd4344bbb03c1c1d1b9fb2e1",
        "IPY_MODEL_571f1743efd248f0a9cfa2dcc86c488a",
        "IPY_MODEL_7dd69c7134764d9799bb98704c8d1398",
        "IPY_MODEL_6fc4c1a4d5ed4b1e960ffc123cd21e33",
        "IPY_MODEL_649cca63c60c4732b5219621e25fa22e",
        "IPY_MODEL_bef50b6bc4d74057815ea3eaa8959611",
        "IPY_MODEL_cae2477a85e546bb94f37985e15bccf7",
        "IPY_MODEL_a2b8381e7d004201a09937cbbe448c95",
        "IPY_MODEL_568d6933ceb64fa98e6ef71e48d91fb0",
        "IPY_MODEL_bc057036098947bb9cdf3640cbcaeb18"
       ],
       "layout": "IPY_MODEL_0833d26c004843198f8ec4f53b9e0cc8"
      }
     },
     "0e7324bd7577409a896e5ee41d391124": {
      "model_module": "@jupyter-widgets/controls",
      "model_module_version": "1.5.0",
      "model_name": "DescriptionStyleModel",
      "state": {
       "description_width": ""
      }
     },
     "0e8ef0822f154cf9a767c81a4b8e614f": {
      "model_module": "@jupyter-widgets/controls",
      "model_module_version": "1.5.0",
      "model_name": "VBoxModel",
      "state": {
       "_dom_classes": [
        "widget-interact"
       ],
       "children": [
        "IPY_MODEL_a5653145333a46ab8e6b5aaa86a9373a",
        "IPY_MODEL_cb32f33a7dc04a8cbfc4037ea30a4e24",
        "IPY_MODEL_59108ef91c824c9a9d81a3d3da1a436f",
        "IPY_MODEL_047f5219eb024eda9cd435efdf5a57aa",
        "IPY_MODEL_d4c32f84fd994edf8b89754a33603a03"
       ],
       "layout": "IPY_MODEL_ff9dec6de8c14964aa36328258596b51"
      }
     },
     "0ea8a5da8c00478dbc51e9a720ee9231": {
      "model_module": "@jupyter-widgets/controls",
      "model_module_version": "1.5.0",
      "model_name": "ButtonStyleModel",
      "state": {}
     },
     "0eaf3c5987cf4ac48b28b53b99b38357": {
      "model_module": "@jupyter-widgets/controls",
      "model_module_version": "1.5.0",
      "model_name": "DescriptionStyleModel",
      "state": {
       "description_width": ""
      }
     },
     "0ec362788bec41618a7e65117c576cba": {
      "model_module": "@jupyter-widgets/controls",
      "model_module_version": "1.5.0",
      "model_name": "FloatRangeSliderModel",
      "state": {
       "_model_name": "FloatRangeSliderModel",
       "_view_name": "FloatRangeSliderView",
       "continuous_update": false,
       "description": "Domínio de $\\Psi(x)$: ",
       "layout": "IPY_MODEL_d838689213c84e6095433f5b4242ef15",
       "max": 150,
       "min": -150,
       "readout_format": "1d",
       "style": "IPY_MODEL_017b89d0f99340a29bd695412b28b4eb",
       "value": [
        -35,
        35
       ]
      }
     },
     "0ed02e80cd56472c8d25993f6fd6d9fc": {
      "model_module": "@jupyter-widgets/base",
      "model_module_version": "1.2.0",
      "model_name": "LayoutModel",
      "state": {}
     },
     "0ed238805a7b435e89a2a1c7979ed1e2": {
      "model_module": "@jupyter-widgets/controls",
      "model_module_version": "1.5.0",
      "model_name": "SliderStyleModel",
      "state": {
       "description_width": "initial"
      }
     },
     "0f21252e9b094ad0b9e06617f079299b": {
      "model_module": "@jupyter-widgets/base",
      "model_module_version": "1.2.0",
      "model_name": "LayoutModel",
      "state": {}
     },
     "0f393af10a50414d87200364bbe45675": {
      "model_module": "@jupyter-widgets/controls",
      "model_module_version": "1.5.0",
      "model_name": "SliderStyleModel",
      "state": {
       "description_width": "initial"
      }
     },
     "0f5f060d3d2445b890cb6f77a4b1110e": {
      "model_module": "@jupyter-widgets/controls",
      "model_module_version": "1.5.0",
      "model_name": "GridBoxModel",
      "state": {
       "children": [
        "IPY_MODEL_d2007922c9ee4107aa5e418c1461d3e5",
        "IPY_MODEL_32af51dce0654027bf0bdf728075045c",
        "IPY_MODEL_233f830401bc41c8bc96c96f491dad4e",
        "IPY_MODEL_10caea84c4d9435891b501c2fff02673",
        "IPY_MODEL_af3d8f25dd4f41abb593e1b44ec1d816",
        "IPY_MODEL_5cf9f9706deb4aeca2891f31b2797f37",
        "IPY_MODEL_42c6f6a8fbd141de9a92010570b19fcb",
        "IPY_MODEL_8418f64462ce4ce49db833778eabaa7a",
        "IPY_MODEL_63e833ae832245d6afe7bb102652395f",
        "IPY_MODEL_c6835d6db08249cb897cb7eeda241b25"
       ],
       "layout": "IPY_MODEL_2e9d50bdf39040aca6e51549367cab8e"
      }
     },
     "0f74e65e5f1c48a8b2213d70d3ee551b": {
      "model_module": "@jupyter-widgets/controls",
      "model_module_version": "1.5.0",
      "model_name": "ButtonModel",
      "state": {
       "description": "Lennard Jones",
       "layout": "IPY_MODEL_eea9a97f03b14f7a944135d8a8d42c94",
       "style": "IPY_MODEL_2d6cdab7fcf24fa28c6d3437ac743cb0"
      }
     },
     "0f9ee9a67d49450a83337bb142af7f9f": {
      "model_module": "@jupyter-widgets/controls",
      "model_module_version": "1.5.0",
      "model_name": "FloatRangeSliderModel",
      "state": {
       "_model_name": "FloatRangeSliderModel",
       "_view_name": "FloatRangeSliderView",
       "description": "Limites do eixo y (eV):",
       "layout": "IPY_MODEL_b24919589ef840339a989c9c94276da5",
       "max": 10,
       "min": -10,
       "readout_format": ".1f",
       "step": 0.005,
       "style": "IPY_MODEL_dfc52a601f484a378569109a7a85f039",
       "value": [
        -2,
        2
       ]
      }
     },
     "0fa655d69dc647a28ac24498afcdc4ca": {
      "model_module": "@jupyter-widgets/controls",
      "model_module_version": "1.5.0",
      "model_name": "DescriptionStyleModel",
      "state": {
       "description_width": ""
      }
     },
     "0fac1d786ecb4899bb765ee85f27d157": {
      "model_module": "@jupyter-widgets/base",
      "model_module_version": "1.2.0",
      "model_name": "LayoutModel",
      "state": {}
     },
     "0fe1394f8def4a8489314958f7b4d6b5": {
      "model_module": "@jupyter-widgets/base",
      "model_module_version": "1.2.0",
      "model_name": "LayoutModel",
      "state": {}
     },
     "102656fa9f2e4226be3dd8830730813d": {
      "model_module": "@jupyter-widgets/base",
      "model_module_version": "1.2.0",
      "model_name": "LayoutModel",
      "state": {}
     },
     "105fae43724142a2b9815f13b61b608a": {
      "model_module": "@jupyter-widgets/controls",
      "model_module_version": "1.5.0",
      "model_name": "DescriptionStyleModel",
      "state": {
       "description_width": ""
      }
     },
     "1066ab1489b14b3aa9a52db160ad17e7": {
      "model_module": "@jupyter-widgets/controls",
      "model_module_version": "1.5.0",
      "model_name": "ButtonModel",
      "state": {
       "description": "Diagonalizado!",
       "disabled": true,
       "layout": "IPY_MODEL_de1e84cc334d4808a37047941ec2c54a",
       "style": "IPY_MODEL_19616df8175a45319d79e330eda59c7f"
      }
     },
     "1072bbadff334a828dcd4d64c61e66f0": {
      "model_module": "@jupyter-widgets/controls",
      "model_module_version": "1.5.0",
      "model_name": "ButtonModel",
      "state": {
       "description": "Campo Uniforme (+)",
       "layout": "IPY_MODEL_1946e42f9e6140fd9726f5fc5e0dc898",
       "style": "IPY_MODEL_fe48e9add4a54604a4ceb397b7acc3b1"
      }
     },
     "107bfd54a3a84431a399a426ccc0171b": {
      "model_module": "@jupyter-widgets/controls",
      "model_module_version": "1.5.0",
      "model_name": "LabelModel",
      "state": {
       "layout": "IPY_MODEL_4e693e8a928d480ea331ade901fd6826",
       "style": "IPY_MODEL_e06aa9fc9dff49d1a819237f87e52f1b",
       "value": "V(x)[min,max] (eV) ="
      }
     },
     "10a109bb912f4fb682b673e8467aece1": {
      "model_module": "@jupyter-widgets/base",
      "model_module_version": "1.2.0",
      "model_name": "LayoutModel",
      "state": {}
     },
     "10caea84c4d9435891b501c2fff02673": {
      "model_module": "@jupyter-widgets/controls",
      "model_module_version": "1.5.0",
      "model_name": "ButtonModel",
      "state": {
       "description": "Campo Uniforme (-)",
       "layout": "IPY_MODEL_360d261f6de444498743fb2b7f81d018",
       "style": "IPY_MODEL_621542afea61433e9f517a5dbb4ef64b"
      }
     },
     "10cbad49400f4191a97d71874794aed3": {
      "model_module": "@jupyter-widgets/controls",
      "model_module_version": "1.5.0",
      "model_name": "LabelModel",
      "state": {
       "layout": "IPY_MODEL_9580c2d2fc2a42eb879b518a71cf2657",
       "style": "IPY_MODEL_291f2a6a1c134d278cd27856deaee4cf",
       "value": "Passo $\\Delta x $ (angstroms) ="
      }
     },
     "10f35dfe119c4dbfb7ba6e68e964de18": {
      "model_module": "@jupyter-widgets/controls",
      "model_module_version": "1.5.0",
      "model_name": "ButtonModel",
      "state": {
       "description": "Lennard Jones",
       "layout": "IPY_MODEL_d31808fd2459475fad2762677ecd4798",
       "style": "IPY_MODEL_84ed263f29354f60a0657eb9b10c0f60"
      }
     },
     "1163bd425e294e74ae4c14e7a08fe487": {
      "model_module": "@jupyter-widgets/controls",
      "model_module_version": "1.5.0",
      "model_name": "DescriptionStyleModel",
      "state": {
       "description_width": "initial"
      }
     },
     "11a4ad4ce01c457d85632fd6b8569969": {
      "model_module": "@jupyter-widgets/controls",
      "model_module_version": "1.5.0",
      "model_name": "ButtonStyleModel",
      "state": {}
     },
     "11d0217c6dcd48efb2c5a60d9bca2d20": {
      "model_module": "@jupyter-widgets/controls",
      "model_module_version": "1.5.0",
      "model_name": "ButtonStyleModel",
      "state": {}
     },
     "11de75b9f9f44f809fee6c1deefdc8a2": {
      "model_module": "@jupyter-widgets/base",
      "model_module_version": "1.2.0",
      "model_name": "LayoutModel",
      "state": {}
     },
     "11f2e0c131ac4b90b3627b6358d92a0a": {
      "model_module": "@jupyter-widgets/controls",
      "model_module_version": "1.5.0",
      "model_name": "VBoxModel",
      "state": {
       "_dom_classes": [
        "widget-interact"
       ],
       "children": [
        "IPY_MODEL_fc556ac4e1b74141afd5b769d31c9b7d",
        "IPY_MODEL_ee639ada91014e0bbf9036f2cba23d51",
        "IPY_MODEL_dd98641585cd4a9e97d5808c7d15e582",
        "IPY_MODEL_9e210f8a17214e5fb9b526e9e6f9391a",
        "IPY_MODEL_056be8f3d15d48afa521043e92b1bafb",
        "IPY_MODEL_c96a826d191c4d0ca5b68591db191b0d",
        "IPY_MODEL_0cc32369f7ab4565b38158f06bd55896",
        "IPY_MODEL_d304d3c2f8c144fb86ad047c3c6aed98"
       ],
       "layout": "IPY_MODEL_69733d718fdc4e36863df37b8ae02328"
      }
     },
     "1200815a18974b698988524a57517f5e": {
      "model_module": "@jupyter-widgets/base",
      "model_module_version": "1.2.0",
      "model_name": "LayoutModel",
      "state": {}
     },
     "1201df25c3cd4a85a2d547ad36abbc19": {
      "model_module": "@jupyter-widgets/base",
      "model_module_version": "1.2.0",
      "model_name": "LayoutModel",
      "state": {}
     },
     "1228ba092f7e434cbf03c2da1512ddad": {
      "model_module": "@jupyter-widgets/controls",
      "model_module_version": "1.5.0",
      "model_name": "IntSliderModel",
      "state": {
       "description": "Altura da imagem (polegadas): ",
       "layout": "IPY_MODEL_5236d5a105df4481ab46f86aee6cf699",
       "max": 20,
       "style": "IPY_MODEL_4122a0ae50d94aa28bcd5d240f192049",
       "value": 6
      }
     },
     "1260c65f84a6437784902ffd036d54b2": {
      "model_module": "@jupyter-widgets/output",
      "model_module_version": "1.0.0",
      "model_name": "OutputModel",
      "state": {
       "layout": "IPY_MODEL_a1ce0530cb9044e3bc281996e1438b15"
      }
     },
     "1269dc4086d4477c91f8d373eb8ca8cf": {
      "model_module": "@jupyter-widgets/output",
      "model_module_version": "1.0.0",
      "model_name": "OutputModel",
      "state": {
       "layout": "IPY_MODEL_2a8b177fe1b44103968859e0f3a75594",
       "outputs": [
        {
         "data": {
          "application/vnd.jupyter.widget-view+json": {
           "model_id": "2b3ca3eb04b84f2da3826fc1e1184199",
           "version_major": 2,
           "version_minor": 0
          },
          "text/plain": "Canvas(toolbar=Toolbar(toolitems=[('Home', 'Reset original view', 'home', 'home'), ('Back', 'Back to previous …"
         },
         "metadata": {},
         "output_type": "display_data"
        }
       ]
      }
     },
     "126d51e365e3455bba890d608097725b": {
      "model_module": "@jupyter-widgets/base",
      "model_module_version": "1.2.0",
      "model_name": "LayoutModel",
      "state": {}
     },
     "127333546a0948d0b442082b014c7736": {
      "model_module": "@jupyter-widgets/base",
      "model_module_version": "1.2.0",
      "model_name": "LayoutModel",
      "state": {}
     },
     "1289c0656e444ce8949c9affb35bec42": {
      "model_module": "@jupyter-widgets/base",
      "model_module_version": "1.2.0",
      "model_name": "LayoutModel",
      "state": {}
     },
     "129597d8fc26407b865ce9aa4afcf4a6": {
      "model_module": "@jupyter-widgets/controls",
      "model_module_version": "1.5.0",
      "model_name": "GridBoxModel",
      "state": {
       "children": [
        "IPY_MODEL_f72a14406e5848399e3562c5320d5c84",
        "IPY_MODEL_68131336f98645c6a69fb640d4c4ba10",
        "IPY_MODEL_335a0516a9074be3a3fca34cc201efbf",
        "IPY_MODEL_fd08350df84642adb5830488825c7911",
        "IPY_MODEL_2505272a5de64ffcafea8aa7cead8ec8",
        "IPY_MODEL_1b939705a0cc4b609aa0a16fbf5e04a7",
        "IPY_MODEL_542f9b797c304f67addb6d53fb7dd99c",
        "IPY_MODEL_23811515c2334a79a6ef4b1c7274234a",
        "IPY_MODEL_268a6cb97e3a460ab30588bca796aeba",
        "IPY_MODEL_7ffc9bab2d834fcb88e6ea0ed3ede8c4"
       ],
       "layout": "IPY_MODEL_3fed27b9e9a04e548d6e6d1a07676247"
      }
     },
     "12f52677fdf646df9c2d35f99c623a5c": {
      "model_module": "@jupyter-widgets/controls",
      "model_module_version": "1.5.0",
      "model_name": "SliderStyleModel",
      "state": {
       "description_width": "initial"
      }
     },
     "1322f7d3543543a59cc685903c3b1b47": {
      "model_module": "@jupyter-widgets/controls",
      "model_module_version": "1.5.0",
      "model_name": "LabelModel",
      "state": {
       "layout": "IPY_MODEL_363b8e994403463d86496e21c49bc895",
       "style": "IPY_MODEL_6e564da9970a459da5eb1d7cc6487c9e",
       "value": "-4*(np.cosh(0.1*x/ang)**(-2))"
      }
     },
     "132f6a8460664ff88219feeaac46b5b4": {
      "model_module": "@jupyter-widgets/controls",
      "model_module_version": "1.5.0",
      "model_name": "CheckboxModel",
      "state": {
       "description": "Auto limitar eixo y",
       "disabled": false,
       "layout": "IPY_MODEL_4bf86dc50f42400690987c4f00befc44",
       "style": "IPY_MODEL_45f3f0eee2bf45ea8c5ae266c9fb5071",
       "value": true
      }
     },
     "13854f88dbe0404593c6ff92882c1f54": {
      "model_module": "@jupyter-widgets/controls",
      "model_module_version": "1.5.0",
      "model_name": "DescriptionStyleModel",
      "state": {
       "description_width": ""
      }
     },
     "139389e4a66948b8a2f2a2870ef00cbb": {
      "model_module": "@jupyter-widgets/controls",
      "model_module_version": "1.5.0",
      "model_name": "LabelModel",
      "state": {
       "layout": "IPY_MODEL_f550d66460ef493bafbdc100957177a3",
       "style": "IPY_MODEL_dd55fa8a1fba44db9a258dd02bf0b979",
       "value": "[-3.99984 , 0.00000]"
      }
     },
     "13c490ce50a04d1cb55d492893b4df64": {
      "model_module": "@jupyter-widgets/controls",
      "model_module_version": "1.5.0",
      "model_name": "LabelModel",
      "state": {
       "layout": "IPY_MODEL_be34588a6b08467691b36fc0e1c34ceb",
       "style": "IPY_MODEL_3da360d1cf634c7cb4a6a9a64335ce18",
       "value": "V(x)[min,max] (eV) ="
      }
     },
     "13d26265a5c145b6bb7035284e1d2ef6": {
      "model_module": "@jupyter-widgets/base",
      "model_module_version": "1.2.0",
      "model_name": "LayoutModel",
      "state": {}
     },
     "13f7e5be90bd429e8e80d0ffde27759c": {
      "model_module": "@jupyter-widgets/controls",
      "model_module_version": "1.5.0",
      "model_name": "VBoxModel",
      "state": {
       "_dom_classes": [
        "widget-interact"
       ],
       "children": [
        "IPY_MODEL_01d701a125c343108df33ae7e0525bdd",
        "IPY_MODEL_0591e4736aeb4f2da27bdd53298b06c4",
        "IPY_MODEL_5e113c299fa0400593167dbae3ad576e",
        "IPY_MODEL_6e6e37c8fd4540f68189ac7c567e741d",
        "IPY_MODEL_d52fbb978d414faba482f54cea15dffe"
       ],
       "layout": "IPY_MODEL_d3e852f708844173949cb003eff92083"
      }
     },
     "1411a7322cc74895a8ab5df2b1884ac6": {
      "model_module": "@jupyter-widgets/base",
      "model_module_version": "1.2.0",
      "model_name": "LayoutModel",
      "state": {}
     },
     "14330c0393a64f08b10001df723e36f1": {
      "model_module": "@jupyter-widgets/base",
      "model_module_version": "1.2.0",
      "model_name": "LayoutModel",
      "state": {}
     },
     "144165061db9445bab630bbcb3dac448": {
      "model_module": "@jupyter-widgets/controls",
      "model_module_version": "1.5.0",
      "model_name": "LabelModel",
      "state": {
       "layout": "IPY_MODEL_e383f72ccdc946f58bcb4e75882d2ea3",
       "style": "IPY_MODEL_cc6a3ea0708040069480a07cadd83974",
       "value": "Expressão V(x) ="
      }
     },
     "146716b397834c7cabacd8358959befc": {
      "model_module": "@jupyter-widgets/base",
      "model_module_version": "1.2.0",
      "model_name": "LayoutModel",
      "state": {
       "grid_template_columns": "repeat(auto-fill, 180px)"
      }
     },
     "14869d9464dd4c14b8bc5a2bd96e3169": {
      "model_module": "@jupyter-widgets/base",
      "model_module_version": "1.2.0",
      "model_name": "LayoutModel",
      "state": {}
     },
     "1489e10d77714e8b88229c1b20148e3e": {
      "model_module": "@jupyter-widgets/controls",
      "model_module_version": "1.5.0",
      "model_name": "TabModel",
      "state": {
       "_titles": {
        "0": "Gerar o Sistema",
        "1": "Funções de Onda"
       },
       "children": [
        "IPY_MODEL_fab2e9d67b1f418885264c0a6f1defa8",
        "IPY_MODEL_d82566ba9b7e4ba7a4370f85df558173"
       ],
       "layout": "IPY_MODEL_29f98da6c22249879736bdcbac1e2ec8",
       "selected_index": 1
      }
     },
     "149b3a58cd0b4c0e96c4132213b6f787": {
      "model_module": "@jupyter-widgets/controls",
      "model_module_version": "1.5.0",
      "model_name": "DescriptionStyleModel",
      "state": {
       "description_width": ""
      }
     },
     "14a0782c29e54deba36cb867d2e30aa9": {
      "model_module": "@jupyter-widgets/controls",
      "model_module_version": "1.5.0",
      "model_name": "ButtonStyleModel",
      "state": {}
     },
     "14b4e44a1ebf4faf9a622942f268185e": {
      "model_module": "@jupyter-widgets/controls",
      "model_module_version": "1.5.0",
      "model_name": "LabelModel",
      "state": {
       "layout": "IPY_MODEL_3a343defbc154467a84695f8461424eb",
       "style": "IPY_MODEL_eb376106948f4fb4aaae21dd6d5105fc",
       "value": "Expressão V(x) ="
      }
     },
     "14d173b9be3449849abfcd56aeddc34c": {
      "model_module": "@jupyter-widgets/base",
      "model_module_version": "1.2.0",
      "model_name": "LayoutModel",
      "state": {}
     },
     "14ed3bfc4c4441719eb16e48b1b4d24a": {
      "model_module": "@jupyter-widgets/base",
      "model_module_version": "1.2.0",
      "model_name": "LayoutModel",
      "state": {}
     },
     "1558fe3df5a047529d0d864599322e0f": {
      "model_module": "@jupyter-widgets/base",
      "model_module_version": "1.2.0",
      "model_name": "LayoutModel",
      "state": {}
     },
     "15e049def7d44190b7d6bfed4bf75189": {
      "model_module": "@jupyter-widgets/base",
      "model_module_version": "1.2.0",
      "model_name": "LayoutModel",
      "state": {}
     },
     "16010a52e9f5434c96eff916c5d6459a": {
      "model_module": "@jupyter-widgets/base",
      "model_module_version": "1.2.0",
      "model_name": "LayoutModel",
      "state": {
       "display": "flex",
       "width": "90%"
      }
     },
     "1612fb8d15c14e5fbf2347070508854d": {
      "model_module": "@jupyter-widgets/controls",
      "model_module_version": "1.5.0",
      "model_name": "DescriptionStyleModel",
      "state": {
       "description_width": ""
      }
     },
     "16130919843f4454b0b018b3cb8527cd": {
      "model_module": "@jupyter-widgets/base",
      "model_module_version": "1.2.0",
      "model_name": "LayoutModel",
      "state": {
       "width": "100%"
      }
     },
     "163ad36d5555432d9ee0ae2606f896dc": {
      "model_module": "@jupyter-widgets/controls",
      "model_module_version": "1.5.0",
      "model_name": "DescriptionStyleModel",
      "state": {
       "description_width": ""
      }
     },
     "163c2a6cdfe84140838ed53bc0b9297a": {
      "model_module": "@jupyter-widgets/base",
      "model_module_version": "1.2.0",
      "model_name": "LayoutModel",
      "state": {}
     },
     "1647eff313524033bb910e460d3d44c1": {
      "model_module": "@jupyter-widgets/controls",
      "model_module_version": "1.5.0",
      "model_name": "DescriptionStyleModel",
      "state": {
       "description_width": "initial"
      }
     },
     "16a90f826a3146a382f63ef91e997f5a": {
      "model_module": "@jupyter-widgets/controls",
      "model_module_version": "1.5.0",
      "model_name": "ButtonModel",
      "state": {
       "description": "Pöschl–Teller",
       "layout": "IPY_MODEL_3cb154e9a41e4e83a6fa1de3fee1bc87",
       "style": "IPY_MODEL_75d42f91522946f9b3d41c9e5a77d446"
      }
     },
     "16ac261fdc5547b9a0432b884fc609b2": {
      "model_module": "@jupyter-widgets/controls",
      "model_module_version": "1.5.0",
      "model_name": "SliderStyleModel",
      "state": {
       "description_width": "initial"
      }
     },
     "16ad8e16ce2044f3a4ba7f05680c097a": {
      "model_module": "@jupyter-widgets/base",
      "model_module_version": "1.2.0",
      "model_name": "LayoutModel",
      "state": {}
     },
     "175de46ef98e4faba1958b0cb0f0531a": {
      "model_module": "@jupyter-widgets/base",
      "model_module_version": "1.2.0",
      "model_name": "LayoutModel",
      "state": {}
     },
     "17a764135e4c4618a9bf5ce23cd72cb8": {
      "model_module": "@jupyter-widgets/base",
      "model_module_version": "1.2.0",
      "model_name": "LayoutModel",
      "state": {
       "width": "100%"
      }
     },
     "17dac8ecbdf042e0babaeab9e8d6ae13": {
      "model_module": "@jupyter-widgets/controls",
      "model_module_version": "1.5.0",
      "model_name": "ButtonStyleModel",
      "state": {}
     },
     "17e28f3587ff4977a906e5ebf6a86805": {
      "model_module": "@jupyter-widgets/base",
      "model_module_version": "1.2.0",
      "model_name": "LayoutModel",
      "state": {}
     },
     "17f0623e2af543afb672006995e3624d": {
      "model_module": "@jupyter-widgets/base",
      "model_module_version": "1.2.0",
      "model_name": "LayoutModel",
      "state": {}
     },
     "180d5043656e49439d84f11c7af3d90c": {
      "model_module": "@jupyter-widgets/controls",
      "model_module_version": "1.5.0",
      "model_name": "LabelModel",
      "state": {
       "layout": "IPY_MODEL_93a2d4bcfbdc4a4fb2c2fee14d1ab9e8",
       "style": "IPY_MODEL_ab5f2e7eada04e2db5aa874f18a83ce6"
      }
     },
     "183a5526b26a449ea564e0f72c36c31a": {
      "model_module": "@jupyter-widgets/controls",
      "model_module_version": "1.5.0",
      "model_name": "ButtonStyleModel",
      "state": {}
     },
     "18bb67e57716481aa9523c11f56526d6": {
      "model_module": "@jupyter-widgets/base",
      "model_module_version": "1.2.0",
      "model_name": "LayoutModel",
      "state": {
       "grid_template_columns": "repeat(2, 250px)"
      }
     },
     "18ddacbceb8a45f3afe8748c04ba4304": {
      "model_module": "@jupyter-widgets/controls",
      "model_module_version": "1.5.0",
      "model_name": "SliderStyleModel",
      "state": {
       "description_width": "initial"
      }
     },
     "18f2f8a991ff4e1fb35d77e82ec24187": {
      "model_module": "@jupyter-widgets/controls",
      "model_module_version": "1.5.0",
      "model_name": "SliderStyleModel",
      "state": {
       "description_width": "initial"
      }
     },
     "1933c386d8ef4f88b7bc5d92ce089163": {
      "model_module": "@jupyter-widgets/controls",
      "model_module_version": "1.5.0",
      "model_name": "DescriptionStyleModel",
      "state": {
       "description_width": ""
      }
     },
     "1946e42f9e6140fd9726f5fc5e0dc898": {
      "model_module": "@jupyter-widgets/base",
      "model_module_version": "1.2.0",
      "model_name": "LayoutModel",
      "state": {}
     },
     "19616df8175a45319d79e330eda59c7f": {
      "model_module": "@jupyter-widgets/controls",
      "model_module_version": "1.5.0",
      "model_name": "ButtonStyleModel",
      "state": {}
     },
     "19b9ba811a9a4ece97bae27c8806b7c2": {
      "model_module": "@jupyter-widgets/controls",
      "model_module_version": "1.5.0",
      "model_name": "VBoxModel",
      "state": {
       "children": [
        "IPY_MODEL_1ebfea958dc644509155f7c7b01ea7e4",
        "IPY_MODEL_655967436832424997465f46a5cc55e3",
        "IPY_MODEL_f3adc3b3357b40ecbff4d56a900dc0ff"
       ],
       "layout": "IPY_MODEL_55e2ef21642d4be88d3b2ea003113dce"
      }
     },
     "19d9f38b0a7b430cbe726b44ce5ec8de": {
      "model_module": "@jupyter-widgets/controls",
      "model_module_version": "1.5.0",
      "model_name": "LabelModel",
      "state": {
       "layout": "IPY_MODEL_86bfda4842ce4006a9ed76368b582e67",
       "style": "IPY_MODEL_8cb0efac1b8b4c5496232aec06705156",
       "value": "Largura do domínio (angstroms) ="
      }
     },
     "19dab434d6bc42edb5f8004434d4c651": {
      "model_module": "@jupyter-widgets/controls",
      "model_module_version": "1.5.0",
      "model_name": "IntSliderModel",
      "state": {
       "description": "Altura da imagem (polegadas): ",
       "layout": "IPY_MODEL_21455e0c53a34a9bbf221a1873be28b1",
       "max": 20,
       "style": "IPY_MODEL_adfc28f04f2e4590bc91691fdbdf11ec",
       "value": 9
      }
     },
     "19eeaf7b7a75478d951deb47794f6dd3": {
      "model_module": "@jupyter-widgets/base",
      "model_module_version": "1.2.0",
      "model_name": "LayoutModel",
      "state": {}
     },
     "1a1123bde55b4457915278d5ea2e4fac": {
      "model_module": "@jupyter-widgets/controls",
      "model_module_version": "1.5.0",
      "model_name": "LabelModel",
      "state": {
       "layout": "IPY_MODEL_8d2b521177df4211aa2d2a1e56c1c7c2",
       "style": "IPY_MODEL_89e922d951e94c1cbc1276be45a59cad",
       "value": "Passo $\\Delta x $ (angstroms) ="
      }
     },
     "1a18276a85be4407bf172050142150f8": {
      "model_module": "@jupyter-widgets/controls",
      "model_module_version": "1.5.0",
      "model_name": "ButtonModel",
      "state": {
       "description": "Duffing Holmes (-)",
       "layout": "IPY_MODEL_adb2a4a44d1048ffaab243fa3118b83b",
       "style": "IPY_MODEL_466638a50c8b43b9b5de3f82133f4ad9"
      }
     },
     "1a4e7ad1dfa045b2a25574845246f29f": {
      "model_module": "@jupyter-widgets/controls",
      "model_module_version": "1.5.0",
      "model_name": "ButtonStyleModel",
      "state": {}
     },
     "1a81fa7ace2645a5ba4fe63520d569f1": {
      "model_module": "@jupyter-widgets/controls",
      "model_module_version": "1.5.0",
      "model_name": "DescriptionStyleModel",
      "state": {
       "description_width": ""
      }
     },
     "1a8c178196e0499f8746d431320c6f53": {
      "model_module": "@jupyter-widgets/controls",
      "model_module_version": "1.5.0",
      "model_name": "ButtonModel",
      "state": {
       "description": "Run Interact",
       "layout": "IPY_MODEL_f15522e8e8cb4b59a7a4ffc5bad14418",
       "style": "IPY_MODEL_ceabfb39a52143f6b062f65844a72326"
      }
     },
     "1acbaaf33c9243bc88c3ea71c9723028": {
      "model_module": "@jupyter-widgets/base",
      "model_module_version": "1.2.0",
      "model_name": "LayoutModel",
      "state": {}
     },
     "1adb0f9c1757441d99e2fe6bfb9e02ba": {
      "model_module": "@jupyter-widgets/controls",
      "model_module_version": "1.5.0",
      "model_name": "ButtonModel",
      "state": {
       "description": "Duffing Holmes (+)",
       "layout": "IPY_MODEL_0dfa7f5a58e840fbbf749f48c689912a",
       "style": "IPY_MODEL_0abc091884ff422482e9d23d620554a6"
      }
     },
     "1add5f906b774f25aa352f312ecb0a15": {
      "model_module": "@jupyter-widgets/base",
      "model_module_version": "1.2.0",
      "model_name": "LayoutModel",
      "state": {
       "width": "100%"
      }
     },
     "1aea4766865d4f53b374a400965c9673": {
      "model_module": "@jupyter-widgets/base",
      "model_module_version": "1.2.0",
      "model_name": "LayoutModel",
      "state": {
       "grid_template_columns": "repeat(2, 250px)"
      }
     },
     "1b1a31f6b75e4982b28385a1f6baeb66": {
      "model_module": "@jupyter-widgets/controls",
      "model_module_version": "1.5.0",
      "model_name": "ButtonModel",
      "state": {
       "description": "Campo Uniforme (+)",
       "layout": "IPY_MODEL_74947ff19be442a2bd210bec4269cca8",
       "style": "IPY_MODEL_22e36e550867428690c4851413b3f648"
      }
     },
     "1b29d9f64aa54f879769d134b994e0b8": {
      "model_module": "jupyter-matplotlib",
      "model_module_version": "^0.9.0",
      "model_name": "ToolbarModel",
      "state": {
       "layout": "IPY_MODEL_01d0297bf3424702a44f6095543facbd",
       "toolitems": [
        [
         "Home",
         "Reset original view",
         "home",
         "home"
        ],
        [
         "Back",
         "Back to previous view",
         "arrow-left",
         "back"
        ],
        [
         "Forward",
         "Forward to next view",
         "arrow-right",
         "forward"
        ],
        [
         "Pan",
         "Left button pans, Right button zooms\nx/y fixes axis, CTRL fixes aspect",
         "arrows",
         "pan"
        ],
        [
         "Zoom",
         "Zoom to rectangle\nx/y fixes axis, CTRL fixes aspect",
         "square-o",
         "zoom"
        ],
        [
         "Download",
         "Download plot",
         "floppy-o",
         "save_figure"
        ]
       ]
      }
     },
     "1b939705a0cc4b609aa0a16fbf5e04a7": {
      "model_module": "@jupyter-widgets/controls",
      "model_module_version": "1.5.0",
      "model_name": "ButtonModel",
      "state": {
       "description": "Duffing Holmes (+)",
       "layout": "IPY_MODEL_0c03497bba9b4cb6ac865791ac857023",
       "style": "IPY_MODEL_486e79718fa34983a15558e5729515a3"
      }
     },
     "1bba220135f14008ac4cae548b8e6ece": {
      "model_module": "@jupyter-widgets/base",
      "model_module_version": "1.2.0",
      "model_name": "LayoutModel",
      "state": {}
     },
     "1bf459ab47104da9a4c4be443c757199": {
      "model_module": "@jupyter-widgets/controls",
      "model_module_version": "1.5.0",
      "model_name": "DescriptionStyleModel",
      "state": {
       "description_width": ""
      }
     },
     "1c243d7e53164a68ac4007783849ecf3": {
      "model_module": "@jupyter-widgets/controls",
      "model_module_version": "1.5.0",
      "model_name": "LabelModel",
      "state": {
       "layout": "IPY_MODEL_fc21d60d63c741a1a6370d8bb8372230",
       "style": "IPY_MODEL_386657d466f748c0963e7bf511a1e5dd",
       "value": " 70.00"
      }
     },
     "1c2ebd4418094bb99d7bed87aaa677bc": {
      "model_module": "@jupyter-widgets/base",
      "model_module_version": "1.2.0",
      "model_name": "LayoutModel",
      "state": {}
     },
     "1c8382f902d14c0fa50f2a4d2a3ebe6c": {
      "model_module": "@jupyter-widgets/controls",
      "model_module_version": "1.5.0",
      "model_name": "ButtonStyleModel",
      "state": {}
     },
     "1cb1590f4a364faf97f9e46c9cb8b7c0": {
      "model_module": "@jupyter-widgets/controls",
      "model_module_version": "1.5.0",
      "model_name": "ButtonModel",
      "state": {
       "description": "Poço Infinito",
       "layout": "IPY_MODEL_630943eb21be4bed9d4f0ff065c982e3",
       "style": "IPY_MODEL_badd12d06b424ade9d3628059dcf523e"
      }
     },
     "1cda11296cc146f7a12d07d59cb671b6": {
      "model_module": "@jupyter-widgets/controls",
      "model_module_version": "1.5.0",
      "model_name": "ButtonModel",
      "state": {
       "description": "Duffing Holmes (+)",
       "layout": "IPY_MODEL_3fd66ce910064345a72ad2e0b6d94528",
       "style": "IPY_MODEL_26cf9a35c7464d4b81bebf8ecc04200d"
      }
     },
     "1d24949045244c399604ff42c78bf1fb": {
      "model_module": "@jupyter-widgets/base",
      "model_module_version": "1.2.0",
      "model_name": "LayoutModel",
      "state": {}
     },
     "1d4770f57212415b9432cc907c51b3de": {
      "model_module": "@jupyter-widgets/controls",
      "model_module_version": "1.5.0",
      "model_name": "DescriptionStyleModel",
      "state": {
       "description_width": ""
      }
     },
     "1d5e487b6d3f4a8da2bce3efe6e9c44e": {
      "model_module": "@jupyter-widgets/base",
      "model_module_version": "1.2.0",
      "model_name": "LayoutModel",
      "state": {}
     },
     "1d6388b855834121a8f364f784911f82": {
      "model_module": "@jupyter-widgets/base",
      "model_module_version": "1.2.0",
      "model_name": "LayoutModel",
      "state": {}
     },
     "1d877587b0874f0e8553cd8244564288": {
      "model_module": "@jupyter-widgets/controls",
      "model_module_version": "1.5.0",
      "model_name": "IntSliderModel",
      "state": {
       "description": "Largura da imagem (polegadas):",
       "layout": "IPY_MODEL_5236d5a105df4481ab46f86aee6cf699",
       "max": 20,
       "style": "IPY_MODEL_c73e3fb27c3a4da6913a11f0413e6822",
       "value": 10
      }
     },
     "1da32bbe3224499d8242d6b2f8512edc": {
      "model_module": "@jupyter-widgets/base",
      "model_module_version": "1.2.0",
      "model_name": "LayoutModel",
      "state": {}
     },
     "1dabe3b80e0d4d86a60b8ca1014d9387": {
      "model_module": "@jupyter-widgets/base",
      "model_module_version": "1.2.0",
      "model_name": "LayoutModel",
      "state": {}
     },
     "1de5e6aa699b4515800765dc528be8fa": {
      "model_module": "@jupyter-widgets/controls",
      "model_module_version": "1.5.0",
      "model_name": "CheckboxModel",
      "state": {
       "description": "Auto limitar eixo y",
       "disabled": false,
       "layout": "IPY_MODEL_7dd30cc35d6148ab838096bc478df450",
       "style": "IPY_MODEL_2042f8aa18c74430b27213cb6b7bd5c4",
       "value": true
      }
     },
     "1e00ef6301c84c92915ffddac5f9a279": {
      "model_module": "@jupyter-widgets/controls",
      "model_module_version": "1.5.0",
      "model_name": "ButtonStyleModel",
      "state": {}
     },
     "1e62dbfeff8f45958b1678bee6f2026d": {
      "model_module": "@jupyter-widgets/controls",
      "model_module_version": "1.5.0",
      "model_name": "DescriptionStyleModel",
      "state": {
       "description_width": ""
      }
     },
     "1e6f1d2fe8bf4658a66d99454988ca6d": {
      "model_module": "@jupyter-widgets/base",
      "model_module_version": "1.2.0",
      "model_name": "LayoutModel",
      "state": {}
     },
     "1ebfea958dc644509155f7c7b01ea7e4": {
      "model_module": "@jupyter-widgets/controls",
      "model_module_version": "1.5.0",
      "model_name": "AccordionModel",
      "state": {
       "_titles": {
        "0": "Potenciais pré definidos"
       },
       "children": [
        "IPY_MODEL_bc48e2ae14c14f85b16332c0c1f5d57d"
       ],
       "layout": "IPY_MODEL_0a0174494aa240699dc93afd4c931398"
      }
     },
     "1ec361b2c1f2466194c551e4981dbd44": {
      "model_module": "@jupyter-widgets/controls",
      "model_module_version": "1.5.0",
      "model_name": "LabelModel",
      "state": {
       "layout": "IPY_MODEL_35703a5b42e6461f9feaae110b39ea69",
       "style": "IPY_MODEL_75142a44e4404fca91fb09688eb970b7",
       "value": "Expressão V(x) ="
      }
     },
     "1f2d10710efe4e4babd83a77ca0e4a6c": {
      "model_module": "@jupyter-widgets/controls",
      "model_module_version": "1.5.0",
      "model_name": "LabelModel",
      "state": {
       "layout": "IPY_MODEL_83fcbe36142f49c89b3f2af0868d2d2e",
       "style": "IPY_MODEL_9631459b047c40e1b0d20d5a748e780c",
       "value": "Número de pontos ="
      }
     },
     "1f53be686ca4459aa34e1f9070a3f966": {
      "model_module": "@jupyter-widgets/controls",
      "model_module_version": "1.5.0",
      "model_name": "LabelModel",
      "state": {
       "layout": "IPY_MODEL_bddd5330d4644714b907bafd5aa8ee8f",
       "style": "IPY_MODEL_7250a21dd5f24163a5e94474b7347d10",
       "value": "Passo $\\Delta x $ (angstroms) ="
      }
     },
     "1f66e34130e244c39511434ae05f2921": {
      "model_module": "@jupyter-widgets/base",
      "model_module_version": "1.2.0",
      "model_name": "LayoutModel",
      "state": {}
     },
     "1f856b0ce6ef47b7bb4fc73088587226": {
      "model_module": "@jupyter-widgets/controls",
      "model_module_version": "1.5.0",
      "model_name": "LabelModel",
      "state": {
       "layout": "IPY_MODEL_2c9c1a9f7bef41b28c3cc078580b7295",
       "style": "IPY_MODEL_5e3261cf485a4cb28d73bbd5a32893f3",
       "value": "[-3.49998 , 0.86691]"
      }
     },
     "1f970adaccb64e13956059c9721f9618": {
      "model_module": "@jupyter-widgets/controls",
      "model_module_version": "1.5.0",
      "model_name": "DescriptionStyleModel",
      "state": {
       "description_width": ""
      }
     },
     "1fc73ba4194749a1abb3c7466d59ee61": {
      "model_module": "@jupyter-widgets/controls",
      "model_module_version": "1.5.0",
      "model_name": "SliderStyleModel",
      "state": {
       "description_width": "initial"
      }
     },
     "203269799ef34919a95e5829bcd3ea43": {
      "model_module": "@jupyter-widgets/controls",
      "model_module_version": "1.5.0",
      "model_name": "ButtonStyleModel",
      "state": {}
     },
     "203afe1de6d94182b332e002f7eb16a1": {
      "model_module": "@jupyter-widgets/base",
      "model_module_version": "1.2.0",
      "model_name": "LayoutModel",
      "state": {}
     },
     "2042f8aa18c74430b27213cb6b7bd5c4": {
      "model_module": "@jupyter-widgets/controls",
      "model_module_version": "1.5.0",
      "model_name": "DescriptionStyleModel",
      "state": {
       "description_width": "initial"
      }
     },
     "20481e82752a4f7db937892bc2dffa1a": {
      "model_module": "@jupyter-widgets/base",
      "model_module_version": "1.2.0",
      "model_name": "LayoutModel",
      "state": {}
     },
     "205788f0fa3f4ca99621c0e7f6df15a1": {
      "model_module": "@jupyter-widgets/controls",
      "model_module_version": "1.5.0",
      "model_name": "DescriptionStyleModel",
      "state": {
       "description_width": ""
      }
     },
     "20a66705a47b457bbbcf3044c92a8601": {
      "model_module": "@jupyter-widgets/controls",
      "model_module_version": "1.5.0",
      "model_name": "ButtonStyleModel",
      "state": {}
     },
     "20c3320ee80d4f3bbaa17679f941d3ad": {
      "model_module": "@jupyter-widgets/controls",
      "model_module_version": "1.5.0",
      "model_name": "ButtonStyleModel",
      "state": {}
     },
     "210189e5e9f04745b387834b22ae6140": {
      "model_module": "@jupyter-widgets/output",
      "model_module_version": "1.0.0",
      "model_name": "OutputModel",
      "state": {
       "layout": "IPY_MODEL_8048e57463a14c3b80bdb965d2f47f75",
       "outputs": [
        {
         "data": {
          "application/vnd.jupyter.widget-view+json": {
           "model_id": "03d9e3672e4e478bbfc903c64b687ebd",
           "version_major": 2,
           "version_minor": 0
          },
          "text/plain": "Canvas(toolbar=Toolbar(toolitems=[('Home', 'Reset original view', 'home', 'home'), ('Back', 'Back to previous …"
         },
         "metadata": {},
         "output_type": "display_data"
        }
       ]
      }
     },
     "21455e0c53a34a9bbf221a1873be28b1": {
      "model_module": "@jupyter-widgets/base",
      "model_module_version": "1.2.0",
      "model_name": "LayoutModel",
      "state": {
       "display": "flex",
       "width": "90%"
      }
     },
     "214ea71cd3df441186338377e772c035": {
      "model_module": "@jupyter-widgets/controls",
      "model_module_version": "1.5.0",
      "model_name": "ButtonModel",
      "state": {
       "description": "Poço Infinito",
       "layout": "IPY_MODEL_4fd6c865654146dea40f5a44638f215d",
       "style": "IPY_MODEL_e149ad4cd3dc4537902937025340ab34"
      }
     },
     "21610279d05a415fb08030e1710daa60": {
      "model_module": "@jupyter-widgets/base",
      "model_module_version": "1.2.0",
      "model_name": "LayoutModel",
      "state": {}
     },
     "21781defb6014bc89acffd563d2b52e1": {
      "model_module": "@jupyter-widgets/controls",
      "model_module_version": "1.5.0",
      "model_name": "DescriptionStyleModel",
      "state": {
       "description_width": ""
      }
     },
     "2179284352984fcdba765fdc8cceb8b2": {
      "model_module": "@jupyter-widgets/controls",
      "model_module_version": "1.5.0",
      "model_name": "SliderStyleModel",
      "state": {
       "description_width": "initial"
      }
     },
     "217f1ed4d013441aaf45706ffd94d20e": {
      "model_module": "@jupyter-widgets/base",
      "model_module_version": "1.2.0",
      "model_name": "LayoutModel",
      "state": {}
     },
     "21946ec42efe4d1c82508d6e58494a04": {
      "model_module": "@jupyter-widgets/controls",
      "model_module_version": "1.5.0",
      "model_name": "DescriptionStyleModel",
      "state": {
       "description_width": ""
      }
     },
     "21a0d712fc9944e181db9eba4135a3a6": {
      "model_module": "@jupyter-widgets/controls",
      "model_module_version": "1.5.0",
      "model_name": "ButtonStyleModel",
      "state": {}
     },
     "21c8704b8cfc4dca9d50838d0a42a2ed": {
      "model_module": "@jupyter-widgets/base",
      "model_module_version": "1.2.0",
      "model_name": "LayoutModel",
      "state": {}
     },
     "21ed21fe7d6b417c965ea0dc5f123bba": {
      "model_module": "@jupyter-widgets/controls",
      "model_module_version": "1.5.0",
      "model_name": "DescriptionStyleModel",
      "state": {
       "description_width": ""
      }
     },
     "221b80bd88464d10891080f0ef352b03": {
      "model_module": "@jupyter-widgets/controls",
      "model_module_version": "1.5.0",
      "model_name": "ButtonStyleModel",
      "state": {}
     },
     "222a2417102e4afbbe2e55314e20b88b": {
      "model_module": "@jupyter-widgets/controls",
      "model_module_version": "1.5.0",
      "model_name": "ButtonStyleModel",
      "state": {}
     },
     "223e640860234daeab4859b348900dd1": {
      "model_module": "@jupyter-widgets/controls",
      "model_module_version": "1.5.0",
      "model_name": "LabelModel",
      "state": {
       "layout": "IPY_MODEL_e69a21247beb4bbf94e6ebdf7ddb77f9",
       "style": "IPY_MODEL_652576871d6a4705b4af07e385ac1797",
       "value": "V(x)[min,max] (eV) ="
      }
     },
     "22e36e550867428690c4851413b3f648": {
      "model_module": "@jupyter-widgets/controls",
      "model_module_version": "1.5.0",
      "model_name": "ButtonStyleModel",
      "state": {}
     },
     "2308ecfd7f614e2c86c14524da808be2": {
      "model_module": "@jupyter-widgets/controls",
      "model_module_version": "1.5.0",
      "model_name": "TabModel",
      "state": {
       "_titles": {
        "0": "Gerar o Sistema",
        "1": "Funções de Onda"
       },
       "children": [
        "IPY_MODEL_9fd0e4c6f31544d8b285a2ed8aef3322",
        "IPY_MODEL_7b09381cfe8048da986ccc1c9f57a293"
       ],
       "layout": "IPY_MODEL_d25ea2001ca9465abba81ad6b50df8fd",
       "selected_index": 1
      }
     },
     "231030475b1f4f258f0438ddcdd6a5c2": {
      "model_module": "@jupyter-widgets/controls",
      "model_module_version": "1.5.0",
      "model_name": "ButtonModel",
      "state": {
       "description": "Pöschl–Teller",
       "layout": "IPY_MODEL_34b4a3584539426eb9db4885a04a77fe",
       "style": "IPY_MODEL_097ef6957f26495183c2a7deee08efb9"
      }
     },
     "231cdd3e815c4dcea1bafcb657b1d2b8": {
      "model_module": "@jupyter-widgets/controls",
      "model_module_version": "1.5.0",
      "model_name": "AccordionModel",
      "state": {
       "_titles": {
        "0": "Diagonalizar/Informações"
       },
       "children": [
        "IPY_MODEL_ca6a91a525014f169bada5ce5197e3c2"
       ],
       "layout": "IPY_MODEL_9de743a1d94a4b838a4452cb443fd4f2"
      }
     },
     "233f830401bc41c8bc96c96f491dad4e": {
      "model_module": "@jupyter-widgets/controls",
      "model_module_version": "1.5.0",
      "model_name": "ButtonModel",
      "state": {
       "description": "Campo Uniforme (+)",
       "layout": "IPY_MODEL_628502936e0640da98191f88860d2504",
       "style": "IPY_MODEL_d37074d4d3384f1d9cbc4363b730a888"
      }
     },
     "234837d14f9f472bb32bb7c069f56e24": {
      "model_module": "@jupyter-widgets/controls",
      "model_module_version": "1.5.0",
      "model_name": "LabelModel",
      "state": {
       "layout": "IPY_MODEL_5283dac48fd5451ba277359fcd8871f4",
       "style": "IPY_MODEL_b5d942d3f67b4dafb88f7fe22ef18ff0",
       "value": "Passo $\\Delta x $ (angstroms) ="
      }
     },
     "23669c35a06a492d9734fc1ba7144a57": {
      "model_module": "@jupyter-widgets/controls",
      "model_module_version": "1.5.0",
      "model_name": "SliderStyleModel",
      "state": {
       "description_width": "initial"
      }
     },
     "23752724e1b5492f89455464771369ea": {
      "model_module": "@jupyter-widgets/controls",
      "model_module_version": "1.5.0",
      "model_name": "ButtonStyleModel",
      "state": {}
     },
     "2376a0b2853a4aef9bfd0e69f29d527a": {
      "model_module": "@jupyter-widgets/controls",
      "model_module_version": "1.5.0",
      "model_name": "SliderStyleModel",
      "state": {
       "description_width": "initial"
      }
     },
     "23811515c2334a79a6ef4b1c7274234a": {
      "model_module": "@jupyter-widgets/controls",
      "model_module_version": "1.5.0",
      "model_name": "ButtonModel",
      "state": {
       "description": "Lennard Jones",
       "layout": "IPY_MODEL_3df0307af9b34779bd4e529f3b9b8961",
       "style": "IPY_MODEL_c83b151af4fb44a5b3ee0dea96081889"
      }
     },
     "238cdd357ce84231af33786ca96e9e47": {
      "model_module": "@jupyter-widgets/controls",
      "model_module_version": "1.5.0",
      "model_name": "SliderStyleModel",
      "state": {
       "description_width": "initial"
      }
     },
     "23b9b753d515431090edaf7c51962aca": {
      "model_module": "@jupyter-widgets/controls",
      "model_module_version": "1.5.0",
      "model_name": "DescriptionStyleModel",
      "state": {
       "description_width": ""
      }
     },
     "23d049ca75aa42469ca3110f871506d7": {
      "model_module": "@jupyter-widgets/controls",
      "model_module_version": "1.5.0",
      "model_name": "LabelModel",
      "state": {
       "layout": "IPY_MODEL_ec85f404f0714290a6cdd3ddc1381107",
       "style": "IPY_MODEL_70dbfd493a364100bd5734120179ccbe",
       "value": "Expressão V(x) ="
      }
     },
     "23e41981797e43b592dd4964cb5db528": {
      "model_module": "@jupyter-widgets/base",
      "model_module_version": "1.2.0",
      "model_name": "LayoutModel",
      "state": {}
     },
     "2416f72585df42039b0c33f41a5b8577": {
      "model_module": "@jupyter-widgets/controls",
      "model_module_version": "1.5.0",
      "model_name": "ButtonModel",
      "state": {
       "description": "Poço Infinito",
       "layout": "IPY_MODEL_053e9415effc4098b6f3d75f56fb662d",
       "style": "IPY_MODEL_fbcb32a37ff146cf86a7b7cce14042db"
      }
     },
     "244a96aef94c45b9bff049b46193343f": {
      "model_module": "@jupyter-widgets/controls",
      "model_module_version": "1.5.0",
      "model_name": "DescriptionStyleModel",
      "state": {
       "description_width": ""
      }
     },
     "244f2822b5f54087a5e0c02f30d3f820": {
      "model_module": "@jupyter-widgets/controls",
      "model_module_version": "1.5.0",
      "model_name": "ButtonStyleModel",
      "state": {}
     },
     "244f646f6d6e4c55bc5fa3b99cf8ce3c": {
      "model_module": "@jupyter-widgets/controls",
      "model_module_version": "1.5.0",
      "model_name": "GridBoxModel",
      "state": {
       "children": [
        "IPY_MODEL_a09d08373d2b43088b2bf8b8637f65c4",
        "IPY_MODEL_eebf51ed57eb4129b9f10e5341f2b1ce",
        "IPY_MODEL_fd743db96d8f4d9285f012049b2e5d83",
        "IPY_MODEL_6cc7ade724f04beca0650409a5613835",
        "IPY_MODEL_50a25931bf12432aa45c00937709c006",
        "IPY_MODEL_fc3af17c439f498894df3a874d842699",
        "IPY_MODEL_70acfb997a5e46548d0b41f97cb77e40",
        "IPY_MODEL_828ff6b2fe344f4b9ed7be908d1bd797",
        "IPY_MODEL_d8b3c347e4f74e0896ddd14649c4e981",
        "IPY_MODEL_b1bf09ba1b2d4201934256d39842bdfe"
       ],
       "layout": "IPY_MODEL_edcb6c6092b24cdda947045b41318224"
      }
     },
     "2450785b0f86457d891e4f8c33bc3a57": {
      "model_module": "@jupyter-widgets/controls",
      "model_module_version": "1.5.0",
      "model_name": "AccordionModel",
      "state": {
       "_titles": {
        "0": "Diagonalizar/Informações"
       },
       "children": [
        "IPY_MODEL_6e9075b30d82401fbf9bb23b7486af04"
       ],
       "layout": "IPY_MODEL_833206f67ee246f8b4b9c8cf1d19a9d5"
      }
     },
     "2465f6d3cc944ca18b8c52c09d9a656b": {
      "model_module": "@jupyter-widgets/base",
      "model_module_version": "1.2.0",
      "model_name": "LayoutModel",
      "state": {}
     },
     "24690ed63dea499fbb903e9a8a39807d": {
      "model_module": "@jupyter-widgets/controls",
      "model_module_version": "1.5.0",
      "model_name": "DescriptionStyleModel",
      "state": {
       "description_width": ""
      }
     },
     "24802644f245414faf6353e82fd9acaf": {
      "model_module": "@jupyter-widgets/base",
      "model_module_version": "1.2.0",
      "model_name": "LayoutModel",
      "state": {}
     },
     "24803ecdce2f43d69e1cfbd71766a033": {
      "model_module": "@jupyter-widgets/controls",
      "model_module_version": "1.5.0",
      "model_name": "GridBoxModel",
      "state": {
       "children": [
        "IPY_MODEL_1f53be686ca4459aa34e1f9070a3f966",
        "IPY_MODEL_70e650ca6b79483ebf6f25e803887a65",
        "IPY_MODEL_c4c5af4f74fd4d6bb6053d996179cd7c",
        "IPY_MODEL_af42a17e318f4dc7a45972084af038f3",
        "IPY_MODEL_223e640860234daeab4859b348900dd1",
        "IPY_MODEL_a98238ab30a340739b369e0bb1cb54e3",
        "IPY_MODEL_5ee31ea4a6c5479794aa2394750a0fa3",
        "IPY_MODEL_30877f0e48754b13ad30457c2787da35",
        "IPY_MODEL_8411769eec884366a352d9420cb57248",
        "IPY_MODEL_75c7695cf15449ca981ba33952f2060c"
       ],
       "layout": "IPY_MODEL_aa3b5193962d4797b6e343025bc43b45"
      }
     },
     "249996c181924ade9563e3e11442cc8c": {
      "model_module": "@jupyter-widgets/controls",
      "model_module_version": "1.5.0",
      "model_name": "FloatRangeSliderModel",
      "state": {
       "_model_name": "FloatRangeSliderModel",
       "_view_name": "FloatRangeSliderView",
       "continuous_update": false,
       "description": "Domínio de $\\Psi(x)$: ",
       "layout": "IPY_MODEL_b24919589ef840339a989c9c94276da5",
       "max": 150,
       "min": -150,
       "readout_format": "1d",
       "style": "IPY_MODEL_7dbb1a1edbfc4638a91236abbe365ab7",
       "value": [
        -35,
        35
       ]
      }
     },
     "24b92b704e6a47289400dd06a6de8b32": {
      "model_module": "@jupyter-widgets/base",
      "model_module_version": "1.2.0",
      "model_name": "LayoutModel",
      "state": {}
     },
     "2505272a5de64ffcafea8aa7cead8ec8": {
      "model_module": "@jupyter-widgets/controls",
      "model_module_version": "1.5.0",
      "model_name": "ButtonModel",
      "state": {
       "description": "Oscilador Harmônico",
       "layout": "IPY_MODEL_f96130671dba43d5a99254ad52b020a9",
       "style": "IPY_MODEL_ee8635e048da4c8bb6ee05389e4727f4"
      }
     },
     "250c84dec4cc4a56920661ef78396f05": {
      "model_module": "@jupyter-widgets/controls",
      "model_module_version": "1.5.0",
      "model_name": "VBoxModel",
      "state": {
       "children": [
        "IPY_MODEL_8ddfee9bc5b341b7a9588d004a0ccbb9",
        "IPY_MODEL_7955a5f8b99d4b96a8f7b74ed2421eff"
       ],
       "layout": "IPY_MODEL_46b1270be229447bbd520c4b69cb9b70"
      }
     },
     "25169e0b7bd240bcb1acc8a704666732": {
      "model_module": "@jupyter-widgets/controls",
      "model_module_version": "1.5.0",
      "model_name": "FloatRangeSliderModel",
      "state": {
       "_model_name": "FloatRangeSliderModel",
       "_view_name": "FloatRangeSliderView",
       "continuous_update": false,
       "description": "Domínio de $\\Psi(x)$: ",
       "layout": "IPY_MODEL_55187982126640e6be41b35c00b830dc",
       "max": 150,
       "min": -150,
       "readout_format": "1d",
       "style": "IPY_MODEL_e0ecb2d5c1834e5b80243ac2757b01f7",
       "value": [
        -35,
        35
       ]
      }
     },
     "25664f38c178423faebb90f9c3c2e5c7": {
      "model_module": "@jupyter-widgets/output",
      "model_module_version": "1.0.0",
      "model_name": "OutputModel",
      "state": {
       "layout": "IPY_MODEL_80cf59a0ca6f40a7827c028302eae793"
      }
     },
     "25abaddca5824b62b5e1d6b7141afb32": {
      "model_module": "@jupyter-widgets/controls",
      "model_module_version": "1.5.0",
      "model_name": "ButtonStyleModel",
      "state": {}
     },
     "25e8b87b3568469089472b51571b486b": {
      "model_module": "@jupyter-widgets/base",
      "model_module_version": "1.2.0",
      "model_name": "LayoutModel",
      "state": {}
     },
     "25faafb86fed4bce9c09a8bd72c82c73": {
      "model_module": "@jupyter-widgets/base",
      "model_module_version": "1.2.0",
      "model_name": "LayoutModel",
      "state": {}
     },
     "2622e2833edc4431874546b7604586fb": {
      "model_module": "jupyter-matplotlib",
      "model_module_version": "^0.9.0",
      "model_name": "ToolbarModel",
      "state": {
       "layout": "IPY_MODEL_ff5f3e4b27ad4592ac5f4262e9ee0aa6",
       "toolitems": [
        [
         "Home",
         "Reset original view",
         "home",
         "home"
        ],
        [
         "Back",
         "Back to previous view",
         "arrow-left",
         "back"
        ],
        [
         "Forward",
         "Forward to next view",
         "arrow-right",
         "forward"
        ],
        [
         "Pan",
         "Left button pans, Right button zooms\nx/y fixes axis, CTRL fixes aspect",
         "arrows",
         "pan"
        ],
        [
         "Zoom",
         "Zoom to rectangle\nx/y fixes axis, CTRL fixes aspect",
         "square-o",
         "zoom"
        ],
        [
         "Download",
         "Download plot",
         "floppy-o",
         "save_figure"
        ]
       ]
      }
     },
     "262a13edfd4e42ba9c965196bc6885e4": {
      "model_module": "@jupyter-widgets/controls",
      "model_module_version": "1.5.0",
      "model_name": "IntSliderModel",
      "state": {
       "continuous_update": false,
       "description": "Margens horizontais  (angstroms):   ",
       "layout": "IPY_MODEL_cde0ed4fcf3049abaf0c54e8affe788f",
       "style": "IPY_MODEL_ccd52ff0c7614b95b0290035f107a9be",
       "value": 20
      }
     },
     "263e723372a242c1a98efd9809901736": {
      "model_module": "@jupyter-widgets/controls",
      "model_module_version": "1.5.0",
      "model_name": "DescriptionStyleModel",
      "state": {
       "description_width": "initial"
      }
     },
     "264231184ede495fab911b764ebc2355": {
      "model_module": "@jupyter-widgets/base",
      "model_module_version": "1.2.0",
      "model_name": "LayoutModel",
      "state": {}
     },
     "2657835119ef4bf281d8f6d65da31d63": {
      "model_module": "@jupyter-widgets/base",
      "model_module_version": "1.2.0",
      "model_name": "LayoutModel",
      "state": {}
     },
     "268a6cb97e3a460ab30588bca796aeba": {
      "model_module": "@jupyter-widgets/controls",
      "model_module_version": "1.5.0",
      "model_name": "ButtonModel",
      "state": {
       "description": "Morse",
       "layout": "IPY_MODEL_58fd1bd12b2541ceb1b682dee2a7bb11",
       "style": "IPY_MODEL_de63c9804ebc4281ad0e4452832555f9"
      }
     },
     "26ba762784f4420eb6f4fdee7693a129": {
      "model_module": "@jupyter-widgets/controls",
      "model_module_version": "1.5.0",
      "model_name": "IntRangeSliderModel",
      "state": {
       "_model_name": "IntRangeSliderModel",
       "_view_name": "IntRangeSliderView",
       "continuous_update": false,
       "description": "Plotar estados:",
       "layout": "IPY_MODEL_cde0ed4fcf3049abaf0c54e8affe788f",
       "max": 20,
       "style": "IPY_MODEL_dc2adbd3cee549ce9aae0d8340aa8395",
       "value": [
        0,
        10
       ]
      }
     },
     "26cf9a35c7464d4b81bebf8ecc04200d": {
      "model_module": "@jupyter-widgets/controls",
      "model_module_version": "1.5.0",
      "model_name": "ButtonStyleModel",
      "state": {}
     },
     "26eab1d74cc64e5b86ce7d8ac6d8e16a": {
      "model_module": "@jupyter-widgets/base",
      "model_module_version": "1.2.0",
      "model_name": "LayoutModel",
      "state": {}
     },
     "26fc9576a2bb44d78a2e1e35e31d40ea": {
      "model_module": "@jupyter-widgets/controls",
      "model_module_version": "1.5.0",
      "model_name": "DescriptionStyleModel",
      "state": {
       "description_width": ""
      }
     },
     "27182e9b13c8460a941f7d4cfcf47157": {
      "model_module": "@jupyter-widgets/controls",
      "model_module_version": "1.5.0",
      "model_name": "DescriptionStyleModel",
      "state": {
       "description_width": ""
      }
     },
     "2750510422ea4a3faa8f379ed281d727": {
      "model_module": "@jupyter-widgets/controls",
      "model_module_version": "1.5.0",
      "model_name": "ButtonStyleModel",
      "state": {}
     },
     "27555245081a46fea7383b4998538640": {
      "model_module": "@jupyter-widgets/controls",
      "model_module_version": "1.5.0",
      "model_name": "IntSliderModel",
      "state": {
       "continuous_update": false,
       "description": "Margens horizontais  (angstroms):   ",
       "layout": "IPY_MODEL_d838689213c84e6095433f5b4242ef15",
       "style": "IPY_MODEL_08d009ff353649859f6dd65774069320",
       "value": 20
      }
     },
     "2772611044214764a11f14c04e25c49f": {
      "model_module": "@jupyter-widgets/controls",
      "model_module_version": "1.5.0",
      "model_name": "DescriptionStyleModel",
      "state": {
       "description_width": "initial"
      }
     },
     "277cef7386cf421989e5e8f9b865318a": {
      "model_module": "@jupyter-widgets/controls",
      "model_module_version": "1.5.0",
      "model_name": "ButtonModel",
      "state": {
       "description": "Oscilador Harmônico",
       "layout": "IPY_MODEL_5ffd35b773af4b2fa4819b96bd66abd3",
       "style": "IPY_MODEL_aa6760e1901b40edbd78251c822e21e4"
      }
     },
     "278e0e8fb6594a8e91dd3965273f3596": {
      "model_module": "@jupyter-widgets/controls",
      "model_module_version": "1.5.0",
      "model_name": "TabModel",
      "state": {
       "_titles": {
        "0": "Gerar o Sistema",
        "1": "Funções de Onda"
       },
       "children": [
        "IPY_MODEL_7fb42cf40ca1468d9e8efd3d88df8f38",
        "IPY_MODEL_8df79a4ec75144a293c035ea2fcd21e7"
       ],
       "layout": "IPY_MODEL_e335023a8727424d8727b06613231f37",
       "selected_index": 1
      }
     },
     "27af136354ff469c997df3a34db4ccbc": {
      "model_module": "@jupyter-widgets/controls",
      "model_module_version": "1.5.0",
      "model_name": "ButtonModel",
      "state": {
       "description": "Morse",
       "layout": "IPY_MODEL_2a51731511534079b728f459b5efaa1e",
       "style": "IPY_MODEL_981ac07e247b486c8f52b86a30851361"
      }
     },
     "27b89221c50646e7ad6fa7dd3ba9ef03": {
      "model_module": "@jupyter-widgets/base",
      "model_module_version": "1.2.0",
      "model_name": "LayoutModel",
      "state": {
       "display": "flex",
       "width": "90%"
      }
     },
     "27cf8ff63bac45f1a6e6410eaf5a4b12": {
      "model_module": "@jupyter-widgets/controls",
      "model_module_version": "1.5.0",
      "model_name": "ButtonStyleModel",
      "state": {}
     },
     "27d298ae1d4842cf9f812d6a3b8ed8d2": {
      "model_module": "@jupyter-widgets/base",
      "model_module_version": "1.2.0",
      "model_name": "LayoutModel",
      "state": {
       "display": "flex",
       "width": "90%"
      }
     },
     "27db3e73103f426ca36576bcfaf6ebe0": {
      "model_module": "@jupyter-widgets/controls",
      "model_module_version": "1.5.0",
      "model_name": "IntSliderModel",
      "state": {
       "description": "Altura da imagem (polegadas): ",
       "layout": "IPY_MODEL_bc2be9e3ba6a47ebb89b6e0933f66239",
       "max": 20,
       "style": "IPY_MODEL_18f2f8a991ff4e1fb35d77e82ec24187",
       "value": 9
      }
     },
     "27dba2895f6a41f7852be0eae08af8ff": {
      "model_module": "@jupyter-widgets/controls",
      "model_module_version": "1.5.0",
      "model_name": "LabelModel",
      "state": {
       "layout": "IPY_MODEL_28dd07dcdad04a60af2eeac0bac688ed",
       "style": "IPY_MODEL_1933c386d8ef4f88b7bc5d92ce089163",
       "value": "[-3.99984 , 0.00000]"
      }
     },
     "27ecbfac9d2c42519132044ea9d58ff6": {
      "model_module": "@jupyter-widgets/controls",
      "model_module_version": "1.5.0",
      "model_name": "IntSliderModel",
      "state": {
       "continuous_update": false,
       "description": "Número de pontos: ",
       "layout": "IPY_MODEL_69cf41ff543e47358fa11aec2440c8d7",
       "max": 1050,
       "min": 50,
       "step": 10,
       "style": "IPY_MODEL_7c7eb1e5b50442d68f971481809b0ccd",
       "value": 550
      }
     },
     "27eee3c094844d3eab6c345fddc1a8a9": {
      "model_module": "@jupyter-widgets/base",
      "model_module_version": "1.2.0",
      "model_name": "LayoutModel",
      "state": {}
     },
     "27fe7acc8b2e48fcbd8b593166397695": {
      "model_module": "@jupyter-widgets/controls",
      "model_module_version": "1.5.0",
      "model_name": "ButtonStyleModel",
      "state": {}
     },
     "28075881a80a427aa37575f973d3c901": {
      "model_module": "@jupyter-widgets/controls",
      "model_module_version": "1.5.0",
      "model_name": "DescriptionStyleModel",
      "state": {
       "description_width": "initial"
      }
     },
     "2891c3511475420d90494f3587554f4b": {
      "model_module": "@jupyter-widgets/base",
      "model_module_version": "1.2.0",
      "model_name": "LayoutModel",
      "state": {}
     },
     "28a62dc7fc95461196f1653e3d565f6e": {
      "model_module": "@jupyter-widgets/controls",
      "model_module_version": "1.5.0",
      "model_name": "FloatRangeSliderModel",
      "state": {
       "_model_name": "FloatRangeSliderModel",
       "_view_name": "FloatRangeSliderView",
       "continuous_update": false,
       "description": "Domínio de $\\Psi(x)$: ",
       "layout": "IPY_MODEL_cde0ed4fcf3049abaf0c54e8affe788f",
       "max": 150,
       "min": -150,
       "readout_format": "1d",
       "style": "IPY_MODEL_c63c6b310dae4541852060830cb30a60",
       "value": [
        -35,
        35
       ]
      }
     },
     "28cd9f147e6d4da1a95e73be32e6c9be": {
      "model_module": "@jupyter-widgets/base",
      "model_module_version": "1.2.0",
      "model_name": "LayoutModel",
      "state": {}
     },
     "28d8b8d390304c8fa3df55364327cb43": {
      "model_module": "@jupyter-widgets/controls",
      "model_module_version": "1.5.0",
      "model_name": "ButtonModel",
      "state": {
       "description": "Poço Infinito",
       "layout": "IPY_MODEL_163c2a6cdfe84140838ed53bc0b9297a",
       "style": "IPY_MODEL_69e430d1a8014b9ba6509314c4f2db9b"
      }
     },
     "28dd07dcdad04a60af2eeac0bac688ed": {
      "model_module": "@jupyter-widgets/base",
      "model_module_version": "1.2.0",
      "model_name": "LayoutModel",
      "state": {}
     },
     "28e29259644644089f3c01ee40d1f276": {
      "model_module": "@jupyter-widgets/controls",
      "model_module_version": "1.5.0",
      "model_name": "DescriptionStyleModel",
      "state": {
       "description_width": ""
      }
     },
     "2914ab3f3f6b47728c1934caec195aae": {
      "model_module": "@jupyter-widgets/base",
      "model_module_version": "1.2.0",
      "model_name": "LayoutModel",
      "state": {}
     },
     "291e63ec48194cb0979f3dcbb49a0d94": {
      "model_module": "@jupyter-widgets/controls",
      "model_module_version": "1.5.0",
      "model_name": "DescriptionStyleModel",
      "state": {
       "description_width": ""
      }
     },
     "291f2a6a1c134d278cd27856deaee4cf": {
      "model_module": "@jupyter-widgets/controls",
      "model_module_version": "1.5.0",
      "model_name": "DescriptionStyleModel",
      "state": {
       "description_width": ""
      }
     },
     "2963dcfcf8194ffc932e7abc63e2bb8e": {
      "model_module": "@jupyter-widgets/output",
      "model_module_version": "1.0.0",
      "model_name": "OutputModel",
      "state": {
       "layout": "IPY_MODEL_071f4922ce2c43e2afe2d65b32d0a885",
       "outputs": [
        {
         "data": {
          "application/vnd.jupyter.widget-view+json": {
           "model_id": "961aabfef47949c7bba2e81d1fabb3f3",
           "version_major": 2,
           "version_minor": 0
          },
          "text/plain": "Canvas(toolbar=Toolbar(toolitems=[('Home', 'Reset original view', 'home', 'home'), ('Back', 'Back to previous …"
         },
         "metadata": {},
         "output_type": "display_data"
        }
       ]
      }
     },
     "2993796bf05a4571bfc2ec86f15ab590": {
      "model_module": "@jupyter-widgets/base",
      "model_module_version": "1.2.0",
      "model_name": "LayoutModel",
      "state": {}
     },
     "29c9d024e3284398b37d8c8ff9498040": {
      "model_module": "@jupyter-widgets/controls",
      "model_module_version": "1.5.0",
      "model_name": "LabelModel",
      "state": {
       "layout": "IPY_MODEL_87594b261b29451c8bbfb9dfd393af71",
       "style": "IPY_MODEL_385d6a679b634f939d58a6b673c02034",
       "value": " 70.00"
      }
     },
     "29e5e91830ea49d79516006664dca728": {
      "model_module": "@jupyter-widgets/controls",
      "model_module_version": "1.5.0",
      "model_name": "LabelModel",
      "state": {
       "layout": "IPY_MODEL_df365bdf2ecb4a5f89c0f26052246f9e",
       "style": "IPY_MODEL_398fd475902d4e6bab70e806c206adc0",
       "value": "V(x)[min,max] (eV) ="
      }
     },
     "29f85111e98e482cba295e89f8b1d47b": {
      "model_module": "@jupyter-widgets/base",
      "model_module_version": "1.2.0",
      "model_name": "LayoutModel",
      "state": {}
     },
     "29f98da6c22249879736bdcbac1e2ec8": {
      "model_module": "@jupyter-widgets/base",
      "model_module_version": "1.2.0",
      "model_name": "LayoutModel",
      "state": {}
     },
     "2a06caf222f5472e8c1cacc51232907a": {
      "model_module": "@jupyter-widgets/controls",
      "model_module_version": "1.5.0",
      "model_name": "TabModel",
      "state": {
       "_titles": {
        "0": "Gerar o Sistema",
        "1": "Funções de Onda"
       },
       "children": [
        "IPY_MODEL_5d84a9ccca08499fb3fe67e88d021ed8",
        "IPY_MODEL_a2072e81695d4b1c85f0a31082098fd9"
       ],
       "layout": "IPY_MODEL_3659fe528cf44938829aabb5a47f519f",
       "selected_index": 1
      }
     },
     "2a51731511534079b728f459b5efaa1e": {
      "model_module": "@jupyter-widgets/base",
      "model_module_version": "1.2.0",
      "model_name": "LayoutModel",
      "state": {}
     },
     "2a5cc8d2416a476cb766bec463e25de2": {
      "model_module": "@jupyter-widgets/controls",
      "model_module_version": "1.5.0",
      "model_name": "VBoxModel",
      "state": {
       "children": [
        "IPY_MODEL_fe7138ff1a2c4ba78fbefe397487fe76",
        "IPY_MODEL_2fce19a762f24e0f8d19d533216b0587",
        "IPY_MODEL_0005c70228e746c68b49da27bf51c3a4"
       ],
       "layout": "IPY_MODEL_402fcc4e04c64b41a244f957b5ffc162"
      }
     },
     "2a8b177fe1b44103968859e0f3a75594": {
      "model_module": "@jupyter-widgets/base",
      "model_module_version": "1.2.0",
      "model_name": "LayoutModel",
      "state": {}
     },
     "2a8b23570a15485f8b20f2d02aeeb749": {
      "model_module": "@jupyter-widgets/controls",
      "model_module_version": "1.5.0",
      "model_name": "DescriptionStyleModel",
      "state": {
       "description_width": ""
      }
     },
     "2aba8f33897249a685c3335b08176d7e": {
      "model_module": "@jupyter-widgets/controls",
      "model_module_version": "1.5.0",
      "model_name": "ButtonStyleModel",
      "state": {}
     },
     "2ad8181ab6254b178f4799d985905c34": {
      "model_module": "@jupyter-widgets/controls",
      "model_module_version": "1.5.0",
      "model_name": "DescriptionStyleModel",
      "state": {
       "description_width": ""
      }
     },
     "2af3a1b7047045d0ab61c392489681e7": {
      "model_module": "@jupyter-widgets/controls",
      "model_module_version": "1.5.0",
      "model_name": "DescriptionStyleModel",
      "state": {
       "description_width": "initial"
      }
     },
     "2b38548770a246128e2b98f007c4989c": {
      "model_module": "@jupyter-widgets/output",
      "model_module_version": "1.0.0",
      "model_name": "OutputModel",
      "state": {
       "layout": "IPY_MODEL_71bb695749e2432997a873f9cedb7362"
      }
     },
     "2b53a500de2f4eda878afc1dea63f157": {
      "model_module": "@jupyter-widgets/controls",
      "model_module_version": "1.5.0",
      "model_name": "SliderStyleModel",
      "state": {
       "description_width": "initial"
      }
     },
     "2b6dda9e302643b296ae66f2f86ab1de": {
      "model_module": "@jupyter-widgets/controls",
      "model_module_version": "1.5.0",
      "model_name": "LabelModel",
      "state": {
       "layout": "IPY_MODEL_35f7d335fbdb4c8bb00862ed2899b2ac",
       "style": "IPY_MODEL_26fc9576a2bb44d78a2e1e35e31d40ea",
       "value": "L"
      }
     },
     "2b8481583bdd41f782f09fabca378dfa": {
      "model_module": "@jupyter-widgets/controls",
      "model_module_version": "1.5.0",
      "model_name": "DescriptionStyleModel",
      "state": {
       "description_width": ""
      }
     },
     "2ba2f4d08473435d89bd49154443aefb": {
      "model_module": "@jupyter-widgets/controls",
      "model_module_version": "1.5.0",
      "model_name": "IntSliderModel",
      "state": {
       "continuous_update": false,
       "description": "Margens horizontais  (angstroms):   ",
       "layout": "IPY_MODEL_4453439b85e9436890b7c25efe9dbc55",
       "style": "IPY_MODEL_452867fb9d834f538405e711b6ceae8e",
       "value": 50
      }
     },
     "2bd0cf2787e34d379ab8d0e171ecb175": {
      "model_module": "@jupyter-widgets/controls",
      "model_module_version": "1.5.0",
      "model_name": "ButtonStyleModel",
      "state": {}
     },
     "2bd773af647349f799fa7f99e41bd91c": {
      "model_module": "@jupyter-widgets/controls",
      "model_module_version": "1.5.0",
      "model_name": "IntRangeSliderModel",
      "state": {
       "_model_name": "IntRangeSliderModel",
       "_view_name": "IntRangeSliderView",
       "continuous_update": false,
       "description": "Plotar estados:",
       "layout": "IPY_MODEL_d838689213c84e6095433f5b4242ef15",
       "max": 20,
       "style": "IPY_MODEL_88d062cbd8df4909b23a0d06d536b7ea",
       "value": [
        0,
        10
       ]
      }
     },
     "2c2fa37492c44dc98778ea0fdc97c070": {
      "model_module": "@jupyter-widgets/base",
      "model_module_version": "1.2.0",
      "model_name": "LayoutModel",
      "state": {}
     },
     "2c71ee7951874dcfb3623504fccf7f82": {
      "model_module": "@jupyter-widgets/controls",
      "model_module_version": "1.5.0",
      "model_name": "ButtonStyleModel",
      "state": {}
     },
     "2c992a8322584f068f2deb98173b8e94": {
      "model_module": "@jupyter-widgets/controls",
      "model_module_version": "1.5.0",
      "model_name": "ButtonStyleModel",
      "state": {}
     },
     "2c9c1a9f7bef41b28c3cc078580b7295": {
      "model_module": "@jupyter-widgets/base",
      "model_module_version": "1.2.0",
      "model_name": "LayoutModel",
      "state": {}
     },
     "2cb4a352ef454ab7a4f3612b23cb1312": {
      "model_module": "@jupyter-widgets/controls",
      "model_module_version": "1.5.0",
      "model_name": "IntRangeSliderModel",
      "state": {
       "_model_name": "IntRangeSliderModel",
       "_view_name": "IntRangeSliderView",
       "continuous_update": false,
       "description": "Plotar estados:",
       "layout": "IPY_MODEL_27b89221c50646e7ad6fa7dd3ba9ef03",
       "max": 20,
       "style": "IPY_MODEL_6132fef46f0a4ae5a16d1ccb1e5dc1fb",
       "value": [
        0,
        10
       ]
      }
     },
     "2cb5a88d2f03442993647e1a456657da": {
      "model_module": "@jupyter-widgets/base",
      "model_module_version": "1.2.0",
      "model_name": "LayoutModel",
      "state": {}
     },
     "2cb8263da0d94a28ac09fbde9ce5f028": {
      "model_module": "@jupyter-widgets/controls",
      "model_module_version": "1.5.0",
      "model_name": "AccordionModel",
      "state": {
       "_titles": {
        "0": "Potenciais pré definidos"
       },
       "children": [
        "IPY_MODEL_b6b90204f0754deba093a81c7ca5ef3a"
       ],
       "layout": "IPY_MODEL_8fd4a8d8c2e14922a3d724b9e5c2e5aa"
      }
     },
     "2cbb1a973b4942d79a9e9cf59e6e3110": {
      "model_module": "@jupyter-widgets/controls",
      "model_module_version": "1.5.0",
      "model_name": "DescriptionStyleModel",
      "state": {
       "description_width": ""
      }
     },
     "2cf607b504bf408694da16b5de3bd5c3": {
      "model_module": "@jupyter-widgets/controls",
      "model_module_version": "1.5.0",
      "model_name": "VBoxModel",
      "state": {
       "children": [
        "IPY_MODEL_85c9e4e773444c0b90c65d560bf5af8d",
        "IPY_MODEL_441068eb7620469fbf70dfe8492150ce"
       ],
       "layout": "IPY_MODEL_bc39c7d762604fdfa6d4e482e77ec072"
      }
     },
     "2d0a9fc80bdd4f46ab8d60024829a477": {
      "model_module": "@jupyter-widgets/controls",
      "model_module_version": "1.5.0",
      "model_name": "IntSliderModel",
      "state": {
       "continuous_update": false,
       "description": "Margens horizontais  (angstroms):   ",
       "layout": "IPY_MODEL_68c51c051cb44ff8abf5058b8b77093c",
       "style": "IPY_MODEL_88ec622a08fc47fbbc0412d52448eec8",
       "value": 20
      }
     },
     "2d1e3674614b47948139d705f864f772": {
      "model_module": "@jupyter-widgets/controls",
      "model_module_version": "1.5.0",
      "model_name": "ButtonModel",
      "state": {
       "description": "Oscilador Harmônico",
       "layout": "IPY_MODEL_ea5ba12ebc7546e88306966de7652112",
       "style": "IPY_MODEL_6fe1d4bb710b4400a8f08f8d633e7d2d"
      }
     },
     "2d49e47d98684ca5b657b3a1b8040f14": {
      "model_module": "@jupyter-widgets/base",
      "model_module_version": "1.2.0",
      "model_name": "LayoutModel",
      "state": {}
     },
     "2d4e9921cfa144bfb06697c8041cbacc": {
      "model_module": "@jupyter-widgets/base",
      "model_module_version": "1.2.0",
      "model_name": "LayoutModel",
      "state": {}
     },
     "2d541a42f74c451fa0d2846c7aa37175": {
      "model_module": "@jupyter-widgets/base",
      "model_module_version": "1.2.0",
      "model_name": "LayoutModel",
      "state": {}
     },
     "2d5bd2b1f79d4a709148dfae52f4a6af": {
      "model_module": "@jupyter-widgets/controls",
      "model_module_version": "1.5.0",
      "model_name": "ButtonModel",
      "state": {
       "description": "Duffing Holmes (+)",
       "layout": "IPY_MODEL_4bf22b8c6e1f4b74af8048ed79860e81",
       "style": "IPY_MODEL_a281c2f049484e12a9295d64cced2541"
      }
     },
     "2d6cdab7fcf24fa28c6d3437ac743cb0": {
      "model_module": "@jupyter-widgets/controls",
      "model_module_version": "1.5.0",
      "model_name": "ButtonStyleModel",
      "state": {}
     },
     "2d84204ed43849b9bc1d7844a0bd6ee7": {
      "model_module": "@jupyter-widgets/controls",
      "model_module_version": "1.5.0",
      "model_name": "ButtonStyleModel",
      "state": {}
     },
     "2d95514773c74f13a41c7ed345f27743": {
      "model_module": "@jupyter-widgets/controls",
      "model_module_version": "1.5.0",
      "model_name": "IntSliderModel",
      "state": {
       "continuous_update": false,
       "description": "Número de pontos: ",
       "layout": "IPY_MODEL_7bd99c6c0a4e4288b3e09cc2c80ccdda",
       "max": 1050,
       "min": 50,
       "step": 10,
       "style": "IPY_MODEL_ffaf69b89a724f8ea00308e1677dc4bb",
       "value": 550
      }
     },
     "2d96f892ed8a4485ba500a8a3a36f8b6": {
      "model_module": "@jupyter-widgets/base",
      "model_module_version": "1.2.0",
      "model_name": "LayoutModel",
      "state": {}
     },
     "2daba682df1f427a9012024fb96240ce": {
      "model_module": "@jupyter-widgets/controls",
      "model_module_version": "1.5.0",
      "model_name": "DescriptionStyleModel",
      "state": {
       "description_width": "initial"
      }
     },
     "2dd511ab2df14223895fccfc09e4e66d": {
      "model_module": "@jupyter-widgets/base",
      "model_module_version": "1.2.0",
      "model_name": "LayoutModel",
      "state": {}
     },
     "2e21ad2e604f44acaf150b99a11b940d": {
      "model_module": "@jupyter-widgets/base",
      "model_module_version": "1.2.0",
      "model_name": "LayoutModel",
      "state": {}
     },
     "2e511f9ea3eb4186b89f30965c2e85c0": {
      "model_module": "@jupyter-widgets/controls",
      "model_module_version": "1.5.0",
      "model_name": "DescriptionStyleModel",
      "state": {
       "description_width": ""
      }
     },
     "2e9d50bdf39040aca6e51549367cab8e": {
      "model_module": "@jupyter-widgets/base",
      "model_module_version": "1.2.0",
      "model_name": "LayoutModel",
      "state": {
       "grid_template_columns": "repeat(auto-fill, 180px)"
      }
     },
     "2e9e6746629b4f05b407b9203f983180": {
      "model_module": "@jupyter-widgets/base",
      "model_module_version": "1.2.0",
      "model_name": "LayoutModel",
      "state": {}
     },
     "2ebfea835bc04c418c30d81675576aca": {
      "model_module": "@jupyter-widgets/controls",
      "model_module_version": "1.5.0",
      "model_name": "SliderStyleModel",
      "state": {
       "description_width": "initial"
      }
     },
     "2eced82dd412480b99d8c2a34ee3253d": {
      "model_module": "@jupyter-widgets/base",
      "model_module_version": "1.2.0",
      "model_name": "LayoutModel",
      "state": {}
     },
     "2f3a8211e98a4dc68d050e33d2dfc9ce": {
      "model_module": "@jupyter-widgets/controls",
      "model_module_version": "1.5.0",
      "model_name": "VBoxModel",
      "state": {
       "_dom_classes": [
        "widget-interact"
       ],
       "children": [
        "IPY_MODEL_0ec362788bec41618a7e65117c576cba",
        "IPY_MODEL_bbb841afc01b4ad190c0d4b21fe3737b",
        "IPY_MODEL_8849856ce62441eb9985de252c87af99",
        "IPY_MODEL_936991cfdc704d2fa9231d5709d2b8a0",
        "IPY_MODEL_b95e8569acd740558ae5492f8005b09b"
       ],
       "layout": "IPY_MODEL_92fd0934cea749baac7ad6abcfd19a5b"
      }
     },
     "2f88bbc5b74b47868f7ddcc062926593": {
      "model_module": "@jupyter-widgets/controls",
      "model_module_version": "1.5.0",
      "model_name": "GridBoxModel",
      "state": {
       "children": [
        "IPY_MODEL_51ebfecbc6fc4d869046813eb6cefd8e",
        "IPY_MODEL_7b0f46459a0644d6a0585eb7fd9e80b3",
        "IPY_MODEL_93ed4aec83cd4730945450f231c92d87",
        "IPY_MODEL_a6b9a634af6e41fa86a0fcbcb358a36b",
        "IPY_MODEL_34009827b818456da222f7bf50576781",
        "IPY_MODEL_1cda11296cc146f7a12d07d59cb671b6",
        "IPY_MODEL_7a5a7aac316c4c2db7f61f84794b358b",
        "IPY_MODEL_10f35dfe119c4dbfb7ba6e68e964de18",
        "IPY_MODEL_65b63b12212a4f61943ae39d7e28294f",
        "IPY_MODEL_16a90f826a3146a382f63ef91e997f5a"
       ],
       "layout": "IPY_MODEL_7ace252a77354ab7a43d46ac696f15d4"
      }
     },
     "2fce19a762f24e0f8d19d533216b0587": {
      "model_module": "@jupyter-widgets/controls",
      "model_module_version": "1.5.0",
      "model_name": "VBoxModel",
      "state": {
       "_dom_classes": [
        "widget-interact"
       ],
       "children": [
        "IPY_MODEL_939f13fe6224473b8e1d20e9ed6cc9b8",
        "IPY_MODEL_2d95514773c74f13a41c7ed345f27743",
        "IPY_MODEL_f1c87612b05644caa3b9d5e23e657baa",
        "IPY_MODEL_80f1086bbd9c49d48e1c7122e5c44cb8",
        "IPY_MODEL_5158b9277aee4ddfb6b58f3d624558aa"
       ],
       "layout": "IPY_MODEL_8c5a7f5683f14609a94253792589a0ac"
      }
     },
     "3013df82cad74a2284e1ed6d351bc969": {
      "model_module": "@jupyter-widgets/controls",
      "model_module_version": "1.5.0",
      "model_name": "ButtonStyleModel",
      "state": {}
     },
     "30308b69da4e4c71b6d43720d62f079e": {
      "model_module": "@jupyter-widgets/base",
      "model_module_version": "1.2.0",
      "model_name": "LayoutModel",
      "state": {}
     },
     "3039ef7ef6aa4129b314e55b55e93347": {
      "model_module": "@jupyter-widgets/controls",
      "model_module_version": "1.5.0",
      "model_name": "DescriptionStyleModel",
      "state": {
       "description_width": "initial"
      }
     },
     "304bb5da221547629ec1aa58a2fdd1a5": {
      "model_module": "@jupyter-widgets/base",
      "model_module_version": "1.2.0",
      "model_name": "LayoutModel",
      "state": {}
     },
     "3054dd6a42c14403adb237696c918860": {
      "model_module": "@jupyter-widgets/base",
      "model_module_version": "1.2.0",
      "model_name": "LayoutModel",
      "state": {
       "grid_template_columns": "repeat(2, 250px)"
      }
     },
     "3070f9637be34c64bc0b2d66c40307a6": {
      "model_module": "@jupyter-widgets/base",
      "model_module_version": "1.2.0",
      "model_name": "LayoutModel",
      "state": {
       "display": "flex",
       "width": "90%"
      }
     },
     "307226430ac1492aa6328c54571a884c": {
      "model_module": "@jupyter-widgets/controls",
      "model_module_version": "1.5.0",
      "model_name": "ButtonModel",
      "state": {
       "description": "Campo Uniforme (+)",
       "layout": "IPY_MODEL_fca092db64bc4151beaeb27d88f40dd9",
       "style": "IPY_MODEL_222a2417102e4afbbe2e55314e20b88b"
      }
     },
     "307bf2d996fd45b5ba351378b8ad2e30": {
      "model_module": "@jupyter-widgets/controls",
      "model_module_version": "1.5.0",
      "model_name": "DescriptionStyleModel",
      "state": {
       "description_width": ""
      }
     },
     "30877f0e48754b13ad30457c2787da35": {
      "model_module": "@jupyter-widgets/controls",
      "model_module_version": "1.5.0",
      "model_name": "LabelModel",
      "state": {
       "layout": "IPY_MODEL_80e03f588da4422c86f1882e0ebbf85e",
       "style": "IPY_MODEL_97a101a3ba7a4d7c8cfb09ddae038f15",
       "value": "-4*(np.cosh(0.1*x/ang)**(-2))"
      }
     },
     "30be0508166d40d28cf2608f0808a4c8": {
      "model_module": "@jupyter-widgets/controls",
      "model_module_version": "1.5.0",
      "model_name": "TextModel",
      "state": {
       "description": "Expressão de $V(x)$: ",
       "layout": "IPY_MODEL_16010a52e9f5434c96eff916c5d6459a",
       "placeholder": "Escreva a expressão aqui.",
       "style": "IPY_MODEL_dfabe382d4be440c85676a941027e652",
       "value": "-4*(np.cosh(0.1*x/ang)**(-2))"
      }
     },
     "30fee3bee72a46bba84d555e2df91d78": {
      "model_module": "@jupyter-widgets/output",
      "model_module_version": "1.0.0",
      "model_name": "OutputModel",
      "state": {
       "layout": "IPY_MODEL_c3b3a737f2af4f52ac9e997cea6a503c"
      }
     },
     "31103c93959e453ea03d3317067da944": {
      "model_module": "@jupyter-widgets/controls",
      "model_module_version": "1.5.0",
      "model_name": "IntSliderModel",
      "state": {
       "description": "Pixels por polegada:",
       "layout": "IPY_MODEL_5236d5a105df4481ab46f86aee6cf699",
       "max": 300,
       "min": 10,
       "style": "IPY_MODEL_7eff57dfcbff4c34acf01bda48dabac9",
       "value": 80
      }
     },
     "3112554fa6fb4607aa7292878573d459": {
      "model_module": "@jupyter-widgets/controls",
      "model_module_version": "1.5.0",
      "model_name": "LabelModel",
      "state": {
       "layout": "IPY_MODEL_0222967432cc435daa1422e3b0f0999d",
       "style": "IPY_MODEL_8086a713a8a146e68b89115a5970b949",
       "value": " 550"
      }
     },
     "311dc1740d2a44c89e3b6114cc83b2a8": {
      "model_module": "@jupyter-widgets/base",
      "model_module_version": "1.2.0",
      "model_name": "LayoutModel",
      "state": {}
     },
     "314624b0b2224f1ea091922b4486e47a": {
      "model_module": "@jupyter-widgets/controls",
      "model_module_version": "1.5.0",
      "model_name": "LabelModel",
      "state": {
       "layout": "IPY_MODEL_d4016d5708404a8d9e088add20cef887",
       "style": "IPY_MODEL_b9dd58b3fb7940e191d119fdbcf4225b",
       "value": " 0.13"
      }
     },
     "31536a10a3094f15a42d41c2f3610146": {
      "model_module": "@jupyter-widgets/base",
      "model_module_version": "1.2.0",
      "model_name": "LayoutModel",
      "state": {}
     },
     "317f0825cf284e9194d1ca4c9576d400": {
      "model_module": "@jupyter-widgets/controls",
      "model_module_version": "1.5.0",
      "model_name": "SliderStyleModel",
      "state": {
       "description_width": "initial"
      }
     },
     "3190d0c34f9f4e679c5c8c0d2ebe045a": {
      "model_module": "@jupyter-widgets/base",
      "model_module_version": "1.2.0",
      "model_name": "LayoutModel",
      "state": {}
     },
     "31a4a3c15cb94154869eb65b79e3d5f4": {
      "model_module": "@jupyter-widgets/base",
      "model_module_version": "1.2.0",
      "model_name": "LayoutModel",
      "state": {}
     },
     "31adc9e4b3204c9bab3ee7fb8d1961ec": {
      "model_module": "@jupyter-widgets/controls",
      "model_module_version": "1.5.0",
      "model_name": "DescriptionStyleModel",
      "state": {
       "description_width": ""
      }
     },
     "31e630cd1daa40d38042223b65b44869": {
      "model_module": "@jupyter-widgets/controls",
      "model_module_version": "1.5.0",
      "model_name": "DescriptionStyleModel",
      "state": {
       "description_width": ""
      }
     },
     "31f83bfc8e594cdeb5136a2667cac683": {
      "model_module": "@jupyter-widgets/controls",
      "model_module_version": "1.5.0",
      "model_name": "IntSliderModel",
      "state": {
       "continuous_update": false,
       "description": "Margens horizontais  (angstroms):   ",
       "layout": "IPY_MODEL_27d298ae1d4842cf9f812d6a3b8ed8d2",
       "style": "IPY_MODEL_5c8a514816714a6ebb2b2eb3b0cb4383",
       "value": 20
      }
     },
     "3203d98656614f5ca8bdc81a1ba9911c": {
      "model_module": "@jupyter-widgets/base",
      "model_module_version": "1.2.0",
      "model_name": "LayoutModel",
      "state": {}
     },
     "3221835afcb24daba5078454cd9d9567": {
      "model_module": "@jupyter-widgets/controls",
      "model_module_version": "1.5.0",
      "model_name": "ButtonModel",
      "state": {
       "description": "Morse",
       "layout": "IPY_MODEL_30308b69da4e4c71b6d43720d62f079e",
       "style": "IPY_MODEL_14a0782c29e54deba36cb867d2e30aa9"
      }
     },
     "3226950d341543668f66eaee6e1deb3f": {
      "model_module": "@jupyter-widgets/base",
      "model_module_version": "1.2.0",
      "model_name": "LayoutModel",
      "state": {}
     },
     "323f81e6612242d89f5a01e809d292e4": {
      "model_module": "@jupyter-widgets/controls",
      "model_module_version": "1.5.0",
      "model_name": "SliderStyleModel",
      "state": {
       "description_width": "initial"
      }
     },
     "3243c8e227744a3f86c2e65f4b8640a0": {
      "model_module": "@jupyter-widgets/controls",
      "model_module_version": "1.5.0",
      "model_name": "DescriptionStyleModel",
      "state": {
       "description_width": ""
      }
     },
     "32536cb7bf074a5b95a13045611ee5f9": {
      "model_module": "@jupyter-widgets/base",
      "model_module_version": "1.2.0",
      "model_name": "LayoutModel",
      "state": {}
     },
     "3268d73b86f24639a88cae496ccbb74a": {
      "model_module": "@jupyter-widgets/base",
      "model_module_version": "1.2.0",
      "model_name": "LayoutModel",
      "state": {}
     },
     "32af51dce0654027bf0bdf728075045c": {
      "model_module": "@jupyter-widgets/controls",
      "model_module_version": "1.5.0",
      "model_name": "ButtonModel",
      "state": {
       "description": "Poço Triangular",
       "layout": "IPY_MODEL_87d42eb0d5df45159dad20895afe5412",
       "style": "IPY_MODEL_7a41a799b34d433e8d55ea3587af361a"
      }
     },
     "32b8efae942e40d78b0dce6d25293398": {
      "model_module": "@jupyter-widgets/base",
      "model_module_version": "1.2.0",
      "model_name": "LayoutModel",
      "state": {
       "width": "100%"
      }
     },
     "32ba71bf31ec4fe0a574820b52858019": {
      "model_module": "@jupyter-widgets/base",
      "model_module_version": "1.2.0",
      "model_name": "LayoutModel",
      "state": {}
     },
     "32d6f7cb635848d99ddde1160289e5ba": {
      "model_module": "@jupyter-widgets/controls",
      "model_module_version": "1.5.0",
      "model_name": "VBoxModel",
      "state": {
       "_dom_classes": [
        "widget-interact"
       ],
       "children": [
        "IPY_MODEL_63db19d143fd456c8e0527f9932ddf2d",
        "IPY_MODEL_be4e443c9b3a4c87a3460939c380d53e",
        "IPY_MODEL_55266da57d0d48ea891616167248eac3",
        "IPY_MODEL_a58ae174a52046ddbb2f0c9b6d1c6d6d",
        "IPY_MODEL_8054b2618f5d4ddb87f3964dd77323a0"
       ],
       "layout": "IPY_MODEL_0c4372792477405a8a992d608d0a65e2"
      }
     },
     "32e5456177784a9283d4c0f10cf7cb3a": {
      "model_module": "@jupyter-widgets/controls",
      "model_module_version": "1.5.0",
      "model_name": "LabelModel",
      "state": {
       "layout": "IPY_MODEL_f67e8d84f2b9430b9fec674abadde4fe",
       "style": "IPY_MODEL_c7d49f88d55b4177b8e8d3b63fbfb3b4",
       "value": " 0.13"
      }
     },
     "33285c72ce2041d7b670858cf27de3eb": {
      "model_module": "@jupyter-widgets/controls",
      "model_module_version": "1.5.0",
      "model_name": "ButtonModel",
      "state": {
       "description": "Plotar",
       "layout": "IPY_MODEL_9bbac154f96743a3804eab8e7a92b716",
       "style": "IPY_MODEL_605602aeda814d909b360015f84846d6"
      }
     },
     "334b3efe487549ef9e408ff00d8aef0c": {
      "model_module": "@jupyter-widgets/controls",
      "model_module_version": "1.5.0",
      "model_name": "ButtonStyleModel",
      "state": {}
     },
     "3353e23a28294b84a4e96774007be176": {
      "model_module": "@jupyter-widgets/base",
      "model_module_version": "1.2.0",
      "model_name": "LayoutModel",
      "state": {}
     },
     "335a0516a9074be3a3fca34cc201efbf": {
      "model_module": "@jupyter-widgets/controls",
      "model_module_version": "1.5.0",
      "model_name": "ButtonModel",
      "state": {
       "description": "Campo Uniforme (+)",
       "layout": "IPY_MODEL_65eeaaf6495945b2ab4deb0988a40359",
       "style": "IPY_MODEL_ed942aa6b12d43c99ee4dd2f0a9fe230"
      }
     },
     "337e6e4a8a9b4b868e48320a6c8fc15c": {
      "model_module": "@jupyter-widgets/base",
      "model_module_version": "1.2.0",
      "model_name": "LayoutModel",
      "state": {}
     },
     "33cdedecdfee4bb1bb9944df673f9fa5": {
      "model_module": "@jupyter-widgets/controls",
      "model_module_version": "1.5.0",
      "model_name": "DescriptionStyleModel",
      "state": {
       "description_width": ""
      }
     },
     "34009827b818456da222f7bf50576781": {
      "model_module": "@jupyter-widgets/controls",
      "model_module_version": "1.5.0",
      "model_name": "ButtonModel",
      "state": {
       "description": "Oscilador Harmônico",
       "layout": "IPY_MODEL_cb23b8f8528f4f6bb044039b69d70d50",
       "style": "IPY_MODEL_c223f01d0616487ba808c21cd075bbc9"
      }
     },
     "341c925363304b01ad55d24ac7c356ca": {
      "model_module": "@jupyter-widgets/controls",
      "model_module_version": "1.5.0",
      "model_name": "ButtonStyleModel",
      "state": {}
     },
     "342a74fb3c1d47419f67bfd24f097960": {
      "model_module": "@jupyter-widgets/base",
      "model_module_version": "1.2.0",
      "model_name": "LayoutModel",
      "state": {}
     },
     "34825e77e67345fca5ed3114c4a73bf7": {
      "model_module": "@jupyter-widgets/controls",
      "model_module_version": "1.5.0",
      "model_name": "FloatRangeSliderModel",
      "state": {
       "_model_name": "FloatRangeSliderModel",
       "_view_name": "FloatRangeSliderView",
       "continuous_update": false,
       "description": "Domínio de $\\Psi(x)$: ",
       "layout": "IPY_MODEL_5236d5a105df4481ab46f86aee6cf699",
       "max": 150,
       "min": -150,
       "readout_format": "1d",
       "style": "IPY_MODEL_ba046f88b18b4bc381fdabe698c19480",
       "value": [
        -35,
        35
       ]
      }
     },
     "34ac076769bd44e4aa9d1aeabf3bb95d": {
      "model_module": "@jupyter-widgets/controls",
      "model_module_version": "1.5.0",
      "model_name": "SliderStyleModel",
      "state": {
       "description_width": "initial"
      }
     },
     "34b4a3584539426eb9db4885a04a77fe": {
      "model_module": "@jupyter-widgets/base",
      "model_module_version": "1.2.0",
      "model_name": "LayoutModel",
      "state": {}
     },
     "34c0c81de5fd45a8877ecb1714d6ec55": {
      "model_module": "@jupyter-widgets/controls",
      "model_module_version": "1.5.0",
      "model_name": "ButtonStyleModel",
      "state": {}
     },
     "34dfb774b7774259810a032e68e0b257": {
      "model_module": "@jupyter-widgets/base",
      "model_module_version": "1.2.0",
      "model_name": "LayoutModel",
      "state": {}
     },
     "3524b1571c32450bb650cc302df2b699": {
      "model_module": "@jupyter-widgets/controls",
      "model_module_version": "1.5.0",
      "model_name": "GridBoxModel",
      "state": {
       "children": [
        "IPY_MODEL_0651b1e0f5ae4b2abafad16ecc9c6331",
        "IPY_MODEL_8e153eff4f7a44eca2812cc2f1a91ce7",
        "IPY_MODEL_014990c504614445983829bd8009851a",
        "IPY_MODEL_514724892349453ea7bfd49ea6bfd254",
        "IPY_MODEL_2d1e3674614b47948139d705f864f772",
        "IPY_MODEL_2d5bd2b1f79d4a709148dfae52f4a6af",
        "IPY_MODEL_4a72d4e322c743efa06c6e6fd3e9f363",
        "IPY_MODEL_69f9b1ab54824aecb1ae953c02907f01",
        "IPY_MODEL_a3c7da9f55e944e3ba72752f3a79aec2",
        "IPY_MODEL_043846ceeb854190b84543e11d5ec57b"
       ],
       "layout": "IPY_MODEL_146716b397834c7cabacd8358959befc"
      }
     },
     "352e4998b3c24cb1a92b7e1a76842aa9": {
      "model_module": "@jupyter-widgets/base",
      "model_module_version": "1.2.0",
      "model_name": "LayoutModel",
      "state": {}
     },
     "356fafff999e45a1b540169c5d7d0dbb": {
      "model_module": "@jupyter-widgets/base",
      "model_module_version": "1.2.0",
      "model_name": "LayoutModel",
      "state": {}
     },
     "35703a5b42e6461f9feaae110b39ea69": {
      "model_module": "@jupyter-widgets/base",
      "model_module_version": "1.2.0",
      "model_name": "LayoutModel",
      "state": {}
     },
     "359a8440e7b44e3082d108ed65169df9": {
      "model_module": "@jupyter-widgets/controls",
      "model_module_version": "1.5.0",
      "model_name": "ButtonStyleModel",
      "state": {}
     },
     "359b3f1cc15d4ef88caa8aaea0704fa1": {
      "model_module": "@jupyter-widgets/base",
      "model_module_version": "1.2.0",
      "model_name": "LayoutModel",
      "state": {}
     },
     "35c1eb153caa418e82debbba7f0ae34e": {
      "model_module": "@jupyter-widgets/controls",
      "model_module_version": "1.5.0",
      "model_name": "LabelModel",
      "state": {
       "layout": "IPY_MODEL_be521859c97f4ab899f4ac9aa05929d5",
       "style": "IPY_MODEL_21781defb6014bc89acffd563d2b52e1",
       "value": " 550"
      }
     },
     "35f7d335fbdb4c8bb00862ed2899b2ac": {
      "model_module": "@jupyter-widgets/base",
      "model_module_version": "1.2.0",
      "model_name": "LayoutModel",
      "state": {}
     },
     "360d261f6de444498743fb2b7f81d018": {
      "model_module": "@jupyter-widgets/base",
      "model_module_version": "1.2.0",
      "model_name": "LayoutModel",
      "state": {}
     },
     "36173749446d46b68fb251782d74ad46": {
      "model_module": "@jupyter-widgets/base",
      "model_module_version": "1.2.0",
      "model_name": "LayoutModel",
      "state": {}
     },
     "363b8e994403463d86496e21c49bc895": {
      "model_module": "@jupyter-widgets/base",
      "model_module_version": "1.2.0",
      "model_name": "LayoutModel",
      "state": {}
     },
     "36534c46ad104544abef1e7f63b13438": {
      "model_module": "@jupyter-widgets/controls",
      "model_module_version": "1.5.0",
      "model_name": "DescriptionStyleModel",
      "state": {
       "description_width": ""
      }
     },
     "3659d359a2e941a0aea379d4dbe3317f": {
      "model_module": "@jupyter-widgets/base",
      "model_module_version": "1.2.0",
      "model_name": "LayoutModel",
      "state": {}
     },
     "3659fe528cf44938829aabb5a47f519f": {
      "model_module": "@jupyter-widgets/base",
      "model_module_version": "1.2.0",
      "model_name": "LayoutModel",
      "state": {}
     },
     "36693922283d49feb063c2d38131595b": {
      "model_module": "@jupyter-widgets/controls",
      "model_module_version": "1.5.0",
      "model_name": "IntSliderModel",
      "state": {
       "description": "Pixels por polegada:",
       "layout": "IPY_MODEL_21455e0c53a34a9bbf221a1873be28b1",
       "max": 300,
       "min": 10,
       "style": "IPY_MODEL_c2547d5fcf014fa7a6d72d24382726c1",
       "value": 80
      }
     },
     "367f28f901964076917792fa72864c61": {
      "model_module": "@jupyter-widgets/controls",
      "model_module_version": "1.5.0",
      "model_name": "ButtonModel",
      "state": {
       "description": "Morse",
       "layout": "IPY_MODEL_baf74f417d9949c2b803a1d585661dfd",
       "style": "IPY_MODEL_39162014c5c84cc7bdac9f1ca779387c"
      }
     },
     "369d4416b64e46d59aeef00dcc954136": {
      "model_module": "@jupyter-widgets/base",
      "model_module_version": "1.2.0",
      "model_name": "LayoutModel",
      "state": {}
     },
     "36a48e6922024f528e268d7db198da24": {
      "model_module": "@jupyter-widgets/base",
      "model_module_version": "1.2.0",
      "model_name": "LayoutModel",
      "state": {}
     },
     "36d1cff3adb9423993f1f409627b73f8": {
      "model_module": "@jupyter-widgets/controls",
      "model_module_version": "1.5.0",
      "model_name": "DescriptionStyleModel",
      "state": {
       "description_width": "initial"
      }
     },
     "3718812773714fceae175aeab2da1a9a": {
      "model_module": "@jupyter-widgets/base",
      "model_module_version": "1.2.0",
      "model_name": "LayoutModel",
      "state": {}
     },
     "373f0d2b12f0490fa6588aa3321fa8e8": {
      "model_module": "@jupyter-widgets/base",
      "model_module_version": "1.2.0",
      "model_name": "LayoutModel",
      "state": {}
     },
     "3757f3d3f9c74f0186f83fd01cae6c19": {
      "model_module": "@jupyter-widgets/base",
      "model_module_version": "1.2.0",
      "model_name": "LayoutModel",
      "state": {}
     },
     "37818faf31ba46e28051def4d2f2b6ae": {
      "model_module": "@jupyter-widgets/controls",
      "model_module_version": "1.5.0",
      "model_name": "ButtonModel",
      "state": {
       "description": "Poço Triangular",
       "layout": "IPY_MODEL_977454a871b0489aa3c7bf9612a044a3",
       "style": "IPY_MODEL_da793c89dac541ada7578098a09b3070"
      }
     },
     "378b6bda4dee4fbba55b892158ee3d00": {
      "model_module": "@jupyter-widgets/base",
      "model_module_version": "1.2.0",
      "model_name": "LayoutModel",
      "state": {}
     },
     "3796ee51230f4c16a0918b78ddc32ac8": {
      "model_module": "@jupyter-widgets/controls",
      "model_module_version": "1.5.0",
      "model_name": "DescriptionStyleModel",
      "state": {
       "description_width": ""
      }
     },
     "37b09dd3aa1940539b75634e10bbf518": {
      "model_module": "@jupyter-widgets/controls",
      "model_module_version": "1.5.0",
      "model_name": "ButtonStyleModel",
      "state": {}
     },
     "37f2239d5a294a919714bc074dcc5608": {
      "model_module": "@jupyter-widgets/controls",
      "model_module_version": "1.5.0",
      "model_name": "SliderStyleModel",
      "state": {
       "description_width": "initial"
      }
     },
     "3830da0d770a4172b1bd0040dcd2c3d2": {
      "model_module": "@jupyter-widgets/controls",
      "model_module_version": "1.5.0",
      "model_name": "AccordionModel",
      "state": {
       "_titles": {
        "0": "Diagonalizar/Informações"
       },
       "children": [
        "IPY_MODEL_886fae731a4f40b4a67b7e9d84c99e44"
       ],
       "layout": "IPY_MODEL_aed8e3d5423543fd9e48fdddcfec0049"
      }
     },
     "385d6a679b634f939d58a6b673c02034": {
      "model_module": "@jupyter-widgets/controls",
      "model_module_version": "1.5.0",
      "model_name": "DescriptionStyleModel",
      "state": {
       "description_width": ""
      }
     },
     "386657d466f748c0963e7bf511a1e5dd": {
      "model_module": "@jupyter-widgets/controls",
      "model_module_version": "1.5.0",
      "model_name": "DescriptionStyleModel",
      "state": {
       "description_width": ""
      }
     },
     "38a9a04fc71d4423a7ffdff132ace41d": {
      "model_module": "@jupyter-widgets/base",
      "model_module_version": "1.2.0",
      "model_name": "LayoutModel",
      "state": {}
     },
     "38bda774b6e449cc8c2f039f3ff5caa2": {
      "model_module": "@jupyter-widgets/controls",
      "model_module_version": "1.5.0",
      "model_name": "IntRangeSliderModel",
      "state": {
       "_model_name": "IntRangeSliderModel",
       "_view_name": "IntRangeSliderView",
       "continuous_update": false,
       "description": "Plotar estados:",
       "layout": "IPY_MODEL_69cf41ff543e47358fa11aec2440c8d7",
       "max": 20,
       "style": "IPY_MODEL_18ddacbceb8a45f3afe8748c04ba4304",
       "value": [
        0,
        10
       ]
      }
     },
     "38effcc99ab04dd68061023af67d9b28": {
      "model_module": "@jupyter-widgets/base",
      "model_module_version": "1.2.0",
      "model_name": "LayoutModel",
      "state": {}
     },
     "3900688c1db24f10b7766bdc2af7bfc0": {
      "model_module": "@jupyter-widgets/base",
      "model_module_version": "1.2.0",
      "model_name": "LayoutModel",
      "state": {}
     },
     "39162014c5c84cc7bdac9f1ca779387c": {
      "model_module": "@jupyter-widgets/controls",
      "model_module_version": "1.5.0",
      "model_name": "ButtonStyleModel",
      "state": {}
     },
     "391a15e3c0304f07b4b315b3a3b92d28": {
      "model_module": "@jupyter-widgets/controls",
      "model_module_version": "1.5.0",
      "model_name": "ButtonStyleModel",
      "state": {}
     },
     "3947521b2a604b218ba1ed6d7c8f997b": {
      "model_module": "@jupyter-widgets/base",
      "model_module_version": "1.2.0",
      "model_name": "LayoutModel",
      "state": {}
     },
     "3968a2e26424416e85b0cfab79e9187e": {
      "model_module": "@jupyter-widgets/controls",
      "model_module_version": "1.5.0",
      "model_name": "ButtonModel",
      "state": {
       "description": "Duffing Holmes (+)",
       "layout": "IPY_MODEL_203afe1de6d94182b332e002f7eb16a1",
       "style": "IPY_MODEL_11a4ad4ce01c457d85632fd6b8569969"
      }
     },
     "398fd475902d4e6bab70e806c206adc0": {
      "model_module": "@jupyter-widgets/controls",
      "model_module_version": "1.5.0",
      "model_name": "DescriptionStyleModel",
      "state": {
       "description_width": ""
      }
     },
     "399b53e5b156487fb1de5350bcb95e07": {
      "model_module": "@jupyter-widgets/controls",
      "model_module_version": "1.5.0",
      "model_name": "VBoxModel",
      "state": {
       "_dom_classes": [
        "widget-interact"
       ],
       "children": [
        "IPY_MODEL_28a62dc7fc95461196f1653e3d565f6e",
        "IPY_MODEL_4839d0c1326e408094bce00590dcdbb6",
        "IPY_MODEL_8ed0ea180f3345b5a7aaefc815da140b",
        "IPY_MODEL_fc0e67e4b48e40a5a6e4bfb8e74614eb",
        "IPY_MODEL_fc8f9e24702546439e06fa3b79c476eb"
       ],
       "layout": "IPY_MODEL_9a1914d009e74f708313da38b1a12a30"
      }
     },
     "39d2a367f4554e1cbeee090abba5eba0": {
      "model_module": "@jupyter-widgets/controls",
      "model_module_version": "1.5.0",
      "model_name": "DescriptionStyleModel",
      "state": {
       "description_width": ""
      }
     },
     "39dd0c359eb0480089e04b0821b46287": {
      "model_module": "@jupyter-widgets/base",
      "model_module_version": "1.2.0",
      "model_name": "LayoutModel",
      "state": {}
     },
     "3a343defbc154467a84695f8461424eb": {
      "model_module": "@jupyter-widgets/base",
      "model_module_version": "1.2.0",
      "model_name": "LayoutModel",
      "state": {}
     },
     "3a38594f82be417e892daffc1dead59e": {
      "model_module": "@jupyter-widgets/base",
      "model_module_version": "1.2.0",
      "model_name": "LayoutModel",
      "state": {}
     },
     "3a3ead67103945dd97a01c4cd81f779e": {
      "model_module": "@jupyter-widgets/controls",
      "model_module_version": "1.5.0",
      "model_name": "DescriptionStyleModel",
      "state": {
       "description_width": ""
      }
     },
     "3a6b299b839247649523598003e91dfa": {
      "model_module": "@jupyter-widgets/controls",
      "model_module_version": "1.5.0",
      "model_name": "ButtonStyleModel",
      "state": {}
     },
     "3a8aaf0e51cd41ef9630efdab9eef3c9": {
      "model_module": "@jupyter-widgets/base",
      "model_module_version": "1.2.0",
      "model_name": "LayoutModel",
      "state": {}
     },
     "3a8d1d445bfc4d6f988540de2a86fc2a": {
      "model_module": "@jupyter-widgets/controls",
      "model_module_version": "1.5.0",
      "model_name": "SliderStyleModel",
      "state": {
       "description_width": "initial"
      }
     },
     "3abbb29add434ce0a5c6f1dc06011bd9": {
      "model_module": "@jupyter-widgets/controls",
      "model_module_version": "1.5.0",
      "model_name": "ButtonStyleModel",
      "state": {}
     },
     "3acbdb2721e643508f672716b5dce470": {
      "model_module": "@jupyter-widgets/controls",
      "model_module_version": "1.5.0",
      "model_name": "SliderStyleModel",
      "state": {
       "description_width": "initial"
      }
     },
     "3b64568cbb71457cb14eb6434e186592": {
      "model_module": "@jupyter-widgets/controls",
      "model_module_version": "1.5.0",
      "model_name": "ButtonModel",
      "state": {
       "description": "Lennard Jones",
       "layout": "IPY_MODEL_0c5918f7f09940b0aec0f424e1e916de",
       "style": "IPY_MODEL_8472421bc2304c819fa6a277c0c78a9b"
      }
     },
     "3b885f13f5cc4b6eba2206cfc68039de": {
      "model_module": "@jupyter-widgets/controls",
      "model_module_version": "1.5.0",
      "model_name": "CheckboxModel",
      "state": {
       "description": "Auto limitar eixo y",
       "disabled": false,
       "layout": "IPY_MODEL_ab874dcad9ab4b2b9a61be0bfbaa9913",
       "style": "IPY_MODEL_98bffd4c68694db09a4a59624eed13d6",
       "value": true
      }
     },
     "3b8a9d47853f4122b3f08c507f1eb9b2": {
      "model_module": "@jupyter-widgets/controls",
      "model_module_version": "1.5.0",
      "model_name": "ButtonModel",
      "state": {
       "description": "Oscilador Harmônico",
       "layout": "IPY_MODEL_8a9b594ece0b44dea7c2333d47b9c39d",
       "style": "IPY_MODEL_c93e6684706c4c568443d741a014070a"
      }
     },
     "3b9a288c857844adbe63dd28edea51fe": {
      "model_module": "@jupyter-widgets/base",
      "model_module_version": "1.2.0",
      "model_name": "LayoutModel",
      "state": {}
     },
     "3bb2fcf69057434b8ff36b56d5395dc7": {
      "model_module": "@jupyter-widgets/controls",
      "model_module_version": "1.5.0",
      "model_name": "DescriptionStyleModel",
      "state": {
       "description_width": "initial"
      }
     },
     "3c244fb74e3c4e35890edf1cd3a2411f": {
      "model_module": "@jupyter-widgets/controls",
      "model_module_version": "1.5.0",
      "model_name": "ButtonModel",
      "state": {
       "description": "Plotar",
       "layout": "IPY_MODEL_92fbb75ed1ad49c499230f513c6c2be7",
       "style": "IPY_MODEL_6e030cbddbfd46f0a348896f33143236"
      }
     },
     "3c7d87e9e7a34cbfb4ce7a719b8b2376": {
      "model_module": "@jupyter-widgets/controls",
      "model_module_version": "1.5.0",
      "model_name": "ButtonStyleModel",
      "state": {}
     },
     "3cb154e9a41e4e83a6fa1de3fee1bc87": {
      "model_module": "@jupyter-widgets/base",
      "model_module_version": "1.2.0",
      "model_name": "LayoutModel",
      "state": {}
     },
     "3cdce008dcd74464aa71367e14c83543": {
      "model_module": "@jupyter-widgets/controls",
      "model_module_version": "1.5.0",
      "model_name": "LabelModel",
      "state": {
       "layout": "IPY_MODEL_0ed02e80cd56472c8d25993f6fd6d9fc",
       "style": "IPY_MODEL_9890023c6f354ebca8aff0ace5a601c9",
       "value": "Largura do domínio (angstroms) ="
      }
     },
     "3d0a06303be7494a9643509985311dc4": {
      "model_module": "@jupyter-widgets/base",
      "model_module_version": "1.2.0",
      "model_name": "LayoutModel",
      "state": {}
     },
     "3d2c953379fa46d0977423175b5e2d2a": {
      "model_module": "@jupyter-widgets/controls",
      "model_module_version": "1.5.0",
      "model_name": "LabelModel",
      "state": {
       "layout": "IPY_MODEL_1d6388b855834121a8f364f784911f82",
       "style": "IPY_MODEL_db0205253be8483b9ca2af3c689d9829",
       "value": "Número de pontos ="
      }
     },
     "3d6edc0b47db49138e1f460fd2b1fedd": {
      "model_module": "@jupyter-widgets/base",
      "model_module_version": "1.2.0",
      "model_name": "LayoutModel",
      "state": {}
     },
     "3da2c6ba25c0458ea796e98d1ae73ec4": {
      "model_module": "@jupyter-widgets/controls",
      "model_module_version": "1.5.0",
      "model_name": "SliderStyleModel",
      "state": {
       "description_width": "initial"
      }
     },
     "3da360d1cf634c7cb4a6a9a64335ce18": {
      "model_module": "@jupyter-widgets/controls",
      "model_module_version": "1.5.0",
      "model_name": "DescriptionStyleModel",
      "state": {
       "description_width": ""
      }
     },
     "3dc74651479a49c3b9d83ca8741665f9": {
      "model_module": "@jupyter-widgets/controls",
      "model_module_version": "1.5.0",
      "model_name": "SliderStyleModel",
      "state": {
       "description_width": "initial"
      }
     },
     "3de40addc5094e639c103826198ed41d": {
      "model_module": "@jupyter-widgets/base",
      "model_module_version": "1.2.0",
      "model_name": "LayoutModel",
      "state": {
       "width": "100%"
      }
     },
     "3df0307af9b34779bd4e529f3b9b8961": {
      "model_module": "@jupyter-widgets/base",
      "model_module_version": "1.2.0",
      "model_name": "LayoutModel",
      "state": {}
     },
     "3e693b05646f4dfdbd4d15db191a6d71": {
      "model_module": "@jupyter-widgets/controls",
      "model_module_version": "1.5.0",
      "model_name": "FloatRangeSliderModel",
      "state": {
       "_model_name": "FloatRangeSliderModel",
       "_view_name": "FloatRangeSliderView",
       "description": "Limites do eixo y (eV):",
       "layout": "IPY_MODEL_7a51e32fb9794ecbb476c9152ca90862",
       "max": 10,
       "min": -10,
       "readout_format": ".1f",
       "step": 0.005,
       "style": "IPY_MODEL_688ede93a1444c34ac10f9f2ca19be01",
       "value": [
        -2,
        2
       ]
      }
     },
     "3e6ac1bb3fd147229605629b104ecd2c": {
      "model_module": "@jupyter-widgets/controls",
      "model_module_version": "1.5.0",
      "model_name": "TextModel",
      "state": {
       "description": "Expressão de $V(x)$: ",
       "layout": "IPY_MODEL_68c51c051cb44ff8abf5058b8b77093c",
       "placeholder": "Escreva a expressão aqui.",
       "style": "IPY_MODEL_8b07d5b2c48f44929fa8a6b60433522c",
       "value": "-4*(np.cosh(0.1*x/ang)**(-2))"
      }
     },
     "3e8cbfae09424ca8ae5327cd3d8480d0": {
      "model_module": "@jupyter-widgets/controls",
      "model_module_version": "1.5.0",
      "model_name": "LabelModel",
      "state": {
       "layout": "IPY_MODEL_6e6bfc786e1a47c0b3d5536841b108eb",
       "style": "IPY_MODEL_13854f88dbe0404593c6ff92882c1f54",
       "value": " 70.00"
      }
     },
     "3ec1af15f9944c69ae33e1980d45677f": {
      "model_module": "@jupyter-widgets/controls",
      "model_module_version": "1.5.0",
      "model_name": "ButtonModel",
      "state": {
       "description": "Plotar",
       "disabled": true,
       "layout": "IPY_MODEL_24802644f245414faf6353e82fd9acaf",
       "style": "IPY_MODEL_5f7f3b720ff4459799dff0c47e2ae0f2"
      }
     },
     "3ef8f8773a62403eba820b6faf57d418": {
      "model_module": "@jupyter-widgets/base",
      "model_module_version": "1.2.0",
      "model_name": "LayoutModel",
      "state": {}
     },
     "3f16ad3280244ff986d75fdaf17b19e6": {
      "model_module": "@jupyter-widgets/base",
      "model_module_version": "1.2.0",
      "model_name": "LayoutModel",
      "state": {
       "width": "100%"
      }
     },
     "3f97321c34924f3dacc9bc7643b42be5": {
      "model_module": "@jupyter-widgets/controls",
      "model_module_version": "1.5.0",
      "model_name": "LabelModel",
      "state": {
       "layout": "IPY_MODEL_1f66e34130e244c39511434ae05f2921",
       "style": "IPY_MODEL_61801bcab1b74410a9f34bcaae6dea67",
       "value": " 70.00"
      }
     },
     "3fbd47f4280640548cba0afce8e32bb8": {
      "model_module": "@jupyter-widgets/base",
      "model_module_version": "1.2.0",
      "model_name": "LayoutModel",
      "state": {}
     },
     "3fd66ce910064345a72ad2e0b6d94528": {
      "model_module": "@jupyter-widgets/base",
      "model_module_version": "1.2.0",
      "model_name": "LayoutModel",
      "state": {}
     },
     "3fed27b9e9a04e548d6e6d1a07676247": {
      "model_module": "@jupyter-widgets/base",
      "model_module_version": "1.2.0",
      "model_name": "LayoutModel",
      "state": {
       "grid_template_columns": "repeat(auto-fill, 180px)"
      }
     },
     "402fcc4e04c64b41a244f957b5ffc162": {
      "model_module": "@jupyter-widgets/base",
      "model_module_version": "1.2.0",
      "model_name": "LayoutModel",
      "state": {}
     },
     "403e1f2a20b6456bb72b24c5c4aeac73": {
      "model_module": "@jupyter-widgets/controls",
      "model_module_version": "1.5.0",
      "model_name": "ButtonModel",
      "state": {
       "description": "Poço Infinito",
       "layout": "IPY_MODEL_2657835119ef4bf281d8f6d65da31d63",
       "style": "IPY_MODEL_d65ce9f034fa4a0793060dabe056e9fa"
      }
     },
     "40692dd00aaf45b2bb9ddb4d8c29dc30": {
      "model_module": "@jupyter-widgets/base",
      "model_module_version": "1.2.0",
      "model_name": "LayoutModel",
      "state": {}
     },
     "4071044f89ac423ba6a715887901f479": {
      "model_module": "@jupyter-widgets/base",
      "model_module_version": "1.2.0",
      "model_name": "LayoutModel",
      "state": {}
     },
     "407dbb44862e4311992972b464549fd4": {
      "model_module": "@jupyter-widgets/controls",
      "model_module_version": "1.5.0",
      "model_name": "GridBoxModel",
      "state": {
       "children": [
        "IPY_MODEL_10cbad49400f4191a97d71874794aed3",
        "IPY_MODEL_7f0ce2d50f184fd7877c5b7c0632747e",
        "IPY_MODEL_19d9f38b0a7b430cbe726b44ce5ec8de",
        "IPY_MODEL_bb0df3aadc724b6caa64b1a4fadd4abb",
        "IPY_MODEL_a4e6276c12df4949a7f4bcdd31fa3d54",
        "IPY_MODEL_f3e225a119aa48feb318baeb357429aa",
        "IPY_MODEL_1ec361b2c1f2466194c551e4981dbd44",
        "IPY_MODEL_63153d8046934b3d84c6684bf7a95a34",
        "IPY_MODEL_1f2d10710efe4e4babd83a77ca0e4a6c",
        "IPY_MODEL_f4d1255652464cd78d73136009309e82"
       ],
       "layout": "IPY_MODEL_8f11d1a6d6ac4567967429fde1edeaca"
      }
     },
     "4120fdf0f90f491fb25567086dd9a74c": {
      "model_module": "@jupyter-widgets/controls",
      "model_module_version": "1.5.0",
      "model_name": "VBoxModel",
      "state": {
       "children": [
        "IPY_MODEL_833c2449dd3142b7be72b7b4a20c805a",
        "IPY_MODEL_6d62995edf1f4b1eb340fa0811a3ada4",
        "IPY_MODEL_45406fe79eee466abbf8b4970be9cd18"
       ],
       "layout": "IPY_MODEL_d4bdcdcedc67471fa36c4347313b2bf5"
      }
     },
     "4122a0ae50d94aa28bcd5d240f192049": {
      "model_module": "@jupyter-widgets/controls",
      "model_module_version": "1.5.0",
      "model_name": "SliderStyleModel",
      "state": {
       "description_width": "initial"
      }
     },
     "415ed56cd12e4e58b13de8deb3b5210c": {
      "model_module": "@jupyter-widgets/controls",
      "model_module_version": "1.5.0",
      "model_name": "SliderStyleModel",
      "state": {
       "description_width": "initial"
      }
     },
     "4218a6196f934b06a275dca515865a31": {
      "model_module": "@jupyter-widgets/controls",
      "model_module_version": "1.5.0",
      "model_name": "ButtonModel",
      "state": {
       "description": "Duffing Holmes (+)",
       "layout": "IPY_MODEL_d3bc4fbadfd949488b3766cf4e253493",
       "style": "IPY_MODEL_6c538da7d66944a4983461210deb05ae"
      }
     },
     "4236f428be1b47bc95275fa2358c2f26": {
      "model_module": "@jupyter-widgets/base",
      "model_module_version": "1.2.0",
      "model_name": "LayoutModel",
      "state": {}
     },
     "42b85a744c8d4f8785209b94c2ac3db3": {
      "model_module": "@jupyter-widgets/controls",
      "model_module_version": "1.5.0",
      "model_name": "ButtonModel",
      "state": {
       "description": "Lennard Jones",
       "layout": "IPY_MODEL_356fafff999e45a1b540169c5d7d0dbb",
       "style": "IPY_MODEL_99fd5f688cf6475eacd3ee434162f0b8"
      }
     },
     "42c6f6a8fbd141de9a92010570b19fcb": {
      "model_module": "@jupyter-widgets/controls",
      "model_module_version": "1.5.0",
      "model_name": "ButtonModel",
      "state": {
       "description": "Duffing Holmes (-)",
       "layout": "IPY_MODEL_66769e5a4dc24c7590b74020178e14fa",
       "style": "IPY_MODEL_b7a6f499d7d643a3809a685975d50db6"
      }
     },
     "42d29571b1df4292bcd17296f0c1fde0": {
      "model_module": "@jupyter-widgets/controls",
      "model_module_version": "1.5.0",
      "model_name": "ButtonModel",
      "state": {
       "description": "Campo Uniforme (-)",
       "layout": "IPY_MODEL_36a48e6922024f528e268d7db198da24",
       "style": "IPY_MODEL_55551b271f29434898e4c5709edd15b2"
      }
     },
     "431b4c8477e94e39a35f4659527cc984": {
      "model_module": "@jupyter-widgets/base",
      "model_module_version": "1.2.0",
      "model_name": "LayoutModel",
      "state": {}
     },
     "436a007025584afcb4f30ba73b71d512": {
      "model_module": "@jupyter-widgets/base",
      "model_module_version": "1.2.0",
      "model_name": "LayoutModel",
      "state": {}
     },
     "4390fff6e9474753ac7835b33017ef95": {
      "model_module": "@jupyter-widgets/controls",
      "model_module_version": "1.5.0",
      "model_name": "LabelModel",
      "state": {
       "layout": "IPY_MODEL_28cd9f147e6d4da1a95e73be32e6c9be",
       "style": "IPY_MODEL_24690ed63dea499fbb903e9a8a39807d",
       "value": "Número de pontos ="
      }
     },
     "43a08fdb1e364a9f8d44fff94af44f60": {
      "model_module": "@jupyter-widgets/controls",
      "model_module_version": "1.5.0",
      "model_name": "ButtonStyleModel",
      "state": {}
     },
     "43a54b581c5147299e75779756de237a": {
      "model_module": "@jupyter-widgets/controls",
      "model_module_version": "1.5.0",
      "model_name": "DescriptionStyleModel",
      "state": {
       "description_width": ""
      }
     },
     "441068eb7620469fbf70dfe8492150ce": {
      "model_module": "@jupyter-widgets/controls",
      "model_module_version": "1.5.0",
      "model_name": "ButtonModel",
      "state": {
       "description": "Diagonalizar",
       "disabled": true,
       "layout": "IPY_MODEL_2891c3511475420d90494f3587554f4b",
       "style": "IPY_MODEL_203269799ef34919a95e5829bcd3ea43"
      }
     },
     "44397f803dd04accae488a2e4794de19": {
      "model_module": "@jupyter-widgets/controls",
      "model_module_version": "1.5.0",
      "model_name": "VBoxModel",
      "state": {
       "_dom_classes": [
        "widget-interact"
       ],
       "children": [
        "IPY_MODEL_aa56bc1346b74509a2d810bdb6b1cf0f",
        "IPY_MODEL_a15e25cb2e344d8bb66b88f076b5a1c0",
        "IPY_MODEL_c29c62252778442ba927f77310b7f1d0",
        "IPY_MODEL_a5f63a3ca2374a2eb30b23849f553e6e",
        "IPY_MODEL_1269dc4086d4477c91f8d373eb8ca8cf"
       ],
       "layout": "IPY_MODEL_c5087c9d15a442f1ba411b39317edf06"
      }
     },
     "4453439b85e9436890b7c25efe9dbc55": {
      "model_module": "@jupyter-widgets/base",
      "model_module_version": "1.2.0",
      "model_name": "LayoutModel",
      "state": {
       "display": "flex",
       "width": "90%"
      }
     },
     "445b3fa3b5284781acd0a87e30687691": {
      "model_module": "@jupyter-widgets/base",
      "model_module_version": "1.2.0",
      "model_name": "LayoutModel",
      "state": {}
     },
     "446e57b2d7fa459f97f10f677cbf2eb4": {
      "model_module": "@jupyter-widgets/controls",
      "model_module_version": "1.5.0",
      "model_name": "ButtonStyleModel",
      "state": {}
     },
     "44e25e5b725747fb842c7f8940c57a38": {
      "model_module": "@jupyter-widgets/base",
      "model_module_version": "1.2.0",
      "model_name": "LayoutModel",
      "state": {}
     },
     "44ec8d951fa4459bbfa45c9667ca5239": {
      "model_module": "@jupyter-widgets/base",
      "model_module_version": "1.2.0",
      "model_name": "LayoutModel",
      "state": {}
     },
     "452867fb9d834f538405e711b6ceae8e": {
      "model_module": "@jupyter-widgets/controls",
      "model_module_version": "1.5.0",
      "model_name": "SliderStyleModel",
      "state": {
       "description_width": "initial"
      }
     },
     "45406fe79eee466abbf8b4970be9cd18": {
      "model_module": "@jupyter-widgets/controls",
      "model_module_version": "1.5.0",
      "model_name": "AccordionModel",
      "state": {
       "_titles": {
        "0": "Diagonalizar/Informações"
       },
       "children": [
        "IPY_MODEL_2cf607b504bf408694da16b5de3bd5c3"
       ],
       "layout": "IPY_MODEL_1c2ebd4418094bb99d7bed87aaa677bc"
      }
     },
     "45720502a2b14f918a8a89e65e1081c7": {
      "model_module": "@jupyter-widgets/base",
      "model_module_version": "1.2.0",
      "model_name": "LayoutModel",
      "state": {}
     },
     "457dbc2138624ea0be102fdbf24a9a39": {
      "model_module": "@jupyter-widgets/controls",
      "model_module_version": "1.5.0",
      "model_name": "SliderStyleModel",
      "state": {
       "description_width": "initial"
      }
     },
     "4593eaeb58c1421dbd2c0f3934125bf9": {
      "model_module": "@jupyter-widgets/controls",
      "model_module_version": "1.5.0",
      "model_name": "DescriptionStyleModel",
      "state": {
       "description_width": "initial"
      }
     },
     "45af98425cb94e2cb112de6326c4feae": {
      "model_module": "@jupyter-widgets/controls",
      "model_module_version": "1.5.0",
      "model_name": "DescriptionStyleModel",
      "state": {
       "description_width": ""
      }
     },
     "45d8d1de56aa44a0bd85c95233ebb62c": {
      "model_module": "@jupyter-widgets/base",
      "model_module_version": "1.2.0",
      "model_name": "LayoutModel",
      "state": {}
     },
     "45f3f0eee2bf45ea8c5ae266c9fb5071": {
      "model_module": "@jupyter-widgets/controls",
      "model_module_version": "1.5.0",
      "model_name": "DescriptionStyleModel",
      "state": {
       "description_width": "initial"
      }
     },
     "45f83fdb7c88476083fcb9112aeb442d": {
      "model_module": "@jupyter-widgets/base",
      "model_module_version": "1.2.0",
      "model_name": "LayoutModel",
      "state": {}
     },
     "45ffb28b034d4d36ab3cfc06edd54950": {
      "model_module": "@jupyter-widgets/controls",
      "model_module_version": "1.5.0",
      "model_name": "VBoxModel",
      "state": {
       "children": [
        "IPY_MODEL_af2400e4a4424ceb90b92428b195d505",
        "IPY_MODEL_32d6f7cb635848d99ddde1160289e5ba",
        "IPY_MODEL_b488cc7dfbb343169a41afeec533f6aa"
       ],
       "layout": "IPY_MODEL_d856dcf043fb4f9190c64393c7e9703a"
      }
     },
     "4603b9446dc947008289aaccf7427ac2": {
      "model_module": "@jupyter-widgets/controls",
      "model_module_version": "1.5.0",
      "model_name": "SliderStyleModel",
      "state": {
       "description_width": "initial"
      }
     },
     "46251d7f44ef460e860ea70d991a6647": {
      "model_module": "@jupyter-widgets/controls",
      "model_module_version": "1.5.0",
      "model_name": "DescriptionStyleModel",
      "state": {
       "description_width": ""
      }
     },
     "46532184df7e45369ba335ef1bb3afde": {
      "model_module": "@jupyter-widgets/base",
      "model_module_version": "1.2.0",
      "model_name": "LayoutModel",
      "state": {}
     },
     "466638a50c8b43b9b5de3f82133f4ad9": {
      "model_module": "@jupyter-widgets/controls",
      "model_module_version": "1.5.0",
      "model_name": "ButtonStyleModel",
      "state": {}
     },
     "469f215393054b40b816c3ae5e24e2fa": {
      "model_module": "@jupyter-widgets/controls",
      "model_module_version": "1.5.0",
      "model_name": "SliderStyleModel",
      "state": {
       "description_width": "initial"
      }
     },
     "46b1270be229447bbd520c4b69cb9b70": {
      "model_module": "@jupyter-widgets/base",
      "model_module_version": "1.2.0",
      "model_name": "LayoutModel",
      "state": {}
     },
     "46bd29ac31134697bda852dde8d62db8": {
      "model_module": "@jupyter-widgets/base",
      "model_module_version": "1.2.0",
      "model_name": "LayoutModel",
      "state": {}
     },
     "46ffa85885f74247ba24ce09719d60aa": {
      "model_module": "@jupyter-widgets/controls",
      "model_module_version": "1.5.0",
      "model_name": "LabelModel",
      "state": {
       "layout": "IPY_MODEL_5e24e7c725c34edf8eb0df844f8729b8",
       "style": "IPY_MODEL_9a7afe4e00b643b5b67a0041e9ecbe2b",
       "value": "L"
      }
     },
     "4713431e490c4d4994babb2645889851": {
      "model_module": "@jupyter-widgets/output",
      "model_module_version": "1.0.0",
      "model_name": "OutputModel",
      "state": {
       "layout": "IPY_MODEL_71c74a84a3e44a2dad36c56d4bf7abde",
       "outputs": [
        {
         "data": {
          "application/vnd.jupyter.widget-view+json": {
           "model_id": "f31d22a3aff1490491c7781947e42748",
           "version_major": 2,
           "version_minor": 0
          },
          "text/plain": "Canvas(toolbar=Toolbar(toolitems=[('Home', 'Reset original view', 'home', 'home'), ('Back', 'Back to previous …"
         },
         "metadata": {},
         "output_type": "display_data"
        }
       ]
      }
     },
     "474ba48db0cd431890113013585ef8f3": {
      "model_module": "@jupyter-widgets/base",
      "model_module_version": "1.2.0",
      "model_name": "LayoutModel",
      "state": {}
     },
     "47bc5d21db1044548d72c3aabe16892d": {
      "model_module": "@jupyter-widgets/controls",
      "model_module_version": "1.5.0",
      "model_name": "ButtonModel",
      "state": {
       "description": "Poço Infinito",
       "layout": "IPY_MODEL_882466527ad748ab8673cae8ab4b3e44",
       "style": "IPY_MODEL_ddfc4aac1da74d188b0c88f6be770441"
      }
     },
     "47be79e4395f41a8834039b0adb026ee": {
      "model_module": "@jupyter-widgets/base",
      "model_module_version": "1.2.0",
      "model_name": "LayoutModel",
      "state": {}
     },
     "47c33b602a3c4192be8e727e46b82b93": {
      "model_module": "@jupyter-widgets/base",
      "model_module_version": "1.2.0",
      "model_name": "LayoutModel",
      "state": {
       "grid_template_columns": "repeat(2, 250px)"
      }
     },
     "47dddfa762db43e8b4f3483702cd4c8a": {
      "model_module": "@jupyter-widgets/controls",
      "model_module_version": "1.5.0",
      "model_name": "AccordionModel",
      "state": {
       "_titles": {
        "0": "Potenciais pré definidos"
       },
       "children": [
        "IPY_MODEL_2f88bbc5b74b47868f7ddcc062926593"
       ],
       "layout": "IPY_MODEL_8380dac5f8b640aa9cf7a99c219ada15"
      }
     },
     "48344a8b9dfb47c38bc602b607948858": {
      "model_module": "@jupyter-widgets/base",
      "model_module_version": "1.2.0",
      "model_name": "LayoutModel",
      "state": {}
     },
     "4839d0c1326e408094bce00590dcdbb6": {
      "model_module": "@jupyter-widgets/controls",
      "model_module_version": "1.5.0",
      "model_name": "IntSliderModel",
      "state": {
       "continuous_update": false,
       "description": "Número de pontos: ",
       "layout": "IPY_MODEL_cde0ed4fcf3049abaf0c54e8affe788f",
       "max": 1050,
       "min": 50,
       "step": 10,
       "style": "IPY_MODEL_1fc73ba4194749a1abb3c7466d59ee61",
       "value": 550
      }
     },
     "4855df9c9be34e89948089baa6ef2584": {
      "model_module": "@jupyter-widgets/controls",
      "model_module_version": "1.5.0",
      "model_name": "LabelModel",
      "state": {
       "layout": "IPY_MODEL_04dc6b977b38446fac46ddc8621a24ec",
       "style": "IPY_MODEL_4ca25853f40542139201418f3d9af1bf",
       "value": "Número de pontos ="
      }
     },
     "48647f88022a44a5809e26d47c28c9ae": {
      "model_module": "@jupyter-widgets/output",
      "model_module_version": "1.0.0",
      "model_name": "OutputModel",
      "state": {
       "layout": "IPY_MODEL_aaab0e2444e4404fb81da480ed21091c",
       "outputs": [
        {
         "data": {
          "application/vnd.jupyter.widget-view+json": {
           "model_id": "81df42e7e76a4e939c83f2342eaddf60",
           "version_major": 2,
           "version_minor": 0
          },
          "text/plain": "Canvas(toolbar=Toolbar(toolitems=[('Home', 'Reset original view', 'home', 'home'), ('Back', 'Back to previous …"
         },
         "metadata": {},
         "output_type": "display_data"
        }
       ]
      }
     },
     "486e79718fa34983a15558e5729515a3": {
      "model_module": "@jupyter-widgets/controls",
      "model_module_version": "1.5.0",
      "model_name": "ButtonStyleModel",
      "state": {}
     },
     "4872bb48876d4d3181542b1625240634": {
      "model_module": "@jupyter-widgets/base",
      "model_module_version": "1.2.0",
      "model_name": "LayoutModel",
      "state": {}
     },
     "48a6b4775821471b86252b1334882f52": {
      "model_module": "@jupyter-widgets/controls",
      "model_module_version": "1.5.0",
      "model_name": "LabelModel",
      "state": {
       "layout": "IPY_MODEL_c8aba4f4713b4ee78ced29f4d9690888",
       "style": "IPY_MODEL_dc7144b25743493496e4e20eec0db803",
       "value": "Número de pontos ="
      }
     },
     "48aebd768c034a1f8628224a70390b9c": {
      "model_module": "@jupyter-widgets/controls",
      "model_module_version": "1.5.0",
      "model_name": "ButtonStyleModel",
      "state": {}
     },
     "4903a5054baf44d9bee6805a764047ec": {
      "model_module": "@jupyter-widgets/controls",
      "model_module_version": "1.5.0",
      "model_name": "LabelModel",
      "state": {
       "layout": "IPY_MODEL_623485b1ccf94ffcbca6b18e391821f3",
       "style": "IPY_MODEL_1e62dbfeff8f45958b1678bee6f2026d",
       "value": "Número de pontos ="
      }
     },
     "4937d80b4a6f4d8b915366cdd5f503d3": {
      "model_module": "@jupyter-widgets/controls",
      "model_module_version": "1.5.0",
      "model_name": "FloatRangeSliderModel",
      "state": {
       "_model_name": "FloatRangeSliderModel",
       "_view_name": "FloatRangeSliderView",
       "description": "Limites do eixo y (eV):",
       "layout": "IPY_MODEL_7bd99c6c0a4e4288b3e09cc2c80ccdda",
       "max": 10,
       "min": -10,
       "readout_format": ".1f",
       "step": 0.005,
       "style": "IPY_MODEL_9e9b4f26a21546448c22c96498d6fdd7",
       "value": [
        -2,
        2
       ]
      }
     },
     "4947080afeab49c790aff11a7504bfb3": {
      "model_module": "@jupyter-widgets/base",
      "model_module_version": "1.2.0",
      "model_name": "LayoutModel",
      "state": {
       "grid_template_columns": "repeat(2, 250px)"
      }
     },
     "49cdb85dc6fe42d5be85328a17287fc8": {
      "model_module": "@jupyter-widgets/base",
      "model_module_version": "1.2.0",
      "model_name": "LayoutModel",
      "state": {}
     },
     "4a002cdaa218479c901c5e3264a40d71": {
      "model_module": "@jupyter-widgets/controls",
      "model_module_version": "1.5.0",
      "model_name": "ButtonStyleModel",
      "state": {}
     },
     "4a2496624d1545448a0a06851387f8ba": {
      "model_module": "@jupyter-widgets/base",
      "model_module_version": "1.2.0",
      "model_name": "LayoutModel",
      "state": {}
     },
     "4a50d727e49c4686b57c3a1df1601a45": {
      "model_module": "@jupyter-widgets/controls",
      "model_module_version": "1.5.0",
      "model_name": "ButtonStyleModel",
      "state": {}
     },
     "4a72d4e322c743efa06c6e6fd3e9f363": {
      "model_module": "@jupyter-widgets/controls",
      "model_module_version": "1.5.0",
      "model_name": "ButtonModel",
      "state": {
       "description": "Duffing Holmes (-)",
       "layout": "IPY_MODEL_6ae96412b6ea4b3380874b6ca80f9b01",
       "style": "IPY_MODEL_75978f5df2824e07a6eadb9a49318bc3"
      }
     },
     "4a84dd05a0f74b269d454004ae3443c8": {
      "model_module": "@jupyter-widgets/base",
      "model_module_version": "1.2.0",
      "model_name": "LayoutModel",
      "state": {
       "grid_template_columns": "repeat(auto-fill, 180px)"
      }
     },
     "4aff6a572a32409f9aa592f9fbe7c366": {
      "model_module": "@jupyter-widgets/controls",
      "model_module_version": "1.5.0",
      "model_name": "ButtonStyleModel",
      "state": {}
     },
     "4b1184e842c14473b328774370837766": {
      "model_module": "@jupyter-widgets/controls",
      "model_module_version": "1.5.0",
      "model_name": "TabModel",
      "state": {
       "_titles": {
        "0": "Gerar o Sistema",
        "1": "Funções de Onda"
       },
       "children": [
        "IPY_MODEL_c91dd1854fcc4c27a88b43e5b909b195",
        "IPY_MODEL_7a79d306db7747b494ae823b9eb5e3c7"
       ],
       "layout": "IPY_MODEL_3a8aaf0e51cd41ef9630efdab9eef3c9"
      }
     },
     "4b1b254f447c41d2b5a2d602fdf003aa": {
      "model_module": "@jupyter-widgets/controls",
      "model_module_version": "1.5.0",
      "model_name": "DescriptionStyleModel",
      "state": {
       "description_width": "initial"
      }
     },
     "4b2bdd3e72964ab2bcb0ef12e3037a61": {
      "model_module": "@jupyter-widgets/controls",
      "model_module_version": "1.5.0",
      "model_name": "ButtonModel",
      "state": {
       "description": "Poço Triangular",
       "layout": "IPY_MODEL_f880ce8cebba480989651e4751fdcb05",
       "style": "IPY_MODEL_9adee1f02c484e4fab8b681f40e982a2"
      }
     },
     "4b5b56b34ef240609427cfed80a1099c": {
      "model_module": "@jupyter-widgets/controls",
      "model_module_version": "1.5.0",
      "model_name": "ButtonStyleModel",
      "state": {}
     },
     "4bb95fa628714a9793103074aa015239": {
      "model_module": "@jupyter-widgets/controls",
      "model_module_version": "1.5.0",
      "model_name": "ButtonStyleModel",
      "state": {}
     },
     "4bcb2d57d2164accbd9ec34f1df73a24": {
      "model_module": "@jupyter-widgets/controls",
      "model_module_version": "1.5.0",
      "model_name": "AccordionModel",
      "state": {
       "_titles": {
        "0": "Potenciais pré definidos"
       },
       "children": [
        "IPY_MODEL_129597d8fc26407b865ce9aa4afcf4a6"
       ],
       "layout": "IPY_MODEL_808e04a57fc24a96baaaebe38631cdae"
      }
     },
     "4bf22b8c6e1f4b74af8048ed79860e81": {
      "model_module": "@jupyter-widgets/base",
      "model_module_version": "1.2.0",
      "model_name": "LayoutModel",
      "state": {}
     },
     "4bf58324291f40d8a53e02817cdc89d7": {
      "model_module": "@jupyter-widgets/controls",
      "model_module_version": "1.5.0",
      "model_name": "LabelModel",
      "state": {
       "layout": "IPY_MODEL_5f7230b3c4dd4d9291fb48671126799d",
       "style": "IPY_MODEL_5e9404b17ee54a67b505f137ba5d2b52",
       "value": "Número de pontos ="
      }
     },
     "4bf86dc50f42400690987c4f00befc44": {
      "model_module": "@jupyter-widgets/base",
      "model_module_version": "1.2.0",
      "model_name": "LayoutModel",
      "state": {}
     },
     "4c42c3bb44494f0bb9789aa44503d9d8": {
      "model_module": "@jupyter-widgets/controls",
      "model_module_version": "1.5.0",
      "model_name": "ButtonModel",
      "state": {
       "description": "Oscilador Harmônico",
       "layout": "IPY_MODEL_e600c9bc19fc44db98d1684981349ad7",
       "style": "IPY_MODEL_77a2acc617df489484f54fd63bcc82ea"
      }
     },
     "4c43402053a948e69ca25dafb5f21a94": {
      "model_module": "jupyter-matplotlib",
      "model_module_version": "^0.9.0",
      "model_name": "ToolbarModel",
      "state": {
       "layout": "IPY_MODEL_59993acbca9e440b9ea2b42baeef3c0e",
       "toolitems": [
        [
         "Home",
         "Reset original view",
         "home",
         "home"
        ],
        [
         "Back",
         "Back to previous view",
         "arrow-left",
         "back"
        ],
        [
         "Forward",
         "Forward to next view",
         "arrow-right",
         "forward"
        ],
        [
         "Pan",
         "Left button pans, Right button zooms\nx/y fixes axis, CTRL fixes aspect",
         "arrows",
         "pan"
        ],
        [
         "Zoom",
         "Zoom to rectangle\nx/y fixes axis, CTRL fixes aspect",
         "square-o",
         "zoom"
        ],
        [
         "Download",
         "Download plot",
         "floppy-o",
         "save_figure"
        ]
       ]
      }
     },
     "4c5f9a1785914dfc957dab3b128ca1e1": {
      "model_module": "@jupyter-widgets/base",
      "model_module_version": "1.2.0",
      "model_name": "LayoutModel",
      "state": {}
     },
     "4c8b8f39b74c442cbb4c0c19428753f1": {
      "model_module": "@jupyter-widgets/controls",
      "model_module_version": "1.5.0",
      "model_name": "ButtonModel",
      "state": {
       "description": "Pöschl–Teller",
       "layout": "IPY_MODEL_39dd0c359eb0480089e04b0821b46287",
       "style": "IPY_MODEL_78ad715d671644aa9d8d6be3956bf02b"
      }
     },
     "4c90b045bfe543c19617884b225cfd23": {
      "model_module": "@jupyter-widgets/base",
      "model_module_version": "1.2.0",
      "model_name": "LayoutModel",
      "state": {}
     },
     "4c94f70290a7424982b0565409640aa8": {
      "model_module": "@jupyter-widgets/controls",
      "model_module_version": "1.5.0",
      "model_name": "ButtonStyleModel",
      "state": {}
     },
     "4ca25853f40542139201418f3d9af1bf": {
      "model_module": "@jupyter-widgets/controls",
      "model_module_version": "1.5.0",
      "model_name": "DescriptionStyleModel",
      "state": {
       "description_width": ""
      }
     },
     "4cb60732105548b8ac3999d643d64f98": {
      "model_module": "@jupyter-widgets/controls",
      "model_module_version": "1.5.0",
      "model_name": "DescriptionStyleModel",
      "state": {
       "description_width": ""
      }
     },
     "4cbf40f40587466581fa04360139422f": {
      "model_module": "@jupyter-widgets/controls",
      "model_module_version": "1.5.0",
      "model_name": "LabelModel",
      "state": {
       "layout": "IPY_MODEL_e4f0895da4aa47d8b94c029284b136f8",
       "style": "IPY_MODEL_c4d301f5b1e948999c7a3733b7536b16"
      }
     },
     "4dcf0055bef24fc4b149fa55f86cf9f5": {
      "model_module": "@jupyter-widgets/controls",
      "model_module_version": "1.5.0",
      "model_name": "CheckboxModel",
      "state": {
       "description": "Auto limitar eixo y",
       "disabled": false,
       "layout": "IPY_MODEL_34dfb774b7774259810a032e68e0b257",
       "style": "IPY_MODEL_2af3a1b7047045d0ab61c392489681e7",
       "value": true
      }
     },
     "4dd4edeb6aca495682001b4f80a2302a": {
      "model_module": "@jupyter-widgets/base",
      "model_module_version": "1.2.0",
      "model_name": "LayoutModel",
      "state": {}
     },
     "4df5242f0731459e8c5603139f12a007": {
      "model_module": "@jupyter-widgets/controls",
      "model_module_version": "1.5.0",
      "model_name": "AccordionModel",
      "state": {
       "_titles": {
        "0": "Potenciais pré definidos"
       },
       "children": [
        "IPY_MODEL_0b86d40beb894aea9c55a58e6ebc2f93"
       ],
       "layout": "IPY_MODEL_e35e653cc37f40c884fb097a74b19720"
      }
     },
     "4e557a363e82449cb6310676a48bb7fb": {
      "model_module": "@jupyter-widgets/controls",
      "model_module_version": "1.5.0",
      "model_name": "ButtonStyleModel",
      "state": {}
     },
     "4e693e8a928d480ea331ade901fd6826": {
      "model_module": "@jupyter-widgets/base",
      "model_module_version": "1.2.0",
      "model_name": "LayoutModel",
      "state": {}
     },
     "4e7c58da6d124ca894f017cad3dfa2fe": {
      "model_module": "@jupyter-widgets/base",
      "model_module_version": "1.2.0",
      "model_name": "LayoutModel",
      "state": {}
     },
     "4e9722c1399941c8b428f11782540e73": {
      "model_module": "@jupyter-widgets/controls",
      "model_module_version": "1.5.0",
      "model_name": "GridBoxModel",
      "state": {
       "children": [
        "IPY_MODEL_d12f0d3a2bc842c9ac25ffeec0115f78",
        "IPY_MODEL_92366d5060b8465f80defe1691760875",
        "IPY_MODEL_1072bbadff334a828dcd4d64c61e66f0",
        "IPY_MODEL_f0d0160a4e264e85b2348cc2cbc7a0dc",
        "IPY_MODEL_bf8bf06c3fdf496689f3e0fd30bd2a3a",
        "IPY_MODEL_8cdc6d147a0d4cbe852f681e04bc32ba",
        "IPY_MODEL_bb31950a8d064b87910aad089417d6a6",
        "IPY_MODEL_9c9784a6f3dc49deb9311f4eda08d241",
        "IPY_MODEL_27af136354ff469c997df3a34db4ccbc",
        "IPY_MODEL_90bffcb19ed74858beaaef5a1b782b56"
       ],
       "layout": "IPY_MODEL_4a84dd05a0f74b269d454004ae3443c8"
      }
     },
     "4ea5ff7589c54606b88b9b701e9ad1fb": {
      "model_module": "@jupyter-widgets/controls",
      "model_module_version": "1.5.0",
      "model_name": "ButtonStyleModel",
      "state": {}
     },
     "4ecb40d614db47e1b0e6c6cd723df0fe": {
      "model_module": "@jupyter-widgets/controls",
      "model_module_version": "1.5.0",
      "model_name": "IntSliderModel",
      "state": {
       "continuous_update": false,
       "description": "Margens horizontais  (angstroms):   ",
       "layout": "IPY_MODEL_55187982126640e6be41b35c00b830dc",
       "style": "IPY_MODEL_c291bcdea8874abeaf7946e5c3b31574",
       "value": 20
      }
     },
     "4ecd3108eedd46ab9051e873eacb8b51": {
      "model_module": "@jupyter-widgets/base",
      "model_module_version": "1.2.0",
      "model_name": "LayoutModel",
      "state": {}
     },
     "4ee7e778ef584964ae25465cafb4cc1e": {
      "model_module": "@jupyter-widgets/base",
      "model_module_version": "1.2.0",
      "model_name": "LayoutModel",
      "state": {}
     },
     "4ef261236038472881ad19154b4a238f": {
      "model_module": "@jupyter-widgets/base",
      "model_module_version": "1.2.0",
      "model_name": "LayoutModel",
      "state": {
       "grid_template_columns": "repeat(2, 250px)"
      }
     },
     "4efe7452b826463588364badf6d9d2a5": {
      "model_module": "@jupyter-widgets/base",
      "model_module_version": "1.2.0",
      "model_name": "LayoutModel",
      "state": {}
     },
     "4f3b8ba37a7848f2a1e8244ec454b0ee": {
      "model_module": "@jupyter-widgets/controls",
      "model_module_version": "1.5.0",
      "model_name": "LabelModel",
      "state": {
       "layout": "IPY_MODEL_2465f6d3cc944ca18b8c52c09d9a656b",
       "style": "IPY_MODEL_cddfd62517b845ddb92aad501fe33862",
       "value": "Passo $\\Delta x $ (angstroms) ="
      }
     },
     "4fc4fa951c4f439f92f7ab0dca861d34": {
      "model_module": "@jupyter-widgets/base",
      "model_module_version": "1.2.0",
      "model_name": "LayoutModel",
      "state": {}
     },
     "4fd6c865654146dea40f5a44638f215d": {
      "model_module": "@jupyter-widgets/base",
      "model_module_version": "1.2.0",
      "model_name": "LayoutModel",
      "state": {}
     },
     "50017e63ea354e218f1b27a1515da5bf": {
      "model_module": "@jupyter-widgets/controls",
      "model_module_version": "1.5.0",
      "model_name": "IntSliderModel",
      "state": {
       "continuous_update": false,
       "description": "Margens horizontais  (angstroms):   ",
       "layout": "IPY_MODEL_69cf41ff543e47358fa11aec2440c8d7",
       "style": "IPY_MODEL_5ad6093ae2204a31a56521296d4c7b69",
       "value": 72
      }
     },
     "5039b2a2c3ab40ebb5b8a327435f0f38": {
      "model_module": "@jupyter-widgets/controls",
      "model_module_version": "1.5.0",
      "model_name": "ButtonStyleModel",
      "state": {}
     },
     "505ff18cf6c14549b109612c7a16ce21": {
      "model_module": "@jupyter-widgets/controls",
      "model_module_version": "1.5.0",
      "model_name": "LabelModel",
      "state": {
       "layout": "IPY_MODEL_614a656d5fe8409ebbb0e18772c62af5",
       "style": "IPY_MODEL_e656d35ba02545918319884718cabb21",
       "value": "Expressão V(x) ="
      }
     },
     "506b15240e064073b38cfc37fa62387a": {
      "model_module": "@jupyter-widgets/controls",
      "model_module_version": "1.5.0",
      "model_name": "ButtonModel",
      "state": {
       "description": "Campo Uniforme (-)",
       "layout": "IPY_MODEL_25faafb86fed4bce9c09a8bd72c82c73",
       "style": "IPY_MODEL_6b3ce9d6fb8147dbbe181363a9e4db76"
      }
     },
     "50a25931bf12432aa45c00937709c006": {
      "model_module": "@jupyter-widgets/controls",
      "model_module_version": "1.5.0",
      "model_name": "LabelModel",
      "state": {
       "layout": "IPY_MODEL_2e21ad2e604f44acaf150b99a11b940d",
       "style": "IPY_MODEL_b9777ddd51ed440fa050cc2fd750615a",
       "value": "V(x)[min,max] (eV) ="
      }
     },
     "51075eb857db4584bd39e3f90989ec26": {
      "model_module": "@jupyter-widgets/base",
      "model_module_version": "1.2.0",
      "model_name": "LayoutModel",
      "state": {}
     },
     "51349807db504c15be47790f7948bba9": {
      "model_module": "@jupyter-widgets/base",
      "model_module_version": "1.2.0",
      "model_name": "LayoutModel",
      "state": {}
     },
     "514724892349453ea7bfd49ea6bfd254": {
      "model_module": "@jupyter-widgets/controls",
      "model_module_version": "1.5.0",
      "model_name": "ButtonModel",
      "state": {
       "description": "Campo Uniforme (-)",
       "layout": "IPY_MODEL_57942e89164047aeaafd3ce651e4eaeb",
       "style": "IPY_MODEL_618c5f2d9fb943249625f1891203d429"
      }
     },
     "5147eca76bc04f03a4b8142fc46a84f2": {
      "model_module": "@jupyter-widgets/controls",
      "model_module_version": "1.5.0",
      "model_name": "SliderStyleModel",
      "state": {
       "description_width": "initial"
      }
     },
     "5158b9277aee4ddfb6b58f3d624558aa": {
      "model_module": "@jupyter-widgets/output",
      "model_module_version": "1.0.0",
      "model_name": "OutputModel",
      "state": {
       "layout": "IPY_MODEL_1acbaaf33c9243bc88c3ea71c9723028",
       "outputs": [
        {
         "data": {
          "application/vnd.jupyter.widget-view+json": {
           "model_id": "a58b58a09ddf4be99b40730c65ddd902",
           "version_major": 2,
           "version_minor": 0
          },
          "text/plain": "Canvas(toolbar=Toolbar(toolitems=[('Home', 'Reset original view', 'home', 'home'), ('Back', 'Back to previous …"
         },
         "metadata": {},
         "output_type": "display_data"
        }
       ]
      }
     },
     "5185dbfe35bb46bdb647047564c1d620": {
      "model_module": "@jupyter-widgets/controls",
      "model_module_version": "1.5.0",
      "model_name": "DescriptionStyleModel",
      "state": {
       "description_width": ""
      }
     },
     "519a2e20808f46b6b459db2af0c5ea9c": {
      "model_module": "@jupyter-widgets/controls",
      "model_module_version": "1.5.0",
      "model_name": "DescriptionStyleModel",
      "state": {
       "description_width": ""
      }
     },
     "51ebfecbc6fc4d869046813eb6cefd8e": {
      "model_module": "@jupyter-widgets/controls",
      "model_module_version": "1.5.0",
      "model_name": "ButtonModel",
      "state": {
       "description": "Poço Infinito",
       "layout": "IPY_MODEL_c9b0e2aa64ba43859fb16a889fc69025",
       "style": "IPY_MODEL_6e319900ac6a4c879a945a1b91fe048c"
      }
     },
     "521d293482f14918b9a85a4f1ef30061": {
      "model_module": "@jupyter-widgets/controls",
      "model_module_version": "1.5.0",
      "model_name": "LabelModel",
      "state": {
       "layout": "IPY_MODEL_5a5517ce7019461e8a0a68c25e135806",
       "style": "IPY_MODEL_a165345a7fac449c912c5b875542bb63",
       "value": "dx"
      }
     },
     "5236d5a105df4481ab46f86aee6cf699": {
      "model_module": "@jupyter-widgets/base",
      "model_module_version": "1.2.0",
      "model_name": "LayoutModel",
      "state": {
       "display": "flex",
       "width": "90%"
      }
     },
     "5237b131aebd49ef9d594c397c28b145": {
      "model_module": "@jupyter-widgets/controls",
      "model_module_version": "1.5.0",
      "model_name": "GridBoxModel",
      "state": {
       "children": [
        "IPY_MODEL_9b712ba32de7408a9217a4353e4c7ab2",
        "IPY_MODEL_314624b0b2224f1ea091922b4486e47a",
        "IPY_MODEL_eb478d6da55040528d59fe189c893d9b",
        "IPY_MODEL_8791cd6778654ed2b3a4dcba1926a663",
        "IPY_MODEL_e337be03e4af4b46b3175a32ee56b78f",
        "IPY_MODEL_62bdc3263d9d460aaa009d335501b871",
        "IPY_MODEL_e1cf80298f584ba68e3235435324b8b7",
        "IPY_MODEL_1322f7d3543543a59cc685903c3b1b47",
        "IPY_MODEL_4855df9c9be34e89948089baa6ef2584",
        "IPY_MODEL_f26557fc2a0b4b7da2619ee63deac372"
       ],
       "layout": "IPY_MODEL_1aea4766865d4f53b374a400965c9673"
      }
     },
     "5261f957dcf74f25943717287f84bac7": {
      "model_module": "@jupyter-widgets/controls",
      "model_module_version": "1.5.0",
      "model_name": "AccordionModel",
      "state": {
       "_titles": {
        "0": "Potenciais pré definidos"
       },
       "children": [
        "IPY_MODEL_3524b1571c32450bb650cc302df2b699"
       ],
       "layout": "IPY_MODEL_85901fe384fe4e45b4be98988ee494ba"
      }
     },
     "5283dac48fd5451ba277359fcd8871f4": {
      "model_module": "@jupyter-widgets/base",
      "model_module_version": "1.2.0",
      "model_name": "LayoutModel",
      "state": {}
     },
     "529d19a030204693bd19776cc59a971f": {
      "model_module": "@jupyter-widgets/controls",
      "model_module_version": "1.5.0",
      "model_name": "ButtonModel",
      "state": {
       "description": "Pöschl–Teller",
       "layout": "IPY_MODEL_304bb5da221547629ec1aa58a2fdd1a5",
       "style": "IPY_MODEL_fe500eba9a1d4043874fb808fe372f15"
      }
     },
     "52bb1b94822f49a7a18d8184f5de72ae": {
      "model_module": "@jupyter-widgets/controls",
      "model_module_version": "1.5.0",
      "model_name": "DropdownModel",
      "state": {
       "_options_labels": [
        "densidades de probabilidades",
        "funções de onda (parte real, +)",
        "funções de onda (parte imaginária)"
       ],
       "description": "Plotar as",
       "index": 0,
       "layout": "IPY_MODEL_60a9a4116b014ee88479aa6d2f8f9e82",
       "style": "IPY_MODEL_db7ada49abe34f269259785e8cfd320c"
      }
     },
     "52f9380cb5834a07a8b0e40cc2adbf56": {
      "model_module": "@jupyter-widgets/controls",
      "model_module_version": "1.5.0",
      "model_name": "ButtonModel",
      "state": {
       "description": "Lennard Jones",
       "layout": "IPY_MODEL_f55650a1074f4be599156159f05bcb3d",
       "style": "IPY_MODEL_3a6b299b839247649523598003e91dfa"
      }
     },
     "5378552e485d44d6b3dce71e27247216": {
      "model_module": "@jupyter-widgets/controls",
      "model_module_version": "1.5.0",
      "model_name": "ButtonStyleModel",
      "state": {}
     },
     "538ad0e8573d4fe1aeef7e728b94d7c9": {
      "model_module": "@jupyter-widgets/base",
      "model_module_version": "1.2.0",
      "model_name": "LayoutModel",
      "state": {}
     },
     "53bec386434347aeabd5654750d70741": {
      "model_module": "@jupyter-widgets/output",
      "model_module_version": "1.0.0",
      "model_name": "OutputModel",
      "state": {
       "layout": "IPY_MODEL_c30175fce201448ca8c276e37160a2e7",
       "outputs": [
        {
         "data": {
          "application/vnd.jupyter.widget-view+json": {
           "model_id": "dcd1fef4cb614c9287a193c09cb51db5",
           "version_major": 2,
           "version_minor": 0
          },
          "text/plain": "Canvas(toolbar=Toolbar(toolitems=[('Home', 'Reset original view', 'home', 'home'), ('Back', 'Back to previous …"
         },
         "metadata": {},
         "output_type": "display_data"
        }
       ]
      }
     },
     "53c037608d2f4988a9b85c0c61438c8f": {
      "model_module": "@jupyter-widgets/controls",
      "model_module_version": "1.5.0",
      "model_name": "SliderStyleModel",
      "state": {
       "description_width": "initial"
      }
     },
     "53f9e67626fa4725aff1db8e4f2d29eb": {
      "model_module": "@jupyter-widgets/controls",
      "model_module_version": "1.5.0",
      "model_name": "DescriptionStyleModel",
      "state": {
       "description_width": ""
      }
     },
     "53fb0eb4e3ad47da8d51874ab370b478": {
      "model_module": "@jupyter-widgets/controls",
      "model_module_version": "1.5.0",
      "model_name": "SliderStyleModel",
      "state": {
       "description_width": "initial"
      }
     },
     "53fdfb8374774607925afffb200a8a03": {
      "model_module": "@jupyter-widgets/base",
      "model_module_version": "1.2.0",
      "model_name": "LayoutModel",
      "state": {}
     },
     "542f9b797c304f67addb6d53fb7dd99c": {
      "model_module": "@jupyter-widgets/controls",
      "model_module_version": "1.5.0",
      "model_name": "ButtonModel",
      "state": {
       "description": "Duffing Holmes (-)",
       "layout": "IPY_MODEL_d9e278981a4e4c77ae2b02f30bf230d4",
       "style": "IPY_MODEL_da7daccc605c443e928cbfa50abec147"
      }
     },
     "543fb9e21c8e46dab507dec61f363eb7": {
      "model_module": "@jupyter-widgets/base",
      "model_module_version": "1.2.0",
      "model_name": "LayoutModel",
      "state": {}
     },
     "5451e5d0129a4bcb8501ca28f88f9367": {
      "model_module": "@jupyter-widgets/base",
      "model_module_version": "1.2.0",
      "model_name": "LayoutModel",
      "state": {}
     },
     "54dc141864e149e8ad8b0d67c1331469": {
      "model_module": "@jupyter-widgets/controls",
      "model_module_version": "1.5.0",
      "model_name": "IntRangeSliderModel",
      "state": {
       "_model_name": "IntRangeSliderModel",
       "_view_name": "IntRangeSliderView",
       "continuous_update": false,
       "description": "Plotar estados:",
       "layout": "IPY_MODEL_7a51e32fb9794ecbb476c9152ca90862",
       "max": 20,
       "style": "IPY_MODEL_8af30aa5092c47e3b80fd8455d08ec57",
       "value": [
        0,
        10
       ]
      }
     },
     "54ffb414beb246b9b9f2e200f5136b4a": {
      "model_module": "@jupyter-widgets/base",
      "model_module_version": "1.2.0",
      "model_name": "LayoutModel",
      "state": {}
     },
     "55187982126640e6be41b35c00b830dc": {
      "model_module": "@jupyter-widgets/base",
      "model_module_version": "1.2.0",
      "model_name": "LayoutModel",
      "state": {
       "display": "flex",
       "width": "90%"
      }
     },
     "55266da57d0d48ea891616167248eac3": {
      "model_module": "@jupyter-widgets/controls",
      "model_module_version": "1.5.0",
      "model_name": "TextModel",
      "state": {
       "description": "Expressão de $V(x)$: ",
       "layout": "IPY_MODEL_7a4971e7f39242099a240552f9ec5a68",
       "placeholder": "Escreva a expressão aqui.",
       "style": "IPY_MODEL_b9d2de48c71a4e599d5562d16d09b0e5",
       "value": "0"
      }
     },
     "5539677b8d7f4a1c924d362fb56c2f23": {
      "model_module": "@jupyter-widgets/base",
      "model_module_version": "1.2.0",
      "model_name": "LayoutModel",
      "state": {
       "grid_template_columns": "repeat(2, 250px)"
      }
     },
     "55551b271f29434898e4c5709edd15b2": {
      "model_module": "@jupyter-widgets/controls",
      "model_module_version": "1.5.0",
      "model_name": "ButtonStyleModel",
      "state": {}
     },
     "5557572447a14494b4b1d766315fdf33": {
      "model_module": "@jupyter-widgets/controls",
      "model_module_version": "1.5.0",
      "model_name": "CheckboxModel",
      "state": {
       "description": "Auto limitar eixo y",
       "disabled": false,
       "layout": "IPY_MODEL_ad562bac0fc746eb9b0fe60b1fa845e8",
       "style": "IPY_MODEL_de17b54aaf824ee18a294650dd37ef66",
       "value": true
      }
     },
     "55a18ad939d5455aafd6e1246edaac6c": {
      "model_module": "@jupyter-widgets/controls",
      "model_module_version": "1.5.0",
      "model_name": "LabelModel",
      "state": {
       "layout": "IPY_MODEL_0c5ef7717f3f4679a7dce35f41371589",
       "style": "IPY_MODEL_5e6213a831c242d29e122a88d3672ea3",
       "value": "dx"
      }
     },
     "55cbd304e27748d891dc4d491d6fe7f8": {
      "model_module": "@jupyter-widgets/controls",
      "model_module_version": "1.5.0",
      "model_name": "CheckboxModel",
      "state": {
       "description": "Auto limitar eixo y",
       "disabled": false,
       "layout": "IPY_MODEL_6f4db96bf6be449c8b37f87fee104fdd",
       "style": "IPY_MODEL_64d339aa863047dfa2334da278c63bbc",
       "value": true
      }
     },
     "55e2ef21642d4be88d3b2ea003113dce": {
      "model_module": "@jupyter-widgets/base",
      "model_module_version": "1.2.0",
      "model_name": "LayoutModel",
      "state": {}
     },
     "55f689a0e5034fae8a1832934ea687af": {
      "model_module": "@jupyter-widgets/controls",
      "model_module_version": "1.5.0",
      "model_name": "ButtonStyleModel",
      "state": {}
     },
     "5650a491f63d48a4a9212144a50b44cc": {
      "model_module": "@jupyter-widgets/base",
      "model_module_version": "1.2.0",
      "model_name": "LayoutModel",
      "state": {
       "grid_template_columns": "repeat(auto-fill, 180px)"
      }
     },
     "565ef4928b0548dfa7f5c20431613c0c": {
      "model_module": "@jupyter-widgets/controls",
      "model_module_version": "1.5.0",
      "model_name": "DescriptionStyleModel",
      "state": {
       "description_width": "initial"
      }
     },
     "568d6933ceb64fa98e6ef71e48d91fb0": {
      "model_module": "@jupyter-widgets/controls",
      "model_module_version": "1.5.0",
      "model_name": "LabelModel",
      "state": {
       "layout": "IPY_MODEL_d20a1f89f5824bc7b7cb919ecfd71517",
       "style": "IPY_MODEL_1f970adaccb64e13956059c9721f9618",
       "value": "Número de pontos ="
      }
     },
     "5694ce57891d499b98ce4173b507bdd2": {
      "model_module": "@jupyter-widgets/base",
      "model_module_version": "1.2.0",
      "model_name": "LayoutModel",
      "state": {}
     },
     "569e6358e0cf4ae29e8283c2ed176f69": {
      "model_module": "@jupyter-widgets/controls",
      "model_module_version": "1.5.0",
      "model_name": "ButtonModel",
      "state": {
       "description": "Diagonalize...",
       "disabled": true,
       "layout": "IPY_MODEL_ce14b92670ee410589c364ac9113242e",
       "style": "IPY_MODEL_446e57b2d7fa459f97f10f677cbf2eb4"
      }
     },
     "56da77d065524fde9bd92c7fc76c3ea1": {
      "model_module": "@jupyter-widgets/base",
      "model_module_version": "1.2.0",
      "model_name": "LayoutModel",
      "state": {}
     },
     "56e6079181d6468a8e09aa47f9622630": {
      "model_module": "@jupyter-widgets/base",
      "model_module_version": "1.2.0",
      "model_name": "LayoutModel",
      "state": {}
     },
     "570d5d01bf8e4165ad3dd2315fafa64d": {
      "model_module": "@jupyter-widgets/base",
      "model_module_version": "1.2.0",
      "model_name": "LayoutModel",
      "state": {}
     },
     "571f1743efd248f0a9cfa2dcc86c488a": {
      "model_module": "@jupyter-widgets/controls",
      "model_module_version": "1.5.0",
      "model_name": "LabelModel",
      "state": {
       "layout": "IPY_MODEL_88e0c861ffa94095b1ddf288cc1b29b9",
       "style": "IPY_MODEL_1a81fa7ace2645a5ba4fe63520d569f1",
       "value": " 0.13"
      }
     },
     "57481b27cf83429999a1fea1e1ba099a": {
      "model_module": "@jupyter-widgets/controls",
      "model_module_version": "1.5.0",
      "model_name": "IntSliderModel",
      "state": {
       "continuous_update": false,
       "description": "Número de pontos: ",
       "layout": "IPY_MODEL_27d298ae1d4842cf9f812d6a3b8ed8d2",
       "max": 1050,
       "min": 50,
       "step": 10,
       "style": "IPY_MODEL_5f17cc0877224b00abdae384e6a1c706",
       "value": 550
      }
     },
     "57942e89164047aeaafd3ce651e4eaeb": {
      "model_module": "@jupyter-widgets/base",
      "model_module_version": "1.2.0",
      "model_name": "LayoutModel",
      "state": {}
     },
     "57e06b16a2e246dcb54a8b60ac198747": {
      "model_module": "@jupyter-widgets/controls",
      "model_module_version": "1.5.0",
      "model_name": "LabelModel",
      "state": {
       "layout": "IPY_MODEL_46bd29ac31134697bda852dde8d62db8",
       "style": "IPY_MODEL_2cbb1a973b4942d79a9e9cf59e6e3110",
       "value": "Largura do domínio (angstroms) ="
      }
     },
     "58093febae5a49a5b4713f1686fd1d04": {
      "model_module": "@jupyter-widgets/controls",
      "model_module_version": "1.5.0",
      "model_name": "FloatRangeSliderModel",
      "state": {
       "_model_name": "FloatRangeSliderModel",
       "_view_name": "FloatRangeSliderView",
       "continuous_update": false,
       "description": "Domínio de $\\Psi(x)$: ",
       "layout": "IPY_MODEL_7a51e32fb9794ecbb476c9152ca90862",
       "max": 150,
       "min": -150,
       "readout_format": "1d",
       "style": "IPY_MODEL_2b53a500de2f4eda878afc1dea63f157",
       "value": [
        -35,
        35
       ]
      }
     },
     "58334ad7e1414e8b85015472bd76de2c": {
      "model_module": "@jupyter-widgets/base",
      "model_module_version": "1.2.0",
      "model_name": "LayoutModel",
      "state": {}
     },
     "5842663725df4b63b3bd66d34cd34636": {
      "model_module": "@jupyter-widgets/controls",
      "model_module_version": "1.5.0",
      "model_name": "IntRangeSliderModel",
      "state": {
       "_model_name": "IntRangeSliderModel",
       "_view_name": "IntRangeSliderView",
       "continuous_update": false,
       "description": "Plotar estados:",
       "layout": "IPY_MODEL_b24919589ef840339a989c9c94276da5",
       "max": 20,
       "style": "IPY_MODEL_623eaa57282a4ae0854eb7f6c91b93eb",
       "value": [
        0,
        10
       ]
      }
     },
     "585917830f3c49dfa243c2cdf13091b3": {
      "model_module": "@jupyter-widgets/controls",
      "model_module_version": "1.5.0",
      "model_name": "ButtonModel",
      "state": {
       "description": "Diagonalizar",
       "layout": "IPY_MODEL_bc68ea99cbc542d291ee1f1f7691e1b0",
       "style": "IPY_MODEL_a2cc5516f48b42a490765bfef056f55d"
      }
     },
     "5881ea4865c242828df78c1aab731a31": {
      "model_module": "@jupyter-widgets/controls",
      "model_module_version": "1.5.0",
      "model_name": "LabelModel",
      "state": {
       "layout": "IPY_MODEL_f81e1b41bef74137b78df082a6e175b5",
       "style": "IPY_MODEL_28e29259644644089f3c01ee40d1f276",
       "value": " 0.13"
      }
     },
     "58dbe06d91f74247a17621aa8c46bbaf": {
      "model_module": "@jupyter-widgets/base",
      "model_module_version": "1.2.0",
      "model_name": "LayoutModel",
      "state": {}
     },
     "58fa68e49b4a4c4690e66775588b902c": {
      "model_module": "@jupyter-widgets/base",
      "model_module_version": "1.2.0",
      "model_name": "LayoutModel",
      "state": {}
     },
     "58fd1bd12b2541ceb1b682dee2a7bb11": {
      "model_module": "@jupyter-widgets/base",
      "model_module_version": "1.2.0",
      "model_name": "LayoutModel",
      "state": {}
     },
     "59007d9116b0418a82d6b993491d5845": {
      "model_module": "@jupyter-widgets/controls",
      "model_module_version": "1.5.0",
      "model_name": "LabelModel",
      "state": {
       "layout": "IPY_MODEL_81e6800c127341758744622c764655b7",
       "style": "IPY_MODEL_0b8278a428e64bfc96cd8d246aa48d7b",
       "value": "(1e-5)*(x**2)+(1e-7)*(x**4)"
      }
     },
     "59108ef91c824c9a9d81a3d3da1a436f": {
      "model_module": "@jupyter-widgets/controls",
      "model_module_version": "1.5.0",
      "model_name": "TextModel",
      "state": {
       "description": "Expressão de $V(x)$: ",
       "layout": "IPY_MODEL_bc2be9e3ba6a47ebb89b6e0933f66239",
       "placeholder": "Escreva a expressão aqui.",
       "style": "IPY_MODEL_e65978fefa0d447fa228abe1b74059c6",
       "value": "(2e-4)*((x)**2)"
      }
     },
     "59358566395d49cf9951d4fe4ed9cd5f": {
      "model_module": "@jupyter-widgets/base",
      "model_module_version": "1.2.0",
      "model_name": "LayoutModel",
      "state": {}
     },
     "5937cc7f541d43499b1c3888f1d3641e": {
      "model_module": "@jupyter-widgets/controls",
      "model_module_version": "1.5.0",
      "model_name": "LabelModel",
      "state": {
       "layout": "IPY_MODEL_3190d0c34f9f4e679c5c8c0d2ebe045a",
       "style": "IPY_MODEL_23b9b753d515431090edaf7c51962aca",
       "value": "Número de pontos ="
      }
     },
     "5940e804e1be406a8292b6919fa13dbe": {
      "model_module": "@jupyter-widgets/controls",
      "model_module_version": "1.5.0",
      "model_name": "SliderStyleModel",
      "state": {
       "description_width": "initial"
      }
     },
     "595a2d0f72ce4cbdb1c283d49697c2ed": {
      "model_module": "@jupyter-widgets/controls",
      "model_module_version": "1.5.0",
      "model_name": "ButtonStyleModel",
      "state": {}
     },
     "597fe9f3d7fc4b56a242771215f0d4ce": {
      "model_module": "@jupyter-widgets/controls",
      "model_module_version": "1.5.0",
      "model_name": "DescriptionStyleModel",
      "state": {
       "description_width": ""
      }
     },
     "59993acbca9e440b9ea2b42baeef3c0e": {
      "model_module": "@jupyter-widgets/base",
      "model_module_version": "1.2.0",
      "model_name": "LayoutModel",
      "state": {}
     },
     "59c8878638bf4d85944ad51ae2824112": {
      "model_module": "@jupyter-widgets/controls",
      "model_module_version": "1.5.0",
      "model_name": "SliderStyleModel",
      "state": {
       "description_width": "initial"
      }
     },
     "5a5517ce7019461e8a0a68c25e135806": {
      "model_module": "@jupyter-widgets/base",
      "model_module_version": "1.2.0",
      "model_name": "LayoutModel",
      "state": {}
     },
     "5a81c73e999247a9859d77b73829889d": {
      "model_module": "@jupyter-widgets/controls",
      "model_module_version": "1.5.0",
      "model_name": "LabelModel",
      "state": {
       "layout": "IPY_MODEL_86ada65db8c945de90d45a9a1509f633",
       "style": "IPY_MODEL_291e63ec48194cb0979f3dcbb49a0d94",
       "value": "Passo $\\Delta x $ (angstroms) ="
      }
     },
     "5ad6093ae2204a31a56521296d4c7b69": {
      "model_module": "@jupyter-widgets/controls",
      "model_module_version": "1.5.0",
      "model_name": "SliderStyleModel",
      "state": {
       "description_width": "initial"
      }
     },
     "5ae23be5da4b424c8d98c95ded6e9a39": {
      "model_module": "@jupyter-widgets/controls",
      "model_module_version": "1.5.0",
      "model_name": "ButtonModel",
      "state": {
       "description": "Poço Triangular",
       "layout": "IPY_MODEL_5bbfb8b588f04e8198a0cbc83be5e388",
       "style": "IPY_MODEL_0d140b9c45644a2a9e9a53d2dcf3af89"
      }
     },
     "5b1e7bd95ddc4fe1aea4f41c5937bc4c": {
      "model_module": "@jupyter-widgets/controls",
      "model_module_version": "1.5.0",
      "model_name": "LabelModel",
      "state": {
       "layout": "IPY_MODEL_5c47c9692830487aa8714699d18ea5ed",
       "style": "IPY_MODEL_cab22f640ad746d9bd6169c7d1684cbf",
       "value": " 0.13"
      }
     },
     "5b4b297136904be39d714118c2298661": {
      "model_module": "@jupyter-widgets/base",
      "model_module_version": "1.2.0",
      "model_name": "LayoutModel",
      "state": {}
     },
     "5b8a65a67e92417dbfe54280882da95b": {
      "model_module": "@jupyter-widgets/controls",
      "model_module_version": "1.5.0",
      "model_name": "ButtonModel",
      "state": {
       "description": "Campo Uniforme (+)",
       "layout": "IPY_MODEL_a79dae89e38845a7ac77088fa0663c40",
       "style": "IPY_MODEL_8f4be31c737a4c55a4701306b918f355"
      }
     },
     "5b928357fec44a9f9a246c6dc06a50c1": {
      "model_module": "@jupyter-widgets/controls",
      "model_module_version": "1.5.0",
      "model_name": "ButtonModel",
      "state": {
       "description": "Diagonalizado!",
       "disabled": true,
       "layout": "IPY_MODEL_0f21252e9b094ad0b9e06617f079299b",
       "style": "IPY_MODEL_7480e4e6d1bf477088dead3ab31f9ba5"
      }
     },
     "5b9d9478f5d549e380a29d66c1fcbfbd": {
      "model_module": "@jupyter-widgets/base",
      "model_module_version": "1.2.0",
      "model_name": "LayoutModel",
      "state": {}
     },
     "5bbfb8b588f04e8198a0cbc83be5e388": {
      "model_module": "@jupyter-widgets/base",
      "model_module_version": "1.2.0",
      "model_name": "LayoutModel",
      "state": {}
     },
     "5bc21c2e79af4352bf2e2c7c6a0c7ea9": {
      "model_module": "@jupyter-widgets/controls",
      "model_module_version": "1.5.0",
      "model_name": "LabelModel",
      "state": {
       "layout": "IPY_MODEL_fc5bdebbe6094e83a941a30ca9f11a3c",
       "style": "IPY_MODEL_fbe2371c7d6a4510adc3bfa8f082507d",
       "value": "Passo $\\Delta x $ (angstroms) ="
      }
     },
     "5c0fc35aa0154ce28633296c5bdf5468": {
      "model_module": "@jupyter-widgets/controls",
      "model_module_version": "1.5.0",
      "model_name": "TextModel",
      "state": {
       "description": "Expressão de $V(x)$: ",
       "layout": "IPY_MODEL_55187982126640e6be41b35c00b830dc",
       "placeholder": "Escreva a expressão aqui.",
       "style": "IPY_MODEL_e99fe1c450f14a16892be6d2bbe54dab",
       "value": "0"
      }
     },
     "5c2db991d6ed4de081f98a104fdcad4d": {
      "model_module": "@jupyter-widgets/controls",
      "model_module_version": "1.5.0",
      "model_name": "ButtonStyleModel",
      "state": {}
     },
     "5c2f668790c4404890e7ac64d9519527": {
      "model_module": "@jupyter-widgets/controls",
      "model_module_version": "1.5.0",
      "model_name": "SliderStyleModel",
      "state": {
       "description_width": "initial"
      }
     },
     "5c3c4955b3de4d2a88ae9b977649a77a": {
      "model_module": "@jupyter-widgets/base",
      "model_module_version": "1.2.0",
      "model_name": "LayoutModel",
      "state": {}
     },
     "5c47c9692830487aa8714699d18ea5ed": {
      "model_module": "@jupyter-widgets/base",
      "model_module_version": "1.2.0",
      "model_name": "LayoutModel",
      "state": {}
     },
     "5c86b8d81b724203a935a347e5157574": {
      "model_module": "@jupyter-widgets/controls",
      "model_module_version": "1.5.0",
      "model_name": "DescriptionStyleModel",
      "state": {
       "description_width": ""
      }
     },
     "5c8a514816714a6ebb2b2eb3b0cb4383": {
      "model_module": "@jupyter-widgets/controls",
      "model_module_version": "1.5.0",
      "model_name": "SliderStyleModel",
      "state": {
       "description_width": "initial"
      }
     },
     "5c9eb5ae085d48b1a595a6fb83d56db1": {
      "model_module": "@jupyter-widgets/output",
      "model_module_version": "1.0.0",
      "model_name": "OutputModel",
      "state": {
       "layout": "IPY_MODEL_7d6ff849f94a4fce8d6686c9a1877b74",
       "outputs": [
        {
         "data": {
          "application/vnd.jupyter.widget-view+json": {
           "model_id": "f7bd6fdb22cb49509f2133304a441ca7",
           "version_major": 2,
           "version_minor": 0
          },
          "text/plain": "Canvas(toolbar=Toolbar(toolitems=[('Home', 'Reset original view', 'home', 'home'), ('Back', 'Back to previous …"
         },
         "metadata": {},
         "output_type": "display_data"
        }
       ]
      }
     },
     "5ce03e12e97149a6b4e28269e088812c": {
      "model_module": "@jupyter-widgets/controls",
      "model_module_version": "1.5.0",
      "model_name": "DescriptionStyleModel",
      "state": {
       "description_width": ""
      }
     },
     "5cf9f9706deb4aeca2891f31b2797f37": {
      "model_module": "@jupyter-widgets/controls",
      "model_module_version": "1.5.0",
      "model_name": "ButtonModel",
      "state": {
       "description": "Duffing Holmes (+)",
       "layout": "IPY_MODEL_5c3c4955b3de4d2a88ae9b977649a77a",
       "style": "IPY_MODEL_fb2210d364fb4c48a5ec267aa349d95d"
      }
     },
     "5d1db1fba0d54dda8b5916a7e6c33e58": {
      "model_module": "@jupyter-widgets/controls",
      "model_module_version": "1.5.0",
      "model_name": "ButtonModel",
      "state": {
       "description": "Duffing Holmes (-)",
       "layout": "IPY_MODEL_21610279d05a415fb08030e1710daa60",
       "style": "IPY_MODEL_c32c384563314652b196ad68823cf764"
      }
     },
     "5d67c7f70c74454193449bb65f9bc22f": {
      "model_module": "@jupyter-widgets/controls",
      "model_module_version": "1.5.0",
      "model_name": "ButtonStyleModel",
      "state": {}
     },
     "5d69a16e8232456fa5a8baaae902af50": {
      "model_module": "@jupyter-widgets/controls",
      "model_module_version": "1.5.0",
      "model_name": "VBoxModel",
      "state": {
       "_dom_classes": [
        "widget-interact"
       ],
       "children": [
        "IPY_MODEL_2bd773af647349f799fa7f99e41bd91c",
        "IPY_MODEL_27555245081a46fea7383b4998538640",
        "IPY_MODEL_d3f8541b4a674a2e8280ac49ad8a5ffe",
        "IPY_MODEL_70b23f169c1e4e7983b7a2ded9a96d5f",
        "IPY_MODEL_9404e50e23264a548555079dedb0226c",
        "IPY_MODEL_f5a85c2918034ff3a00d409359307e1f",
        "IPY_MODEL_858ccfa67da24569a7f6befa69264c75",
        "IPY_MODEL_a99fb68a24424baa9d5f0e450a2eb048"
       ],
       "layout": "IPY_MODEL_14330c0393a64f08b10001df723e36f1"
      }
     },
     "5d84a9ccca08499fb3fe67e88d021ed8": {
      "model_module": "@jupyter-widgets/controls",
      "model_module_version": "1.5.0",
      "model_name": "VBoxModel",
      "state": {
       "children": [
        "IPY_MODEL_f936419942ab492cb4d912fcaba28a97",
        "IPY_MODEL_399b53e5b156487fb1de5350bcb95e07",
        "IPY_MODEL_3830da0d770a4172b1bd0040dcd2c3d2"
       ],
       "layout": "IPY_MODEL_d8ecc57197884294a17499213dfbf79d"
      }
     },
     "5dab3d772754473284e4fd4fbc06b581": {
      "model_module": "@jupyter-widgets/controls",
      "model_module_version": "1.5.0",
      "model_name": "DescriptionStyleModel",
      "state": {
       "description_width": ""
      }
     },
     "5dc77e3ba5854d1997701e07e9fac424": {
      "model_module": "@jupyter-widgets/base",
      "model_module_version": "1.2.0",
      "model_name": "LayoutModel",
      "state": {}
     },
     "5dcb3192c88f437fa4ffffad8cef9040": {
      "model_module": "@jupyter-widgets/controls",
      "model_module_version": "1.5.0",
      "model_name": "DescriptionStyleModel",
      "state": {
       "description_width": ""
      }
     },
     "5dd3966259cb4479ab8e869d24d8750a": {
      "model_module": "@jupyter-widgets/base",
      "model_module_version": "1.2.0",
      "model_name": "LayoutModel",
      "state": {}
     },
     "5df1d2bbbd1146209e6146c8105e7e6c": {
      "model_module": "@jupyter-widgets/base",
      "model_module_version": "1.2.0",
      "model_name": "LayoutModel",
      "state": {}
     },
     "5df6a2c3a1e94266854cfc74cc68e889": {
      "model_module": "@jupyter-widgets/base",
      "model_module_version": "1.2.0",
      "model_name": "LayoutModel",
      "state": {}
     },
     "5e113c299fa0400593167dbae3ad576e": {
      "model_module": "@jupyter-widgets/controls",
      "model_module_version": "1.5.0",
      "model_name": "TextModel",
      "state": {
       "description": "Expressão de $V(x)$: ",
       "layout": "IPY_MODEL_3070f9637be34c64bc0b2d66c40307a6",
       "placeholder": "Escreva a expressão aqui.",
       "style": "IPY_MODEL_ed51fbec0c4d4eb3abebb02a2a20c896",
       "value": "-4*(np.cosh(0.1*x/ang)**(-2))"
      }
     },
     "5e1e548b82c640c1860d96518fee4367": {
      "model_module": "@jupyter-widgets/base",
      "model_module_version": "1.2.0",
      "model_name": "LayoutModel",
      "state": {}
     },
     "5e24e7c725c34edf8eb0df844f8729b8": {
      "model_module": "@jupyter-widgets/base",
      "model_module_version": "1.2.0",
      "model_name": "LayoutModel",
      "state": {}
     },
     "5e3261cf485a4cb28d73bbd5a32893f3": {
      "model_module": "@jupyter-widgets/controls",
      "model_module_version": "1.5.0",
      "model_name": "DescriptionStyleModel",
      "state": {
       "description_width": ""
      }
     },
     "5e3469f50f354e45a4bfcf3c98816e11": {
      "model_module": "@jupyter-widgets/controls",
      "model_module_version": "1.5.0",
      "model_name": "DescriptionStyleModel",
      "state": {
       "description_width": "initial"
      }
     },
     "5e6213a831c242d29e122a88d3672ea3": {
      "model_module": "@jupyter-widgets/controls",
      "model_module_version": "1.5.0",
      "model_name": "DescriptionStyleModel",
      "state": {
       "description_width": ""
      }
     },
     "5e8439ce3c694a96b023eac2233d5a1b": {
      "model_module": "@jupyter-widgets/controls",
      "model_module_version": "1.5.0",
      "model_name": "LabelModel",
      "state": {
       "layout": "IPY_MODEL_85c8827f50a94d2abace5344772c8b3d",
       "style": "IPY_MODEL_597fe9f3d7fc4b56a242771215f0d4ce",
       "value": "Expressão V(x) ="
      }
     },
     "5e9404b17ee54a67b505f137ba5d2b52": {
      "model_module": "@jupyter-widgets/controls",
      "model_module_version": "1.5.0",
      "model_name": "DescriptionStyleModel",
      "state": {
       "description_width": ""
      }
     },
     "5ee31ea4a6c5479794aa2394750a0fa3": {
      "model_module": "@jupyter-widgets/controls",
      "model_module_version": "1.5.0",
      "model_name": "LabelModel",
      "state": {
       "layout": "IPY_MODEL_82b51aaa721b43e9bd75f21f10e26de9",
       "style": "IPY_MODEL_0e7324bd7577409a896e5ee41d391124",
       "value": "Expressão V(x) ="
      }
     },
     "5ee69f4d740e40bf88ca382291e62229": {
      "model_module": "@jupyter-widgets/controls",
      "model_module_version": "1.5.0",
      "model_name": "DescriptionStyleModel",
      "state": {
       "description_width": ""
      }
     },
     "5f01965910794b08a472656c9f290c08": {
      "model_module": "@jupyter-widgets/controls",
      "model_module_version": "1.5.0",
      "model_name": "IntSliderModel",
      "state": {
       "continuous_update": false,
       "description": "Margens horizontais  (angstroms):   ",
       "layout": "IPY_MODEL_5236d5a105df4481ab46f86aee6cf699",
       "style": "IPY_MODEL_80bcdf9a7c37460c989785068409a060",
       "value": 20
      }
     },
     "5f0b3ae83e724fd0a4fed98e6b746b8b": {
      "model_module": "@jupyter-widgets/controls",
      "model_module_version": "1.5.0",
      "model_name": "ButtonModel",
      "state": {
       "description": "Campo Uniforme (+)",
       "layout": "IPY_MODEL_1dabe3b80e0d4d86a60b8ca1014d9387",
       "style": "IPY_MODEL_183a5526b26a449ea564e0f72c36c31a"
      }
     },
     "5f17cc0877224b00abdae384e6a1c706": {
      "model_module": "@jupyter-widgets/controls",
      "model_module_version": "1.5.0",
      "model_name": "SliderStyleModel",
      "state": {
       "description_width": "initial"
      }
     },
     "5f3889beed4e4aef93884f9fd8006057": {
      "model_module": "@jupyter-widgets/controls",
      "model_module_version": "1.5.0",
      "model_name": "SliderStyleModel",
      "state": {
       "description_width": "initial"
      }
     },
     "5f3d6888dd4344bbb03c1c1d1b9fb2e1": {
      "model_module": "@jupyter-widgets/controls",
      "model_module_version": "1.5.0",
      "model_name": "LabelModel",
      "state": {
       "layout": "IPY_MODEL_9a21351ab00e4fd9b8a337ab88249571",
       "style": "IPY_MODEL_36534c46ad104544abef1e7f63b13438",
       "value": "Passo $\\Delta x $ (angstroms) ="
      }
     },
     "5f45262fb52248349b7b2130e5aa6184": {
      "model_module": "@jupyter-widgets/controls",
      "model_module_version": "1.5.0",
      "model_name": "LabelModel",
      "state": {
       "layout": "IPY_MODEL_1bba220135f14008ac4cae548b8e6ece",
       "style": "IPY_MODEL_33cdedecdfee4bb1bb9944df673f9fa5"
      }
     },
     "5f56dcf1ebcd4974a807372cc1baf45b": {
      "model_module": "@jupyter-widgets/output",
      "model_module_version": "1.0.0",
      "model_name": "OutputModel",
      "state": {
       "layout": "IPY_MODEL_d5fdb518913a498580c674101cc98268",
       "outputs": [
        {
         "data": {
          "application/vnd.jupyter.widget-view+json": {
           "model_id": "ffcdfede9a7c4bf0aade538774e96edf",
           "version_major": 2,
           "version_minor": 0
          },
          "text/plain": "Canvas(toolbar=Toolbar(toolitems=[('Home', 'Reset original view', 'home', 'home'), ('Back', 'Back to previous …"
         },
         "metadata": {},
         "output_type": "display_data"
        }
       ]
      }
     },
     "5f7230b3c4dd4d9291fb48671126799d": {
      "model_module": "@jupyter-widgets/base",
      "model_module_version": "1.2.0",
      "model_name": "LayoutModel",
      "state": {}
     },
     "5f7f3b720ff4459799dff0c47e2ae0f2": {
      "model_module": "@jupyter-widgets/controls",
      "model_module_version": "1.5.0",
      "model_name": "ButtonStyleModel",
      "state": {}
     },
     "5f9c8d35508e4d81a18412f0f1d3fc4d": {
      "model_module": "@jupyter-widgets/controls",
      "model_module_version": "1.5.0",
      "model_name": "SliderStyleModel",
      "state": {
       "description_width": "initial"
      }
     },
     "5ffba7ae43c74807b044f1e5bb72e5a3": {
      "model_module": "@jupyter-widgets/base",
      "model_module_version": "1.2.0",
      "model_name": "LayoutModel",
      "state": {}
     },
     "5ffd35b773af4b2fa4819b96bd66abd3": {
      "model_module": "@jupyter-widgets/base",
      "model_module_version": "1.2.0",
      "model_name": "LayoutModel",
      "state": {}
     },
     "6015a19d9841449599536efe9c5e6aa6": {
      "model_module": "@jupyter-widgets/controls",
      "model_module_version": "1.5.0",
      "model_name": "ButtonStyleModel",
      "state": {}
     },
     "60512a67740346da96b8904899c80d4a": {
      "model_module": "@jupyter-widgets/controls",
      "model_module_version": "1.5.0",
      "model_name": "FloatRangeSliderModel",
      "state": {
       "_model_name": "FloatRangeSliderModel",
       "_view_name": "FloatRangeSliderView",
       "description": "Limites do eixo y (eV):",
       "layout": "IPY_MODEL_3070f9637be34c64bc0b2d66c40307a6",
       "max": 10,
       "min": -10,
       "readout_format": ".1f",
       "step": 0.005,
       "style": "IPY_MODEL_ae4faf534968416398f4969f62270077",
       "value": [
        -2,
        2
       ]
      }
     },
     "605602aeda814d909b360015f84846d6": {
      "model_module": "@jupyter-widgets/controls",
      "model_module_version": "1.5.0",
      "model_name": "ButtonStyleModel",
      "state": {}
     },
     "6081fac0d3a64be8990afa656a6d7ab5": {
      "model_module": "@jupyter-widgets/base",
      "model_module_version": "1.2.0",
      "model_name": "LayoutModel",
      "state": {}
     },
     "60a58696ad94471fb16b56b1b220aef0": {
      "model_module": "@jupyter-widgets/base",
      "model_module_version": "1.2.0",
      "model_name": "LayoutModel",
      "state": {}
     },
     "60a9a4116b014ee88479aa6d2f8f9e82": {
      "model_module": "@jupyter-widgets/base",
      "model_module_version": "1.2.0",
      "model_name": "LayoutModel",
      "state": {}
     },
     "60b3fbda39ea41ee8e3c8bb452f0a386": {
      "model_module": "@jupyter-widgets/controls",
      "model_module_version": "1.5.0",
      "model_name": "DescriptionStyleModel",
      "state": {
       "description_width": ""
      }
     },
     "60dfb61d0d6d44e18fd8049a9e990869": {
      "model_module": "@jupyter-widgets/base",
      "model_module_version": "1.2.0",
      "model_name": "LayoutModel",
      "state": {}
     },
     "611288e16e654a4a83a97627bd90de8d": {
      "model_module": "@jupyter-widgets/controls",
      "model_module_version": "1.5.0",
      "model_name": "GridBoxModel",
      "state": {
       "children": [
        "IPY_MODEL_2416f72585df42039b0c33f41a5b8577",
        "IPY_MODEL_5ae23be5da4b424c8d98c95ded6e9a39",
        "IPY_MODEL_06c07407faf746f98332ab593121fadf",
        "IPY_MODEL_f81e507d11dc454db036ac6f8052ff10",
        "IPY_MODEL_844f77399d574037ae3bbdeed2810b33",
        "IPY_MODEL_baa4afb065be4daaaad71d702f393739",
        "IPY_MODEL_64d103e1a5764047a8b95c9e419a7d75",
        "IPY_MODEL_0e6658ec0ad94238a2001e8c71f56e41",
        "IPY_MODEL_f043f537c5424aa79ba0ecb9ff4f8865",
        "IPY_MODEL_6d29944fa75148a68ce82fbbfe97427b"
       ],
       "layout": "IPY_MODEL_05bbb788abaf4b418f0f9055fb7eba97"
      }
     },
     "612c1ba399eb483c839b6d4c76cc280b": {
      "model_module": "@jupyter-widgets/base",
      "model_module_version": "1.2.0",
      "model_name": "LayoutModel",
      "state": {}
     },
     "6132fef46f0a4ae5a16d1ccb1e5dc1fb": {
      "model_module": "@jupyter-widgets/controls",
      "model_module_version": "1.5.0",
      "model_name": "SliderStyleModel",
      "state": {
       "description_width": "initial"
      }
     },
     "614a656d5fe8409ebbb0e18772c62af5": {
      "model_module": "@jupyter-widgets/base",
      "model_module_version": "1.2.0",
      "model_name": "LayoutModel",
      "state": {}
     },
     "61663d4763464b2995f771b700d14db5": {
      "model_module": "@jupyter-widgets/controls",
      "model_module_version": "1.5.0",
      "model_name": "VBoxModel",
      "state": {
       "_dom_classes": [
        "widget-interact"
       ],
       "children": [
        "IPY_MODEL_c452b3a869a34524884f45634da7023c",
        "IPY_MODEL_be4614e51c2c4bc28693aaf37f128090",
        "IPY_MODEL_c6fe375d22344551bdd843248b38f34c",
        "IPY_MODEL_09c8a64a758347db9810cea71dec55fd",
        "IPY_MODEL_53bec386434347aeabd5654750d70741"
       ],
       "layout": "IPY_MODEL_e35718696c64468abed81724a378763c"
      }
     },
     "61801bcab1b74410a9f34bcaae6dea67": {
      "model_module": "@jupyter-widgets/controls",
      "model_module_version": "1.5.0",
      "model_name": "DescriptionStyleModel",
      "state": {
       "description_width": ""
      }
     },
     "618c5f2d9fb943249625f1891203d429": {
      "model_module": "@jupyter-widgets/controls",
      "model_module_version": "1.5.0",
      "model_name": "ButtonStyleModel",
      "state": {}
     },
     "61a8099bb31f4f4f911b2b77372524ef": {
      "model_module": "@jupyter-widgets/controls",
      "model_module_version": "1.5.0",
      "model_name": "ButtonModel",
      "state": {
       "description": "Duffing Holmes (-)",
       "layout": "IPY_MODEL_de8137d2da714f578d12079bce0392e3",
       "style": "IPY_MODEL_a4fe00a9dacc4dd086bb37422bdf83e8"
      }
     },
     "61da5f9f9d8d4bbda777ed29dee91185": {
      "model_module": "@jupyter-widgets/base",
      "model_module_version": "1.2.0",
      "model_name": "LayoutModel",
      "state": {}
     },
     "621542afea61433e9f517a5dbb4ef64b": {
      "model_module": "@jupyter-widgets/controls",
      "model_module_version": "1.5.0",
      "model_name": "ButtonStyleModel",
      "state": {}
     },
     "623485b1ccf94ffcbca6b18e391821f3": {
      "model_module": "@jupyter-widgets/base",
      "model_module_version": "1.2.0",
      "model_name": "LayoutModel",
      "state": {}
     },
     "62359faa885c4b6cae34fefac93b2f4d": {
      "model_module": "@jupyter-widgets/controls",
      "model_module_version": "1.5.0",
      "model_name": "CheckboxModel",
      "state": {
       "description": "Auto limitar eixo y",
       "disabled": false,
       "layout": "IPY_MODEL_b3238954a511438cb863fafbea0598e6",
       "style": "IPY_MODEL_ab72cd04c0f04d638417f6f237a85e40",
       "value": true
      }
     },
     "623eaa57282a4ae0854eb7f6c91b93eb": {
      "model_module": "@jupyter-widgets/controls",
      "model_module_version": "1.5.0",
      "model_name": "SliderStyleModel",
      "state": {
       "description_width": "initial"
      }
     },
     "626783432cbc45af909eeb78757e02cb": {
      "model_module": "@jupyter-widgets/base",
      "model_module_version": "1.2.0",
      "model_name": "LayoutModel",
      "state": {}
     },
     "6268c1a0b64741dc80a4d074b66d682b": {
      "model_module": "@jupyter-widgets/controls",
      "model_module_version": "1.5.0",
      "model_name": "ButtonModel",
      "state": {
       "description": "Plotar",
       "layout": "IPY_MODEL_cad6c864c99443229727b63f7b97ce2a",
       "style": "IPY_MODEL_9e3ff0ae998e4b9382f02a316adb3d08"
      }
     },
     "6280b26605054c8d9c3a281189427efc": {
      "model_module": "@jupyter-widgets/base",
      "model_module_version": "1.2.0",
      "model_name": "LayoutModel",
      "state": {}
     },
     "628502936e0640da98191f88860d2504": {
      "model_module": "@jupyter-widgets/base",
      "model_module_version": "1.2.0",
      "model_name": "LayoutModel",
      "state": {}
     },
     "629850c1d904498192626256963e8128": {
      "model_module": "@jupyter-widgets/base",
      "model_module_version": "1.2.0",
      "model_name": "LayoutModel",
      "state": {}
     },
     "62a2e7781e844896b3767da3f50b4175": {
      "model_module": "@jupyter-widgets/base",
      "model_module_version": "1.2.0",
      "model_name": "LayoutModel",
      "state": {}
     },
     "62bdc3263d9d460aaa009d335501b871": {
      "model_module": "@jupyter-widgets/controls",
      "model_module_version": "1.5.0",
      "model_name": "LabelModel",
      "state": {
       "layout": "IPY_MODEL_38effcc99ab04dd68061023af67d9b28",
       "style": "IPY_MODEL_c7c4f17a1f8b46199f213be963d51378",
       "value": "[-3.99984 , 0.00000]"
      }
     },
     "62c6bcf45b3744c7a66bbf1a4ccb238f": {
      "model_module": "jupyter-matplotlib",
      "model_module_version": "^0.9.0",
      "model_name": "ToolbarModel",
      "state": {
       "layout": "IPY_MODEL_2eced82dd412480b99d8c2a34ee3253d",
       "toolitems": [
        [
         "Home",
         "Reset original view",
         "home",
         "home"
        ],
        [
         "Back",
         "Back to previous view",
         "arrow-left",
         "back"
        ],
        [
         "Forward",
         "Forward to next view",
         "arrow-right",
         "forward"
        ],
        [
         "Pan",
         "Left button pans, Right button zooms\nx/y fixes axis, CTRL fixes aspect",
         "arrows",
         "pan"
        ],
        [
         "Zoom",
         "Zoom to rectangle\nx/y fixes axis, CTRL fixes aspect",
         "square-o",
         "zoom"
        ],
        [
         "Download",
         "Download plot",
         "floppy-o",
         "save_figure"
        ]
       ]
      }
     },
     "630943eb21be4bed9d4f0ff065c982e3": {
      "model_module": "@jupyter-widgets/base",
      "model_module_version": "1.2.0",
      "model_name": "LayoutModel",
      "state": {}
     },
     "63153d8046934b3d84c6684bf7a95a34": {
      "model_module": "@jupyter-widgets/controls",
      "model_module_version": "1.5.0",
      "model_name": "LabelModel",
      "state": {
       "layout": "IPY_MODEL_be7a4f11cc3c462d945995177d859821",
       "style": "IPY_MODEL_53f9e67626fa4725aff1db8e4f2d29eb",
       "value": "(1e-5)*(x**2)+(1e-7)*(x**4)"
      }
     },
     "633446037d2340189d5742edc399d787": {
      "model_module": "@jupyter-widgets/base",
      "model_module_version": "1.2.0",
      "model_name": "LayoutModel",
      "state": {}
     },
     "633b6099a80a4ac7b4b74f5ad4800983": {
      "model_module": "@jupyter-widgets/controls",
      "model_module_version": "1.5.0",
      "model_name": "ButtonStyleModel",
      "state": {}
     },
     "639cca2975784d1caf214f3879db4947": {
      "model_module": "@jupyter-widgets/controls",
      "model_module_version": "1.5.0",
      "model_name": "DropdownModel",
      "state": {
       "_options_labels": [
        "densidades de probabilidades",
        "funções de onda (parte real, +)",
        "funções de onda (parte imaginária)"
       ],
       "description": "Plotar as",
       "index": 0,
       "layout": "IPY_MODEL_88c98063f39b421c82998e0467327113",
       "style": "IPY_MODEL_aa6d632bc26648f6bd0487e6ce5b7ca2"
      }
     },
     "63db19d143fd456c8e0527f9932ddf2d": {
      "model_module": "@jupyter-widgets/controls",
      "model_module_version": "1.5.0",
      "model_name": "FloatRangeSliderModel",
      "state": {
       "_model_name": "FloatRangeSliderModel",
       "_view_name": "FloatRangeSliderView",
       "continuous_update": false,
       "description": "Domínio de $\\Psi(x)$: ",
       "layout": "IPY_MODEL_7a4971e7f39242099a240552f9ec5a68",
       "max": 150,
       "min": -150,
       "readout_format": "1d",
       "style": "IPY_MODEL_79f92c977ba64de8adb79c1e63e16aac",
       "value": [
        -35,
        35
       ]
      }
     },
     "63e833ae832245d6afe7bb102652395f": {
      "model_module": "@jupyter-widgets/controls",
      "model_module_version": "1.5.0",
      "model_name": "ButtonModel",
      "state": {
       "description": "Morse",
       "layout": "IPY_MODEL_80dccaa97f9b4ad1bbd742c6a76c6766",
       "style": "IPY_MODEL_cfa6d109e6d348aa9f669e464ba220d1"
      }
     },
     "6463983fdd1b4dbb8778fbc9c6168b36": {
      "model_module": "@jupyter-widgets/controls",
      "model_module_version": "1.5.0",
      "model_name": "IntSliderModel",
      "state": {
       "description": "Largura da imagem (polegadas):",
       "layout": "IPY_MODEL_68c51c051cb44ff8abf5058b8b77093c",
       "max": 20,
       "style": "IPY_MODEL_53fb0eb4e3ad47da8d51874ab370b478",
       "value": 16
      }
     },
     "64804ad77fbb4c60b1e420a9c9a5f37a": {
      "model_module": "@jupyter-widgets/controls",
      "model_module_version": "1.5.0",
      "model_name": "LabelModel",
      "state": {
       "layout": "IPY_MODEL_b591ef0b992d44e4aa8dc5f801b58fab",
       "style": "IPY_MODEL_c398a8e26a3c4181a60b78bf60ca97ed",
       "value": "Passo $\\Delta x $ (angstroms) ="
      }
     },
     "649cca63c60c4732b5219621e25fa22e": {
      "model_module": "@jupyter-widgets/controls",
      "model_module_version": "1.5.0",
      "model_name": "LabelModel",
      "state": {
       "layout": "IPY_MODEL_4c5f9a1785914dfc957dab3b128ca1e1",
       "style": "IPY_MODEL_d3854d6982da4fac9f510ebc9d00e03c",
       "value": "V(x)[min,max] (eV) ="
      }
     },
     "64b0e9a6e27d415e99992d13b44f2a28": {
      "model_module": "@jupyter-widgets/controls",
      "model_module_version": "1.5.0",
      "model_name": "LabelModel",
      "state": {
       "layout": "IPY_MODEL_32536cb7bf074a5b95a13045611ee5f9",
       "style": "IPY_MODEL_922979d4d3df4110a73170c7dbea8d9c",
       "value": "Largura do domínio (angstroms) ="
      }
     },
     "64d103e1a5764047a8b95c9e419a7d75": {
      "model_module": "@jupyter-widgets/controls",
      "model_module_version": "1.5.0",
      "model_name": "ButtonModel",
      "state": {
       "description": "Duffing Holmes (-)",
       "layout": "IPY_MODEL_dfbf2948fa7746159f2d48751ca9b795",
       "style": "IPY_MODEL_0c3384a2f8ea4ec7b7889b363186bef2"
      }
     },
     "64d339aa863047dfa2334da278c63bbc": {
      "model_module": "@jupyter-widgets/controls",
      "model_module_version": "1.5.0",
      "model_name": "DescriptionStyleModel",
      "state": {
       "description_width": "initial"
      }
     },
     "652576871d6a4705b4af07e385ac1797": {
      "model_module": "@jupyter-widgets/controls",
      "model_module_version": "1.5.0",
      "model_name": "DescriptionStyleModel",
      "state": {
       "description_width": ""
      }
     },
     "65572c846d5740a89f1af22f52da2ef8": {
      "model_module": "@jupyter-widgets/controls",
      "model_module_version": "1.5.0",
      "model_name": "SliderStyleModel",
      "state": {
       "description_width": "initial"
      }
     },
     "655967436832424997465f46a5cc55e3": {
      "model_module": "@jupyter-widgets/controls",
      "model_module_version": "1.5.0",
      "model_name": "VBoxModel",
      "state": {
       "_dom_classes": [
        "widget-interact"
       ],
       "children": [
        "IPY_MODEL_dae7c281efa84584b089045734ef1389",
        "IPY_MODEL_b48eaf13e3c842ac88d3b2b8605e3570",
        "IPY_MODEL_3e6ac1bb3fd147229605629b104ecd2c",
        "IPY_MODEL_942759fdaaba48529337fec7d5d88c6f",
        "IPY_MODEL_48647f88022a44a5809e26d47c28c9ae"
       ],
       "layout": "IPY_MODEL_9738e18ccd2a40a99570ac6369c7a194"
      }
     },
     "65b63b12212a4f61943ae39d7e28294f": {
      "model_module": "@jupyter-widgets/controls",
      "model_module_version": "1.5.0",
      "model_name": "ButtonModel",
      "state": {
       "description": "Morse",
       "layout": "IPY_MODEL_373f0d2b12f0490fa6588aa3321fa8e8",
       "style": "IPY_MODEL_85bf3ec6d1454e2bbe0c7daaa55888ab"
      }
     },
     "65ba45af86bf4926821a20730c7374d4": {
      "model_module": "@jupyter-widgets/controls",
      "model_module_version": "1.5.0",
      "model_name": "DescriptionStyleModel",
      "state": {
       "description_width": "initial"
      }
     },
     "65eeaaf6495945b2ab4deb0988a40359": {
      "model_module": "@jupyter-widgets/base",
      "model_module_version": "1.2.0",
      "model_name": "LayoutModel",
      "state": {}
     },
     "6611350689244f3e96242002337d0f53": {
      "model_module": "@jupyter-widgets/controls",
      "model_module_version": "1.5.0",
      "model_name": "VBoxModel",
      "state": {
       "_dom_classes": [
        "widget-interact"
       ],
       "children": [
        "IPY_MODEL_34825e77e67345fca5ed3114c4a73bf7",
        "IPY_MODEL_6c8a1b8c2e1345c0ad0a1234e8c8001a",
        "IPY_MODEL_c064ff357aff43afbc02a9169be41f64",
        "IPY_MODEL_d352a66436644429bbb1a7122f82d636",
        "IPY_MODEL_5f56dcf1ebcd4974a807372cc1baf45b"
       ],
       "layout": "IPY_MODEL_4e7c58da6d124ca894f017cad3dfa2fe"
      }
     },
     "662920df97a744109fa342c10ec66c0b": {
      "model_module": "@jupyter-widgets/controls",
      "model_module_version": "1.5.0",
      "model_name": "ButtonModel",
      "state": {
       "description": "Plotar",
       "layout": "IPY_MODEL_e9940687fda4400f8da1bd413f7780f8",
       "style": "IPY_MODEL_ae63ea4986d04e58a358f8d89977261d"
      }
     },
     "66328de88aaa44f08c5949f501ee9b5d": {
      "model_module": "@jupyter-widgets/controls",
      "model_module_version": "1.5.0",
      "model_name": "VBoxModel",
      "state": {
       "_dom_classes": [
        "widget-interact"
       ],
       "layout": "IPY_MODEL_b431e871dc404573b2751913a87298a3"
      }
     },
     "6674349c088c40aa97041356edd10f29": {
      "model_module": "@jupyter-widgets/controls",
      "model_module_version": "1.5.0",
      "model_name": "ButtonModel",
      "state": {
       "description": "Poço Infinito",
       "layout": "IPY_MODEL_098961e075834961a50e6789ef8fa551",
       "style": "IPY_MODEL_b938f4940b764e029d755172b88551d7"
      }
     },
     "66769e5a4dc24c7590b74020178e14fa": {
      "model_module": "@jupyter-widgets/base",
      "model_module_version": "1.2.0",
      "model_name": "LayoutModel",
      "state": {}
     },
     "66b9cb26639d4efb816edae57f83d87e": {
      "model_module": "@jupyter-widgets/controls",
      "model_module_version": "1.5.0",
      "model_name": "SliderStyleModel",
      "state": {
       "description_width": "initial"
      }
     },
     "66f2e3e6f767406bbf8f8f0a9e574df5": {
      "model_module": "@jupyter-widgets/controls",
      "model_module_version": "1.5.0",
      "model_name": "ButtonStyleModel",
      "state": {}
     },
     "6703e737978f47799fdcd675998bd15f": {
      "model_module": "@jupyter-widgets/base",
      "model_module_version": "1.2.0",
      "model_name": "LayoutModel",
      "state": {}
     },
     "670759511c05421999fed3c7e1d01593": {
      "model_module": "@jupyter-widgets/base",
      "model_module_version": "1.2.0",
      "model_name": "LayoutModel",
      "state": {}
     },
     "67581420a0c94b66b8d1f3760e4cad4b": {
      "model_module": "@jupyter-widgets/base",
      "model_module_version": "1.2.0",
      "model_name": "LayoutModel",
      "state": {}
     },
     "677824fafac24c1fae5f7417443666a5": {
      "model_module": "@jupyter-widgets/base",
      "model_module_version": "1.2.0",
      "model_name": "LayoutModel",
      "state": {
       "width": "100%"
      }
     },
     "67d83d0a6deb434b882a6b1fe16b534c": {
      "model_module": "@jupyter-widgets/base",
      "model_module_version": "1.2.0",
      "model_name": "LayoutModel",
      "state": {}
     },
     "67e44a5847fa47b69fab18a42d8fbade": {
      "model_module": "@jupyter-widgets/controls",
      "model_module_version": "1.5.0",
      "model_name": "DescriptionStyleModel",
      "state": {
       "description_width": ""
      }
     },
     "68011561e9964ecba03b20a2afb04f9c": {
      "model_module": "@jupyter-widgets/controls",
      "model_module_version": "1.5.0",
      "model_name": "ButtonModel",
      "state": {
       "description": "Poço Triangular",
       "layout": "IPY_MODEL_1411a7322cc74895a8ab5df2b1884ac6",
       "style": "IPY_MODEL_dc550bbc69b240ae86aa3ed02b02ed5f"
      }
     },
     "68131336f98645c6a69fb640d4c4ba10": {
      "model_module": "@jupyter-widgets/controls",
      "model_module_version": "1.5.0",
      "model_name": "ButtonModel",
      "state": {
       "description": "Poço Triangular",
       "layout": "IPY_MODEL_3b9a288c857844adbe63dd28edea51fe",
       "style": "IPY_MODEL_a67238a1a47048099fbdf3f3eed6bb6c"
      }
     },
     "6835b361a5fe4a2db26452ddd3511085": {
      "model_module": "@jupyter-widgets/controls",
      "model_module_version": "1.5.0",
      "model_name": "GridBoxModel",
      "state": {
       "children": [
        "IPY_MODEL_5bc21c2e79af4352bf2e2c7c6a0c7ea9",
        "IPY_MODEL_5881ea4865c242828df78c1aab731a31",
        "IPY_MODEL_efc4fde50e284a8897cf27f23b6b94f0",
        "IPY_MODEL_bfd161f729bd48b6bf0e3967b849dda8",
        "IPY_MODEL_29e5e91830ea49d79516006664dca728",
        "IPY_MODEL_e711e7406240465f9dd23788e106dbca",
        "IPY_MODEL_ca31fdceb8c64cae9f1890e222a1b500",
        "IPY_MODEL_8002fbb85ed04fb9be7e16ce2e510646",
        "IPY_MODEL_fee9cb2e8a6a4e69b68701efed2a0fda",
        "IPY_MODEL_3112554fa6fb4607aa7292878573d459"
       ],
       "layout": "IPY_MODEL_9297e20ec48542e48afd568a6328d4c7"
      }
     },
     "6882363752364b54ab92ff28af4c1fc1": {
      "model_module": "@jupyter-widgets/controls",
      "model_module_version": "1.5.0",
      "model_name": "IntSliderModel",
      "state": {
       "description": "Pixels por polegada:",
       "layout": "IPY_MODEL_68c51c051cb44ff8abf5058b8b77093c",
       "max": 300,
       "min": 10,
       "style": "IPY_MODEL_3da2c6ba25c0458ea796e98d1ae73ec4",
       "value": 80
      }
     },
     "68857452a78342f5b71dfcf8eacfebd2": {
      "model_module": "@jupyter-widgets/controls",
      "model_module_version": "1.5.0",
      "model_name": "ButtonModel",
      "state": {
       "description": "Poço Triangular",
       "layout": "IPY_MODEL_337e6e4a8a9b4b868e48320a6c8fc15c",
       "style": "IPY_MODEL_25abaddca5824b62b5e1d6b7141afb32"
      }
     },
     "688ede93a1444c34ac10f9f2ca19be01": {
      "model_module": "@jupyter-widgets/controls",
      "model_module_version": "1.5.0",
      "model_name": "SliderStyleModel",
      "state": {
       "description_width": "initial"
      }
     },
     "68c51c051cb44ff8abf5058b8b77093c": {
      "model_module": "@jupyter-widgets/base",
      "model_module_version": "1.2.0",
      "model_name": "LayoutModel",
      "state": {
       "display": "flex",
       "width": "90%"
      }
     },
     "68d07b848d104db4b25326c55648d558": {
      "model_module": "@jupyter-widgets/controls",
      "model_module_version": "1.5.0",
      "model_name": "ButtonModel",
      "state": {
       "description": "Duffing Holmes (-)",
       "layout": "IPY_MODEL_56da77d065524fde9bd92c7fc76c3ea1",
       "style": "IPY_MODEL_27fe7acc8b2e48fcbd8b593166397695"
      }
     },
     "68f9f12639db48e5a88f1111b7407f11": {
      "model_module": "@jupyter-widgets/controls",
      "model_module_version": "1.5.0",
      "model_name": "ButtonModel",
      "state": {
       "description": "Plotar",
       "layout": "IPY_MODEL_99426e3d817b47a5b7303b9ca16c6698",
       "style": "IPY_MODEL_82ccd10b312f4959943d27bec680b22f"
      }
     },
     "6901d1a153394e1e86489fa2002a2232": {
      "model_module": "@jupyter-widgets/base",
      "model_module_version": "1.2.0",
      "model_name": "LayoutModel",
      "state": {}
     },
     "69733d718fdc4e36863df37b8ae02328": {
      "model_module": "@jupyter-widgets/base",
      "model_module_version": "1.2.0",
      "model_name": "LayoutModel",
      "state": {}
     },
     "69a16ffcbc3c4b38b332821776b0f6c3": {
      "model_module": "@jupyter-widgets/base",
      "model_module_version": "1.2.0",
      "model_name": "LayoutModel",
      "state": {}
     },
     "69cf41ff543e47358fa11aec2440c8d7": {
      "model_module": "@jupyter-widgets/base",
      "model_module_version": "1.2.0",
      "model_name": "LayoutModel",
      "state": {
       "display": "flex",
       "width": "90%"
      }
     },
     "69e430d1a8014b9ba6509314c4f2db9b": {
      "model_module": "@jupyter-widgets/controls",
      "model_module_version": "1.5.0",
      "model_name": "ButtonStyleModel",
      "state": {}
     },
     "69f7d8cb27a348ef9cdd590ca7a2b9e3": {
      "model_module": "@jupyter-widgets/controls",
      "model_module_version": "1.5.0",
      "model_name": "ButtonStyleModel",
      "state": {}
     },
     "69f9b1ab54824aecb1ae953c02907f01": {
      "model_module": "@jupyter-widgets/controls",
      "model_module_version": "1.5.0",
      "model_name": "ButtonModel",
      "state": {
       "description": "Lennard Jones",
       "layout": "IPY_MODEL_b18060d09b1c4f9b937462a8844ce3ff",
       "style": "IPY_MODEL_334b3efe487549ef9e408ff00d8aef0c"
      }
     },
     "69fb3afe468149c3b7583ca16fe00e12": {
      "model_module": "@jupyter-widgets/base",
      "model_module_version": "1.2.0",
      "model_name": "LayoutModel",
      "state": {}
     },
     "6a6cda7d3fe146149d61eff97fc6f8bf": {
      "model_module": "@jupyter-widgets/controls",
      "model_module_version": "1.5.0",
      "model_name": "ButtonStyleModel",
      "state": {}
     },
     "6a7862880c5e4003b2f842538838c0d0": {
      "model_module": "@jupyter-widgets/base",
      "model_module_version": "1.2.0",
      "model_name": "LayoutModel",
      "state": {}
     },
     "6a864e484755400683cb4553f99be6af": {
      "model_module": "@jupyter-widgets/controls",
      "model_module_version": "1.5.0",
      "model_name": "DescriptionStyleModel",
      "state": {
       "description_width": "initial"
      }
     },
     "6aac272967c44eb9b0aa56d6b2bb33d1": {
      "model_module": "@jupyter-widgets/base",
      "model_module_version": "1.2.0",
      "model_name": "LayoutModel",
      "state": {
       "width": "100%"
      }
     },
     "6ad316da86124918907b92f5f257488f": {
      "model_module": "@jupyter-widgets/base",
      "model_module_version": "1.2.0",
      "model_name": "LayoutModel",
      "state": {}
     },
     "6ae96412b6ea4b3380874b6ca80f9b01": {
      "model_module": "@jupyter-widgets/base",
      "model_module_version": "1.2.0",
      "model_name": "LayoutModel",
      "state": {}
     },
     "6b034fe291654d92afc9326100c533ab": {
      "model_module": "@jupyter-widgets/base",
      "model_module_version": "1.2.0",
      "model_name": "LayoutModel",
      "state": {}
     },
     "6b039737a5ce4afd9f2779affdeb579c": {
      "model_module": "@jupyter-widgets/base",
      "model_module_version": "1.2.0",
      "model_name": "LayoutModel",
      "state": {}
     },
     "6b3ce9d6fb8147dbbe181363a9e4db76": {
      "model_module": "@jupyter-widgets/controls",
      "model_module_version": "1.5.0",
      "model_name": "ButtonStyleModel",
      "state": {}
     },
     "6b837ad13e1e441caf7d9d2120a519fb": {
      "model_module": "@jupyter-widgets/base",
      "model_module_version": "1.2.0",
      "model_name": "LayoutModel",
      "state": {}
     },
     "6ba9609b9262465e9746e7dce29dac08": {
      "model_module": "@jupyter-widgets/base",
      "model_module_version": "1.2.0",
      "model_name": "LayoutModel",
      "state": {}
     },
     "6bd869fa16bc46d8b10ec71222481194": {
      "model_module": "@jupyter-widgets/base",
      "model_module_version": "1.2.0",
      "model_name": "LayoutModel",
      "state": {}
     },
     "6be2c88730d24585bc2b71c6f4ac43bd": {
      "model_module": "@jupyter-widgets/controls",
      "model_module_version": "1.5.0",
      "model_name": "LabelModel",
      "state": {
       "layout": "IPY_MODEL_8ef32f3b76db40d6841e8b394cdf91f2",
       "style": "IPY_MODEL_b407c9d64a6f41f6af2e9fb8c5d878cb",
       "value": "V(x)[min,max] (eV) ="
      }
     },
     "6beb76390eea4dca84d77eb59b50155f": {
      "model_module": "@jupyter-widgets/controls",
      "model_module_version": "1.5.0",
      "model_name": "ButtonStyleModel",
      "state": {}
     },
     "6bf16a0c49e34dd2805f35433fc40c05": {
      "model_module": "@jupyter-widgets/controls",
      "model_module_version": "1.5.0",
      "model_name": "GridBoxModel",
      "state": {
       "children": [
        "IPY_MODEL_f1452adbe8584672b9ca0a14ec91eebb",
        "IPY_MODEL_37818faf31ba46e28051def4d2f2b6ae",
        "IPY_MODEL_72dc44d83c4541e7bcc06144a3b152c0",
        "IPY_MODEL_a4115ef629484e49bb51017dcb237a38",
        "IPY_MODEL_3b8a9d47853f4122b3f08c507f1eb9b2",
        "IPY_MODEL_c3b0595b594d4ba99bbf7ec731f8518a",
        "IPY_MODEL_86e2087e1990442d941f70f40fad2911",
        "IPY_MODEL_e29ed71e80f04e558ee8dbd3f724642a",
        "IPY_MODEL_367f28f901964076917792fa72864c61",
        "IPY_MODEL_e452bc689a1c457598197533ab98a04c"
       ],
       "layout": "IPY_MODEL_7340432e98bd4563b3cb1dfdc7b57733"
      }
     },
     "6c033dfc4fde4b44b22f04bda26b9b9e": {
      "model_module": "@jupyter-widgets/base",
      "model_module_version": "1.2.0",
      "model_name": "LayoutModel",
      "state": {}
     },
     "6c2bad4197de4473b49b2b09b8c408f0": {
      "model_module": "@jupyter-widgets/controls",
      "model_module_version": "1.5.0",
      "model_name": "VBoxModel",
      "state": {
       "children": [
        "IPY_MODEL_758634de50f74361be01be7c36d12ec2",
        "IPY_MODEL_e59a9f1aaa984f4eb0f8ce97cfd15507",
        "IPY_MODEL_c01a9a9eab854943b2716c8ca8dd8646"
       ],
       "layout": "IPY_MODEL_27eee3c094844d3eab6c345fddc1a8a9"
      }
     },
     "6c2d2b966b71427c8a296de7b5fdbee9": {
      "model_module": "@jupyter-widgets/controls",
      "model_module_version": "1.5.0",
      "model_name": "LabelModel",
      "state": {
       "layout": "IPY_MODEL_05e1971dab7449fcab5d15ea408a6b02",
       "style": "IPY_MODEL_45af98425cb94e2cb112de6326c4feae",
       "value": "Largura do domínio (angstroms) ="
      }
     },
     "6c35b4cc15a042deb81462cc71cb519a": {
      "model_module": "@jupyter-widgets/controls",
      "model_module_version": "1.5.0",
      "model_name": "SliderStyleModel",
      "state": {
       "description_width": "initial"
      }
     },
     "6c3d493ca554415eb6d6cb73a68d57fd": {
      "model_module": "@jupyter-widgets/controls",
      "model_module_version": "1.5.0",
      "model_name": "DescriptionStyleModel",
      "state": {
       "description_width": ""
      }
     },
     "6c538da7d66944a4983461210deb05ae": {
      "model_module": "@jupyter-widgets/controls",
      "model_module_version": "1.5.0",
      "model_name": "ButtonStyleModel",
      "state": {}
     },
     "6c62f61126a64d398dca30870a5f0671": {
      "model_module": "@jupyter-widgets/controls",
      "model_module_version": "1.5.0",
      "model_name": "IntRangeSliderModel",
      "state": {
       "_model_name": "IntRangeSliderModel",
       "_view_name": "IntRangeSliderView",
       "continuous_update": false,
       "description": "Plotar estados:",
       "layout": "IPY_MODEL_7bd99c6c0a4e4288b3e09cc2c80ccdda",
       "max": 20,
       "style": "IPY_MODEL_2ebfea835bc04c418c30d81675576aca",
       "value": [
        0,
        10
       ]
      }
     },
     "6c8a1b8c2e1345c0ad0a1234e8c8001a": {
      "model_module": "@jupyter-widgets/controls",
      "model_module_version": "1.5.0",
      "model_name": "IntSliderModel",
      "state": {
       "continuous_update": false,
       "description": "Número de pontos: ",
       "layout": "IPY_MODEL_5236d5a105df4481ab46f86aee6cf699",
       "max": 1050,
       "min": 50,
       "step": 10,
       "style": "IPY_MODEL_6c35b4cc15a042deb81462cc71cb519a",
       "value": 550
      }
     },
     "6c9b566a3b9045c3880456c92469c739": {
      "model_module": "@jupyter-widgets/controls",
      "model_module_version": "1.5.0",
      "model_name": "ButtonStyleModel",
      "state": {}
     },
     "6ca38e42a4e34a8abc1a89e4d704870d": {
      "model_module": "@jupyter-widgets/controls",
      "model_module_version": "1.5.0",
      "model_name": "ButtonModel",
      "state": {
       "description": "Oscilador Harmônico",
       "layout": "IPY_MODEL_29f85111e98e482cba295e89f8b1d47b",
       "style": "IPY_MODEL_716be53a4af54632b62279237c53666d"
      }
     },
     "6cc4afd23036472483781605be0a79a6": {
      "model_module": "@jupyter-widgets/controls",
      "model_module_version": "1.5.0",
      "model_name": "DescriptionStyleModel",
      "state": {
       "description_width": "initial"
      }
     },
     "6cc7ade724f04beca0650409a5613835": {
      "model_module": "@jupyter-widgets/controls",
      "model_module_version": "1.5.0",
      "model_name": "LabelModel",
      "state": {
       "layout": "IPY_MODEL_cb56001ecbe64f7fb704482593391d18",
       "style": "IPY_MODEL_5ce03e12e97149a6b4e28269e088812c",
       "value": " 70.00"
      }
     },
     "6d15bbf34e144971a099ff0253c4411e": {
      "model_module": "@jupyter-widgets/controls",
      "model_module_version": "1.5.0",
      "model_name": "ButtonModel",
      "state": {
       "description": "Diagonalizar",
       "disabled": true,
       "layout": "IPY_MODEL_23e41981797e43b592dd4964cb5db528",
       "style": "IPY_MODEL_4a50d727e49c4686b57c3a1df1601a45"
      }
     },
     "6d29944fa75148a68ce82fbbfe97427b": {
      "model_module": "@jupyter-widgets/controls",
      "model_module_version": "1.5.0",
      "model_name": "ButtonModel",
      "state": {
       "description": "Pöschl–Teller",
       "layout": "IPY_MODEL_d04afb62bc0f4a76b2822ec64c36da87",
       "style": "IPY_MODEL_eb3c78aae0bb4b4f962c45210d667509"
      }
     },
     "6d62995edf1f4b1eb340fa0811a3ada4": {
      "model_module": "@jupyter-widgets/controls",
      "model_module_version": "1.5.0",
      "model_name": "VBoxModel",
      "state": {
       "_dom_classes": [
        "widget-interact"
       ],
       "children": [
        "IPY_MODEL_25169e0b7bd240bcb1acc8a704666732",
        "IPY_MODEL_a349d98e9769497c9b623cbf14550984",
        "IPY_MODEL_5c0fc35aa0154ce28633296c5bdf5468",
        "IPY_MODEL_aa05dc51ceaa49fb92ac737296f79f0f",
        "IPY_MODEL_1260c65f84a6437784902ffd036d54b2"
       ],
       "layout": "IPY_MODEL_5df6a2c3a1e94266854cfc74cc68e889"
      }
     },
     "6d64ac73ff7b40fd8b946b66a363064f": {
      "model_module": "@jupyter-widgets/controls",
      "model_module_version": "1.5.0",
      "model_name": "LabelModel",
      "state": {
       "layout": "IPY_MODEL_59358566395d49cf9951d4fe4ed9cd5f",
       "style": "IPY_MODEL_2e511f9ea3eb4186b89f30965c2e85c0"
      }
     },
     "6d6554a5d5dd470aa780ff8a14b93a9e": {
      "model_module": "@jupyter-widgets/controls",
      "model_module_version": "1.5.0",
      "model_name": "LabelModel",
      "state": {
       "layout": "IPY_MODEL_fdec78ca10c648f4945f87d310f75745",
       "style": "IPY_MODEL_d7ff21b677224a95942a6fb2aad544f0",
       "value": "Passo $\\Delta x $ (angstroms) ="
      }
     },
     "6d9fcb5c09bc4284a14d9f99a6d5a7f1": {
      "model_module": "@jupyter-widgets/base",
      "model_module_version": "1.2.0",
      "model_name": "LayoutModel",
      "state": {}
     },
     "6e030cbddbfd46f0a348896f33143236": {
      "model_module": "@jupyter-widgets/controls",
      "model_module_version": "1.5.0",
      "model_name": "ButtonStyleModel",
      "state": {}
     },
     "6e319900ac6a4c879a945a1b91fe048c": {
      "model_module": "@jupyter-widgets/controls",
      "model_module_version": "1.5.0",
      "model_name": "ButtonStyleModel",
      "state": {}
     },
     "6e564da9970a459da5eb1d7cc6487c9e": {
      "model_module": "@jupyter-widgets/controls",
      "model_module_version": "1.5.0",
      "model_name": "DescriptionStyleModel",
      "state": {
       "description_width": ""
      }
     },
     "6e6bfc786e1a47c0b3d5536841b108eb": {
      "model_module": "@jupyter-widgets/base",
      "model_module_version": "1.2.0",
      "model_name": "LayoutModel",
      "state": {}
     },
     "6e6e37c8fd4540f68189ac7c567e741d": {
      "model_module": "@jupyter-widgets/controls",
      "model_module_version": "1.5.0",
      "model_name": "ButtonModel",
      "state": {
       "description": "Gerar",
       "layout": "IPY_MODEL_633446037d2340189d5742edc399d787",
       "style": "IPY_MODEL_11d0217c6dcd48efb2c5a60d9bca2d20"
      }
     },
     "6e9075b30d82401fbf9bb23b7486af04": {
      "model_module": "@jupyter-widgets/controls",
      "model_module_version": "1.5.0",
      "model_name": "VBoxModel",
      "state": {
       "children": [
        "IPY_MODEL_d963fb87ae624b0a8bcccde992635bc6",
        "IPY_MODEL_1066ab1489b14b3aa9a52db160ad17e7"
       ],
       "layout": "IPY_MODEL_98279f8b7562451e864c80f1853ba963"
      }
     },
     "6eba48361b8f401aa64ebc1d79f12ed7": {
      "model_module": "@jupyter-widgets/controls",
      "model_module_version": "1.5.0",
      "model_name": "ButtonModel",
      "state": {
       "description": "Duffing Holmes (-)",
       "layout": "IPY_MODEL_d0f0a8438ca040b7b7a3bb06af8257ca",
       "style": "IPY_MODEL_de7f5c86b2da4b6999cdb586ae723c53"
      }
     },
     "6ec49365aae34344b12ad15b32b7003f": {
      "model_module": "@jupyter-widgets/controls",
      "model_module_version": "1.5.0",
      "model_name": "LabelModel",
      "state": {
       "layout": "IPY_MODEL_26eab1d74cc64e5b86ce7d8ac6d8e16a",
       "style": "IPY_MODEL_21ed21fe7d6b417c965ea0dc5f123bba",
       "value": "V(x)[min,max] (eV) ="
      }
     },
     "6f3966d35b8d4b1583dc6550d6dcf516": {
      "model_module": "@jupyter-widgets/controls",
      "model_module_version": "1.5.0",
      "model_name": "SliderStyleModel",
      "state": {
       "description_width": "initial"
      }
     },
     "6f4db96bf6be449c8b37f87fee104fdd": {
      "model_module": "@jupyter-widgets/base",
      "model_module_version": "1.2.0",
      "model_name": "LayoutModel",
      "state": {}
     },
     "6f6084e051bc4048867adcc858abca12": {
      "model_module": "@jupyter-widgets/base",
      "model_module_version": "1.2.0",
      "model_name": "LayoutModel",
      "state": {}
     },
     "6f74bd434a0c4c6fa8a6fb4d34957294": {
      "model_module": "@jupyter-widgets/controls",
      "model_module_version": "1.5.0",
      "model_name": "GridBoxModel",
      "state": {
       "children": [
        "IPY_MODEL_e80e704aad704770ac5bdad298b6b685",
        "IPY_MODEL_fc20ad7bf0a34dfcb7c26edba05878c1",
        "IPY_MODEL_307226430ac1492aa6328c54571a884c",
        "IPY_MODEL_42d29571b1df4292bcd17296f0c1fde0",
        "IPY_MODEL_8e57fda3bcae46b3a23b889c4f088b17",
        "IPY_MODEL_1adb0f9c1757441d99e2fe6bfb9e02ba",
        "IPY_MODEL_f2532c43bdb941d2bfa7b046ca6b7b26",
        "IPY_MODEL_0f74e65e5f1c48a8b2213d70d3ee551b",
        "IPY_MODEL_3221835afcb24daba5078454cd9d9567",
        "IPY_MODEL_231030475b1f4f258f0438ddcdd6a5c2"
       ],
       "layout": "IPY_MODEL_ea7a8de5656242e19fa340e11aa4c65c"
      }
     },
     "6fc4c1a4d5ed4b1e960ffc123cd21e33": {
      "model_module": "@jupyter-widgets/controls",
      "model_module_version": "1.5.0",
      "model_name": "LabelModel",
      "state": {
       "layout": "IPY_MODEL_00156a88e6494d14bc469c95727ed9a0",
       "style": "IPY_MODEL_105fae43724142a2b9815f13b61b608a",
       "value": " 70.00"
      }
     },
     "6fe1d4bb710b4400a8f08f8d633e7d2d": {
      "model_module": "@jupyter-widgets/controls",
      "model_module_version": "1.5.0",
      "model_name": "ButtonStyleModel",
      "state": {}
     },
     "6fe861fc4df2467f9e61beee876037df": {
      "model_module": "@jupyter-widgets/controls",
      "model_module_version": "1.5.0",
      "model_name": "ButtonStyleModel",
      "state": {}
     },
     "6ffedb5b5d3647a3a42a2a2dba096a36": {
      "model_module": "@jupyter-widgets/controls",
      "model_module_version": "1.5.0",
      "model_name": "SliderStyleModel",
      "state": {
       "description_width": "initial"
      }
     },
     "70acfb997a5e46548d0b41f97cb77e40": {
      "model_module": "@jupyter-widgets/controls",
      "model_module_version": "1.5.0",
      "model_name": "LabelModel",
      "state": {
       "layout": "IPY_MODEL_2e9e6746629b4f05b407b9203f983180",
       "style": "IPY_MODEL_ad9a9656ffa54230ba9da8771ecfcea5",
       "value": "Expressão V(x) ="
      }
     },
     "70b23f169c1e4e7983b7a2ded9a96d5f": {
      "model_module": "@jupyter-widgets/controls",
      "model_module_version": "1.5.0",
      "model_name": "IntSliderModel",
      "state": {
       "description": "Pixels por polegada:",
       "layout": "IPY_MODEL_d838689213c84e6095433f5b4242ef15",
       "max": 300,
       "min": 10,
       "style": "IPY_MODEL_fced8fafbca7451c84938d07a21806c0",
       "value": 80
      }
     },
     "70b89aa6046443449589daf0bd94cf54": {
      "model_module": "@jupyter-widgets/controls",
      "model_module_version": "1.5.0",
      "model_name": "IntRangeSliderModel",
      "state": {
       "_model_name": "IntRangeSliderModel",
       "_view_name": "IntRangeSliderView",
       "continuous_update": false,
       "description": "Plotar estados:",
       "layout": "IPY_MODEL_4453439b85e9436890b7c25efe9dbc55",
       "max": 20,
       "style": "IPY_MODEL_2376a0b2853a4aef9bfd0e69f29d527a",
       "value": [
        0,
        10
       ]
      }
     },
     "70dbfd493a364100bd5734120179ccbe": {
      "model_module": "@jupyter-widgets/controls",
      "model_module_version": "1.5.0",
      "model_name": "DescriptionStyleModel",
      "state": {
       "description_width": ""
      }
     },
     "70e650ca6b79483ebf6f25e803887a65": {
      "model_module": "@jupyter-widgets/controls",
      "model_module_version": "1.5.0",
      "model_name": "LabelModel",
      "state": {
       "layout": "IPY_MODEL_b190ffbb977a4221927991df3b0501bc",
       "style": "IPY_MODEL_8fa7590295b04443a5f291fe73bca40e",
       "value": " 0.13"
      }
     },
     "716be53a4af54632b62279237c53666d": {
      "model_module": "@jupyter-widgets/controls",
      "model_module_version": "1.5.0",
      "model_name": "ButtonStyleModel",
      "state": {}
     },
     "71b164ae175c4e28b2eab005a0a97a0e": {
      "model_module": "@jupyter-widgets/controls",
      "model_module_version": "1.5.0",
      "model_name": "TextModel",
      "state": {
       "description": "Expressão de $V(x)$: ",
       "layout": "IPY_MODEL_27b89221c50646e7ad6fa7dd3ba9ef03",
       "placeholder": "Escreva a expressão aqui.",
       "style": "IPY_MODEL_1647eff313524033bb910e460d3d44c1",
       "value": "3.5*(np.exp(-2*(0.1*(x/ang) + 2.75)) - 2*np.exp(-(0.1*(x/ang) + 2.75)))"
      }
     },
     "71bb695749e2432997a873f9cedb7362": {
      "model_module": "@jupyter-widgets/base",
      "model_module_version": "1.2.0",
      "model_name": "LayoutModel",
      "state": {}
     },
     "71c74a84a3e44a2dad36c56d4bf7abde": {
      "model_module": "@jupyter-widgets/base",
      "model_module_version": "1.2.0",
      "model_name": "LayoutModel",
      "state": {}
     },
     "71d49395f1744ea6b890a727f773068b": {
      "model_module": "@jupyter-widgets/controls",
      "model_module_version": "1.5.0",
      "model_name": "ButtonStyleModel",
      "state": {}
     },
     "71ebd2870b714b7d8a5fd904135ea104": {
      "model_module": "@jupyter-widgets/base",
      "model_module_version": "1.2.0",
      "model_name": "LayoutModel",
      "state": {}
     },
     "72224793082c4ecc9017dd6f7ce4ffa9": {
      "model_module": "@jupyter-widgets/controls",
      "model_module_version": "1.5.0",
      "model_name": "ButtonStyleModel",
      "state": {}
     },
     "722693cc50e94a39ac8e0f7114ccf414": {
      "model_module": "@jupyter-widgets/controls",
      "model_module_version": "1.5.0",
      "model_name": "ButtonStyleModel",
      "state": {}
     },
     "7250a21dd5f24163a5e94474b7347d10": {
      "model_module": "@jupyter-widgets/controls",
      "model_module_version": "1.5.0",
      "model_name": "DescriptionStyleModel",
      "state": {
       "description_width": ""
      }
     },
     "72602d02686c4db9ac47dcbe01922ec1": {
      "model_module": "@jupyter-widgets/base",
      "model_module_version": "1.2.0",
      "model_name": "LayoutModel",
      "state": {}
     },
     "72b3983766d04b31a2e311ac234d2502": {
      "model_module": "@jupyter-widgets/controls",
      "model_module_version": "1.5.0",
      "model_name": "LabelModel",
      "state": {
       "layout": "IPY_MODEL_8bc79caf56c54d5bae2358fb30322dfe",
       "style": "IPY_MODEL_21946ec42efe4d1c82508d6e58494a04",
       "value": "-4*(np.cosh(0.1*x/ang)**(-2))"
      }
     },
     "72c351c893404f8bb37a98b571087602": {
      "model_module": "@jupyter-widgets/base",
      "model_module_version": "1.2.0",
      "model_name": "LayoutModel",
      "state": {}
     },
     "72ceacc8172d49c88c7717ce56d39b11": {
      "model_module": "@jupyter-widgets/controls",
      "model_module_version": "1.5.0",
      "model_name": "IntSliderModel",
      "state": {
       "continuous_update": false,
       "description": "Número de pontos: ",
       "layout": "IPY_MODEL_16010a52e9f5434c96eff916c5d6459a",
       "max": 1050,
       "min": 50,
       "step": 10,
       "style": "IPY_MODEL_9e7f3f2c56c44598b8c51e584785314a",
       "value": 550
      }
     },
     "72dc44d83c4541e7bcc06144a3b152c0": {
      "model_module": "@jupyter-widgets/controls",
      "model_module_version": "1.5.0",
      "model_name": "ButtonModel",
      "state": {
       "description": "Campo Uniforme (+)",
       "layout": "IPY_MODEL_8c6da4b14a7c44dfa10b4293d1c60a6e",
       "style": "IPY_MODEL_1c8382f902d14c0fa50f2a4d2a3ebe6c"
      }
     },
     "7329f7ec9e8d436db7b31e0453084cfc": {
      "model_module": "@jupyter-widgets/controls",
      "model_module_version": "1.5.0",
      "model_name": "IntSliderModel",
      "state": {
       "description": "Altura da imagem (polegadas): ",
       "layout": "IPY_MODEL_68c51c051cb44ff8abf5058b8b77093c",
       "max": 20,
       "style": "IPY_MODEL_238cdd357ce84231af33786ca96e9e47",
       "value": 9
      }
     },
     "733b8f57b2fb44f2ab120a4a3ebfa372": {
      "model_module": "@jupyter-widgets/controls",
      "model_module_version": "1.5.0",
      "model_name": "LabelModel",
      "state": {
       "layout": "IPY_MODEL_58334ad7e1414e8b85015472bd76de2c",
       "style": "IPY_MODEL_0238a40ec75141369f27a0393983af87",
       "value": "[V_min,V_max]"
      }
     },
     "7340432e98bd4563b3cb1dfdc7b57733": {
      "model_module": "@jupyter-widgets/base",
      "model_module_version": "1.2.0",
      "model_name": "LayoutModel",
      "state": {
       "grid_template_columns": "repeat(auto-fill, 180px)"
      }
     },
     "734923d367774a21abdac909d0d33ffc": {
      "model_module": "@jupyter-widgets/controls",
      "model_module_version": "1.5.0",
      "model_name": "ButtonModel",
      "state": {
       "description": "Gerar",
       "layout": "IPY_MODEL_2993796bf05a4571bfc2ec86f15ab590",
       "style": "IPY_MODEL_e434ff4a64d04cd7992abb94e5680eb9"
      }
     },
     "7355aa02f1824458b8f4d28c2e2a950c": {
      "model_module": "@jupyter-widgets/controls",
      "model_module_version": "1.5.0",
      "model_name": "LabelModel",
      "state": {
       "layout": "IPY_MODEL_e6666d528fd04c46a100830554684026",
       "style": "IPY_MODEL_c510a733938d4ada8a9c46bdbd589721",
       "value": "V(x)[min,max] (eV) ="
      }
     },
     "7357a037bddf4974a5e2e3e2bdcfe178": {
      "model_module": "@jupyter-widgets/base",
      "model_module_version": "1.2.0",
      "model_name": "LayoutModel",
      "state": {}
     },
     "738c4b3ea0124306a12e1b5d5fffea5e": {
      "model_module": "@jupyter-widgets/base",
      "model_module_version": "1.2.0",
      "model_name": "LayoutModel",
      "state": {}
     },
     "73f2879e24334a6f90c10b12c4eb1cb9": {
      "model_module": "@jupyter-widgets/controls",
      "model_module_version": "1.5.0",
      "model_name": "LabelModel",
      "state": {
       "layout": "IPY_MODEL_543fb9e21c8e46dab507dec61f363eb7",
       "style": "IPY_MODEL_d7138dc182c54951914f26926cdcf58f",
       "value": "Número de pontos ="
      }
     },
     "74237c16fed34b859c7cfa11ba126f1a": {
      "model_module": "jupyter-matplotlib",
      "model_module_version": "^0.9.0",
      "model_name": "ToolbarModel",
      "state": {
       "layout": "IPY_MODEL_cecda1c7cfb046f9967a92bd6cef77cc",
       "toolitems": [
        [
         "Home",
         "Reset original view",
         "home",
         "home"
        ],
        [
         "Back",
         "Back to previous view",
         "arrow-left",
         "back"
        ],
        [
         "Forward",
         "Forward to next view",
         "arrow-right",
         "forward"
        ],
        [
         "Pan",
         "Left button pans, Right button zooms\nx/y fixes axis, CTRL fixes aspect",
         "arrows",
         "pan"
        ],
        [
         "Zoom",
         "Zoom to rectangle\nx/y fixes axis, CTRL fixes aspect",
         "square-o",
         "zoom"
        ],
        [
         "Download",
         "Download plot",
         "floppy-o",
         "save_figure"
        ]
       ]
      }
     },
     "744f8ad843dc4ace980c47e09eb717b3": {
      "model_module": "@jupyter-widgets/controls",
      "model_module_version": "1.5.0",
      "model_name": "DescriptionStyleModel",
      "state": {
       "description_width": ""
      }
     },
     "7451c60d509143ce8fd67c4cfa632fc2": {
      "model_module": "@jupyter-widgets/base",
      "model_module_version": "1.2.0",
      "model_name": "LayoutModel",
      "state": {}
     },
     "747c127ea6184c6694524ce54f8d39b3": {
      "model_module": "@jupyter-widgets/controls",
      "model_module_version": "1.5.0",
      "model_name": "ButtonStyleModel",
      "state": {}
     },
     "7480e4e6d1bf477088dead3ab31f9ba5": {
      "model_module": "@jupyter-widgets/controls",
      "model_module_version": "1.5.0",
      "model_name": "ButtonStyleModel",
      "state": {}
     },
     "7492201c57264f94a8216bbed956ffd5": {
      "model_module": "@jupyter-widgets/controls",
      "model_module_version": "1.5.0",
      "model_name": "LabelModel",
      "state": {
       "layout": "IPY_MODEL_8cba4b3443e94c2283f715b2907cddf4",
       "style": "IPY_MODEL_d22e0d4b040e4d4e8183604793e75d3d",
       "value": "Expressão V(x) ="
      }
     },
     "74947ff19be442a2bd210bec4269cca8": {
      "model_module": "@jupyter-widgets/base",
      "model_module_version": "1.2.0",
      "model_name": "LayoutModel",
      "state": {}
     },
     "74a0314571074afbb801d046fe6d3a96": {
      "model_module": "@jupyter-widgets/controls",
      "model_module_version": "1.5.0",
      "model_name": "ButtonStyleModel",
      "state": {}
     },
     "7503809a7a374e42be34e9b377fb8ee6": {
      "model_module": "jupyter-matplotlib",
      "model_module_version": "^0.9.0",
      "model_name": "ToolbarModel",
      "state": {
       "layout": "IPY_MODEL_a9e0dc6fae4b4d209a1c81ca32f44d16",
       "toolitems": [
        [
         "Home",
         "Reset original view",
         "home",
         "home"
        ],
        [
         "Back",
         "Back to previous view",
         "arrow-left",
         "back"
        ],
        [
         "Forward",
         "Forward to next view",
         "arrow-right",
         "forward"
        ],
        [
         "Pan",
         "Left button pans, Right button zooms\nx/y fixes axis, CTRL fixes aspect",
         "arrows",
         "pan"
        ],
        [
         "Zoom",
         "Zoom to rectangle\nx/y fixes axis, CTRL fixes aspect",
         "square-o",
         "zoom"
        ],
        [
         "Download",
         "Download plot",
         "floppy-o",
         "save_figure"
        ]
       ]
      }
     },
     "75142a44e4404fca91fb09688eb970b7": {
      "model_module": "@jupyter-widgets/controls",
      "model_module_version": "1.5.0",
      "model_name": "DescriptionStyleModel",
      "state": {
       "description_width": ""
      }
     },
     "751d75fcae9647998b41a77fdad998cb": {
      "model_module": "@jupyter-widgets/controls",
      "model_module_version": "1.5.0",
      "model_name": "DescriptionStyleModel",
      "state": {
       "description_width": ""
      }
     },
     "751ee4db885644bd85f0f510bb68234e": {
      "model_module": "@jupyter-widgets/controls",
      "model_module_version": "1.5.0",
      "model_name": "SliderStyleModel",
      "state": {
       "description_width": "initial"
      }
     },
     "754fe251d9b34a329d2980de567b6b0c": {
      "model_module": "@jupyter-widgets/controls",
      "model_module_version": "1.5.0",
      "model_name": "ButtonModel",
      "state": {
       "description": "Duffing Holmes (+)",
       "layout": "IPY_MODEL_81795e4ad43a4fe8a054619005526b80",
       "style": "IPY_MODEL_6fe861fc4df2467f9e61beee876037df"
      }
     },
     "75680f6a4f1c48c8bdf6d15f15d69757": {
      "model_module": "@jupyter-widgets/controls",
      "model_module_version": "1.5.0",
      "model_name": "LabelModel",
      "state": {
       "layout": "IPY_MODEL_cda587a4868043ca8d6c7bd27fee30a6",
       "style": "IPY_MODEL_07e26e2b2e3240a5abe3a2b5b6df64f8",
       "value": "Largura do domínio (angstroms) ="
      }
     },
     "75693f4bb652410b8a6eb444f869abbd": {
      "model_module": "@jupyter-widgets/base",
      "model_module_version": "1.2.0",
      "model_name": "LayoutModel",
      "state": {}
     },
     "756badb5a18d44dda9575bea39ba52cb": {
      "model_module": "@jupyter-widgets/controls",
      "model_module_version": "1.5.0",
      "model_name": "LabelModel",
      "state": {
       "layout": "IPY_MODEL_7451c60d509143ce8fd67c4cfa632fc2",
       "style": "IPY_MODEL_b84ef5f6c5ea4828ae4d18d351ea640b",
       "value": "L"
      }
     },
     "758634de50f74361be01be7c36d12ec2": {
      "model_module": "@jupyter-widgets/controls",
      "model_module_version": "1.5.0",
      "model_name": "AccordionModel",
      "state": {
       "_titles": {
        "0": "Potenciais pré definidos"
       },
       "children": [
        "IPY_MODEL_0f5f060d3d2445b890cb6f77a4b1110e"
       ],
       "layout": "IPY_MODEL_2d4e9921cfa144bfb06697c8041cbacc"
      }
     },
     "75978f5df2824e07a6eadb9a49318bc3": {
      "model_module": "@jupyter-widgets/controls",
      "model_module_version": "1.5.0",
      "model_name": "ButtonStyleModel",
      "state": {}
     },
     "75a1c8eea77043c392fd302e3fbf4944": {
      "model_module": "@jupyter-widgets/base",
      "model_module_version": "1.2.0",
      "model_name": "LayoutModel",
      "state": {}
     },
     "75b6fde36a4d421e830f3923e018a80b": {
      "model_module": "@jupyter-widgets/base",
      "model_module_version": "1.2.0",
      "model_name": "LayoutModel",
      "state": {}
     },
     "75c17e798acd46078e8ef0163c3ee6c9": {
      "model_module": "@jupyter-widgets/controls",
      "model_module_version": "1.5.0",
      "model_name": "DescriptionStyleModel",
      "state": {
       "description_width": "initial"
      }
     },
     "75c7695cf15449ca981ba33952f2060c": {
      "model_module": "@jupyter-widgets/controls",
      "model_module_version": "1.5.0",
      "model_name": "LabelModel",
      "state": {
       "layout": "IPY_MODEL_ef0851f4b386413191835745e56f6220",
       "style": "IPY_MODEL_519a2e20808f46b6b459db2af0c5ea9c",
       "value": " 550"
      }
     },
     "75d42f91522946f9b3d41c9e5a77d446": {
      "model_module": "@jupyter-widgets/controls",
      "model_module_version": "1.5.0",
      "model_name": "ButtonStyleModel",
      "state": {}
     },
     "75d7685c1c73447d87b5909664650ed6": {
      "model_module": "@jupyter-widgets/controls",
      "model_module_version": "1.5.0",
      "model_name": "ButtonStyleModel",
      "state": {}
     },
     "75e1f5c67f9d4db394d7e65d5027d644": {
      "model_module": "@jupyter-widgets/controls",
      "model_module_version": "1.5.0",
      "model_name": "DescriptionStyleModel",
      "state": {
       "description_width": ""
      }
     },
     "764e830d1061489f8edf0076a93b2e65": {
      "model_module": "@jupyter-widgets/controls",
      "model_module_version": "1.5.0",
      "model_name": "CheckboxModel",
      "state": {
       "description": "Auto limitar eixo y",
       "disabled": false,
       "layout": "IPY_MODEL_ecbe946eedd94967b5a9e2d44fef3102",
       "style": "IPY_MODEL_abe94d12c30f472782b257bc62fd7003",
       "value": true
      }
     },
     "765e4a29f7954fcbacb166365d60ca0a": {
      "model_module": "@jupyter-widgets/controls",
      "model_module_version": "1.5.0",
      "model_name": "ButtonModel",
      "state": {
       "description": "Campo Uniforme (+)",
       "layout": "IPY_MODEL_75a1c8eea77043c392fd302e3fbf4944",
       "style": "IPY_MODEL_37b09dd3aa1940539b75634e10bbf518"
      }
     },
     "7719bc3ed9dc4224a897b0840ce94b41": {
      "model_module": "@jupyter-widgets/controls",
      "model_module_version": "1.5.0",
      "model_name": "DescriptionStyleModel",
      "state": {
       "description_width": ""
      }
     },
     "7777e7a9a3aa4aff990271bc18a6e9f3": {
      "model_module": "@jupyter-widgets/controls",
      "model_module_version": "1.5.0",
      "model_name": "DropdownModel",
      "state": {
       "_options_labels": [
        "densidades de probabilidades",
        "funções de onda (parte real, +)",
        "funções de onda (parte imaginária)"
       ],
       "description": "Plotar as",
       "index": 0,
       "layout": "IPY_MODEL_6703e737978f47799fdcd675998bd15f",
       "style": "IPY_MODEL_9d4cadd1c9004e22b368480830738e2e"
      }
     },
     "77a2acc617df489484f54fd63bcc82ea": {
      "model_module": "@jupyter-widgets/controls",
      "model_module_version": "1.5.0",
      "model_name": "ButtonStyleModel",
      "state": {}
     },
     "77ffd317802249adad5ce5b843abbe90": {
      "model_module": "@jupyter-widgets/controls",
      "model_module_version": "1.5.0",
      "model_name": "ButtonStyleModel",
      "state": {}
     },
     "780ae054200c4094a9cbdc253e0c8277": {
      "model_module": "@jupyter-widgets/controls",
      "model_module_version": "1.5.0",
      "model_name": "DescriptionStyleModel",
      "state": {
       "description_width": "initial"
      }
     },
     "780b6353a2cc4ac387ad49593e28ea64": {
      "model_module": "@jupyter-widgets/controls",
      "model_module_version": "1.5.0",
      "model_name": "DescriptionStyleModel",
      "state": {
       "description_width": "initial"
      }
     },
     "782eb612e2094d40ac827c0e67b0b0ae": {
      "model_module": "@jupyter-widgets/controls",
      "model_module_version": "1.5.0",
      "model_name": "ButtonModel",
      "state": {
       "description": "Pöschl–Teller",
       "layout": "IPY_MODEL_d7d6cb7edebd4cd68a17531d3de82007",
       "style": "IPY_MODEL_5c2db991d6ed4de081f98a104fdcad4d"
      }
     },
     "783153f1634540ada12c2c6ef82c1917": {
      "model_module": "@jupyter-widgets/controls",
      "model_module_version": "1.5.0",
      "model_name": "ButtonModel",
      "state": {
       "description": "Pöschl–Teller",
       "layout": "IPY_MODEL_1200815a18974b698988524a57517f5e",
       "style": "IPY_MODEL_dfcfdea88a4846c3a9234f0a3886ac35"
      }
     },
     "7868f7c5c90a47bd87072bb4d89edc95": {
      "model_module": "@jupyter-widgets/controls",
      "model_module_version": "1.5.0",
      "model_name": "IntRangeSliderModel",
      "state": {
       "_model_name": "IntRangeSliderModel",
       "_view_name": "IntRangeSliderView",
       "continuous_update": false,
       "description": "Plotar estados:",
       "layout": "IPY_MODEL_27d298ae1d4842cf9f812d6a3b8ed8d2",
       "max": 20,
       "style": "IPY_MODEL_317f0825cf284e9194d1ca4c9576d400",
       "value": [
        0,
        10
       ]
      }
     },
     "78a9f5274e114530bd6192c0d8352a40": {
      "model_module": "@jupyter-widgets/controls",
      "model_module_version": "1.5.0",
      "model_name": "LabelModel",
      "state": {
       "layout": "IPY_MODEL_8e2e2576da7846f3be669120b5f9597b",
       "style": "IPY_MODEL_2a8b23570a15485f8b20f2d02aeeb749",
       "value": "Número de pontos ="
      }
     },
     "78ad715d671644aa9d8d6be3956bf02b": {
      "model_module": "@jupyter-widgets/controls",
      "model_module_version": "1.5.0",
      "model_name": "ButtonStyleModel",
      "state": {}
     },
     "78b536bf9198488088444c8ab378036a": {
      "model_module": "@jupyter-widgets/controls",
      "model_module_version": "1.5.0",
      "model_name": "ButtonModel",
      "state": {
       "description": "Duffing Holmes (+)",
       "layout": "IPY_MODEL_8eba260a0779408a919c245b644adb32",
       "style": "IPY_MODEL_43a08fdb1e364a9f8d44fff94af44f60"
      }
     },
     "78e06802cfb646a5a01ca8d6a24ba64a": {
      "model_module": "@jupyter-widgets/controls",
      "model_module_version": "1.5.0",
      "model_name": "DescriptionStyleModel",
      "state": {
       "description_width": "initial"
      }
     },
     "79035154365f4df9a546cb0303493942": {
      "model_module": "@jupyter-widgets/controls",
      "model_module_version": "1.5.0",
      "model_name": "VBoxModel",
      "state": {
       "_dom_classes": [
        "widget-interact"
       ],
       "children": [
        "IPY_MODEL_e12e82a0a1064e1fbe1f3368e880e61d",
        "IPY_MODEL_57481b27cf83429999a1fea1e1ba099a",
        "IPY_MODEL_d99535ed0d764254945c8518aaea1a7b",
        "IPY_MODEL_734923d367774a21abdac909d0d33ffc",
        "IPY_MODEL_2963dcfcf8194ffc932e7abc63e2bb8e"
       ],
       "layout": "IPY_MODEL_c47a2e7eff9846939022b3ae86350a19"
      }
     },
     "7955a5f8b99d4b96a8f7b74ed2421eff": {
      "model_module": "@jupyter-widgets/controls",
      "model_module_version": "1.5.0",
      "model_name": "ButtonModel",
      "state": {
       "description": "Diagonalizado!",
       "disabled": true,
       "layout": "IPY_MODEL_d146edfa1e4046bd84baa0f9b289db9f",
       "style": "IPY_MODEL_fc714051597c4d59940cdff81defaf47"
      }
     },
     "797e830189af4e9ea410b216df831e23": {
      "model_module": "@jupyter-widgets/controls",
      "model_module_version": "1.5.0",
      "model_name": "DropdownModel",
      "state": {
       "_options_labels": [
        "densidades de probabilidades",
        "funções de onda (parte real, +)",
        "funções de onda (parte imaginária)"
       ],
       "description": "Plotar as",
       "index": 0,
       "layout": "IPY_MODEL_2c2fa37492c44dc98778ea0fdc97c070",
       "style": "IPY_MODEL_e44b5970d82b4e9daa840023ccf0534f"
      }
     },
     "79cdd72176c64eb795789379acf8ddcf": {
      "model_module": "@jupyter-widgets/controls",
      "model_module_version": "1.5.0",
      "model_name": "DropdownModel",
      "state": {
       "_options_labels": [
        "densidades de probabilidades",
        "funções de onda (parte real, +)",
        "funções de onda (parte imaginária)"
       ],
       "description": "Plotar as",
       "index": 0,
       "layout": "IPY_MODEL_8103da9193f2466a948811186b51f9bb",
       "style": "IPY_MODEL_7c37c3fb11f14785a315a9c937e80bbe"
      }
     },
     "79f92c977ba64de8adb79c1e63e16aac": {
      "model_module": "@jupyter-widgets/controls",
      "model_module_version": "1.5.0",
      "model_name": "SliderStyleModel",
      "state": {
       "description_width": "initial"
      }
     },
     "7a11e0b538fb46adbd8977e02fd96b35": {
      "model_module": "@jupyter-widgets/controls",
      "model_module_version": "1.5.0",
      "model_name": "IntSliderModel",
      "state": {
       "continuous_update": false,
       "description": "Margens horizontais  (angstroms):   ",
       "layout": "IPY_MODEL_7bd99c6c0a4e4288b3e09cc2c80ccdda",
       "style": "IPY_MODEL_0ed238805a7b435e89a2a1c7979ed1e2",
       "value": 20
      }
     },
     "7a41a799b34d433e8d55ea3587af361a": {
      "model_module": "@jupyter-widgets/controls",
      "model_module_version": "1.5.0",
      "model_name": "ButtonStyleModel",
      "state": {}
     },
     "7a4971e7f39242099a240552f9ec5a68": {
      "model_module": "@jupyter-widgets/base",
      "model_module_version": "1.2.0",
      "model_name": "LayoutModel",
      "state": {
       "display": "flex",
       "width": "95%"
      }
     },
     "7a51e32fb9794ecbb476c9152ca90862": {
      "model_module": "@jupyter-widgets/base",
      "model_module_version": "1.2.0",
      "model_name": "LayoutModel",
      "state": {
       "display": "flex",
       "width": "100%"
      }
     },
     "7a5224439dee46f08e1bd2228b510d72": {
      "model_module": "@jupyter-widgets/controls",
      "model_module_version": "1.5.0",
      "model_name": "ButtonModel",
      "state": {
       "description": "Plotar",
       "layout": "IPY_MODEL_850a0ddc4ef642e0add1a247c96909e5",
       "style": "IPY_MODEL_edd1f7cd64b6480c91c4d048fcfa04d8"
      }
     },
     "7a5a7aac316c4c2db7f61f84794b358b": {
      "model_module": "@jupyter-widgets/controls",
      "model_module_version": "1.5.0",
      "model_name": "ButtonModel",
      "state": {
       "description": "Duffing Holmes (-)",
       "layout": "IPY_MODEL_3718812773714fceae175aeab2da1a9a",
       "style": "IPY_MODEL_633b6099a80a4ac7b4b74f5ad4800983"
      }
     },
     "7a79d306db7747b494ae823b9eb5e3c7": {
      "model_module": "@jupyter-widgets/controls",
      "model_module_version": "1.5.0",
      "model_name": "VBoxModel",
      "state": {
       "_dom_classes": [
        "widget-interact"
       ],
       "children": [
        "IPY_MODEL_2cb4a352ef454ab7a4f3612b23cb1312",
        "IPY_MODEL_975dc2f00efc40b1955d5e78e1adcf7f",
        "IPY_MODEL_fde9c0e1a14e4d439ed713bdd57adab6",
        "IPY_MODEL_948096db23304cd48d085621735aaff5",
        "IPY_MODEL_023e239575eb460b8fce1ff6172e0f5c",
        "IPY_MODEL_55cbd304e27748d891dc4d491d6fe7f8",
        "IPY_MODEL_de8aba30e3ad487c870bd28a11aa4654",
        "IPY_MODEL_952a23ab3c6542f18b5a68a2887cbf0c"
       ],
       "layout": "IPY_MODEL_af745620491047a1ad5e843dda40d61c"
      }
     },
     "7a8707f97b3b4f8eb78f9b31d0d52f0f": {
      "model_module": "@jupyter-widgets/controls",
      "model_module_version": "1.5.0",
      "model_name": "ButtonModel",
      "state": {
       "description": "Lennard Jones",
       "layout": "IPY_MODEL_3353e23a28294b84a4e96774007be176",
       "style": "IPY_MODEL_d399ea75a39447beb7322893289e2da8"
      }
     },
     "7a8f877aad9e40b3a607a75e3e7adb57": {
      "model_module": "@jupyter-widgets/controls",
      "model_module_version": "1.5.0",
      "model_name": "ButtonStyleModel",
      "state": {}
     },
     "7ab5c4fc78a849ec8f34ac72e298ac05": {
      "model_module": "jupyter-matplotlib",
      "model_module_version": "^0.9.0",
      "model_name": "ToolbarModel",
      "state": {
       "layout": "IPY_MODEL_378b6bda4dee4fbba55b892158ee3d00",
       "toolitems": [
        [
         "Home",
         "Reset original view",
         "home",
         "home"
        ],
        [
         "Back",
         "Back to previous view",
         "arrow-left",
         "back"
        ],
        [
         "Forward",
         "Forward to next view",
         "arrow-right",
         "forward"
        ],
        [
         "Pan",
         "Left button pans, Right button zooms\nx/y fixes axis, CTRL fixes aspect",
         "arrows",
         "pan"
        ],
        [
         "Zoom",
         "Zoom to rectangle\nx/y fixes axis, CTRL fixes aspect",
         "square-o",
         "zoom"
        ],
        [
         "Download",
         "Download plot",
         "floppy-o",
         "save_figure"
        ]
       ]
      }
     },
     "7ace252a77354ab7a43d46ac696f15d4": {
      "model_module": "@jupyter-widgets/base",
      "model_module_version": "1.2.0",
      "model_name": "LayoutModel",
      "state": {
       "grid_template_columns": "repeat(auto-fill, 180px)"
      }
     },
     "7b09381cfe8048da986ccc1c9f57a293": {
      "model_module": "@jupyter-widgets/controls",
      "model_module_version": "1.5.0",
      "model_name": "VBoxModel",
      "state": {
       "_dom_classes": [
        "widget-interact"
       ],
       "children": [
        "IPY_MODEL_b5f3f25b52594597aaaf7624fa2454e0",
        "IPY_MODEL_5f01965910794b08a472656c9f290c08",
        "IPY_MODEL_d9867bb2ea2c4706be95ca85577c4eb5",
        "IPY_MODEL_1d877587b0874f0e8553cd8244564288",
        "IPY_MODEL_1228ba092f7e434cbf03c2da1512ddad",
        "IPY_MODEL_31103c93959e453ea03d3317067da944",
        "IPY_MODEL_8ec461c13ea64767a04b3867c370c332",
        "IPY_MODEL_132f6a8460664ff88219feeaac46b5b4",
        "IPY_MODEL_33285c72ce2041d7b670858cf27de3eb",
        "IPY_MODEL_ac285af85fd442e397081fb6cf1daee0"
       ],
       "layout": "IPY_MODEL_b7e43139d5984294af8d65c0b194d354"
      }
     },
     "7b0f46459a0644d6a0585eb7fd9e80b3": {
      "model_module": "@jupyter-widgets/controls",
      "model_module_version": "1.5.0",
      "model_name": "ButtonModel",
      "state": {
       "description": "Poço Triangular",
       "layout": "IPY_MODEL_ff9cd1ffe6b64c4fb5377f8c0e1c5ee8",
       "style": "IPY_MODEL_bdc2bcf1b79c48aa964564a82f4381ae"
      }
     },
     "7b46d48ed205416e92cda320e1c856b3": {
      "model_module": "@jupyter-widgets/controls",
      "model_module_version": "1.5.0",
      "model_name": "ButtonModel",
      "state": {
       "description": "Duffing Holmes (+)",
       "layout": "IPY_MODEL_8cc5c10ef4784e5ea6b277b818100d02",
       "style": "IPY_MODEL_efc9d79294094c308a85e33cf9803124"
      }
     },
     "7b953878070044fda0e6e9fe742b3023": {
      "model_module": "@jupyter-widgets/controls",
      "model_module_version": "1.5.0",
      "model_name": "DescriptionStyleModel",
      "state": {
       "description_width": ""
      }
     },
     "7bd99c6c0a4e4288b3e09cc2c80ccdda": {
      "model_module": "@jupyter-widgets/base",
      "model_module_version": "1.2.0",
      "model_name": "LayoutModel",
      "state": {
       "display": "flex",
       "width": "90%"
      }
     },
     "7bde754466e3476882eb7633b75c918c": {
      "model_module": "@jupyter-widgets/base",
      "model_module_version": "1.2.0",
      "model_name": "LayoutModel",
      "state": {}
     },
     "7c19b9d501de4e79bef0276314f8db2e": {
      "model_module": "@jupyter-widgets/controls",
      "model_module_version": "1.5.0",
      "model_name": "FloatRangeSliderModel",
      "state": {
       "_model_name": "FloatRangeSliderModel",
       "_view_name": "FloatRangeSliderView",
       "continuous_update": false,
       "description": "Domínio de $\\Psi(x)$: ",
       "layout": "IPY_MODEL_69cf41ff543e47358fa11aec2440c8d7",
       "max": 150,
       "min": -150,
       "readout_format": "1d",
       "style": "IPY_MODEL_e5c15d8057bc42a4bec4695b66a86d43",
       "value": [
        -35,
        35
       ]
      }
     },
     "7c1d90b25c5b4f77bdd0ff6208d99949": {
      "model_module": "@jupyter-widgets/controls",
      "model_module_version": "1.5.0",
      "model_name": "LabelModel",
      "state": {
       "layout": "IPY_MODEL_f1181d1659f94569afb9b9a0f02b5747",
       "style": "IPY_MODEL_c58767304b6e4fae9c03df363c94adc1"
      }
     },
     "7c2d60f379e24d7a8cfb33b41f9a8900": {
      "model_module": "@jupyter-widgets/base",
      "model_module_version": "1.2.0",
      "model_name": "LayoutModel",
      "state": {}
     },
     "7c3090ec5a4946afa7853653fabd6bdd": {
      "model_module": "@jupyter-widgets/controls",
      "model_module_version": "1.5.0",
      "model_name": "VBoxModel",
      "state": {
       "_dom_classes": [
        "widget-interact"
       ],
       "children": [
        "IPY_MODEL_f197a7f745da40c3b638ae4779a26408",
        "IPY_MODEL_4ecb40d614db47e1b0e6c6cd723df0fe",
        "IPY_MODEL_8c2e663fd4cf4de8a65348b7f8328eff",
        "IPY_MODEL_7f507c1e00e546e5a6ebf5db8576ce4a",
        "IPY_MODEL_62359faa885c4b6cae34fefac93b2f4d",
        "IPY_MODEL_c1254e12000348998a4a8e5428627365",
        "IPY_MODEL_d031872719bf4cec8c98ba902cc49eec"
       ],
       "layout": "IPY_MODEL_4ee7e778ef584964ae25465cafb4cc1e"
      }
     },
     "7c334ae1a9f04a489f6a12147ea6ecf4": {
      "model_module": "@jupyter-widgets/controls",
      "model_module_version": "1.5.0",
      "model_name": "SliderStyleModel",
      "state": {
       "description_width": "initial"
      }
     },
     "7c37c3fb11f14785a315a9c937e80bbe": {
      "model_module": "@jupyter-widgets/controls",
      "model_module_version": "1.5.0",
      "model_name": "DescriptionStyleModel",
      "state": {
       "description_width": "initial"
      }
     },
     "7c48d20a064b4e7face712fa44c7b3ed": {
      "model_module": "@jupyter-widgets/base",
      "model_module_version": "1.2.0",
      "model_name": "LayoutModel",
      "state": {
       "grid_template_columns": "repeat(auto-fill, 180px)"
      }
     },
     "7c4e7cfa04da4c56b376a8152a8356d1": {
      "model_module": "@jupyter-widgets/controls",
      "model_module_version": "1.5.0",
      "model_name": "ButtonStyleModel",
      "state": {}
     },
     "7c5413b93834476bb6bab5925416d5e8": {
      "model_module": "@jupyter-widgets/base",
      "model_module_version": "1.2.0",
      "model_name": "LayoutModel",
      "state": {}
     },
     "7c5b4388edb449fea249c7d883c16e0e": {
      "model_module": "@jupyter-widgets/controls",
      "model_module_version": "1.5.0",
      "model_name": "IntSliderModel",
      "state": {
       "description": "Pixels por polegada:",
       "layout": "IPY_MODEL_7bd99c6c0a4e4288b3e09cc2c80ccdda",
       "max": 300,
       "min": 10,
       "style": "IPY_MODEL_6f3966d35b8d4b1583dc6550d6dcf516",
       "value": 80
      }
     },
     "7c77e4a9510d427a88a88bfa7b2ef776": {
      "model_module": "@jupyter-widgets/controls",
      "model_module_version": "1.5.0",
      "model_name": "ButtonModel",
      "state": {
       "description": "Oscilador Harmônico",
       "layout": "IPY_MODEL_69a16ffcbc3c4b38b332821776b0f6c3",
       "style": "IPY_MODEL_e8a34b5ef77b42099f8594c9533f7030"
      }
     },
     "7c7eb1e5b50442d68f971481809b0ccd": {
      "model_module": "@jupyter-widgets/controls",
      "model_module_version": "1.5.0",
      "model_name": "SliderStyleModel",
      "state": {
       "description_width": "initial"
      }
     },
     "7c869b6a593244d79aca681786be7b02": {
      "model_module": "@jupyter-widgets/base",
      "model_module_version": "1.2.0",
      "model_name": "LayoutModel",
      "state": {}
     },
     "7cad466e21f44397ad024c72f25561d6": {
      "model_module": "@jupyter-widgets/output",
      "model_module_version": "1.0.0",
      "model_name": "OutputModel",
      "state": {
       "layout": "IPY_MODEL_d64d78eeccdb4ba9b4af9ac37a4bfc8e",
       "outputs": [
        {
         "data": {
          "application/vnd.jupyter.widget-view+json": {
           "model_id": "30233693ce864a67b7c42b0071c14b3c",
           "version_major": 2,
           "version_minor": 0
          },
          "text/plain": "Canvas(toolbar=Toolbar(toolitems=[('Home', 'Reset original view', 'home', 'home'), ('Back', 'Back to previous …"
         },
         "metadata": {},
         "output_type": "display_data"
        }
       ]
      }
     },
     "7cd8469f113e4fcc89712ef873c402ba": {
      "model_module": "jupyter-matplotlib",
      "model_module_version": "^0.9.0",
      "model_name": "ToolbarModel",
      "state": {
       "layout": "IPY_MODEL_2d96f892ed8a4485ba500a8a3a36f8b6",
       "toolitems": [
        [
         "Home",
         "Reset original view",
         "home",
         "home"
        ],
        [
         "Back",
         "Back to previous view",
         "arrow-left",
         "back"
        ],
        [
         "Forward",
         "Forward to next view",
         "arrow-right",
         "forward"
        ],
        [
         "Pan",
         "Left button pans, Right button zooms\nx/y fixes axis, CTRL fixes aspect",
         "arrows",
         "pan"
        ],
        [
         "Zoom",
         "Zoom to rectangle\nx/y fixes axis, CTRL fixes aspect",
         "square-o",
         "zoom"
        ],
        [
         "Download",
         "Download plot",
         "floppy-o",
         "save_figure"
        ]
       ]
      }
     },
     "7d542c70bc774779b98287d0ad7f1b7d": {
      "model_module": "@jupyter-widgets/controls",
      "model_module_version": "1.5.0",
      "model_name": "DescriptionStyleModel",
      "state": {
       "description_width": ""
      }
     },
     "7d6ff849f94a4fce8d6686c9a1877b74": {
      "model_module": "@jupyter-widgets/base",
      "model_module_version": "1.2.0",
      "model_name": "LayoutModel",
      "state": {}
     },
     "7d90009124c244a6bdb8bab77a7f0e59": {
      "model_module": "@jupyter-widgets/base",
      "model_module_version": "1.2.0",
      "model_name": "LayoutModel",
      "state": {}
     },
     "7dbb1a1edbfc4638a91236abbe365ab7": {
      "model_module": "@jupyter-widgets/controls",
      "model_module_version": "1.5.0",
      "model_name": "SliderStyleModel",
      "state": {
       "description_width": "initial"
      }
     },
     "7dd30cc35d6148ab838096bc478df450": {
      "model_module": "@jupyter-widgets/base",
      "model_module_version": "1.2.0",
      "model_name": "LayoutModel",
      "state": {}
     },
     "7dd69c7134764d9799bb98704c8d1398": {
      "model_module": "@jupyter-widgets/controls",
      "model_module_version": "1.5.0",
      "model_name": "LabelModel",
      "state": {
       "layout": "IPY_MODEL_36173749446d46b68fb251782d74ad46",
       "style": "IPY_MODEL_43a54b581c5147299e75779756de237a",
       "value": "Largura do domínio (angstroms) ="
      }
     },
     "7dea883caad74c41b6f921bf316d5737": {
      "model_module": "@jupyter-widgets/controls",
      "model_module_version": "1.5.0",
      "model_name": "ButtonStyleModel",
      "state": {}
     },
     "7e679969e1a5461d8d148877e2fa124b": {
      "model_module": "@jupyter-widgets/controls",
      "model_module_version": "1.5.0",
      "model_name": "ButtonStyleModel",
      "state": {}
     },
     "7eaaef4707f0461185cfe00f5f60f334": {
      "model_module": "@jupyter-widgets/base",
      "model_module_version": "1.2.0",
      "model_name": "LayoutModel",
      "state": {
       "width": "100%"
      }
     },
     "7eff57dfcbff4c34acf01bda48dabac9": {
      "model_module": "@jupyter-widgets/controls",
      "model_module_version": "1.5.0",
      "model_name": "SliderStyleModel",
      "state": {
       "description_width": "initial"
      }
     },
     "7f0ce2d50f184fd7877c5b7c0632747e": {
      "model_module": "@jupyter-widgets/controls",
      "model_module_version": "1.5.0",
      "model_name": "LabelModel",
      "state": {
       "layout": "IPY_MODEL_9dbb00947e1141c49487b5710c7c8746",
       "style": "IPY_MODEL_a3ab1f8000f445b88791364ebddb024c",
       "value": " 0.13"
      }
     },
     "7f21d342de8c44719b917e76bcfa4749": {
      "model_module": "@jupyter-widgets/base",
      "model_module_version": "1.2.0",
      "model_name": "LayoutModel",
      "state": {}
     },
     "7f2ac820e544469fb1da5fa5cce7c43c": {
      "model_module": "@jupyter-widgets/base",
      "model_module_version": "1.2.0",
      "model_name": "LayoutModel",
      "state": {}
     },
     "7f3bf41fbf1243ef8520ef738dea8413": {
      "model_module": "@jupyter-widgets/controls",
      "model_module_version": "1.5.0",
      "model_name": "DescriptionStyleModel",
      "state": {
       "description_width": ""
      }
     },
     "7f507c1e00e546e5a6ebf5db8576ce4a": {
      "model_module": "@jupyter-widgets/controls",
      "model_module_version": "1.5.0",
      "model_name": "FloatRangeSliderModel",
      "state": {
       "_model_name": "FloatRangeSliderModel",
       "_view_name": "FloatRangeSliderView",
       "description": "Limites do eixo y (eV):",
       "layout": "IPY_MODEL_55187982126640e6be41b35c00b830dc",
       "max": 10,
       "min": -10,
       "readout_format": ".1f",
       "step": 0.005,
       "style": "IPY_MODEL_c1b6c9bdfa8947c58f15ce11c4c398be",
       "value": [
        -2,
        2
       ]
      }
     },
     "7fb42cf40ca1468d9e8efd3d88df8f38": {
      "model_module": "@jupyter-widgets/controls",
      "model_module_version": "1.5.0",
      "model_name": "VBoxModel",
      "state": {
       "children": [
        "IPY_MODEL_0ab644ff73674870a8837bd49cb2e16d",
        "IPY_MODEL_e2e87ef3c1ca4bfa9799aceb01597c73",
        "IPY_MODEL_f82be60cf9f842578b94541da7172d58"
       ],
       "layout": "IPY_MODEL_6ba9609b9262465e9746e7dce29dac08"
      }
     },
     "7ffc9bab2d834fcb88e6ea0ed3ede8c4": {
      "model_module": "@jupyter-widgets/controls",
      "model_module_version": "1.5.0",
      "model_name": "ButtonModel",
      "state": {
       "description": "Pöschl–Teller",
       "layout": "IPY_MODEL_b5a82c37aeb34acd82b1244b086f3219",
       "style": "IPY_MODEL_1e00ef6301c84c92915ffddac5f9a279"
      }
     },
     "8002fbb85ed04fb9be7e16ce2e510646": {
      "model_module": "@jupyter-widgets/controls",
      "model_module_version": "1.5.0",
      "model_name": "LabelModel",
      "state": {
       "layout": "IPY_MODEL_a21d851d12d84dbbafa2221e6f30a188",
       "style": "IPY_MODEL_751d75fcae9647998b41a77fdad998cb",
       "value": "(2e-4)*((x)**2)"
      }
     },
     "80130e7961ca4e429d587ee0612b8062": {
      "model_module": "@jupyter-widgets/controls",
      "model_module_version": "1.5.0",
      "model_name": "AccordionModel",
      "state": {
       "_titles": {
        "0": "Diagonalizar/Informações"
       },
       "children": [
        "IPY_MODEL_aa101f7f1f524dcbbb4689f36f8a450c"
       ],
       "layout": "IPY_MODEL_3757f3d3f9c74f0186f83fd01cae6c19"
      }
     },
     "8048e57463a14c3b80bdb965d2f47f75": {
      "model_module": "@jupyter-widgets/base",
      "model_module_version": "1.2.0",
      "model_name": "LayoutModel",
      "state": {}
     },
     "8054b2618f5d4ddb87f3964dd77323a0": {
      "model_module": "@jupyter-widgets/output",
      "model_module_version": "1.0.0",
      "model_name": "OutputModel",
      "state": {
       "layout": "IPY_MODEL_9a14c8a378c24dcd8d61e2daefa03b8c"
      }
     },
     "8086a713a8a146e68b89115a5970b949": {
      "model_module": "@jupyter-widgets/controls",
      "model_module_version": "1.5.0",
      "model_name": "DescriptionStyleModel",
      "state": {
       "description_width": ""
      }
     },
     "808e04a57fc24a96baaaebe38631cdae": {
      "model_module": "@jupyter-widgets/base",
      "model_module_version": "1.2.0",
      "model_name": "LayoutModel",
      "state": {}
     },
     "80bcdf9a7c37460c989785068409a060": {
      "model_module": "@jupyter-widgets/controls",
      "model_module_version": "1.5.0",
      "model_name": "SliderStyleModel",
      "state": {
       "description_width": "initial"
      }
     },
     "80cf59a0ca6f40a7827c028302eae793": {
      "model_module": "@jupyter-widgets/base",
      "model_module_version": "1.2.0",
      "model_name": "LayoutModel",
      "state": {}
     },
     "80dccaa97f9b4ad1bbd742c6a76c6766": {
      "model_module": "@jupyter-widgets/base",
      "model_module_version": "1.2.0",
      "model_name": "LayoutModel",
      "state": {}
     },
     "80e03f588da4422c86f1882e0ebbf85e": {
      "model_module": "@jupyter-widgets/base",
      "model_module_version": "1.2.0",
      "model_name": "LayoutModel",
      "state": {}
     },
     "80f1086bbd9c49d48e1c7122e5c44cb8": {
      "model_module": "@jupyter-widgets/controls",
      "model_module_version": "1.5.0",
      "model_name": "ButtonModel",
      "state": {
       "description": "Gerar",
       "layout": "IPY_MODEL_17f0623e2af543afb672006995e3624d",
       "style": "IPY_MODEL_4c94f70290a7424982b0565409640aa8"
      }
     },
     "8103da9193f2466a948811186b51f9bb": {
      "model_module": "@jupyter-widgets/base",
      "model_module_version": "1.2.0",
      "model_name": "LayoutModel",
      "state": {}
     },
     "81408e1be5cd4c3989d1a84a4b8f284a": {
      "model_module": "@jupyter-widgets/controls",
      "model_module_version": "1.5.0",
      "model_name": "DescriptionStyleModel",
      "state": {
       "description_width": "initial"
      }
     },
     "8170d8107ace4ea0b495f73672440113": {
      "model_module": "@jupyter-widgets/controls",
      "model_module_version": "1.5.0",
      "model_name": "ButtonModel",
      "state": {
       "description": "Poço Triangular",
       "layout": "IPY_MODEL_1da32bbe3224499d8242d6b2f8512edc",
       "style": "IPY_MODEL_e6973ee4bb3f4f0984d750e59a727ab7"
      }
     },
     "81795e4ad43a4fe8a054619005526b80": {
      "model_module": "@jupyter-widgets/base",
      "model_module_version": "1.2.0",
      "model_name": "LayoutModel",
      "state": {}
     },
     "81cc22116a8b4998a5c53de93d3ed868": {
      "model_module": "@jupyter-widgets/controls",
      "model_module_version": "1.5.0",
      "model_name": "ButtonStyleModel",
      "state": {}
     },
     "81e6800c127341758744622c764655b7": {
      "model_module": "@jupyter-widgets/base",
      "model_module_version": "1.2.0",
      "model_name": "LayoutModel",
      "state": {}
     },
     "82085262d610459d94f5b4b7799ee2a1": {
      "model_module": "@jupyter-widgets/base",
      "model_module_version": "1.2.0",
      "model_name": "LayoutModel",
      "state": {}
     },
     "821de4388ed44c6d8bb29fa0e449d207": {
      "model_module": "@jupyter-widgets/base",
      "model_module_version": "1.2.0",
      "model_name": "LayoutModel",
      "state": {}
     },
     "828ff6b2fe344f4b9ed7be908d1bd797": {
      "model_module": "@jupyter-widgets/controls",
      "model_module_version": "1.5.0",
      "model_name": "LabelModel",
      "state": {
       "layout": "IPY_MODEL_017f5f98b7e04486a85888b4e3dac15c",
       "style": "IPY_MODEL_e23a9c902fef49f0a2b70db765158b70",
       "value": "-4*(np.cosh(0.1*x/ang)**(-2))"
      }
     },
     "82b434f4e434477eae1d2051cbb16e1c": {
      "model_module": "@jupyter-widgets/controls",
      "model_module_version": "1.5.0",
      "model_name": "ButtonStyleModel",
      "state": {}
     },
     "82b51aaa721b43e9bd75f21f10e26de9": {
      "model_module": "@jupyter-widgets/base",
      "model_module_version": "1.2.0",
      "model_name": "LayoutModel",
      "state": {}
     },
     "82c1a2c46c4649808331140830a21f05": {
      "model_module": "@jupyter-widgets/base",
      "model_module_version": "1.2.0",
      "model_name": "LayoutModel",
      "state": {
       "width": "100%"
      }
     },
     "82ccd10b312f4959943d27bec680b22f": {
      "model_module": "@jupyter-widgets/controls",
      "model_module_version": "1.5.0",
      "model_name": "ButtonStyleModel",
      "state": {}
     },
     "83295650217f47448e6c65fb027a4d2b": {
      "model_module": "@jupyter-widgets/controls",
      "model_module_version": "1.5.0",
      "model_name": "ButtonStyleModel",
      "state": {}
     },
     "833206f67ee246f8b4b9c8cf1d19a9d5": {
      "model_module": "@jupyter-widgets/base",
      "model_module_version": "1.2.0",
      "model_name": "LayoutModel",
      "state": {}
     },
     "833c2449dd3142b7be72b7b4a20c805a": {
      "model_module": "@jupyter-widgets/controls",
      "model_module_version": "1.5.0",
      "model_name": "AccordionModel",
      "state": {
       "_titles": {
        "0": "Potenciais pré definidos"
       },
       "children": [
        "IPY_MODEL_876b765475e747c689cae0a794f5e27c"
       ],
       "layout": "IPY_MODEL_be5af0a4fe4a499b997d7762be2deac8"
      }
     },
     "8380dac5f8b640aa9cf7a99c219ada15": {
      "model_module": "@jupyter-widgets/base",
      "model_module_version": "1.2.0",
      "model_name": "LayoutModel",
      "state": {}
     },
     "83f6499abbed4f96b2f8f7cf47c096d8": {
      "model_module": "@jupyter-widgets/base",
      "model_module_version": "1.2.0",
      "model_name": "LayoutModel",
      "state": {}
     },
     "83f8c75dee644d9991bfaaa95a20f062": {
      "model_module": "@jupyter-widgets/controls",
      "model_module_version": "1.5.0",
      "model_name": "VBoxModel",
      "state": {
       "_dom_classes": [
        "widget-interact"
       ],
       "children": [
        "IPY_MODEL_70b89aa6046443449589daf0bd94cf54",
        "IPY_MODEL_2ba2f4d08473435d89bd49154443aefb",
        "IPY_MODEL_0d2c5ade0c494fc98f6bc419362870e7",
        "IPY_MODEL_bbee93e8ca2c4f1784bc7bb38e8a233b",
        "IPY_MODEL_f185a8178ca4426394597f1e9ea2c13e",
        "IPY_MODEL_7a5224439dee46f08e1bd2228b510d72",
        "IPY_MODEL_5c9eb5ae085d48b1a595a6fb83d56db1"
       ],
       "layout": "IPY_MODEL_a87dd4203a664599b4bc6c8e3d5e0625"
      }
     },
     "83fcbe36142f49c89b3f2af0868d2d2e": {
      "model_module": "@jupyter-widgets/base",
      "model_module_version": "1.2.0",
      "model_name": "LayoutModel",
      "state": {}
     },
     "8411769eec884366a352d9420cb57248": {
      "model_module": "@jupyter-widgets/controls",
      "model_module_version": "1.5.0",
      "model_name": "LabelModel",
      "state": {
       "layout": "IPY_MODEL_fdc21232d6ff4ef8ae891bcd76ec20c5",
       "style": "IPY_MODEL_9182e6f7fa4f44fb94186ad30730f714",
       "value": "Número de pontos ="
      }
     },
     "8418f64462ce4ce49db833778eabaa7a": {
      "model_module": "@jupyter-widgets/controls",
      "model_module_version": "1.5.0",
      "model_name": "ButtonModel",
      "state": {
       "description": "Lennard Jones",
       "layout": "IPY_MODEL_015d24d77dd3498d95d4a77bff7fceb5",
       "style": "IPY_MODEL_999e3ac215e54d9aa215a02b10f9ade0"
      }
     },
     "841a1e4d564c415d978ed6bac6f7bb90": {
      "model_module": "@jupyter-widgets/controls",
      "model_module_version": "1.5.0",
      "model_name": "IntSliderModel",
      "state": {
       "description": "Pixels por polegada:",
       "layout": "IPY_MODEL_16010a52e9f5434c96eff916c5d6459a",
       "max": 300,
       "min": 10,
       "style": "IPY_MODEL_5f9c8d35508e4d81a18412f0f1d3fc4d",
       "value": 92
      }
     },
     "844f77399d574037ae3bbdeed2810b33": {
      "model_module": "@jupyter-widgets/controls",
      "model_module_version": "1.5.0",
      "model_name": "ButtonModel",
      "state": {
       "description": "Oscilador Harmônico",
       "layout": "IPY_MODEL_a244060da55e451db352d775dc36bd56",
       "style": "IPY_MODEL_a8ef210448794b3f8fb3387104e28794"
      }
     },
     "8467d4fd8d944e899961bcd9a0ab4d5a": {
      "model_module": "@jupyter-widgets/output",
      "model_module_version": "1.0.0",
      "model_name": "OutputModel",
      "state": {
       "layout": "IPY_MODEL_8690b219713d4ebe9e3a891e2bfa6f04",
       "outputs": [
        {
         "ename": "NameError",
         "evalue": "name 'sx' is not defined",
         "output_type": "error",
         "traceback": [
          "\u001b[0;31m---------------------------------------------------------------------------\u001b[0m",
          "\u001b[0;31mNameError\u001b[0m                                 Traceback (most recent call last)",
          "\u001b[0;32m~/miniconda3/lib/python3.9/site-packages/ipywidgets/widgets/interaction.py\u001b[0m in \u001b[0;36mupdate\u001b[0;34m(self, *args)\u001b[0m\n\u001b[1;32m    254\u001b[0m                     \u001b[0mvalue\u001b[0m \u001b[0;34m=\u001b[0m \u001b[0mwidget\u001b[0m\u001b[0;34m.\u001b[0m\u001b[0mget_interact_value\u001b[0m\u001b[0;34m(\u001b[0m\u001b[0;34m)\u001b[0m\u001b[0;34m\u001b[0m\u001b[0;34m\u001b[0m\u001b[0m\n\u001b[1;32m    255\u001b[0m                     \u001b[0mself\u001b[0m\u001b[0;34m.\u001b[0m\u001b[0mkwargs\u001b[0m\u001b[0;34m[\u001b[0m\u001b[0mwidget\u001b[0m\u001b[0;34m.\u001b[0m\u001b[0m_kwarg\u001b[0m\u001b[0;34m]\u001b[0m \u001b[0;34m=\u001b[0m \u001b[0mvalue\u001b[0m\u001b[0;34m\u001b[0m\u001b[0;34m\u001b[0m\u001b[0m\n\u001b[0;32m--> 256\u001b[0;31m                 \u001b[0mself\u001b[0m\u001b[0;34m.\u001b[0m\u001b[0mresult\u001b[0m \u001b[0;34m=\u001b[0m \u001b[0mself\u001b[0m\u001b[0;34m.\u001b[0m\u001b[0mf\u001b[0m\u001b[0;34m(\u001b[0m\u001b[0;34m**\u001b[0m\u001b[0mself\u001b[0m\u001b[0;34m.\u001b[0m\u001b[0mkwargs\u001b[0m\u001b[0;34m)\u001b[0m\u001b[0;34m\u001b[0m\u001b[0;34m\u001b[0m\u001b[0m\n\u001b[0m\u001b[1;32m    257\u001b[0m                 \u001b[0mshow_inline_matplotlib_plots\u001b[0m\u001b[0;34m(\u001b[0m\u001b[0;34m)\u001b[0m\u001b[0;34m\u001b[0m\u001b[0;34m\u001b[0m\u001b[0m\n\u001b[1;32m    258\u001b[0m                 \u001b[0;32mif\u001b[0m \u001b[0mself\u001b[0m\u001b[0;34m.\u001b[0m\u001b[0mauto_display\u001b[0m \u001b[0;32mand\u001b[0m \u001b[0mself\u001b[0m\u001b[0;34m.\u001b[0m\u001b[0mresult\u001b[0m \u001b[0;32mis\u001b[0m \u001b[0;32mnot\u001b[0m \u001b[0;32mNone\u001b[0m\u001b[0;34m:\u001b[0m\u001b[0;34m\u001b[0m\u001b[0;34m\u001b[0m\u001b[0m\n",
          "\u001b[0;32m<ipython-input-2-ec9fd1239d9f>\u001b[0m in \u001b[0;36mplotall\u001b[0;34m(NES, limx, wav, xs, ys, dpi, limy, autolim)\u001b[0m\n\u001b[1;32m     95\u001b[0m \u001b[0;34m\u001b[0m\u001b[0m\n\u001b[1;32m     96\u001b[0m \u001b[0;32mdef\u001b[0m \u001b[0mplotall\u001b[0m\u001b[0;34m(\u001b[0m\u001b[0mNES\u001b[0m\u001b[0;34m,\u001b[0m\u001b[0mlimx\u001b[0m\u001b[0;34m,\u001b[0m\u001b[0mwav\u001b[0m\u001b[0;34m,\u001b[0m\u001b[0mxs\u001b[0m\u001b[0;34m,\u001b[0m\u001b[0mys\u001b[0m\u001b[0;34m,\u001b[0m\u001b[0mdpi\u001b[0m\u001b[0;34m,\u001b[0m\u001b[0mlimy\u001b[0m\u001b[0;34m,\u001b[0m\u001b[0mautolim\u001b[0m\u001b[0;34m)\u001b[0m\u001b[0;34m:\u001b[0m\u001b[0;34m\u001b[0m\u001b[0;34m\u001b[0m\u001b[0m\n\u001b[0;32m---> 97\u001b[0;31m     \u001b[0mfig\u001b[0m\u001b[0;34m,\u001b[0m \u001b[0max\u001b[0m \u001b[0;34m=\u001b[0m \u001b[0mplt\u001b[0m\u001b[0;34m.\u001b[0m\u001b[0msubplots\u001b[0m\u001b[0;34m(\u001b[0m\u001b[0mfigsize\u001b[0m\u001b[0;34m=\u001b[0m\u001b[0;34m(\u001b[0m\u001b[0msx\u001b[0m\u001b[0;34m,\u001b[0m\u001b[0msy\u001b[0m\u001b[0;34m)\u001b[0m\u001b[0;34m,\u001b[0m\u001b[0mdpi\u001b[0m\u001b[0;34m=\u001b[0m\u001b[0mdpi\u001b[0m\u001b[0;34m)\u001b[0m\u001b[0;34m\u001b[0m\u001b[0;34m\u001b[0m\u001b[0m\n\u001b[0m\u001b[1;32m     98\u001b[0m     \u001b[0mfig\u001b[0m\u001b[0;34m.\u001b[0m\u001b[0mcanvas\u001b[0m\u001b[0;34m.\u001b[0m\u001b[0mlayout\u001b[0m\u001b[0;34m.\u001b[0m\u001b[0mwidth\u001b[0m \u001b[0;34m=\u001b[0m \u001b[0;34m'100%'\u001b[0m\u001b[0;34m\u001b[0m\u001b[0;34m\u001b[0m\u001b[0m\n\u001b[1;32m     99\u001b[0m     \u001b[0mfig\u001b[0m\u001b[0;34m.\u001b[0m\u001b[0mcanvas\u001b[0m\u001b[0;34m.\u001b[0m\u001b[0mlayout\u001b[0m\u001b[0;34m.\u001b[0m\u001b[0mheigth\u001b[0m \u001b[0;34m=\u001b[0m \u001b[0;34m'100%'\u001b[0m\u001b[0;34m\u001b[0m\u001b[0;34m\u001b[0m\u001b[0m\n",
          "\u001b[0;31mNameError\u001b[0m: name 'sx' is not defined"
         ]
        }
       ]
      }
     },
     "8472421bc2304c819fa6a277c0c78a9b": {
      "model_module": "@jupyter-widgets/controls",
      "model_module_version": "1.5.0",
      "model_name": "ButtonStyleModel",
      "state": {}
     },
     "84a112af1a504db0b5936aa611711716": {
      "model_module": "@jupyter-widgets/base",
      "model_module_version": "1.2.0",
      "model_name": "LayoutModel",
      "state": {}
     },
     "84a8312aa8584d4c8ff9e33541cdad91": {
      "model_module": "@jupyter-widgets/controls",
      "model_module_version": "1.5.0",
      "model_name": "VBoxModel",
      "state": {
       "children": [
        "IPY_MODEL_0e701b4787ee447985737f2928b4cd62",
        "IPY_MODEL_84dea782467b49d2998e2dc13f8d4fdc"
       ],
       "layout": "IPY_MODEL_7bde754466e3476882eb7633b75c918c"
      }
     },
     "84dea782467b49d2998e2dc13f8d4fdc": {
      "model_module": "@jupyter-widgets/controls",
      "model_module_version": "1.5.0",
      "model_name": "ButtonModel",
      "state": {
       "description": "Diagonalizado!",
       "disabled": true,
       "layout": "IPY_MODEL_4c90b045bfe543c19617884b225cfd23",
       "style": "IPY_MODEL_3013df82cad74a2284e1ed6d351bc969"
      }
     },
     "84ed263f29354f60a0657eb9b10c0f60": {
      "model_module": "@jupyter-widgets/controls",
      "model_module_version": "1.5.0",
      "model_name": "ButtonStyleModel",
      "state": {}
     },
     "850a0ddc4ef642e0add1a247c96909e5": {
      "model_module": "@jupyter-widgets/base",
      "model_module_version": "1.2.0",
      "model_name": "LayoutModel",
      "state": {}
     },
     "8544eae8bf304a8da56774ea0bace94a": {
      "model_module": "@jupyter-widgets/controls",
      "model_module_version": "1.5.0",
      "model_name": "ButtonModel",
      "state": {
       "description": "Diagonalizado!",
       "disabled": true,
       "layout": "IPY_MODEL_a0c01cf1c5904011a39b0e8d032645e6",
       "style": "IPY_MODEL_c777a989c5bb494e99b09d09ebf7f117"
      }
     },
     "858ccfa67da24569a7f6befa69264c75": {
      "model_module": "@jupyter-widgets/controls",
      "model_module_version": "1.5.0",
      "model_name": "ButtonModel",
      "state": {
       "description": "Run Interact",
       "layout": "IPY_MODEL_f26fa1cdb06d4cf0b269101249a29a12",
       "style": "IPY_MODEL_20a66705a47b457bbbcf3044c92a8601"
      }
     },
     "85901fe384fe4e45b4be98988ee494ba": {
      "model_module": "@jupyter-widgets/base",
      "model_module_version": "1.2.0",
      "model_name": "LayoutModel",
      "state": {}
     },
     "85bf3ec6d1454e2bbe0c7daaa55888ab": {
      "model_module": "@jupyter-widgets/controls",
      "model_module_version": "1.5.0",
      "model_name": "ButtonStyleModel",
      "state": {}
     },
     "85c8827f50a94d2abace5344772c8b3d": {
      "model_module": "@jupyter-widgets/base",
      "model_module_version": "1.2.0",
      "model_name": "LayoutModel",
      "state": {}
     },
     "85c9e4e773444c0b90c65d560bf5af8d": {
      "model_module": "@jupyter-widgets/controls",
      "model_module_version": "1.5.0",
      "model_name": "GridBoxModel",
      "state": {
       "children": [
        "IPY_MODEL_f094124e2a094154bd16f9cdebde5b15",
        "IPY_MODEL_55a18ad939d5455aafd6e1246edaac6c",
        "IPY_MODEL_b0d0ab1a48204eab939eba3a8768fa0d",
        "IPY_MODEL_756badb5a18d44dda9575bea39ba52cb",
        "IPY_MODEL_6ec49365aae34344b12ad15b32b7003f",
        "IPY_MODEL_c501d11a2ea14a33b8ae473ed2d4e5c1",
        "IPY_MODEL_0b1fa5d336fd4ba0ae433502c9c823b7",
        "IPY_MODEL_e5812970dd9b4bfcb2aa9e4ab7c12ff4",
        "IPY_MODEL_4390fff6e9474753ac7835b33017ef95",
        "IPY_MODEL_ca06ea12c15d4aa0b521a66173c0615d"
       ],
       "layout": "IPY_MODEL_c228675cc55642949fc1ccadeb0f7bb5"
      }
     },
     "85f371b275684c909cd980de41433dd2": {
      "model_module": "@jupyter-widgets/controls",
      "model_module_version": "1.5.0",
      "model_name": "LabelModel",
      "state": {
       "layout": "IPY_MODEL_49cdb85dc6fe42d5be85328a17287fc8",
       "style": "IPY_MODEL_eccffce2810140ccb09c99c677c9d7a9",
       "value": "Largura do domínio (angstroms) ="
      }
     },
     "86655dbb01134a4f9aeea7765976cecf": {
      "model_module": "@jupyter-widgets/controls",
      "model_module_version": "1.5.0",
      "model_name": "ButtonStyleModel",
      "state": {}
     },
     "8670eb0ef1244ed3b089498816f0528e": {
      "model_module": "@jupyter-widgets/controls",
      "model_module_version": "1.5.0",
      "model_name": "ButtonStyleModel",
      "state": {}
     },
     "86736a2985934048916e739bab6c4f61": {
      "model_module": "@jupyter-widgets/base",
      "model_module_version": "1.2.0",
      "model_name": "LayoutModel",
      "state": {}
     },
     "8690b219713d4ebe9e3a891e2bfa6f04": {
      "model_module": "@jupyter-widgets/base",
      "model_module_version": "1.2.0",
      "model_name": "LayoutModel",
      "state": {}
     },
     "86ada65db8c945de90d45a9a1509f633": {
      "model_module": "@jupyter-widgets/base",
      "model_module_version": "1.2.0",
      "model_name": "LayoutModel",
      "state": {}
     },
     "86b1974f3f9349ee925ba093c1f1e79a": {
      "model_module": "@jupyter-widgets/controls",
      "model_module_version": "1.5.0",
      "model_name": "DescriptionStyleModel",
      "state": {
       "description_width": ""
      }
     },
     "86b699124ca34d67ba63f67c5db8eb5f": {
      "model_module": "@jupyter-widgets/controls",
      "model_module_version": "1.5.0",
      "model_name": "DescriptionStyleModel",
      "state": {
       "description_width": "initial"
      }
     },
     "86bfda4842ce4006a9ed76368b582e67": {
      "model_module": "@jupyter-widgets/base",
      "model_module_version": "1.2.0",
      "model_name": "LayoutModel",
      "state": {}
     },
     "86e2087e1990442d941f70f40fad2911": {
      "model_module": "@jupyter-widgets/controls",
      "model_module_version": "1.5.0",
      "model_name": "ButtonModel",
      "state": {
       "description": "Duffing Holmes (-)",
       "layout": "IPY_MODEL_8e24657cf47f4780a1ec5a9e60d87fd3",
       "style": "IPY_MODEL_2c992a8322584f068f2deb98173b8e94"
      }
     },
     "86ea22c616a545349b5659f1d2c8e68b": {
      "model_module": "@jupyter-widgets/controls",
      "model_module_version": "1.5.0",
      "model_name": "ButtonModel",
      "state": {
       "description": "Diagonalizar",
       "disabled": true,
       "layout": "IPY_MODEL_af4f1cb0d88c4796aa0c3bf82be40ef3",
       "style": "IPY_MODEL_221b80bd88464d10891080f0ef352b03"
      }
     },
     "872ac340c76e43a183fcb56eb89ed541": {
      "model_module": "@jupyter-widgets/base",
      "model_module_version": "1.2.0",
      "model_name": "LayoutModel",
      "state": {}
     },
     "87594b261b29451c8bbfb9dfd393af71": {
      "model_module": "@jupyter-widgets/base",
      "model_module_version": "1.2.0",
      "model_name": "LayoutModel",
      "state": {}
     },
     "876420e90dfe4bf1b06b2fe6353752f8": {
      "model_module": "@jupyter-widgets/controls",
      "model_module_version": "1.5.0",
      "model_name": "DescriptionStyleModel",
      "state": {
       "description_width": ""
      }
     },
     "876b277629c4425caef0bb560c6b05cc": {
      "model_module": "@jupyter-widgets/controls",
      "model_module_version": "1.5.0",
      "model_name": "AccordionModel",
      "state": {
       "_titles": {
        "0": "Potenciais pré definidos"
       },
       "children": [
        "IPY_MODEL_bbdbcbd8ebfe463bab64a2bb82e7b5db"
       ],
       "layout": "IPY_MODEL_82085262d610459d94f5b4b7799ee2a1"
      }
     },
     "876b765475e747c689cae0a794f5e27c": {
      "model_module": "@jupyter-widgets/controls",
      "model_module_version": "1.5.0",
      "model_name": "GridBoxModel",
      "state": {
       "children": [
        "IPY_MODEL_28d8b8d390304c8fa3df55364327cb43",
        "IPY_MODEL_0cfeb67118804a3da409baaef2ca41b1",
        "IPY_MODEL_91f1cf8e49c644eea5a2ac17c6525d9d",
        "IPY_MODEL_d79b13a710f84af38118a1832b4ebfa6",
        "IPY_MODEL_4c42c3bb44494f0bb9789aa44503d9d8",
        "IPY_MODEL_b60d7cb0e5e542f694a4904510454c1f",
        "IPY_MODEL_5d1db1fba0d54dda8b5916a7e6c33e58",
        "IPY_MODEL_91fd880f8b564fd5889a13b366e65ddc",
        "IPY_MODEL_a7037541bca043bfb1656c6f28ddf134",
        "IPY_MODEL_f75c311606754d1bb11fd0fce73e3b64"
       ],
       "layout": "IPY_MODEL_07935bfc0e554b79bc626d96cada56af"
      }
     },
     "876c01dea454400db5e6a5c6106aebb2": {
      "model_module": "@jupyter-widgets/base",
      "model_module_version": "1.2.0",
      "model_name": "LayoutModel",
      "state": {}
     },
     "8791cd6778654ed2b3a4dcba1926a663": {
      "model_module": "@jupyter-widgets/controls",
      "model_module_version": "1.5.0",
      "model_name": "LabelModel",
      "state": {
       "layout": "IPY_MODEL_7c5413b93834476bb6bab5925416d5e8",
       "style": "IPY_MODEL_acb54c53c6e74d129f67a89f0965238b",
       "value": " 70.00"
      }
     },
     "87bfbe09429948e985b89ba85a42b6d7": {
      "model_module": "@jupyter-widgets/base",
      "model_module_version": "1.2.0",
      "model_name": "LayoutModel",
      "state": {}
     },
     "87d42eb0d5df45159dad20895afe5412": {
      "model_module": "@jupyter-widgets/base",
      "model_module_version": "1.2.0",
      "model_name": "LayoutModel",
      "state": {}
     },
     "8802dfa6d0df4747b23790a6e48d0067": {
      "model_module": "@jupyter-widgets/base",
      "model_module_version": "1.2.0",
      "model_name": "LayoutModel",
      "state": {}
     },
     "882466527ad748ab8673cae8ab4b3e44": {
      "model_module": "@jupyter-widgets/base",
      "model_module_version": "1.2.0",
      "model_name": "LayoutModel",
      "state": {}
     },
     "8849856ce62441eb9985de252c87af99": {
      "model_module": "@jupyter-widgets/controls",
      "model_module_version": "1.5.0",
      "model_name": "TextModel",
      "state": {
       "description": "Expressão de $V(x)$: ",
       "layout": "IPY_MODEL_d838689213c84e6095433f5b4242ef15",
       "placeholder": "Escreva a expressão aqui.",
       "style": "IPY_MODEL_780ae054200c4094a9cbdc253e0c8277",
       "value": "0"
      }
     },
     "8854aa3de43049aa8db24a665a367fec": {
      "model_module": "@jupyter-widgets/controls",
      "model_module_version": "1.5.0",
      "model_name": "DescriptionStyleModel",
      "state": {
       "description_width": ""
      }
     },
     "886fae731a4f40b4a67b7e9d84c99e44": {
      "model_module": "@jupyter-widgets/controls",
      "model_module_version": "1.5.0",
      "model_name": "VBoxModel",
      "state": {
       "children": [
        "IPY_MODEL_5237b131aebd49ef9d594c397c28b145",
        "IPY_MODEL_c21752a2aaca4eaeb38df177ea8f16e6"
       ],
       "layout": "IPY_MODEL_2d541a42f74c451fa0d2846c7aa37175"
      }
     },
     "887d532b56094710acc1fe6463d610c2": {
      "model_module": "@jupyter-widgets/controls",
      "model_module_version": "1.5.0",
      "model_name": "AccordionModel",
      "state": {
       "_titles": {
        "0": "Diagonalizar/Informações"
       },
       "children": [
        "IPY_MODEL_250c84dec4cc4a56920661ef78396f05"
       ],
       "layout": "IPY_MODEL_127333546a0948d0b442082b014c7736"
      }
     },
     "88c08a165ef146859e5477b89ba18496": {
      "model_module": "@jupyter-widgets/controls",
      "model_module_version": "1.5.0",
      "model_name": "SliderStyleModel",
      "state": {
       "description_width": "initial"
      }
     },
     "88c98063f39b421c82998e0467327113": {
      "model_module": "@jupyter-widgets/base",
      "model_module_version": "1.2.0",
      "model_name": "LayoutModel",
      "state": {}
     },
     "88d062cbd8df4909b23a0d06d536b7ea": {
      "model_module": "@jupyter-widgets/controls",
      "model_module_version": "1.5.0",
      "model_name": "SliderStyleModel",
      "state": {
       "description_width": "initial"
      }
     },
     "88e0c861ffa94095b1ddf288cc1b29b9": {
      "model_module": "@jupyter-widgets/base",
      "model_module_version": "1.2.0",
      "model_name": "LayoutModel",
      "state": {}
     },
     "88ec622a08fc47fbbc0412d52448eec8": {
      "model_module": "@jupyter-widgets/controls",
      "model_module_version": "1.5.0",
      "model_name": "SliderStyleModel",
      "state": {
       "description_width": "initial"
      }
     },
     "89832f28890f44ce83a41210667155dd": {
      "model_module": "@jupyter-widgets/controls",
      "model_module_version": "1.5.0",
      "model_name": "VBoxModel",
      "state": {
       "children": [
        "IPY_MODEL_b4657e3a524d4ad8980c16921b9e3142",
        "IPY_MODEL_91e209150ef849238e126e3a45a41068"
       ],
       "layout": "IPY_MODEL_9414c2210e17491d8cba7e7666746659"
      }
     },
     "89e922d951e94c1cbc1276be45a59cad": {
      "model_module": "@jupyter-widgets/controls",
      "model_module_version": "1.5.0",
      "model_name": "DescriptionStyleModel",
      "state": {
       "description_width": ""
      }
     },
     "8a4faec110da48b6983256f086ba44db": {
      "model_module": "@jupyter-widgets/controls",
      "model_module_version": "1.5.0",
      "model_name": "ButtonStyleModel",
      "state": {}
     },
     "8a5d93f41ee44adcb7e4ce291d55481b": {
      "model_module": "@jupyter-widgets/base",
      "model_module_version": "1.2.0",
      "model_name": "LayoutModel",
      "state": {}
     },
     "8a9b594ece0b44dea7c2333d47b9c39d": {
      "model_module": "@jupyter-widgets/base",
      "model_module_version": "1.2.0",
      "model_name": "LayoutModel",
      "state": {}
     },
     "8aadc7c90cb84edb984b2607927c8b31": {
      "model_module": "@jupyter-widgets/output",
      "model_module_version": "1.0.0",
      "model_name": "OutputModel",
      "state": {
       "layout": "IPY_MODEL_38a9a04fc71d4423a7ffdff132ace41d",
       "outputs": [
        {
         "data": {
          "application/vnd.jupyter.widget-view+json": {
           "model_id": "66ad75ef86f344e2b1a3f37dcf852175",
           "version_major": 2,
           "version_minor": 0
          },
          "text/plain": "Canvas(toolbar=Toolbar(toolitems=[('Home', 'Reset original view', 'home', 'home'), ('Back', 'Back to previous …"
         },
         "metadata": {},
         "output_type": "display_data"
        }
       ]
      }
     },
     "8abc06738b514a42be321aca7084b646": {
      "model_module": "@jupyter-widgets/controls",
      "model_module_version": "1.5.0",
      "model_name": "FloatRangeSliderModel",
      "state": {
       "_model_name": "FloatRangeSliderModel",
       "_view_name": "FloatRangeSliderView",
       "description": "Limites do eixo y (eV):",
       "layout": "IPY_MODEL_21455e0c53a34a9bbf221a1873be28b1",
       "max": 10,
       "min": -10,
       "readout_format": ".1f",
       "step": 0.005,
       "style": "IPY_MODEL_0d8e73af3e71455bb6a3b41f9f417b07",
       "value": [
        -2,
        2
       ]
      }
     },
     "8af30aa5092c47e3b80fd8455d08ec57": {
      "model_module": "@jupyter-widgets/controls",
      "model_module_version": "1.5.0",
      "model_name": "SliderStyleModel",
      "state": {
       "description_width": "initial"
      }
     },
     "8b07d5b2c48f44929fa8a6b60433522c": {
      "model_module": "@jupyter-widgets/controls",
      "model_module_version": "1.5.0",
      "model_name": "DescriptionStyleModel",
      "state": {
       "description_width": "initial"
      }
     },
     "8b9893d81a974d779cc7c2a9f3f1e3c0": {
      "model_module": "@jupyter-widgets/controls",
      "model_module_version": "1.5.0",
      "model_name": "LabelModel",
      "state": {
       "layout": "IPY_MODEL_df7efa9675eb4a609cc25f6f33c633ab",
       "style": "IPY_MODEL_46251d7f44ef460e860ea70d991a6647",
       "value": "[V_min,V_max]"
      }
     },
     "8bc79caf56c54d5bae2358fb30322dfe": {
      "model_module": "@jupyter-widgets/base",
      "model_module_version": "1.2.0",
      "model_name": "LayoutModel",
      "state": {}
     },
     "8c285e1f4e0f401eb0a371c5c4fde2b2": {
      "model_module": "@jupyter-widgets/base",
      "model_module_version": "1.2.0",
      "model_name": "LayoutModel",
      "state": {}
     },
     "8c2e663fd4cf4de8a65348b7f8328eff": {
      "model_module": "@jupyter-widgets/controls",
      "model_module_version": "1.5.0",
      "model_name": "DropdownModel",
      "state": {
       "_options_labels": [
        "densidades de probabilidades",
        "funções de onda (parte real, +)",
        "funções de onda (parte imaginária)"
       ],
       "description": "Plotar as",
       "index": 0,
       "layout": "IPY_MODEL_df4c6eacab024e8b96e575a7e028f14e",
       "style": "IPY_MODEL_abc27f16ac044d1db7a01d696b15ce05"
      }
     },
     "8c4cbacd25014cba88c63e9ec56b95e2": {
      "model_module": "@jupyter-widgets/base",
      "model_module_version": "1.2.0",
      "model_name": "LayoutModel",
      "state": {}
     },
     "8c5615fbda844a779c0208a2a2babe9b": {
      "model_module": "@jupyter-widgets/controls",
      "model_module_version": "1.5.0",
      "model_name": "VBoxModel",
      "state": {
       "children": [
        "IPY_MODEL_d8d3e75ade074b29aa34c872a2d5fb85",
        "IPY_MODEL_bed6b00d432a47009004e044b306e627"
       ],
       "layout": "IPY_MODEL_0bd0b30d1db94d188391f5b3a3cedfac"
      }
     },
     "8c5a7f5683f14609a94253792589a0ac": {
      "model_module": "@jupyter-widgets/base",
      "model_module_version": "1.2.0",
      "model_name": "LayoutModel",
      "state": {}
     },
     "8c6da4b14a7c44dfa10b4293d1c60a6e": {
      "model_module": "@jupyter-widgets/base",
      "model_module_version": "1.2.0",
      "model_name": "LayoutModel",
      "state": {}
     },
     "8cb0efac1b8b4c5496232aec06705156": {
      "model_module": "@jupyter-widgets/controls",
      "model_module_version": "1.5.0",
      "model_name": "DescriptionStyleModel",
      "state": {
       "description_width": ""
      }
     },
     "8cba4b3443e94c2283f715b2907cddf4": {
      "model_module": "@jupyter-widgets/base",
      "model_module_version": "1.2.0",
      "model_name": "LayoutModel",
      "state": {}
     },
     "8cc5c10ef4784e5ea6b277b818100d02": {
      "model_module": "@jupyter-widgets/base",
      "model_module_version": "1.2.0",
      "model_name": "LayoutModel",
      "state": {}
     },
     "8cdc6d147a0d4cbe852f681e04bc32ba": {
      "model_module": "@jupyter-widgets/controls",
      "model_module_version": "1.5.0",
      "model_name": "ButtonModel",
      "state": {
       "description": "Duffing Holmes (+)",
       "layout": "IPY_MODEL_24b92b704e6a47289400dd06a6de8b32",
       "style": "IPY_MODEL_987a4a7bdce84758a0bad6d4ec3521cd"
      }
     },
     "8cebe98fba184b698f153a4360745a17": {
      "model_module": "@jupyter-widgets/controls",
      "model_module_version": "1.5.0",
      "model_name": "SliderStyleModel",
      "state": {
       "description_width": "initial"
      }
     },
     "8cf29b4b08c343118fd16bfe892ebb63": {
      "model_module": "@jupyter-widgets/controls",
      "model_module_version": "1.5.0",
      "model_name": "ButtonStyleModel",
      "state": {}
     },
     "8d015922916945fca33f2ed31a8dd507": {
      "model_module": "@jupyter-widgets/base",
      "model_module_version": "1.2.0",
      "model_name": "LayoutModel",
      "state": {}
     },
     "8d2b521177df4211aa2d2a1e56c1c7c2": {
      "model_module": "@jupyter-widgets/base",
      "model_module_version": "1.2.0",
      "model_name": "LayoutModel",
      "state": {}
     },
     "8d32e79e14654f19826a7f32bb7a7b93": {
      "model_module": "@jupyter-widgets/controls",
      "model_module_version": "1.5.0",
      "model_name": "DescriptionStyleModel",
      "state": {
       "description_width": ""
      }
     },
     "8d46497f29f84b1ca7505fe4e57e1adc": {
      "model_module": "@jupyter-widgets/controls",
      "model_module_version": "1.5.0",
      "model_name": "ButtonModel",
      "state": {
       "description": "Campo Uniforme (-)",
       "layout": "IPY_MODEL_bcc2a59b978e480fb01a8af12650dd9e",
       "style": "IPY_MODEL_69f7d8cb27a348ef9cdd590ca7a2b9e3"
      }
     },
     "8d72f73946404c879646d469269ccf62": {
      "model_module": "@jupyter-widgets/controls",
      "model_module_version": "1.5.0",
      "model_name": "GridBoxModel",
      "state": {
       "children": [
        "IPY_MODEL_afac132476434d1d83325a9101317539",
        "IPY_MODEL_09c93ae1bc234226970321849da9b9ec",
        "IPY_MODEL_765e4a29f7954fcbacb166365d60ca0a",
        "IPY_MODEL_e26f102de4a244098f381112d37a7f6b",
        "IPY_MODEL_277cef7386cf421989e5e8f9b865318a",
        "IPY_MODEL_08ccb240de264ed28a94dcda31f24d19",
        "IPY_MODEL_68d07b848d104db4b25326c55648d558",
        "IPY_MODEL_fe7342c85b8141868b9a3c94fa057828",
        "IPY_MODEL_cec0742ae84f4fedb0e1b7b7a906e5c0",
        "IPY_MODEL_782eb612e2094d40ac827c0e67b0b0ae"
       ],
       "layout": "IPY_MODEL_7c48d20a064b4e7face712fa44c7b3ed"
      }
     },
     "8dc8d9af2fd84c5d93938948ee0b3184": {
      "model_module": "@jupyter-widgets/controls",
      "model_module_version": "1.5.0",
      "model_name": "SliderStyleModel",
      "state": {
       "description_width": "initial"
      }
     },
     "8ddfee9bc5b341b7a9588d004a0ccbb9": {
      "model_module": "@jupyter-widgets/controls",
      "model_module_version": "1.5.0",
      "model_name": "GridBoxModel",
      "state": {
       "children": [
        "IPY_MODEL_6d6554a5d5dd470aa780ff8a14b93a9e",
        "IPY_MODEL_b7db0845245646c2b255f5360720f3b8",
        "IPY_MODEL_57e06b16a2e246dcb54a8b60ac198747",
        "IPY_MODEL_08085747926c4f5e8be3eda88b20eb7c",
        "IPY_MODEL_6be2c88730d24585bc2b71c6f4ac43bd",
        "IPY_MODEL_1f856b0ce6ef47b7bb4fc73088587226",
        "IPY_MODEL_b80b17b02c62467baae8dd50c688a47e",
        "IPY_MODEL_c2f4e2a4bfc4425b83f7ccaf6f881105",
        "IPY_MODEL_78a9f5274e114530bd6192c0d8352a40",
        "IPY_MODEL_aae3efe0180a4873bdde1910ff652b3e"
       ],
       "layout": "IPY_MODEL_5539677b8d7f4a1c924d362fb56c2f23"
      }
     },
     "8df79a4ec75144a293c035ea2fcd21e7": {
      "model_module": "@jupyter-widgets/controls",
      "model_module_version": "1.5.0",
      "model_name": "VBoxModel",
      "state": {
       "_dom_classes": [
        "widget-interact"
       ],
       "children": [
        "IPY_MODEL_38bda774b6e449cc8c2f039f3ff5caa2",
        "IPY_MODEL_50017e63ea354e218f1b27a1515da5bf",
        "IPY_MODEL_7777e7a9a3aa4aff990271bc18a6e9f3",
        "IPY_MODEL_e11331a26a8446b1957390e9da734023",
        "IPY_MODEL_9540f70a6c834be896dcf2f9d1569dbc",
        "IPY_MODEL_6268c1a0b64741dc80a4d074b66d682b",
        "IPY_MODEL_f6989e9eedde461f8087650b448a8a49"
       ],
       "layout": "IPY_MODEL_84a112af1a504db0b5936aa611711716"
      }
     },
     "8e153eff4f7a44eca2812cc2f1a91ce7": {
      "model_module": "@jupyter-widgets/controls",
      "model_module_version": "1.5.0",
      "model_name": "ButtonModel",
      "state": {
       "description": "Poço Triangular",
       "layout": "IPY_MODEL_538ad0e8573d4fe1aeef7e728b94d7c9",
       "style": "IPY_MODEL_595a2d0f72ce4cbdb1c283d49697c2ed"
      }
     },
     "8e24657cf47f4780a1ec5a9e60d87fd3": {
      "model_module": "@jupyter-widgets/base",
      "model_module_version": "1.2.0",
      "model_name": "LayoutModel",
      "state": {}
     },
     "8e2e2576da7846f3be669120b5f9597b": {
      "model_module": "@jupyter-widgets/base",
      "model_module_version": "1.2.0",
      "model_name": "LayoutModel",
      "state": {}
     },
     "8e36ec1bffaf42a69663304c3ea3297d": {
      "model_module": "@jupyter-widgets/base",
      "model_module_version": "1.2.0",
      "model_name": "LayoutModel",
      "state": {}
     },
     "8e40adb4989f426b927176463af5da3d": {
      "model_module": "@jupyter-widgets/base",
      "model_module_version": "1.2.0",
      "model_name": "LayoutModel",
      "state": {}
     },
     "8e57fda3bcae46b3a23b889c4f088b17": {
      "model_module": "@jupyter-widgets/controls",
      "model_module_version": "1.5.0",
      "model_name": "ButtonModel",
      "state": {
       "description": "Oscilador Harmônico",
       "layout": "IPY_MODEL_6280b26605054c8d9c3a281189427efc",
       "style": "IPY_MODEL_04631146cb524a9a9efd9116ab8e9826"
      }
     },
     "8e8d3c6cb3cc4dbfa3cb97b88848e32e": {
      "model_module": "@jupyter-widgets/controls",
      "model_module_version": "1.5.0",
      "model_name": "SliderStyleModel",
      "state": {
       "description_width": "initial"
      }
     },
     "8eba260a0779408a919c245b644adb32": {
      "model_module": "@jupyter-widgets/base",
      "model_module_version": "1.2.0",
      "model_name": "LayoutModel",
      "state": {}
     },
     "8ebda1c0acad4e8d941ea5275b4a898f": {
      "model_module": "@jupyter-widgets/controls",
      "model_module_version": "1.5.0",
      "model_name": "DescriptionStyleModel",
      "state": {
       "description_width": ""
      }
     },
     "8ec461c13ea64767a04b3867c370c332": {
      "model_module": "@jupyter-widgets/controls",
      "model_module_version": "1.5.0",
      "model_name": "FloatRangeSliderModel",
      "state": {
       "_model_name": "FloatRangeSliderModel",
       "_view_name": "FloatRangeSliderView",
       "description": "Limites do eixo y (eV):",
       "layout": "IPY_MODEL_5236d5a105df4481ab46f86aee6cf699",
       "max": 10,
       "min": -10,
       "readout_format": ".1f",
       "step": 0.005,
       "style": "IPY_MODEL_c199545c677b4176ae30decb488108a6",
       "value": [
        -2,
        2
       ]
      }
     },
     "8ed0ea180f3345b5a7aaefc815da140b": {
      "model_module": "@jupyter-widgets/controls",
      "model_module_version": "1.5.0",
      "model_name": "TextModel",
      "state": {
       "description": "Expressão de $V(x)$: ",
       "layout": "IPY_MODEL_cde0ed4fcf3049abaf0c54e8affe788f",
       "placeholder": "Escreva a expressão aqui.",
       "style": "IPY_MODEL_01812523f72440a7ae7ec68570d02e7b",
       "value": "-4*(np.cosh(0.1*x/ang)**(-2))"
      }
     },
     "8ed90567c3ee440eb3fc482dd950faac": {
      "model_module": "@jupyter-widgets/controls",
      "model_module_version": "1.5.0",
      "model_name": "ButtonModel",
      "state": {
       "description": "Gerar",
       "layout": "IPY_MODEL_0fac1d786ecb4899bb765ee85f27d157",
       "style": "IPY_MODEL_d723ba5784a745b5beeaf622c49edabd"
      }
     },
     "8ef32f3b76db40d6841e8b394cdf91f2": {
      "model_module": "@jupyter-widgets/base",
      "model_module_version": "1.2.0",
      "model_name": "LayoutModel",
      "state": {}
     },
     "8f050f83df674123be90ebdee80987f2": {
      "model_module": "@jupyter-widgets/controls",
      "model_module_version": "1.5.0",
      "model_name": "DescriptionStyleModel",
      "state": {
       "description_width": ""
      }
     },
     "8f11d1a6d6ac4567967429fde1edeaca": {
      "model_module": "@jupyter-widgets/base",
      "model_module_version": "1.2.0",
      "model_name": "LayoutModel",
      "state": {
       "grid_template_columns": "repeat(2, 250px)"
      }
     },
     "8f4be31c737a4c55a4701306b918f355": {
      "model_module": "@jupyter-widgets/controls",
      "model_module_version": "1.5.0",
      "model_name": "ButtonStyleModel",
      "state": {}
     },
     "8fa7513fef1243df9e1a2c5ceb1c1391": {
      "model_module": "@jupyter-widgets/controls",
      "model_module_version": "1.5.0",
      "model_name": "ButtonModel",
      "state": {
       "description": "Plotar",
       "layout": "IPY_MODEL_d8c679d726be40e795ab48cd67097e61",
       "style": "IPY_MODEL_f45d44b0173d4852ba52076e2a2511d7"
      }
     },
     "8fa7590295b04443a5f291fe73bca40e": {
      "model_module": "@jupyter-widgets/controls",
      "model_module_version": "1.5.0",
      "model_name": "DescriptionStyleModel",
      "state": {
       "description_width": ""
      }
     },
     "8fd4a8d8c2e14922a3d724b9e5c2e5aa": {
      "model_module": "@jupyter-widgets/base",
      "model_module_version": "1.2.0",
      "model_name": "LayoutModel",
      "state": {}
     },
     "9005728322094b13a494bc74de339276": {
      "model_module": "@jupyter-widgets/controls",
      "model_module_version": "1.5.0",
      "model_name": "IntSliderModel",
      "state": {
       "description": "Largura da imagem (polegadas):",
       "layout": "IPY_MODEL_bc2be9e3ba6a47ebb89b6e0933f66239",
       "max": 20,
       "style": "IPY_MODEL_d88901508d4b40c18b3dfc98e96c57a1",
       "value": 16
      }
     },
     "9027b0fde4754fc798eb208351d04c28": {
      "model_module": "@jupyter-widgets/controls",
      "model_module_version": "1.5.0",
      "model_name": "DescriptionStyleModel",
      "state": {
       "description_width": ""
      }
     },
     "9032c4cbbe6f4862a3c0fc0b16d44acd": {
      "model_module": "@jupyter-widgets/output",
      "model_module_version": "1.0.0",
      "model_name": "OutputModel",
      "state": {
       "layout": "IPY_MODEL_83f6499abbed4f96b2f8f7cf47c096d8",
       "outputs": [
        {
         "data": {
          "application/vnd.jupyter.widget-view+json": {
           "model_id": "ceb05de083cc4ec3952bde5936619325",
           "version_major": 2,
           "version_minor": 0
          },
          "text/plain": "Canvas(toolbar=Toolbar(toolitems=[('Home', 'Reset original view', 'home', 'home'), ('Back', 'Back to previous …"
         },
         "metadata": {},
         "output_type": "display_data"
        }
       ]
      }
     },
     "904c82ed89da4f47a4f894fc1b6c9c8c": {
      "model_module": "@jupyter-widgets/controls",
      "model_module_version": "1.5.0",
      "model_name": "LabelModel",
      "state": {
       "layout": "IPY_MODEL_6b039737a5ce4afd9f2779affdeb579c",
       "style": "IPY_MODEL_205788f0fa3f4ca99621c0e7f6df15a1",
       "value": "V(x)[min,max] (eV) ="
      }
     },
     "908ce467f7d144649bfcfad3e6424665": {
      "model_module": "@jupyter-widgets/controls",
      "model_module_version": "1.5.0",
      "model_name": "DescriptionStyleModel",
      "state": {
       "description_width": ""
      }
     },
     "9091528c845f46ac93d07148b8b5a316": {
      "model_module": "@jupyter-widgets/controls",
      "model_module_version": "1.5.0",
      "model_name": "GridBoxModel",
      "state": {
       "children": [
        "IPY_MODEL_bb589477ed7c45e78ca4524a65618a9e",
        "IPY_MODEL_8170d8107ace4ea0b495f73672440113",
        "IPY_MODEL_5f0b3ae83e724fd0a4fed98e6b746b8b",
        "IPY_MODEL_05a76d9fb7484dd686d67ba96b6e4c74",
        "IPY_MODEL_c848757ebfdd4e918380314dce6a12fe",
        "IPY_MODEL_754fe251d9b34a329d2980de567b6b0c",
        "IPY_MODEL_61a8099bb31f4f4f911b2b77372524ef",
        "IPY_MODEL_c429403e61ce4855986147cd06d34110",
        "IPY_MODEL_f789892d96d94ab79190730f1861b303",
        "IPY_MODEL_dce59ee2411449e58673fce81a84802b"
       ],
       "layout": "IPY_MODEL_f144972fcd2c416696c90ba96f595aec"
      }
     },
     "90bffcb19ed74858beaaef5a1b782b56": {
      "model_module": "@jupyter-widgets/controls",
      "model_module_version": "1.5.0",
      "model_name": "ButtonModel",
      "state": {
       "description": "Pöschl–Teller",
       "layout": "IPY_MODEL_872ac340c76e43a183fcb56eb89ed541",
       "style": "IPY_MODEL_e96f9581d02e4c4c98840f6319a820c0"
      }
     },
     "910ff587769742849e7ac69e3e5091ba": {
      "model_module": "@jupyter-widgets/controls",
      "model_module_version": "1.5.0",
      "model_name": "DescriptionStyleModel",
      "state": {
       "description_width": ""
      }
     },
     "914fdd9ac1524d989d50762d944e7b4d": {
      "model_module": "@jupyter-widgets/base",
      "model_module_version": "1.2.0",
      "model_name": "LayoutModel",
      "state": {}
     },
     "915141ff8175425ca036372b30fcebca": {
      "model_module": "@jupyter-widgets/controls",
      "model_module_version": "1.5.0",
      "model_name": "LabelModel",
      "state": {
       "layout": "IPY_MODEL_e9b997f60c3e4efbbdc76ad881b47443",
       "style": "IPY_MODEL_307bf2d996fd45b5ba351378b8ad2e30",
       "value": "Passo $\\Delta x $ (angstroms) ="
      }
     },
     "9156a0fa68ee48a9811f8b1fc398f869": {
      "model_module": "@jupyter-widgets/base",
      "model_module_version": "1.2.0",
      "model_name": "LayoutModel",
      "state": {
       "width": "100%"
      }
     },
     "9169969e1ca54dac89db4d5045e94663": {
      "model_module": "@jupyter-widgets/controls",
      "model_module_version": "1.5.0",
      "model_name": "AccordionModel",
      "state": {
       "_titles": {
        "0": "Potenciais pré definidos"
       },
       "children": [
        "IPY_MODEL_611288e16e654a4a83a97627bd90de8d"
       ],
       "layout": "IPY_MODEL_0723f97034584809a7144562430d1719"
      }
     },
     "9182e6f7fa4f44fb94186ad30730f714": {
      "model_module": "@jupyter-widgets/controls",
      "model_module_version": "1.5.0",
      "model_name": "DescriptionStyleModel",
      "state": {
       "description_width": ""
      }
     },
     "91a53d241fe241cf85eafae3cd6cba63": {
      "model_module": "@jupyter-widgets/controls",
      "model_module_version": "1.5.0",
      "model_name": "DropdownModel",
      "state": {
       "_options_labels": [
        "densidades de probabilidades",
        "funções de onda (parte real, +)",
        "funções de onda (parte imaginária)"
       ],
       "description": "Plotar as",
       "index": 0,
       "layout": "IPY_MODEL_445b3fa3b5284781acd0a87e30687691",
       "style": "IPY_MODEL_86b699124ca34d67ba63f67c5db8eb5f"
      }
     },
     "91e209150ef849238e126e3a45a41068": {
      "model_module": "@jupyter-widgets/controls",
      "model_module_version": "1.5.0",
      "model_name": "ButtonModel",
      "state": {
       "description": "Diagonalizar",
       "disabled": true,
       "layout": "IPY_MODEL_914fdd9ac1524d989d50762d944e7b4d",
       "style": "IPY_MODEL_2aba8f33897249a685c3335b08176d7e"
      }
     },
     "91e9b20beeed4d40a797a791e38f7edf": {
      "model_module": "@jupyter-widgets/base",
      "model_module_version": "1.2.0",
      "model_name": "LayoutModel",
      "state": {}
     },
     "91f1cf8e49c644eea5a2ac17c6525d9d": {
      "model_module": "@jupyter-widgets/controls",
      "model_module_version": "1.5.0",
      "model_name": "ButtonModel",
      "state": {
       "description": "Campo Uniforme (+)",
       "layout": "IPY_MODEL_2d49e47d98684ca5b657b3a1b8040f14",
       "style": "IPY_MODEL_4bb95fa628714a9793103074aa015239"
      }
     },
     "91fb8a24e39d4b6891a371ca5f33ef65": {
      "model_module": "@jupyter-widgets/base",
      "model_module_version": "1.2.0",
      "model_name": "LayoutModel",
      "state": {}
     },
     "91fd880f8b564fd5889a13b366e65ddc": {
      "model_module": "@jupyter-widgets/controls",
      "model_module_version": "1.5.0",
      "model_name": "ButtonModel",
      "state": {
       "description": "Lennard Jones",
       "layout": "IPY_MODEL_876c01dea454400db5e6a5c6106aebb2",
       "style": "IPY_MODEL_4b5b56b34ef240609427cfed80a1099c"
      }
     },
     "921420be6f37494f864343d5d5579336": {
      "model_module": "@jupyter-widgets/controls",
      "model_module_version": "1.5.0",
      "model_name": "ButtonModel",
      "state": {
       "description": "Campo Uniforme (-)",
       "layout": "IPY_MODEL_d623b249246247bcb440850f4401b88c",
       "style": "IPY_MODEL_391a15e3c0304f07b4b315b3a3b92d28"
      }
     },
     "922979d4d3df4110a73170c7dbea8d9c": {
      "model_module": "@jupyter-widgets/controls",
      "model_module_version": "1.5.0",
      "model_name": "DescriptionStyleModel",
      "state": {
       "description_width": ""
      }
     },
     "92366d5060b8465f80defe1691760875": {
      "model_module": "@jupyter-widgets/controls",
      "model_module_version": "1.5.0",
      "model_name": "ButtonModel",
      "state": {
       "description": "Poço Triangular",
       "layout": "IPY_MODEL_a1285d72d7e749c29e632319d97863ae",
       "style": "IPY_MODEL_eb5ba979e70c43a49c42029a982b9ebe"
      }
     },
     "924822d20b0844f69d625be1eeeef1eb": {
      "model_module": "@jupyter-widgets/base",
      "model_module_version": "1.2.0",
      "model_name": "LayoutModel",
      "state": {
       "grid_template_columns": "repeat(2, 250px)"
      }
     },
     "925b2205340e4c049a59d5d67fb23c5c": {
      "model_module": "jupyter-matplotlib",
      "model_module_version": "^0.9.0",
      "model_name": "ToolbarModel",
      "state": {
       "layout": "IPY_MODEL_d5350706a354478296ba3396f258c4c6",
       "toolitems": [
        [
         "Home",
         "Reset original view",
         "home",
         "home"
        ],
        [
         "Back",
         "Back to previous view",
         "arrow-left",
         "back"
        ],
        [
         "Forward",
         "Forward to next view",
         "arrow-right",
         "forward"
        ],
        [
         "Pan",
         "Left button pans, Right button zooms\nx/y fixes axis, CTRL fixes aspect",
         "arrows",
         "pan"
        ],
        [
         "Zoom",
         "Zoom to rectangle\nx/y fixes axis, CTRL fixes aspect",
         "square-o",
         "zoom"
        ],
        [
         "Download",
         "Download plot",
         "floppy-o",
         "save_figure"
        ]
       ]
      }
     },
     "927692adc68a4d2996bb95f4ef19e3f2": {
      "model_module": "@jupyter-widgets/base",
      "model_module_version": "1.2.0",
      "model_name": "LayoutModel",
      "state": {
       "grid_template_columns": "repeat(2, 250px)"
      }
     },
     "9281c58ba63d492eaaa5b0fe041f3b06": {
      "model_module": "@jupyter-widgets/base",
      "model_module_version": "1.2.0",
      "model_name": "LayoutModel",
      "state": {
       "width": "100%"
      }
     },
     "9297e20ec48542e48afd568a6328d4c7": {
      "model_module": "@jupyter-widgets/base",
      "model_module_version": "1.2.0",
      "model_name": "LayoutModel",
      "state": {
       "grid_template_columns": "repeat(2, 250px)"
      }
     },
     "92d3ddca6b464ec8990f5a353346d991": {
      "model_module": "@jupyter-widgets/controls",
      "model_module_version": "1.5.0",
      "model_name": "ButtonModel",
      "state": {
       "description": "Lennard Jones",
       "layout": "IPY_MODEL_ea574d72201b4bebbd80e0829dfaf1eb",
       "style": "IPY_MODEL_0250625a6506423fb5e5cc645b555af0"
      }
     },
     "92fbb75ed1ad49c499230f513c6c2be7": {
      "model_module": "@jupyter-widgets/base",
      "model_module_version": "1.2.0",
      "model_name": "LayoutModel",
      "state": {}
     },
     "92fd0934cea749baac7ad6abcfd19a5b": {
      "model_module": "@jupyter-widgets/base",
      "model_module_version": "1.2.0",
      "model_name": "LayoutModel",
      "state": {}
     },
     "9309264482604ec7843e8d2f9a79b8a1": {
      "model_module": "@jupyter-widgets/base",
      "model_module_version": "1.2.0",
      "model_name": "LayoutModel",
      "state": {}
     },
     "931105b95e6e430e9be01b2a1d092586": {
      "model_module": "@jupyter-widgets/controls",
      "model_module_version": "1.5.0",
      "model_name": "LabelModel",
      "state": {
       "layout": "IPY_MODEL_c26a37a6c0c04044b99a3e7ec1137f62",
       "style": "IPY_MODEL_75e1f5c67f9d4db394d7e65d5027d644",
       "value": "Passo $\\Delta x $ (angstroms) ="
      }
     },
     "933ab9c8363d407fa73b602a8e5fb948": {
      "model_module": "@jupyter-widgets/controls",
      "model_module_version": "1.5.0",
      "model_name": "TabModel",
      "state": {
       "_titles": {
        "0": "Gerar o Sistema",
        "1": "Funções de Onda"
       },
       "children": [
        "IPY_MODEL_df3a46a6f23d4a7eb2af948c08f4fe35",
        "IPY_MODEL_83f8c75dee644d9991bfaaa95a20f062"
       ],
       "layout": "IPY_MODEL_14d173b9be3449849abfcd56aeddc34c",
       "selected_index": 1
      }
     },
     "936991cfdc704d2fa9231d5709d2b8a0": {
      "model_module": "@jupyter-widgets/controls",
      "model_module_version": "1.5.0",
      "model_name": "ButtonModel",
      "state": {
       "description": "Gerar",
       "layout": "IPY_MODEL_6ad316da86124918907b92f5f257488f",
       "style": "IPY_MODEL_34c0c81de5fd45a8877ecb1714d6ec55"
      }
     },
     "937cbe89f5e948b29a61bef36478f1fe": {
      "model_module": "@jupyter-widgets/base",
      "model_module_version": "1.2.0",
      "model_name": "LayoutModel",
      "state": {}
     },
     "939f13fe6224473b8e1d20e9ed6cc9b8": {
      "model_module": "@jupyter-widgets/controls",
      "model_module_version": "1.5.0",
      "model_name": "FloatRangeSliderModel",
      "state": {
       "_model_name": "FloatRangeSliderModel",
       "_view_name": "FloatRangeSliderView",
       "continuous_update": false,
       "description": "Domínio de $\\Psi(x)$: ",
       "layout": "IPY_MODEL_7bd99c6c0a4e4288b3e09cc2c80ccdda",
       "max": 150,
       "min": -150,
       "readout_format": "1d",
       "style": "IPY_MODEL_aa4d5a7db28d443a9ea24ec10dbdf83f",
       "value": [
        -35,
        35
       ]
      }
     },
     "93a2d4bcfbdc4a4fb2c2fee14d1ab9e8": {
      "model_module": "@jupyter-widgets/base",
      "model_module_version": "1.2.0",
      "model_name": "LayoutModel",
      "state": {}
     },
     "93c630a350244dce927864846d4f4050": {
      "model_module": "@jupyter-widgets/base",
      "model_module_version": "1.2.0",
      "model_name": "LayoutModel",
      "state": {}
     },
     "93e66a6c8a154dfeb3e5840078cebe26": {
      "model_module": "@jupyter-widgets/base",
      "model_module_version": "1.2.0",
      "model_name": "LayoutModel",
      "state": {
       "width": "100%"
      }
     },
     "93ed4aec83cd4730945450f231c92d87": {
      "model_module": "@jupyter-widgets/controls",
      "model_module_version": "1.5.0",
      "model_name": "ButtonModel",
      "state": {
       "description": "Campo Uniforme (+)",
       "layout": "IPY_MODEL_5df1d2bbbd1146209e6146c8105e7e6c",
       "style": "IPY_MODEL_4ea5ff7589c54606b88b9b701e9ad1fb"
      }
     },
     "9400a8deae354a63afd8f6ffb236f70b": {
      "model_module": "@jupyter-widgets/base",
      "model_module_version": "1.2.0",
      "model_name": "LayoutModel",
      "state": {}
     },
     "9404e50e23264a548555079dedb0226c": {
      "model_module": "@jupyter-widgets/controls",
      "model_module_version": "1.5.0",
      "model_name": "FloatRangeSliderModel",
      "state": {
       "_model_name": "FloatRangeSliderModel",
       "_view_name": "FloatRangeSliderView",
       "description": "Limites do eixo y (eV):",
       "layout": "IPY_MODEL_d838689213c84e6095433f5b4242ef15",
       "max": 10,
       "min": -10,
       "readout_format": ".1f",
       "step": 0.005,
       "style": "IPY_MODEL_415ed56cd12e4e58b13de8deb3b5210c",
       "value": [
        -2,
        2
       ]
      }
     },
     "9414c2210e17491d8cba7e7666746659": {
      "model_module": "@jupyter-widgets/base",
      "model_module_version": "1.2.0",
      "model_name": "LayoutModel",
      "state": {}
     },
     "941cfc0af7f34653a3d639fc59bc1e84": {
      "model_module": "@jupyter-widgets/base",
      "model_module_version": "1.2.0",
      "model_name": "LayoutModel",
      "state": {}
     },
     "942759fdaaba48529337fec7d5d88c6f": {
      "model_module": "@jupyter-widgets/controls",
      "model_module_version": "1.5.0",
      "model_name": "ButtonModel",
      "state": {
       "description": "Gerar",
       "layout": "IPY_MODEL_8e36ec1bffaf42a69663304c3ea3297d",
       "style": "IPY_MODEL_341c925363304b01ad55d24ac7c356ca"
      }
     },
     "948096db23304cd48d085621735aaff5": {
      "model_module": "@jupyter-widgets/controls",
      "model_module_version": "1.5.0",
      "model_name": "IntSliderModel",
      "state": {
       "description": "Pixels por polegada:",
       "layout": "IPY_MODEL_27b89221c50646e7ad6fa7dd3ba9ef03",
       "max": 300,
       "min": 10,
       "style": "IPY_MODEL_b0d1a0935f3241c886fb706aa8875b19",
       "value": 80
      }
     },
     "94d569969508430a89e27201b7471290": {
      "model_module": "@jupyter-widgets/controls",
      "model_module_version": "1.5.0",
      "model_name": "DropdownModel",
      "state": {
       "_options_labels": [
        "densidades de probabilidades",
        "funções de onda (parte real, +)",
        "funções de onda (parte imaginária)"
       ],
       "description": "Plotar as",
       "index": 0,
       "layout": "IPY_MODEL_1201df25c3cd4a85a2d547ad36abbc19",
       "style": "IPY_MODEL_2daba682df1f427a9012024fb96240ce"
      }
     },
     "952a23ab3c6542f18b5a68a2887cbf0c": {
      "model_module": "@jupyter-widgets/output",
      "model_module_version": "1.0.0",
      "model_name": "OutputModel",
      "state": {
       "layout": "IPY_MODEL_87bfbe09429948e985b89ba85a42b6d7"
      }
     },
     "952fb33bfa404c0387461c8bb34cd6fe": {
      "model_module": "@jupyter-widgets/controls",
      "model_module_version": "1.5.0",
      "model_name": "ButtonModel",
      "state": {
       "description": "Pöschl–Teller",
       "layout": "IPY_MODEL_8d015922916945fca33f2ed31a8dd507",
       "style": "IPY_MODEL_cadd30391cd94c95934dd3fcdb3580cf"
      }
     },
     "9540f70a6c834be896dcf2f9d1569dbc": {
      "model_module": "@jupyter-widgets/controls",
      "model_module_version": "1.5.0",
      "model_name": "CheckboxModel",
      "state": {
       "description": "Auto limitar eixo y",
       "disabled": false,
       "layout": "IPY_MODEL_352e4998b3c24cb1a92b7e1a76842aa9",
       "style": "IPY_MODEL_6a864e484755400683cb4553f99be6af",
       "value": true
      }
     },
     "9559e9d6aeb747558ee1c936eed2a46a": {
      "model_module": "@jupyter-widgets/base",
      "model_module_version": "1.2.0",
      "model_name": "LayoutModel",
      "state": {}
     },
     "9580c2d2fc2a42eb879b518a71cf2657": {
      "model_module": "@jupyter-widgets/base",
      "model_module_version": "1.2.0",
      "model_name": "LayoutModel",
      "state": {}
     },
     "95d420acf6af4507885c0d33e4011b53": {
      "model_module": "@jupyter-widgets/controls",
      "model_module_version": "1.5.0",
      "model_name": "LabelModel",
      "state": {
       "layout": "IPY_MODEL_eb319c28ac8345389ebdac01dca0a050",
       "style": "IPY_MODEL_8d32e79e14654f19826a7f32bb7a7b93",
       "value": " 550"
      }
     },
     "95d7fd261ad647f2a4011375478ba955": {
      "model_module": "@jupyter-widgets/base",
      "model_module_version": "1.2.0",
      "model_name": "LayoutModel",
      "state": {}
     },
     "9631459b047c40e1b0d20d5a748e780c": {
      "model_module": "@jupyter-widgets/controls",
      "model_module_version": "1.5.0",
      "model_name": "DescriptionStyleModel",
      "state": {
       "description_width": ""
      }
     },
     "9738e18ccd2a40a99570ac6369c7a194": {
      "model_module": "@jupyter-widgets/base",
      "model_module_version": "1.2.0",
      "model_name": "LayoutModel",
      "state": {}
     },
     "975dc2f00efc40b1955d5e78e1adcf7f": {
      "model_module": "@jupyter-widgets/controls",
      "model_module_version": "1.5.0",
      "model_name": "IntSliderModel",
      "state": {
       "continuous_update": false,
       "description": "Margens horizontais  (angstroms):   ",
       "layout": "IPY_MODEL_27b89221c50646e7ad6fa7dd3ba9ef03",
       "style": "IPY_MODEL_9d464e972a4542ddb34e7f67d49d1153",
       "value": 20
      }
     },
     "977454a871b0489aa3c7bf9612a044a3": {
      "model_module": "@jupyter-widgets/base",
      "model_module_version": "1.2.0",
      "model_name": "LayoutModel",
      "state": {}
     },
     "977a09a416264d2393aa44cae647d134": {
      "model_module": "@jupyter-widgets/controls",
      "model_module_version": "1.5.0",
      "model_name": "DescriptionStyleModel",
      "state": {
       "description_width": ""
      }
     },
     "97a007f8fe3b415ab035d9d4b18713fd": {
      "model_module": "@jupyter-widgets/controls",
      "model_module_version": "1.5.0",
      "model_name": "ButtonModel",
      "state": {
       "description": "Campo Uniforme (+)",
       "layout": "IPY_MODEL_9309264482604ec7843e8d2f9a79b8a1",
       "style": "IPY_MODEL_01f062b561fd405bbd1fd17ec048049b"
      }
     },
     "97a101a3ba7a4d7c8cfb09ddae038f15": {
      "model_module": "@jupyter-widgets/controls",
      "model_module_version": "1.5.0",
      "model_name": "DescriptionStyleModel",
      "state": {
       "description_width": ""
      }
     },
     "97ccb2a9c9374e7696fa20e8be04b886": {
      "model_module": "@jupyter-widgets/controls",
      "model_module_version": "1.5.0",
      "model_name": "LabelModel",
      "state": {
       "layout": "IPY_MODEL_21c8704b8cfc4dca9d50838d0a42a2ed",
       "style": "IPY_MODEL_a752d52382fd45208357ca7095983510",
       "value": "3.5*(np.exp(-2*(0.1*(x/ang) + 2.75)) - 2*np.exp(-(0.1*(x/ang) + 2.75)))"
      }
     },
     "981aa3bea8104576a811b3637510f174": {
      "model_module": "@jupyter-widgets/controls",
      "model_module_version": "1.5.0",
      "model_name": "ButtonModel",
      "state": {
       "description": "Gerar",
       "layout": "IPY_MODEL_ed447ad6b27a4118bb1884888ec621a8",
       "style": "IPY_MODEL_21a0d712fc9944e181db9eba4135a3a6"
      }
     },
     "981ac07e247b486c8f52b86a30851361": {
      "model_module": "@jupyter-widgets/controls",
      "model_module_version": "1.5.0",
      "model_name": "ButtonStyleModel",
      "state": {}
     },
     "98279f8b7562451e864c80f1853ba963": {
      "model_module": "@jupyter-widgets/base",
      "model_module_version": "1.2.0",
      "model_name": "LayoutModel",
      "state": {}
     },
     "983cff9f149a4e6fb5e6551b974d18bb": {
      "model_module": "@jupyter-widgets/controls",
      "model_module_version": "1.5.0",
      "model_name": "IntSliderModel",
      "state": {
       "description": "Pixels por polegada:",
       "layout": "IPY_MODEL_bc2be9e3ba6a47ebb89b6e0933f66239",
       "max": 300,
       "min": 10,
       "style": "IPY_MODEL_5147eca76bc04f03a4b8142fc46a84f2",
       "value": 80
      }
     },
     "983f11bbeace480a8809f54b67367a0e": {
      "model_module": "@jupyter-widgets/controls",
      "model_module_version": "1.5.0",
      "model_name": "DescriptionStyleModel",
      "state": {
       "description_width": ""
      }
     },
     "987a4a7bdce84758a0bad6d4ec3521cd": {
      "model_module": "@jupyter-widgets/controls",
      "model_module_version": "1.5.0",
      "model_name": "ButtonStyleModel",
      "state": {}
     },
     "9890023c6f354ebca8aff0ace5a601c9": {
      "model_module": "@jupyter-widgets/controls",
      "model_module_version": "1.5.0",
      "model_name": "DescriptionStyleModel",
      "state": {
       "description_width": ""
      }
     },
     "98bffd4c68694db09a4a59624eed13d6": {
      "model_module": "@jupyter-widgets/controls",
      "model_module_version": "1.5.0",
      "model_name": "DescriptionStyleModel",
      "state": {
       "description_width": "initial"
      }
     },
     "98cd47ec140e4b4cac7a5c47f358715c": {
      "model_module": "@jupyter-widgets/controls",
      "model_module_version": "1.5.0",
      "model_name": "FloatRangeSliderModel",
      "state": {
       "_model_name": "FloatRangeSliderModel",
       "_view_name": "FloatRangeSliderView",
       "description": "Limites do eixo y (eV):",
       "layout": "IPY_MODEL_cde0ed4fcf3049abaf0c54e8affe788f",
       "max": 10,
       "min": -10,
       "readout_format": ".1f",
       "step": 0.005,
       "style": "IPY_MODEL_d5109c2ba76346e3b5967d58f502cc77",
       "value": [
        -2,
        2
       ]
      }
     },
     "993303ef532c43bc8a4d63c2c5ba26ce": {
      "model_module": "@jupyter-widgets/controls",
      "model_module_version": "1.5.0",
      "model_name": "TabModel",
      "state": {
       "_titles": {
        "0": "Gerar o Sistema",
        "1": "Funções de Onda"
       },
       "children": [
        "IPY_MODEL_b4b1d14432374828ac544704a09cc59f",
        "IPY_MODEL_d53fdc337ace4fcf946f6c8e35d04cb8"
       ],
       "layout": "IPY_MODEL_359b3f1cc15d4ef88caa8aaea0704fa1"
      }
     },
     "99426e3d817b47a5b7303b9ca16c6698": {
      "model_module": "@jupyter-widgets/base",
      "model_module_version": "1.2.0",
      "model_name": "LayoutModel",
      "state": {}
     },
     "99515376077a4b2f8c6aeb2aa4c9cca4": {
      "model_module": "@jupyter-widgets/controls",
      "model_module_version": "1.5.0",
      "model_name": "IntSliderModel",
      "state": {
       "continuous_update": false,
       "description": "Número de pontos: ",
       "layout": "IPY_MODEL_b24919589ef840339a989c9c94276da5",
       "max": 1050,
       "min": 50,
       "step": 10,
       "style": "IPY_MODEL_4603b9446dc947008289aaccf7427ac2",
       "value": 550
      }
     },
     "999e3ac215e54d9aa215a02b10f9ade0": {
      "model_module": "@jupyter-widgets/controls",
      "model_module_version": "1.5.0",
      "model_name": "ButtonStyleModel",
      "state": {}
     },
     "99c8da7cde394d13804c64ddd4b15fea": {
      "model_module": "@jupyter-widgets/controls",
      "model_module_version": "1.5.0",
      "model_name": "ButtonStyleModel",
      "state": {}
     },
     "99fd5f688cf6475eacd3ee434162f0b8": {
      "model_module": "@jupyter-widgets/controls",
      "model_module_version": "1.5.0",
      "model_name": "ButtonStyleModel",
      "state": {}
     },
     "9a14c8a378c24dcd8d61e2daefa03b8c": {
      "model_module": "@jupyter-widgets/base",
      "model_module_version": "1.2.0",
      "model_name": "LayoutModel",
      "state": {}
     },
     "9a1914d009e74f708313da38b1a12a30": {
      "model_module": "@jupyter-widgets/base",
      "model_module_version": "1.2.0",
      "model_name": "LayoutModel",
      "state": {}
     },
     "9a21351ab00e4fd9b8a337ab88249571": {
      "model_module": "@jupyter-widgets/base",
      "model_module_version": "1.2.0",
      "model_name": "LayoutModel",
      "state": {}
     },
     "9a7afe4e00b643b5b67a0041e9ecbe2b": {
      "model_module": "@jupyter-widgets/controls",
      "model_module_version": "1.5.0",
      "model_name": "DescriptionStyleModel",
      "state": {
       "description_width": ""
      }
     },
     "9adee1f02c484e4fab8b681f40e982a2": {
      "model_module": "@jupyter-widgets/controls",
      "model_module_version": "1.5.0",
      "model_name": "ButtonStyleModel",
      "state": {}
     },
     "9b5437bd34964fbea27db60d08b76de1": {
      "model_module": "@jupyter-widgets/controls",
      "model_module_version": "1.5.0",
      "model_name": "SliderStyleModel",
      "state": {
       "description_width": "initial"
      }
     },
     "9b712ba32de7408a9217a4353e4c7ab2": {
      "model_module": "@jupyter-widgets/controls",
      "model_module_version": "1.5.0",
      "model_name": "LabelModel",
      "state": {
       "layout": "IPY_MODEL_cb1ebbec9b6340a9ab458d50a524d9b0",
       "style": "IPY_MODEL_a3d49f3c2bf645b995d3a7b719926be2",
       "value": "Passo $\\Delta x $ (angstroms) ="
      }
     },
     "9b737914b9f848c7be7ea12ca54c4fd6": {
      "model_module": "@jupyter-widgets/base",
      "model_module_version": "1.2.0",
      "model_name": "LayoutModel",
      "state": {}
     },
     "9bbac154f96743a3804eab8e7a92b716": {
      "model_module": "@jupyter-widgets/base",
      "model_module_version": "1.2.0",
      "model_name": "LayoutModel",
      "state": {}
     },
     "9bc24a01ee5c40129aeb3fc0cf6a5448": {
      "model_module": "@jupyter-widgets/controls",
      "model_module_version": "1.5.0",
      "model_name": "ButtonStyleModel",
      "state": {}
     },
     "9bcc0c06995341c29626e9c47b788d6f": {
      "model_module": "@jupyter-widgets/controls",
      "model_module_version": "1.5.0",
      "model_name": "DescriptionStyleModel",
      "state": {
       "description_width": ""
      }
     },
     "9bdeb0f6c4184ae09f9cd79b8a6e27f8": {
      "model_module": "@jupyter-widgets/base",
      "model_module_version": "1.2.0",
      "model_name": "LayoutModel",
      "state": {}
     },
     "9bea055098bd4a67ae718bfd23a6828a": {
      "model_module": "@jupyter-widgets/base",
      "model_module_version": "1.2.0",
      "model_name": "LayoutModel",
      "state": {}
     },
     "9bf91244a9f74cebae61e92d5ed36385": {
      "model_module": "@jupyter-widgets/base",
      "model_module_version": "1.2.0",
      "model_name": "LayoutModel",
      "state": {}
     },
     "9c0efea23b3849fab5bc23c4fee593dc": {
      "model_module": "@jupyter-widgets/controls",
      "model_module_version": "1.5.0",
      "model_name": "CheckboxModel",
      "state": {
       "description": "Auto limitar eixo y",
       "disabled": false,
       "layout": "IPY_MODEL_3ef8f8773a62403eba820b6faf57d418",
       "style": "IPY_MODEL_36d1cff3adb9423993f1f409627b73f8",
       "value": true
      }
     },
     "9c1a8aabc9b447bf84b3ae8f48c0f87c": {
      "model_module": "@jupyter-widgets/base",
      "model_module_version": "1.2.0",
      "model_name": "LayoutModel",
      "state": {
       "width": "100%"
      }
     },
     "9c1c5c0e56f84373bdd944d706568d5d": {
      "model_module": "@jupyter-widgets/base",
      "model_module_version": "1.2.0",
      "model_name": "LayoutModel",
      "state": {
       "width": "100%"
      }
     },
     "9c305c8965614428bb9c9628b9e57864": {
      "model_module": "@jupyter-widgets/base",
      "model_module_version": "1.2.0",
      "model_name": "LayoutModel",
      "state": {}
     },
     "9c6aa4f44cb14202b6fee779a08a462f": {
      "model_module": "@jupyter-widgets/base",
      "model_module_version": "1.2.0",
      "model_name": "LayoutModel",
      "state": {}
     },
     "9c8bf73924864664870edd05f89d1bf2": {
      "model_module": "jupyter-matplotlib",
      "model_module_version": "^0.9.0",
      "model_name": "ToolbarModel",
      "state": {
       "layout": "IPY_MODEL_629850c1d904498192626256963e8128",
       "toolitems": [
        [
         "Home",
         "Reset original view",
         "home",
         "home"
        ],
        [
         "Back",
         "Back to previous view",
         "arrow-left",
         "back"
        ],
        [
         "Forward",
         "Forward to next view",
         "arrow-right",
         "forward"
        ],
        [
         "Pan",
         "Left button pans, Right button zooms\nx/y fixes axis, CTRL fixes aspect",
         "arrows",
         "pan"
        ],
        [
         "Zoom",
         "Zoom to rectangle\nx/y fixes axis, CTRL fixes aspect",
         "square-o",
         "zoom"
        ],
        [
         "Download",
         "Download plot",
         "floppy-o",
         "save_figure"
        ]
       ]
      }
     },
     "9c9784a6f3dc49deb9311f4eda08d241": {
      "model_module": "@jupyter-widgets/controls",
      "model_module_version": "1.5.0",
      "model_name": "ButtonModel",
      "state": {
       "description": "Lennard Jones",
       "layout": "IPY_MODEL_3226950d341543668f66eaee6e1deb3f",
       "style": "IPY_MODEL_99c8da7cde394d13804c64ddd4b15fea"
      }
     },
     "9d232ff60be64d56b6291ce13dbdc6a0": {
      "model_module": "@jupyter-widgets/controls",
      "model_module_version": "1.5.0",
      "model_name": "LabelModel",
      "state": {
       "layout": "IPY_MODEL_f4eb5a60edfd4bb5ad6a7300c8064434",
       "style": "IPY_MODEL_7d542c70bc774779b98287d0ad7f1b7d",
       "value": "[-3.49998 , 0.86691]"
      }
     },
     "9d464e972a4542ddb34e7f67d49d1153": {
      "model_module": "@jupyter-widgets/controls",
      "model_module_version": "1.5.0",
      "model_name": "SliderStyleModel",
      "state": {
       "description_width": "initial"
      }
     },
     "9d4cadd1c9004e22b368480830738e2e": {
      "model_module": "@jupyter-widgets/controls",
      "model_module_version": "1.5.0",
      "model_name": "DescriptionStyleModel",
      "state": {
       "description_width": "initial"
      }
     },
     "9d58282f2c9b4f14bd5ca6189de07e05": {
      "model_module": "@jupyter-widgets/controls",
      "model_module_version": "1.5.0",
      "model_name": "LabelModel",
      "state": {
       "layout": "IPY_MODEL_a8818ac2b70140d89c2c8d96c7b66b58",
       "style": "IPY_MODEL_31adc9e4b3204c9bab3ee7fb8d1961ec",
       "value": "[-3.49998 , 0.86691]"
      }
     },
     "9d9a5eb1246d42009a32872e996d5b71": {
      "model_module": "@jupyter-widgets/controls",
      "model_module_version": "1.5.0",
      "model_name": "SliderStyleModel",
      "state": {
       "description_width": "initial"
      }
     },
     "9d9cd92cf15449a0a776b436f95a84d6": {
      "model_module": "@jupyter-widgets/base",
      "model_module_version": "1.2.0",
      "model_name": "LayoutModel",
      "state": {}
     },
     "9dbb00947e1141c49487b5710c7c8746": {
      "model_module": "@jupyter-widgets/base",
      "model_module_version": "1.2.0",
      "model_name": "LayoutModel",
      "state": {}
     },
     "9dd8a8f798c64dd481561eb98c4a78f7": {
      "model_module": "@jupyter-widgets/controls",
      "model_module_version": "1.5.0",
      "model_name": "ButtonModel",
      "state": {
       "description": "Duffing Holmes (+)",
       "layout": "IPY_MODEL_a69f9c4c65a843faa0ea3e1ca656ce6d",
       "style": "IPY_MODEL_ca235a602e5a455fb536baeffafabd06"
      }
     },
     "9dd9e37854d34ea48376bccc0610622d": {
      "model_module": "@jupyter-widgets/base",
      "model_module_version": "1.2.0",
      "model_name": "LayoutModel",
      "state": {}
     },
     "9de743a1d94a4b838a4452cb443fd4f2": {
      "model_module": "@jupyter-widgets/base",
      "model_module_version": "1.2.0",
      "model_name": "LayoutModel",
      "state": {}
     },
     "9e210f8a17214e5fb9b526e9e6f9391a": {
      "model_module": "@jupyter-widgets/controls",
      "model_module_version": "1.5.0",
      "model_name": "IntSliderModel",
      "state": {
       "description": "Pixels por polegada:",
       "layout": "IPY_MODEL_7a4971e7f39242099a240552f9ec5a68",
       "max": 300,
       "min": 10,
       "style": "IPY_MODEL_3dc74651479a49c3b9d83ca8741665f9",
       "value": 80
      }
     },
     "9e33a7b79319474ba1ef60222e895d04": {
      "model_module": "jupyter-matplotlib",
      "model_module_version": "^0.9.0",
      "model_name": "ToolbarModel",
      "state": {
       "layout": "IPY_MODEL_1558fe3df5a047529d0d864599322e0f",
       "toolitems": [
        [
         "Home",
         "Reset original view",
         "home",
         "home"
        ],
        [
         "Back",
         "Back to previous view",
         "arrow-left",
         "back"
        ],
        [
         "Forward",
         "Forward to next view",
         "arrow-right",
         "forward"
        ],
        [
         "Pan",
         "Left button pans, Right button zooms\nx/y fixes axis, CTRL fixes aspect",
         "arrows",
         "pan"
        ],
        [
         "Zoom",
         "Zoom to rectangle\nx/y fixes axis, CTRL fixes aspect",
         "square-o",
         "zoom"
        ],
        [
         "Download",
         "Download plot",
         "floppy-o",
         "save_figure"
        ]
       ]
      }
     },
     "9e3ff0ae998e4b9382f02a316adb3d08": {
      "model_module": "@jupyter-widgets/controls",
      "model_module_version": "1.5.0",
      "model_name": "ButtonStyleModel",
      "state": {}
     },
     "9e7f3f2c56c44598b8c51e584785314a": {
      "model_module": "@jupyter-widgets/controls",
      "model_module_version": "1.5.0",
      "model_name": "SliderStyleModel",
      "state": {
       "description_width": "initial"
      }
     },
     "9e9b4f26a21546448c22c96498d6fdd7": {
      "model_module": "@jupyter-widgets/controls",
      "model_module_version": "1.5.0",
      "model_name": "SliderStyleModel",
      "state": {
       "description_width": "initial"
      }
     },
     "9e9b5576fec84e419de0ae8b8cfcfad2": {
      "model_module": "@jupyter-widgets/base",
      "model_module_version": "1.2.0",
      "model_name": "LayoutModel",
      "state": {}
     },
     "9eb0356170b8466dade6fa9a42c7432d": {
      "model_module": "@jupyter-widgets/controls",
      "model_module_version": "1.5.0",
      "model_name": "DescriptionStyleModel",
      "state": {
       "description_width": ""
      }
     },
     "9ec961c3dae847b0b56fc047fd0b9bb6": {
      "model_module": "@jupyter-widgets/controls",
      "model_module_version": "1.5.0",
      "model_name": "IntSliderModel",
      "state": {
       "description": "Largura da imagem (polegadas):",
       "layout": "IPY_MODEL_27d298ae1d4842cf9f812d6a3b8ed8d2",
       "max": 20,
       "style": "IPY_MODEL_2179284352984fcdba765fdc8cceb8b2",
       "value": 16
      }
     },
     "9edd876a68614db0862b953e4fe65f4b": {
      "model_module": "@jupyter-widgets/base",
      "model_module_version": "1.2.0",
      "model_name": "LayoutModel",
      "state": {}
     },
     "9f03ec6a9fed425395a59c196234c1c6": {
      "model_module": "@jupyter-widgets/base",
      "model_module_version": "1.2.0",
      "model_name": "LayoutModel",
      "state": {
       "width": "100%"
      }
     },
     "9fa4fb7238ee4656bd6023ca33e557fa": {
      "model_module": "@jupyter-widgets/controls",
      "model_module_version": "1.5.0",
      "model_name": "ButtonStyleModel",
      "state": {}
     },
     "9fd0e4c6f31544d8b285a2ed8aef3322": {
      "model_module": "@jupyter-widgets/controls",
      "model_module_version": "1.5.0",
      "model_name": "VBoxModel",
      "state": {
       "children": [
        "IPY_MODEL_876b277629c4425caef0bb560c6b05cc",
        "IPY_MODEL_6611350689244f3e96242002337d0f53",
        "IPY_MODEL_2450785b0f86457d891e4f8c33bc3a57"
       ],
       "layout": "IPY_MODEL_5e1e548b82c640c1860d96518fee4367"
      }
     },
     "a09d08373d2b43088b2bf8b8637f65c4": {
      "model_module": "@jupyter-widgets/controls",
      "model_module_version": "1.5.0",
      "model_name": "LabelModel",
      "state": {
       "layout": "IPY_MODEL_4071044f89ac423ba6a715887901f479",
       "style": "IPY_MODEL_be63c13cd4684f3abd3ee4bc49c5d7f6",
       "value": "Passo $\\Delta x $ (angstroms) ="
      }
     },
     "a0b3bb7546c8443e81087c3fdd443c13": {
      "model_module": "@jupyter-widgets/controls",
      "model_module_version": "1.5.0",
      "model_name": "VBoxModel",
      "state": {
       "children": [
        "IPY_MODEL_be15b3b5c50f4be884044f2cc1b3c92b",
        "IPY_MODEL_fddf4f9878f34a3e862574c120ca7685"
       ],
       "layout": "IPY_MODEL_3659d359a2e941a0aea379d4dbe3317f"
      }
     },
     "a0c01cf1c5904011a39b0e8d032645e6": {
      "model_module": "@jupyter-widgets/base",
      "model_module_version": "1.2.0",
      "model_name": "LayoutModel",
      "state": {}
     },
     "a0c10da7557846a09b02b6dfb50766ff": {
      "model_module": "@jupyter-widgets/base",
      "model_module_version": "1.2.0",
      "model_name": "LayoutModel",
      "state": {}
     },
     "a0d68b55c76e4188ab50a6a09064edb0": {
      "model_module": "@jupyter-widgets/base",
      "model_module_version": "1.2.0",
      "model_name": "LayoutModel",
      "state": {
       "grid_template_columns": "repeat(auto-fill, 180px)"
      }
     },
     "a1285d72d7e749c29e632319d97863ae": {
      "model_module": "@jupyter-widgets/base",
      "model_module_version": "1.2.0",
      "model_name": "LayoutModel",
      "state": {}
     },
     "a15af9f8b7fd4c0b899f2d307907f449": {
      "model_module": "@jupyter-widgets/base",
      "model_module_version": "1.2.0",
      "model_name": "LayoutModel",
      "state": {}
     },
     "a15e25cb2e344d8bb66b88f076b5a1c0": {
      "model_module": "@jupyter-widgets/controls",
      "model_module_version": "1.5.0",
      "model_name": "IntSliderModel",
      "state": {
       "continuous_update": false,
       "description": "Número de pontos: ",
       "layout": "IPY_MODEL_4453439b85e9436890b7c25efe9dbc55",
       "max": 1050,
       "min": 50,
       "step": 10,
       "style": "IPY_MODEL_9d9a5eb1246d42009a32872e996d5b71",
       "value": 550
      }
     },
     "a165345a7fac449c912c5b875542bb63": {
      "model_module": "@jupyter-widgets/controls",
      "model_module_version": "1.5.0",
      "model_name": "DescriptionStyleModel",
      "state": {
       "description_width": ""
      }
     },
     "a169316f66774d5d88c9217ada1f4ebd": {
      "model_module": "@jupyter-widgets/output",
      "model_module_version": "1.0.0",
      "model_name": "OutputModel",
      "state": {
       "layout": "IPY_MODEL_da102fff524e410db81af83618f325f7",
       "outputs": [
        {
         "ename": "AttributeError",
         "evalue": "'function' object has no attribute 'subplots'",
         "output_type": "error",
         "traceback": [
          "\u001b[0;31m---------------------------------------------------------------------------\u001b[0m",
          "\u001b[0;31mAttributeError\u001b[0m                            Traceback (most recent call last)",
          "\u001b[0;32m~/miniconda3/lib/python3.9/site-packages/ipywidgets/widgets/interaction.py\u001b[0m in \u001b[0;36mupdate\u001b[0;34m(self, *args)\u001b[0m\n\u001b[1;32m    254\u001b[0m                     \u001b[0mvalue\u001b[0m \u001b[0;34m=\u001b[0m \u001b[0mwidget\u001b[0m\u001b[0;34m.\u001b[0m\u001b[0mget_interact_value\u001b[0m\u001b[0;34m(\u001b[0m\u001b[0;34m)\u001b[0m\u001b[0;34m\u001b[0m\u001b[0;34m\u001b[0m\u001b[0m\n\u001b[1;32m    255\u001b[0m                     \u001b[0mself\u001b[0m\u001b[0;34m.\u001b[0m\u001b[0mkwargs\u001b[0m\u001b[0;34m[\u001b[0m\u001b[0mwidget\u001b[0m\u001b[0;34m.\u001b[0m\u001b[0m_kwarg\u001b[0m\u001b[0;34m]\u001b[0m \u001b[0;34m=\u001b[0m \u001b[0mvalue\u001b[0m\u001b[0;34m\u001b[0m\u001b[0;34m\u001b[0m\u001b[0m\n\u001b[0;32m--> 256\u001b[0;31m                 \u001b[0mself\u001b[0m\u001b[0;34m.\u001b[0m\u001b[0mresult\u001b[0m \u001b[0;34m=\u001b[0m \u001b[0mself\u001b[0m\u001b[0;34m.\u001b[0m\u001b[0mf\u001b[0m\u001b[0;34m(\u001b[0m\u001b[0;34m**\u001b[0m\u001b[0mself\u001b[0m\u001b[0;34m.\u001b[0m\u001b[0mkwargs\u001b[0m\u001b[0;34m)\u001b[0m\u001b[0;34m\u001b[0m\u001b[0;34m\u001b[0m\u001b[0m\n\u001b[0m\u001b[1;32m    257\u001b[0m                 \u001b[0mshow_inline_matplotlib_plots\u001b[0m\u001b[0;34m(\u001b[0m\u001b[0;34m)\u001b[0m\u001b[0;34m\u001b[0m\u001b[0;34m\u001b[0m\u001b[0m\n\u001b[1;32m    258\u001b[0m                 \u001b[0;32mif\u001b[0m \u001b[0mself\u001b[0m\u001b[0;34m.\u001b[0m\u001b[0mauto_display\u001b[0m \u001b[0;32mand\u001b[0m \u001b[0mself\u001b[0m\u001b[0;34m.\u001b[0m\u001b[0mresult\u001b[0m \u001b[0;32mis\u001b[0m \u001b[0;32mnot\u001b[0m \u001b[0;32mNone\u001b[0m\u001b[0;34m:\u001b[0m\u001b[0;34m\u001b[0m\u001b[0;34m\u001b[0m\u001b[0m\n",
          "\u001b[0;32m<ipython-input-1-5afe17cfe89a>\u001b[0m in \u001b[0;36mplotall\u001b[0;34m(NES, limx, wav, xs, ys, dpi, limy, autolim)\u001b[0m\n\u001b[1;32m     95\u001b[0m \u001b[0;34m\u001b[0m\u001b[0m\n\u001b[1;32m     96\u001b[0m \u001b[0;32mdef\u001b[0m \u001b[0mplotall\u001b[0m\u001b[0;34m(\u001b[0m\u001b[0mNES\u001b[0m\u001b[0;34m,\u001b[0m\u001b[0mlimx\u001b[0m\u001b[0;34m,\u001b[0m\u001b[0mwav\u001b[0m\u001b[0;34m,\u001b[0m\u001b[0mxs\u001b[0m\u001b[0;34m,\u001b[0m\u001b[0mys\u001b[0m\u001b[0;34m,\u001b[0m\u001b[0mdpi\u001b[0m\u001b[0;34m,\u001b[0m\u001b[0mlimy\u001b[0m\u001b[0;34m,\u001b[0m\u001b[0mautolim\u001b[0m\u001b[0;34m)\u001b[0m\u001b[0;34m:\u001b[0m\u001b[0;34m\u001b[0m\u001b[0;34m\u001b[0m\u001b[0m\n\u001b[0;32m---> 97\u001b[0;31m     \u001b[0mfig\u001b[0m\u001b[0;34m,\u001b[0m \u001b[0max\u001b[0m \u001b[0;34m=\u001b[0m \u001b[0mplt\u001b[0m\u001b[0;34m.\u001b[0m\u001b[0mfigure\u001b[0m\u001b[0;34m.\u001b[0m\u001b[0msubplots\u001b[0m\u001b[0;34m(\u001b[0m\u001b[0mfigsize\u001b[0m\u001b[0;34m=\u001b[0m\u001b[0;34m(\u001b[0m\u001b[0msx\u001b[0m\u001b[0;34m,\u001b[0m\u001b[0msy\u001b[0m\u001b[0;34m)\u001b[0m\u001b[0;34m,\u001b[0m\u001b[0mdpi\u001b[0m\u001b[0;34m=\u001b[0m\u001b[0mdpi\u001b[0m\u001b[0;34m)\u001b[0m\u001b[0;34m\u001b[0m\u001b[0;34m\u001b[0m\u001b[0m\n\u001b[0m\u001b[1;32m     98\u001b[0m     \u001b[0mfig\u001b[0m\u001b[0;34m.\u001b[0m\u001b[0mcanvas\u001b[0m\u001b[0;34m.\u001b[0m\u001b[0mlayout\u001b[0m\u001b[0;34m.\u001b[0m\u001b[0mwidth\u001b[0m \u001b[0;34m=\u001b[0m \u001b[0;34m'100%'\u001b[0m\u001b[0;34m\u001b[0m\u001b[0;34m\u001b[0m\u001b[0m\n\u001b[1;32m     99\u001b[0m     \u001b[0mfig\u001b[0m\u001b[0;34m.\u001b[0m\u001b[0mcanvas\u001b[0m\u001b[0;34m.\u001b[0m\u001b[0mlayout\u001b[0m\u001b[0;34m.\u001b[0m\u001b[0mheigth\u001b[0m \u001b[0;34m=\u001b[0m \u001b[0;34m'100%'\u001b[0m\u001b[0;34m\u001b[0m\u001b[0;34m\u001b[0m\u001b[0m\n",
          "\u001b[0;31mAttributeError\u001b[0m: 'function' object has no attribute 'subplots'"
         ]
        }
       ]
      }
     },
     "a1ce0530cb9044e3bc281996e1438b15": {
      "model_module": "@jupyter-widgets/base",
      "model_module_version": "1.2.0",
      "model_name": "LayoutModel",
      "state": {}
     },
     "a1df8dfc1e204d24ac9ac7a3ee339bcf": {
      "model_module": "@jupyter-widgets/base",
      "model_module_version": "1.2.0",
      "model_name": "LayoutModel",
      "state": {
       "grid_template_columns": "repeat(2, 250px)"
      }
     },
     "a2072e81695d4b1c85f0a31082098fd9": {
      "model_module": "@jupyter-widgets/controls",
      "model_module_version": "1.5.0",
      "model_name": "VBoxModel",
      "state": {
       "_dom_classes": [
        "widget-interact"
       ],
       "children": [
        "IPY_MODEL_26ba762784f4420eb6f4fdee7693a129",
        "IPY_MODEL_262a13edfd4e42ba9c965196bc6885e4",
        "IPY_MODEL_e645cf9eab314636ae62e86fd37c5401",
        "IPY_MODEL_98cd47ec140e4b4cac7a5c47f358715c",
        "IPY_MODEL_764e830d1061489f8edf0076a93b2e65",
        "IPY_MODEL_662920df97a744109fa342c10ec66c0b",
        "IPY_MODEL_7cad466e21f44397ad024c72f25561d6"
       ],
       "layout": "IPY_MODEL_5b4b297136904be39d714118c2298661"
      }
     },
     "a21d851d12d84dbbafa2221e6f30a188": {
      "model_module": "@jupyter-widgets/base",
      "model_module_version": "1.2.0",
      "model_name": "LayoutModel",
      "state": {}
     },
     "a244060da55e451db352d775dc36bd56": {
      "model_module": "@jupyter-widgets/base",
      "model_module_version": "1.2.0",
      "model_name": "LayoutModel",
      "state": {}
     },
     "a2746f83f69b4ffb934495144ba9497e": {
      "model_module": "@jupyter-widgets/controls",
      "model_module_version": "1.5.0",
      "model_name": "IntRangeSliderModel",
      "state": {
       "_model_name": "IntRangeSliderModel",
       "_view_name": "IntRangeSliderView",
       "continuous_update": false,
       "description": "Plotar estados:",
       "layout": "IPY_MODEL_68c51c051cb44ff8abf5058b8b77093c",
       "max": 20,
       "style": "IPY_MODEL_e70763a925b344a88ad1aaa12927253c",
       "value": [
        0,
        10
       ]
      }
     },
     "a281c2f049484e12a9295d64cced2541": {
      "model_module": "@jupyter-widgets/controls",
      "model_module_version": "1.5.0",
      "model_name": "ButtonStyleModel",
      "state": {}
     },
     "a2b8381e7d004201a09937cbbe448c95": {
      "model_module": "@jupyter-widgets/controls",
      "model_module_version": "1.5.0",
      "model_name": "LabelModel",
      "state": {
       "layout": "IPY_MODEL_54ffb414beb246b9b9f2e200f5136b4a",
       "style": "IPY_MODEL_fba82de20c85467fa464bb1c606bbba8",
       "value": "(1e-5)*(x**2)+(1e-7)*(x**4)"
      }
     },
     "a2c176bc06e74613b0cd9232525e3a3d": {
      "model_module": "@jupyter-widgets/base",
      "model_module_version": "1.2.0",
      "model_name": "LayoutModel",
      "state": {}
     },
     "a2cc5516f48b42a490765bfef056f55d": {
      "model_module": "@jupyter-widgets/controls",
      "model_module_version": "1.5.0",
      "model_name": "ButtonStyleModel",
      "state": {}
     },
     "a2e1560cf4504e88a1643ceaf3cda94b": {
      "model_module": "@jupyter-widgets/controls",
      "model_module_version": "1.5.0",
      "model_name": "TextModel",
      "state": {
       "description": "Expressão de $V(x)$: ",
       "layout": "IPY_MODEL_b24919589ef840339a989c9c94276da5",
       "placeholder": "Escreva a expressão aqui.",
       "style": "IPY_MODEL_3039ef7ef6aa4129b314e55b55e93347",
       "value": "0"
      }
     },
     "a314a4b40bba4cf08c6ee43a85153f03": {
      "model_module": "@jupyter-widgets/controls",
      "model_module_version": "1.5.0",
      "model_name": "TabModel",
      "state": {
       "_titles": {
        "0": "Gerar o Sistema",
        "1": "Funções de Onda"
       },
       "children": [
        "IPY_MODEL_45ffb28b034d4d36ab3cfc06edd54950",
        "IPY_MODEL_11f2e0c131ac4b90b3627b6358d92a0a"
       ],
       "layout": "IPY_MODEL_612c1ba399eb483c839b6d4c76cc280b"
      }
     },
     "a31d7b7bac8a4d4c80be3dfceed57097": {
      "model_module": "@jupyter-widgets/base",
      "model_module_version": "1.2.0",
      "model_name": "LayoutModel",
      "state": {}
     },
     "a32ed6fae7c941a8ab6680292a63a4af": {
      "model_module": "@jupyter-widgets/base",
      "model_module_version": "1.2.0",
      "model_name": "LayoutModel",
      "state": {
       "width": "100%"
      }
     },
     "a349d98e9769497c9b623cbf14550984": {
      "model_module": "@jupyter-widgets/controls",
      "model_module_version": "1.5.0",
      "model_name": "IntSliderModel",
      "state": {
       "continuous_update": false,
       "description": "Número de pontos: ",
       "layout": "IPY_MODEL_55187982126640e6be41b35c00b830dc",
       "max": 1050,
       "min": 50,
       "step": 10,
       "style": "IPY_MODEL_5f3889beed4e4aef93884f9fd8006057",
       "value": 550
      }
     },
     "a3651141f397498697eeced149256a99": {
      "model_module": "@jupyter-widgets/base",
      "model_module_version": "1.2.0",
      "model_name": "LayoutModel",
      "state": {}
     },
     "a3ab1f8000f445b88791364ebddb024c": {
      "model_module": "@jupyter-widgets/controls",
      "model_module_version": "1.5.0",
      "model_name": "DescriptionStyleModel",
      "state": {
       "description_width": ""
      }
     },
     "a3c7da9f55e944e3ba72752f3a79aec2": {
      "model_module": "@jupyter-widgets/controls",
      "model_module_version": "1.5.0",
      "model_name": "ButtonModel",
      "state": {
       "description": "Morse",
       "layout": "IPY_MODEL_62a2e7781e844896b3767da3f50b4175",
       "style": "IPY_MODEL_6c9b566a3b9045c3880456c92469c739"
      }
     },
     "a3d49f3c2bf645b995d3a7b719926be2": {
      "model_module": "@jupyter-widgets/controls",
      "model_module_version": "1.5.0",
      "model_name": "DescriptionStyleModel",
      "state": {
       "description_width": ""
      }
     },
     "a3db7a5be7c2463d8ceff7027fc94cea": {
      "model_module": "@jupyter-widgets/base",
      "model_module_version": "1.2.0",
      "model_name": "LayoutModel",
      "state": {}
     },
     "a3f44067dc424ef4b6ec297bbfc0f746": {
      "model_module": "@jupyter-widgets/base",
      "model_module_version": "1.2.0",
      "model_name": "LayoutModel",
      "state": {}
     },
     "a4115ef629484e49bb51017dcb237a38": {
      "model_module": "@jupyter-widgets/controls",
      "model_module_version": "1.5.0",
      "model_name": "ButtonModel",
      "state": {
       "description": "Campo Uniforme (-)",
       "layout": "IPY_MODEL_a62597c480044c068e96fb7b5b906b3e",
       "style": "IPY_MODEL_2750510422ea4a3faa8f379ed281d727"
      }
     },
     "a4e6276c12df4949a7f4bcdd31fa3d54": {
      "model_module": "@jupyter-widgets/controls",
      "model_module_version": "1.5.0",
      "model_name": "LabelModel",
      "state": {
       "layout": "IPY_MODEL_fe6b68635d7048ed8ffcbaf0053554be",
       "style": "IPY_MODEL_f67bb9acce224f54b76cfebd96319784",
       "value": "V(x)[min,max] (eV) ="
      }
     },
     "a4f6ef08058b4c8195bca626822dfc35": {
      "model_module": "jupyter-matplotlib",
      "model_module_version": "^0.9.0",
      "model_name": "ToolbarModel",
      "state": {
       "layout": "IPY_MODEL_075208ce89eb4dd78dfa652996e40f10",
       "toolitems": [
        [
         "Home",
         "Reset original view",
         "home",
         "home"
        ],
        [
         "Back",
         "Back to previous view",
         "arrow-left",
         "back"
        ],
        [
         "Forward",
         "Forward to next view",
         "arrow-right",
         "forward"
        ],
        [
         "Pan",
         "Left button pans, Right button zooms\nx/y fixes axis, CTRL fixes aspect",
         "arrows",
         "pan"
        ],
        [
         "Zoom",
         "Zoom to rectangle\nx/y fixes axis, CTRL fixes aspect",
         "square-o",
         "zoom"
        ],
        [
         "Download",
         "Download plot",
         "floppy-o",
         "save_figure"
        ]
       ]
      }
     },
     "a4fe00a9dacc4dd086bb37422bdf83e8": {
      "model_module": "@jupyter-widgets/controls",
      "model_module_version": "1.5.0",
      "model_name": "ButtonStyleModel",
      "state": {}
     },
     "a527d3977e68493eb9c0f129d999482a": {
      "model_module": "@jupyter-widgets/controls",
      "model_module_version": "1.5.0",
      "model_name": "ButtonStyleModel",
      "state": {}
     },
     "a5653145333a46ab8e6b5aaa86a9373a": {
      "model_module": "@jupyter-widgets/controls",
      "model_module_version": "1.5.0",
      "model_name": "FloatRangeSliderModel",
      "state": {
       "_model_name": "FloatRangeSliderModel",
       "_view_name": "FloatRangeSliderView",
       "continuous_update": false,
       "description": "Domínio de $\\Psi(x)$: ",
       "layout": "IPY_MODEL_bc2be9e3ba6a47ebb89b6e0933f66239",
       "max": 150,
       "min": -150,
       "readout_format": "1d",
       "style": "IPY_MODEL_65572c846d5740a89f1af22f52da2ef8",
       "value": [
        -35,
        35
       ]
      }
     },
     "a58ae174a52046ddbb2f0c9b6d1c6d6d": {
      "model_module": "@jupyter-widgets/controls",
      "model_module_version": "1.5.0",
      "model_name": "ButtonModel",
      "state": {
       "description": "Gerar",
       "layout": "IPY_MODEL_a31d7b7bac8a4d4c80be3dfceed57097",
       "style": "IPY_MODEL_fe5108e53b5f4edc8d1642fdbb31d6d5"
      }
     },
     "a5d75d486fd9487099d74a261114d7e0": {
      "model_module": "@jupyter-widgets/controls",
      "model_module_version": "1.5.0",
      "model_name": "VBoxModel",
      "state": {
       "_dom_classes": [
        "widget-interact"
       ],
       "children": [
        "IPY_MODEL_c62225e6da534f2cbf88a52a137820c8",
        "IPY_MODEL_b5342f8ff6634319987b889b5453e640",
        "IPY_MODEL_71b164ae175c4e28b2eab005a0a97a0e",
        "IPY_MODEL_ec02a7c840ce4e3ab4f50eb43b617886",
        "IPY_MODEL_210189e5e9f04745b387834b22ae6140"
       ],
       "layout": "IPY_MODEL_4ecd3108eedd46ab9051e873eacb8b51"
      }
     },
     "a5dd0b5ffec242d0aca97502255d50af": {
      "model_module": "@jupyter-widgets/base",
      "model_module_version": "1.2.0",
      "model_name": "LayoutModel",
      "state": {}
     },
     "a5f63a3ca2374a2eb30b23849f553e6e": {
      "model_module": "@jupyter-widgets/controls",
      "model_module_version": "1.5.0",
      "model_name": "ButtonModel",
      "state": {
       "description": "Gerar",
       "layout": "IPY_MODEL_d0ba92811b9b4b6fbbc403b603c20ec2",
       "style": "IPY_MODEL_f720dc7db5e54263a456d7b803b6ef51"
      }
     },
     "a61ab052a7d84ecc828650d50f6eea51": {
      "model_module": "@jupyter-widgets/base",
      "model_module_version": "1.2.0",
      "model_name": "LayoutModel",
      "state": {}
     },
     "a62597c480044c068e96fb7b5b906b3e": {
      "model_module": "@jupyter-widgets/base",
      "model_module_version": "1.2.0",
      "model_name": "LayoutModel",
      "state": {}
     },
     "a67238a1a47048099fbdf3f3eed6bb6c": {
      "model_module": "@jupyter-widgets/controls",
      "model_module_version": "1.5.0",
      "model_name": "ButtonStyleModel",
      "state": {}
     },
     "a69f9c4c65a843faa0ea3e1ca656ce6d": {
      "model_module": "@jupyter-widgets/base",
      "model_module_version": "1.2.0",
      "model_name": "LayoutModel",
      "state": {}
     },
     "a6b9a634af6e41fa86a0fcbcb358a36b": {
      "model_module": "@jupyter-widgets/controls",
      "model_module_version": "1.5.0",
      "model_name": "ButtonModel",
      "state": {
       "description": "Campo Uniforme (-)",
       "layout": "IPY_MODEL_dd3b85c3120149ad81305fbe09bcf31b",
       "style": "IPY_MODEL_8cf29b4b08c343118fd16bfe892ebb63"
      }
     },
     "a6d9f2e910ff4c2faaf001e17821f6c4": {
      "model_module": "@jupyter-widgets/base",
      "model_module_version": "1.2.0",
      "model_name": "LayoutModel",
      "state": {}
     },
     "a6f2adcb4793410eb4629b20e75f5463": {
      "model_module": "@jupyter-widgets/controls",
      "model_module_version": "1.5.0",
      "model_name": "DescriptionStyleModel",
      "state": {
       "description_width": ""
      }
     },
     "a7037541bca043bfb1656c6f28ddf134": {
      "model_module": "@jupyter-widgets/controls",
      "model_module_version": "1.5.0",
      "model_name": "ButtonModel",
      "state": {
       "description": "Morse",
       "layout": "IPY_MODEL_ed9e04797bf544eaa8fac8e5b0dbf5c0",
       "style": "IPY_MODEL_6beb76390eea4dca84d77eb59b50155f"
      }
     },
     "a752d52382fd45208357ca7095983510": {
      "model_module": "@jupyter-widgets/controls",
      "model_module_version": "1.5.0",
      "model_name": "DescriptionStyleModel",
      "state": {
       "description_width": ""
      }
     },
     "a7591b9b6dc94640b5937f1475bdd239": {
      "model_module": "@jupyter-widgets/base",
      "model_module_version": "1.2.0",
      "model_name": "LayoutModel",
      "state": {}
     },
     "a79dae89e38845a7ac77088fa0663c40": {
      "model_module": "@jupyter-widgets/base",
      "model_module_version": "1.2.0",
      "model_name": "LayoutModel",
      "state": {}
     },
     "a7e026126f5b46a7863cfea893803ac0": {
      "model_module": "@jupyter-widgets/controls",
      "model_module_version": "1.5.0",
      "model_name": "ButtonModel",
      "state": {
       "description": "Oscilador Harmônico",
       "layout": "IPY_MODEL_c6235f40318d4f329f83f6abf51d7214",
       "style": "IPY_MODEL_2bd0cf2787e34d379ab8d0e171ecb175"
      }
     },
     "a80277c7b1104dd09d063e77ac6f3053": {
      "model_module": "@jupyter-widgets/controls",
      "model_module_version": "1.5.0",
      "model_name": "ButtonStyleModel",
      "state": {}
     },
     "a86dfde351b74b6f98021e1394bda98b": {
      "model_module": "@jupyter-widgets/controls",
      "model_module_version": "1.5.0",
      "model_name": "DescriptionStyleModel",
      "state": {
       "description_width": ""
      }
     },
     "a87dd4203a664599b4bc6c8e3d5e0625": {
      "model_module": "@jupyter-widgets/base",
      "model_module_version": "1.2.0",
      "model_name": "LayoutModel",
      "state": {}
     },
     "a8818ac2b70140d89c2c8d96c7b66b58": {
      "model_module": "@jupyter-widgets/base",
      "model_module_version": "1.2.0",
      "model_name": "LayoutModel",
      "state": {}
     },
     "a8b8be87e5574962b6789b8d08de79f8": {
      "model_module": "@jupyter-widgets/controls",
      "model_module_version": "1.5.0",
      "model_name": "VBoxModel",
      "state": {
       "children": [
        "IPY_MODEL_dba6fb5026234d03980ac194cacb8026",
        "IPY_MODEL_6d15bbf34e144971a099ff0253c4411e"
       ],
       "layout": "IPY_MODEL_d75f08351bb44f18af04771c23cfe412"
      }
     },
     "a8ca76ba693c41f691d2cce8fe37315f": {
      "model_module": "@jupyter-widgets/base",
      "model_module_version": "1.2.0",
      "model_name": "LayoutModel",
      "state": {
       "width": "100%"
      }
     },
     "a8ef210448794b3f8fb3387104e28794": {
      "model_module": "@jupyter-widgets/controls",
      "model_module_version": "1.5.0",
      "model_name": "ButtonStyleModel",
      "state": {}
     },
     "a918ecd3b4cb44e2a30955bd57cc0a36": {
      "model_module": "@jupyter-widgets/controls",
      "model_module_version": "1.5.0",
      "model_name": "DropdownModel",
      "state": {
       "_options_labels": [
        "densidades de probabilidades",
        "funções de onda (parte real, +)",
        "funções de onda (parte imaginária)"
       ],
       "description": "Plotar as",
       "index": 0,
       "layout": "IPY_MODEL_3a38594f82be417e892daffc1dead59e",
       "style": "IPY_MODEL_b09de6780c734c9b854f70e12718bcda"
      }
     },
     "a9784f8339d9433a90e3cddbfd09c8b1": {
      "model_module": "@jupyter-widgets/base",
      "model_module_version": "1.2.0",
      "model_name": "LayoutModel",
      "state": {}
     },
     "a98238ab30a340739b369e0bb1cb54e3": {
      "model_module": "@jupyter-widgets/controls",
      "model_module_version": "1.5.0",
      "model_name": "LabelModel",
      "state": {
       "layout": "IPY_MODEL_daa598ed7176418e89668bddff182bf4",
       "style": "IPY_MODEL_e1bb9e49a9a24b929832abaa8dff564b",
       "value": "[-3.99984 , 0.00000]"
      }
     },
     "a993ed74bd1f4be5a01e86473f7d3a20": {
      "model_module": "@jupyter-widgets/controls",
      "model_module_version": "1.5.0",
      "model_name": "ButtonStyleModel",
      "state": {}
     },
     "a99fb68a24424baa9d5f0e450a2eb048": {
      "model_module": "@jupyter-widgets/output",
      "model_module_version": "1.0.0",
      "model_name": "OutputModel",
      "state": {
       "layout": "IPY_MODEL_aa8463b5783240e289fdb12ae68e06dd"
      }
     },
     "a9a7cb917326453b817a575dcf7abef7": {
      "model_module": "@jupyter-widgets/controls",
      "model_module_version": "1.5.0",
      "model_name": "VBoxModel",
      "state": {
       "_dom_classes": [
        "widget-interact"
       ],
       "children": [
        "IPY_MODEL_0ac893c3ca2f44889a683d5579a45f95",
        "IPY_MODEL_72ceacc8172d49c88c7717ce56d39b11",
        "IPY_MODEL_30be0508166d40d28cf2608f0808a4c8",
        "IPY_MODEL_09d0476fd13c4e86bb800dd4eb66dd89",
        "IPY_MODEL_8aadc7c90cb84edb984b2607927c8b31"
       ],
       "layout": "IPY_MODEL_44e25e5b725747fb842c7f8940c57a38"
      }
     },
     "a9e0dc6fae4b4d209a1c81ca32f44d16": {
      "model_module": "@jupyter-widgets/base",
      "model_module_version": "1.2.0",
      "model_name": "LayoutModel",
      "state": {}
     },
     "aa05dc51ceaa49fb92ac737296f79f0f": {
      "model_module": "@jupyter-widgets/controls",
      "model_module_version": "1.5.0",
      "model_name": "ButtonModel",
      "state": {
       "description": "Gerar",
       "layout": "IPY_MODEL_738c4b3ea0124306a12e1b5d5fffea5e",
       "style": "IPY_MODEL_72224793082c4ecc9017dd6f7ce4ffa9"
      }
     },
     "aa101f7f1f524dcbbb4689f36f8a450c": {
      "model_module": "@jupyter-widgets/controls",
      "model_module_version": "1.5.0",
      "model_name": "VBoxModel",
      "state": {
       "children": [
        "IPY_MODEL_407dbb44862e4311992972b464549fd4",
        "IPY_MODEL_eb8f1f76f22f4d3db012a58ba135e211"
       ],
       "layout": "IPY_MODEL_a61ab052a7d84ecc828650d50f6eea51"
      }
     },
     "aa3b5193962d4797b6e343025bc43b45": {
      "model_module": "@jupyter-widgets/base",
      "model_module_version": "1.2.0",
      "model_name": "LayoutModel",
      "state": {
       "grid_template_columns": "repeat(2, 250px)"
      }
     },
     "aa43f5b221844b91aa8b7ac48e5c9fb0": {
      "model_module": "@jupyter-widgets/base",
      "model_module_version": "1.2.0",
      "model_name": "LayoutModel",
      "state": {}
     },
     "aa4d5a7db28d443a9ea24ec10dbdf83f": {
      "model_module": "@jupyter-widgets/controls",
      "model_module_version": "1.5.0",
      "model_name": "SliderStyleModel",
      "state": {
       "description_width": "initial"
      }
     },
     "aa56bc1346b74509a2d810bdb6b1cf0f": {
      "model_module": "@jupyter-widgets/controls",
      "model_module_version": "1.5.0",
      "model_name": "FloatRangeSliderModel",
      "state": {
       "_model_name": "FloatRangeSliderModel",
       "_view_name": "FloatRangeSliderView",
       "continuous_update": false,
       "description": "Domínio de $\\Psi(x)$: ",
       "layout": "IPY_MODEL_4453439b85e9436890b7c25efe9dbc55",
       "max": 150,
       "min": -150,
       "readout_format": "1d",
       "style": "IPY_MODEL_53c037608d2f4988a9b85c0c61438c8f",
       "value": [
        -35,
        35
       ]
      }
     },
     "aa670675f67a4d49b78f717b47cb2260": {
      "model_module": "jupyter-matplotlib",
      "model_module_version": "^0.9.0",
      "model_name": "ToolbarModel",
      "state": {
       "layout": "IPY_MODEL_5dd3966259cb4479ab8e869d24d8750a",
       "toolitems": [
        [
         "Home",
         "Reset original view",
         "home",
         "home"
        ],
        [
         "Back",
         "Back to previous view",
         "arrow-left",
         "back"
        ],
        [
         "Forward",
         "Forward to next view",
         "arrow-right",
         "forward"
        ],
        [
         "Pan",
         "Left button pans, Right button zooms\nx/y fixes axis, CTRL fixes aspect",
         "arrows",
         "pan"
        ],
        [
         "Zoom",
         "Zoom to rectangle\nx/y fixes axis, CTRL fixes aspect",
         "square-o",
         "zoom"
        ],
        [
         "Download",
         "Download plot",
         "floppy-o",
         "save_figure"
        ]
       ]
      }
     },
     "aa6760e1901b40edbd78251c822e21e4": {
      "model_module": "@jupyter-widgets/controls",
      "model_module_version": "1.5.0",
      "model_name": "ButtonStyleModel",
      "state": {}
     },
     "aa6d632bc26648f6bd0487e6ce5b7ca2": {
      "model_module": "@jupyter-widgets/controls",
      "model_module_version": "1.5.0",
      "model_name": "DescriptionStyleModel",
      "state": {
       "description_width": "initial"
      }
     },
     "aa8463b5783240e289fdb12ae68e06dd": {
      "model_module": "@jupyter-widgets/base",
      "model_module_version": "1.2.0",
      "model_name": "LayoutModel",
      "state": {}
     },
     "aa96a13543d245f59538947f0754ad19": {
      "model_module": "@jupyter-widgets/controls",
      "model_module_version": "1.5.0",
      "model_name": "LabelModel",
      "state": {
       "layout": "IPY_MODEL_e6d241be9ce04efd9168f067f76c9419",
       "style": "IPY_MODEL_2ad8181ab6254b178f4799d985905c34",
       "value": "Largura do domínio (angstroms) ="
      }
     },
     "aaab0e2444e4404fb81da480ed21091c": {
      "model_module": "@jupyter-widgets/base",
      "model_module_version": "1.2.0",
      "model_name": "LayoutModel",
      "state": {}
     },
     "aabd4b8d10cd49ffbed0dc652ec444f7": {
      "model_module": "@jupyter-widgets/base",
      "model_module_version": "1.2.0",
      "model_name": "LayoutModel",
      "state": {}
     },
     "aac7b68d49a946ec82efd5247fb45fd9": {
      "model_module": "@jupyter-widgets/base",
      "model_module_version": "1.2.0",
      "model_name": "LayoutModel",
      "state": {}
     },
     "aace79fb546e44ebb87f92b7db726c6e": {
      "model_module": "@jupyter-widgets/controls",
      "model_module_version": "1.5.0",
      "model_name": "VBoxModel",
      "state": {
       "_dom_classes": [
        "widget-interact"
       ],
       "children": [
        "IPY_MODEL_54dc141864e149e8ad8b0d67c1331469",
        "IPY_MODEL_ec5554af28324d5093e3406a4cdb7096",
        "IPY_MODEL_cf72ae75f8674341ba2f1e5c422c624c",
        "IPY_MODEL_b11e2ea0662a464eb38a9ffaec9a7aa5",
        "IPY_MODEL_3e693b05646f4dfdbd4d15db191a6d71",
        "IPY_MODEL_fac6285d24c24b05b4fcf94baf3b6db1",
        "IPY_MODEL_3ec1af15f9944c69ae33e1980d45677f",
        "IPY_MODEL_2b38548770a246128e2b98f007c4989c"
       ],
       "layout": "IPY_MODEL_c42e65bc32bf485fa2b91bec2876459e"
      }
     },
     "aae3efe0180a4873bdde1910ff652b3e": {
      "model_module": "@jupyter-widgets/controls",
      "model_module_version": "1.5.0",
      "model_name": "LabelModel",
      "state": {
       "layout": "IPY_MODEL_ee7e562ddd144b788eaa6408fb92c7dd",
       "style": "IPY_MODEL_8f050f83df674123be90ebdee80987f2",
       "value": " 550"
      }
     },
     "aaee3be1d57a46ea9c26e16610b3ab74": {
      "model_module": "@jupyter-widgets/controls",
      "model_module_version": "1.5.0",
      "model_name": "ButtonModel",
      "state": {
       "description": "Plotar",
       "layout": "IPY_MODEL_4efe7452b826463588364badf6d9d2a5",
       "style": "IPY_MODEL_8a4faec110da48b6983256f086ba44db"
      }
     },
     "ab0232bd29674459a683e3a793eab43f": {
      "model_module": "@jupyter-widgets/base",
      "model_module_version": "1.2.0",
      "model_name": "LayoutModel",
      "state": {}
     },
     "ab1c8b9bbf2b4621bca5b462e5a5c7ee": {
      "model_module": "@jupyter-widgets/base",
      "model_module_version": "1.2.0",
      "model_name": "LayoutModel",
      "state": {}
     },
     "ab1f2da87297449c89f7177b6373aed4": {
      "model_module": "jupyter-matplotlib",
      "model_module_version": "^0.9.0",
      "model_name": "ToolbarModel",
      "state": {
       "layout": "IPY_MODEL_ac9eaf6a82f34b6fa5f511ab61ebe03d",
       "toolitems": [
        [
         "Home",
         "Reset original view",
         "home",
         "home"
        ],
        [
         "Back",
         "Back to previous view",
         "arrow-left",
         "back"
        ],
        [
         "Forward",
         "Forward to next view",
         "arrow-right",
         "forward"
        ],
        [
         "Pan",
         "Left button pans, Right button zooms\nx/y fixes axis, CTRL fixes aspect",
         "arrows",
         "pan"
        ],
        [
         "Zoom",
         "Zoom to rectangle\nx/y fixes axis, CTRL fixes aspect",
         "square-o",
         "zoom"
        ],
        [
         "Download",
         "Download plot",
         "floppy-o",
         "save_figure"
        ]
       ]
      }
     },
     "ab5f2e7eada04e2db5aa874f18a83ce6": {
      "model_module": "@jupyter-widgets/controls",
      "model_module_version": "1.5.0",
      "model_name": "DescriptionStyleModel",
      "state": {
       "description_width": ""
      }
     },
     "ab72cd04c0f04d638417f6f237a85e40": {
      "model_module": "@jupyter-widgets/controls",
      "model_module_version": "1.5.0",
      "model_name": "DescriptionStyleModel",
      "state": {
       "description_width": "initial"
      }
     },
     "ab8006ea274d4e3c92cf4283def038cc": {
      "model_module": "@jupyter-widgets/controls",
      "model_module_version": "1.5.0",
      "model_name": "ButtonStyleModel",
      "state": {}
     },
     "ab874dcad9ab4b2b9a61be0bfbaa9913": {
      "model_module": "@jupyter-widgets/base",
      "model_module_version": "1.2.0",
      "model_name": "LayoutModel",
      "state": {}
     },
     "abc27f16ac044d1db7a01d696b15ce05": {
      "model_module": "@jupyter-widgets/controls",
      "model_module_version": "1.5.0",
      "model_name": "DescriptionStyleModel",
      "state": {
       "description_width": "initial"
      }
     },
     "abdf8b69b37f4011888d7a5a1b71c5a0": {
      "model_module": "@jupyter-widgets/controls",
      "model_module_version": "1.5.0",
      "model_name": "AccordionModel",
      "state": {
       "_titles": {
        "0": "Diagonalizar/Informações"
       },
       "children": [
        "IPY_MODEL_84a8312aa8584d4c8ff9e33541cdad91"
       ],
       "layout": "IPY_MODEL_311dc1740d2a44c89e3b6114cc83b2a8"
      }
     },
     "abe94d12c30f472782b257bc62fd7003": {
      "model_module": "@jupyter-widgets/controls",
      "model_module_version": "1.5.0",
      "model_name": "DescriptionStyleModel",
      "state": {
       "description_width": "initial"
      }
     },
     "ac285af85fd442e397081fb6cf1daee0": {
      "model_module": "@jupyter-widgets/output",
      "model_module_version": "1.0.0",
      "model_name": "OutputModel",
      "state": {
       "layout": "IPY_MODEL_ded84bd1e159433e99bffd4566e8905f",
       "outputs": [
        {
         "data": {
          "application/vnd.jupyter.widget-view+json": {
           "model_id": "d1733c54129b4c088078a605019a8e28",
           "version_major": 2,
           "version_minor": 0
          },
          "text/plain": "Canvas(toolbar=Toolbar(toolitems=[('Home', 'Reset original view', 'home', 'home'), ('Back', 'Back to previous …"
         },
         "metadata": {},
         "output_type": "display_data"
        }
       ]
      }
     },
     "ac9eaf6a82f34b6fa5f511ab61ebe03d": {
      "model_module": "@jupyter-widgets/base",
      "model_module_version": "1.2.0",
      "model_name": "LayoutModel",
      "state": {}
     },
     "acb54c53c6e74d129f67a89f0965238b": {
      "model_module": "@jupyter-widgets/controls",
      "model_module_version": "1.5.0",
      "model_name": "DescriptionStyleModel",
      "state": {
       "description_width": ""
      }
     },
     "acccb73632884e25935cf16bffd1644a": {
      "model_module": "@jupyter-widgets/controls",
      "model_module_version": "1.5.0",
      "model_name": "VBoxModel",
      "state": {
       "children": [
        "IPY_MODEL_47dddfa762db43e8b4f3483702cd4c8a",
        "IPY_MODEL_0e8ef0822f154cf9a767c81a4b8e614f",
        "IPY_MODEL_b22c0d7c7f9b4ca7ae1bf43f1995e54f"
       ],
       "layout": "IPY_MODEL_f35a3693dca74f4bba323cfb0498bf4c"
      }
     },
     "ad562bac0fc746eb9b0fe60b1fa845e8": {
      "model_module": "@jupyter-widgets/base",
      "model_module_version": "1.2.0",
      "model_name": "LayoutModel",
      "state": {}
     },
     "ad9a9656ffa54230ba9da8771ecfcea5": {
      "model_module": "@jupyter-widgets/controls",
      "model_module_version": "1.5.0",
      "model_name": "DescriptionStyleModel",
      "state": {
       "description_width": ""
      }
     },
     "adb2a4a44d1048ffaab243fa3118b83b": {
      "model_module": "@jupyter-widgets/base",
      "model_module_version": "1.2.0",
      "model_name": "LayoutModel",
      "state": {}
     },
     "adfc28f04f2e4590bc91691fdbdf11ec": {
      "model_module": "@jupyter-widgets/controls",
      "model_module_version": "1.5.0",
      "model_name": "SliderStyleModel",
      "state": {
       "description_width": "initial"
      }
     },
     "ae4f56f1c1544a9ebda0a81ab8af0e37": {
      "model_module": "@jupyter-widgets/controls",
      "model_module_version": "1.5.0",
      "model_name": "SliderStyleModel",
      "state": {
       "description_width": "initial"
      }
     },
     "ae4faf534968416398f4969f62270077": {
      "model_module": "@jupyter-widgets/controls",
      "model_module_version": "1.5.0",
      "model_name": "SliderStyleModel",
      "state": {
       "description_width": "initial"
      }
     },
     "ae604c842bf04a28803697981be4b87b": {
      "model_module": "@jupyter-widgets/base",
      "model_module_version": "1.2.0",
      "model_name": "LayoutModel",
      "state": {}
     },
     "ae63ea4986d04e58a358f8d89977261d": {
      "model_module": "@jupyter-widgets/controls",
      "model_module_version": "1.5.0",
      "model_name": "ButtonStyleModel",
      "state": {}
     },
     "aed8e3d5423543fd9e48fdddcfec0049": {
      "model_module": "@jupyter-widgets/base",
      "model_module_version": "1.2.0",
      "model_name": "LayoutModel",
      "state": {}
     },
     "af2400e4a4424ceb90b92428b195d505": {
      "model_module": "@jupyter-widgets/controls",
      "model_module_version": "1.5.0",
      "model_name": "AccordionModel",
      "state": {
       "_titles": {
        "0": "Potenciais pré definidos"
       },
       "children": [
        "IPY_MODEL_9091528c845f46ac93d07148b8b5a316"
       ],
       "layout": "IPY_MODEL_bcf4b7f13dd84a83b365f316a9be9e9c"
      }
     },
     "af3d8f25dd4f41abb593e1b44ec1d816": {
      "model_module": "@jupyter-widgets/controls",
      "model_module_version": "1.5.0",
      "model_name": "ButtonModel",
      "state": {
       "description": "Oscilador Harmônico",
       "layout": "IPY_MODEL_a3651141f397498697eeced149256a99",
       "style": "IPY_MODEL_fa1943bd215e4b0a832510912c31e1d6"
      }
     },
     "af42a17e318f4dc7a45972084af038f3": {
      "model_module": "@jupyter-widgets/controls",
      "model_module_version": "1.5.0",
      "model_name": "LabelModel",
      "state": {
       "layout": "IPY_MODEL_11de75b9f9f44f809fee6c1deefdc8a2",
       "style": "IPY_MODEL_09542434f3154bba9bf7bd76bc927c0f",
       "value": " 70.00"
      }
     },
     "af4f1cb0d88c4796aa0c3bf82be40ef3": {
      "model_module": "@jupyter-widgets/base",
      "model_module_version": "1.2.0",
      "model_name": "LayoutModel",
      "state": {}
     },
     "af745620491047a1ad5e843dda40d61c": {
      "model_module": "@jupyter-widgets/base",
      "model_module_version": "1.2.0",
      "model_name": "LayoutModel",
      "state": {}
     },
     "af84f79960c648ab8b40ae13456907b2": {
      "model_module": "@jupyter-widgets/controls",
      "model_module_version": "1.5.0",
      "model_name": "IntSliderModel",
      "state": {
       "continuous_update": false,
       "description": "Margens horizontais  (angstroms):   ",
       "layout": "IPY_MODEL_16010a52e9f5434c96eff916c5d6459a",
       "style": "IPY_MODEL_052ab31b759d4a74b94d1a3e32131049",
       "value": 20
      }
     },
     "afac132476434d1d83325a9101317539": {
      "model_module": "@jupyter-widgets/controls",
      "model_module_version": "1.5.0",
      "model_name": "ButtonModel",
      "state": {
       "description": "Poço Infinito",
       "layout": "IPY_MODEL_0514b15a728e4112a9cb9d8dabaada84",
       "style": "IPY_MODEL_7e679969e1a5461d8d148877e2fa124b"
      }
     },
     "afbfcaf6172f4b89bcb745176fae13de": {
      "model_module": "@jupyter-widgets/controls",
      "model_module_version": "1.5.0",
      "model_name": "DescriptionStyleModel",
      "state": {
       "description_width": ""
      }
     },
     "afef1494e9ad42429c28bb9ca642b3fa": {
      "model_module": "@jupyter-widgets/controls",
      "model_module_version": "1.5.0",
      "model_name": "DescriptionStyleModel",
      "state": {
       "description_width": ""
      }
     },
     "b049545a8e954f318fcbdf88763af469": {
      "model_module": "@jupyter-widgets/controls",
      "model_module_version": "1.5.0",
      "model_name": "SliderStyleModel",
      "state": {
       "description_width": "initial"
      }
     },
     "b09de6780c734c9b854f70e12718bcda": {
      "model_module": "@jupyter-widgets/controls",
      "model_module_version": "1.5.0",
      "model_name": "DescriptionStyleModel",
      "state": {
       "description_width": "initial"
      }
     },
     "b0d0ab1a48204eab939eba3a8768fa0d": {
      "model_module": "@jupyter-widgets/controls",
      "model_module_version": "1.5.0",
      "model_name": "LabelModel",
      "state": {
       "layout": "IPY_MODEL_56e6079181d6468a8e09aa47f9622630",
       "style": "IPY_MODEL_f5b992beec704695beccd9981a469e44",
       "value": "Largura do domínio (angstroms) ="
      }
     },
     "b0d1a0935f3241c886fb706aa8875b19": {
      "model_module": "@jupyter-widgets/controls",
      "model_module_version": "1.5.0",
      "model_name": "SliderStyleModel",
      "state": {
       "description_width": "initial"
      }
     },
     "b0f8b2b6fd9d4e82a40e2e19c4e5f097": {
      "model_module": "@jupyter-widgets/controls",
      "model_module_version": "1.5.0",
      "model_name": "ButtonStyleModel",
      "state": {}
     },
     "b1095ced922b4bdfad50384325d7f154": {
      "model_module": "@jupyter-widgets/controls",
      "model_module_version": "1.5.0",
      "model_name": "LabelModel",
      "state": {
       "layout": "IPY_MODEL_c27da173bed04432a56a4305f80e97d1",
       "style": "IPY_MODEL_1d4770f57212415b9432cc907c51b3de",
       "value": " 70.00"
      }
     },
     "b11e2ea0662a464eb38a9ffaec9a7aa5": {
      "model_module": "@jupyter-widgets/controls",
      "model_module_version": "1.5.0",
      "model_name": "IntSliderModel",
      "state": {
       "description": "Pixels por polegada:",
       "layout": "IPY_MODEL_7a51e32fb9794ecbb476c9152ca90862",
       "max": 300,
       "min": 10,
       "style": "IPY_MODEL_c2a17d6b60cb4c2da3bfbad956228fc5",
       "value": 80
      }
     },
     "b126f6fcfcda48c1a0c4d72b69ae8087": {
      "model_module": "@jupyter-widgets/base",
      "model_module_version": "1.2.0",
      "model_name": "LayoutModel",
      "state": {}
     },
     "b18060d09b1c4f9b937462a8844ce3ff": {
      "model_module": "@jupyter-widgets/base",
      "model_module_version": "1.2.0",
      "model_name": "LayoutModel",
      "state": {}
     },
     "b190ffbb977a4221927991df3b0501bc": {
      "model_module": "@jupyter-widgets/base",
      "model_module_version": "1.2.0",
      "model_name": "LayoutModel",
      "state": {}
     },
     "b1bf09ba1b2d4201934256d39842bdfe": {
      "model_module": "@jupyter-widgets/controls",
      "model_module_version": "1.5.0",
      "model_name": "LabelModel",
      "state": {
       "layout": "IPY_MODEL_d73965d988a2424e972672af7ed11255",
       "style": "IPY_MODEL_9027b0fde4754fc798eb208351d04c28",
       "value": " 550"
      }
     },
     "b22c0d7c7f9b4ca7ae1bf43f1995e54f": {
      "model_module": "@jupyter-widgets/controls",
      "model_module_version": "1.5.0",
      "model_name": "AccordionModel",
      "state": {
       "_titles": {
        "0": "Diagonalizar/Informações"
       },
       "children": [
        "IPY_MODEL_df70e45ba49c4a18814a9110885bd1c5"
       ],
       "layout": "IPY_MODEL_20481e82752a4f7db937892bc2dffa1a"
      }
     },
     "b24919589ef840339a989c9c94276da5": {
      "model_module": "@jupyter-widgets/base",
      "model_module_version": "1.2.0",
      "model_name": "LayoutModel",
      "state": {
       "display": "flex",
       "width": "90%"
      }
     },
     "b24a4701f68f4f56a5affbc8f23f31a6": {
      "model_module": "@jupyter-widgets/controls",
      "model_module_version": "1.5.0",
      "model_name": "ButtonModel",
      "state": {
       "description": "Duffing Holmes (-)",
       "layout": "IPY_MODEL_86736a2985934048916e739bab6c4f61",
       "style": "IPY_MODEL_be370dc67adf4f40829cb2d9a719e1da"
      }
     },
     "b314e6317d9f4d089ea64ad7b93a39e6": {
      "model_module": "@jupyter-widgets/base",
      "model_module_version": "1.2.0",
      "model_name": "LayoutModel",
      "state": {}
     },
     "b3238954a511438cb863fafbea0598e6": {
      "model_module": "@jupyter-widgets/base",
      "model_module_version": "1.2.0",
      "model_name": "LayoutModel",
      "state": {}
     },
     "b3b6bf85d4b84af2acf6269a746fa3ff": {
      "model_module": "@jupyter-widgets/controls",
      "model_module_version": "1.5.0",
      "model_name": "VBoxModel",
      "state": {
       "_dom_classes": [
        "widget-interact"
       ],
       "children": [
        "IPY_MODEL_a2746f83f69b4ffb934495144ba9497e",
        "IPY_MODEL_2d0a9fc80bdd4f46ab8d60024829a477",
        "IPY_MODEL_639cca2975784d1caf214f3879db4947",
        "IPY_MODEL_6463983fdd1b4dbb8778fbc9c6168b36",
        "IPY_MODEL_7329f7ec9e8d436db7b31e0453084cfc",
        "IPY_MODEL_6882363752364b54ab92ff28af4c1fc1",
        "IPY_MODEL_02c866dc15d945e9ae31e6fc009f6131",
        "IPY_MODEL_b75f331040904f96992c5c272aaf5449",
        "IPY_MODEL_68f9f12639db48e5a88f1111b7407f11",
        "IPY_MODEL_c05395c8ada6481095612a293b28701a"
       ],
       "layout": "IPY_MODEL_436a007025584afcb4f30ba73b71d512"
      }
     },
     "b3fa9f8743074031ad7ef2c642aa037a": {
      "model_module": "@jupyter-widgets/controls",
      "model_module_version": "1.5.0",
      "model_name": "GridBoxModel",
      "state": {
       "children": [
        "IPY_MODEL_4f3b8ba37a7848f2a1e8244ec454b0ee",
        "IPY_MODEL_f80778575ef84bb8884c8db5a21d2160",
        "IPY_MODEL_6c2d2b966b71427c8a296de7b5fdbee9",
        "IPY_MODEL_29c9d024e3284398b37d8c8ff9498040",
        "IPY_MODEL_0422fc9e97034f00ac642c27dd5431de",
        "IPY_MODEL_9d232ff60be64d56b6291ce13dbdc6a0",
        "IPY_MODEL_edb8863fb3ab4203aea29b15e918b5db",
        "IPY_MODEL_ff950bea55b84fa291538aec09957d8c",
        "IPY_MODEL_5937cc7f541d43499b1c3888f1d3641e",
        "IPY_MODEL_ed60d8c7264a4c89ae302a54daa62d4a"
       ],
       "layout": "IPY_MODEL_18bb67e57716481aa9523c11f56526d6"
      }
     },
     "b407c9d64a6f41f6af2e9fb8c5d878cb": {
      "model_module": "@jupyter-widgets/controls",
      "model_module_version": "1.5.0",
      "model_name": "DescriptionStyleModel",
      "state": {
       "description_width": ""
      }
     },
     "b41a0aa35ac54ab0bc3a93346e5244ff": {
      "model_module": "@jupyter-widgets/output",
      "model_module_version": "1.0.0",
      "model_name": "OutputModel",
      "state": {
       "layout": "IPY_MODEL_0fe1394f8def4a8489314958f7b4d6b5",
       "outputs": [
        {
         "data": {
          "application/vnd.jupyter.widget-view+json": {
           "model_id": "9bb932fb35724c3dbe90b7ede90c08ab",
           "version_major": 2,
           "version_minor": 0
          },
          "text/plain": "Canvas(toolbar=Toolbar(toolitems=[('Home', 'Reset original view', 'home', 'home'), ('Back', 'Back to previous …"
         },
         "metadata": {},
         "output_type": "display_data"
        }
       ]
      }
     },
     "b42678c0bb254ccd90af1533d07389a9": {
      "model_module": "@jupyter-widgets/controls",
      "model_module_version": "1.5.0",
      "model_name": "ButtonModel",
      "state": {
       "description": "Poço Triangular",
       "layout": "IPY_MODEL_cdfccc79610046ccaf90aa7e9ee2d200",
       "style": "IPY_MODEL_4e557a363e82449cb6310676a48bb7fb"
      }
     },
     "b431e871dc404573b2751913a87298a3": {
      "model_module": "@jupyter-widgets/base",
      "model_module_version": "1.2.0",
      "model_name": "LayoutModel",
      "state": {}
     },
     "b4657e3a524d4ad8980c16921b9e3142": {
      "model_module": "@jupyter-widgets/controls",
      "model_module_version": "1.5.0",
      "model_name": "GridBoxModel",
      "state": {
       "children": [
        "IPY_MODEL_931105b95e6e430e9be01b2a1d092586",
        "IPY_MODEL_c50560ff8faa4f6b8393e9797713e136",
        "IPY_MODEL_75680f6a4f1c48c8bdf6d15f15d69757",
        "IPY_MODEL_cf3efe7474f348ec8463d8d91352bbe2",
        "IPY_MODEL_904c82ed89da4f47a4f894fc1b6c9c8c",
        "IPY_MODEL_d754c616750c4ebc9d8208fd017e9370",
        "IPY_MODEL_505ff18cf6c14549b109612c7a16ce21",
        "IPY_MODEL_5f45262fb52248349b7b2130e5aa6184",
        "IPY_MODEL_3d2c953379fa46d0977423175b5e2d2a",
        "IPY_MODEL_d09656ad5fb54f67b42163ccae1efbd1"
       ],
       "layout": "IPY_MODEL_3054dd6a42c14403adb237696c918860"
      }
     },
     "b488cc7dfbb343169a41afeec533f6aa": {
      "model_module": "@jupyter-widgets/controls",
      "model_module_version": "1.5.0",
      "model_name": "AccordionModel",
      "state": {
       "_titles": {
        "0": "Diagonalizar/Informações"
       },
       "children": [
        "IPY_MODEL_a8b8be87e5574962b6789b8d08de79f8"
       ],
       "layout": "IPY_MODEL_081ba2439ee3442da3f5a743558fadb2",
       "selected_index": null
      }
     },
     "b48eaf13e3c842ac88d3b2b8605e3570": {
      "model_module": "@jupyter-widgets/controls",
      "model_module_version": "1.5.0",
      "model_name": "IntSliderModel",
      "state": {
       "continuous_update": false,
       "description": "Número de pontos: ",
       "layout": "IPY_MODEL_68c51c051cb44ff8abf5058b8b77093c",
       "max": 1050,
       "min": 50,
       "step": 10,
       "style": "IPY_MODEL_e9081ef450b340628278a79a3e689eec",
       "value": 550
      }
     },
     "b4b1d14432374828ac544704a09cc59f": {
      "model_module": "@jupyter-widgets/controls",
      "model_module_version": "1.5.0",
      "model_name": "VBoxModel",
      "state": {
       "children": [
        "IPY_MODEL_9169969e1ca54dac89db4d5045e94663",
        "IPY_MODEL_13f7e5be90bd429e8e80d0ffde27759c",
        "IPY_MODEL_b6eb7cf0a0774610abf4e62c4f629622"
       ],
       "layout": "IPY_MODEL_5b9d9478f5d549e380a29d66c1fcbfbd"
      }
     },
     "b4c3b799b1244472ab73099a492f427f": {
      "model_module": "@jupyter-widgets/base",
      "model_module_version": "1.2.0",
      "model_name": "LayoutModel",
      "state": {}
     },
     "b5342f8ff6634319987b889b5453e640": {
      "model_module": "@jupyter-widgets/controls",
      "model_module_version": "1.5.0",
      "model_name": "IntSliderModel",
      "state": {
       "continuous_update": false,
       "description": "Número de pontos: ",
       "layout": "IPY_MODEL_27b89221c50646e7ad6fa7dd3ba9ef03",
       "max": 1050,
       "min": 50,
       "step": 10,
       "style": "IPY_MODEL_7c334ae1a9f04a489f6a12147ea6ecf4",
       "value": 550
      }
     },
     "b53ec682a9584efe8b2564ade1bbecea": {
      "model_module": "@jupyter-widgets/controls",
      "model_module_version": "1.5.0",
      "model_name": "ButtonModel",
      "state": {
       "description": "Campo Uniforme (+)",
       "layout": "IPY_MODEL_e498adcca5db483f8e0169dbdd522a87",
       "style": "IPY_MODEL_27cf8ff63bac45f1a6e6410eaf5a4b12"
      }
     },
     "b591ef0b992d44e4aa8dc5f801b58fab": {
      "model_module": "@jupyter-widgets/base",
      "model_module_version": "1.2.0",
      "model_name": "LayoutModel",
      "state": {}
     },
     "b5a82c37aeb34acd82b1244b086f3219": {
      "model_module": "@jupyter-widgets/base",
      "model_module_version": "1.2.0",
      "model_name": "LayoutModel",
      "state": {}
     },
     "b5ce5b63eb9e44f181de8c2ac4ccfc44": {
      "model_module": "@jupyter-widgets/controls",
      "model_module_version": "1.5.0",
      "model_name": "DescriptionStyleModel",
      "state": {
       "description_width": "initial"
      }
     },
     "b5d942d3f67b4dafb88f7fe22ef18ff0": {
      "model_module": "@jupyter-widgets/controls",
      "model_module_version": "1.5.0",
      "model_name": "DescriptionStyleModel",
      "state": {
       "description_width": ""
      }
     },
     "b5f3f25b52594597aaaf7624fa2454e0": {
      "model_module": "@jupyter-widgets/controls",
      "model_module_version": "1.5.0",
      "model_name": "IntRangeSliderModel",
      "state": {
       "_model_name": "IntRangeSliderModel",
       "_view_name": "IntRangeSliderView",
       "continuous_update": false,
       "description": "Plotar estados:",
       "layout": "IPY_MODEL_5236d5a105df4481ab46f86aee6cf699",
       "max": 20,
       "style": "IPY_MODEL_12f52677fdf646df9c2d35f99c623a5c",
       "value": [
        0,
        10
       ]
      }
     },
     "b5f5df91f77b4568ac984c13e569f60b": {
      "model_module": "@jupyter-widgets/controls",
      "model_module_version": "1.5.0",
      "model_name": "ButtonStyleModel",
      "state": {}
     },
     "b60d7cb0e5e542f694a4904510454c1f": {
      "model_module": "@jupyter-widgets/controls",
      "model_module_version": "1.5.0",
      "model_name": "ButtonModel",
      "state": {
       "description": "Duffing Holmes (+)",
       "layout": "IPY_MODEL_7f2ac820e544469fb1da5fa5cce7c43c",
       "style": "IPY_MODEL_3abbb29add434ce0a5c6f1dc06011bd9"
      }
     },
     "b64134b03255400e8fc922b872b4c953": {
      "model_module": "@jupyter-widgets/base",
      "model_module_version": "1.2.0",
      "model_name": "LayoutModel",
      "state": {}
     },
     "b6a54f11b3a24611bd4bc37c35b95afa": {
      "model_module": "@jupyter-widgets/controls",
      "model_module_version": "1.5.0",
      "model_name": "DescriptionStyleModel",
      "state": {
       "description_width": ""
      }
     },
     "b6b90204f0754deba093a81c7ca5ef3a": {
      "model_module": "@jupyter-widgets/controls",
      "model_module_version": "1.5.0",
      "model_name": "GridBoxModel",
      "state": {
       "children": [
        "IPY_MODEL_214ea71cd3df441186338377e772c035",
        "IPY_MODEL_68011561e9964ecba03b20a2afb04f9c",
        "IPY_MODEL_97a007f8fe3b415ab035d9d4b18713fd",
        "IPY_MODEL_506b15240e064073b38cfc37fa62387a",
        "IPY_MODEL_7c77e4a9510d427a88a88bfa7b2ef776",
        "IPY_MODEL_9dd8a8f798c64dd481561eb98c4a78f7",
        "IPY_MODEL_1a18276a85be4407bf172050142150f8",
        "IPY_MODEL_42b85a744c8d4f8785209b94c2ac3db3",
        "IPY_MODEL_c64a2e0560e349629a75eaad0675bc49",
        "IPY_MODEL_4c8b8f39b74c442cbb4c0c19428753f1"
       ],
       "layout": "IPY_MODEL_cda0800aa9334fdb9de159a1f4f2f003"
      }
     },
     "b6eb7cf0a0774610abf4e62c4f629622": {
      "model_module": "@jupyter-widgets/controls",
      "model_module_version": "1.5.0",
      "model_name": "AccordionModel",
      "state": {
       "_titles": {
        "0": "Diagonalizar/Informações"
       },
       "children": [
        "IPY_MODEL_fe3399d721514768a38b9013486b4a20"
       ],
       "layout": "IPY_MODEL_9bdeb0f6c4184ae09f9cd79b8a6e27f8"
      }
     },
     "b7390e4a51e046f99cc9047a012ae7f9": {
      "model_module": "@jupyter-widgets/controls",
      "model_module_version": "1.5.0",
      "model_name": "DescriptionStyleModel",
      "state": {
       "description_width": ""
      }
     },
     "b75f331040904f96992c5c272aaf5449": {
      "model_module": "@jupyter-widgets/controls",
      "model_module_version": "1.5.0",
      "model_name": "CheckboxModel",
      "state": {
       "description": "Auto limitar eixo y",
       "disabled": false,
       "layout": "IPY_MODEL_f3abc72a88444141819031da88dac423",
       "style": "IPY_MODEL_3bb2fcf69057434b8ff36b56d5395dc7",
       "value": true
      }
     },
     "b7a6f499d7d643a3809a685975d50db6": {
      "model_module": "@jupyter-widgets/controls",
      "model_module_version": "1.5.0",
      "model_name": "ButtonStyleModel",
      "state": {}
     },
     "b7cc6cc6bcd34c78823507f24dab7298": {
      "model_module": "@jupyter-widgets/base",
      "model_module_version": "1.2.0",
      "model_name": "LayoutModel",
      "state": {}
     },
     "b7ce5f6abe1a4d0ca15c00caaee5ad05": {
      "model_module": "@jupyter-widgets/base",
      "model_module_version": "1.2.0",
      "model_name": "LayoutModel",
      "state": {}
     },
     "b7db0845245646c2b255f5360720f3b8": {
      "model_module": "@jupyter-widgets/controls",
      "model_module_version": "1.5.0",
      "model_name": "LabelModel",
      "state": {
       "layout": "IPY_MODEL_6081fac0d3a64be8990afa656a6d7ab5",
       "style": "IPY_MODEL_e683a3fcb275485da07049b2ffc50ab6",
       "value": " 0.13"
      }
     },
     "b7e43139d5984294af8d65c0b194d354": {
      "model_module": "@jupyter-widgets/base",
      "model_module_version": "1.2.0",
      "model_name": "LayoutModel",
      "state": {}
     },
     "b80b17b02c62467baae8dd50c688a47e": {
      "model_module": "@jupyter-widgets/controls",
      "model_module_version": "1.5.0",
      "model_name": "LabelModel",
      "state": {
       "layout": "IPY_MODEL_d4d4c52d3b5745d9b7b3cc3a7e36b463",
       "style": "IPY_MODEL_3243c8e227744a3f86c2e65f4b8640a0",
       "value": "Expressão V(x) ="
      }
     },
     "b84ef5f6c5ea4828ae4d18d351ea640b": {
      "model_module": "@jupyter-widgets/controls",
      "model_module_version": "1.5.0",
      "model_name": "DescriptionStyleModel",
      "state": {
       "description_width": ""
      }
     },
     "b896ad0004bf47aa835e97d5ab216a4b": {
      "model_module": "@jupyter-widgets/controls",
      "model_module_version": "1.5.0",
      "model_name": "LabelModel",
      "state": {
       "layout": "IPY_MODEL_b64134b03255400e8fc922b872b4c953",
       "style": "IPY_MODEL_5c86b8d81b724203a935a347e5157574",
       "value": "Largura do domínio (angstroms) ="
      }
     },
     "b8f34f0d0f8245aeb246550b4bd256ae": {
      "model_module": "@jupyter-widgets/controls",
      "model_module_version": "1.5.0",
      "model_name": "ButtonStyleModel",
      "state": {}
     },
     "b929bdecfeb248048961c93858e712cb": {
      "model_module": "jupyter-matplotlib",
      "model_module_version": "^0.9.0",
      "model_name": "ToolbarModel",
      "state": {
       "layout": "IPY_MODEL_01449e4d19f6487393c8f2ea670cabcb",
       "toolitems": [
        [
         "Home",
         "Reset original view",
         "home",
         "home"
        ],
        [
         "Back",
         "Back to previous view",
         "arrow-left",
         "back"
        ],
        [
         "Forward",
         "Forward to next view",
         "arrow-right",
         "forward"
        ],
        [
         "Pan",
         "Left button pans, Right button zooms\nx/y fixes axis, CTRL fixes aspect",
         "arrows",
         "pan"
        ],
        [
         "Zoom",
         "Zoom to rectangle\nx/y fixes axis, CTRL fixes aspect",
         "square-o",
         "zoom"
        ],
        [
         "Download",
         "Download plot",
         "floppy-o",
         "save_figure"
        ]
       ]
      }
     },
     "b92a3113b8fa480493ff66bdc4ab7fe5": {
      "model_module": "@jupyter-widgets/controls",
      "model_module_version": "1.5.0",
      "model_name": "LabelModel",
      "state": {
       "layout": "IPY_MODEL_72c351c893404f8bb37a98b571087602",
       "style": "IPY_MODEL_089cecc95a5e4781a106904d48a07677",
       "value": "Expressão V(x) ="
      }
     },
     "b938f4940b764e029d755172b88551d7": {
      "model_module": "@jupyter-widgets/controls",
      "model_module_version": "1.5.0",
      "model_name": "ButtonStyleModel",
      "state": {}
     },
     "b95e8569acd740558ae5492f8005b09b": {
      "model_module": "@jupyter-widgets/output",
      "model_module_version": "1.0.0",
      "model_name": "OutputModel",
      "state": {
       "layout": "IPY_MODEL_6bd869fa16bc46d8b10ec71222481194"
      }
     },
     "b9777ddd51ed440fa050cc2fd750615a": {
      "model_module": "@jupyter-widgets/controls",
      "model_module_version": "1.5.0",
      "model_name": "DescriptionStyleModel",
      "state": {
       "description_width": ""
      }
     },
     "b9d2de48c71a4e599d5562d16d09b0e5": {
      "model_module": "@jupyter-widgets/controls",
      "model_module_version": "1.5.0",
      "model_name": "DescriptionStyleModel",
      "state": {
       "description_width": "initial"
      }
     },
     "b9dd58b3fb7940e191d119fdbcf4225b": {
      "model_module": "@jupyter-widgets/controls",
      "model_module_version": "1.5.0",
      "model_name": "DescriptionStyleModel",
      "state": {
       "description_width": ""
      }
     },
     "ba046f88b18b4bc381fdabe698c19480": {
      "model_module": "@jupyter-widgets/controls",
      "model_module_version": "1.5.0",
      "model_name": "SliderStyleModel",
      "state": {
       "description_width": "initial"
      }
     },
     "ba27349e5f5b476092befdc5f47e7edd": {
      "model_module": "@jupyter-widgets/controls",
      "model_module_version": "1.5.0",
      "model_name": "TextModel",
      "state": {
       "description": "Expressão de $V(x)$: ",
       "layout": "IPY_MODEL_69cf41ff543e47358fa11aec2440c8d7",
       "placeholder": "Escreva a expressão aqui.",
       "style": "IPY_MODEL_0c6b9ab12b8340989c3806f138d54b18",
       "value": "3.5*(np.exp(-2*(0.1*(x/ang) + 2.75)) - 2*np.exp(-(0.1*(x/ang) + 2.75)))"
      }
     },
     "ba65afb9f34047729f79318cfb60575a": {
      "model_module": "@jupyter-widgets/base",
      "model_module_version": "1.2.0",
      "model_name": "LayoutModel",
      "state": {}
     },
     "ba68bd5408614615b526bfda503b298b": {
      "model_module": "@jupyter-widgets/controls",
      "model_module_version": "1.5.0",
      "model_name": "ButtonStyleModel",
      "state": {}
     },
     "ba8d3fe918724f8eb87cbb1802c8d98e": {
      "model_module": "@jupyter-widgets/controls",
      "model_module_version": "1.5.0",
      "model_name": "ButtonStyleModel",
      "state": {}
     },
     "baa4afb065be4daaaad71d702f393739": {
      "model_module": "@jupyter-widgets/controls",
      "model_module_version": "1.5.0",
      "model_name": "ButtonModel",
      "state": {
       "description": "Duffing Holmes (+)",
       "layout": "IPY_MODEL_a15af9f8b7fd4c0b899f2d307907f449",
       "style": "IPY_MODEL_83295650217f47448e6c65fb027a4d2b"
      }
     },
     "babcd2279f1643baa5ae8dc958df234f": {
      "model_module": "@jupyter-widgets/base",
      "model_module_version": "1.2.0",
      "model_name": "LayoutModel",
      "state": {}
     },
     "bad9b2cb673a404fa3d2e86dc5742c65": {
      "model_module": "@jupyter-widgets/base",
      "model_module_version": "1.2.0",
      "model_name": "LayoutModel",
      "state": {}
     },
     "badd12d06b424ade9d3628059dcf523e": {
      "model_module": "@jupyter-widgets/controls",
      "model_module_version": "1.5.0",
      "model_name": "ButtonStyleModel",
      "state": {}
     },
     "baeec85885464de881c6b6d69ffdc6ed": {
      "model_module": "@jupyter-widgets/base",
      "model_module_version": "1.2.0",
      "model_name": "LayoutModel",
      "state": {}
     },
     "baf74f417d9949c2b803a1d585661dfd": {
      "model_module": "@jupyter-widgets/base",
      "model_module_version": "1.2.0",
      "model_name": "LayoutModel",
      "state": {}
     },
     "bb0df3aadc724b6caa64b1a4fadd4abb": {
      "model_module": "@jupyter-widgets/controls",
      "model_module_version": "1.5.0",
      "model_name": "LabelModel",
      "state": {
       "layout": "IPY_MODEL_e0ad49f724a64dc2b082bfc3e9c98a4a",
       "style": "IPY_MODEL_4cb60732105548b8ac3999d643d64f98",
       "value": " 70.00"
      }
     },
     "bb239923e8584bb88c8a3894aa7c34e4": {
      "model_module": "@jupyter-widgets/base",
      "model_module_version": "1.2.0",
      "model_name": "LayoutModel",
      "state": {}
     },
     "bb31950a8d064b87910aad089417d6a6": {
      "model_module": "@jupyter-widgets/controls",
      "model_module_version": "1.5.0",
      "model_name": "ButtonModel",
      "state": {
       "description": "Duffing Holmes (-)",
       "layout": "IPY_MODEL_fbc25331f46643459f00213f5f537ec5",
       "style": "IPY_MODEL_9bc24a01ee5c40129aeb3fc0cf6a5448"
      }
     },
     "bb589477ed7c45e78ca4524a65618a9e": {
      "model_module": "@jupyter-widgets/controls",
      "model_module_version": "1.5.0",
      "model_name": "ButtonModel",
      "state": {
       "description": "Poço Infinito",
       "layout": "IPY_MODEL_44ec8d951fa4459bbfa45c9667ca5239",
       "style": "IPY_MODEL_ab8006ea274d4e3c92cf4283def038cc"
      }
     },
     "bb9b89ca167749bb8275943d7e3ecb02": {
      "model_module": "@jupyter-widgets/controls",
      "model_module_version": "1.5.0",
      "model_name": "FloatRangeSliderModel",
      "state": {
       "_model_name": "FloatRangeSliderModel",
       "_view_name": "FloatRangeSliderView",
       "description": "Limites do eixo y (eV):",
       "layout": "IPY_MODEL_27d298ae1d4842cf9f812d6a3b8ed8d2",
       "max": 10,
       "min": -10,
       "readout_format": ".1f",
       "step": 0.005,
       "style": "IPY_MODEL_66b9cb26639d4efb816edae57f83d87e",
       "value": [
        -2,
        2
       ]
      }
     },
     "bba41ed4556442fb961571de01e6b69e": {
      "model_module": "@jupyter-widgets/base",
      "model_module_version": "1.2.0",
      "model_name": "LayoutModel",
      "state": {
       "width": "100%"
      }
     },
     "bbb841afc01b4ad190c0d4b21fe3737b": {
      "model_module": "@jupyter-widgets/controls",
      "model_module_version": "1.5.0",
      "model_name": "IntSliderModel",
      "state": {
       "continuous_update": false,
       "description": "Número de pontos: ",
       "layout": "IPY_MODEL_d838689213c84e6095433f5b4242ef15",
       "max": 1050,
       "min": 50,
       "step": 10,
       "style": "IPY_MODEL_0795927b44f74f18831d82de7caf84b2",
       "value": 550
      }
     },
     "bbdbcbd8ebfe463bab64a2bb82e7b5db": {
      "model_module": "@jupyter-widgets/controls",
      "model_module_version": "1.5.0",
      "model_name": "GridBoxModel",
      "state": {
       "children": [
        "IPY_MODEL_47bc5d21db1044548d72c3aabe16892d",
        "IPY_MODEL_68857452a78342f5b71dfcf8eacfebd2",
        "IPY_MODEL_1b1a31f6b75e4982b28385a1f6baeb66",
        "IPY_MODEL_8d46497f29f84b1ca7505fe4e57e1adc",
        "IPY_MODEL_f7bbe9da6603480886b2e06a203d5239",
        "IPY_MODEL_4218a6196f934b06a275dca515865a31",
        "IPY_MODEL_6eba48361b8f401aa64ebc1d79f12ed7",
        "IPY_MODEL_7a8707f97b3b4f8eb78f9b31d0d52f0f",
        "IPY_MODEL_cb44bdf78bf34230a58a10197870bb8b",
        "IPY_MODEL_529d19a030204693bd19776cc59a971f"
       ],
       "layout": "IPY_MODEL_e2a13e515cf04c68b9a8543cfe8b1ee6"
      }
     },
     "bbee93e8ca2c4f1784bc7bb38e8a233b": {
      "model_module": "@jupyter-widgets/controls",
      "model_module_version": "1.5.0",
      "model_name": "FloatRangeSliderModel",
      "state": {
       "_model_name": "FloatRangeSliderModel",
       "_view_name": "FloatRangeSliderView",
       "description": "Limites do eixo y (eV):",
       "layout": "IPY_MODEL_4453439b85e9436890b7c25efe9dbc55",
       "max": 10,
       "min": -10,
       "readout_format": ".1f",
       "step": 0.005,
       "style": "IPY_MODEL_59c8878638bf4d85944ad51ae2824112",
       "value": [
        -2,
        2
       ]
      }
     },
     "bc057036098947bb9cdf3640cbcaeb18": {
      "model_module": "@jupyter-widgets/controls",
      "model_module_version": "1.5.0",
      "model_name": "LabelModel",
      "state": {
       "layout": "IPY_MODEL_9e9b5576fec84e419de0ae8b8cfcfad2",
       "style": "IPY_MODEL_6c3d493ca554415eb6d6cb73a68d57fd",
       "value": " 550"
      }
     },
     "bc2be9e3ba6a47ebb89b6e0933f66239": {
      "model_module": "@jupyter-widgets/base",
      "model_module_version": "1.2.0",
      "model_name": "LayoutModel",
      "state": {
       "display": "flex",
       "width": "90%"
      }
     },
     "bc39c7d762604fdfa6d4e482e77ec072": {
      "model_module": "@jupyter-widgets/base",
      "model_module_version": "1.2.0",
      "model_name": "LayoutModel",
      "state": {}
     },
     "bc48e2ae14c14f85b16332c0c1f5d57d": {
      "model_module": "@jupyter-widgets/controls",
      "model_module_version": "1.5.0",
      "model_name": "GridBoxModel",
      "state": {
       "children": [
        "IPY_MODEL_6674349c088c40aa97041356edd10f29",
        "IPY_MODEL_4b2bdd3e72964ab2bcb0ef12e3037a61",
        "IPY_MODEL_b53ec682a9584efe8b2564ade1bbecea",
        "IPY_MODEL_921420be6f37494f864343d5d5579336",
        "IPY_MODEL_a7e026126f5b46a7863cfea893803ac0",
        "IPY_MODEL_7b46d48ed205416e92cda320e1c856b3",
        "IPY_MODEL_b24a4701f68f4f56a5affbc8f23f31a6",
        "IPY_MODEL_52f9380cb5834a07a8b0e40cc2adbf56",
        "IPY_MODEL_cb3cbae7ac7a460a8448e9fb38c63152",
        "IPY_MODEL_783153f1634540ada12c2c6ef82c1917"
       ],
       "layout": "IPY_MODEL_5650a491f63d48a4a9212144a50b44cc"
      }
     },
     "bc4d2de4438c4277bfc0484164fcc9fd": {
      "model_module": "@jupyter-widgets/controls",
      "model_module_version": "1.5.0",
      "model_name": "DescriptionStyleModel",
      "state": {
       "description_width": ""
      }
     },
     "bc51127f8d364fe59dc208006f0c0f65": {
      "model_module": "@jupyter-widgets/controls",
      "model_module_version": "1.5.0",
      "model_name": "LabelModel",
      "state": {
       "layout": "IPY_MODEL_c57756f277624a39bec774197a75a3e1",
       "style": "IPY_MODEL_f424c0dcb40c48b48a12fa95a84f0b08",
       "value": " 0.13"
      }
     },
     "bc68ea99cbc542d291ee1f1f7691e1b0": {
      "model_module": "@jupyter-widgets/base",
      "model_module_version": "1.2.0",
      "model_name": "LayoutModel",
      "state": {}
     },
     "bca1205f9fbe4c40bea787df2a399b9f": {
      "model_module": "@jupyter-widgets/controls",
      "model_module_version": "1.5.0",
      "model_name": "ButtonStyleModel",
      "state": {}
     },
     "bcc2a59b978e480fb01a8af12650dd9e": {
      "model_module": "@jupyter-widgets/base",
      "model_module_version": "1.2.0",
      "model_name": "LayoutModel",
      "state": {}
     },
     "bcf4b7f13dd84a83b365f316a9be9e9c": {
      "model_module": "@jupyter-widgets/base",
      "model_module_version": "1.2.0",
      "model_name": "LayoutModel",
      "state": {}
     },
     "bdc2bcf1b79c48aa964564a82f4381ae": {
      "model_module": "@jupyter-widgets/controls",
      "model_module_version": "1.5.0",
      "model_name": "ButtonStyleModel",
      "state": {}
     },
     "bdcc9a807a114ebeb67443c7d0fd8615": {
      "model_module": "@jupyter-widgets/base",
      "model_module_version": "1.2.0",
      "model_name": "LayoutModel",
      "state": {}
     },
     "bddd5330d4644714b907bafd5aa8ee8f": {
      "model_module": "@jupyter-widgets/base",
      "model_module_version": "1.2.0",
      "model_name": "LayoutModel",
      "state": {}
     },
     "be15b3b5c50f4be884044f2cc1b3c92b": {
      "model_module": "@jupyter-widgets/controls",
      "model_module_version": "1.5.0",
      "model_name": "GridBoxModel",
      "state": {
       "children": [
        "IPY_MODEL_1a1123bde55b4457915278d5ea2e4fac",
        "IPY_MODEL_5b1e7bd95ddc4fe1aea4f41c5937bc4c",
        "IPY_MODEL_3cdce008dcd74464aa71367e14c83543",
        "IPY_MODEL_3e8cbfae09424ca8ae5327cd3d8480d0",
        "IPY_MODEL_c1549daaf8f340da942a994177f57386",
        "IPY_MODEL_27dba2895f6a41f7852be0eae08af8ff",
        "IPY_MODEL_b92a3113b8fa480493ff66bdc4ab7fe5",
        "IPY_MODEL_72b3983766d04b31a2e311ac234d2502",
        "IPY_MODEL_48a6b4775821471b86252b1334882f52",
        "IPY_MODEL_05a8ad8bd68b4b2fae9d99451dd042ca"
       ],
       "layout": "IPY_MODEL_4ef261236038472881ad19154b4a238f"
      }
     },
     "be34588a6b08467691b36fc0e1c34ceb": {
      "model_module": "@jupyter-widgets/base",
      "model_module_version": "1.2.0",
      "model_name": "LayoutModel",
      "state": {}
     },
     "be370dc67adf4f40829cb2d9a719e1da": {
      "model_module": "@jupyter-widgets/controls",
      "model_module_version": "1.5.0",
      "model_name": "ButtonStyleModel",
      "state": {}
     },
     "be4614e51c2c4bc28693aaf37f128090": {
      "model_module": "@jupyter-widgets/controls",
      "model_module_version": "1.5.0",
      "model_name": "IntSliderModel",
      "state": {
       "continuous_update": false,
       "description": "Número de pontos: ",
       "layout": "IPY_MODEL_21455e0c53a34a9bbf221a1873be28b1",
       "max": 1050,
       "min": 50,
       "step": 10,
       "style": "IPY_MODEL_fa45f54dc3fb4755a8e92dfe8f610043",
       "value": 550
      }
     },
     "be4e443c9b3a4c87a3460939c380d53e": {
      "model_module": "@jupyter-widgets/controls",
      "model_module_version": "1.5.0",
      "model_name": "IntSliderModel",
      "state": {
       "continuous_update": false,
       "description": "Número de pontos: ",
       "layout": "IPY_MODEL_7a4971e7f39242099a240552f9ec5a68",
       "max": 1050,
       "min": 50,
       "step": 10,
       "style": "IPY_MODEL_d6d449d50e1d454398c34c929b46b0d1",
       "value": 550
      }
     },
     "be521859c97f4ab899f4ac9aa05929d5": {
      "model_module": "@jupyter-widgets/base",
      "model_module_version": "1.2.0",
      "model_name": "LayoutModel",
      "state": {}
     },
     "be5af0a4fe4a499b997d7762be2deac8": {
      "model_module": "@jupyter-widgets/base",
      "model_module_version": "1.2.0",
      "model_name": "LayoutModel",
      "state": {}
     },
     "be63c13cd4684f3abd3ee4bc49c5d7f6": {
      "model_module": "@jupyter-widgets/controls",
      "model_module_version": "1.5.0",
      "model_name": "DescriptionStyleModel",
      "state": {
       "description_width": ""
      }
     },
     "be7a4f11cc3c462d945995177d859821": {
      "model_module": "@jupyter-widgets/base",
      "model_module_version": "1.2.0",
      "model_name": "LayoutModel",
      "state": {}
     },
     "be8d86299e814f8cab118d1d3670585d": {
      "model_module": "@jupyter-widgets/base",
      "model_module_version": "1.2.0",
      "model_name": "LayoutModel",
      "state": {}
     },
     "bed6b00d432a47009004e044b306e627": {
      "model_module": "@jupyter-widgets/controls",
      "model_module_version": "1.5.0",
      "model_name": "ButtonModel",
      "state": {
       "description": "Diagonalizar",
       "layout": "IPY_MODEL_e75393f27ae9477fbc102c02f9329d94",
       "style": "IPY_MODEL_17dac8ecbdf042e0babaeab9e8d6ae13"
      }
     },
     "bef50b6bc4d74057815ea3eaa8959611": {
      "model_module": "@jupyter-widgets/controls",
      "model_module_version": "1.5.0",
      "model_name": "LabelModel",
      "state": {
       "layout": "IPY_MODEL_9edd876a68614db0862b953e4fe65f4b",
       "style": "IPY_MODEL_876420e90dfe4bf1b06b2fe6353752f8",
       "value": "[0.00000 , 1.95739]"
      }
     },
     "bf1d321e1c494dd89e87a49b4ab62381": {
      "model_module": "@jupyter-widgets/controls",
      "model_module_version": "1.5.0",
      "model_name": "ButtonStyleModel",
      "state": {}
     },
     "bf2c2d9de5eb411a9c904b71709251ee": {
      "model_module": "@jupyter-widgets/base",
      "model_module_version": "1.2.0",
      "model_name": "LayoutModel",
      "state": {}
     },
     "bf7edd51ec9646869143749753b83955": {
      "model_module": "@jupyter-widgets/base",
      "model_module_version": "1.2.0",
      "model_name": "LayoutModel",
      "state": {
       "width": "100%"
      }
     },
     "bf8bf06c3fdf496689f3e0fd30bd2a3a": {
      "model_module": "@jupyter-widgets/controls",
      "model_module_version": "1.5.0",
      "model_name": "ButtonModel",
      "state": {
       "description": "Oscilador Harmônico",
       "layout": "IPY_MODEL_72602d02686c4db9ac47dcbe01922ec1",
       "style": "IPY_MODEL_5d67c7f70c74454193449bb65f9bc22f"
      }
     },
     "bfd161f729bd48b6bf0e3967b849dda8": {
      "model_module": "@jupyter-widgets/controls",
      "model_module_version": "1.5.0",
      "model_name": "LabelModel",
      "state": {
       "layout": "IPY_MODEL_0aeef3a7b60d46cbb1c1b7e5bc5655a5",
       "style": "IPY_MODEL_afef1494e9ad42429c28bb9ca642b3fa",
       "value": " 70.00"
      }
     },
     "c010b4c6318c474980c2c635a4dd9dc9": {
      "model_module": "@jupyter-widgets/controls",
      "model_module_version": "1.5.0",
      "model_name": "ButtonStyleModel",
      "state": {}
     },
     "c01a9a9eab854943b2716c8ca8dd8646": {
      "model_module": "@jupyter-widgets/controls",
      "model_module_version": "1.5.0",
      "model_name": "AccordionModel",
      "state": {
       "_titles": {
        "0": "Diagonalizar/Informações"
       },
       "children": [
        "IPY_MODEL_03e525dfc1834648820b3e11ea1d8321"
       ],
       "layout": "IPY_MODEL_ae604c842bf04a28803697981be4b87b",
       "selected_index": null
      }
     },
     "c05395c8ada6481095612a293b28701a": {
      "model_module": "@jupyter-widgets/output",
      "model_module_version": "1.0.0",
      "model_name": "OutputModel",
      "state": {
       "layout": "IPY_MODEL_0788ddd0f22948518ab9480910ca7d10",
       "outputs": [
        {
         "ename": "TypeError",
         "evalue": "from_bounds() missing 2 required positional arguments: 'width' and 'height'",
         "output_type": "error",
         "traceback": [
          "\u001b[0;31m---------------------------------------------------------------------------\u001b[0m",
          "\u001b[0;31mTypeError\u001b[0m                                 Traceback (most recent call last)",
          "\u001b[0;32m~/miniconda3/lib/python3.9/site-packages/ipywidgets/widgets/interaction.py\u001b[0m in \u001b[0;36mupdate\u001b[0;34m(self, *args)\u001b[0m\n\u001b[1;32m    254\u001b[0m                     \u001b[0mvalue\u001b[0m \u001b[0;34m=\u001b[0m \u001b[0mwidget\u001b[0m\u001b[0;34m.\u001b[0m\u001b[0mget_interact_value\u001b[0m\u001b[0;34m(\u001b[0m\u001b[0;34m)\u001b[0m\u001b[0;34m\u001b[0m\u001b[0;34m\u001b[0m\u001b[0m\n\u001b[1;32m    255\u001b[0m                     \u001b[0mself\u001b[0m\u001b[0;34m.\u001b[0m\u001b[0mkwargs\u001b[0m\u001b[0;34m[\u001b[0m\u001b[0mwidget\u001b[0m\u001b[0;34m.\u001b[0m\u001b[0m_kwarg\u001b[0m\u001b[0;34m]\u001b[0m \u001b[0;34m=\u001b[0m \u001b[0mvalue\u001b[0m\u001b[0;34m\u001b[0m\u001b[0;34m\u001b[0m\u001b[0m\n\u001b[0;32m--> 256\u001b[0;31m                 \u001b[0mself\u001b[0m\u001b[0;34m.\u001b[0m\u001b[0mresult\u001b[0m \u001b[0;34m=\u001b[0m \u001b[0mself\u001b[0m\u001b[0;34m.\u001b[0m\u001b[0mf\u001b[0m\u001b[0;34m(\u001b[0m\u001b[0;34m**\u001b[0m\u001b[0mself\u001b[0m\u001b[0;34m.\u001b[0m\u001b[0mkwargs\u001b[0m\u001b[0;34m)\u001b[0m\u001b[0;34m\u001b[0m\u001b[0;34m\u001b[0m\u001b[0m\n\u001b[0m\u001b[1;32m    257\u001b[0m                 \u001b[0mshow_inline_matplotlib_plots\u001b[0m\u001b[0;34m(\u001b[0m\u001b[0;34m)\u001b[0m\u001b[0;34m\u001b[0m\u001b[0;34m\u001b[0m\u001b[0m\n\u001b[1;32m    258\u001b[0m                 \u001b[0;32mif\u001b[0m \u001b[0mself\u001b[0m\u001b[0;34m.\u001b[0m\u001b[0mauto_display\u001b[0m \u001b[0;32mand\u001b[0m \u001b[0mself\u001b[0m\u001b[0;34m.\u001b[0m\u001b[0mresult\u001b[0m \u001b[0;32mis\u001b[0m \u001b[0;32mnot\u001b[0m \u001b[0;32mNone\u001b[0m\u001b[0;34m:\u001b[0m\u001b[0;34m\u001b[0m\u001b[0;34m\u001b[0m\u001b[0m\n",
          "\u001b[0;32m<ipython-input-4-763866f49950>\u001b[0m in \u001b[0;36mplotall\u001b[0;34m(NES, limx, wav, xs, ys, dpi, limy, autolim)\u001b[0m\n\u001b[1;32m     95\u001b[0m \u001b[0;34m\u001b[0m\u001b[0m\n\u001b[1;32m     96\u001b[0m \u001b[0;32mdef\u001b[0m \u001b[0mplotall\u001b[0m\u001b[0;34m(\u001b[0m\u001b[0mNES\u001b[0m\u001b[0;34m,\u001b[0m\u001b[0mlimx\u001b[0m\u001b[0;34m,\u001b[0m\u001b[0mwav\u001b[0m\u001b[0;34m,\u001b[0m\u001b[0mxs\u001b[0m\u001b[0;34m,\u001b[0m\u001b[0mys\u001b[0m\u001b[0;34m,\u001b[0m\u001b[0mdpi\u001b[0m\u001b[0;34m,\u001b[0m\u001b[0mlimy\u001b[0m\u001b[0;34m,\u001b[0m\u001b[0mautolim\u001b[0m\u001b[0;34m)\u001b[0m\u001b[0;34m:\u001b[0m\u001b[0;34m\u001b[0m\u001b[0;34m\u001b[0m\u001b[0m\n\u001b[0;32m---> 97\u001b[0;31m     \u001b[0mfig\u001b[0m\u001b[0;34m,\u001b[0m \u001b[0max\u001b[0m \u001b[0;34m=\u001b[0m \u001b[0mplt\u001b[0m\u001b[0;34m.\u001b[0m\u001b[0msubplots\u001b[0m\u001b[0;34m(\u001b[0m\u001b[0mfigsize\u001b[0m\u001b[0;34m=\u001b[0m\u001b[0;34m(\u001b[0m\u001b[0;34m)\u001b[0m\u001b[0;34m,\u001b[0m\u001b[0mdpi\u001b[0m\u001b[0;34m=\u001b[0m\u001b[0mdpi\u001b[0m\u001b[0;34m)\u001b[0m\u001b[0;34m\u001b[0m\u001b[0;34m\u001b[0m\u001b[0m\n\u001b[0m\u001b[1;32m     98\u001b[0m     \u001b[0mfig\u001b[0m\u001b[0;34m.\u001b[0m\u001b[0mcanvas\u001b[0m\u001b[0;34m.\u001b[0m\u001b[0mlayout\u001b[0m\u001b[0;34m.\u001b[0m\u001b[0mwidth\u001b[0m \u001b[0;34m=\u001b[0m \u001b[0;34m'100%'\u001b[0m\u001b[0;34m\u001b[0m\u001b[0;34m\u001b[0m\u001b[0m\n\u001b[1;32m     99\u001b[0m     \u001b[0mfig\u001b[0m\u001b[0;34m.\u001b[0m\u001b[0mcanvas\u001b[0m\u001b[0;34m.\u001b[0m\u001b[0mlayout\u001b[0m\u001b[0;34m.\u001b[0m\u001b[0mheigth\u001b[0m \u001b[0;34m=\u001b[0m \u001b[0;34m'100%'\u001b[0m\u001b[0;34m\u001b[0m\u001b[0;34m\u001b[0m\u001b[0m\n",
          "\u001b[0;32m~/.local/lib/python3.9/site-packages/matplotlib/_api/deprecation.py\u001b[0m in \u001b[0;36mwrapper\u001b[0;34m(*args, **kwargs)\u001b[0m\n\u001b[1;32m    469\u001b[0m                 \u001b[0;34m\"parameter will become keyword-only %(removal)s.\"\u001b[0m\u001b[0;34m,\u001b[0m\u001b[0;34m\u001b[0m\u001b[0;34m\u001b[0m\u001b[0m\n\u001b[1;32m    470\u001b[0m                 name=name, obj_type=f\"parameter of {func.__name__}()\")\n\u001b[0;32m--> 471\u001b[0;31m         \u001b[0;32mreturn\u001b[0m \u001b[0mfunc\u001b[0m\u001b[0;34m(\u001b[0m\u001b[0;34m*\u001b[0m\u001b[0margs\u001b[0m\u001b[0;34m,\u001b[0m \u001b[0;34m**\u001b[0m\u001b[0mkwargs\u001b[0m\u001b[0;34m)\u001b[0m\u001b[0;34m\u001b[0m\u001b[0;34m\u001b[0m\u001b[0m\n\u001b[0m\u001b[1;32m    472\u001b[0m \u001b[0;34m\u001b[0m\u001b[0m\n\u001b[1;32m    473\u001b[0m     \u001b[0;32mreturn\u001b[0m \u001b[0mwrapper\u001b[0m\u001b[0;34m\u001b[0m\u001b[0;34m\u001b[0m\u001b[0m\n",
          "\u001b[0;32m~/.local/lib/python3.9/site-packages/matplotlib/pyplot.py\u001b[0m in \u001b[0;36msubplots\u001b[0;34m(nrows, ncols, sharex, sharey, squeeze, subplot_kw, gridspec_kw, **fig_kw)\u001b[0m\n\u001b[1;32m   1437\u001b[0m \u001b[0;34m\u001b[0m\u001b[0m\n\u001b[1;32m   1438\u001b[0m     \"\"\"\n\u001b[0;32m-> 1439\u001b[0;31m     \u001b[0mfig\u001b[0m \u001b[0;34m=\u001b[0m \u001b[0mfigure\u001b[0m\u001b[0;34m(\u001b[0m\u001b[0;34m**\u001b[0m\u001b[0mfig_kw\u001b[0m\u001b[0;34m)\u001b[0m\u001b[0;34m\u001b[0m\u001b[0;34m\u001b[0m\u001b[0m\n\u001b[0m\u001b[1;32m   1440\u001b[0m     axs = fig.subplots(nrows=nrows, ncols=ncols, sharex=sharex, sharey=sharey,\n\u001b[1;32m   1441\u001b[0m                        \u001b[0msqueeze\u001b[0m\u001b[0;34m=\u001b[0m\u001b[0msqueeze\u001b[0m\u001b[0;34m,\u001b[0m \u001b[0msubplot_kw\u001b[0m\u001b[0;34m=\u001b[0m\u001b[0msubplot_kw\u001b[0m\u001b[0;34m,\u001b[0m\u001b[0;34m\u001b[0m\u001b[0;34m\u001b[0m\u001b[0m\n",
          "\u001b[0;32m~/.local/lib/python3.9/site-packages/matplotlib/pyplot.py\u001b[0m in \u001b[0;36mfigure\u001b[0;34m(num, figsize, dpi, facecolor, edgecolor, frameon, FigureClass, clear, **kwargs)\u001b[0m\n\u001b[1;32m    795\u001b[0m                 RuntimeWarning)\n\u001b[1;32m    796\u001b[0m \u001b[0;34m\u001b[0m\u001b[0m\n\u001b[0;32m--> 797\u001b[0;31m         manager = new_figure_manager(\n\u001b[0m\u001b[1;32m    798\u001b[0m             \u001b[0mnum\u001b[0m\u001b[0;34m,\u001b[0m \u001b[0mfigsize\u001b[0m\u001b[0;34m=\u001b[0m\u001b[0mfigsize\u001b[0m\u001b[0;34m,\u001b[0m \u001b[0mdpi\u001b[0m\u001b[0;34m=\u001b[0m\u001b[0mdpi\u001b[0m\u001b[0;34m,\u001b[0m\u001b[0;34m\u001b[0m\u001b[0;34m\u001b[0m\u001b[0m\n\u001b[1;32m    799\u001b[0m             \u001b[0mfacecolor\u001b[0m\u001b[0;34m=\u001b[0m\u001b[0mfacecolor\u001b[0m\u001b[0;34m,\u001b[0m \u001b[0medgecolor\u001b[0m\u001b[0;34m=\u001b[0m\u001b[0medgecolor\u001b[0m\u001b[0;34m,\u001b[0m \u001b[0mframeon\u001b[0m\u001b[0;34m=\u001b[0m\u001b[0mframeon\u001b[0m\u001b[0;34m,\u001b[0m\u001b[0;34m\u001b[0m\u001b[0;34m\u001b[0m\u001b[0m\n",
          "\u001b[0;32m~/.local/lib/python3.9/site-packages/matplotlib/pyplot.py\u001b[0m in \u001b[0;36mnew_figure_manager\u001b[0;34m(*args, **kwargs)\u001b[0m\n\u001b[1;32m    314\u001b[0m     \u001b[0;34m\"\"\"Create a new figure manager instance.\"\"\"\u001b[0m\u001b[0;34m\u001b[0m\u001b[0;34m\u001b[0m\u001b[0m\n\u001b[1;32m    315\u001b[0m     \u001b[0m_warn_if_gui_out_of_main_thread\u001b[0m\u001b[0;34m(\u001b[0m\u001b[0;34m)\u001b[0m\u001b[0;34m\u001b[0m\u001b[0;34m\u001b[0m\u001b[0m\n\u001b[0;32m--> 316\u001b[0;31m     \u001b[0;32mreturn\u001b[0m \u001b[0m_backend_mod\u001b[0m\u001b[0;34m.\u001b[0m\u001b[0mnew_figure_manager\u001b[0m\u001b[0;34m(\u001b[0m\u001b[0;34m*\u001b[0m\u001b[0margs\u001b[0m\u001b[0;34m,\u001b[0m \u001b[0;34m**\u001b[0m\u001b[0mkwargs\u001b[0m\u001b[0;34m)\u001b[0m\u001b[0;34m\u001b[0m\u001b[0;34m\u001b[0m\u001b[0m\n\u001b[0m\u001b[1;32m    317\u001b[0m \u001b[0;34m\u001b[0m\u001b[0m\n\u001b[1;32m    318\u001b[0m \u001b[0;34m\u001b[0m\u001b[0m\n",
          "\u001b[0;32m~/.local/lib/python3.9/site-packages/matplotlib/backend_bases.py\u001b[0m in \u001b[0;36mnew_figure_manager\u001b[0;34m(cls, num, *args, **kwargs)\u001b[0m\n\u001b[1;32m   3542\u001b[0m         \u001b[0;32mfrom\u001b[0m \u001b[0mmatplotlib\u001b[0m\u001b[0;34m.\u001b[0m\u001b[0mfigure\u001b[0m \u001b[0;32mimport\u001b[0m \u001b[0mFigure\u001b[0m\u001b[0;34m\u001b[0m\u001b[0;34m\u001b[0m\u001b[0m\n\u001b[1;32m   3543\u001b[0m         \u001b[0mfig_cls\u001b[0m \u001b[0;34m=\u001b[0m \u001b[0mkwargs\u001b[0m\u001b[0;34m.\u001b[0m\u001b[0mpop\u001b[0m\u001b[0;34m(\u001b[0m\u001b[0;34m'FigureClass'\u001b[0m\u001b[0;34m,\u001b[0m \u001b[0mFigure\u001b[0m\u001b[0;34m)\u001b[0m\u001b[0;34m\u001b[0m\u001b[0;34m\u001b[0m\u001b[0m\n\u001b[0;32m-> 3544\u001b[0;31m         \u001b[0mfig\u001b[0m \u001b[0;34m=\u001b[0m \u001b[0mfig_cls\u001b[0m\u001b[0;34m(\u001b[0m\u001b[0;34m*\u001b[0m\u001b[0margs\u001b[0m\u001b[0;34m,\u001b[0m \u001b[0;34m**\u001b[0m\u001b[0mkwargs\u001b[0m\u001b[0;34m)\u001b[0m\u001b[0;34m\u001b[0m\u001b[0;34m\u001b[0m\u001b[0m\n\u001b[0m\u001b[1;32m   3545\u001b[0m         \u001b[0;32mreturn\u001b[0m \u001b[0mcls\u001b[0m\u001b[0;34m.\u001b[0m\u001b[0mnew_figure_manager_given_figure\u001b[0m\u001b[0;34m(\u001b[0m\u001b[0mnum\u001b[0m\u001b[0;34m,\u001b[0m \u001b[0mfig\u001b[0m\u001b[0;34m)\u001b[0m\u001b[0;34m\u001b[0m\u001b[0;34m\u001b[0m\u001b[0m\n\u001b[1;32m   3546\u001b[0m \u001b[0;34m\u001b[0m\u001b[0m\n",
          "\u001b[0;32m~/.local/lib/python3.9/site-packages/matplotlib/figure.py\u001b[0m in \u001b[0;36m__init__\u001b[0;34m(self, figsize, dpi, facecolor, edgecolor, linewidth, frameon, subplotpars, tight_layout, constrained_layout)\u001b[0m\n\u001b[1;32m   2242\u001b[0m             raise ValueError('figure size must be positive finite not '\n\u001b[1;32m   2243\u001b[0m                              f'{figsize}')\n\u001b[0;32m-> 2244\u001b[0;31m         \u001b[0mself\u001b[0m\u001b[0;34m.\u001b[0m\u001b[0mbbox_inches\u001b[0m \u001b[0;34m=\u001b[0m \u001b[0mBbox\u001b[0m\u001b[0;34m.\u001b[0m\u001b[0mfrom_bounds\u001b[0m\u001b[0;34m(\u001b[0m\u001b[0;36m0\u001b[0m\u001b[0;34m,\u001b[0m \u001b[0;36m0\u001b[0m\u001b[0;34m,\u001b[0m \u001b[0;34m*\u001b[0m\u001b[0mfigsize\u001b[0m\u001b[0;34m)\u001b[0m\u001b[0;34m\u001b[0m\u001b[0;34m\u001b[0m\u001b[0m\n\u001b[0m\u001b[1;32m   2245\u001b[0m \u001b[0;34m\u001b[0m\u001b[0m\n\u001b[1;32m   2246\u001b[0m         \u001b[0mself\u001b[0m\u001b[0;34m.\u001b[0m\u001b[0mdpi_scale_trans\u001b[0m \u001b[0;34m=\u001b[0m \u001b[0mAffine2D\u001b[0m\u001b[0;34m(\u001b[0m\u001b[0;34m)\u001b[0m\u001b[0;34m.\u001b[0m\u001b[0mscale\u001b[0m\u001b[0;34m(\u001b[0m\u001b[0mdpi\u001b[0m\u001b[0;34m)\u001b[0m\u001b[0;34m\u001b[0m\u001b[0;34m\u001b[0m\u001b[0m\n",
          "\u001b[0;31mTypeError\u001b[0m: from_bounds() missing 2 required positional arguments: 'width' and 'height'"
         ]
        }
       ]
      }
     },
     "c064ff357aff43afbc02a9169be41f64": {
      "model_module": "@jupyter-widgets/controls",
      "model_module_version": "1.5.0",
      "model_name": "TextModel",
      "state": {
       "description": "Expressão de $V(x)$: ",
       "layout": "IPY_MODEL_5236d5a105df4481ab46f86aee6cf699",
       "placeholder": "Escreva a expressão aqui.",
       "style": "IPY_MODEL_f3febfaeec18474ea2dfb5b7bf7a679a",
       "value": "-4*(np.cosh(0.1*x/ang)**(-2))"
      }
     },
     "c0c47dd0f36947d88242b3301c3192b8": {
      "model_module": "@jupyter-widgets/controls",
      "model_module_version": "1.5.0",
      "model_name": "DescriptionStyleModel",
      "state": {
       "description_width": "initial"
      }
     },
     "c1254e12000348998a4a8e5428627365": {
      "model_module": "@jupyter-widgets/controls",
      "model_module_version": "1.5.0",
      "model_name": "ButtonModel",
      "state": {
       "description": "Run Interact",
       "layout": "IPY_MODEL_3fbd47f4280640548cba0afce8e32bb8",
       "style": "IPY_MODEL_6a6cda7d3fe146149d61eff97fc6f8bf"
      }
     },
     "c1549daaf8f340da942a994177f57386": {
      "model_module": "@jupyter-widgets/controls",
      "model_module_version": "1.5.0",
      "model_name": "LabelModel",
      "state": {
       "layout": "IPY_MODEL_670759511c05421999fed3c7e1d01593",
       "style": "IPY_MODEL_908ce467f7d144649bfcfad3e6424665",
       "value": "V(x)[min,max] (eV) ="
      }
     },
     "c199545c677b4176ae30decb488108a6": {
      "model_module": "@jupyter-widgets/controls",
      "model_module_version": "1.5.0",
      "model_name": "SliderStyleModel",
      "state": {
       "description_width": "initial"
      }
     },
     "c1b6c9bdfa8947c58f15ce11c4c398be": {
      "model_module": "@jupyter-widgets/controls",
      "model_module_version": "1.5.0",
      "model_name": "SliderStyleModel",
      "state": {
       "description_width": "initial"
      }
     },
     "c1c94c5dda0f40db816aac1890d6b869": {
      "model_module": "@jupyter-widgets/controls",
      "model_module_version": "1.5.0",
      "model_name": "SliderStyleModel",
      "state": {
       "description_width": "initial"
      }
     },
     "c1f6af6f9a55497792668f001e56e7de": {
      "model_module": "jupyter-matplotlib",
      "model_module_version": "^0.9.0",
      "model_name": "ToolbarModel",
      "state": {
       "layout": "IPY_MODEL_05380a0480254dd48a88203612c730dd",
       "toolitems": [
        [
         "Home",
         "Reset original view",
         "home",
         "home"
        ],
        [
         "Back",
         "Back to previous view",
         "arrow-left",
         "back"
        ],
        [
         "Forward",
         "Forward to next view",
         "arrow-right",
         "forward"
        ],
        [
         "Pan",
         "Left button pans, Right button zooms\nx/y fixes axis, CTRL fixes aspect",
         "arrows",
         "pan"
        ],
        [
         "Zoom",
         "Zoom to rectangle\nx/y fixes axis, CTRL fixes aspect",
         "square-o",
         "zoom"
        ],
        [
         "Download",
         "Download plot",
         "floppy-o",
         "save_figure"
        ]
       ]
      }
     },
     "c21752a2aaca4eaeb38df177ea8f16e6": {
      "model_module": "@jupyter-widgets/controls",
      "model_module_version": "1.5.0",
      "model_name": "ButtonModel",
      "state": {
       "description": "Diagonalizado!",
       "disabled": true,
       "layout": "IPY_MODEL_431b4c8477e94e39a35f4659527cc984",
       "style": "IPY_MODEL_c9831648397341ffa26b495c79c1667a"
      }
     },
     "c223f01d0616487ba808c21cd075bbc9": {
      "model_module": "@jupyter-widgets/controls",
      "model_module_version": "1.5.0",
      "model_name": "ButtonStyleModel",
      "state": {}
     },
     "c2279de06a6a49d2a813347ca6c17d66": {
      "model_module": "@jupyter-widgets/base",
      "model_module_version": "1.2.0",
      "model_name": "LayoutModel",
      "state": {}
     },
     "c228675cc55642949fc1ccadeb0f7bb5": {
      "model_module": "@jupyter-widgets/base",
      "model_module_version": "1.2.0",
      "model_name": "LayoutModel",
      "state": {
       "grid_template_columns": "repeat(2, 250px)"
      }
     },
     "c2547d5fcf014fa7a6d72d24382726c1": {
      "model_module": "@jupyter-widgets/controls",
      "model_module_version": "1.5.0",
      "model_name": "SliderStyleModel",
      "state": {
       "description_width": "initial"
      }
     },
     "c26a37a6c0c04044b99a3e7ec1137f62": {
      "model_module": "@jupyter-widgets/base",
      "model_module_version": "1.2.0",
      "model_name": "LayoutModel",
      "state": {}
     },
     "c27da173bed04432a56a4305f80e97d1": {
      "model_module": "@jupyter-widgets/base",
      "model_module_version": "1.2.0",
      "model_name": "LayoutModel",
      "state": {}
     },
     "c291bcdea8874abeaf7946e5c3b31574": {
      "model_module": "@jupyter-widgets/controls",
      "model_module_version": "1.5.0",
      "model_name": "SliderStyleModel",
      "state": {
       "description_width": "initial"
      }
     },
     "c299bb2b8ffe475e833944b7c74cd1d3": {
      "model_module": "@jupyter-widgets/controls",
      "model_module_version": "1.5.0",
      "model_name": "TextModel",
      "state": {
       "description": "Expressão de $V(x)$: ",
       "layout": "IPY_MODEL_7a51e32fb9794ecbb476c9152ca90862",
       "placeholder": "Escreva a expressão aqui.",
       "style": "IPY_MODEL_d694c72526c44598b57961b8186e24e2",
       "value": "0"
      }
     },
     "c29c62252778442ba927f77310b7f1d0": {
      "model_module": "@jupyter-widgets/controls",
      "model_module_version": "1.5.0",
      "model_name": "TextModel",
      "state": {
       "description": "Expressão de $V(x)$: ",
       "layout": "IPY_MODEL_4453439b85e9436890b7c25efe9dbc55",
       "placeholder": "Escreva a expressão aqui.",
       "style": "IPY_MODEL_2772611044214764a11f14c04e25c49f",
       "value": "3.5*(np.exp(-2*(0.1*(x/ang) + 2.75)) - 2*np.exp(-(0.1*(x/ang) + 2.75)))"
      }
     },
     "c2a17d6b60cb4c2da3bfbad956228fc5": {
      "model_module": "@jupyter-widgets/controls",
      "model_module_version": "1.5.0",
      "model_name": "SliderStyleModel",
      "state": {
       "description_width": "initial"
      }
     },
     "c2eaa3d1ad58434f941d45fcc7a34d8a": {
      "model_module": "@jupyter-widgets/controls",
      "model_module_version": "1.5.0",
      "model_name": "ButtonStyleModel",
      "state": {}
     },
     "c2f4e2a4bfc4425b83f7ccaf6f881105": {
      "model_module": "@jupyter-widgets/controls",
      "model_module_version": "1.5.0",
      "model_name": "LabelModel",
      "state": {
       "layout": "IPY_MODEL_45f83fdb7c88476083fcb9112aeb442d",
       "style": "IPY_MODEL_7b953878070044fda0e6e9fe742b3023",
       "value": "3.5*(np.exp(-2*(0.1*(x/ang) + 2.75)) - 2*np.exp(-(0.1*(x/ang) + 2.75)))"
      }
     },
     "c30175fce201448ca8c276e37160a2e7": {
      "model_module": "@jupyter-widgets/base",
      "model_module_version": "1.2.0",
      "model_name": "LayoutModel",
      "state": {}
     },
     "c32c384563314652b196ad68823cf764": {
      "model_module": "@jupyter-widgets/controls",
      "model_module_version": "1.5.0",
      "model_name": "ButtonStyleModel",
      "state": {}
     },
     "c33f77fb64d44cc18de2c1a5f99e55f9": {
      "model_module": "@jupyter-widgets/base",
      "model_module_version": "1.2.0",
      "model_name": "LayoutModel",
      "state": {}
     },
     "c364bed8484b4e49979f7cc0e43e04ff": {
      "model_module": "@jupyter-widgets/base",
      "model_module_version": "1.2.0",
      "model_name": "LayoutModel",
      "state": {}
     },
     "c398a8e26a3c4181a60b78bf60ca97ed": {
      "model_module": "@jupyter-widgets/controls",
      "model_module_version": "1.5.0",
      "model_name": "DescriptionStyleModel",
      "state": {
       "description_width": ""
      }
     },
     "c3b0595b594d4ba99bbf7ec731f8518a": {
      "model_module": "@jupyter-widgets/controls",
      "model_module_version": "1.5.0",
      "model_name": "ButtonModel",
      "state": {
       "description": "Duffing Holmes (+)",
       "layout": "IPY_MODEL_60a58696ad94471fb16b56b1b220aef0",
       "style": "IPY_MODEL_75d7685c1c73447d87b5909664650ed6"
      }
     },
     "c3b3a737f2af4f52ac9e997cea6a503c": {
      "model_module": "@jupyter-widgets/base",
      "model_module_version": "1.2.0",
      "model_name": "LayoutModel",
      "state": {}
     },
     "c429403e61ce4855986147cd06d34110": {
      "model_module": "@jupyter-widgets/controls",
      "model_module_version": "1.5.0",
      "model_name": "ButtonModel",
      "state": {
       "description": "Lennard Jones",
       "layout": "IPY_MODEL_570d5d01bf8e4165ad3dd2315fafa64d",
       "style": "IPY_MODEL_71d49395f1744ea6b890a727f773068b"
      }
     },
     "c42e65bc32bf485fa2b91bec2876459e": {
      "model_module": "@jupyter-widgets/base",
      "model_module_version": "1.2.0",
      "model_name": "LayoutModel",
      "state": {}
     },
     "c452b3a869a34524884f45634da7023c": {
      "model_module": "@jupyter-widgets/controls",
      "model_module_version": "1.5.0",
      "model_name": "FloatRangeSliderModel",
      "state": {
       "_model_name": "FloatRangeSliderModel",
       "_view_name": "FloatRangeSliderView",
       "continuous_update": false,
       "description": "Domínio de $\\Psi(x)$: ",
       "layout": "IPY_MODEL_21455e0c53a34a9bbf221a1873be28b1",
       "max": 150,
       "min": -150,
       "readout_format": "1d",
       "style": "IPY_MODEL_ecfaa277c3b94fb8877a4a1e378bb386",
       "value": [
        -35,
        35
       ]
      }
     },
     "c478baf08e7e4530bd9bb931e55e6682": {
      "model_module": "@jupyter-widgets/base",
      "model_module_version": "1.2.0",
      "model_name": "LayoutModel",
      "state": {}
     },
     "c47a2e7eff9846939022b3ae86350a19": {
      "model_module": "@jupyter-widgets/base",
      "model_module_version": "1.2.0",
      "model_name": "LayoutModel",
      "state": {}
     },
     "c4a54ae4416d4b48a85e7a14d6b9c582": {
      "model_module": "@jupyter-widgets/base",
      "model_module_version": "1.2.0",
      "model_name": "LayoutModel",
      "state": {}
     },
     "c4c221f6c6de4168945f64e7029f58ef": {
      "model_module": "@jupyter-widgets/controls",
      "model_module_version": "1.5.0",
      "model_name": "VBoxModel",
      "state": {
       "children": [
        "IPY_MODEL_b3fa9f8743074031ad7ef2c642aa037a",
        "IPY_MODEL_8544eae8bf304a8da56774ea0bace94a"
       ],
       "layout": "IPY_MODEL_f6ce40a45d3b4f12bcb9d67809b9c40f"
      }
     },
     "c4c5af4f74fd4d6bb6053d996179cd7c": {
      "model_module": "@jupyter-widgets/controls",
      "model_module_version": "1.5.0",
      "model_name": "LabelModel",
      "state": {
       "layout": "IPY_MODEL_6d9fcb5c09bc4284a14d9f99a6d5a7f1",
       "style": "IPY_MODEL_149b3a58cd0b4c0e96c4132213b6f787",
       "value": "Largura do domínio (angstroms) ="
      }
     },
     "c4d301f5b1e948999c7a3733b7536b16": {
      "model_module": "@jupyter-widgets/controls",
      "model_module_version": "1.5.0",
      "model_name": "DescriptionStyleModel",
      "state": {
       "description_width": ""
      }
     },
     "c4e7245dd181452e900cfd445480770f": {
      "model_module": "@jupyter-widgets/base",
      "model_module_version": "1.2.0",
      "model_name": "LayoutModel",
      "state": {
       "width": "100%"
      }
     },
     "c501d11a2ea14a33b8ae473ed2d4e5c1": {
      "model_module": "@jupyter-widgets/controls",
      "model_module_version": "1.5.0",
      "model_name": "LabelModel",
      "state": {
       "layout": "IPY_MODEL_ef2917dc268842ccb98cf8197049c0b5",
       "style": "IPY_MODEL_39d2a367f4554e1cbeee090abba5eba0",
       "value": "[V_min,V_max]"
      }
     },
     "c50560ff8faa4f6b8393e9797713e136": {
      "model_module": "@jupyter-widgets/controls",
      "model_module_version": "1.5.0",
      "model_name": "LabelModel",
      "state": {
       "layout": "IPY_MODEL_f95981aaa4424783becbe9039b148574",
       "style": "IPY_MODEL_1bf459ab47104da9a4c4be443c757199",
       "value": "dx"
      }
     },
     "c5087c9d15a442f1ba411b39317edf06": {
      "model_module": "@jupyter-widgets/base",
      "model_module_version": "1.2.0",
      "model_name": "LayoutModel",
      "state": {}
     },
     "c51018dbddbb4eeca8f9a9ce83e3a56c": {
      "model_module": "@jupyter-widgets/controls",
      "model_module_version": "1.5.0",
      "model_name": "ButtonStyleModel",
      "state": {}
     },
     "c510a733938d4ada8a9c46bdbd589721": {
      "model_module": "@jupyter-widgets/controls",
      "model_module_version": "1.5.0",
      "model_name": "DescriptionStyleModel",
      "state": {
       "description_width": ""
      }
     },
     "c545c71f16df47278635f27a6b5b2d3d": {
      "model_module": "@jupyter-widgets/base",
      "model_module_version": "1.2.0",
      "model_name": "LayoutModel",
      "state": {}
     },
     "c57756f277624a39bec774197a75a3e1": {
      "model_module": "@jupyter-widgets/base",
      "model_module_version": "1.2.0",
      "model_name": "LayoutModel",
      "state": {}
     },
     "c58767304b6e4fae9c03df363c94adc1": {
      "model_module": "@jupyter-widgets/controls",
      "model_module_version": "1.5.0",
      "model_name": "DescriptionStyleModel",
      "state": {
       "description_width": ""
      }
     },
     "c59d7ff631da47afa22d75cb29fafe52": {
      "model_module": "@jupyter-widgets/controls",
      "model_module_version": "1.5.0",
      "model_name": "ButtonStyleModel",
      "state": {}
     },
     "c5b7859af69a4c6a8bf34f63c668d3e1": {
      "model_module": "@jupyter-widgets/controls",
      "model_module_version": "1.5.0",
      "model_name": "DescriptionStyleModel",
      "state": {
       "description_width": ""
      }
     },
     "c60f43db3f59431fa9a613ea5535f58e": {
      "model_module": "@jupyter-widgets/controls",
      "model_module_version": "1.5.0",
      "model_name": "ButtonModel",
      "state": {
       "description": "Diagonalizado!",
       "disabled": true,
       "layout": "IPY_MODEL_d8eb845a2e104b61ade3eeb3b5ba8472",
       "style": "IPY_MODEL_55f689a0e5034fae8a1832934ea687af"
      }
     },
     "c62225e6da534f2cbf88a52a137820c8": {
      "model_module": "@jupyter-widgets/controls",
      "model_module_version": "1.5.0",
      "model_name": "FloatRangeSliderModel",
      "state": {
       "_model_name": "FloatRangeSliderModel",
       "_view_name": "FloatRangeSliderView",
       "continuous_update": false,
       "description": "Domínio de $\\Psi(x)$: ",
       "layout": "IPY_MODEL_27b89221c50646e7ad6fa7dd3ba9ef03",
       "max": 150,
       "min": -150,
       "readout_format": "1d",
       "style": "IPY_MODEL_8e8d3c6cb3cc4dbfa3cb97b88848e32e",
       "value": [
        -35,
        35
       ]
      }
     },
     "c6235f40318d4f329f83f6abf51d7214": {
      "model_module": "@jupyter-widgets/base",
      "model_module_version": "1.2.0",
      "model_name": "LayoutModel",
      "state": {}
     },
     "c63c6b310dae4541852060830cb30a60": {
      "model_module": "@jupyter-widgets/controls",
      "model_module_version": "1.5.0",
      "model_name": "SliderStyleModel",
      "state": {
       "description_width": "initial"
      }
     },
     "c64a2e0560e349629a75eaad0675bc49": {
      "model_module": "@jupyter-widgets/controls",
      "model_module_version": "1.5.0",
      "model_name": "ButtonModel",
      "state": {
       "description": "Morse",
       "layout": "IPY_MODEL_c478baf08e7e4530bd9bb931e55e6682",
       "style": "IPY_MODEL_fb638cdc244b4acdb51496a9150d85d3"
      }
     },
     "c67a3cd244474d2aae9ed125b93b935f": {
      "model_module": "@jupyter-widgets/controls",
      "model_module_version": "1.5.0",
      "model_name": "ButtonModel",
      "state": {
       "description": "Poço Triangular",
       "layout": "IPY_MODEL_a7591b9b6dc94640b5937f1475bdd239",
       "style": "IPY_MODEL_7a8f877aad9e40b3a607a75e3e7adb57"
      }
     },
     "c6835d6db08249cb897cb7eeda241b25": {
      "model_module": "@jupyter-widgets/controls",
      "model_module_version": "1.5.0",
      "model_name": "ButtonModel",
      "state": {
       "description": "Pöschl–Teller",
       "layout": "IPY_MODEL_369d4416b64e46d59aeef00dcc954136",
       "style": "IPY_MODEL_3c7d87e9e7a34cbfb4ce7a719b8b2376"
      }
     },
     "c6fe375d22344551bdd843248b38f34c": {
      "model_module": "@jupyter-widgets/controls",
      "model_module_version": "1.5.0",
      "model_name": "TextModel",
      "state": {
       "description": "Expressão de $V(x)$: ",
       "layout": "IPY_MODEL_21455e0c53a34a9bbf221a1873be28b1",
       "placeholder": "Escreva a expressão aqui.",
       "style": "IPY_MODEL_65ba45af86bf4926821a20730c7374d4",
       "value": "(1e-5)*(x**2)+(1e-7)*(x**4)"
      }
     },
     "c73e3fb27c3a4da6913a11f0413e6822": {
      "model_module": "@jupyter-widgets/controls",
      "model_module_version": "1.5.0",
      "model_name": "SliderStyleModel",
      "state": {
       "description_width": "initial"
      }
     },
     "c777a989c5bb494e99b09d09ebf7f117": {
      "model_module": "@jupyter-widgets/controls",
      "model_module_version": "1.5.0",
      "model_name": "ButtonStyleModel",
      "state": {}
     },
     "c7af350238f54614953be8dbcaed700c": {
      "model_module": "@jupyter-widgets/base",
      "model_module_version": "1.2.0",
      "model_name": "LayoutModel",
      "state": {}
     },
     "c7c4f17a1f8b46199f213be963d51378": {
      "model_module": "@jupyter-widgets/controls",
      "model_module_version": "1.5.0",
      "model_name": "DescriptionStyleModel",
      "state": {
       "description_width": ""
      }
     },
     "c7d49f88d55b4177b8e8d3b63fbfb3b4": {
      "model_module": "@jupyter-widgets/controls",
      "model_module_version": "1.5.0",
      "model_name": "DescriptionStyleModel",
      "state": {
       "description_width": ""
      }
     },
     "c7fa7cf3f3a042c18da3c9a25334dbaa": {
      "model_module": "@jupyter-widgets/controls",
      "model_module_version": "1.5.0",
      "model_name": "ButtonStyleModel",
      "state": {}
     },
     "c83b151af4fb44a5b3ee0dea96081889": {
      "model_module": "@jupyter-widgets/controls",
      "model_module_version": "1.5.0",
      "model_name": "ButtonStyleModel",
      "state": {}
     },
     "c848757ebfdd4e918380314dce6a12fe": {
      "model_module": "@jupyter-widgets/controls",
      "model_module_version": "1.5.0",
      "model_name": "ButtonModel",
      "state": {
       "description": "Oscilador Harmônico",
       "layout": "IPY_MODEL_06ee5d8292e347078e2dc32c88e4b657",
       "style": "IPY_MODEL_d075abc7f69747d591173f1b4f31f190"
      }
     },
     "c881cca4ee6e40ecb020e0c7cb859efa": {
      "model_module": "@jupyter-widgets/base",
      "model_module_version": "1.2.0",
      "model_name": "LayoutModel",
      "state": {
       "width": "100%"
      }
     },
     "c8aba4f4713b4ee78ced29f4d9690888": {
      "model_module": "@jupyter-widgets/base",
      "model_module_version": "1.2.0",
      "model_name": "LayoutModel",
      "state": {}
     },
     "c91dd1854fcc4c27a88b43e5b909b195": {
      "model_module": "@jupyter-widgets/controls",
      "model_module_version": "1.5.0",
      "model_name": "VBoxModel",
      "state": {
       "children": [
        "IPY_MODEL_4df5242f0731459e8c5603139f12a007",
        "IPY_MODEL_a5d75d486fd9487099d74a261114d7e0",
        "IPY_MODEL_f4798beacbef4c3e84a6c80234a811cc"
       ],
       "layout": "IPY_MODEL_1289c0656e444ce8949c9affb35bec42"
      }
     },
     "c93e6684706c4c568443d741a014070a": {
      "model_module": "@jupyter-widgets/controls",
      "model_module_version": "1.5.0",
      "model_name": "ButtonStyleModel",
      "state": {}
     },
     "c96a826d191c4d0ca5b68591db191b0d": {
      "model_module": "@jupyter-widgets/controls",
      "model_module_version": "1.5.0",
      "model_name": "CheckboxModel",
      "state": {
       "description": "Auto limitar eixo y",
       "disabled": false,
       "layout": "IPY_MODEL_4fc4fa951c4f439f92f7ab0dca861d34",
       "style": "IPY_MODEL_b5ce5b63eb9e44f181de8c2ac4ccfc44",
       "value": true
      }
     },
     "c9831648397341ffa26b495c79c1667a": {
      "model_module": "@jupyter-widgets/controls",
      "model_module_version": "1.5.0",
      "model_name": "ButtonStyleModel",
      "state": {}
     },
     "c9957155a18e4415a8f986a6455d1bc4": {
      "model_module": "@jupyter-widgets/controls",
      "model_module_version": "1.5.0",
      "model_name": "VBoxModel",
      "state": {
       "_dom_classes": [
        "widget-interact"
       ],
       "children": [
        "IPY_MODEL_dce600f039a744faa2089b3eab6644f4",
        "IPY_MODEL_af84f79960c648ab8b40ae13456907b2",
        "IPY_MODEL_a918ecd3b4cb44e2a30955bd57cc0a36",
        "IPY_MODEL_841a1e4d564c415d978ed6bac6f7bb90",
        "IPY_MODEL_ccd9dca26ccc4d948c68b390f250a89d",
        "IPY_MODEL_4dcf0055bef24fc4b149fa55f86cf9f5",
        "IPY_MODEL_8fa7513fef1243df9e1a2c5ceb1c1391",
        "IPY_MODEL_9032c4cbbe6f4862a3c0fc0b16d44acd"
       ],
       "layout": "IPY_MODEL_264231184ede495fab911b764ebc2355"
      }
     },
     "c9b0e2aa64ba43859fb16a889fc69025": {
      "model_module": "@jupyter-widgets/base",
      "model_module_version": "1.2.0",
      "model_name": "LayoutModel",
      "state": {}
     },
     "ca06ea12c15d4aa0b521a66173c0615d": {
      "model_module": "@jupyter-widgets/controls",
      "model_module_version": "1.5.0",
      "model_name": "LabelModel",
      "state": {
       "layout": "IPY_MODEL_b126f6fcfcda48c1a0c4d72b69ae8087",
       "style": "IPY_MODEL_a86dfde351b74b6f98021e1394bda98b"
      }
     },
     "ca0f7a59eea24f12965acc14f92b4637": {
      "model_module": "jupyter-matplotlib",
      "model_module_version": "^0.9.0",
      "model_name": "ToolbarModel",
      "state": {
       "layout": "IPY_MODEL_ebbccc944f974c3fa18cf21953b0c02d",
       "toolitems": [
        [
         "Home",
         "Reset original view",
         "home",
         "home"
        ],
        [
         "Back",
         "Back to previous view",
         "arrow-left",
         "back"
        ],
        [
         "Forward",
         "Forward to next view",
         "arrow-right",
         "forward"
        ],
        [
         "Pan",
         "Left button pans, Right button zooms\nx/y fixes axis, CTRL fixes aspect",
         "arrows",
         "pan"
        ],
        [
         "Zoom",
         "Zoom to rectangle\nx/y fixes axis, CTRL fixes aspect",
         "square-o",
         "zoom"
        ],
        [
         "Download",
         "Download plot",
         "floppy-o",
         "save_figure"
        ]
       ]
      }
     },
     "ca235a602e5a455fb536baeffafabd06": {
      "model_module": "@jupyter-widgets/controls",
      "model_module_version": "1.5.0",
      "model_name": "ButtonStyleModel",
      "state": {}
     },
     "ca31fdceb8c64cae9f1890e222a1b500": {
      "model_module": "@jupyter-widgets/controls",
      "model_module_version": "1.5.0",
      "model_name": "LabelModel",
      "state": {
       "layout": "IPY_MODEL_06f78e7a71324a4eaf2fcc4aebb7b753",
       "style": "IPY_MODEL_910ff587769742849e7ac69e3e5091ba",
       "value": "Expressão V(x) ="
      }
     },
     "ca6a91a525014f169bada5ce5197e3c2": {
      "model_module": "@jupyter-widgets/controls",
      "model_module_version": "1.5.0",
      "model_name": "VBoxModel",
      "state": {
       "children": [
        "IPY_MODEL_244f646f6d6e4c55bc5fa3b99cf8ce3c",
        "IPY_MODEL_5b928357fec44a9f9a246c6dc06a50c1"
       ],
       "layout": "IPY_MODEL_937cbe89f5e948b29a61bef36478f1fe"
      }
     },
     "ca9b09a1d4f14c94ba14bfaf507db613": {
      "model_module": "@jupyter-widgets/controls",
      "model_module_version": "1.5.0",
      "model_name": "IntSliderModel",
      "state": {
       "continuous_update": false,
       "description": "Margens horizontais  (angstroms):   ",
       "layout": "IPY_MODEL_bc2be9e3ba6a47ebb89b6e0933f66239",
       "style": "IPY_MODEL_f576e325e91048fe8917b8a4d5390504",
       "value": 20
      }
     },
     "cab22f640ad746d9bd6169c7d1684cbf": {
      "model_module": "@jupyter-widgets/controls",
      "model_module_version": "1.5.0",
      "model_name": "DescriptionStyleModel",
      "state": {
       "description_width": ""
      }
     },
     "cad6c864c99443229727b63f7b97ce2a": {
      "model_module": "@jupyter-widgets/base",
      "model_module_version": "1.2.0",
      "model_name": "LayoutModel",
      "state": {}
     },
     "cadd30391cd94c95934dd3fcdb3580cf": {
      "model_module": "@jupyter-widgets/controls",
      "model_module_version": "1.5.0",
      "model_name": "ButtonStyleModel",
      "state": {}
     },
     "caddff036b7c4f268c884e52e54bd8fb": {
      "model_module": "@jupyter-widgets/controls",
      "model_module_version": "1.5.0",
      "model_name": "TabModel",
      "state": {
       "_titles": {
        "0": "Gerar o Sistema",
        "1": "Funções de Onda"
       },
       "children": [
        "IPY_MODEL_19b9ba811a9a4ece97bae27c8806b7c2",
        "IPY_MODEL_b3b6bf85d4b84af2acf6269a746fa3ff"
       ],
       "layout": "IPY_MODEL_10a109bb912f4fb682b673e8467aece1",
       "selected_index": 1
      }
     },
     "cae2477a85e546bb94f37985e15bccf7": {
      "model_module": "@jupyter-widgets/controls",
      "model_module_version": "1.5.0",
      "model_name": "LabelModel",
      "state": {
       "layout": "IPY_MODEL_31536a10a3094f15a42d41c2f3610146",
       "style": "IPY_MODEL_afbfcaf6172f4b89bcb745176fae13de",
       "value": "Expressão V(x) ="
      }
     },
     "cb1495ea98c6429ca5a902c584b64236": {
      "model_module": "@jupyter-widgets/base",
      "model_module_version": "1.2.0",
      "model_name": "LayoutModel",
      "state": {
       "width": "100%"
      }
     },
     "cb1ebbec9b6340a9ab458d50a524d9b0": {
      "model_module": "@jupyter-widgets/base",
      "model_module_version": "1.2.0",
      "model_name": "LayoutModel",
      "state": {}
     },
     "cb23b8f8528f4f6bb044039b69d70d50": {
      "model_module": "@jupyter-widgets/base",
      "model_module_version": "1.2.0",
      "model_name": "LayoutModel",
      "state": {}
     },
     "cb32f33a7dc04a8cbfc4037ea30a4e24": {
      "model_module": "@jupyter-widgets/controls",
      "model_module_version": "1.5.0",
      "model_name": "IntSliderModel",
      "state": {
       "continuous_update": false,
       "description": "Número de pontos: ",
       "layout": "IPY_MODEL_bc2be9e3ba6a47ebb89b6e0933f66239",
       "max": 1050,
       "min": 50,
       "step": 10,
       "style": "IPY_MODEL_f6aa4e26dfba425398b3d3c6f34e5374",
       "value": 550
      }
     },
     "cb3cbae7ac7a460a8448e9fb38c63152": {
      "model_module": "@jupyter-widgets/controls",
      "model_module_version": "1.5.0",
      "model_name": "ButtonModel",
      "state": {
       "description": "Morse",
       "layout": "IPY_MODEL_f663c91e713047e88130be71b0f632b6",
       "style": "IPY_MODEL_ba68bd5408614615b526bfda503b298b"
      }
     },
     "cb44bdf78bf34230a58a10197870bb8b": {
      "model_module": "@jupyter-widgets/controls",
      "model_module_version": "1.5.0",
      "model_name": "ButtonModel",
      "state": {
       "description": "Morse",
       "layout": "IPY_MODEL_aabd4b8d10cd49ffbed0dc652ec444f7",
       "style": "IPY_MODEL_2d84204ed43849b9bc1d7844a0bd6ee7"
      }
     },
     "cb56001ecbe64f7fb704482593391d18": {
      "model_module": "@jupyter-widgets/base",
      "model_module_version": "1.2.0",
      "model_name": "LayoutModel",
      "state": {}
     },
     "cb6d5598d26f49fb9f601ec99253b8b1": {
      "model_module": "@jupyter-widgets/base",
      "model_module_version": "1.2.0",
      "model_name": "LayoutModel",
      "state": {}
     },
     "cc6a3ea0708040069480a07cadd83974": {
      "model_module": "@jupyter-widgets/controls",
      "model_module_version": "1.5.0",
      "model_name": "DescriptionStyleModel",
      "state": {
       "description_width": ""
      }
     },
     "cc89efbcee724dde9e3b715dd6d8af3d": {
      "model_module": "@jupyter-widgets/controls",
      "model_module_version": "1.5.0",
      "model_name": "ButtonModel",
      "state": {
       "description": "Oscilador Harmônico",
       "layout": "IPY_MODEL_a3db7a5be7c2463d8ceff7027fc94cea",
       "style": "IPY_MODEL_a993ed74bd1f4be5a01e86473f7d3a20"
      }
     },
     "ccd52ff0c7614b95b0290035f107a9be": {
      "model_module": "@jupyter-widgets/controls",
      "model_module_version": "1.5.0",
      "model_name": "SliderStyleModel",
      "state": {
       "description_width": "initial"
      }
     },
     "ccd558d8d925443ba38d8c2d4360099b": {
      "model_module": "@jupyter-widgets/controls",
      "model_module_version": "1.5.0",
      "model_name": "VBoxModel",
      "state": {
       "_dom_classes": [
        "widget-interact"
       ],
       "children": [
        "IPY_MODEL_249996c181924ade9563e3e11442cc8c",
        "IPY_MODEL_99515376077a4b2f8c6aeb2aa4c9cca4",
        "IPY_MODEL_a2e1560cf4504e88a1643ceaf3cda94b",
        "IPY_MODEL_1a8c178196e0499f8746d431320c6f53",
        "IPY_MODEL_0e4aee07e4ad4cdaa78433d9667bfef0"
       ],
       "layout": "IPY_MODEL_0d22095f517f4801a1ea7d196ff36510"
      }
     },
     "ccd9dca26ccc4d948c68b390f250a89d": {
      "model_module": "@jupyter-widgets/controls",
      "model_module_version": "1.5.0",
      "model_name": "FloatRangeSliderModel",
      "state": {
       "_model_name": "FloatRangeSliderModel",
       "_view_name": "FloatRangeSliderView",
       "description": "Limites do eixo y (eV):",
       "layout": "IPY_MODEL_16010a52e9f5434c96eff916c5d6459a",
       "max": 10,
       "min": -10,
       "readout_format": ".1f",
       "step": 0.005,
       "style": "IPY_MODEL_16ac261fdc5547b9a0432b884fc609b2",
       "value": [
        -2,
        2
       ]
      }
     },
     "cd21560d1ca645f8abaaeea2ae42d1e8": {
      "model_module": "@jupyter-widgets/controls",
      "model_module_version": "1.5.0",
      "model_name": "TabModel",
      "state": {
       "_titles": {
        "0": "Gerar o Sistema",
        "1": "Funções de Onda"
       },
       "children": [
        "IPY_MODEL_6c2bad4197de4473b49b2b09b8c408f0",
        "IPY_MODEL_aace79fb546e44ebb87f92b7db726c6e"
       ],
       "layout": "IPY_MODEL_1d5e487b6d3f4a8da2bce3efe6e9c44e"
      }
     },
     "cd892c47826147ec9936ecc9dc717881": {
      "model_module": "@jupyter-widgets/controls",
      "model_module_version": "1.5.0",
      "model_name": "LabelModel",
      "state": {
       "layout": "IPY_MODEL_217f1ed4d013441aaf45706ffd94d20e",
       "style": "IPY_MODEL_1612fb8d15c14e5fbf2347070508854d",
       "value": "dx"
      }
     },
     "cda0800aa9334fdb9de159a1f4f2f003": {
      "model_module": "@jupyter-widgets/base",
      "model_module_version": "1.2.0",
      "model_name": "LayoutModel",
      "state": {
       "grid_template_columns": "repeat(auto-fill, 180px)"
      }
     },
     "cda587a4868043ca8d6c7bd27fee30a6": {
      "model_module": "@jupyter-widgets/base",
      "model_module_version": "1.2.0",
      "model_name": "LayoutModel",
      "state": {}
     },
     "cdc395223a0042ae9655951141da58a5": {
      "model_module": "@jupyter-widgets/controls",
      "model_module_version": "1.5.0",
      "model_name": "DescriptionStyleModel",
      "state": {
       "description_width": ""
      }
     },
     "cddfd62517b845ddb92aad501fe33862": {
      "model_module": "@jupyter-widgets/controls",
      "model_module_version": "1.5.0",
      "model_name": "DescriptionStyleModel",
      "state": {
       "description_width": ""
      }
     },
     "cde0ed4fcf3049abaf0c54e8affe788f": {
      "model_module": "@jupyter-widgets/base",
      "model_module_version": "1.2.0",
      "model_name": "LayoutModel",
      "state": {
       "display": "flex",
       "width": "90%"
      }
     },
     "cdfccc79610046ccaf90aa7e9ee2d200": {
      "model_module": "@jupyter-widgets/base",
      "model_module_version": "1.2.0",
      "model_name": "LayoutModel",
      "state": {}
     },
     "ce14b92670ee410589c364ac9113242e": {
      "model_module": "@jupyter-widgets/base",
      "model_module_version": "1.2.0",
      "model_name": "LayoutModel",
      "state": {}
     },
     "ce7e42da90cf4d828ad0ead80c0767d1": {
      "model_module": "@jupyter-widgets/controls",
      "model_module_version": "1.5.0",
      "model_name": "ButtonModel",
      "state": {
       "description": "Campo Uniforme (-)",
       "layout": "IPY_MODEL_fe3ce53661bc447c8cbf1e46c0375cc2",
       "style": "IPY_MODEL_5378552e485d44d6b3dce71e27247216"
      }
     },
     "ceabfb39a52143f6b062f65844a72326": {
      "model_module": "@jupyter-widgets/controls",
      "model_module_version": "1.5.0",
      "model_name": "ButtonStyleModel",
      "state": {}
     },
     "cec0742ae84f4fedb0e1b7b7a906e5c0": {
      "model_module": "@jupyter-widgets/controls",
      "model_module_version": "1.5.0",
      "model_name": "ButtonModel",
      "state": {
       "description": "Morse",
       "layout": "IPY_MODEL_b4c3b799b1244472ab73099a492f427f",
       "style": "IPY_MODEL_c7fa7cf3f3a042c18da3c9a25334dbaa"
      }
     },
     "cecda1c7cfb046f9967a92bd6cef77cc": {
      "model_module": "@jupyter-widgets/base",
      "model_module_version": "1.2.0",
      "model_name": "LayoutModel",
      "state": {}
     },
     "cf3efe7474f348ec8463d8d91352bbe2": {
      "model_module": "@jupyter-widgets/controls",
      "model_module_version": "1.5.0",
      "model_name": "LabelModel",
      "state": {
       "layout": "IPY_MODEL_bb239923e8584bb88c8a3894aa7c34e4",
       "style": "IPY_MODEL_bc4d2de4438c4277bfc0484164fcc9fd",
       "value": "L"
      }
     },
     "cf72ae75f8674341ba2f1e5c422c624c": {
      "model_module": "@jupyter-widgets/controls",
      "model_module_version": "1.5.0",
      "model_name": "DropdownModel",
      "state": {
       "_options_labels": [
        "densidades de probabilidades",
        "funções de onda (parte real, +)",
        "funções de onda (parte imaginária)"
       ],
       "description": "Plotar as",
       "index": 0,
       "layout": "IPY_MODEL_75693f4bb652410b8a6eb444f869abbd",
       "style": "IPY_MODEL_75c17e798acd46078e8ef0163c3ee6c9"
      }
     },
     "cfa6d109e6d348aa9f669e464ba220d1": {
      "model_module": "@jupyter-widgets/controls",
      "model_module_version": "1.5.0",
      "model_name": "ButtonStyleModel",
      "state": {}
     },
     "d02fb11b15b04250b3c4e7ff494f68e7": {
      "model_module": "@jupyter-widgets/controls",
      "model_module_version": "1.5.0",
      "model_name": "VBoxModel",
      "state": {
       "children": [
        "IPY_MODEL_2cb8263da0d94a28ac09fbde9ce5f028",
        "IPY_MODEL_a9a7cb917326453b817a575dcf7abef7",
        "IPY_MODEL_231cdd3e815c4dcea1bafcb657b1d2b8"
       ],
       "layout": "IPY_MODEL_ea117f0264984f92981685162b1aafd1"
      }
     },
     "d031872719bf4cec8c98ba902cc49eec": {
      "model_module": "@jupyter-widgets/output",
      "model_module_version": "1.0.0",
      "model_name": "OutputModel",
      "state": {
       "layout": "IPY_MODEL_67581420a0c94b66b8d1f3760e4cad4b"
      }
     },
     "d04afb62bc0f4a76b2822ec64c36da87": {
      "model_module": "@jupyter-widgets/base",
      "model_module_version": "1.2.0",
      "model_name": "LayoutModel",
      "state": {}
     },
     "d075abc7f69747d591173f1b4f31f190": {
      "model_module": "@jupyter-widgets/controls",
      "model_module_version": "1.5.0",
      "model_name": "ButtonStyleModel",
      "state": {}
     },
     "d09656ad5fb54f67b42163ccae1efbd1": {
      "model_module": "@jupyter-widgets/controls",
      "model_module_version": "1.5.0",
      "model_name": "LabelModel",
      "state": {
       "layout": "IPY_MODEL_b7cc6cc6bcd34c78823507f24dab7298",
       "style": "IPY_MODEL_9eb0356170b8466dade6fa9a42c7432d"
      }
     },
     "d0ba92811b9b4b6fbbc403b603c20ec2": {
      "model_module": "@jupyter-widgets/base",
      "model_module_version": "1.2.0",
      "model_name": "LayoutModel",
      "state": {}
     },
     "d0ce2ef8dfaa4f2aabc130a75c34ba2c": {
      "model_module": "@jupyter-widgets/controls",
      "model_module_version": "1.5.0",
      "model_name": "LabelModel",
      "state": {
       "layout": "IPY_MODEL_ef4034cb84c3443ea2d17652515aa7b6",
       "style": "IPY_MODEL_a6f2adcb4793410eb4629b20e75f5463",
       "value": " 0.13"
      }
     },
     "d0da4ec1ca984410af55fdb486a2035b": {
      "model_module": "@jupyter-widgets/base",
      "model_module_version": "1.2.0",
      "model_name": "LayoutModel",
      "state": {
       "width": "100%"
      }
     },
     "d0f0a8438ca040b7b7a3bb06af8257ca": {
      "model_module": "@jupyter-widgets/base",
      "model_module_version": "1.2.0",
      "model_name": "LayoutModel",
      "state": {}
     },
     "d12f0d3a2bc842c9ac25ffeec0115f78": {
      "model_module": "@jupyter-widgets/controls",
      "model_module_version": "1.5.0",
      "model_name": "ButtonModel",
      "state": {
       "description": "Poço Infinito",
       "layout": "IPY_MODEL_58fa68e49b4a4c4690e66775588b902c",
       "style": "IPY_MODEL_a80277c7b1104dd09d063e77ac6f3053"
      }
     },
     "d146edfa1e4046bd84baa0f9b289db9f": {
      "model_module": "@jupyter-widgets/base",
      "model_module_version": "1.2.0",
      "model_name": "LayoutModel",
      "state": {}
     },
     "d2007922c9ee4107aa5e418c1461d3e5": {
      "model_module": "@jupyter-widgets/controls",
      "model_module_version": "1.5.0",
      "model_name": "ButtonModel",
      "state": {
       "description": "Poço Infinito",
       "layout": "IPY_MODEL_6f6084e051bc4048867adcc858abca12",
       "style": "IPY_MODEL_0cf8ce7334404e88b59ea36aa8001ba7"
      }
     },
     "d20a1f89f5824bc7b7cb919ecfd71517": {
      "model_module": "@jupyter-widgets/base",
      "model_module_version": "1.2.0",
      "model_name": "LayoutModel",
      "state": {}
     },
     "d210093ebc8e40e996fa6012650830a3": {
      "model_module": "@jupyter-widgets/controls",
      "model_module_version": "1.5.0",
      "model_name": "DescriptionStyleModel",
      "state": {
       "description_width": ""
      }
     },
     "d22e0d4b040e4d4e8183604793e75d3d": {
      "model_module": "@jupyter-widgets/controls",
      "model_module_version": "1.5.0",
      "model_name": "DescriptionStyleModel",
      "state": {
       "description_width": ""
      }
     },
     "d25ea2001ca9465abba81ad6b50df8fd": {
      "model_module": "@jupyter-widgets/base",
      "model_module_version": "1.2.0",
      "model_name": "LayoutModel",
      "state": {}
     },
     "d304d3c2f8c144fb86ad047c3c6aed98": {
      "model_module": "@jupyter-widgets/output",
      "model_module_version": "1.0.0",
      "model_name": "OutputModel",
      "state": {
       "layout": "IPY_MODEL_fc9a8f3dbc5641e6b58f809889f83cc8"
      }
     },
     "d31808fd2459475fad2762677ecd4798": {
      "model_module": "@jupyter-widgets/base",
      "model_module_version": "1.2.0",
      "model_name": "LayoutModel",
      "state": {}
     },
     "d34fa29b08ea489abb521ba158f93510": {
      "model_module": "@jupyter-widgets/controls",
      "model_module_version": "1.5.0",
      "model_name": "ButtonStyleModel",
      "state": {}
     },
     "d352a66436644429bbb1a7122f82d636": {
      "model_module": "@jupyter-widgets/controls",
      "model_module_version": "1.5.0",
      "model_name": "ButtonModel",
      "state": {
       "description": "Gerar",
       "layout": "IPY_MODEL_7c869b6a593244d79aca681786be7b02",
       "style": "IPY_MODEL_bca1205f9fbe4c40bea787df2a399b9f"
      }
     },
     "d36463492a364c46ba65d090564e3743": {
      "model_module": "@jupyter-widgets/controls",
      "model_module_version": "1.5.0",
      "model_name": "AccordionModel",
      "state": {
       "_titles": {
        "0": "Diagonalizar/Informações"
       },
       "children": [
        "IPY_MODEL_89832f28890f44ce83a41210667155dd"
       ],
       "layout": "IPY_MODEL_17e28f3587ff4977a906e5ebf6a86805"
      }
     },
     "d37074d4d3384f1d9cbc4363b730a888": {
      "model_module": "@jupyter-widgets/controls",
      "model_module_version": "1.5.0",
      "model_name": "ButtonStyleModel",
      "state": {}
     },
     "d383d0bea9b047e49d89e1ca077fd65a": {
      "model_module": "@jupyter-widgets/controls",
      "model_module_version": "1.5.0",
      "model_name": "ButtonModel",
      "state": {
       "description": "Run Interact",
       "layout": "IPY_MODEL_a3f44067dc424ef4b6ec297bbfc0f746",
       "style": "IPY_MODEL_bf1d321e1c494dd89e87a49b4ab62381"
      }
     },
     "d3854d6982da4fac9f510ebc9d00e03c": {
      "model_module": "@jupyter-widgets/controls",
      "model_module_version": "1.5.0",
      "model_name": "DescriptionStyleModel",
      "state": {
       "description_width": ""
      }
     },
     "d399ea75a39447beb7322893289e2da8": {
      "model_module": "@jupyter-widgets/controls",
      "model_module_version": "1.5.0",
      "model_name": "ButtonStyleModel",
      "state": {}
     },
     "d3bc4fbadfd949488b3766cf4e253493": {
      "model_module": "@jupyter-widgets/base",
      "model_module_version": "1.2.0",
      "model_name": "LayoutModel",
      "state": {}
     },
     "d3e852f708844173949cb003eff92083": {
      "model_module": "@jupyter-widgets/base",
      "model_module_version": "1.2.0",
      "model_name": "LayoutModel",
      "state": {}
     },
     "d3f8541b4a674a2e8280ac49ad8a5ffe": {
      "model_module": "@jupyter-widgets/controls",
      "model_module_version": "1.5.0",
      "model_name": "DropdownModel",
      "state": {
       "_options_labels": [
        "densidades de probabilidades",
        "funções de onda (parte real, +)",
        "funções de onda (parte imaginária)"
       ],
       "description": "Plotar as",
       "index": 0,
       "layout": "IPY_MODEL_9c305c8965614428bb9c9628b9e57864",
       "style": "IPY_MODEL_4b1b254f447c41d2b5a2d602fdf003aa"
      }
     },
     "d4016d5708404a8d9e088add20cef887": {
      "model_module": "@jupyter-widgets/base",
      "model_module_version": "1.2.0",
      "model_name": "LayoutModel",
      "state": {}
     },
     "d4bdcdcedc67471fa36c4347313b2bf5": {
      "model_module": "@jupyter-widgets/base",
      "model_module_version": "1.2.0",
      "model_name": "LayoutModel",
      "state": {}
     },
     "d4c32f84fd994edf8b89754a33603a03": {
      "model_module": "@jupyter-widgets/output",
      "model_module_version": "1.0.0",
      "model_name": "OutputModel",
      "state": {
       "layout": "IPY_MODEL_7357a037bddf4974a5e2e3e2bdcfe178",
       "outputs": [
        {
         "data": {
          "application/vnd.jupyter.widget-view+json": {
           "model_id": "8c5d08690e884bc28428f90d7bfec788",
           "version_major": 2,
           "version_minor": 0
          },
          "text/plain": "Canvas(toolbar=Toolbar(toolitems=[('Home', 'Reset original view', 'home', 'home'), ('Back', 'Back to previous …"
         },
         "metadata": {},
         "output_type": "display_data"
        }
       ]
      }
     },
     "d4d4c52d3b5745d9b7b3cc3a7e36b463": {
      "model_module": "@jupyter-widgets/base",
      "model_module_version": "1.2.0",
      "model_name": "LayoutModel",
      "state": {}
     },
     "d5109c2ba76346e3b5967d58f502cc77": {
      "model_module": "@jupyter-widgets/controls",
      "model_module_version": "1.5.0",
      "model_name": "SliderStyleModel",
      "state": {
       "description_width": "initial"
      }
     },
     "d52fbb978d414faba482f54cea15dffe": {
      "model_module": "@jupyter-widgets/output",
      "model_module_version": "1.0.0",
      "model_name": "OutputModel",
      "state": {
       "layout": "IPY_MODEL_4236f428be1b47bc95275fa2358c2f26",
       "outputs": [
        {
         "data": {
          "application/vnd.jupyter.widget-view+json": {
           "model_id": "5b183ba3012642429607694158804cf4",
           "version_major": 2,
           "version_minor": 0
          },
          "text/plain": "Canvas(toolbar=Toolbar(toolitems=[('Home', 'Reset original view', 'home', 'home'), ('Back', 'Back to previous …"
         },
         "metadata": {},
         "output_type": "display_data"
        }
       ]
      }
     },
     "d5350706a354478296ba3396f258c4c6": {
      "model_module": "@jupyter-widgets/base",
      "model_module_version": "1.2.0",
      "model_name": "LayoutModel",
      "state": {}
     },
     "d53fdc337ace4fcf946f6c8e35d04cb8": {
      "model_module": "@jupyter-widgets/controls",
      "model_module_version": "1.5.0",
      "model_name": "VBoxModel",
      "state": {
       "_dom_classes": [
        "widget-interact"
       ],
       "children": [
        "IPY_MODEL_0495128a9e77424c95fc5948930ef6be",
        "IPY_MODEL_f31572616a7f48e480b7bbc55f437643",
        "IPY_MODEL_94d569969508430a89e27201b7471290",
        "IPY_MODEL_60512a67740346da96b8904899c80d4a",
        "IPY_MODEL_5557572447a14494b4b1d766315fdf33",
        "IPY_MODEL_d383d0bea9b047e49d89e1ca077fd65a",
        "IPY_MODEL_25664f38c178423faebb90f9c3c2e5c7"
       ],
       "layout": "IPY_MODEL_04de399a3b5645399d37a6b53ae7f72f"
      }
     },
     "d553cea4ccce4b31bc2ff6426fd11ba6": {
      "model_module": "@jupyter-widgets/base",
      "model_module_version": "1.2.0",
      "model_name": "LayoutModel",
      "state": {}
     },
     "d5fdb518913a498580c674101cc98268": {
      "model_module": "@jupyter-widgets/base",
      "model_module_version": "1.2.0",
      "model_name": "LayoutModel",
      "state": {}
     },
     "d623b249246247bcb440850f4401b88c": {
      "model_module": "@jupyter-widgets/base",
      "model_module_version": "1.2.0",
      "model_name": "LayoutModel",
      "state": {}
     },
     "d64d78eeccdb4ba9b4af9ac37a4bfc8e": {
      "model_module": "@jupyter-widgets/base",
      "model_module_version": "1.2.0",
      "model_name": "LayoutModel",
      "state": {}
     },
     "d65ce9f034fa4a0793060dabe056e9fa": {
      "model_module": "@jupyter-widgets/controls",
      "model_module_version": "1.5.0",
      "model_name": "ButtonStyleModel",
      "state": {}
     },
     "d694c72526c44598b57961b8186e24e2": {
      "model_module": "@jupyter-widgets/controls",
      "model_module_version": "1.5.0",
      "model_name": "DescriptionStyleModel",
      "state": {
       "description_width": "initial"
      }
     },
     "d6d449d50e1d454398c34c929b46b0d1": {
      "model_module": "@jupyter-widgets/controls",
      "model_module_version": "1.5.0",
      "model_name": "SliderStyleModel",
      "state": {
       "description_width": "initial"
      }
     },
     "d7138dc182c54951914f26926cdcf58f": {
      "model_module": "@jupyter-widgets/controls",
      "model_module_version": "1.5.0",
      "model_name": "DescriptionStyleModel",
      "state": {
       "description_width": ""
      }
     },
     "d723ba5784a745b5beeaf622c49edabd": {
      "model_module": "@jupyter-widgets/controls",
      "model_module_version": "1.5.0",
      "model_name": "ButtonStyleModel",
      "state": {}
     },
     "d73965d988a2424e972672af7ed11255": {
      "model_module": "@jupyter-widgets/base",
      "model_module_version": "1.2.0",
      "model_name": "LayoutModel",
      "state": {}
     },
     "d754c616750c4ebc9d8208fd017e9370": {
      "model_module": "@jupyter-widgets/controls",
      "model_module_version": "1.5.0",
      "model_name": "LabelModel",
      "state": {
       "layout": "IPY_MODEL_9c6aa4f44cb14202b6fee779a08a462f",
       "style": "IPY_MODEL_0920ee29b2f1446f84e8f979e13bbadc",
       "value": "[V_min,V_max]"
      }
     },
     "d75f08351bb44f18af04771c23cfe412": {
      "model_module": "@jupyter-widgets/base",
      "model_module_version": "1.2.0",
      "model_name": "LayoutModel",
      "state": {}
     },
     "d79b13a710f84af38118a1832b4ebfa6": {
      "model_module": "@jupyter-widgets/controls",
      "model_module_version": "1.5.0",
      "model_name": "ButtonModel",
      "state": {
       "description": "Campo Uniforme (-)",
       "layout": "IPY_MODEL_3947521b2a604b218ba1ed6d7c8f997b",
       "style": "IPY_MODEL_722693cc50e94a39ac8e0f7114ccf414"
      }
     },
     "d7a7d1b18f8b4fea898482b75c975ad6": {
      "model_module": "jupyter-matplotlib",
      "model_module_version": "^0.9.0",
      "model_name": "ToolbarModel",
      "state": {
       "layout": "IPY_MODEL_95d7fd261ad647f2a4011375478ba955",
       "toolitems": [
        [
         "Home",
         "Reset original view",
         "home",
         "home"
        ],
        [
         "Back",
         "Back to previous view",
         "arrow-left",
         "back"
        ],
        [
         "Forward",
         "Forward to next view",
         "arrow-right",
         "forward"
        ],
        [
         "Pan",
         "Left button pans, Right button zooms\nx/y fixes axis, CTRL fixes aspect",
         "arrows",
         "pan"
        ],
        [
         "Zoom",
         "Zoom to rectangle\nx/y fixes axis, CTRL fixes aspect",
         "square-o",
         "zoom"
        ],
        [
         "Download",
         "Download plot",
         "floppy-o",
         "save_figure"
        ]
       ]
      }
     },
     "d7c17b2a0c224c8c98b602bca21883da": {
      "model_module": "@jupyter-widgets/controls",
      "model_module_version": "1.5.0",
      "model_name": "VBoxModel",
      "state": {
       "children": [
        "IPY_MODEL_dd85b8b2a5a845708d9289e473634351",
        "IPY_MODEL_585917830f3c49dfa243c2cdf13091b3"
       ],
       "layout": "IPY_MODEL_2914ab3f3f6b47728c1934caec195aae"
      }
     },
     "d7d6cb7edebd4cd68a17531d3de82007": {
      "model_module": "@jupyter-widgets/base",
      "model_module_version": "1.2.0",
      "model_name": "LayoutModel",
      "state": {}
     },
     "d7ff21b677224a95942a6fb2aad544f0": {
      "model_module": "@jupyter-widgets/controls",
      "model_module_version": "1.5.0",
      "model_name": "DescriptionStyleModel",
      "state": {
       "description_width": ""
      }
     },
     "d82566ba9b7e4ba7a4370f85df558173": {
      "model_module": "@jupyter-widgets/controls",
      "model_module_version": "1.5.0",
      "model_name": "VBoxModel",
      "state": {
       "_dom_classes": [
        "widget-interact"
       ],
       "children": [
        "IPY_MODEL_dd488ae105d940c8a304d4f74ef03f3d",
        "IPY_MODEL_f72242c8ab2e4c059e69474e88073c7d",
        "IPY_MODEL_f0a2211ed6564edb8e5472ca23fe21b3",
        "IPY_MODEL_e719b2cd891a4095b94bc18a60c15000",
        "IPY_MODEL_19dab434d6bc42edb5f8004434d4c651",
        "IPY_MODEL_36693922283d49feb063c2d38131595b",
        "IPY_MODEL_8abc06738b514a42be321aca7084b646",
        "IPY_MODEL_e689f9ba6c5b4967936cf77de1db8881",
        "IPY_MODEL_fdbda2f136d94164839d2509443de23c",
        "IPY_MODEL_8467d4fd8d944e899961bcd9a0ab4d5a"
       ],
       "layout": "IPY_MODEL_d8a6e3ef5e5c42f8b68f98b23810bfde"
      }
     },
     "d838689213c84e6095433f5b4242ef15": {
      "model_module": "@jupyter-widgets/base",
      "model_module_version": "1.2.0",
      "model_name": "LayoutModel",
      "state": {
       "display": "flex",
       "width": "90%"
      }
     },
     "d83ef88a8baa49c2b7f60366ab16b65e": {
      "model_module": "jupyter-matplotlib",
      "model_module_version": "^0.9.0",
      "model_name": "ToolbarModel",
      "state": {
       "layout": "IPY_MODEL_f9379f8be24143cea8b777113dca94d7",
       "toolitems": [
        [
         "Home",
         "Reset original view",
         "home",
         "home"
        ],
        [
         "Back",
         "Back to previous view",
         "arrow-left",
         "back"
        ],
        [
         "Forward",
         "Forward to next view",
         "arrow-right",
         "forward"
        ],
        [
         "Pan",
         "Left button pans, Right button zooms\nx/y fixes axis, CTRL fixes aspect",
         "arrows",
         "pan"
        ],
        [
         "Zoom",
         "Zoom to rectangle\nx/y fixes axis, CTRL fixes aspect",
         "square-o",
         "zoom"
        ],
        [
         "Download",
         "Download plot",
         "floppy-o",
         "save_figure"
        ]
       ]
      }
     },
     "d856dcf043fb4f9190c64393c7e9703a": {
      "model_module": "@jupyter-widgets/base",
      "model_module_version": "1.2.0",
      "model_name": "LayoutModel",
      "state": {}
     },
     "d88901508d4b40c18b3dfc98e96c57a1": {
      "model_module": "@jupyter-widgets/controls",
      "model_module_version": "1.5.0",
      "model_name": "SliderStyleModel",
      "state": {
       "description_width": "initial"
      }
     },
     "d8a6e3ef5e5c42f8b68f98b23810bfde": {
      "model_module": "@jupyter-widgets/base",
      "model_module_version": "1.2.0",
      "model_name": "LayoutModel",
      "state": {}
     },
     "d8b3c347e4f74e0896ddd14649c4e981": {
      "model_module": "@jupyter-widgets/controls",
      "model_module_version": "1.5.0",
      "model_name": "LabelModel",
      "state": {
       "layout": "IPY_MODEL_3203d98656614f5ca8bdc81a1ba9911c",
       "style": "IPY_MODEL_977a09a416264d2393aa44cae647d134",
       "value": "Número de pontos ="
      }
     },
     "d8c679d726be40e795ab48cd67097e61": {
      "model_module": "@jupyter-widgets/base",
      "model_module_version": "1.2.0",
      "model_name": "LayoutModel",
      "state": {}
     },
     "d8cda1c3810f4dd4bbf788df067077d3": {
      "model_module": "@jupyter-widgets/controls",
      "model_module_version": "1.5.0",
      "model_name": "LabelModel",
      "state": {
       "layout": "IPY_MODEL_fda53f5820424704bc954d65e960ef5b",
       "style": "IPY_MODEL_3a3ead67103945dd97a01c4cd81f779e",
       "value": "Largura do domínio (angstroms) ="
      }
     },
     "d8d3e75ade074b29aa34c872a2d5fb85": {
      "model_module": "@jupyter-widgets/controls",
      "model_module_version": "1.5.0",
      "model_name": "GridBoxModel",
      "state": {
       "children": [
        "IPY_MODEL_915141ff8175425ca036372b30fcebca",
        "IPY_MODEL_bc51127f8d364fe59dc208006f0c0f65",
        "IPY_MODEL_64b0e9a6e27d415e99992d13b44f2a28",
        "IPY_MODEL_b1095ced922b4bdfad50384325d7f154",
        "IPY_MODEL_107bfd54a3a84431a399a426ccc0171b",
        "IPY_MODEL_9d58282f2c9b4f14bd5ca6189de07e05",
        "IPY_MODEL_7492201c57264f94a8216bbed956ffd5",
        "IPY_MODEL_97ccb2a9c9374e7696fa20e8be04b886",
        "IPY_MODEL_0383828af7e24d7ba68b886c33f490ff",
        "IPY_MODEL_35c1eb153caa418e82debbba7f0ae34e"
       ],
       "layout": "IPY_MODEL_47c33b602a3c4192be8e727e46b82b93"
      }
     },
     "d8eb845a2e104b61ade3eeb3b5ba8472": {
      "model_module": "@jupyter-widgets/base",
      "model_module_version": "1.2.0",
      "model_name": "LayoutModel",
      "state": {}
     },
     "d8ecc57197884294a17499213dfbf79d": {
      "model_module": "@jupyter-widgets/base",
      "model_module_version": "1.2.0",
      "model_name": "LayoutModel",
      "state": {}
     },
     "d916c209e1d64265900b66d99f8354a3": {
      "model_module": "@jupyter-widgets/controls",
      "model_module_version": "1.5.0",
      "model_name": "LabelModel",
      "state": {
       "layout": "IPY_MODEL_bf2c2d9de5eb411a9c904b71709251ee",
       "style": "IPY_MODEL_0d95b50e8de44bfebd19fdedc9b61b98",
       "value": "Número de pontos ="
      }
     },
     "d9411e6a52494a558e636791df7f7bfb": {
      "model_module": "@jupyter-widgets/base",
      "model_module_version": "1.2.0",
      "model_name": "LayoutModel",
      "state": {
       "width": "100%"
      }
     },
     "d963fb87ae624b0a8bcccde992635bc6": {
      "model_module": "@jupyter-widgets/controls",
      "model_module_version": "1.5.0",
      "model_name": "GridBoxModel",
      "state": {
       "children": [
        "IPY_MODEL_234837d14f9f472bb32bb7c069f56e24",
        "IPY_MODEL_d0ce2ef8dfaa4f2aabc130a75c34ba2c",
        "IPY_MODEL_aa96a13543d245f59538947f0754ad19",
        "IPY_MODEL_1c243d7e53164a68ac4007783849ecf3",
        "IPY_MODEL_13c490ce50a04d1cb55d492893b4df64",
        "IPY_MODEL_139389e4a66948b8a2f2a2870ef00cbb",
        "IPY_MODEL_144165061db9445bab630bbcb3dac448",
        "IPY_MODEL_f5a9d77c7a994168bd591971fae67940",
        "IPY_MODEL_73f2879e24334a6f90c10b12c4eb1cb9",
        "IPY_MODEL_95d420acf6af4507885c0d33e4011b53"
       ],
       "layout": "IPY_MODEL_a1df8dfc1e204d24ac9ac7a3ee339bcf"
      }
     },
     "d9867bb2ea2c4706be95ca85577c4eb5": {
      "model_module": "@jupyter-widgets/controls",
      "model_module_version": "1.5.0",
      "model_name": "DropdownModel",
      "state": {
       "_options_labels": [
        "densidades de probabilidades",
        "funções de onda (parte real, +)",
        "funções de onda (parte imaginária)"
       ],
       "description": "Plotar as",
       "index": 0,
       "layout": "IPY_MODEL_60dfb61d0d6d44e18fd8049a9e990869",
       "style": "IPY_MODEL_565ef4928b0548dfa7f5c20431613c0c"
      }
     },
     "d99535ed0d764254945c8518aaea1a7b": {
      "model_module": "@jupyter-widgets/controls",
      "model_module_version": "1.5.0",
      "model_name": "TextModel",
      "state": {
       "description": "Expressão de $V(x)$: ",
       "layout": "IPY_MODEL_27d298ae1d4842cf9f812d6a3b8ed8d2",
       "placeholder": "Escreva a expressão aqui.",
       "style": "IPY_MODEL_c0c47dd0f36947d88242b3301c3192b8",
       "value": "(1e-5)*(x**2)+(1e-7)*(x**4)"
      }
     },
     "d9e278981a4e4c77ae2b02f30bf230d4": {
      "model_module": "@jupyter-widgets/base",
      "model_module_version": "1.2.0",
      "model_name": "LayoutModel",
      "state": {}
     },
     "d9e34ccc0e2340e1b45e51e8a1897909": {
      "model_module": "@jupyter-widgets/controls",
      "model_module_version": "1.5.0",
      "model_name": "ButtonStyleModel",
      "state": {}
     },
     "da102fff524e410db81af83618f325f7": {
      "model_module": "@jupyter-widgets/base",
      "model_module_version": "1.2.0",
      "model_name": "LayoutModel",
      "state": {}
     },
     "da1e82f5444a45f6ab4743a1155c6aba": {
      "model_module": "jupyter-matplotlib",
      "model_module_version": "^0.9.0",
      "model_name": "ToolbarModel",
      "state": {
       "layout": "IPY_MODEL_e3536e048b9e4868b3f3a7e982504fe1",
       "toolitems": [
        [
         "Home",
         "Reset original view",
         "home",
         "home"
        ],
        [
         "Back",
         "Back to previous view",
         "arrow-left",
         "back"
        ],
        [
         "Forward",
         "Forward to next view",
         "arrow-right",
         "forward"
        ],
        [
         "Pan",
         "Left button pans, Right button zooms\nx/y fixes axis, CTRL fixes aspect",
         "arrows",
         "pan"
        ],
        [
         "Zoom",
         "Zoom to rectangle\nx/y fixes axis, CTRL fixes aspect",
         "square-o",
         "zoom"
        ],
        [
         "Download",
         "Download plot",
         "floppy-o",
         "save_figure"
        ]
       ]
      }
     },
     "da6498c562aa4978a9d4032a40094842": {
      "model_module": "@jupyter-widgets/controls",
      "model_module_version": "1.5.0",
      "model_name": "TabModel",
      "state": {
       "_titles": {
        "0": "Gerar o Sistema",
        "1": "Funções de Onda"
       },
       "children": [
        "IPY_MODEL_acccb73632884e25935cf16bffd1644a",
        "IPY_MODEL_df563d644019418785f48d6af5b71d98"
       ],
       "layout": "IPY_MODEL_ab1c8b9bbf2b4621bca5b462e5a5c7ee",
       "selected_index": 1
      }
     },
     "da793c89dac541ada7578098a09b3070": {
      "model_module": "@jupyter-widgets/controls",
      "model_module_version": "1.5.0",
      "model_name": "ButtonStyleModel",
      "state": {}
     },
     "da7daccc605c443e928cbfa50abec147": {
      "model_module": "@jupyter-widgets/controls",
      "model_module_version": "1.5.0",
      "model_name": "ButtonStyleModel",
      "state": {}
     },
     "da97a3672779438dbf4569f63b9c2a45": {
      "model_module": "jupyter-matplotlib",
      "model_module_version": "^0.9.0",
      "model_name": "ToolbarModel",
      "state": {
       "layout": "IPY_MODEL_8c4cbacd25014cba88c63e9ec56b95e2",
       "toolitems": [
        [
         "Home",
         "Reset original view",
         "home",
         "home"
        ],
        [
         "Back",
         "Back to previous view",
         "arrow-left",
         "back"
        ],
        [
         "Forward",
         "Forward to next view",
         "arrow-right",
         "forward"
        ],
        [
         "Pan",
         "Left button pans, Right button zooms\nx/y fixes axis, CTRL fixes aspect",
         "arrows",
         "pan"
        ],
        [
         "Zoom",
         "Zoom to rectangle\nx/y fixes axis, CTRL fixes aspect",
         "square-o",
         "zoom"
        ],
        [
         "Download",
         "Download plot",
         "floppy-o",
         "save_figure"
        ]
       ]
      }
     },
     "daa598ed7176418e89668bddff182bf4": {
      "model_module": "@jupyter-widgets/base",
      "model_module_version": "1.2.0",
      "model_name": "LayoutModel",
      "state": {}
     },
     "dae7c281efa84584b089045734ef1389": {
      "model_module": "@jupyter-widgets/controls",
      "model_module_version": "1.5.0",
      "model_name": "FloatRangeSliderModel",
      "state": {
       "_model_name": "FloatRangeSliderModel",
       "_view_name": "FloatRangeSliderView",
       "continuous_update": false,
       "description": "Domínio de $\\Psi(x)$: ",
       "layout": "IPY_MODEL_68c51c051cb44ff8abf5058b8b77093c",
       "max": 150,
       "min": -150,
       "readout_format": "1d",
       "style": "IPY_MODEL_0f393af10a50414d87200364bbe45675",
       "value": [
        -35,
        35
       ]
      }
     },
     "db0205253be8483b9ca2af3c689d9829": {
      "model_module": "@jupyter-widgets/controls",
      "model_module_version": "1.5.0",
      "model_name": "DescriptionStyleModel",
      "state": {
       "description_width": ""
      }
     },
     "db7ada49abe34f269259785e8cfd320c": {
      "model_module": "@jupyter-widgets/controls",
      "model_module_version": "1.5.0",
      "model_name": "DescriptionStyleModel",
      "state": {
       "description_width": "initial"
      }
     },
     "dba6fb5026234d03980ac194cacb8026": {
      "model_module": "@jupyter-widgets/controls",
      "model_module_version": "1.5.0",
      "model_name": "GridBoxModel",
      "state": {
       "children": [
        "IPY_MODEL_f1372618c9514a94bf2af15a6f8a4d12",
        "IPY_MODEL_cd892c47826147ec9936ecc9dc717881",
        "IPY_MODEL_b896ad0004bf47aa835e97d5ab216a4b",
        "IPY_MODEL_46ffa85885f74247ba24ce09719d60aa",
        "IPY_MODEL_7355aa02f1824458b8f4d28c2e2a950c",
        "IPY_MODEL_733b8f57b2fb44f2ab120a4a3ebfa372",
        "IPY_MODEL_14b4e44a1ebf4faf9a622942f268185e",
        "IPY_MODEL_7c1d90b25c5b4f77bdd0ff6208d99949",
        "IPY_MODEL_4bf58324291f40d8a53e02817cdc89d7",
        "IPY_MODEL_4cbf40f40587466581fa04360139422f"
       ],
       "layout": "IPY_MODEL_924822d20b0844f69d625be1eeeef1eb"
      }
     },
     "dc2adbd3cee549ce9aae0d8340aa8395": {
      "model_module": "@jupyter-widgets/controls",
      "model_module_version": "1.5.0",
      "model_name": "SliderStyleModel",
      "state": {
       "description_width": "initial"
      }
     },
     "dc550bbc69b240ae86aa3ed02b02ed5f": {
      "model_module": "@jupyter-widgets/controls",
      "model_module_version": "1.5.0",
      "model_name": "ButtonStyleModel",
      "state": {}
     },
     "dc6763c4b6444f5891d1c391a5703156": {
      "model_module": "jupyter-matplotlib",
      "model_module_version": "^0.9.0",
      "model_name": "ToolbarModel",
      "state": {
       "layout": "IPY_MODEL_91e9b20beeed4d40a797a791e38f7edf",
       "toolitems": [
        [
         "Home",
         "Reset original view",
         "home",
         "home"
        ],
        [
         "Back",
         "Back to previous view",
         "arrow-left",
         "back"
        ],
        [
         "Forward",
         "Forward to next view",
         "arrow-right",
         "forward"
        ],
        [
         "Pan",
         "Left button pans, Right button zooms\nx/y fixes axis, CTRL fixes aspect",
         "arrows",
         "pan"
        ],
        [
         "Zoom",
         "Zoom to rectangle\nx/y fixes axis, CTRL fixes aspect",
         "square-o",
         "zoom"
        ],
        [
         "Download",
         "Download plot",
         "floppy-o",
         "save_figure"
        ]
       ]
      }
     },
     "dc7144b25743493496e4e20eec0db803": {
      "model_module": "@jupyter-widgets/controls",
      "model_module_version": "1.5.0",
      "model_name": "DescriptionStyleModel",
      "state": {
       "description_width": ""
      }
     },
     "dce59ee2411449e58673fce81a84802b": {
      "model_module": "@jupyter-widgets/controls",
      "model_module_version": "1.5.0",
      "model_name": "ButtonModel",
      "state": {
       "description": "Pöschl–Teller",
       "layout": "IPY_MODEL_0db302cdb17846929485bd57555c229d",
       "style": "IPY_MODEL_f245edfe9b5c4aea90d1557a4dfa208b"
      }
     },
     "dce600f039a744faa2089b3eab6644f4": {
      "model_module": "@jupyter-widgets/controls",
      "model_module_version": "1.5.0",
      "model_name": "IntRangeSliderModel",
      "state": {
       "_model_name": "IntRangeSliderModel",
       "_view_name": "IntRangeSliderView",
       "continuous_update": false,
       "description": "Plotar estados:",
       "layout": "IPY_MODEL_16010a52e9f5434c96eff916c5d6459a",
       "max": 20,
       "style": "IPY_MODEL_3acbdb2721e643508f672716b5dce470",
       "value": [
        0,
        10
       ]
      }
     },
     "dd23d981c49f4eef942620e45e9933ae": {
      "model_module": "@jupyter-widgets/controls",
      "model_module_version": "1.5.0",
      "model_name": "ButtonStyleModel",
      "state": {}
     },
     "dd3b85c3120149ad81305fbe09bcf31b": {
      "model_module": "@jupyter-widgets/base",
      "model_module_version": "1.2.0",
      "model_name": "LayoutModel",
      "state": {}
     },
     "dd488ae105d940c8a304d4f74ef03f3d": {
      "model_module": "@jupyter-widgets/controls",
      "model_module_version": "1.5.0",
      "model_name": "IntRangeSliderModel",
      "state": {
       "_model_name": "IntRangeSliderModel",
       "_view_name": "IntRangeSliderView",
       "continuous_update": false,
       "description": "Plotar estados:",
       "layout": "IPY_MODEL_21455e0c53a34a9bbf221a1873be28b1",
       "max": 20,
       "style": "IPY_MODEL_323f81e6612242d89f5a01e809d292e4",
       "value": [
        0,
        10
       ]
      }
     },
     "dd55fa8a1fba44db9a258dd02bf0b979": {
      "model_module": "@jupyter-widgets/controls",
      "model_module_version": "1.5.0",
      "model_name": "DescriptionStyleModel",
      "state": {
       "description_width": ""
      }
     },
     "dd85b8b2a5a845708d9289e473634351": {
      "model_module": "@jupyter-widgets/controls",
      "model_module_version": "1.5.0",
      "model_name": "GridBoxModel",
      "state": {
       "children": [
        "IPY_MODEL_5a81c73e999247a9859d77b73829889d",
        "IPY_MODEL_32e5456177784a9283d4c0f10cf7cb3a",
        "IPY_MODEL_85f371b275684c909cd980de41433dd2",
        "IPY_MODEL_3f97321c34924f3dacc9bc7643b42be5",
        "IPY_MODEL_e9d2ec76f5c54f659be8af6e9a038756",
        "IPY_MODEL_ea7dbb0786c74195b36eb40fb54109e6",
        "IPY_MODEL_23d049ca75aa42469ca3110f871506d7",
        "IPY_MODEL_59007d9116b0418a82d6b993491d5845",
        "IPY_MODEL_d916c209e1d64265900b66d99f8354a3",
        "IPY_MODEL_ea1f36c9749b47b59172b43bcf9bff60"
       ],
       "layout": "IPY_MODEL_927692adc68a4d2996bb95f4ef19e3f2"
      }
     },
     "dd98641585cd4a9e97d5808c7d15e582": {
      "model_module": "@jupyter-widgets/controls",
      "model_module_version": "1.5.0",
      "model_name": "DropdownModel",
      "state": {
       "_options_labels": [
        "densidades de probabilidades",
        "funções de onda (parte real, +)",
        "funções de onda (parte imaginária)"
       ],
       "description": "Plotar as",
       "index": 0,
       "layout": "IPY_MODEL_71ebd2870b714b7d8a5fd904135ea104",
       "style": "IPY_MODEL_28075881a80a427aa37575f973d3c901"
      }
     },
     "ddfc4aac1da74d188b0c88f6be770441": {
      "model_module": "@jupyter-widgets/controls",
      "model_module_version": "1.5.0",
      "model_name": "ButtonStyleModel",
      "state": {}
     },
     "de17b54aaf824ee18a294650dd37ef66": {
      "model_module": "@jupyter-widgets/controls",
      "model_module_version": "1.5.0",
      "model_name": "DescriptionStyleModel",
      "state": {
       "description_width": "initial"
      }
     },
     "de1e84cc334d4808a37047941ec2c54a": {
      "model_module": "@jupyter-widgets/base",
      "model_module_version": "1.2.0",
      "model_name": "LayoutModel",
      "state": {}
     },
     "de63c9804ebc4281ad0e4452832555f9": {
      "model_module": "@jupyter-widgets/controls",
      "model_module_version": "1.5.0",
      "model_name": "ButtonStyleModel",
      "state": {}
     },
     "de7aa5e5125748f88bf4d6f159c936db": {
      "model_module": "@jupyter-widgets/controls",
      "model_module_version": "1.5.0",
      "model_name": "DescriptionStyleModel",
      "state": {
       "description_width": "initial"
      }
     },
     "de7f5c86b2da4b6999cdb586ae723c53": {
      "model_module": "@jupyter-widgets/controls",
      "model_module_version": "1.5.0",
      "model_name": "ButtonStyleModel",
      "state": {}
     },
     "de8137d2da714f578d12079bce0392e3": {
      "model_module": "@jupyter-widgets/base",
      "model_module_version": "1.2.0",
      "model_name": "LayoutModel",
      "state": {}
     },
     "de8aba30e3ad487c870bd28a11aa4654": {
      "model_module": "@jupyter-widgets/controls",
      "model_module_version": "1.5.0",
      "model_name": "ButtonModel",
      "state": {
       "description": "Diagonalize...",
       "disabled": true,
       "layout": "IPY_MODEL_a5dd0b5ffec242d0aca97502255d50af",
       "style": "IPY_MODEL_c010b4c6318c474980c2c635a4dd9dc9"
      }
     },
     "deb4319f9d2f4358b1ec951f1eaf5103": {
      "model_module": "@jupyter-widgets/controls",
      "model_module_version": "1.5.0",
      "model_name": "ButtonModel",
      "state": {
       "description": "Diagonalizando...",
       "layout": "IPY_MODEL_ab0232bd29674459a683e3a793eab43f",
       "style": "IPY_MODEL_02f2c6849a524a849ee97aa5d117a776"
      }
     },
     "ded84bd1e159433e99bffd4566e8905f": {
      "model_module": "@jupyter-widgets/base",
      "model_module_version": "1.2.0",
      "model_name": "LayoutModel",
      "state": {}
     },
     "def1738156dd4526b1ddb9ca3567fc1f": {
      "model_module": "@jupyter-widgets/base",
      "model_module_version": "1.2.0",
      "model_name": "LayoutModel",
      "state": {
       "width": "100%"
      }
     },
     "df365bdf2ecb4a5f89c0f26052246f9e": {
      "model_module": "@jupyter-widgets/base",
      "model_module_version": "1.2.0",
      "model_name": "LayoutModel",
      "state": {}
     },
     "df3a46a6f23d4a7eb2af948c08f4fe35": {
      "model_module": "@jupyter-widgets/controls",
      "model_module_version": "1.5.0",
      "model_name": "VBoxModel",
      "state": {
       "children": [
        "IPY_MODEL_fd86af55db8d4a9a865739f48f8687d0",
        "IPY_MODEL_44397f803dd04accae488a2e4794de19",
        "IPY_MODEL_887d532b56094710acc1fe6463d610c2"
       ],
       "layout": "IPY_MODEL_be8d86299e814f8cab118d1d3670585d"
      }
     },
     "df4c6eacab024e8b96e575a7e028f14e": {
      "model_module": "@jupyter-widgets/base",
      "model_module_version": "1.2.0",
      "model_name": "LayoutModel",
      "state": {}
     },
     "df563d644019418785f48d6af5b71d98": {
      "model_module": "@jupyter-widgets/controls",
      "model_module_version": "1.5.0",
      "model_name": "VBoxModel",
      "state": {
       "_dom_classes": [
        "widget-interact"
       ],
       "children": [
        "IPY_MODEL_f3234802d126420db6820d36c5601fca",
        "IPY_MODEL_ca9b09a1d4f14c94ba14bfaf507db613",
        "IPY_MODEL_79cdd72176c64eb795789379acf8ddcf",
        "IPY_MODEL_9005728322094b13a494bc74de339276",
        "IPY_MODEL_27db3e73103f426ca36576bcfaf6ebe0",
        "IPY_MODEL_983cff9f149a4e6fb5e6551b974d18bb",
        "IPY_MODEL_e72de59d052a43a0a88ff1c909e7729c",
        "IPY_MODEL_9c0efea23b3849fab5bc23c4fee593dc",
        "IPY_MODEL_3c244fb74e3c4e35890edf1cd3a2411f",
        "IPY_MODEL_a169316f66774d5d88c9217ada1f4ebd"
       ],
       "layout": "IPY_MODEL_6b837ad13e1e441caf7d9d2120a519fb"
      }
     },
     "df70e45ba49c4a18814a9110885bd1c5": {
      "model_module": "@jupyter-widgets/controls",
      "model_module_version": "1.5.0",
      "model_name": "VBoxModel",
      "state": {
       "children": [
        "IPY_MODEL_6835b361a5fe4a2db26452ddd3511085",
        "IPY_MODEL_c60f43db3f59431fa9a613ea5535f58e"
       ],
       "layout": "IPY_MODEL_f893770ea439441182f64171b74365d1"
      }
     },
     "df7efa9675eb4a609cc25f6f33c633ab": {
      "model_module": "@jupyter-widgets/base",
      "model_module_version": "1.2.0",
      "model_name": "LayoutModel",
      "state": {}
     },
     "dfabe382d4be440c85676a941027e652": {
      "model_module": "@jupyter-widgets/controls",
      "model_module_version": "1.5.0",
      "model_name": "DescriptionStyleModel",
      "state": {
       "description_width": "initial"
      }
     },
     "dfbf2948fa7746159f2d48751ca9b795": {
      "model_module": "@jupyter-widgets/base",
      "model_module_version": "1.2.0",
      "model_name": "LayoutModel",
      "state": {}
     },
     "dfc52a601f484a378569109a7a85f039": {
      "model_module": "@jupyter-widgets/controls",
      "model_module_version": "1.5.0",
      "model_name": "SliderStyleModel",
      "state": {
       "description_width": "initial"
      }
     },
     "dfcfdea88a4846c3a9234f0a3886ac35": {
      "model_module": "@jupyter-widgets/controls",
      "model_module_version": "1.5.0",
      "model_name": "ButtonStyleModel",
      "state": {}
     },
     "e03f75a9208e4f37aa9d01d71ba53ddd": {
      "model_module": "@jupyter-widgets/controls",
      "model_module_version": "1.5.0",
      "model_name": "ButtonStyleModel",
      "state": {}
     },
     "e06aa9fc9dff49d1a819237f87e52f1b": {
      "model_module": "@jupyter-widgets/controls",
      "model_module_version": "1.5.0",
      "model_name": "DescriptionStyleModel",
      "state": {
       "description_width": ""
      }
     },
     "e0ad49f724a64dc2b082bfc3e9c98a4a": {
      "model_module": "@jupyter-widgets/base",
      "model_module_version": "1.2.0",
      "model_name": "LayoutModel",
      "state": {}
     },
     "e0ca8a0638904d19888fc356abcae730": {
      "model_module": "@jupyter-widgets/controls",
      "model_module_version": "1.5.0",
      "model_name": "IntSliderModel",
      "state": {
       "description": "Altura da imagem (polegadas): ",
       "layout": "IPY_MODEL_27d298ae1d4842cf9f812d6a3b8ed8d2",
       "max": 20,
       "style": "IPY_MODEL_3a8d1d445bfc4d6f988540de2a86fc2a",
       "value": 9
      }
     },
     "e0caa24d0e9d439692a5ddfc5254a793": {
      "model_module": "@jupyter-widgets/controls",
      "model_module_version": "1.5.0",
      "model_name": "ButtonStyleModel",
      "state": {}
     },
     "e0cc971c2f324993ab68974de58552bf": {
      "model_module": "@jupyter-widgets/controls",
      "model_module_version": "1.5.0",
      "model_name": "TabModel",
      "state": {
       "_titles": {
        "0": "Gerar o Sistema",
        "1": "Funções de Onda"
       },
       "children": [
        "IPY_MODEL_d02fb11b15b04250b3c4e7ff494f68e7",
        "IPY_MODEL_c9957155a18e4415a8f986a6455d1bc4"
       ],
       "layout": "IPY_MODEL_bad9b2cb673a404fa3d2e86dc5742c65",
       "selected_index": 1
      }
     },
     "e0ecb2d5c1834e5b80243ac2757b01f7": {
      "model_module": "@jupyter-widgets/controls",
      "model_module_version": "1.5.0",
      "model_name": "SliderStyleModel",
      "state": {
       "description_width": "initial"
      }
     },
     "e11331a26a8446b1957390e9da734023": {
      "model_module": "@jupyter-widgets/controls",
      "model_module_version": "1.5.0",
      "model_name": "FloatRangeSliderModel",
      "state": {
       "_model_name": "FloatRangeSliderModel",
       "_view_name": "FloatRangeSliderView",
       "description": "Limites do eixo y (eV):",
       "layout": "IPY_MODEL_69cf41ff543e47358fa11aec2440c8d7",
       "max": 10,
       "min": -10,
       "readout_format": ".1f",
       "step": 0.005,
       "style": "IPY_MODEL_8cebe98fba184b698f153a4360745a17",
       "value": [
        -2,
        2
       ]
      }
     },
     "e12e82a0a1064e1fbe1f3368e880e61d": {
      "model_module": "@jupyter-widgets/controls",
      "model_module_version": "1.5.0",
      "model_name": "FloatRangeSliderModel",
      "state": {
       "_model_name": "FloatRangeSliderModel",
       "_view_name": "FloatRangeSliderView",
       "continuous_update": false,
       "description": "Domínio de $\\Psi(x)$: ",
       "layout": "IPY_MODEL_27d298ae1d4842cf9f812d6a3b8ed8d2",
       "max": 150,
       "min": -150,
       "readout_format": "1d",
       "style": "IPY_MODEL_ae4f56f1c1544a9ebda0a81ab8af0e37",
       "value": [
        -35,
        35
       ]
      }
     },
     "e12f5d8c350246ba99c35412345a3a5c": {
      "model_module": "@jupyter-widgets/controls",
      "model_module_version": "1.5.0",
      "model_name": "SliderStyleModel",
      "state": {
       "description_width": "initial"
      }
     },
     "e149ad4cd3dc4537902937025340ab34": {
      "model_module": "@jupyter-widgets/controls",
      "model_module_version": "1.5.0",
      "model_name": "ButtonStyleModel",
      "state": {}
     },
     "e1bb9e49a9a24b929832abaa8dff564b": {
      "model_module": "@jupyter-widgets/controls",
      "model_module_version": "1.5.0",
      "model_name": "DescriptionStyleModel",
      "state": {
       "description_width": ""
      }
     },
     "e1cf80298f584ba68e3235435324b8b7": {
      "model_module": "@jupyter-widgets/controls",
      "model_module_version": "1.5.0",
      "model_name": "LabelModel",
      "state": {
       "layout": "IPY_MODEL_baeec85885464de881c6b6d69ffdc6ed",
       "style": "IPY_MODEL_31e630cd1daa40d38042223b65b44869",
       "value": "Expressão V(x) ="
      }
     },
     "e1f04c5592ab4c18b1aa1b3729bd1639": {
      "model_module": "jupyter-matplotlib",
      "model_module_version": "^0.9.0",
      "model_name": "ToolbarModel",
      "state": {
       "layout": "IPY_MODEL_25e8b87b3568469089472b51571b486b",
       "toolitems": [
        [
         "Home",
         "Reset original view",
         "home",
         "home"
        ],
        [
         "Back",
         "Back to previous view",
         "arrow-left",
         "back"
        ],
        [
         "Forward",
         "Forward to next view",
         "arrow-right",
         "forward"
        ],
        [
         "Pan",
         "Left button pans, Right button zooms\nx/y fixes axis, CTRL fixes aspect",
         "arrows",
         "pan"
        ],
        [
         "Zoom",
         "Zoom to rectangle\nx/y fixes axis, CTRL fixes aspect",
         "square-o",
         "zoom"
        ],
        [
         "Download",
         "Download plot",
         "floppy-o",
         "save_figure"
        ]
       ]
      }
     },
     "e23a9c902fef49f0a2b70db765158b70": {
      "model_module": "@jupyter-widgets/controls",
      "model_module_version": "1.5.0",
      "model_name": "DescriptionStyleModel",
      "state": {
       "description_width": ""
      }
     },
     "e26f102de4a244098f381112d37a7f6b": {
      "model_module": "@jupyter-widgets/controls",
      "model_module_version": "1.5.0",
      "model_name": "ButtonModel",
      "state": {
       "description": "Campo Uniforme (-)",
       "layout": "IPY_MODEL_75b6fde36a4d421e830f3923e018a80b",
       "style": "IPY_MODEL_a527d3977e68493eb9c0f129d999482a"
      }
     },
     "e29ed71e80f04e558ee8dbd3f724642a": {
      "model_module": "@jupyter-widgets/controls",
      "model_module_version": "1.5.0",
      "model_name": "ButtonModel",
      "state": {
       "description": "Lennard Jones",
       "layout": "IPY_MODEL_46532184df7e45369ba335ef1bb3afde",
       "style": "IPY_MODEL_23752724e1b5492f89455464771369ea"
      }
     },
     "e2a13e515cf04c68b9a8543cfe8b1ee6": {
      "model_module": "@jupyter-widgets/base",
      "model_module_version": "1.2.0",
      "model_name": "LayoutModel",
      "state": {
       "grid_template_columns": "repeat(auto-fill, 180px)"
      }
     },
     "e2a7ec8178264df1b6dda322579846a2": {
      "model_module": "@jupyter-widgets/base",
      "model_module_version": "1.2.0",
      "model_name": "LayoutModel",
      "state": {
       "width": "100%"
      }
     },
     "e2e87ef3c1ca4bfa9799aceb01597c73": {
      "model_module": "@jupyter-widgets/controls",
      "model_module_version": "1.5.0",
      "model_name": "VBoxModel",
      "state": {
       "_dom_classes": [
        "widget-interact"
       ],
       "children": [
        "IPY_MODEL_7c19b9d501de4e79bef0276314f8db2e",
        "IPY_MODEL_27ecbfac9d2c42519132044ea9d58ff6",
        "IPY_MODEL_ba27349e5f5b476092befdc5f47e7edd",
        "IPY_MODEL_981aa3bea8104576a811b3637510f174",
        "IPY_MODEL_4713431e490c4d4994babb2645889851"
       ],
       "layout": "IPY_MODEL_c364bed8484b4e49979f7cc0e43e04ff"
      }
     },
     "e335023a8727424d8727b06613231f37": {
      "model_module": "@jupyter-widgets/base",
      "model_module_version": "1.2.0",
      "model_name": "LayoutModel",
      "state": {}
     },
     "e337be03e4af4b46b3175a32ee56b78f": {
      "model_module": "@jupyter-widgets/controls",
      "model_module_version": "1.5.0",
      "model_name": "LabelModel",
      "state": {
       "layout": "IPY_MODEL_08fdbe8f524640d497ef455ccc44b442",
       "style": "IPY_MODEL_5dcb3192c88f437fa4ffffad8cef9040",
       "value": "V(x)[min,max] (eV) ="
      }
     },
     "e34ccbe057494d4aa1e5f213f541e60c": {
      "model_module": "@jupyter-widgets/controls",
      "model_module_version": "1.5.0",
      "model_name": "IntSliderModel",
      "state": {
       "continuous_update": false,
       "description": "Número de pontos: ",
       "layout": "IPY_MODEL_7a51e32fb9794ecbb476c9152ca90862",
       "max": 1050,
       "min": 50,
       "step": 10,
       "style": "IPY_MODEL_03f925d76564423b9610e7f3952b181a",
       "value": 550
      }
     },
     "e351640199d242b9a87ecd14d0047637": {
      "model_module": "jupyter-matplotlib",
      "model_module_version": "^0.9.0",
      "model_name": "ToolbarModel",
      "state": {
       "layout": "IPY_MODEL_4872bb48876d4d3181542b1625240634",
       "toolitems": [
        [
         "Home",
         "Reset original view",
         "home",
         "home"
        ],
        [
         "Back",
         "Back to previous view",
         "arrow-left",
         "back"
        ],
        [
         "Forward",
         "Forward to next view",
         "arrow-right",
         "forward"
        ],
        [
         "Pan",
         "Left button pans, Right button zooms\nx/y fixes axis, CTRL fixes aspect",
         "arrows",
         "pan"
        ],
        [
         "Zoom",
         "Zoom to rectangle\nx/y fixes axis, CTRL fixes aspect",
         "square-o",
         "zoom"
        ],
        [
         "Download",
         "Download plot",
         "floppy-o",
         "save_figure"
        ]
       ]
      }
     },
     "e3536e048b9e4868b3f3a7e982504fe1": {
      "model_module": "@jupyter-widgets/base",
      "model_module_version": "1.2.0",
      "model_name": "LayoutModel",
      "state": {}
     },
     "e35718696c64468abed81724a378763c": {
      "model_module": "@jupyter-widgets/base",
      "model_module_version": "1.2.0",
      "model_name": "LayoutModel",
      "state": {}
     },
     "e35e653cc37f40c884fb097a74b19720": {
      "model_module": "@jupyter-widgets/base",
      "model_module_version": "1.2.0",
      "model_name": "LayoutModel",
      "state": {}
     },
     "e383f72ccdc946f58bcb4e75882d2ea3": {
      "model_module": "@jupyter-widgets/base",
      "model_module_version": "1.2.0",
      "model_name": "LayoutModel",
      "state": {}
     },
     "e39442e7f45644b2a7b46077ee53d1a0": {
      "model_module": "@jupyter-widgets/controls",
      "model_module_version": "1.5.0",
      "model_name": "VBoxModel",
      "state": {
       "_dom_classes": [
        "widget-interact"
       ],
       "children": [
        "IPY_MODEL_7868f7c5c90a47bd87072bb4d89edc95",
        "IPY_MODEL_31f83bfc8e594cdeb5136a2667cac683",
        "IPY_MODEL_52bb1b94822f49a7a18d8184f5de72ae",
        "IPY_MODEL_9ec961c3dae847b0b56fc047fd0b9bb6",
        "IPY_MODEL_e0ca8a0638904d19888fc356abcae730",
        "IPY_MODEL_ec732525e9e44d0580e55a77fa75a498",
        "IPY_MODEL_bb9b89ca167749bb8275943d7e3ecb02",
        "IPY_MODEL_3b885f13f5cc4b6eba2206cfc68039de",
        "IPY_MODEL_aaee3be1d57a46ea9c26e16610b3ab74",
        "IPY_MODEL_b41a0aa35ac54ab0bc3a93346e5244ff"
       ],
       "layout": "IPY_MODEL_0088f90837094ff0b2265d4b8896a415"
      }
     },
     "e3e26869156c41d8bc3acfd0665e98d7": {
      "model_module": "@jupyter-widgets/controls",
      "model_module_version": "1.5.0",
      "model_name": "ButtonModel",
      "state": {
       "description": "Campo Uniforme (+)",
       "layout": "IPY_MODEL_e605e9904dbe4f49b2407363671bdf9d",
       "style": "IPY_MODEL_20c3320ee80d4f3bbaa17679f941d3ad"
      }
     },
     "e431c72f19f04935b9bebc5b043d6960": {
      "model_module": "@jupyter-widgets/controls",
      "model_module_version": "1.5.0",
      "model_name": "ButtonStyleModel",
      "state": {}
     },
     "e434ff4a64d04cd7992abb94e5680eb9": {
      "model_module": "@jupyter-widgets/controls",
      "model_module_version": "1.5.0",
      "model_name": "ButtonStyleModel",
      "state": {}
     },
     "e44b5970d82b4e9daa840023ccf0534f": {
      "model_module": "@jupyter-widgets/controls",
      "model_module_version": "1.5.0",
      "model_name": "DescriptionStyleModel",
      "state": {
       "description_width": "initial"
      }
     },
     "e452bc689a1c457598197533ab98a04c": {
      "model_module": "@jupyter-widgets/controls",
      "model_module_version": "1.5.0",
      "model_name": "ButtonModel",
      "state": {
       "description": "Pöschl–Teller",
       "layout": "IPY_MODEL_bdcc9a807a114ebeb67443c7d0fd8615",
       "style": "IPY_MODEL_2c71ee7951874dcfb3623504fccf7f82"
      }
     },
     "e498adcca5db483f8e0169dbdd522a87": {
      "model_module": "@jupyter-widgets/base",
      "model_module_version": "1.2.0",
      "model_name": "LayoutModel",
      "state": {}
     },
     "e4f0895da4aa47d8b94c029284b136f8": {
      "model_module": "@jupyter-widgets/base",
      "model_module_version": "1.2.0",
      "model_name": "LayoutModel",
      "state": {}
     },
     "e552d80ba63d4a698339d7bf7166e4ac": {
      "model_module": "@jupyter-widgets/controls",
      "model_module_version": "1.5.0",
      "model_name": "GridBoxModel",
      "state": {
       "children": [
        "IPY_MODEL_64804ad77fbb4c60b1e420a9c9a5f37a",
        "IPY_MODEL_521d293482f14918b9a85a4f1ef30061",
        "IPY_MODEL_d8cda1c3810f4dd4bbf788df067077d3",
        "IPY_MODEL_2b6dda9e302643b296ae66f2f86ab1de",
        "IPY_MODEL_0aa52bd00274437dbe5388717a019d08",
        "IPY_MODEL_8b9893d81a974d779cc7c2a9f3f1e3c0",
        "IPY_MODEL_5e8439ce3c694a96b023eac2233d5a1b",
        "IPY_MODEL_180d5043656e49439d84f11c7af3d90c",
        "IPY_MODEL_4903a5054baf44d9bee6805a764047ec",
        "IPY_MODEL_6d64ac73ff7b40fd8b946b66a363064f"
       ],
       "layout": "IPY_MODEL_4947080afeab49c790aff11a7504bfb3"
      }
     },
     "e5812970dd9b4bfcb2aa9e4ab7c12ff4": {
      "model_module": "@jupyter-widgets/controls",
      "model_module_version": "1.5.0",
      "model_name": "LabelModel",
      "state": {
       "layout": "IPY_MODEL_4dd4edeb6aca495682001b4f80a2302a",
       "style": "IPY_MODEL_ef9223ec65de450aa05424e3b8cbe9dc"
      }
     },
     "e59a9f1aaa984f4eb0f8ce97cfd15507": {
      "model_module": "@jupyter-widgets/controls",
      "model_module_version": "1.5.0",
      "model_name": "VBoxModel",
      "state": {
       "_dom_classes": [
        "widget-interact"
       ],
       "children": [
        "IPY_MODEL_58093febae5a49a5b4713f1686fd1d04",
        "IPY_MODEL_e34ccbe057494d4aa1e5f213f541e60c",
        "IPY_MODEL_c299bb2b8ffe475e833944b7c74cd1d3",
        "IPY_MODEL_8ed90567c3ee440eb3fc482dd950faac",
        "IPY_MODEL_f6b6ae054c424309957e7f7fa3fdeea1"
       ],
       "layout": "IPY_MODEL_8a5d93f41ee44adcb7e4ce291d55481b"
      }
     },
     "e5c15d8057bc42a4bec4695b66a86d43": {
      "model_module": "@jupyter-widgets/controls",
      "model_module_version": "1.5.0",
      "model_name": "SliderStyleModel",
      "state": {
       "description_width": "initial"
      }
     },
     "e600c9bc19fc44db98d1684981349ad7": {
      "model_module": "@jupyter-widgets/base",
      "model_module_version": "1.2.0",
      "model_name": "LayoutModel",
      "state": {}
     },
     "e605e9904dbe4f49b2407363671bdf9d": {
      "model_module": "@jupyter-widgets/base",
      "model_module_version": "1.2.0",
      "model_name": "LayoutModel",
      "state": {}
     },
     "e63627b2f4424784bb7b5c6a8d563e98": {
      "model_module": "@jupyter-widgets/controls",
      "model_module_version": "1.5.0",
      "model_name": "ButtonModel",
      "state": {
       "description": "Duffing Holmes (-)",
       "layout": "IPY_MODEL_c33f77fb64d44cc18de2c1a5f99e55f9",
       "style": "IPY_MODEL_48aebd768c034a1f8628224a70390b9c"
      }
     },
     "e645cf9eab314636ae62e86fd37c5401": {
      "model_module": "@jupyter-widgets/controls",
      "model_module_version": "1.5.0",
      "model_name": "DropdownModel",
      "state": {
       "_options_labels": [
        "densidades de probabilidades",
        "funções de onda (parte real, +)",
        "funções de onda (parte imaginária)"
       ],
       "description": "Plotar as",
       "index": 0,
       "layout": "IPY_MODEL_8c285e1f4e0f401eb0a371c5c4fde2b2",
       "style": "IPY_MODEL_6cc4afd23036472483781605be0a79a6"
      }
     },
     "e656d35ba02545918319884718cabb21": {
      "model_module": "@jupyter-widgets/controls",
      "model_module_version": "1.5.0",
      "model_name": "DescriptionStyleModel",
      "state": {
       "description_width": ""
      }
     },
     "e65978fefa0d447fa228abe1b74059c6": {
      "model_module": "@jupyter-widgets/controls",
      "model_module_version": "1.5.0",
      "model_name": "DescriptionStyleModel",
      "state": {
       "description_width": "initial"
      }
     },
     "e6666d528fd04c46a100830554684026": {
      "model_module": "@jupyter-widgets/base",
      "model_module_version": "1.2.0",
      "model_name": "LayoutModel",
      "state": {}
     },
     "e683a3fcb275485da07049b2ffc50ab6": {
      "model_module": "@jupyter-widgets/controls",
      "model_module_version": "1.5.0",
      "model_name": "DescriptionStyleModel",
      "state": {
       "description_width": ""
      }
     },
     "e689f9ba6c5b4967936cf77de1db8881": {
      "model_module": "@jupyter-widgets/controls",
      "model_module_version": "1.5.0",
      "model_name": "CheckboxModel",
      "state": {
       "description": "Auto limitar eixo y",
       "disabled": false,
       "layout": "IPY_MODEL_3d6edc0b47db49138e1f460fd2b1fedd",
       "style": "IPY_MODEL_263e723372a242c1a98efd9809901736",
       "value": true
      }
     },
     "e6973ee4bb3f4f0984d750e59a727ab7": {
      "model_module": "@jupyter-widgets/controls",
      "model_module_version": "1.5.0",
      "model_name": "ButtonStyleModel",
      "state": {}
     },
     "e69a21247beb4bbf94e6ebdf7ddb77f9": {
      "model_module": "@jupyter-widgets/base",
      "model_module_version": "1.2.0",
      "model_name": "LayoutModel",
      "state": {}
     },
     "e6d241be9ce04efd9168f067f76c9419": {
      "model_module": "@jupyter-widgets/base",
      "model_module_version": "1.2.0",
      "model_name": "LayoutModel",
      "state": {}
     },
     "e70763a925b344a88ad1aaa12927253c": {
      "model_module": "@jupyter-widgets/controls",
      "model_module_version": "1.5.0",
      "model_name": "SliderStyleModel",
      "state": {
       "description_width": "initial"
      }
     },
     "e711e7406240465f9dd23788e106dbca": {
      "model_module": "@jupyter-widgets/controls",
      "model_module_version": "1.5.0",
      "model_name": "LabelModel",
      "state": {
       "layout": "IPY_MODEL_fe9822577e11415f9c23e5c64b1f368c",
       "style": "IPY_MODEL_5ee69f4d740e40bf88ca382291e62229",
       "value": "[0.00000 , 0.87491]"
      }
     },
     "e719b2cd891a4095b94bc18a60c15000": {
      "model_module": "@jupyter-widgets/controls",
      "model_module_version": "1.5.0",
      "model_name": "IntSliderModel",
      "state": {
       "description": "Largura da imagem (polegadas):",
       "layout": "IPY_MODEL_21455e0c53a34a9bbf221a1873be28b1",
       "max": 20,
       "style": "IPY_MODEL_c1c94c5dda0f40db816aac1890d6b869",
       "value": 16
      }
     },
     "e72de59d052a43a0a88ff1c909e7729c": {
      "model_module": "@jupyter-widgets/controls",
      "model_module_version": "1.5.0",
      "model_name": "FloatRangeSliderModel",
      "state": {
       "_model_name": "FloatRangeSliderModel",
       "_view_name": "FloatRangeSliderView",
       "description": "Limites do eixo y (eV):",
       "layout": "IPY_MODEL_bc2be9e3ba6a47ebb89b6e0933f66239",
       "max": 10,
       "min": -10,
       "readout_format": ".1f",
       "step": 0.005,
       "style": "IPY_MODEL_5c2f668790c4404890e7ac64d9519527",
       "value": [
        -2,
        2
       ]
      }
     },
     "e75393f27ae9477fbc102c02f9329d94": {
      "model_module": "@jupyter-widgets/base",
      "model_module_version": "1.2.0",
      "model_name": "LayoutModel",
      "state": {}
     },
     "e80e704aad704770ac5bdad298b6b685": {
      "model_module": "@jupyter-widgets/controls",
      "model_module_version": "1.5.0",
      "model_name": "ButtonModel",
      "state": {
       "description": "Poço Infinito",
       "layout": "IPY_MODEL_9dd9e37854d34ea48376bccc0610622d",
       "style": "IPY_MODEL_ba8d3fe918724f8eb87cbb1802c8d98e"
      }
     },
     "e82dc4e0fd1a4f489e3fd2547cc2999d": {
      "model_module": "@jupyter-widgets/controls",
      "model_module_version": "1.5.0",
      "model_name": "ButtonModel",
      "state": {
       "description": "Duffing Holmes (-)",
       "layout": "IPY_MODEL_ba65afb9f34047729f79318cfb60575a",
       "style": "IPY_MODEL_c59d7ff631da47afa22d75cb29fafe52"
      }
     },
     "e8340474ba3748a98d0ccdb8d14b3e63": {
      "model_module": "@jupyter-widgets/base",
      "model_module_version": "1.2.0",
      "model_name": "LayoutModel",
      "state": {}
     },
     "e87e90132b2d4a27b946fe371568bd4e": {
      "model_module": "@jupyter-widgets/base",
      "model_module_version": "1.2.0",
      "model_name": "LayoutModel",
      "state": {}
     },
     "e8a34b5ef77b42099f8594c9533f7030": {
      "model_module": "@jupyter-widgets/controls",
      "model_module_version": "1.5.0",
      "model_name": "ButtonStyleModel",
      "state": {}
     },
     "e9081ef450b340628278a79a3e689eec": {
      "model_module": "@jupyter-widgets/controls",
      "model_module_version": "1.5.0",
      "model_name": "SliderStyleModel",
      "state": {
       "description_width": "initial"
      }
     },
     "e96f9581d02e4c4c98840f6319a820c0": {
      "model_module": "@jupyter-widgets/controls",
      "model_module_version": "1.5.0",
      "model_name": "ButtonStyleModel",
      "state": {}
     },
     "e9940687fda4400f8da1bd413f7780f8": {
      "model_module": "@jupyter-widgets/base",
      "model_module_version": "1.2.0",
      "model_name": "LayoutModel",
      "state": {}
     },
     "e99fe1c450f14a16892be6d2bbe54dab": {
      "model_module": "@jupyter-widgets/controls",
      "model_module_version": "1.5.0",
      "model_name": "DescriptionStyleModel",
      "state": {
       "description_width": "initial"
      }
     },
     "e9b997f60c3e4efbbdc76ad881b47443": {
      "model_module": "@jupyter-widgets/base",
      "model_module_version": "1.2.0",
      "model_name": "LayoutModel",
      "state": {}
     },
     "e9d2ec76f5c54f659be8af6e9a038756": {
      "model_module": "@jupyter-widgets/controls",
      "model_module_version": "1.5.0",
      "model_name": "LabelModel",
      "state": {
       "layout": "IPY_MODEL_d553cea4ccce4b31bc2ff6426fd11ba6",
       "style": "IPY_MODEL_5185dbfe35bb46bdb647047564c1d620",
       "value": "V(x)[min,max] (eV) ="
      }
     },
     "ea117f0264984f92981685162b1aafd1": {
      "model_module": "@jupyter-widgets/base",
      "model_module_version": "1.2.0",
      "model_name": "LayoutModel",
      "state": {}
     },
     "ea1f36c9749b47b59172b43bcf9bff60": {
      "model_module": "@jupyter-widgets/controls",
      "model_module_version": "1.5.0",
      "model_name": "LabelModel",
      "state": {
       "layout": "IPY_MODEL_f1d856b4182440a284733b1c49afc014",
       "style": "IPY_MODEL_2b8481583bdd41f782f09fabca378dfa",
       "value": " 550"
      }
     },
     "ea41fffbd10a40cfbcd2bf632b1f3577": {
      "model_module": "@jupyter-widgets/base",
      "model_module_version": "1.2.0",
      "model_name": "LayoutModel",
      "state": {}
     },
     "ea574d72201b4bebbd80e0829dfaf1eb": {
      "model_module": "@jupyter-widgets/base",
      "model_module_version": "1.2.0",
      "model_name": "LayoutModel",
      "state": {}
     },
     "ea5ba12ebc7546e88306966de7652112": {
      "model_module": "@jupyter-widgets/base",
      "model_module_version": "1.2.0",
      "model_name": "LayoutModel",
      "state": {}
     },
     "ea7a8de5656242e19fa340e11aa4c65c": {
      "model_module": "@jupyter-widgets/base",
      "model_module_version": "1.2.0",
      "model_name": "LayoutModel",
      "state": {
       "grid_template_columns": "repeat(auto-fill, 180px)"
      }
     },
     "ea7dbb0786c74195b36eb40fb54109e6": {
      "model_module": "@jupyter-widgets/controls",
      "model_module_version": "1.5.0",
      "model_name": "LabelModel",
      "state": {
       "layout": "IPY_MODEL_9bf91244a9f74cebae61e92d5ed36385",
       "style": "IPY_MODEL_983f11bbeace480a8809f54b67367a0e",
       "value": "[0.00000 , 1.95739]"
      }
     },
     "eb319c28ac8345389ebdac01dca0a050": {
      "model_module": "@jupyter-widgets/base",
      "model_module_version": "1.2.0",
      "model_name": "LayoutModel",
      "state": {}
     },
     "eb376106948f4fb4aaae21dd6d5105fc": {
      "model_module": "@jupyter-widgets/controls",
      "model_module_version": "1.5.0",
      "model_name": "DescriptionStyleModel",
      "state": {
       "description_width": ""
      }
     },
     "eb3c78aae0bb4b4f962c45210d667509": {
      "model_module": "@jupyter-widgets/controls",
      "model_module_version": "1.5.0",
      "model_name": "ButtonStyleModel",
      "state": {}
     },
     "eb478d6da55040528d59fe189c893d9b": {
      "model_module": "@jupyter-widgets/controls",
      "model_module_version": "1.5.0",
      "model_name": "LabelModel",
      "state": {
       "layout": "IPY_MODEL_2dd511ab2df14223895fccfc09e4e66d",
       "style": "IPY_MODEL_0eaf3c5987cf4ac48b28b53b99b38357",
       "value": "Largura do domínio (angstroms) ="
      }
     },
     "eb5ba979e70c43a49c42029a982b9ebe": {
      "model_module": "@jupyter-widgets/controls",
      "model_module_version": "1.5.0",
      "model_name": "ButtonStyleModel",
      "state": {}
     },
     "eb8f1f76f22f4d3db012a58ba135e211": {
      "model_module": "@jupyter-widgets/controls",
      "model_module_version": "1.5.0",
      "model_name": "ButtonModel",
      "state": {
       "description": "Diagonalizado!",
       "disabled": true,
       "layout": "IPY_MODEL_3268d73b86f24639a88cae496ccbb74a",
       "style": "IPY_MODEL_dd23d981c49f4eef942620e45e9933ae"
      }
     },
     "ebbccc944f974c3fa18cf21953b0c02d": {
      "model_module": "@jupyter-widgets/base",
      "model_module_version": "1.2.0",
      "model_name": "LayoutModel",
      "state": {}
     },
     "ec02a7c840ce4e3ab4f50eb43b617886": {
      "model_module": "@jupyter-widgets/controls",
      "model_module_version": "1.5.0",
      "model_name": "ButtonModel",
      "state": {
       "description": "Gerar",
       "layout": "IPY_MODEL_eec5c7ac627d4d9aa9a935871b0c1610",
       "style": "IPY_MODEL_66f2e3e6f767406bbf8f8f0a9e574df5"
      }
     },
     "ec5554af28324d5093e3406a4cdb7096": {
      "model_module": "@jupyter-widgets/controls",
      "model_module_version": "1.5.0",
      "model_name": "IntSliderModel",
      "state": {
       "continuous_update": false,
       "description": "Margens horizontais  (angstroms):   ",
       "layout": "IPY_MODEL_7a51e32fb9794ecbb476c9152ca90862",
       "style": "IPY_MODEL_34ac076769bd44e4aa9d1aeabf3bb95d",
       "value": 20
      }
     },
     "ec732525e9e44d0580e55a77fa75a498": {
      "model_module": "@jupyter-widgets/controls",
      "model_module_version": "1.5.0",
      "model_name": "IntSliderModel",
      "state": {
       "description": "Pixels por polegada:",
       "layout": "IPY_MODEL_27d298ae1d4842cf9f812d6a3b8ed8d2",
       "max": 300,
       "min": 10,
       "style": "IPY_MODEL_015e481f008b4427ada9cc3e69fd0aec",
       "value": 100
      }
     },
     "ec85f404f0714290a6cdd3ddc1381107": {
      "model_module": "@jupyter-widgets/base",
      "model_module_version": "1.2.0",
      "model_name": "LayoutModel",
      "state": {}
     },
     "ecb9b944ef0a4a90af150b72889d698b": {
      "model_module": "@jupyter-widgets/base",
      "model_module_version": "1.2.0",
      "model_name": "LayoutModel",
      "state": {}
     },
     "ecbe946eedd94967b5a9e2d44fef3102": {
      "model_module": "@jupyter-widgets/base",
      "model_module_version": "1.2.0",
      "model_name": "LayoutModel",
      "state": {}
     },
     "ecc4c730d6d44172ae21d85d03d4106f": {
      "model_module": "@jupyter-widgets/controls",
      "model_module_version": "1.5.0",
      "model_name": "GridBoxModel",
      "state": {
       "children": [
        "IPY_MODEL_403e1f2a20b6456bb72b24c5c4aeac73",
        "IPY_MODEL_b42678c0bb254ccd90af1533d07389a9",
        "IPY_MODEL_5b8a65a67e92417dbfe54280882da95b",
        "IPY_MODEL_f3c852de6634452eb0967b23bc9560ae",
        "IPY_MODEL_cc89efbcee724dde9e3b715dd6d8af3d",
        "IPY_MODEL_3968a2e26424416e85b0cfab79e9187e",
        "IPY_MODEL_e63627b2f4424784bb7b5c6a8d563e98",
        "IPY_MODEL_3b64568cbb71457cb14eb6434e186592",
        "IPY_MODEL_092f147470094308a596e1f70c9a83b6",
        "IPY_MODEL_02696da36bcc49feb2ebf9bc4265eebe"
       ],
       "layout": "IPY_MODEL_a0d68b55c76e4188ab50a6a09064edb0"
      }
     },
     "eccffce2810140ccb09c99c677c9d7a9": {
      "model_module": "@jupyter-widgets/controls",
      "model_module_version": "1.5.0",
      "model_name": "DescriptionStyleModel",
      "state": {
       "description_width": ""
      }
     },
     "ecfaa277c3b94fb8877a4a1e378bb386": {
      "model_module": "@jupyter-widgets/controls",
      "model_module_version": "1.5.0",
      "model_name": "SliderStyleModel",
      "state": {
       "description_width": "initial"
      }
     },
     "ed447ad6b27a4118bb1884888ec621a8": {
      "model_module": "@jupyter-widgets/base",
      "model_module_version": "1.2.0",
      "model_name": "LayoutModel",
      "state": {}
     },
     "ed51fbec0c4d4eb3abebb02a2a20c896": {
      "model_module": "@jupyter-widgets/controls",
      "model_module_version": "1.5.0",
      "model_name": "DescriptionStyleModel",
      "state": {
       "description_width": "initial"
      }
     },
     "ed60d8c7264a4c89ae302a54daa62d4a": {
      "model_module": "@jupyter-widgets/controls",
      "model_module_version": "1.5.0",
      "model_name": "LabelModel",
      "state": {
       "layout": "IPY_MODEL_1d24949045244c399604ff42c78bf1fb",
       "style": "IPY_MODEL_b7390e4a51e046f99cc9047a012ae7f9",
       "value": " 550"
      }
     },
     "ed942aa6b12d43c99ee4dd2f0a9fe230": {
      "model_module": "@jupyter-widgets/controls",
      "model_module_version": "1.5.0",
      "model_name": "ButtonStyleModel",
      "state": {}
     },
     "ed9e04797bf544eaa8fac8e5b0dbf5c0": {
      "model_module": "@jupyter-widgets/base",
      "model_module_version": "1.2.0",
      "model_name": "LayoutModel",
      "state": {}
     },
     "edb8863fb3ab4203aea29b15e918b5db": {
      "model_module": "@jupyter-widgets/controls",
      "model_module_version": "1.5.0",
      "model_name": "LabelModel",
      "state": {
       "layout": "IPY_MODEL_6a7862880c5e4003b2f842538838c0d0",
       "style": "IPY_MODEL_8ebda1c0acad4e8d941ea5275b4a898f",
       "value": "Expressão V(x) ="
      }
     },
     "edbdad5287b443498cd981372aab2f2c": {
      "model_module": "@jupyter-widgets/base",
      "model_module_version": "1.2.0",
      "model_name": "LayoutModel",
      "state": {}
     },
     "edcb6c6092b24cdda947045b41318224": {
      "model_module": "@jupyter-widgets/base",
      "model_module_version": "1.2.0",
      "model_name": "LayoutModel",
      "state": {
       "grid_template_columns": "repeat(2, 250px)"
      }
     },
     "edd1f7cd64b6480c91c4d048fcfa04d8": {
      "model_module": "@jupyter-widgets/controls",
      "model_module_version": "1.5.0",
      "model_name": "ButtonStyleModel",
      "state": {}
     },
     "ee5a88a824b7441a8a9f1ff0b09edd46": {
      "model_module": "@jupyter-widgets/controls",
      "model_module_version": "1.5.0",
      "model_name": "TabModel",
      "state": {
       "_titles": {
        "0": "Gerar o Sistema",
        "1": "Funções de Onda"
       },
       "children": [
        "IPY_MODEL_02c254bdac6e40df82d1e91af1938441",
        "IPY_MODEL_e39442e7f45644b2a7b46077ee53d1a0"
       ],
       "layout": "IPY_MODEL_13d26265a5c145b6bb7035284e1d2ef6",
       "selected_index": 1
      }
     },
     "ee639ada91014e0bbf9036f2cba23d51": {
      "model_module": "@jupyter-widgets/controls",
      "model_module_version": "1.5.0",
      "model_name": "IntSliderModel",
      "state": {
       "continuous_update": false,
       "description": "Margens horizontais  (angstroms):   ",
       "layout": "IPY_MODEL_7a4971e7f39242099a240552f9ec5a68",
       "style": "IPY_MODEL_0e47aef2e13445f19d7e6bb8d550e3cd",
       "value": 20
      }
     },
     "ee7e562ddd144b788eaa6408fb92c7dd": {
      "model_module": "@jupyter-widgets/base",
      "model_module_version": "1.2.0",
      "model_name": "LayoutModel",
      "state": {}
     },
     "ee8635e048da4c8bb6ee05389e4727f4": {
      "model_module": "@jupyter-widgets/controls",
      "model_module_version": "1.5.0",
      "model_name": "ButtonStyleModel",
      "state": {}
     },
     "eea9a97f03b14f7a944135d8a8d42c94": {
      "model_module": "@jupyter-widgets/base",
      "model_module_version": "1.2.0",
      "model_name": "LayoutModel",
      "state": {}
     },
     "eebf51ed57eb4129b9f10e5341f2b1ce": {
      "model_module": "@jupyter-widgets/controls",
      "model_module_version": "1.5.0",
      "model_name": "LabelModel",
      "state": {
       "layout": "IPY_MODEL_7f21d342de8c44719b917e76bcfa4749",
       "style": "IPY_MODEL_d210093ebc8e40e996fa6012650830a3",
       "value": " 0.13"
      }
     },
     "eec5c7ac627d4d9aa9a935871b0c1610": {
      "model_module": "@jupyter-widgets/base",
      "model_module_version": "1.2.0",
      "model_name": "LayoutModel",
      "state": {}
     },
     "ef0851f4b386413191835745e56f6220": {
      "model_module": "@jupyter-widgets/base",
      "model_module_version": "1.2.0",
      "model_name": "LayoutModel",
      "state": {}
     },
     "ef2917dc268842ccb98cf8197049c0b5": {
      "model_module": "@jupyter-widgets/base",
      "model_module_version": "1.2.0",
      "model_name": "LayoutModel",
      "state": {}
     },
     "ef29c5b954df4e0880a43237cd1e34a0": {
      "model_module": "@jupyter-widgets/base",
      "model_module_version": "1.2.0",
      "model_name": "LayoutModel",
      "state": {}
     },
     "ef4034cb84c3443ea2d17652515aa7b6": {
      "model_module": "@jupyter-widgets/base",
      "model_module_version": "1.2.0",
      "model_name": "LayoutModel",
      "state": {}
     },
     "ef9223ec65de450aa05424e3b8cbe9dc": {
      "model_module": "@jupyter-widgets/controls",
      "model_module_version": "1.5.0",
      "model_name": "DescriptionStyleModel",
      "state": {
       "description_width": ""
      }
     },
     "ef93f52000c14dd5a0c460917849f1e6": {
      "model_module": "@jupyter-widgets/controls",
      "model_module_version": "1.5.0",
      "model_name": "TabModel",
      "state": {
       "_titles": {
        "0": "Gerar o Sistema",
        "1": "Funções de Onda"
       },
       "children": [
        "IPY_MODEL_2a5cc8d2416a476cb766bec463e25de2",
        "IPY_MODEL_04053d381d044cebb1f18934742c2535"
       ],
       "layout": "IPY_MODEL_93c630a350244dce927864846d4f4050"
      }
     },
     "efc4fde50e284a8897cf27f23b6b94f0": {
      "model_module": "@jupyter-widgets/controls",
      "model_module_version": "1.5.0",
      "model_name": "LabelModel",
      "state": {
       "layout": "IPY_MODEL_3d0a06303be7494a9643509985311dc4",
       "style": "IPY_MODEL_244a96aef94c45b9bff049b46193343f",
       "value": "Largura do domínio (angstroms) ="
      }
     },
     "efc9d79294094c308a85e33cf9803124": {
      "model_module": "@jupyter-widgets/controls",
      "model_module_version": "1.5.0",
      "model_name": "ButtonStyleModel",
      "state": {}
     },
     "f014f89b382c4c4fa236487397175200": {
      "model_module": "@jupyter-widgets/controls",
      "model_module_version": "1.5.0",
      "model_name": "SliderStyleModel",
      "state": {
       "description_width": "initial"
      }
     },
     "f043f537c5424aa79ba0ecb9ff4f8865": {
      "model_module": "@jupyter-widgets/controls",
      "model_module_version": "1.5.0",
      "model_name": "ButtonModel",
      "state": {
       "description": "Morse",
       "layout": "IPY_MODEL_aa43f5b221844b91aa8b7ac48e5c9fb0",
       "style": "IPY_MODEL_74a0314571074afbb801d046fe6d3a96"
      }
     },
     "f094124e2a094154bd16f9cdebde5b15": {
      "model_module": "@jupyter-widgets/controls",
      "model_module_version": "1.5.0",
      "model_name": "LabelModel",
      "state": {
       "layout": "IPY_MODEL_c4a54ae4416d4b48a85e7a14d6b9c582",
       "style": "IPY_MODEL_8854aa3de43049aa8db24a665a367fec",
       "value": "Passo $\\Delta x $ (angstroms) ="
      }
     },
     "f0a2211ed6564edb8e5472ca23fe21b3": {
      "model_module": "@jupyter-widgets/controls",
      "model_module_version": "1.5.0",
      "model_name": "DropdownModel",
      "state": {
       "_options_labels": [
        "densidades de probabilidades",
        "funções de onda (parte real, +)",
        "funções de onda (parte imaginária)"
       ],
       "description": "Plotar as",
       "index": 0,
       "layout": "IPY_MODEL_038fca84eb5544deace4dd12381925da",
       "style": "IPY_MODEL_78e06802cfb646a5a01ca8d6a24ba64a"
      }
     },
     "f0d0160a4e264e85b2348cc2cbc7a0dc": {
      "model_module": "@jupyter-widgets/controls",
      "model_module_version": "1.5.0",
      "model_name": "ButtonModel",
      "state": {
       "description": "Campo Uniforme (-)",
       "layout": "IPY_MODEL_1e6f1d2fe8bf4658a66d99454988ca6d",
       "style": "IPY_MODEL_0af355f0852b409a911a4a91599999ff"
      }
     },
     "f1181d1659f94569afb9b9a0f02b5747": {
      "model_module": "@jupyter-widgets/base",
      "model_module_version": "1.2.0",
      "model_name": "LayoutModel",
      "state": {}
     },
     "f1372618c9514a94bf2af15a6f8a4d12": {
      "model_module": "@jupyter-widgets/controls",
      "model_module_version": "1.5.0",
      "model_name": "LabelModel",
      "state": {
       "layout": "IPY_MODEL_f3da1ea8541e4b4f982bf7892726b11b",
       "style": "IPY_MODEL_86b1974f3f9349ee925ba093c1f1e79a",
       "value": "Passo $\\Delta x $ (angstroms) ="
      }
     },
     "f143f477fa524e7b92420847ada20af6": {
      "model_module": "jupyter-matplotlib",
      "model_module_version": "^0.9.0",
      "model_name": "ToolbarModel",
      "state": {
       "layout": "IPY_MODEL_14869d9464dd4c14b8bc5a2bd96e3169",
       "toolitems": [
        [
         "Home",
         "Reset original view",
         "home",
         "home"
        ],
        [
         "Back",
         "Back to previous view",
         "arrow-left",
         "back"
        ],
        [
         "Forward",
         "Forward to next view",
         "arrow-right",
         "forward"
        ],
        [
         "Pan",
         "Left button pans, Right button zooms\nx/y fixes axis, CTRL fixes aspect",
         "arrows",
         "pan"
        ],
        [
         "Zoom",
         "Zoom to rectangle\nx/y fixes axis, CTRL fixes aspect",
         "square-o",
         "zoom"
        ],
        [
         "Download",
         "Download plot",
         "floppy-o",
         "save_figure"
        ]
       ]
      }
     },
     "f144972fcd2c416696c90ba96f595aec": {
      "model_module": "@jupyter-widgets/base",
      "model_module_version": "1.2.0",
      "model_name": "LayoutModel",
      "state": {
       "grid_template_columns": "repeat(auto-fill, 180px)"
      }
     },
     "f1452adbe8584672b9ca0a14ec91eebb": {
      "model_module": "@jupyter-widgets/controls",
      "model_module_version": "1.5.0",
      "model_name": "ButtonModel",
      "state": {
       "description": "Poço Infinito",
       "layout": "IPY_MODEL_51349807db504c15be47790f7948bba9",
       "style": "IPY_MODEL_7dea883caad74c41b6f921bf316d5737"
      }
     },
     "f15522e8e8cb4b59a7a4ffc5bad14418": {
      "model_module": "@jupyter-widgets/base",
      "model_module_version": "1.2.0",
      "model_name": "LayoutModel",
      "state": {}
     },
     "f185a8178ca4426394597f1e9ea2c13e": {
      "model_module": "@jupyter-widgets/controls",
      "model_module_version": "1.5.0",
      "model_name": "CheckboxModel",
      "state": {
       "description": "Auto limitar eixo y",
       "disabled": false,
       "layout": "IPY_MODEL_7d90009124c244a6bdb8bab77a7f0e59",
       "style": "IPY_MODEL_f8cbcaec8fe74c2e9b2e1854471b74a7",
       "value": true
      }
     },
     "f18c2e891a964650851510ab1dfd6fdd": {
      "model_module": "@jupyter-widgets/controls",
      "model_module_version": "1.5.0",
      "model_name": "IntSliderModel",
      "state": {
       "continuous_update": false,
       "description": "Margens horizontais  (angstroms):   ",
       "layout": "IPY_MODEL_b24919589ef840339a989c9c94276da5",
       "style": "IPY_MODEL_457dbc2138624ea0be102fdbf24a9a39",
       "value": 20
      }
     },
     "f197a7f745da40c3b638ae4779a26408": {
      "model_module": "@jupyter-widgets/controls",
      "model_module_version": "1.5.0",
      "model_name": "IntRangeSliderModel",
      "state": {
       "_model_name": "IntRangeSliderModel",
       "_view_name": "IntRangeSliderView",
       "continuous_update": false,
       "description": "Plotar estados:",
       "layout": "IPY_MODEL_55187982126640e6be41b35c00b830dc",
       "max": 20,
       "style": "IPY_MODEL_f014f89b382c4c4fa236487397175200",
       "value": [
        0,
        10
       ]
      }
     },
     "f1b1e904ed804897b4f1d47e5254d8ee": {
      "model_module": "@jupyter-widgets/controls",
      "model_module_version": "1.5.0",
      "model_name": "ButtonStyleModel",
      "state": {}
     },
     "f1c87612b05644caa3b9d5e23e657baa": {
      "model_module": "@jupyter-widgets/controls",
      "model_module_version": "1.5.0",
      "model_name": "TextModel",
      "state": {
       "description": "Expressão de $V(x)$: ",
       "layout": "IPY_MODEL_7bd99c6c0a4e4288b3e09cc2c80ccdda",
       "placeholder": "Escreva a expressão aqui.",
       "style": "IPY_MODEL_81408e1be5cd4c3989d1a84a4b8f284a",
       "value": "(1e-5)*(x**2)+(1e-7)*(x**4)"
      }
     },
     "f1d856b4182440a284733b1c49afc014": {
      "model_module": "@jupyter-widgets/base",
      "model_module_version": "1.2.0",
      "model_name": "LayoutModel",
      "state": {}
     },
     "f245edfe9b5c4aea90d1557a4dfa208b": {
      "model_module": "@jupyter-widgets/controls",
      "model_module_version": "1.5.0",
      "model_name": "ButtonStyleModel",
      "state": {}
     },
     "f2532c43bdb941d2bfa7b046ca6b7b26": {
      "model_module": "@jupyter-widgets/controls",
      "model_module_version": "1.5.0",
      "model_name": "ButtonModel",
      "state": {
       "description": "Duffing Holmes (-)",
       "layout": "IPY_MODEL_14ed3bfc4c4441719eb16e48b1b4d24a",
       "style": "IPY_MODEL_c2eaa3d1ad58434f941d45fcc7a34d8a"
      }
     },
     "f26557fc2a0b4b7da2619ee63deac372": {
      "model_module": "@jupyter-widgets/controls",
      "model_module_version": "1.5.0",
      "model_name": "LabelModel",
      "state": {
       "layout": "IPY_MODEL_342a74fb3c1d47419f67bfd24f097960",
       "style": "IPY_MODEL_9bcc0c06995341c29626e9c47b788d6f",
       "value": " 550"
      }
     },
     "f26fa1cdb06d4cf0b269101249a29a12": {
      "model_module": "@jupyter-widgets/base",
      "model_module_version": "1.2.0",
      "model_name": "LayoutModel",
      "state": {}
     },
     "f31572616a7f48e480b7bbc55f437643": {
      "model_module": "@jupyter-widgets/controls",
      "model_module_version": "1.5.0",
      "model_name": "IntSliderModel",
      "state": {
       "continuous_update": false,
       "description": "Margens horizontais  (angstroms):   ",
       "layout": "IPY_MODEL_3070f9637be34c64bc0b2d66c40307a6",
       "style": "IPY_MODEL_9b5437bd34964fbea27db60d08b76de1",
       "value": 20
      }
     },
     "f3234802d126420db6820d36c5601fca": {
      "model_module": "@jupyter-widgets/controls",
      "model_module_version": "1.5.0",
      "model_name": "IntRangeSliderModel",
      "state": {
       "_model_name": "IntRangeSliderModel",
       "_view_name": "IntRangeSliderView",
       "continuous_update": false,
       "description": "Plotar estados:",
       "layout": "IPY_MODEL_bc2be9e3ba6a47ebb89b6e0933f66239",
       "max": 20,
       "style": "IPY_MODEL_751ee4db885644bd85f0f510bb68234e",
       "value": [
        0,
        10
       ]
      }
     },
     "f35a3693dca74f4bba323cfb0498bf4c": {
      "model_module": "@jupyter-widgets/base",
      "model_module_version": "1.2.0",
      "model_name": "LayoutModel",
      "state": {}
     },
     "f3abc72a88444141819031da88dac423": {
      "model_module": "@jupyter-widgets/base",
      "model_module_version": "1.2.0",
      "model_name": "LayoutModel",
      "state": {}
     },
     "f3adc3b3357b40ecbff4d56a900dc0ff": {
      "model_module": "@jupyter-widgets/controls",
      "model_module_version": "1.5.0",
      "model_name": "AccordionModel",
      "state": {
       "_titles": {
        "0": "Diagonalizar/Informações"
       },
       "children": [
        "IPY_MODEL_a0b3bb7546c8443e81087c3fdd443c13"
       ],
       "layout": "IPY_MODEL_aac7b68d49a946ec82efd5247fb45fd9"
      }
     },
     "f3c852de6634452eb0967b23bc9560ae": {
      "model_module": "@jupyter-widgets/controls",
      "model_module_version": "1.5.0",
      "model_name": "ButtonModel",
      "state": {
       "description": "Campo Uniforme (-)",
       "layout": "IPY_MODEL_a2c176bc06e74613b0cd9232525e3a3d",
       "style": "IPY_MODEL_e03f75a9208e4f37aa9d01d71ba53ddd"
      }
     },
     "f3da1ea8541e4b4f982bf7892726b11b": {
      "model_module": "@jupyter-widgets/base",
      "model_module_version": "1.2.0",
      "model_name": "LayoutModel",
      "state": {}
     },
     "f3e225a119aa48feb318baeb357429aa": {
      "model_module": "@jupyter-widgets/controls",
      "model_module_version": "1.5.0",
      "model_name": "LabelModel",
      "state": {
       "layout": "IPY_MODEL_e8340474ba3748a98d0ccdb8d14b3e63",
       "style": "IPY_MODEL_3796ee51230f4c16a0918b78ddc32ac8",
       "value": "[0.00000 , 1.95739]"
      }
     },
     "f3febfaeec18474ea2dfb5b7bf7a679a": {
      "model_module": "@jupyter-widgets/controls",
      "model_module_version": "1.5.0",
      "model_name": "DescriptionStyleModel",
      "state": {
       "description_width": "initial"
      }
     },
     "f424c0dcb40c48b48a12fa95a84f0b08": {
      "model_module": "@jupyter-widgets/controls",
      "model_module_version": "1.5.0",
      "model_name": "DescriptionStyleModel",
      "state": {
       "description_width": ""
      }
     },
     "f4545e9abe354ec497efb98edbbdbfd4": {
      "model_module": "jupyter-matplotlib",
      "model_module_version": "^0.9.0",
      "model_name": "ToolbarModel",
      "state": {
       "layout": "IPY_MODEL_5ffba7ae43c74807b044f1e5bb72e5a3",
       "toolitems": [
        [
         "Home",
         "Reset original view",
         "home",
         "home"
        ],
        [
         "Back",
         "Back to previous view",
         "arrow-left",
         "back"
        ],
        [
         "Forward",
         "Forward to next view",
         "arrow-right",
         "forward"
        ],
        [
         "Pan",
         "Left button pans, Right button zooms\nx/y fixes axis, CTRL fixes aspect",
         "arrows",
         "pan"
        ],
        [
         "Zoom",
         "Zoom to rectangle\nx/y fixes axis, CTRL fixes aspect",
         "square-o",
         "zoom"
        ],
        [
         "Download",
         "Download plot",
         "floppy-o",
         "save_figure"
        ]
       ]
      }
     },
     "f45d44b0173d4852ba52076e2a2511d7": {
      "model_module": "@jupyter-widgets/controls",
      "model_module_version": "1.5.0",
      "model_name": "ButtonStyleModel",
      "state": {}
     },
     "f4798beacbef4c3e84a6c80234a811cc": {
      "model_module": "@jupyter-widgets/controls",
      "model_module_version": "1.5.0",
      "model_name": "AccordionModel",
      "state": {
       "_titles": {
        "0": "Diagonalizar/Informações"
       },
       "children": [
        "IPY_MODEL_8c5615fbda844a779c0208a2a2babe9b"
       ],
       "layout": "IPY_MODEL_ef29c5b954df4e0880a43237cd1e34a0"
      }
     },
     "f4d1255652464cd78d73136009309e82": {
      "model_module": "@jupyter-widgets/controls",
      "model_module_version": "1.5.0",
      "model_name": "LabelModel",
      "state": {
       "layout": "IPY_MODEL_821de4388ed44c6d8bb29fa0e449d207",
       "style": "IPY_MODEL_c5b7859af69a4c6a8bf34f63c668d3e1",
       "value": " 550"
      }
     },
     "f4e298effdd549beadca68b1c5793131": {
      "model_module": "@jupyter-widgets/base",
      "model_module_version": "1.2.0",
      "model_name": "LayoutModel",
      "state": {}
     },
     "f4eb5a60edfd4bb5ad6a7300c8064434": {
      "model_module": "@jupyter-widgets/base",
      "model_module_version": "1.2.0",
      "model_name": "LayoutModel",
      "state": {}
     },
     "f51af8735669419997836fc76b3a9caf": {
      "model_module": "@jupyter-widgets/controls",
      "model_module_version": "1.5.0",
      "model_name": "SliderStyleModel",
      "state": {
       "description_width": "initial"
      }
     },
     "f550d66460ef493bafbdc100957177a3": {
      "model_module": "@jupyter-widgets/base",
      "model_module_version": "1.2.0",
      "model_name": "LayoutModel",
      "state": {}
     },
     "f55650a1074f4be599156159f05bcb3d": {
      "model_module": "@jupyter-widgets/base",
      "model_module_version": "1.2.0",
      "model_name": "LayoutModel",
      "state": {}
     },
     "f576e325e91048fe8917b8a4d5390504": {
      "model_module": "@jupyter-widgets/controls",
      "model_module_version": "1.5.0",
      "model_name": "SliderStyleModel",
      "state": {
       "description_width": "initial"
      }
     },
     "f5a85c2918034ff3a00d409359307e1f": {
      "model_module": "@jupyter-widgets/controls",
      "model_module_version": "1.5.0",
      "model_name": "CheckboxModel",
      "state": {
       "description": "Auto limitar eixo y",
       "disabled": false,
       "layout": "IPY_MODEL_69fb3afe468149c3b7583ca16fe00e12",
       "style": "IPY_MODEL_1163bd425e294e74ae4c14e7a08fe487",
       "value": true
      }
     },
     "f5a9d77c7a994168bd591971fae67940": {
      "model_module": "@jupyter-widgets/controls",
      "model_module_version": "1.5.0",
      "model_name": "LabelModel",
      "state": {
       "layout": "IPY_MODEL_b314e6317d9f4d089ea64ad7b93a39e6",
       "style": "IPY_MODEL_744f8ad843dc4ace980c47e09eb717b3",
       "value": "-4*(np.cosh(0.1*x/ang)**(-2))"
      }
     },
     "f5b992beec704695beccd9981a469e44": {
      "model_module": "@jupyter-widgets/controls",
      "model_module_version": "1.5.0",
      "model_name": "DescriptionStyleModel",
      "state": {
       "description_width": ""
      }
     },
     "f663c91e713047e88130be71b0f632b6": {
      "model_module": "@jupyter-widgets/base",
      "model_module_version": "1.2.0",
      "model_name": "LayoutModel",
      "state": {}
     },
     "f67bb9acce224f54b76cfebd96319784": {
      "model_module": "@jupyter-widgets/controls",
      "model_module_version": "1.5.0",
      "model_name": "DescriptionStyleModel",
      "state": {
       "description_width": ""
      }
     },
     "f67e8d84f2b9430b9fec674abadde4fe": {
      "model_module": "@jupyter-widgets/base",
      "model_module_version": "1.2.0",
      "model_name": "LayoutModel",
      "state": {}
     },
     "f6989e9eedde461f8087650b448a8a49": {
      "model_module": "@jupyter-widgets/output",
      "model_module_version": "1.0.0",
      "model_name": "OutputModel",
      "state": {
       "layout": "IPY_MODEL_8802dfa6d0df4747b23790a6e48d0067",
       "outputs": [
        {
         "data": {
          "application/vnd.jupyter.widget-view+json": {
           "model_id": "742b87af1871484cb41dc13c027aeb7a",
           "version_major": 2,
           "version_minor": 0
          },
          "text/plain": "Canvas(toolbar=Toolbar(toolitems=[('Home', 'Reset original view', 'home', 'home'), ('Back', 'Back to previous …"
         },
         "metadata": {},
         "output_type": "display_data"
        }
       ]
      }
     },
     "f6aa4e26dfba425398b3d3c6f34e5374": {
      "model_module": "@jupyter-widgets/controls",
      "model_module_version": "1.5.0",
      "model_name": "SliderStyleModel",
      "state": {
       "description_width": "initial"
      }
     },
     "f6b6ae054c424309957e7f7fa3fdeea1": {
      "model_module": "@jupyter-widgets/output",
      "model_module_version": "1.0.0",
      "model_name": "OutputModel",
      "state": {
       "layout": "IPY_MODEL_4a2496624d1545448a0a06851387f8ba"
      }
     },
     "f6ce40a45d3b4f12bcb9d67809b9c40f": {
      "model_module": "@jupyter-widgets/base",
      "model_module_version": "1.2.0",
      "model_name": "LayoutModel",
      "state": {}
     },
     "f720dc7db5e54263a456d7b803b6ef51": {
      "model_module": "@jupyter-widgets/controls",
      "model_module_version": "1.5.0",
      "model_name": "ButtonStyleModel",
      "state": {}
     },
     "f72242c8ab2e4c059e69474e88073c7d": {
      "model_module": "@jupyter-widgets/controls",
      "model_module_version": "1.5.0",
      "model_name": "IntSliderModel",
      "state": {
       "continuous_update": false,
       "description": "Margens horizontais  (angstroms):   ",
       "layout": "IPY_MODEL_21455e0c53a34a9bbf221a1873be28b1",
       "style": "IPY_MODEL_b049545a8e954f318fcbdf88763af469",
       "value": 20
      }
     },
     "f72a14406e5848399e3562c5320d5c84": {
      "model_module": "@jupyter-widgets/controls",
      "model_module_version": "1.5.0",
      "model_name": "ButtonModel",
      "state": {
       "description": "Poço Infinito",
       "layout": "IPY_MODEL_6901d1a153394e1e86489fa2002a2232",
       "style": "IPY_MODEL_e0caa24d0e9d439692a5ddfc5254a793"
      }
     },
     "f756695b103049a0b9159b3da4bd7ee6": {
      "model_module": "@jupyter-widgets/controls",
      "model_module_version": "1.5.0",
      "model_name": "ButtonStyleModel",
      "state": {}
     },
     "f75c311606754d1bb11fd0fce73e3b64": {
      "model_module": "@jupyter-widgets/controls",
      "model_module_version": "1.5.0",
      "model_name": "ButtonModel",
      "state": {
       "description": "Pöschl–Teller",
       "layout": "IPY_MODEL_2cb5a88d2f03442993647e1a456657da",
       "style": "IPY_MODEL_5039b2a2c3ab40ebb5b8a327435f0f38"
      }
     },
     "f788b25b2e974818b3a683f1ba734cf7": {
      "model_module": "@jupyter-widgets/controls",
      "model_module_version": "1.5.0",
      "model_name": "IntSliderModel",
      "state": {
       "description": "Pixels por polegada:",
       "layout": "IPY_MODEL_b24919589ef840339a989c9c94276da5",
       "max": 300,
       "min": 10,
       "style": "IPY_MODEL_5940e804e1be406a8292b6919fa13dbe",
       "value": 80
      }
     },
     "f789892d96d94ab79190730f1861b303": {
      "model_module": "@jupyter-widgets/controls",
      "model_module_version": "1.5.0",
      "model_name": "ButtonModel",
      "state": {
       "description": "Morse",
       "layout": "IPY_MODEL_32ba71bf31ec4fe0a574820b52858019",
       "style": "IPY_MODEL_1a4e7ad1dfa045b2a25574845246f29f"
      }
     },
     "f7b1f3eedea24d31a41db5d861d0b912": {
      "model_module": "@jupyter-widgets/base",
      "model_module_version": "1.2.0",
      "model_name": "LayoutModel",
      "state": {}
     },
     "f7bbe9da6603480886b2e06a203d5239": {
      "model_module": "@jupyter-widgets/controls",
      "model_module_version": "1.5.0",
      "model_name": "ButtonModel",
      "state": {
       "description": "Oscilador Harmônico",
       "layout": "IPY_MODEL_9bea055098bd4a67ae718bfd23a6828a",
       "style": "IPY_MODEL_b5f5df91f77b4568ac984c13e569f60b"
      }
     },
     "f80778575ef84bb8884c8db5a21d2160": {
      "model_module": "@jupyter-widgets/controls",
      "model_module_version": "1.5.0",
      "model_name": "LabelModel",
      "state": {
       "layout": "IPY_MODEL_3900688c1db24f10b7766bdc2af7bfc0",
       "style": "IPY_MODEL_163ad36d5555432d9ee0ae2606f896dc",
       "value": " 0.13"
      }
     },
     "f81e1b41bef74137b78df082a6e175b5": {
      "model_module": "@jupyter-widgets/base",
      "model_module_version": "1.2.0",
      "model_name": "LayoutModel",
      "state": {}
     },
     "f81e507d11dc454db036ac6f8052ff10": {
      "model_module": "@jupyter-widgets/controls",
      "model_module_version": "1.5.0",
      "model_name": "ButtonModel",
      "state": {
       "description": "Campo Uniforme (-)",
       "layout": "IPY_MODEL_a6d9f2e910ff4c2faaf001e17821f6c4",
       "style": "IPY_MODEL_c51018dbddbb4eeca8f9a9ce83e3a56c"
      }
     },
     "f82be60cf9f842578b94541da7172d58": {
      "model_module": "@jupyter-widgets/controls",
      "model_module_version": "1.5.0",
      "model_name": "AccordionModel",
      "state": {
       "_titles": {
        "0": "Diagonalizar/Informações"
       },
       "children": [
        "IPY_MODEL_c4c221f6c6de4168945f64e7029f58ef"
       ],
       "layout": "IPY_MODEL_ff6f23e5709f4e63a9335af3f9470e0b"
      }
     },
     "f83ad3935d3347da977a0ec5dadce019": {
      "model_module": "@jupyter-widgets/base",
      "model_module_version": "1.2.0",
      "model_name": "LayoutModel",
      "state": {}
     },
     "f880ce8cebba480989651e4751fdcb05": {
      "model_module": "@jupyter-widgets/base",
      "model_module_version": "1.2.0",
      "model_name": "LayoutModel",
      "state": {}
     },
     "f893770ea439441182f64171b74365d1": {
      "model_module": "@jupyter-widgets/base",
      "model_module_version": "1.2.0",
      "model_name": "LayoutModel",
      "state": {}
     },
     "f8cbcaec8fe74c2e9b2e1854471b74a7": {
      "model_module": "@jupyter-widgets/controls",
      "model_module_version": "1.5.0",
      "model_name": "DescriptionStyleModel",
      "state": {
       "description_width": "initial"
      }
     },
     "f936419942ab492cb4d912fcaba28a97": {
      "model_module": "@jupyter-widgets/controls",
      "model_module_version": "1.5.0",
      "model_name": "AccordionModel",
      "state": {
       "_titles": {
        "0": "Potenciais pré definidos"
       },
       "children": [
        "IPY_MODEL_8d72f73946404c879646d469269ccf62"
       ],
       "layout": "IPY_MODEL_102656fa9f2e4226be3dd8830730813d"
      }
     },
     "f9379f8be24143cea8b777113dca94d7": {
      "model_module": "@jupyter-widgets/base",
      "model_module_version": "1.2.0",
      "model_name": "LayoutModel",
      "state": {}
     },
     "f95981aaa4424783becbe9039b148574": {
      "model_module": "@jupyter-widgets/base",
      "model_module_version": "1.2.0",
      "model_name": "LayoutModel",
      "state": {}
     },
     "f96130671dba43d5a99254ad52b020a9": {
      "model_module": "@jupyter-widgets/base",
      "model_module_version": "1.2.0",
      "model_name": "LayoutModel",
      "state": {}
     },
     "f96cac98a77f4495a9ac890a28de24d5": {
      "model_module": "@jupyter-widgets/base",
      "model_module_version": "1.2.0",
      "model_name": "LayoutModel",
      "state": {
       "grid_template_columns": "repeat(auto-fill, 180px)"
      }
     },
     "fa1943bd215e4b0a832510912c31e1d6": {
      "model_module": "@jupyter-widgets/controls",
      "model_module_version": "1.5.0",
      "model_name": "ButtonStyleModel",
      "state": {}
     },
     "fa45f54dc3fb4755a8e92dfe8f610043": {
      "model_module": "@jupyter-widgets/controls",
      "model_module_version": "1.5.0",
      "model_name": "SliderStyleModel",
      "state": {
       "description_width": "initial"
      }
     },
     "fa5e0e09a5f544588ca4dc429e256d41": {
      "model_module": "@jupyter-widgets/base",
      "model_module_version": "1.2.0",
      "model_name": "LayoutModel",
      "state": {
       "width": "100%"
      }
     },
     "fab2e9d67b1f418885264c0a6f1defa8": {
      "model_module": "@jupyter-widgets/controls",
      "model_module_version": "1.5.0",
      "model_name": "VBoxModel",
      "state": {
       "children": [
        "IPY_MODEL_04e9e50a1a4d46b4b1f2336d54d67c71",
        "IPY_MODEL_61663d4763464b2995f771b700d14db5",
        "IPY_MODEL_80130e7961ca4e429d587ee0612b8062"
       ],
       "layout": "IPY_MODEL_626783432cbc45af909eeb78757e02cb"
      }
     },
     "fac6285d24c24b05b4fcf94baf3b6db1": {
      "model_module": "@jupyter-widgets/controls",
      "model_module_version": "1.5.0",
      "model_name": "CheckboxModel",
      "state": {
       "description": "Auto limitar eixo y",
       "disabled": false,
       "layout": "IPY_MODEL_31a4a3c15cb94154869eb65b79e3d5f4",
       "style": "IPY_MODEL_780b6353a2cc4ac387ad49593e28ea64",
       "value": true
      }
     },
     "fb2210d364fb4c48a5ec267aa349d95d": {
      "model_module": "@jupyter-widgets/controls",
      "model_module_version": "1.5.0",
      "model_name": "ButtonStyleModel",
      "state": {}
     },
     "fb638cdc244b4acdb51496a9150d85d3": {
      "model_module": "@jupyter-widgets/controls",
      "model_module_version": "1.5.0",
      "model_name": "ButtonStyleModel",
      "state": {}
     },
     "fba82de20c85467fa464bb1c606bbba8": {
      "model_module": "@jupyter-widgets/controls",
      "model_module_version": "1.5.0",
      "model_name": "DescriptionStyleModel",
      "state": {
       "description_width": ""
      }
     },
     "fbc25331f46643459f00213f5f537ec5": {
      "model_module": "@jupyter-widgets/base",
      "model_module_version": "1.2.0",
      "model_name": "LayoutModel",
      "state": {}
     },
     "fbcb32a37ff146cf86a7b7cce14042db": {
      "model_module": "@jupyter-widgets/controls",
      "model_module_version": "1.5.0",
      "model_name": "ButtonStyleModel",
      "state": {}
     },
     "fbe2371c7d6a4510adc3bfa8f082507d": {
      "model_module": "@jupyter-widgets/controls",
      "model_module_version": "1.5.0",
      "model_name": "DescriptionStyleModel",
      "state": {
       "description_width": ""
      }
     },
     "fc0284359df44ef5ab8a159a7a982c4b": {
      "model_module": "@jupyter-widgets/base",
      "model_module_version": "1.2.0",
      "model_name": "LayoutModel",
      "state": {
       "width": "100%"
      }
     },
     "fc0e67e4b48e40a5a6e4bfb8e74614eb": {
      "model_module": "@jupyter-widgets/controls",
      "model_module_version": "1.5.0",
      "model_name": "ButtonModel",
      "state": {
       "description": "Gerar",
       "layout": "IPY_MODEL_53fdfb8374774607925afffb200a8a03",
       "style": "IPY_MODEL_244f2822b5f54087a5e0c02f30d3f820"
      }
     },
     "fc20ad7bf0a34dfcb7c26edba05878c1": {
      "model_module": "@jupyter-widgets/controls",
      "model_module_version": "1.5.0",
      "model_name": "ButtonModel",
      "state": {
       "description": "Poço Triangular",
       "layout": "IPY_MODEL_cb6d5598d26f49fb9f601ec99253b8b1",
       "style": "IPY_MODEL_81cc22116a8b4998a5c53de93d3ed868"
      }
     },
     "fc21d60d63c741a1a6370d8bb8372230": {
      "model_module": "@jupyter-widgets/base",
      "model_module_version": "1.2.0",
      "model_name": "LayoutModel",
      "state": {}
     },
     "fc3af17c439f498894df3a874d842699": {
      "model_module": "@jupyter-widgets/controls",
      "model_module_version": "1.5.0",
      "model_name": "LabelModel",
      "state": {
       "layout": "IPY_MODEL_e87e90132b2d4a27b946fe371568bd4e",
       "style": "IPY_MODEL_27182e9b13c8460a941f7d4cfcf47157",
       "value": "[-3.99984 , 0.00000]"
      }
     },
     "fc556ac4e1b74141afd5b769d31c9b7d": {
      "model_module": "@jupyter-widgets/controls",
      "model_module_version": "1.5.0",
      "model_name": "IntRangeSliderModel",
      "state": {
       "_model_name": "IntRangeSliderModel",
       "_view_name": "IntRangeSliderView",
       "continuous_update": false,
       "description": "Plotar estados:",
       "layout": "IPY_MODEL_7a4971e7f39242099a240552f9ec5a68",
       "max": 20,
       "style": "IPY_MODEL_e12f5d8c350246ba99c35412345a3a5c",
       "value": [
        0,
        10
       ]
      }
     },
     "fc59830df10648128ef4d6515cfc2c27": {
      "model_module": "@jupyter-widgets/base",
      "model_module_version": "1.2.0",
      "model_name": "LayoutModel",
      "state": {}
     },
     "fc5bdebbe6094e83a941a30ca9f11a3c": {
      "model_module": "@jupyter-widgets/base",
      "model_module_version": "1.2.0",
      "model_name": "LayoutModel",
      "state": {}
     },
     "fc7109835f374c8e90f7a1a2fb2455cc": {
      "model_module": "@jupyter-widgets/controls",
      "model_module_version": "1.5.0",
      "model_name": "CheckboxModel",
      "state": {
       "description": "Auto limitar eixo y",
       "disabled": false,
       "layout": "IPY_MODEL_ecb9b944ef0a4a90af150b72889d698b",
       "style": "IPY_MODEL_de7aa5e5125748f88bf4d6f159c936db",
       "value": true
      }
     },
     "fc714051597c4d59940cdff81defaf47": {
      "model_module": "@jupyter-widgets/controls",
      "model_module_version": "1.5.0",
      "model_name": "ButtonStyleModel",
      "state": {}
     },
     "fc872195eb25414e8460951df12924aa": {
      "model_module": "jupyter-matplotlib",
      "model_module_version": "^0.9.0",
      "model_name": "ToolbarModel",
      "state": {
       "layout": "IPY_MODEL_16ad8e16ce2044f3a4ba7f05680c097a",
       "toolitems": [
        [
         "Home",
         "Reset original view",
         "home",
         "home"
        ],
        [
         "Back",
         "Back to previous view",
         "arrow-left",
         "back"
        ],
        [
         "Forward",
         "Forward to next view",
         "arrow-right",
         "forward"
        ],
        [
         "Pan",
         "Left button pans, Right button zooms\nx/y fixes axis, CTRL fixes aspect",
         "arrows",
         "pan"
        ],
        [
         "Zoom",
         "Zoom to rectangle\nx/y fixes axis, CTRL fixes aspect",
         "square-o",
         "zoom"
        ],
        [
         "Download",
         "Download plot",
         "floppy-o",
         "save_figure"
        ]
       ]
      }
     },
     "fc8f9e24702546439e06fa3b79c476eb": {
      "model_module": "@jupyter-widgets/output",
      "model_module_version": "1.0.0",
      "model_name": "OutputModel",
      "state": {
       "layout": "IPY_MODEL_8e40adb4989f426b927176463af5da3d",
       "outputs": [
        {
         "data": {
          "application/vnd.jupyter.widget-view+json": {
           "model_id": "743ac51901bb4673ad966e3ee836c964",
           "version_major": 2,
           "version_minor": 0
          },
          "text/plain": "Canvas(toolbar=Toolbar(toolitems=[('Home', 'Reset original view', 'home', 'home'), ('Back', 'Back to previous …"
         },
         "metadata": {},
         "output_type": "display_data"
        }
       ]
      }
     },
     "fc9a8f3dbc5641e6b58f809889f83cc8": {
      "model_module": "@jupyter-widgets/base",
      "model_module_version": "1.2.0",
      "model_name": "LayoutModel",
      "state": {}
     },
     "fca092db64bc4151beaeb27d88f40dd9": {
      "model_module": "@jupyter-widgets/base",
      "model_module_version": "1.2.0",
      "model_name": "LayoutModel",
      "state": {}
     },
     "fced8fafbca7451c84938d07a21806c0": {
      "model_module": "@jupyter-widgets/controls",
      "model_module_version": "1.5.0",
      "model_name": "SliderStyleModel",
      "state": {
       "description_width": "initial"
      }
     },
     "fd08350df84642adb5830488825c7911": {
      "model_module": "@jupyter-widgets/controls",
      "model_module_version": "1.5.0",
      "model_name": "ButtonModel",
      "state": {
       "description": "Campo Uniforme (-)",
       "layout": "IPY_MODEL_7c2d60f379e24d7a8cfb33b41f9a8900",
       "style": "IPY_MODEL_9fa4fb7238ee4656bd6023ca33e557fa"
      }
     },
     "fd1edfebe5514775a40cedc7030a4279": {
      "model_module": "@jupyter-widgets/base",
      "model_module_version": "1.2.0",
      "model_name": "LayoutModel",
      "state": {}
     },
     "fd743db96d8f4d9285f012049b2e5d83": {
      "model_module": "@jupyter-widgets/controls",
      "model_module_version": "1.5.0",
      "model_name": "LabelModel",
      "state": {
       "layout": "IPY_MODEL_c7af350238f54614953be8dbcaed700c",
       "style": "IPY_MODEL_67e44a5847fa47b69fab18a42d8fbade",
       "value": "Largura do domínio (angstroms) ="
      }
     },
     "fd86af55db8d4a9a865739f48f8687d0": {
      "model_module": "@jupyter-widgets/controls",
      "model_module_version": "1.5.0",
      "model_name": "AccordionModel",
      "state": {
       "_titles": {
        "0": "Potenciais pré definidos"
       },
       "children": [
        "IPY_MODEL_6f74bd434a0c4c6fa8a6fb4d34957294"
       ],
       "layout": "IPY_MODEL_f7b1f3eedea24d31a41db5d861d0b912"
      }
     },
     "fda53f5820424704bc954d65e960ef5b": {
      "model_module": "@jupyter-widgets/base",
      "model_module_version": "1.2.0",
      "model_name": "LayoutModel",
      "state": {}
     },
     "fdbda2f136d94164839d2509443de23c": {
      "model_module": "@jupyter-widgets/controls",
      "model_module_version": "1.5.0",
      "model_name": "ButtonModel",
      "state": {
       "description": "Plotar",
       "layout": "IPY_MODEL_f4e298effdd549beadca68b1c5793131",
       "style": "IPY_MODEL_f1b1e904ed804897b4f1d47e5254d8ee"
      }
     },
     "fdc21232d6ff4ef8ae891bcd76ec20c5": {
      "model_module": "@jupyter-widgets/base",
      "model_module_version": "1.2.0",
      "model_name": "LayoutModel",
      "state": {}
     },
     "fdda0c285ea34e21b8432c8477006c47": {
      "model_module": "@jupyter-widgets/base",
      "model_module_version": "1.2.0",
      "model_name": "LayoutModel",
      "state": {}
     },
     "fddf4f9878f34a3e862574c120ca7685": {
      "model_module": "@jupyter-widgets/controls",
      "model_module_version": "1.5.0",
      "model_name": "ButtonModel",
      "state": {
       "description": "Diagonalizado!",
       "disabled": true,
       "layout": "IPY_MODEL_fdda0c285ea34e21b8432c8477006c47",
       "style": "IPY_MODEL_4a002cdaa218479c901c5e3264a40d71"
      }
     },
     "fde9c0e1a14e4d439ed713bdd57adab6": {
      "model_module": "@jupyter-widgets/controls",
      "model_module_version": "1.5.0",
      "model_name": "DropdownModel",
      "state": {
       "_options_labels": [
        "densidades de probabilidades",
        "funções de onda (parte real, +)",
        "funções de onda (parte imaginária)"
       ],
       "description": "Plotar as",
       "index": 0,
       "layout": "IPY_MODEL_45720502a2b14f918a8a89e65e1081c7",
       "style": "IPY_MODEL_5e3469f50f354e45a4bfcf3c98816e11"
      }
     },
     "fdec78ca10c648f4945f87d310f75745": {
      "model_module": "@jupyter-widgets/base",
      "model_module_version": "1.2.0",
      "model_name": "LayoutModel",
      "state": {}
     },
     "fe3399d721514768a38b9013486b4a20": {
      "model_module": "@jupyter-widgets/controls",
      "model_module_version": "1.5.0",
      "model_name": "VBoxModel",
      "state": {
       "children": [
        "IPY_MODEL_24803ecdce2f43d69e1cfbd71766a033",
        "IPY_MODEL_deb4319f9d2f4358b1ec951f1eaf5103"
       ],
       "layout": "IPY_MODEL_09040e383f5d4e24ba738324ee90812f"
      }
     },
     "fe3ce53661bc447c8cbf1e46c0375cc2": {
      "model_module": "@jupyter-widgets/base",
      "model_module_version": "1.2.0",
      "model_name": "LayoutModel",
      "state": {}
     },
     "fe48e9add4a54604a4ceb397b7acc3b1": {
      "model_module": "@jupyter-widgets/controls",
      "model_module_version": "1.5.0",
      "model_name": "ButtonStyleModel",
      "state": {}
     },
     "fe500eba9a1d4043874fb808fe372f15": {
      "model_module": "@jupyter-widgets/controls",
      "model_module_version": "1.5.0",
      "model_name": "ButtonStyleModel",
      "state": {}
     },
     "fe5108e53b5f4edc8d1642fdbb31d6d5": {
      "model_module": "@jupyter-widgets/controls",
      "model_module_version": "1.5.0",
      "model_name": "ButtonStyleModel",
      "state": {}
     },
     "fe6b68635d7048ed8ffcbaf0053554be": {
      "model_module": "@jupyter-widgets/base",
      "model_module_version": "1.2.0",
      "model_name": "LayoutModel",
      "state": {}
     },
     "fe7138ff1a2c4ba78fbefe397487fe76": {
      "model_module": "@jupyter-widgets/controls",
      "model_module_version": "1.5.0",
      "model_name": "AccordionModel",
      "state": {
       "_titles": {
        "0": "Potenciais pré definidos"
       },
       "children": [
        "IPY_MODEL_6bf16a0c49e34dd2805f35433fc40c05"
       ],
       "layout": "IPY_MODEL_474ba48db0cd431890113013585ef8f3"
      }
     },
     "fe7342c85b8141868b9a3c94fa057828": {
      "model_module": "@jupyter-widgets/controls",
      "model_module_version": "1.5.0",
      "model_name": "ButtonModel",
      "state": {
       "description": "Lennard Jones",
       "layout": "IPY_MODEL_51075eb857db4584bd39e3f90989ec26",
       "style": "IPY_MODEL_f756695b103049a0b9159b3da4bd7ee6"
      }
     },
     "fe9822577e11415f9c23e5c64b1f368c": {
      "model_module": "@jupyter-widgets/base",
      "model_module_version": "1.2.0",
      "model_name": "LayoutModel",
      "state": {}
     },
     "fece69a71cef4b44a5edde418dff5185": {
      "model_module": "jupyter-matplotlib",
      "model_module_version": "^0.9.0",
      "model_name": "ToolbarModel",
      "state": {
       "layout": "IPY_MODEL_fd1edfebe5514775a40cedc7030a4279",
       "toolitems": [
        [
         "Home",
         "Reset original view",
         "home",
         "home"
        ],
        [
         "Back",
         "Back to previous view",
         "arrow-left",
         "back"
        ],
        [
         "Forward",
         "Forward to next view",
         "arrow-right",
         "forward"
        ],
        [
         "Pan",
         "Left button pans, Right button zooms\nx/y fixes axis, CTRL fixes aspect",
         "arrows",
         "pan"
        ],
        [
         "Zoom",
         "Zoom to rectangle\nx/y fixes axis, CTRL fixes aspect",
         "square-o",
         "zoom"
        ],
        [
         "Download",
         "Download plot",
         "floppy-o",
         "save_figure"
        ]
       ]
      }
     },
     "fee9cb2e8a6a4e69b68701efed2a0fda": {
      "model_module": "@jupyter-widgets/controls",
      "model_module_version": "1.5.0",
      "model_name": "LabelModel",
      "state": {
       "layout": "IPY_MODEL_c2279de06a6a49d2a813347ca6c17d66",
       "style": "IPY_MODEL_b6a54f11b3a24611bd4bc37c35b95afa",
       "value": "Número de pontos ="
      }
     },
     "ff5f3e4b27ad4592ac5f4262e9ee0aa6": {
      "model_module": "@jupyter-widgets/base",
      "model_module_version": "1.2.0",
      "model_name": "LayoutModel",
      "state": {}
     },
     "ff6f23e5709f4e63a9335af3f9470e0b": {
      "model_module": "@jupyter-widgets/base",
      "model_module_version": "1.2.0",
      "model_name": "LayoutModel",
      "state": {}
     },
     "ff950bea55b84fa291538aec09957d8c": {
      "model_module": "@jupyter-widgets/controls",
      "model_module_version": "1.5.0",
      "model_name": "LabelModel",
      "state": {
       "layout": "IPY_MODEL_5694ce57891d499b98ce4173b507bdd2",
       "style": "IPY_MODEL_5dab3d772754473284e4fd4fbc06b581",
       "value": "3.5*(np.exp(-2*(0.1*(x/ang) + 2.75)) - 2*np.exp(-(0.1*(x/ang) + 2.75)))"
      }
     },
     "ff9cd1ffe6b64c4fb5377f8c0e1c5ee8": {
      "model_module": "@jupyter-widgets/base",
      "model_module_version": "1.2.0",
      "model_name": "LayoutModel",
      "state": {}
     },
     "ff9dec6de8c14964aa36328258596b51": {
      "model_module": "@jupyter-widgets/base",
      "model_module_version": "1.2.0",
      "model_name": "LayoutModel",
      "state": {}
     },
     "ffaf69b89a724f8ea00308e1677dc4bb": {
      "model_module": "@jupyter-widgets/controls",
      "model_module_version": "1.5.0",
      "model_name": "SliderStyleModel",
      "state": {
       "description_width": "initial"
      }
     },
     "ffcf3d9cb8424e70a60805f7da210640": {
      "model_module": "@jupyter-widgets/controls",
      "model_module_version": "1.5.0",
      "model_name": "ButtonStyleModel",
      "state": {}
     }
    },
    "version_major": 2,
    "version_minor": 0
   }
  }
 },
 "nbformat": 4,
 "nbformat_minor": 5
}
