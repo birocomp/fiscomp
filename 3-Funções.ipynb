{
 "cells": [
  {
   "cell_type": "markdown",
   "id": "114f32d4-ff2c-4c34-b77b-d8ac83c915cf",
   "metadata": {
    "slideshow": {
     "slide_type": "slide"
    }
   },
   "source": [
    "# Funções\n",
    "\n",
    "Em Python, uma função é uma sequência de comandos que executa alguma tarefa e que tem um nome. Elas tem parâmetros e retornam valores."
   ]
  },
  {
   "cell_type": "markdown",
   "id": "a9ec7f6f-9297-4298-a38a-8c7ef375b5b3",
   "metadata": {
    "slideshow": {
     "slide_type": "slide"
    }
   },
   "source": [
    "## Funções do Usuário\n",
    "\n",
    "Para se definir uma função usamos o comando `def` e para retornar um valor usamos o comando `return`. Por exemplo, vamos criar uma função chamada `dif` que calcula a diferença de dois parâmetros `a` e `b`"
   ]
  },
  {
   "cell_type": "code",
   "execution_count": 2,
   "id": "b192489f-1f51-453d-8665-9b7e9b8ef23d",
   "metadata": {
    "slideshow": {
     "slide_type": "fragment"
    }
   },
   "outputs": [
    {
     "ename": "IndentationError",
     "evalue": "expected an indented block (<ipython-input-2-3e53c19d00f7>, line 2)",
     "output_type": "error",
     "traceback": [
      "\u001b[0;36m  File \u001b[0;32m\"<ipython-input-2-3e53c19d00f7>\"\u001b[0;36m, line \u001b[0;32m2\u001b[0m\n\u001b[0;31m    c=a-b\u001b[0m\n\u001b[0m    ^\u001b[0m\n\u001b[0;31mIndentationError\u001b[0m\u001b[0;31m:\u001b[0m expected an indented block\n"
     ]
    }
   ],
   "source": [
    "def dif(a,b):\n",
    "    c=a-b\n",
    "    return c\n",
    "\n",
    "g=dif(27,2)\n",
    "print(g)"
   ]
  },
  {
   "cell_type": "markdown",
   "id": "46097483-d87d-4b0d-9592-4aea3bf8ece4",
   "metadata": {
    "slideshow": {
     "slide_type": "slide"
    }
   },
   "source": [
    "***\n",
    "Note que devido a síntaxe simplificada, o início e o fim da função são determinados pelo **TAB** ou **espaços** antes das linhas (indentação) dentro da função , incluindo o comando `return`. Por exemplo, se escrevêssemos sem eles:\n",
    "\n",
    ">```Python\n",
    "def dif(a,b):\n",
    "c=a-b\n",
    "return c  \n",
    ">```\n",
    "\n",
    "O Python reclamaria que há um erro na indentação!\n",
    "***"
   ]
  },
  {
   "cell_type": "markdown",
   "id": "d0ff83c2-91f2-4ba8-8b2f-67b30e4b4a47",
   "metadata": {
    "slideshow": {
     "slide_type": "slide"
    }
   },
   "source": [
    "Existem algumas sutilezas na hora de definir funções:\n",
    "\n",
    "### Ordem de execução\n",
    "\n",
    "A função precisa **sempre** ser definida acima da parte onde é chamada. Veja o exemplo abaixo:"
   ]
  },
  {
   "cell_type": "code",
   "execution_count": 3,
   "id": "6e1819f7-be88-484f-8202-f4cc97077efd",
   "metadata": {
    "slideshow": {
     "slide_type": "fragment"
    }
   },
   "outputs": [
    {
     "ename": "NameError",
     "evalue": "name 'div' is not defined",
     "output_type": "error",
     "traceback": [
      "\u001b[0;31m---------------------------------------------------------------------------\u001b[0m",
      "\u001b[0;31mNameError\u001b[0m                                 Traceback (most recent call last)",
      "\u001b[0;32m<ipython-input-3-70344c9fbf93>\u001b[0m in \u001b[0;36m<module>\u001b[0;34m\u001b[0m\n\u001b[0;32m----> 1\u001b[0;31m \u001b[0mdiv\u001b[0m\u001b[0;34m(\u001b[0m\u001b[0;36m27\u001b[0m\u001b[0;34m,\u001b[0m\u001b[0;36m2\u001b[0m\u001b[0;34m)\u001b[0m\u001b[0;34m\u001b[0m\u001b[0;34m\u001b[0m\u001b[0m\n\u001b[0m\u001b[1;32m      2\u001b[0m \u001b[0;32mdef\u001b[0m \u001b[0mdif\u001b[0m\u001b[0;34m(\u001b[0m\u001b[0ma\u001b[0m\u001b[0;34m,\u001b[0m\u001b[0mb\u001b[0m\u001b[0;34m)\u001b[0m\u001b[0;34m:\u001b[0m\u001b[0;34m\u001b[0m\u001b[0;34m\u001b[0m\u001b[0m\n\u001b[1;32m      3\u001b[0m     \u001b[0mc\u001b[0m\u001b[0;34m=\u001b[0m\u001b[0ma\u001b[0m\u001b[0;34m-\u001b[0m\u001b[0mb\u001b[0m\u001b[0;34m\u001b[0m\u001b[0;34m\u001b[0m\u001b[0m\n\u001b[1;32m      4\u001b[0m     \u001b[0;32mreturn\u001b[0m \u001b[0mc\u001b[0m\u001b[0;34m\u001b[0m\u001b[0;34m\u001b[0m\u001b[0m\n",
      "\u001b[0;31mNameError\u001b[0m: name 'div' is not defined"
     ]
    }
   ],
   "source": [
    "div(27,2)\n",
    "def dif(a,b):\n",
    "    c=a-b\n",
    "    return c"
   ]
  },
  {
   "cell_type": "markdown",
   "id": "84ec0806-4f24-41f9-ba7c-a36786e3b973",
   "metadata": {
    "slideshow": {
     "slide_type": "fragment"
    }
   },
   "source": [
    "Acima, o compilador tenta chamar a função `div` mas, como ele executa o código de cima para baixo, não encontra nada definido com esse nome. Então recebemos um erro de que `div` não foi definido: \"`nome 'div' não está definido`\""
   ]
  },
  {
   "cell_type": "markdown",
   "id": "c2477936-cc13-4b68-852f-7f7a01f838e6",
   "metadata": {
    "slideshow": {
     "slide_type": "slide"
    }
   },
   "source": [
    "Existe um truque para contornar isso: definindo uma função principal (geralmente chamada 'main') onde você define a ordem de execução do código."
   ]
  },
  {
   "cell_type": "code",
   "execution_count": null,
   "id": "a250cb82-0abc-4e32-9df9-350443abab6d",
   "metadata": {
    "slideshow": {
     "slide_type": "fragment"
    }
   },
   "outputs": [],
   "source": [
    "def principal():\n",
    "    f2()\n",
    "    f1()\n",
    "    \n",
    "def f1():\n",
    "    print('Primeiro')\n",
    "    \n",
    "def f2():\n",
    "    print('Segundo')\n",
    "    \n",
    "principal()"
   ]
  },
  {
   "cell_type": "markdown",
   "id": "4ab71b73-ad1b-40a4-aae8-f522a7d46d3c",
   "metadata": {
    "slideshow": {
     "slide_type": "slide"
    }
   },
   "source": [
    "### Return explícito\n",
    "\n",
    "Se o comando `return` não estiver explícito e for seguido pelo resultado desejado, o Python executará o código dentro da função e não retornará nada. Veja o exemplo abaixo:"
   ]
  },
  {
   "cell_type": "code",
   "execution_count": null,
   "id": "b671a18c-8ae7-4687-b51c-7b0db5a8e611",
   "metadata": {
    "slideshow": {
     "slide_type": "fragment"
    }
   },
   "outputs": [],
   "source": [
    "def f1(a,b):\n",
    "    c=a-b\n",
    "\n",
    "def f2(a,b):\n",
    "    c=a-b\n",
    "    return\n",
    "\n",
    "def f3(a,b):\n",
    "    c=a-b\n",
    "    return c\n",
    "\n",
    "f1()"
   ]
  },
  {
   "cell_type": "markdown",
   "id": "57dff445-738b-4150-844e-f879a9a2e9a8",
   "metadata": {
    "slideshow": {
     "slide_type": "slide"
    }
   },
   "source": [
    "Note, no código abaixo, que mesmo sem o `return` explícito, **a função ainda é executada**. Se pedimos para escrever algo, com o comando `print` por exemplo, o Python escreverá na tela."
   ]
  },
  {
   "cell_type": "code",
   "execution_count": null,
   "id": "f4ec41f0-6480-426b-bbbf-fb3acf186980",
   "metadata": {
    "slideshow": {
     "slide_type": "fragment"
    }
   },
   "outputs": [],
   "source": [
    "def dif(a,b):\n",
    "    c=a-b\n",
    "    print(a,b,c)\n",
    "    \n",
    "dif(27,2)"
   ]
  },
  {
   "cell_type": "markdown",
   "id": "6ec15787-d1e0-4af5-94fa-f51e75b5e144",
   "metadata": {
    "slideshow": {
     "slide_type": "slide"
    }
   },
   "source": [
    "### Variável Global vs Local\n",
    "    \n",
    "   Python diferencia variáveis criadas dentro e fora de funções:\n",
    "    \n",
    "   * **Variáveis globais**: são variáveis definidas fora de funções. Elas podem ser usadas em qualquer parte do código mas, por padrão, não podem ter seu valor alteradas dentro de funções.\n",
    "   * **Variáveis locais**: são variáveis definidas dentro de funções. Elas só \"existem\" dentro das funções onde foram definidas, mas podem ser passadas pelo comando `return` ou por argumentos para outras funções."
   ]
  },
  {
   "cell_type": "markdown",
   "id": "56b43df3-97cd-4b07-a6ea-df450affacc9",
   "metadata": {
    "slideshow": {
     "slide_type": "slide"
    }
   },
   "source": [
    "Veja abaixo que quando tentamos chamar uma variável local fora da função, recebemos um erro."
   ]
  },
  {
   "cell_type": "code",
   "execution_count": 4,
   "id": "78d786b3-6c2a-4706-8d12-6ffa4fdefbed",
   "metadata": {
    "slideshow": {
     "slide_type": "fragment"
    }
   },
   "outputs": [
    {
     "ename": "NameError",
     "evalue": "name 'x' is not defined",
     "output_type": "error",
     "traceback": [
      "\u001b[0;31m---------------------------------------------------------------------------\u001b[0m",
      "\u001b[0;31mNameError\u001b[0m                                 Traceback (most recent call last)",
      "\u001b[0;32m<ipython-input-4-05a6e925d88c>\u001b[0m in \u001b[0;36m<module>\u001b[0;34m\u001b[0m\n\u001b[1;32m      1\u001b[0m \u001b[0;32mdef\u001b[0m \u001b[0mg\u001b[0m\u001b[0;34m(\u001b[0m\u001b[0;34m)\u001b[0m\u001b[0;34m:\u001b[0m\u001b[0;34m\u001b[0m\u001b[0;34m\u001b[0m\u001b[0m\n\u001b[1;32m      2\u001b[0m     \u001b[0mx\u001b[0m\u001b[0;34m=\u001b[0m\u001b[0;36m555\u001b[0m\u001b[0;34m\u001b[0m\u001b[0;34m\u001b[0m\u001b[0m\n\u001b[0;32m----> 3\u001b[0;31m \u001b[0mprint\u001b[0m\u001b[0;34m(\u001b[0m\u001b[0mx\u001b[0m\u001b[0;34m)\u001b[0m\u001b[0;34m\u001b[0m\u001b[0;34m\u001b[0m\u001b[0m\n\u001b[0m",
      "\u001b[0;31mNameError\u001b[0m: name 'x' is not defined"
     ]
    }
   ],
   "source": [
    "def g():\n",
    "    x=555\n",
    "print(x)"
   ]
  },
  {
   "cell_type": "markdown",
   "id": "73085c09-35d5-41f9-b4d6-54e461ddde86",
   "metadata": {
    "slideshow": {
     "slide_type": "slide"
    }
   },
   "source": [
    "Veja abaixo como a variável global `b` é diferente da variável local `b`."
   ]
  },
  {
   "cell_type": "code",
   "execution_count": null,
   "id": "52a080e5-9b9b-4839-abaf-c1755eeda4a2",
   "metadata": {
    "slideshow": {
     "slide_type": "fragment"
    }
   },
   "outputs": [],
   "source": [
    "b=10           #Define a variável global 'b' como um inteiro de valor 10\n",
    "\n",
    "def f():       #Define a função f sem nenhum parâmetro\n",
    "    b=50      #Define a variável local 'b' como um inteiro de valor 50\n",
    "    print('b local: ', b)   #printa a variável local 'b'\n",
    "    \n",
    "f()                        #chama f\n",
    "print('b global: ', b)       #printa a vaŕavel global 'b'"
   ]
  },
  {
   "cell_type": "markdown",
   "id": "b8e7d694-8452-4c5c-9bc6-c3c95ccc8ac4",
   "metadata": {
    "slideshow": {
     "slide_type": "slide"
    }
   },
   "source": [
    "Por causa disso, não podemos mudar o valor da **variável global** dentro de uma função diretamente. Para isso, podemos utilizar o comando `global`, por exemplo:"
   ]
  },
  {
   "cell_type": "code",
   "execution_count": 4,
   "id": "e7af0107-82be-4cbe-a334-9f8d15cad832",
   "metadata": {
    "slideshow": {
     "slide_type": "fragment"
    }
   },
   "outputs": [
    {
     "name": "stdout",
     "output_type": "stream",
     "text": [
      "20 20\n",
      "5 20\n"
     ]
    }
   ],
   "source": [
    "b,j =20,20\n",
    "\n",
    "def f():\n",
    "    global b #contamos ao Python que queremos manipular/alterar a variável global 'b' dentro da função\n",
    "    b=5\n",
    "    j=5\n",
    "    \n",
    "print(b,j)\n",
    "f()\n",
    "print(b,j)"
   ]
  },
  {
   "cell_type": "markdown",
   "id": "7929a8b9-5659-4392-9ef0-77f8a790ec02",
   "metadata": {
    "slideshow": {
     "slide_type": "slide"
    }
   },
   "source": [
    "### Parâmetros de palavra-chave (Keyword Arguments)"
   ]
  },
  {
   "cell_type": "markdown",
   "id": "a9bbb8c9-b311-4861-bec5-810fb43c49e3",
   "metadata": {
    "slideshow": {
     "slide_type": "fragment"
    }
   },
   "source": [
    "Podemos chamar a função utilizando parâmetros \"nomeados\" (keywords) no Python. Isso é muito útil quando há muitos parâmetros, dessa forma você não irá precisar lembrar a ordem em que a função recebe os parâmetros, por exemplo, podemos chamar "
   ]
  },
  {
   "cell_type": "code",
   "execution_count": 8,
   "id": "6b5217ea-80fb-4d21-a76f-40d9f3873a20",
   "metadata": {
    "slideshow": {
     "slide_type": "fragment"
    }
   },
   "outputs": [
    {
     "data": {
      "text/plain": [
       "3"
      ]
     },
     "execution_count": 8,
     "metadata": {},
     "output_type": "execute_result"
    }
   ],
   "source": [
    "def f(a,b):\n",
    "    return a-b\n",
    "\n",
    "f(b=2,a=5)"
   ]
  },
  {
   "cell_type": "markdown",
   "id": "cf8a36de-c041-4ac3-b693-5de10c252124",
   "metadata": {
    "slideshow": {
     "slide_type": "slide"
    }
   },
   "source": [
    "Parâmetros que não são de palavra-chave são chamados de **parâmetros posicionais**. Eles precisam ser especificados **antes** dos outros."
   ]
  },
  {
   "cell_type": "code",
   "execution_count": 14,
   "id": "49a0f48b-2a73-453d-89d3-d571f17d80e6",
   "metadata": {
    "slideshow": {
     "slide_type": "fragment"
    }
   },
   "outputs": [
    {
     "data": {
      "text/plain": [
       "-5"
      ]
     },
     "execution_count": 14,
     "metadata": {},
     "output_type": "execute_result"
    }
   ],
   "source": [
    "def f(a,b):\n",
    "    return a-b\n",
    "\n",
    "f(b=10,a=5)"
   ]
  },
  {
   "cell_type": "markdown",
   "id": "9ea86f05-ed5d-4c9b-b188-271a19f60d2c",
   "metadata": {
    "slideshow": {
     "slide_type": "slide"
    }
   },
   "source": [
    "A função também pode ser definida com **parâmetros de palavra-chave**. Neste caso, o Python entende que:\n",
    "\n",
    "   * Definir ele na hora chamar a função é opicional\n",
    "\n",
    "   * Se ele não for definido na chamada, aquele é o valor padrão do parâmetro"
   ]
  },
  {
   "cell_type": "markdown",
   "id": "c69953d9-f792-47a4-b805-f56a7c4625a1",
   "metadata": {
    "slideshow": {
     "slide_type": "fragment"
    }
   },
   "source": [
    "Por exemplo, uma função `f` de parâmetros `a` e `b` pode ser definida com um valor padrão para `b`, tornando `b` opicional na hora de chamar `f`."
   ]
  },
  {
   "cell_type": "code",
   "execution_count": 24,
   "id": "765419ec-22ab-42a0-8d8b-6f9da0067307",
   "metadata": {
    "slideshow": {
     "slide_type": "fragment"
    }
   },
   "outputs": [
    {
     "name": "stdout",
     "output_type": "stream",
     "text": [
      "(99, 50)\n"
     ]
    }
   ],
   "source": [
    "def f(a,b=50):\n",
    "    return a,b\n",
    "\n",
    "print(f(a=99))"
   ]
  },
  {
   "cell_type": "markdown",
   "id": "a8183162-f98b-4636-b855-03baa17736d9",
   "metadata": {
    "slideshow": {
     "slide_type": "slide"
    }
   },
   "source": [
    "## Funções Embutidas (built-in)\n",
    "\n",
    "O Python já vem com algumas funções por padrão [(clique aqui para ver a lista completa)](https://docs.python.org/pt-br/3/library/functions.html), aqui trazemos alguns exemplos:\n",
    "\n",
    "* `abs(x)` \n",
    "    * **x: int, float ou complex**\n",
    "    * Retorna o módulo do número **x**, caso **x** seja complexo, retorna a sua magnitude."
   ]
  },
  {
   "cell_type": "code",
   "execution_count": 27,
   "id": "17dfd220-46b4-4dd1-9471-66bb9e59bc54",
   "metadata": {
    "slideshow": {
     "slide_type": "fragment"
    }
   },
   "outputs": [
    {
     "name": "stdout",
     "output_type": "stream",
     "text": [
      "2\n"
     ]
    }
   ],
   "source": [
    "print(abs(-2))"
   ]
  },
  {
   "cell_type": "markdown",
   "id": "d49c8e53",
   "metadata": {},
   "source": [
    "abs($z$)=abs($a+ b i$)$= \\sqrt{a^2 + b^2}= \\sqrt{z z^*}$"
   ]
  },
  {
   "cell_type": "markdown",
   "id": "cece409e-b9cc-4374-8e0b-13f918a952bf",
   "metadata": {
    "slideshow": {
     "slide_type": "slide"
    }
   },
   "source": [
    "* `range(start*, stop, step*)`\n",
    "    * **start: int (opicional)** Se omitido, assume-se `start=0`\n",
    "    * **stop: int**\n",
    "    * **step: int (opicional)** Se omitido, assume-se `step=1`\n",
    "    * Retorna uma sequência imutável de inteiros, começando em **start** e para antes do **stop** com passo **step**.\n",
    "    * obs:`range` na verdade é um tipo de variável e não uma função. Para transformá-lo em uma lista, podemos usar a 'função' `list()`."
   ]
  },
  {
   "cell_type": "code",
   "execution_count": 40,
   "id": "b118e39f-700f-4c36-96d2-c81f21819d14",
   "metadata": {
    "slideshow": {
     "slide_type": "fragment"
    }
   },
   "outputs": [
    {
     "name": "stdout",
     "output_type": "stream",
     "text": [
      "[0, 10, 20, 30, 40, 50, 60, 70, 80, 90]\n"
     ]
    }
   ],
   "source": [
    "a=list(range(0,100,10))\n",
    "\n",
    "print(a)"
   ]
  },
  {
   "cell_type": "markdown",
   "id": "5703d39e-f89d-4253-943a-6b59c8f3f7c9",
   "metadata": {
    "slideshow": {
     "slide_type": "slide"
    }
   },
   "source": [
    "* `complex(real,imag*)`\n",
    "    * **real: int, real, complex**\n",
    "    * **imag: int, real, complex (opicional)** Se omitido, assume-se `imag=0`\n",
    "    * Converte uma string ou um número em um complexo.\n",
    "* `float(x)`\n",
    "    * **x: int, real, complex, string**\n",
    "    * Converte uma string ou um número em um real.\n",
    "* `int(x,base*)`\n",
    "    * **x: int, real, complex, string**\n",
    "    * **base: int (opicional)** Se omitido, assume-se `base=10`\n",
    "    * Converte uma string ou um número **x**, escrito em base `base`, em um inteiro decimal. \n",
    "    * Se `base` estiver explícita, `x` precisa ser uma **string**!"
   ]
  }
 ],
 "metadata": {
  "celltoolbar": "Slideshow",
  "hide_input": false,
  "kernelspec": {
   "display_name": "Python 3",
   "language": "python",
   "name": "python3"
  },
  "language_info": {
   "codemirror_mode": {
    "name": "ipython",
    "version": 3
   },
   "file_extension": ".py",
   "mimetype": "text/x-python",
   "name": "python",
   "nbconvert_exporter": "python",
   "pygments_lexer": "ipython3",
   "version": "3.9.5"
  },
  "toc": {
   "base_numbering": 1,
   "nav_menu": {},
   "number_sections": true,
   "sideBar": true,
   "skip_h1_title": false,
   "title_cell": "Table of Contents",
   "title_sidebar": "Contents",
   "toc_cell": false,
   "toc_position": {},
   "toc_section_display": true,
   "toc_window_display": false
  },
  "widgets": {
   "application/vnd.jupyter.widget-state+json": {
    "state": {},
    "version_major": 2,
    "version_minor": 0
   }
  }
 },
 "nbformat": 4,
 "nbformat_minor": 5
}
