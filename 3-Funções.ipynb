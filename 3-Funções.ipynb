{
 "cells": [
  {
   "cell_type": "markdown",
   "id": "796ada40-bb98-4382-846c-b001ca518e69",
   "metadata": {},
   "source": [
    "# Funções\n",
    "\n",
    "Em Python, uma função é uma sequência de comandos que executa alguma tarefa e que tem um nome. Elas tem parâmetros e retornam valores. \n",
    "\n",
    "## Funções do Usuário\n",
    "\n",
    "Para se definir uma função usamos o comando `def` e para retornar um valor usamos o comando `return`. Por exemplo, vamos criar uma função chamada `dif` que calcula a diferença de dois parâmetros `a` e `b`"
   ]
  },
  {
   "cell_type": "code",
   "execution_count": 16,
   "id": "b192489f-1f51-453d-8665-9b7e9b8ef23d",
   "metadata": {},
   "outputs": [],
   "source": [
    "def dif(a,b): #definindo a função e seus parâmetros\n",
    "    c=a-b          #relizamos a soma de 'a' e 'b' e atribuímos o resultado a uma variável local 'c' \n",
    "    return c       #retornamos 'c' quando a função for chamada"
   ]
  },
  {
   "cell_type": "markdown",
   "id": "b8090782-8866-406a-95bf-2a5df88588b3",
   "metadata": {},
   "source": [
    "***\n",
    "Note que devido a síntaxe simplificada, o início e o fim da função são determinados pelo **TAB** ou **espaços** antes das linhas (indentação) dentro da função , incluindo o comando `return`. Por exemplo, se escrevêssemos sem eles:\n",
    "\n",
    ">```Python\n",
    "def dif(a,b):\n",
    "c=a-b\n",
    "return    \n",
    ">```\n",
    "\n",
    "O Python reclamaria que há um erro na indentação!\n",
    "***\n",
    "Agora que definimos a função, podemos chamá-la no nosso código"
   ]
  },
  {
   "cell_type": "code",
   "execution_count": 27,
   "id": "57d99baa-c000-4b2d-9d78-3860a2a64a57",
   "metadata": {},
   "outputs": [
    {
     "data": {
      "text/plain": [
       "25"
      ]
     },
     "execution_count": 27,
     "metadata": {},
     "output_type": "execute_result"
    }
   ],
   "source": [
    "dif(27,2)"
   ]
  },
  {
   "cell_type": "markdown",
   "id": "06280eff-5fdd-42c8-9bde-a80177b25120",
   "metadata": {},
   "source": [
    "Existem algumas sutilezas na hora de definir funções:\n",
    "\n",
    "1. A função precisa **sempre** ser definida acima da parte onde é chamada (diferente das subrotinas do Fortran, por exemplo)\n",
    "2. Se o comando `return` não estiver explícito, o Python executará o código dentro da função e não retornará nada"
   ]
  },
  {
   "cell_type": "markdown",
   "id": "c16d8500-c0f1-4e48-883c-99a99770d8df",
   "metadata": {},
   "source": [
    "Podemos chamar a função utilizando parâmetros \"nomeados\" (keywords) no Python. Isso é muito útil quando há muitos parâmetros, dessa forma você não irá precisar lembrar a ordem em que a função recebe os parâmetros, por exemplo, podemos chamar \n",
    "\n",
    ">```Python\n",
    "dif(2,27)     # c=2-27\n",
    "dif(b=2,a=27) # c=27-2\n",
    ">```\n",
    "\n",
    "***\n",
    "\n",
    "## Funções Embutidas (built-in)\n",
    "\n",
    "O Python já vem com algumas funções por padrão [(clique aqui para ver a lista completa)](https://docs.python.org/pt-br/3/library/functions.html):\n",
    "\n",
    "* `abs(x)` \n",
    "    * **x: int, float ou complex**\n",
    "    * Retorna o módulo do número **x**, caso **x** seja complexo, retorna a sua magnitude.\n",
    "* `range(start, stop, step*)`\n",
    "    * **start: int (opicional)** Se omitido, assume-se `start=0`\n",
    "    * **stop: int**\n",
    "    * **step: int (opicional)** Se omitido, assume-se `stop=1`\n",
    "    * Retorna uma sequência imutável de inteiros, começando em **start** até **stop** com passo **step**. \n",
    "    * obs:`range` na verdade é um tipo e não uma função.\n",
    "* `complex(real,imag*)`\n",
    "    * **real: int, real, complex**\n",
    "    * **imag: int, real, complex (opicional)** Se omitido, assume-se `imag=0`\n",
    "    * Converte uma string ou um número em um complexo.\n",
    "* `float(x)`\n",
    "    * **x: int, real, complex, string**\n",
    "    * Converte uma string ou um número em um real.\n",
    "* `int(x)`\n",
    "    * **x: int, real, complex, string**\n",
    "    * Converte uma string ou um número em um inteiro."
   ]
  },
  {
   "cell_type": "code",
   "execution_count": null,
   "id": "12e15a36-6fb4-49da-8a37-2e31625c06ac",
   "metadata": {},
   "outputs": [],
   "source": []
  }
 ],
 "metadata": {
  "kernelspec": {
   "display_name": "Python 3",
   "language": "python",
   "name": "python3"
  },
  "language_info": {
   "codemirror_mode": {
    "name": "ipython",
    "version": 3
   },
   "file_extension": ".py",
   "mimetype": "text/x-python",
   "name": "python",
   "nbconvert_exporter": "python",
   "pygments_lexer": "ipython3",
   "version": "3.9.1"
  },
  "widgets": {
   "application/vnd.jupyter.widget-state+json": {
    "state": {},
    "version_major": 2,
    "version_minor": 0
   }
  }
 },
 "nbformat": 4,
 "nbformat_minor": 5
}
