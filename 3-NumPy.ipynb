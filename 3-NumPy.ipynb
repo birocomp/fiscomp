{
 "cells": [
  {
   "cell_type": "markdown",
   "id": "c2673725-84b5-4218-b5f2-c9718161b622",
   "metadata": {},
   "source": [
    "# NumPy\n",
    "\n",
    "O Python tem suas próprias ferramentas para lidar com listas. Podemos criar uma lista assim"
   ]
  },
  {
   "cell_type": "code",
   "execution_count": null,
   "id": "6f82a3cb-5cdb-4f9a-b1f3-042107335539",
   "metadata": {},
   "outputs": [],
   "source": []
  },
  {
   "cell_type": "markdown",
   "id": "1a09aafb-d9c1-4d52-b707-5f10515850b6",
   "metadata": {},
   "source": [
    "Numpy é um pacote Python feito para lidar com números, vetores, matrizes e álgebra no geral, com alta performance e facilidade.\n",
    "\n",
    ">```python\n",
    "#Antes de qualquer coisa, vamos importar o NumPy no nosso codigo\n",
    "import numpy as np\n",
    ">```"
   ]
  },
  {
   "cell_type": "code",
   "execution_count": null,
   "id": "2789cdbe-5ac7-44b7-9bad-8964b48e1819",
   "metadata": {},
   "outputs": [],
   "source": []
  },
  {
   "cell_type": "code",
   "execution_count": null,
   "id": "7df92858-2a03-4c4a-971f-f4115a68dd9e",
   "metadata": {},
   "outputs": [],
   "source": []
  }
 ],
 "metadata": {
  "kernelspec": {
   "display_name": "Python 3",
   "language": "python",
   "name": "python3"
  },
  "language_info": {
   "codemirror_mode": {
    "name": "ipython",
    "version": 3
   },
   "file_extension": ".py",
   "mimetype": "text/x-python",
   "name": "python",
   "nbconvert_exporter": "python",
   "pygments_lexer": "ipython3",
   "version": "3.9.1"
  },
  "widgets": {
   "application/vnd.jupyter.widget-state+json": {
    "state": {},
    "version_major": 2,
    "version_minor": 0
   }
  }
 },
 "nbformat": 4,
 "nbformat_minor": 5
}
