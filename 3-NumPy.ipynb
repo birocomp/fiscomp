{
 "cells": [
  {
   "cell_type": "markdown",
   "id": "f7fa7548-e8cb-4563-8c76-9bf658f1127c",
   "metadata": {},
   "source": [
    "# NumPy\n",
    "\n",
    "Numpy é um pacote Python feito para lidar com números, vetores, matrizes e álgebra no geral, com alta performance e facilidade.\n"
   ]
  }
 ],
 "metadata": {
  "kernelspec": {
   "display_name": "Python 3",
   "language": "python",
   "name": "python3"
  },
  "language_info": {
   "codemirror_mode": {
    "name": "ipython",
    "version": 3
   },
   "file_extension": ".py",
   "mimetype": "text/x-python",
   "name": "python",
   "nbconvert_exporter": "python",
   "pygments_lexer": "ipython3",
   "version": "3.8.6"
  }
 },
 "nbformat": 4,
 "nbformat_minor": 5
}
