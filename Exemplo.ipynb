{
 "cells": [
  {
   "cell_type": "markdown",
   "id": "871ccd3f-40ae-4f2c-991f-603f5ad8845b",
   "metadata": {},
   "source": [
    "# Precisão (interativo)\n",
    "\n",
    "Solução numérica e analítica da equação para o decaimento radioativo de um material\n",
    "\n",
    "$$\\frac{du}{dt}=-au$$\n",
    "\n",
    "Utilizando o método de Euler, o algorítmo iterativo fica\n",
    "\n",
    "$$u(t+\\Delta t)=u(t)- a u \\Delta t$$\n",
    "\n",
    "Abaixo você pode ver como o espaçamento dos pontos no tempo afeta o resultado da solução para o caso de \n",
    "\n",
    "$$u(t=0)=1$$\n",
    "\n",
    "No intervalo de tempot \n",
    "\n",
    "$$t=[0,1000]$$"
   ]
  },
  {
   "cell_type": "code",
   "execution_count": 1,
   "id": "1c988766-2510-43a7-a744-ad186375ed72",
   "metadata": {
    "tags": [
     "hide_input"
    ]
   },
   "outputs": [
    {
     "data": {
      "application/vnd.jupyter.widget-view+json": {
       "model_id": "2c6192c0ed954e9582cac0fc01ae67ba",
       "version_major": 2,
       "version_minor": 0
      },
      "text/plain": [
       "interactive(children=(FloatSlider(value=30.5, continuous_update=False, description='$\\\\Delta t:$', max=60.0, m…"
      ]
     },
     "metadata": {},
     "output_type": "display_data"
    }
   ],
   "source": [
    "from ipywidgets import interact\n",
    "import ipywidgets as wid\n",
    "import numpy as np\n",
    "import matplotlib.pyplot as plt\n",
    "a=0.005\n",
    "tt=np.linspace(0,1000,200)\n",
    "\n",
    "def main(dt):\n",
    "        fig,ax=plt.subplots(figsize=(12,8))\n",
    "        t=np.arange(0,1000,dt)\n",
    "        nt=t.size\n",
    "        u=np.zeros((nt))\n",
    "        u[0]=1.0\n",
    "        for i in range(0,nt-1):\n",
    "            u[i+1]=u[i]+dt*a*u[i]\n",
    "        fig=plt.plot(t,u,'-o',label=f'Numérico (NT={nt})')\n",
    "        fig=plt.plot(tt,np.exp(a*tt),'-',label='Analítico')\n",
    "        leg=plt.legend()\n",
    "\n",
    "interact(main, dt=wid.FloatSlider(value=30.5,min=0.5,max=60.0,step=5,description='$\\Delta t:$',continuous_update=False));"
   ]
  },
  {
   "cell_type": "code",
   "execution_count": null,
   "id": "3a581104",
   "metadata": {},
   "outputs": [],
   "source": []
  }
 ],
 "metadata": {
  "hide_input": false,
  "kernelspec": {
   "display_name": "Python 3",
   "language": "python",
   "name": "python3"
  },
  "language_info": {
   "codemirror_mode": {
    "name": "ipython",
    "version": 3
   },
   "file_extension": ".py",
   "mimetype": "text/x-python",
   "name": "python",
   "nbconvert_exporter": "python",
   "pygments_lexer": "ipython3",
   "version": "3.9.1"
  },
  "toc": {
   "base_numbering": 1,
   "nav_menu": {},
   "number_sections": true,
   "sideBar": true,
   "skip_h1_title": false,
   "title_cell": "Table of Contents",
   "title_sidebar": "Contents",
   "toc_cell": false,
   "toc_position": {},
   "toc_section_display": true,
   "toc_window_display": false
  },
  "widgets": {
   "application/vnd.jupyter.widget-state+json": {
    "state": {},
    "version_major": 2,
    "version_minor": 0
   }
  }
 },
 "nbformat": 4,
 "nbformat_minor": 5
}
