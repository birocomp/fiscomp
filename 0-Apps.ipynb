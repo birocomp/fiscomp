{
 "cells": [
  {
   "cell_type": "markdown",
   "id": "9e8a07da-f166-4398-9c8e-97d5cbee0aed",
   "metadata": {},
   "source": [
    "# Apps Interativos\n",
    "\n",
    "## [Comparação da solução numérica do decaimento radioativo por diferentes métodos](https://mybinder.org/v2/gh/birocomp/fiscomp/main?urlpath=/apps/NUM_DECAY.ipynb)\n",
    "## [Equação de Schrodinger 1D Independente do Tempo](https://mybinder.org/v2/gh/birocomp/fiscomp/main?urlpath=/apps/SCH_1D_IT.ipynb)"
   ]
  }
 ],
 "metadata": {
  "kernelspec": {
   "display_name": "Python 3",
   "language": "python",
   "name": "python3"
  },
  "language_info": {
   "codemirror_mode": {
    "name": "ipython",
    "version": 3
   },
   "file_extension": ".py",
   "mimetype": "text/x-python",
   "name": "python",
   "nbconvert_exporter": "python",
   "pygments_lexer": "ipython3",
   "version": "3.9.5"
  },
  "widgets": {
   "application/vnd.jupyter.widget-state+json": {
    "state": {},
    "version_major": 2,
    "version_minor": 0
   }
  }
 },
 "nbformat": 4,
 "nbformat_minor": 5
}
