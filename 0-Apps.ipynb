{
 "cells": [
  {
   "cell_type": "markdown",
   "id": "9e8a07da-f166-4398-9c8e-97d5cbee0aed",
   "metadata": {},
   "source": [
    "# Apps Interativos (clique para abrir)\n",
    "\n",
    "## [Comparação da solução numérica do decaimento radioativo por diferentes métodos](https://mybinder.org/v2/gh/birocomp/fiscomp/main?urlpath=/apps/NUM_DECAY.ipynb)\n",
    "## [Equação de Schrodinger 1D Independente do Tempo](https://mybinder.org/v2/gh/birocomp/fiscomp/main?urlpath=/apps/SCH_1D_TI.ipynb)"
   ]
  }
 ],
 "metadata": {
  "hide_input": false,
  "kernelspec": {
   "display_name": "Python 3",
   "language": "python",
   "name": "python3"
  },
  "language_info": {
   "codemirror_mode": {
    "name": "ipython",
    "version": 3
   },
   "file_extension": ".py",
   "mimetype": "text/x-python",
   "name": "python",
   "nbconvert_exporter": "python",
   "pygments_lexer": "ipython3",
   "version": "3.9.5"
  },
  "toc": {
   "base_numbering": 1,
   "nav_menu": {},
   "number_sections": true,
   "sideBar": true,
   "skip_h1_title": false,
   "title_cell": "Table of Contents",
   "title_sidebar": "Contents",
   "toc_cell": false,
   "toc_position": {
    "height": "calc(100% - 180px)",
    "left": "10px",
    "top": "150px",
    "width": "392.25px"
   },
   "toc_section_display": true,
   "toc_window_display": false
  },
  "widgets": {
   "application/vnd.jupyter.widget-state+json": {
    "state": {},
    "version_major": 2,
    "version_minor": 0
   }
  }
 },
 "nbformat": 4,
 "nbformat_minor": 5
}
