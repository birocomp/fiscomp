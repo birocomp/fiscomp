{
 "cells": [
  {
   "cell_type": "markdown",
   "id": "83e7512f",
   "metadata": {
    "scrolled": true
   },
   "source": [
    "# Como usar\n",
    "\n",
    "## * Na aba 'Gerar o Sistema':escolha os parâmetros e clique em 'Gerar/Resolver' para gerar a equação matricial e resolvê-la.\n",
    "\n",
    "## 2. Na aba 'Funções de Onda' escolha os parâmetros do plot e clique em 'Plotar'.\n",
    "\n",
    "***"
   ]
  },
  {
   "cell_type": "code",
   "execution_count": 39,
   "id": "2b172b49",
   "metadata": {},
   "outputs": [
    {
     "data": {
      "application/vnd.jupyter.widget-view+json": {
       "model_id": "fea910d08b114985ac02fac1cdc4049d",
       "version_major": 2,
       "version_minor": 0
      },
      "text/plain": [
       "Tab(children=(interactive(children=(FloatRangeSlider(value=(-50.0, 50.0), continuous_update=False, description…"
      ]
     },
     "metadata": {},
     "output_type": "display_data"
    }
   ],
   "source": [
    "import numpy as np\n",
    "import scipy.sparse as sparse\n",
    "import matplotlib.pyplot as plt\n",
    "from numba import jit,cuda\n",
    "import ipywidgets as wid\n",
    "from ipywidgets import interactive\n",
    "\n",
    "RY=13.6056980659 #x*RY: Rydberg -> ev\n",
    "ang=1.88973 #X/ang: raio de bohr -> angstroms\n",
    "\n",
    "def diag(xx,N):\n",
    "    global x,psi,prob,eig,V,L\n",
    "    def vetores(xx,N):\n",
    "        xmin,xmax=xx\n",
    "        x,dx=np.linspace(xmin*ang,xmax*ang, N, retstep=True) #Define o vetor posição (raio de bohr)\n",
    "        return x,dx,xmin,xmax\n",
    "    \n",
    "    @jit\n",
    "    def diagH(H,V):\n",
    "        H=H+V\n",
    "        eig, psi=np.linalg.eigh(H) #Resolve o sistema e atribui-se: eig=autovalores, psi=autovetores\n",
    "        prob=np.abs(psi)**2 #Atribui a densidade de probabilidade |Psi|² a variável psi, por conveniência\n",
    "        return H,V,psi,prob,eig\n",
    "    \n",
    "    x,dx,xmin,xmax=vetores(xx,N)\n",
    "    a=- 1/(dx**2) #Define 'a' por conveniência\n",
    "    N=x.size #Armazena o tamanho do vetor posição e o comprimento do espaço que ele representa\n",
    "    V=sparse.diags([0],[0],shape=(N,N)).toarray() #Cria uma matriz NxN com o potencial V(x)\n",
    "    H=sparse.diags([a,-2*a,a],[-1,0,1],shape=(N,N)).toarray() #Cria a matriz Hamiltoniano\n",
    "    H,V,psi,prob,eig=diagH(H,V)\n",
    "    \n",
    "    eig=eig*RY #Ryd->eV\n",
    "    x=x/ang #RBohr->angstroms\n",
    "    L=x.max()-x.min()\n",
    "    \n",
    "    print('\\n #########Propriedades espaciais do sistema resolvido (angstroms)######### ')\n",
    "    print(f\"\\n Largura do domínio =  {L:.2f}\")\n",
    "    print(f\"\\n dx =  {dx:.2f}\")\n",
    "    print(\"\\n #########################################################################\")\n",
    "    print(\"\\n Siga para a aba 'Funções de onda' para plotar o resultado.\")\n",
    "\n",
    "def plotall(NES,limx,wav):\n",
    "    global V\n",
    "    V=np.diag(V,k=0)\n",
    "    fig, ax=plt.subplots(figsize=(16,9))\n",
    "    nmin,nmax=NES\n",
    "    ax.set_xlim([x.min()-limx, x.max()+ limx])\n",
    "    ax.set_xlabel('$x (\\AA$)')\n",
    "    ax.set_ylabel('Auto energias (eV)')\n",
    "    \n",
    "    if wav==1:\n",
    "        for i in range(nmax,nmin-1,-1):\n",
    "            fig=plt.plot(x,prob[:,i]+eig[i], \n",
    "                         label=f'$E_{i}={eig[i]:2f}$ eV')\n",
    "    elif wav==2:\n",
    "        for i in range(nmax,nmin-1,-1):\n",
    "            fig=plt.plot(x,np.real(psi[:,i])+eig[i], \n",
    "                         label=f'$E_{i}={eig[i]:2f}$ eV')\n",
    "    elif wav==3:\n",
    "        for i in range(nmax,nmin-1,-1):\n",
    "            fig=plt.plot(x,np.imag(psi[:,i])+eig[i], \n",
    "                         label=f'$E_{i}={eig[i]:2f}$ eV')\n",
    "            \n",
    "    fig=plt.axvline(x=x.min(),color='k',ls='--')\n",
    "    fig=plt.axvline(x=x.max(),color='k',ls='--')\n",
    "    #fig=plt.plot(x,V,'k',label='V($x$)')\n",
    "    leg=plt.legend(loc='upper right')\n",
    "    plt.show()\n",
    "\n",
    "lslider=wid.Layout(width='90%', display='flex');\n",
    "sty = {'description_width': 'initial'};\n",
    "\n",
    "MAIN=interactive(diag, {'manual': True}, \n",
    "                    xx=wid.FloatRangeSlider(\n",
    "                        value=[-50.0, 50.0],\n",
    "                        min=-150.0,\n",
    "                        max=150.0,\n",
    "                        step=1,\n",
    "                        continuous_update=False,\n",
    "                        orientation='horizontal',\n",
    "                        readout_format='1d',\n",
    "                        layout=lslider,\n",
    "                        description=('$x_{min}-x_{max}$'),\n",
    "                        style=sty), \n",
    "                    N=wid.IntSlider(value=500,\n",
    "                        min=200,\n",
    "                        max=2000,\n",
    "                        step=10,\n",
    "                        continuous_update=False, \n",
    "                        layout=lslider,\n",
    "                        description=('Número de pontos/Ordem da Matriz: '),\n",
    "                        style=sty));\n",
    "\n",
    "\n",
    "PLOT=interactive(plotall, {'manual': True}, \n",
    "                    NES=wid.IntRangeSlider(\n",
    "                        value=[0, 3],\n",
    "                        min=0,\n",
    "                        max=10,\n",
    "                        step=1,\n",
    "                        description='Plotar N. Estados:',\n",
    "                        continuous_update=False,\n",
    "                        orientation='horizontal',\n",
    "                        readout_format='.1d',\n",
    "                        layout=lslider,\n",
    "                        style=sty),\n",
    "                    limx=wid.IntSlider(\n",
    "                        value=20,\n",
    "                        min=0,\n",
    "                        max=x.max()-x.min(),\n",
    "                        step=1,\n",
    "                        description='Margens em $x$:   ',\n",
    "                        continuous_update=False,\n",
    "                        layout=lslider,\n",
    "                        style=sty),\n",
    "                    wav=wid.Dropdown(\n",
    "                        options=[('densidades de probabilidades',1),\n",
    "                                 ('funções de onda (parte real)',2),\n",
    "                                 ('funções de onda (parte imaginária)',3)],\n",
    "                        value=1,\n",
    "                        description='Plotar as'),\n",
    "                        continuous_update=False);\n",
    "\n",
    "MAIN.children[2].description=('Gerar/Resolver');\n",
    "PLOT.children[3].description=('Plotar');\n",
    "\n",
    "tab=wid.Tab(children=[MAIN,PLOT]);\n",
    "tab.set_title(0, 'Gerar o Sistema');\n",
    "tab.set_title(1, 'Funções de Onda');\n",
    "\n",
    "display(tab)\n"
   ]
  },
  {
   "cell_type": "code",
   "execution_count": null,
   "id": "7053032b",
   "metadata": {},
   "outputs": [],
   "source": []
  }
 ],
 "metadata": {
  "hide_input": false,
  "kernelspec": {
   "display_name": "Python 3",
   "language": "python",
   "name": "python3"
  },
  "language_info": {
   "codemirror_mode": {
    "name": "ipython",
    "version": 3
   },
   "file_extension": ".py",
   "mimetype": "text/x-python",
   "name": "python",
   "nbconvert_exporter": "python",
   "pygments_lexer": "ipython3",
   "version": "3.9.5"
  },
  "toc": {
   "base_numbering": 1,
   "nav_menu": {},
   "number_sections": true,
   "sideBar": true,
   "skip_h1_title": false,
   "title_cell": "Table of Contents",
   "title_sidebar": "Contents",
   "toc_cell": false,
   "toc_position": {},
   "toc_section_display": true,
   "toc_window_display": true
  },
  "widgets": {
   "application/vnd.jupyter.widget-state+json": {
    "state": {
     "001d39c5c3cd47db806e848fe6fb5bba": {
      "model_module": "@jupyter-widgets/base",
      "model_module_version": "1.2.0",
      "model_name": "LayoutModel",
      "state": {}
     },
     "0081131ff040491cb81d822779bd9db6": {
      "model_module": "@jupyter-widgets/controls",
      "model_module_version": "1.5.0",
      "model_name": "SliderStyleModel",
      "state": {
       "description_width": ""
      }
     },
     "00ad5b9a30f842efa51b7edda26e7ef5": {
      "model_module": "@jupyter-widgets/controls",
      "model_module_version": "1.5.0",
      "model_name": "VBoxModel",
      "state": {
       "_dom_classes": [
        "widget-interact"
       ],
       "children": [
        "IPY_MODEL_47906562861947689485610799a7c4ff",
        "IPY_MODEL_76d550a1071a4b219da52b520ea2f19a",
        "IPY_MODEL_02f6489303614f9fa09e500542bcaf78",
        "IPY_MODEL_6bdcd42464ce41faa0bf30707cf613cf"
       ],
       "layout": "IPY_MODEL_e9c839a0a7b6464985114a99beb3a355"
      }
     },
     "00bfd95c348f4d8b94a5f77d3449aaba": {
      "model_module": "@jupyter-widgets/base",
      "model_module_version": "1.2.0",
      "model_name": "LayoutModel",
      "state": {}
     },
     "01152f6a38174120aba808fb72fbbfff": {
      "model_module": "@jupyter-widgets/controls",
      "model_module_version": "1.5.0",
      "model_name": "IntRangeSliderModel",
      "state": {
       "_model_name": "IntRangeSliderModel",
       "_view_name": "IntRangeSliderView",
       "continuous_update": false,
       "description": "Plotar N. Estados::",
       "layout": "IPY_MODEL_490a91eda87d44869eaa21edb5f8964a",
       "max": 50,
       "readout_format": "1d",
       "style": "IPY_MODEL_b7d151ca7cbf4ee28581b52ffc10008e",
       "value": [
        0,
        3
       ]
      }
     },
     "01553829d3cc42da9fc7a0ed9f163bbf": {
      "model_module": "@jupyter-widgets/base",
      "model_module_version": "1.2.0",
      "model_name": "LayoutModel",
      "state": {}
     },
     "0186a0fcadb3464e9d832b0110f9df07": {
      "model_module": "@jupyter-widgets/output",
      "model_module_version": "1.0.0",
      "model_name": "OutputModel",
      "state": {
       "layout": "IPY_MODEL_21b96933c4914602a760c826299c50c9",
       "outputs": [
        {
         "data": {
          "image/png": "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\n",
          "text/plain": "<Figure size 1152x648 with 1 Axes>"
         },
         "metadata": {
          "needs_background": "light"
         },
         "output_type": "display_data"
        }
       ]
      }
     },
     "01d7ee8d5cdd429090977e18c48a2f8e": {
      "model_module": "@jupyter-widgets/controls",
      "model_module_version": "1.5.0",
      "model_name": "SliderStyleModel",
      "state": {
       "description_width": ""
      }
     },
     "021ebe099d054767baefb3664a902853": {
      "model_module": "@jupyter-widgets/controls",
      "model_module_version": "1.5.0",
      "model_name": "SliderStyleModel",
      "state": {
       "description_width": ""
      }
     },
     "0280003f4f454cdf9eb7e659bc87ab0b": {
      "model_module": "@jupyter-widgets/controls",
      "model_module_version": "1.5.0",
      "model_name": "SliderStyleModel",
      "state": {
       "description_width": ""
      }
     },
     "02f6489303614f9fa09e500542bcaf78": {
      "model_module": "@jupyter-widgets/controls",
      "model_module_version": "1.5.0",
      "model_name": "ButtonModel",
      "state": {
       "description": "Run Interact",
       "layout": "IPY_MODEL_062c29369f0847b3a92b6a498d103d78",
       "style": "IPY_MODEL_5784dd40a754446d91d3b96129b945b9"
      }
     },
     "034031bc18f943a98d5aef79999d8855": {
      "model_module": "@jupyter-widgets/controls",
      "model_module_version": "1.5.0",
      "model_name": "VBoxModel",
      "state": {
       "_dom_classes": [
        "widget-interact"
       ],
       "children": [
        "IPY_MODEL_43e869985eaf45ea85c17035c162bdd0",
        "IPY_MODEL_c7ac484885c24ee9bfa028c19c492315",
        "IPY_MODEL_a73cb86135cd4f19bdb2f15ed414a835",
        "IPY_MODEL_5d9f3c50e97b4f7b95ba4fade617d89a"
       ],
       "layout": "IPY_MODEL_d7d48a0866ca4c5fb7ebb59bf4d7677d"
      }
     },
     "03c63318014940be927f2a100a9f9d23": {
      "model_module": "@jupyter-widgets/controls",
      "model_module_version": "1.5.0",
      "model_name": "VBoxModel",
      "state": {
       "_dom_classes": [
        "widget-interact"
       ],
       "children": [
        "IPY_MODEL_a47c4e811f08404383842123ab37c888",
        "IPY_MODEL_fe718cfd35984f6a93b9abe646f3501b",
        "IPY_MODEL_3c637bf5fc3e4d9ea15ae2be8c72ccd9",
        "IPY_MODEL_9f765f28ae344c9ea57bdf91bc711137",
        "IPY_MODEL_79b1fbf9841b4e13b7e28154316916a5"
       ],
       "layout": "IPY_MODEL_feea7fd6971d4b639f15702257002dbd"
      }
     },
     "03cb53e6b4bf474f9a07529ff904c019": {
      "model_module": "@jupyter-widgets/base",
      "model_module_version": "1.2.0",
      "model_name": "LayoutModel",
      "state": {}
     },
     "03da6999a126450ca4879e356d6ed896": {
      "model_module": "@jupyter-widgets/controls",
      "model_module_version": "1.5.0",
      "model_name": "ButtonModel",
      "state": {
       "description": "Run Interact",
       "layout": "IPY_MODEL_85b8b2ab9d5e48cea139d4de2d1f8dc7",
       "style": "IPY_MODEL_0ea384fe92fe47c0b70050fbad4d339c"
      }
     },
     "03de8e54506f4d6e9fabc67bc14b8f10": {
      "model_module": "@jupyter-widgets/controls",
      "model_module_version": "1.5.0",
      "model_name": "SliderStyleModel",
      "state": {
       "description_width": ""
      }
     },
     "0447d04d4f6d4fbabd0bd0d71ac02f04": {
      "model_module": "@jupyter-widgets/controls",
      "model_module_version": "1.5.0",
      "model_name": "IntSliderModel",
      "state": {
       "continuous_update": false,
       "description": "Ordem da Matriz:",
       "layout": "IPY_MODEL_38640cbdc73e42608241e51953f954aa",
       "max": 1000,
       "min": 30,
       "step": 10,
       "style": "IPY_MODEL_fe6942492ba240c0a6c4581382b51515",
       "value": 200
      }
     },
     "04856431c30c4e40b94627542e2875bd": {
      "model_module": "@jupyter-widgets/controls",
      "model_module_version": "1.5.0",
      "model_name": "VBoxModel",
      "state": {
       "_dom_classes": [
        "widget-interact"
       ],
       "children": [
        "IPY_MODEL_7b713615b4414e68ac6588d62e3d5e8d",
        "IPY_MODEL_831c1427b11d4076a8f8ff86fa47cb41",
        "IPY_MODEL_c1defe23519042f3b7e2941078be945d",
        "IPY_MODEL_839eb37a7efa4cf9bc4e85d25b403bff"
       ],
       "layout": "IPY_MODEL_3830d9fc2a6d4520b53cb9bd89ffdf0c"
      }
     },
     "04c39bf46c1b4cddacc5ddb23eb39324": {
      "model_module": "@jupyter-widgets/base",
      "model_module_version": "1.2.0",
      "model_name": "LayoutModel",
      "state": {}
     },
     "04d52672267e47678a883ae5929e5e6a": {
      "model_module": "@jupyter-widgets/base",
      "model_module_version": "1.2.0",
      "model_name": "LayoutModel",
      "state": {}
     },
     "054af5c280ad4b58bb9f4f42ab0842ee": {
      "model_module": "@jupyter-widgets/base",
      "model_module_version": "1.2.0",
      "model_name": "LayoutModel",
      "state": {}
     },
     "0569d82d794f479985fcf071cd1bcabe": {
      "model_module": "@jupyter-widgets/base",
      "model_module_version": "1.2.0",
      "model_name": "LayoutModel",
      "state": {}
     },
     "060ff5b1c0b6445db544d6964e91cd51": {
      "model_module": "@jupyter-widgets/base",
      "model_module_version": "1.2.0",
      "model_name": "LayoutModel",
      "state": {}
     },
     "062c29369f0847b3a92b6a498d103d78": {
      "model_module": "@jupyter-widgets/base",
      "model_module_version": "1.2.0",
      "model_name": "LayoutModel",
      "state": {}
     },
     "065daa8ecc4048e9944fa8e026e0c738": {
      "model_module": "@jupyter-widgets/controls",
      "model_module_version": "1.5.0",
      "model_name": "ButtonStyleModel",
      "state": {}
     },
     "06f5bc3909764b8c977f412b294f564b": {
      "model_module": "@jupyter-widgets/controls",
      "model_module_version": "1.5.0",
      "model_name": "BoundedFloatTextModel",
      "state": {
       "description": "X_{min}:",
       "layout": "IPY_MODEL_f164c37ef1f947a28bce9f4dec11f88f",
       "max": 500,
       "min": -500,
       "step": 1,
       "style": "IPY_MODEL_a461e8b6940b44e5bc16fbd55c2160a9",
       "value": 7
      }
     },
     "0738a8b343ce4be6b723ca36ace1a55d": {
      "model_module": "@jupyter-widgets/controls",
      "model_module_version": "1.5.0",
      "model_name": "VBoxModel",
      "state": {
       "_dom_classes": [
        "widget-interact"
       ],
       "children": [
        "IPY_MODEL_b9926b2f36e74efc9799fc80af07e75e",
        "IPY_MODEL_cf1ae7cb03364d938422e1be327afa22",
        "IPY_MODEL_cd5309cfeb0a4a4babed55beffbb81aa"
       ],
       "layout": "IPY_MODEL_1e22933236f54545848e36e41127891c"
      }
     },
     "0825ab695a494aa5b3e226d3d4811f12": {
      "model_module": "@jupyter-widgets/controls",
      "model_module_version": "1.5.0",
      "model_name": "ButtonStyleModel",
      "state": {}
     },
     "0860044560114d0296bf1706d833349e": {
      "model_module": "@jupyter-widgets/base",
      "model_module_version": "1.2.0",
      "model_name": "LayoutModel",
      "state": {}
     },
     "08a62a38dd9745b38c7aa292bbceada3": {
      "model_module": "@jupyter-widgets/controls",
      "model_module_version": "1.5.0",
      "model_name": "VBoxModel",
      "state": {
       "_dom_classes": [
        "widget-interact"
       ],
       "children": [
        "IPY_MODEL_2e5a9d5282aa48c0bf667f14a13acf3c",
        "IPY_MODEL_5e201ddd30e447428a8c5d25e85e979c",
        "IPY_MODEL_b9d75a1ab92c443baa1dd8856c88d47b",
        "IPY_MODEL_12d67dcac85940d593cf01302f8b186d"
       ],
       "layout": "IPY_MODEL_bb20d709cf90483fa786c483bfc5d78e"
      }
     },
     "09006eaec4b6403ca8d513f975e62ff4": {
      "model_module": "@jupyter-widgets/base",
      "model_module_version": "1.2.0",
      "model_name": "LayoutModel",
      "state": {}
     },
     "09bbcee0a8c54fef94e88b99e1108d82": {
      "model_module": "@jupyter-widgets/base",
      "model_module_version": "1.2.0",
      "model_name": "LayoutModel",
      "state": {}
     },
     "0aee7fffc8fa49d18d11aa6897f84166": {
      "model_module": "@jupyter-widgets/controls",
      "model_module_version": "1.5.0",
      "model_name": "FloatRangeSliderModel",
      "state": {
       "_model_name": "FloatRangeSliderModel",
       "_view_name": "FloatRangeSliderView",
       "continuous_update": false,
       "description": "Domínio (angstroms):",
       "layout": "IPY_MODEL_972c9f79fea847a8a74a7a13355202cd",
       "max": 500,
       "min": -500,
       "readout_format": "1d",
       "style": "IPY_MODEL_4c9e9a19a3ee460faa6a1d8134c5a104",
       "value": [
        -100,
        100
       ]
      }
     },
     "0aef76d336a546d99d1bc404cbd55301": {
      "model_module": "@jupyter-widgets/controls",
      "model_module_version": "1.5.0",
      "model_name": "FloatRangeSliderModel",
      "state": {
       "_model_name": "FloatRangeSliderModel",
       "_view_name": "FloatRangeSliderView",
       "continuous_update": false,
       "description": "Domínio (angstroms):",
       "layout": "IPY_MODEL_72b16956ea7a408ba6d7339c75f30b06",
       "max": 500,
       "min": -500,
       "readout_format": "1d",
       "style": "IPY_MODEL_a0de5bc2ef4f4171a8ad4e557316f027",
       "value": [
        -100,
        100
       ]
      }
     },
     "0b1ea6ebbfbf43de88d6202ad4eb3c83": {
      "model_module": "@jupyter-widgets/controls",
      "model_module_version": "1.5.0",
      "model_name": "SliderStyleModel",
      "state": {
       "description_width": ""
      }
     },
     "0b5838e24baf45abac4fa2f6a32d21c9": {
      "model_module": "@jupyter-widgets/base",
      "model_module_version": "1.2.0",
      "model_name": "LayoutModel",
      "state": {}
     },
     "0bb834d791ea4bdd8e63b98e3ff59807": {
      "model_module": "@jupyter-widgets/controls",
      "model_module_version": "1.5.0",
      "model_name": "ButtonStyleModel",
      "state": {}
     },
     "0c20321525b342b9981b05992c65d647": {
      "model_module": "@jupyter-widgets/controls",
      "model_module_version": "1.5.0",
      "model_name": "DescriptionStyleModel",
      "state": {
       "description_width": ""
      }
     },
     "0c2d28b3a4a241a7af48bfc882516479": {
      "model_module": "@jupyter-widgets/base",
      "model_module_version": "1.2.0",
      "model_name": "LayoutModel",
      "state": {}
     },
     "0cd81b6ea4b34ca3937c9caff6723b5e": {
      "model_module": "@jupyter-widgets/controls",
      "model_module_version": "1.5.0",
      "model_name": "IntSliderModel",
      "state": {
       "continuous_update": false,
       "description": "Ordem da Matriz:",
       "layout": "IPY_MODEL_b26b5c91f0084f83b12d3e3da696ac96",
       "max": 1000,
       "min": 30,
       "step": 10,
       "style": "IPY_MODEL_d6da91ec41e94944a54b84978c4eb0c2",
       "value": 200
      }
     },
     "0cde1b8986034633927622fcd97864b1": {
      "model_module": "@jupyter-widgets/controls",
      "model_module_version": "1.5.0",
      "model_name": "IntSliderModel",
      "state": {
       "continuous_update": false,
       "description": "Ordem da Matriz:",
       "layout": "IPY_MODEL_247a80680174443e886396455f80885a",
       "max": 1000,
       "min": 30,
       "step": 10,
       "style": "IPY_MODEL_b61241cbed2443da8a159778ec4edd2e",
       "value": 200
      }
     },
     "0d5862a76d5b4529890f5f727fd781fc": {
      "model_module": "@jupyter-widgets/controls",
      "model_module_version": "1.5.0",
      "model_name": "SliderStyleModel",
      "state": {
       "description_width": ""
      }
     },
     "0dd34676d2944839b702895a631312e9": {
      "model_module": "@jupyter-widgets/controls",
      "model_module_version": "1.5.0",
      "model_name": "IntRangeSliderModel",
      "state": {
       "_model_name": "IntRangeSliderModel",
       "_view_name": "IntRangeSliderView",
       "continuous_update": false,
       "description": "Plotar N. Estados::",
       "layout": "IPY_MODEL_a697a5f2597f462fa10f0e1bd430847f",
       "max": 50,
       "min": 1,
       "readout_format": "1d",
       "style": "IPY_MODEL_d99b757f40754e699c236756ff01cbf8",
       "value": [
        1,
        3
       ]
      }
     },
     "0e4ee8094a2e44f2aa0f88187af8f2fa": {
      "model_module": "@jupyter-widgets/controls",
      "model_module_version": "1.5.0",
      "model_name": "ButtonStyleModel",
      "state": {}
     },
     "0ea00c67b2714e91a6a4a0660c7ac4bb": {
      "model_module": "@jupyter-widgets/controls",
      "model_module_version": "1.5.0",
      "model_name": "SliderStyleModel",
      "state": {
       "description_width": ""
      }
     },
     "0ea384fe92fe47c0b70050fbad4d339c": {
      "model_module": "@jupyter-widgets/controls",
      "model_module_version": "1.5.0",
      "model_name": "ButtonStyleModel",
      "state": {}
     },
     "0fa75caf853c4a2983e9fd248bb7f5d8": {
      "model_module": "@jupyter-widgets/controls",
      "model_module_version": "1.5.0",
      "model_name": "SliderStyleModel",
      "state": {
       "description_width": ""
      }
     },
     "0fbb5387ba4e4ec5959ce6d6e6731186": {
      "model_module": "@jupyter-widgets/controls",
      "model_module_version": "1.5.0",
      "model_name": "BoundedFloatTextModel",
      "state": {
       "description": "X_{max}:",
       "layout": "IPY_MODEL_332a4468433e4d06a4297fcbd9246418",
       "max": 500,
       "min": -500,
       "step": 1,
       "style": "IPY_MODEL_60105d7c98c345a2b4038c3e87b3838c",
       "value": 7
      }
     },
     "0fee747e56594128aa9d16f483a6263d": {
      "model_module": "@jupyter-widgets/output",
      "model_module_version": "1.0.0",
      "model_name": "OutputModel",
      "state": {
       "layout": "IPY_MODEL_3568ff2449034832af5d903f095220a6",
       "outputs": [
        {
         "data": {
          "text/plain": "(array([-188.973     , -175.94037931, -162.90775862, -149.87513793,\n        -136.84251724, -123.80989655, -110.77727586,  -97.74465517,\n         -84.71203448,  -71.67941379,  -58.6467931 ,  -45.61417241,\n         -32.58155172,  -19.54893103,   -6.51631034,    6.51631034,\n          19.54893103,   32.58155172,   45.61417241,   58.6467931 ,\n          71.67941379,   84.71203448,   97.74465517,  110.77727586,\n         123.80989655,  136.84251724,  149.87513793,  162.90775862,\n         175.94037931,  188.973     ]),\n 13.032620689655172)"
         },
         "metadata": {},
         "output_type": "display_data"
        }
       ]
      }
     },
     "115ae1cc0f0e4c4b98379515b3c8a86b": {
      "model_module": "@jupyter-widgets/base",
      "model_module_version": "1.2.0",
      "model_name": "LayoutModel",
      "state": {}
     },
     "11a1ca6df460450cb6da6763e146f168": {
      "model_module": "@jupyter-widgets/base",
      "model_module_version": "1.2.0",
      "model_name": "LayoutModel",
      "state": {}
     },
     "11e58b9a46244b439702377ef2c25ba2": {
      "model_module": "@jupyter-widgets/controls",
      "model_module_version": "1.5.0",
      "model_name": "SliderStyleModel",
      "state": {
       "description_width": ""
      }
     },
     "12d67dcac85940d593cf01302f8b186d": {
      "model_module": "@jupyter-widgets/output",
      "model_module_version": "1.0.0",
      "model_name": "OutputModel",
      "state": {
       "layout": "IPY_MODEL_ec6dd7e45bbe4c098cb04f7a9991fe75",
       "outputs": [
        {
         "data": {
          "text/plain": "(array([ 188.973     ,  175.94037931,  162.90775862,  149.87513793,\n         136.84251724,  123.80989655,  110.77727586,   97.74465517,\n          84.71203448,   71.67941379,   58.6467931 ,   45.61417241,\n          32.58155172,   19.54893103,    6.51631034,   -6.51631034,\n         -19.54893103,  -32.58155172,  -45.61417241,  -58.6467931 ,\n         -71.67941379,  -84.71203448,  -97.74465517, -110.77727586,\n        -123.80989655, -136.84251724, -149.87513793, -162.90775862,\n        -175.94037931, -188.973     ]),\n -13.032620689655172,\n -100.0,\n 100.0)"
         },
         "metadata": {},
         "output_type": "display_data"
        }
       ]
      }
     },
     "13780f16621a42df9e289744bfad1971": {
      "model_module": "@jupyter-widgets/controls",
      "model_module_version": "1.5.0",
      "model_name": "IntSliderModel",
      "state": {
       "continuous_update": false,
       "description": "Num. Estados: ",
       "layout": "IPY_MODEL_371e177a5c4d4087a6ec7887a543c208",
       "max": 1000,
       "min": 30,
       "step": 10,
       "style": "IPY_MODEL_c0f1178a38db4da88941369891903c66",
       "value": 200
      }
     },
     "1468661db460473c8381da674d6e5e7f": {
      "model_module": "@jupyter-widgets/base",
      "model_module_version": "1.2.0",
      "model_name": "LayoutModel",
      "state": {}
     },
     "147251491b7a4528a20201e4386679d7": {
      "model_module": "@jupyter-widgets/controls",
      "model_module_version": "1.5.0",
      "model_name": "SliderStyleModel",
      "state": {
       "description_width": ""
      }
     },
     "152d07ceed1d4f7c95efc6cd400e8f11": {
      "model_module": "@jupyter-widgets/base",
      "model_module_version": "1.2.0",
      "model_name": "LayoutModel",
      "state": {}
     },
     "15380fbacd00458db83c284048d698ed": {
      "model_module": "@jupyter-widgets/base",
      "model_module_version": "1.2.0",
      "model_name": "LayoutModel",
      "state": {}
     },
     "156fad25a3ec46f3ac3a69bd7e901100": {
      "model_module": "@jupyter-widgets/controls",
      "model_module_version": "1.5.0",
      "model_name": "SliderStyleModel",
      "state": {
       "description_width": ""
      }
     },
     "16007653880841268c559c1205a194cb": {
      "model_module": "@jupyter-widgets/controls",
      "model_module_version": "1.5.0",
      "model_name": "ButtonModel",
      "state": {
       "description": "Run Interact",
       "layout": "IPY_MODEL_5ec5eb5a99624e48a6feed53ee73c160",
       "style": "IPY_MODEL_8e39bae6ef9f4b1da6a541822510bcac"
      }
     },
     "1683f1bfb2a34c1d88ffa8c6330657bc": {
      "model_module": "@jupyter-widgets/controls",
      "model_module_version": "1.5.0",
      "model_name": "SliderStyleModel",
      "state": {
       "description_width": ""
      }
     },
     "1698bdb4f49b473ba06e54ae8d802e9e": {
      "model_module": "@jupyter-widgets/base",
      "model_module_version": "1.2.0",
      "model_name": "LayoutModel",
      "state": {}
     },
     "16a73d2b398248d986cef53dbb7fa830": {
      "model_module": "@jupyter-widgets/controls",
      "model_module_version": "1.5.0",
      "model_name": "ButtonStyleModel",
      "state": {}
     },
     "16d48e9e3d064be5b31b6b31f8ef4d10": {
      "model_module": "@jupyter-widgets/base",
      "model_module_version": "1.2.0",
      "model_name": "LayoutModel",
      "state": {}
     },
     "17019ee7f15941bf9c9ab7529eb83d3c": {
      "model_module": "@jupyter-widgets/controls",
      "model_module_version": "1.5.0",
      "model_name": "FloatTextModel",
      "state": {
       "description": "X_{min}:",
       "layout": "IPY_MODEL_b880d3ca5d1744b6a9d4e67602246a83",
       "step": null,
       "style": "IPY_MODEL_4fb36aab2cfc4f4290663dd7ba3606c7",
       "value": -200
      }
     },
     "17028cc97e6a4b2facc4f7fbac37f8e7": {
      "model_module": "@jupyter-widgets/base",
      "model_module_version": "1.2.0",
      "model_name": "LayoutModel",
      "state": {}
     },
     "1707499c357843c492b52272f933100b": {
      "model_module": "@jupyter-widgets/output",
      "model_module_version": "1.0.0",
      "model_name": "OutputModel",
      "state": {
       "layout": "IPY_MODEL_96b21dcf333f4070ad39d957444f5bb1",
       "outputs": [
        {
         "data": {
          "image/png": "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\n",
          "text/plain": "<Figure size 1152x648 with 1 Axes>"
         },
         "metadata": {
          "needs_background": "light"
         },
         "output_type": "display_data"
        }
       ]
      }
     },
     "171af2a679074e6e9f134e89e8131c8b": {
      "model_module": "@jupyter-widgets/controls",
      "model_module_version": "1.5.0",
      "model_name": "VBoxModel",
      "state": {
       "_dom_classes": [
        "widget-interact"
       ],
       "children": [
        "IPY_MODEL_0dd34676d2944839b702895a631312e9",
        "IPY_MODEL_c17200d16879458fb22642c7bc2c2ee0",
        "IPY_MODEL_fa141c7aaa6d4292b7654b09703caa5f"
       ],
       "layout": "IPY_MODEL_88014c751e2a4d46a02c5b5b6b7d86ae"
      }
     },
     "171b4861e138428fb4bcf1b2626d30e4": {
      "model_module": "@jupyter-widgets/controls",
      "model_module_version": "1.5.0",
      "model_name": "VBoxModel",
      "state": {
       "_dom_classes": [
        "widget-interact"
       ],
       "children": [
        "IPY_MODEL_f799ce93041c4892a9be153c8f1083b8",
        "IPY_MODEL_6178cad9835249e4ab133f33672ebcfe",
        "IPY_MODEL_b5a1fde8faec4d16898395bd8393a96e"
       ],
       "layout": "IPY_MODEL_44b0b54a4f3f4cea9597718538271152"
      }
     },
     "179373b76dfa4ab39a5739bd02feac2f": {
      "model_module": "@jupyter-widgets/controls",
      "model_module_version": "1.5.0",
      "model_name": "SliderStyleModel",
      "state": {
       "description_width": ""
      }
     },
     "17cbcaa7bc8e48f590532194a3b8d29c": {
      "model_module": "@jupyter-widgets/base",
      "model_module_version": "1.2.0",
      "model_name": "LayoutModel",
      "state": {}
     },
     "17ccdda0335549349d9a28f1f4f578b2": {
      "model_module": "@jupyter-widgets/controls",
      "model_module_version": "1.5.0",
      "model_name": "SliderStyleModel",
      "state": {
       "description_width": ""
      }
     },
     "17ed9c52ef164b7cb46c8a87eac36b0f": {
      "model_module": "@jupyter-widgets/base",
      "model_module_version": "1.2.0",
      "model_name": "LayoutModel",
      "state": {}
     },
     "17f6901b3c984a24bd4e409beb70fb8c": {
      "model_module": "@jupyter-widgets/base",
      "model_module_version": "1.2.0",
      "model_name": "LayoutModel",
      "state": {}
     },
     "18031d270c3049b6be94c5ff622df756": {
      "model_module": "@jupyter-widgets/base",
      "model_module_version": "1.2.0",
      "model_name": "LayoutModel",
      "state": {}
     },
     "180eeaab916241889bcbc7220220bbdb": {
      "model_module": "@jupyter-widgets/base",
      "model_module_version": "1.2.0",
      "model_name": "LayoutModel",
      "state": {}
     },
     "189c8d3c3ed4456585eccbccc359cd23": {
      "model_module": "@jupyter-widgets/controls",
      "model_module_version": "1.5.0",
      "model_name": "VBoxModel",
      "state": {
       "_dom_classes": [
        "widget-interact"
       ],
       "children": [
        "IPY_MODEL_4eb3a0f37cb04472b61d0ece5a29f2c4",
        "IPY_MODEL_0447d04d4f6d4fbabd0bd0d71ac02f04",
        "IPY_MODEL_7677a1bd6d064edb8c05ade1f6130b04",
        "IPY_MODEL_76c2dad959a5461b812149fefbcc28ec"
       ],
       "layout": "IPY_MODEL_843fb36c481c4e6e8cb1a0d705c28654"
      }
     },
     "18ad038478c043ae8dba06215b6b68ca": {
      "model_module": "@jupyter-widgets/controls",
      "model_module_version": "1.5.0",
      "model_name": "IntSliderModel",
      "state": {
       "continuous_update": false,
       "description": "Ordem da Matriz:",
       "layout": "IPY_MODEL_0c2d28b3a4a241a7af48bfc882516479",
       "max": 1000,
       "min": 30,
       "step": 10,
       "style": "IPY_MODEL_adf3f005cfab43c6b26fd6962c6dcb97",
       "value": 200
      }
     },
     "191309b8a33145df9193d495db8c26bd": {
      "model_module": "@jupyter-widgets/base",
      "model_module_version": "1.2.0",
      "model_name": "LayoutModel",
      "state": {}
     },
     "19270b454f72483da8c02575b47e98f3": {
      "model_module": "@jupyter-widgets/controls",
      "model_module_version": "1.5.0",
      "model_name": "SliderStyleModel",
      "state": {
       "description_width": ""
      }
     },
     "193cf5e640fc4dd293366071bf14e395": {
      "model_module": "@jupyter-widgets/controls",
      "model_module_version": "1.5.0",
      "model_name": "ButtonModel",
      "state": {
       "description": "Run Interact",
       "layout": "IPY_MODEL_11a1ca6df460450cb6da6763e146f168",
       "style": "IPY_MODEL_533f0be4c54d47d8b55f3fb21e8e9164"
      }
     },
     "195d207f777b4cffa842ce4f939f3402": {
      "model_module": "@jupyter-widgets/base",
      "model_module_version": "1.2.0",
      "model_name": "LayoutModel",
      "state": {}
     },
     "1a74b81300504ab6b0fcbfe9b0b5437e": {
      "model_module": "@jupyter-widgets/controls",
      "model_module_version": "1.5.0",
      "model_name": "SliderStyleModel",
      "state": {
       "description_width": ""
      }
     },
     "1aecdd24dfa240c3b8e54a8c839b3191": {
      "model_module": "@jupyter-widgets/base",
      "model_module_version": "1.2.0",
      "model_name": "LayoutModel",
      "state": {}
     },
     "1b48bb76f82e4efaafe8e8f670a233f6": {
      "model_module": "@jupyter-widgets/controls",
      "model_module_version": "1.5.0",
      "model_name": "FloatRangeSliderModel",
      "state": {
       "_model_name": "FloatRangeSliderModel",
       "_view_name": "FloatRangeSliderView",
       "continuous_update": false,
       "description": "Domínio (angstroms):",
       "layout": "IPY_MODEL_7c6009b92ea743e88cc715d2e6246ed7",
       "max": 500,
       "min": -500,
       "readout_format": "1d",
       "style": "IPY_MODEL_9d71ea26126c4a4a90bed296875d8504",
       "value": [
        -100,
        100
       ]
      }
     },
     "1bb9647a19784907b53c9b2f1bfb2168": {
      "model_module": "@jupyter-widgets/controls",
      "model_module_version": "1.5.0",
      "model_name": "SliderStyleModel",
      "state": {
       "description_width": ""
      }
     },
     "1be4af6a1f804051b527a838a498f20b": {
      "model_module": "@jupyter-widgets/base",
      "model_module_version": "1.2.0",
      "model_name": "LayoutModel",
      "state": {}
     },
     "1c06991b9b1941a2918434c616b82230": {
      "model_module": "@jupyter-widgets/controls",
      "model_module_version": "1.5.0",
      "model_name": "SliderStyleModel",
      "state": {
       "description_width": ""
      }
     },
     "1c13970015b8439c8cfe73e5bf9bde98": {
      "model_module": "@jupyter-widgets/controls",
      "model_module_version": "1.5.0",
      "model_name": "ButtonStyleModel",
      "state": {}
     },
     "1c3bef51b018419f9d1ef84609ae2077": {
      "model_module": "@jupyter-widgets/base",
      "model_module_version": "1.2.0",
      "model_name": "LayoutModel",
      "state": {}
     },
     "1cafcf3b58ed45cfb852bd94839bb57c": {
      "model_module": "@jupyter-widgets/controls",
      "model_module_version": "1.5.0",
      "model_name": "VBoxModel",
      "state": {
       "_dom_classes": [
        "widget-interact"
       ],
       "children": [
        "IPY_MODEL_c44aa3bec51e4575bc58614149d1f58f",
        "IPY_MODEL_be4dc51f0c4e4c689966bb96a0822204",
        "IPY_MODEL_af11e2e3aec548e18dc4d953573dc618",
        "IPY_MODEL_ac726606c36c4b2eb5d6134ab3ea8ff2"
       ],
       "layout": "IPY_MODEL_eb44d0e631a04e2498f97c7b1f5d0995"
      }
     },
     "1d127e6c9abe4913b868ce6aba67ab04": {
      "model_module": "@jupyter-widgets/base",
      "model_module_version": "1.2.0",
      "model_name": "LayoutModel",
      "state": {}
     },
     "1d7e20d5486540c9b31ac802693ae40e": {
      "model_module": "@jupyter-widgets/output",
      "model_module_version": "1.0.0",
      "model_name": "OutputModel",
      "state": {
       "layout": "IPY_MODEL_7555844c0190457eb6414d7c1e83115f"
      }
     },
     "1db01df3fbeb4241b65b387934cea3d3": {
      "model_module": "@jupyter-widgets/controls",
      "model_module_version": "1.5.0",
      "model_name": "ButtonStyleModel",
      "state": {}
     },
     "1db20b9a42e949a0890dd6a40d1bf729": {
      "model_module": "@jupyter-widgets/controls",
      "model_module_version": "1.5.0",
      "model_name": "BoundedFloatTextModel",
      "state": {
       "description": "X_{min}:",
       "layout": "IPY_MODEL_fca5d74c753944b5a43f49b8b0a09242",
       "max": 500,
       "min": -500,
       "step": 1,
       "style": "IPY_MODEL_35f72b93ab764d2091b65e8754f3b768",
       "value": 7
      }
     },
     "1de314fa5b054485abcf0d90eed55186": {
      "model_module": "@jupyter-widgets/controls",
      "model_module_version": "1.5.0",
      "model_name": "ButtonStyleModel",
      "state": {}
     },
     "1e22933236f54545848e36e41127891c": {
      "model_module": "@jupyter-widgets/base",
      "model_module_version": "1.2.0",
      "model_name": "LayoutModel",
      "state": {}
     },
     "1e273bfd49134bc69fa37845e3a1281f": {
      "model_module": "@jupyter-widgets/base",
      "model_module_version": "1.2.0",
      "model_name": "LayoutModel",
      "state": {}
     },
     "1e5d4aa0c99343919ac6a60d7cf67ff4": {
      "model_module": "@jupyter-widgets/base",
      "model_module_version": "1.2.0",
      "model_name": "LayoutModel",
      "state": {}
     },
     "1e8245a49c934ad5a018850f5b64081e": {
      "model_module": "@jupyter-widgets/controls",
      "model_module_version": "1.5.0",
      "model_name": "ButtonStyleModel",
      "state": {}
     },
     "1e8a686d4a244a91b16cd07349d75423": {
      "model_module": "@jupyter-widgets/base",
      "model_module_version": "1.2.0",
      "model_name": "LayoutModel",
      "state": {}
     },
     "1f242da678bd4c1b83e6e11f64d960d6": {
      "model_module": "@jupyter-widgets/controls",
      "model_module_version": "1.5.0",
      "model_name": "IntSliderModel",
      "state": {
       "continuous_update": false,
       "description": "Ordem da Matriz:",
       "layout": "IPY_MODEL_4568321c315a43c1b1f4e65227db2c3e",
       "max": 1000,
       "min": 30,
       "step": 10,
       "style": "IPY_MODEL_413389e7606f4941a03b43bda0369c99",
       "value": 200
      }
     },
     "1f24af57a6cb4a9d85f0b131ee341398": {
      "model_module": "@jupyter-widgets/base",
      "model_module_version": "1.2.0",
      "model_name": "LayoutModel",
      "state": {}
     },
     "1f51be120d014a5c9cd59f2e4f22e68e": {
      "model_module": "@jupyter-widgets/base",
      "model_module_version": "1.2.0",
      "model_name": "LayoutModel",
      "state": {}
     },
     "1fa7dd780b4d4e908c8fffe01518297d": {
      "model_module": "@jupyter-widgets/base",
      "model_module_version": "1.2.0",
      "model_name": "LayoutModel",
      "state": {}
     },
     "2031c12c96f140e6814e0d8311d1b33a": {
      "model_module": "@jupyter-widgets/controls",
      "model_module_version": "1.5.0",
      "model_name": "IntSliderModel",
      "state": {
       "continuous_update": false,
       "description": "Ordem da Matriz:",
       "layout": "IPY_MODEL_2dde3cd46953408ebc66612cf07921c3",
       "max": 1000,
       "min": 30,
       "step": 10,
       "style": "IPY_MODEL_03de8e54506f4d6e9fabc67bc14b8f10",
       "value": 30
      }
     },
     "2091fac2efab4ff3bd6deca5d374806c": {
      "model_module": "@jupyter-widgets/output",
      "model_module_version": "1.0.0",
      "model_name": "OutputModel",
      "state": {
       "layout": "IPY_MODEL_c9c2e6fc969744c9bf3e41044f3b2b2b"
      }
     },
     "214597873d2f4b6c80091b35ab1a6fdb": {
      "model_module": "@jupyter-widgets/controls",
      "model_module_version": "1.5.0",
      "model_name": "VBoxModel",
      "state": {
       "_dom_classes": [
        "widget-interact"
       ],
       "children": [
        "IPY_MODEL_28ec125d4571454e81cf31e29e23328f",
        "IPY_MODEL_effa4b2f70b440fcb61f1d94ffbc74be",
        "IPY_MODEL_5446103d55274cba92fbed1db66c0253"
       ],
       "layout": "IPY_MODEL_80879b9540ad4301bba657d5c7af2f09"
      }
     },
     "2159be14117e4ac4b140522e98e9e3b5": {
      "model_module": "@jupyter-widgets/controls",
      "model_module_version": "1.5.0",
      "model_name": "ButtonModel",
      "state": {
       "description": "Run Interact",
       "layout": "IPY_MODEL_545f4aa7fa414ecea076ea9a1e6a7e5d",
       "style": "IPY_MODEL_ea3eeca0fec843fb86a299b7bb4b6e0d"
      }
     },
     "21b96933c4914602a760c826299c50c9": {
      "model_module": "@jupyter-widgets/base",
      "model_module_version": "1.2.0",
      "model_name": "LayoutModel",
      "state": {}
     },
     "21fe2a97b4684da38882d113b789e924": {
      "model_module": "@jupyter-widgets/controls",
      "model_module_version": "1.5.0",
      "model_name": "IntSliderModel",
      "state": {
       "continuous_update": false,
       "description": "Ordem da Matriz:",
       "layout": "IPY_MODEL_7e4937005f2a464997c02acacb7606f4",
       "max": 1000,
       "min": 30,
       "step": 10,
       "style": "IPY_MODEL_6af5f5f8bbf6433c9f7a4b0ab8911fe3",
       "value": 200
      }
     },
     "2212dd48be934b92b90af3ceb3372865": {
      "model_module": "@jupyter-widgets/controls",
      "model_module_version": "1.5.0",
      "model_name": "ButtonModel",
      "state": {
       "description": "Gerar/Diagonalizar ",
       "layout": "IPY_MODEL_6f6016a3f497403c8387a5bc18eb9f33",
       "style": "IPY_MODEL_2b9f4f40444e435d804098036e6b2476"
      }
     },
     "22e91f3be248401683d8f74e25982f09": {
      "model_module": "@jupyter-widgets/base",
      "model_module_version": "1.2.0",
      "model_name": "LayoutModel",
      "state": {}
     },
     "23fe2daa51c048f0bcd3b02f6709c6b0": {
      "model_module": "@jupyter-widgets/controls",
      "model_module_version": "1.5.0",
      "model_name": "VBoxModel",
      "state": {
       "_dom_classes": [
        "widget-interact"
       ],
       "children": [
        "IPY_MODEL_2f8d4e4e3c09416bb650f00b2c551769",
        "IPY_MODEL_979361c69eaa445ab2c0629b1b38954c",
        "IPY_MODEL_4b7b24dfc0924d369cf9ebb4835ce1fb"
       ],
       "layout": "IPY_MODEL_89a199ecf97d45c185a9ec46137ac44b"
      }
     },
     "243ee1a9aa8645c19448c87477359b3d": {
      "model_module": "@jupyter-widgets/controls",
      "model_module_version": "1.5.0",
      "model_name": "SliderStyleModel",
      "state": {
       "description_width": ""
      }
     },
     "2462e6cd6a344f0e8f12b91bd39d9a64": {
      "model_module": "@jupyter-widgets/controls",
      "model_module_version": "1.5.0",
      "model_name": "SliderStyleModel",
      "state": {
       "description_width": ""
      }
     },
     "247a80680174443e886396455f80885a": {
      "model_module": "@jupyter-widgets/base",
      "model_module_version": "1.2.0",
      "model_name": "LayoutModel",
      "state": {}
     },
     "24ac944c4b434ac9b20eeb9dc09fe1b9": {
      "model_module": "@jupyter-widgets/base",
      "model_module_version": "1.2.0",
      "model_name": "LayoutModel",
      "state": {}
     },
     "250bbee45f04480da83d6ec610f28923": {
      "model_module": "@jupyter-widgets/controls",
      "model_module_version": "1.5.0",
      "model_name": "IntSliderModel",
      "state": {
       "continuous_update": false,
       "description": "Ordem da Matriz:",
       "layout": "IPY_MODEL_77af1e61af0d40928803f8fe084aa344",
       "max": 1000,
       "min": 30,
       "step": 10,
       "style": "IPY_MODEL_2462e6cd6a344f0e8f12b91bd39d9a64",
       "value": 200
      }
     },
     "25b90d810cba455abdf19b5ea8e23417": {
      "model_module": "@jupyter-widgets/controls",
      "model_module_version": "1.5.0",
      "model_name": "ButtonModel",
      "state": {
       "description": "Run Interact",
       "layout": "IPY_MODEL_bb193d556acb4f7da2d8d9b71bd823e3",
       "style": "IPY_MODEL_7148502ee1fa4c9b8a75bc3ea55b8fb7"
      }
     },
     "25d2e0addd6247189ee11f813e7c406f": {
      "model_module": "@jupyter-widgets/controls",
      "model_module_version": "1.5.0",
      "model_name": "SliderStyleModel",
      "state": {
       "description_width": ""
      }
     },
     "2637b7c305074701b1ce1f3a5cb51131": {
      "model_module": "@jupyter-widgets/controls",
      "model_module_version": "1.5.0",
      "model_name": "SliderStyleModel",
      "state": {
       "description_width": ""
      }
     },
     "265483c610eb4aaf83b7341c39d46d71": {
      "model_module": "@jupyter-widgets/controls",
      "model_module_version": "1.5.0",
      "model_name": "ButtonModel",
      "state": {
       "description": "Run Interact",
       "layout": "IPY_MODEL_f148ca6512b644ef8c612e8b38dd2ac2",
       "style": "IPY_MODEL_875c97df3d34401bb747109e447a9941"
      }
     },
     "26983a0aff88444b81e46383c11a3e1e": {
      "model_module": "@jupyter-widgets/controls",
      "model_module_version": "1.5.0",
      "model_name": "ButtonStyleModel",
      "state": {}
     },
     "26adeb7f5dcb4843ad0295fa5fae009b": {
      "model_module": "@jupyter-widgets/base",
      "model_module_version": "1.2.0",
      "model_name": "LayoutModel",
      "state": {}
     },
     "26b210997f634e5a87e0b06ef12ac214": {
      "model_module": "@jupyter-widgets/base",
      "model_module_version": "1.2.0",
      "model_name": "LayoutModel",
      "state": {}
     },
     "27100217aabb47688ac053039eb2f2a6": {
      "model_module": "@jupyter-widgets/controls",
      "model_module_version": "1.5.0",
      "model_name": "SliderStyleModel",
      "state": {
       "description_width": ""
      }
     },
     "277c54a762ee429d86777a58a4ba789a": {
      "model_module": "@jupyter-widgets/base",
      "model_module_version": "1.2.0",
      "model_name": "LayoutModel",
      "state": {}
     },
     "27a17ce609e041699477b8fda885b344": {
      "model_module": "@jupyter-widgets/controls",
      "model_module_version": "1.5.0",
      "model_name": "IntSliderModel",
      "state": {
       "continuous_update": false,
       "description": "Ordem da Matriz:",
       "layout": "IPY_MODEL_0b5838e24baf45abac4fa2f6a32d21c9",
       "max": 1000,
       "min": 30,
       "step": 10,
       "style": "IPY_MODEL_b6c73f5107064fa9b2e4f1beeba30748",
       "value": 120
      }
     },
     "27ef860fb7a4410b8ed67da07cee4e46": {
      "model_module": "@jupyter-widgets/base",
      "model_module_version": "1.2.0",
      "model_name": "LayoutModel",
      "state": {}
     },
     "27ffbe0d96014824a5c29dbf426a80dc": {
      "model_module": "@jupyter-widgets/controls",
      "model_module_version": "1.5.0",
      "model_name": "ButtonStyleModel",
      "state": {}
     },
     "28967da55f6845f4bf7d7dd0e05ef072": {
      "model_module": "@jupyter-widgets/controls",
      "model_module_version": "1.5.0",
      "model_name": "ButtonModel",
      "state": {
       "description": "Run Interact",
       "layout": "IPY_MODEL_324aca3c9cf14da6b4bb19494f97bd8b",
       "style": "IPY_MODEL_065daa8ecc4048e9944fa8e026e0c738"
      }
     },
     "28a4315d579346a49d62ea11a3da1dd8": {
      "model_module": "@jupyter-widgets/controls",
      "model_module_version": "1.5.0",
      "model_name": "SliderStyleModel",
      "state": {
       "description_width": ""
      }
     },
     "28b59e792d65424f8070fddfca580842": {
      "model_module": "@jupyter-widgets/base",
      "model_module_version": "1.2.0",
      "model_name": "LayoutModel",
      "state": {}
     },
     "28cf4d2cabdd4bff82c7865920a5a589": {
      "model_module": "@jupyter-widgets/base",
      "model_module_version": "1.2.0",
      "model_name": "LayoutModel",
      "state": {}
     },
     "28ec125d4571454e81cf31e29e23328f": {
      "model_module": "@jupyter-widgets/controls",
      "model_module_version": "1.5.0",
      "model_name": "IntRangeSliderModel",
      "state": {
       "_model_name": "IntRangeSliderModel",
       "_view_name": "IntRangeSliderView",
       "continuous_update": false,
       "description": "Plotar N. Estados::",
       "layout": "IPY_MODEL_ee7d175944954126acd2549f3ae132fa",
       "max": 50,
       "readout_format": "1d",
       "style": "IPY_MODEL_2a32124bb6ee4c98b51ef03748cbcc9d",
       "value": [
        0,
        3
       ]
      }
     },
     "29520807fd644f019a8a249c139b3a7d": {
      "model_module": "@jupyter-widgets/controls",
      "model_module_version": "1.5.0",
      "model_name": "FloatRangeSliderModel",
      "state": {
       "_model_name": "FloatRangeSliderModel",
       "_view_name": "FloatRangeSliderView",
       "continuous_update": false,
       "description": "Domínio (angstroms):",
       "layout": "IPY_MODEL_4bd31fafd5c14e8d857069eb6d610e5c",
       "max": 500,
       "min": -500,
       "readout_format": "1d",
       "style": "IPY_MODEL_ee8332930a4e4f12b124520ce883e99f",
       "value": [
        -100,
        100
       ]
      }
     },
     "29dd0267dbd449778cd9b6a41f8cf187": {
      "model_module": "@jupyter-widgets/controls",
      "model_module_version": "1.5.0",
      "model_name": "IntSliderModel",
      "state": {
       "continuous_update": false,
       "description": "Ordem da Matriz:",
       "layout": "IPY_MODEL_f85b0f301cac422ab2b0bbae541e3637",
       "max": 1000,
       "min": 30,
       "step": 10,
       "style": "IPY_MODEL_a078cf99efd740d584f960305020b2a4",
       "value": 200
      }
     },
     "2a32124bb6ee4c98b51ef03748cbcc9d": {
      "model_module": "@jupyter-widgets/controls",
      "model_module_version": "1.5.0",
      "model_name": "SliderStyleModel",
      "state": {
       "description_width": ""
      }
     },
     "2a49f97c720b47b2b923312e44e28644": {
      "model_module": "@jupyter-widgets/base",
      "model_module_version": "1.2.0",
      "model_name": "LayoutModel",
      "state": {}
     },
     "2a750ca5d7da4e92b4d696888dff3a50": {
      "model_module": "@jupyter-widgets/base",
      "model_module_version": "1.2.0",
      "model_name": "LayoutModel",
      "state": {}
     },
     "2a8d9744b294415f8b9ad763109bfac5": {
      "model_module": "@jupyter-widgets/controls",
      "model_module_version": "1.5.0",
      "model_name": "SliderStyleModel",
      "state": {
       "description_width": ""
      }
     },
     "2afd89c36a104846bfa9e144a9b279f5": {
      "model_module": "@jupyter-widgets/controls",
      "model_module_version": "1.5.0",
      "model_name": "IntSliderModel",
      "state": {
       "continuous_update": false,
       "description": "Ordem da Matriz:",
       "layout": "IPY_MODEL_bf7d46b6882d473f90d7cc34b23044bd",
       "max": 1000,
       "min": 30,
       "step": 10,
       "style": "IPY_MODEL_6c71e07d180a4d859d1f8b61b7693032",
       "value": 200
      }
     },
     "2b9f4f40444e435d804098036e6b2476": {
      "model_module": "@jupyter-widgets/controls",
      "model_module_version": "1.5.0",
      "model_name": "ButtonStyleModel",
      "state": {}
     },
     "2be78b89d3cc4b7fb06a45cc3570067e": {
      "model_module": "@jupyter-widgets/controls",
      "model_module_version": "1.5.0",
      "model_name": "VBoxModel",
      "state": {
       "_dom_classes": [
        "widget-interact"
       ],
       "children": [
        "IPY_MODEL_1b48bb76f82e4efaafe8e8f670a233f6",
        "IPY_MODEL_9b82a7e5709d43ee8c3001a11911b6af",
        "IPY_MODEL_193cf5e640fc4dd293366071bf14e395",
        "IPY_MODEL_cf7f22aa31df4e569cfcb1662a0c88ee"
       ],
       "layout": "IPY_MODEL_479d2e5e152c421bb29235c3d95ce245"
      }
     },
     "2bfa5ca82e2448f29467011ce1a2272d": {
      "model_module": "@jupyter-widgets/base",
      "model_module_version": "1.2.0",
      "model_name": "LayoutModel",
      "state": {}
     },
     "2c345ed449184f5ea6817b4330751080": {
      "model_module": "@jupyter-widgets/base",
      "model_module_version": "1.2.0",
      "model_name": "LayoutModel",
      "state": {}
     },
     "2c8293ec0a5d4a33a9de7bd0d6fc6631": {
      "model_module": "@jupyter-widgets/output",
      "model_module_version": "1.0.0",
      "model_name": "OutputModel",
      "state": {
       "layout": "IPY_MODEL_84d8c395087444deb39641863828268c"
      }
     },
     "2cb7f2ce726f4f47ab30090d7fa39e3f": {
      "model_module": "@jupyter-widgets/controls",
      "model_module_version": "1.5.0",
      "model_name": "FloatRangeSliderModel",
      "state": {
       "_model_name": "FloatRangeSliderModel",
       "_view_name": "FloatRangeSliderView",
       "continuous_update": false,
       "description": "Domínio (angstroms):",
       "layout": "IPY_MODEL_fa7cc2c1076847e0bcd3f74354cbaed6",
       "max": 500,
       "min": -500,
       "readout_format": "1d",
       "style": "IPY_MODEL_b35b5d868db24b178e8949ba4083c1c2",
       "value": [
        -100,
        100
       ]
      }
     },
     "2cba62e772bc4893b7557d7c4755073c": {
      "model_module": "@jupyter-widgets/base",
      "model_module_version": "1.2.0",
      "model_name": "LayoutModel",
      "state": {}
     },
     "2d1b3adf7a88479d88642f02c192b233": {
      "model_module": "@jupyter-widgets/base",
      "model_module_version": "1.2.0",
      "model_name": "LayoutModel",
      "state": {}
     },
     "2d61bcc557df4998ad77e6db310ad7c8": {
      "model_module": "@jupyter-widgets/controls",
      "model_module_version": "1.5.0",
      "model_name": "ButtonStyleModel",
      "state": {}
     },
     "2d81b46dbb9749bf932112bf0bce7658": {
      "model_module": "@jupyter-widgets/base",
      "model_module_version": "1.2.0",
      "model_name": "LayoutModel",
      "state": {}
     },
     "2dde3cd46953408ebc66612cf07921c3": {
      "model_module": "@jupyter-widgets/base",
      "model_module_version": "1.2.0",
      "model_name": "LayoutModel",
      "state": {}
     },
     "2e5a9d5282aa48c0bf667f14a13acf3c": {
      "model_module": "@jupyter-widgets/controls",
      "model_module_version": "1.5.0",
      "model_name": "FloatRangeSliderModel",
      "state": {
       "_model_name": "FloatRangeSliderModel",
       "_view_name": "FloatRangeSliderView",
       "continuous_update": false,
       "description": "Domínio (angstroms):",
       "layout": "IPY_MODEL_7c175555721b4057a3daf34a66680203",
       "max": 500,
       "min": -500,
       "readout_format": "1d",
       "style": "IPY_MODEL_147251491b7a4528a20201e4386679d7",
       "value": [
        -100,
        100
       ]
      }
     },
     "2f4d5e98c0cf419d9139ec28c649aa6e": {
      "model_module": "@jupyter-widgets/controls",
      "model_module_version": "1.5.0",
      "model_name": "ButtonModel",
      "state": {
       "description": "Plotar",
       "layout": "IPY_MODEL_9877dcd45a3d48499afbc32946af5206",
       "style": "IPY_MODEL_64b6cce352fb400fb7fa6aa2af62542a"
      }
     },
     "2f8d4e4e3c09416bb650f00b2c551769": {
      "model_module": "@jupyter-widgets/controls",
      "model_module_version": "1.5.0",
      "model_name": "IntRangeSliderModel",
      "state": {
       "_model_name": "IntRangeSliderModel",
       "_view_name": "IntRangeSliderView",
       "continuous_update": false,
       "description": "asdasdas",
       "layout": "IPY_MODEL_17ed9c52ef164b7cb46c8a87eac36b0f",
       "max": 50,
       "readout_format": "1d",
       "style": "IPY_MODEL_50ab63152b9646818ed7cd0eff60e882",
       "value": [
        0,
        3
       ]
      }
     },
     "30405dafffff422196fb3fcab329e738": {
      "model_module": "@jupyter-widgets/controls",
      "model_module_version": "1.5.0",
      "model_name": "IntSliderModel",
      "state": {
       "continuous_update": false,
       "description": "Ordem da Matriz:",
       "layout": "IPY_MODEL_2d81b46dbb9749bf932112bf0bce7658",
       "max": 1000,
       "min": 30,
       "step": 10,
       "style": "IPY_MODEL_28a4315d579346a49d62ea11a3da1dd8",
       "value": 200
      }
     },
     "309b6a751c0f4a16b9b637b339e9a16c": {
      "model_module": "@jupyter-widgets/controls",
      "model_module_version": "1.5.0",
      "model_name": "ButtonModel",
      "state": {
       "description": "Run Interact",
       "layout": "IPY_MODEL_1aecdd24dfa240c3b8e54a8c839b3191",
       "style": "IPY_MODEL_73b29e5258e646d7a9683bfd7b09db79"
      }
     },
     "30c2e01af4d54ef4a1afd1089dcbf2b3": {
      "model_module": "@jupyter-widgets/output",
      "model_module_version": "1.0.0",
      "model_name": "OutputModel",
      "state": {
       "layout": "IPY_MODEL_65c8ebc20ba24bc8a7f1425d38b3c33a",
       "outputs": [
        {
         "data": {
          "image/png": "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\n",
          "text/plain": "<Figure size 1152x648 with 1 Axes>"
         },
         "metadata": {
          "needs_background": "light"
         },
         "output_type": "display_data"
        }
       ]
      }
     },
     "30c716a2b14a4d9fbcaed2639986d687": {
      "model_module": "@jupyter-widgets/base",
      "model_module_version": "1.2.0",
      "model_name": "LayoutModel",
      "state": {}
     },
     "30cf4fe09d3f43e084c67d5aaaaa9a08": {
      "model_module": "@jupyter-widgets/controls",
      "model_module_version": "1.5.0",
      "model_name": "SliderStyleModel",
      "state": {
       "description_width": ""
      }
     },
     "30e1d124fdac431082e2053b1fa56ee9": {
      "model_module": "@jupyter-widgets/controls",
      "model_module_version": "1.5.0",
      "model_name": "IntSliderModel",
      "state": {
       "continuous_update": false,
       "description": "Ordem da Matriz:",
       "layout": "IPY_MODEL_cc80b71f8f094ed5ac9082f96bb15968",
       "max": 1000,
       "min": 30,
       "step": 10,
       "style": "IPY_MODEL_4fe42b507dbd4dbcb56d1f6468349029",
       "value": 200
      }
     },
     "317f73148643489c80924205f3328260": {
      "model_module": "@jupyter-widgets/controls",
      "model_module_version": "1.5.0",
      "model_name": "FloatRangeSliderModel",
      "state": {
       "_model_name": "FloatRangeSliderModel",
       "_view_name": "FloatRangeSliderView",
       "continuous_update": false,
       "description": "Defina o domínio de $\\Psi(x) \\AA$:",
       "layout": "IPY_MODEL_04c39bf46c1b4cddacc5ddb23eb39324",
       "max": 500,
       "min": -500,
       "readout_format": ".1f",
       "style": "IPY_MODEL_96d6f1743f6a4188934ea9f618d98182",
       "value": [
        -100,
        100
       ]
      }
     },
     "3200da4c317d42139adecc25d4d7c7df": {
      "model_module": "@jupyter-widgets/controls",
      "model_module_version": "1.5.0",
      "model_name": "SliderStyleModel",
      "state": {
       "description_width": ""
      }
     },
     "324aca3c9cf14da6b4bb19494f97bd8b": {
      "model_module": "@jupyter-widgets/base",
      "model_module_version": "1.2.0",
      "model_name": "LayoutModel",
      "state": {}
     },
     "3290b96c1469418c9277f85fdd2e6e3f": {
      "model_module": "@jupyter-widgets/controls",
      "model_module_version": "1.5.0",
      "model_name": "IntRangeSliderModel",
      "state": {
       "_model_name": "IntRangeSliderModel",
       "_view_name": "IntRangeSliderView",
       "continuous_update": false,
       "description": "Plotar N. Estados::",
       "layout": "IPY_MODEL_fa56f146e127452ca392f7280ace23aa",
       "max": 50,
       "readout_format": "1d",
       "style": "IPY_MODEL_1c06991b9b1941a2918434c616b82230",
       "value": [
        0,
        3
       ]
      }
     },
     "332a4468433e4d06a4297fcbd9246418": {
      "model_module": "@jupyter-widgets/base",
      "model_module_version": "1.2.0",
      "model_name": "LayoutModel",
      "state": {}
     },
     "338c3e23147c4bd6be1481301e247981": {
      "model_module": "@jupyter-widgets/controls",
      "model_module_version": "1.5.0",
      "model_name": "FloatRangeSliderModel",
      "state": {
       "_model_name": "FloatRangeSliderModel",
       "_view_name": "FloatRangeSliderView",
       "continuous_update": false,
       "description": "Defina o domínio de $\\Psi(x) \\AA$:",
       "layout": "IPY_MODEL_f62cc50ed1da42ea9fe0da18c5868ccf",
       "max": 500,
       "min": -500,
       "readout_format": ".1f",
       "style": "IPY_MODEL_73a61dfd74d04391977bc576c1935498",
       "value": [
        -100,
        100
       ]
      }
     },
     "3450a78d234b4f00bf087f96d3c6c5e3": {
      "model_module": "@jupyter-widgets/base",
      "model_module_version": "1.2.0",
      "model_name": "LayoutModel",
      "state": {}
     },
     "3463b5c75b7041c3bfb126998e030320": {
      "model_module": "@jupyter-widgets/controls",
      "model_module_version": "1.5.0",
      "model_name": "ButtonModel",
      "state": {
       "description": "Run Interact",
       "layout": "IPY_MODEL_40153940184b4174a207faaedfd367b3",
       "style": "IPY_MODEL_5478a747a63f4ead9b3a609bda52dadc"
      }
     },
     "34732185f4054db79534e24fe94b0e41": {
      "model_module": "@jupyter-widgets/controls",
      "model_module_version": "1.5.0",
      "model_name": "SliderStyleModel",
      "state": {
       "description_width": ""
      }
     },
     "351c4b60971f414393e8d41558f3fb87": {
      "model_module": "@jupyter-widgets/controls",
      "model_module_version": "1.5.0",
      "model_name": "FloatRangeSliderModel",
      "state": {
       "_model_name": "FloatRangeSliderModel",
       "_view_name": "FloatRangeSliderView",
       "continuous_update": false,
       "description": "Defina o domínio de $\\Psi(x) \\AA$:",
       "layout": "IPY_MODEL_a6d5d869834248d39370d60e96afd002",
       "max": 500,
       "min": -500,
       "readout_format": ".1f",
       "style": "IPY_MODEL_43b2a116d99b4cbcb46d3ddf86418d16",
       "value": [
        -300,
        284
       ]
      }
     },
     "3568ff2449034832af5d903f095220a6": {
      "model_module": "@jupyter-widgets/base",
      "model_module_version": "1.2.0",
      "model_name": "LayoutModel",
      "state": {}
     },
     "35cf3432a91a42619b734bfb09ef1976": {
      "model_module": "@jupyter-widgets/controls",
      "model_module_version": "1.5.0",
      "model_name": "VBoxModel",
      "state": {
       "_dom_classes": [
        "widget-interact"
       ],
       "children": [
        "IPY_MODEL_cd407f52351346e78a3c0f05d4fb2a78",
        "IPY_MODEL_8e6f0d10cfc046a9824979a851051cc6"
       ],
       "layout": "IPY_MODEL_57a98ab176a24d69ae8f1dd1c260a74a"
      }
     },
     "35f72b93ab764d2091b65e8754f3b768": {
      "model_module": "@jupyter-widgets/controls",
      "model_module_version": "1.5.0",
      "model_name": "DescriptionStyleModel",
      "state": {
       "description_width": ""
      }
     },
     "36231d36ea9d426792d2e59cc885f3e5": {
      "model_module": "@jupyter-widgets/base",
      "model_module_version": "1.2.0",
      "model_name": "LayoutModel",
      "state": {}
     },
     "363c9cbe3be741fdb90259bee4778706": {
      "model_module": "@jupyter-widgets/controls",
      "model_module_version": "1.5.0",
      "model_name": "ButtonStyleModel",
      "state": {}
     },
     "371e177a5c4d4087a6ec7887a543c208": {
      "model_module": "@jupyter-widgets/base",
      "model_module_version": "1.2.0",
      "model_name": "LayoutModel",
      "state": {}
     },
     "372ba1bc566b4b8cb80ee2e600ba1d54": {
      "model_module": "@jupyter-widgets/base",
      "model_module_version": "1.2.0",
      "model_name": "LayoutModel",
      "state": {}
     },
     "373804b029da4ceab51892727ff26be2": {
      "model_module": "@jupyter-widgets/controls",
      "model_module_version": "1.5.0",
      "model_name": "SliderStyleModel",
      "state": {
       "description_width": ""
      }
     },
     "37b97069227449c3b9271f8922a0b2e4": {
      "model_module": "@jupyter-widgets/base",
      "model_module_version": "1.2.0",
      "model_name": "LayoutModel",
      "state": {}
     },
     "37dae8d8909c45f095fea6e6fc61b0a6": {
      "model_module": "@jupyter-widgets/controls",
      "model_module_version": "1.5.0",
      "model_name": "IntRangeSliderModel",
      "state": {
       "_model_name": "IntRangeSliderModel",
       "_view_name": "IntRangeSliderView",
       "continuous_update": false,
       "description": "Plotar N. Estados::",
       "disabled": true,
       "layout": "IPY_MODEL_4e9d183962994ab6808e0107636750ee",
       "max": 50,
       "readout_format": "1d",
       "style": "IPY_MODEL_4632f85ef77b4c39b55948e711a30880",
       "value": [
        0,
        3
       ]
      }
     },
     "3830d9fc2a6d4520b53cb9bd89ffdf0c": {
      "model_module": "@jupyter-widgets/base",
      "model_module_version": "1.2.0",
      "model_name": "LayoutModel",
      "state": {}
     },
     "385a55f9b799448ea1dc4e87f82a1ba0": {
      "model_module": "@jupyter-widgets/base",
      "model_module_version": "1.2.0",
      "model_name": "LayoutModel",
      "state": {}
     },
     "38640cbdc73e42608241e51953f954aa": {
      "model_module": "@jupyter-widgets/base",
      "model_module_version": "1.2.0",
      "model_name": "LayoutModel",
      "state": {}
     },
     "394a9d56bf424dd99e47e89870a6b3f5": {
      "model_module": "@jupyter-widgets/base",
      "model_module_version": "1.2.0",
      "model_name": "LayoutModel",
      "state": {}
     },
     "39783467db3e4689aa090e3f3976edbe": {
      "model_module": "@jupyter-widgets/controls",
      "model_module_version": "1.5.0",
      "model_name": "VBoxModel",
      "state": {
       "_dom_classes": [
        "widget-interact"
       ],
       "children": [
        "IPY_MODEL_be71a08b4e664581a7ff0e13a5c87e8c",
        "IPY_MODEL_5f61e09d597e464e8de560ecddef2630",
        "IPY_MODEL_b3749c64733f4b6eadc961c2c5461e6f",
        "IPY_MODEL_88aba1321630405baf91df25f0099aea"
       ],
       "layout": "IPY_MODEL_bc348268e6a649f19ca8d03a2680c1f3"
      }
     },
     "3a0519a6181845379bd0e3bdf787ce4a": {
      "model_module": "@jupyter-widgets/controls",
      "model_module_version": "1.5.0",
      "model_name": "SliderStyleModel",
      "state": {
       "description_width": ""
      }
     },
     "3a49a7b1971848ffb7e7c0e5fbc5a883": {
      "model_module": "@jupyter-widgets/controls",
      "model_module_version": "1.5.0",
      "model_name": "IntSliderModel",
      "state": {
       "continuous_update": false,
       "description": "Ordem da Matriz:",
       "layout": "IPY_MODEL_e081bab45bd34ef8b26aa3907226e9ee",
       "max": 1000,
       "min": 30,
       "step": 10,
       "style": "IPY_MODEL_7663419b6662414fb9be55aac3e628dd",
       "value": 200
      }
     },
     "3a68d06518854a8d840a690f632ab12f": {
      "model_module": "@jupyter-widgets/base",
      "model_module_version": "1.2.0",
      "model_name": "LayoutModel",
      "state": {}
     },
     "3b8868d8c40042e589ceedd7f1a3794b": {
      "model_module": "@jupyter-widgets/controls",
      "model_module_version": "1.5.0",
      "model_name": "ButtonStyleModel",
      "state": {}
     },
     "3c637bf5fc3e4d9ea15ae2be8c72ccd9": {
      "model_module": "@jupyter-widgets/controls",
      "model_module_version": "1.5.0",
      "model_name": "IntSliderModel",
      "state": {
       "continuous_update": false,
       "description": "Ordem da Matriz:",
       "layout": "IPY_MODEL_c5b8d39bbaa54d3a8f009f0dfd1ed680",
       "max": 1000,
       "min": 30,
       "step": 10,
       "style": "IPY_MODEL_89593a28949c432da74cf7dd9a3cb92b",
       "value": 200
      }
     },
     "3c7b6edbe36c42ceae1ed4b2a48fd54d": {
      "model_module": "@jupyter-widgets/controls",
      "model_module_version": "1.5.0",
      "model_name": "SliderStyleModel",
      "state": {
       "description_width": ""
      }
     },
     "3c8a6da67e9447998ef217b533008390": {
      "model_module": "@jupyter-widgets/base",
      "model_module_version": "1.2.0",
      "model_name": "LayoutModel",
      "state": {}
     },
     "3df97b62b0ee4c19a48ef3fc83d0c30a": {
      "model_module": "@jupyter-widgets/controls",
      "model_module_version": "1.5.0",
      "model_name": "ButtonModel",
      "state": {
       "description": "Plotar",
       "layout": "IPY_MODEL_cc781c3d28e1403e9313d2d099f5e18a",
       "style": "IPY_MODEL_ac559f8172ff4d55bcc350176cec8446"
      }
     },
     "3e215367553a4ef3b4cba92ec84b870b": {
      "model_module": "@jupyter-widgets/controls",
      "model_module_version": "1.5.0",
      "model_name": "FloatRangeSliderModel",
      "state": {
       "_model_name": "FloatRangeSliderModel",
       "_view_name": "FloatRangeSliderView",
       "continuous_update": false,
       "description": "Domínio (angstroms):",
       "layout": "IPY_MODEL_d52c1e68a96340fbb82db96cb34e9745",
       "max": 500,
       "min": -500,
       "readout_format": "1d",
       "style": "IPY_MODEL_bebda85b92894e889ba00aa79883d851",
       "value": [
        -100,
        100
       ]
      }
     },
     "3e8f9b04c4904de6a964f736229ff4a9": {
      "model_module": "@jupyter-widgets/controls",
      "model_module_version": "1.5.0",
      "model_name": "ButtonModel",
      "state": {
       "description": "Run Interact",
       "layout": "IPY_MODEL_63896542dd964ed1933fa7dbb74907de",
       "style": "IPY_MODEL_ddb2072e224749e49305021d227b651a"
      }
     },
     "3ecd70fa2a6046e5b43655a07112a5f1": {
      "model_module": "@jupyter-widgets/controls",
      "model_module_version": "1.5.0",
      "model_name": "SliderStyleModel",
      "state": {
       "description_width": ""
      }
     },
     "3ee711be79ef461e84eec91fe30e128d": {
      "model_module": "@jupyter-widgets/controls",
      "model_module_version": "1.5.0",
      "model_name": "VBoxModel",
      "state": {
       "_dom_classes": [
        "widget-interact"
       ],
       "children": [
        "IPY_MODEL_5ccb200991ff4faba45ca9fe6cfe97a8",
        "IPY_MODEL_3a49a7b1971848ffb7e7c0e5fbc5a883",
        "IPY_MODEL_7ebe1f8d652a49198e1e64b3c357bace",
        "IPY_MODEL_af8223a522bb4d379306552effb72df2"
       ],
       "layout": "IPY_MODEL_48f3843eedea4736973c4916080541ef"
      }
     },
     "3ff731a19c664f50ae92ebd67061e6d4": {
      "model_module": "@jupyter-widgets/controls",
      "model_module_version": "1.5.0",
      "model_name": "ButtonStyleModel",
      "state": {}
     },
     "40153940184b4174a207faaedfd367b3": {
      "model_module": "@jupyter-widgets/base",
      "model_module_version": "1.2.0",
      "model_name": "LayoutModel",
      "state": {}
     },
     "4050d33c02d54e5092b36ccbaf606211": {
      "model_module": "@jupyter-widgets/base",
      "model_module_version": "1.2.0",
      "model_name": "LayoutModel",
      "state": {}
     },
     "40b03bdee2ae4cefad1822a81ae4e239": {
      "model_module": "@jupyter-widgets/controls",
      "model_module_version": "1.5.0",
      "model_name": "ButtonModel",
      "state": {
       "description": "Run Interact",
       "layout": "IPY_MODEL_e7ba3a4eaca44100ab5ea565b38a4c15",
       "style": "IPY_MODEL_848fc24f1bed4a1bb847bee0e49ba4b4"
      }
     },
     "4115db6f8b1745fdb64fbe2f0b4d91dd": {
      "model_module": "@jupyter-widgets/output",
      "model_module_version": "1.0.0",
      "model_name": "OutputModel",
      "state": {
       "layout": "IPY_MODEL_0569d82d794f479985fcf071cd1bcabe"
      }
     },
     "4118a08f2eb741328b96d3a176557083": {
      "model_module": "@jupyter-widgets/output",
      "model_module_version": "1.0.0",
      "model_name": "OutputModel",
      "state": {
       "layout": "IPY_MODEL_84362b30861447f5a89fc919f5144081"
      }
     },
     "413389e7606f4941a03b43bda0369c99": {
      "model_module": "@jupyter-widgets/controls",
      "model_module_version": "1.5.0",
      "model_name": "SliderStyleModel",
      "state": {
       "description_width": ""
      }
     },
     "41a098e454d74ba2baf28175c424890f": {
      "model_module": "@jupyter-widgets/controls",
      "model_module_version": "1.5.0",
      "model_name": "FloatRangeSliderModel",
      "state": {
       "_model_name": "FloatRangeSliderModel",
       "_view_name": "FloatRangeSliderView",
       "continuous_update": false,
       "description": "Domínio: ",
       "layout": "IPY_MODEL_aa8ef78df917419faae80e267f30f8d1",
       "max": 500,
       "min": -500,
       "readout_format": "1d",
       "style": "IPY_MODEL_f5940e4525664eb5a4548a14b94837fc",
       "value": [
        -100,
        100
       ]
      }
     },
     "41b53663718e431aa1feb6bac2e3a9fa": {
      "model_module": "@jupyter-widgets/base",
      "model_module_version": "1.2.0",
      "model_name": "LayoutModel",
      "state": {}
     },
     "42051cdf967d4efaac082b842c15a872": {
      "model_module": "@jupyter-widgets/base",
      "model_module_version": "1.2.0",
      "model_name": "LayoutModel",
      "state": {}
     },
     "4263ab45e2f848fc9c234ed040daf890": {
      "model_module": "@jupyter-widgets/controls",
      "model_module_version": "1.5.0",
      "model_name": "SliderStyleModel",
      "state": {
       "description_width": ""
      }
     },
     "42833f43b58f4a38bb56b36aad092411": {
      "model_module": "@jupyter-widgets/controls",
      "model_module_version": "1.5.0",
      "model_name": "BoundedFloatTextModel",
      "state": {
       "description": "X_min:",
       "layout": "IPY_MODEL_825ec32934254952bb4195696453503d",
       "max": 500,
       "min": -500,
       "step": 1,
       "style": "IPY_MODEL_5976da1cbbf34609930e70743f9040c7",
       "value": 7
      }
     },
     "4299c83242f24446a12edf97b30a5616": {
      "model_module": "@jupyter-widgets/controls",
      "model_module_version": "1.5.0",
      "model_name": "IntSliderModel",
      "state": {
       "continuous_update": false,
       "description": "N",
       "layout": "IPY_MODEL_26b210997f634e5a87e0b06ef12ac214",
       "max": 1000,
       "min": 30,
       "step": 10,
       "style": "IPY_MODEL_68438b5b3fe945f78b20233c553e9606",
       "value": 200
      }
     },
     "42b28f4a85e44aa58ec6d9ae4def956b": {
      "model_module": "@jupyter-widgets/controls",
      "model_module_version": "1.5.0",
      "model_name": "VBoxModel",
      "state": {
       "_dom_classes": [
        "widget-interact"
       ],
       "children": [
        "IPY_MODEL_d69391d53a184eda9b25a670f421510c",
        "IPY_MODEL_3df97b62b0ee4c19a48ef3fc83d0c30a",
        "IPY_MODEL_4118a08f2eb741328b96d3a176557083"
       ],
       "layout": "IPY_MODEL_458324af700547fc874173da84e177d7"
      }
     },
     "438738b6eb6142fd9704cc4b6e56f721": {
      "model_module": "@jupyter-widgets/base",
      "model_module_version": "1.2.0",
      "model_name": "LayoutModel",
      "state": {}
     },
     "43b2a116d99b4cbcb46d3ddf86418d16": {
      "model_module": "@jupyter-widgets/controls",
      "model_module_version": "1.5.0",
      "model_name": "SliderStyleModel",
      "state": {
       "description_width": ""
      }
     },
     "43be654b5e854072894e3cc029a3d9ee": {
      "model_module": "@jupyter-widgets/controls",
      "model_module_version": "1.5.0",
      "model_name": "ButtonStyleModel",
      "state": {}
     },
     "43e63b0d6cd347a39a0a3baad0f7a202": {
      "model_module": "@jupyter-widgets/base",
      "model_module_version": "1.2.0",
      "model_name": "LayoutModel",
      "state": {}
     },
     "43e869985eaf45ea85c17035c162bdd0": {
      "model_module": "@jupyter-widgets/controls",
      "model_module_version": "1.5.0",
      "model_name": "FloatRangeSliderModel",
      "state": {
       "_model_name": "FloatRangeSliderModel",
       "_view_name": "FloatRangeSliderView",
       "continuous_update": false,
       "description": "Domínio (angstroms):",
       "layout": "IPY_MODEL_65ef051ead4347fe9bcaed438067fa0a",
       "max": 500,
       "min": -500,
       "readout_format": "1d",
       "style": "IPY_MODEL_156fad25a3ec46f3ac3a69bd7e901100",
       "value": [
        -100,
        100
       ]
      }
     },
     "440501dc702e46058cf1aa7369e4941b": {
      "model_module": "@jupyter-widgets/controls",
      "model_module_version": "1.5.0",
      "model_name": "SliderStyleModel",
      "state": {
       "description_width": ""
      }
     },
     "4426f5bb3e084bcb94a66c2b39d882d9": {
      "model_module": "@jupyter-widgets/controls",
      "model_module_version": "1.5.0",
      "model_name": "SliderStyleModel",
      "state": {
       "description_width": ""
      }
     },
     "448f4ff184774d50b135851c30d85f57": {
      "model_module": "@jupyter-widgets/controls",
      "model_module_version": "1.5.0",
      "model_name": "VBoxModel",
      "state": {
       "_dom_classes": [
        "widget-interact"
       ],
       "children": [
        "IPY_MODEL_d8fa895c9e5a425d87d69f1e142153fa",
        "IPY_MODEL_983c0957367b4f87b3aba7c1839fca3c",
        "IPY_MODEL_790f4c598db84102a5dfd31b6b7c69a6"
       ],
       "layout": "IPY_MODEL_6a80e61226054c2ebf25e19240ac394e"
      }
     },
     "44b0b54a4f3f4cea9597718538271152": {
      "model_module": "@jupyter-widgets/base",
      "model_module_version": "1.2.0",
      "model_name": "LayoutModel",
      "state": {}
     },
     "44f7c93efa1e48dfb12ba0e21c946c77": {
      "model_module": "@jupyter-widgets/controls",
      "model_module_version": "1.5.0",
      "model_name": "SliderStyleModel",
      "state": {
       "description_width": ""
      }
     },
     "4568321c315a43c1b1f4e65227db2c3e": {
      "model_module": "@jupyter-widgets/base",
      "model_module_version": "1.2.0",
      "model_name": "LayoutModel",
      "state": {}
     },
     "458324af700547fc874173da84e177d7": {
      "model_module": "@jupyter-widgets/base",
      "model_module_version": "1.2.0",
      "model_name": "LayoutModel",
      "state": {}
     },
     "4632f85ef77b4c39b55948e711a30880": {
      "model_module": "@jupyter-widgets/controls",
      "model_module_version": "1.5.0",
      "model_name": "SliderStyleModel",
      "state": {
       "description_width": ""
      }
     },
     "474c1b6a8ef742cc91c4dfa527b17d2a": {
      "model_module": "@jupyter-widgets/output",
      "model_module_version": "1.0.0",
      "model_name": "OutputModel",
      "state": {
       "layout": "IPY_MODEL_53e748c7d77747768e880f406d8f8ede"
      }
     },
     "47906562861947689485610799a7c4ff": {
      "model_module": "@jupyter-widgets/controls",
      "model_module_version": "1.5.0",
      "model_name": "FloatRangeSliderModel",
      "state": {
       "_model_name": "FloatRangeSliderModel",
       "_view_name": "FloatRangeSliderView",
       "continuous_update": false,
       "description": "Domínio (angstroms):",
       "layout": "IPY_MODEL_502c4cd9b40a4660bdac18f8b98f501d",
       "max": 500,
       "min": -500,
       "readout_format": "1d",
       "style": "IPY_MODEL_e409f0b3c10d4c3dacaaf90a88ac009d",
       "value": [
        -100,
        100
       ]
      }
     },
     "479d2e5e152c421bb29235c3d95ce245": {
      "model_module": "@jupyter-widgets/base",
      "model_module_version": "1.2.0",
      "model_name": "LayoutModel",
      "state": {}
     },
     "483c0bbabba743669c9b12ad5416003a": {
      "model_module": "@jupyter-widgets/base",
      "model_module_version": "1.2.0",
      "model_name": "LayoutModel",
      "state": {}
     },
     "48ece4f62b094fada37f4b93eaf62995": {
      "model_module": "@jupyter-widgets/base",
      "model_module_version": "1.2.0",
      "model_name": "LayoutModel",
      "state": {}
     },
     "48f3843eedea4736973c4916080541ef": {
      "model_module": "@jupyter-widgets/base",
      "model_module_version": "1.2.0",
      "model_name": "LayoutModel",
      "state": {}
     },
     "490a91eda87d44869eaa21edb5f8964a": {
      "model_module": "@jupyter-widgets/base",
      "model_module_version": "1.2.0",
      "model_name": "LayoutModel",
      "state": {}
     },
     "4955db3f784e44b0ac6540219a003200": {
      "model_module": "@jupyter-widgets/output",
      "model_module_version": "1.0.0",
      "model_name": "OutputModel",
      "state": {
       "layout": "IPY_MODEL_1e5d4aa0c99343919ac6a60d7cf67ff4",
       "outputs": [
        {
         "ename": "TypeError",
         "evalue": "unsupported operand type(s) for -: 'tuple' and 'int'",
         "output_type": "error",
         "traceback": [
          "\u001b[0;31m---------------------------------------------------------------------------\u001b[0m",
          "\u001b[0;31mTypeError\u001b[0m                                 Traceback (most recent call last)",
          "\u001b[0;32m~/miniconda3/lib/python3.9/site-packages/ipywidgets/widgets/interaction.py\u001b[0m in \u001b[0;36mupdate\u001b[0;34m(self, *args)\u001b[0m\n\u001b[1;32m    254\u001b[0m                     \u001b[0mvalue\u001b[0m \u001b[0;34m=\u001b[0m \u001b[0mwidget\u001b[0m\u001b[0;34m.\u001b[0m\u001b[0mget_interact_value\u001b[0m\u001b[0;34m(\u001b[0m\u001b[0;34m)\u001b[0m\u001b[0;34m\u001b[0m\u001b[0;34m\u001b[0m\u001b[0m\n\u001b[1;32m    255\u001b[0m                     \u001b[0mself\u001b[0m\u001b[0;34m.\u001b[0m\u001b[0mkwargs\u001b[0m\u001b[0;34m[\u001b[0m\u001b[0mwidget\u001b[0m\u001b[0;34m.\u001b[0m\u001b[0m_kwarg\u001b[0m\u001b[0;34m]\u001b[0m \u001b[0;34m=\u001b[0m \u001b[0mvalue\u001b[0m\u001b[0;34m\u001b[0m\u001b[0;34m\u001b[0m\u001b[0m\n\u001b[0;32m--> 256\u001b[0;31m                 \u001b[0mself\u001b[0m\u001b[0;34m.\u001b[0m\u001b[0mresult\u001b[0m \u001b[0;34m=\u001b[0m \u001b[0mself\u001b[0m\u001b[0;34m.\u001b[0m\u001b[0mf\u001b[0m\u001b[0;34m(\u001b[0m\u001b[0;34m**\u001b[0m\u001b[0mself\u001b[0m\u001b[0;34m.\u001b[0m\u001b[0mkwargs\u001b[0m\u001b[0;34m)\u001b[0m\u001b[0;34m\u001b[0m\u001b[0;34m\u001b[0m\u001b[0m\n\u001b[0m\u001b[1;32m    257\u001b[0m                 \u001b[0mshow_inline_matplotlib_plots\u001b[0m\u001b[0;34m(\u001b[0m\u001b[0;34m)\u001b[0m\u001b[0;34m\u001b[0m\u001b[0;34m\u001b[0m\u001b[0m\n\u001b[1;32m    258\u001b[0m                 \u001b[0;32mif\u001b[0m \u001b[0mself\u001b[0m\u001b[0;34m.\u001b[0m\u001b[0mauto_display\u001b[0m \u001b[0;32mand\u001b[0m \u001b[0mself\u001b[0m\u001b[0;34m.\u001b[0m\u001b[0mresult\u001b[0m \u001b[0;32mis\u001b[0m \u001b[0;32mnot\u001b[0m \u001b[0;32mNone\u001b[0m\u001b[0;34m:\u001b[0m\u001b[0;34m\u001b[0m\u001b[0;34m\u001b[0m\u001b[0m\n",
          "\u001b[0;32m<ipython-input-54-7e2cab018afd>\u001b[0m in \u001b[0;36mplotall\u001b[0;34m(NES)\u001b[0m\n\u001b[1;32m     40\u001b[0m     \u001b[0mfig\u001b[0m\u001b[0;34m,\u001b[0m \u001b[0max\u001b[0m\u001b[0;34m=\u001b[0m\u001b[0mplt\u001b[0m\u001b[0;34m.\u001b[0m\u001b[0msubplots\u001b[0m\u001b[0;34m(\u001b[0m\u001b[0mfigsize\u001b[0m\u001b[0;34m=\u001b[0m\u001b[0;34m(\u001b[0m\u001b[0;36m16\u001b[0m\u001b[0;34m,\u001b[0m\u001b[0;36m9\u001b[0m\u001b[0;34m)\u001b[0m\u001b[0;34m)\u001b[0m\u001b[0;34m\u001b[0m\u001b[0;34m\u001b[0m\u001b[0m\n\u001b[1;32m     41\u001b[0m     \u001b[0max\u001b[0m\u001b[0;34m.\u001b[0m\u001b[0mset_xlim\u001b[0m\u001b[0;34m(\u001b[0m\u001b[0;34m[\u001b[0m\u001b[0mx\u001b[0m\u001b[0;34m.\u001b[0m\u001b[0mmin\u001b[0m\u001b[0;34m(\u001b[0m\u001b[0;34m)\u001b[0m\u001b[0;34m-\u001b[0m\u001b[0;36m50\u001b[0m\u001b[0;34m,\u001b[0m \u001b[0mx\u001b[0m\u001b[0;34m.\u001b[0m\u001b[0mmax\u001b[0m\u001b[0;34m(\u001b[0m\u001b[0;34m)\u001b[0m\u001b[0;34m+\u001b[0m \u001b[0;36m50\u001b[0m\u001b[0;34m]\u001b[0m\u001b[0;34m)\u001b[0m\u001b[0;34m\u001b[0m\u001b[0;34m\u001b[0m\u001b[0m\n\u001b[0;32m---> 42\u001b[0;31m     \u001b[0;32mfor\u001b[0m \u001b[0mi\u001b[0m \u001b[0;32min\u001b[0m \u001b[0mrange\u001b[0m\u001b[0;34m(\u001b[0m\u001b[0mNES\u001b[0m\u001b[0;34m-\u001b[0m\u001b[0;36m1\u001b[0m\u001b[0;34m,\u001b[0m\u001b[0;34m-\u001b[0m\u001b[0;36m1\u001b[0m\u001b[0;34m,\u001b[0m\u001b[0;34m-\u001b[0m\u001b[0;36m1\u001b[0m\u001b[0;34m)\u001b[0m\u001b[0;34m:\u001b[0m\u001b[0;34m\u001b[0m\u001b[0;34m\u001b[0m\u001b[0m\n\u001b[0m\u001b[1;32m     43\u001b[0m         \u001b[0mfig\u001b[0m\u001b[0;34m=\u001b[0m\u001b[0mplt\u001b[0m\u001b[0;34m.\u001b[0m\u001b[0mplot\u001b[0m\u001b[0;34m(\u001b[0m\u001b[0mx\u001b[0m\u001b[0;34m,\u001b[0m\u001b[0mpsi\u001b[0m\u001b[0;34m[\u001b[0m\u001b[0mi\u001b[0m\u001b[0;34m,\u001b[0m\u001b[0;34m:\u001b[0m\u001b[0;34m]\u001b[0m\u001b[0;34m+\u001b[0m\u001b[0meig\u001b[0m\u001b[0;34m[\u001b[0m\u001b[0mi\u001b[0m\u001b[0;34m]\u001b[0m\u001b[0;34m,\u001b[0m\u001b[0mlabel\u001b[0m\u001b[0;34m=\u001b[0m\u001b[0;34mf'$E_{i}={eig[i]:2f}$ eV'\u001b[0m\u001b[0;34m)\u001b[0m\u001b[0;34m\u001b[0m\u001b[0;34m\u001b[0m\u001b[0m\n\u001b[1;32m     44\u001b[0m     \u001b[0;31m#fig=plt.plot(x,V,'k')\u001b[0m\u001b[0;34m\u001b[0m\u001b[0;34m\u001b[0m\u001b[0;34m\u001b[0m\u001b[0m\n",
          "\u001b[0;31mTypeError\u001b[0m: unsupported operand type(s) for -: 'tuple' and 'int'"
         ]
        }
       ]
      }
     },
     "49664f917db241669df013180f2e5de2": {
      "model_module": "@jupyter-widgets/base",
      "model_module_version": "1.2.0",
      "model_name": "LayoutModel",
      "state": {}
     },
     "49a3e00201454f14a5d133bbbb535586": {
      "model_module": "@jupyter-widgets/controls",
      "model_module_version": "1.5.0",
      "model_name": "IntSliderModel",
      "state": {
       "continuous_update": false,
       "description": "Ordem da Matriz:",
       "layout": "IPY_MODEL_d2960c9a67e444a0a59d57853da3e34e",
       "max": 1000,
       "min": 30,
       "step": 10,
       "style": "IPY_MODEL_a92a17a4953f40a393311d8481a93719",
       "value": 200
      }
     },
     "4a1a1a2ecdf84eb68d2750913c0c9b5a": {
      "model_module": "@jupyter-widgets/base",
      "model_module_version": "1.2.0",
      "model_name": "LayoutModel",
      "state": {}
     },
     "4a1a3272bee444a0aaa7e956314b7cc1": {
      "model_module": "@jupyter-widgets/controls",
      "model_module_version": "1.5.0",
      "model_name": "IntRangeSliderModel",
      "state": {
       "_model_name": "IntRangeSliderModel",
       "_view_name": "IntRangeSliderView",
       "continuous_update": false,
       "description": "Plotar N. Estados::",
       "layout": "IPY_MODEL_d588b9819774465cb4c57bc89ee09b94",
       "max": 50,
       "readout_format": "1d",
       "style": "IPY_MODEL_11e58b9a46244b439702377ef2c25ba2",
       "value": [
        0,
        3
       ]
      }
     },
     "4acf268542a64f7c874f567980d0a8ae": {
      "model_module": "@jupyter-widgets/base",
      "model_module_version": "1.2.0",
      "model_name": "LayoutModel",
      "state": {}
     },
     "4b7b24dfc0924d369cf9ebb4835ce1fb": {
      "model_module": "@jupyter-widgets/output",
      "model_module_version": "1.0.0",
      "model_name": "OutputModel",
      "state": {
       "layout": "IPY_MODEL_814a1307be9d4cf38ce6ff76f5179ab5"
      }
     },
     "4b7e10443035406794fb7fe3b3bcd029": {
      "model_module": "@jupyter-widgets/controls",
      "model_module_version": "1.5.0",
      "model_name": "SliderStyleModel",
      "state": {
       "description_width": ""
      }
     },
     "4bcfe221b0ad4ac9904d728cdb542dc9": {
      "model_module": "@jupyter-widgets/base",
      "model_module_version": "1.2.0",
      "model_name": "LayoutModel",
      "state": {}
     },
     "4bd31fafd5c14e8d857069eb6d610e5c": {
      "model_module": "@jupyter-widgets/base",
      "model_module_version": "1.2.0",
      "model_name": "LayoutModel",
      "state": {}
     },
     "4bdc171ff1f54d5bb40719b39ce5ff77": {
      "model_module": "@jupyter-widgets/controls",
      "model_module_version": "1.5.0",
      "model_name": "SliderStyleModel",
      "state": {
       "description_width": ""
      }
     },
     "4c87771617084bf09eea77167bdf4be5": {
      "model_module": "@jupyter-widgets/base",
      "model_module_version": "1.2.0",
      "model_name": "LayoutModel",
      "state": {}
     },
     "4c9e9a19a3ee460faa6a1d8134c5a104": {
      "model_module": "@jupyter-widgets/controls",
      "model_module_version": "1.5.0",
      "model_name": "SliderStyleModel",
      "state": {
       "description_width": ""
      }
     },
     "4d61a4da07fb4d6da0ac56594f952865": {
      "model_module": "@jupyter-widgets/controls",
      "model_module_version": "1.5.0",
      "model_name": "FloatRangeSliderModel",
      "state": {
       "_model_name": "FloatRangeSliderModel",
       "_view_name": "FloatRangeSliderView",
       "continuous_update": false,
       "description": "$\\AA$:",
       "layout": "IPY_MODEL_4bcfe221b0ad4ac9904d728cdb542dc9",
       "max": 500,
       "min": -500,
       "readout_format": "1d",
       "style": "IPY_MODEL_ad2870704fce4cf89e02e7e296c18111",
       "value": [
        -100,
        100
       ]
      }
     },
     "4e9d183962994ab6808e0107636750ee": {
      "model_module": "@jupyter-widgets/base",
      "model_module_version": "1.2.0",
      "model_name": "LayoutModel",
      "state": {}
     },
     "4eb3a0f37cb04472b61d0ece5a29f2c4": {
      "model_module": "@jupyter-widgets/controls",
      "model_module_version": "1.5.0",
      "model_name": "FloatRangeSliderModel",
      "state": {
       "_model_name": "FloatRangeSliderModel",
       "_view_name": "FloatRangeSliderView",
       "continuous_update": false,
       "description": "Domínio (angstroms):",
       "layout": "IPY_MODEL_c8d018d34ed94d10879147530d65e5c3",
       "max": 500,
       "min": -500,
       "readout_format": "1d",
       "style": "IPY_MODEL_e1427b0bfe1c4a47a86c0eb81e174aff",
       "value": [
        -100,
        100
       ]
      }
     },
     "4f2f2c65cf224014bb7103aea004d6bf": {
      "model_module": "@jupyter-widgets/controls",
      "model_module_version": "1.5.0",
      "model_name": "SliderStyleModel",
      "state": {
       "description_width": ""
      }
     },
     "4fb36aab2cfc4f4290663dd7ba3606c7": {
      "model_module": "@jupyter-widgets/controls",
      "model_module_version": "1.5.0",
      "model_name": "DescriptionStyleModel",
      "state": {
       "description_width": ""
      }
     },
     "4fbd637294a34893b8f685f739e2015b": {
      "model_module": "@jupyter-widgets/controls",
      "model_module_version": "1.5.0",
      "model_name": "IntSliderModel",
      "state": {
       "continuous_update": false,
       "description": "Ordem da Matriz:",
       "layout": "IPY_MODEL_e0e8f5fbacdc458290ff5f53be5631e5",
       "max": 1000,
       "min": 30,
       "step": 10,
       "style": "IPY_MODEL_17ccdda0335549349d9a28f1f4f578b2",
       "value": 200
      }
     },
     "4fbebea8c87d4c2080054ab5e3de4729": {
      "model_module": "@jupyter-widgets/base",
      "model_module_version": "1.2.0",
      "model_name": "LayoutModel",
      "state": {}
     },
     "4fe42b507dbd4dbcb56d1f6468349029": {
      "model_module": "@jupyter-widgets/controls",
      "model_module_version": "1.5.0",
      "model_name": "SliderStyleModel",
      "state": {
       "description_width": ""
      }
     },
     "5005a546c4a24d138160e267bac4a8f1": {
      "model_module": "@jupyter-widgets/controls",
      "model_module_version": "1.5.0",
      "model_name": "ButtonStyleModel",
      "state": {}
     },
     "501d742b17af4879aee827d7a937e6f4": {
      "model_module": "@jupyter-widgets/base",
      "model_module_version": "1.2.0",
      "model_name": "LayoutModel",
      "state": {}
     },
     "502c4cd9b40a4660bdac18f8b98f501d": {
      "model_module": "@jupyter-widgets/base",
      "model_module_version": "1.2.0",
      "model_name": "LayoutModel",
      "state": {}
     },
     "503340d4b78f4e28b937b5c93b632e0a": {
      "model_module": "@jupyter-widgets/controls",
      "model_module_version": "1.5.0",
      "model_name": "ButtonModel",
      "state": {
       "description": "Run Interact",
       "layout": "IPY_MODEL_372ba1bc566b4b8cb80ee2e600ba1d54",
       "style": "IPY_MODEL_bf79122d3a22423fb1a19436e11d2097"
      }
     },
     "507dd851a65f4f71ae226ccd221166d5": {
      "model_module": "@jupyter-widgets/controls",
      "model_module_version": "1.5.0",
      "model_name": "VBoxModel",
      "state": {
       "_dom_classes": [
        "widget-interact"
       ],
       "children": [
        "IPY_MODEL_3e215367553a4ef3b4cba92ec84b870b",
        "IPY_MODEL_9b26a291b2ef4bf58b8b6b7b45700efb",
        "IPY_MODEL_c05023f27b6e4752a398369a8bdb49f8",
        "IPY_MODEL_b02b11ab4aeb497fad8b9a007bbff016"
       ],
       "layout": "IPY_MODEL_17028cc97e6a4b2facc4f7fbac37f8e7"
      }
     },
     "50ab63152b9646818ed7cd0eff60e882": {
      "model_module": "@jupyter-widgets/controls",
      "model_module_version": "1.5.0",
      "model_name": "SliderStyleModel",
      "state": {
       "description_width": ""
      }
     },
     "51331234c44d47fa8a800cd530109040": {
      "model_module": "@jupyter-widgets/controls",
      "model_module_version": "1.5.0",
      "model_name": "VBoxModel",
      "state": {
       "_dom_classes": [
        "widget-interact"
       ],
       "children": [
        "IPY_MODEL_a84f1c91a8b24a90aa52b231f209b489",
        "IPY_MODEL_cce428d0de09497ba87804c83c32bb05",
        "IPY_MODEL_e08879e8d3534d1c94a53cac9671b55e",
        "IPY_MODEL_c6ed619fe1be4243b4d6c6bf0a0228c3"
       ],
       "layout": "IPY_MODEL_8d7a4b936b684e2b94e4484430300fff"
      }
     },
     "51dab81a0dbd456ab6c93027a60b367f": {
      "model_module": "@jupyter-widgets/controls",
      "model_module_version": "1.5.0",
      "model_name": "FloatRangeSliderModel",
      "state": {
       "_model_name": "FloatRangeSliderModel",
       "_view_name": "FloatRangeSliderView",
       "continuous_update": false,
       "description": "Domínio (angstroms):",
       "layout": "IPY_MODEL_7cba01a108ae42f0b63019e910cf2d96",
       "max": 500,
       "min": -500,
       "readout_format": "1d",
       "style": "IPY_MODEL_0ea00c67b2714e91a6a4a0660c7ac4bb",
       "value": [
        -100,
        100
       ]
      }
     },
     "5252504302d845019c3c9fb898958223": {
      "model_module": "@jupyter-widgets/output",
      "model_module_version": "1.0.0",
      "model_name": "OutputModel",
      "state": {
       "layout": "IPY_MODEL_2bfa5ca82e2448f29467011ce1a2272d"
      }
     },
     "5264def4191a432aa178769e42f0abbd": {
      "model_module": "@jupyter-widgets/base",
      "model_module_version": "1.2.0",
      "model_name": "LayoutModel",
      "state": {}
     },
     "5277cb697fc24349a9371fc2df02f815": {
      "model_module": "@jupyter-widgets/controls",
      "model_module_version": "1.5.0",
      "model_name": "IntRangeSliderModel",
      "state": {
       "_model_name": "IntRangeSliderModel",
       "_view_name": "IntRangeSliderView",
       "continuous_update": false,
       "description": "Plotar N. Estados::",
       "layout": "IPY_MODEL_a2b411bebcc94b429a1a37a816515f2d",
       "max": 50,
       "readout_format": "1d",
       "style": "IPY_MODEL_52953e1633d3432487a741692022f5d9",
       "value": [
        0,
        3
       ]
      }
     },
     "52953e1633d3432487a741692022f5d9": {
      "model_module": "@jupyter-widgets/controls",
      "model_module_version": "1.5.0",
      "model_name": "SliderStyleModel",
      "state": {
       "description_width": ""
      }
     },
     "533f0be4c54d47d8b55f3fb21e8e9164": {
      "model_module": "@jupyter-widgets/controls",
      "model_module_version": "1.5.0",
      "model_name": "ButtonStyleModel",
      "state": {}
     },
     "53e748c7d77747768e880f406d8f8ede": {
      "model_module": "@jupyter-widgets/base",
      "model_module_version": "1.2.0",
      "model_name": "LayoutModel",
      "state": {}
     },
     "5446103d55274cba92fbed1db66c0253": {
      "model_module": "@jupyter-widgets/output",
      "model_module_version": "1.0.0",
      "model_name": "OutputModel",
      "state": {
       "layout": "IPY_MODEL_b45981e1bd9c4080bc936cd5c56a9be6",
       "outputs": [
        {
         "data": {
          "image/png": "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\n",
          "text/plain": "<Figure size 1152x648 with 1 Axes>"
         },
         "metadata": {
          "needs_background": "light"
         },
         "output_type": "display_data"
        }
       ]
      }
     },
     "545f4aa7fa414ecea076ea9a1e6a7e5d": {
      "model_module": "@jupyter-widgets/base",
      "model_module_version": "1.2.0",
      "model_name": "LayoutModel",
      "state": {}
     },
     "5478a747a63f4ead9b3a609bda52dadc": {
      "model_module": "@jupyter-widgets/controls",
      "model_module_version": "1.5.0",
      "model_name": "ButtonStyleModel",
      "state": {}
     },
     "54ca196e5ce443d9af915d2ab601761c": {
      "model_module": "@jupyter-widgets/controls",
      "model_module_version": "1.5.0",
      "model_name": "FloatRangeSliderModel",
      "state": {
       "_model_name": "FloatRangeSliderModel",
       "_view_name": "FloatRangeSliderView",
       "continuous_update": false,
       "description": "Defina o domínio de $\\Psi(x) \\AA$:",
       "layout": "IPY_MODEL_df0e6e84c3504d179d4074d306a0c80d",
       "max": 500,
       "min": -500,
       "readout": false,
       "readout_format": ".1f",
       "style": "IPY_MODEL_89473e80b41b49d18cb87bafbdb1f832",
       "value": [
        -269,
        279
       ]
      }
     },
     "55a62df968614921941387439b09357e": {
      "model_module": "@jupyter-widgets/controls",
      "model_module_version": "1.5.0",
      "model_name": "VBoxModel",
      "state": {
       "_dom_classes": [
        "widget-interact"
       ],
       "children": [
        "IPY_MODEL_94ca489d72a24073b28a52a26d77902b",
        "IPY_MODEL_18ad038478c043ae8dba06215b6b68ca",
        "IPY_MODEL_3e8f9b04c4904de6a964f736229ff4a9",
        "IPY_MODEL_74750380ab4a46d2adfd3b8727125138"
       ],
       "layout": "IPY_MODEL_385a55f9b799448ea1dc4e87f82a1ba0"
      }
     },
     "55cd105217d8415e82b9eb7e6c882877": {
      "model_module": "@jupyter-widgets/controls",
      "model_module_version": "1.5.0",
      "model_name": "SliderStyleModel",
      "state": {
       "description_width": ""
      }
     },
     "5600cce9b98e4f8d8bcafe900752b0d3": {
      "model_module": "@jupyter-widgets/controls",
      "model_module_version": "1.5.0",
      "model_name": "IntSliderModel",
      "state": {
       "continuous_update": false,
       "description": "Ordem da Matriz:",
       "layout": "IPY_MODEL_c0e0104ef3d34f5fb23acb69739e2b74",
       "max": 1000,
       "min": 30,
       "step": 10,
       "style": "IPY_MODEL_ea3a5e12be2944718057eb8b853d5dc5",
       "value": 200
      }
     },
     "5625e105d853404fba7f1596743fec0b": {
      "model_module": "@jupyter-widgets/base",
      "model_module_version": "1.2.0",
      "model_name": "LayoutModel",
      "state": {}
     },
     "5661401938544008bda2e6a1d4e51ce2": {
      "model_module": "@jupyter-widgets/base",
      "model_module_version": "1.2.0",
      "model_name": "LayoutModel",
      "state": {}
     },
     "5665ed3c18d9457b9fa61f355ad7d862": {
      "model_module": "@jupyter-widgets/base",
      "model_module_version": "1.2.0",
      "model_name": "LayoutModel",
      "state": {}
     },
     "56943785fbcb436489c276833c7db866": {
      "model_module": "@jupyter-widgets/controls",
      "model_module_version": "1.5.0",
      "model_name": "SliderStyleModel",
      "state": {
       "description_width": ""
      }
     },
     "5784dd40a754446d91d3b96129b945b9": {
      "model_module": "@jupyter-widgets/controls",
      "model_module_version": "1.5.0",
      "model_name": "ButtonStyleModel",
      "state": {}
     },
     "579c61f328dc417fb48f3ca243f5ddae": {
      "model_module": "@jupyter-widgets/output",
      "model_module_version": "1.0.0",
      "model_name": "OutputModel",
      "state": {
       "layout": "IPY_MODEL_195d207f777b4cffa842ce4f939f3402"
      }
     },
     "57a939c086774fbcaf33299d617cfa41": {
      "model_module": "@jupyter-widgets/base",
      "model_module_version": "1.2.0",
      "model_name": "LayoutModel",
      "state": {}
     },
     "57a98ab176a24d69ae8f1dd1c260a74a": {
      "model_module": "@jupyter-widgets/base",
      "model_module_version": "1.2.0",
      "model_name": "LayoutModel",
      "state": {}
     },
     "5808c545369943c39899870a965db5f9": {
      "model_module": "@jupyter-widgets/controls",
      "model_module_version": "1.5.0",
      "model_name": "IntSliderModel",
      "state": {
       "continuous_update": false,
       "description": "Ordem da Matriz:",
       "layout": "IPY_MODEL_b67501063c0f44dbbd5537adad27a6d6",
       "max": 1000,
       "min": 30,
       "step": 10,
       "style": "IPY_MODEL_9aa35991e33347ca84588138d4345fa5",
       "value": 200
      }
     },
     "5907927deef74e6287e62417af55ee78": {
      "model_module": "@jupyter-widgets/output",
      "model_module_version": "1.0.0",
      "model_name": "OutputModel",
      "state": {
       "layout": "IPY_MODEL_99648abc523c4c369219b1fb39ccf670"
      }
     },
     "5976da1cbbf34609930e70743f9040c7": {
      "model_module": "@jupyter-widgets/controls",
      "model_module_version": "1.5.0",
      "model_name": "DescriptionStyleModel",
      "state": {
       "description_width": ""
      }
     },
     "5982ac5d52d842b2a42be3c9261427ce": {
      "model_module": "@jupyter-widgets/base",
      "model_module_version": "1.2.0",
      "model_name": "LayoutModel",
      "state": {}
     },
     "5a3db316f25047c49d2c8c85c9f4e598": {
      "model_module": "@jupyter-widgets/controls",
      "model_module_version": "1.5.0",
      "model_name": "VBoxModel",
      "state": {
       "_dom_classes": [
        "widget-interact"
       ],
       "children": [
        "IPY_MODEL_4d61a4da07fb4d6da0ac56594f952865",
        "IPY_MODEL_b43b4639504646d7af4249881d847a49",
        "IPY_MODEL_25b90d810cba455abdf19b5ea8e23417",
        "IPY_MODEL_6c9db98e6f72446c96c7bdc3099d9f8b"
       ],
       "layout": "IPY_MODEL_e42fa37233cc4265b6a43e55b7d54438"
      }
     },
     "5a43169ac19f440390a844dd46a07733": {
      "model_module": "@jupyter-widgets/controls",
      "model_module_version": "1.5.0",
      "model_name": "VBoxModel",
      "state": {
       "_dom_classes": [
        "widget-interact"
       ],
       "children": [
        "IPY_MODEL_69a792d9c7e84800b384e1a1879d55a1",
        "IPY_MODEL_503340d4b78f4e28b937b5c93b632e0a",
        "IPY_MODEL_4955db3f784e44b0ac6540219a003200"
       ],
       "layout": "IPY_MODEL_03cb53e6b4bf474f9a07529ff904c019"
      }
     },
     "5a8461c1e8e546f982c2eacf5c46f0f2": {
      "model_module": "@jupyter-widgets/controls",
      "model_module_version": "1.5.0",
      "model_name": "FloatRangeSliderModel",
      "state": {
       "_model_name": "FloatRangeSliderModel",
       "_view_name": "FloatRangeSliderView",
       "continuous_update": false,
       "description": "Domínio: ",
       "layout": "IPY_MODEL_819b587cca21431ea353c953a6f0d6ae",
       "max": 500,
       "min": -500,
       "readout_format": "1d",
       "style": "IPY_MODEL_f5382cd793704493a9bd05d2e36c771f",
       "value": [
        -100,
        100
       ]
      }
     },
     "5a9dcf4c88074822874acba600f39f57": {
      "model_module": "@jupyter-widgets/controls",
      "model_module_version": "1.5.0",
      "model_name": "ButtonModel",
      "state": {
       "description": "Run Interact",
       "layout": "IPY_MODEL_2a750ca5d7da4e92b4d696888dff3a50",
       "style": "IPY_MODEL_ae2e2f4bc7ca4044a48a6303bc09b06c"
      }
     },
     "5aef954775f3424d97640c61aac06ff5": {
      "model_module": "@jupyter-widgets/base",
      "model_module_version": "1.2.0",
      "model_name": "LayoutModel",
      "state": {}
     },
     "5b29847884a14c6ebe513bd3e5e3ad89": {
      "model_module": "@jupyter-widgets/output",
      "model_module_version": "1.0.0",
      "model_name": "OutputModel",
      "state": {
       "layout": "IPY_MODEL_57a939c086774fbcaf33299d617cfa41"
      }
     },
     "5c67a721ef19467f96632477a6cd48c2": {
      "model_module": "@jupyter-widgets/controls",
      "model_module_version": "1.5.0",
      "model_name": "SliderStyleModel",
      "state": {
       "description_width": ""
      }
     },
     "5c89403c2a664113a30ae57d38c8b342": {
      "model_module": "@jupyter-widgets/controls",
      "model_module_version": "1.5.0",
      "model_name": "ButtonStyleModel",
      "state": {}
     },
     "5ccb200991ff4faba45ca9fe6cfe97a8": {
      "model_module": "@jupyter-widgets/controls",
      "model_module_version": "1.5.0",
      "model_name": "FloatRangeSliderModel",
      "state": {
       "_model_name": "FloatRangeSliderModel",
       "_view_name": "FloatRangeSliderView",
       "continuous_update": false,
       "description": "Domínio (angstroms):",
       "layout": "IPY_MODEL_93ca2d1fc3c44d0da4bbca8026cf6dde",
       "max": 500,
       "min": -500,
       "readout_format": "1d",
       "style": "IPY_MODEL_5ead62e6da3341bdb5f04c87bbe92391",
       "value": [
        -100,
        100
       ]
      }
     },
     "5cddcfa8a79c43b0a0b4aafdd50e35f5": {
      "model_module": "@jupyter-widgets/controls",
      "model_module_version": "1.5.0",
      "model_name": "SliderStyleModel",
      "state": {
       "description_width": ""
      }
     },
     "5d7ab18a8a7b412b92a791baf9a087ee": {
      "model_module": "@jupyter-widgets/base",
      "model_module_version": "1.2.0",
      "model_name": "LayoutModel",
      "state": {}
     },
     "5d8958872bfa4d69bed66db15627cdc0": {
      "model_module": "@jupyter-widgets/controls",
      "model_module_version": "1.5.0",
      "model_name": "ButtonStyleModel",
      "state": {}
     },
     "5d8ff81af98f427da480d3c97042adff": {
      "model_module": "@jupyter-widgets/controls",
      "model_module_version": "1.5.0",
      "model_name": "FloatRangeSliderModel",
      "state": {
       "_model_name": "FloatRangeSliderModel",
       "_view_name": "FloatRangeSliderView",
       "continuous_update": false,
       "description": "Domínio: ",
       "layout": "IPY_MODEL_91a4a35e4fa04691b8b4da7848616834",
       "max": 500,
       "min": -500,
       "readout_format": "1d",
       "style": "IPY_MODEL_1a74b81300504ab6b0fcbfe9b0b5437e",
       "value": [
        -100,
        100
       ]
      }
     },
     "5d9f3c50e97b4f7b95ba4fade617d89a": {
      "model_module": "@jupyter-widgets/output",
      "model_module_version": "1.0.0",
      "model_name": "OutputModel",
      "state": {
       "layout": "IPY_MODEL_28cf4d2cabdd4bff82c7865920a5a589"
      }
     },
     "5dc721d5f7c242f7a3696b8cd328c354": {
      "model_module": "@jupyter-widgets/controls",
      "model_module_version": "1.5.0",
      "model_name": "ButtonModel",
      "state": {
       "description": "Gerar/Diagonalizar ",
       "layout": "IPY_MODEL_16d48e9e3d064be5b31b6b31f8ef4d10",
       "style": "IPY_MODEL_72fb60dc9d5849869aedac7927bfe297"
      }
     },
     "5e201ddd30e447428a8c5d25e85e979c": {
      "model_module": "@jupyter-widgets/controls",
      "model_module_version": "1.5.0",
      "model_name": "IntSliderModel",
      "state": {
       "continuous_update": false,
       "description": "Ordem da Matriz:",
       "layout": "IPY_MODEL_060ff5b1c0b6445db544d6964e91cd51",
       "max": 1000,
       "min": 30,
       "step": 10,
       "style": "IPY_MODEL_4263ab45e2f848fc9c234ed040daf890",
       "value": 30
      }
     },
     "5ea88f3184b74f9ebe8e8ca095e84d74": {
      "model_module": "@jupyter-widgets/controls",
      "model_module_version": "1.5.0",
      "model_name": "ButtonStyleModel",
      "state": {}
     },
     "5ead62e6da3341bdb5f04c87bbe92391": {
      "model_module": "@jupyter-widgets/controls",
      "model_module_version": "1.5.0",
      "model_name": "SliderStyleModel",
      "state": {
       "description_width": ""
      }
     },
     "5ec5eb5a99624e48a6feed53ee73c160": {
      "model_module": "@jupyter-widgets/base",
      "model_module_version": "1.2.0",
      "model_name": "LayoutModel",
      "state": {}
     },
     "5f61e09d597e464e8de560ecddef2630": {
      "model_module": "@jupyter-widgets/controls",
      "model_module_version": "1.5.0",
      "model_name": "IntSliderModel",
      "state": {
       "continuous_update": false,
       "description": "Ordem da Matriz:",
       "layout": "IPY_MODEL_1e273bfd49134bc69fa37845e3a1281f",
       "max": 1000,
       "min": 30,
       "step": 10,
       "style": "IPY_MODEL_0081131ff040491cb81d822779bd9db6",
       "value": 200
      }
     },
     "5ffa134b98d740e59fb7523a0d8b485f": {
      "model_module": "@jupyter-widgets/controls",
      "model_module_version": "1.5.0",
      "model_name": "ButtonModel",
      "state": {
       "description": "Run Interact",
       "layout": "IPY_MODEL_5d7ab18a8a7b412b92a791baf9a087ee",
       "style": "IPY_MODEL_26983a0aff88444b81e46383c11a3e1e"
      }
     },
     "6004097fe3f5475fad344ca25e3cb6a2": {
      "model_module": "@jupyter-widgets/controls",
      "model_module_version": "1.5.0",
      "model_name": "SliderStyleModel",
      "state": {
       "description_width": ""
      }
     },
     "60105d7c98c345a2b4038c3e87b3838c": {
      "model_module": "@jupyter-widgets/controls",
      "model_module_version": "1.5.0",
      "model_name": "DescriptionStyleModel",
      "state": {
       "description_width": ""
      }
     },
     "601624931c7c4717b77e06cb378a2b4d": {
      "model_module": "@jupyter-widgets/output",
      "model_module_version": "1.0.0",
      "model_name": "OutputModel",
      "state": {
       "layout": "IPY_MODEL_ce56cb0c72804be2a8ee9f360d6716c4"
      }
     },
     "604e819547164bf293feee52d4ddac16": {
      "model_module": "@jupyter-widgets/controls",
      "model_module_version": "1.5.0",
      "model_name": "VBoxModel",
      "state": {
       "_dom_classes": [
        "widget-interact"
       ],
       "children": [
        "IPY_MODEL_75ff15884f144567998af93d7ff63713",
        "IPY_MODEL_30e1d124fdac431082e2053b1fa56ee9",
        "IPY_MODEL_2159be14117e4ac4b140522e98e9e3b5",
        "IPY_MODEL_b198e3f28f714c759b367e4286f2968e"
       ],
       "layout": "IPY_MODEL_180eeaab916241889bcbc7220220bbdb"
      }
     },
     "60a9e025716543ec9883a441e61bd192": {
      "model_module": "@jupyter-widgets/base",
      "model_module_version": "1.2.0",
      "model_name": "LayoutModel",
      "state": {}
     },
     "60c7d8efc7e044048a04c9927e7e725e": {
      "model_module": "@jupyter-widgets/controls",
      "model_module_version": "1.5.0",
      "model_name": "ButtonStyleModel",
      "state": {}
     },
     "6178cad9835249e4ab133f33672ebcfe": {
      "model_module": "@jupyter-widgets/controls",
      "model_module_version": "1.5.0",
      "model_name": "ButtonModel",
      "state": {
       "description": "Run Interact",
       "layout": "IPY_MODEL_09006eaec4b6403ca8d513f975e62ff4",
       "style": "IPY_MODEL_fdc9f8a10fd54372abe31af6854a634d"
      }
     },
     "6280bec889e74e9aa93be5120ccc91a1": {
      "model_module": "@jupyter-widgets/output",
      "model_module_version": "1.0.0",
      "model_name": "OutputModel",
      "state": {
       "layout": "IPY_MODEL_c60a385eadf948938ec85fa62ceca87b"
      }
     },
     "62adc964fb2d450bafc99f6d06d9e24a": {
      "model_module": "@jupyter-widgets/base",
      "model_module_version": "1.2.0",
      "model_name": "LayoutModel",
      "state": {}
     },
     "63896542dd964ed1933fa7dbb74907de": {
      "model_module": "@jupyter-widgets/base",
      "model_module_version": "1.2.0",
      "model_name": "LayoutModel",
      "state": {}
     },
     "63af9d3a88c14472a8d2297727c57ee1": {
      "model_module": "@jupyter-widgets/controls",
      "model_module_version": "1.5.0",
      "model_name": "VBoxModel",
      "state": {
       "_dom_classes": [
        "widget-interact"
       ],
       "children": [
        "IPY_MODEL_8775faa6cd2e44bdb87ddce1134d1367",
        "IPY_MODEL_c6e4447855eb4ff3848036972d6e3819",
        "IPY_MODEL_579c61f328dc417fb48f3ca243f5ddae"
       ],
       "layout": "IPY_MODEL_99b6d22e53b048748c5e721fabaf64ff"
      }
     },
     "63dc4f800a9c4bc1a0459c306f170349": {
      "model_module": "@jupyter-widgets/base",
      "model_module_version": "1.2.0",
      "model_name": "LayoutModel",
      "state": {}
     },
     "643a523c1c4149fd87060a52ef57f64b": {
      "model_module": "@jupyter-widgets/base",
      "model_module_version": "1.2.0",
      "model_name": "LayoutModel",
      "state": {}
     },
     "644c36c20d1e4ced85d5f775abf4ff14": {
      "model_module": "@jupyter-widgets/base",
      "model_module_version": "1.2.0",
      "model_name": "LayoutModel",
      "state": {}
     },
     "64b6cce352fb400fb7fa6aa2af62542a": {
      "model_module": "@jupyter-widgets/controls",
      "model_module_version": "1.5.0",
      "model_name": "ButtonStyleModel",
      "state": {}
     },
     "64c47ac17aaf42109c9d9b076421ef89": {
      "model_module": "@jupyter-widgets/controls",
      "model_module_version": "1.5.0",
      "model_name": "SliderStyleModel",
      "state": {
       "description_width": ""
      }
     },
     "64ce5a27b77f446582955a16b65fa658": {
      "model_module": "@jupyter-widgets/controls",
      "model_module_version": "1.5.0",
      "model_name": "ButtonModel",
      "state": {
       "description": "Run Interact",
       "layout": "IPY_MODEL_d2478c85519a41519adbf5d3a2c64fc2",
       "style": "IPY_MODEL_7900d9a3c1854aaf9818d8ca47c0d6da"
      }
     },
     "65456f07dcf34a14a39a3ddbac504ea7": {
      "model_module": "@jupyter-widgets/controls",
      "model_module_version": "1.5.0",
      "model_name": "SliderStyleModel",
      "state": {
       "description_width": ""
      }
     },
     "65c8ebc20ba24bc8a7f1425d38b3c33a": {
      "model_module": "@jupyter-widgets/base",
      "model_module_version": "1.2.0",
      "model_name": "LayoutModel",
      "state": {}
     },
     "65ef051ead4347fe9bcaed438067fa0a": {
      "model_module": "@jupyter-widgets/base",
      "model_module_version": "1.2.0",
      "model_name": "LayoutModel",
      "state": {}
     },
     "6651d5c002f848c6be869d2659718dd0": {
      "model_module": "@jupyter-widgets/base",
      "model_module_version": "1.2.0",
      "model_name": "LayoutModel",
      "state": {}
     },
     "6677d52bed774f1cb2cbb169e2c07eae": {
      "model_module": "@jupyter-widgets/controls",
      "model_module_version": "1.5.0",
      "model_name": "ButtonModel",
      "state": {
       "description": "Gerar Matriz/Diagonalizar ",
       "layout": "IPY_MODEL_30c716a2b14a4d9fbcaed2639986d687",
       "style": "IPY_MODEL_e3c73a98af1d4172b78fc4f984c9e3c8"
      }
     },
     "66ba8c119a1d4969a81d0605f22cccd7": {
      "model_module": "@jupyter-widgets/base",
      "model_module_version": "1.2.0",
      "model_name": "LayoutModel",
      "state": {}
     },
     "67baa47c2758403bb04a6450ab1ffedd": {
      "model_module": "@jupyter-widgets/output",
      "model_module_version": "1.0.0",
      "model_name": "OutputModel",
      "state": {
       "layout": "IPY_MODEL_d446c2b9847742f79b1f2c035609c333"
      }
     },
     "67d10a04a69d4d328022accff30354a2": {
      "model_module": "@jupyter-widgets/base",
      "model_module_version": "1.2.0",
      "model_name": "LayoutModel",
      "state": {}
     },
     "68438b5b3fe945f78b20233c553e9606": {
      "model_module": "@jupyter-widgets/controls",
      "model_module_version": "1.5.0",
      "model_name": "SliderStyleModel",
      "state": {
       "description_width": ""
      }
     },
     "6934fd8b749c4208971a28601201f2c6": {
      "model_module": "@jupyter-widgets/controls",
      "model_module_version": "1.5.0",
      "model_name": "FloatRangeSliderModel",
      "state": {
       "_model_name": "FloatRangeSliderModel",
       "_view_name": "FloatRangeSliderView",
       "continuous_update": false,
       "description": "$ \\AA $:",
       "layout": "IPY_MODEL_8cdea1c0b13a4a7e9c7a5994b7ea7ebd",
       "max": 500,
       "min": -500,
       "readout_format": "1d",
       "style": "IPY_MODEL_30cf4fe09d3f43e084c67d5aaaaa9a08",
       "value": [
        -100,
        100
       ]
      }
     },
     "69a792d9c7e84800b384e1a1879d55a1": {
      "model_module": "@jupyter-widgets/controls",
      "model_module_version": "1.5.0",
      "model_name": "IntRangeSliderModel",
      "state": {
       "_model_name": "IntRangeSliderModel",
       "_view_name": "IntRangeSliderView",
       "continuous_update": false,
       "description": "Plotar N. Estados::",
       "layout": "IPY_MODEL_49664f917db241669df013180f2e5de2",
       "max": 50,
       "min": 1,
       "readout_format": "1d",
       "style": "IPY_MODEL_8525198665814050bd58005e63fb1781",
       "value": [
        1,
        3
       ]
      }
     },
     "69c7ee94040448e097dc5f71684cbc3f": {
      "model_module": "@jupyter-widgets/base",
      "model_module_version": "1.2.0",
      "model_name": "LayoutModel",
      "state": {}
     },
     "69eb353167024340a4546269fc31e3f4": {
      "model_module": "@jupyter-widgets/base",
      "model_module_version": "1.2.0",
      "model_name": "LayoutModel",
      "state": {}
     },
     "6a24d0d37b0c4425a42e97bd11843a23": {
      "model_module": "@jupyter-widgets/controls",
      "model_module_version": "1.5.0",
      "model_name": "VBoxModel",
      "state": {
       "_dom_classes": [
        "widget-interact"
       ],
       "children": [
        "IPY_MODEL_351c4b60971f414393e8d41558f3fb87",
        "IPY_MODEL_250bbee45f04480da83d6ec610f28923",
        "IPY_MODEL_db8e8b2907ab47fbba93b1ce7cf1960f",
        "IPY_MODEL_e22602de874b4fde893a13dd24ee90cd"
       ],
       "layout": "IPY_MODEL_86b3c34a078f44d6af450eb4988ee263"
      }
     },
     "6a4ddb39ee8940dba1b632a519466f42": {
      "model_module": "@jupyter-widgets/base",
      "model_module_version": "1.2.0",
      "model_name": "LayoutModel",
      "state": {}
     },
     "6a62cd6b59d44a15a4b91981d5e8daf9": {
      "model_module": "@jupyter-widgets/output",
      "model_module_version": "1.0.0",
      "model_name": "OutputModel",
      "state": {
       "layout": "IPY_MODEL_a47f4890f6454889b180b4496f14c21a",
       "outputs": [
        {
         "data": {
          "image/png": "iVBORw0KGgoAAAANSUhEUgAAA7gAAAIICAYAAABEhEKaAAAAOXRFWHRTb2Z0d2FyZQBNYXRwbG90bGliIHZlcnNpb24zLjQuMiwgaHR0cHM6Ly9tYXRwbG90bGliLm9yZy8rg+JYAAAACXBIWXMAAAsTAAALEwEAmpwYAACUDElEQVR4nOzdd3gVZcLG4d+k94SSBEjooQUIoYOCinRBmnQQBFQUe19XXXftvay6iooNlFAVpCM2RHpLCL0noUM66We+Pwb5RCkBkkxy8tzXlUs4Z87kOSAn88y8876GaZqIiIiIiIiIlHUudgcQERERERERKQoquCIiIiIiIuIUVHBFRERERETEKajgioiIiIiIiFNQwRURERERERGnoIIrIiIiIiIiTsHN7gCXo3LlymatWrXsjiEiIiIiIiJFbP369SdM0wy+mn2UqYJbq1Yt1q1bZ3cMERERERERKWKGYRy42n1oiLKIiIiIiIg4BRVcERERERERcQoquCIiIiIiIuIUytQ9uCIiIiIi4nzy8vJITEwkOzvb7ihSAry8vAgPD8fd3b3I962CKyIiIiIitkpMTMTf359atWphGIbdcaQYmabJyZMnSUxMpHbt2kW+fw1RFhERERERW2VnZ1OpUiWV23LAMAwqVapUbFfrVXBFRERERMR2KrflR3H+XavgioiIiIiIiFNQwRURERERERGnoIIrIiIiIiICTJw4kapVqxIdHX32Ky4urkj2vWjRIho0aEBERASvvPLKZW9zoefefvttGjduTJMmTRg2bNg597YWFBTQvHlzevfuffaxhIQEOnXqRGRkJI0bN+bdd98FYMeOHee874CAAN55551Cv79OnTqxePHicx575513uPvuuwu9j6KggisiIiIiIgLExcXxwgsvsGnTprNfTZs2ver9FhQUcM8997Bw4UK2bt3K1KlT2bp1a6G3udBzSUlJ/Pe//2XdunVs2bKFgoICYmJizu7z3XffpVGjRud8Hzc3N9588022bt3KqlWr+OCDD9i6dSsNGjQ4+57Xr1+Pj48P/fv3L/R7HDZs2DnfGyAmJoZhw4Zd7h/XVVHBFRERERERAWJjY4mOji7y/a5Zs4aIiAjq1KmDh4cHQ4cOZc6cOYXe5mLP5efnk5WVRX5+PqdPn6ZatWqAtfTS/Pnzuf3228/5PlWrVqVFixYA+Pv706hRI5KSks7ZZtmyZdStW5eaNWue9/1MmTKFNm3aEB0dzfjx4ykoKGDgwIHMnz+f3NxcAPbv38+hQ4fo2LHjVf7pXR6tgysiIiIiIqXGf76PZ+uhtCLdZ2S1AJ69ufElt4uPj2fMmDG4uFjXASdMmMCdd9550dd07NiR9PT0vz3+xhtv0KVLFwCSkpKoXr362efCw8NZvXr1OdtfbJsLPRcWFsajjz5KjRo18Pb2plu3bnTr1g2ABx98kNdee+282f6wf/9+Nm7cSNu2bc95/GJXXrdt28a0adNYsWIF7u7uTJgwga+//ppRo0bRpk0bFi5cSN++fYmJiWHw4MElPju2Cq6IiIiIiJR7CQkJBAcHExsbe87j3333HfPnzyctLY1x48adLZB/WL58eUnGPEdycjJz5sxh3759BAUFMWjQIKZMmUJQUBAhISG0bNmSn3/++byvzcjI4JZbbuGdd94hICDg7OO5ubnMnTuXl19++byvW7ZsGevXr6d169YAZGVlERISAvz/MOU/Cu6kSZOK9g0XggquiIiIiIiUGoW50loc4uLi/na/KkC/fv3o168fycnJPProo38ruIW5ghsWFkZCQsLZ5xITEwkLCztn+4ttc6HnfvjhB2rXrk1wcDAAAwYM4PfffycwMJC5c+eyYMECsrOzSUtLY+TIkUyZMgWAvLw8brnlFkaMGMGAAQPOybFw4UJatGhBaGjoef+cTNNk9OjR5y3Affv25aGHHmLDhg2cPn2ali1bnncfxUkFV0REREREyr3Y2FgaNmx4wedfeOEF7rnnnr89XpgruK1bt2bXrl3s27ePsLAwYmJi+Oabbwq9zYWey8jIYNWqVZw+fRpvb2+WLVtGq1atuO+++84W0J9//pk33njjbLk1TZNx48bRqFEjHn744b9lnTp16kUnhurcufPZIhsSEsKpU6dIT0+nZs2a+Pn50alTJ8aOHVvik0v9QZNMiYiIiIhIuRcXF8fkyZPPLpPTvHlzMjIyME2TJ554gp49e56dnOlyubm58f7779O9e3caNWrE4MGDadzYulJ90003cejQoYtuc6Hn2rZty8CBA2nRogVNmzbF4XBc8p7hFStWMHnyZH788cez73XBggUAZGZmsnTp0r9d1f2zyMhIXnjhBbp160ZUVBRdu3bl8OHDZ58fNmwYmzdvtq3gGqZp2vKNr0SrVq3MdevW2R1DRERERESK0LZt2847PLg0+O9//8uXX35J69atiY6O5q677rI7klM439+5YRjrTdNsdTX71RBlERERERGRC7j//vu5//777Y4hhaSCKyIlosBhsiUplY0Hk9mcmEpi8mmOpGWTnp2PAbi5uhAa4EnVQG8aVvGnRc0KtKhRgUBvd7ujixSr7LwC1h9IZnNiCluSUklKzuJ4eg6ZuQW4uRh4uLkQGuBFeAVvGlUNoE3tijQNC8TL3dXu6CLFKuV0LusPJLPhYDI7jmRwKCWLY+k5FDgcmECAlztVAr2oXsGHZtUDaV69Ao2rBeDiUrJLkohI6aKCKyLFxjRNVu87xZxNh1gSf4STmdbC36EBntSu7EvLGhUI8HbHNCGvwMGRtGz2ncjkx+3HKHCYuLkYXBtRmV5RVenVtCq+nvrIEueQV+Dgh61H+T72ED/vOM7p3AIAalbyoUZFHyJC/PHzdKXANMnJc3AoNYvNiSnMi7XucfLxcKVLo1BublaNTg2CcXPVlBriHNKz8/h+82Hmxx1i5Z6TOExwczGoE+xL+Jki6+bigmFAalYeh1Oz+XXXcWZtSAQgxN+T7o2r0K95NVrUqFDi62+KiP10tCgiRS6vwMG3G5L4bMU+th9Jx9fDlU4NQ+jWuAqta1WgaqD3RV+fmZPP5sQUftl5nAVxh3l8ZiwvzNvKsLY1GHNNbaoEepXQOxEpWmnZeUxeeYDJKw9wJC2bYH9P+jcPo0ujUJrXCCLIx+Oirz+VaV3R+mnHMRbGHWbu5kOEBXkztkNthrSujp9OAkkZlZh8ms9X7Gfa2gQycvKpXdmXCTdE0LFeZaLCg/D2uPCIBdM0OZSazdp9p1gcf4QZ6xOYvOoATcMCGduhFjdHVdNJIJFyRJNMiUiRMU2TBXFHeH3xdvafPE3DKv6MvbY2faKrXfFwStM02XAwmc9+28/CLYdxd3VhXIfa3HVDXQK8NHxZyobsvAKmrDrABz/tJvl0Hh3rVWZ0+1p0ahiC6xUOp8wrcPDj9mNM+m0fa/adopKvBw92rc+w1tV1MC9lRsrpXN7/cTdfrTyAwzTpHVWVMdfWJio88Iqvvmbm5PPtxiQ+X7GPPcczqRfix+M9GtKlUYiu6JZipXmSKSkexTXJlAquiBSJPcczeHJWHGv2n6JBqD+P92jAjQ2L9mAi4dRp3lyyg+82HaKirwfP3hxJn2bVdMAipdrvu0/wz2/j2H/yNB3rVebx7g1pGh5YpN9jw8FkXl24ndX7ThER4sfLA5rSulbFIv0eIkXJNE2mr0vgxfnbyMjJZ1DL6jzQpR7Vgi4+wudyOBwmi+OP8PriHew9kUnHepV5qX9Tqlf0KbLvIUVHBbf8UcFFBVekNCpwmHz0yx7e/WEX3h6uPNmzIYNaVb/iq1KFsSUplae/28KmhBRubBjCS/2batiylDoZOfk8930809clUrOSD8/3bcJ19YOL7fuZpsnSrUd5bt5WklKyGN2+Fo/3aICPh4YtS+mScOo0/5gdy4rdJ2lbuyLP9W1Cgyr+xfb98gocfLP6IK8v3kG+w8Gj3Row9tramoyqlFHBLX9UcFHBFSltjqZl82DMJlbuPUmvplV5tk8kIf4lUzQLHCZf/L6fNxbvwNvDlbcGN+OGBiEl8r1FLmVLUir3Td3IgZOZjL++Lg90rldisx5n5uTz6qLtfLXyAPVD/fhwZEvqBvuVyPcWuZRFW47w2MzNmCb8o2dDhrepUWJF81BKFk9/t4Uftx/jxoYhvDmoGRV8L37fu5QcFdzyRwUXFVyR0mTlnpPc+80GTucW8Hy/JgxsGW5Ljt3HMrj3mw1sP5LOPZ3q8kjXBjorL7aatvYgz3wXT0VfD94dGk3bOpVsybF813EeiNlETl4Brw6MondUNVtyiADkFzh4acF2Pluxj6jwQN4f1oIalUp+qLBpmny18gAvzN9KsJ8n7w1vQcuaFUo8h/ydCm75U1wFV7NQiMhlm742gVsnraaCrwff33etbeUWICLEj+/uuZYhrarzwU97mPD1BrLOLLkiUpIKHCYvzNvKE7PiaFunIgsf6GhbuQXoWC+Y+fd3oGHVAO79ZiOvLNyOw1F2TmqL80jPzmPcl+v4bMU+brumFjPuam9LuQUwDIPR19Ri1t3X4OpqMOzjVczZlGRLFhEpHiq4IlJoDofJywu38fisWNrXrcTsCdcQEVJ8900Vlpe7K6/c0pRnekeyeOsRhn68kmPp2XbHknIkMyefO79ax6e/WQfwn9/WulQMfawa6E3Mne0Y0bYGH/2yh4embyInXyeApOQkpWQx6KOV/Lb7BC8PaMq/+zTG061khutfTFR4EN/f24HmNYJ4IGYTH/y0m7I0qlGKz8SJE6latSrR0dFnv+Li4opk34sWLaJBgwZERETwyiuvXPY253suOzubNm3a0KxZMxo3bsyzzz4LwI4dO855DwEBAbzzzjvn7K+goIDmzZvTu3fvs4/VqlWLpk2bEh0dTatWl3chtVOnTixevPicx9555x3uvvvuy9rPVTNNs8x8tWzZ0hQRe+TlF5gPxmw0az4xz3zq21gzL7/A7kjntTT+iNnomYXmNS8vM/efyLA7jpQDKZm5Zt/3fzPrPDnf/GrlfrvjnJfD4TA/+GmXWfOJeebQiSvN1KxcuyNJObDzSJrZ+oWlZpNnF5nLdx63O855Zeflm/dP3WDWfGKe+Y9ZsWZ+gcPuSOXW1q1b7Y5gmqZp3nPPPeann35a5PvNz88369SpY+7Zs8fMyckxo6KizPj4+EJvc6HnHA6HmZ6ebpqmaebm5ppt2rQxV65c+bf9hoaGmvv3n/sz6s033zSHDRtm9urV6+xjNWvWNI8fv7J/rxMnTjRvu+22cx5r27at+csvv5x3+/P9nQPrzKvsjLqCKyKXlJvv4L6pG/l2YxKPdqvP832blNp1NrtEhjLtzvaczs1n8MSV7D6WYXckcWLH03MY8vFKth5K438jWnBru5p2RzovwzCYcEMEbw9pxroDpxj56WpST+fZHUuc2NZDaQz5eBUmMOvua+hQr7Ldkc7L082Vd4ZEM+GGukxdc5BHZ2wmv8BhdyyxUWxsLNHR0UW+3zVr1hAREUGdOnXw8PBg6NChzJkzp9DbXOg5wzDw87MmEszLyyMvL+9vyycuW7aMunXrUrPm//+MSkxMZP78+dx+++1X9H6mTJlCmzZtiI6OZvz48RQUFDBw4EDmz59Pbm4uAPv37+fQoUN07Njxir7HldLaASJyUdl5Bdw9ZT0/7TjOM70jGdehtt2RLqlpeCAxd7ZnxKerGPrxSqbc3paGVQLsjiVO5mhaNsM+WcWhlCw+Hd2qWJcAKir9m4cT4OXO3VM2MGLSKqaMa0uQj/1DqcW5bE5IYdRna/D1cOXrO9pRu7Kv3ZEuyjAMHu/REG93V95cupN8h8lbg5vhXkpP5JYLC/8BR4pmWPBZVZpCz/MPC/6z+Ph4xowZg4uL9fc/YcIE7rzzzou+pmPHjqSnp//t8TfeeIMuXboAkJSURPXq1c8+Fx4ezurVq8/Z/mLbXOy5goICWrZsye7du7nnnnto27btOfuNiYlh2LBh5zz24IMP8tprr/0tt2EYdOvWDcMwGD9+/Hnf+7Zt25g2bRorVqzA3d2dCRMm8PXXXzNq1CjatGnDwoUL6du3LzExMQwePPhvhbu4qeCKyAXlFTi45+sN/LzzOC/1b8rwtjXsjlRoDar4M218e0Z8sprhn6xm+vh2peJ+YXEOJzNyGP7JKo6mZvPV2La0qV3R7kiF1rlRKBNvbcn4yesZ8elqpoxrWyruFxbnsCUplZGTVhPk4843t7ejekV7JpO6Evd1roe7mwuvLNxOgcPBe8NaFOua7lL6JCQkEBwcTGxs7DmP7927lxdffJHU1FRmzpz5t9ctX768pCKel6urK5s2bSIlJYX+/fuzZcsWmjRpAkBubi5z587l5ZdfPrv9vHnzCAkJoWXLlvz888/n7Ou3334jLCyMY8eO0bVrVxo2bMh11113zjbLli1j/fr1tG7dGoCsrCxCQqylGocNG0ZMTMzZgjtp0qRifOfnp4IrIudV4DB5ePpmlm0/xgv9mpSpcvuHusF+TL2zHYM+WsnIT9cw4672ZepgS0qn1Kw8bp20hsTkLL4c26ZMlds/dGoYwsejWnLn5PWM+WItX9/eFl9PHRLI1dl9LIPRn63B39ONmDvbExbkbXeky3bX9XVxNQxeXLCNAK84Xh7QtMSvPgmFutJaHOLi4s67VFGdOnWYNGkSAwcOPO/rCnMFNywsjISEhLPPJSYmEhYWds72F9umMK8PCgqiU6dOLFq06GzBXbhwIS1atCA0NPTsditWrGDu3LksWLCA7Oxs0tLSGDlyJFOmTDm7z5CQEPr378+aNWv+VnBN02T06NHnlOY/9O3bl4ceeogNGzZw+vRpWrZsed4/s+KksRci8jemafLUt3F8v/kQT/ZsyMhSel9hYdSu7MuU29uQlVfAyEmrOZam2ZXlyp3OzWfM52vYdSydibe2pJ2NywBdrRsahPDesObEJqZw15T15ObrvkO5conJp7l10moMA6bc3rZMlts/3HFdHe7tFEHM2gReX7zD7jhSgmJjY2nYsOFlv2758uVs2rTpb19/lFuA1q1bs2vXLvbt20dubi4xMTH06dPnnP1cbJsLPXf8+HFSUlIA60rq0qVLz3kPU6dO/dvw5JdffpnExET2799PTEwMN954I1OmTCEzM/NsUc/MzGTJkiVni/Kfde7cmZkzZ3Ls2DEATp06xYEDBwDw8/OjU6dOjB079m/ft6So4IrI37y1dCcxaxO478YIxl9f1+44V61hlQA+H9Oa4+k5jPpsDenZmlxHLl+Bw+S+bzayKSGF94Y154YGIXZHumrdG1fhlQFRLN91gkdmbNY6uXJFkjNzGTVpDZk5+Uwe15Y6wX52R7pqj3Srz/C2Nfjfz3v4dPleu+NICYmLi2Py5Mlnl9Zp3rw5GRlFM1mlm5sb77//Pt27d6dRo0YMHjyYxo0bA3DTTTdx6NChi25zoecOHz5Mp06diIqKonXr1nTt2vXssj+ZmZksXbqUAQMGFCrj0aNH6dChA82aNaNNmzb06tWLHj16/G27yMhIXnjhBbp160ZUVBRdu3bl8OHDZ58fNmwYmzdvtq3gGmYh1vwyDKMH8C7gCnxqmuYrf3neE/gKaAmcBIaYprnfMIxKwEygNfCFaZr3/uk1LYEvAG9gAfCAeYkwrVq1MtetW1f4dycil236ugQenxnLkFbVeeUW5xqatXzXccZ8vpZrIyozaXSrUjsTtJQ+pmny7Nx4vlp5gOf7NubW9rXsjlSkPvplD68s3M7tHWrzdO9Iu+NIGZKTX8Ctn65hU2IK39zella1yt6Q/QspcJjcP3Uj8+MO8+7QaPpGh136RXLFtm3bdt7hwaXByZMneeqpp1i6dCm33347Tz75pN2RnML5/s4Nw1hvmublLcD7F5c8ujMMwxX4AOgJRALDDMP460+/cUCyaZoRwNvAq2cezwaeAR49z64/BO4A6p35+vvpAREpUSt2n+Cfs+PoWK8yL/Rv4lTlFqBjvWBe6NeEX3Ye59m58RTmBJ8IwKTf9vHVygPc0bG205VbsO47vO2aWnz62z5i1hy0O46UEaZp8sTMWNbsP8Ubg5o5VbkFcHUxeGtIM9rVqchjM2NZfyDZ7khik0qVKvHRRx+xZ88eldsyoDCXL9oAu03T3GuaZi4QA/T9yzZ9gS/P/Hom0NkwDMM0zUzTNH/DKrpnGYZRFQgwTXPVmau2XwH9ruJ9iMhV2nU0nbumrKdusB8fjGjhtMsjDG1Tg7uur8vXqw8y6bd9dseRMmDRliO8uGAbPZtU4cmepfPqQlF4ulcjrq8fzNPfbeH3PSfsjiNlwDs/7OK7TYd4tFt9+jSrZnecYuHp5sqHI1pSLdCL8ZPXkZh82u5IInIJhTmCDQMS/vT7xDOPnXcb0zTzgVTgYjNvhJ3Zz8X2KSIlJDkzlzFfrMXL3ZXPxrQmwMvd7kjF6vHuDbipaRVeXLCNpVuP2h1HSrGth9J4aNommoUH8faQaFyceMkQN1cX3hvenNqVfbl7ygb2nci0O5KUYnM2JfHusl3c0iKcezpF2B2nWFXw9eDT0a3JyXdw+5fryMjJtzuSiFxEqb9EYxjGnYZhrDMMY93x48ftjiPidPILHNw3dSPH0nL4+NaWZXrmy8JycTF4a3A0TaoF8vC0Tew9XjQTSIhzSc7MZfyUdQR4u/HxqJZ4ubvaHanYBXi589ltrXF1MRj3xVrSNCGbnEf8oVSemBVLm1oVy80yOhEhfvxvRAt2HcvggakbNSGbSClWmIKbBFT/0+/Dzzx23m0Mw3ADArEmm7rYPsMvsU8ATNP82DTNVqZptgoODi5EXBG5HK8v2cFvu0/wQr8mNK9Rwe44JcbL3ZWPbm2Ju5sL4yevJ1Nn5OVP8gsc3B+zkaOpOXw0siUh/l52Ryox1Sv6MPHWlhw8dZpHp2/WvepyjuTMXMZPXk+QtwcfjGiBh1upv1ZSZDrWC+ZfvSNZtv0Y7/242+44InIBhflUWgvUMwyjtmEYHsBQYO5ftpkLjD7z64HAjxebEdk0zcNAmmEY7QzrtN8oYM5lpxeRqzIv9hATf9nLiLY1GNy6+qVf4GTCgrx5b1hz9hzP4PGZsTqQl7NeX7yD5btO8Hy/xuXqxM8fWteqyJM3NWLJ1qN89IuWSBFLgcPk/hhrxM+HI1sQ7O9pd6QSN6p9Tfo3D+OdZTv5ZadGFoqURpcsuGfuqb0XWAxsA6abphlvGMZzhmH8sTrxJKCSYRi7gYeBf/zxesMw9gNvAbcZhpH4pxmYJwCfAruBPcDConlLIlIYO46k89iMWFrWrMCzNze2O45tro2ozBM9GjI/7jCfaK1DAebHHmbir3sZ2a4GQ1rXsDuObcZeW4veUVV5ffF2ft+tSacE3lhinfj5T9/yeeIHwDAMXuzfhPoh/jwQs1GTTomUQoUaV2Ka5gLTNOubplnXNM0Xzzz2L9M05575dbZpmoNM04wwTbONaZp7//TaWqZpVjRN0880zXDTNLeeeXydaZpNzuzz3kutgSsiRSczJ58JX6/H19ON/5WzIWbnc+d1dbipaRVeWagD+fJu/4lMnpgVS/MaQfyrd/k98QPWgfyrt0RRJ9iP+6Zu5HBqlt2RxEbLth3lw5/3MKxNdYa1Kb8nfgB8PNz46NaWFBSY3PP1BnLyC+yOJCJ/Ur6PakXKqWfmbGHviUz+OzSa0IDyc2/hhRiGwWsDm1En2I8Hpm3ieHqO3ZHEBtl5BdzzzQZcXQzeH64TPwC+nm58NLIl2XkFTPh6A7n5DrsjiQ0OpWTxyIzNRFYNKNcjfv6sdmVfXh/UjM2JqTz3/Va744jIn+int0g5M2NdArM3JHH/jfW4JqKy3XFKDT9PN94f3py0rDwembFZM2SWQy8t2Eb8oTTeGNSsXMwmXlgRIX68NrAZGw+m8OaSHXbHkRKWX+Dg/qkbyct38MGIFuViNvHC6tGkCuOvr8PXqw8yd/Mhu+OIyBkquCLlyK6j6fxrTjzt6lTk/s717I5T6jSsEsC/bo7k153HdT9uObMg7jBfrTzAuA616RoZanecUqdXVFVGtK3BxF/38qsm1ilX3v5hJ+sOJPPSgKbUruxrd5xS59FuDWhRI4inZseRcEr34zqDiRMnUrVqVaKjo89+xcXFFcm+Fy1aRIMGDYiIiOCVV1657G0u9NyFHn/33Xdp0qQJjRs35p133jn7eHZ2Nm3atKFZs2Y0btyYZ5999uxzKSkpDBw4kIYNG9KoUSNWrlxZ6PfXqVMnFi9efM5j77zzDnfffXeh91EkTNMsM18tW7Y0ReTKnM7JN7u+9bPZ4rkl5pHULLvjlFoOh8O8e8o6s+6T880NB07ZHUdKwIETmWaTfy0y+7z/m5mTV2B3nFIrK9f6DGn5/FLzWFq23XGkBPyy45hZ6x/zzCdmbrY7Sql28KT1GdLvg9/M3Hx9hlyprVu32h3BNE3TvOeee8xPP/20yPebn59v1qlTx9yzZ4+Zk5NjRkVFmfHx8YXe5kLPXejxuLg4s3HjxmZmZqaZl5dndu7c2dy1a5dpmtaxTnp6ummappmbm2u2adPGXLlypWmapjlq1Cjzk08+MU3TNHNycszk5ORCv8eJEyeat9122zmPtW3b1vzll1/Ou/35/s6BdeZVdkZdwRUpJ56bt5VdxzJ4e4juu70YwzB4eUAUoQFe3Dd1I6lZeXZHkmKUd2a9W8OA94c11323F+Hl7sp7w1qQnp3HoxrG7/SOpWfz0LRN1A/x1323l1C9og8vDWjKxoMpvPvDLrvjyFWKjY0lOjq6yPe7Zs0aIiIiqFOnDh4eHgwdOpQ5c+YUepsLPXehx7dt20bbtm3x8fHBzc2N66+/ntmzZwPWsY6fnx8AeXl55OXlYRgGqamp/Prrr4wbNw4ADw8PgoKCzvt+pkyZQps2bYiOjmb8+PEUFBQwcOBA5s+fT25uLgD79+/n0KFDdOzYscj/PC/GrUS/m4jYYkn8EaauOcj46+twXf1gu+OUeoHe7rw3vDmDPlrJP2fH8f7w5lhLdouzee/H3WxKSOH94c2pXtHH7jilXoMq/jzdO5JnvtvCZyv2cXvHOnZHkmJgmiaPzYglIyefmDvb4e2h+24v5eZm1Vi+6zgf/LybayIqcU1dzXFxNV5d8yrbT20v0n02rNiQJ9o8ccnt4uPjGTNmDC4u1gnPCRMmcOedd170NR07diQ9Pf1vj7/xxht06dIFgKSkJKpXr372ufDwcFavXn3O9hfb5kLPXejxfv368dRTT3Hy5Em8vb1ZsGABrVq1OrtdQUEBLVu2ZPfu3dxzzz20bduWTZs2ERwczJgxY9i8eTMtW7bk3Xffxdf33NsTtm3bxrRp01ixYgXu7u5MmDCBr7/+mlGjRtGmTRsWLlxI3759iYmJYfDgwSV+DKWCK+LkjqVn84/ZcURWDeCRrg3sjlNmtKhRgUe61ee1RTu4bl3lcr0eqrNaf+AU7/+4iwEtwugdVc3uOGXGyLY1WL7zOK8u2k7b2pVoGh5odyQpYpNXHeCXncd5vm9j6oX62x2nzPh3n8asO5DMQ9M2sfCB66jo62F3JLlMCQkJBAcHExsbe87jmZmZTJgwAQ8PD2644QZGjBhxzvPLly8vyZiF0qhRI5544gm6deuGr68v0dHRuLr+/8kqV1dXNm3aREpKCv3792fLli3k5+ezYcMG3nvvPdq2bcsDDzzAK6+8wvPPP3/OvpctW8b69etp3bo1AFlZWYSEhAAwbNgwYmJizhbcSZMmldybPkMFV8SJ/XEWPjMnn/8Oi9bwy8t013V1Wb7zBM99v5X2dSpTo5Ku8DmL9Ow8Hpy2ibAK3vynj4ZfXg5rWa0oer67nPtjNjL//g74eOhwwlnsPpbOi/O3cUODYEa2q2l3nDLFx8ON/w5tzoD//c7jM2P5ZFRLjf65QoW50loc4uLiaNSo0d8enz17NgMHDuTmm29myJAhfyu4hbmCGxYWRkJCwtnnEhMTCQsLO2f7i21zoecu9ppx48adHW78z3/+k/Dw8L9lDAoKolOnTixatIiRI0cSHh5O27ZtARg4cOB5J8MyTZPRo0fz8ssv/+25vn378tBDD7FhwwZOnz5Ny5Yt/7ZNcdPRrogT++Ms/FO9GhERorPwl8vFxeCNwc1wMQwembGJAt1z6DT+8/1WkpKzeHtwNP5e7nbHKXOCfDx4a3A0+09m8tKCbXbHkSKSm+/ggZhN+Hq68drAKJWzK9AkLJDHezTgh21HmbEu0e44cpliY2Np2LDh3x5PTEw8Owz4z1dB/7B8+XI2bdr0t68/yi1A69at2bVrF/v27SM3N5eYmBj69Olzzn4uts2FnrvYa44dOwbAwYMHmT17NsOHDwfg+PHjpKSkANbV16VLl9KwYUOqVKlC9erV2bHDWhJu2bJlREZG/u39du7cmZkzZ57d/6lTpzhw4AAAfn5+dOrUibFjxzJs2LBC/skXLRVcESe16+j/n4W/VWfhr1hYkDf/6duYtfuT+fhXLR3kDBbEHWbm+kTu7RRBq1oV7Y5TZrWvW4lx19ZmyqqD/KKlg5zC2z/sJP5QGq8MaEqIvyYjvFJjr61NuzoV+c/38Vo6qIyJi4tj8uTJZ5cHat68ORkZGYSHh5OYaJ2wcDgcV7RvNzc33n//fbp3706jRo0YPHgwjRtbI4huuukmDh06dNFtLvTcxV5zyy23EBkZyc0338wHH3xwdsKow4cP06lTJ6KiomjdujVdu3ald+/eALz33nuMGDGCqKgoNm3axD//+c+/vZfIyEheeOEFunXrRlRUFF27duXw4cNnnx82bBibN2+2reAa1mzMZUOrVq3MdevW2R1DpNTLzXfQ74MVHEnLZtGDHXWgcpVM02TC1xv4YdtR5tzTgchqAXZHkit0ODWLHu8sp1ZlX2be1R53V53nvRrZeQXc/N5vpGXnsfjB6wjy0T2HZdXqvScZ+skqhrauzssDouyOU+YlJp+mxzvLiawWQMwd7XBx0dXwS9m2bdt5hweXBpmZmdx77714eXnRoUOHvw1Rlitzvr9zwzDWm6bZ6gIvKRT9ZBdxQm8t3cnWw2m8ekuUym0RMAyDF/s3JdDbg4enbyI7r8DuSHIFHA6TR2dsJq/AwTtDolVui4CXuytvD4nmZEYuz8yJtzuOXKG07Dwenr6ZmhV9eLrX34cjyuULr+DDszdHsmbfKT5bsc/uOHKVfH19+fzzz/nwww9VbssA/XQXcTJr959i4q97GNamOl0jQ+2O4zQq+nrw+sAoth9J562lO+2OI1dg8qoDrNh9kmd6R1K7su+lXyCF0iQskAc61+P7zYeYu/mQ3XHkCvx7TjxH0rJ5e0g0vp6aMKyoDGwZTtfIUF5bvIOdR/8+AZGIFA8VXBEncjo3n0dnbCa8grfOwheDTg1DGN62Bp8s38uqvSftjiOXYd+JTF5euI1ODYIZ2rr6pV8gl+XuG+oSXT2IZ77bwpHUbLvjyGVYGHeY2RuTuLdTBM1rVLA7jlMxDIOXBzTF39ONh6ZtIjf/yu7dFJHLo4Ir4kReWbidg6dO8/rAZjoLX0yeuqkRNSr68Mj0zaRn59kdRwqhwGHyyPRNeLq58sotmhm2OLi5uvDW4Gbk5Bfw+KxYytL8HuXZsbRs/vltHFHhgdx7Y4TdcZxSZT9PXuzflPhDabz/4y6744iUCyq4Ik7it10n+GrlgTOzN1ayO47T8vV0463B0RxOzeI/32+1O44UwifL97LhYArP9W1MaIDuSS8udYL9eOqmRvy68zhTVh+0O45cgmmaPD4rltO5Bbw1WPekF6ceTapwS4twPvh5DxsPJtsdp1TTybHyozj/rvVpJuIE0rLzeHzmZuoE+/JY9wZ2x3F6LWtWYMINEcxcn8iiLUfsjiMXseNIOm8t2UnPJlXo06ya3XGc3sh2NelYrzIvzd/GvhOZdseRi/hmzUF+3nGcJ3s2JCLEz+44Tu/ZPpGE+nvyyPTNZOVqosLz8fLy4uTJkyq55YBpmpw8eRIvr+I56axlgkScwGMzNjNrQyKzJ1xLdPUgu+OUC7n5Dvr/bwVHUrNZ8tB1VPLztDuS/EVewZnlsvR3VKKOpGbT7e1fqBvix4zx7XHTlcFSZ/+JTHq+u5yWNSvw1dg2WsKmhPy++wTDP13NbdfU4t99Gtsdp9TJy8sjMTGR7Gzdx18eeHl5ER4ejru7+zmPF8UyQbpJT6SM+2HrUWasT+TeThEqtyXIw82FNwc3o897K3jq2y18OLKF7u0sZd7/cTfxh9KYeGtLldsSVCXQi+f7NeGBmE18vHwvE27QvZ2lSX6Bg4enb8Ld1eD1QVEqtyXomojKjLm2Fp+v2E+XRqF0qFfZ7kiliru7O7Vr17Y7hjgBnVYVKcOSM3P5x+w4Glbx5/7O9eyOU+40rBLAQ13rsyj+iJZHKWXiElN5/6fdDGgeRvfGVeyOU+70aVaNm5pW4e2lO9l+JM3uOPInE3+17kl/vl8TqgZ62x2n3HmiR0PqBvvy+MzNpGmiQpFioYIrUoY9M2cLqVm5vDU4Gg83/XO2w53X1aF5jSD+NSeeo2kaVlUaZOcV8PD0TQT7efLszRoGaAfDMHi+bxMCvd15eNpmLY9SSmxJSuXtpTvpFVVV96TbxMvdlTcHR3M0PYfnNFGhSLHQEbFIGTUv9hDzYg/zQOd6RFYLsDtOueXqYvDmIGt5lH9oeZRS4e2lO9l1LINXB0YR6ON+6RdIsah0ZnmUrYe1PEppkJ1XwEPTNlHR14MX+zXRLRU2iq4exIQb6jJzfSJLtx61O46I01HBFSmDjqVn88x3W2gWHshd19e1O065VyfYj3/0aMhPO44zfV2C3XHKtXX7T/Hx8r0Mb1uD6+sH2x2n3OveuAoDWoTxwc972JyQYneccu2NxTvYdSyD1wZGEeTjYXeccu++G+vRqGoAT86O41Rmrt1xRJyKCq5IGWOaJv+cvYXTuQW8OThaM5SWEqPa16J9nUo89/1WEk6dtjtOuXQ6N59HZmwmvII3/7ypkd1x5Ixnb25MsJ8nj8zYTHaelkexw8o9J5m0Yh8j29XghgYhdscRrIkK3xrcjNSsXJ6Zs8XuOCJORUfGImXMrA1J/LDtKI91b6C1C0sRFxeD1wZGAfD4zFgcDg1VLmmvLNzOgZOneX1gM/w8tUhAaRHo7c5rA6PYfSyDt5butDtOuZOWncejMzZTq5KvTvyUMo2qBvBgl/rMjz3M95qoUKTIqOCKlCGHUrL4z9x42tSuyNhrNZV+aVO9og/P9I5k5d6TfLVyv91xypXlu47z1coDjL22Nu3qVLI7jvzFdfWDGdG2Bp8s38va/afsjlOu/GfuVg6nZvHm4Gb4eOjET2kz/ro6RFcP4pk5WzimiQpFioQKrkgZYZomT8yKpcA0eWNgM61dWEoNaV2dGxoE88qi7ew7kWl3nHIh9XQej82IJSLEj8d7NLA7jlzAP29qRHgFbx6ZvpnMnHy745QLi7YcYdaGRO7pFEGLGhXsjiPn4eZqramelVvAk7PjNFGhSBFQwRUpIyavOsDyXSf4502NqFHJx+44cgGGYfDqLVF4urnyyPRNFGiocrH719wtnMjI4e3B0Xi5u9odRy7A19ONNwY2IyH5NK8s3G53HKd3LD2bf34bR5OwAK2TXsrVDfbjiR4NWbb9GDPWJ9odR6TMU8EVKQN2H8vgpQXbuKGBNcxPSrfQAC+e69uYDQdT+GT5XrvjOLV5sYeYs+kQ991Yj6bhgXbHkUtoW6cS466tfeaE3XG74zgt0zR5clYcGTn5vD04GndNRljq3XZNLdrWrshz328lMVkTFYpcDX3iiZRyeQUOHp6+CS93V167JUprF5YRfZpVo2eTKry1ZCc7jqTbHccpHUvL5unvttCsehD3dNJyWWXFo90bUDfYl8dnxpKWnWd3HKc0bW0Cy7Yf44keDakX6m93HCkEFxeDNwY1wzRNTVQocpVUcEVKufd/3E1sYiov929KSICX3XGkkAzD4IV+TfD3cuPh6ZvIzXfYHcmpmKbJ47Niyc4r4K3BzbRcVhni5e7Km4OjOZqWzXPfb7U7jtM5ePI0z8/byjV1KzHmmlp2x5HLUL2iD0/3juT3PSeZvOqA3XFEyiwdEYiUYhsPJvP+T7sZ0CKMnk2r2h1HLlMlP09eGtCU+ENpvPODlkcpSt+sOcjPO47zZM9G1A3WclllTXT1ICbcEMHM9Yks2nLE7jhOo8Bh8vD0TbgYBq8P0mSEZdHQ1tW5vn4wLy/cxu5jGXbHESmTVHBFSqnTufk8PH0zVQK8+HefxnbHkSvUvXEVhrSqzoe/7GHNPi2PUhT2n8jkhXnb6BBRmVvb1bQ7jlyh+zvXo2lYIP+YHctRLY9SJD7+dS/rDiTzn76NCQvytjuOXAHDsNZU93Z35cFpGzX6R+QKqOCKlFIvLdjG/pOZvDGoGQFe7nbHkavwr5sjqVHRh4embdI9h1epwGHyyIzNuLkavD4oSleoyjAPNxfeGRpNTp6DR2ds1j2HV2nroTTeWrqDnk2q0L95mN1x5CqEBnjx8oAotiSl8bZG/4hcNhVckVLopx3HmLLqILd3qE37upXsjiNXydfTjXeGRHMkLZtn58TbHadMm/jrHtYfSOb5vk2oGqgrVGVd3WA/nu7diOW7TvD57/vtjlNm5eQX8PD0TQR6e/Bi/6aajNAJ9GhShaGtq/PRL3tYtfek3XFEyhQVXJFSJjkzl8dnxtIg1J9HujWwO44UkeY1KnD/jfX4dmMSczcfsjtOmRSXmMrbS3fSq2lV+kZXszuOFJHhbWrQpVEory7azvYjaXbHKZPeWrKT7UfSeW1gUyr6etgdR4rIM70jqVnRh4enbSL1tEb/iBSWCq5IKWKaJk/OjiPldC5vD4nGy93V7khShO7pVJcWNYJ46ts4klKy7I5TpmTk5HPf1A1U9vPkhX5NdIXKiRiGwau3NCXAy50Hpm4iO6/A7khlyuq9J/l4+V6GtanBjQ1D7Y4jRcjX0413hzbnWHoOT8/ZgmlqGL9IYajgipQiU1YdYFH8ER7v3pDIagF2x5Ei5ubqwttDonE4TB6ZvokC3XNYaM/OiefgqdO8PSSaCrpC5XQq+Xny+qAodhxN57VFO+yOU2akZ+fxyIzN1Kjow9O9GtkdR4pBs+pBPNilHt9vPsR3m5LsjiNSJqjgipQSWw+l8fz8bdzQIJhxHWrbHUeKSc1KvjzbpzGr9p7io1/22B2nTPhuYxKzNiRy7431aFdH96Q7q04NQhjdviafrdjHLzuP2x2nTHh+3lYOpWTx1uBm+Hq62R1HisndN0TQulYFnvkunoRTp+2OI1LqqeCKlAKnc/O5d+oGgrzdeVNrFzq9QS3D6R1VlbeW7mTtfi0ddDEHTmby9HdbaF2rAvffGGF3HClmT97UiAah/jw8bZOWDrqEJfFHmL4ukbtvqEvLmhXtjiPFyNXF4K3B0RgG3DtVSweJXIoKrkgp8OycePadyOSdodFU8vO0O44UM8MweHlAU6pX8Oa+bzZyKjPX7kilUm6+g/unbsTFgHeGNsfNVT+ynJ2XuysfjGhBVl4B90/dSH6BDuTP53h6Dk/OjqNxtQAe6Fzf7jhSAqpX9OH1gVFsTkjhlYXb7Y4jUqrpaEHEZt9tTGLG+kTu6xTBNXUr2x1HSoi/lzvvD2/BqcxcHp6+SWuAnsebS3awOTGVV2+JIixISwKVFxEhfrzQrwmr953i3WW77I5T6uQXWCd+MnPzeXtINB5uOpQrL3o0qcpt19TisxX7WBx/xO44IqWWPhVFbLTvRCZPfRtnDb/sXM/uOFLCmoQF8kzvRvy84zgfL99rd5xSZXH8ESb+upcRbWvQs2lVu+NICRvQIpzBrcJ5/6fdLN+l+3H/7K2lO1m59yQv9GtK/VB/u+NICXvypoZEhQfy2IzNuh9X5AJUcEVskpmTz12T1+Pu5sK7Gn5Zbo1sV5Obmlbh9cU7WKf7cQHrxM+j0zcTFR7IM70j7Y4jNvlPnybUC/HjwZhNHNP9uAAs23aU//28h2FtqjOwZbjdccQGnm6uvD+sBSZw7zcbdD+uyHnoiFrEBqZp8sSsWHYdS+e9Yc2ppuGX5ZZhGLxySxThFbyZ8PWGcn8gfzrXOvHj6mrwvxEttBZ0Oebt4coHw1twOreAe3QgT8Kp0zw0bRONqwXw7M2N7Y4jNqpR6cz9uImpvDB/q91xREodFVwRG3y6fB/zYg/zWPeGdKwXbHccsVmAlzsTb21JenY+d39dfg/kTdPkydlx7DyWzn+HNie8go/dkcRm9UL9eXVgFGv3J/P8vPJ7IJ+dV8DdX6/HBD4c0VInfoQeTapyR8fafLXyANPXJtgdR6RUUcEVKWG/7z7Bywu30bNJFe66vo7dcaSUaFglgNcHRbH+QDLPzYu3O44tvlp5gDmbDvFwl/pcV18nfsTSp1k1xl9Xh8mrDjBt7UG745Q40zR5+rstbElK463B0dSopBM/YnmiR0OujajE099tYePBZLvjiJQaKrgiJSgpJYt7p26kTrAfrw9qhmFovVv5f72jqjH++jpMWXWw3B3I/777BM/P20rnhiHc00nr3cq5Hu/RkI71KvPMd/FsKGcH8p8u38fM9Yk80LkeXSND7Y4jpYibqwvvD2tBSIAnd01ZX+5vcRH5gwquSAnJyMnnji/XkZvvYOKtLfHzdLM7kpRCj3f//wP5teVk0qm9xzO4a8p6alf25e2h0bi46MSPnMvVxeC9Yc0JDfTk7inrOZJaPg7kf9p+jJcWbqNX06o8oJn25Twq+Hrw8a2tSMvK564p68nJL7A7kojtVHBFSkB+gYP7vtnAjqPpfDCiBXWD/eyOJKXUHwfy4RW8ueOrdew7kWl3pGKVnJnL2C/W4ubqwqTRrQnwcrc7kpRSQT7WgXxGdj5jvlhLRk6+3ZGK1a6j6dw3dSONqwXwxqBmOvEjFxRZzbrFZcPBFB6bEat11aXcU8EVKWamafLcvK38tOM4z/VtzPW6t1AuIcjHg89ua42LYTDm8zWcysy1O1KxyM13cPfX6zmUks3EW1vq3kK5pEZVA/hgRAt2Hk3nnq83kFfgnBOyHU/PYdyX6/D2cOWTUa3w9tCkUnJxvaOq8Vj3BszdfIg3luywO46IrVRwRYrZZyv289XKA9x5XR1GtK1pdxwpI2pV9uWTUS05lJrNnV+tIzvPuYadORwm/5gdy6q9p3h1YFNa16podyQpI25oEMIL/Zrwy87j/GvOFkzTua5WpWfncdvnaziensMno1pRNVDLyEnhTLihLsPa1OB/P+/hm9Xlax4HkT9TwRUpRt9vPsQL87fSo3EV/tGjod1xpIxpWbMibw+OZt2BZB6evokCJxl2ZpomLy3YxuwNSTzUpT79m4fbHUnKmGFtajDhhrpMXZPA/37eY3ecIpOTX8D4yevZcSSdD0e2ILp6kN2RpAwxDIPn+zamU4NgnpmzhR+3H7U7kogtVHBFismP24/y0LRNtK5ZkbeHaOIcuTK9oqrydK9GLIg7wj9mOce9VR/+sodPf9vH6PY1ub+zZkyWK/Notwb0i67G64t38NXK/XbHuWoFDpOHp23m9z0neW1gFDc0CLE7kpRBbq4uvD+8BY2q+nP3lA2s3HPS7kgiJU4FV6QYrNp7krunbKBR1QAm3ab7p+Tq3N6xDg90rseM9Yk8N29rmR6S+fXqA7y2aAd9mlXj2Zsba6ksuWIuLgavD2pG18hQ/jUnnhnrEuyOdMUcDpOnv4tjftxhnrqpEQNaaFSDXDlfTze+HNOG6hV9GPfl2nK3tJaICq5IEVu7/xTjvlhLjYo+fDm2Df6aFVaKwINd6jGuQ22++H0/ry3eUSZL7uRVB3jq2y3c2DBEs8JKkXB3deH94c3pWK8yT8yKZe7mQ3ZHumwOh8k/v41j6poE7ulUlzuuq2N3JHEClfw8+eb2toT4ezL6szVsSUq1O5JIiVHBFSlCv+06wahJawgN9GLK7W2p6OthdyRxEoZh8HSvRgxvW4MPf95T5q7kfvn7fp75bgtdGoXw4cgWeLjpx48UDU83Vz6+tRWtalXkwZiNTC9DV3L/KLcxaxO4t1MEj3ZrYHckcSIhAV58fUc7ArzcGf7JKtYfKB9rq4voCEOkiPy4/Shjv1xLzUo+TLuzPaEBXnZHEidjGAYv9mvCuA61+XzFfv4xK67UTzxlmiYf/bKHZ+fG0y0ylP+NaImnm4bsS9Hy9nDlizGtuTaiMo/PjOXzFfvsjnRJufkOHpmxmZi1Cdx/YwSPdKuvIftS5MKCvJk2vh2V/DwZ+ekaftt1wu5IIsVOBVekCExfm8CdX62nQag/U+9oR7C/p92RxEn9cSX3/s71mLYugXu/2UBWbulcQqjAYfLvufG8snA7vaOq8sEIXbmV4uPj4cano1vRvXEo//l+K28t3VlqRzmkZ+cx9ou1fLsxice6N+Chriq3UnzCK/gwfXx7albyYewXa1kQd9juSCLFSkcaIlfB4TB5ZeF2Hp8VS/u6lfj6jrZU0LBkKWaGYfBw1/o83asRi+KPMOTjlRxLy7Y71jmycgu4e8p6vlx5gDs61ua/Q5vj7qofOVK8PN1c+WB4Cwa2DOe/y3Zxf8ymUreG9JHUbAZPXMWqvSd5Y1Az7ukUoXIrxS7Y35Npd7anSVgAE77ewHvLdpXaE0AiV8soS/9zt2rVyly3bp3dMUQAyMjJ59Hpm1kUf4ThbWvwnz6NdQAvJW7p1qM8ELORAC93Ph3diiZhgXZHYv+JTO7+egPbj6TxTK9IxnaobXckKWesofF7eW3xdqLCAvlkVCtCSsFtIyv3nOS+qdaoiw9HtuS6+sF2R5JyJjuvgCdnx/HtxiRublaN126J0koPUqoYhrHeNM1WV7UPFVyRyxd/KJV7v9nIgZOZ/POmRozrUFtn4MU2Ww+lcfuXazmRkctTvRoxqn1N2/5/XLTlMI/NiMXFxeDtIc24sWGoLTlEABbHH+HBmE34erry5uBorrepUP5RuF9fvJ3alX35aGRL6oX625JF5M8ngBqE+vPesOb6/1FKDRVckRJW4DD5fMU+Xlu8gwo+7vx3aHPa1qlkdywRTmXm8uiMzfy4/RhdI0N5sX8TQvxL7opVRk4+Ly/YxterD9IsPJD3h7egekWfEvv+Ihey82g6936zgZ1HM7i9Q20e7d4AL/eSu2KVlJLFP2bFsnzXCXpFVeXVW6Lw83Qrse8vciE/7zjGI9M3k5GTz9O9GjGibU0t3ya2U8EVKUHbDqfxj1mxbE5MpUujUF69pSmV/DSZlJQepmky6TfrBIyXmwv/vKkRg1tVL/YDlp+2H+Pp77ZwKDWLcdfW5rEeDTRTspQq2XkFvDB/K1NWHaRGRR9e7N+EjvWK92pufoGDqWsO8uqiHThMkydvasTItjU02kdKlWPp2Tw6I5Zfdx6nda0KvNi/KfV1NVdspIIrUgIOp2bx9tKdzFyfSAUfD/7dpzG9o6rqIEVKrb3HM3hydhyr950iKjyQJ3o05NqIykX+fbYdTuOlBdtYvusEESF+vHpLFC1rVijy7yNSVH7fc4Knvt3CvhOZdI0M5bHuDYr8YN40TX7ddYKX5m9jx9F0ro2oxCsDojSiQUot0zSZsT6RlxZsIyM7nxFta3DPjRElOgpI5A8quCLFaPexdD5bsZ9Z6xMxTbi1fU3u7RShWZKlTHA4TL7dmMRbS3eSlJJF29oVGduhNl0aheJ6FVd0TdNk7f5kPlm+lx+2HSXAy537bozg1vY1ddVWyoTsvAI++XUvH/+6l4zcfHpHVeO2a2rRokbQVZ24LHCYLI4/wse/7mVTQgo1K/nwZM+GdG9cRSdEpUw4mZHDG0t2Mn1dAu6uBsPb1OTW9jWpXdnX7mhSjqjgihSxI6nZLI4/wvy4w6zZdwoPNxcGNA/jnk4ROvsuZVJ2XgFfrz7IpOV7OZSaTViQN72jqtKjSRWahQcVaviyaZrsPpbBwi1HmBd7iJ1HM6jg486t7WoyrkMdAn3cS+CdiBSt5MxcPvplD9+sPkh6Tj6RVQPo3awq3SKrEBHiV6h95BU4iE1MZX7sYebFHuJYeg41K/lwe8c6DG4VrpM+UibtP5HJf5ftYu7mQ+Q7TK6NqMRNTavSpVEooaVgNnJxbiq4IlcoKSWLuMRUkk/ncjgli30nT7PxYDKJyVkA1A/1o0+zagxrU0P32YpTyC9wsHTrUaauTeD33SfId5j4e7nRLDyIRlX9qRLoTbC/J66GQYFpknI6l6TkLPYcz2TDwWROZeYC0LpWBfo3D6d/8zAtLSFOITMnn283JjFjXQKbE1MBCA3wpGlYEA2r+BMS4EklX+vnQL7DwYmMXBJOnWb3sQw2HEzmdG4BHq4uXN8gmFtahNM18upGSYiUFsfSspm2NoEZ6xM5eOo0ALUr+9K4WgD1Q/2p5OdBJV8PWtSoUCqW4RLnoIIrcoWmr0vg8ZmxALgYUDXQm2bVA2lRowI3NAgmIkQTLIjzSj2dx487jrJufzKbE1PYeTSD3HzH37bzcHUhvKI3zatXoFWtCnRqEEKVQB3EiPM6nJrFD9uOseFAMrGJKew7kYnjPIdJvh6u1KrsS8uaFWhdqyLX1Q8m0FsjGcQ5/TGK54dtx9iUkMyWpDSSUrLOPv/hiBb0bFrVxoTiTFRwRa7QqcxcDqVkUcHXg1B/T9xcXeyOJGIb0zRJzcrjeHoOJtZJnwAvdyr7eWrJCCnXChwmpzJzz45gcHM1qODjQQUfd91XK+VaTn4ByZl5nMjIoXoFH92qIkWmKAquFmKTcqmirwcVNVmUCACGYRDk40GQj/5NiPyZq4tBsL8nwf66VUXkzzzdXKkS6KpRPVIq6bKViIiIiIiIOAUVXBEREREREXEKKrgiIiIiIiLiFFRwRURERERExCmo4IqIiIiIiIhTUMEVERERERERp6CCKyIiIiIiIk5BBVdEREREREScggquiIiIiIiIOAUVXBEREREREXEKKrgiIiIiIiLiFFRwRURERERExCmo4IqIiIiIiIhTUMEVERERERERp1CogmsYRg/DMHYYhrHbMIx/nOd5T8Mwpp15frVhGLX+9NyTZx7fYRhG9z89/pBhGPGGYWwxDGOqYRheRfKOREREREREpFy6ZME1DMMV+ADoCUQCwwzDiPzLZuOAZNM0I4C3gVfPvDYSGAo0BnoA/zMMw9UwjDDgfqCVaZpNANcz24mIiIiIiIhckcJcwW0D7DZNc69pmrlADND3L9v0Bb488+uZQGfDMIwzj8eYppljmuY+YPeZ/QG4Ad6GYbgBPsChq3srIiIiIiIiUp4VpuCGAQl/+n3imcfOu41pmvlAKlDpQq81TTMJeAM4CBwGUk3TXHK+b24Yxp2GYawzDGPd8ePHCxFXREREREREyiNbJpkyDKMC1tXd2kA1wNcwjJHn29Y0zY9N02xlmmar4ODgkowpIiIiIiIiZUhhCm4SUP1Pvw8/89h5tzkz5DgQOHmR13YB9pmmedw0zTxgNnDNlbwBEREREREREShcwV0L1DMMo7ZhGB5Yk0HN/cs2c4HRZ349EPjRNE3zzONDz8yyXBuoB6zBGprczjAMnzP36nYGtl392xEREREREZHyyu1SG5immW8Yxr3AYqzZjj8zTTPeMIzngHWmac4FJgGTDcPYDZzizIzIZ7abDmwF8oF7TNMsAFYbhjET2HDm8Y3Ax0X/9kRERERERKS8MKwLrWVDq1atzHXr1tkdQ0RERERERIqYYRjrTdNsdTX7sGWSKREREREREZGipoIrIiIiIiIiTkEFV0RERERERJyCCq6IiIiIiIg4BRVcERERERERcQoquCIiIiIiIuIUVHBFRERERETEKajgioiIiIiIiFNQwRURERERERGnoIIrIiIiIiIiTkEFV0RERERERJyCCq6IiIiIiIg4BRVcERERERERcQoquCIiIiIiIuIUVHBFRERERETEKajgioiIiIiIiFNQwRURERERERGnoIIrIiIiIiIiTkEFV0RERERERJyCCq6IiIiIiIg4BRVcERERERERcQoquCIiIiIiIuIUVHBFRERERETEKajgioiIiIiIiFNQwRURERERERGnoIIrIiIiIiIiTkEFV0RERERERJyCCq6IiIiIiIg4BRVcERERERERcQoquCIiIiIiIuIUVHBFRERERETEKajgioiIiIiIiFNQwRURERERERGnoIIrIiIiIiIiTkEFV0RERERERJyCCq6IiIiIiIg4BRVcERERERERcQoquCIiIiIiIuIUVHBFRERERETEKajgioiIiIiIiFNQwRURERERERGnoIIrIiIiIiIiTkEFV0RERERERJyCCq6IiIiIiIg4BRVcERERERERcQoquCIiIiIiIuIUVHBFRERERETEKajgioiIiIiIiFNQwRURERERERGnoIIrIiIiIiIiTkEFV0RERERERJyCCq6IiIiIiIg4BRVcERERERERcQoquCIiIiIiIuIUVHBFRERERETEKajgioiIiIiIiFNQwRURERERERGnoIIrIiIiIiIiTkEFV0RERERERJyCCq6IiIiIiIg4BRVcERERERERcQoquCIiIiIiIuIUVHBFRERERETEKajgioiIiIiIiFNQwRURERERERGnoIIrIiIiIiIiTkEFV0RERERERJyCCq6IiIiIiIg4BRVcERERERERcQoquCIiIiIiIuIUVHBFRERERETEKajgioiIiIiIiFNQwRURERERERGnoIIrIiIiIiIiTkEFV0RERERERJyCCq6IiIiIiIg4BRVcERERERERcQoquCIiIiIiIuIUVHBFRERERETEKajgioiIiIiIiFNQwRURERERERGnoIIrIiIiIiIiTkEFV0RERERERJyCCq6IiIiIiIg4BRVcERERERERcQqFKriGYfQwDGOHYRi7DcP4x3me9zQMY9qZ51cbhlHrT889eebxHYZhdP/T40GGYcw0DGO7YRjbDMNoXyTvSERERERERMqlSxZcwzBcgQ+AnkAkMMwwjMi/bDYOSDZNMwJ4G3j1zGsjgaFAY6AH8L8z+wN4F1hkmmZDoBmw7erfjoiIiIiIiJRXhbmC2wbYbZrmXtM0c4EYoO9ftukLfHnm1zOBzoZhGGcejzFNM8c0zX3AbqCNYRiBwHXAJADTNHNN00y56ncjIiIiIiIi5VZhCm4YkPCn3yeeeey825immQ+kApUu8trawHHgc8MwNhqG8alhGL7n++aGYdxpGMY6wzDWHT9+vBBxRUREREREpDyya5IpN6AF8KFpms2BTOBv9/YCmKb5sWmarUzTbBUcHFySGUVERERERKQMKUzBTQKq/+n34WceO+82hmG4AYHAyYu8NhFINE1z9ZnHZ2IVXhEREREREZErUpiCuxaoZxhGbcMwPLAmjZr7l23mAqPP/Hog8KNpmuaZx4eemWW5NlAPWGOa5hEgwTCMBmde0xnYepXvRURERERERMoxt0ttYJpmvmEY9wKLAVfgM9M04w3DeA5YZ5rmXKzJoiYbhrEbOIVVgjmz3XSs8poP3GOaZsGZXd8HfH2mNO8FxhTxexMREREREZFyxLAutJYNrVq1MtetW2d3DBERERERESlihmGsN02z1dXsw65JpkRERERERESKlAquiIiIiIiIOAUVXBEREREREXEKKrgiIiIiIiLiFFRwRURERERExClccpkgERH5k9OnIHk/nD555usU5GeBaQImYIBXIHhXsL78q0CF2uDhY3NwESk3cjPh1F7IOApZKZCVDNmpnP2MMgxw9wHviuBTCXwrQYVa1meWiEgZp4IrInI+Dgec3AUJqyFxLRzbDid3Q9apK9tfQBhUqgtVoiC8tfUVGFa0mUWkfDFNSE2wPqMS18ORWOtzKv3wle3PpzJUrgfBDa3PqOptrc8twyja3CIixUjr4IqI/CHjGOxaAjsXwb7lkJ1iPe4VBKFNoHIEVKoHFeuAbzD4VLSueHj4ntmBAaYDctKsKyZZyZCWBCf3WgedJ3fBkS1QkGNtHhAO9bpAve5Q+zrw9LPhTYtImZKdBnt/tj6rdi+D9EPW425eUKWp9RlVqQ5UrGudWPtjNIlXAGAAplWM805bn1GnT1qffaf2Wp9RJ3bD0XjISbX2610R6lwP9XtARFfraq+ISDEpinVwdQVXRMq3zBMQNxPiZkDSmRNo/tWg0c1Qox2Et4FKEeByGVMWuHuBX8j5n8vPhaNxkLgO9i+HuFmw/gtw9YC6nSFqMDToCe7eV/3WRMRJ5GbC9gUQOw32/gSOfPAMhLqdoFYH62praGNwdS/8Pt29rJN0ler+/TmHA07sgIQ11iiW3T9A/LeAYV3VjRoEjQdYrxcRKWV0BVdEyh9HgXWVdsNk2L3UOlisEgWN+kD97tZVkJIakpefCwmrYMciiJ9tDS30DIDIPtD6dqjWvGRyiEjpYprW0OO1k2Db95CXCYHVockA62pqeBtwLaHrFA4HHN5kXTXeOgeObbVOytXvDs1HQUSXyzsJKCJyAUVxBVcFV0TKj6wU2DgF1nwMKQesK7VRgyBqKIRG2p3OKt77f4PY6dbVkrxM62pJmzshsu/lXZ0RkbIpP8f697/6Izi00Trh1WQARA2B6u3sL5KmCUfiYHOMNfIl85g1yqXNeIgeBp7+9uYTkTJNBVdEpDAyT8Dv78HaTyE3A2pcA+3uhgY3ldwVkMuVnQqbvoHVEyF5n3XlpsND0HwkuHnanU5EilpelnW7wm/vQMYRqFwf2o63TsCV1vvzC/KsK7qrPrRu8fAMtDK3n6AZmUXkiqjgiohcTOYJ+P2/sOZTa0KVJrfAtfdD1WZ2Jys8h8MaRv3rG5C4xrrq3OEhaDlaRVfEGeRlWcOQV7xrXQ2t2QE6Pgx1byxbsxcnroMV71jDqT0DrKLbboLu0xWRy6KCKyJyPnlZsOp/sPxta5hvk4Fw3WMQXN/uZFfONK2ZU395FQ6utNas7Pqcdd9wWToIFhGLw2EN8V32HKQlQu3r4frHrUmjyrIjW+DX16wru15BcP0T1nwCbh52JxORMkAFV0Tkz0wTtsyCH/5trQ3ZoBd0+XfZLrZ/ZZqwZxksfhqOb4Ma7aH7ixDW0u5kIlJY+1fA4n9aEzdVjbb+DZf1YvtXR7bA0mdgz4/WkkXdXrBmiNcJORG5CBVcEZE/HN8B8x6CAyusWZC7v2StLeusCvJh42T46UXIPA7Nb7Wu6Go4oEjplXkCljwNm6da62B3edYaYWL3xFHFxTRh11JY8hSc2Al1boBeb51/aSIREVRwRUQgLxuWvwm/vQ0ePlbJa34ruLjanaxkZKdZwwFX/s8qtz1ese411lUSkdLD4YBNU2DpvyAnA659AK57tPysd12QB+s+gx9fhIIcayj2NfdrZngR+RsVXBEp3/avgLn3wak90HSwNczPL8TuVPY4HAvfPwCHNkDdztD7bahQ0+5UInJyD8y5Fw7+DjWvta5ghjS0O5U90g7Dwsdh21wIaQx9/gvhV3UcKyJOpigKrpOOiRERp5aXDYufgi96gVkAt34Lt3xSfsstQNUouP0H6PEqJKyGD6+x1vwtQycxRZyKaVpLk33UAY7FQ98P4Lb55bfcAgRUhSGTYeg3kJUMk7pak2zl59qdTESciK7gikjZcngzzB5vTbDUahx0ex48fO1OVbqkHIRv74YDv1kTbd38LvgF251KpPxIO2Rdtd2zzFrup+8HEFDN7lSlS3YaLH7SOhFXtRkM+ASCG9idSkRspiu4IlJ+OBzWfbafdLbO/I+YBb3fUrk9n6AaMPp7a9bS3Uvhw/awc7HdqUTKh23fw//aWct59XoTRs5WuT0frwCr+A+ZAqmJMPE6WD1Ro05E5Kqp4IpI6Zd5Er4ZZC3/07AXTFgJ9brYnap0c3GBa+6DO38Gv1D4ZjAsecaa7EVEil5+Dix8AqaNhIp14K7frPVfNeHbxTW6Ge5eCbU6Wvfnxgy3TmKKiFwhFVwRKd0OroKJHWHfr9bkLIO+0FI4lyO0Mdy+DFqNhd//C1/0htQku1OJOJdT++Cz7rD6I2g3AcYu0VI4l8M/FEbMsGaB37UEJl4PhzbanUpEyigVXBEpnRwO+O0d+PwmcPWwJlBqPU5XQ66Eu5c1q/KAT+FInHXCYPcyu1OJOIdt31uF7OReGPI19HgZ3DzsTlX2GAa0uxvGLAJHAUzqZk3SpSHLInKZVHBFpPTJSYfpt8IPz0Kj3jD+F2sSErk6UYOsIcu+ITDlFvj5VetEgohcPkcB/PAfa0hypbpw16/W55VcneqtYfyvUPs6mP8IzL4Dck/bnUpEyhAVXBEpXU7thU+7wo6F0P1lGPQleAXancp5BNeHO36EqCHw80sw8zbIzbQ7lUjZkp0KU4fBb29Bi9EwdhFUqGV3KufhWwmGz4Abn4a4mdbw79REu1OJSBmhgisipceen+DjTpB+GEbOgvYTNCS5OHj4QP+PrFmWt30Pk7pbSwuJyKUd3wmf3GgtAdTrTWsZLjdPu1M5HxcXuO4xGD7Nusf54xvg4Gq7U4lIGaCCKyL2M01Y9aE1bNa/Ktz5E9TtZHcq52YY1izLw2dY5fbjTnBgpd2pREq3nUvg086QlQKj5mqW5JJQvzvcsQw8/eGLXrBhst2JRKSUU8EVEXsV5MO8h2DRP6BBT7h9qbXEhpSMel2sg0fvIPjyZtjwld2JREqn1R/D1CHWUOQ7f4Za19qdqPwIbmDNBl/rWph7Lyz6p3UPtIjIeajgioh9ctKtA8b1n8O1D8LgydZZeilZletZB4+1r4O598Gy5zRzqcgfHAWw6ElY+BjU627dbxtU3e5U5Y9PRRgxC9reBas+gOmjIC/L7lQiUgqp4IqIPdIOwWc9rftub34Xuv7HuudK7OEdBMOnQ8vbYPmbMPtOyM+1O5WIvXJPW0Vq1f+sYjX0a/DwtTtV+eXqBj1ftdbL3T7fGnWSecLuVCJSyrjZHUBEyqEjW+DrQZCTBiOmQ0QXuxMJWAePvd+BwOrw4/OQcQSGTNEs1lI+ZRyDqUMhaYNVqNrdbXci+UO7uyGgmnUiblJXGDHTWqpJRARdwRWRkrbnR/ish/XrsYtUbksbw4DrHoX+E+HA79bflZbnkPLmxG5rMqmjW62rtiq3pU9kX2uir6wUq+QmrLU7kYiUEiq4IlJytsyCrwdDhZpw+w9QpandieRCmg21lmpKTbTWJT4SZ3cikZKRtAE+62YNTx4zHxr2sjuRXEiNttbPEs8A+LI3bJtndyIRKQVUcEWkZKz5BGaOg+ptYMwCCAyzO5FcSp0brKvsAJ/fBPtX2BpHpNjt/dm6r9PDF8YtgbCWdieSS6lUF8YthdAmMP1WLSMkIiq4IlLMTBN+ehkWPGotAzRylu7pLEtCG1tLN/lXgSkDYOdiuxOJFI/476y5AYJqwNgluqezLPELhtFzrZNyc++F39+zO5GI2EgFV0SKj8MBCx6DX16B6BHWMkDu3nankssVGA5jFkJwQ4gZDnEz7U4kUrTWToIZt0G1FtYIk4CqdieSy+XhC8NiILIfLHlay52JlGMquCJSPPJzYfbtsPYTuOY+6PuBNUuvlE2+lWH091C9Hcy6HdZ+ancikatnmvDLazD/YajXDW79Frwr2J1KrpSbJwz8DFqMtpY7m/eQtY6xiJQrOtoUkaKXlwXTboXdS6Hrc3DtA3YnkqLgFQAjZ8KMMTD/EchKho6PWjMvi5Q1pmld6Vv5PjQbBn3eA1d3u1PJ1XJxtdZW96kIv70N2anWrPBuHnYnE5ESooIrIkUrJ8NaO3L/b3Dzf6HlaLsTSVFy94Yhk2HOPfDjC9YSHd1eUMmVssXhsOYFWDcJ2twJPV4FFw1qcxqGAV3+DV5B8MOz1prrgyeDh4/dyUSkBKjgikjRyUqxJmlJWg8DPoGoQXYnkuLg6g79PrIOHle+Dznp0PsdFQQpGwryYe59sPkba3RJl//oBI2z6vCgNeR83oPWz6bh08DTz+5UIlLMVHBFpGhknoQp/eHoVhj0BUT2sTuRFCcXF+j5qnWwuPxNKMiDvu9bwwNFSquCPJh9B8R/Czf8E65/XOXW2bUcbU1ANftOayb4ETM0k7+Ik1PBFZGrl34UJveDU3th6DdQv5vdiaQkGAZ0/he4ecFPL0JBrnWvmyYTk9IoL9uaKXnnQmtY/TX32Z1ISkrTgdbIk5lj4at+cOtsTSYm4sQ0nkxErk5qEnxxEyQfgOHTVW7Lo+sft+532zITZo21rpKJlCa5mTB1iFVub3pD5bY8iuwLQ6bA0S3w5c3WqCMRcUoquCJy5U7tg897QMYxa3mNOtfbnUjs0uEh6P4SbJ0D00dBfo7diUQs2Wkw5RbY9yv0/R+0ucPuRGKXBj1h6FQ4sQu+7G397BIRp6OCKyJX5sQu+Pwma4Kh0XOhRlu7E4nd2t9jXR3bsQBiRljLRYnYKSsZvuoLiWvhlk+h+Qi7E4nd6nWxRhsl74cvekHaYbsTiUgRU8EVkct3dKtVbh15cNt8qNbc7kRSWrS5w1qDcvcP1nJRuaftTiTlVeZJayjq0S0w+CtocovdiaS0qHM9jJwFaYesW2xSE+1OJCJFSAVXRC7P4VhraJfhArctgNDGdieS0qblbdDvf9aQ0K8HWWsji5SkjGPW1bkTu6whqQ172Z1ISpua18Ct31knQj7vaV3RFRGnoIIrIoWXtMG6IuLmDWMWQHB9uxNJaRU93FoL+eBKa2mO7FS7E0l5kXbIGmGScmbiu3pd7E4kpVX11jB6jnWf9ue94OQeuxOJSBFQwRWRwklYY93L5hVoldtKde1OJKVd04Ew8DNIWm8tzZGVbHcicXYpB62rcelHYORsTXwnl1atOdw2D/KzrBMjx3fanUhErpIKrohc2v7frILiG2yV2wo17U4kZUXjftb9j0fi4Ms+WppDis+pvVZBOZ0Mo76Dmu3tTiRlRZWm1nwSpsO6J/foVrsTichVUMEVkYvb8xNMGQiB4Va5DQy3O5GUNQ17wbCpcHyHNcQ947jdicTZnNhlDTHNzbBmdQ9vZXciKWtCGsGYheDibt2/fSTO7kQicoVUcEXkwnYugW+GQMU61tlt/yp2J5Kyql5XGD7Nusr2ZW9IP2p3InEWx7ZZV24Lcs/M6h5tdyIpqypHwJj54O5jnYw7tMnuRCJyBVRwReT8ts+HmOEQ0tC6P8kv2O5EUtbV7QQjZkBKgtaflKJxONb6f8lwsUaYaFZ3uVoV61gl19MfvupjzSEgImWKCq6I/F38tzB9FFRtBqPmgk9FuxOJs6jd0Vp/Mv2w1p+Uq5O0/i+zujewO5E4iwq1rGXwvCtY808krLE7kYhcBhVcETlX7HSYORbCW8Ot34J3kN2JxNnUbG/9v5V54sxyLgftTiRlzcHVVvHQrO5SXIKqWyXXtzJM7g8HVtqdSEQKSQVXRP7fhskw+06oeS2MmAleAXYnEmdVvQ3c+h1kp1iTA53aZ3ciKSv2/2YVDs3qLsUtMMwquf5VrfW89y23O5GIFIIKrohY1k6Cufda90kOnw6efnYnEmcX3tIaAp+bbt1HeXKP3YmktNvzo2Z1l5IVUNWavCyoBnw9yFpZQERKNRVcEYFVH8L8h6F+Dxg6FTx87E4k5UW1aBj9PeRnW8OVT+yyO5GUVjsXwzdDreHImtVdSpJ/KIyeZ01ANXUo7P7B7kQichEquCLl3W/vwKJ/QKObYfBkcPeyO5GUN1WaWgePZoFVco9ttzuRlDbbvoeYEdZapaO/16zuUvL8gq3/9yrXg6nDrBMuIlIqqeCKlGe/vAY/PAtNboGBn4Obh92JpLwKjbSuyhmGNVz5aLzdiaS02DILpo+Gas1htGZ1Fxv5VrJuqwiJtE64bJ9vdyIROQ8VXJHyyDRh2fPw04vQbBgM+ARc3e1OJeVdcANrQhdXD/iit7XGqZRvm6bCrNuhRju4dbY1a7KInXwqwqg5UDXKWk5v6xy7E4nIX6jgipQ3pglLnoblb0CLUdD3f+DiancqEUvlCBgzH9x9rDVOE9fbnUjssv4L+O5uqH2dNau7p7/diUQs3kHWUmfVWsCMMdbyeiJSaqjgipQnDgcsfBxWvg9t7oTe74KLPgaklKlYxyq53kHwVR9rWRgpX1Z/DN8/APW6wrBpmvhOSh+vQGtUQc1rrOX11n1mdyIROUNHtiLlhcMB8x6ENR9D+3uh52sqt1J6VagFYxZZy8BMuQV2LrE7kZSU39+DhY9Bw94wZIomvpPSy9MfRsywTsTMewhW/NfuRCKCCq5I+eAogDn3wIYvoeMj0O0FazIfkdIsoKp1T25wA4gZDvHf2p1Iituvr1u3UDTuD4O+ADdPuxOJXJy7Nwz5GiL7wdJn4KeXrFuBRMQ2Krgizq4gD2bfAZu/gU5PQed/qdxK2eFbyVqaI6wlzBwLG6fYnUiKg2nCjy9YX1FDYcCnmvhOyg43Dxj4GTQfCb+8CoufUskVsZGb3QFEpBjl58KssdYakl3+DR0esjuRyOX74163aSOtkQi5mdB2vN2ppKiYJiz9F/z+X2viu97vaOI7KXtcXOHm98DDD1Z9ALnp+n9ZxCYquCLOKi8bZtwGOxdC95eh/QS7E4lcOQ9fGBZjXcVd+DjkpEHHRzUaoawzTVj4BKyZCK3v0NwAUra5uECPV6ySu/wNyD0N/T/SaASREqaCK+KMslKsexYPrIBeb0Lr2+1OJHL13Dxh0JfWVdwfX4DTydb95CpEZZOjwJqYZ8OX1sR3mhtAnIFhQOdnwNMPfvg3ZCXD4K+s34tIiVDBFXE2aYdgykA4sRNumQRNB9qdSKTouLpBvw/Bu4I1DDDjiPV7TUZUtuRlwazbYfs8uO4xa34AlVtxJh0eAp/K1nJXX/aG4TPAL9juVCLlggquiDM5vhOmDLCu4I6cCXVusDuRSNFzcYEeL4N/FfjhWcg8YS0n4xVgdzIpjNOnYOpQSFgDPV+HtnfanUikeLS4FXwrW7cLfdYNRs6GirXtTiXi9DSuS8RZJKy1foDm58CY+Sq34twMAzo8CP0+gv2/wRe9IP2o3ankUlIOwmfd4dAmaxkglVtxdg16wqi51omdSd3g8Ga7E4k4PRVcEWewczF8ebM1bHPcEqjazO5EIiUjehgMnwYnd8OkrnByj92J5EKObLEO8NOPwq3fQuN+dicSKRk12lo/m1094PNesPcXuxOJODUVXJGybu0kmDoMghvA2CUa/iTlT72uMHoe5GZYJTdhjd2J5K/2LYfPewIGjF0Eta61O5FIyQpuYJXcwHCYcgtsmmp3IhGnpYIrUlY5CmDRkzD/YYjoArfN0wQWUn6Ft7RO8HgGwBe9IXaG3YnkDxunwOT+EFANbl8KoZF2JxKxR2AYjF0INdvDd3fBsufB4bA7lYjTUcEVKYty0q1lgFb9D9pNgGFTwdPf7lQi9qocAXf8COGtYPbt8NPL1jqrYg9HASx52lrWqXZHGLvYunolUp55V7Amm2oxylord+YYa1ZxESkymkVZpKxJTYRvhsCxbVrjVuSvfCrCrd/BvAfhl1ese3P7fgDuXnYnK19y0mHWHbBzIbS+A3q8Yi3xJCLg6g43/xcq1YOl/4LUBBg6FfxD7U4m4hR0BVekLElcB5/caM1EOmK6yq3I+bh5WKW2y79hy0xrDcqMY3anKj9SDsJnPWDXErjpDej1hsqtyF8ZBlx7v7XE2bFt1s/2I3F2pxJxCiq4ImXF+i+sSVrcPK2JKiK62J1IpPQyDOjwEAyebM3eO/F6ayktKV4Hfj9zEi4BRsyANnfYnUikdGvUG8YsBLMAPu2q+QNEioAKrkhpl58Dc++D7x+AWh3gzl8gpJHdqUTKhsg+1sRGru7WCaK1k3RfbnEwTfj9fWuCL69A6888orPdqUTKhmrR1s/2as2t+QMW/gMK8uxOJVJmqeCKlGapidZB+YavoOMjMGKmdY+hiBRelaZw589Q5wZr1vE592pSl6KUkw4zboMlT0GDnnDHT9aSKCJSeP6hMHoutL0bVn8IX/XVrRUiV0gFV6S02r3MGlZ5fKd1j07nf4GLq92pRMomn4owfDpc/wRsmgKfdYdT++xOVfYd32ENSd42F7o+Z31WeQXYnUqkbHJ1h56vQP+PIWmDdQxw4He7U4mUOSq4IqVNfi4seQamDADfytayJ41utjuVSNnn4gKd/gnDYuDUfvioI8TNtDtV2WSasGEyfNwJTp+CUXPg2gese59F5Oo0G2IN83f3gi96wc+vWMtuiUihqOCKlCYn98Bn3eD3/0KrsWeG+tW3O5WIc2nQE+7+DUIjYdY4+G4C5GTYnarsyEq21u6cey+EtYC7lkPt6+xOJeJcqjSF8b9C00Hw88vwZR9ITbI7lUiZUKiCaxhGD8MwdhiGsdswjH+c53lPwzCmnXl+tWEYtf703JNnHt9hGEb3v7zO1TCMjYZhzLvqdyJSlpkmbJ4GE6+DU3utmV97vw0ePnYnE3FOQTXgtgVw3eOw6Rvr317SertTlX4HfreufG/7Hjo/a125DahmdyoR5+TpDwM+hn4fwaGN8NG1EP+d3alESr1LFlzDMFyBD4CeQCQwzDCMyL9sNg5INk0zAngbePXMayOBoUBjoAfwvzP7+8MDwLarfRMiZVr6UZg2Er690zpje9cKa+ZXESlerm5w41Nw2zzIz7aW6PjhP9bM5XKu3NOw+ClruKSLG4xdAh0f1rwAIiUheph1NTeoJswYDTPGQOZJu1OJlFqFuYLbBthtmuZe0zRzgRig71+26Qt8eebXM4HOhmEYZx6PMU0zxzTNfcDuM/vDMIxwoBfw6dW/DZEyyDRhcwx80AZ2LbUmaBk9D4Kq251MpHyp1QHu/t06iPztLV3N/av9K6wrRyvfhxajrSHJ4S3tTiVSvlSOgNt/gBuftkZQ/K+t9V8R+ZvCFNwwIOFPv08889h5tzFNMx9IBSpd4rXvAI8Djot9c8Mw7jQMY51hGOuOHz9eiLgiZUDKQZg6FL4dby2ncfcKa4IWVze7k4mUT95B0PcDaymu7DT4tAssedpaAqe8yk6D+Y/CFzeB6YDR38PN71jDJkWk5Lm6w3WPWcue+Ve1Rn9NH6V7c0X+wpZJpgzD6A0cM03zkqfITdP82DTNVqZptgoODi6BdCLFKC8bfnkN3m8N+36F7i/DmIVQuZ7dyUQEoF5XuGcVNB8Jv79n/VuNm2mNuCgvHA7rvuT3WsLaT6HdBOsKtyaSEikdqjSxVli48WnYudj6nFrxrrUKg4gUquAmAX8eMxl+5rHzbmMYhhsQCJy8yGuvBfoYhrEfa8jzjYZhTLmC/CJlg2nCjoXWkKKfXoT6PeCeNdB+gu5hEyltvAKhz3sw7gfwC7FmWv7yZjhWDqaMOLTRmsn9u7utibju+BF6vAwevnYnE5E/++Nq7j2roc71sPRf8FEH2Puz3clEbGeYlzgrfaaw7gQ6Y5XTtcBw0zTj/7TNPUBT0zTvMgxjKDDANM3BhmE0Br7Buu+2GrAMqGeaZsGfXnsD8Khpmr0vFbZVq1bmunXrLu8ditgtcR388G/YvxwqN4CbXoM6N9idSkQKw1EA6z+HZc9DThpED4cbnoTAcLuTFa3k/dZam5tjwDcYuv4HooZaaweLSOm3YxEsfBxSDkDdG6HLv6FqM7tTiVw2wzDWm6bZ6mr2cckb/kzTzDcM415gMeAKfGaaZrxhGM8B60zTnAtMAiYbhrEbOIU1czJntpsObAXygXv+XG5FnNqxbfDjC7B9HvhUhh6vQKtx4OZhdzIRKSwXV2h9O0T2h+VvwtpPIHYGtLkDrn0Q/Mr4rTNph+HX12HDV9Z7veY+uO5R6yq2iJQdDXpYJ8/XfgrL37Amy2syEK5/AoLr251OpERd8gpuaaIruFImHFwNK96BHQvAM8A6YGx3tyZmEXEGKQfhp5dh81Rw84Tmt1r/xivUtDvZ5TmxG1a+B5umgllgzY583WMQUNXuZCJytbJSrHtyV31oLYEW2Qc6PAzVou1OJnJJRXEFVwVXpCjk51qFdtWHkLAKvCtAm/HQdjz4VLQ7nYgUteM74fd3YfM0a4bhJgOsERo12oFh2J3u/EwTDvwOqz+EbfPA1cNaGunaB6FibbvTiUhRyzhu/Xtf8ynkpFpXeFvfDvV7atUGKbVUcEXsdnKPNbRv09eQeRwCa0D7e6DFrZqURaQ8SE2ClR/AxsnWPbrBjaDlbRA1uPSc3Mo4Zl1x3vAVnNwNXkHWQW7b8dYkWiLi3LJTYe0ka/hyWpK1xFCL0dBsqE5uSamjgitih5N7YOt3sHUOHN4Mhqs1K3LL2yCis2ZFFimPcjNhyyxY9zkc2mB9LtS5Hhr3h4a9S77sph+17v/fNhf2LbeGIddoDy1GQWQ/8PAp2TwiYr+CfNi1BNZNgt3LABOqtbBGoET2tWZOF7GZCq5IScg8ac2AvO9X6+vkLuvxsFbWfS1NB+u+NRH5f4djrbK79TtrdmLDBao1h9rXW0MEw1sXfcHMSbfu/9+/3PpK2gCYULGu9TnVbBgENyja7ykiZVfKQYj/1vqsOrzZeqxSPajbCep0sm63KC2jUKRcUcEVKSoFeZB+GNIOQWoinNgJR7bAkThIPWht4+EHNa+xPvgb3QxB1S++TxEp30zTOnDcPh/2/WItGWYWWIW3cn2oEgVVmkCFWtayQ4HVrSV6LnQPb0E+ZB6zZj5OPwTHd8DReOvr5G5r3y7uEN7K+pyK7APBDUvvPcEiUjqc3AM7FsLen2D/CsjPsh4PqmEtNVQlCirUtn4fVB18Q3QPrxQbFVyRKxX/nbUoet5pyD0NeZnnPm+4WGcyqzSBKk2h5rXWFRhXd1viiogTyE6zJnlKWg9HYq0TaGlJf9nIAHcf6wqvuzc4HNYsqPk51ueU6Th386AaENrE+qp5DVRvo/v/ReTK5edAwhrrc+rwJusk3am9f9/Ozcs68e/hC73egnpdSjyqOKcSWQdXxCn5BlvDb9x9rA9nT39r0oXAMAgIg6CaukdNRIqWV4C1VmWDHv//WFYypCRYI0dSE63J6vJOW/f05mWBi5u1HJGbl/VZ5V8FAqpZ/61Y19qniEhRcfOE2h2trz/kZlqfTykHIeWAdetWbrr1eE6GhjJLqaMruCIiIiIiImK7oriC61JUYURERERERETspIIrIiIiIiIiTkEFV0RERERERJyCCq6IiIiIiIg4BRVcERERERERcQoquCIiIiIiIuIUVHBFRERERETEKajgioiIiIiIiFNQwRURERERERGnoIIrIiIiIiIiTkEFV0RERERERJyCCq6IiIiIiIg4BRVcERERERERcQoquCIiIiIiIuIUVHBFRERERETEKajgioiIiIiIiFNQwRURERERERGnoIIrIiIiIiIiTkEFV0RERERERJyCCq6IiIiIiIg4BRVcERERERERcQoquCIiIiIiIuIUVHBFRERERETEKajgioiIiIiIiFNQwRURERERERGnoIIrIiIiIiIiTkEFV0RERERERJyCCq6IiIiIiIg4BRVcERERERERcQoquCIiIiIiIuIUVHBFRERERETEKajgioiIiIiIiFNQwRURERERERGnoIIrIiIiIiIiTkEFV0RERERERJyCm90BREREnE12fjYnsk5wIusEablppOWmkZ6bTkZuBum56aTlppGZl0luQS45jhzyCvLILcgl15FLbkEupmliGAYuhgsGZ/5rGLgarni6euLl5oW3mzfebt54uVq/9vXwJcgziECPQOu/XtZ/K3hWwMfdx+4/EhERkRKhgisiInIZcgpyOJxxmKSMJJIykkjMSORI5pGzhfbE6ROk56Vf8PWerp74e/jj6+6Lh6sHHi4eeLp64unmib+LPx6uHrgYLpimicN04MABJjhwUOAoILsgm+TsZA7nHya7IJus/KyzXxfi6+5LiE8IoT6hZ/8b6hNKVb+q1PCvQZhfGO6u7sXxxyUiIlKiVHBFRET+wjRNjmQeYW/qXvam7mVPyh72pe4jMT2RY1nHztnWzcWNKj5VCPYJJiIognZV2xHsHUxl78pU8q5EBc8K+Hv44+fhh7+HP56unsWSOc+RR1pOGqk5qaTkpJCSk0JqTiqnsk9xPOs4x04f42jmUVYfXs2JrBMUmAVnX+tiuFDV1yq7NQJqUN2/OnWD6hIRFEGoTyiGYRRLZhERkaKmgisiIuXa6bzT7EzeydaTW9l+ajs7k3eyL3Ufp/NPn90myDOIOoF1aF+tPWF+YYT5h1n/9QsjxCcEF8P+KS3cXdyp5F2JSt6VLrltgaOAk9knOZRxiIT0BA6mH+Rg2kES0hNYtH8RqTmpZ7f1d/cnokIE9YLqEVEhgvoV6tOoYiMNexYRkVLJME3T7gyF1qpVK3PdunV2xxARkTIqKz+LLSe2EH8inm2ntrHt1Db2p+7HxPpZWNGrIvUr1KduUF3qBNahdmBt6gbVpaJXRZuTl6yU7BT2pO5hd/JudqXsYlfyLnal7CI91xp6bWBQJ7AOjSs3pnGlxjSp3IQGFRsU29VpEREpHwzDWG+aZqur2ocKroiIOKujmUfZeHwjm49tZtOxTWw/tZ18Mx+AKr5VaFixIZEVI2lUqRENKzbUcNyLME2T41nH2X5qO/En4tlycgtbTmzhVPYpANwMN+pVqEeL0Ba0CGlBi9AWVPaubHNqEREpS1RwRURE/iQpI4nVh1ez+vBqNh7byOHMwwB4uXrRpHITokOiaR7SnCaVm5S7q7LFwTRNjp4+erbwxh6PJfZ4LNkF2QDUDKh5tuy2DG1JuF+4TiCIiMgFqeCKiEi5diLrBGsOr2HNkTWsOryKpIwkACp5VaJlaEuahzQnOiSaBhUb4O6iWYJLQl5BHltPbWXD0Q3W17ENpOWmARDmF0a7qu24pto1tK3alkDPQJvTiohIaaKCKyIi5UqeI49NxzaxPGk5yxOXsztlNwD+Hv60Dm1Nm6ptaFe1HXUC6+hKYSnhMB3sSdnD2iNrWXV4FWuPrCUjLwMDg8aVGtO+WnvaV2tPdEi0TkKIiJRzKrgiIuL0TmSdYEXSCn5N/JWVh1aSnpeOm4sbLUNa0r5ae9pVbUfDig1xdXG1O6oUQp4jjy0ntrDy0EpWHlpJ3Ik4CswC/N396RDWgeurX0+HsA66uisiUg6p4IqIiFPal7qPZQeXsezAMrac3AJAsHcwHcM7cl3YdbSt2hY/Dz+bU0pRSM9NZ83hNfyS+Au/JP7CqexTuBqutAhtwfXh19OpeidqBNSwO6aIiJQAFVwREXEKpmmyI3kHSw8sZdmBZexJ3QNAVOUorq9+PR3DOtKwYkMNO3ZyDtNB3Ik4fkn4hZ8Tf2ZX8i4A6gTWoUvNLnSr2Y36Ferr/wMRESelgisiImWWaZrEnohl6f6l/HDwB5IyknAxXGgV2orONTpzY40bqeJbxe6YYqOkjCR+TviZHw/+yLqj63CYDmoF1KJrza50r9VdZVdExMmo4IqISJmzK3kXC/YtYOG+hSRlJOHm4kb7qu3pUrMLN1S/Qcv3yHmdzDrJsoPLWLJ/CWuPrj2n7Pao3YP6FerbHVFERK6SCq6IiJQJSRlJLNy3kAX7FrAreReuhivtqrbjpjo30al6J/w9/O2OKGXI2bJ7YAlrj1hlt36F+vSu05ubat9EqG+o3RFFROQKqOCKiEiplZqTyqJ9i5i3dx6bjm8CoHlIc3rW7km3mt2o5F3J3oDiFE5mnWTJgSXM2zOP2BOxGBi0rdqWm+veTJcaXfBx97E7ooiIFJIKroiIlCoFjgJWHV7Fd7u/48eDP5LryCUiKIJedXrRs3ZPwvzC7I4oTmx/6n7m75vP93u+JykjCW83b26scSM317mZdlXbaSkpEZFSTgVXRERKhQNpB5izew5z98zl6OmjBHoG0qt2L/pF9KNRpUZ2x5NyxjRNNh3fxPd7vmfx/sWk5aYR6hNK/3r96R/Rn2p+1eyOKCIi56GCKyIitjmdd5rF+xfz3e7v2HBsAy6GC9dWu5Z+Ef24ofoNeLh62B1RhNyCXH5O+JnZu2fze9LvALSv1p5b6t1Cp+qdcHd1tzegiIicpYIrIiIlblfyLmbsnMG8PfNIz0unVkAt+kX04+a6NxPiE2J3PJELOpxxmO92f8fs3bM5knmECp4V6FO3DwPqDaBOUB2744mIlHsquCIiUiJyCnJYemApM3bMYMOxDbi7uNOtVjcG1R9Ei5AWWotUypQ/7hWftWsWPx38iXwzn+YhzRnSYAjdanbTVV0REZuo4IqISLE6kHaAmTtn8t3u70jJSaGGfw0GNxhMn7p9qOBVwe54IlftZNZJvt/zPTN3zeRA2gEqelXklnq3MLjBYKr4VrE7nohIuaKCKyIiRa7AUcDypOV8ve1rVh1ehZvhRqcanRjcYDBtqrTBxXCxO6JIkXOYDlYdWsXUHVP5NfFXDAw6Ve/E0IZDaVOljUYpiIiUABVcEREpMum56Xy761umbp9KYkYioT6hDKo/iAH1BhDsE2x3PJESk5SRxPQd05m9azYpOSnUCazDkAZD6FO3D34efnbHExFxWiq4IiJy1fal7uObbd8wZ88csvKzaBHSguGNhtO5RmfcXNzsjidim5yCHBbvX0zM9hjiTsTh4+ZDn7p9GBk5kpoBNe2OJyLidFRwRUTkijhMByuSVvD19q9ZkbQCdxd3etbuyfBGw2lcqbHd8URKnfgT8Xyz/RsW7ltIviOf66tfz6jIUbQKbaXhyyIiRUQFV0RELktWfhZzd89lyrYp7E/bT2XvygxpMIRB9QdRybuS3fFESr0TWSeI2R7D9B3TSc5JplHFRtwaeSs9avXQ7MsiIldJBVdERArlZNZJYnbEELM9hpScFJpUasLIyJFaEkXkCmXnZzNv7zwmb53M3tS9hHiHMKzRMAbVH0SgZ6Dd8UREyiQVXBERuaj9qfv5autXzN0zl5yCHG6ofgNjGo+heUhzDasUKQIO08Hvh37nq/ivWHl4Jd5u3tZ9uo1GUiuwlt3xRETKFBVcERH5G9M02XhsI1/Ef8HPCT/j7uJOn4g+jIocRe3A2nbHE3FaO5N3MmXrFObtnUe+I59O1TsxtulYmgU3szuaiEiZoIIrIiJnFTgK+DHhR76I/4LY47EEeQYxtOFQhjYYqvtrRUrQH/fpxuyIITUnlVahrRjbZCwdwjpo5ISIyEWo4IqICDkFOczZPYcv4r8gIT2B6v7VGRU5ir4RffF287Y7nki5dTrvNLN2zeLL+C85evoo9SvUZ2yTsXSv1V1LcImInIcKrohIOZaZl8n0HdP5autXnMg6QdPKTRnTZAw3Vr8RVxdXu+OJyBl5BXks2LeAz7Z8xt7UvYT5hTEqchT96/XXSSgRkT9RwRURKYeSs5P5etvXTN0+lbTcNNpVbcftTW+nTZU2Gv4oUoo5TAe/JPzCpC2T2Hx8MxU8KzCi0QiGNhyqmZdFRFDBFREpV45kHuHL+C+ZtWsWWflZdK7Rmdub3k6Tyk3sjiYil8E0TTYc28BnWz7j18Rf8XbzZmD9gYyKHEUV3yp2xxMRsY0KrohIObA/dT+fx3/O3D1zMU2TXnV6MbbJWOoG1bU7mohcpR2ndvB5/Ocs2rcIwzDoF9GPcU3GEe4fbnc0EZESp4IrIuLEtp3cxqdxn7L0wFI8XD3oH9Gf25rcRphfmN3RRKSIJWUk8fmWz5m9azYO00HvOr25I+oOagbUtDuaiEiJUcEVEXFCm45tYmLsRH5L+g0/dz+GNBjCyMiRVPaubHc0ESlmRzOP8nn858zcOZM8Rx49avXgzqg7NWJDRMoFFVwRESey9shaJsZOZPXh1QR5BnFr5K0MbTiUAI8Au6OJSAk7kXWCL+O/ZNqOaWTnZ9OlZhfGR42nQcUGdkcTESk2KrgiImWcaZqsOryKibETWX90PZW8KnFb49sY3GAwPu4+dscTEZslZyczeetkvtn+DZl5mdxQ/QbuirqLxpUb2x1NRKTIqeCKiJRRpmnyW9JvfBT7EbHHYwnxDmFs07HcUu8WvNy87I4nIqVMak4q32z7hsnbJpOem06HsA6MjxpPdEi03dFERIpMiRVcwzB6AO8CrsCnpmm+8pfnPYGvgJbASWCIaZr7zzz3JDAOKADuN01zsWEY1c9sHwqYwMemab57qRwquCJS1pmmyU8JP/Fx7MfEn4ynqm9VxjUZR796/fB09bQ7noiUchm5GcTsiOGr+K9IzkmmbdW2jI8aT+sqre2OJiJy1Uqk4BqG4QrsBLoCicBaYJhpmlv/tM0EIMo0zbsMwxgK9DdNc4hhGJHAVKANUA34AagPhABVTdPcYBiGP7Ae6PfnfZ6PCq6IlFUO08HSA0v5OPZjdibvJNwvnDui7uDmOjfj7upudzwRKWNO551mxs4ZfL7lc05mn6RFSAvGNxtP+6rtMQzD7ngiIlekKAquWyG2aQPsNk1z75lvGgP0Bf5cRvsC/z7z65nA+4b16doXiDFNMwfYZxjGbqCNaZorgcMApmmmG4axDQj7yz5FRMq8AkcBi/Yv4pPYT9iTuodaAbV4qcNL9KzdEzeXwnwEi4j8nY+7D6Mbj2ZIgyHM2jWLz7Z8xvil44mqHMX4ZuPpGNZRRVdEyqXCHF2FAQl/+n0i0PZC25immW8YRipQ6czjq/7y2nMWcDQMoxbQHFh9OcFFREqz/2vvXoOiuvd0jz//psHmIipXRUCIQUBETTQ3zUVNNNFcNLq1NIkm0Rh3zZ4X+81U7XOmamZqpk7VqV119jkzU3PxlovuaJxEjY65bS8xcTR7J5qoCIooioiCIsodbLr/50W3DpMR46VlQfP9VK1qWL3AJ1W/6qyH/q/VXr9Xn5Z/qlVFq1TRUKH7B96v3z75W00bNk0Rrgin4wEIEx63R6/mv6q5I+bqkxOfaHXRav1q56+Un5CvZaOXaXLmZLmMy+mYANBtHH37wBgTJ2mjpF9baxu6OOZtSW9LUmZmZjemA4Db5/V5teXkFq0qWqWqpirlJeTpd5N+p6czn+YkE8A9ExURpXm58/RyzsvadnKbVhat1K93/1o5g3L09ui3NTVzKn9cA9An3ErBrZKU0en79OC+Gx1z1hjjljRAgZtNdfmzxphIBcrtB9baTV3949baFZJWSIFrcG8hLwB0u3ZfuzaVbdI7R95RdXO1RiWO0m8e/o2eSn+KZYIAuk2kK1Iv57ysF4e/qM9Pfa6VRSv1F1//hbIHZGtp4VIujwAQ9m7lJlNuBW4y9bQC5fR7Sa9Ya4s7HfMrSYWdbjI121o7zxhTIGmd/vMmUzsl5UjyS3pfUp219te3GpabTAHoaVo7WvVR6Ud6r/g9XWy9qLHJY7VszDJNTJtIsQXgOJ/fp+1ntmv5oeU6ceWEMvpnaGnhUr0w/AVFurjBHYCepTs/JmiGpP+nwMcEvWOt/V/GmL+VtN9au9UY45G0VoFraeskze90U6q/lLRYUocCS5E/N8Y8LmmPpCIFyq4k/U9r7Wc3y0HBBdBTNHub9eGxD7WmZI3q2ur00OCH9MvRv9RDgx+i2ALocfzWr6/OfKXlh5fraN1RpcWmaUnhEs26f5aiIqKcjgcAkrqx4PYUFFwATmu42qB1R9fp90d/r/r2ek1Im6Blo5fpwdQHnY4GAD/LWqs9VXu0/NByHa49rJSYFC0etVhzcubI4/Y4HQ9AH0fBBYBuUt9er7Ula7Xu6Do1ehv1VPpTWjZ6mQqTC52OBgC3zVqrb89/q+WHluuHCz8o0ZOoNwre0LzceYqJjHE6HoA+ioILAPfYpdZLWlOyRh8e+1AtHS16JvMZvT36beUn5jsdDQBC4vvq77X88HL96fyfNLDfQC0auUgL8hYoLirO6WgA+hgKLgDcIxdbLurd4nf1UelHave167ms57R09FLlDMpxOhoA3BMHLxzUisMrtKdqj/pH9ddr+a/p1fxXNaDfAKejAegjKLgAEGLVzdVaXbRam8o2yWd9ev6+5/VW4VvKHpDtdDQA6BbFl4q14tAK7arcpdjIWM3Pna9FBYuU4ElwOhqAMEfBBYAQOdt4VquKVmnLyS2SpJnDZ2rJqCXKiM/4mZ8EgPBUWleqlUUr9YfTf5DH7dHcEXP1RsEbSo5JdjoagDBFwQWAu1TRUKGVh1dqW/k2uYxLs3Nma8moJRoSN8TpaADQI5TXl2vV4VX67NRnijARmjNijhaPWqzBsYOdjgYgzFBwAeAOnbxyUisOr9AXp79QlCtKvxjxC7056k2lxKQ4HQ0AeqTKhkqtOrJKW09slUxgpctbhW8pvX+609EAhAkKLgDcptK6Ui0/vFw7KnbI4/Zoft58LRq5SEnRSU5HA4Be4VzTOb1z5B1tKtskv/Xr+fue19LCpcoakOV0NAC9HAUXAG7RkdojWn54uXZX7lZcZJxeyX9FC/MXaqBnoNPRAKBXutByQe8eeVcfH/9Y7b52TR02VUsKl2hk4kinowHopSi4AHAT1lr98fwftfrIav3p/J8UHxWv10YGPvYiPire6XgAEBZqW2v1wdEP9OGxD9XkbdKEtAl6q/AtjU8dL2OM0/EA9CIUXAC4AZ/fp51ndmr1kdUquVSilOgULRy5UHNz5yo2MtbpeAAQlhqvNmpD6QatLVmrurY6jU4arSWFSzQpY5JcxuV0PAC9AAUXADq56ruqrSe36r3i91TRUKGs+Cy9OepNvXDfC4qKiHI6HgD0CW0dbdpyYoveLX5XVU1VGj5guBYXLtb07OmKdEU6HQ9AD0bBBQBJTVeb9NHxj7S2ZK0utl5UQWKBlhQu0ZSMKYpwRTgdDwD6pA5/h748/aVWH1mtsstlGhI7RK8XvK7ZObMV7Y52Oh6AHoiCC6BPu3bd14ZjG9TobdRjQx7T4sLFemTwI1z3BQA9hLVWe6r2aFXRKv144UcN6jdIr+a/qvl58zWg3wCn4wHoQSi4APqkMw1ntKZkjTaXbZbX79XUYVO1uHCxChILnI4GALiJH2p+0KqiVdpTtUfR7mjNun+WFuYvVEZ8htPRAPQAFFwAfYa1Vj9c+EFritfoq8qv5Ha59dLwl/RGwRt89iIA9DKldaVaU7JGn536TH7r19OZT2vRyEUamzLW6WgAHETBBRD2vH6vtp/erjUla1R8qVgD+w3UvNx5WpC3QEnRSU7HAwDchQstF7T+2HptKN2gxquNGpM8Rq8XvM49FIA+ioILIGw1XG3QxuMb9cHRD1TTUqOs+CwtHLlQLw5/kZuTAECYafG2aPOJzVpbslZVTVVKj0vXayNf08v3v6yYyBin4wHoJhRcAGGnsrFSHxz9QJvKNqm1o1UPD35Yrxe8rseHPs7nKAJAmPP5fdpVuUvvF7+vQxcPKT4qXnNHzNX8vPkaHDvY6XgA7jEKLoCwYK3V/pr9Wnd0nXZV7pJLLk3Pnq6FIxcqPzHf6XgAAAccvHBQa0rWaOeZnTIympI5Ra/kvaJxqeO4Uz4QpkJRcN2hCgMAt6vF26Jt5du0/th6nbhyQvFR8Xqz4E0tyFug1NhUp+MBABw0NmWsxqaMVVVTlTYc26CNZRu1vWK7cgfl6pX8VzQje4Y8bo/TMQH0MLyDC6Dbnao/pQ2lG7TlxBY1eZuUn5CvBXkLND17OicrAIAbau1o1afln2rdsXUqu1ymAf0GaHbObM3Pna+0uDSn4wEIAZYoA+g1fH6f9lTt0fpj67Xv3D65XW5NGzZNC/IWaEzyGJabAQBuybXLWtYfW69dZ3bJympS+iTNz5uvR4Y8wv0agF6Mggugx6ttrdUnJz7Rx8c/VlVTlVJiUjRvxDzNGTGHj/kBANyV6uZqbSjdoI3HN+py+2Vl9s/UnBFzNHP4TCVGJzodD8BtouAC6JF8fp/2nturjcc36uuzX8tnfRqfOl4L8hZocuZkRboinY4IAAgj7b52ba/Yro+Pf6wDNQfkdrk1JWOKfjHiF7yrC/QiFFwAPcr5pvPafGKzNp/YrOrmaiV4EjRz+EzNzpmtrAFZTscDAPQB5fXl2nh8o7ac3KL69nqlx6Vrzog5mnX/LFYOAT0cBReA47x+r76p/EYfl32svVV7JUmPpT2mOTlzNDljsiIjeLcWAND92n3t2lGxQx8d/yjwrq5xa1LGJL00/CU9nv44q4mAHoiCC8AR1lqVXCrR1pNb9cXpL1TXVqeU6BTNypml2TmzNTRuqNMRAQC47tq7utvKt6murU4JngTNyJ6hmffPVF5CntPxAARRcAF0q+rmam0r36Z/P/nvKq8vV5Qr6vpfwycOnSi3i4/WBgD0XF6/V3ur9mrrya3aXblbXr9XIwaN0EvDX9Lz9z3PEmbAYRRcAPdcs7dZ2yu2a9vJbfqu+jtZWT2Y8qBeHP6ipmVNU3xUvNMRAQC4bfXt9fr81OfaenKrimqLFGEiNCFtgmbcN0OTMyYrNjLW6YhAn0PBBXBPtHhb9M3Zb/Tl6S+1p2qP2n3tyuyfqReGv6AX7ntBGf0znI4IAEDIlF8p15aTW/Rp+aeqaalRv4h+ejL9ST2X9ZyeTH9SHrfH6YhAn0DBBRAyLd4W7anaEyi1Z/eozdempOgkTRs2TdOzp2tM8hgZY5yOCQDAPeO3fh26eEifn/pcX57+UnVtdYpxx2hy5mRNz5quCWkTuHkicA9RcAHclaarTdp7bq92VOzQ12e/VmtHqxI9iZo6bKqezXpWD6Q8oAhXhNMxAQDodh3+Du2v2a8vTn2h7RXb1XC1QXGRcXoi/QlNyZyiJ4Y+wTJmIMQouABuW3VztXZX7tZXlV/pu+rv1OHvUIInQc9kPqNns57VuNRxlFoAADrx+rz69vy32lGxQ7srd+ty+2VFuiL16JBHNSVziiZlTOIGVUAIUHAB/CxrrY7VHdNXlV9pd+VuHa07KkkaFj9MkzMma3LGZI1JHkOpBQDgFvj8Ph28eFC7zuzSzjM7VdVUJSOjMclj9FTGU5qYNlG5CblyGZfTUYFeh4IL4IZqW2v17blvA9v5b1XbWisjowdSHtCkjEmalDFJ2QOynY4JAECvZq1V2ZUy7TqzS7vO7Lr+R+RET6ImDp2ox4c+rseGPKaBnoHOBgV6CQouAElSW0ebDl48qH1V+7Tv3D6VXi6VJA3qN0iPpj2qiWkT9UT6E0rwJDicFACA8FXbWqu9VXu1t2qv9p3fp/r2ehkZFSYV6tG0R/Xw4Ic1JnkMd2UGukDBBfqoZm+zDl44qAM1B3Sg5oCKaovk9Xvldrn1QMoDmpA2QRPSJigvIY8lUgAAOMDn96n4UrH+o+o/tLdqr45cOiK/9SvSFanCpEI9NPghPTz4YY1OHk3hBYIouEAfYK1VTUuNimuL9eOFH3Wg5oCO1h2Vz/oUYSJUkFigcanjNH7weI1PHa+YyBinIwMAgJ9outqkHy78oP3V+/V99fcqqSv5L4V3dPLowJY0WqmxqU7HBRxBwQXCUH17vYovFau4tlhFtUU6UntEF1svSpKiXFEqTC7UuNRxGpc6TmOTx1JoAQDohRqvNurHCz/qu/Pf6eDFgyq5VCKv3ytJSolJ0ZjkMRqdNFqjkkYpNyFX/aP6O5wYuPcouEAv5vP7VNlYqeOXj6vsSpnKLpfp+OXjqmysvH5MVnyWRiWNur7lJeSpX0Q/B1MDAIB74arvqkrrSnW49rAOXTykwxcPq6qp6vrzQ+OGKi8hT7mDcpWbkKu8hDwNiR0iY4yDqYHQouACvUB9e73ONJxRRWNF4LGhQqcbTqv8SrnafG2SJJdxKbN/pnIG5Sg/IV+jkkapIKlA8VHxDqcHAABOqW2tVcmlEpXWlar0cqlK60pV0VAhq8D5e7Q7WlnxWcoakKXsAdnKjs9W1oAsDYsfpmh3tMPpgdtHwQUc5vV7Vddap+qWalU3B7aalprAY3ONKhsrdbn98vXjjYyGxA7RsPhhyhmUc30bPmA4N5gAAAA/q8XborIrZSqtK9Wp+lM6VX9KpxtO61zTuevFV5ISPAkaEjtEaXFp/+UxNSZVCZ4EJUQnsCoMPQ4FF7hD9e31Otd0Tj7rU4e/Qz7rk8/v01X/VbV4W9Ta0aqWjuCjt0UtHS2qb6/XlfYrutJ2RZfbL+tK2xU1ehv/2++OdkcrNSZVqbGpSo9L17D4Yde39P7p/M8EAACEXFtH2/VVYhUNFTrXdE7nm8/rXNM5VTdXX1811llcZJwSoxMDhdeToLjIOMVFxSnGHaO4qDjFRcYpNjJWngiPIiMi5TZuuV2BLdIVKbfLraH9h7LiDCETioLrDlUYoDfZdWaX/mrfX93y8dHuaA3sN1AD+w3UIM8gpfdP1yDPIA3sN1AJngQNjh2s1JhUDY4drPioeK6HAQAA3crj9ig3IXB97k9Za1XXVqfzzed1seWi6trqdKntUuCxNfBY0VChJm+Tmr3NavY2y2/9t/Tv/m7S7zR12NRQ/+cAd4yCiz7pkSGP6O8n/73cLrciTIQiXBGKMBGKdEUqJjJG0e5oxbgDjx63h8+SBQAAvZYxRonRiUqMTryl4621au1oVbO3WY3eRrV3tKvD36EO26EOf4e8fu/1x8KkwnucHrg9FFz0SWlxaUqLS3M6BgAAQI9jjFFMZIxiImOUrGSn4wC3hbelAAAAAABhgYILAAAAAAgLFFwAAAAAQFig4AIAAAAAwgIFFwAAAAAQFii4AAAAAICwQMEFAAAAAIQFCi4AAAAAICxQcAEAAAAAYYGCCwAAAAAICxRcAAAAAEBYoOACAAAAAMICBRcAAAAAEBYouAAAAACAsEDBBQAAAACEBQouAAAAACAsUHABAAAAAGGBggsAAAAACAsUXAAAAABAWKDgAgAAAADCgrHWOp3hlhljGiWVOp0DYSNJUq3TIRBWmCmEGjOFUGOmEGrMFEIp11rb/25+gTtUSbpJqbV2vNMhEB6MMfuZJ4QSM4VQY6YQaswUQo2ZQigZY/bf7e9giTIAAAAAICxQcAEAAAAAYaG3FdwVTgdAWGGeEGrMFEKNmUKoMVMINWYKoXTX89SrbjIFAAAAAEBXets7uAAAAAAA3FCPLLjGmLnGmGJjjN8YM77T/ixjTKsx5mBw+9dOz40zxhQZY04YY/7BGGOcSY+eqKuZCj73P4JzU2qMebbT/ueC+04YY37T/anRWxhj/sYYU9XptWlGp+duOF/AzfD6g1AwxpwOnhsdvHZnUmNMgjFmuzGmLPg4yOmc6LmMMe8YYy4YY4502nfDGTIB/xB83TpsjHnQueToqbqYqZCeR/XIgivpiKTZkr65wXMnrbVjg9svO+3/F0lLJeUEt+fufUz0IjecKWPMSEnzJRUoMDP/bIyJMMZESPonSdMljZS0IHgs0JX/2+m16TOp6/lyMiR6Pl5/EGKTg69L1/64+xtJO621OZJ2Br8HuvKe/vs5dVczNF3/eR7+tgLn5sBPvacb97SQnUf1yIJrrT1qrS291eONMUMkxVtr/2gDFxWvkTTrXuVD73OTmZop6UNrbbu19pSkE5IeDm4nrLXl1tqrkj4MHgvcjq7mC7gZXn9wL82U9H7w6/fF+RJuwlr7jaS6n+zuaoZmSlpjA/4oaWDwHB24rouZ6sodnUf1yIL7M7KNMT8aY742xjwR3DdU0tlOx5wN7gN+zlBJlZ2+vzY7Xe0HuvLnwSVZ73Ra8scc4U4wNwgVK+kPxpgDxpi3g/tSrbXng19XS0p1Jhp6sa5miNcu3I2QnUe570W6W2GM2SFp8A2e+ktr7ZYufuy8pExr7SVjzDhJnxhjCu5ZSPQqdzhTwC252XwpsAzr7xQ4mfw7Sf9H0uLuSwcAN/S4tbbKGJMiabsx5ljnJ6211hjDx2ngjjFDCJGQnkc5VnCttc/cwc+0S2oPfn3AGHNS0ghJVZLSOx2aHtyHPuROZkqBOcno9H3n2elqP/qgW50vY8xKSduC395svoCuMDcICWttVfDxgjFmswJL+2qMMUOsteeDy0cvOBoSvVFXM8RrF+6Itbbm2tehOI/qVUuUjTHJ1y4sNsbcp8BF7OXBZRINxphHg3dPXiSJd+xwK7ZKmm+M6WeMyVZgpr6T9L2kHGNMtjEmSoEL3Lc6mBM92E+uMXpZgZuaSV3PF3AzvP7grhljYo0x/a99LWmaAq9NWyW9HjzsdXG+hNvX1QxtlbQoeDflRyXVd1rKDHQp1OdRjr2DezPGmJcl/aOkZEmfGmMOWmuflfSkpL81xngl+SX90lp77SLlP1PgrlzRkj4PboCkrmfKWltsjPk3SSWSOiT9ylrrC/7Mn0v6UlKEpHestcUOxUfP91tjzFgFltaclrRMkm42X0BXrLUdvP4gBFIlbQ783V9uSeustV8YY76X9G/GmCWSKiTNczAjejhjzHpJkyQlGWPOSvprSf9bN56hzyTNUOBGQC2S3uz2wOjxupipSaE8jzKBmw4DAAAAANC79aolygAAAAAAdIWCCwAAAAAICxRcAAAAAEBYoOACAAAAAMICBRcAAAAAEBYouAAAAACAsEDBBQAAAACEBQouAAAAACAs/H8BNjDxZ3eatAAAAABJRU5ErkJggg==\n",
          "text/plain": "<Figure size 1152x648 with 1 Axes>"
         },
         "metadata": {
          "needs_background": "light"
         },
         "output_type": "display_data"
        }
       ]
      }
     },
     "6a80e61226054c2ebf25e19240ac394e": {
      "model_module": "@jupyter-widgets/base",
      "model_module_version": "1.2.0",
      "model_name": "LayoutModel",
      "state": {}
     },
     "6af5f5f8bbf6433c9f7a4b0ab8911fe3": {
      "model_module": "@jupyter-widgets/controls",
      "model_module_version": "1.5.0",
      "model_name": "SliderStyleModel",
      "state": {
       "description_width": ""
      }
     },
     "6bdcd42464ce41faa0bf30707cf613cf": {
      "model_module": "@jupyter-widgets/output",
      "model_module_version": "1.0.0",
      "model_name": "OutputModel",
      "state": {
       "layout": "IPY_MODEL_d7453d5f87794f778d33a9630c688372"
      }
     },
     "6bf50b5ba5fe4d3080d3d50c5c1301c2": {
      "model_module": "@jupyter-widgets/base",
      "model_module_version": "1.2.0",
      "model_name": "LayoutModel",
      "state": {}
     },
     "6c14fb5187094895901ab09ff3825068": {
      "model_module": "@jupyter-widgets/controls",
      "model_module_version": "1.5.0",
      "model_name": "SliderStyleModel",
      "state": {
       "description_width": ""
      }
     },
     "6c24dfedc74b4df7a87134e8f8b60d64": {
      "model_module": "@jupyter-widgets/base",
      "model_module_version": "1.2.0",
      "model_name": "LayoutModel",
      "state": {}
     },
     "6c532ba53f874e35af4793a604648efd": {
      "model_module": "@jupyter-widgets/base",
      "model_module_version": "1.2.0",
      "model_name": "LayoutModel",
      "state": {}
     },
     "6c71e07d180a4d859d1f8b61b7693032": {
      "model_module": "@jupyter-widgets/controls",
      "model_module_version": "1.5.0",
      "model_name": "SliderStyleModel",
      "state": {
       "description_width": ""
      }
     },
     "6c9db98e6f72446c96c7bdc3099d9f8b": {
      "model_module": "@jupyter-widgets/output",
      "model_module_version": "1.0.0",
      "model_name": "OutputModel",
      "state": {
       "layout": "IPY_MODEL_5264def4191a432aa178769e42f0abbd"
      }
     },
     "6d6d4d5fe3de42e992557abe54e91396": {
      "model_module": "@jupyter-widgets/controls",
      "model_module_version": "1.5.0",
      "model_name": "ButtonStyleModel",
      "state": {}
     },
     "6d89a62b28e24cafa4a8b6f82089f630": {
      "model_module": "@jupyter-widgets/output",
      "model_module_version": "1.0.0",
      "model_name": "OutputModel",
      "state": {
       "layout": "IPY_MODEL_f2619d63cdb242dd858f84abd836d0b5"
      }
     },
     "6f4063b5992a43b3ba11502c66d86eac": {
      "model_module": "@jupyter-widgets/base",
      "model_module_version": "1.2.0",
      "model_name": "LayoutModel",
      "state": {}
     },
     "6f6016a3f497403c8387a5bc18eb9f33": {
      "model_module": "@jupyter-widgets/base",
      "model_module_version": "1.2.0",
      "model_name": "LayoutModel",
      "state": {}
     },
     "6f762e3e682643de9c275f89864eed8e": {
      "model_module": "@jupyter-widgets/base",
      "model_module_version": "1.2.0",
      "model_name": "LayoutModel",
      "state": {}
     },
     "7098e1aa93154648b3f771b301d2eb63": {
      "model_module": "@jupyter-widgets/controls",
      "model_module_version": "1.5.0",
      "model_name": "FloatRangeSliderModel",
      "state": {
       "_model_name": "FloatRangeSliderModel",
       "_view_name": "FloatRangeSliderView",
       "continuous_update": false,
       "description": "Domínio (angstroms):",
       "layout": "IPY_MODEL_42051cdf967d4efaac082b842c15a872",
       "max": 500,
       "min": -500,
       "readout_format": "1d",
       "style": "IPY_MODEL_94f97c30d44843c9a506d9538d012709",
       "value": [
        -100,
        100
       ]
      }
     },
     "711727e792a8419eba720e10ab8d73d0": {
      "model_module": "@jupyter-widgets/controls",
      "model_module_version": "1.5.0",
      "model_name": "VBoxModel",
      "state": {
       "_dom_classes": [
        "widget-interact"
       ],
       "children": [
        "IPY_MODEL_dde3306c82904c1492d3901f5a0856a8",
        "IPY_MODEL_d4a95e419eb6476bb74d1075cca94346",
        "IPY_MODEL_40b03bdee2ae4cefad1822a81ae4e239",
        "IPY_MODEL_d6ea49a8df644596932ba108b0864b59"
       ],
       "layout": "IPY_MODEL_a812e7d73ec5426d9b1b04707f3e2502"
      }
     },
     "7148502ee1fa4c9b8a75bc3ea55b8fb7": {
      "model_module": "@jupyter-widgets/controls",
      "model_module_version": "1.5.0",
      "model_name": "ButtonStyleModel",
      "state": {}
     },
     "7168d87d730c412da6ede1800fd963a7": {
      "model_module": "@jupyter-widgets/output",
      "model_module_version": "1.0.0",
      "model_name": "OutputModel",
      "state": {
       "layout": "IPY_MODEL_e90c46e224174233855bfc4ae9855d9d"
      }
     },
     "72b16956ea7a408ba6d7339c75f30b06": {
      "model_module": "@jupyter-widgets/base",
      "model_module_version": "1.2.0",
      "model_name": "LayoutModel",
      "state": {}
     },
     "72fb60dc9d5849869aedac7927bfe297": {
      "model_module": "@jupyter-widgets/controls",
      "model_module_version": "1.5.0",
      "model_name": "ButtonStyleModel",
      "state": {}
     },
     "7306e991d29c4180b72d500ca7efe08c": {
      "model_module": "@jupyter-widgets/controls",
      "model_module_version": "1.5.0",
      "model_name": "IntSliderModel",
      "state": {
       "continuous_update": false,
       "description": "Ordem Matriz: ",
       "layout": "IPY_MODEL_0860044560114d0296bf1706d833349e",
       "max": 1000,
       "min": 30,
       "step": 10,
       "style": "IPY_MODEL_6004097fe3f5475fad344ca25e3cb6a2",
       "value": 200
      }
     },
     "73a61dfd74d04391977bc576c1935498": {
      "model_module": "@jupyter-widgets/controls",
      "model_module_version": "1.5.0",
      "model_name": "SliderStyleModel",
      "state": {
       "description_width": ""
      }
     },
     "73b29e5258e646d7a9683bfd7b09db79": {
      "model_module": "@jupyter-widgets/controls",
      "model_module_version": "1.5.0",
      "model_name": "ButtonStyleModel",
      "state": {}
     },
     "73e39c90aee54ae3893ef46af3d966dd": {
      "model_module": "@jupyter-widgets/base",
      "model_module_version": "1.2.0",
      "model_name": "LayoutModel",
      "state": {}
     },
     "74528f8ecc01459296dc51535fb0e965": {
      "model_module": "@jupyter-widgets/controls",
      "model_module_version": "1.5.0",
      "model_name": "SliderStyleModel",
      "state": {
       "description_width": ""
      }
     },
     "74750380ab4a46d2adfd3b8727125138": {
      "model_module": "@jupyter-widgets/output",
      "model_module_version": "1.0.0",
      "model_name": "OutputModel",
      "state": {
       "layout": "IPY_MODEL_a26b9e8ac4db4416b0e236c591b76988"
      }
     },
     "7555844c0190457eb6414d7c1e83115f": {
      "model_module": "@jupyter-widgets/base",
      "model_module_version": "1.2.0",
      "model_name": "LayoutModel",
      "state": {}
     },
     "75ff15884f144567998af93d7ff63713": {
      "model_module": "@jupyter-widgets/controls",
      "model_module_version": "1.5.0",
      "model_name": "FloatRangeSliderModel",
      "state": {
       "_model_name": "FloatRangeSliderModel",
       "_view_name": "FloatRangeSliderView",
       "continuous_update": false,
       "description": "Defina o domínio de $\\Psi(x) \\AA$:",
       "layout": "IPY_MODEL_d5de3412c80b4244a6132bc383ea8c2c",
       "max": 500,
       "min": -500,
       "readout_format": "1d",
       "style": "IPY_MODEL_1683f1bfb2a34c1d88ffa8c6330657bc",
       "value": [
        -284,
        309
       ]
      }
     },
     "7652461014594b8aa91e52b79b98310c": {
      "model_module": "@jupyter-widgets/controls",
      "model_module_version": "1.5.0",
      "model_name": "ButtonModel",
      "state": {
       "description": "Gerar/Diagonalizar ",
       "layout": "IPY_MODEL_b7be67175e3b4c7588b297c528d89cae",
       "style": "IPY_MODEL_dfd0bece249843cebe002e16383185fb"
      }
     },
     "76611e8b2ff34859b4f0c58ba0f2dffd": {
      "model_module": "@jupyter-widgets/controls",
      "model_module_version": "1.5.0",
      "model_name": "SliderStyleModel",
      "state": {
       "description_width": ""
      }
     },
     "7663419b6662414fb9be55aac3e628dd": {
      "model_module": "@jupyter-widgets/controls",
      "model_module_version": "1.5.0",
      "model_name": "SliderStyleModel",
      "state": {
       "description_width": ""
      }
     },
     "7677a1bd6d064edb8c05ade1f6130b04": {
      "model_module": "@jupyter-widgets/controls",
      "model_module_version": "1.5.0",
      "model_name": "ButtonModel",
      "state": {
       "description": "Run Interact",
       "layout": "IPY_MODEL_4c87771617084bf09eea77167bdf4be5",
       "style": "IPY_MODEL_a3268c155618482eabcb58e0df43b87b"
      }
     },
     "76c2dad959a5461b812149fefbcc28ec": {
      "model_module": "@jupyter-widgets/output",
      "model_module_version": "1.0.0",
      "model_name": "OutputModel",
      "state": {
       "layout": "IPY_MODEL_9c746ce5a94542b688b332cfa2a73d6a"
      }
     },
     "76d550a1071a4b219da52b520ea2f19a": {
      "model_module": "@jupyter-widgets/controls",
      "model_module_version": "1.5.0",
      "model_name": "IntSliderModel",
      "state": {
       "continuous_update": false,
       "description": "Ordem da Matriz:",
       "layout": "IPY_MODEL_e004878e8c744908a71f40eea762f67d",
       "max": 1000,
       "min": 30,
       "step": 10,
       "style": "IPY_MODEL_373804b029da4ceab51892727ff26be2",
       "value": 200
      }
     },
     "770ea4b0560741858a3f394a3f1c9580": {
      "model_module": "@jupyter-widgets/controls",
      "model_module_version": "1.5.0",
      "model_name": "IntSliderModel",
      "state": {
       "continuous_update": false,
       "description": "Ordem Matriz: ",
       "layout": "IPY_MODEL_48ece4f62b094fada37f4b93eaf62995",
       "max": 1000,
       "min": 30,
       "step": 10,
       "style": "IPY_MODEL_4f2f2c65cf224014bb7103aea004d6bf",
       "value": 200
      }
     },
     "776421cabd654d5ea290c48b24210de3": {
      "model_module": "@jupyter-widgets/controls",
      "model_module_version": "1.5.0",
      "model_name": "IntRangeSliderModel",
      "state": {
       "_model_name": "IntRangeSliderModel",
       "_view_name": "IntRangeSliderView",
       "continuous_update": false,
       "description": "Plotar N. Estados::",
       "layout": "IPY_MODEL_f4e586de72814687bd566d7cf0153ea3",
       "max": 50,
       "readout_format": "1d",
       "style": "IPY_MODEL_a5e87520c46440869dbee46fe49019aa",
       "value": [
        0,
        3
       ]
      }
     },
     "77af1e61af0d40928803f8fe084aa344": {
      "model_module": "@jupyter-widgets/base",
      "model_module_version": "1.2.0",
      "model_name": "LayoutModel",
      "state": {}
     },
     "787aec305a6940b6a643c9d59f2a2c4a": {
      "model_module": "@jupyter-widgets/output",
      "model_module_version": "1.0.0",
      "model_name": "OutputModel",
      "state": {
       "layout": "IPY_MODEL_4fbebea8c87d4c2080054ab5e3de4729"
      }
     },
     "78e5802ca60f47748ab4d230a6775b95": {
      "model_module": "@jupyter-widgets/controls",
      "model_module_version": "1.5.0",
      "model_name": "ButtonModel",
      "state": {
       "description": "Run Interact",
       "layout": "IPY_MODEL_f636bf1900b54c6483780bb6b628ab18",
       "style": "IPY_MODEL_cd7402cce5984bea9af1590646acb2ed"
      }
     },
     "7900d9a3c1854aaf9818d8ca47c0d6da": {
      "model_module": "@jupyter-widgets/controls",
      "model_module_version": "1.5.0",
      "model_name": "ButtonStyleModel",
      "state": {}
     },
     "790f4c598db84102a5dfd31b6b7c69a6": {
      "model_module": "@jupyter-widgets/output",
      "model_module_version": "1.0.0",
      "model_name": "OutputModel",
      "state": {
       "layout": "IPY_MODEL_d7814ec41b3748fab0fcb88fad93014e"
      }
     },
     "79b1fbf9841b4e13b7e28154316916a5": {
      "model_module": "@jupyter-widgets/output",
      "model_module_version": "1.0.0",
      "model_name": "OutputModel",
      "state": {
       "layout": "IPY_MODEL_9902c496004e48539cbda03d08023005"
      }
     },
     "7a26828b50c64e8093d8f5956f540275": {
      "model_module": "@jupyter-widgets/base",
      "model_module_version": "1.2.0",
      "model_name": "LayoutModel",
      "state": {}
     },
     "7a60933dfd864afbb988e6d76b202d1f": {
      "model_module": "@jupyter-widgets/controls",
      "model_module_version": "1.5.0",
      "model_name": "VBoxModel",
      "state": {
       "_dom_classes": [
        "widget-interact"
       ],
       "children": [
        "IPY_MODEL_f37291f8b72c4a269e7678d6403086ea",
        "IPY_MODEL_03da6999a126450ca4879e356d6ed896",
        "IPY_MODEL_30c2e01af4d54ef4a1afd1089dcbf2b3"
       ],
       "layout": "IPY_MODEL_96a5109eb280402bb21f915d2161f305"
      }
     },
     "7ab0703b28b949a482f1f44bf9c82fcc": {
      "model_module": "@jupyter-widgets/base",
      "model_module_version": "1.2.0",
      "model_name": "LayoutModel",
      "state": {}
     },
     "7b713615b4414e68ac6588d62e3d5e8d": {
      "model_module": "@jupyter-widgets/controls",
      "model_module_version": "1.5.0",
      "model_name": "FloatRangeSliderModel",
      "state": {
       "_model_name": "FloatRangeSliderModel",
       "_view_name": "FloatRangeSliderView",
       "continuous_update": false,
       "description": "Domínio (angstroms):",
       "layout": "IPY_MODEL_15380fbacd00458db83c284048d698ed",
       "max": 500,
       "min": -500,
       "readout_format": "1d",
       "style": "IPY_MODEL_27100217aabb47688ac053039eb2f2a6",
       "value": [
        -100,
        100
       ]
      }
     },
     "7c175555721b4057a3daf34a66680203": {
      "model_module": "@jupyter-widgets/base",
      "model_module_version": "1.2.0",
      "model_name": "LayoutModel",
      "state": {}
     },
     "7c30dff56d5f40199d5bdf2025f22031": {
      "model_module": "@jupyter-widgets/controls",
      "model_module_version": "1.5.0",
      "model_name": "VBoxModel",
      "state": {
       "_dom_classes": [
        "widget-interact"
       ],
       "children": [
        "IPY_MODEL_5d8ff81af98f427da480d3c97042adff",
        "IPY_MODEL_f742177c50134284b21a1e779aaf3a3d",
        "IPY_MODEL_f8c492584cc0416f979bfc707883ec3e",
        "IPY_MODEL_8b544e0cee1140a7bc8b641bce9156c8"
       ],
       "layout": "IPY_MODEL_a56c3b802c794d9ba123626cfcb2005a"
      }
     },
     "7c4ef5797b41413e9b50b338fb9e389d": {
      "model_module": "@jupyter-widgets/base",
      "model_module_version": "1.2.0",
      "model_name": "LayoutModel",
      "state": {}
     },
     "7c6009b92ea743e88cc715d2e6246ed7": {
      "model_module": "@jupyter-widgets/base",
      "model_module_version": "1.2.0",
      "model_name": "LayoutModel",
      "state": {}
     },
     "7c8edb18c4284e12a27bf0ab453cdb4f": {
      "model_module": "@jupyter-widgets/base",
      "model_module_version": "1.2.0",
      "model_name": "LayoutModel",
      "state": {}
     },
     "7c9cdf1490c247f4944aeba33f048a16": {
      "model_module": "@jupyter-widgets/controls",
      "model_module_version": "1.5.0",
      "model_name": "IntSliderModel",
      "state": {
       "continuous_update": false,
       "description": "Ordem da Matriz:",
       "layout": "IPY_MODEL_37b97069227449c3b9271f8922a0b2e4",
       "max": 1000,
       "min": 30,
       "step": 10,
       "style": "IPY_MODEL_995fbc025f1e4d8f9604fb3411eb6e6e",
       "value": 200
      }
     },
     "7cba01a108ae42f0b63019e910cf2d96": {
      "model_module": "@jupyter-widgets/base",
      "model_module_version": "1.2.0",
      "model_name": "LayoutModel",
      "state": {}
     },
     "7d97bc28eb1a4e09bb8a9878699bc2d1": {
      "model_module": "@jupyter-widgets/base",
      "model_module_version": "1.2.0",
      "model_name": "LayoutModel",
      "state": {}
     },
     "7e0303eddfd6457291acdc3f1b47c5ec": {
      "model_module": "@jupyter-widgets/controls",
      "model_module_version": "1.5.0",
      "model_name": "ButtonModel",
      "state": {
       "description": "Run Interact",
       "layout": "IPY_MODEL_ea9a204fe44241419edcb264b485de4e",
       "style": "IPY_MODEL_1db01df3fbeb4241b65b387934cea3d3"
      }
     },
     "7e4937005f2a464997c02acacb7606f4": {
      "model_module": "@jupyter-widgets/base",
      "model_module_version": "1.2.0",
      "model_name": "LayoutModel",
      "state": {}
     },
     "7e64a57416ff4ade984da43df56348db": {
      "model_module": "@jupyter-widgets/base",
      "model_module_version": "1.2.0",
      "model_name": "LayoutModel",
      "state": {}
     },
     "7ebe1f8d652a49198e1e64b3c357bace": {
      "model_module": "@jupyter-widgets/controls",
      "model_module_version": "1.5.0",
      "model_name": "ButtonModel",
      "state": {
       "description": "Run Interact",
       "layout": "IPY_MODEL_a460698d0c9a4a43925183fb349aef28",
       "style": "IPY_MODEL_0e4ee8094a2e44f2aa0f88187af8f2fa"
      }
     },
     "7ef006195ff0467caa0ddffdae4ff318": {
      "model_module": "@jupyter-widgets/controls",
      "model_module_version": "1.5.0",
      "model_name": "SliderStyleModel",
      "state": {
       "description_width": ""
      }
     },
     "7ef494a5c0d2482fa52bd7d589f3a0ca": {
      "model_module": "@jupyter-widgets/output",
      "model_module_version": "1.0.0",
      "model_name": "OutputModel",
      "state": {
       "layout": "IPY_MODEL_9fdde8f9c10d432c8ee733f192a1b0b4"
      }
     },
     "7f6378c297654535b75c9d9dc669389d": {
      "model_module": "@jupyter-widgets/controls",
      "model_module_version": "1.5.0",
      "model_name": "VBoxModel",
      "state": {
       "_dom_classes": [
        "widget-interact"
       ],
       "children": [
        "IPY_MODEL_2cb7f2ce726f4f47ab30090d7fa39e3f",
        "IPY_MODEL_0cde1b8986034633927622fcd97864b1",
        "IPY_MODEL_f23bc6a127334176bc10b701d3414dda",
        "IPY_MODEL_787aec305a6940b6a643c9d59f2a2c4a"
       ],
       "layout": "IPY_MODEL_3450a78d234b4f00bf087f96d3c6c5e3"
      }
     },
     "7fcdfa371abf437a9202a14606b73e43": {
      "model_module": "@jupyter-widgets/controls",
      "model_module_version": "1.5.0",
      "model_name": "IntSliderModel",
      "state": {
       "continuous_update": false,
       "description": "Ordem da Matriz:",
       "layout": "IPY_MODEL_ce3f79ddf41c44ac942058237d1720da",
       "max": 1000,
       "min": 30,
       "step": 10,
       "style": "IPY_MODEL_6c14fb5187094895901ab09ff3825068",
       "value": 200
      }
     },
     "7fd6137ec4cf4d6daf2ec410285a1882": {
      "model_module": "@jupyter-widgets/controls",
      "model_module_version": "1.5.0",
      "model_name": "FloatRangeSliderModel",
      "state": {
       "_model_name": "FloatRangeSliderModel",
       "_view_name": "FloatRangeSliderView",
       "continuous_update": false,
       "description": "Domínio: ",
       "layout": "IPY_MODEL_67d10a04a69d4d328022accff30354a2",
       "max": 500,
       "min": -500,
       "readout_format": "1d",
       "style": "IPY_MODEL_d1b986b0f2c04550877b35078a339a58",
       "value": [
        -100,
        100
       ]
      }
     },
     "7fe043ff12ee4f26ada829ac9024bff2": {
      "model_module": "@jupyter-widgets/controls",
      "model_module_version": "1.5.0",
      "model_name": "VBoxModel",
      "state": {
       "_dom_classes": [
        "widget-interact"
       ],
       "children": [
        "IPY_MODEL_b8c68615e80743b4835b4f9d21163acb",
        "IPY_MODEL_4299c83242f24446a12edf97b30a5616",
        "IPY_MODEL_86fb5ed4ed424398b9e0e640fa05f207",
        "IPY_MODEL_5907927deef74e6287e62417af55ee78"
       ],
       "layout": "IPY_MODEL_d62e8a2692304a4f9cc609d60d9201ac"
      }
     },
     "80879b9540ad4301bba657d5c7af2f09": {
      "model_module": "@jupyter-widgets/base",
      "model_module_version": "1.2.0",
      "model_name": "LayoutModel",
      "state": {}
     },
     "8144f7094e6b46fcb8e6811e65e3deb6": {
      "model_module": "@jupyter-widgets/base",
      "model_module_version": "1.2.0",
      "model_name": "LayoutModel",
      "state": {}
     },
     "8145c661b2ad426fb5d15be351e198ee": {
      "model_module": "@jupyter-widgets/base",
      "model_module_version": "1.2.0",
      "model_name": "LayoutModel",
      "state": {}
     },
     "814a1307be9d4cf38ce6ff76f5179ab5": {
      "model_module": "@jupyter-widgets/base",
      "model_module_version": "1.2.0",
      "model_name": "LayoutModel",
      "state": {}
     },
     "819b587cca21431ea353c953a6f0d6ae": {
      "model_module": "@jupyter-widgets/base",
      "model_module_version": "1.2.0",
      "model_name": "LayoutModel",
      "state": {}
     },
     "81ea0f03b1944cc79e9fac1ad9a5286b": {
      "model_module": "@jupyter-widgets/base",
      "model_module_version": "1.2.0",
      "model_name": "LayoutModel",
      "state": {}
     },
     "82295fe26be6405db9d0473e010b06b0": {
      "model_module": "@jupyter-widgets/base",
      "model_module_version": "1.2.0",
      "model_name": "LayoutModel",
      "state": {}
     },
     "825ec32934254952bb4195696453503d": {
      "model_module": "@jupyter-widgets/base",
      "model_module_version": "1.2.0",
      "model_name": "LayoutModel",
      "state": {}
     },
     "828635ca274244c1ba48c3bd625d0c49": {
      "model_module": "@jupyter-widgets/controls",
      "model_module_version": "1.5.0",
      "model_name": "SliderStyleModel",
      "state": {
       "description_width": ""
      }
     },
     "82a9d956533e42ac8f60194a6a5b0451": {
      "model_module": "@jupyter-widgets/base",
      "model_module_version": "1.2.0",
      "model_name": "LayoutModel",
      "state": {}
     },
     "82e363da80934afb8ce21994609ab47e": {
      "model_module": "@jupyter-widgets/controls",
      "model_module_version": "1.5.0",
      "model_name": "IntRangeSliderModel",
      "state": {
       "_model_name": "IntRangeSliderModel",
       "_view_name": "IntRangeSliderView",
       "continuous_update": false,
       "description": "Plotar N. Estados::",
       "layout": "IPY_MODEL_aaf33f95aba94dbcaadc3d4666e54467",
       "max": 50,
       "readout_format": "1d",
       "style": "IPY_MODEL_bba8b644ac7b4bffb97cc03a1e2c7818",
       "value": [
        0,
        3
       ]
      }
     },
     "831c1427b11d4076a8f8ff86fa47cb41": {
      "model_module": "@jupyter-widgets/controls",
      "model_module_version": "1.5.0",
      "model_name": "IntSliderModel",
      "state": {
       "continuous_update": false,
       "description": "Ordem da Matriz:",
       "layout": "IPY_MODEL_f53ecac83ee246489707ee413c891488",
       "max": 1000,
       "min": 30,
       "step": 10,
       "style": "IPY_MODEL_021ebe099d054767baefb3664a902853",
       "value": 200
      }
     },
     "8331970b4b42488d94ec031c0fd4c6fe": {
      "model_module": "@jupyter-widgets/base",
      "model_module_version": "1.2.0",
      "model_name": "LayoutModel",
      "state": {}
     },
     "839eb37a7efa4cf9bc4e85d25b403bff": {
      "model_module": "@jupyter-widgets/output",
      "model_module_version": "1.0.0",
      "model_name": "OutputModel",
      "state": {
       "layout": "IPY_MODEL_1e8a686d4a244a91b16cd07349d75423",
       "outputs": [
        {
         "ename": "UnboundLocalError",
         "evalue": "local variable 'H' referenced before assignment",
         "output_type": "error",
         "traceback": [
          "\u001b[0;31m---------------------------------------------------------------------------\u001b[0m",
          "\u001b[0;31mUnboundLocalError\u001b[0m                         Traceback (most recent call last)",
          "\u001b[0;32m~/miniconda3/lib/python3.9/site-packages/ipywidgets/widgets/interaction.py\u001b[0m in \u001b[0;36mupdate\u001b[0;34m(self, *args)\u001b[0m\n\u001b[1;32m    254\u001b[0m                     \u001b[0mvalue\u001b[0m \u001b[0;34m=\u001b[0m \u001b[0mwidget\u001b[0m\u001b[0;34m.\u001b[0m\u001b[0mget_interact_value\u001b[0m\u001b[0;34m(\u001b[0m\u001b[0;34m)\u001b[0m\u001b[0;34m\u001b[0m\u001b[0;34m\u001b[0m\u001b[0m\n\u001b[1;32m    255\u001b[0m                     \u001b[0mself\u001b[0m\u001b[0;34m.\u001b[0m\u001b[0mkwargs\u001b[0m\u001b[0;34m[\u001b[0m\u001b[0mwidget\u001b[0m\u001b[0;34m.\u001b[0m\u001b[0m_kwarg\u001b[0m\u001b[0;34m]\u001b[0m \u001b[0;34m=\u001b[0m \u001b[0mvalue\u001b[0m\u001b[0;34m\u001b[0m\u001b[0;34m\u001b[0m\u001b[0m\n\u001b[0;32m--> 256\u001b[0;31m                 \u001b[0mself\u001b[0m\u001b[0;34m.\u001b[0m\u001b[0mresult\u001b[0m \u001b[0;34m=\u001b[0m \u001b[0mself\u001b[0m\u001b[0;34m.\u001b[0m\u001b[0mf\u001b[0m\u001b[0;34m(\u001b[0m\u001b[0;34m**\u001b[0m\u001b[0mself\u001b[0m\u001b[0;34m.\u001b[0m\u001b[0mkwargs\u001b[0m\u001b[0;34m)\u001b[0m\u001b[0;34m\u001b[0m\u001b[0;34m\u001b[0m\u001b[0m\n\u001b[0m\u001b[1;32m    257\u001b[0m                 \u001b[0mshow_inline_matplotlib_plots\u001b[0m\u001b[0;34m(\u001b[0m\u001b[0;34m)\u001b[0m\u001b[0;34m\u001b[0m\u001b[0;34m\u001b[0m\u001b[0m\n\u001b[1;32m    258\u001b[0m                 \u001b[0;32mif\u001b[0m \u001b[0mself\u001b[0m\u001b[0;34m.\u001b[0m\u001b[0mauto_display\u001b[0m \u001b[0;32mand\u001b[0m \u001b[0mself\u001b[0m\u001b[0;34m.\u001b[0m\u001b[0mresult\u001b[0m \u001b[0;32mis\u001b[0m \u001b[0;32mnot\u001b[0m \u001b[0;32mNone\u001b[0m\u001b[0;34m:\u001b[0m\u001b[0;34m\u001b[0m\u001b[0;34m\u001b[0m\u001b[0m\n",
          "\u001b[0;32m<ipython-input-50-d634b33266f0>\u001b[0m in \u001b[0;36mmain\u001b[0;34m(xx, N)\u001b[0m\n\u001b[1;32m     24\u001b[0m \u001b[0;34m\u001b[0m\u001b[0m\n\u001b[1;32m     25\u001b[0m     \u001b[0mvetores\u001b[0m\u001b[0;34m(\u001b[0m\u001b[0mxx\u001b[0m\u001b[0;34m,\u001b[0m\u001b[0mN\u001b[0m\u001b[0;34m)\u001b[0m\u001b[0;34m\u001b[0m\u001b[0;34m\u001b[0m\u001b[0m\n\u001b[0;32m---> 26\u001b[0;31m     \u001b[0mdiagH\u001b[0m\u001b[0;34m(\u001b[0m\u001b[0mH\u001b[0m\u001b[0;34m,\u001b[0m\u001b[0mV\u001b[0m\u001b[0;34m)\u001b[0m\u001b[0;34m\u001b[0m\u001b[0;34m\u001b[0m\u001b[0m\n\u001b[0m\u001b[1;32m     27\u001b[0m     \u001b[0ma\u001b[0m\u001b[0;34m=\u001b[0m\u001b[0;34m-\u001b[0m\u001b[0;36m1\u001b[0m\u001b[0;34m/\u001b[0m\u001b[0;34m(\u001b[0m\u001b[0mdx\u001b[0m\u001b[0;34m**\u001b[0m\u001b[0;36m2\u001b[0m\u001b[0;34m)\u001b[0m \u001b[0;31m#Define 'a' por conveniência\u001b[0m\u001b[0;34m\u001b[0m\u001b[0;34m\u001b[0m\u001b[0m\n\u001b[1;32m     28\u001b[0m     \u001b[0mN\u001b[0m\u001b[0;34m,\u001b[0m \u001b[0mL\u001b[0m\u001b[0;34m=\u001b[0m\u001b[0;34m(\u001b[0m\u001b[0mx\u001b[0m\u001b[0;34m.\u001b[0m\u001b[0msize\u001b[0m\u001b[0;34m,\u001b[0m \u001b[0mx\u001b[0m\u001b[0;34m.\u001b[0m\u001b[0mmax\u001b[0m\u001b[0;34m(\u001b[0m\u001b[0;34m)\u001b[0m\u001b[0;34m-\u001b[0m\u001b[0mx\u001b[0m\u001b[0;34m.\u001b[0m\u001b[0mmin\u001b[0m\u001b[0;34m(\u001b[0m\u001b[0;34m)\u001b[0m\u001b[0;34m)\u001b[0m \u001b[0;31m#Armazena o tamanho do vetor posição e o comprimento do espaço que ele representa\u001b[0m\u001b[0;34m\u001b[0m\u001b[0;34m\u001b[0m\u001b[0m\n",
          "\u001b[0;31mUnboundLocalError\u001b[0m: local variable 'H' referenced before assignment"
         ]
        }
       ]
      }
     },
     "84362b30861447f5a89fc919f5144081": {
      "model_module": "@jupyter-widgets/base",
      "model_module_version": "1.2.0",
      "model_name": "LayoutModel",
      "state": {}
     },
     "843fb36c481c4e6e8cb1a0d705c28654": {
      "model_module": "@jupyter-widgets/base",
      "model_module_version": "1.2.0",
      "model_name": "LayoutModel",
      "state": {}
     },
     "848fc24f1bed4a1bb847bee0e49ba4b4": {
      "model_module": "@jupyter-widgets/controls",
      "model_module_version": "1.5.0",
      "model_name": "ButtonStyleModel",
      "state": {}
     },
     "84d8c395087444deb39641863828268c": {
      "model_module": "@jupyter-widgets/base",
      "model_module_version": "1.2.0",
      "model_name": "LayoutModel",
      "state": {}
     },
     "8525198665814050bd58005e63fb1781": {
      "model_module": "@jupyter-widgets/controls",
      "model_module_version": "1.5.0",
      "model_name": "SliderStyleModel",
      "state": {
       "description_width": ""
      }
     },
     "85b8b2ab9d5e48cea139d4de2d1f8dc7": {
      "model_module": "@jupyter-widgets/base",
      "model_module_version": "1.2.0",
      "model_name": "LayoutModel",
      "state": {}
     },
     "86b3c34a078f44d6af450eb4988ee263": {
      "model_module": "@jupyter-widgets/base",
      "model_module_version": "1.2.0",
      "model_name": "LayoutModel",
      "state": {}
     },
     "86fb5ed4ed424398b9e0e640fa05f207": {
      "model_module": "@jupyter-widgets/controls",
      "model_module_version": "1.5.0",
      "model_name": "ButtonModel",
      "state": {
       "description": "Run Interact",
       "layout": "IPY_MODEL_7e64a57416ff4ade984da43df56348db",
       "style": "IPY_MODEL_95f52c9bd8a544c697da254922d6d1ca"
      }
     },
     "875c97df3d34401bb747109e447a9941": {
      "model_module": "@jupyter-widgets/controls",
      "model_module_version": "1.5.0",
      "model_name": "ButtonStyleModel",
      "state": {}
     },
     "8775faa6cd2e44bdb87ddce1134d1367": {
      "model_module": "@jupyter-widgets/controls",
      "model_module_version": "1.5.0",
      "model_name": "IntRangeSliderModel",
      "state": {
       "_model_name": "IntRangeSliderModel",
       "_view_name": "IntRangeSliderView",
       "continuous_update": false,
       "description": "Plotar N. Estados::",
       "disabled": true,
       "layout": "IPY_MODEL_b17d3ffb2b4740e996f06edec0a03918",
       "max": 50,
       "readout_format": "1d",
       "style": "IPY_MODEL_243ee1a9aa8645c19448c87477359b3d",
       "value": [
        0,
        3
       ]
      }
     },
     "87da6d535e954f2f96c44243226abef0": {
      "model_module": "@jupyter-widgets/base",
      "model_module_version": "1.2.0",
      "model_name": "LayoutModel",
      "state": {}
     },
     "87fded3ad3e54198bc775d94345be657": {
      "model_module": "@jupyter-widgets/base",
      "model_module_version": "1.2.0",
      "model_name": "LayoutModel",
      "state": {}
     },
     "88014c751e2a4d46a02c5b5b6b7d86ae": {
      "model_module": "@jupyter-widgets/base",
      "model_module_version": "1.2.0",
      "model_name": "LayoutModel",
      "state": {}
     },
     "885581eed947450a8b69891b3cb2cea7": {
      "model_module": "@jupyter-widgets/base",
      "model_module_version": "1.2.0",
      "model_name": "LayoutModel",
      "state": {}
     },
     "88aba1321630405baf91df25f0099aea": {
      "model_module": "@jupyter-widgets/output",
      "model_module_version": "1.0.0",
      "model_name": "OutputModel",
      "state": {
       "layout": "IPY_MODEL_cf3af371a91e49e1a086f205698f1f65",
       "outputs": [
        {
         "ename": "UnboundLocalError",
         "evalue": "local variable 'x' referenced before assignment",
         "output_type": "error",
         "traceback": [
          "\u001b[0;31m---------------------------------------------------------------------------\u001b[0m",
          "\u001b[0;31mUnboundLocalError\u001b[0m                         Traceback (most recent call last)",
          "\u001b[0;32m~/miniconda3/lib/python3.9/site-packages/ipywidgets/widgets/interaction.py\u001b[0m in \u001b[0;36mupdate\u001b[0;34m(self, *args)\u001b[0m\n\u001b[1;32m    254\u001b[0m                     \u001b[0mvalue\u001b[0m \u001b[0;34m=\u001b[0m \u001b[0mwidget\u001b[0m\u001b[0;34m.\u001b[0m\u001b[0mget_interact_value\u001b[0m\u001b[0;34m(\u001b[0m\u001b[0;34m)\u001b[0m\u001b[0;34m\u001b[0m\u001b[0;34m\u001b[0m\u001b[0m\n\u001b[1;32m    255\u001b[0m                     \u001b[0mself\u001b[0m\u001b[0;34m.\u001b[0m\u001b[0mkwargs\u001b[0m\u001b[0;34m[\u001b[0m\u001b[0mwidget\u001b[0m\u001b[0;34m.\u001b[0m\u001b[0m_kwarg\u001b[0m\u001b[0;34m]\u001b[0m \u001b[0;34m=\u001b[0m \u001b[0mvalue\u001b[0m\u001b[0;34m\u001b[0m\u001b[0;34m\u001b[0m\u001b[0m\n\u001b[0;32m--> 256\u001b[0;31m                 \u001b[0mself\u001b[0m\u001b[0;34m.\u001b[0m\u001b[0mresult\u001b[0m \u001b[0;34m=\u001b[0m \u001b[0mself\u001b[0m\u001b[0;34m.\u001b[0m\u001b[0mf\u001b[0m\u001b[0;34m(\u001b[0m\u001b[0;34m**\u001b[0m\u001b[0mself\u001b[0m\u001b[0;34m.\u001b[0m\u001b[0mkwargs\u001b[0m\u001b[0;34m)\u001b[0m\u001b[0;34m\u001b[0m\u001b[0;34m\u001b[0m\u001b[0m\n\u001b[0m\u001b[1;32m    257\u001b[0m                 \u001b[0mshow_inline_matplotlib_plots\u001b[0m\u001b[0;34m(\u001b[0m\u001b[0;34m)\u001b[0m\u001b[0;34m\u001b[0m\u001b[0;34m\u001b[0m\u001b[0m\n\u001b[1;32m    258\u001b[0m                 \u001b[0;32mif\u001b[0m \u001b[0mself\u001b[0m\u001b[0;34m.\u001b[0m\u001b[0mauto_display\u001b[0m \u001b[0;32mand\u001b[0m \u001b[0mself\u001b[0m\u001b[0;34m.\u001b[0m\u001b[0mresult\u001b[0m \u001b[0;32mis\u001b[0m \u001b[0;32mnot\u001b[0m \u001b[0;32mNone\u001b[0m\u001b[0;34m:\u001b[0m\u001b[0;34m\u001b[0m\u001b[0;34m\u001b[0m\u001b[0m\n",
          "\u001b[0;32m<ipython-input-48-242989dd5218>\u001b[0m in \u001b[0;36mmain\u001b[0;34m(xx, N)\u001b[0m\n\u001b[1;32m     25\u001b[0m \u001b[0;34m\u001b[0m\u001b[0m\n\u001b[1;32m     26\u001b[0m     \u001b[0ma\u001b[0m\u001b[0;34m=\u001b[0m\u001b[0;34m-\u001b[0m\u001b[0;36m1\u001b[0m\u001b[0;34m/\u001b[0m\u001b[0;34m(\u001b[0m\u001b[0mdx\u001b[0m\u001b[0;34m**\u001b[0m\u001b[0;36m2\u001b[0m\u001b[0;34m)\u001b[0m \u001b[0;31m#Define 'a' por conveniência\u001b[0m\u001b[0;34m\u001b[0m\u001b[0;34m\u001b[0m\u001b[0m\n\u001b[0;32m---> 27\u001b[0;31m     \u001b[0mN\u001b[0m\u001b[0;34m,\u001b[0m \u001b[0mL\u001b[0m\u001b[0;34m=\u001b[0m\u001b[0;34m(\u001b[0m\u001b[0mx\u001b[0m\u001b[0;34m.\u001b[0m\u001b[0msize\u001b[0m\u001b[0;34m,\u001b[0m \u001b[0mx\u001b[0m\u001b[0;34m.\u001b[0m\u001b[0mmax\u001b[0m\u001b[0;34m(\u001b[0m\u001b[0;34m)\u001b[0m\u001b[0;34m-\u001b[0m\u001b[0mx\u001b[0m\u001b[0;34m.\u001b[0m\u001b[0mmin\u001b[0m\u001b[0;34m(\u001b[0m\u001b[0;34m)\u001b[0m\u001b[0;34m)\u001b[0m \u001b[0;31m#Armazena o tamanho do vetor posição e o comprimento do espaço que ele representa\u001b[0m\u001b[0;34m\u001b[0m\u001b[0;34m\u001b[0m\u001b[0m\n\u001b[0m\u001b[1;32m     28\u001b[0m     \u001b[0mV\u001b[0m\u001b[0;34m=\u001b[0m\u001b[0msparse\u001b[0m\u001b[0;34m.\u001b[0m\u001b[0mdiags\u001b[0m\u001b[0;34m(\u001b[0m\u001b[0;34m[\u001b[0m\u001b[0;36m0\u001b[0m\u001b[0;34m]\u001b[0m\u001b[0;34m,\u001b[0m\u001b[0;34m[\u001b[0m\u001b[0;36m0\u001b[0m\u001b[0;34m]\u001b[0m\u001b[0;34m,\u001b[0m\u001b[0mshape\u001b[0m\u001b[0;34m=\u001b[0m\u001b[0;34m(\u001b[0m\u001b[0mN\u001b[0m\u001b[0;34m,\u001b[0m\u001b[0mN\u001b[0m\u001b[0;34m)\u001b[0m\u001b[0;34m)\u001b[0m\u001b[0;34m.\u001b[0m\u001b[0mtoarray\u001b[0m\u001b[0;34m(\u001b[0m\u001b[0;34m)\u001b[0m \u001b[0;31m#Cria uma matriz NxN com o potencial V(x)\u001b[0m\u001b[0;34m\u001b[0m\u001b[0;34m\u001b[0m\u001b[0m\n\u001b[1;32m     29\u001b[0m     \u001b[0mH\u001b[0m\u001b[0;34m=\u001b[0m\u001b[0msparse\u001b[0m\u001b[0;34m.\u001b[0m\u001b[0mdiags\u001b[0m\u001b[0;34m(\u001b[0m\u001b[0;34m[\u001b[0m\u001b[0ma\u001b[0m\u001b[0;34m,\u001b[0m\u001b[0;34m-\u001b[0m\u001b[0;36m2\u001b[0m\u001b[0;34m*\u001b[0m\u001b[0ma\u001b[0m\u001b[0;34m,\u001b[0m\u001b[0ma\u001b[0m\u001b[0;34m]\u001b[0m\u001b[0;34m,\u001b[0m\u001b[0;34m[\u001b[0m\u001b[0;34m-\u001b[0m\u001b[0;36m1\u001b[0m\u001b[0;34m,\u001b[0m\u001b[0;36m0\u001b[0m\u001b[0;34m,\u001b[0m\u001b[0;36m1\u001b[0m\u001b[0;34m]\u001b[0m\u001b[0;34m,\u001b[0m\u001b[0mshape\u001b[0m\u001b[0;34m=\u001b[0m\u001b[0;34m(\u001b[0m\u001b[0mN\u001b[0m\u001b[0;34m,\u001b[0m\u001b[0mN\u001b[0m\u001b[0;34m)\u001b[0m\u001b[0;34m)\u001b[0m\u001b[0;34m.\u001b[0m\u001b[0mtoarray\u001b[0m\u001b[0;34m(\u001b[0m\u001b[0;34m)\u001b[0m \u001b[0;31m#Cria a matriz Hamiltoniano\u001b[0m\u001b[0;34m\u001b[0m\u001b[0;34m\u001b[0m\u001b[0m\n",
          "\u001b[0;31mUnboundLocalError\u001b[0m: local variable 'x' referenced before assignment"
         ]
        }
       ]
      }
     },
     "891e1fa4d2ea44e2a8124e3069235bda": {
      "model_module": "@jupyter-widgets/base",
      "model_module_version": "1.2.0",
      "model_name": "LayoutModel",
      "state": {}
     },
     "89473e80b41b49d18cb87bafbdb1f832": {
      "model_module": "@jupyter-widgets/controls",
      "model_module_version": "1.5.0",
      "model_name": "SliderStyleModel",
      "state": {
       "description_width": ""
      }
     },
     "89593a28949c432da74cf7dd9a3cb92b": {
      "model_module": "@jupyter-widgets/controls",
      "model_module_version": "1.5.0",
      "model_name": "SliderStyleModel",
      "state": {
       "description_width": ""
      }
     },
     "89a199ecf97d45c185a9ec46137ac44b": {
      "model_module": "@jupyter-widgets/base",
      "model_module_version": "1.2.0",
      "model_name": "LayoutModel",
      "state": {}
     },
     "89fd0073c625410c8ba06fff9dca11ab": {
      "model_module": "@jupyter-widgets/output",
      "model_module_version": "1.0.0",
      "model_name": "OutputModel",
      "state": {
       "layout": "IPY_MODEL_d6cc89094fa74254bdf744c7e6be130b"
      }
     },
     "8a4b064147e14b0b8f3ee979b895a83e": {
      "model_module": "@jupyter-widgets/base",
      "model_module_version": "1.2.0",
      "model_name": "LayoutModel",
      "state": {}
     },
     "8ab6ed610a0748ce9ce2a355cec5d856": {
      "model_module": "@jupyter-widgets/base",
      "model_module_version": "1.2.0",
      "model_name": "LayoutModel",
      "state": {}
     },
     "8b49c477ade24327afbbd9cede99e1d5": {
      "model_module": "@jupyter-widgets/base",
      "model_module_version": "1.2.0",
      "model_name": "LayoutModel",
      "state": {}
     },
     "8b544e0cee1140a7bc8b641bce9156c8": {
      "model_module": "@jupyter-widgets/output",
      "model_module_version": "1.0.0",
      "model_name": "OutputModel",
      "state": {
       "layout": "IPY_MODEL_c4f848602532467089d14e772fac22ec"
      }
     },
     "8b55037c8289474d8dc800ef7064b01d": {
      "model_module": "@jupyter-widgets/controls",
      "model_module_version": "1.5.0",
      "model_name": "VBoxModel",
      "state": {
       "_dom_classes": [
        "widget-interact"
       ],
       "children": [
        "IPY_MODEL_7fd6137ec4cf4d6daf2ec410285a1882",
        "IPY_MODEL_13780f16621a42df9e289744bfad1971",
        "IPY_MODEL_6677d52bed774f1cb2cbb169e2c07eae",
        "IPY_MODEL_601624931c7c4717b77e06cb378a2b4d"
       ],
       "layout": "IPY_MODEL_90e0fc1955164f538c3a2acaaf3378f7"
      }
     },
     "8c2855c767784729b12798a2fb93ffa6": {
      "model_module": "@jupyter-widgets/controls",
      "model_module_version": "1.5.0",
      "model_name": "ButtonStyleModel",
      "state": {}
     },
     "8c80195734a8474c808067a623e5cd9a": {
      "model_module": "@jupyter-widgets/controls",
      "model_module_version": "1.5.0",
      "model_name": "IntRangeSliderModel",
      "state": {
       "_model_name": "IntRangeSliderModel",
       "_view_name": "IntRangeSliderView",
       "continuous_update": false,
       "description": "Plotar N. Estados::",
       "layout": "IPY_MODEL_8331970b4b42488d94ec031c0fd4c6fe",
       "max": 50,
       "readout_format": "1d",
       "style": "IPY_MODEL_19270b454f72483da8c02575b47e98f3",
       "value": [
        0,
        3
       ]
      }
     },
     "8cdea1c0b13a4a7e9c7a5994b7ea7ebd": {
      "model_module": "@jupyter-widgets/base",
      "model_module_version": "1.2.0",
      "model_name": "LayoutModel",
      "state": {}
     },
     "8d7a4b936b684e2b94e4484430300fff": {
      "model_module": "@jupyter-widgets/base",
      "model_module_version": "1.2.0",
      "model_name": "LayoutModel",
      "state": {}
     },
     "8dacefcba391473095e7c76d30864f01": {
      "model_module": "@jupyter-widgets/controls",
      "model_module_version": "1.5.0",
      "model_name": "VBoxModel",
      "state": {
       "_dom_classes": [
        "widget-interact"
       ],
       "children": [
        "IPY_MODEL_776421cabd654d5ea290c48b24210de3",
        "IPY_MODEL_3463b5c75b7041c3bfb126998e030320",
        "IPY_MODEL_6a62cd6b59d44a15a4b91981d5e8daf9"
       ],
       "layout": "IPY_MODEL_b9ee94d0429742c2b698319089f7bc79"
      }
     },
     "8dc88664ad5642fe8a50a9a35e1d3c80": {
      "model_module": "@jupyter-widgets/controls",
      "model_module_version": "1.5.0",
      "model_name": "ButtonStyleModel",
      "state": {}
     },
     "8e39bae6ef9f4b1da6a541822510bcac": {
      "model_module": "@jupyter-widgets/controls",
      "model_module_version": "1.5.0",
      "model_name": "ButtonStyleModel",
      "state": {}
     },
     "8e6f0d10cfc046a9824979a851051cc6": {
      "model_module": "@jupyter-widgets/output",
      "model_module_version": "1.0.0",
      "model_name": "OutputModel",
      "state": {
       "layout": "IPY_MODEL_eb267eda8c2b4b87b5d409b6463017ab",
       "outputs": [
        {
         "data": {
          "text/plain": "array([-188.973     , -187.07377387, -185.17454774, -183.27532161,\n       -181.37609548, -179.47686935, -177.57764322, -175.67841709,\n       -173.77919095, -171.87996482, -169.98073869, -168.08151256,\n       -166.18228643, -164.2830603 , -162.38383417, -160.48460804,\n       -158.58538191, -156.68615578, -154.78692965, -152.88770352,\n       -150.98847739, -149.08925126, -147.19002513, -145.29079899,\n       -143.39157286, -141.49234673, -139.5931206 , -137.69389447,\n       -135.79466834, -133.89544221, -131.99621608, -130.09698995,\n       -128.19776382, -126.29853769, -124.39931156, -122.50008543,\n       -120.6008593 , -118.70163317, -116.80240704, -114.9031809 ,\n       -113.00395477, -111.10472864, -109.20550251, -107.30627638,\n       -105.40705025, -103.50782412, -101.60859799,  -99.70937186,\n        -97.81014573,  -95.9109196 ,  -94.01169347,  -92.11246734,\n        -90.21324121,  -88.31401508,  -86.41478894,  -84.51556281,\n        -82.61633668,  -80.71711055,  -78.81788442,  -76.91865829,\n        -75.01943216,  -73.12020603,  -71.2209799 ,  -69.32175377,\n        -67.42252764,  -65.52330151,  -63.62407538,  -61.72484925,\n        -59.82562312,  -57.92639698,  -56.02717085,  -54.12794472,\n        -52.22871859,  -50.32949246,  -48.43026633,  -46.5310402 ,\n        -44.63181407,  -42.73258794,  -40.83336181,  -38.93413568,\n        -37.03490955,  -35.13568342,  -33.23645729,  -31.33723116,\n        -29.43800503,  -27.53877889,  -25.63955276,  -23.74032663,\n        -21.8411005 ,  -19.94187437,  -18.04264824,  -16.14342211,\n        -14.24419598,  -12.34496985,  -10.44574372,   -8.54651759,\n         -6.64729146,   -4.74806533,   -2.8488392 ,   -0.94961307,\n          0.94961307,    2.8488392 ,    4.74806533,    6.64729146,\n          8.54651759,   10.44574372,   12.34496985,   14.24419598,\n         16.14342211,   18.04264824,   19.94187437,   21.8411005 ,\n         23.74032663,   25.63955276,   27.53877889,   29.43800503,\n         31.33723116,   33.23645729,   35.13568342,   37.03490955,\n         38.93413568,   40.83336181,   42.73258794,   44.63181407,\n         46.5310402 ,   48.43026633,   50.32949246,   52.22871859,\n         54.12794472,   56.02717085,   57.92639698,   59.82562312,\n         61.72484925,   63.62407538,   65.52330151,   67.42252764,\n         69.32175377,   71.2209799 ,   73.12020603,   75.01943216,\n         76.91865829,   78.81788442,   80.71711055,   82.61633668,\n         84.51556281,   86.41478894,   88.31401508,   90.21324121,\n         92.11246734,   94.01169347,   95.9109196 ,   97.81014573,\n         99.70937186,  101.60859799,  103.50782412,  105.40705025,\n        107.30627638,  109.20550251,  111.10472864,  113.00395477,\n        114.9031809 ,  116.80240704,  118.70163317,  120.6008593 ,\n        122.50008543,  124.39931156,  126.29853769,  128.19776382,\n        130.09698995,  131.99621608,  133.89544221,  135.79466834,\n        137.69389447,  139.5931206 ,  141.49234673,  143.39157286,\n        145.29079899,  147.19002513,  149.08925126,  150.98847739,\n        152.88770352,  154.78692965,  156.68615578,  158.58538191,\n        160.48460804,  162.38383417,  164.2830603 ,  166.18228643,\n        168.08151256,  169.98073869,  171.87996482,  173.77919095,\n        175.67841709,  177.57764322,  179.47686935,  181.37609548,\n        183.27532161,  185.17454774,  187.07377387,  188.973     ])"
         },
         "metadata": {},
         "output_type": "display_data"
        }
       ]
      }
     },
     "8e7271bf529542a399ed3b2f16ea52eb": {
      "model_module": "@jupyter-widgets/controls",
      "model_module_version": "1.5.0",
      "model_name": "FloatRangeSliderModel",
      "state": {
       "_model_name": "FloatRangeSliderModel",
       "_view_name": "FloatRangeSliderView",
       "continuous_update": false,
       "description": "Domínio (angstroms):",
       "layout": "IPY_MODEL_4acf268542a64f7c874f567980d0a8ae",
       "max": 500,
       "min": -500,
       "readout_format": "1d",
       "style": "IPY_MODEL_4426f5bb3e084bcb94a66c2b39d882d9",
       "value": [
        -100,
        100
       ]
      }
     },
     "8e79622a3c3d428291440f1279c533c2": {
      "model_module": "@jupyter-widgets/controls",
      "model_module_version": "1.5.0",
      "model_name": "IntSliderModel",
      "state": {
       "continuous_update": false,
       "description": "Num. Estados: ",
       "layout": "IPY_MODEL_6a4ddb39ee8940dba1b632a519466f42",
       "max": 1000,
       "min": 30,
       "step": 10,
       "style": "IPY_MODEL_d614fe6a8c6b4a1e8185cfc1af98989e",
       "value": 200
      }
     },
     "8f3419cb4793483a80ec3c8a8ccaf943": {
      "model_module": "@jupyter-widgets/base",
      "model_module_version": "1.2.0",
      "model_name": "LayoutModel",
      "state": {}
     },
     "8fc2dba287ae4d1d80b317f4f0478550": {
      "model_module": "@jupyter-widgets/controls",
      "model_module_version": "1.5.0",
      "model_name": "ButtonStyleModel",
      "state": {}
     },
     "90373a4a466c4ea2aa7672d369f5cbdb": {
      "model_module": "@jupyter-widgets/controls",
      "model_module_version": "1.5.0",
      "model_name": "ButtonModel",
      "state": {
       "description": "Run Interact",
       "layout": "IPY_MODEL_81ea0f03b1944cc79e9fac1ad9a5286b",
       "style": "IPY_MODEL_5ea88f3184b74f9ebe8e8ca095e84d74"
      }
     },
     "90e0fc1955164f538c3a2acaaf3378f7": {
      "model_module": "@jupyter-widgets/base",
      "model_module_version": "1.2.0",
      "model_name": "LayoutModel",
      "state": {}
     },
     "91a4a35e4fa04691b8b4da7848616834": {
      "model_module": "@jupyter-widgets/base",
      "model_module_version": "1.2.0",
      "model_name": "LayoutModel",
      "state": {}
     },
     "91d07561d19d4a6aafc8f58158808fac": {
      "model_module": "@jupyter-widgets/controls",
      "model_module_version": "1.5.0",
      "model_name": "VBoxModel",
      "state": {
       "_dom_classes": [
        "widget-interact"
       ],
       "children": [
        "IPY_MODEL_41a098e454d74ba2baf28175c424890f",
        "IPY_MODEL_8e79622a3c3d428291440f1279c533c2",
        "IPY_MODEL_5dc721d5f7c242f7a3696b8cd328c354",
        "IPY_MODEL_ed583682a1dc43c9b3a430c8da8c2f52"
       ],
       "layout": "IPY_MODEL_2a49f97c720b47b2b923312e44e28644"
      }
     },
     "936f12a935d94777acb553c021bebbba": {
      "model_module": "@jupyter-widgets/controls",
      "model_module_version": "1.5.0",
      "model_name": "IntSliderModel",
      "state": {
       "continuous_update": false,
       "description": "Ordem da Matriz:",
       "layout": "IPY_MODEL_66ba8c119a1d4969a81d0605f22cccd7",
       "max": 1000,
       "min": 30,
       "step": 10,
       "style": "IPY_MODEL_0fa75caf853c4a2983e9fd248bb7f5d8",
       "value": 200
      }
     },
     "93ca2d1fc3c44d0da4bbca8026cf6dde": {
      "model_module": "@jupyter-widgets/base",
      "model_module_version": "1.2.0",
      "model_name": "LayoutModel",
      "state": {}
     },
     "93d74dfa611c4f1992a59f1fae6b98a7": {
      "model_module": "@jupyter-widgets/controls",
      "model_module_version": "1.5.0",
      "model_name": "FloatRangeSliderModel",
      "state": {
       "_model_name": "FloatRangeSliderModel",
       "_view_name": "FloatRangeSliderView",
       "continuous_update": false,
       "description": "Domínio x \\AA$:",
       "layout": "IPY_MODEL_8a4b064147e14b0b8f3ee979b895a83e",
       "max": 500,
       "min": -500,
       "readout_format": "1d",
       "style": "IPY_MODEL_f56b410bb7854cd981716d91385767a6",
       "value": [
        -100,
        100
       ]
      }
     },
     "9412db85a469484fab3b7a76ffafb4f4": {
      "model_module": "@jupyter-widgets/controls",
      "model_module_version": "1.5.0",
      "model_name": "VBoxModel",
      "state": {
       "_dom_classes": [
        "widget-interact"
       ],
       "children": [
        "IPY_MODEL_dcad434e02c349e6a2e9f0dd9e9439ee",
        "IPY_MODEL_0cd81b6ea4b34ca3937c9caff6723b5e",
        "IPY_MODEL_309b6a751c0f4a16b9b637b339e9a16c",
        "IPY_MODEL_b324ebd8be814834955ce4fba91cf01d"
       ],
       "layout": "IPY_MODEL_a419f2840ae94b67ab655e7c59ddb55c"
      }
     },
     "946bf863ce77447dac2729f93c821f89": {
      "model_module": "@jupyter-widgets/base",
      "model_module_version": "1.2.0",
      "model_name": "LayoutModel",
      "state": {}
     },
     "946ee085545f4a798ce7ad157cd58836": {
      "model_module": "@jupyter-widgets/base",
      "model_module_version": "1.2.0",
      "model_name": "LayoutModel",
      "state": {}
     },
     "94ca489d72a24073b28a52a26d77902b": {
      "model_module": "@jupyter-widgets/controls",
      "model_module_version": "1.5.0",
      "model_name": "FloatRangeSliderModel",
      "state": {
       "_model_name": "FloatRangeSliderModel",
       "_view_name": "FloatRangeSliderView",
       "continuous_update": false,
       "description": "Domínio \\AA$:",
       "layout": "IPY_MODEL_87da6d535e954f2f96c44243226abef0",
       "max": 500,
       "min": -500,
       "readout_format": "1d",
       "style": "IPY_MODEL_f0a565debbd741858f322e50b65eb3c3",
       "value": [
        -100,
        100
       ]
      }
     },
     "94cc798493774c0980aab65d6bccf7af": {
      "model_module": "@jupyter-widgets/base",
      "model_module_version": "1.2.0",
      "model_name": "LayoutModel",
      "state": {}
     },
     "94f97c30d44843c9a506d9538d012709": {
      "model_module": "@jupyter-widgets/controls",
      "model_module_version": "1.5.0",
      "model_name": "SliderStyleModel",
      "state": {
       "description_width": ""
      }
     },
     "954013dbb1c54b99b1276de579554913": {
      "model_module": "@jupyter-widgets/base",
      "model_module_version": "1.2.0",
      "model_name": "LayoutModel",
      "state": {}
     },
     "95f52c9bd8a544c697da254922d6d1ca": {
      "model_module": "@jupyter-widgets/controls",
      "model_module_version": "1.5.0",
      "model_name": "ButtonStyleModel",
      "state": {}
     },
     "96a4b75a13f44758ae3e56513515113b": {
      "model_module": "@jupyter-widgets/controls",
      "model_module_version": "1.5.0",
      "model_name": "ButtonStyleModel",
      "state": {}
     },
     "96a5109eb280402bb21f915d2161f305": {
      "model_module": "@jupyter-widgets/base",
      "model_module_version": "1.2.0",
      "model_name": "LayoutModel",
      "state": {}
     },
     "96b21dcf333f4070ad39d957444f5bb1": {
      "model_module": "@jupyter-widgets/base",
      "model_module_version": "1.2.0",
      "model_name": "LayoutModel",
      "state": {}
     },
     "96d6f1743f6a4188934ea9f618d98182": {
      "model_module": "@jupyter-widgets/controls",
      "model_module_version": "1.5.0",
      "model_name": "SliderStyleModel",
      "state": {
       "description_width": ""
      }
     },
     "972c9f79fea847a8a74a7a13355202cd": {
      "model_module": "@jupyter-widgets/base",
      "model_module_version": "1.2.0",
      "model_name": "LayoutModel",
      "state": {}
     },
     "979361c69eaa445ab2c0629b1b38954c": {
      "model_module": "@jupyter-widgets/controls",
      "model_module_version": "1.5.0",
      "model_name": "ButtonModel",
      "state": {
       "description": "Run Interact",
       "layout": "IPY_MODEL_28b59e792d65424f8070fddfca580842",
       "style": "IPY_MODEL_fb0d718cce384548a6537bded4a08439"
      }
     },
     "980d0a8cb4034aeea68e58083a026131": {
      "model_module": "@jupyter-widgets/controls",
      "model_module_version": "1.5.0",
      "model_name": "VBoxModel",
      "state": {
       "_dom_classes": [
        "widget-interact"
       ],
       "children": [
        "IPY_MODEL_af69a92cdabb424c8cbf3a9d7967e0a8",
        "IPY_MODEL_bfbe80fd1b0341539e9499bcb79c9502",
        "IPY_MODEL_f84eefff96844ee8b44864ee953ebae1",
        "IPY_MODEL_6280bec889e74e9aa93be5120ccc91a1"
       ],
       "layout": "IPY_MODEL_5982ac5d52d842b2a42be3c9261427ce"
      }
     },
     "983c0957367b4f87b3aba7c1839fca3c": {
      "model_module": "@jupyter-widgets/controls",
      "model_module_version": "1.5.0",
      "model_name": "ButtonModel",
      "state": {
       "description": "Run Interact",
       "layout": "IPY_MODEL_7ab0703b28b949a482f1f44bf9c82fcc",
       "style": "IPY_MODEL_43be654b5e854072894e3cc029a3d9ee"
      }
     },
     "9877dcd45a3d48499afbc32946af5206": {
      "model_module": "@jupyter-widgets/base",
      "model_module_version": "1.2.0",
      "model_name": "LayoutModel",
      "state": {}
     },
     "9902c496004e48539cbda03d08023005": {
      "model_module": "@jupyter-widgets/base",
      "model_module_version": "1.2.0",
      "model_name": "LayoutModel",
      "state": {}
     },
     "992adb5d5e764bb58d3af949d02d2c32": {
      "model_module": "@jupyter-widgets/controls",
      "model_module_version": "1.5.0",
      "model_name": "ButtonModel",
      "state": {
       "description": "Run Interact",
       "layout": "IPY_MODEL_d08b96b14f8140fcb155e3a682cff9ba",
       "style": "IPY_MODEL_d6837bcf96de470bbe1ec76370bef401"
      }
     },
     "995fbc025f1e4d8f9604fb3411eb6e6e": {
      "model_module": "@jupyter-widgets/controls",
      "model_module_version": "1.5.0",
      "model_name": "SliderStyleModel",
      "state": {
       "description_width": ""
      }
     },
     "99648abc523c4c369219b1fb39ccf670": {
      "model_module": "@jupyter-widgets/base",
      "model_module_version": "1.2.0",
      "model_name": "LayoutModel",
      "state": {}
     },
     "99b6d22e53b048748c5e721fabaf64ff": {
      "model_module": "@jupyter-widgets/base",
      "model_module_version": "1.2.0",
      "model_name": "LayoutModel",
      "state": {}
     },
     "9a05136036044feaa72326d1390f3aa8": {
      "model_module": "@jupyter-widgets/base",
      "model_module_version": "1.2.0",
      "model_name": "LayoutModel",
      "state": {}
     },
     "9aa35991e33347ca84588138d4345fa5": {
      "model_module": "@jupyter-widgets/controls",
      "model_module_version": "1.5.0",
      "model_name": "SliderStyleModel",
      "state": {
       "description_width": ""
      }
     },
     "9b26a291b2ef4bf58b8b6b7b45700efb": {
      "model_module": "@jupyter-widgets/controls",
      "model_module_version": "1.5.0",
      "model_name": "IntSliderModel",
      "state": {
       "continuous_update": false,
       "description": "Ordem da Matriz:",
       "layout": "IPY_MODEL_04d52672267e47678a883ae5929e5e6a",
       "max": 1000,
       "min": 30,
       "step": 10,
       "style": "IPY_MODEL_0280003f4f454cdf9eb7e659bc87ab0b",
       "value": 200
      }
     },
     "9b60dfd1e4fd4d69a8bf438b0c501740": {
      "model_module": "@jupyter-widgets/controls",
      "model_module_version": "1.5.0",
      "model_name": "VBoxModel",
      "state": {
       "_dom_classes": [
        "widget-interact"
       ],
       "children": [
        "IPY_MODEL_f0bf2c6bf8494048931eca494442f109",
        "IPY_MODEL_d6291608113e4e028a1754626cb48c2e",
        "IPY_MODEL_fbad2c6e60614e1b9bf3b4efa672146d"
       ],
       "layout": "IPY_MODEL_fe3bd9ff43f343958df891f76ffee087"
      }
     },
     "9b7f2fefd5224e9dafcbbc2fbc7759c0": {
      "model_module": "@jupyter-widgets/controls",
      "model_module_version": "1.5.0",
      "model_name": "VBoxModel",
      "state": {
       "_dom_classes": [
        "widget-interact"
       ],
       "children": [
        "IPY_MODEL_37dae8d8909c45f095fea6e6fc61b0a6",
        "IPY_MODEL_ff1320c03e364ca0a472221fd4b9c78a",
        "IPY_MODEL_7168d87d730c412da6ede1800fd963a7"
       ],
       "layout": "IPY_MODEL_60a9e025716543ec9883a441e61bd192"
      }
     },
     "9b82a7e5709d43ee8c3001a11911b6af": {
      "model_module": "@jupyter-widgets/controls",
      "model_module_version": "1.5.0",
      "model_name": "IntSliderModel",
      "state": {
       "continuous_update": false,
       "description": "Ordem da Matriz:",
       "layout": "IPY_MODEL_dd801eb81dd044b18127ca676bd81684",
       "max": 1000,
       "min": 30,
       "step": 10,
       "style": "IPY_MODEL_e68b18a212924f099eb9264d442cccbc",
       "value": 200
      }
     },
     "9bae4dbd854f45e9af9a5124b84b6748": {
      "model_module": "@jupyter-widgets/controls",
      "model_module_version": "1.5.0",
      "model_name": "IntSliderModel",
      "state": {
       "continuous_update": false,
       "description": "Ordem Matriz: ",
       "layout": "IPY_MODEL_7c4ef5797b41413e9b50b338fb9e389d",
       "max": 1000,
       "min": 30,
       "step": 10,
       "style": "IPY_MODEL_a5b3487f7c744e3c806c245dbecbe44a",
       "value": 200
      }
     },
     "9bf5d3f8080e47daa7c57918bf091037": {
      "model_module": "@jupyter-widgets/base",
      "model_module_version": "1.2.0",
      "model_name": "LayoutModel",
      "state": {}
     },
     "9c746ce5a94542b688b332cfa2a73d6a": {
      "model_module": "@jupyter-widgets/base",
      "model_module_version": "1.2.0",
      "model_name": "LayoutModel",
      "state": {}
     },
     "9d71ea26126c4a4a90bed296875d8504": {
      "model_module": "@jupyter-widgets/controls",
      "model_module_version": "1.5.0",
      "model_name": "SliderStyleModel",
      "state": {
       "description_width": ""
      }
     },
     "9da0fbb39f8848c28effe052bf876e29": {
      "model_module": "@jupyter-widgets/controls",
      "model_module_version": "1.5.0",
      "model_name": "ButtonStyleModel",
      "state": {}
     },
     "9e1e31d48c8440049b217c8a32317859": {
      "model_module": "@jupyter-widgets/output",
      "model_module_version": "1.0.0",
      "model_name": "OutputModel",
      "state": {
       "layout": "IPY_MODEL_63dc4f800a9c4bc1a0459c306f170349"
      }
     },
     "9e6cb86b8cce476d8febd1ba8263a21a": {
      "model_module": "@jupyter-widgets/base",
      "model_module_version": "1.2.0",
      "model_name": "LayoutModel",
      "state": {}
     },
     "9efc8e827ad34eada889ec5e37fcdd15": {
      "model_module": "@jupyter-widgets/controls",
      "model_module_version": "1.5.0",
      "model_name": "IntRangeSliderModel",
      "state": {
       "_model_name": "IntRangeSliderModel",
       "_view_name": "IntRangeSliderView",
       "continuous_update": false,
       "description": "Plotar N. Estados::",
       "layout": "IPY_MODEL_a71258b6da74457198a40db6cf983e36",
       "max": 50,
       "readout_format": "1d",
       "style": "IPY_MODEL_a3a354405f55437b97253eab73420164",
       "value": [
        0,
        3
       ]
      }
     },
     "9f5c8caf493c42b5bd0b7bfd5a4da125": {
      "model_module": "@jupyter-widgets/controls",
      "model_module_version": "1.5.0",
      "model_name": "VBoxModel",
      "state": {
       "_dom_classes": [
        "widget-interact"
       ],
       "children": [
        "IPY_MODEL_8e7271bf529542a399ed3b2f16ea52eb",
        "IPY_MODEL_2afd89c36a104846bfa9e144a9b279f5",
        "IPY_MODEL_ac30017361e34d11a0f194ff9c8f3f5c",
        "IPY_MODEL_9e1e31d48c8440049b217c8a32317859"
       ],
       "layout": "IPY_MODEL_c40ca4cf783649ebb6e0347b9bb5cd15"
      }
     },
     "9f765f28ae344c9ea57bdf91bc711137": {
      "model_module": "@jupyter-widgets/controls",
      "model_module_version": "1.5.0",
      "model_name": "ButtonModel",
      "state": {
       "description": "Run Interact",
       "layout": "IPY_MODEL_ecef80973dcf4cc3b3254305d9d80259",
       "style": "IPY_MODEL_8c2855c767784729b12798a2fb93ffa6"
      }
     },
     "9fdde8f9c10d432c8ee733f192a1b0b4": {
      "model_module": "@jupyter-widgets/base",
      "model_module_version": "1.2.0",
      "model_name": "LayoutModel",
      "state": {}
     },
     "a078cf99efd740d584f960305020b2a4": {
      "model_module": "@jupyter-widgets/controls",
      "model_module_version": "1.5.0",
      "model_name": "SliderStyleModel",
      "state": {
       "description_width": ""
      }
     },
     "a0b580b2179542b298bff56e15676510": {
      "model_module": "@jupyter-widgets/base",
      "model_module_version": "1.2.0",
      "model_name": "LayoutModel",
      "state": {}
     },
     "a0de5bc2ef4f4171a8ad4e557316f027": {
      "model_module": "@jupyter-widgets/controls",
      "model_module_version": "1.5.0",
      "model_name": "SliderStyleModel",
      "state": {
       "description_width": ""
      }
     },
     "a11f57a389224941b67476909abde117": {
      "model_module": "@jupyter-widgets/controls",
      "model_module_version": "1.5.0",
      "model_name": "ButtonModel",
      "state": {
       "description": "Run Interact",
       "layout": "IPY_MODEL_24ac944c4b434ac9b20eeb9dc09fe1b9",
       "style": "IPY_MODEL_6d6d4d5fe3de42e992557abe54e91396"
      }
     },
     "a1260a0ef7ab4a80a40587dcb3d8a11c": {
      "model_module": "@jupyter-widgets/controls",
      "model_module_version": "1.5.0",
      "model_name": "VBoxModel",
      "state": {
       "_dom_classes": [
        "widget-interact"
       ],
       "children": [
        "IPY_MODEL_e93376eb8425477ebed53af0049f3379",
        "IPY_MODEL_7fcdfa371abf437a9202a14606b73e43",
        "IPY_MODEL_16007653880841268c559c1205a194cb",
        "IPY_MODEL_2091fac2efab4ff3bd6deca5d374806c"
       ],
       "layout": "IPY_MODEL_26adeb7f5dcb4843ad0295fa5fae009b"
      }
     },
     "a25a1fd0a9a2474098946e265e4fee81": {
      "model_module": "@jupyter-widgets/base",
      "model_module_version": "1.2.0",
      "model_name": "LayoutModel",
      "state": {}
     },
     "a26b9e8ac4db4416b0e236c591b76988": {
      "model_module": "@jupyter-widgets/base",
      "model_module_version": "1.2.0",
      "model_name": "LayoutModel",
      "state": {}
     },
     "a297b10e017442659b3732e85e646dd0": {
      "model_module": "@jupyter-widgets/output",
      "model_module_version": "1.0.0",
      "model_name": "OutputModel",
      "state": {
       "layout": "IPY_MODEL_115ae1cc0f0e4c4b98379515b3c8a86b"
      }
     },
     "a29815d4c161465491be188560cb3e50": {
      "model_module": "@jupyter-widgets/controls",
      "model_module_version": "1.5.0",
      "model_name": "ButtonModel",
      "state": {
       "description": "Run Interact",
       "layout": "IPY_MODEL_8ab6ed610a0748ce9ce2a355cec5d856",
       "style": "IPY_MODEL_1c13970015b8439c8cfe73e5bf9bde98"
      }
     },
     "a2b411bebcc94b429a1a37a816515f2d": {
      "model_module": "@jupyter-widgets/base",
      "model_module_version": "1.2.0",
      "model_name": "LayoutModel",
      "state": {}
     },
     "a2e2ef425d9d484d861eeaca1f7a105e": {
      "model_module": "@jupyter-widgets/output",
      "model_module_version": "1.0.0",
      "model_name": "OutputModel",
      "state": {
       "layout": "IPY_MODEL_501d742b17af4879aee827d7a937e6f4"
      }
     },
     "a3268c155618482eabcb58e0df43b87b": {
      "model_module": "@jupyter-widgets/controls",
      "model_module_version": "1.5.0",
      "model_name": "ButtonStyleModel",
      "state": {}
     },
     "a3a354405f55437b97253eab73420164": {
      "model_module": "@jupyter-widgets/controls",
      "model_module_version": "1.5.0",
      "model_name": "SliderStyleModel",
      "state": {
       "description_width": ""
      }
     },
     "a3f08716a5ef44ebb50077766ada0885": {
      "model_module": "@jupyter-widgets/base",
      "model_module_version": "1.2.0",
      "model_name": "LayoutModel",
      "state": {}
     },
     "a419f2840ae94b67ab655e7c59ddb55c": {
      "model_module": "@jupyter-widgets/base",
      "model_module_version": "1.2.0",
      "model_name": "LayoutModel",
      "state": {}
     },
     "a42d8751bbdb40d1acb5d5e61cc97070": {
      "model_module": "@jupyter-widgets/controls",
      "model_module_version": "1.5.0",
      "model_name": "FloatRangeSliderModel",
      "state": {
       "_model_name": "FloatRangeSliderModel",
       "_view_name": "FloatRangeSliderView",
       "continuous_update": false,
       "description": "Domínio (angstroms):",
       "layout": "IPY_MODEL_d3bcae034e8940cebc1404ec1a71c5e9",
       "max": 500,
       "min": -500,
       "readout_format": "1d",
       "style": "IPY_MODEL_25d2e0addd6247189ee11f813e7c406f",
       "value": [
        -100,
        100
       ]
      }
     },
     "a460698d0c9a4a43925183fb349aef28": {
      "model_module": "@jupyter-widgets/base",
      "model_module_version": "1.2.0",
      "model_name": "LayoutModel",
      "state": {}
     },
     "a461e8b6940b44e5bc16fbd55c2160a9": {
      "model_module": "@jupyter-widgets/controls",
      "model_module_version": "1.5.0",
      "model_name": "DescriptionStyleModel",
      "state": {
       "description_width": ""
      }
     },
     "a47bf988781340fea5c576f3b95cd1e6": {
      "model_module": "@jupyter-widgets/output",
      "model_module_version": "1.0.0",
      "model_name": "OutputModel",
      "state": {
       "layout": "IPY_MODEL_9bf5d3f8080e47daa7c57918bf091037"
      }
     },
     "a47c4e811f08404383842123ab37c888": {
      "model_module": "@jupyter-widgets/controls",
      "model_module_version": "1.5.0",
      "model_name": "BoundedFloatTextModel",
      "state": {
       "description": "X_{min}:",
       "layout": "IPY_MODEL_69c7ee94040448e097dc5f71684cbc3f",
       "max": 500,
       "min": -500,
       "step": 1,
       "style": "IPY_MODEL_bae55aa5b2004f9f900dca20e0a72364",
       "value": 7
      }
     },
     "a47f4890f6454889b180b4496f14c21a": {
      "model_module": "@jupyter-widgets/base",
      "model_module_version": "1.2.0",
      "model_name": "LayoutModel",
      "state": {}
     },
     "a56c3b802c794d9ba123626cfcb2005a": {
      "model_module": "@jupyter-widgets/base",
      "model_module_version": "1.2.0",
      "model_name": "LayoutModel",
      "state": {}
     },
     "a5ab70ded7db4ff88a307ab1c90b50f0": {
      "model_module": "@jupyter-widgets/base",
      "model_module_version": "1.2.0",
      "model_name": "LayoutModel",
      "state": {}
     },
     "a5b3487f7c744e3c806c245dbecbe44a": {
      "model_module": "@jupyter-widgets/controls",
      "model_module_version": "1.5.0",
      "model_name": "SliderStyleModel",
      "state": {
       "description_width": ""
      }
     },
     "a5e87520c46440869dbee46fe49019aa": {
      "model_module": "@jupyter-widgets/controls",
      "model_module_version": "1.5.0",
      "model_name": "SliderStyleModel",
      "state": {
       "description_width": ""
      }
     },
     "a6701b517d534735a2532168f171ada2": {
      "model_module": "@jupyter-widgets/controls",
      "model_module_version": "1.5.0",
      "model_name": "ButtonModel",
      "state": {
       "description": "Run Interact",
       "layout": "IPY_MODEL_954013dbb1c54b99b1276de579554913",
       "style": "IPY_MODEL_16a73d2b398248d986cef53dbb7fa830"
      }
     },
     "a68e873495c44200af15a74569e614f6": {
      "model_module": "@jupyter-widgets/base",
      "model_module_version": "1.2.0",
      "model_name": "LayoutModel",
      "state": {}
     },
     "a697a5f2597f462fa10f0e1bd430847f": {
      "model_module": "@jupyter-widgets/base",
      "model_module_version": "1.2.0",
      "model_name": "LayoutModel",
      "state": {}
     },
     "a6d5d869834248d39370d60e96afd002": {
      "model_module": "@jupyter-widgets/base",
      "model_module_version": "1.2.0",
      "model_name": "LayoutModel",
      "state": {}
     },
     "a71258b6da74457198a40db6cf983e36": {
      "model_module": "@jupyter-widgets/base",
      "model_module_version": "1.2.0",
      "model_name": "LayoutModel",
      "state": {}
     },
     "a73cb86135cd4f19bdb2f15ed414a835": {
      "model_module": "@jupyter-widgets/controls",
      "model_module_version": "1.5.0",
      "model_name": "ButtonModel",
      "state": {
       "description": "Run Interact",
       "layout": "IPY_MODEL_17cbcaa7bc8e48f590532194a3b8d29c",
       "style": "IPY_MODEL_0bb834d791ea4bdd8e63b98e3ff59807"
      }
     },
     "a786070d951447759fe97c586381e63f": {
      "model_module": "@jupyter-widgets/output",
      "model_module_version": "1.0.0",
      "model_name": "OutputModel",
      "state": {
       "layout": "IPY_MODEL_3a68d06518854a8d840a690f632ab12f"
      }
     },
     "a812e7d73ec5426d9b1b04707f3e2502": {
      "model_module": "@jupyter-widgets/base",
      "model_module_version": "1.2.0",
      "model_name": "LayoutModel",
      "state": {}
     },
     "a84f1c91a8b24a90aa52b231f209b489": {
      "model_module": "@jupyter-widgets/controls",
      "model_module_version": "1.5.0",
      "model_name": "FloatRangeSliderModel",
      "state": {
       "_model_name": "FloatRangeSliderModel",
       "_view_name": "FloatRangeSliderView",
       "continuous_update": false,
       "description": "Domínio (angstroms)",
       "layout": "IPY_MODEL_c00ffcf01a0a42909d28e293c0d31bab",
       "max": 500,
       "min": -500,
       "readout_format": "1d",
       "style": "IPY_MODEL_44f7c93efa1e48dfb12ba0e21c946c77",
       "value": [
        -100,
        100
       ]
      }
     },
     "a92a17a4953f40a393311d8481a93719": {
      "model_module": "@jupyter-widgets/controls",
      "model_module_version": "1.5.0",
      "model_name": "SliderStyleModel",
      "state": {
       "description_width": ""
      }
     },
     "a9e44d05d19248888b87d85b49ce4e81": {
      "model_module": "@jupyter-widgets/base",
      "model_module_version": "1.2.0",
      "model_name": "LayoutModel",
      "state": {}
     },
     "aa3480ffeb3647b5b28ac609b407be21": {
      "model_module": "@jupyter-widgets/controls",
      "model_module_version": "1.5.0",
      "model_name": "ButtonStyleModel",
      "state": {}
     },
     "aa6f3eff3d4342e48f11c6cdad303961": {
      "model_module": "@jupyter-widgets/controls",
      "model_module_version": "1.5.0",
      "model_name": "VBoxModel",
      "state": {
       "_dom_classes": [
        "widget-interact"
       ],
       "children": [
        "IPY_MODEL_9efc8e827ad34eada889ec5e37fcdd15",
        "IPY_MODEL_64ce5a27b77f446582955a16b65fa658",
        "IPY_MODEL_a786070d951447759fe97c586381e63f"
       ],
       "layout": "IPY_MODEL_e74f01bf1e2d4a1582c049d8207c2967"
      }
     },
     "aa8ef78df917419faae80e267f30f8d1": {
      "model_module": "@jupyter-widgets/base",
      "model_module_version": "1.2.0",
      "model_name": "LayoutModel",
      "state": {}
     },
     "aa9532fabf1f49058325bc11b3dc3817": {
      "model_module": "@jupyter-widgets/base",
      "model_module_version": "1.2.0",
      "model_name": "LayoutModel",
      "state": {}
     },
     "aaf33f95aba94dbcaadc3d4666e54467": {
      "model_module": "@jupyter-widgets/base",
      "model_module_version": "1.2.0",
      "model_name": "LayoutModel",
      "state": {}
     },
     "ac30017361e34d11a0f194ff9c8f3f5c": {
      "model_module": "@jupyter-widgets/controls",
      "model_module_version": "1.5.0",
      "model_name": "ButtonModel",
      "state": {
       "description": "Run Interact",
       "layout": "IPY_MODEL_152d07ceed1d4f7c95efc6cd400e8f11",
       "style": "IPY_MODEL_363c9cbe3be741fdb90259bee4778706"
      }
     },
     "ac559f8172ff4d55bcc350176cec8446": {
      "model_module": "@jupyter-widgets/controls",
      "model_module_version": "1.5.0",
      "model_name": "ButtonStyleModel",
      "state": {}
     },
     "ac726606c36c4b2eb5d6134ab3ea8ff2": {
      "model_module": "@jupyter-widgets/output",
      "model_module_version": "1.0.0",
      "model_name": "OutputModel",
      "state": {
       "layout": "IPY_MODEL_6bf50b5ba5fe4d3080d3d50c5c1301c2"
      }
     },
     "ad2870704fce4cf89e02e7e296c18111": {
      "model_module": "@jupyter-widgets/controls",
      "model_module_version": "1.5.0",
      "model_name": "SliderStyleModel",
      "state": {
       "description_width": ""
      }
     },
     "ad7bdccd78a840ad82eb3a12ed3ba93e": {
      "model_module": "@jupyter-widgets/controls",
      "model_module_version": "1.5.0",
      "model_name": "SliderStyleModel",
      "state": {
       "description_width": ""
      }
     },
     "adf3f005cfab43c6b26fd6962c6dcb97": {
      "model_module": "@jupyter-widgets/controls",
      "model_module_version": "1.5.0",
      "model_name": "SliderStyleModel",
      "state": {
       "description_width": ""
      }
     },
     "adf8e111eb504870b4fc5088bab8bb63": {
      "model_module": "@jupyter-widgets/controls",
      "model_module_version": "1.5.0",
      "model_name": "IntSliderModel",
      "state": {
       "continuous_update": false,
       "description": "Ordem da Matriz:",
       "layout": "IPY_MODEL_a3f08716a5ef44ebb50077766ada0885",
       "max": 1000,
       "min": 30,
       "step": 10,
       "style": "IPY_MODEL_34732185f4054db79534e24fe94b0e41",
       "value": 200
      }
     },
     "ae2e2f4bc7ca4044a48a6303bc09b06c": {
      "model_module": "@jupyter-widgets/controls",
      "model_module_version": "1.5.0",
      "model_name": "ButtonStyleModel",
      "state": {}
     },
     "ae4a59a3cd0744ac85789bb7544e7a4b": {
      "model_module": "@jupyter-widgets/controls",
      "model_module_version": "1.5.0",
      "model_name": "VBoxModel",
      "state": {
       "_dom_classes": [
        "widget-interact"
       ],
       "children": [
        "IPY_MODEL_fdae5ba372304002a7e8cd3dd00509fb",
        "IPY_MODEL_5600cce9b98e4f8d8bcafe900752b0d3",
        "IPY_MODEL_fb040c8812da48ab8c3c7bd4d43fb733",
        "IPY_MODEL_d2493a2a66354e2aa6f4c53a6c56ab1b"
       ],
       "layout": "IPY_MODEL_01553829d3cc42da9fc7a0ed9f163bbf"
      }
     },
     "aee1673598f5404b883492118db5acb7": {
      "model_module": "@jupyter-widgets/controls",
      "model_module_version": "1.5.0",
      "model_name": "VBoxModel",
      "state": {
       "_dom_classes": [
        "widget-interact"
       ],
       "children": [
        "IPY_MODEL_8c80195734a8474c808067a623e5cd9a",
        "IPY_MODEL_f112b330a5764cf9b97df01990b4ca26",
        "IPY_MODEL_67baa47c2758403bb04a6450ab1ffedd"
       ],
       "layout": "IPY_MODEL_fe32256b43df4921b12e4c4288e34cd1"
      }
     },
     "af11e2e3aec548e18dc4d953573dc618": {
      "model_module": "@jupyter-widgets/controls",
      "model_module_version": "1.5.0",
      "model_name": "ButtonModel",
      "state": {
       "description": "Run Interact",
       "layout": "IPY_MODEL_001d39c5c3cd47db806e848fe6fb5bba",
       "style": "IPY_MODEL_aa3480ffeb3647b5b28ac609b407be21"
      }
     },
     "af69a92cdabb424c8cbf3a9d7967e0a8": {
      "model_module": "@jupyter-widgets/controls",
      "model_module_version": "1.5.0",
      "model_name": "FloatRangeSliderModel",
      "state": {
       "_model_name": "FloatRangeSliderModel",
       "_view_name": "FloatRangeSliderView",
       "continuous_update": false,
       "description": "Domínio (angstroms):",
       "layout": "IPY_MODEL_5aef954775f3424d97640c61aac06ff5",
       "max": 500,
       "min": -500,
       "readout_format": "1d",
       "style": "IPY_MODEL_d25666415ff3451ea62d012bdf78515a",
       "value": [
        -100,
        100
       ]
      }
     },
     "af8223a522bb4d379306552effb72df2": {
      "model_module": "@jupyter-widgets/output",
      "model_module_version": "1.0.0",
      "model_name": "OutputModel",
      "state": {
       "layout": "IPY_MODEL_946bf863ce77447dac2729f93c821f89"
      }
     },
     "afb2742684cb45d49a5b17bfbff2f8a2": {
      "model_module": "@jupyter-widgets/controls",
      "model_module_version": "1.5.0",
      "model_name": "IntRangeSliderModel",
      "state": {
       "_model_name": "IntRangeSliderModel",
       "_view_name": "IntRangeSliderView",
       "continuous_update": false,
       "description": "Plotar N. Estados::",
       "layout": "IPY_MODEL_a25a1fd0a9a2474098946e265e4fee81",
       "max": 50,
       "readout_format": "1d",
       "style": "IPY_MODEL_4bdc171ff1f54d5bb40719b39ce5ff77",
       "value": [
        0,
        3
       ]
      }
     },
     "b0280205e0b547c6aedd0f8e16f85e05": {
      "model_module": "@jupyter-widgets/output",
      "model_module_version": "1.0.0",
      "model_name": "OutputModel",
      "state": {
       "layout": "IPY_MODEL_b71068cbe4464a2b9625bb0f36f76cb9"
      }
     },
     "b02b11ab4aeb497fad8b9a007bbff016": {
      "model_module": "@jupyter-widgets/output",
      "model_module_version": "1.0.0",
      "model_name": "OutputModel",
      "state": {
       "layout": "IPY_MODEL_6f4063b5992a43b3ba11502c66d86eac"
      }
     },
     "b148b55a7cb14a9d8777d83b03f7983a": {
      "model_module": "@jupyter-widgets/base",
      "model_module_version": "1.2.0",
      "model_name": "LayoutModel",
      "state": {}
     },
     "b17d3ffb2b4740e996f06edec0a03918": {
      "model_module": "@jupyter-widgets/base",
      "model_module_version": "1.2.0",
      "model_name": "LayoutModel",
      "state": {}
     },
     "b198e3f28f714c759b367e4286f2968e": {
      "model_module": "@jupyter-widgets/output",
      "model_module_version": "1.0.0",
      "model_name": "OutputModel",
      "state": {
       "layout": "IPY_MODEL_8b49c477ade24327afbbd9cede99e1d5"
      }
     },
     "b26b5c91f0084f83b12d3e3da696ac96": {
      "model_module": "@jupyter-widgets/base",
      "model_module_version": "1.2.0",
      "model_name": "LayoutModel",
      "state": {}
     },
     "b303dfb612ae45b7a7d40ea03e314e0a": {
      "model_module": "@jupyter-widgets/controls",
      "model_module_version": "1.5.0",
      "model_name": "VBoxModel",
      "state": {
       "_dom_classes": [
        "widget-interact"
       ],
       "children": [
        "IPY_MODEL_4a1a3272bee444a0aaa7e956314b7cc1",
        "IPY_MODEL_c9f96f1153994e0a92cde54d9ac1f5e1",
        "IPY_MODEL_7ef494a5c0d2482fa52bd7d589f3a0ca"
       ],
       "layout": "IPY_MODEL_c5059c3166fc4aafb7c34a505cee1c46"
      }
     },
     "b324ebd8be814834955ce4fba91cf01d": {
      "model_module": "@jupyter-widgets/output",
      "model_module_version": "1.0.0",
      "model_name": "OutputModel",
      "state": {
       "layout": "IPY_MODEL_e4a553f9f42f4d629e3b29ed1a408936"
      }
     },
     "b35b5d868db24b178e8949ba4083c1c2": {
      "model_module": "@jupyter-widgets/controls",
      "model_module_version": "1.5.0",
      "model_name": "SliderStyleModel",
      "state": {
       "description_width": ""
      }
     },
     "b3749c64733f4b6eadc961c2c5461e6f": {
      "model_module": "@jupyter-widgets/controls",
      "model_module_version": "1.5.0",
      "model_name": "ButtonModel",
      "state": {
       "description": "Run Interact",
       "layout": "IPY_MODEL_e1afa60f65fa4be99df4ade446514472",
       "style": "IPY_MODEL_8fc2dba287ae4d1d80b317f4f0478550"
      }
     },
     "b43b4639504646d7af4249881d847a49": {
      "model_module": "@jupyter-widgets/controls",
      "model_module_version": "1.5.0",
      "model_name": "IntSliderModel",
      "state": {
       "continuous_update": false,
       "description": "Ordem da Matriz:",
       "layout": "IPY_MODEL_17f6901b3c984a24bd4e409beb70fb8c",
       "max": 1000,
       "min": 30,
       "step": 10,
       "style": "IPY_MODEL_be65a78314784df2909a0d182f791628",
       "value": 200
      }
     },
     "b44212f6dc5442afaa9ef76286d5aed4": {
      "model_module": "@jupyter-widgets/controls",
      "model_module_version": "1.5.0",
      "model_name": "ButtonModel",
      "state": {
       "description": "Run Interact",
       "layout": "IPY_MODEL_9a05136036044feaa72326d1390f3aa8",
       "style": "IPY_MODEL_0825ab695a494aa5b3e226d3d4811f12"
      }
     },
     "b45981e1bd9c4080bc936cd5c56a9be6": {
      "model_module": "@jupyter-widgets/base",
      "model_module_version": "1.2.0",
      "model_name": "LayoutModel",
      "state": {}
     },
     "b5a1fde8faec4d16898395bd8393a96e": {
      "model_module": "@jupyter-widgets/output",
      "model_module_version": "1.0.0",
      "model_name": "OutputModel",
      "state": {
       "layout": "IPY_MODEL_73e39c90aee54ae3893ef46af3d966dd",
       "outputs": [
        {
         "data": {
          "image/png": "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\n",
          "text/plain": "<Figure size 1152x648 with 1 Axes>"
         },
         "metadata": {
          "needs_background": "light"
         },
         "output_type": "display_data"
        }
       ]
      }
     },
     "b61241cbed2443da8a159778ec4edd2e": {
      "model_module": "@jupyter-widgets/controls",
      "model_module_version": "1.5.0",
      "model_name": "SliderStyleModel",
      "state": {
       "description_width": ""
      }
     },
     "b67501063c0f44dbbd5537adad27a6d6": {
      "model_module": "@jupyter-widgets/base",
      "model_module_version": "1.2.0",
      "model_name": "LayoutModel",
      "state": {}
     },
     "b6b90a2b2e804a08878712d77b1476f7": {
      "model_module": "@jupyter-widgets/controls",
      "model_module_version": "1.5.0",
      "model_name": "SliderStyleModel",
      "state": {
       "description_width": ""
      }
     },
     "b6c73f5107064fa9b2e4f1beeba30748": {
      "model_module": "@jupyter-widgets/controls",
      "model_module_version": "1.5.0",
      "model_name": "SliderStyleModel",
      "state": {
       "description_width": ""
      }
     },
     "b71068cbe4464a2b9625bb0f36f76cb9": {
      "model_module": "@jupyter-widgets/base",
      "model_module_version": "1.2.0",
      "model_name": "LayoutModel",
      "state": {}
     },
     "b72c97b126234fdb89ac49e7ee8f3b58": {
      "model_module": "@jupyter-widgets/output",
      "model_module_version": "1.0.0",
      "model_name": "OutputModel",
      "state": {
       "layout": "IPY_MODEL_69eb353167024340a4546269fc31e3f4",
       "outputs": [
        {
         "data": {
          "image/png": "iVBORw0KGgoAAAANSUhEUgAAA8YAAAIaCAYAAADiGlQhAAAAOXRFWHRTb2Z0d2FyZQBNYXRwbG90bGliIHZlcnNpb24zLjQuMiwgaHR0cHM6Ly9tYXRwbG90bGliLm9yZy8rg+JYAAAACXBIWXMAAAsTAAALEwEAmpwYAACcqUlEQVR4nOzdd3hU1drG4d9KJ4EQSkJJ6KG30EFBRaqKNBFBVESsYO8e9XiOvZdjL1hRqigIAiI2RDqEhN5LQgktlfSs748d+UQpAZLsJPPc15ULsmfPzDOUybx7rfUuY61FRERERERExFN5uR1ARERERERExE0qjEVERERERMSjqTAWERERERERj6bCWERERERERDyaCmMRERERERHxaCqMRURERERExKP5uB2gOFStWtXWrVvX7RgiIiIiIiJSyFasWHHQWht6Lo/hEYVx3bp1Wb58udsxREREREREpJAZY3ae62NoKrWIiIiIiIh4NBXGIiIiIiIi4tFUGIuIiIiIiIhH84g1xiIiIiIiUvZkZ2cTFxdHRkaG21GkGAQEBBAREYGvr2+hP7YKYxERERERKZXi4uKoUKECdevWxRjjdhwpQtZaDh06RFxcHPXq1Sv0x9dUahERERERKZUyMjKoUqWKimIPYIyhSpUqRTY7QIWxiIiIiIiUWiqKPUdR/l2rMBYRERERERGPpsJYREREREREPJoKYxERERERkXPw/vvvU6NGDaKioo59xcbGFspjz5kzh8aNGxMZGcnzzz9/xuec7LbXXnuN5s2b06JFC4YPH37c2t3c3FzatGlDv379jh3bvXs33bt3p1mzZjRv3pw33ngDgI0bNx73uoODg3n99dcL/Pq6d+/O3Llzjzv2+uuvc9tttxX4MQqDCmMREREREZFzEBsby9NPP010dPSxr5YtW57z4+bm5jJ27Fhmz57NunXrmDBhAuvWrSvwOSe7LT4+nv/9738sX76cNWvWkJuby8SJE4895htvvEHTpk2Pex4fHx9eeeUV1q1bx+LFi3n77bdZt24djRs3PvaaV6xYQWBgIIMGDSrwaxw+fPhxzw0wceJEhg8ffqZ/XOdEhbGIiIiIiMg5iImJISoqqtAfd+nSpURGRlK/fn38/PwYNmwY06dPL/A5p7otJyeH9PR0cnJyOHr0KDVr1gScLbBmzZrFjTfeeNzz1KhRg7Zt2wJQoUIFmjZtSnx8/HHnzJ8/nwYNGlCnTp0Tvp7x48fTsWNHoqKiuOWWW8jNzWXIkCHMmjWLrKwsAHbs2MGePXvo1q3bOf7pnRntYywiIiIiIqXef79by7o9yYX6mM1qBvPE5c1Pe97atWsZNWoUXl7OuOOYMWO4+eabT3mfbt26kZKS8o/jL7/8Mj179gQgPj6eWrVqHbstIiKCJUuWHHf+qc452W3h4eHcf//91K5dm3LlytG7d2969+4NwN13382LL754wmx/2rFjB6tWraJTp07HHT/VSO/69euZNGkSCxcuxNfXlzFjxvDll19y3XXX0bFjR2bPns2AAQOYOHEiQ4cOLfZu4yqMRUREREREztLu3bsJDQ0lJibmuOPffvsts2bNIjk5mdGjRx8rPP+0YMGC4ox5nCNHjjB9+nS2b99OSEgIV155JePHjyckJISwsDDatWvHL7/8csL7pqamcsUVV/D6668THBx87HhWVhYzZszgueeeO+H95s+fz4oVK+jQoQMA6enphIWFAf8/nfrPwnjcuHGF+4ILQIWxiIiIiIiUegUZ2S0KsbGx/1iPCzBw4EAGDhzIkSNHuP/++/9RGBdkxDg8PJzdu3cfuy0uLo7w8PDjzj/VOSe77ccff6RevXqEhoYCMHjwYP744w8qVqzIjBkz+P7778nIyCA5OZlrrrmG8ePHA5Cdnc0VV1zBiBEjGDx48HE5Zs+eTdu2balWrdoJ/5ystYwcOfKEhfOAAQO45557WLlyJUePHqVdu3YnfIyipMJYRERERETkLMXExNCkSZOT3v70008zduzYfxwvyIhxhw4d2Lx5M9u3byc8PJyJEyfy1VdfFfick92WmprK4sWLOXr0KOXKlWP+/Pm0b9+eO+6441jh+ssvv/Dyyy8fK4qttYwePZqmTZty7733/iPrhAkTTtkwq0ePHscK4LCwMA4fPkxKSgp16tShfPnydO/enRtuuKHYm279Sc23REREREREzlJsbCxffPHFse2K2rRpQ2pqKtZaHnroIS655JJjTavOlI+PD2+99RZ9+vShadOmDB06lObNnZHxSy+9lD179pzynJPd1qlTJ4YMGULbtm1p2bIleXl5p10TvXDhQr744gt++umnY6/1+++/ByAtLY158+b9YxT5r5o1a8bTTz9N7969adWqFb169WLv3r3Hbh8+fDirV692rTA21lpXnrg4tW/f3i5fvtztGCIiIiIiUojWr19/wmnMJcH//vc/PvvsMzp06EBUVBS33nqr25HKhBP9nRtjVlhr25/L42oqtYiIiIiISCG78847ufPOO92OIQWkwlhESrTcPMua+CRW7TrC6rgk4o4cZV9yBikZORjAx9uLasH+1KhYjibVK9C2TiXa1q5ExXK+bkcXKVIZ2bms2HmE1XGJrIlPIv5IOgdSMknLysXHy+Dn40W14AAiKpWjaY1gOtarTMvwigT4ersdXaRIJR7NYsXOI6zcdYSN+1LZk5hOQkomuXl5WCA4wJfqFQOoVSmQ1rUq0qZWJZrXDMbLq3i3hhGRkkWFsYiUONZalmw/zPToPfywdh+H0pwN36sF+1OvahDtalciuJwv1kJ2bh77kjPYfjCNnzYkkJtn8fEynB9Zlcta1eCyljUI8tdbnZQN2bl5/LhuP9/F7OGXjQc4mpULQJ0qgdSuHEhkWAXK+3uTay2Z2XnsSUpndVwiM2OcNVyBft70bFqNy1vXpHvjUHy81WpEyoaUjGy+W72XWbF7WLT1EHkWfLwM9UODiMgvgH28vDAGktKz2ZuUwW+bD/D1yjgAwir406d5dQa2qUnb2pWKff9UEXGfPi2KSImRnZvHNyvj+XjhdjbsSyHIz5vuTcLo3bw6HepWokbFcqe8f1pmDqvjEvl10wG+j93Lg1NjeHrmOoZ3qs2o8+pRvWJAMb0SkcKVnJHNF4t28sWinexLziC0gj+D2oTTs2k12tQOISTQ75T3P5zmjKD9vDGB2bF7mbF6D+Eh5bihaz2u6lCL8rp4JKVU3JGjfLJwB5OW7SY1M4d6VYMYc1Ek3RpWpVVECOX8Tj5DwlrLnqQMlm0/zNy1+5iyYjdfLN5Jy/CK3NC1Lpe3qqmLRyIeRM23RMR11lq+j93HS3M3sOPQUZpUr8AN59ejf1TNs572aa1l5a4jfPz7Dmav2Yuvtxeju9bj1osaEBygadZSOmRk5zJ+8U7e/nkLR45m061hVUZ2qUv3JmF4n+W0z+zcPH7akMC437ezdPthqgT5cXevRgzvUEtFgJQaiUezeOunLXy+aCd51tKvVQ1GnV+PVhEVz3q0Ny0zh29WxfPJwu1sPZBGw7DyPNi3CT2bhmkEuQQryc23pGgUVfMtFcYi4qqtB1J55OtYlu44TONqFXiwb2MublK4H0J2Hz7KKz9s5NvoPVQO8uOJy5vRv3VNfdCREu2PLQf51zex7Dh0lG4Nq/Jgnya0jKhYqM+xctcRXpi9gSXbDxMZVp7nBrekQ93KhfocIoXJWsvk5bt5ZtZ6UjNzuLJdLe7q2ZCaIaeeUXQm8vIsc9fu46W5G9l2MI1uDavy7KCW1KocWGjPIYVHhbHnUWF8DlQYi5Q8uXmW937dyhs/bqacnzePXNKEK9vXOutRsIJYE5/EY9+uIXp3Ihc3CePZQS01vVpKnNTMHJ78bi2Tl8dRp0ogTw1owQWNQovs+ay1zFu3nydnriM+MZ2RXeryYN/GBPpperWULLsPH+XhaTEs3HKITvUq8+SAFjSuXqHIni87N4+vluzipbkbycnL4/7ejbnh/Hpq0lXCqDD2PCqMz4EKY5GSZX9yBndPjGbRtkNc1rIGT/RvRliF4ilQc/Msn/6xg5fnbqScnzevDm3NRY3DiuW5RU5nTXwSd0xYxc5DadxyYQPu6tGw2LpIp2Xm8MKcDXy+aCeNqpXn3Wva0SC0fLE8t8jpzFmzjwemrsZaePiSJlzdsXaxFah7EtN57Ns1/LQhgYubhPHKla2pFHTqdf1SfFQYex4VxudAhbFIybFo6yFu/2olR7NyeWpgC4a0i3Alx5aEVG7/aiUb9qUwtnsD7uvVWKMA4qpJy3bx+LdrqRzkxxvDouhUv4orORZsPsBdE6PJzM7lhSGt6Neqpis5RABycvN49vsNfLxwO60iKvLW8LbUrlL8U5qttXy+aCdPz1pHaHl/3ry6Le3qVCr2HPJPKow9T1EVxuqyISLFZvKy3Vw7bgmVgvz47o7zXSuKASLDyvPt2PO5qn0t3v55K2O+XEl6/tY3IsUpN8/y9Mx1PPR1LJ3qV2b2Xd1cK4oBujUMZdadXWlSI5jbv1rF87M3kJdX9i+iS8mTkpHN6M+W8/HC7Vx/Xl2m3NrFlaIYwBjDyPPq8vVt5+HtbRj+wWKmR8e7kkVEioYKYxEpcnl5ludmr+fBr2Po0qAK08acR2RY0a0LK6gAX2+ev6Ilj/drxtx1+xj2wSISUjLcjiUeJC0zh5s/X85Hvzsf/D+5vkOJmKJZo2I5Jt7cmRGdavPer1u5Z3I0mTm6cCTFJz4xnSvfW8TvWw7y3OCW/Kd/c/x9imdZwam0igjhu9u70qZ2CHdNjObtn7fgCbMv5fTef/99atSoQVRU1LGv2NjYQnnsOXPm0LhxYyIjI3n++efP+JwT3ZaRkUHHjh1p3bo1zZs354knngBg48aNx72G4OBgXn/99eMeLzc3lzZt2tCvX79jx+rWrUvLli2JioqiffszG7jt3r07c+fOPe7Y66+/zm233XZGj3Ou1FlDRIpUTm4eD0yN4ZtV8VzTuTb/ubx5idoSxhjD6K71qFM5kDsnrmLQ23/w1U2dqFMlyO1oUsYlHc1m5CdLiY1P4qmBLbi2cx23Ix3H19uLpwe2ILxSOV6cs5GE5Ezev66dtjuTIrd5fwojPlpCenYun43qSNeGVd2OdJyQQD8+H92RB6fG8NLcjcQdSefpgS2KtHmklHyxsbE8/fTTjB49ulAfNzc3l7FjxzJv3jwiIiLo0KED/fv3p1mzZgU652S3NW3alJ9++ony5cuTnZ1N165dueSSS+jcuTPR0dHHHjc8PJxBgwYdl+mNN96gadOmJCcnH3f8559/pmrVM///Onz4cCZOnEifPn2OHZs4cSIvvvjiGT/WuSg5n05FpMzJysnjjgmr+GZVPPf3bsRTA1qUqKL4r3o2q8akm7twNCuHoe8vYktCqtuRpAw7kJLJVR8sYt2eZN4Z0bbEFcV/MsYw5qJIXruqNct3Huaaj5aQdDTb7VhShq3bk8xVHyzGAl/fdl6JK4r/5O/jzetXRTHmogZMWLqL+6esJic3z+1Y4qKYmBiioqIK/XGXLl1KZGQk9evXx8/Pj2HDhjF9+vQCn3Oy24wxlC/vNFjMzs4mOzv7H9tYzp8/nwYNGlCnzv//jIqLi2PWrFnceOONZ/V6xo8fT8eOHYmKiuKWW24hNzeXIUOGMGvWLLKysgDYsWMHe/bsoVu3bmf1HGdLI8YiUiQysnO5bfwKft54gMf7NWN013puRzqtlhEVmXhzF0Z8tJhhHyxi/I2daFI92O1YUsbsT85g+IeL2ZOYzkcj2xfpVkyFZVCbCIIDfLlt/EpGjFvM+NGdCAl0f8q3lC2rdydy3cdLCfLz5subOlOvasmeuWOM4cG+TSjn680r8zaRk2d5dWhrfEvoBWCPMPth2Fc405ePqd4SLjnx9OW/Wrt2LaNGjcLLy/n7HzNmDDfffPMp79OtWzdSUlL+cfzll1+mZ8+eAMTHx1OrVq1jt0VERLBkyZLjzj/VOae6LTc3l3bt2rFlyxbGjh1Lp06djnvciRMnMnz48OOO3X333bz44ov/yG2MoXfv3hhjuOWWW0742tevX8+kSZNYuHAhvr6+jBkzhi+//JLrrruOjh07Mnv2bAYMGMDEiRMZOnToPwr1oqbCWEQKXXZuHmO/XMkvmw7w7KCWXN2pttuRCqxx9QpMuqULIz5cwtUfLmHyLZ1LxHpoKRsOpWZy9YeL2Z+Uwec3dKJjvcpuRyqwHk2r8f617bjlixWM+GgJ40d3KhHroaVsWBOfxDXjlhAS6MtXN3amVmV3mmydjTt6NMTXx4vnZ28gNy+PN4e31bRqD7N7925CQ0OJiYk57vi2bdt45plnSEpKYurUqf+434IFC4or4gl5e3sTHR1NYmIigwYNYs2aNbRo0QKArKwsZsyYwXPPPXfs/JkzZxIWFka7du345Zdfjnus33//nfDwcBISEujVqxdNmjThggsuOO6c+fPns2LFCjp06ABAeno6YWHOlpl/Tqf+szAeN25cEb7yE1NhLCKFKjfPcu/k1czfkMDTA1uUqqL4Tw1CyzPh5s5c+d4irvloKVNu7VKqPqRJyZSUns2145YSdySdz27oWKqK4j91bxLGB9e14+YvVjDq02V8eWMngvz1UULOzZaEVEZ+vJQK/j5MvLkL4SHl3I50xm69sAHexvDM9+sJDojlucEti320SyjQyG5RiI2NPeGWUfXr12fcuHEMGTLkhPcryIhxeHg4u3fvPnZbXFwc4eHhx51/qnMKcv+QkBC6d+/OnDlzjhXGs2fPpm3btlSrVu3YeQsXLmTGjBl8//33ZGRkkJyczDXXXMP48eOPPWZYWBiDBg1i6dKl/yiMrbWMHDnyuGL7TwMGDOCee+5h5cqVHD16lHbt2p3wz6woaa6HiBQaay2PfhPLd6v38MglTbimhK6bLIh6VYMYf2NH0rNzuWbcEhKS1a1azt7RrBxGfbKUzQkpvH9tOzq7uB3TubqocRhvDm9DTFwit45fQVaO1lXK2Ys7cpRrxy3BGBh/Y6dSWRT/6aYL6nN790gmLtvNS3M3uh1HilFMTAxNmjQ54/stWLCA6Ojof3z9WRQDdOjQgc2bN7N9+3aysrKYOHEi/fv3P+5xTnXOyW47cOAAiYmJgDNyO2/evONew4QJE/4xjfq5554jLi6OHTt2MHHiRC6++GLGjx9PWlrasQI/LS2NH3744ViB/Vc9evRg6tSpJCQkAHD48GF27twJQPny5enevTs33HDDP563uKgwFpFC8+q8TUxctps7Lo7klgsbuB3nnDWpHswnozpwICWT6z5eSkqGmg7JmcvNs9zx1Sqidyfy5vA2XNQ4zO1I56xP8+o8P7gVCzYf5L4pq7XPsZyVI2lZXDduKWmZOXwxuhP1Q8u7Hemc3de7EVd3qs07v2zlowXb3I4jxSQ2NpYvvvji2BZHbdq0ITW1cJp4+vj48NZbb9GnTx+aNm3K0KFDad68OQCXXnope/bsOeU5J7tt7969dO/enVatWtGhQwd69ep1bPultLQ05s2bx+DBgwuUcf/+/XTt2pXWrVvTsWNHLrvsMvr27fuP85o1a8bTTz9N7969adWqFb169WLv3r3Hbh8+fDirV692rTA2Rbn3mjGmL/AG4A18ZK19/m+3+wOfA+2AQ8BV1todxpgqwFSgA/Cptfb2v9ynHfApUA74HrjLnuZFtG/f3i5fvrzQXpeI/NPk5bt5cGoMV7WvxfNXlK0pZAs2H2DUJ8s4P7Iq40a2L7GdtaXksdbyxIy1fL5oJ08NaM61Xeq6HalQvffrVp6fvYEbu9bjsX7NTn8HkXyZOblc+9FSouMS+erGTrSvW/qWFpxMbp7lzgmrmBW7lzeGRTEgKvz0d5Kztn79+hNOYy4JDh06xKOPPsq8efO48cYbeeSRR9yOVCac6O/cGLPCWntmGyj/TZF9ujPGeANvA5cAzYDhxpi//9QcDRyx1kYCrwEv5B/PAB4H7j/BQ78L3AQ0zP/65+UIESlWC7cc5F/TYunWsCpPD2pRpopigG4NQ3l6YAt+3XSAJ2aspSgvKErZMu737Xy+aCc3datX5opicNZVXn9eXT76fTsTl+5yO46UEtZaHpoaw9Idh3n5ytZlqigG8PYyvHpVazrXr8wDU2NYsfOI25HEJVWqVOG9995j69atKopLgaIc9ugIbLHWbrPWZgETgQF/O2cA8Fn+76cCPYwxxlqbZq39HadAPsYYUwMIttYuzh8l/hwYWISvQUROY/P+FG4dv4IGoeV5e0TbMrtNxbCOtbn1wgZ8uWQX437f7nYcKQXmrNnHM9+v55IW1XnkkpI5mlEYHrusKRc2CuWxb9fwx9aDbseRUuD1HzfzbfQe7u/diP6ta7odp0j4+3jz7oh21KwYwC1fLCfuyFG3I4nIaRTlJ9hwYPdfvo/LP3bCc6y1OUAScKqOJOH5j3OqxxSRYnIkLYtRny4jwNebj0d1IDjA1+1IRerBPo25tGV1nvl+PfPW7Xc7jpRg6/Ykc8+kaFpHhPDaVVF4leGtW3y8vXjz6jbUqxrEbeNXsv1gmtuRpASbHh3PG/M3c0XbCMZ2j3Q7TpGqFOTHRyM7kJmTx42fLSc1M8ftSCJyCmVzaAcwxtxsjFlujFl+4MABt+OIlDk5uXncMWEVCcmZfHBtu1LdSbSgvLwMrw6NokXNitw7KZptBwqnsYaULUfSsrhl/HKCy/nwwXXtCPD1djtSkQsO8OXj6zvg7WUY/ekyktWoTk5g7Z4kHvo6ho51K3vMdkaRYeV5Z0RbNiekcteEVWpUJ1KCFWVhHA/U+sv3EfnHTniOMcYHqIjThOtUjxlxmscEwFr7gbW2vbW2fWho6BlGF5HTeemHjfy+5SBPD2xBm9qV3I5TbAJ8vXnv2nb4+nhxyxcrSNMIgPxFTm4ed05cxf6kTN67ph1hFQLcjlRsalUO5P1r27Hr8FHun7xaa/HlOEfSsrjlixWElPPj7RFt8fMps2Mz/9CtYSj/7teM+RsSePOnLW7HEZGTKMp3pWVAQ2NMPWOMHzAMmPG3c2YAI/N/PwT46VQdpq21e4FkY0xn41xmvA6YXvjRReRUZsbs4f1ftzGiU22Gdqh1+juUMeEh5XhzeBu2HkjlwakxKgDkmJfmbmTB5oM8NbC5R10w+lOHupV55NKm/LBuP+/9qq1qxJGbZ7lzojPD6N1r2hJawd/tSMXuui51GNQmnNfnb+LXTZrJKFISFVlhnL9m+HZgLrAemGytXWuMedIY8+eu1OOAKsaYLcC9wMN/3t8YswN4FbjeGBP3l47WY4CPgC3AVmB2Ub0GEfmnjftSeGBKDO3qVOKJy5u7Hcc150dW5aG+TZgVu5cPtVelALNi9vL+b9u4pnNtrupQ2+04rrnh/Lr0a1WDl+Zu4I8tasYl8PIPzgWj/w7wzAtGAMYYnhnUgkZhFbhr4io14xIpgYp0Hou19ntrbSNrbQNr7TP5x/5trZ2R//sMa+2V1tpIa21Ha+22v9y3rrW2srW2vLU2wlq7Lv/4cmtti/zHvP10exiLSOFJy8xhzJcrCPL34R0Pmwp3IjdfUJ9LW1bn+dkqADzdjoNpPPR1DG1qh/Dvfp57wQicAuCFK1pRP7Q8d0xYxd6kdLcjiYvmr9/Pu79sZXjHWgzv6LkXjAAC/Xx479p25OZaxn65ksycXLcjichfePanWhE5I49PX8O2g2n8b1gU1YI9Z+3kyRhjeHFIa+qHlueuSdEcSMl0O5K4ICM7l7FfrcTby/DW1bpgBBDk78N717QjIzuXMV+uJCsnz+1I4oI9iencN2U1zWoEe/QMo7+qVzWIl65szeq4JJ78bp3bcUTkL/TTW0QKZMry3UxbGc+dFzfkvMiqbscpMcr7+/DW1W1ITs/mvimr1XHUAz37/XrW7knm5Stbe0R39oKKDCvPi0Nas2pXIq/8sNHtOFLMcnLzuHPCKrJz8nh7RFuP6M5eUH1bVOeWC+vz5ZJdzFi9x+04IpJPhbGInNbm/Sn8e/paOtevzJ09Grodp8RpUj2Yf1/ejN82HdB6Yw/zfexePl+0k9Fd69GrWTW345Q4l7WqwYhOtXn/t238poZDHuW1HzexfOcRnh3cknpVg9yOU+Lc37sxbWuH8Oi0WHYf1nrjsuD999+nRo0aREVFHfuKjY0tlMeeM2cOjRs3JjIykueff/6MzznZbSc7/sYbb9CiRQuaN2/O66+/fux4RkYGHTt2pHXr1jRv3pwnnnji2G2JiYkMGTKEJk2a0LRpUxYtWlTg19e9e3fmzp173LHXX3+d2267rcCPUSistWX+q127dlZEzs7RzBzb69VfbNsnf7D7ktLdjlNi5eXl2dvGL7cNHpllV+487HYcKQY7D6bZFv+eY/u/9bvNzM51O06JlZ7lvIe0e2qeTUjOcDuOFINfNybYug/PtA9NXe12lBJt1yHnPWTg27/brBy9h5ytdevWuR3BWmvt2LFj7UcffVToj5uTk2Pr169vt27dajMzM22rVq3s2rVrC3zOyW472fHY2FjbvHlzm5aWZrOzs22PHj3s5s2brbXOZ52UlBRrrbVZWVm2Y8eOdtGiRdZaa6+77jr74YcfWmutzczMtEeOHCnwa3z//fft9ddff9yxTp062V9//fWE55/o7xxYbs+xZtSIsYic0pMz17E5IZXXrtK64lMxxvDc4FZUCw7gjgmrSErPdjuSFKHs/P2KjYG3hrfRuuJTCPD15s3hbUnJyOZ+LTco8xJSMrhnUjSNwipoXfFp1KocyLODW7JqVyJv/LjZ7ThyjmJiYoiKiir0x126dCmRkZHUr18fPz8/hg0bxvTp0wt8zsluO9nx9evX06lTJwIDA/Hx8eHCCy9k2rRpgPNZp3z58gBkZ2eTnZ2NMYakpCR+++03Ro8eDYCfnx8hISEnfD3jx4+nY8eOREVFccstt5Cbm8uQIUOYNWsWWVlZAOzYsYM9e/bQrVu3Qv/zPBWfYn02ESlVfli7jwlLd3HLhfW5oFGo23FKvIrlfHnz6jZc+d4i/jUtlreuboOz5bqUNW/+tIXo3Ym8dXUbalUOdDtOide4egUe69eMx79dw8cLt3Njt/puR5IiYK3lgSkxpGbmMPHmzpTz07ri07m8dU0WbD7A279s4bzIKpzXQD08zsULS19gw+ENhfqYTSo34aGOD532vLVr1zJq1Ci8vJwLpWPGjOHmm28+5X26detGSkrKP46//PLL9OzZE4D4+Hhq1ap17LaIiAiWLFly3PmnOudkt53s+MCBA3n00Uc5dOgQ5cqV4/vvv6d9+/bHzsvNzaVdu3Zs2bKFsWPH0qlTJ6KjowkNDWXUqFGsXr2adu3a8cYbbxAUdPwyivXr1zNp0iQWLlyIr68vY8aM4csvv+S6666jY8eOzJ49mwEDBjBx4kSGDh1a7J+hVBiLyAklpGTw8LRYmtUI5r5ejd2OU2q0rV2J+3o34sU5G7lgeVWP3s+2rFqx8zBv/bSZwW3D6deqpttxSo1rOtVmwaYDvDBnA53qVaFlREW3I0kh+2LxTn7ddICnBjSnYbUKbscpNf7TvznLdx7hnknRzL7rAioH+bkdSc7Q7t27CQ0NJSYm5rjjaWlpjBkzBj8/Py666CJGjBhx3O0LFiwozpgF0rRpUx566CF69+5NUFAQUVFReHv//0Uub29voqOjSUxMZNCgQaxZs4acnBxWrlzJm2++SadOnbjrrrt4/vnneeqpp4577Pnz57NixQo6dOgAQHp6OmFhYQAMHz6ciRMnHiuMx40bV3wvOp8KYxH5hz+v+qdl5vC/4VGaJnqGbr2gAQs2HeTJ79bRpX5ValfRiGJZkZKRzd2TogmvVI7/9tc00TPhbG/WikveWMCdE1cx686uBPrpY0hZsSUhhWdmreeixqFc07mO23FKlUA/H/43rA2D3/mDB6fG8OF17TTb6CwVZGS3KMTGxtK0adN/HJ82bRpDhgzh8ssv56qrrvpHYVyQEePw8HB279597La4uDjCw8OPO/9U55zstlPdZ/To0cemRf/rX/8iIiLiHxlDQkLo3r07c+bM4ZprriEiIoJOnToBMGTIkBM2CbPWMnLkSJ577rl/3DZgwADuueceVq5cydGjR2nXrt0/zilq+rQrIv/w51X/Ry9rSmSYrvqfKS8vw8tDW+NlDPdNiSZXayrLjP9+t474I+m8NjSKCgG+bscpdUIC/Xh1aBQ7DqXx7Pfr3Y4jhSQrJ4+7JkYT5O/Di0Naqag7Cy3CK/Jg38b8uH4/U5bHuR1HzlBMTAxNmjT5x/G4uLhj05X/Our6pwULFhAdHf2Prz+LYoAOHTqwefNmtm/fTlZWFhMnTqR///7HPc6pzjnZbae6T0JCAgC7du1i2rRpXH311QAcOHCAxMREwBntnTdvHk2aNKF69erUqlWLjRudrfnmz59Ps2bN/vF6e/TowdSpU489/uHDh9m5cycA5cuXp3v37txwww0MHz68gH/yhUuFsYgcZ/P+/7/qf62u+p+18JBy/HdAc5btOMIHv2kLp7Lg+9i9TF0Rx+3dI2lft7LbcUqtLg2qMPr8eoxfvItftYVTmfDaj5tYuyeZ5we3JKyCmjSerRvOr0fn+pX573drtYVTKRMbG8sXX3xxbJumNm3akJqaSkREBHFxzoWOvLy8s3psHx8f3nrrLfr06UPTpk0ZOnQozZs7M5YuvfRS9uzZc8pzTnbbqe5zxRVX0KxZMy6//HLefvvtY4209u7dS/fu3WnVqhUdOnSgV69e9OvXD4A333yTESNG0KpVK6Kjo/nXv/71j9fSrFkznn76aXr37k2rVq3o1asXe/fuPXb78OHDWb16tWuFsXG6W5dt7du3t8uXL3c7hkiJl5WTx8C3F7IvOYM5d3fTB5xzZK1lzJcr+XH9fqaP7UqzmsFuR5KztDcpnb6vL6Bu1SCm3toFX29dVz4XGdm5XP7m7yRnZDP37gsICdSaytJqybZDDPtwMcM61OK5wa3cjlPqxR05St/XF9CsZjATb+qMl5dG309n/fr1J5zGXBKkpaVx++23ExAQQNeuXf8xlVrOzon+zo0xK6y17U9ylwLRT3YROebVeZtYtzeZF65opaK4EBhjeGZQSyqW8+PeydFkZOe6HUnOQl6e5f4pq8nOzeP1q6JUFBeCAF9vXrsqikOpWTw+fa3bceQsJWdkc+/k1dSpHMhjl/1z2qScuYhKgTxxeTOWbj/Mxwu3ux1HzlFQUBCffPIJ7777roriUkA/3UUEgGU7DvP+b1sZ3rEWvZpVcztOmVE5yI+XhrRiw74UXp23ye04cha+WLyThVsO8Xi/ZtSrGnT6O0iBtAivyF09GvLd6j3MWL3H7ThyFv4zfS37kjN47aoogvzVSK2wDGkXQa9m1Xhx7kY27f9nYyYRKRoqjEWEo1k53D9lNRGVyumqfxHo3iSMqzvV5sMF21i87ZDbceQMbD+YxnOz19O9cSjDOtQ6/R3kjNx2UQOiaoXw+Ldr2JeU4XYcOQOzY/cybVU8t3ePpE3tSm7HKVOMMTw3uCUV/H24Z1I0WTlntzZVRM6MCmMR4fnZG9h1+CgvDWmtq/5F5NFLm1K7ciD3TV5NSka223GkAHLzLPdNjsbfx5vnr1Cn3aLg4+3Fq0Nbk5mTy4Nfx+AJfU/KgoTkDP71TSytIipy+8WRbscpk6qW9+eZQS1ZuyeZt37a7HYcEY+gwljEw/2++SCfL9qZ3w2zittxyqwgfx9eHRrF3qR0/vvdOrfjSAF8uGAbK3cl8uSA5lQL1pr7olI/tDyPXtqU3zYdYPySXW7HkdOw1vLg1zEczcrl1aFac1+U+raozhVtI3j7l62s2nXE7Tglmi6qeY6i/LvWu5mIB0vOyObBqaupHxrEA30aux2nzGtXpxJjLopk6oo45qzZ53YcOYWN+1J49YdNXNKiOv1b13Q7Tpl3Tec6dGtYlWdnrWf7wTS348gpfLV0F79sPMAjlzQhMqy823HKvCf6N6NaBX/um7ya9Cw1cDyRgIAADh06pOLYA1hrOXToEAEBRXOxWts1iXiwB6as5uuVcUwbcz5RtULcjuMRsnLyGPTOQvYlZfDDPRdQpby/25Hkb7Jz87ct099RsdqXlEHv136lQVh5ptzSBR+NRJY4Ow6mcckbC2hXpxKf39BRWwkVkz+2HOTqj5Zw/Xl1+U//5m7HKXGys7OJi4sjI0N9CjxBQEAAERER+Pr6Hne8MLZr0mJCEQ/147r9TFkRx+3dI1UUFyM/Hy9eGdqa/m8u5NFv1vDuNW21drWEeeunLazdk8z717ZTUVyMqlcM4KmBLbhrYjQfLNjGmIu0drUkycnN497J0fh6G166spWK4mJ0XmRVRp1fl08W7qBn02p0bVjV7Ugliq+vL/Xq1XM7hpQBuhwr4oGOpGXx8LRYmlSvwJ09Grodx+M0qR7MPb0aMWftPm1TU8LExiXx1s9bGNwmnD7Nq7sdx+P0b12TS1tW57V5m9iwL9ntOPIX7//mrLl/amALalQs53Ycj/NQ3yY0CA3iwamrSVYDR5EiocJYxAM9Pn0NSelZvDo0Cj8fvQ244eYL6tOmdgj/nr6W/cma/lUSZGTncu/kaELL+/PE5Zqu6AZjDE8NaEHFcr7cO2m1tqkpIdbEJ/HavE1c1qqG1ty7JMDXm1eGRrE/JZMn1cBRpEjoE7GIh5kZs4eZMXu5q0dDmtUMdjuOx/L2MrxypbNNzcPapqZEeG3eJjYnpPLCkFZUDPQ9/R2kSFTJ36Zm3V5tU1MSZGTncs+kaCoH+fHMwBZa+uGiqFohjLmoAVNXxDFv3X6344iUOSqMRTxIQkoGj3+7htYRFbn1wgZux/F49UPL83DfJvy88QCTl+92O45HW77jMB8s2MbVnWpzYaNQt+N4vD7NqzO4bThv/7KV1bsT3Y7j0V6eu5HNCam8OKQVIYF+bsfxeHdc3JCmNYJ5ZFosh9Oy3I4jUqaoMBbxENZa/jVtDUezcnllaJQ6vpYQ13WpS5f6VXjyu3XsPnzU7Tge6WhWDvdNWU1EpXL869KmbseRfE9c3pzQ8v7cN2U1GdnapsYNi7YeYtzC7VzTuTYXNQ5zO47gNHB8dWhrktKzeHz6GrfjiJQp+mQs4iG+XhnPj+v380Cfxtp7sgTx8jK8OKQVAA9OjSEvT1Oqi9vzszew89BRXhrSmvL+2qyhpKhYzpcXh7RiS0Iqr87b5HYcj5Ockc39U1ZTt0qQLhiVME1rBHN3z0bMitnLd2rgKFJoVBiLeIA9ien8d8ZaOtarzA3na0uDkqZW5UAe79eMRdsO8fmiHW7H8SgLNh/g80U7ueH8enSuX8XtOPI3FzQKZUSn2ny4YBvLdhx2O45H+e+MdexNSueVoa0J9NMFo5LmlgvqE1UrhMenryFBDRxFCoUKY5EyzlrLQ1/HkGstLw9prb0nS6irOtTiosahPD9nA9sPprkdxyMkHc3mgSkxRIaV58G+jd2OIyfxr0ubElGpHPdNXk1aZo7bcTzCnDX7+HplHGO7R9K2diW348gJ+Hh78crQ1qRn5fLItFg1cBQpBCqMRcq4LxbvZMHmg/zr0qbUrhLodhw5CWMML1zRCn8fb+6bHE2uplQXuX/PWMPB1ExeGxpFgK+323HkJIL8fXh5SGt2HznK87M3uB2nzEtIyeBf38TSIjxY+9yXcA1Cy/NQ3ybM35DAlBVxbscRKfVUGIuUYVsSUnn2+/Vc1NiZjiglW7XgAJ4c0JyVuxL5cME2t+OUaTNj9jA9eg93XNyQlhEV3Y4jp9GpfhVGn18v/0LfAbfjlFnWWh75OpbUzBxeGxqFr5o0lnjXn1eXTvUq8+R364g7ogaOIudC73giZVR2bh73To4mwNebF69opb0nS4n+rWtySYvqvPrDJjbuS3E7TpmUkJzBY9+uoXWtEMZ217ZlpcX9fRrTIDSIB6fGkJyR7XacMmnSst3M35DAQ32b0LBaBbfjSAF4eRlevrI11lo1cBQ5RyqMRcqot37aQkxcEs8NaklYcIDbcaSAjDE8PbAFFQJ8uHdyNFk5eW5HKlOstTz4dQwZ2bm8OrS1ti0rRQJ8vXllaBT7kzN48rt1bscpc3YdOspTM9dxXoMqjDqvrttx5AzUqhzIY/2a8cfWQ3yxeKfbcURKLX0iECmDVu06wls/b2Fw23AuaVnD7ThyhqqU9+fZwS1ZuyeZ13/UNjWF6aulu/hl4wEeuaQpDUK1bVlpE1UrhDEXRTJ1RRxz1uxzO06ZkZtnuXdyNF7G8NKVatJYGg3rUIsLG4Xy3Oz1bElIdTuOSKmkwlikjDmalcO9k1dTPTiA//Rv7nYcOUt9mlfnqva1ePfXrSzdrm1qCsOOg2k8PXM9XSOrcm3nOm7HkbN0Z4+GtAyvyMPTYtivbWoKxQe/bWP5ziP8d0BzwkPKuR1HzoIxhheHtKKcrzd3T1ql2UYiZ0GFsUgZ8+z369lxKI2Xr2xNcICv23HkHPz78mbUrhzIPZOitabyHOXmWe6bshofb8NLV7bSiFgp5ufjxevDosjMzuP+Kau1pvIcrduTzKvzNnJJi+oMahPudhw5B9WCA3hucCvWxCfzmmYbiZwxFcYiZcjPGxMYv3gXN3atR5cGVdyOI+coyN+H16+KYl9yBk9MX+t2nFLt/d+2smLnEZ4a0IIaFTUiVto1CC3PY/2asmDzQT75Y4fbcUqtzJxc7p0cTcVyfjwzqKWaNJYBfVtUZ1iHWrz361YWbzvkdhyRUkWFsUgZcSQtiwenxtC4WgXu693Y7ThSSNrUrsSdFzfkm1XxzFi9x+04pVJsXBKvzdvEZS1rMCCqpttxpJBc3bE2PZtW44U5G9iwL9ntOKXSqz9sYsO+FF4c0pLKQX5ux5FC8ni/ZtSpHMi9k6JJOqrZRiIFpcJYpAyw1vLItFgSj2bx2lVRBPh6ux1JCtHY7g1oWzuER7+JJT4x3e04pUpqZg53TFhJ1fL+PD2whUbEyhBjDC9c0ZLgAF/umhBNRnau25FKlSXbDvHBgm0M71ibi5tUczuOFKIgfx/eGNaGhJRMHpu+Bmu13ECkIFQYi5QB4xfvZM7afTzYpwnNaga7HUcKmY+3F69dFUVenuW+ydHkak1lgT0xfS27Dh/ltauiqKQRsTKnSnl/XrqyFRv3p/DinI1uxyk1UjKyuW/KampXDuSxy5q6HUeKQOtaIdzdsyHfrd7Dt9HxbscRKRVUGIuUcuv2JPPUrPVc1DiU0V3ruR1HikidKkE80b85i7cd5r1ft7odp1T4dlU8X6+M4/aLG9K5vtbcl1XdG4cxsksdPl64nV83HXA7Tqnw1Mx17ElM59WhrQny93E7jhSR2y6KpEPdSjz+7Vp2Hz7qdhyREk+FsUgpdjQrh9snrCSknC+vaO/JMu/KdhH0a1WDV+dtYtkObeF0KjsPpfHYt2voULcSd14c6XYcKWKPXNqUxtUqcO+kaG3hdBo/rN3H5OVx3HZRA9rVqex2HClC3l6GV4dGYQzcPkFbOImcjgpjkVLsielr2X4wjdeHRVGlvL/bcaSIGWN4bnBLalUqxx1freJwWpbbkUqkrJw87pywCi8Drw9rg4+3ftSVdQG+3rw9oi3p2bncOWEVObkqAE7kQEomj0yLpXnNYO7q0cjtOFIMalUO5KUhrVi9O5HnZ29wO45IiaZPCyKl1Ler4pmyIo47ukdyXoOqbseRYlIhwJe3rm7L4bQs7p0crT1cT+CVHzayOi6JF65oRXiItmbyFJFh5Xl6YAuWbD/MG/M3ux2nxMnJdS4YpWXl8NpVUfj56COgp+jbogbXn1eXjxduZ+7afW7HESmx9K4oUgptP5jGo9/EOtNEezR0O44UsxbhFXm8X1N+2XiADxZscztOiTJ37T7e/20bIzrV5pKWNdyOI8VscNsIhraP4K2ft7Bgs9Yb/9Wr8zaxaNshnh7YkkbVKrgdR4rZI5c2oVVERR6YslrrjUVOQoWxSCmTlpnDrV+swNfHizc0TdRjXdO5Dpe2rM5LczeyXOuNAeeC0f2TV9MqoiKP92vmdhxxyX/7t6BhWHnunhhNgtYbAzB//X7e+WUrwzvWYki7CLfjiAv8fbx5a3hbLHD7Vyu13ljkBPSJWqQUsdby0NcxbE5I4c3hbaipaaIeyxjD81e0IqJSOcZ8udLjC4CjWc4FI29vwzsj2movbw9Wzs+bt69uy9GsXMaqAGD34aPcMyma5jWDeeLy5m7HERfVrpK/3jguiadnrXM7jkiJo8JYpBT5aMF2Zsbs5YE+TejWMNTtOOKy4ABf3r+2HSkZOdz2pecWANZaHpkWy6aEFP43rA0RlQLdjiQua1itAi8MacWyHUd4aqbnFgAZ2bnc9uUKLPDuiHa6YCT0bVGDm7rV4/NFO5m8bLfbcURKFBXGIqXEH1sO8tzs9VzSojq3Xljf7ThSQjSpHsxLV7Zixc4jPDlzrdtxXPH5op1Mj97DvT0bcUEjXTASR//WNbnlgvp8sXgnk5btcjtOsbPW8ti3a1gTn8yrQ6OoXUUXjMTxUN8mnB9Zhce+XcOqXUfcjiNSYqgwFikF4hPTuX3CKuqHluelK1tjjPYrlv/Xr1VNbrmwPuMX7/K4AuCPLQd5auY6ejQJY2x37Vcsx3uwbxO6NazK49+uZaWHFQAfLdjO1BVx3NWjIb2aVXM7jpQgPt5evDW8LWHB/tw6foXHL8UR+ZMKY5ESLjUzh5s+W05WTh7vX9uO8v4+bkeSEujBPv9fACzzkGZc2w6kcuv4FdSrGsRrw6Lw8tIFIzmet5fhzeFtqFbRn9vGr2BfkmcUAD9vSODZ2eu5rGUN7tLOBXIClYL8+ODa9iSn53Dr+BVk5uS6HUnEdSqMRUqwnNw87vhqJRv3p/D2iLY0CC3vdiQpof4sACIqleOmz5ez/WCa25GK1JG0LG74dBk+3l6MG9mB4ABftyNJCRUS6BQAqRk5jPp0GamZOW5HKlKb96dwx4RVNK8ZzMtXttYFIzmpZjWdpTgrdyXywJQY8vKs25FEXKXCWKSEstby5Mx1/LzxAE8OaM6FWjsppxES6MfH13fAyxhGfbKUw2lZbkcqElk5edz25Qr2JGbw/rXttHZSTqtpjWDeHtGWTftTGPvlSrJzy2ajugMpmYz+bDnl/Lz58Lr2lPNTsy05tX6tavJAn8bMWL2Hl3/Y6HYcEVepMBYpoT5euIPPF+3k5gvqM6JTHbfjSClRt2oQH17Xjj1JGdz8+XIyssvW9Li8PMvD02JYvO0wLwxpSYe6ld2OJKXERY3DeHpgC37ddIB/T1+DtWVrdCwlI5vrP1nKgZRMPryuPTUqajs/KZgxFzVgeMfavPPLVr5a4ll9KkT+SoWxSAn03eo9PD1rHX2bV+fhvk3cjiOlTLs6lXltaBTLdx7h3snR5JaR6XHWWp79fj3TVsZzT89GDGoT4XYkKWWGd6zNmIsaMGHpbt75ZavbcQpNZk4ut3yxgo37Unj3mrZE1QpxO5KUIsYYnhrQnO6NQ3l8+hp+2rDf7UgirlBhLFLC/LRhP/dMiqZDncq8dpUaCsnZuaxVDR67rCnfx+7j4a/Lxtqxd3/dyke/b2dklzrc2UMdqOXs3N+7MQOjavLS3I18vmiH23HOWW6e5d5Jq/lj6yFeHNKKixqHuR1JSiEfby/eurotTWtU4LbxK1m09ZDbkUSKnQpjkRJk8bZD3DZ+JU1rBDPueq0Pk3NzY7f63NWjIVNWxPHkzHWleurol0t28uKcjfRvXZMnLm+uLcvkrHl5GV66sjW9mlXj39PXMmX5brcjnbW8PMtj38YyK3Yvj17alMFtNYtCzl6Qvw+fjepIrcqBjP5smcdtcSaiwlikhFi24zCjP11G7cqBfHZDRyqoy64Ugrt7NmR013p8+scOXpy7sVQWx18s3smj36zh4iZh6rIrhcLX24u3rm5Dt4ZVeejrGGas3uN2pDOWl2f51zexTFi6m7HdG3DTBfXdjiRlQJXy/nx1YyfCKvgz8uOlrIlPcjuSSLFRYSxSAvy++SDXjVtKtYoBjL+xE5WD/NyOJGWEMYbHLmvK1Z1q8+4vW0vdyPFnf+zg8W/X0LNpGO9e0xY/H/3YksLh7+PNB9e2p33dytw9cRWTS9HI8Z9F8cRlu7m9eyT3927sdiQpQ8KCA/jyps4EB/hy9YeLWbHzsNuRRIqFPmGIuOynDfu54bNl1KkSyKSbu1AtOMDtSFLGGGN4ZmALRnetxycLd/Dw17ElviGXtZb3ft3KEzPW0rtZNd4Z0Q5/Hy0tkMJVzs+bT0d14PzIqjw4NYZPFm53O9JpZeXkcd+U1Uxctps7L47kvt6NtLRACl14SDkm3dKZKuX9ueajpfy++aDbkUSKnApjERdNXrabmz9fQeNqFZhwU2dCK/i7HUnKqD9Hju/s0ZBJy3dz+1crSc8qmVs55eZZ/jNjLc/P3kC/VjV4e4RGiqXoBPr58NHI9vRpXo3/freOV+dtKrGzKlIysrnh02V8syqeB/o05p5eKoql6ERUCmTyLV2oUyWQGz5dxvexe92OJFKk9ElDxAV5eZbnZ2/gwa9j6NKgCl/e1IlKmj4tRcwYw729GvHYZU2Zs3YfV32wiITkDLdjHSc9K5fbxq/gs0U7ualbPf43rA2+3vpRJUXL38ebt69uy5B2Efxv/mbunBhd4vYA35eUwdD3F7N42yFevrI1Y7tHqiiWIhdawZ9JN3ehRXgwY75cyZvzN5fYC0ci58p4wj/u9u3b2+XLl7sdQwSA1Mwc7p+8mjlr93F1p9r8t39zffCXYjdv3X7umriK4ABfPhrZnhbhFd2OxI6Dadz25Uo27Evm8cuacUPXem5HEg/jTOHfxotzN9AqvCIfXteesBKwvGXR1kPcMcGZ5fHuNe24oFGo25HEw2Rk5/LItFi+WRXP5a1r8uIVrbRzhpQoxpgV1tr25/QYKoxFis/aPUnc/tUqdh5K41+XNmV013q64i+uWbcnmRs/W8bB1Cwevawp13Wp49q/xzlr9vLAlBi8vAyvXdWai5tUcyWHCMDctfu4e2I0Qf7evDI0igtdKkT/LNRfmruBelWDeO+adjSsVsGVLCJ/vXDUuFoF3hzeRv8epcRQYVxAKozFbbl5lk8WbufFuRupFOjL/4a1oVP9Km7HEuFwWhb3T1nNTxsS6NWsGs8MakFYheIbIUvNzOG579fz5ZJdtI6oyFtXt6VW5cBie36Rk9m0P4Xbv1rJpv2p3Ni1Hvf3aUyAb/GNkMUnpvPw1zEs2HyQy1rV4IUrWlHe36fYnl/kZH7ZmMB9k1eTmpnDY5c1ZUSnOtpGT1ynwriAVBiLm9bvTebhr2NYHZdEz6bVeOGKllQpryZbUnJYaxn3u3PhJsDHi39d2pSh7WsV+Qednzck8Ni3a9iTlM7o8+vxQN/G6jwtJUpGdi5Pz1rH+MW7qF05kGcGtaBbw6IdPc7JzWPC0l28MGcjedbyyKVNuaZTbc0ukhIlISWD+6fE8NumA3SoW4lnBrWkkUaPxUUqjAtIhbG4YW9SOq/N28TUFXFUCvTjP/2b069VDX24kRJr24FUHpkWy5Lth2kVUZGH+jbh/Miqhf486/cm8+z361mw+SCRYeV54YpWtKtTqdCfR6Sw/LH1II9+s4btB9Po1awaD/RpXOhFgLWW3zYf5NlZ69m4P4XzI6vw/OBWmkEhJZa1likr4nj2+/WkZuQwolNtxl4cWayzjkT+pMK4gFQYS3HakpDCxwt38PWKOKyFa7vU4fbukeo6LaVCXp7lm1XxvDpvE/GJ6XSqV5kbutajZ9NqeJ/DCLK1lmU7jvDhgm38uH4/wQG+3HFxJNd2qaNRYikVMrJz+fC3bXzw2zZSs3Lo16om159Xl7a1Q87pgmdunmXu2n188Ns2oncnUqdKII9c0oQ+zavrQqqUCodSM3n5h01MXr4bX2/D1R3rcG2XOtSrGuR2NPEgKowLSIWxFLV9SRnMXbuPWbF7Wbr9MH4+XgxuE87Y7pG62i+lUkZ2Ll8u2cW4BdvYk5RBeEg5+rWqQd8W1WkdEVKgadbWWrYkpDJ7zT5mxuxh0/5UKgX6cm3nOozuWp+Kgb7F8EpECteRtCze+3UrXy3ZRUpmDs1qBNOvdQ16N6tOZFj5Aj1Gdm4eMXFJzIrZy8yYPSSkZFKnSiA3dqvP0PYRulgkpdKOg2n8b/5mZqzeQ06e5fzIKlzasgY9m1ajWgno7i5lmwrjAlJhLIUlPjGd2LgkjhzNYm9iOtsPHWXVriPEHUkHoFG18vRvXZPhHWtrHbGUCTm5ecxbt58Jy3bzx5aD5ORZKgT40DoihKY1KlC9YjlCK/jjbQy51pJ4NIv4I+lsPZDGyl1HOJyWBUCHupUY1CaCQW3CtcWHlAlpmTl8syqeKct3szouCYBqwf60DA+hSfUKhAX7UyXI+TmQk5fHwdQsdh8+ypaEVFbuOsLRrFz8vL24sHEoV7SNoFezc5uVIVJSJCRnMGnZbqasiGPX4aMA1KsaRPOawTSqVoEq5f2oEuRH29qVSsR2aFI2qDAuIBXGUlgmL9/Ng1NjAPAyUKNiOVrXqkjb2pW4qHEokWFqPCFlV9LRbH7auJ/lO46wOi6RTftTycrJ+8d5ft5eRFQuR5talWhftxLdG4dRvaI+/EjZtTcpnR/XJ7By5xFi4hLZfjCNvBN8vAry86Zu1SDa1alEh7qVuaBRKBXLaeaElE1/zhr6cX0C0buPsCY+mfjE9GO3vzuiLZe0rOFiQilLVBgXkApjKSyH07LYk5hOpSA/qlXwx8fby+1IIq6x1pKUns2BlEwszsWi4ABfqpb319Yd4tFy8yyH07KOzZjw8TZUCvSjUqCv1g2LR8vMyeVIWjYHUzOpVSlQS2qk0BRGYawN8UTOQOUgPyqriZYIAMYYQgL9CAnU/wmRv/L2MoRW8Ce0gpbUiPyVv4831St6axaRlEga7hIRERERERGPpsJYREREREREPJoKYxEREREREfFoKoxFRERERETEo6kwFhEREREREY+mwlhEREREREQ8mgpjERERERER8WgqjEVERERERMSjqTAWERERERERj6bCWERERERERDyaCmMRERERERHxaCqMRURERERExKOpMBYRERERERGPpsJYREREREREPFqRFsbGmL7GmI3GmC3GmIdPcLu/MWZS/u1LjDF1/3LbI/nHNxpj+vzl+D3GmLXGmDXGmAnGmICifA0iIiIiIiJSthVZYWyM8QbeBi4BmgHDjTHN/nbaaOCItTYSeA14If++zYBhQHOgL/COMcbbGBMO3Am0t9a2ALzzzxMRERERERE5K0U5YtwR2GKt3WatzQImAgP+ds4A4LP8308FehhjTP7xidbaTGvtdmBL/uMB+ADljDE+QCCwpwhfg4iIiIiIiJRxRVkYhwO7//J9XP6xE55jrc0BkoAqJ7uvtTYeeBnYBewFkqy1P5zoyY0xNxtjlhtjlh84cKAQXo6IiIiIiIiURaWq+ZYxphLOaHI9oCYQZIy55kTnWms/sNa2t9a2Dw0NLc6YIiIiIiIiUooUZWEcD9T6y/cR+cdOeE7+1OiKwKFT3LcnsN1ae8Bamw1MA84rkvQiIiIiIiLiEYqyMF4GNDTG1DPG+OE0yZrxt3NmACPzfz8E+Mlaa/OPD8vvWl0PaAgsxZlC3dkYE5i/FrkHsL4IX4OIiIiIiIiUcT5F9cDW2hxjzO3AXJzu0R9ba9caY54ElltrZwDjgC+MMVuAw+R3mM4/bzKwDsgBxlprc4ElxpipwMr846uAD4rqNYiIiIiIiEjZZ5wB2rKtffv2dvny5W7HEBERERERkUJmjFlhrW1/Lo9RqppviYiIiIiIiBQ2FcYiIiIiIiLi0VQYi4iIiIiIiEdTYSwiIiIiIiIeTYWxiIiIiIiIeDQVxiIiIiIiIuLRVBiLiIiIiIiIR1NhLCIiIiIiIh5NhbGIiIiIiIh4NBXGIiIiIiIi4tFUGIuIiIiIiIhHU2EsIiIiIiIiHk2FsYiIiIiIiHg0FcYiIiIiIiLi0VQYi4iIiIiIiEdTYSwiIiIiIiIeTYWxiIiIiIiIeDQVxiIiIiIiIuLRVBiLiIiIiIiIR1NhLCIiIiIiIh5NhbGIiIiIiIh4NBXGIiIiIiIi4tFUGIuIiIiIiIhHU2EsIiIiIiIiHk2FsYiIiIiIiHg0FcYiIiIiIiLi0VQYi4iIiIiIiEdTYSwiIiIiIiIeTYWxiIiIiIiIeDQVxiIiIiIiIuLRVBiLiIiIiIiIR1NhLCIiIiIiIh5NhbGIiIiIiIh4NBXGIiIiIiIi4tFUGIuIiIiIiIhHU2EsIiIiIiIiHk2FsYiIiIiIiHg0FcYiIiIiIiLi0VQYi4iIiIiIiEdTYSwiIiIiIiIeTYWxiIiIiIiIeDQVxiIiIiIiIuLRVBiLiIiIiIiIR1NhLCIiIiIiIh5NhbGIiIiIiIh4NBXGIiIiIiIi4tFUGIuIiIiIiIhHU2EsIiIiIiIiHk2FsYiIiIiIiHg0FcYiIiIiIiLi0VQYi4iIiIiIiEdTYSwiIiIiIiIeTYWxiIiIiIiIeDQVxiIiIiIiIuLRVBiLiIiIiIiIR1NhLCIiIiIiIh5NhbGIiIiIiIh4NBXGIiIiIiIi4tFUGIuIiIiIiIhH8zndCcaY9kA3oCaQDqwB5llrjxRxNhEREREREZEid9IRY2PMKGPMSuARoBywEUgAugI/GmM+M8bULp6YIiIiIiIiIkXjVCPGgcD51tr0E91ojIkCGgK7iiCXiIiIiIiISLE4VWG89GRFMYC1Nrrw44iIiIiIiIgUr1M13/rAGLPZGPOUMaZZsSUSERERERERKUYnLYyttW2AfkAOMNUYs9oY87Axpm5xhRMREREREREpaqfcrslau9Fa+19rbTPgOqAiMN8Ys7BY0omIiIiIiIgUsQLtY2yM8QLCgGpAEE53ahEREREREZFS75T7GBtjugHDgYFALDARuMdam1T00URERERERESK3kkLY2PMbmAnTjH8H2utRolFRERERESkzDnViHFXa+3OP78xxgRaa48WQyYRERERERGRYnOqrtQ7AYwxXYwx64AN+d+3Nsa8U0z5RERERERERIpUQZpvvQ70AQ4BWGtXAxcUYSYRERERERGRYlOgrtTW2t1/O5RbBFlEREREREREit0pu1Ln222MOQ+wxhhf4C5gfdHGEhERERERESkeBRkxvhUYC4QD8UBU/vciIiIiIiIipd5pR4yttQeBEcWQRURERERERKTYnXTE2BjzmDGm8iluv9gY069oYomIiIiIiIgUj1ONGMcC3xljMoCVwAEgAGiIM536R+DZog4oIiIiIiIiUpROWhhba6cD040xDYHzgRpAMjAeuNlam148EUVERERERESKTkHWGG8GNhdDFhEREREREZFiV6B9jEVERERERETKKhXGIiIiIiIi4tFUGIuIiIiIiIhHO21hbIx50RgTbIzxNcbMN8YcMMZcUxzhRERERERERIpaQUaMe1trk4F+wA4gEnigKEOJiIiIiIiIFJeCFMZ/dq6+DJhirU0q6IMbY/oaYzYaY7YYYx4+we3+xphJ+bcvMcbU/cttj+Qf32iM6fOX4yHGmKnGmA3GmPXGmC4FzSMiIiIiIiLydwUpjGcaYzYA7YD5xphQION0dzLGeANvA5cAzYDhxphmfzttNHDEWhsJvAa8kH/fZsAwoDnQF3gn//EA3gDmWGubAK2B9QV4DSIiIiIiIiIndNrC2Fr7MHAe0N5amw2kAQMK8NgdgS3W2m3W2ixg4gnuNwD4LP/3U4EexhiTf3yitTbTWrsd2AJ0NMZUBC4AxuVny7LWJhYgi4iIiIiIiMgJ+Zz+FABqAj2NMQF/Ofb5ae4TDuz+y/dxQKeTnWOtzTHGJAFV8o8v/tt9w4F04ADwiTGmNbACuMtam/b3JzfG3AzcDFC7du3TRBURERERERFPVZCu1E8Ab+Z/dQdeBPoXca6T8QHaAu9aa9vgjF7/Y+0ygLX2A2tte2tt+9DQ0OLMKCIiIiIiIqVIQdYYDwF6APustaNw1vVWLMD94oFaf/k+Iv/YCc8xxvjkP+6hU9w3Doiz1i7JPz4Vp1AWEREREREROSsFKYzTrbV5QI4xJhhI4Pii9WSWAQ2NMfWMMX44zbRm/O2cGcDI/N8PAX6y1tr848Pyu1bXAxoCS621+4DdxpjG+ffpAawrQBYRERERERGREyrIGuPlxpgQ4EOcNb2pwKLT3Sl/zfDtwFzAG/jYWrvWGPMksNxaOwOnidYXxpgtwGGc4pn88ybjFL05wFhrbW7+Q98BfJlfbG8DRhX41YqIiIiIiIj8jXEGaAt4srPPcLC1NqbIEhWB9u3b2+XLl7sdQ0RERERERAqZMWaFtbb9uTzGSUeMjTFNrLUbjDH/WMNrjGlrrV15Lk8sIiIiIiIiUhKcair1vTjbHb1ygtsscHGRJBIREREREREpRictjK21N+f/2r344oiIiIiIiIgUr9M23zLGDD7B4SQg1lqbUPiRRERERERERIpPQbpSjwa6AD/nf38RTnfqesaYJ621XxRRNhEREREREZEiV5DC2Adoaq3dD2CMqQZ8DnQCfgNUGIuInM7Rw3BkBxw9lP91GHLSwVqctg0GAipCuUrOV4XqUKke+AW6HFxEPEZWGhzeBqn7IT0R0o9ARhLH3qOMAd9AKFcZAqtAUBWoVNd5zxIRKeUKUhjX+rMozpeQf+ywMSa7iHKJiJROeXlwaDPsXgJxyyBhAxzaAumHz+7xgsOhSgOo3goiOjhfFcMLN7OIeBZrIWm38x4VtwL2xTjvUyl7z+7xAqtC1YYQ2sR5j6rVyXnfMqZwc4uIFKGCFMa/GGNmAlPyv78i/1gQkFhUwURESo3UBNj8A2yaA9sXQEaiczwgBKq1gGb9oUpDqFwfgkIhsLIzwuIXlP8ABmweZCY7IzTpRyA5Hg5tcz6sHtoMSz+ERW85pwdHQMOe0LAP1LsA/Mu78KJFpFTJSIZtvzjvVVvmQ8oe57hPAFRvCfW7Q5X6ULmBc0Huz9krAcGAAaxTUGcfdd6jjh5y3vsOb3Peow5ugTXTYMUnzuOWqwz1L4RGfSGylzO6LCJSghlr7elPMuYKoGv+twuBr21B7lhCtG/f3i5fvtztGCJSlqQdhNipEDsF4vPfXyrUhMgeULszRHSEKpHg5VU4z5eTBftjIW457FgAW3+BrBTw9oMGPaDVUGh8CfiWK5znE5HSLysNNnwPMZNg28+QlwP+FaFBd6jb1RndrdYcvH0L5/ny8uDgRti91Jk1s+VHZ1o2xhlFbnUlNB/sXBwUESlExpgV1tr25/QYp6pvjTHewFprbZNzeRK3qTAWkUKRl+uMCq/8ArbMcz5kVm8FTftDoz7OqEtxTR3MyYLdi2HjHFg7zZkC6R/sjE53uBFqtimeHCJSsljrTJFeNg7WfwfZaVCxFrQY7IzeRnQE74JMGCwEeXmwN9oZpV43HRLWORfzGvWBNtdBZM/Cu3goIh6tyAvj/CeZDtxhrd11Lk/kJhXGInJO0hNh1XhY+gEk7nRGhltdCa2GQbVmbqdzCvYdv0PMZFj7jfNBuFYn6HgzNBtQeKNBIlJy5WQ6//+XvAd7VjkXyloMhlZXQa3O7heg1sK+WFg90Zlpk5bgzKrpeAtEDQf/Cu7mE5FSrbgK49+ANsBSIO3P49ba/ufyxMVJhbGInJW0g/DHm7DsI8hKhdrnQefboPGlxTficqYykiD6K1jyPhzZ7owUdb0H2lwDPv5upxORwpadDis+hd9fh9R9ULURdLrFuXBXUvsP5GY7I8iL33WWovhXdDJ3GaMO1yJyVoqrML7wRMettb+eyxMXJxXGInJG0g7CH/+DpR85jWZaXAHn3wk1WrudrODy8pzp3r+9DHFLnVHurvdAu5EqkEXKgux0Z7r0wjec0dc6XaHbvdDg4tLVDTpuOSx83Zn27R/sFMidx2gdsoickWIpjPOfqA7Q0Fr7ozEmEPC21qacyxMXJxXGIlIg2emw+B1Y8JozHbnFELjgAQht5Hays2et04n21xdg1yJnz9FeTzrrokvTh2cRceTlOVOR5z8JyXFQ70K48EGnmVZptm8N/PaiM5IcEAIXPuT0S/DxczuZiJQCxTVifBNwM1DZWtvAGNMQeM9a2+Ncnrg4qTAWkVOyFtZ8DT/+x9nbs/Fl0PM/pbsg/jtrYet8mPsYHFgPtbtAn2cgvJ3byUSkoHYshLn/chpa1Yhy/g+X9oL47/atgXmPw9afnK2jej/tdNzXhTwROYXiKoyjgY7AEmttm/xjsdbalufyxMVJhbGInNSBjTDzHti50Okq3edZZ2/gsio3B1Z9AT8/A2kHoM21zgiypi2KlFxpB+GHx2D1BGcf855PODNa3G6oVVSshc3z4IdH4eAmqH8RXPYqVGngdjIRKaEKozAuSPeYTGttlsm/UmeM8QFKzR7GIiInlJ0BC16B318Dv0C4/A2nSPTydjtZ0fL2gfajnHXTv70Ii95xtqDq+7xzTKMyIiVHXh5Ej4d5/4bMVOh2P1xwf9nfr9wYaNTb2W95+cfw0zPw7nnOlPHz7lSnfREpEgUZMX4RSASuA+4AxgDrrLWPFnm6QqIRYxE5zo6FMOMOOLwVWg51piOWD3M7lTv2xsB3d8GeldCgB/R7DSrVcTuViBzaCtNvh11/QJ3znRHTsCZup3JH8l6Y/SCsnwFhzaH//yDinAaGRKSMKa6p1F7AaKA3YIC5wEe2IF27SggVxiICOKPEPz0Fi952ir9+rzkdXD1dXi4s/dD5swG45AWIGqHRYxE3WAvLx8EPjzsjo32e1f/HP22YBbPud7al6noPXPiwmnOJCFCMXalLOxXGIsLe1TDtFqfxVPvR0Psp8AtyO1XJkrgLvrkNdv7uNCC7/A0oH+p2KhHPkbzHGSXeOt+5aDfgbQiu6XaqkiUjGeY+AqvGO1voDf4QQhu7nUpEXFYYhfFpuzYYY843xswzxmwyxmwzxmw3xmw7lycVESk2eXnOOuIPe0D6ERjxNfR7VUXxiYTUhpHfOV1gt8yDd7vAprlupxLxDOu/g3c6O9uqXfYKXDNNRfGJBAQ7FwyuGg9JcfD+BbDkfWekXUTkHBRkKvUG4B5gBZD753Fr7aGijVZ4NGIs4qHSDsE3N8OWH6HZQGfqtLovF8z+tTDtZti/xml20+PfangjUhRyMp3mWkveg5pt4Ipx6r5cUCn7YfpY50Je40th4DtQrpLbqUTEBcW1xniJtbbTuTyJ21QYi3igXYth6g3OlkR9n4f2N2iN3pnKznCmLC7/GGp1hiEfQ8Vwt1OJlB2Ht8PUUbBnFXQeAz3/qzWzZ8pa56LCD49BcDgM/cy5wCAiHqVYplIDPxtjXjLGdDHGtP3z61yeVESkyOTlwe+vwyeXgrcf3PgjdBitovhs+AY4o+yDP4J9sfB+N9gy3+1UImXD+u/g/Qvh0Da46kvo+5yK4rNhDHS+DUbNcRoJjusNyz7S1GoROWMFGTH++QSHrbW21LRy1YixiIfITIFvboUNM6HZAOj/JgRUdDtV2XBgE0y+Dg5sgIsegQseAK+CXFsVkePk5cJPT8Pvr0LNtnDlJ1Cprtupyoa/Lp9peSVc/j9nn3oRKfPUlbqAVBiLeIDD22DC1XBwk9M8qvNtGiUubFlHYeY9EDPRufAw8F01MRM5ExlJ8PVNsHkutB0Jl74EPv5upypb8vLg91fgp2egeksYPgEqRridSkSKWHF1pa5mjBlnjJmd/30zY8zoc3lSEZFCtfVn+KA7pOyFa76GLmNUFBcFv0AY9J5z4WH9dzCuj7PFk4ic3oFN8OHFzlZMl73ibIemorjweXk5M1qunuSs4f7gIti1xO1UIlIKFGQe3KfAXODPPQM2AXcXUR4RkYKzFha/C+OvgAo14OafoUF3t1OVbcbAeXfA1VOcoviD7rBzkdupREq2TT/ARz0gPRGumwEdbtTFu6LWqA/cNB/8K8Cnl8HKL9xOJCIlXEEK46rW2slAHoC1Noe/bNskIuKK3BxnWu+ch6HxJXDjPKhc3+1UnqNhT+dDZ7kQ+OxyWPm524lESqYlH8CEq5x1xDf/AnXPdzuR5whtDDfOd/7MZ9wOc/7lrPEWETmBghTGacaYKoAFMMZ0BpKKNJWIyKlkpjgfNFd8AuffDUO/cEYFpHhVbeh86Kx3Acy4A+Y/qU6wIn/Ky4U5j8DsB6BhH7hhDoTUcjuV5wmsDCO+hk63wuK3nSaC2elupxKREsinAOfcC8wAGhhjFgKhwJAiTSUicjLJe+DLoZCwzlmj1+56txN5tnIhcPVk+P4+WPAKJO6GAW9r2xnxbFlHYdpNTof8TrdCn2fBy9vtVJ7L2wcuecEZtZ/ziDPLZfhECKrqdjIRKUFOWxhba1caYy4EGgMG2GitzS7yZCIif7dvDXx5JWQmw4jJENnT7UQCzofOfq9DxVrw01OQug+uGq+tssQzpSbAhGEQvxL6Pu90yJeSofNtEFwTpt0M43rBiKlQpYHbqUSkhCjQJpTW2hxr7Vpr7RoVxSLiiq0/wcd9nd/fMEdFcUljDFxwPwx6H3b+4fxdJcW5nUqkeB3c4jTZ2r8Ohn2porgkajbAaYCWnugUx7uXuZ1IREqIAhXGIiKuWvO1M326Uh248Udnb0opmVoPc7bMSoqDj3rBvli3E4kUj/iV8HFvZxr1qFnQ5DK3E8nJ1O7k/CzxD4bP+sH6mW4nEpESQIWxiJRsSz+EqaOhVkcY9T1UDHc7kZxO/YucUX2ATy6FHQtdjSNS5Lb94qxb9QuC0T9AeDu3E8npVGkAo+dBtRYw+Vpt5yQiBSuMjTH9jTEv539dXtShRESwFn5+Dr6/39mO6ZqvtWa1NKnW3NlCq0J1GD8YNs11O5FI0Vj7rdP7IKQ23PCD1qyWJuVDYeQM52LejNvhjzfdTiQiLjptYWyMeQ64C1iX/3WnMebZog4mIh4sLw++fwB+fR6iRjjbMfmWczuVnKmKETBqNoQ2gYlXQ+xUtxOJFK5l42DK9VCzrTOjJbiG24nkTPkFOR2qmw2EHx7TtnMiHqwg2zVdBkRZa/MAjDGfAauAfxVlMBHxUDlZ8O2tzrri8+6AXk85jZ2kdAqqCiO/gwnD4esbISMROtzodiqRc2Mt/PYS/PyMs0fxlZ+CX6DbqeRs+fjDkI9hZkVn27mjh+GyV7TFloiHKUhhDBACHM7/veYyikjRyE6HSdfClnnQ60k4/y63E0lhCAiGa6bClFEw6z5IPwLd7tcFDymdrHVGFhe9Ba2HQ/83wdvX7VRyrry84fI3ILAy/P4aZCQ5Xfa1J7uIxyhIYfwcsMoY8zPOPsYXAI8UaSoR8TyZqc7enzt+h8v/B+1Gup1ICpNvObjqC5g+Fn562tkqpffTKo6ldMnLc/oeLB8HHW+Gvi+Al/qYlhnGQM//QEAI/PgEZCY7S3k0G0DEI5y2MLbWTjDG/AJ0yD/0kLV2X5GmEhHPkp7oNK+JXwGDP4RWV7qdSIqCty8MfM/50LnoLchMgX6vq7CQ0iE3B2bcAau/cmaz9PyvLuyUVV3vhnKVYObdzs+mqyeBf3m3U4lIETttYWyMmW+t7QHMOMExEZFzk3YIxg+C/eucdXrN+rudSIqSlxdc8oLzIXPBK5CbDQPe0lo+Kdlys2HaTbD2G7joX3DhgyqKy7p2I53GXNNudjrrj5iinRFEyriTFsbGmAAgEKhqjKmEM40aIBjQRqIicu5S9sMXA+HwNhj2FTTq7XYiKQ7GQI9/g0+A07woN8tZy+dd0LYXIsUoO8PpPL1ptjP9/7w73E4kxaXlEGemy9Qb4POBcO00ZyRZRMqkU81fuwVYATQBVub/fgUwHXir6KOJSJmWFA+fXgpHdsLVk1UUe6ILH3TW862ZCl/f4IzKiZQkWWkw4SqnKL70ZRXFnqjZALhqPOxfA59d7sxyEpEy6aSFsbX2DWttPeB+a229v3y1ttaqMBaRs3d4O3zSF1IT4NpvoP6FbicSt3S9B/o8C+umw+TrICfT7UQijoxkGH8FbP8NBrwDHW9yO5G4pfElMGwCHNwMn/VzfnaJSJlTkI4nScaY6/7+VeTJRKRsOrgZPrnUabw0cgbU7uR2InFbl7HOaNzG72HiCGfbLhE3pR+BzwdA3DK44iNoM8LtROK2hj2d2U1HdsCnl0HyXrcTiUghK0hh3OEvX92A/wDqjiMiZ27/OqcozsuG62dBzTZuJ5KSouNNzh6iW350tu3KOup2IvFUaYecKbP718DQz6HFFW4nkpKi/oVwzdeQvMdZCpQU53YiESlEpy2MrbV3/OXrJqAtoJ71InJm9sY4U9CMF1z/PVRr7nYiKWnaXQ8D33Gmrn55pbO3tUhxSk1wRgMPbnamzja5zO1EUtLUOQ+u/da5gPLJJc4IsoiUCWezeWQaUK+wg4hIGRa/0hmB8SkHo76H0EZuJ5KSKupqZy/rXYucLVIyktxOJJ4ieY8zoyUxvyFgw55uJ5KSqlYHGDndWYf+yWVwaKvbiUSkEJy2MDbGfGeMmZH/NRPYCHxb5MlEpGzYvdRZqxdQ0SmKqzRwO5GUdC2HwJCPIX6Fs0VK+hG3E0lZl7jLGf1L2QfXTFNDQDm9mm3g+pmQk+5cUDmwye1EInKOjLX21CcY89efDjnATmttqVpU0b59e7t8+XK3Y4h4nh2/w5dDoUJ1p9FWxQi3E0lpsmEWTB4JYU2dqYtBVdxOJGXR4W3wWX9n9O/aaRDR3u1EUpokrHf+/WDhuhlQrZnbiUQ8kjFmhbX2nN7AC7LG+Ne/fC0E6hpj3j6XJxURD7D1Zxg/xCmGR32voljOXJPLYPgEOLDRmYqfesDtRFLWHNzsTIXNSnUu3qkoljMV1hRGzQYvX2d9+r5YtxOJyFkq0BpjY0wbY8xLxpgdwFPAhiJNJSKl26Yf4KuroHJ9p/t0hepuJ5LSqmEvuHpS/qheP0jZ73YiKSsS1jtTYHOz8rvkR7mdSEqrqpEwahb4BjoX8fZEu51IRM7CSQtjY0wjY8wTxpgNwJvALpyp192ttW8WW0IRKV02zIKJV0NYE2f9VflQtxNJadegO4yYAom7tX+oFI69Mc6/JePlzGhRl3w5V5XrO8WxfwX4vL/TI0FESpVTjRhvAC4G+llru+YXw7nFE0tESqW138Dk66BGa2etVWBltxNJWVGvm7N/aMpe7R8q5yZ+xd+65Dd2O5GUFZXqOtsRlqvkNA7cvdTtRCJyBk5VGA8G9gI/G2M+NMb0AEzxxBKRUidmMky9ASI6wLXfQLkQtxNJWVOni/NvK+1g/rY6u9xOJKXNriVOwaIu+VJUQmo5xXFQVfhiEOxc5HYiESmgkxbG1tpvrbXDgCbAz8DdQJgx5l1jTO9iyicipcHKL2DazVDnfBgxFQKC3U4kZVWtjk6H6oxEp2nS4e1uJ5LSYsfvTqESFOoUxZXquJ1IyqqK4U5xXKGGsx/79gVuJxKRAihIV+o0a+1X1trLgQhgFfBQkScTkdJh2TiYcbuzDvTqyeBf3u1EUtZFtHOm6melOOtED211O5GUdFt/Upd8KV7BNZymbiG14csrnZ0aRKREK1BX6j9Za49Yaz+w1vYoqkAiUoosfhdm3QuN+sKwCeAX6HYi8RQ1o2Dkd5CT4UyrPrjZ7URSUm2aC18Nc6ZNq0u+FKcK1WDkTKcx14RhsOVHtxOJyCmcUWEsInLM76/DnIeh6eUw9AvwDXA7kXia6i2dD5021ymOE7SToPzN+u9g4ghnr9mR36lLvhS/8qHOv72qDWHCcOdCjYiUSCqMReTM/foi/PgEtLgChnwCPn5uJxJPVa2ZMwpojDOtev9atxNJSbHma5g8Emq2gZHqki8uCqriLP8Ia+ZcqNkwy+1EInICKoxFpOCshflPwc/PQOvhMPhD8PZ1O5V4utDGTqMbbz/4tJ+zR614tugJ8PWNULszXDvN6UIt4qbAynDddKjRytnWcN10txOJyN+oMBaRgrEWfngMFrwMba+DAe+Al7fbqUQcVSNh1CzwDXT2qI1b4XYiccuKT+Hb26DeBU6XfP8KbicScZQLcbacq9kWpoxytjkUkRJDhbGInF5eHsx+EBa9BR1vhn5vgJfePqSEqVzfKY7LhcDn/Z3tecSzLPkAvrsLGvaC4ZPUEFBKnoCKziyGOuc52xwu/9jtRCKST59sReTU8vJg5t2w9APocjtc8qKKYim5KtWFUXOc7XjGXwGbfnA7kRSXP96E2Q9Ak35w1Xg1BJSSy78CjJjiXMCZeQ8s/J/biUQEFcYicip5uTB9LKz8DLrdB72fdpociZRkwTWcNcehjWHi1bD2G7cTSVH77SVnqUfzQXDlp+Dj73YikVPzLQdXfQnNBsK8x+HnZ50lSyLiGhXGInJiudkw7SZY/RV0fxR6/FtFsZQeQVWcLVLC28HUG2DVeLcTSVGwFn562vlqNQwGf6SGgFJ6+PjBkI+hzTXw6wsw91EVxyIu8nE7gIiUQDlZ8PUNzh6gPf8DXe9xO5HImftzLd+ka5yZD1lp0OkWt1NJYbEW5v0b/vif0xCw3+tqCCilj5c3XP4m+JWHxW9DVor+LYu4RIWxiBwvOwOmXA+bZkOf56DLGLcTiZw9vyAYPtEZNZ79IGQmQ7f7NfuhtLMWZj8ES9+HDjep94GUbl5e0Pd5pzhe8DJkHYVB72n2g0gxU2EsIv8vPdFZk7lzIVz2CnS40e1EIufOxx+u/MwZNf7paTh6xFkvr0KqdMrLdRoWrfzMaQio3gdSFhgDPR4H//Lw438g/QgM/dz5XkSKhQpjEXEk74HxQ+DgJrhiHLQc4nYikcLj7QMD34VylZzpiqn7nO/VpKl0yU6Hr2+EDTPhggec/gcqiqUs6XoPBFZ1th37rB9cPQXKh7qdSsQjqDAWETiwCcYPdkaMr5kK9S9yO5FI4fPygr7PQYXq8OMTkHbQ2dYnINjtZFIQRw/DhGGweylc8hJ0utntRCJFo+21EFTVWdb0cW+4ZhpUrud2KpEyT/PIRDzd7mXOD96cTBg1S0WxlG3GQNe7YeB7sON3+PQySNnvdio5ncRd8HEf2BPtbMekoljKusaXwHUznAtC43rD3tVuJxIp81QYi3iyTXPhs8ud6aWjf4Aard1OJFI8oobD1ZPg0BYY1wsObXU7kZzMvjVOYZCyH679BpoPdDuRSPGo3cn52eztB59cBtt+dTuRSJmmwljEUy0bBxOGQ2hjuOEHTdMSz9OwF4ycCVmpTnG8e6nbieTvti+ATy4BDNwwB+qe73YikeIV2tgpjitGwPgrIHqC24lEyiwVxiKeJi8X5jwCs+6FyJ5w/Uw19hDPFdHOuTDkHwyf9oOYKW4nkj+tGg9fDILgmnDjPKjWzO1EIu6oGA43zIY6XeDbW2H+U5CX53YqkTJHhbGIJ8lMcbZjWvwOdB4DwyeAfwW3U4m4q2ok3PQTRLSHaTfCz885++SKO/Jy4YfHnO216nWDG+Y6o2UinqxcJacJV9vrnL2Op45yurSLSKFRV2oRT5EUB19dBQnrtUexyN8FVoZrv4WZd8Ovzztrjwe8Db4BbifzLJkp8PVNsGk2dLgJ+j7vbLUlIuDtC5f/D6o0hHn/hqTdMGwCVKjmdjKRMkEjxiKeIG45fHix09l1xGQVxSIn4uPnFMM9/wNrpjp7iKYmuJ3KcyTugo/7wuYf4NKX4bKXVRSL/J0xcP6dzlZzCeudn+37Yt1OJVImqDAWKetWfOo0r/Hxdxp4RPZ0O5FIyWUMdL0Hhn7hdEN+/0JnSzMpWjv/yL94txtGTIGON7mdSKRka9oPRs0Gmwsf9VJ/BJFCoMJYpKzKyYQZd8B3d0HdrnDzrxDW1O1UIqVDs/5OwydvX+fC0rJxWndcFKyFP95yGp8FVHT+zCN7uJ1KpHSoGeX8bK/ZxumPMPthyM12O5VIqaXCWKQsSopzPsyv/By63QcjpjprKEWk4Kq3hJt/gfoXOV3cp9+uZjeFKTMFplwPPzwKjS+Bm352tqYRkYKrUA1GzoBOt8GSd+HzAVoCInKWVBiLlDVb5jvTPw9sctYg9fg3eHm7nUqkdAqsDFdPhgsfgujx8HEfOLzd7VSl34GNztTp9TOg15POe1VAsNupREonb1+45HkY9AHEr3Q+A+z8w+1UIqWOCmORsiInC354HMYPhqCqzvYzTS93O5VI6eflBd3/BcMnwuEd8F43iJ3qdqrSyVpY+QV80B2OHobrpsP5dzlru0Xk3LS+ylmO4BsAn14GvzzvbH8mIgWiwlikLDi0FT7uDX/8D9rfkD8lsZHbqUTKlsaXwG2/Q7Vm8PVo+HYMZKa6nar0SD/i7L0643YIbwu3LoB6F7idSqRsqd4SbvkNWl4JvzwHn/WHpHi3U4mUCkVaGBtj+hpjNhpjthhjHj7B7f7GmEn5ty8xxtT9y22P5B/faIzp87f7eRtjVhljZhZlfpESz1pYPQnevwAOb3M66fZ7DfwC3U4mUjaF1Ibrv4cLHoTor5z/e/Er3E5V8u38wxlpX/8d9HjCGSkOrul2KpGyyb8CDP4ABr4He1bBe+fD2m/dTiVS4hVZYWyM8QbeBi4BmgHDjTHN/nbaaOCItTYSeA14If++zYBhQHOgL/BO/uP96S5gfVFlFykVUvbDpGvgm5udK8S3LnQ66YpI0fL2gYsfhetnQk6Gs1XKj/91OsHL8bKOwtxHnWmdXj5www/Q7V71PRApDlHDndHjkDowZSRMGQVph9xOJVJiFeWIcUdgi7V2m7U2C5gIDPjbOQOAz/J/PxXoYYwx+ccnWmszrbXbgS35j4cxJgK4DPioCLOLlFzWwuqJ8HZH2DzPaVwzciaE1HI7mYhnqdsVbvvD+fD5+6saPf67HQudkapFb0Hbkc7U6Yh2bqcS8SxVI+HGH+Hix5wZG+90cn4VkX8oysI4HNj9l+/j8o+d8BxrbQ6QBFQ5zX1fBx4E8k715MaYm40xy40xyw8cOHCWL0GkhEncBROGwTe3ONua3LbQaVzj7eN2MhHPVC4EBrztbImWkQwf9YQfHnO2IvJUGckw63749FKweTDyO7j8dWd6p4gUP29fuOABZ/u5CjWc2WaTr9PaY5G/KVXNt4wx/YAEa+1pL8lbaz+w1ra31rYPDQ0thnQiRSg7A359Ed7qANt/gz7PwajZULWh28lEBKBhLxi7GNpcA3+86fxfjZ3qzPDwFHl5zrrrN9vBso+g8xhnRF0NtkRKhuotnB0rLn4MNs113qcWvuHsaiEiRVoYxwN/ndsZkX/shOcYY3yAisChU9z3fKC/MWYHztTsi40x44sivEiJYC1snO1Mffr5GWjUF8YuhS5jtEZPpKQJqAj934TRP0L5MKdz9WeXQ4IHtMTYs8rpjP/tbU6Dspt+gr7PgV+Q28lE5K/+HD0euwTqXwjz/g3vdYVtv7idTMR1xhbR1ez8QncT0AOnqF0GXG2tXfuXc8YCLa21txpjhgGDrbVDjTHNga9w1hXXBOYDDa21uX+570XA/dbafqfL0r59e7t8+fJCe20ixSJuOfz4H9ixAKo2hktfhPoXuZ1KRAoiLxdWfALzn4LMZIi6Gi56BCpGuJ2scB3Z4eyVunoiBIVCr/9Cq2HO3s8iUvJtnAOzH4TEndDgYuj5H6jR2u1UImfMGLPCWtv+XB6jyBYmWmtzjDG3A3MBb+Bja+1aY8yTwHJr7QxgHPCFMWYLcBinEzX5500G1gE5wNi/FsUiZVrCevjpadgwEwKrQt/nof1o8PFzO5mIFJSXN3S4EZoNggWvwLIPIWYKdLwJzr8bypfyJT7Je+G3l2Dl585rPe8OuOB+Z9RcREqPxn2di+7LPoIFLztNBFsMgQsfgtBGbqcTKVZFNmJckmjEWEqFXUtg4euw8XvwD3Y+aHa+TQ1rRMqCxF3w83OwegL4+EOba53/45XquJ3szBzcAovehOgJYHOdbtMXPADBNdxOJiLnKj3RWXO8+F1nK7pm/aHrvVAzyu1kIqdVGCPGKoxF3JST5RTCi9+F3YuhXCXoeAt0ugUCK7udTkQK24FN8McbsHqS07G5xWBnRkjtzmCM2+lOzFrY+QcseRfWzwRvP2eLqvPvhsr13E4nIoUt9YDz/33pR5CZ5Iwod7gRGl2iXTCkxFJhXEAqjKXEObTVmYIY/SWkHYCKtaHLWGh7rZrViHiCpHhY9Das+sJZgxzaFNpdD62GlpyLYqkJzgj3ys/h0BYICHE+HHe6xWkuJiJlW0YSLBvnTLNOjne2emo7EloP00UxKXFUGBeQCmMpEQ5thXXfwrrpsHc1GG+ny3S76yGyh7pMi3iirDRY8zUs/wT2rHTeF+pfCM0HQZN+xV8kp+x3+husnwHbFzjTpWt3gbbXQbOB4BdYvHlExH25ObD5B1g+DrbMByzUbOvMeGk2wOlEL+IyFcYFpMJYXJF2yOkovf035+vQZud4eHtn3U7LoVqXJyL/b2+MUySv+9bp9my8oGYbqHehM5UxokPhF6aZKU5/gx0LnK/4lYCFyg2c96nWwyG0ceE+p4iUXom7YO03znvV3tXOsSoNoUF3qN/dWRZSUma9iEdRYVxAKoylyORmQ8peSN4DSXFwcBPsWwP7YiFpl3OOX3moc57zA6Pp5RBS69SPKSKezVrnA+eGWbD9V2frNpvrFMpVG0H1VlC9BVSq62z/VLGWs1XSydYo5+ZAWoLTSTplDxzYCPvXOl+HtjiP7eULEe2d96lm/SG0Scld8ywiJcOhrbBxNmz7GXYshJx053hIbWfLp+qtoFI95/uQWhAUpjXKUmRUGBeQCmMpNGu/hXn/huyjkHUUstOOv914OVdOq7eA6i2hzvnOiI+3rytxRaQMyEh2ml/Fr4B9Mc6Ft+T4v51kwDfQGVH2LQd5eU5X2ZxM533K5h1/ekhtqNbC+apzHtTqqP4GInL2cjJh91LnfWpvtHNx7/C2f57nE+AMGPgFwWWvQsOexR5VyqYSvY+xSJkUFOpME/INdN7U/Ss4zSgqhkNwOITU0Ro8ESlcAcHOXqON+/7/sfQjkLjbmamSFOc08cs+6qxZzk4HLx9nWyifAOe9qkJ1CK7p/Fq5gfOYIiKFxccf6nVzvv6Ulea8PyXugsSdzhKzrBTneGaqplxLiaMRYxERERERESm1CmPE2KuwwoiIiIiIiIiURiqMRURERERExKOpMBYRERERERGPpsJYREREREREPJoKYxEREREREfFoKoxFRERERETEo6kwFhEREREREY+mwlhEREREREQ8mgpjERERERER8WgqjEVERERERMSjqTAWERERERERj6bCWERERERERDyaCmMRERERERHxaCqMRURERERExKOpMBYRERERERGPpsJYREREREREPJoKYxEREREREfFoKoxFRERERETEo6kwFhEREREREY+mwlhEREREREQ8mgpjERERERER8WgqjEVERERERMSjqTAWERERERERj6bCWERERERERDyaCmMRERERERHxaCqMRURERERExKOpMBYRERERERGPpsJYREREREREPJoKYxEREREREfFoKoxFRERERETEo6kwFhEREREREY+mwlhEREREREQ8mgpjERERERER8WgqjEVERERERMSjqTAWERERERERj+bjdgARERFxZORkcDD9IAfTD5KclUxyVjIpWSmkZqWSkpVCclYyadlpZOVmkZmXSXZuNlm5WWTlZZGVm4W1FmMMXsYLQ/6vxuBtvPH39ifAJ4ByPuUo51OOAG/n90F+QYT4h1DRr6Lza4DzayX/SgT6Brr9RyIiIlIsVBiLiIgUg8zcTPam7iU+NZ741HjiUuPYl7bvWCF88OhBUrJTTnp/f29/KvhVIMg3CD9vP/y8/PD39sffx58KXhXw8/bDy3hhrSXP5pFHHljII4/cvFwycjM4knGEvTl7ycjNID0n/djXyQT5BhEWGEa1wGrHfq0WWI0a5WtQu0JtwsuH4+vtWxR/XCIiIsVKhbGIiEghsdayL20f25K2sS1pG1sTt7I9aTtxKXEkpCccd66Plw/VA6sTGhhKZEgknWt0JrRcKFXLVaVKuSpU8q9EBb8KlPcrTwW/Cvh7+xdJ5uy8bJIzk0nKTCIxM5HEzESSMpM4nHGYA+kHSDiawP60/SzZu4SD6QfJtbnH7utlvKgR5BTJtYNrU6tCLRqENCAyJJJqgdUwxhRJZhERkcKmwlhEROQsHM0+yqYjm1h3aB0bDm9g05FNbE/aztGco8fOCfEPoX7F+nSp2YXw8uGEVwh3fi0fTlhgGF7G/VYfvl6+VClXhSrlqpz23Ny8XA5lHGJP6h52p+xmV8oudiXvYnfKbubsmENSZtKxcyv4ViCyUiQNQxoSWSmSRpUa0bRyU03PFhGREslYa93OUOTat29vly9f7nYMEREppdJz0llzcA1rD65l/eH1rD+8nh1JO7A4P0MrB1SmUaVGNAhpQP2K9alXsR4NQhpQOaCyy8mLV2JGIluTtrLlyBY2J25m85HNbE7cTEqWM0XcYKhfsT7NqzaneZXmtKjagsaVGxfZaLiIiHgGY8wKa237c3oMFcYiIiLH25+2n1UHVrE6YTXRCdFsOLyBHJsDQPWg6jSp3IRmlZvRtEpTmlRuomnDp2Ct5UD6ATYc3sDag2tZc2gNaw6u4XDGYQB8jA8NKzWkbbW2tA1rS9tqbalarqrLqUVEpDRRYVxAKoxFRORU4lPjWbJ3CUv2LmFVwir2pu0FIMA7gBZVWxAVFkWbsDa0qNrC40aBi4K1lv1H9x8rlGMOxBBzIIaM3AwA6gTXOVYkt6vWjojyEbrwICIiJ6XCuIBUGIuIyF8dTD/I0r1LWbpvKYv3LiY+NR6AKgFVaFetHW3C2hAVFkXjyo3x9VLX5eKQnZvNusPrWLl/pfOVsJLkrGQAwsuH07lGZ86reR6danSion9Fl9OKiEhJosK4gFQYi4h4tuy8bKITolkQv4AFcQvYkrgFgAp+FehQrQMda3Skc43O1K9YXyOTJUSezWNr4laW7VvG4r2LWbZvGanZqRgMzas0p0vNLnSp2YWosChdvBAR8XAqjAtIhbGIiOc5mH6QhfEL+S3uNxbtWURKdgo+Xj60C2tHl5pd6FyjM00qN8Hby9vtqFIA2XnZrDm4hkV7FrFozyJiD8aSa3Op4FuBruFdubDWhXQN76rRZBERD6TCuIBUGIuIeIbtSduZv2s+83fOZ82hNQCElgulW0Q3Lgi/gE41OlHer7zLKaUwpGSlsHTvUn6N+5Vf437lcMZhvI03bau15cKIC+leqzu1g2u7HVNERIqBCuMCUmEsIlI2WWvZeGQj83bOY/7O+WxN2gpAq6qtuLDWhXQL70aTyk00PbqMy7N5xB6M5dfdv/JL3C9sPrIZgPoV69OzTk961+lNo0qN9O9ARKSMUmFcQCqMRUTKDmstMQdjmLdjHj/u+pH41Hi8jBftq7WnR+0eXFz7YqoHVXc7prgoPjWeX3b/wk+7fmL5/uXk2TzqBtelV51e9KnbR0WyiEgZo8K4gFQYi4iUfpuPbOb77d8ze/ts4lPj8fHyoUuNLvSs05OLal2kbZTkhA6lH2L+rvn8sOMHlu1fdlyR3LdeXxpVauR2RBEROUcqjAtIhbGISOkUnxrP7O2z+X7792w+shlv403nGp25tP6ldK/VnQp+FdyOKKXIsSJ55w8s2+cUyY0qNaJf/X5cWu9SqgVVczuiiIicBRXGBaTCWESk9EjKTGLO9jnM3DaT6APRALQJa8Ml9S6hd53eVClXxd2AUiYcSj/EDzt/YObWmcQcjMFg6FSjE5c3uJyetXsS6BvodkQRESkgFcYFpMJYRKRky83LZfHexXy75Vt+2vUTWXlZRIZEcln9y7ik3iWElw93O6KUYTuSdjBr+yy+2/od8anxlPMpx8W1L+by+pfTuUZnbeklIlLCqTAuIBXGIiIl087knUzfMp0ZW2ew/+h+KvpX5LJ6lzEwciBNqzR1O554GGst0Qei+W7rd8zdMZfkrGSqBVZjUMNBDIocRM3yNd2OKCIiJ6DCuIBUGIuIlBxHs48yd8dcvt3yLSsTVuJlvDi/5vkMjBzIRbUuws/bz+2IImTlZvHL7l+YtmUaf8T/AUCXml24ouEVdK/VHV9vX3cDiojIMSqMC0iFsYiI+zYf2cyUTVOYuXUmKdkp1A2uy8DIgVze4HLCAsPcjidyUntT9/Ltlm+ZtmUa+9L2Ucm/Ev0b9Gdww8HUD6nvdjwREY+nwriAVBiLiLgjMzeTeTvnMWXjFFYmrMTXy5fedXtzZaMraRvWVnvJSqny51r4rzd/zc+7fibH5tAmrA1XNb6K3nV6axRZRMQlKowLSIWxiEjx2pm8k6mbpvLtlm9JzEykdoXaDG08lP4N+lMpoJLb8UTO2aH0Q3y39Tumbp7KzuSdVA6ozBUNr2Bo46FUD6rudjwREY+iwriAVBiLiBS93LxcFsQv4Mv1X7J472J8jA/da3dnaOOhdKzeES/j5XZEkUKXZ/NYvGcxEzZO4Le43zAYutfqzrAmw+hYvaNmRYiIFAMVxgWkwlhEpOikZKXwzeZvmLBhAnGpcVQLrMaVja5kcMPBhAaGuh1PpNjEp8YzeeNkpm2eRmJmIvUr1ueqxlfRv0F/yvuVdzueiEiZpcK4gFQYi4gUvv9r796DqjwTPI//HjggIKICgiggxiAgF000JjEmURMTzc1bNJioSTTG1PTUVtduTVXP9tbMVPfs1EzXbu/29M5ua7wF4y2JpnXMrU2MiTF3jaKgeEERUVAEkbuHc579A7TpjJijHnyB8/1UnTqH97wHf6l66s37433e55yoOaF1h9Zpy/Etamxp1N1xd+v5jOf1SPIjcgW5nI4HOKbZ06yPTn6kDYc36EDlAUW4IvTMsGc0b8Q8DYka4nQ8AOhxKMY+ohgDgH94rVe7y3Zr7eG12l22WyFBIZo6dKqez3hemTGZTscDupyCygKtO7xOH5z4QC3eFj2c9LAWjFigMfFjmGYNAH5CMfYRxRgAbk1jS6O2HtuqNw+9qZOXTio2PFbPpT2n2cNnKyY8xul4QJdX2VipDYc36K2it1TdXK2M6AzNHzFfU1KmsJo1ANwiirGPKMYAcHMuNF7QhqIN2nB4gy42X1RWTJbmjZjHV9MAN6mppUnbirdpTeEaFdcUKy48TnMz5mr28Nnq26uv0/EAoFuiGPuIYgwAN+ZkzUnlFeZp6/GtavY0a0LSBL2c+bLuiruL6Z+AH3itV1+e+VJ5BXn66uxXCneFt96HnDFPKX1TnI4HAN0KxdhHFGMA+GnWWv1w7getLlitnaU7FRIUomfufEYLRizQ0L5DnY4H9FhHqo/ozcI3ta14m1q8LZqYNFELsxdq5ICRTkcDgG6BYuwjijEAdMzj9WhH6Q6tLlit/PP56tern3LTc5Wblsv9w8BtdOU+5A1FG1TTXKMx8WO0MGuhxg8ez0wNALgOirGPKMYA8B81e5q15dgWrS5YrdLaUiX1SdKCEQs07c5pCneFOx0PCFgN7gZtOrpJbxS8oYqGCg3vP1wLsxbq8ZTH+So0ALgGirGPKMYA8Gf17nq9VfSW8grzVNlYqezYbL2c9bImJU1ScFCw0/EAtHF73Hr/xPtaeXClimuKNThysBaMWKAZqTP44xUAtEMx9hHFGACk6qZqrT20VusPr9ely5d0X8J9eiX7FY0dOJZpmkAX5rVefVb6mVYcXKH95/erf6/+eiHjBeWm57KSNQCIYuwzijGAQFZeX643Ct7QpqOb1NjSqEeSH9Er2a8oKzbL6WgAboC1VnvP7dXKgyv1+enPFe4K17PDn9WCEQs0sPdAp+MBgGMoxj6iGAMIRCdrTmpVwSptPb5V1lo9eceTWpi1UMP6DXM6GoBbVFRVpFUFq/ThiQ9ljNH0O6drUdYiJfZJdDoaANx2FGMfUYwBBJJDFw5p+YHl2l6yXaHBoZpx5wy9lPWSBkcOdjoaAD8rqyvTqoOrtPnoZnmtV0/d8ZQW5yzWkKghTkcDgNuGYuwjijGAQLDv3D4tzV+qL8q+UGRIpJ5Le07zRsxTbHis09EAdLKK+gqtKlild468I7fXrSkpU/RqzqvMEAEQECjGPqIYA+jJviv/Tkvzl+qbs9+oX69+mj9ivnLTcxUVGuV0NAC3WWVjpd4oeEMbizaqqaVJjw55VEtyligtOs3paADQaSjGPqIYA+hprLX6+uzXWpq/VHsq9igmLEYvZb6kOWlzFBES4XQ8AA6rbqrWmsI1Wnd4nerd9ZqQNEGv5bymzNhMp6MBgN9RjH1EMQbQU1hr9UXZF/pD/h+Ufz5fceFxWpi9ULNSZynMFeZ0PABdTE1zjdYdWqc1h9ao9nKtxg8eryU5SzQqbpTT0QDAb7p8MTbGTJH0O0nBkpZba//5R+/3kpQnabSkC5Kes9aebHvvbyUtkuSR9J+stR8ZY5La9o+XZCUts9b+7qdyUIwBdHfWWn1a+qmW5S9TwYUCJfRO0KKsRZqeOl29gns5HQ9AF1d3uU4bijYoryBP1c3VujfhXi3JWaJ7Bt7jdDQAuGVduhgbY4IlHZE0WdJpSd9JmmutLWy3z19JyrHWvmaMyZU0w1r7nDFmhKT1ksZKGiTpY0nDJcVJSrDW7jXG9JG0R9L09r/zWijGALorr/Vqe8l2LctfpiPVR5QYmajFOYv19B1PKyQ4xOl4ALqZBneD3j7ytlYdXKULTRd0d9zdWjJyie5PuF/GGKfjAcBN8UcxdvkrzDWMlXTMWlssScaYDZKmSWpfYqdJ+oe21+9I+j+m9ag8TdIGa22zpBPGmGOSxlprv5J0VpKstbXGmEOSBv/odwJAt+fxevThyQ/1ev7rOl5zXClRKfqn8f+kqUOnyhXUmYduAD1ZREiEXsx8Uc+lPadNRzdp5cGVWrJ9iXJic7Rk5BI9OPhBCjKAgNSZZ1eDJZW2+/m0pHs72sda22KMqZEU07b96x999i++gNMYkyLpLknf+DU1ADjI7XXrveL3tPzAcpVcKtGd/e7Ubx76jR4b8piCg4KdjgeghwhzhemFjBc0e/hs/fHYH7XiwAr97JOfKSM6Q0tylmhi8kQFmSCnYwLAbdMtLzsYYyIlbZL0c2vtpQ72eVXSq5KUnJx8G9MBwI1ze9zacnyLlh9YrrK6MqVHp+u3E36rR5If4eQUQKcJDQ7VnLQ5mpE6Q9uOb9PrB17Xz3f+XKn9U/VqzquanDyZP8oBCAidWYzLJCW1+zmxbdu19jltjHFJ6qvWRbg6/KwxJkStpXittXZzR/+4tXaZpGVS6z3Gt/RfAgCdpNnTrM1HN2vlwZUqry9XVkyWfjH2F3o48WGmMwK4bUKCQjQjdYaeHva0PjjxgV4/8Lr+5rO/0dC+Q7U4ezG3cQDo8Tpz8S2XWhffekStpfY7Sc9bawva7fMzSdntFt+aaa2dY4zJlLROf1586xNJqZK8kt6QVGWt/bmvWVh8C0BX09jSqLeL3tbqgtU633heowaM0pKRS/TAoAcoxAAc5/F6tP3Udi3dv1THLh5TUp8kLc5erKeGPaWQIBb+A9C1dOlVqSXJGPOEpP+t1q9rWmmt/e/GmF9J+t5au9UYEyZpjVrvFa6SlNtusa5fSlooqUWtU6Y/MMaMl7RL0gG1lmRJ+q/W2vevl4NiDKCrqHfXa8PhDcorzFNVU5XuGXiPXst5TfcMvIdCDKDL8VqvPj31qZbmL9WhqkMa1HuQFmUv0vQ7pys0ONTpeAAgqRsU466CYgzAaZcuX9K6Q+v05qE3VdNco3GDxmlJzhLdHX+309EA4CdZa7WrbJeW7l+q/Mp8xUXEaWHWQs1KnaUwV5jT8QAEOIqxjyjGAJxS01yjNYVrtO7QOtW6a/Vw4sNakrNE2QOynY4GADfMWquvzn6lpfuXau+5vYoJi9FLmS9pTtocRYREOB0PQICiGPuIYgzgdrvQeEF5hXnacHiDGloa9Gjyo3o151VlxGQ4HQ0A/OK78u+0NH+pvjn7jfr16qcFIxZobvpcRYZGOh0NQIChGPuIYgzgdjnfcF6rClbp7aK31exp1pSUKVqcs1ip/VOdjgYAnWLfuX1alr9Mu8p2qU9oH83LmKcXMl5Q3159nY4GIEBQjH1EMQbQ2crry7XiwAptPrpZHuvRk3c8qVeyX9HQvkOdjgYAt0XBhQIt279MO0p3qHdIb+Wm5WpB5gJFh0U7HQ1AD0cx9hHFGEBnOV17WssPLNeW41skSdOGTdOirEVKikr6iU8CQM9UVFWk1w+8rj+d/JPCXGGaPXy2Xsp8SQMiBjgdDUAPRTH2EcUYgL+VXCrR6/mva1vxNgWZIM1MnalFWYuUEJngdDQA6BKKa4q1PH+53j/xvoJNsGYNn6WFWQs1sPdAp6MB6GEoxj6iGAPwl+MXj2tZ/jJ9ePJDhQaF6tnhz+rlrJcVFxHndDQA6JJKL5Vq+cHl2npsq2RaZ9a8kv2KEvskOh0NQA9BMfYRxRjArSqqKtLS/KX6uORjhbnClJueqwUjFig2PNbpaADQLZypO6OVB1dq89HN8lqvnrzjSS3OXqyUvilORwPQzVGMfUQxBnCzDlYe1NL8pdpZulORIZF6PuN5zc+Yr35h/ZyOBgDd0rmGc1p1cJXeOfKOmj3NmjxkshZlL9KImBFORwPQTVGMfUQxBnAjrLX6+uzXWnFwhb45+42iQqM0b0Tr149EhUY5HQ8AeoTKxkqtPbRWGw5vUJ27TuMGjdMr2a9oTPwYGWOcjgegG6EY+4hiDMAXHq9Hn5z6RCsOrlDhhULFhcdp/oj5mp02W71DejsdDwB6pNrLtdpYtFFrCteoqqlKObE5WpS9SBOSJijIBDkdD0A3QDH2EcUYwPVc9lzW1uNbtbpgtUoulSglKkUvZ72sp+54SqHBoU7HA4CA0NTSpC3HtmhVwSqV1ZVpWN9hWpi9UFOHTlVIUIjT8QB0YRRjH1GMAVxL3eU6vX3kba0pXKPzjeeVGZOpRdmLNClpkoKDgp2OBwABqcXboo9OfqQVB1foaPVRJfRO0IuZL2pm6kyFu8KdjgegC6IY+4hiDKC9K/e1bTy8UbXuWt2fcL8WZi/UvQPv5b42AOgirLXaVbZLyw8s1w/nflD/Xv31QsYLyk3PVd9efZ2OB6ALoRj7iGIMQJJOXTqlvMI8vXv0Xbm9bk0eMlkLsxcqMybT6WgAgOvYW7FXyw8s166yXQp3hWv6ndM1P2O+kqKSnI4GoAugGPuIYgwELmut9p7bq7yCPH1a+qlcQS49M+wZvZT5Et+dCQDdTFFVkfIK8/T+iffltV49kvyIFoxYoFFxo5yOBsBBFGMfUYyBwOP2urX95HblFeap4EKB+vXqpzlpczQ3fa5iw2OdjgcAuAXnGs5p/eH12li0UbWXazVywEi9mPkia0QAAYpi7COKMRA4Ll2+pE1HNmntobWqaKhQSlSK5o+Yr6eHPc2iLQDQwzS4G/TusXe1pnCNyurKlBiZqHkj5mnGnTMUERLhdDwAtwnF2EcUY6DnK60t1dpDa7X56GY1tjRq7MCxejHzRY0fPJ7vwQSAHs7j9WhH6Q69UfCG9p/fr6jQKM0ePlu56bka2Hug0/EAdDKKsY8oxkDPZK3V9xXfa92hddpRukNBCtLUoVM1f8R8ZcRkOB0PAOCAfef2Ka8wT5+c+kRGRpOSJ+n59Oc1On403zwA9FD+KMYuf4UBgNulwd2gbcXbtP7weh27eExRoVF6OfNlzU2fq/je8U7HAwA4aFTcKI2KG6WyujJtPLxRm45u0vaS7Urrn6bnM57XE0OfUJgrzOmYALoYrhgD6DZO1JzQxqKN2nJsi+rcdcqIztDc9LmaOnQqJzkAgGtqbGnUe8Xvad3hdTpafVR9e/XVzNSZyk3L1aDIQU7HA+AHTKX2EcUY6L48Xo92le3S+sPr9eWZL+UKcumxIY9pbvpcjRwwkmlxAACfXLn9Zv3h9dpxaoesrCYkTlBueq7uTbiX9SiAboxi7COKMdD9VDZW6o/H/qh3jryjsroyxUXEac7wOZo1fBZftwQAuCXl9eXaWLRRm45sUnVztZL7JGvW8FmaNmyaYsJjnI4H4AZRjH1EMQa6B4/Xo91ndmvTkU367PRn8liPxsSP0dz0uZqYPFEhQSFORwQA9CDNnmZtL9mud468oz0Ve+QKcmlS0iQ9O/xZriID3QjF2EcUY6BrO1t3Vu8ee1fvHntX5fXlig6L1rRh0zQzdaZS+qY4HQ8AEACKa4q16cgmbTm+RTXNNUqMTNSs4bM0/c7pzFQCujiKsY8oxkDX4/a69Xnp53rn6DvaXbZbknT/oPs1K3WWJiZNVEgwV4cBALdfs6dZH5d8rLePvN16Fdm4NCFpgp4Z9ozGJ45n9hLQBVGMfUQxBroGa60KLxRq6/Gt+vDkh6pqqlJceJymp07XzNSZGhw52OmIAABcdeUq8rbibapqqlJ0WLSeGPqEpt05TenR6U7HA9CGYuwjijHgrPL6cm0r3qZ/P/7vKq4pVmhQ6NW/vj8w+AG5gvhKdQBA1+X2urW7bLe2Ht+qnaU75fa6Nbz/cD0z7Bk9eceTTLUGHEYx9hHFGLj96t312l6yXduOb9O35d/KyuruuLv19LCn9VjKY4oKjXI6IgAAN6ymuUYfnPhAW49v1YHKAwo2wRo3aJyeuOMJTUyaqN4hvZ2OCAQcirGPKMbA7dHgbtDnpz/XRyc/0q6yXWr2NCu5T7KeGvaUnrrjKSX1SXI6IgAAflN8sVhbjm/Re8XvqaKhQr2Ce+mhxIc0JWWKHkp8SGGuMKcjAgGBYuwjijHQeRrcDdpVtqu1DJ/epSZPk2LDY/XYkMc0dehUjRwwUsYYp2MCANBpvNar/ef364MTH+ijkx+pqqlKEa4ITUyeqKkpUzVu0DgWlQQ6EcXYRxRjwL/qLtdp95nd+rjkY312+jM1tjQqJixGk4dM1uMpj+uuuLsUHBTsdEwAAG67Fm+Lvq/4Xh+e+FDbS7br0uVLigyJ1IOJD2pS8iQ9OPhBplsDfkYx9hHFGLh15fXl2lm6U5+Wfqpvy79Vi7dF0WHRejT5UT2e8rhGx4+mDAMA0I7b49ZXZ7/SxyUfa2fpTlU3VyskKET3JdynScmTNCFpAgt3AX5AMfYRxRi4cdZaHa46rE9LP9XO0p06VHVIkjQkaogmJk3UxKSJGjlgJGUYAAAfeLwe7Tu/TztO7dAnpz5RWV2ZjIxGDhiph5Me1gODHlBadJqCTJDTUYFuh2LsI4ox4JvKxkp9dear1sfZr1TZWCkjo7vi7tKEpAmakDRBQ/sOdTomAADdmrVWRy8e1Y5TO7Tj1I6rf3yOCYvRA4Mf0PjB43V/wv3qF9bP2aBAN0Ex9hHFGLi2ppYm7Tu/T1+Wfakvz3ypouoiSVL/Xv1136D79MCgB/Rg4oOKDot2OCkAAD1XZWOldpft1u6y3fry7Jeqaa6RkVF2bLbuG3Sfxg4cq5EDRrLKNdABirGPKMZAq3p3vfad26c9FXu0p2KPDlQekNvrlivIpbvi7tK4QeM0btA4pUenM5ULAAAHeLweFVwo0BdlX2h32W4dvHBQXutVSFCIsmOzdc/AezR24FjlDMihKANtKMY+ohgjEFlrVdFQoYLKAv1w7gftqdijQ1WH5LEeBZtgZcZkanT8aI0ZOEZj4scoIiTC6cgAAOBH6i7Xae+5vfq+/Ht9V/6dCqsK/6Io5wzIaX3E5ii+d7zTcQFHUIx9RDFGIKhprlHBhQIVVBboQOUBHaw8qPON5yVJoUGhyh6QrdHxozU6frRGDRhFEQYAoBuqvVyrH879oG/Pfqt95/ep8EKh3F63JCkuIk4jB4xUTmyOsmKzlBadpj6hfRxODHQ+irGPKMboSTxej0prS3Wk+oiOXjyqo9VHdaT6iEprS6/ukxKVoqzYrKuP9Oh09Qru5WBqAADQGS57Lquoqkj5lfnaf36/8s/nq6yu7Or7gyMHKz06XWn905QWnab06HQl9E6QMcbB1IB/UYx9RDFGd1TTXKNTl06ppLak9flSiU5eOqnii8Vq8jRJkoJMkJL7JCu1f6oyojOUFZulzNhMRYVGOZweAAA4pbKxUoUXClVUVaSi6iIVVRWp5FKJrFrP+8Nd4UqJSlFK3xQN7TtUQ6OGKqVvioZEDVG4K9zh9MCNoxj7iGKMrsbtdauqsUrlDeUqr299VDRUtD7XV6i0tlTVzdVX9zcySuidoCFRQ5TaP/XqY1jfYSy8AQAAflKDu0FHLx5VUVWRTtSc0ImaEzp56aTO1J25WpglKTosWgm9EzQoctBfPMdHxCs6LFrR4dHMQkOXQzH2EcUY/lLTXKMzdWfksR61eFvksR55vB5d9l5Wg7tBjS2Namhpe3Y3qKGlQTXNNbrYfFEXmy6qurlaF5suqtZd+x9+d7grXPER8YrvHa/EyEQNiRpy9ZHYJ5H/CQEAAL9ramm6Oiut5FKJztSd0dn6szpTd0bl9eVXZ6m1FxkSqZjwmNaiHBatyJBIRYZGKsIVocjQSEWGRKp3SG+FBYcpJDhELuOSK6j1ERIUIleQS4P7DGaGG/zGH8XY5a8wQCDYcWqH/u7Lv/N5/3BXuPr16qd+vfqpf1h/JfZJVP+w/urXq5+iw6I1sPdAxUfEa2DvgYoKjeJ+HwAAcFuFucKUFt16//GPWWtV1VSls/Vndb7hvKqaqnSh6ULrc2Prc8mlEtW561Tvrle9u15e6/Xp3/3thN9q8pDJ/v7PAW4axRi4Afcm3KvfTfydXEEuBZtgBQcFK9gEKyQoRBEhEQp3hSvC1foc5grju4ABAEC3ZYxRTHiMYsJjfNrfWqvGlkbVu+tV665Vc0uzWrwtarEtavG2yO11X33Ojs3u5PTAjaEYAzdgUOQgDYoc5HQMAACALscYo4iQCEWERGiABjgdB7ghXM4CAAAAAAQ0ijEAAAAAIKBRjAEAAAAAAY1iDAAAAAAIaBRjAAAAAEBAoxgDAAAAAAIaxRgAAAAAENAoxgAAAACAgEYxBgAAAAAENIoxAAAAACCgUYwBAAAAAAGNYgwAAAAACGgUYwAAAABAQKMYAwAAAAACGsUYAAAAABDQKMYAAAAAgIBGMQYAAAAABDSKMQAAAAAgoFGMAQAAAAABjWIMAAAAAAhoxlrrdIZOZ4yplVTkdA70GLGSKp0OgR6FMQV/Y0zB3xhT8DfGFPwpzVrb51Z+gctfSbq4ImvtGKdDoGcwxnzPeII/Mabgb4wp+BtjCv7GmII/GWO+v9XfwVRqAAAAAEBAoxgDAAAAAAJaoBTjZU4HQI/CeIK/Mabgb4wp+BtjCv7GmII/3fJ4CojFtwAAAAAA6EigXDEGAAAAAOCaelQxNsbMNsYUGGO8xpgx7banGGMajTH72h5/aPfeaGPMAWPMMWPMvxpjjDPp0RV1NKba3vvbtnFTZIx5vN32KW3bjhljfnH7U6O7MMb8gzGmrN2x6Yl2711zfAHXw/EH/mCMOdl2brTvykqvxphoY8x2Y8zRtuf+TudE12WMWWmMOWeMOdhu2zXHkGn1r23HrXxjzN3OJUdX1cGY8ut5VI8qxpIOSpop6fNrvHfcWjuq7fFau+3/T9JiSaltjymdHxPdyDXHlDFmhKRcSZlqHTP/1xgTbIwJlvRvkqZKGiFpbtu+QEf+V7tj0/tSx+PLyZDo+jj+wM8mth2XrvxR+BeSPrHWpkr6pO1noCOr9R/PqTsaQ1P15/PwV9V6bg782Gpdu6f57TyqRxVja+0ha22Rr/sbYxIkRVlrv7atN1vnSZreWfnQ/VxnTE2TtMFa22ytPSHpmKSxbY9j1tpia+1lSRva9gVuREfjC7gejj/oTNMkvdH2+g1xvoTrsNZ+LqnqR5s7GkPTJOXZVl9L6td2jg5c1cGY6shNnUf1qGL8E4YaY34wxnxmjHmwbdtgSafb7XO6bRvwUwZLKm3385Wx09F2oCN/3TZ1bGW7qYmMI9wMxg38xUr6kzFmjzHm1bZt8dbas22vyyXFOxMN3VhHY4hjF26F386jXJ2RrjMZYz6WNPAab/3SWrulg4+dlZRsrb1gjBkt6Y/GmMxOC4lu5SbHFOCT640vtU4X+7VaT0J/Lel/Slp4+9IBwDWNt9aWGWPiJG03xhxu/6a11hpj+FoT3DTGEPzEr+dR3a4YW2sfvYnPNEtqbnu9xxhzXNJwSWWSEtvtmti2DQHkZsaUWsdJUruf24+djrYjAPk6vowxr0va1vbj9cYX0BHGDfzCWlvW9nzOGPOuWqcgVhhjEqy1Z9umuZ5zNCS6o47GEMcu3BRrbcWV1/44jwqIqdTGmAFXbrg2xtyh1pv7i9umc1wyxtzXthr1AklcIYQvtkrKNcb0MsYMVeuY+lbSd5JSjTFDjTGhar3xf6uDOdGF/egeqhlqXexN6nh8AdfD8Qe3zBjT2xjT58prSY+p9di0VdKLbbu9KM6XcOM6GkNbJS1oW536Pkk17aZcAx3y93lUt7tifD3GmBmSfi9pgKT3jDH7rLWPS3pI0q+MMW5JXkmvWWuv3Lz9V2pd5Sxc0gdtD0BSx2PKWltgjHlLUqGkFkk/s9Z62j7z15I+khQsaaW1tsCh+Oj6fmOMGaXWKUAnJS2RpOuNL6Aj1toWjj/wg3hJ77ZeL5BL0jpr7YfGmO8kvWWMWSSpRNIcBzOiizPGrJc0QVKsMea0pL+X9M+69hh6X9ITal0gqUHSy7c9MLq8DsbUBH+eR5nWxZgBAAAAAAhMATGVGgAAAACAjlCMAQAAAAABjWIMAAAAAAhoFGMAAAAAQECjGAMAAAAAAhrFGAAAAAAQ0CjGAAAAAICARjEGAKAHM8b83hiz1xhzj9NZAADoqijGAAD0UMaY3pLiJC2R9JTDcQAA6LJcTgcAAACdw1pbb4xJkLRTUrLDcQAA6LK4YgwAQA9ljImRFCGpVlKLw3EAAOiyKMYAAHRjxphPjTGT217/ozHm9+3e/m+S/oekAkmZTuQDAKA7oBgDANC9/b2kXxpjXpB0l6SfS5IxJkXSOEkbJR0SxRgAgA5xjzEAAN2YtfZzY4yR9J8lTbDWetre+kdJv7LWWmMMxRgAgOugGAMA0I0ZY7IlJUi6YK2tbds2StJMSeONMf8mKUzSAcdCAgDQxTGVGgCAbqptxem1kqZJqjPGTGl7618kPWOtTbHWpkgaKa4YAwDQIa4YAwDQDRljIiRtlvRfrLWHjDG/lvQvxpjLkiKstR9f2ddaW2GMiTTGRFtrq5zKDABAV2WstU5nAAAAAADAMUylBgAAAAAENIoxAAAAACCgUYwBAAAAAAGNYgwAAAAACGgUYwAAAABAQKMYAwAAAAACGsUYAAAAABDQKMYAAAAAgID2/wFqkfOxMkL/LQAAAABJRU5ErkJggg==\n",
          "text/plain": "<Figure size 1152x648 with 1 Axes>"
         },
         "metadata": {
          "needs_background": "light"
         },
         "output_type": "display_data"
        }
       ]
      }
     },
     "b735a583fcd542b18a9a10f7887ae214": {
      "model_module": "@jupyter-widgets/controls",
      "model_module_version": "1.5.0",
      "model_name": "VBoxModel",
      "state": {
       "_dom_classes": [
        "widget-interact"
       ],
       "layout": "IPY_MODEL_c57945c85225400481f279204784fd6b"
      }
     },
     "b7be67175e3b4c7588b297c528d89cae": {
      "model_module": "@jupyter-widgets/base",
      "model_module_version": "1.2.0",
      "model_name": "LayoutModel",
      "state": {}
     },
     "b7d151ca7cbf4ee28581b52ffc10008e": {
      "model_module": "@jupyter-widgets/controls",
      "model_module_version": "1.5.0",
      "model_name": "SliderStyleModel",
      "state": {
       "description_width": ""
      }
     },
     "b880d3ca5d1744b6a9d4e67602246a83": {
      "model_module": "@jupyter-widgets/base",
      "model_module_version": "1.2.0",
      "model_name": "LayoutModel",
      "state": {}
     },
     "b89e7546e8254b16b05b4424e1ab5934": {
      "model_module": "@jupyter-widgets/base",
      "model_module_version": "1.2.0",
      "model_name": "LayoutModel",
      "state": {}
     },
     "b8c68615e80743b4835b4f9d21163acb": {
      "model_module": "@jupyter-widgets/controls",
      "model_module_version": "1.5.0",
      "model_name": "FloatRangeSliderModel",
      "state": {
       "_model_name": "FloatRangeSliderModel",
       "_view_name": "FloatRangeSliderView",
       "continuous_update": false,
       "description": "Domínio de $\\Psi(x): $",
       "layout": "IPY_MODEL_1be4af6a1f804051b527a838a498f20b",
       "max": 500,
       "min": -500,
       "readout_format": "1d",
       "style": "IPY_MODEL_828635ca274244c1ba48c3bd625d0c49",
       "value": [
        -100,
        100
       ]
      }
     },
     "b979f8a0824c40149fa36cd806cedb2a": {
      "model_module": "@jupyter-widgets/base",
      "model_module_version": "1.2.0",
      "model_name": "LayoutModel",
      "state": {}
     },
     "b9926b2f36e74efc9799fc80af07e75e": {
      "model_module": "@jupyter-widgets/controls",
      "model_module_version": "1.5.0",
      "model_name": "IntRangeSliderModel",
      "state": {
       "_model_name": "IntRangeSliderModel",
       "_view_name": "IntRangeSliderView",
       "continuous_update": false,
       "description": "Plotar N. Estados::",
       "layout": "IPY_MODEL_277c54a762ee429d86777a58a4ba789a",
       "max": 50,
       "min": 1,
       "readout_format": "1d",
       "style": "IPY_MODEL_5cddcfa8a79c43b0a0b4aafdd50e35f5",
       "value": [
        1,
        3
       ]
      }
     },
     "b9d73433f8a64f5b820aad85849178cc": {
      "model_module": "@jupyter-widgets/controls",
      "model_module_version": "1.5.0",
      "model_name": "ButtonStyleModel",
      "state": {}
     },
     "b9d75a1ab92c443baa1dd8856c88d47b": {
      "model_module": "@jupyter-widgets/controls",
      "model_module_version": "1.5.0",
      "model_name": "ButtonModel",
      "state": {
       "description": "Run Interact",
       "layout": "IPY_MODEL_885581eed947450a8b69891b3cb2cea7",
       "style": "IPY_MODEL_5d8958872bfa4d69bed66db15627cdc0"
      }
     },
     "b9ee94d0429742c2b698319089f7bc79": {
      "model_module": "@jupyter-widgets/base",
      "model_module_version": "1.2.0",
      "model_name": "LayoutModel",
      "state": {}
     },
     "babc798cc8de4ca38892b5be30bd597d": {
      "model_module": "@jupyter-widgets/controls",
      "model_module_version": "1.5.0",
      "model_name": "VBoxModel",
      "state": {
       "_dom_classes": [
        "widget-interact"
       ],
       "children": [
        "IPY_MODEL_54ca196e5ce443d9af915d2ab601761c",
        "IPY_MODEL_1f242da678bd4c1b83e6e11f64d960d6",
        "IPY_MODEL_a6701b517d534735a2532168f171ada2",
        "IPY_MODEL_6d89a62b28e24cafa4a8b6f82089f630"
       ],
       "layout": "IPY_MODEL_7c8edb18c4284e12a27bf0ab453cdb4f"
      }
     },
     "bae55aa5b2004f9f900dca20e0a72364": {
      "model_module": "@jupyter-widgets/controls",
      "model_module_version": "1.5.0",
      "model_name": "DescriptionStyleModel",
      "state": {
       "description_width": ""
      }
     },
     "bb193d556acb4f7da2d8d9b71bd823e3": {
      "model_module": "@jupyter-widgets/base",
      "model_module_version": "1.2.0",
      "model_name": "LayoutModel",
      "state": {}
     },
     "bb20d709cf90483fa786c483bfc5d78e": {
      "model_module": "@jupyter-widgets/base",
      "model_module_version": "1.2.0",
      "model_name": "LayoutModel",
      "state": {}
     },
     "bb42d7f939a147a395576305252b1174": {
      "model_module": "@jupyter-widgets/controls",
      "model_module_version": "1.5.0",
      "model_name": "VBoxModel",
      "state": {
       "_dom_classes": [
        "widget-interact"
       ],
       "children": [
        "IPY_MODEL_7098e1aa93154648b3f771b301d2eb63",
        "IPY_MODEL_49a3e00201454f14a5d133bbbb535586",
        "IPY_MODEL_5ffa134b98d740e59fb7523a0d8b485f",
        "IPY_MODEL_5252504302d845019c3c9fb898958223"
       ],
       "layout": "IPY_MODEL_2d1b3adf7a88479d88642f02c192b233"
      }
     },
     "bba8b644ac7b4bffb97cc03a1e2c7818": {
      "model_module": "@jupyter-widgets/controls",
      "model_module_version": "1.5.0",
      "model_name": "SliderStyleModel",
      "state": {
       "description_width": ""
      }
     },
     "bc348268e6a649f19ca8d03a2680c1f3": {
      "model_module": "@jupyter-widgets/base",
      "model_module_version": "1.2.0",
      "model_name": "LayoutModel",
      "state": {}
     },
     "bce0593888ec4db9b11b5c33c674cc52": {
      "model_module": "@jupyter-widgets/output",
      "model_module_version": "1.0.0",
      "model_name": "OutputModel",
      "state": {
       "layout": "IPY_MODEL_1698bdb4f49b473ba06e54ae8d802e9e",
       "outputs": [
        {
         "name": "stderr",
         "output_type": "stream",
         "text": "<ipython-input-49-c677fe2a8edf>:13: NumbaWarning: \u001b[1m\nCompilation is falling back to object mode WITH looplifting enabled because Function \"vetores\" failed type inference due to: \u001b[1m\u001b[1m\u001b[1mNo implementation of function Function(<function linspace at 0x7f39406240d0>) found for signature:\n \n >>> linspace(float64, float64, int64, retstep=Literal[bool](True))\n \nThere are 2 candidate implementations:\n\u001b[1m  - Of which 2 did not match due to:\n  Overload in function 'NdLinspace.generic': File: numba/core/typing/npydecl.py: Line 622.\n    With argument(s): '(float64, float64, int64, retstep=bool)':\u001b[0m\n\u001b[1m   Rejected as the implementation raised a specific error:\n     AssertionError: \u001b[0m\n  raised from /home/jovaine/.local/lib/python3.9/site-packages/numba/core/typing/npydecl.py:623\n\u001b[0m\n\u001b[0m\u001b[1mDuring: resolving callee type: Function(<function linspace at 0x7f39406240d0>)\u001b[0m\n\u001b[0m\u001b[1mDuring: typing of call at <ipython-input-49-c677fe2a8edf> (16)\n\u001b[0m\n\u001b[1m\nFile \"<ipython-input-49-c677fe2a8edf>\", line 16:\u001b[0m\n\u001b[1m    def vetores(xx,N):\n        <source elided>\n        xmin,xmax=xx\n\u001b[1m        x,dx=np.linspace(-xmin*ang,xmin*ang, N, retstep=True) #Define o vetor posição (raio de bohr)\n\u001b[0m        \u001b[1m^\u001b[0m\u001b[0m\n\u001b[0m\n  @jit\n/home/jovaine/.local/lib/python3.9/site-packages/numba/core/object_mode_passes.py:151: NumbaWarning: \u001b[1mFunction \"vetores\" was compiled in object mode without forceobj=True.\n\u001b[1m\nFile \"<ipython-input-49-c677fe2a8edf>\", line 14:\u001b[0m\n\u001b[1m    @jit\n\u001b[1m    def vetores(xx,N):\n\u001b[0m    \u001b[1m^\u001b[0m\u001b[0m\n\u001b[0m\n  warnings.warn(errors.NumbaWarning(warn_msg,\n/home/jovaine/.local/lib/python3.9/site-packages/numba/core/object_mode_passes.py:161: NumbaDeprecationWarning: \u001b[1m\nFall-back from the nopython compilation path to the object mode compilation path has been detected, this is deprecated behaviour.\n\nFor more information visit https://numba.pydata.org/numba-doc/latest/reference/deprecation.html#deprecation-of-object-mode-fall-back-behaviour-when-using-jit\n\u001b[1m\nFile \"<ipython-input-49-c677fe2a8edf>\", line 14:\u001b[0m\n\u001b[1m    @jit\n\u001b[1m    def vetores(xx,N):\n\u001b[0m    \u001b[1m^\u001b[0m\u001b[0m\n\u001b[0m\n  warnings.warn(errors.NumbaDeprecationWarning(msg,\n"
        },
        {
         "ename": "UnboundLocalError",
         "evalue": "local variable 'H' referenced before assignment",
         "output_type": "error",
         "traceback": [
          "\u001b[0;31m---------------------------------------------------------------------------\u001b[0m",
          "\u001b[0;31mUnboundLocalError\u001b[0m                         Traceback (most recent call last)",
          "\u001b[0;32m~/miniconda3/lib/python3.9/site-packages/ipywidgets/widgets/interaction.py\u001b[0m in \u001b[0;36mupdate\u001b[0;34m(self, *args)\u001b[0m\n\u001b[1;32m    254\u001b[0m                     \u001b[0mvalue\u001b[0m \u001b[0;34m=\u001b[0m \u001b[0mwidget\u001b[0m\u001b[0;34m.\u001b[0m\u001b[0mget_interact_value\u001b[0m\u001b[0;34m(\u001b[0m\u001b[0;34m)\u001b[0m\u001b[0;34m\u001b[0m\u001b[0;34m\u001b[0m\u001b[0m\n\u001b[1;32m    255\u001b[0m                     \u001b[0mself\u001b[0m\u001b[0;34m.\u001b[0m\u001b[0mkwargs\u001b[0m\u001b[0;34m[\u001b[0m\u001b[0mwidget\u001b[0m\u001b[0;34m.\u001b[0m\u001b[0m_kwarg\u001b[0m\u001b[0;34m]\u001b[0m \u001b[0;34m=\u001b[0m \u001b[0mvalue\u001b[0m\u001b[0;34m\u001b[0m\u001b[0;34m\u001b[0m\u001b[0m\n\u001b[0;32m--> 256\u001b[0;31m                 \u001b[0mself\u001b[0m\u001b[0;34m.\u001b[0m\u001b[0mresult\u001b[0m \u001b[0;34m=\u001b[0m \u001b[0mself\u001b[0m\u001b[0;34m.\u001b[0m\u001b[0mf\u001b[0m\u001b[0;34m(\u001b[0m\u001b[0;34m**\u001b[0m\u001b[0mself\u001b[0m\u001b[0;34m.\u001b[0m\u001b[0mkwargs\u001b[0m\u001b[0;34m)\u001b[0m\u001b[0;34m\u001b[0m\u001b[0;34m\u001b[0m\u001b[0m\n\u001b[0m\u001b[1;32m    257\u001b[0m                 \u001b[0mshow_inline_matplotlib_plots\u001b[0m\u001b[0;34m(\u001b[0m\u001b[0;34m)\u001b[0m\u001b[0;34m\u001b[0m\u001b[0;34m\u001b[0m\u001b[0m\n\u001b[1;32m    258\u001b[0m                 \u001b[0;32mif\u001b[0m \u001b[0mself\u001b[0m\u001b[0;34m.\u001b[0m\u001b[0mauto_display\u001b[0m \u001b[0;32mand\u001b[0m \u001b[0mself\u001b[0m\u001b[0;34m.\u001b[0m\u001b[0mresult\u001b[0m \u001b[0;32mis\u001b[0m \u001b[0;32mnot\u001b[0m \u001b[0;32mNone\u001b[0m\u001b[0;34m:\u001b[0m\u001b[0;34m\u001b[0m\u001b[0;34m\u001b[0m\u001b[0m\n",
          "\u001b[0;32m<ipython-input-49-c677fe2a8edf>\u001b[0m in \u001b[0;36mmain\u001b[0;34m(xx, N)\u001b[0m\n\u001b[1;32m     24\u001b[0m         \u001b[0;32mreturn\u001b[0m \u001b[0mH\u001b[0m\u001b[0;34m,\u001b[0m\u001b[0mV\u001b[0m\u001b[0;34m,\u001b[0m\u001b[0mpsi\u001b[0m\u001b[0;34m,\u001b[0m\u001b[0meig\u001b[0m\u001b[0;34m\u001b[0m\u001b[0;34m\u001b[0m\u001b[0m\n\u001b[1;32m     25\u001b[0m     \u001b[0mvetores\u001b[0m\u001b[0;34m(\u001b[0m\u001b[0mxx\u001b[0m\u001b[0;34m,\u001b[0m\u001b[0mN\u001b[0m\u001b[0;34m)\u001b[0m\u001b[0;34m\u001b[0m\u001b[0;34m\u001b[0m\u001b[0m\n\u001b[0;32m---> 26\u001b[0;31m     \u001b[0mdiagH\u001b[0m\u001b[0;34m(\u001b[0m\u001b[0mH\u001b[0m\u001b[0;34m,\u001b[0m\u001b[0mV\u001b[0m\u001b[0;34m)\u001b[0m\u001b[0;34m\u001b[0m\u001b[0;34m\u001b[0m\u001b[0m\n\u001b[0m\u001b[1;32m     27\u001b[0m     \u001b[0ma\u001b[0m\u001b[0;34m=\u001b[0m\u001b[0;34m-\u001b[0m\u001b[0;36m1\u001b[0m\u001b[0;34m/\u001b[0m\u001b[0;34m(\u001b[0m\u001b[0mdx\u001b[0m\u001b[0;34m**\u001b[0m\u001b[0;36m2\u001b[0m\u001b[0;34m)\u001b[0m \u001b[0;31m#Define 'a' por conveniência\u001b[0m\u001b[0;34m\u001b[0m\u001b[0;34m\u001b[0m\u001b[0m\n\u001b[1;32m     28\u001b[0m     \u001b[0mN\u001b[0m\u001b[0;34m,\u001b[0m \u001b[0mL\u001b[0m\u001b[0;34m=\u001b[0m\u001b[0;34m(\u001b[0m\u001b[0mx\u001b[0m\u001b[0;34m.\u001b[0m\u001b[0msize\u001b[0m\u001b[0;34m,\u001b[0m \u001b[0mx\u001b[0m\u001b[0;34m.\u001b[0m\u001b[0mmax\u001b[0m\u001b[0;34m(\u001b[0m\u001b[0;34m)\u001b[0m\u001b[0;34m-\u001b[0m\u001b[0mx\u001b[0m\u001b[0;34m.\u001b[0m\u001b[0mmin\u001b[0m\u001b[0;34m(\u001b[0m\u001b[0;34m)\u001b[0m\u001b[0;34m)\u001b[0m \u001b[0;31m#Armazena o tamanho do vetor posição e o comprimento do espaço que ele representa\u001b[0m\u001b[0;34m\u001b[0m\u001b[0;34m\u001b[0m\u001b[0m\n",
          "\u001b[0;31mUnboundLocalError\u001b[0m: local variable 'H' referenced before assignment"
         ]
        }
       ]
      }
     },
     "bd7dd337aab54344af3bf279fe664c9e": {
      "model_module": "@jupyter-widgets/controls",
      "model_module_version": "1.5.0",
      "model_name": "ButtonStyleModel",
      "state": {}
     },
     "be4dc51f0c4e4c689966bb96a0822204": {
      "model_module": "@jupyter-widgets/controls",
      "model_module_version": "1.5.0",
      "model_name": "IntSliderModel",
      "state": {
       "continuous_update": false,
       "description": "Ordem da Matriz:",
       "layout": "IPY_MODEL_c97b9bdd50594fdd9a7bc2bcb511fd61",
       "max": 1000,
       "min": 30,
       "step": 10,
       "style": "IPY_MODEL_65456f07dcf34a14a39a3ddbac504ea7",
       "value": 200
      }
     },
     "be65a78314784df2909a0d182f791628": {
      "model_module": "@jupyter-widgets/controls",
      "model_module_version": "1.5.0",
      "model_name": "SliderStyleModel",
      "state": {
       "description_width": ""
      }
     },
     "be71a08b4e664581a7ff0e13a5c87e8c": {
      "model_module": "@jupyter-widgets/controls",
      "model_module_version": "1.5.0",
      "model_name": "FloatRangeSliderModel",
      "state": {
       "_model_name": "FloatRangeSliderModel",
       "_view_name": "FloatRangeSliderView",
       "continuous_update": false,
       "description": "Domínio (angstroms):",
       "layout": "IPY_MODEL_aa9532fabf1f49058325bc11b3dc3817",
       "max": 500,
       "min": -500,
       "readout_format": "1d",
       "style": "IPY_MODEL_7ef006195ff0467caa0ddffdae4ff318",
       "value": [
        -100,
        100
       ]
      }
     },
     "bebda85b92894e889ba00aa79883d851": {
      "model_module": "@jupyter-widgets/controls",
      "model_module_version": "1.5.0",
      "model_name": "SliderStyleModel",
      "state": {
       "description_width": ""
      }
     },
     "bf209e0f6bde48aca199bb22a809f6e2": {
      "model_module": "@jupyter-widgets/controls",
      "model_module_version": "1.5.0",
      "model_name": "ButtonModel",
      "state": {
       "description": "Run Interact",
       "layout": "IPY_MODEL_cdf7e7339d9047bbaa2d53b8c133284e",
       "style": "IPY_MODEL_bd7dd337aab54344af3bf279fe664c9e"
      }
     },
     "bf6b8589deae4252b1dcf73a73cfb1c3": {
      "model_module": "@jupyter-widgets/base",
      "model_module_version": "1.2.0",
      "model_name": "LayoutModel",
      "state": {}
     },
     "bf79122d3a22423fb1a19436e11d2097": {
      "model_module": "@jupyter-widgets/controls",
      "model_module_version": "1.5.0",
      "model_name": "ButtonStyleModel",
      "state": {}
     },
     "bf7d46b6882d473f90d7cc34b23044bd": {
      "model_module": "@jupyter-widgets/base",
      "model_module_version": "1.2.0",
      "model_name": "LayoutModel",
      "state": {}
     },
     "bfbe80fd1b0341539e9499bcb79c9502": {
      "model_module": "@jupyter-widgets/controls",
      "model_module_version": "1.5.0",
      "model_name": "IntSliderModel",
      "state": {
       "continuous_update": false,
       "description": "Ordem da Matriz:",
       "layout": "IPY_MODEL_d043fe6cc69045a797ae834f72f065bf",
       "max": 1000,
       "min": 30,
       "step": 10,
       "style": "IPY_MODEL_55cd105217d8415e82b9eb7e6c882877",
       "value": 200
      }
     },
     "bffadd6179c8402b9f86c953d2e2d2ad": {
      "model_module": "@jupyter-widgets/controls",
      "model_module_version": "1.5.0",
      "model_name": "ButtonModel",
      "state": {
       "description": "Gerar/Diagonalizar ",
       "layout": "IPY_MODEL_1d127e6c9abe4913b868ce6aba67ab04",
       "style": "IPY_MODEL_d6846d64a7924d4a9f17e62d932aef09"
      }
     },
     "c00ffcf01a0a42909d28e293c0d31bab": {
      "model_module": "@jupyter-widgets/base",
      "model_module_version": "1.2.0",
      "model_name": "LayoutModel",
      "state": {}
     },
     "c05023f27b6e4752a398369a8bdb49f8": {
      "model_module": "@jupyter-widgets/controls",
      "model_module_version": "1.5.0",
      "model_name": "ButtonModel",
      "state": {
       "description": "Run Interact",
       "layout": "IPY_MODEL_8144f7094e6b46fcb8e6811e65e3deb6",
       "style": "IPY_MODEL_5005a546c4a24d138160e267bac4a8f1"
      }
     },
     "c0c3c5b499c14c67ba0c1d4aa819bdb4": {
      "model_module": "@jupyter-widgets/base",
      "model_module_version": "1.2.0",
      "model_name": "LayoutModel",
      "state": {}
     },
     "c0e0104ef3d34f5fb23acb69739e2b74": {
      "model_module": "@jupyter-widgets/base",
      "model_module_version": "1.2.0",
      "model_name": "LayoutModel",
      "state": {}
     },
     "c0f1178a38db4da88941369891903c66": {
      "model_module": "@jupyter-widgets/controls",
      "model_module_version": "1.5.0",
      "model_name": "SliderStyleModel",
      "state": {
       "description_width": ""
      }
     },
     "c17200d16879458fb22642c7bc2c2ee0": {
      "model_module": "@jupyter-widgets/controls",
      "model_module_version": "1.5.0",
      "model_name": "ButtonModel",
      "state": {
       "description": "Run Interact",
       "layout": "IPY_MODEL_7a26828b50c64e8093d8f5956f540275",
       "style": "IPY_MODEL_8dc88664ad5642fe8a50a9a35e1d3c80"
      }
     },
     "c1defe23519042f3b7e2941078be945d": {
      "model_module": "@jupyter-widgets/controls",
      "model_module_version": "1.5.0",
      "model_name": "ButtonModel",
      "state": {
       "description": "Run Interact",
       "layout": "IPY_MODEL_6f762e3e682643de9c275f89864eed8e",
       "style": "IPY_MODEL_e849befa2cce45438b263397f5cefffa"
      }
     },
     "c25945e8a2ef40beb6b2ce78dab2c115": {
      "model_module": "@jupyter-widgets/controls",
      "model_module_version": "1.5.0",
      "model_name": "ButtonStyleModel",
      "state": {}
     },
     "c3d6adc6d01b4e03be6b882c23f86588": {
      "model_module": "@jupyter-widgets/controls",
      "model_module_version": "1.5.0",
      "model_name": "IntSliderModel",
      "state": {
       "continuous_update": false,
       "description": "Ordem da Matriz:",
       "layout": "IPY_MODEL_483c0bbabba743669c9b12ad5416003a",
       "max": 1000,
       "min": 30,
       "step": 10,
       "style": "IPY_MODEL_2a8d9744b294415f8b9ad763109bfac5",
       "value": 200
      }
     },
     "c40ca4cf783649ebb6e0347b9bb5cd15": {
      "model_module": "@jupyter-widgets/base",
      "model_module_version": "1.2.0",
      "model_name": "LayoutModel",
      "state": {}
     },
     "c44aa3bec51e4575bc58614149d1f58f": {
      "model_module": "@jupyter-widgets/controls",
      "model_module_version": "1.5.0",
      "model_name": "FloatRangeSliderModel",
      "state": {
       "_model_name": "FloatRangeSliderModel",
       "_view_name": "FloatRangeSliderView",
       "continuous_update": false,
       "description": "Domínio (angstroms):",
       "layout": "IPY_MODEL_e46b4dad73b740d79f0d83a6fb24606b",
       "max": 500,
       "min": -500,
       "readout_format": "1d",
       "style": "IPY_MODEL_3c7b6edbe36c42ceae1ed4b2a48fd54d",
       "value": [
        -100,
        100
       ]
      }
     },
     "c4f144f03b9e4768a9d199f9796be2fd": {
      "model_module": "@jupyter-widgets/controls",
      "model_module_version": "1.5.0",
      "model_name": "VBoxModel",
      "state": {
       "_dom_classes": [
        "widget-interact"
       ],
       "layout": "IPY_MODEL_09bbcee0a8c54fef94e88b99e1108d82"
      }
     },
     "c4f848602532467089d14e772fac22ec": {
      "model_module": "@jupyter-widgets/base",
      "model_module_version": "1.2.0",
      "model_name": "LayoutModel",
      "state": {}
     },
     "c5059c3166fc4aafb7c34a505cee1c46": {
      "model_module": "@jupyter-widgets/base",
      "model_module_version": "1.2.0",
      "model_name": "LayoutModel",
      "state": {}
     },
     "c57945c85225400481f279204784fd6b": {
      "model_module": "@jupyter-widgets/base",
      "model_module_version": "1.2.0",
      "model_name": "LayoutModel",
      "state": {}
     },
     "c5b8d39bbaa54d3a8f009f0dfd1ed680": {
      "model_module": "@jupyter-widgets/base",
      "model_module_version": "1.2.0",
      "model_name": "LayoutModel",
      "state": {}
     },
     "c5c13f2749264dd3a5a4c10cd652918b": {
      "model_module": "@jupyter-widgets/base",
      "model_module_version": "1.2.0",
      "model_name": "LayoutModel",
      "state": {}
     },
     "c60282099c2844929ef5a2b6a46782f7": {
      "model_module": "@jupyter-widgets/controls",
      "model_module_version": "1.5.0",
      "model_name": "FloatRangeSliderModel",
      "state": {
       "_model_name": "FloatRangeSliderModel",
       "_view_name": "FloatRangeSliderView",
       "continuous_update": false,
       "description": "Defina o domínio de $\\Psi(x) \\AA$:",
       "layout": "IPY_MODEL_f82f427ace164322824587b12b7eed6d",
       "max": 500,
       "min": -500,
       "readout_format": ".1f",
       "style": "IPY_MODEL_179373b76dfa4ab39a5739bd02feac2f",
       "value": [
        -100,
        100
       ]
      }
     },
     "c608c83b54bd49f8a151eb276a40ef5e": {
      "model_module": "@jupyter-widgets/output",
      "model_module_version": "1.0.0",
      "model_name": "OutputModel",
      "state": {
       "layout": "IPY_MODEL_438738b6eb6142fd9704cc4b6e56f721"
      }
     },
     "c60a385eadf948938ec85fa62ceca87b": {
      "model_module": "@jupyter-widgets/base",
      "model_module_version": "1.2.0",
      "model_name": "LayoutModel",
      "state": {}
     },
     "c6e4447855eb4ff3848036972d6e3819": {
      "model_module": "@jupyter-widgets/controls",
      "model_module_version": "1.5.0",
      "model_name": "ButtonModel",
      "state": {
       "description": "Plotar",
       "layout": "IPY_MODEL_00bfd95c348f4d8b94a5f77d3449aaba",
       "style": "IPY_MODEL_ed42bcc4880b4ec092ce06bc3205bcd7"
      }
     },
     "c6ed619fe1be4243b4d6c6bf0a0228c3": {
      "model_module": "@jupyter-widgets/output",
      "model_module_version": "1.0.0",
      "model_name": "OutputModel",
      "state": {
       "layout": "IPY_MODEL_ff8e57d5f4d24996b824805f973b87e0"
      }
     },
     "c746bad39b944f3a98076512767e0270": {
      "model_module": "@jupyter-widgets/base",
      "model_module_version": "1.2.0",
      "model_name": "LayoutModel",
      "state": {}
     },
     "c7ac484885c24ee9bfa028c19c492315": {
      "model_module": "@jupyter-widgets/controls",
      "model_module_version": "1.5.0",
      "model_name": "IntSliderModel",
      "state": {
       "continuous_update": false,
       "description": "Ordem da Matriz:",
       "layout": "IPY_MODEL_27ef860fb7a4410b8ed67da07cee4e46",
       "max": 1000,
       "min": 30,
       "step": 10,
       "style": "IPY_MODEL_0d5862a76d5b4529890f5f727fd781fc",
       "value": 200
      }
     },
     "c8d018d34ed94d10879147530d65e5c3": {
      "model_module": "@jupyter-widgets/base",
      "model_module_version": "1.2.0",
      "model_name": "LayoutModel",
      "state": {}
     },
     "c8faed0fc2b24bf7bdfc1c9778f1db47": {
      "model_module": "@jupyter-widgets/base",
      "model_module_version": "1.2.0",
      "model_name": "LayoutModel",
      "state": {}
     },
     "c9242dc9356c49709813fd15596c18af": {
      "model_module": "@jupyter-widgets/base",
      "model_module_version": "1.2.0",
      "model_name": "LayoutModel",
      "state": {}
     },
     "c970f151da4546ecba4efbba44ac9645": {
      "model_module": "@jupyter-widgets/controls",
      "model_module_version": "1.5.0",
      "model_name": "IntSliderModel",
      "state": {
       "continuous_update": false,
       "description": "Ordem da Matriz:",
       "layout": "IPY_MODEL_d5d4664e215047828b45fa1fc9acab2a",
       "max": 1000,
       "min": 30,
       "step": 10,
       "style": "IPY_MODEL_d698005e136f4a1aba8c5003c061d80a",
       "value": 200
      }
     },
     "c97b9bdd50594fdd9a7bc2bcb511fd61": {
      "model_module": "@jupyter-widgets/base",
      "model_module_version": "1.2.0",
      "model_name": "LayoutModel",
      "state": {}
     },
     "c9c2e6fc969744c9bf3e41044f3b2b2b": {
      "model_module": "@jupyter-widgets/base",
      "model_module_version": "1.2.0",
      "model_name": "LayoutModel",
      "state": {}
     },
     "c9f96f1153994e0a92cde54d9ac1f5e1": {
      "model_module": "@jupyter-widgets/controls",
      "model_module_version": "1.5.0",
      "model_name": "ButtonModel",
      "state": {
       "description": "Plotar",
       "layout": "IPY_MODEL_1f24af57a6cb4a9d85f0b131ee341398",
       "style": "IPY_MODEL_c25945e8a2ef40beb6b2ce78dab2c115"
      }
     },
     "ca2236a1d57446e684eb9760addc878c": {
      "model_module": "@jupyter-widgets/controls",
      "model_module_version": "1.5.0",
      "model_name": "VBoxModel",
      "state": {
       "_dom_classes": [
        "widget-interact"
       ],
       "children": [
        "IPY_MODEL_a42d8751bbdb40d1acb5d5e61cc97070",
        "IPY_MODEL_7c9cdf1490c247f4944aeba33f048a16",
        "IPY_MODEL_90373a4a466c4ea2aa7672d369f5cbdb",
        "IPY_MODEL_eea63b542df74feeb856b962c6f9ae99"
       ],
       "layout": "IPY_MODEL_36231d36ea9d426792d2e59cc885f3e5"
      }
     },
     "ca66bec5be034598b411f7098026a5b2": {
      "model_module": "@jupyter-widgets/controls",
      "model_module_version": "1.5.0",
      "model_name": "IntSliderModel",
      "state": {
       "continuous_update": false,
       "description": "Ordem da Matriz:",
       "layout": "IPY_MODEL_5625e105d853404fba7f1596743fec0b",
       "max": 1000,
       "min": 30,
       "step": 10,
       "style": "IPY_MODEL_2637b7c305074701b1ce1f3a5cb51131",
       "value": 200
      }
     },
     "cb5aedf903ea48ac9c4112b42e508d23": {
      "model_module": "@jupyter-widgets/base",
      "model_module_version": "1.2.0",
      "model_name": "LayoutModel",
      "state": {}
     },
     "cc781c3d28e1403e9313d2d099f5e18a": {
      "model_module": "@jupyter-widgets/base",
      "model_module_version": "1.2.0",
      "model_name": "LayoutModel",
      "state": {}
     },
     "cc80b71f8f094ed5ac9082f96bb15968": {
      "model_module": "@jupyter-widgets/base",
      "model_module_version": "1.2.0",
      "model_name": "LayoutModel",
      "state": {}
     },
     "cce428d0de09497ba87804c83c32bb05": {
      "model_module": "@jupyter-widgets/controls",
      "model_module_version": "1.5.0",
      "model_name": "IntSliderModel",
      "state": {
       "continuous_update": false,
       "description": "Ordem da Matriz:",
       "layout": "IPY_MODEL_7d97bc28eb1a4e09bb8a9878699bc2d1",
       "max": 1000,
       "min": 30,
       "step": 10,
       "style": "IPY_MODEL_ad7bdccd78a840ad82eb3a12ed3ba93e",
       "value": 200
      }
     },
     "cd2cae60f46d45adb2a7f8c8234e5ef1": {
      "model_module": "@jupyter-widgets/controls",
      "model_module_version": "1.5.0",
      "model_name": "VBoxModel",
      "state": {
       "_dom_classes": [
        "widget-interact"
       ],
       "children": [
        "IPY_MODEL_51dab81a0dbd456ab6c93027a60b367f",
        "IPY_MODEL_d9c55ecf7a9447209de62394f941b70c",
        "IPY_MODEL_78e5802ca60f47748ab4d230a6775b95",
        "IPY_MODEL_5b29847884a14c6ebe513bd3e5e3ad89"
       ],
       "layout": "IPY_MODEL_ffec5ddbe03f4ff9b89d32ce89eaa6eb"
      }
     },
     "cd407f52351346e78a3c0f05d4fb2a78": {
      "model_module": "@jupyter-widgets/controls",
      "model_module_version": "1.5.0",
      "model_name": "IntSliderModel",
      "state": {
       "continuous_update": false,
       "description": "Ordem da Matriz:",
       "layout": "IPY_MODEL_e6c49e216bca4be7be8da1baa92a3af7",
       "max": 1000,
       "min": 30,
       "step": 10,
       "style": "IPY_MODEL_dda55a49611345d5b922bd296e44fab9",
       "value": 200
      }
     },
     "cd5309cfeb0a4a4babed55beffbb81aa": {
      "model_module": "@jupyter-widgets/output",
      "model_module_version": "1.0.0",
      "model_name": "OutputModel",
      "state": {
       "layout": "IPY_MODEL_8145c661b2ad426fb5d15be351e198ee",
       "outputs": [
        {
         "data": {
          "image/png": "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\n",
          "text/plain": "<Figure size 1152x648 with 1 Axes>"
         },
         "metadata": {
          "needs_background": "light"
         },
         "output_type": "display_data"
        }
       ]
      }
     },
     "cd7402cce5984bea9af1590646acb2ed": {
      "model_module": "@jupyter-widgets/controls",
      "model_module_version": "1.5.0",
      "model_name": "ButtonStyleModel",
      "state": {}
     },
     "cdf7e7339d9047bbaa2d53b8c133284e": {
      "model_module": "@jupyter-widgets/base",
      "model_module_version": "1.2.0",
      "model_name": "LayoutModel",
      "state": {}
     },
     "ce3f79ddf41c44ac942058237d1720da": {
      "model_module": "@jupyter-widgets/base",
      "model_module_version": "1.2.0",
      "model_name": "LayoutModel",
      "state": {}
     },
     "ce56cb0c72804be2a8ee9f360d6716c4": {
      "model_module": "@jupyter-widgets/base",
      "model_module_version": "1.2.0",
      "model_name": "LayoutModel",
      "state": {}
     },
     "ce77bbe6a4084cf9ac5418204c9dabe9": {
      "model_module": "@jupyter-widgets/base",
      "model_module_version": "1.2.0",
      "model_name": "LayoutModel",
      "state": {}
     },
     "ce7af18b361e4647b713216e3cfaeb11": {
      "model_module": "@jupyter-widgets/controls",
      "model_module_version": "1.5.0",
      "model_name": "VBoxModel",
      "state": {
       "_dom_classes": [
        "widget-interact"
       ],
       "layout": "IPY_MODEL_9e6cb86b8cce476d8febd1ba8263a21a"
      }
     },
     "cf1ae7cb03364d938422e1be327afa22": {
      "model_module": "@jupyter-widgets/controls",
      "model_module_version": "1.5.0",
      "model_name": "ButtonModel",
      "state": {
       "description": "Run Interact",
       "layout": "IPY_MODEL_891e1fa4d2ea44e2a8124e3069235bda",
       "style": "IPY_MODEL_3ff731a19c664f50ae92ebd67061e6d4"
      }
     },
     "cf3af371a91e49e1a086f205698f1f65": {
      "model_module": "@jupyter-widgets/base",
      "model_module_version": "1.2.0",
      "model_name": "LayoutModel",
      "state": {}
     },
     "cf7f22aa31df4e569cfcb1662a0c88ee": {
      "model_module": "@jupyter-widgets/output",
      "model_module_version": "1.0.0",
      "model_name": "OutputModel",
      "state": {
       "layout": "IPY_MODEL_43e63b0d6cd347a39a0a3baad0f7a202",
       "outputs": [
        {
         "data": {
          "image/png": "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\n",
          "text/plain": "<Figure size 1152x648 with 1 Axes>"
         },
         "metadata": {
          "needs_background": "light"
         },
         "output_type": "display_data"
        }
       ]
      }
     },
     "d043fe6cc69045a797ae834f72f065bf": {
      "model_module": "@jupyter-widgets/base",
      "model_module_version": "1.2.0",
      "model_name": "LayoutModel",
      "state": {}
     },
     "d0871b04d46345a9b5f236f2e5fb06b7": {
      "model_module": "@jupyter-widgets/base",
      "model_module_version": "1.2.0",
      "model_name": "LayoutModel",
      "state": {}
     },
     "d08b96b14f8140fcb155e3a682cff9ba": {
      "model_module": "@jupyter-widgets/base",
      "model_module_version": "1.2.0",
      "model_name": "LayoutModel",
      "state": {}
     },
     "d1b986b0f2c04550877b35078a339a58": {
      "model_module": "@jupyter-widgets/controls",
      "model_module_version": "1.5.0",
      "model_name": "SliderStyleModel",
      "state": {
       "description_width": ""
      }
     },
     "d2478c85519a41519adbf5d3a2c64fc2": {
      "model_module": "@jupyter-widgets/base",
      "model_module_version": "1.2.0",
      "model_name": "LayoutModel",
      "state": {}
     },
     "d2493a2a66354e2aa6f4c53a6c56ab1b": {
      "model_module": "@jupyter-widgets/output",
      "model_module_version": "1.0.0",
      "model_name": "OutputModel",
      "state": {
       "layout": "IPY_MODEL_bf6b8589deae4252b1dcf73a73cfb1c3"
      }
     },
     "d25666415ff3451ea62d012bdf78515a": {
      "model_module": "@jupyter-widgets/controls",
      "model_module_version": "1.5.0",
      "model_name": "SliderStyleModel",
      "state": {
       "description_width": ""
      }
     },
     "d269019395624dd781dded6cd35ac810": {
      "model_module": "@jupyter-widgets/controls",
      "model_module_version": "1.5.0",
      "model_name": "VBoxModel",
      "state": {
       "_dom_classes": [
        "widget-interact"
       ],
       "children": [
        "IPY_MODEL_0aee7fffc8fa49d18d11aa6897f84166",
        "IPY_MODEL_f459b0d03d474c368429f45019ec78b8",
        "IPY_MODEL_de754a38421141bea2b503f929a946eb",
        "IPY_MODEL_bce0593888ec4db9b11b5c33c674cc52"
       ],
       "layout": "IPY_MODEL_4050d33c02d54e5092b36ccbaf606211"
      }
     },
     "d2960c9a67e444a0a59d57853da3e34e": {
      "model_module": "@jupyter-widgets/base",
      "model_module_version": "1.2.0",
      "model_name": "LayoutModel",
      "state": {}
     },
     "d3bcae034e8940cebc1404ec1a71c5e9": {
      "model_module": "@jupyter-widgets/base",
      "model_module_version": "1.2.0",
      "model_name": "LayoutModel",
      "state": {}
     },
     "d3f49c6c682747d18faec4ab77609118": {
      "model_module": "@jupyter-widgets/controls",
      "model_module_version": "1.5.0",
      "model_name": "FloatRangeSliderModel",
      "state": {
       "_model_name": "FloatRangeSliderModel",
       "_view_name": "FloatRangeSliderView",
       "continuous_update": false,
       "description": "Domínio: ",
       "layout": "IPY_MODEL_a9e44d05d19248888b87d85b49ce4e81",
       "max": 500,
       "min": -500,
       "readout_format": "1d",
       "style": "IPY_MODEL_b6b90a2b2e804a08878712d77b1476f7",
       "value": [
        -100,
        100
       ]
      }
     },
     "d4044d57237d4526b2a3bebaf1674e01": {
      "model_module": "@jupyter-widgets/base",
      "model_module_version": "1.2.0",
      "model_name": "LayoutModel",
      "state": {}
     },
     "d446c2b9847742f79b1f2c035609c333": {
      "model_module": "@jupyter-widgets/base",
      "model_module_version": "1.2.0",
      "model_name": "LayoutModel",
      "state": {}
     },
     "d4a95e419eb6476bb74d1075cca94346": {
      "model_module": "@jupyter-widgets/controls",
      "model_module_version": "1.5.0",
      "model_name": "IntSliderModel",
      "state": {
       "continuous_update": false,
       "description": "Ordem da Matriz:",
       "layout": "IPY_MODEL_a5ab70ded7db4ff88a307ab1c90b50f0",
       "max": 1000,
       "min": 30,
       "step": 10,
       "style": "IPY_MODEL_fc5e64c6aec04fa8be1582e866636130",
       "value": 200
      }
     },
     "d519033186c3435b9b5a0e9c590b8e75": {
      "model_module": "@jupyter-widgets/controls",
      "model_module_version": "1.5.0",
      "model_name": "VBoxModel",
      "state": {
       "_dom_classes": [
        "widget-interact"
       ],
       "children": [
        "IPY_MODEL_93d74dfa611c4f1992a59f1fae6b98a7",
        "IPY_MODEL_fc5c3c04ed204b8db12e7853ba83e9bb",
        "IPY_MODEL_28967da55f6845f4bf7d7dd0e05ef072",
        "IPY_MODEL_1d7e20d5486540c9b31ac802693ae40e"
       ],
       "layout": "IPY_MODEL_6c532ba53f874e35af4793a604648efd"
      }
     },
     "d52c1e68a96340fbb82db96cb34e9745": {
      "model_module": "@jupyter-widgets/base",
      "model_module_version": "1.2.0",
      "model_name": "LayoutModel",
      "state": {}
     },
     "d57de86f8af5426bba06f15c778aed96": {
      "model_module": "@jupyter-widgets/controls",
      "model_module_version": "1.5.0",
      "model_name": "VBoxModel",
      "state": {
       "_dom_classes": [
        "widget-interact"
       ],
       "children": [
        "IPY_MODEL_3290b96c1469418c9277f85fdd2e6e3f",
        "IPY_MODEL_a29815d4c161465491be188560cb3e50",
        "IPY_MODEL_0186a0fcadb3464e9d832b0110f9df07"
       ],
       "layout": "IPY_MODEL_f36b2bb97c774eaf98227f43c27d6a73"
      }
     },
     "d588b9819774465cb4c57bc89ee09b94": {
      "model_module": "@jupyter-widgets/base",
      "model_module_version": "1.2.0",
      "model_name": "LayoutModel",
      "state": {}
     },
     "d5ae7ac8d45e4f53b161522a79f33a62": {
      "model_module": "@jupyter-widgets/base",
      "model_module_version": "1.2.0",
      "model_name": "LayoutModel",
      "state": {}
     },
     "d5d4664e215047828b45fa1fc9acab2a": {
      "model_module": "@jupyter-widgets/base",
      "model_module_version": "1.2.0",
      "model_name": "LayoutModel",
      "state": {}
     },
     "d5de3412c80b4244a6132bc383ea8c2c": {
      "model_module": "@jupyter-widgets/base",
      "model_module_version": "1.2.0",
      "model_name": "LayoutModel",
      "state": {}
     },
     "d5f5d2225b424bb59c03be8d2a62f2be": {
      "model_module": "@jupyter-widgets/controls",
      "model_module_version": "1.5.0",
      "model_name": "VBoxModel",
      "state": {
       "_dom_classes": [
        "widget-interact"
       ],
       "children": [
        "IPY_MODEL_6934fd8b749c4208971a28601201f2c6",
        "IPY_MODEL_adf8e111eb504870b4fc5088bab8bb63",
        "IPY_MODEL_dee3a3c5edf947d1802db5024ee0fe62",
        "IPY_MODEL_a297b10e017442659b3732e85e646dd0"
       ],
       "layout": "IPY_MODEL_1468661db460473c8381da674d6e5e7f"
      }
     },
     "d614fe6a8c6b4a1e8185cfc1af98989e": {
      "model_module": "@jupyter-widgets/controls",
      "model_module_version": "1.5.0",
      "model_name": "SliderStyleModel",
      "state": {
       "description_width": ""
      }
     },
     "d6291608113e4e028a1754626cb48c2e": {
      "model_module": "@jupyter-widgets/controls",
      "model_module_version": "1.5.0",
      "model_name": "ButtonModel",
      "state": {
       "description": "Plotar",
       "layout": "IPY_MODEL_c0c3c5b499c14c67ba0c1d4aa819bdb4",
       "style": "IPY_MODEL_96a4b75a13f44758ae3e56513515113b"
      }
     },
     "d62e8a2692304a4f9cc609d60d9201ac": {
      "model_module": "@jupyter-widgets/base",
      "model_module_version": "1.2.0",
      "model_name": "LayoutModel",
      "state": {}
     },
     "d6837bcf96de470bbe1ec76370bef401": {
      "model_module": "@jupyter-widgets/controls",
      "model_module_version": "1.5.0",
      "model_name": "ButtonStyleModel",
      "state": {}
     },
     "d6846d64a7924d4a9f17e62d932aef09": {
      "model_module": "@jupyter-widgets/controls",
      "model_module_version": "1.5.0",
      "model_name": "ButtonStyleModel",
      "state": {}
     },
     "d69391d53a184eda9b25a670f421510c": {
      "model_module": "@jupyter-widgets/controls",
      "model_module_version": "1.5.0",
      "model_name": "IntRangeSliderModel",
      "state": {
       "_model_name": "IntRangeSliderModel",
       "_view_name": "IntRangeSliderView",
       "continuous_update": false,
       "description": "Plotar N. Estados::",
       "layout": "IPY_MODEL_ce77bbe6a4084cf9ac5418204c9dabe9",
       "max": 50,
       "readout_format": "1d",
       "style": "IPY_MODEL_440501dc702e46058cf1aa7369e4941b",
       "value": [
        0,
        3
       ]
      }
     },
     "d698005e136f4a1aba8c5003c061d80a": {
      "model_module": "@jupyter-widgets/controls",
      "model_module_version": "1.5.0",
      "model_name": "SliderStyleModel",
      "state": {
       "description_width": ""
      }
     },
     "d6cc89094fa74254bdf744c7e6be130b": {
      "model_module": "@jupyter-widgets/base",
      "model_module_version": "1.2.0",
      "model_name": "LayoutModel",
      "state": {}
     },
     "d6da91ec41e94944a54b84978c4eb0c2": {
      "model_module": "@jupyter-widgets/controls",
      "model_module_version": "1.5.0",
      "model_name": "SliderStyleModel",
      "state": {
       "description_width": ""
      }
     },
     "d6ea49a8df644596932ba108b0864b59": {
      "model_module": "@jupyter-widgets/output",
      "model_module_version": "1.0.0",
      "model_name": "OutputModel",
      "state": {
       "layout": "IPY_MODEL_054af5c280ad4b58bb9f4f42ab0842ee"
      }
     },
     "d7453d5f87794f778d33a9630c688372": {
      "model_module": "@jupyter-widgets/base",
      "model_module_version": "1.2.0",
      "model_name": "LayoutModel",
      "state": {}
     },
     "d7814ec41b3748fab0fcb88fad93014e": {
      "model_module": "@jupyter-widgets/base",
      "model_module_version": "1.2.0",
      "model_name": "LayoutModel",
      "state": {}
     },
     "d7d48a0866ca4c5fb7ebb59bf4d7677d": {
      "model_module": "@jupyter-widgets/base",
      "model_module_version": "1.2.0",
      "model_name": "LayoutModel",
      "state": {}
     },
     "d8fa895c9e5a425d87d69f1e142153fa": {
      "model_module": "@jupyter-widgets/controls",
      "model_module_version": "1.5.0",
      "model_name": "IntRangeSliderModel",
      "state": {
       "_model_name": "IntRangeSliderModel",
       "_view_name": "IntRangeSliderView",
       "continuous_update": false,
       "description": "Plotar N. Estados::",
       "layout": "IPY_MODEL_b979f8a0824c40149fa36cd806cedb2a",
       "max": 50,
       "readout_format": "1d",
       "style": "IPY_MODEL_da88354ea7144eb6b11b7a5b309586e6",
       "value": [
        0,
        3
       ]
      }
     },
     "d99b757f40754e699c236756ff01cbf8": {
      "model_module": "@jupyter-widgets/controls",
      "model_module_version": "1.5.0",
      "model_name": "SliderStyleModel",
      "state": {
       "description_width": ""
      }
     },
     "d9c55ecf7a9447209de62394f941b70c": {
      "model_module": "@jupyter-widgets/controls",
      "model_module_version": "1.5.0",
      "model_name": "IntSliderModel",
      "state": {
       "continuous_update": false,
       "description": "Ordem da Matriz:",
       "layout": "IPY_MODEL_f1190e6d473948138339686b651a62e2",
       "max": 1000,
       "min": 30,
       "step": 10,
       "style": "IPY_MODEL_3ecd70fa2a6046e5b43655a07112a5f1",
       "value": 200
      }
     },
     "d9e409158e5f4b8099b851e9219d8d1c": {
      "model_module": "@jupyter-widgets/controls",
      "model_module_version": "1.5.0",
      "model_name": "VBoxModel",
      "state": {
       "_dom_classes": [
        "widget-interact"
       ],
       "children": [
        "IPY_MODEL_5a8461c1e8e546f982c2eacf5c46f0f2",
        "IPY_MODEL_9bae4dbd854f45e9af9a5124b84b6748",
        "IPY_MODEL_2212dd48be934b92b90af3ceb3372865",
        "IPY_MODEL_e7aafb6cb6de41b09ad9a1a8031d36b2"
       ],
       "layout": "IPY_MODEL_6c24dfedc74b4df7a87134e8f8b60d64"
      }
     },
     "da88354ea7144eb6b11b7a5b309586e6": {
      "model_module": "@jupyter-widgets/controls",
      "model_module_version": "1.5.0",
      "model_name": "SliderStyleModel",
      "state": {
       "description_width": ""
      }
     },
     "db3674464f3a4efcb8e475f71c8aa95d": {
      "model_module": "@jupyter-widgets/base",
      "model_module_version": "1.2.0",
      "model_name": "LayoutModel",
      "state": {}
     },
     "db6845d3dd634895aa4a22c54c172b42": {
      "model_module": "@jupyter-widgets/controls",
      "model_module_version": "1.5.0",
      "model_name": "VBoxModel",
      "state": {
       "_dom_classes": [
        "widget-interact"
       ],
       "children": [
        "IPY_MODEL_1db20b9a42e949a0890dd6a40d1bf729",
        "IPY_MODEL_06f5bc3909764b8c977f412b294f564b",
        "IPY_MODEL_21fe2a97b4684da38882d113b789e924",
        "IPY_MODEL_b44212f6dc5442afaa9ef76286d5aed4",
        "IPY_MODEL_c608c83b54bd49f8a151eb276a40ef5e"
       ],
       "layout": "IPY_MODEL_feaa26a074534b6a99c616248355b04a"
      }
     },
     "db7e543a90de4fd196fefa1ce063e9a1": {
      "model_module": "@jupyter-widgets/controls",
      "model_module_version": "1.5.0",
      "model_name": "ButtonStyleModel",
      "state": {}
     },
     "db8e8b2907ab47fbba93b1ce7cf1960f": {
      "model_module": "@jupyter-widgets/controls",
      "model_module_version": "1.5.0",
      "model_name": "ButtonModel",
      "state": {
       "description": "Run Interact",
       "layout": "IPY_MODEL_f4aa30d1ecc744f4a929195cf18af42c",
       "style": "IPY_MODEL_1e8245a49c934ad5a018850f5b64081e"
      }
     },
     "dcad434e02c349e6a2e9f0dd9e9439ee": {
      "model_module": "@jupyter-widgets/controls",
      "model_module_version": "1.5.0",
      "model_name": "FloatRangeSliderModel",
      "state": {
       "_model_name": "FloatRangeSliderModel",
       "_view_name": "FloatRangeSliderView",
       "continuous_update": false,
       "description": "\r{A}$:",
       "layout": "IPY_MODEL_6651d5c002f848c6be869d2659718dd0",
       "max": 500,
       "min": -500,
       "readout_format": "1d",
       "style": "IPY_MODEL_0b1ea6ebbfbf43de88d6202ad4eb3c83",
       "value": [
        -100,
        100
       ]
      }
     },
     "dd801eb81dd044b18127ca676bd81684": {
      "model_module": "@jupyter-widgets/base",
      "model_module_version": "1.2.0",
      "model_name": "LayoutModel",
      "state": {}
     },
     "dda55a49611345d5b922bd296e44fab9": {
      "model_module": "@jupyter-widgets/controls",
      "model_module_version": "1.5.0",
      "model_name": "SliderStyleModel",
      "state": {
       "description_width": ""
      }
     },
     "ddb2072e224749e49305021d227b651a": {
      "model_module": "@jupyter-widgets/controls",
      "model_module_version": "1.5.0",
      "model_name": "ButtonStyleModel",
      "state": {}
     },
     "dde3306c82904c1492d3901f5a0856a8": {
      "model_module": "@jupyter-widgets/controls",
      "model_module_version": "1.5.0",
      "model_name": "FloatRangeSliderModel",
      "state": {
       "_model_name": "FloatRangeSliderModel",
       "_view_name": "FloatRangeSliderView",
       "continuous_update": false,
       "description": "Domínio (angstroms):",
       "layout": "IPY_MODEL_643a523c1c4149fd87060a52ef57f64b",
       "max": 500,
       "min": -500,
       "readout_format": "1d",
       "style": "IPY_MODEL_3a0519a6181845379bd0e3bdf787ce4a",
       "value": [
        -100,
        100
       ]
      }
     },
     "de754a38421141bea2b503f929a946eb": {
      "model_module": "@jupyter-widgets/controls",
      "model_module_version": "1.5.0",
      "model_name": "ButtonModel",
      "state": {
       "description": "Run Interact",
       "layout": "IPY_MODEL_c746bad39b944f3a98076512767e0270",
       "style": "IPY_MODEL_1de314fa5b054485abcf0d90eed55186"
      }
     },
     "dee3a3c5edf947d1802db5024ee0fe62": {
      "model_module": "@jupyter-widgets/controls",
      "model_module_version": "1.5.0",
      "model_name": "ButtonModel",
      "state": {
       "description": "Run Interact",
       "layout": "IPY_MODEL_3c8a6da67e9447998ef217b533008390",
       "style": "IPY_MODEL_db7e543a90de4fd196fefa1ce063e9a1"
      }
     },
     "df0e6e84c3504d179d4074d306a0c80d": {
      "model_module": "@jupyter-widgets/base",
      "model_module_version": "1.2.0",
      "model_name": "LayoutModel",
      "state": {}
     },
     "df2668d67a7a429f9b8c282238053349": {
      "model_module": "@jupyter-widgets/controls",
      "model_module_version": "1.5.0",
      "model_name": "VBoxModel",
      "state": {
       "_dom_classes": [
        "widget-interact"
       ],
       "children": [
        "IPY_MODEL_29520807fd644f019a8a249c139b3a7d",
        "IPY_MODEL_4fbd637294a34893b8f685f739e2015b",
        "IPY_MODEL_5a9dcf4c88074822874acba600f39f57",
        "IPY_MODEL_89fd0073c625410c8ba06fff9dca11ab"
       ],
       "layout": "IPY_MODEL_a68e873495c44200af15a74569e614f6"
      }
     },
     "dfd0bece249843cebe002e16383185fb": {
      "model_module": "@jupyter-widgets/controls",
      "model_module_version": "1.5.0",
      "model_name": "ButtonStyleModel",
      "state": {}
     },
     "dfe75fb103ab4cd78a6c6bd451394376": {
      "model_module": "@jupyter-widgets/controls",
      "model_module_version": "1.5.0",
      "model_name": "VBoxModel",
      "state": {
       "_dom_classes": [
        "widget-interact"
       ],
       "children": [
        "IPY_MODEL_d3f49c6c682747d18faec4ab77609118",
        "IPY_MODEL_7306e991d29c4180b72d500ca7efe08c",
        "IPY_MODEL_7652461014594b8aa91e52b79b98310c",
        "IPY_MODEL_2c8293ec0a5d4a33a9de7bd0d6fc6631"
       ],
       "layout": "IPY_MODEL_d4044d57237d4526b2a3bebaf1674e01"
      }
     },
     "e004878e8c744908a71f40eea762f67d": {
      "model_module": "@jupyter-widgets/base",
      "model_module_version": "1.2.0",
      "model_name": "LayoutModel",
      "state": {}
     },
     "e081bab45bd34ef8b26aa3907226e9ee": {
      "model_module": "@jupyter-widgets/base",
      "model_module_version": "1.2.0",
      "model_name": "LayoutModel",
      "state": {}
     },
     "e08879e8d3534d1c94a53cac9671b55e": {
      "model_module": "@jupyter-widgets/controls",
      "model_module_version": "1.5.0",
      "model_name": "ButtonModel",
      "state": {
       "description": "Run Interact",
       "layout": "IPY_MODEL_82295fe26be6405db9d0473e010b06b0",
       "style": "IPY_MODEL_27ffbe0d96014824a5c29dbf426a80dc"
      }
     },
     "e0e8f5fbacdc458290ff5f53be5631e5": {
      "model_module": "@jupyter-widgets/base",
      "model_module_version": "1.2.0",
      "model_name": "LayoutModel",
      "state": {}
     },
     "e1427b0bfe1c4a47a86c0eb81e174aff": {
      "model_module": "@jupyter-widgets/controls",
      "model_module_version": "1.5.0",
      "model_name": "SliderStyleModel",
      "state": {
       "description_width": ""
      }
     },
     "e17588296f7e483290d4709572909c80": {
      "model_module": "@jupyter-widgets/controls",
      "model_module_version": "1.5.0",
      "model_name": "ButtonStyleModel",
      "state": {}
     },
     "e19e233718934f7689c51d8fe3955fcf": {
      "model_module": "@jupyter-widgets/base",
      "model_module_version": "1.2.0",
      "model_name": "LayoutModel",
      "state": {}
     },
     "e1afa60f65fa4be99df4ade446514472": {
      "model_module": "@jupyter-widgets/base",
      "model_module_version": "1.2.0",
      "model_name": "LayoutModel",
      "state": {}
     },
     "e1bb3b6f514d43c9bb9992c712013d32": {
      "model_module": "@jupyter-widgets/controls",
      "model_module_version": "1.5.0",
      "model_name": "FloatRangeSliderModel",
      "state": {
       "_model_name": "FloatRangeSliderModel",
       "_view_name": "FloatRangeSliderView",
       "continuous_update": false,
       "description": "$ \\AA :$",
       "layout": "IPY_MODEL_cb5aedf903ea48ac9c4112b42e508d23",
       "max": 500,
       "min": -500,
       "readout_format": "1d",
       "style": "IPY_MODEL_56943785fbcb436489c276833c7db866",
       "value": [
        -100,
        100
       ]
      }
     },
     "e22602de874b4fde893a13dd24ee90cd": {
      "model_module": "@jupyter-widgets/output",
      "model_module_version": "1.0.0",
      "model_name": "OutputModel",
      "state": {
       "layout": "IPY_MODEL_a0b580b2179542b298bff56e15676510"
      }
     },
     "e22bd5e81f784bef9f37021d372add01": {
      "model_module": "@jupyter-widgets/controls",
      "model_module_version": "1.5.0",
      "model_name": "VBoxModel",
      "state": {
       "_dom_classes": [
        "widget-interact"
       ],
       "children": [
        "IPY_MODEL_2031c12c96f140e6814e0d8311d1b33a",
        "IPY_MODEL_0fee747e56594128aa9d16f483a6263d"
       ],
       "layout": "IPY_MODEL_5661401938544008bda2e6a1d4e51ce2"
      }
     },
     "e295a7c235cd4fba92186e64e8f22a47": {
      "model_module": "@jupyter-widgets/controls",
      "model_module_version": "1.5.0",
      "model_name": "VBoxModel",
      "state": {
       "_dom_classes": [
        "widget-interact"
       ],
       "children": [
        "IPY_MODEL_82e363da80934afb8ce21994609ab47e",
        "IPY_MODEL_bf209e0f6bde48aca199bb22a809f6e2",
        "IPY_MODEL_474c1b6a8ef742cc91c4dfa527b17d2a"
       ],
       "layout": "IPY_MODEL_1c3bef51b018419f9d1ef84609ae2077"
      }
     },
     "e3c73a98af1d4172b78fc4f984c9e3c8": {
      "model_module": "@jupyter-widgets/controls",
      "model_module_version": "1.5.0",
      "model_name": "ButtonStyleModel",
      "state": {}
     },
     "e409f0b3c10d4c3dacaaf90a88ac009d": {
      "model_module": "@jupyter-widgets/controls",
      "model_module_version": "1.5.0",
      "model_name": "SliderStyleModel",
      "state": {
       "description_width": ""
      }
     },
     "e42fa37233cc4265b6a43e55b7d54438": {
      "model_module": "@jupyter-widgets/base",
      "model_module_version": "1.2.0",
      "model_name": "LayoutModel",
      "state": {}
     },
     "e46b4dad73b740d79f0d83a6fb24606b": {
      "model_module": "@jupyter-widgets/base",
      "model_module_version": "1.2.0",
      "model_name": "LayoutModel",
      "state": {}
     },
     "e4a553f9f42f4d629e3b29ed1a408936": {
      "model_module": "@jupyter-widgets/base",
      "model_module_version": "1.2.0",
      "model_name": "LayoutModel",
      "state": {}
     },
     "e521bf93c53b49c7a3dc2bbd730ee5e4": {
      "model_module": "@jupyter-widgets/controls",
      "model_module_version": "1.5.0",
      "model_name": "SliderStyleModel",
      "state": {
       "description_width": ""
      }
     },
     "e62e113f4dd7463aba53afb62d1699ff": {
      "model_module": "@jupyter-widgets/controls",
      "model_module_version": "1.5.0",
      "model_name": "VBoxModel",
      "state": {
       "_dom_classes": [
        "widget-interact"
       ],
       "children": [
        "IPY_MODEL_01152f6a38174120aba808fb72fbbfff",
        "IPY_MODEL_f0de4786514f45ffbc2f9d8759938550",
        "IPY_MODEL_a47bf988781340fea5c576f3b95cd1e6"
       ],
       "layout": "IPY_MODEL_f07fde8e78b447ce9f8a630222fda7bd"
      }
     },
     "e675a68fb4134667bf2c5605916ea60f": {
      "model_module": "@jupyter-widgets/controls",
      "model_module_version": "1.5.0",
      "model_name": "VBoxModel",
      "state": {
       "_dom_classes": [
        "widget-interact"
       ],
       "children": [
        "IPY_MODEL_afb2742684cb45d49a5b17bfbff2f8a2",
        "IPY_MODEL_7e0303eddfd6457291acdc3f1b47c5ec",
        "IPY_MODEL_1707499c357843c492b52272f933100b"
       ],
       "layout": "IPY_MODEL_b89e7546e8254b16b05b4424e1ab5934"
      }
     },
     "e68b18a212924f099eb9264d442cccbc": {
      "model_module": "@jupyter-widgets/controls",
      "model_module_version": "1.5.0",
      "model_name": "SliderStyleModel",
      "state": {
       "description_width": ""
      }
     },
     "e6c49e216bca4be7be8da1baa92a3af7": {
      "model_module": "@jupyter-widgets/base",
      "model_module_version": "1.2.0",
      "model_name": "LayoutModel",
      "state": {}
     },
     "e6d0414c253345c1be78c6f624b47c55": {
      "model_module": "@jupyter-widgets/controls",
      "model_module_version": "1.5.0",
      "model_name": "FloatRangeSliderModel",
      "state": {
       "_model_name": "FloatRangeSliderModel",
       "_view_name": "FloatRangeSliderView",
       "continuous_update": false,
       "description": "Domínio: ",
       "layout": "IPY_MODEL_191309b8a33145df9193d495db8c26bd",
       "max": 500,
       "min": -500,
       "readout_format": "1d",
       "style": "IPY_MODEL_76611e8b2ff34859b4f0c58ba0f2dffd",
       "value": [
        -100,
        100
       ]
      }
     },
     "e74f01bf1e2d4a1582c049d8207c2967": {
      "model_module": "@jupyter-widgets/base",
      "model_module_version": "1.2.0",
      "model_name": "LayoutModel",
      "state": {}
     },
     "e7aafb6cb6de41b09ad9a1a8031d36b2": {
      "model_module": "@jupyter-widgets/output",
      "model_module_version": "1.0.0",
      "model_name": "OutputModel",
      "state": {
       "layout": "IPY_MODEL_c9242dc9356c49709813fd15596c18af"
      }
     },
     "e7ba3a4eaca44100ab5ea565b38a4c15": {
      "model_module": "@jupyter-widgets/base",
      "model_module_version": "1.2.0",
      "model_name": "LayoutModel",
      "state": {}
     },
     "e849befa2cce45438b263397f5cefffa": {
      "model_module": "@jupyter-widgets/controls",
      "model_module_version": "1.5.0",
      "model_name": "ButtonStyleModel",
      "state": {}
     },
     "e90c46e224174233855bfc4ae9855d9d": {
      "model_module": "@jupyter-widgets/base",
      "model_module_version": "1.2.0",
      "model_name": "LayoutModel",
      "state": {}
     },
     "e93376eb8425477ebed53af0049f3379": {
      "model_module": "@jupyter-widgets/controls",
      "model_module_version": "1.5.0",
      "model_name": "FloatRangeSliderModel",
      "state": {
       "_model_name": "FloatRangeSliderModel",
       "_view_name": "FloatRangeSliderView",
       "continuous_update": false,
       "description": "Defina o domínio de $\\Psi(x) \\AA$:",
       "layout": "IPY_MODEL_94cc798493774c0980aab65d6bccf7af",
       "max": 500,
       "min": -500,
       "readout_format": "1f",
       "style": "IPY_MODEL_5c67a721ef19467f96632477a6cd48c2",
       "value": [
        -100,
        100
       ]
      }
     },
     "e93d17be65a64c76bbc76510efc08925": {
      "model_module": "@jupyter-widgets/controls",
      "model_module_version": "1.5.0",
      "model_name": "VBoxModel",
      "state": {
       "_dom_classes": [
        "widget-interact"
       ],
       "children": [
        "IPY_MODEL_e6d0414c253345c1be78c6f624b47c55",
        "IPY_MODEL_770ea4b0560741858a3f394a3f1c9580",
        "IPY_MODEL_bffadd6179c8402b9f86c953d2e2d2ad",
        "IPY_MODEL_f06d104e75324cdabb8d9eac3bf20590"
       ],
       "layout": "IPY_MODEL_fab6f404652f44db9bd2f17d098cebac"
      }
     },
     "e96fe3477d9b46f58cb8991af6217265": {
      "model_module": "@jupyter-widgets/controls",
      "model_module_version": "1.5.0",
      "model_name": "IntSliderModel",
      "state": {
       "continuous_update": false,
       "description": "Ordem da Matriz:",
       "layout": "IPY_MODEL_e19e233718934f7689c51d8fe3955fcf",
       "max": 1000,
       "min": 30,
       "step": 10,
       "style": "IPY_MODEL_4b7e10443035406794fb7fe3b3bcd029",
       "value": 200
      }
     },
     "e9c839a0a7b6464985114a99beb3a355": {
      "model_module": "@jupyter-widgets/base",
      "model_module_version": "1.2.0",
      "model_name": "LayoutModel",
      "state": {}
     },
     "ea3a5e12be2944718057eb8b853d5dc5": {
      "model_module": "@jupyter-widgets/controls",
      "model_module_version": "1.5.0",
      "model_name": "SliderStyleModel",
      "state": {
       "description_width": ""
      }
     },
     "ea3eeca0fec843fb86a299b7bb4b6e0d": {
      "model_module": "@jupyter-widgets/controls",
      "model_module_version": "1.5.0",
      "model_name": "ButtonStyleModel",
      "state": {}
     },
     "ea9a204fe44241419edcb264b485de4e": {
      "model_module": "@jupyter-widgets/base",
      "model_module_version": "1.2.0",
      "model_name": "LayoutModel",
      "state": {}
     },
     "eb267eda8c2b4b87b5d409b6463017ab": {
      "model_module": "@jupyter-widgets/base",
      "model_module_version": "1.2.0",
      "model_name": "LayoutModel",
      "state": {}
     },
     "eb44d0e631a04e2498f97c7b1f5d0995": {
      "model_module": "@jupyter-widgets/base",
      "model_module_version": "1.2.0",
      "model_name": "LayoutModel",
      "state": {}
     },
     "ebf1172b32e34855bcc2e2ea8c8564b0": {
      "model_module": "@jupyter-widgets/controls",
      "model_module_version": "1.5.0",
      "model_name": "VBoxModel",
      "state": {
       "_dom_classes": [
        "widget-interact"
       ],
       "children": [
        "IPY_MODEL_e1bb3b6f514d43c9bb9992c712013d32",
        "IPY_MODEL_936f12a935d94777acb553c021bebbba",
        "IPY_MODEL_a11f57a389224941b67476909abde117",
        "IPY_MODEL_a2e2ef425d9d484d861eeaca1f7a105e"
       ],
       "layout": "IPY_MODEL_22e91f3be248401683d8f74e25982f09"
      }
     },
     "ec6dd7e45bbe4c098cb04f7a9991fe75": {
      "model_module": "@jupyter-widgets/base",
      "model_module_version": "1.2.0",
      "model_name": "LayoutModel",
      "state": {}
     },
     "ecef80973dcf4cc3b3254305d9d80259": {
      "model_module": "@jupyter-widgets/base",
      "model_module_version": "1.2.0",
      "model_name": "LayoutModel",
      "state": {}
     },
     "ed42bcc4880b4ec092ce06bc3205bcd7": {
      "model_module": "@jupyter-widgets/controls",
      "model_module_version": "1.5.0",
      "model_name": "ButtonStyleModel",
      "state": {}
     },
     "ed583682a1dc43c9b3a430c8da8c2f52": {
      "model_module": "@jupyter-widgets/output",
      "model_module_version": "1.0.0",
      "model_name": "OutputModel",
      "state": {
       "layout": "IPY_MODEL_1fa7dd780b4d4e908c8fffe01518297d"
      }
     },
     "ee7d175944954126acd2549f3ae132fa": {
      "model_module": "@jupyter-widgets/base",
      "model_module_version": "1.2.0",
      "model_name": "LayoutModel",
      "state": {}
     },
     "ee8332930a4e4f12b124520ce883e99f": {
      "model_module": "@jupyter-widgets/controls",
      "model_module_version": "1.5.0",
      "model_name": "SliderStyleModel",
      "state": {
       "description_width": ""
      }
     },
     "eea63b542df74feeb856b962c6f9ae99": {
      "model_module": "@jupyter-widgets/output",
      "model_module_version": "1.0.0",
      "model_name": "OutputModel",
      "state": {
       "layout": "IPY_MODEL_4a1a1a2ecdf84eb68d2750913c0c9b5a"
      }
     },
     "eed42359a17842019bf4cb88436f5bc1": {
      "model_module": "@jupyter-widgets/controls",
      "model_module_version": "1.5.0",
      "model_name": "VBoxModel",
      "state": {
       "_dom_classes": [
        "widget-interact"
       ],
       "children": [
        "IPY_MODEL_5277cb697fc24349a9371fc2df02f815",
        "IPY_MODEL_2f4d5e98c0cf419d9139ec28c649aa6e",
        "IPY_MODEL_b72c97b126234fdb89ac49e7ee8f3b58"
       ],
       "layout": "IPY_MODEL_394a9d56bf424dd99e47e89870a6b3f5"
      }
     },
     "effa4b2f70b440fcb61f1d94ffbc74be": {
      "model_module": "@jupyter-widgets/controls",
      "model_module_version": "1.5.0",
      "model_name": "ButtonModel",
      "state": {
       "description": "Run Interact",
       "layout": "IPY_MODEL_18031d270c3049b6be94c5ff622df756",
       "style": "IPY_MODEL_9da0fbb39f8848c28effe052bf876e29"
      }
     },
     "f06d104e75324cdabb8d9eac3bf20590": {
      "model_module": "@jupyter-widgets/output",
      "model_module_version": "1.0.0",
      "model_name": "OutputModel",
      "state": {
       "layout": "IPY_MODEL_d5ae7ac8d45e4f53b161522a79f33a62"
      }
     },
     "f07fde8e78b447ce9f8a630222fda7bd": {
      "model_module": "@jupyter-widgets/base",
      "model_module_version": "1.2.0",
      "model_name": "LayoutModel",
      "state": {}
     },
     "f0a565debbd741858f322e50b65eb3c3": {
      "model_module": "@jupyter-widgets/controls",
      "model_module_version": "1.5.0",
      "model_name": "SliderStyleModel",
      "state": {
       "description_width": ""
      }
     },
     "f0bf2c6bf8494048931eca494442f109": {
      "model_module": "@jupyter-widgets/controls",
      "model_module_version": "1.5.0",
      "model_name": "IntRangeSliderModel",
      "state": {
       "_model_name": "IntRangeSliderModel",
       "_view_name": "IntRangeSliderView",
       "continuous_update": false,
       "description": "Plotar N. Estados::",
       "layout": "IPY_MODEL_c5c13f2749264dd3a5a4c10cd652918b",
       "max": 50,
       "readout_format": "1d",
       "style": "IPY_MODEL_f2ee3b31226e4dc19eb00ecdbde22efb",
       "value": [
        0,
        3
       ]
      }
     },
     "f0de4786514f45ffbc2f9d8759938550": {
      "model_module": "@jupyter-widgets/controls",
      "model_module_version": "1.5.0",
      "model_name": "ButtonModel",
      "state": {
       "description": "asdasd",
       "layout": "IPY_MODEL_f4c5de2a26884f309ba688b96d1910cf",
       "style": "IPY_MODEL_b9d73433f8a64f5b820aad85849178cc"
      }
     },
     "f112b330a5764cf9b97df01990b4ca26": {
      "model_module": "@jupyter-widgets/controls",
      "model_module_version": "1.5.0",
      "model_name": "ButtonModel",
      "state": {
       "description": "Plotar",
       "layout": "IPY_MODEL_1f51be120d014a5c9cd59f2e4f22e68e",
       "style": "IPY_MODEL_60c7d8efc7e044048a04c9927e7e725e"
      }
     },
     "f1190e6d473948138339686b651a62e2": {
      "model_module": "@jupyter-widgets/base",
      "model_module_version": "1.2.0",
      "model_name": "LayoutModel",
      "state": {}
     },
     "f148ca6512b644ef8c612e8b38dd2ac2": {
      "model_module": "@jupyter-widgets/base",
      "model_module_version": "1.2.0",
      "model_name": "LayoutModel",
      "state": {}
     },
     "f164c37ef1f947a28bce9f4dec11f88f": {
      "model_module": "@jupyter-widgets/base",
      "model_module_version": "1.2.0",
      "model_name": "LayoutModel",
      "state": {}
     },
     "f23bc6a127334176bc10b701d3414dda": {
      "model_module": "@jupyter-widgets/controls",
      "model_module_version": "1.5.0",
      "model_name": "ButtonModel",
      "state": {
       "description": "Run Interact",
       "layout": "IPY_MODEL_f741b7ddfbf5416fb9543217c6879669",
       "style": "IPY_MODEL_f6ed322c09bf43a1a1abdfca7bb7f689"
      }
     },
     "f2619d63cdb242dd858f84abd836d0b5": {
      "model_module": "@jupyter-widgets/base",
      "model_module_version": "1.2.0",
      "model_name": "LayoutModel",
      "state": {}
     },
     "f2e76f6b57a64976b83e8cf17b269e81": {
      "model_module": "@jupyter-widgets/controls",
      "model_module_version": "1.5.0",
      "model_name": "VBoxModel",
      "state": {
       "_dom_classes": [
        "widget-interact"
       ],
       "children": [
        "IPY_MODEL_0aef76d336a546d99d1bc404cbd55301",
        "IPY_MODEL_c3d6adc6d01b4e03be6b882c23f86588",
        "IPY_MODEL_265483c610eb4aaf83b7341c39d46d71",
        "IPY_MODEL_4115db6f8b1745fdb64fbe2f0b4d91dd"
       ],
       "layout": "IPY_MODEL_644c36c20d1e4ced85d5f775abf4ff14"
      }
     },
     "f2ee3b31226e4dc19eb00ecdbde22efb": {
      "model_module": "@jupyter-widgets/controls",
      "model_module_version": "1.5.0",
      "model_name": "SliderStyleModel",
      "state": {
       "description_width": ""
      }
     },
     "f36b2bb97c774eaf98227f43c27d6a73": {
      "model_module": "@jupyter-widgets/base",
      "model_module_version": "1.2.0",
      "model_name": "LayoutModel",
      "state": {}
     },
     "f37291f8b72c4a269e7678d6403086ea": {
      "model_module": "@jupyter-widgets/controls",
      "model_module_version": "1.5.0",
      "model_name": "IntSliderModel",
      "state": {
       "continuous_update": false,
       "description": "Nº Estados:",
       "layout": "IPY_MODEL_db3674464f3a4efcb8e475f71c8aa95d",
       "min": 1,
       "style": "IPY_MODEL_3200da4c317d42139adecc25d4d7c7df",
       "value": 1
      }
     },
     "f459b0d03d474c368429f45019ec78b8": {
      "model_module": "@jupyter-widgets/controls",
      "model_module_version": "1.5.0",
      "model_name": "IntSliderModel",
      "state": {
       "continuous_update": false,
       "description": "Ordem da Matriz:",
       "layout": "IPY_MODEL_62adc964fb2d450bafc99f6d06d9e24a",
       "max": 1000,
       "min": 30,
       "step": 10,
       "style": "IPY_MODEL_64c47ac17aaf42109c9d9b076421ef89",
       "value": 200
      }
     },
     "f4aa30d1ecc744f4a929195cf18af42c": {
      "model_module": "@jupyter-widgets/base",
      "model_module_version": "1.2.0",
      "model_name": "LayoutModel",
      "state": {}
     },
     "f4c5de2a26884f309ba688b96d1910cf": {
      "model_module": "@jupyter-widgets/base",
      "model_module_version": "1.2.0",
      "model_name": "LayoutModel",
      "state": {}
     },
     "f4e586de72814687bd566d7cf0153ea3": {
      "model_module": "@jupyter-widgets/base",
      "model_module_version": "1.2.0",
      "model_name": "LayoutModel",
      "state": {}
     },
     "f5382cd793704493a9bd05d2e36c771f": {
      "model_module": "@jupyter-widgets/controls",
      "model_module_version": "1.5.0",
      "model_name": "SliderStyleModel",
      "state": {
       "description_width": ""
      }
     },
     "f53ecac83ee246489707ee413c891488": {
      "model_module": "@jupyter-widgets/base",
      "model_module_version": "1.2.0",
      "model_name": "LayoutModel",
      "state": {}
     },
     "f56b410bb7854cd981716d91385767a6": {
      "model_module": "@jupyter-widgets/controls",
      "model_module_version": "1.5.0",
      "model_name": "SliderStyleModel",
      "state": {
       "description_width": ""
      }
     },
     "f5940e4525664eb5a4548a14b94837fc": {
      "model_module": "@jupyter-widgets/controls",
      "model_module_version": "1.5.0",
      "model_name": "SliderStyleModel",
      "state": {
       "description_width": ""
      }
     },
     "f62cc50ed1da42ea9fe0da18c5868ccf": {
      "model_module": "@jupyter-widgets/base",
      "model_module_version": "1.2.0",
      "model_name": "LayoutModel",
      "state": {}
     },
     "f636bf1900b54c6483780bb6b628ab18": {
      "model_module": "@jupyter-widgets/base",
      "model_module_version": "1.2.0",
      "model_name": "LayoutModel",
      "state": {}
     },
     "f63b4c02e949437fa7f0d7610b37f7ba": {
      "model_module": "@jupyter-widgets/controls",
      "model_module_version": "1.5.0",
      "model_name": "VBoxModel",
      "state": {
       "_dom_classes": [
        "widget-interact"
       ],
       "children": [
        "IPY_MODEL_42833f43b58f4a38bb56b36aad092411",
        "IPY_MODEL_0fbb5387ba4e4ec5959ce6d6e6731186",
        "IPY_MODEL_27a17ce609e041699477b8fda885b344",
        "IPY_MODEL_992adb5d5e764bb58d3af949d02d2c32",
        "IPY_MODEL_b0280205e0b547c6aedd0f8e16f85e05"
       ],
       "layout": "IPY_MODEL_2c345ed449184f5ea6817b4330751080"
      }
     },
     "f6ed322c09bf43a1a1abdfca7bb7f689": {
      "model_module": "@jupyter-widgets/controls",
      "model_module_version": "1.5.0",
      "model_name": "ButtonStyleModel",
      "state": {}
     },
     "f741b7ddfbf5416fb9543217c6879669": {
      "model_module": "@jupyter-widgets/base",
      "model_module_version": "1.2.0",
      "model_name": "LayoutModel",
      "state": {}
     },
     "f742177c50134284b21a1e779aaf3a3d": {
      "model_module": "@jupyter-widgets/controls",
      "model_module_version": "1.5.0",
      "model_name": "IntSliderModel",
      "state": {
       "continuous_update": false,
       "description": "Num. Estados: ",
       "layout": "IPY_MODEL_b148b55a7cb14a9d8777d83b03f7983a",
       "max": 1000,
       "min": 30,
       "step": 10,
       "style": "IPY_MODEL_01d7ee8d5cdd429090977e18c48a2f8e",
       "value": 200
      }
     },
     "f799ce93041c4892a9be153c8f1083b8": {
      "model_module": "@jupyter-widgets/controls",
      "model_module_version": "1.5.0",
      "model_name": "IntRangeSliderModel",
      "state": {
       "_model_name": "IntRangeSliderModel",
       "_view_name": "IntRangeSliderView",
       "continuous_update": false,
       "description": "Plotar N. Estados::",
       "layout": "IPY_MODEL_2cba62e772bc4893b7557d7c4755073c",
       "max": 50,
       "readout_format": "1d",
       "style": "IPY_MODEL_e521bf93c53b49c7a3dc2bbd730ee5e4",
       "value": [
        0,
        3
       ]
      }
     },
     "f82f427ace164322824587b12b7eed6d": {
      "model_module": "@jupyter-widgets/base",
      "model_module_version": "1.2.0",
      "model_name": "LayoutModel",
      "state": {}
     },
     "f84eefff96844ee8b44864ee953ebae1": {
      "model_module": "@jupyter-widgets/controls",
      "model_module_version": "1.5.0",
      "model_name": "ButtonModel",
      "state": {
       "description": "Run Interact",
       "layout": "IPY_MODEL_8f3419cb4793483a80ec3c8a8ccaf943",
       "style": "IPY_MODEL_3b8868d8c40042e589ceedd7f1a3794b"
      }
     },
     "f856b6ecc2934a0ea9a17135763c997b": {
      "model_module": "@jupyter-widgets/base",
      "model_module_version": "1.2.0",
      "model_name": "LayoutModel",
      "state": {}
     },
     "f85b0f301cac422ab2b0bbae541e3637": {
      "model_module": "@jupyter-widgets/base",
      "model_module_version": "1.2.0",
      "model_name": "LayoutModel",
      "state": {}
     },
     "f8c492584cc0416f979bfc707883ec3e": {
      "model_module": "@jupyter-widgets/controls",
      "model_module_version": "1.5.0",
      "model_name": "ButtonModel",
      "state": {
       "description": "Run Interact",
       "layout": "IPY_MODEL_41b53663718e431aa1feb6bac2e3a9fa",
       "style": "IPY_MODEL_5c89403c2a664113a30ae57d38c8b342"
      }
     },
     "fa141c7aaa6d4292b7654b09703caa5f": {
      "model_module": "@jupyter-widgets/output",
      "model_module_version": "1.0.0",
      "model_name": "OutputModel",
      "state": {
       "layout": "IPY_MODEL_946ee085545f4a798ce7ad157cd58836",
       "outputs": [
        {
         "data": {
          "image/png": "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\n",
          "text/plain": "<Figure size 1152x648 with 1 Axes>"
         },
         "metadata": {
          "needs_background": "light"
         },
         "output_type": "display_data"
        }
       ]
      }
     },
     "fa56f146e127452ca392f7280ace23aa": {
      "model_module": "@jupyter-widgets/base",
      "model_module_version": "1.2.0",
      "model_name": "LayoutModel",
      "state": {}
     },
     "fa7cc2c1076847e0bcd3f74354cbaed6": {
      "model_module": "@jupyter-widgets/base",
      "model_module_version": "1.2.0",
      "model_name": "LayoutModel",
      "state": {}
     },
     "fab6f404652f44db9bd2f17d098cebac": {
      "model_module": "@jupyter-widgets/base",
      "model_module_version": "1.2.0",
      "model_name": "LayoutModel",
      "state": {}
     },
     "fb040c8812da48ab8c3c7bd4d43fb733": {
      "model_module": "@jupyter-widgets/controls",
      "model_module_version": "1.5.0",
      "model_name": "ButtonModel",
      "state": {
       "description": "Run Interact",
       "layout": "IPY_MODEL_c8faed0fc2b24bf7bdfc1c9778f1db47",
       "style": "IPY_MODEL_e17588296f7e483290d4709572909c80"
      }
     },
     "fb0d718cce384548a6537bded4a08439": {
      "model_module": "@jupyter-widgets/controls",
      "model_module_version": "1.5.0",
      "model_name": "ButtonStyleModel",
      "state": {}
     },
     "fbad2c6e60614e1b9bf3b4efa672146d": {
      "model_module": "@jupyter-widgets/output",
      "model_module_version": "1.0.0",
      "model_name": "OutputModel",
      "state": {
       "layout": "IPY_MODEL_87fded3ad3e54198bc775d94345be657"
      }
     },
     "fc5c3c04ed204b8db12e7853ba83e9bb": {
      "model_module": "@jupyter-widgets/controls",
      "model_module_version": "1.5.0",
      "model_name": "IntSliderModel",
      "state": {
       "continuous_update": false,
       "description": "Ordem da Matriz:",
       "layout": "IPY_MODEL_82a9d956533e42ac8f60194a6a5b0451",
       "max": 1000,
       "min": 30,
       "step": 10,
       "style": "IPY_MODEL_74528f8ecc01459296dc51535fb0e965",
       "value": 200
      }
     },
     "fc5e64c6aec04fa8be1582e866636130": {
      "model_module": "@jupyter-widgets/controls",
      "model_module_version": "1.5.0",
      "model_name": "SliderStyleModel",
      "state": {
       "description_width": ""
      }
     },
     "fca5d74c753944b5a43f49b8b0a09242": {
      "model_module": "@jupyter-widgets/base",
      "model_module_version": "1.2.0",
      "model_name": "LayoutModel",
      "state": {}
     },
     "fdae5ba372304002a7e8cd3dd00509fb": {
      "model_module": "@jupyter-widgets/controls",
      "model_module_version": "1.5.0",
      "model_name": "FloatRangeSliderModel",
      "state": {
       "_model_name": "FloatRangeSliderModel",
       "_view_name": "FloatRangeSliderView",
       "continuous_update": false,
       "description": "Domínio (angstroms):",
       "layout": "IPY_MODEL_f856b6ecc2934a0ea9a17135763c997b",
       "max": 500,
       "min": -500,
       "readout_format": "1d",
       "style": "IPY_MODEL_1bb9647a19784907b53c9b2f1bfb2168",
       "value": [
        -100,
        100
       ]
      }
     },
     "fdc9f8a10fd54372abe31af6854a634d": {
      "model_module": "@jupyter-widgets/controls",
      "model_module_version": "1.5.0",
      "model_name": "ButtonStyleModel",
      "state": {}
     },
     "fe32256b43df4921b12e4c4288e34cd1": {
      "model_module": "@jupyter-widgets/base",
      "model_module_version": "1.2.0",
      "model_name": "LayoutModel",
      "state": {}
     },
     "fe3bd9ff43f343958df891f76ffee087": {
      "model_module": "@jupyter-widgets/base",
      "model_module_version": "1.2.0",
      "model_name": "LayoutModel",
      "state": {}
     },
     "fe6942492ba240c0a6c4581382b51515": {
      "model_module": "@jupyter-widgets/controls",
      "model_module_version": "1.5.0",
      "model_name": "SliderStyleModel",
      "state": {
       "description_width": ""
      }
     },
     "fe718cfd35984f6a93b9abe646f3501b": {
      "model_module": "@jupyter-widgets/controls",
      "model_module_version": "1.5.0",
      "model_name": "BoundedFloatTextModel",
      "state": {
       "description": "X_{max}:",
       "layout": "IPY_MODEL_d0871b04d46345a9b5f236f2e5fb06b7",
       "max": 500,
       "min": -500,
       "step": 1,
       "style": "IPY_MODEL_0c20321525b342b9981b05992c65d647",
       "value": 7
      }
     },
     "feaa26a074534b6a99c616248355b04a": {
      "model_module": "@jupyter-widgets/base",
      "model_module_version": "1.2.0",
      "model_name": "LayoutModel",
      "state": {}
     },
     "feea7fd6971d4b639f15702257002dbd": {
      "model_module": "@jupyter-widgets/base",
      "model_module_version": "1.2.0",
      "model_name": "LayoutModel",
      "state": {}
     },
     "ff1320c03e364ca0a472221fd4b9c78a": {
      "model_module": "@jupyter-widgets/controls",
      "model_module_version": "1.5.0",
      "model_name": "ButtonModel",
      "state": {
       "description": "Plotar",
       "layout": "IPY_MODEL_5665ed3c18d9457b9fa61f355ad7d862",
       "style": "IPY_MODEL_2d61bcc557df4998ad77e6db310ad7c8"
      }
     },
     "ff8e57d5f4d24996b824805f973b87e0": {
      "model_module": "@jupyter-widgets/base",
      "model_module_version": "1.2.0",
      "model_name": "LayoutModel",
      "state": {}
     },
     "ffec5ddbe03f4ff9b89d32ce89eaa6eb": {
      "model_module": "@jupyter-widgets/base",
      "model_module_version": "1.2.0",
      "model_name": "LayoutModel",
      "state": {}
     }
    },
    "version_major": 2,
    "version_minor": 0
   }
  }
 },
 "nbformat": 4,
 "nbformat_minor": 5
}
