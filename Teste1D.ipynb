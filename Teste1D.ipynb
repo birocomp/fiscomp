{
 "cells": [
  {
   "cell_type": "markdown",
   "id": "83e7512f",
   "metadata": {},
   "source": [
    "# Como usar\n",
    "\n",
    "## 1. Na aba 'Gerar o Sistema':escolha os parâmetros e clique em 'Gerar/Resolver' para gerar a equação matricial e resolvê-la.\n",
    "\n",
    "## 2. Na aba 'Funções de Onda' escolha os parâmetros do plot e clique em 'Plotar'.\n",
    "\n",
    "***"
   ]
  },
  {
   "cell_type": "code",
   "execution_count": 2,
   "id": "2b172b49",
   "metadata": {},
   "outputs": [
    {
     "data": {
      "application/vnd.jupyter.widget-view+json": {
       "model_id": "4dc265d5779a4cb29f0150fd9a93a046",
       "version_major": 2,
       "version_minor": 0
      },
      "text/plain": [
       "Tab(children=(interactive(children=(FloatRangeSlider(value=(-50.0, 50.0), continuous_update=False, description…"
      ]
     },
     "metadata": {},
     "output_type": "display_data"
    }
   ],
   "source": [
    "import numpy as np\n",
    "import scipy.sparse as sparse\n",
    "import matplotlib.pyplot as plt\n",
    "from numba import jit\n",
    "import ipywidgets as wid\n",
    "from ipywidgets import interactive\n",
    "\n",
    "RY=13.6056980659 #x*RY: Rydberg -> ev\n",
    "ang=1.88973 #X/ang: raio de bohr -> angstroms\n",
    "\n",
    "def diag(xx,N):\n",
    "    global x,psi,prob,eig,V,L\n",
    "    def vetores(xx,N):\n",
    "        xmin,xmax=xx\n",
    "        x,dx=np.linspace(xmin*ang,xmax*ang, N, retstep=True) #Define o vetor posição (raio de bohr)\n",
    "        return x,dx,xmin,xmax\n",
    "    \n",
    "    @jit\n",
    "    def diagH(H,V):\n",
    "        H=H+V\n",
    "        eig, psi=np.linalg.eigh(H) #Resolve o sistema e atribui-se: eig=autovalores, psi=autovetores\n",
    "        prob=np.abs(psi)**2 #Atribui a densidade de probabilidade |Psi|² a variável psi, por conveniência\n",
    "        return H,V,psi,prob,eig\n",
    "    \n",
    "    x,dx,xmin,xmax=vetores(xx,N)\n",
    "    a=- 1/(dx**2) #Define 'a' por conveniência\n",
    "    N=x.size #Armazena o tamanho do vetor posição e o comprimento do espaço que ele representa\n",
    "    V=sparse.diags([0],[0],shape=(N,N)).toarray() #Cria uma matriz NxN com o potencial V(x)\n",
    "    H=sparse.diags([a,-2*a,a],[-1,0,1],shape=(N,N)).toarray() #Cria a matriz Hamiltoniano\n",
    "    H,V,psi,prob,eig=diagH(H,V)\n",
    "    \n",
    "    eig=eig*RY #Ryd->eV\n",
    "    x=x/ang #RBohr->angstroms\n",
    "    L=x.max()-x.min()\n",
    "    \n",
    "    print('\\n #########Propriedades espaciais do sistema resolvido (angstroms)######### ')\n",
    "    print(f\"\\n Largura do domínio =  {L:.2f}\")\n",
    "    print(f\"\\n dx =  {dx:.2f}\")\n",
    "    print(\"\\n #########################################################################\")\n",
    "    print(\"\\n Siga para a aba 'Funções de onda' para plotar o resultado.\")\n",
    "\n",
    "def plotall(NES,limx,wav):\n",
    "    global V\n",
    "    V=np.diag(V,k=0)\n",
    "    fig, ax=plt.subplots(figsize=(16,9))\n",
    "    nmin,nmax=NES\n",
    "    ax.set_xlim([x.min()-limx, x.max()+ limx])\n",
    "    ax.set_xlabel('$x (\\AA$)')\n",
    "    ax.set_ylabel('Auto energias (eV)')\n",
    "    \n",
    "    if wav==1:\n",
    "        for i in range(nmax,nmin-1,-1):\n",
    "            fig=plt.plot(x,prob[:,i]+eig[i], \n",
    "                         label=f'$E_{i}={eig[i]:2f}$ eV')\n",
    "    elif wav==2:\n",
    "        for i in range(nmax,nmin-1,-1):\n",
    "            fig=plt.plot(x,np.real(psi[:,i])+eig[i], \n",
    "                         label=f'$E_{i}={eig[i]:2f}$ eV')\n",
    "    elif wav==3:\n",
    "        for i in range(nmax,nmin-1,-1):\n",
    "            fig=plt.plot(x,np.imag(psi[:,i])+eig[i], \n",
    "                         label=f'$E_{i}={eig[i]:2f}$ eV')\n",
    "            \n",
    "    fig=plt.axvline(x=x.min(),color='k',ls='--')\n",
    "    fig=plt.axvline(x=x.max(),color='k',ls='--')\n",
    "    #fig=plt.plot(x,V,'k',label='V($x$)')\n",
    "    leg=plt.legend(loc='upper right')\n",
    "    plt.show()\n",
    "\n",
    "lslider=wid.Layout(width='90%', display='flex');\n",
    "sty = {'description_width': 'initial'};\n",
    "\n",
    "MAIN=interactive(diag, {'manual': True}, \n",
    "                    xx=wid.FloatRangeSlider(\n",
    "                        value=[-50.0, 50.0],\n",
    "                        min=-150.0,\n",
    "                        max=150.0,\n",
    "                        step=1,\n",
    "                        continuous_update=False,\n",
    "                        orientation='horizontal',\n",
    "                        readout_format='1d',\n",
    "                        layout=lslider,\n",
    "                        description=('$x_{min}-x_{max}$'),\n",
    "                        style=sty), \n",
    "                    N=wid.IntSlider(value=500,\n",
    "                        min=200,\n",
    "                        max=2000,\n",
    "                        step=10,\n",
    "                        continuous_update=False, \n",
    "                        layout=lslider,\n",
    "                        description=('Número de pontos/Ordem da Matriz: '),\n",
    "                        style=sty));\n",
    "\n",
    "\n",
    "PLOT=interactive(plotall, {'manual': True}, \n",
    "                    NES=wid.IntRangeSlider(\n",
    "                        value=[0, 3],\n",
    "                        min=0,\n",
    "                        max=10,\n",
    "                        step=1,\n",
    "                        description='Plotar N. Estados:',\n",
    "                        continuous_update=False,\n",
    "                        orientation='horizontal',\n",
    "                        readout_format='.1d',\n",
    "                        layout=lslider,\n",
    "                        style=sty),\n",
    "                    limx=wid.IntSlider(\n",
    "                        value=20,\n",
    "                        min=0,\n",
    "                        max=80,\n",
    "                        step=1,\n",
    "                        description='Margens em $x$:   ',\n",
    "                        continuous_update=False,\n",
    "                        layout=lslider,\n",
    "                        style=sty),\n",
    "                    wav=wid.Dropdown(\n",
    "                        options=[('densidades de probabilidades',1),\n",
    "                                 ('funções de onda (parte real)',2),\n",
    "                                 ('funções de onda (parte imaginária)',3)],\n",
    "                        value=1,\n",
    "                        description='Plotar as'),\n",
    "                        continuous_update=False);\n",
    "\n",
    "MAIN.children[2].description=('Gerar/Resolver');\n",
    "PLOT.children[3].description=('Plotar');\n",
    "\n",
    "tab=wid.Tab(children=[MAIN,PLOT]);\n",
    "tab.set_title(0, 'Gerar o Sistema');\n",
    "tab.set_title(1, 'Funções de Onda');\n",
    "\n",
    "display(tab);\n"
   ]
  },
  {
   "cell_type": "code",
   "execution_count": null,
   "id": "7053032b",
   "metadata": {},
   "outputs": [],
   "source": []
  }
 ],
 "metadata": {
  "hide_input": false,
  "kernelspec": {
   "display_name": "Python 3",
   "language": "python",
   "name": "python3"
  },
  "language_info": {
   "codemirror_mode": {
    "name": "ipython",
    "version": 3
   },
   "file_extension": ".py",
   "mimetype": "text/x-python",
   "name": "python",
   "nbconvert_exporter": "python",
   "pygments_lexer": "ipython3",
   "version": "3.9.5"
  },
  "toc": {
   "base_numbering": 1,
   "nav_menu": {},
   "number_sections": true,
   "sideBar": true,
   "skip_h1_title": false,
   "title_cell": "Table of Contents",
   "title_sidebar": "Contents",
   "toc_cell": false,
   "toc_position": {},
   "toc_section_display": true,
   "toc_window_display": false
  },
  "widgets": {
   "application/vnd.jupyter.widget-state+json": {
    "state": {
     "0f3905e0af504bf8b14a32e8d1c1e081": {
      "model_module": "@jupyter-widgets/controls",
      "model_module_version": "1.5.0",
      "model_name": "ButtonModel",
      "state": {
       "description": "Plotar",
       "layout": "IPY_MODEL_174f5162fadc451f9719d245108f96b9",
       "style": "IPY_MODEL_d587f8433e704858b9883d42eaa525a0"
      }
     },
     "0fc703a78880434b9e945199e4d9f903": {
      "model_module": "@jupyter-widgets/controls",
      "model_module_version": "1.5.0",
      "model_name": "SliderStyleModel",
      "state": {
       "description_width": "initial"
      }
     },
     "1186c1ba01a046818d594434f3501f33": {
      "model_module": "@jupyter-widgets/controls",
      "model_module_version": "1.5.0",
      "model_name": "IntSliderModel",
      "state": {
       "continuous_update": false,
       "description": "Número de pontos/Ordem da Matriz: ",
       "layout": "IPY_MODEL_f79621569ceb40ef9309aae37b534b96",
       "max": 2000,
       "min": 200,
       "step": 10,
       "style": "IPY_MODEL_81b7cf897d184e1d8a9da8b4b73773f8",
       "value": 500
      }
     },
     "174f5162fadc451f9719d245108f96b9": {
      "model_module": "@jupyter-widgets/base",
      "model_module_version": "1.2.0",
      "model_name": "LayoutModel",
      "state": {}
     },
     "1c820d6770c64e9c91d3442273d15807": {
      "model_module": "@jupyter-widgets/controls",
      "model_module_version": "1.5.0",
      "model_name": "IntRangeSliderModel",
      "state": {
       "_model_name": "IntRangeSliderModel",
       "_view_name": "IntRangeSliderView",
       "continuous_update": false,
       "description": "Plotar N. Estados:",
       "layout": "IPY_MODEL_f79621569ceb40ef9309aae37b534b96",
       "max": 10,
       "readout_format": ".1d",
       "style": "IPY_MODEL_9ce8b8eed8554a71871fb909e65153ef",
       "value": [
        0,
        3
       ]
      }
     },
     "23a8c6a683f64f6499d7a7370817f7aa": {
      "model_module": "@jupyter-widgets/base",
      "model_module_version": "1.2.0",
      "model_name": "LayoutModel",
      "state": {}
     },
     "35cc9e7687f14b7aa9ef83eb4074e82f": {
      "model_module": "@jupyter-widgets/controls",
      "model_module_version": "1.5.0",
      "model_name": "IntRangeSliderModel",
      "state": {
       "_model_name": "IntRangeSliderModel",
       "_view_name": "IntRangeSliderView",
       "continuous_update": false,
       "description": "Plotar N. Estados:",
       "layout": "IPY_MODEL_870ac492734046bfa7925173af89abce",
       "max": 10,
       "readout_format": ".1d",
       "style": "IPY_MODEL_55166ed078af42f3b32543abe92a5a46",
       "value": [
        0,
        3
       ]
      }
     },
     "3c73fe72791f4d3b837a6da171f806ec": {
      "model_module": "@jupyter-widgets/controls",
      "model_module_version": "1.5.0",
      "model_name": "ButtonModel",
      "state": {
       "description": "Gerar/Resolver",
       "layout": "IPY_MODEL_82c20ba5d6c4450fb3c5c0442544ec15",
       "style": "IPY_MODEL_8bc1fe69d4a44d2e871569752fb1189d"
      }
     },
     "3d6517f3b37b4bbb81359ed3a422cd39": {
      "model_module": "@jupyter-widgets/controls",
      "model_module_version": "1.5.0",
      "model_name": "IntSliderModel",
      "state": {
       "continuous_update": false,
       "description": "Número de pontos/Ordem da Matriz: ",
       "layout": "IPY_MODEL_870ac492734046bfa7925173af89abce",
       "max": 2000,
       "min": 200,
       "step": 10,
       "style": "IPY_MODEL_67a06bfe292341708e0d5da366c0f124",
       "value": 500
      }
     },
     "43ee34c0830345e39dc5dabf619410c7": {
      "model_module": "@jupyter-widgets/base",
      "model_module_version": "1.2.0",
      "model_name": "LayoutModel",
      "state": {}
     },
     "4dc265d5779a4cb29f0150fd9a93a046": {
      "model_module": "@jupyter-widgets/controls",
      "model_module_version": "1.5.0",
      "model_name": "TabModel",
      "state": {
       "_titles": {
        "0": "Gerar o Sistema",
        "1": "Funções de Onda"
       },
       "children": [
        "IPY_MODEL_ca3f12a3feb64411914bf44ee84f0f5f",
        "IPY_MODEL_cd0ef2f923454f3db2bb7827f9223d89"
       ],
       "layout": "IPY_MODEL_43ee34c0830345e39dc5dabf619410c7",
       "selected_index": 1
      }
     },
     "509e4bcb4e0f48da8fdf526583845ccf": {
      "model_module": "@jupyter-widgets/base",
      "model_module_version": "1.2.0",
      "model_name": "LayoutModel",
      "state": {}
     },
     "55166ed078af42f3b32543abe92a5a46": {
      "model_module": "@jupyter-widgets/controls",
      "model_module_version": "1.5.0",
      "model_name": "SliderStyleModel",
      "state": {
       "description_width": "initial"
      }
     },
     "5b001aa8408d49138b1aa4ccea945297": {
      "model_module": "@jupyter-widgets/base",
      "model_module_version": "1.2.0",
      "model_name": "LayoutModel",
      "state": {}
     },
     "5fbffe5040ba44bc9f89c51aa1657c2c": {
      "model_module": "@jupyter-widgets/base",
      "model_module_version": "1.2.0",
      "model_name": "LayoutModel",
      "state": {}
     },
     "650e254fbc744bde8c8e7156d86bf81b": {
      "model_module": "@jupyter-widgets/output",
      "model_module_version": "1.0.0",
      "model_name": "OutputModel",
      "state": {
       "layout": "IPY_MODEL_5fbffe5040ba44bc9f89c51aa1657c2c",
       "outputs": [
        {
         "name": "stdout",
         "output_type": "stream",
         "text": "\n #########Propriedades espaciais do sistema resolvido (angstroms)######### \n\n Largura do domínio =  100.00\n\n dx =  0.38\n\n #########################################################################\n\n Siga para a aba 'Funções de onda' para plotar o resultado.\n"
        }
       ]
      }
     },
     "67a06bfe292341708e0d5da366c0f124": {
      "model_module": "@jupyter-widgets/controls",
      "model_module_version": "1.5.0",
      "model_name": "SliderStyleModel",
      "state": {
       "description_width": "initial"
      }
     },
     "6be86f326ff64083975ae607de430733": {
      "model_module": "@jupyter-widgets/controls",
      "model_module_version": "1.5.0",
      "model_name": "SliderStyleModel",
      "state": {
       "description_width": "initial"
      }
     },
     "6dfd870c55194a818f2bf23d28d366d3": {
      "model_module": "@jupyter-widgets/base",
      "model_module_version": "1.2.0",
      "model_name": "LayoutModel",
      "state": {}
     },
     "74eb927c6e4340f9b923581f91f3a92f": {
      "model_module": "@jupyter-widgets/controls",
      "model_module_version": "1.5.0",
      "model_name": "SliderStyleModel",
      "state": {
       "description_width": "initial"
      }
     },
     "76c3db34c5304de7a83e7be1caf3246f": {
      "model_module": "@jupyter-widgets/controls",
      "model_module_version": "1.5.0",
      "model_name": "VBoxModel",
      "state": {
       "_dom_classes": [
        "widget-interact"
       ],
       "children": [
        "IPY_MODEL_fa1cfbc51d4242998ead6b38982d684b",
        "IPY_MODEL_1186c1ba01a046818d594434f3501f33",
        "IPY_MODEL_c4f092559a3e4d3db0755ee20dd3f9f1",
        "IPY_MODEL_7c0cdab1d3d84df6a38800eab8540c6b"
       ],
       "layout": "IPY_MODEL_23a8c6a683f64f6499d7a7370817f7aa"
      }
     },
     "7c0cdab1d3d84df6a38800eab8540c6b": {
      "model_module": "@jupyter-widgets/output",
      "model_module_version": "1.0.0",
      "model_name": "OutputModel",
      "state": {
       "layout": "IPY_MODEL_509e4bcb4e0f48da8fdf526583845ccf"
      }
     },
     "7d882151110a4843b36712973abc0a5c": {
      "model_module": "@jupyter-widgets/base",
      "model_module_version": "1.2.0",
      "model_name": "LayoutModel",
      "state": {}
     },
     "81b7cf897d184e1d8a9da8b4b73773f8": {
      "model_module": "@jupyter-widgets/controls",
      "model_module_version": "1.5.0",
      "model_name": "SliderStyleModel",
      "state": {
       "description_width": "initial"
      }
     },
     "82c20ba5d6c4450fb3c5c0442544ec15": {
      "model_module": "@jupyter-widgets/base",
      "model_module_version": "1.2.0",
      "model_name": "LayoutModel",
      "state": {}
     },
     "870ac492734046bfa7925173af89abce": {
      "model_module": "@jupyter-widgets/base",
      "model_module_version": "1.2.0",
      "model_name": "LayoutModel",
      "state": {
       "display": "flex",
       "width": "90%"
      }
     },
     "8bc1fe69d4a44d2e871569752fb1189d": {
      "model_module": "@jupyter-widgets/controls",
      "model_module_version": "1.5.0",
      "model_name": "ButtonStyleModel",
      "state": {}
     },
     "8eec8ff98d1b4b9fb988c1e2d44204e4": {
      "model_module": "@jupyter-widgets/base",
      "model_module_version": "1.2.0",
      "model_name": "LayoutModel",
      "state": {}
     },
     "9ce8b8eed8554a71871fb909e65153ef": {
      "model_module": "@jupyter-widgets/controls",
      "model_module_version": "1.5.0",
      "model_name": "SliderStyleModel",
      "state": {
       "description_width": "initial"
      }
     },
     "a27f55f316e9475d8cfb8ec8a3af42b6": {
      "model_module": "@jupyter-widgets/controls",
      "model_module_version": "1.5.0",
      "model_name": "FloatRangeSliderModel",
      "state": {
       "_model_name": "FloatRangeSliderModel",
       "_view_name": "FloatRangeSliderView",
       "continuous_update": false,
       "description": "$x_{min}-x_{max}$",
       "layout": "IPY_MODEL_870ac492734046bfa7925173af89abce",
       "max": 150,
       "min": -150,
       "readout_format": "1d",
       "style": "IPY_MODEL_6be86f326ff64083975ae607de430733",
       "value": [
        -50,
        50
       ]
      }
     },
     "c4f092559a3e4d3db0755ee20dd3f9f1": {
      "model_module": "@jupyter-widgets/controls",
      "model_module_version": "1.5.0",
      "model_name": "ButtonModel",
      "state": {
       "description": "Run Interact",
       "layout": "IPY_MODEL_8eec8ff98d1b4b9fb988c1e2d44204e4",
       "style": "IPY_MODEL_d28943208b364f3aa916b381061e32ce"
      }
     },
     "ca3f12a3feb64411914bf44ee84f0f5f": {
      "model_module": "@jupyter-widgets/controls",
      "model_module_version": "1.5.0",
      "model_name": "VBoxModel",
      "state": {
       "_dom_classes": [
        "widget-interact"
       ],
       "children": [
        "IPY_MODEL_a27f55f316e9475d8cfb8ec8a3af42b6",
        "IPY_MODEL_3d6517f3b37b4bbb81359ed3a422cd39",
        "IPY_MODEL_3c73fe72791f4d3b837a6da171f806ec",
        "IPY_MODEL_650e254fbc744bde8c8e7156d86bf81b"
       ],
       "layout": "IPY_MODEL_d5dc1eb14e73414f93d0c56f1a214151"
      }
     },
     "cd0ef2f923454f3db2bb7827f9223d89": {
      "model_module": "@jupyter-widgets/controls",
      "model_module_version": "1.5.0",
      "model_name": "VBoxModel",
      "state": {
       "_dom_classes": [
        "widget-interact"
       ],
       "children": [
        "IPY_MODEL_35cc9e7687f14b7aa9ef83eb4074e82f",
        "IPY_MODEL_e5a4535f78394ba3a087f3873b14e9eb",
        "IPY_MODEL_edca399d2ea049e7b81824d26e7c2f21",
        "IPY_MODEL_0f3905e0af504bf8b14a32e8d1c1e081",
        "IPY_MODEL_f1eae43be8fd4e9aa7c9e27fae17b14f"
       ],
       "layout": "IPY_MODEL_6dfd870c55194a818f2bf23d28d366d3"
      }
     },
     "d28943208b364f3aa916b381061e32ce": {
      "model_module": "@jupyter-widgets/controls",
      "model_module_version": "1.5.0",
      "model_name": "ButtonStyleModel",
      "state": {}
     },
     "d587f8433e704858b9883d42eaa525a0": {
      "model_module": "@jupyter-widgets/controls",
      "model_module_version": "1.5.0",
      "model_name": "ButtonStyleModel",
      "state": {}
     },
     "d5dc1eb14e73414f93d0c56f1a214151": {
      "model_module": "@jupyter-widgets/base",
      "model_module_version": "1.2.0",
      "model_name": "LayoutModel",
      "state": {}
     },
     "df9f4440f2464ebe8d80788209ce01e5": {
      "model_module": "@jupyter-widgets/controls",
      "model_module_version": "1.5.0",
      "model_name": "DescriptionStyleModel",
      "state": {
       "description_width": ""
      }
     },
     "e5a4535f78394ba3a087f3873b14e9eb": {
      "model_module": "@jupyter-widgets/controls",
      "model_module_version": "1.5.0",
      "model_name": "IntSliderModel",
      "state": {
       "continuous_update": false,
       "description": "Margens em $x$:   ",
       "layout": "IPY_MODEL_870ac492734046bfa7925173af89abce",
       "max": 80,
       "style": "IPY_MODEL_74eb927c6e4340f9b923581f91f3a92f",
       "value": 20
      }
     },
     "edca399d2ea049e7b81824d26e7c2f21": {
      "model_module": "@jupyter-widgets/controls",
      "model_module_version": "1.5.0",
      "model_name": "DropdownModel",
      "state": {
       "_options_labels": [
        "densidades de probabilidades",
        "funções de onda (parte real)",
        "funções de onda (parte imaginária)"
       ],
       "description": "Plotar as",
       "index": 0,
       "layout": "IPY_MODEL_5b001aa8408d49138b1aa4ccea945297",
       "style": "IPY_MODEL_df9f4440f2464ebe8d80788209ce01e5"
      }
     },
     "f1eae43be8fd4e9aa7c9e27fae17b14f": {
      "model_module": "@jupyter-widgets/output",
      "model_module_version": "1.0.0",
      "model_name": "OutputModel",
      "state": {
       "layout": "IPY_MODEL_7d882151110a4843b36712973abc0a5c",
       "outputs": [
        {
         "data": {
          "image/png": "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\n",
          "text/plain": "<Figure size 1152x648 with 1 Axes>"
         },
         "metadata": {
          "needs_background": "light"
         },
         "output_type": "display_data"
        }
       ]
      }
     },
     "f79621569ceb40ef9309aae37b534b96": {
      "model_module": "@jupyter-widgets/base",
      "model_module_version": "1.2.0",
      "model_name": "LayoutModel",
      "state": {
       "display": "flex",
       "width": "90%"
      }
     },
     "fa1cfbc51d4242998ead6b38982d684b": {
      "model_module": "@jupyter-widgets/controls",
      "model_module_version": "1.5.0",
      "model_name": "FloatRangeSliderModel",
      "state": {
       "_model_name": "FloatRangeSliderModel",
       "_view_name": "FloatRangeSliderView",
       "continuous_update": false,
       "description": "$x_{min}-x_{max}$",
       "layout": "IPY_MODEL_f79621569ceb40ef9309aae37b534b96",
       "max": 150,
       "min": -150,
       "readout_format": "1d",
       "style": "IPY_MODEL_0fc703a78880434b9e945199e4d9f903",
       "value": [
        -50,
        50
       ]
      }
     }
    },
    "version_major": 2,
    "version_minor": 0
   }
  }
 },
 "nbformat": 4,
 "nbformat_minor": 5
}
