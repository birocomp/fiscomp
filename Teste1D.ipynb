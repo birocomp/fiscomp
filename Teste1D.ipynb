{
 "cells": [
  {
   "cell_type": "markdown",
   "id": "4081ff1f-1d23-4bc7-a822-8a227cc31130",
   "metadata": {},
   "source": [
    "# Como usar\n",
    "\n",
    "Esse aplicativo web é divido em 3 partes:\n",
    "1. **Gerar o seu sistema:** Isso pode ser feito após entrar as informações do domínio da função de onda $\\Psi(x)$, o número de pontos utilizados para representá-la, a forma da **energia potencial $V(x)$** e clicar em `Gerar`.\n",
    "    * Existem energias potenciais $V(x)$ pré definidas dentro do menu `Potenciais pré definidos`. Se escolher uma opção pré definida, o domínio e o número de pontos serão selecionados automaticamente e, em seguida, o botão 'Gerar' será clicado.\n",
    "    * A expressão para $V(x)$ está em eletron-volts, e $x$ estará em unidades Raio de Bohr (veja sobre as unidades de Rydberg abaixo).\n",
    "    * Caso você deseje utilizar $x$ em Angstroms, divida-o sempre por `ang`. Por exemplo:\n",
    "        * **$V(x)=((x/ang) - 10)^2$ resultará em um potencial harmônico em eletron-volts, centrado em $x=10$ Angstroms.**\n",
    "        * **$V(x)=(x - 10)^2$ resultará em um potencial harmônico em eletron-volts, centrado em $x=10$ Raio de Bohr.**\n",
    "\n",
    "\n",
    "2. **Diagonalizar a matriz do sistema:** Após o sistema ser gerado, o menu `Diagonalizar/Informações` exibirá uma tabela com algumas informações sobre o sistema gerado. Se estiver tudo como você quer, clique em `Diagonalizar` para resolver a matriz correspondente ao sistema, gerando as auto funções e os auto valores.\n",
    "\n",
    "3. **Plotar o resultado:** Após exibida a mensagem `Diagonalizado!` no próprio botão `Diagonalizar`, você será direcionado para a aba `Funções de onda`, onde as densidades de probabilidades dos 11 primeiros estados serão plotados automaticamente.\n",
    "\n",
    "***"
   ]
  },
  {
   "cell_type": "code",
   "execution_count": 2,
   "id": "dcdb271d",
   "metadata": {
    "tags": []
   },
   "outputs": [
    {
     "data": {
      "application/vnd.jupyter.widget-view+json": {
       "model_id": "256c18b15b8c439a8382d57ed415ad91",
       "version_major": 2,
       "version_minor": 0
      },
      "text/plain": [
       "Tab(children=(VBox(children=(Accordion(children=(GridBox(children=(Button(description='Poço Infinito', style=B…"
      ]
     },
     "metadata": {},
     "output_type": "display_data"
    }
   ],
   "source": [
    "import numpy as np\n",
    "import scipy.sparse as sparse\n",
    "import matplotlib.pyplot as plt\n",
    "from numba import jit\n",
    "import ipywidgets as wid\n",
    "from ipywidgets import interactive,fixed, interactive_output\n",
    "\n",
    "RY=13.60566 #x*RY: Rydberg -> ev\n",
    "ang=1.88972 #X/ang: raio de bohr -> angstroms\n",
    "pot_exemplos=['(2e-4)*((x)**2)','0',\n",
    "             '(1e-5)*(x**2)+(1e-7)*(x**4)',\n",
    "             '(10)*( (49.2 / (x/ang+84) )**12 - (49.2 / (x/ang+84) )**6)',\n",
    "             '3.5*(np.exp(-2*(0.1*(x/ang) + 2.75)) - 2*np.exp(-(0.1*(x/ang) + 2.75)))',\n",
    "             '-4*(np.cosh(0.1*x/ang)**(-2))',\n",
    "             '0.05*abs(x/ang)-1.5',\n",
    "             '(1e-5)*(x**2)-(2e-7)*(x**4)',\n",
    "             '0.05*x/ang',\n",
    "             '-0.05*x/ang',\n",
    "             '4*np.sin(-2*np.abs(x/ang)*np.pi/(35))']\n",
    "def diagg(boo):\n",
    "    global x,psi,prob,eig,V,L,N\n",
    "    DIAG.description='Diagonalizando...'\n",
    "    \n",
    "    @jit\n",
    "    def diagH(H,V):\n",
    "        H=H+V\n",
    "        eig, psi=np.linalg.eigh(H) #Resolve o sistema e atribui-se: eig=autovalores, psi=autovetores\n",
    "        prob=np.abs(psi)**2 #Atribui a densidade de probabilidade |Psi|² a variável prob\n",
    "        return H,V,psi,prob,eig\n",
    "    \n",
    "    N=x.size #Armazena o tamanho do vetor posição e o comprimento do espaço que ele representa\n",
    "    a=- 1/(dx**2) #Define 'a' por conveniência\n",
    "    H=sparse.diags([a,-2*a,a],[-1,0,1],shape=(N,N),dtype=np.complex128).toarray() #Cria a matriz Hamiltoniano\n",
    "    H[0,0]=-a\n",
    "    H[N-1,N-1]=-a\n",
    "    H,V,psi,prob,eig=diagH(H,V)\n",
    "    \n",
    "    V=np.diag(V)\n",
    "    PLOT.children[8].disabled=False\n",
    "    PLOT.children[8].description=('Plotar')\n",
    "    PLOT.children[8].click()\n",
    "    DIAG.disabled=True\n",
    "    DIAG.description='Diagonalizado!'\n",
    "    tab.selected_index=1\n",
    "    \n",
    "def syst(xx,N,potV):   \n",
    "    global x,dx,V,Vlim\n",
    "    def vetores(xx,N):\n",
    "        xmin,xmax=xx\n",
    "        x,dx=np.linspace(xmin*ang,xmax*ang, N, \n",
    "                         retstep=True,dtype=np.float64) #Define o vetor posição (raio de bohr)\n",
    "        return x,dx,xmin,xmax\n",
    "    \n",
    "    def pot(N,pot):\n",
    "        V=np.ones(shape=(N))\n",
    "        V=V*eval(pot)/RY\n",
    "        V=np.diag(V)\n",
    "        return V\n",
    "    \n",
    "    x, dx, xmin, xmax=vetores(xx,N)\n",
    "    V=pot(N,potV)\n",
    "    \n",
    "    xmin, xmax= x.min()/ang, x.max()/ang\n",
    "    L=xmax-xmin\n",
    "    Vlim=[V.min()*RY, V.max()*RY]\n",
    "    info.children[1].value=f\"{dx/ang: .2f}\"\n",
    "    info.children[3].value=f\"{L: .2f}\"\n",
    "    info.children[5].value=f\"[{Vlim[0]:.5f} , {Vlim[1]:.5f}]\"\n",
    "    info.children[7].value=SYST.children[2].value\n",
    "    info.children[9].value=f\"{SYST.children[1].value: 1d}\"\n",
    "    \n",
    "    fig1, ax1= plt.subplots(figsize=(12,8))\n",
    "    ax1.set_xlabel('$x (\\AA)$')\n",
    "    ax1.set_ylabel('Potencial (eV)')  \n",
    "    \n",
    "    plt.plot(x/ang,np.diag(V)*RY,'r-',label='$V(x)$')    \n",
    "    plt.axhline(Vlim[0], xmin, xmax,color='r',ls='--',label='limites de $V(x)$')\n",
    "    plt.axhline(Vlim[1], xmin, xmax,color='r',ls='--')\n",
    "    plt.axvline(x=x.min()/ang,color='k',ls='--',label='limites de $x$')\n",
    "    plt.axvline(x=x.max()/ang,color='k',ls='--',)\n",
    "    plt.setp(ax1, xticks=[xmin, xmax], yticks=Vlim)\n",
    "    leg=plt.legend(loc='upper right')\n",
    "    \n",
    "    DIAG.disabled=False\n",
    "    DIAG.description='Diagonalizar'\n",
    "    PLOT.children[8].disabled=True\n",
    "    PLOT.children[8].description=('Diagonalize...')\n",
    "    INFO.selected_index=0\n",
    "    return V,x,dx,xmin,xmax\n",
    "    \n",
    "def plotall(NES,limx,wav,xs,ys,dpi,limy,autolim):\n",
    "    fig, ax = plt.subplots(figsize=(xs,ys), dpi=dpi)\n",
    "    nmin,nmax = NES\n",
    "    En=eig*RY\n",
    "    #elim=(En.min(), En.max())###########\n",
    "    ax.set_xlim([x.min()/ang-limx, x.max()/ang +limx])\n",
    "    ax.set_xlabel('$x (\\AA)$')\n",
    "    ax.set_ylabel('Auto energias (eV)')\n",
    "    plt.title(f\"$\\Delta x$ = {dx/ang:.2f}, Ordem da matriz = {N} x {N}\")\n",
    "    probb=norm(prob,nmin,nmax,En,1)\n",
    "    if wav==1:\n",
    "        for i in range(nmax,nmin-1,-1):\n",
    "            fig=plt.plot(x/ang,probb[:,i]+En[i], \n",
    "                         label=f'$E_{{{i}}}={En[i]:.5f}$ eV')\n",
    "    elif wav==2:\n",
    "        for i in range(nmax,nmin-1,-1):\n",
    "            fig=plt.plot(x/ang,np.real(psi[:,i])+En[i], \n",
    "                         label=f'$E_{{{i}}}={En[i]:.5f}$ eV')\n",
    "    elif wav==3:\n",
    "        for i in range(nmax,nmin-1,-1):\n",
    "            fig=plt.plot(x/ang,np.imag(psi[:,i])+En[i], \n",
    "                         label=f'$E_{{{i}}}={En[i]:.5f}$ eV')\n",
    "    if autolim==False:\n",
    "        ax.set_ylim(limy)\n",
    "        \n",
    "    fig=plt.axvline(x=x.min()/ang,color='k',ls='--')\n",
    "    fig=plt.axvline(x=x.max()/ang,color='k',ls='--')\n",
    "    fig=plt.plot(x/ang,V*RY,'k',label='V($x$)')\n",
    "    leg=plt.legend(loc='upper right')\n",
    "    \n",
    "    plt.show()\n",
    "\n",
    "@jit\n",
    "def norm(prob,nmin,nmax,En,wav):\n",
    "    mmax=np.zeros(nmax+2)\n",
    "    if wav==1:\n",
    "        for i in range(0,nmax+2):\n",
    "            mmax[i]=(En[i+1]-En[i])*0.9\n",
    "        for i in range(0,nmax+2):\n",
    "            prob[:,i]=prob[:,i]*np.abs(mmax[i]/prob[:,i].max())\n",
    "    #else:\n",
    "    #    for i in range(1,nmax+2):\n",
    "    #        mmax[i]=(prob[:,i+1].min()-prob[:,i-1].max() \\\n",
    "    #                /(prob[:,i].max()-prob[:,i].min()))\n",
    "    #    for i in range(1,nmax+2):\n",
    "    #        prob[:,i-1]=prob[:,i-1]*np.abs(mmax[i]*0.9)\n",
    "    return prob\n",
    "\n",
    "def potlist(bo):\n",
    "    b=bo.description\n",
    "    if b=='Oscilador Harmônico':\n",
    "        SYST.children[2].value=pot_exemplos[0]\n",
    "    elif b=='Poço Infinito':\n",
    "        SYST.children[2].value=pot_exemplos[1]\n",
    "    elif b=='Duffing Holmes (+)':\n",
    "        SYST.children[2].value=pot_exemplos[2]\n",
    "    elif b=='Lennard Jones':\n",
    "        SYST.children[2].value=pot_exemplos[3]\n",
    "    elif b=='Morse':\n",
    "        SYST.children[2].value=pot_exemplos[4]\n",
    "    elif b=='Pöschl–Teller':\n",
    "        SYST.children[2].value=pot_exemplos[5]\n",
    "    elif b=='Poço Triangular':\n",
    "        SYST.children[2].value=pot_exemplos[6]\n",
    "    elif b=='Duffing Holmes (-)':\n",
    "        SYST.children[2].value=pot_exemplos[7]\n",
    "    elif b=='Campo Uniforme (-)':\n",
    "        SYST.children[2].value=pot_exemplos[8]\n",
    "    elif b=='Campo Uniforme (+)':\n",
    "        SYST.children[2].value=pot_exemplos[9]\n",
    "    SYST.children[0].value=[-35,35]\n",
    "    SYST.children[3].click()\n",
    "    \n",
    "################################STYLES/LAYOUT###############################\n",
    "lslider=wid.Layout(width='90%', display='flex')\n",
    "sty = {'description_width': 'initial'}\n",
    "\n",
    "################################INTERACTIVES################################\n",
    "SYST=interactive(syst, {'manual': True}, \n",
    "                    xx=wid.FloatRangeSlider(\n",
    "                        value=[-35.0, 35.0],\n",
    "                        min=-150.0,\n",
    "                        max=150.0,\n",
    "                        step=1,\n",
    "                        continuous_update=False,\n",
    "                        orientation='horizontal',\n",
    "                        readout_format='1d',\n",
    "                        layout=lslider,\n",
    "                        description=('Domínio de $\\Psi(x)$: '),\n",
    "                        style=sty),\n",
    "                    N=wid.IntSlider(value=550,\n",
    "                        min=50,\n",
    "                        max=1050,\n",
    "                        step=10,\n",
    "                        continuous_update=False, \n",
    "                        layout=lslider,\n",
    "                        description=('Número de pontos: '),\n",
    "                        style=sty),\n",
    "                    potV=wid.Text(description='Expressão de $V(x)$: ',\n",
    "                        value=\"0\",\n",
    "                        placeholder='Escreva a expressão aqui.',\n",
    "                        style=sty,\n",
    "                        layout=lslider))\n",
    "\n",
    "PLOT=interactive(plotall, {'manual': True},\n",
    "                    NES=wid.IntRangeSlider(\n",
    "                        value=[0, 10],\n",
    "                        min=0,\n",
    "                        max=20,\n",
    "                        step=1,\n",
    "                        description='Plotar estados:',\n",
    "                        continuous_update=False,\n",
    "                        orientation='horizontal',\n",
    "                        layout=lslider,\n",
    "                        style=sty),\n",
    "                    limx=wid.IntSlider(\n",
    "                        value=20,\n",
    "                        min=0,\n",
    "                        max=100,\n",
    "                        step=1,\n",
    "                        description='Margens horizontais  (angstroms):   ',\n",
    "                        continuous_update=False,\n",
    "                        layout=lslider,\n",
    "                        style=sty),\n",
    "                    wav=wid.Dropdown(\n",
    "                        options=[('densidades de probabilidades',1),\n",
    "                                 ('funções de onda (parte real, +)',2),\n",
    "                                 ('funções de onda (parte imaginária)',3)],\n",
    "                        value=1,\n",
    "                        description='Plotar as',\n",
    "                        style=sty),\n",
    "                    xs=wid.IntSlider(value=16,\n",
    "                        min=0,\n",
    "                        max=20,\n",
    "                        step=1,\n",
    "                        description='Largura da imagem (polegadas):',\n",
    "                        style=sty,\n",
    "                        layout=lslider),\n",
    "                    ys=wid.IntSlider(value=9,\n",
    "                        min=0,\n",
    "                        max=20,\n",
    "                        step=1,\n",
    "                        description='Altura da imagem (polegadas): ',\n",
    "                        style=sty,\n",
    "                        layout=lslider),\n",
    "                    dpi=wid.IntSlider(value=80,\n",
    "                        min=10,\n",
    "                        max=300,\n",
    "                        step=1,\n",
    "                        description='Pixels por polegada:',\n",
    "                        style=sty,layout=lslider),\n",
    "                    limy=wid.FloatRangeSlider(value=[-2.,2.],\n",
    "                        min=-10.,\n",
    "                        max=10.,\n",
    "                        step=0.005,\n",
    "                        description='Limites do eixo y (eV):',\n",
    "                        orientation='horizontal',\n",
    "                        readout_format='.1f',\n",
    "                        layout=lslider,\n",
    "                        style=sty),\n",
    "                    autolim=wid.Checkbox(\n",
    "                        value=True,\n",
    "                        description='Auto limitar eixo y',\n",
    "                        style=sty))\n",
    "\n",
    "################################GRIDS################################\n",
    "items = [wid.Label('Passo $\\Delta x $ (angstroms) ='), wid.Label('dx'), \n",
    "        wid.Label('Largura do domínio (angstroms) ='), wid.Label('L'),\n",
    "        wid.Label('V(x)[min,max] (eV) ='), wid.Label('[V_min,V_max]'),\n",
    "        wid.Label('Expressão V(x) ='), wid.Label(''),\n",
    "        wid.Label('Número de pontos ='), wid.Label('')]\n",
    "info=wid.GridBox(items, layout=wid.Layout(grid_template_columns=\"repeat(2, 250px)\"))\n",
    "\n",
    "################################BOTOES################################\n",
    "DIAG=wid.Button(description='Diagonalizar',disabled=True)\n",
    "OHS=wid.Button(description='Oscilador Harmônico')\n",
    "POCO=wid.Button(description='Poço Infinito')\n",
    "DUFHOLMES=wid.Button(description='Duffing Holmes (+)', style=sty)\n",
    "MDUFHOLMES=wid.Button(description='Duffing Holmes (-)', style=sty)\n",
    "LENJON=wid.Button(description='Lennard Jones', style=sty)\n",
    "MORSE=wid.Button(description='Morse', style=sty)\n",
    "POSTEL=wid.Button(description='Pöschl–Teller', style=sty)\n",
    "TRIANG=wid.Button(description='Poço Triangular', style=sty)\n",
    "CAMPMENOS=wid.Button(description='Campo Uniforme (-)', style=sty)\n",
    "CAMPMAIS=wid.Button(description='Campo Uniforme (+)', style=sty)\n",
    "\n",
    "################################ON_EVENTS###############################\n",
    "DIAG.on_click(diagg)\n",
    "OHS.on_click(potlist)\n",
    "POCO.on_click(potlist)\n",
    "DUFHOLMES.on_click(potlist)\n",
    "MDUFHOLMES.on_click(potlist)\n",
    "LENJON.on_click(potlist)\n",
    "MORSE.on_click(potlist)\n",
    "POSTEL.on_click(potlist)\n",
    "TRIANG.on_click(potlist)\n",
    "CAMPMAIS.on_click(potlist)\n",
    "CAMPMENOS.on_click(potlist)\n",
    "\n",
    "\n",
    "################################BOXES###############################\n",
    "POTSBUT=wid.GridBox([POCO,TRIANG,CAMPMAIS,CAMPMENOS,OHS,DUFHOLMES,\n",
    "                MDUFHOLMES,LENJON,MORSE,POSTEL],\n",
    "    layout=wid.Layout(grid_template_columns=\"repeat(auto-fill, 180px)\"))\n",
    "POTLIST=wid.Accordion([POTSBUT])\n",
    "INFODIAG=wid.VBox([info,DIAG])\n",
    "INFO=wid.Accordion([INFODIAG])\n",
    "POTLIST.set_title(0,'Potenciais pré definidos')\n",
    "INFO.set_title(0,'Diagonalizar/Informações')\n",
    "SYSTBOX=wid.VBox([POTLIST,SYST,INFO])\n",
    "\n",
    "################################UI################################\n",
    "SYST.children[3].description=('Gerar')\n",
    "PLOT.children[8].description=('Plotar')\n",
    "PLOT.children[8].disabled=True\n",
    "INFO.selected_index=None\n",
    "\n",
    "################################TABS################################\n",
    "tab=wid.Tab(children=[SYSTBOX,PLOT])\n",
    "tab.set_title(0, 'Gerar o Sistema')\n",
    "tab.set_title(1, 'Funções de Onda')\n",
    "display(tab)"
   ]
  },
  {
   "cell_type": "markdown",
   "id": "b2e792b6-1657-44c5-8baf-1760a8c0b568",
   "metadata": {},
   "source": [
    "***\n",
    "# Unidades atômicas de Rydberg\n",
    "<details><summary>Clique aqui para mostrar</summary>\n",
    "Tabela de conversão de unidades entre o sistema de Rydberg e o MKSA, que é a base constante do SI. Cheque a fonte original mais abaixo para um tabela mais completa em inglês.\n",
    "\n",
    "Fonte da tabela: [(Departamento de Física, Universidade Rei Fahd de Petróleos e Minerais)](https://faculty.kfupm.edu.sa/phys/aanaqvi/rydberg.pdf)\n",
    "\n",
    "|Dimensão |  Sistema de Unidades Rydberg | MKSA (base do SI) | Outras equivalências|\n",
    "| :- |  :-: | :-: | :-:|\n",
    "|Comprimento | $$1=a_0$$ | $$5.2917725 \\times 10^{-11} $$ | $$\\approx 0.5291772 \\text{ Å}$$|\n",
    "|Massa| $$1=2m_e$$ | $$1.8218779\\times 10^{-30} \\text{ kg} $$| - |\n",
    "|Tempo |$$1$$| $$1 4.8377687 \\times 10^{-17} \\text{ s}$$ | $$=1/20 \\text{ fs}$$ |\n",
    "|Frequência | $$1$$ | $$ 2.0670687 \\times 10^{16} \\text{ Hz}$$ | - |\n",
    "|Velocidade| $$1$$ | $$1.0938457 \\times 10^{6} \\text{ m/s}$$| -|\n",
    "|Momento| $$1$$ | $$1.9928534 \\times 10^{-24} \\text{ kg.m/s}$$| - |\n",
    "|Energia| $$1=E_{Ryd}=e^2/(2a_0)$$ | $$2.1798741 \\times 10 ^{-18} \\text{ J}$$| $$3.605698 \\text{ eV}$$|\n",
    "|Carga | $$1=e/\\sqrt{2}$$ | $$1.1329105\\times 10^{-19} \\text{ C}$$| - |\n",
    "|Campo Elétrico |$$1$$| $$1 3.6360903 \\times 10^{11} \\text{ V/m}$$|-|\n",
    "|Potencial | $$1$$ | $$19.241363 \\text{ V}$$|-|\n",
    "\n",
    "|Constantes Úteis | Símbolo |Sistema de Unidades Rydberg | MKSA (base do SI) |\n",
    "|:-|:-:|:-:|:-|\n",
    "|Constante de Planck reduzida | $$\\hbar$$| $$1$$| $$1.05457266\\times 10 ^{-34} \\text{ J.s}$$|\n",
    "|$h= 2\\pi\\hbar$| $$h$$ | $$2\\pi$$ | $$6.6260755\\times 10^{-34} \\text{ J.s}$$|\n",
    "|Carga do elétron | $$e$$ | $$\\sqrt{2}$$| $$1.60217733\\times 10 ^{-19} \\text{ C}$$|\n",
    "|Raio de Bohr|$$a_0$$| $$1=\\hbar^2/(me^2)$$| $$5.29177249\\times 10^{-11} \\text{ m}$$|\n",
    "|Energia de Hartree| $$E_h$$|$$2=e^2/(a_0)$$ | $$4.3597482\\times 10^{-18} \\text{ J}$$|\n",
    "|Constante de estrutura fina| $$\\alpha$$| $$e^2/(\\hbar c)=1/137.0359895 $$| - |\n",
    "|Velocidade da luz | $$c$$ | $$2/\\alpha \\approx 274$$ | $$2.99792458\\times 10^{8} \\text{ m/s}$$|\n",
    "|Permeabilidade do vácuo| $$\\mu_0$$ | $$\\pi\\alpha^2\\approx 1.7 \\times 10^{-4}$$| $$4\\pi \\times 10^{-7} \\text{ H/m}$$|\n",
    "|Permissividade do vácuo| $$\\epsilon_0$$| $$1/(4\\pi)\\approx 0.08$$| $$8.854187817\\times 10^{-12} \\text{ F/m}$$|\n",
    "|Massa do elétron| $$m_e$$| $$1/2$$ |$$9.1093897 \\times 10^{-31} \\text{ kg}$$|\n",
    "|Massa do próton| $$m_p$$ | $$918.07638$$ | $$1.6726231\\times 10^{-27} kg$$|\n",
    "</details>"
   ]
  },
  {
   "cell_type": "markdown",
   "id": "99896775-43e8-4631-933f-1e5bf589bf42",
   "metadata": {
    "tags": []
   },
   "source": [
    "# Modelo Matemático\n",
    "<details><summary>Clique aqui para mostrar</summary>\n",
    "Escrevemos a equação de Schrodinger 1D independente do tempo, para um único eletron, fazendo $\\hbar^2 /(2m)=1$, já que utilizaremos o sistema de unidades atômicas de Rydberg:\n",
    "$$-\\frac{\\partial^2 \\Psi}{\\partial x^2}+V(x)=E\\Psi \\tag{1}$$\n",
    "    \n",
    "Discretizamos as derivadas parciais utilizando o método de diferenças finitas, fazendo a primeira derivada pela direita e a segunda pela esquerda para diminuir o erro:\n",
    "\n",
    "$$\\frac{\\partial \\Psi}{\\partial x} \\approx \\frac{\\Psi(x+\\Delta x)-\\Psi(x)}{\\Delta x}$$\n",
    "\n",
    "$$\\frac{\\partial \\Psi}{\\partial x} \\approx \\frac{\\Psi(x)-\\Psi(x-\\Delta x)}{\\Delta x}$$\n",
    "    \n",
    "Isso resultará em\n",
    "    \n",
    "$$\\frac{\\partial^2 \\Psi}{\\partial x^2} \\approx \\frac{\\Psi(x+\\Delta x)-2\\Psi(x)+\\Psi(x-\\Delta x)}{\\Delta x^2} \\tag{2}$$\n",
    "\n",
    "Descreveremos o sistema dentro de um intervalo que vai de $x_{min}$ até um certo valor $x_{max}$. Como o intervalo será discreto, utilizaremos um vetor posição $x$ com $N$ componentes para representá-lo. Por conveniência, mudamos a $\\color{blue}{\\text{notação com a variável }x}$ para $\\color{red}{\\text{notação com índices }i}$, tal que o vetor $x$ seja\n",
    "    \n",
    "$$x=\\color{blue}{\\begin{bmatrix}x_{min}&+&(1-1)\\Delta x\\\\ x_{min}&+&(2-1)\\Delta x \\\\ x_{min}&+& (3-1) \\Delta x \\\\\\vdots & +&\\vdots\\\\ x_{min}&+&(N-1)\\Delta x  \\end{bmatrix}}=\\color{red}{\\begin{bmatrix}x_{1}\\\\ x_{2} \\\\ x_{3}\\\\\\vdots  \\\\ x_{N}\\end{bmatrix}}$$\n",
    "\n",
    "Agora, de maneira similar, a função de onda será representada por um vetor $\\Psi$ contendo todos os valores discretos de uma função de onda unidimensional representada por $N$ pontos e com uma indexação de que vai $i=1$ até $i=N$, ou seja:\n",
    "\n",
    "$$\\Psi=\\color{blue}{\\begin{bmatrix}\\Psi(x + (1-1)\\Delta x)\\\\\\Psi(x + (2-1) \\Delta x) \\\\\\Psi( x+ (3-1) \\Delta x) \\\\\\vdots \\\\ \\Psi(x + (N-1)\\Delta x)\\end{bmatrix}}= \\color{red}{\\begin{bmatrix}\\Psi_{1}\\\\\\Psi_{2}\\\\\\Psi_3\\\\\\vdots \\\\ \\Psi_{N}\\end{bmatrix}}$$\n",
    "   \n",
    "Substituindo (2) em (1) e utilizando a notação com índices, temos:\n",
    "\n",
    "$$\\frac{-\\left(\\Psi_{i-1}-2\\Psi_{i}+\\Psi_{i+1}\\right)}{\\Delta x^2}+V_i \\Psi_i=E\\Psi_i$$\n",
    "\n",
    "Definindo $a={-1}/{\\Delta x ^2}$, tem-se\n",
    "    \n",
    "$$a\\left(\\Psi_{i-1}-2\\Psi_{i}+\\Psi_{i+1}\\right)+V_i \\Psi_i=E\\Psi_i$$\n",
    "\n",
    "Rearranjando a equação acima de uma forma conveniente, obtem-se\n",
    "    \n",
    "$$a\\Psi_{i-1}+ (V_1-2a)\\Psi_{i}+ a\\Psi_{i+1}=E\\Psi_i$$\n",
    "\n",
    "Isso pode ser reescrito como uma equação matricial da forma:\n",
    "    \n",
    "$$\\begin{matrix}\n",
    "a\\Psi_{0}&+& (V_1-2a)\\Psi_{1}&+& a\\Psi_{2}  &= & E\\Psi_1 \\\\ \n",
    "a \\Psi_{1}&+&(V_2-2a)\\Psi_{2}&+&a\\Psi_{3}& = & E\\Psi_2 \\\\ \n",
    "a \\Psi_{2}&+&(V_3-2a)\\Psi_{3}&+&a\\Psi_{4}& = & E\\Psi_3 \\\\ \n",
    "\\vdots & +& \\vdots&+& \\vdots & = &\\vdots\\\\ \n",
    "a\\Psi_{N-1}&+&(V_{N}-2a)\\Psi_{N}&+&a\\Psi_{N+1}& = & E\\Psi_{N}\n",
    "\\end{matrix}$$\n",
    "\n",
    "Note que na primeira e última equações do sistema acima, do lado esquerdo da igualdade, temos os termos $\\Psi_0$ e $\\Psi_{N+1}$, que não correspondem a nenhuma componente do nosso vetor da função de onda discreta $\\Psi$. Nós iremos utilizá-los para definir as condições de contorno (o valor da função de onda nas bordas do sistema).\n",
    "    \n",
    ">## Condições de contorno\n",
    "> Abaixo estão dois exemplos básicos de condições de contorno\n",
    ">### Fronteiras Fixas (poço infinito)\n",
    ">Nessa condição forçamos a função de onda a ser 0 nas bordas, ou seja\n",
    ">$$\\Psi(x_{min})=\\Psi(x_{max})=0$$\n",
    ">Aqui, isso será equivalente a\n",
    ">\\begin{aligned}\\Psi_0&=0 \\\\ \\Psi_{N+1}&=0\\end{aligned}\n",
    ">### Condição de contorno periódica\n",
    ">Nessa condição forçamos a função de onda no último ponto a ser igual ao valor do primeiro ponto, ou seja\n",
    ">$$\\Psi(x_{min})=\\Psi_(x_{max})$$\n",
    ">Aqui, isso será equivalente a\n",
    ">\\begin{aligned}\\Psi_{N+1}&=\\Psi_{1} \\\\ \\Psi_{0}&=\\Psi_{N}\\end{aligned}\n",
    "## Equação matricial\n",
    "    \n",
    "Aplicando a condição de contorno do poço infinito, temos:\n",
    "$$\\begin{matrix}\n",
    "0&+& \\color{blue}{(V_1-2a)}\\Psi_{1}&+& \\color{blue}a \\Psi_{2}  &= & E\\Psi_1 \\\\ \n",
    "\\color{red}a \\Psi_{1}&+&\\color{red}{(V_2-2a)}\\Psi_{2}&+&\\color{red}a\\Psi_{3}& = & E\\Psi_2 \\\\ \n",
    "\\color{orange}a \\Psi_{2}&+&\\color{orange}{(V_3-2a)}\\Psi_{3}&+&\\color{orange}a \\Psi_{4}& = & E\\Psi_3 \\\\ \n",
    "\\vdots & +& \\vdots&+& \\vdots & = &\\vdots\\\\ \n",
    "\\color{purple}a\\Psi_{N-2}&+&\\color{purple}{(V_{N-1}-2a)} \\Psi_{N-1}& +&\\color{purple}a \\Psi_{N}&= & E\\Psi_{N-1}\\\\\n",
    "\\color{green}a\\Psi_{N-1}&+&\\color{green}{(V_{N}-2a)} \\Psi_{N}&+&0& = & E\\Psi_{N}\n",
    "\\end{matrix}$$\n",
    "\n",
    "Esse sistema pode ser reescrito como uma matriz do tipo:\n",
    "$$\\begin{bmatrix}  \\color{blue}{(V_1-2a)} & \\color{blue}a & 0  & 0 & 0 & 0\\\\\n",
    "\\color{red}a & \\color{red}{(V_2-2a)} & \\color{red}a  & 0 & 0 &0 \\\\\n",
    "0&\\color{orange}a & \\color{orange}{(V_3-2a)} &  \\color{orange}a  & 0  &0  \\\\\n",
    " 0 & 0 & \\ddots & \\ddots & \\ddots & 0 \\\\\n",
    "0& 0 & 0  & \\color{purple}a & \\color{purple}{(V_{N-1}-2a)}& \\color{purple}a\\\\\n",
    "0& 0 & 0 & 0 & \\color{green}a & \\color{green}{(V_{N}-2a)} \n",
    "\\end{bmatrix} \n",
    "\\begin{bmatrix}\\Psi_{1}\\\\\\Psi_2\\\\\\Psi_3\\\\\\vdots \\\\\\Psi_{N-1}\\\\ \\Psi_{N}\\end{bmatrix}=E\\begin{bmatrix}\\Psi_{1}\\\\\\Psi_2\\\\\\Psi_3\\\\\\vdots \\\\ \\Psi_{N-1}\\\\\\Psi_{N}\\end{bmatrix}$$\n",
    "\n",
    "Isso é equivalente a um problema de autovetores e autovalores, onde a matriz quadrada de ordem $N$ acima é o operador Hamiltoniano $\\hat{H}$:\n",
    "\n",
    "$$\\hat{H}\\Psi=E\\Psi$$\n",
    "\n",
    "Podemos diagonalizá-lo para obter os autovalores e seus respectivos autovetores. Os autovetores serão vetores $\\Psi_n$ com $N$ componentes representando as respectivas funções de ondas dos estados $n$, e os autovalores $E$ serão as energias correspondentes aos respectivos estados. \n",
    "</details>\n"
   ]
  },
  {
   "cell_type": "code",
   "execution_count": null,
   "id": "3fdc748c-9b22-405c-9606-82a9583b30a2",
   "metadata": {},
   "outputs": [],
   "source": []
  }
 ],
 "metadata": {
  "hide_input": false,
  "kernelspec": {
   "display_name": "Python 3",
   "language": "python",
   "name": "python3"
  },
  "language_info": {
   "codemirror_mode": {
    "name": "ipython",
    "version": 3
   },
   "file_extension": ".py",
   "mimetype": "text/x-python",
   "name": "python",
   "nbconvert_exporter": "python",
   "pygments_lexer": "ipython3",
   "version": "3.9.5"
  },
  "toc": {
   "base_numbering": 1,
   "nav_menu": {},
   "number_sections": true,
   "sideBar": true,
   "skip_h1_title": false,
   "title_cell": "Table of Contents",
   "title_sidebar": "Contents",
   "toc_cell": false,
   "toc_position": {},
   "toc_section_display": true,
   "toc_window_display": false
  },
  "widgets": {
   "application/vnd.jupyter.widget-state+json": {
    "state": {
     "0256f9a13e8b4308908ac4b9c5032f6b": {
      "model_module": "@jupyter-widgets/controls",
      "model_module_version": "1.5.0",
      "model_name": "TabModel",
      "state": {
       "_titles": {
        "0": "Gerar o Sistema",
        "1": "Funções de Onda"
       },
       "children": [
        "IPY_MODEL_5ca56c4c6ea3460d849339fae4b5752c",
        "IPY_MODEL_1971289dbdca4b3088b25f738aee2b49"
       ],
       "layout": "IPY_MODEL_e9ed285e86e14d3899823be5d7d7797e"
      }
     },
     "04f2912bba3446b787f4aa23214b0d20": {
      "model_module": "@jupyter-widgets/output",
      "model_module_version": "1.0.0",
      "model_name": "OutputModel",
      "state": {
       "layout": "IPY_MODEL_8ed84027cc9b4bc7a0fc85000ec16100"
      }
     },
     "054539a2ab1e4c17823170e04cea3d52": {
      "model_module": "@jupyter-widgets/base",
      "model_module_version": "1.2.0",
      "model_name": "LayoutModel",
      "state": {
       "grid_template_columns": "repeat(2, 250px)"
      }
     },
     "0599839630014b7d941b5752a3d01c61": {
      "model_module": "@jupyter-widgets/base",
      "model_module_version": "1.2.0",
      "model_name": "LayoutModel",
      "state": {}
     },
     "06ef426a2ef946c79dfbddebb3dac20b": {
      "model_module": "@jupyter-widgets/base",
      "model_module_version": "1.2.0",
      "model_name": "LayoutModel",
      "state": {}
     },
     "078a9ced1a844054a249121997ddad81": {
      "model_module": "@jupyter-widgets/controls",
      "model_module_version": "1.5.0",
      "model_name": "ButtonStyleModel",
      "state": {}
     },
     "0859a9438e0f4d96a390da6500a04f11": {
      "model_module": "@jupyter-widgets/controls",
      "model_module_version": "1.5.0",
      "model_name": "ButtonModel",
      "state": {
       "description": "Duffing Holmes (+)",
       "layout": "IPY_MODEL_fdd2b28a4ea349ae8d23b2fcef555683",
       "style": "IPY_MODEL_d314f01beb46491998ce3efbf0918dfd"
      }
     },
     "0a829cc9fcd0460db2b69fb9e6d44a46": {
      "model_module": "@jupyter-widgets/controls",
      "model_module_version": "1.5.0",
      "model_name": "ButtonModel",
      "state": {
       "description": "Campo Uniforme (+)",
       "layout": "IPY_MODEL_5318822f3dde4b6991e33c7fbed9992c",
       "style": "IPY_MODEL_4ffaf156de5e425d9fdeba745311b684"
      }
     },
     "0b3fc53ecc2b4b81bc6089e911775318": {
      "model_module": "@jupyter-widgets/controls",
      "model_module_version": "1.5.0",
      "model_name": "ButtonStyleModel",
      "state": {}
     },
     "0b5c23391e0c43dbacf843359ab2fdc1": {
      "model_module": "@jupyter-widgets/controls",
      "model_module_version": "1.5.0",
      "model_name": "ButtonModel",
      "state": {
       "description": "Diagonalizado!",
       "disabled": true,
       "layout": "IPY_MODEL_74ae2f74cbed42abae89e44155b31412",
       "style": "IPY_MODEL_df729b7f03a343768546d5278159f14f"
      }
     },
     "0b69361eda284ceeb8469747237de1d7": {
      "model_module": "@jupyter-widgets/base",
      "model_module_version": "1.2.0",
      "model_name": "LayoutModel",
      "state": {}
     },
     "0bfac712e24f4614b2e28dfb27790017": {
      "model_module": "@jupyter-widgets/base",
      "model_module_version": "1.2.0",
      "model_name": "LayoutModel",
      "state": {}
     },
     "0c7b99c4c5be42c7aeb62b7e432d5242": {
      "model_module": "@jupyter-widgets/controls",
      "model_module_version": "1.5.0",
      "model_name": "VBoxModel",
      "state": {
       "children": [
        "IPY_MODEL_4a4749ff9453488bb367267d647ca31f",
        "IPY_MODEL_c02c770dea9240b28016e86cc6e94b36"
       ],
       "layout": "IPY_MODEL_baaddfc4d5ae4f338ab27c9575f2b6d2"
      }
     },
     "0e88d8b4e6cd496da53cae2a0948c83b": {
      "model_module": "@jupyter-widgets/controls",
      "model_module_version": "1.5.0",
      "model_name": "FloatRangeSliderModel",
      "state": {
       "_model_name": "FloatRangeSliderModel",
       "_view_name": "FloatRangeSliderView",
       "continuous_update": false,
       "description": "Domínio de $\\Psi(x)$: ",
       "layout": "IPY_MODEL_e1d4e4f26b2d499da4a3382a3e8e4466",
       "max": 150,
       "min": -150,
       "readout_format": "1d",
       "style": "IPY_MODEL_a0d238d600bf4687a28b91de8bbe844c",
       "value": [
        -35,
        35
       ]
      }
     },
     "104be8a181874b009adcf4e868f42e5e": {
      "model_module": "@jupyter-widgets/base",
      "model_module_version": "1.2.0",
      "model_name": "LayoutModel",
      "state": {
       "display": "flex",
       "width": "90%"
      }
     },
     "104dacdefe524bcb8315a2eae847bb84": {
      "model_module": "@jupyter-widgets/base",
      "model_module_version": "1.2.0",
      "model_name": "LayoutModel",
      "state": {}
     },
     "111c3e431e934218824974899a053f88": {
      "model_module": "@jupyter-widgets/controls",
      "model_module_version": "1.5.0",
      "model_name": "DescriptionStyleModel",
      "state": {
       "description_width": ""
      }
     },
     "116dbdf3a4d24588a456297d30e9bafc": {
      "model_module": "@jupyter-widgets/controls",
      "model_module_version": "1.5.0",
      "model_name": "DescriptionStyleModel",
      "state": {
       "description_width": ""
      }
     },
     "120d1d289ed64e8db05a11da1efb5de2": {
      "model_module": "@jupyter-widgets/controls",
      "model_module_version": "1.5.0",
      "model_name": "DescriptionStyleModel",
      "state": {
       "description_width": ""
      }
     },
     "12c6ebbf9347466dabb3a4a5558929a1": {
      "model_module": "@jupyter-widgets/controls",
      "model_module_version": "1.5.0",
      "model_name": "IntSliderModel",
      "state": {
       "continuous_update": false,
       "description": "Margens horizontais  (angstroms):   ",
       "layout": "IPY_MODEL_e1d4e4f26b2d499da4a3382a3e8e4466",
       "style": "IPY_MODEL_576b3ddb3f9046888c62fb9b2adcb3e2",
       "value": 20
      }
     },
     "12e82e0666d741178b77c974ec373d14": {
      "model_module": "@jupyter-widgets/controls",
      "model_module_version": "1.5.0",
      "model_name": "LabelModel",
      "state": {
       "layout": "IPY_MODEL_a9c7579162454d2fa9cb6c2c5751c4ce",
       "style": "IPY_MODEL_181bd1b8ca0a492fa6c81c26ec8ab064",
       "value": "Número de pontos ="
      }
     },
     "1487f14da4e84ea4b62ebee9744853f1": {
      "model_module": "@jupyter-widgets/controls",
      "model_module_version": "1.5.0",
      "model_name": "ButtonStyleModel",
      "state": {}
     },
     "16294a9a26b84aa7ad82ac9f4ac7f7ad": {
      "model_module": "@jupyter-widgets/controls",
      "model_module_version": "1.5.0",
      "model_name": "LabelModel",
      "state": {
       "layout": "IPY_MODEL_510e3666af4b4b49aae864d81afba4fc",
       "style": "IPY_MODEL_6c12f5f00a124b5889f7c81a3acc908d",
       "value": "Largura do domínio (angstroms) ="
      }
     },
     "1661b416a2694e16bcdc4aeae42382c4": {
      "model_module": "@jupyter-widgets/base",
      "model_module_version": "1.2.0",
      "model_name": "LayoutModel",
      "state": {}
     },
     "181bd1b8ca0a492fa6c81c26ec8ab064": {
      "model_module": "@jupyter-widgets/controls",
      "model_module_version": "1.5.0",
      "model_name": "DescriptionStyleModel",
      "state": {
       "description_width": ""
      }
     },
     "191d9cbf744840f7b790763474d8cbe9": {
      "model_module": "@jupyter-widgets/base",
      "model_module_version": "1.2.0",
      "model_name": "LayoutModel",
      "state": {}
     },
     "1971289dbdca4b3088b25f738aee2b49": {
      "model_module": "@jupyter-widgets/controls",
      "model_module_version": "1.5.0",
      "model_name": "VBoxModel",
      "state": {
       "_dom_classes": [
        "widget-interact"
       ],
       "children": [
        "IPY_MODEL_afaf135918fe467bba07ca2c0a7dd46d",
        "IPY_MODEL_75c63d5c2607472eaa42f438bd5843eb",
        "IPY_MODEL_6318c7ddc05e4a338877318e026f08eb",
        "IPY_MODEL_58ed0d55d264446990eebe466bda36e9",
        "IPY_MODEL_cdc5d8732fc8483686cb90ec4ff61a20",
        "IPY_MODEL_a287993cfae240a3a74e25edfa5f9244",
        "IPY_MODEL_34a86cb978844d2f9e58449532f1546f",
        "IPY_MODEL_cb5f63b2e4d04476b533114644917bc3",
        "IPY_MODEL_9880909d4d564f668c7e5c7e8073b377",
        "IPY_MODEL_627c2c3098c74b13a0477ecf15541826"
       ],
       "layout": "IPY_MODEL_9b1dc56f634e4098915fa3ca5140b96e"
      }
     },
     "1a353202fb51410b8fecdb9dab414c5a": {
      "model_module": "@jupyter-widgets/controls",
      "model_module_version": "1.5.0",
      "model_name": "ButtonStyleModel",
      "state": {}
     },
     "1be5e2a1a2534d6780c0de031a9d30ae": {
      "model_module": "@jupyter-widgets/controls",
      "model_module_version": "1.5.0",
      "model_name": "IntSliderModel",
      "state": {
       "description": "Pixels por polegada:",
       "layout": "IPY_MODEL_e1d4e4f26b2d499da4a3382a3e8e4466",
       "max": 300,
       "min": 10,
       "style": "IPY_MODEL_37ebf20c1f4b4fc58df744cf25aa49b0",
       "value": 80
      }
     },
     "1dd8ac55dc1e43339377732a276e327f": {
      "model_module": "@jupyter-widgets/controls",
      "model_module_version": "1.5.0",
      "model_name": "ButtonStyleModel",
      "state": {}
     },
     "206f833da9904a00812e4f8682aabb8b": {
      "model_module": "@jupyter-widgets/controls",
      "model_module_version": "1.5.0",
      "model_name": "SliderStyleModel",
      "state": {
       "description_width": "initial"
      }
     },
     "20ee6475598d45e7b13b6bd03899b03d": {
      "model_module": "@jupyter-widgets/controls",
      "model_module_version": "1.5.0",
      "model_name": "LabelModel",
      "state": {
       "layout": "IPY_MODEL_191d9cbf744840f7b790763474d8cbe9",
       "style": "IPY_MODEL_c526414f80074f7c9bdf44fc4d8434b0",
       "value": "Número de pontos ="
      }
     },
     "2178594b9b0046aca3af0769034999ca": {
      "model_module": "@jupyter-widgets/controls",
      "model_module_version": "1.5.0",
      "model_name": "DropdownModel",
      "state": {
       "_options_labels": [
        "densidades de probabilidades",
        "funções de onda (parte real, +)",
        "funções de onda (parte imaginária)"
       ],
       "description": "Plotar as",
       "index": 0,
       "layout": "IPY_MODEL_56ca8dc3696644b9aa62b9ef749db1b0",
       "style": "IPY_MODEL_d20cf73a820a44fd87fe6a5f3e4fea91"
      }
     },
     "2245dcaaa2f64e3c89b40f6101e80e66": {
      "model_module": "@jupyter-widgets/controls",
      "model_module_version": "1.5.0",
      "model_name": "DescriptionStyleModel",
      "state": {
       "description_width": ""
      }
     },
     "2302c457287d461b9c0c00146489e98f": {
      "model_module": "@jupyter-widgets/base",
      "model_module_version": "1.2.0",
      "model_name": "LayoutModel",
      "state": {}
     },
     "2492d4c646b84c42b799b4a82a7f704c": {
      "model_module": "@jupyter-widgets/controls",
      "model_module_version": "1.5.0",
      "model_name": "SliderStyleModel",
      "state": {
       "description_width": "initial"
      }
     },
     "256c18b15b8c439a8382d57ed415ad91": {
      "model_module": "@jupyter-widgets/controls",
      "model_module_version": "1.5.0",
      "model_name": "TabModel",
      "state": {
       "_titles": {
        "0": "Gerar o Sistema",
        "1": "Funções de Onda"
       },
       "children": [
        "IPY_MODEL_c6b1cd7714844785834fd02ac13b8791",
        "IPY_MODEL_aeb75b73c50f4976b6b6e57391203a49"
       ],
       "layout": "IPY_MODEL_f9571fd3c1054ecd951c2f7905398cb7",
       "selected_index": 1
      }
     },
     "2663e131757c49fd8cd202f68c466775": {
      "model_module": "@jupyter-widgets/controls",
      "model_module_version": "1.5.0",
      "model_name": "LabelModel",
      "state": {
       "layout": "IPY_MODEL_aba4f5c085ff47c28ac5ceda1d8d4b1e",
       "style": "IPY_MODEL_f66780b566f64f7ca5a0940e09f4377f",
       "value": "V(x)[min,max] (eV) ="
      }
     },
     "2d1052112add43269ca949fb4193ddda": {
      "model_module": "@jupyter-widgets/base",
      "model_module_version": "1.2.0",
      "model_name": "LayoutModel",
      "state": {}
     },
     "2e57294f2e8843d3b7fa72b53dfeab30": {
      "model_module": "@jupyter-widgets/controls",
      "model_module_version": "1.5.0",
      "model_name": "DescriptionStyleModel",
      "state": {
       "description_width": "initial"
      }
     },
     "32eabaecae85490db97a5b0e6ccf6e08": {
      "model_module": "@jupyter-widgets/base",
      "model_module_version": "1.2.0",
      "model_name": "LayoutModel",
      "state": {}
     },
     "3483000d6ec248c196fd485bcb3504a1": {
      "model_module": "@jupyter-widgets/controls",
      "model_module_version": "1.5.0",
      "model_name": "ButtonStyleModel",
      "state": {}
     },
     "34a86cb978844d2f9e58449532f1546f": {
      "model_module": "@jupyter-widgets/controls",
      "model_module_version": "1.5.0",
      "model_name": "FloatRangeSliderModel",
      "state": {
       "_model_name": "FloatRangeSliderModel",
       "_view_name": "FloatRangeSliderView",
       "description": "Limites do eixo y (eV):",
       "layout": "IPY_MODEL_104be8a181874b009adcf4e868f42e5e",
       "max": 10,
       "min": -10,
       "readout_format": ".1f",
       "step": 0.005,
       "style": "IPY_MODEL_c0b70b9b251940c68ff77f4e6d4518ba",
       "value": [
        -2,
        2
       ]
      }
     },
     "34c480fb95c549c0bed6677d7cbb1fef": {
      "model_module": "@jupyter-widgets/controls",
      "model_module_version": "1.5.0",
      "model_name": "ButtonStyleModel",
      "state": {}
     },
     "36c90b23ce0e453abb4fc146a9c06bd9": {
      "model_module": "@jupyter-widgets/base",
      "model_module_version": "1.2.0",
      "model_name": "LayoutModel",
      "state": {}
     },
     "37ebf20c1f4b4fc58df744cf25aa49b0": {
      "model_module": "@jupyter-widgets/controls",
      "model_module_version": "1.5.0",
      "model_name": "SliderStyleModel",
      "state": {
       "description_width": "initial"
      }
     },
     "391d0b38fa3244a3b0e066c5b1ae9531": {
      "model_module": "@jupyter-widgets/base",
      "model_module_version": "1.2.0",
      "model_name": "LayoutModel",
      "state": {}
     },
     "39e3552f2ba748a495b5eb7fd8e87350": {
      "model_module": "@jupyter-widgets/controls",
      "model_module_version": "1.5.0",
      "model_name": "LabelModel",
      "state": {
       "layout": "IPY_MODEL_af0f44e739f845fca1e9701b3bac3095",
       "style": "IPY_MODEL_120d1d289ed64e8db05a11da1efb5de2",
       "value": "L"
      }
     },
     "3a11357bd1df481badeba0dd6eccad09": {
      "model_module": "@jupyter-widgets/base",
      "model_module_version": "1.2.0",
      "model_name": "LayoutModel",
      "state": {}
     },
     "3aad75c5e6744e669a7b2601785c7eef": {
      "model_module": "@jupyter-widgets/controls",
      "model_module_version": "1.5.0",
      "model_name": "LabelModel",
      "state": {
       "layout": "IPY_MODEL_3a11357bd1df481badeba0dd6eccad09",
       "style": "IPY_MODEL_111c3e431e934218824974899a053f88",
       "value": " 550"
      }
     },
     "3cb8a8a21a7147c2884149c2ed93f199": {
      "model_module": "@jupyter-widgets/base",
      "model_module_version": "1.2.0",
      "model_name": "LayoutModel",
      "state": {}
     },
     "3ce4cb91ebf241348302e912e4ee9273": {
      "model_module": "@jupyter-widgets/controls",
      "model_module_version": "1.5.0",
      "model_name": "ButtonModel",
      "state": {
       "description": "Pöschl–Teller",
       "layout": "IPY_MODEL_32eabaecae85490db97a5b0e6ccf6e08",
       "style": "IPY_MODEL_69c7bd94dd9b4780880de36641d1ebce"
      }
     },
     "409718fd13954fe0a719253e1898c3f7": {
      "model_module": "@jupyter-widgets/base",
      "model_module_version": "1.2.0",
      "model_name": "LayoutModel",
      "state": {}
     },
     "43d50f78025b48b78ae5d2ccd7e6f5f3": {
      "model_module": "@jupyter-widgets/base",
      "model_module_version": "1.2.0",
      "model_name": "LayoutModel",
      "state": {}
     },
     "45e2944617ad44c284b7dd312025efe2": {
      "model_module": "@jupyter-widgets/controls",
      "model_module_version": "1.5.0",
      "model_name": "ButtonStyleModel",
      "state": {}
     },
     "461a47965073459a9edbb26b1ff1348f": {
      "model_module": "@jupyter-widgets/controls",
      "model_module_version": "1.5.0",
      "model_name": "TextModel",
      "state": {
       "description": "Expressão de $V(x)$: ",
       "layout": "IPY_MODEL_e1d4e4f26b2d499da4a3382a3e8e4466",
       "placeholder": "Escreva a expressão aqui.",
       "style": "IPY_MODEL_4a95f1b44dbc417cb495d8a57526657c",
       "value": "-0.05*x/ang"
      }
     },
     "46516f9d90864956b2656ce4406e4605": {
      "model_module": "@jupyter-widgets/base",
      "model_module_version": "1.2.0",
      "model_name": "LayoutModel",
      "state": {}
     },
     "46b28cbc4b744575923cd034d2b86af8": {
      "model_module": "@jupyter-widgets/controls",
      "model_module_version": "1.5.0",
      "model_name": "LabelModel",
      "state": {
       "layout": "IPY_MODEL_e37847b69a0d416ba52aa49f2feab1dd",
       "style": "IPY_MODEL_e46cae0b0e9649c8a26e45d49f73deba",
       "value": "Passo $\\Delta x $ (angstroms) ="
      }
     },
     "49ed86399c2b44c48f69158cc81445c3": {
      "model_module": "@jupyter-widgets/controls",
      "model_module_version": "1.5.0",
      "model_name": "FloatRangeSliderModel",
      "state": {
       "_model_name": "FloatRangeSliderModel",
       "_view_name": "FloatRangeSliderView",
       "continuous_update": false,
       "description": "Domínio de $\\Psi(x)$: ",
       "layout": "IPY_MODEL_104be8a181874b009adcf4e868f42e5e",
       "max": 150,
       "min": -150,
       "readout_format": "1d",
       "style": "IPY_MODEL_f328fa0ea5d34461a8ba28c97d4b1b57",
       "value": [
        -35,
        35
       ]
      }
     },
     "4a12ee6b564743fa8dc9a5a2f0ffd0d3": {
      "model_module": "@jupyter-widgets/base",
      "model_module_version": "1.2.0",
      "model_name": "LayoutModel",
      "state": {}
     },
     "4a4749ff9453488bb367267d647ca31f": {
      "model_module": "@jupyter-widgets/controls",
      "model_module_version": "1.5.0",
      "model_name": "GridBoxModel",
      "state": {
       "children": [
        "IPY_MODEL_46b28cbc4b744575923cd034d2b86af8",
        "IPY_MODEL_87e0ee0665084cd99acde1748d8f254e",
        "IPY_MODEL_748c3fe4390c4c209801f49db847fc27",
        "IPY_MODEL_39e3552f2ba748a495b5eb7fd8e87350",
        "IPY_MODEL_2663e131757c49fd8cd202f68c466775",
        "IPY_MODEL_7084cb8878a14628b86cbf336f81bc77",
        "IPY_MODEL_93c6d6b51e024dd7b028d732d5256e10",
        "IPY_MODEL_6131063de6e747258f611e7f5e4543e0",
        "IPY_MODEL_20ee6475598d45e7b13b6bd03899b03d",
        "IPY_MODEL_77e24947a19044ddb62b5658f30f4473"
       ],
       "layout": "IPY_MODEL_054539a2ab1e4c17823170e04cea3d52"
      }
     },
     "4a95f1b44dbc417cb495d8a57526657c": {
      "model_module": "@jupyter-widgets/controls",
      "model_module_version": "1.5.0",
      "model_name": "DescriptionStyleModel",
      "state": {
       "description_width": "initial"
      }
     },
     "4c56fb78e2c147c08ace14154175ea87": {
      "model_module": "@jupyter-widgets/controls",
      "model_module_version": "1.5.0",
      "model_name": "SliderStyleModel",
      "state": {
       "description_width": "initial"
      }
     },
     "4c5d954ac8b64856ada83857974ba254": {
      "model_module": "@jupyter-widgets/base",
      "model_module_version": "1.2.0",
      "model_name": "LayoutModel",
      "state": {}
     },
     "4c7230e4b623473a8e56efaf8f108281": {
      "model_module": "@jupyter-widgets/controls",
      "model_module_version": "1.5.0",
      "model_name": "DescriptionStyleModel",
      "state": {
       "description_width": "initial"
      }
     },
     "4ffaf156de5e425d9fdeba745311b684": {
      "model_module": "@jupyter-widgets/controls",
      "model_module_version": "1.5.0",
      "model_name": "ButtonStyleModel",
      "state": {}
     },
     "510e3666af4b4b49aae864d81afba4fc": {
      "model_module": "@jupyter-widgets/base",
      "model_module_version": "1.2.0",
      "model_name": "LayoutModel",
      "state": {}
     },
     "516c7f1966a348b79c2845a69dff130c": {
      "model_module": "@jupyter-widgets/controls",
      "model_module_version": "1.5.0",
      "model_name": "DescriptionStyleModel",
      "state": {
       "description_width": "initial"
      }
     },
     "51d572c357fb4789a406103056ff519c": {
      "model_module": "@jupyter-widgets/controls",
      "model_module_version": "1.5.0",
      "model_name": "ButtonModel",
      "state": {
       "description": "Gerar",
       "layout": "IPY_MODEL_be4c8c930713458f8f1b95d09c9a8de7",
       "style": "IPY_MODEL_fb764dc09b0e4cdc8ba181349ec9526a"
      }
     },
     "5318822f3dde4b6991e33c7fbed9992c": {
      "model_module": "@jupyter-widgets/base",
      "model_module_version": "1.2.0",
      "model_name": "LayoutModel",
      "state": {}
     },
     "56ca8dc3696644b9aa62b9ef749db1b0": {
      "model_module": "@jupyter-widgets/base",
      "model_module_version": "1.2.0",
      "model_name": "LayoutModel",
      "state": {}
     },
     "57244f02797f4d1e83965f9c35b45cbf": {
      "model_module": "@jupyter-widgets/base",
      "model_module_version": "1.2.0",
      "model_name": "LayoutModel",
      "state": {}
     },
     "576b3ddb3f9046888c62fb9b2adcb3e2": {
      "model_module": "@jupyter-widgets/controls",
      "model_module_version": "1.5.0",
      "model_name": "SliderStyleModel",
      "state": {
       "description_width": "initial"
      }
     },
     "58ed0d55d264446990eebe466bda36e9": {
      "model_module": "@jupyter-widgets/controls",
      "model_module_version": "1.5.0",
      "model_name": "IntSliderModel",
      "state": {
       "description": "Largura da imagem (polegadas):",
       "layout": "IPY_MODEL_104be8a181874b009adcf4e868f42e5e",
       "max": 20,
       "style": "IPY_MODEL_2492d4c646b84c42b799b4a82a7f704c",
       "value": 16
      }
     },
     "5aba5d4ab7364c4eabc3f2aae35a037c": {
      "model_module": "@jupyter-widgets/base",
      "model_module_version": "1.2.0",
      "model_name": "LayoutModel",
      "state": {}
     },
     "5ca56c4c6ea3460d849339fae4b5752c": {
      "model_module": "@jupyter-widgets/controls",
      "model_module_version": "1.5.0",
      "model_name": "VBoxModel",
      "state": {
       "children": [
        "IPY_MODEL_f177f5b214f04a81b29dd5dae11d97ba",
        "IPY_MODEL_c524b3bfd5114007aa99ea354208f506",
        "IPY_MODEL_652051df273948298466ffc8718113fa"
       ],
       "layout": "IPY_MODEL_c696ae336bf44c6e88da4c74bdaa4d4e"
      }
     },
     "5d3cec2e1935434982d024bd7b7d08a7": {
      "model_module": "@jupyter-widgets/base",
      "model_module_version": "1.2.0",
      "model_name": "LayoutModel",
      "state": {}
     },
     "5d87cf771db344cba89e79aceefc093b": {
      "model_module": "@jupyter-widgets/base",
      "model_module_version": "1.2.0",
      "model_name": "LayoutModel",
      "state": {}
     },
     "5d88f3027e7b4e1f91d4907f818e19c0": {
      "model_module": "@jupyter-widgets/controls",
      "model_module_version": "1.5.0",
      "model_name": "GridBoxModel",
      "state": {
       "children": [
        "IPY_MODEL_a865d5754dbf4f73ad1ec7c456117adb",
        "IPY_MODEL_6f66acf85cd042cd9611eeaf5a1d02cc",
        "IPY_MODEL_16294a9a26b84aa7ad82ac9f4ac7f7ad",
        "IPY_MODEL_980732cfc5fb47ff96851fcaa2b38f19",
        "IPY_MODEL_6c12e33199ae46498f341961ef8959d9",
        "IPY_MODEL_9a5a38c512b24ddba523620db8476afe",
        "IPY_MODEL_d8d98be10be149e5a22c1101c8a2a62b",
        "IPY_MODEL_7583892b99094ccb884a8978a36753b5",
        "IPY_MODEL_12e82e0666d741178b77c974ec373d14",
        "IPY_MODEL_3aad75c5e6744e669a7b2601785c7eef"
       ],
       "layout": "IPY_MODEL_62547451c1f7439eb1e0a9bbfcbe164a"
      }
     },
     "607ccf2b75624bc1bb7ea8a68042dec1": {
      "model_module": "@jupyter-widgets/controls",
      "model_module_version": "1.5.0",
      "model_name": "SliderStyleModel",
      "state": {
       "description_width": "initial"
      }
     },
     "60d0d15b0a3245b59fad64adc24118a6": {
      "model_module": "@jupyter-widgets/controls",
      "model_module_version": "1.5.0",
      "model_name": "SliderStyleModel",
      "state": {
       "description_width": "initial"
      }
     },
     "61100739019d43109de5490e5e00d97e": {
      "model_module": "@jupyter-widgets/controls",
      "model_module_version": "1.5.0",
      "model_name": "CheckboxModel",
      "state": {
       "description": "Auto limitar eixo y",
       "disabled": false,
       "layout": "IPY_MODEL_0599839630014b7d941b5752a3d01c61",
       "style": "IPY_MODEL_4c7230e4b623473a8e56efaf8f108281",
       "value": true
      }
     },
     "6131063de6e747258f611e7f5e4543e0": {
      "model_module": "@jupyter-widgets/controls",
      "model_module_version": "1.5.0",
      "model_name": "LabelModel",
      "state": {
       "layout": "IPY_MODEL_391d0b38fa3244a3b0e066c5b1ae9531",
       "style": "IPY_MODEL_f552510c802748389e72c19db79d1ebc"
      }
     },
     "62547451c1f7439eb1e0a9bbfcbe164a": {
      "model_module": "@jupyter-widgets/base",
      "model_module_version": "1.2.0",
      "model_name": "LayoutModel",
      "state": {
       "grid_template_columns": "repeat(2, 250px)"
      }
     },
     "627c2c3098c74b13a0477ecf15541826": {
      "model_module": "@jupyter-widgets/output",
      "model_module_version": "1.0.0",
      "model_name": "OutputModel",
      "state": {
       "layout": "IPY_MODEL_eedea3faa2aa4acea69d1625ada760bf"
      }
     },
     "6318c7ddc05e4a338877318e026f08eb": {
      "model_module": "@jupyter-widgets/controls",
      "model_module_version": "1.5.0",
      "model_name": "DropdownModel",
      "state": {
       "_options_labels": [
        "densidades de probabilidades",
        "funções de onda (parte real, +)",
        "funções de onda (parte imaginária)"
       ],
       "description": "Plotar as",
       "index": 0,
       "layout": "IPY_MODEL_4a12ee6b564743fa8dc9a5a2f0ffd0d3",
       "style": "IPY_MODEL_f34fc4f63c5141cca8764ef557b4a385"
      }
     },
     "652051df273948298466ffc8718113fa": {
      "model_module": "@jupyter-widgets/controls",
      "model_module_version": "1.5.0",
      "model_name": "AccordionModel",
      "state": {
       "_titles": {
        "0": "Diagonalizar/Informações"
       },
       "children": [
        "IPY_MODEL_0c7b99c4c5be42c7aeb62b7e432d5242"
       ],
       "layout": "IPY_MODEL_f2af17ee09fb45f1a218ea41fcf5d9cb",
       "selected_index": null
      }
     },
     "669d610943ad4c338a6f5a408d346c50": {
      "model_module": "@jupyter-widgets/controls",
      "model_module_version": "1.5.0",
      "model_name": "ButtonModel",
      "state": {
       "description": "Plotar",
       "layout": "IPY_MODEL_8f4f964bb2a543caab6d978dabae6728",
       "style": "IPY_MODEL_a8b488b1b614463f8d41d8acaf72a8d9"
      }
     },
     "67c3c63449b94c9284b02b6e82947091": {
      "model_module": "@jupyter-widgets/controls",
      "model_module_version": "1.5.0",
      "model_name": "GridBoxModel",
      "state": {
       "children": [
        "IPY_MODEL_8c628e6bcf034cde8b5d2137472fdecd",
        "IPY_MODEL_fe72b1f9384348a58066c2af3358389d",
        "IPY_MODEL_0a829cc9fcd0460db2b69fb9e6d44a46",
        "IPY_MODEL_f3130e5a6ec6439ea7e1724abac78dcf",
        "IPY_MODEL_9872efa2c540472a9b815a3e92b08dd3",
        "IPY_MODEL_7b3ab4d62dfd418e8b35e24ab24054ec",
        "IPY_MODEL_ed6714282c3d4a40a45665cdf8fa3ad0",
        "IPY_MODEL_b00eebba838046a0bfd0d0c9b7569dff",
        "IPY_MODEL_892f7597ad474bd09784cb02c6dc0cbe",
        "IPY_MODEL_daf58e8d5e3b4ba09f3840bbe912de47"
       ],
       "layout": "IPY_MODEL_892e0ac6705848adb78c9ad0b9c83d77"
      }
     },
     "69c7bd94dd9b4780880de36641d1ebce": {
      "model_module": "@jupyter-widgets/controls",
      "model_module_version": "1.5.0",
      "model_name": "ButtonStyleModel",
      "state": {}
     },
     "6c12e33199ae46498f341961ef8959d9": {
      "model_module": "@jupyter-widgets/controls",
      "model_module_version": "1.5.0",
      "model_name": "LabelModel",
      "state": {
       "layout": "IPY_MODEL_0bfac712e24f4614b2e28dfb27790017",
       "style": "IPY_MODEL_116dbdf3a4d24588a456297d30e9bafc",
       "value": "V(x)[min,max] (eV) ="
      }
     },
     "6c12f5f00a124b5889f7c81a3acc908d": {
      "model_module": "@jupyter-widgets/controls",
      "model_module_version": "1.5.0",
      "model_name": "DescriptionStyleModel",
      "state": {
       "description_width": ""
      }
     },
     "6c3b5fcd5e554a949b4cbda20012cf39": {
      "model_module": "@jupyter-widgets/base",
      "model_module_version": "1.2.0",
      "model_name": "LayoutModel",
      "state": {}
     },
     "6cfa27fb846346cc8dc7255a47bf1aab": {
      "model_module": "@jupyter-widgets/controls",
      "model_module_version": "1.5.0",
      "model_name": "ButtonModel",
      "state": {
       "description": "Morse",
       "layout": "IPY_MODEL_3cb8a8a21a7147c2884149c2ed93f199",
       "style": "IPY_MODEL_1a353202fb51410b8fecdb9dab414c5a"
      }
     },
     "6d958fffba8d43fca6d8105faa240fb2": {
      "model_module": "@jupyter-widgets/controls",
      "model_module_version": "1.5.0",
      "model_name": "IntSliderModel",
      "state": {
       "continuous_update": false,
       "description": "Número de pontos: ",
       "layout": "IPY_MODEL_104be8a181874b009adcf4e868f42e5e",
       "max": 1050,
       "min": 50,
       "step": 10,
       "style": "IPY_MODEL_971000b6132844c48e0aa60b481ddcf1",
       "value": 550
      }
     },
     "6f66acf85cd042cd9611eeaf5a1d02cc": {
      "model_module": "@jupyter-widgets/controls",
      "model_module_version": "1.5.0",
      "model_name": "LabelModel",
      "state": {
       "layout": "IPY_MODEL_b9a6eadf664b4e9291384ff500d04757",
       "style": "IPY_MODEL_72fec7a6625f4e508dc84b09d7848895",
       "value": " 0.13"
      }
     },
     "7084cb8878a14628b86cbf336f81bc77": {
      "model_module": "@jupyter-widgets/controls",
      "model_module_version": "1.5.0",
      "model_name": "LabelModel",
      "state": {
       "layout": "IPY_MODEL_0b69361eda284ceeb8469747237de1d7",
       "style": "IPY_MODEL_903513f2c82e4a298662fd0d14911dea",
       "value": "[V_min,V_max]"
      }
     },
     "71d836b7a5374b7594860db82d012770": {
      "model_module": "@jupyter-widgets/controls",
      "model_module_version": "1.5.0",
      "model_name": "IntSliderModel",
      "state": {
       "description": "Largura da imagem (polegadas):",
       "layout": "IPY_MODEL_e1d4e4f26b2d499da4a3382a3e8e4466",
       "max": 20,
       "style": "IPY_MODEL_9ede445034b040a187c19764094f16d7",
       "value": 16
      }
     },
     "721b1a06ca68429d96c00d556f730b69": {
      "model_module": "@jupyter-widgets/controls",
      "model_module_version": "1.5.0",
      "model_name": "ButtonModel",
      "state": {
       "description": "Campo Uniforme (+)",
       "layout": "IPY_MODEL_fe10c97df33a4557a913ddce354460ea",
       "style": "IPY_MODEL_078a9ced1a844054a249121997ddad81"
      }
     },
     "72798cd9d89f4e5ab41d9bdbffbe1d30": {
      "model_module": "@jupyter-widgets/base",
      "model_module_version": "1.2.0",
      "model_name": "LayoutModel",
      "state": {}
     },
     "72fec7a6625f4e508dc84b09d7848895": {
      "model_module": "@jupyter-widgets/controls",
      "model_module_version": "1.5.0",
      "model_name": "DescriptionStyleModel",
      "state": {
       "description_width": ""
      }
     },
     "73d00299285e4fb488f0ed7a42ce91ed": {
      "model_module": "@jupyter-widgets/controls",
      "model_module_version": "1.5.0",
      "model_name": "VBoxModel",
      "state": {
       "children": [
        "IPY_MODEL_5d88f3027e7b4e1f91d4907f818e19c0",
        "IPY_MODEL_0b5c23391e0c43dbacf843359ab2fdc1"
       ],
       "layout": "IPY_MODEL_57244f02797f4d1e83965f9c35b45cbf"
      }
     },
     "748c3fe4390c4c209801f49db847fc27": {
      "model_module": "@jupyter-widgets/controls",
      "model_module_version": "1.5.0",
      "model_name": "LabelModel",
      "state": {
       "layout": "IPY_MODEL_409718fd13954fe0a719253e1898c3f7",
       "style": "IPY_MODEL_b9c6b37e62cb4b47833d022fc8eb716d",
       "value": "Largura do domínio (angstroms) ="
      }
     },
     "74ae2f74cbed42abae89e44155b31412": {
      "model_module": "@jupyter-widgets/base",
      "model_module_version": "1.2.0",
      "model_name": "LayoutModel",
      "state": {}
     },
     "7583892b99094ccb884a8978a36753b5": {
      "model_module": "@jupyter-widgets/controls",
      "model_module_version": "1.5.0",
      "model_name": "LabelModel",
      "state": {
       "layout": "IPY_MODEL_46516f9d90864956b2656ce4406e4605",
       "style": "IPY_MODEL_fe71916cf07e49e5a8dfafd56e2f9d7b",
       "value": "-0.05*x/ang"
      }
     },
     "75c63d5c2607472eaa42f438bd5843eb": {
      "model_module": "@jupyter-widgets/controls",
      "model_module_version": "1.5.0",
      "model_name": "IntSliderModel",
      "state": {
       "continuous_update": false,
       "description": "Margens horizontais  (angstroms):   ",
       "layout": "IPY_MODEL_104be8a181874b009adcf4e868f42e5e",
       "style": "IPY_MODEL_206f833da9904a00812e4f8682aabb8b",
       "value": 20
      }
     },
     "765d8b3ba70a4ed99e131e5796278d3e": {
      "model_module": "@jupyter-widgets/base",
      "model_module_version": "1.2.0",
      "model_name": "LayoutModel",
      "state": {}
     },
     "77e24947a19044ddb62b5658f30f4473": {
      "model_module": "@jupyter-widgets/controls",
      "model_module_version": "1.5.0",
      "model_name": "LabelModel",
      "state": {
       "layout": "IPY_MODEL_6c3b5fcd5e554a949b4cbda20012cf39",
       "style": "IPY_MODEL_2245dcaaa2f64e3c89b40f6101e80e66"
      }
     },
     "7a6925e9534c49a5b97edf242a3563d4": {
      "model_module": "@jupyter-widgets/base",
      "model_module_version": "1.2.0",
      "model_name": "LayoutModel",
      "state": {}
     },
     "7a8a25610320474bb767d2a54ebf54ca": {
      "model_module": "@jupyter-widgets/controls",
      "model_module_version": "1.5.0",
      "model_name": "SliderStyleModel",
      "state": {
       "description_width": "initial"
      }
     },
     "7aed935738fd437297213a73428c43e7": {
      "model_module": "@jupyter-widgets/controls",
      "model_module_version": "1.5.0",
      "model_name": "SliderStyleModel",
      "state": {
       "description_width": "initial"
      }
     },
     "7b3ab4d62dfd418e8b35e24ab24054ec": {
      "model_module": "@jupyter-widgets/controls",
      "model_module_version": "1.5.0",
      "model_name": "ButtonModel",
      "state": {
       "description": "Duffing Holmes (+)",
       "layout": "IPY_MODEL_e6c3b818796a4cc1bee95eccf58b06b7",
       "style": "IPY_MODEL_bc26396a03e243f6b56137267919f0c2"
      }
     },
     "7b3ac68e926249ca8734ff0b3237e3c0": {
      "model_module": "@jupyter-widgets/controls",
      "model_module_version": "1.5.0",
      "model_name": "ButtonStyleModel",
      "state": {}
     },
     "7c1b9a3a3f5b47e7a74b9210b48855d1": {
      "model_module": "@jupyter-widgets/controls",
      "model_module_version": "1.5.0",
      "model_name": "ButtonStyleModel",
      "state": {}
     },
     "7c5ade70cd9f4cecb26225318a006fa4": {
      "model_module": "@jupyter-widgets/controls",
      "model_module_version": "1.5.0",
      "model_name": "VBoxModel",
      "state": {
       "_dom_classes": [
        "widget-interact"
       ],
       "children": [
        "IPY_MODEL_0e88d8b4e6cd496da53cae2a0948c83b",
        "IPY_MODEL_8398665f83da4c7ea57e7b92bb241aa4",
        "IPY_MODEL_461a47965073459a9edbb26b1ff1348f",
        "IPY_MODEL_ef937a4934a24b8bad93c04611a6ed65",
        "IPY_MODEL_d32bb80289304db5b21da6b9bdd2049b"
       ],
       "layout": "IPY_MODEL_dd4befb50ce649aa87dacc65b96dac8e"
      }
     },
     "7fd29032188d4a33b2c9a2dd693b1ec2": {
      "model_module": "@jupyter-widgets/controls",
      "model_module_version": "1.5.0",
      "model_name": "DescriptionStyleModel",
      "state": {
       "description_width": ""
      }
     },
     "8398665f83da4c7ea57e7b92bb241aa4": {
      "model_module": "@jupyter-widgets/controls",
      "model_module_version": "1.5.0",
      "model_name": "IntSliderModel",
      "state": {
       "continuous_update": false,
       "description": "Número de pontos: ",
       "layout": "IPY_MODEL_e1d4e4f26b2d499da4a3382a3e8e4466",
       "max": 1050,
       "min": 50,
       "step": 10,
       "style": "IPY_MODEL_60d0d15b0a3245b59fad64adc24118a6",
       "value": 550
      }
     },
     "85956283f0bd4fcaabe3017c84486ded": {
      "model_module": "@jupyter-widgets/base",
      "model_module_version": "1.2.0",
      "model_name": "LayoutModel",
      "state": {}
     },
     "87e0ee0665084cd99acde1748d8f254e": {
      "model_module": "@jupyter-widgets/controls",
      "model_module_version": "1.5.0",
      "model_name": "LabelModel",
      "state": {
       "layout": "IPY_MODEL_06ef426a2ef946c79dfbddebb3dac20b",
       "style": "IPY_MODEL_8b488b2793b44932a6a699c4034264f5",
       "value": "dx"
      }
     },
     "881f38ebda4044c6b0bff1c17329be43": {
      "model_module": "@jupyter-widgets/base",
      "model_module_version": "1.2.0",
      "model_name": "LayoutModel",
      "state": {}
     },
     "892e0ac6705848adb78c9ad0b9c83d77": {
      "model_module": "@jupyter-widgets/base",
      "model_module_version": "1.2.0",
      "model_name": "LayoutModel",
      "state": {
       "grid_template_columns": "repeat(auto-fill, 180px)"
      }
     },
     "892f7597ad474bd09784cb02c6dc0cbe": {
      "model_module": "@jupyter-widgets/controls",
      "model_module_version": "1.5.0",
      "model_name": "ButtonModel",
      "state": {
       "description": "Morse",
       "layout": "IPY_MODEL_72798cd9d89f4e5ab41d9bdbffbe1d30",
       "style": "IPY_MODEL_34c480fb95c549c0bed6677d7cbb1fef"
      }
     },
     "8b488b2793b44932a6a699c4034264f5": {
      "model_module": "@jupyter-widgets/controls",
      "model_module_version": "1.5.0",
      "model_name": "DescriptionStyleModel",
      "state": {
       "description_width": ""
      }
     },
     "8c4d6f855805452781e7e3ebc138ae89": {
      "model_module": "@jupyter-widgets/base",
      "model_module_version": "1.2.0",
      "model_name": "LayoutModel",
      "state": {}
     },
     "8c628e6bcf034cde8b5d2137472fdecd": {
      "model_module": "@jupyter-widgets/controls",
      "model_module_version": "1.5.0",
      "model_name": "ButtonModel",
      "state": {
       "description": "Poço Infinito",
       "layout": "IPY_MODEL_765d8b3ba70a4ed99e131e5796278d3e",
       "style": "IPY_MODEL_ce9921ca9c954acead6da870a5fefb6c"
      }
     },
     "8ea35cc951f74d6d86843d244f016e59": {
      "model_module": "@jupyter-widgets/controls",
      "model_module_version": "1.5.0",
      "model_name": "FloatRangeSliderModel",
      "state": {
       "_model_name": "FloatRangeSliderModel",
       "_view_name": "FloatRangeSliderView",
       "description": "Limites do eixo y (eV):",
       "layout": "IPY_MODEL_e1d4e4f26b2d499da4a3382a3e8e4466",
       "max": 10,
       "min": -10,
       "readout_format": ".1f",
       "step": 0.005,
       "style": "IPY_MODEL_607ccf2b75624bc1bb7ea8a68042dec1",
       "value": [
        -2,
        2
       ]
      }
     },
     "8ed84027cc9b4bc7a0fc85000ec16100": {
      "model_module": "@jupyter-widgets/base",
      "model_module_version": "1.2.0",
      "model_name": "LayoutModel",
      "state": {}
     },
     "8f4f964bb2a543caab6d978dabae6728": {
      "model_module": "@jupyter-widgets/base",
      "model_module_version": "1.2.0",
      "model_name": "LayoutModel",
      "state": {}
     },
     "8f7fe591d3ed485bb648eab57f781ea1": {
      "model_module": "@jupyter-widgets/base",
      "model_module_version": "1.2.0",
      "model_name": "LayoutModel",
      "state": {}
     },
     "903513f2c82e4a298662fd0d14911dea": {
      "model_module": "@jupyter-widgets/controls",
      "model_module_version": "1.5.0",
      "model_name": "DescriptionStyleModel",
      "state": {
       "description_width": ""
      }
     },
     "915f5411a15c4e65a4fcdd4cde5a7328": {
      "model_module": "@jupyter-widgets/controls",
      "model_module_version": "1.5.0",
      "model_name": "ButtonStyleModel",
      "state": {}
     },
     "935fb7d9ec484d3b858a2b07be08bc75": {
      "model_module": "@jupyter-widgets/base",
      "model_module_version": "1.2.0",
      "model_name": "LayoutModel",
      "state": {}
     },
     "93c6d6b51e024dd7b028d732d5256e10": {
      "model_module": "@jupyter-widgets/controls",
      "model_module_version": "1.5.0",
      "model_name": "LabelModel",
      "state": {
       "layout": "IPY_MODEL_5d87cf771db344cba89e79aceefc093b",
       "style": "IPY_MODEL_c1c13c68015d4059937671f6e02282cd",
       "value": "Expressão V(x) ="
      }
     },
     "95be8c44cf104d91864d67aa4e4d974a": {
      "model_module": "@jupyter-widgets/controls",
      "model_module_version": "1.5.0",
      "model_name": "ButtonStyleModel",
      "state": {}
     },
     "971000b6132844c48e0aa60b481ddcf1": {
      "model_module": "@jupyter-widgets/controls",
      "model_module_version": "1.5.0",
      "model_name": "SliderStyleModel",
      "state": {
       "description_width": "initial"
      }
     },
     "980732cfc5fb47ff96851fcaa2b38f19": {
      "model_module": "@jupyter-widgets/controls",
      "model_module_version": "1.5.0",
      "model_name": "LabelModel",
      "state": {
       "layout": "IPY_MODEL_85956283f0bd4fcaabe3017c84486ded",
       "style": "IPY_MODEL_e185677fcb364da99466254f3a2440b0",
       "value": " 70.00"
      }
     },
     "9872efa2c540472a9b815a3e92b08dd3": {
      "model_module": "@jupyter-widgets/controls",
      "model_module_version": "1.5.0",
      "model_name": "ButtonModel",
      "state": {
       "description": "Oscilador Harmônico",
       "layout": "IPY_MODEL_5d3cec2e1935434982d024bd7b7d08a7",
       "style": "IPY_MODEL_95be8c44cf104d91864d67aa4e4d974a"
      }
     },
     "9880909d4d564f668c7e5c7e8073b377": {
      "model_module": "@jupyter-widgets/controls",
      "model_module_version": "1.5.0",
      "model_name": "ButtonModel",
      "state": {
       "description": "Plotar",
       "disabled": true,
       "layout": "IPY_MODEL_935fb7d9ec484d3b858a2b07be08bc75",
       "style": "IPY_MODEL_1487f14da4e84ea4b62ebee9744853f1"
      }
     },
     "9936f6a9c6d64f428c5baba2fc738db3": {
      "model_module": "@jupyter-widgets/base",
      "model_module_version": "1.2.0",
      "model_name": "LayoutModel",
      "state": {}
     },
     "9a5a38c512b24ddba523620db8476afe": {
      "model_module": "@jupyter-widgets/controls",
      "model_module_version": "1.5.0",
      "model_name": "LabelModel",
      "state": {
       "layout": "IPY_MODEL_36c90b23ce0e453abb4fc146a9c06bd9",
       "style": "IPY_MODEL_7fd29032188d4a33b2c9a2dd693b1ec2",
       "value": "[-1.75000 , 1.75000]"
      }
     },
     "9b1dc56f634e4098915fa3ca5140b96e": {
      "model_module": "@jupyter-widgets/base",
      "model_module_version": "1.2.0",
      "model_name": "LayoutModel",
      "state": {}
     },
     "9b72927e28cc44ad874edc673dc743a4": {
      "model_module": "@jupyter-widgets/base",
      "model_module_version": "1.2.0",
      "model_name": "LayoutModel",
      "state": {}
     },
     "9c53d0de5cfc4d7dadf3c3338f0aab7c": {
      "model_module": "@jupyter-widgets/base",
      "model_module_version": "1.2.0",
      "model_name": "LayoutModel",
      "state": {}
     },
     "9dc6c939e56c4124b0fed75d457901ae": {
      "model_module": "@jupyter-widgets/base",
      "model_module_version": "1.2.0",
      "model_name": "LayoutModel",
      "state": {}
     },
     "9e7d32a151384c89a56fc3beefef4499": {
      "model_module": "@jupyter-widgets/base",
      "model_module_version": "1.2.0",
      "model_name": "LayoutModel",
      "state": {}
     },
     "9e8775f781ec4cfdae54f607a4ad6a4d": {
      "model_module": "@jupyter-widgets/controls",
      "model_module_version": "1.5.0",
      "model_name": "GridBoxModel",
      "state": {
       "children": [
        "IPY_MODEL_c24c37cb051a426ebac6e10f9bd7e5e3",
        "IPY_MODEL_e2885a4bd34e4af68c7491cacdf9a60d",
        "IPY_MODEL_721b1a06ca68429d96c00d556f730b69",
        "IPY_MODEL_c968c40bc6a84bd0b0347dcb672df858",
        "IPY_MODEL_dea4aaeceafa4feba0b2b276c5a8ac20",
        "IPY_MODEL_0859a9438e0f4d96a390da6500a04f11",
        "IPY_MODEL_f44e0f5352b14bb5bcac2b1d127b08ed",
        "IPY_MODEL_f15961b5a1694d3c88e8fc05785ca91f",
        "IPY_MODEL_6cfa27fb846346cc8dc7255a47bf1aab",
        "IPY_MODEL_3ce4cb91ebf241348302e912e4ee9273"
       ],
       "layout": "IPY_MODEL_f9fb9684c7b04598aa8d0e5b1c6519db"
      }
     },
     "9ede445034b040a187c19764094f16d7": {
      "model_module": "@jupyter-widgets/controls",
      "model_module_version": "1.5.0",
      "model_name": "SliderStyleModel",
      "state": {
       "description_width": "initial"
      }
     },
     "a0909888bccd4e31a25ad063ed230371": {
      "model_module": "@jupyter-widgets/controls",
      "model_module_version": "1.5.0",
      "model_name": "ButtonStyleModel",
      "state": {}
     },
     "a0d238d600bf4687a28b91de8bbe844c": {
      "model_module": "@jupyter-widgets/controls",
      "model_module_version": "1.5.0",
      "model_name": "SliderStyleModel",
      "state": {
       "description_width": "initial"
      }
     },
     "a287993cfae240a3a74e25edfa5f9244": {
      "model_module": "@jupyter-widgets/controls",
      "model_module_version": "1.5.0",
      "model_name": "IntSliderModel",
      "state": {
       "description": "Pixels por polegada:",
       "layout": "IPY_MODEL_104be8a181874b009adcf4e868f42e5e",
       "max": 300,
       "min": 10,
       "style": "IPY_MODEL_f8131a65fe9847b480b1a1c1e4724340",
       "value": 80
      }
     },
     "a865d5754dbf4f73ad1ec7c456117adb": {
      "model_module": "@jupyter-widgets/controls",
      "model_module_version": "1.5.0",
      "model_name": "LabelModel",
      "state": {
       "layout": "IPY_MODEL_f759b37bbacd45f4bb8240cf93e8a3bd",
       "style": "IPY_MODEL_ebfa8c944e38493cb6d31127b4ae4890",
       "value": "Passo $\\Delta x $ (angstroms) ="
      }
     },
     "a8b488b1b614463f8d41d8acaf72a8d9": {
      "model_module": "@jupyter-widgets/controls",
      "model_module_version": "1.5.0",
      "model_name": "ButtonStyleModel",
      "state": {}
     },
     "a9c7579162454d2fa9cb6c2c5751c4ce": {
      "model_module": "@jupyter-widgets/base",
      "model_module_version": "1.2.0",
      "model_name": "LayoutModel",
      "state": {}
     },
     "aba4f5c085ff47c28ac5ceda1d8d4b1e": {
      "model_module": "@jupyter-widgets/base",
      "model_module_version": "1.2.0",
      "model_name": "LayoutModel",
      "state": {}
     },
     "ac057557987749468ed1ba2a8caa4aad": {
      "model_module": "@jupyter-widgets/controls",
      "model_module_version": "1.5.0",
      "model_name": "DescriptionStyleModel",
      "state": {
       "description_width": ""
      }
     },
     "ae416808da1743e2845f7c95b61a9c6f": {
      "model_module": "@jupyter-widgets/base",
      "model_module_version": "1.2.0",
      "model_name": "LayoutModel",
      "state": {}
     },
     "aeb75b73c50f4976b6b6e57391203a49": {
      "model_module": "@jupyter-widgets/controls",
      "model_module_version": "1.5.0",
      "model_name": "VBoxModel",
      "state": {
       "_dom_classes": [
        "widget-interact"
       ],
       "children": [
        "IPY_MODEL_b394e057698a4a19ab4c62e4935d2896",
        "IPY_MODEL_12c6ebbf9347466dabb3a4a5558929a1",
        "IPY_MODEL_2178594b9b0046aca3af0769034999ca",
        "IPY_MODEL_71d836b7a5374b7594860db82d012770",
        "IPY_MODEL_e3159b0780bf4d3da3f5a8c1553890d0",
        "IPY_MODEL_1be5e2a1a2534d6780c0de031a9d30ae",
        "IPY_MODEL_8ea35cc951f74d6d86843d244f016e59",
        "IPY_MODEL_61100739019d43109de5490e5e00d97e",
        "IPY_MODEL_669d610943ad4c338a6f5a408d346c50",
        "IPY_MODEL_b8045aea0c9f41c281ef301b73393135"
       ],
       "layout": "IPY_MODEL_f41620f41c3e425a80d5f463a3e4c89f"
      }
     },
     "af0f44e739f845fca1e9701b3bac3095": {
      "model_module": "@jupyter-widgets/base",
      "model_module_version": "1.2.0",
      "model_name": "LayoutModel",
      "state": {}
     },
     "afaf135918fe467bba07ca2c0a7dd46d": {
      "model_module": "@jupyter-widgets/controls",
      "model_module_version": "1.5.0",
      "model_name": "IntRangeSliderModel",
      "state": {
       "_model_name": "IntRangeSliderModel",
       "_view_name": "IntRangeSliderView",
       "continuous_update": false,
       "description": "Plotar estados:",
       "layout": "IPY_MODEL_104be8a181874b009adcf4e868f42e5e",
       "max": 20,
       "style": "IPY_MODEL_e9170506835b4d1dbaee532ae3810eac",
       "value": [
        0,
        10
       ]
      }
     },
     "b00eebba838046a0bfd0d0c9b7569dff": {
      "model_module": "@jupyter-widgets/controls",
      "model_module_version": "1.5.0",
      "model_name": "ButtonModel",
      "state": {
       "description": "Lennard Jones",
       "layout": "IPY_MODEL_4c5d954ac8b64856ada83857974ba254",
       "style": "IPY_MODEL_7b3ac68e926249ca8734ff0b3237e3c0"
      }
     },
     "b394e057698a4a19ab4c62e4935d2896": {
      "model_module": "@jupyter-widgets/controls",
      "model_module_version": "1.5.0",
      "model_name": "IntRangeSliderModel",
      "state": {
       "_model_name": "IntRangeSliderModel",
       "_view_name": "IntRangeSliderView",
       "continuous_update": false,
       "description": "Plotar estados:",
       "layout": "IPY_MODEL_e1d4e4f26b2d499da4a3382a3e8e4466",
       "max": 20,
       "style": "IPY_MODEL_7aed935738fd437297213a73428c43e7",
       "value": [
        0,
        10
       ]
      }
     },
     "b8045aea0c9f41c281ef301b73393135": {
      "model_module": "@jupyter-widgets/output",
      "model_module_version": "1.0.0",
      "model_name": "OutputModel",
      "state": {
       "layout": "IPY_MODEL_9dc6c939e56c4124b0fed75d457901ae",
       "outputs": [
        {
         "data": {
          "image/png": "iVBORw0KGgoAAAANSUhEUgAABCEAAAJnCAYAAACpo0m1AAAAOXRFWHRTb2Z0d2FyZQBNYXRwbG90bGliIHZlcnNpb24zLjQuMiwgaHR0cHM6Ly9tYXRwbG90bGliLm9yZy8rg+JYAAAACXBIWXMAAAxOAAAMTgF/d4wjAAEAAElEQVR4nOzdeVgVZfvA8e+wqiiyCIosboiCC4jiguWaa4XmWpnm+2Ka5dtqWf5arMzMzKxssVLTLHND07RUyoXClEXcRUAQUBTZZJH9zO+PQRIFBAQO6P25rnMBM8/M3Gc84Mw99/M8iqqqCCGEEEIIIYQQQtQ0A30HIIQQQgghhBBCiHuDJCGEEEIIIYQQQghRKyQJIYQQQgghhBBCiFohSQghhBBCCCGEEELUCklCCCGEEEIIIYQQolZIEkIIIYQQQgghhBC1QpIQQgghhBBCCCGEqBWShBBCCCGEEEIIIUStkCSEEEIIIYQQQgghaoUkIYQQQoh7kKIoRoqiqIqiDJA4qk5RlN8URXlT33EIIYQQ9YUkIYQQQuidoij/KboRXajnOBRFUd5RFOWioihZiqIcUBSl8222eVRRlABFUdKL3oNRKW3eVhQlSlGUq4qiJCmKsktRFI8qxNddUZRtiqKkKIpyTVGU04qizFUUxbiy+xLlUxRln6Io82/XTlXVEaqqvlcbMd1MUZR5iqIUKoqSecNrXUXXF7Wp9Gf+bo1TCCFE7ZAkhBBCiLrgGeAX4L+KopjqMY7ZwH+BYUAz4G9gl6IojcvZJhX4EnihnDY/Az1UVW0KtAR2F+3XsKKBKYoyCPgLOAW4ARbADGAqsFVRlFL/T1cUxaSixxCVU0fO7UFVVRvf8Hqskuur8pm/m+MUQghRwyQJIYQQQq8URfECOqPdYFwDxt+0foqiKMmKolgW/dxMUZTjiqIsqoFwngEWq6p6XFXVbOBNwAR4pKwNVFXdparqOuBcOW3CVVVNLfpRAQoBW8CqErF9BWxWVfU1VVUvqaqap6rqAWAUMBSYAMVP8JcpivKzoiipwGdFy20VRfFTFCVNUZRzwMQbd64oSgNFURYUVWykFj1p7nbD+n2KonyuKMr6oqqP+KIqkC6KohxUFCVDUZTDiqJ0KO9NVCCOZxVFOVF0jEuKovygKEqz2+yz0rGVdxxFUb4G7gdevf5kvqxze2PFhKIo3W56mp+pKIpOUZR55cWvZ5X6zCuK0lxRlAuKojx/w7I5iqKcVxTFuq7EKYQQou6SJIQQQgh9ewbt5joFWFn0841+AKKAN4oSEXsAf1VVXy1tZ4qifFl0g1vW69cytmsKtAYOX1+mqmoBcAToVto2laEoyoOKoqQBOcAS4BNVVa9UcFsXwAX4/uZ1qqqeLor5oRsW/wdYA1gDLxUtWws0AtoCPYCbnzR/DfQE+gM2wAa0J80WN7SZDHyBVoXxEbACWFi0L2sgjqKkRzluF8clYEzRMXoVve/Pb7PPqsRW5nFUVX0aCAAWXX8yf8N2pZ1birY7cuPTfOBpIA3YXFrAVf2s3qSboihXipIAPymK0qai66vymVdV9TJaonCBoijeiqIMBN4CxqmqmlxX4hRCCFF3SRJCCCGE3hQlFSYC3xYtWgX0UhTF/XobVVVV4HngWeBPIFBV1RfL2qeqqs+oqmpRzuuhMjY1L/qadtPy1BvWVZmqqjtUVbVAu3l9GThYic1tir5eKGN9PFplxXXbVFXdqaqqTlXVa4qi2ANDgFdUVU0pSvi8fr1x0RPsJ4FnVVWNV1W1QFXVZcBVSiY3NquqekBVVR1aQqQRsFZV1RhVVfOAn9ASGaW6XRwAqqpuVlX1bFHs59ESCUPLPTtViO0OjlPi3JbzXkegddMZparq8dLa3MFn9bpNaF1zbAFvQAX8lX+7KNxufZU+86qqBgKvARvRuhq9pKpqUF2LUwghRN0kSQghhBD69B8gXlXV/QCqqsahjZdwczXEOSAD7cZyVg3Fkl701eKm5ZY3rLtjRTfenwLf3ZhsuY3rFRP2Zax3ABJv+Dm6lPU3L7/xe+eir4dufBJfdDyHG9ol3PB9VhnLmpQRY0XiQFGUMYqiBCqKkqgoSjpaJYyVcvvxMyoV2x0c5+ZzewtFUXqh3ZxPVlU14Hbtq0pV1ROqqp5XNRfQujTZo93I33Y9d/aZXwU0BHLRqk7qapxCCCHqGElCCCGE0AtFURS0cvWbb2C+AyYpimJe1K4Z8Ada94CWaAPTlbffr0vpl3/j67fStlNV9SoQA3jdsC8jwAOt7Ls6GQDGQPuKNFZV9SwQCUy5eV3ROAc9gR03LNbd1Cy+6GvrG5bd+P2loq9db3oS30hV1eqcsaTcOBRFcUB7uv454KSqqjlaNwvQxtKoFhU8zs3nkNssv77vjsCvwMuqqv5ym7ZV+qyWQy16lXWuSqy/w8/8SiAUrVqmsp+R2oxTCCFEHSNJCCGEEPoyBG1cgJ8VbVDEBoqiNECrhMgGnizqruEP7FZV9Vm0vv6fKOVMSamq6tNqyVH2b36NKCemL4HZiqJ0VhSlIfAOkA9sKWsDRVEMi+K+PlOCadF7MbihzfOKojQv+t6m6Dh5aCP8oyjKVEVR1HLPllYdMkHRBo9sriiKsaIo96HNKnI9SVPWOblQ1GaRoiiWRed1wQ3rzwNbgS8URWlVFFMTRVFGKIpid5u4Kux2cQCN0a5NklRVzVEUpT03ddeoJhU5ziW0cSIqrKi7yS608T6+u137O/ysoijKBOXfwTSboyXwLgOBFVlfpCqf+ReB3sCjwFjgKUVRxtS1OIUQQtRNkoQQQgihLzMBQ7QnnNk3vNLRpuB7CS0hEaiq6vUBABej9QGvqS4Zi9HGE/AHktFmSBiuqmrm9QZFT69vfEI9uSjuXUU/Zxb93O+GNkOAY4qiZAHHgBbAA6qqXu8u0ArYX15gqqruKYqnC3AG7TytQBvo0UdV1cLbvLcn0BIfMWhPsNfftP5xIATYoyhKBhAOPEU1ViDcLg5VVc+gJQPWFMWwGu39VasKHudjoIOizRSSVsFdDwGcgLk3VTTMra7Yb/IEcFpRlGto59IY7XOVUcH1UIHP/I2KEl/voQ1EmVRUpfNfYJWiDaBaJ+IUQghRdymqersHL0IIIYSoSYqi/IU2uN/h2zYWQgghhKjHJAkhhBBCCCGEEEKIWiHdMYQQQgghhBBCCFErJAkhhBBCCCGEEEKIWiFJCCGEEEIIIYQQQtQKSUIIIYQQQgghhBCiVhjpO4DaYGpqqtrY2Og7DCGqxeXLlwFo3ry5niMRQgghhBB3Sq7txN3mwoULeaqqmpa1/p5IQtjY2BAfH6/vMISoFp06dQLg5MmTeo5ECCGEEELcKbm2E3cbRVGulLdeumMIIYQQQgghhBCiVkgSQgghhBBCCCGEELVCkhBCCCGEEEIIIYSoFffEmBBC3E1++eUXfYcghBBCCCGqib6v7XQ6Haqq6jUGUb8oilL8qgpJQghRzzg7O+s7BCGEEEIIUU30dW2Xl5dHbGws+fn5ejm+qN8URcHCwgJbW1sMDCrXwUKSEELUM5GRkYAkI4QQQggh7gb6uraLjY2lSZMmWFtbV/mJtrh35efnc/nyZc6fP0+bNm0qta0kIYSoZ0aNGgXINE5CCCGEEHcDfVzb6XQ68vPzsba2xshIbglF5RkaGmJvb09ERAQ6na5S1RAyMKUQQgghhBBC3EOujwEhFRDiTlz//FR2TBFJQgghhBBCCCGEEKJWSBJCCCGEEEIIIYQQtUKSEEIIIYQQQggh6oSDBw9iZmaGh4dH8WvgwIE1ftznnnuO1q1boygKYWFh5baNiIjA29sbFxcXvLy8Sozn0bp1azp06FAc+/r160lOTi7xflxcXDAyMiIlJaXMba7Lyclh9OjRuLi44O7uzpAhQ4oHM62okSNHsmzZsluWu7u74+fnV6l9VQcZhUQIIYQQQgghRJ0QEhKCj48P69atq9Xjjhs3jldffZX77rvvtm1nzJjB9OnTmTp1Kps2bWLq1KkEBQUVr1+/fj0eHh4ltrkxsbF48WL279+PlZVVudtcN336dEaMGIGiKCxbtoxp06axb9++Cr83X19fFixYwKxZs4qXBQcHk5CQwMMPP1zh/VQXqYQQop45efKkzIwhhBBCCHGXkGu7kkJDQ/Hy8rpleUpKCt27d6dx48bFy/73v/9x//33s2DBgjs+br9+/XBwcLhtu8TERIKDg3niiScAGDt2LHFxcZWqTlixYgW+vr4VatugQQNGjhxZPAhk7969iYmJKbVtUFAQgwYNokePHnTr1o2NGzcC4OPjQ1xcHMeOHStuu3LlSqZMmYKxsXGF464uUgkhhBBCCCGEEPe4aauDOJ98rUb23cq6Ed89eWtioTQhISEEBASwZs2a4mW7d+/G0tKSPXv2MGHCBEB7km9kZERAQADjxo3j8uXLNG/evMS+Jk6cSHh4eKnH2b59O46OjpV+L3FxcdjZ2RVPbaooCk5OTsTGxuLs7AzAlClTUFWVnj17snDhQmxsbIq3DwwMJDU1lYceeqjEfsvb5kaffvpp8bSuN0pLS2P69Ons3LkTOzs7kpKS8PT0xNvbG3t7eyZPnszKlStZunQpOTk5rFu3jsDAwEq//+ogSQgh6pldu3YBMGzYMD1HIoQQQggh7pRc2/0rJyeHM2fOkJKSgpmZ2S3rb+y+cOjQIQYNGgRA//79CQkJYeTIkSXa3zi2Qm05cOAATk5O5Ofn88Ybb/Dkk0+yc+fO4vUrVqxgypQpxUmMimxz3YIFC4iMjOSPP/64ZV1gYCDnzp1jxIgRJZaHh4djb2+Pr68v/fv3Z9GiRfj5+eHq6oqrq2s1vvOKkySEEPXMSy+9BCBle0IIIYQQd4G6cm1X0UqFmnTs2DHs7e1LTUDcLC0tjc6dOwPQpEkT0tLSbmlTE5UQjo6OJCQkUFBQgJGREaqqEhsbi5OTE0DxV2NjY1544QVcXFyKt83MzGTDhg0lxo+43TbXLV68GD8/P/z9/WnUqNEt61VVpVOnTmVWN7i5ueHs7Mz27dtZuXJlhbuD1ARJQgghhBBCCCGE0LvQ0NDixMLtWFhYkJ6eDkBGRgbt2rW7pU1NVELY2tri6enJ2rVrmTp1Kps3b8bBwQFnZ2eysrLIz8/HwsICgHXr1tGtW7cS8bi7u9OxY8fiZbfbBmDJkiWsW7cOf3//4nY38/b2Jjo6Gn9/fx544AFAGwzTzc0NExMT4N8BKiMiIti6dWv1nJAqkIEphRBCCCGEEELoXUhICIGBgSWms5w3b16pbXv27MnevXsBrTtD9+7d7+jYM2bMwMHBgfj4eIYNG1Y8vgPAtGnT2LZtW/HPy5cvZ/ny5bi4uLBw4UJWrVoFwOXLlxk4cCBdu3alS5cu7N+/v8TYFqUNSHm7beLj43n55ZdJS0tj4MCBeHh40KtXr1vit7S0ZMeOHSxYsAB3d3fc3Nx47bXX0Ol0xW2uV4aMHz++xACftU1RVVVvB68tDg4Oanx8vL7DEKJadOrUCdB/yZ4QQgghhLhz+ri2Kyws5OzZs7i4uGBoaFhrx71TDzzwAEeOHKFbt24sXbqUr776imPHjjFs2DDeeOMNfYd3zynrc6QoygVVVcucakS6YwghhBBCCCGEqPP8/f1L/PzFF1/oKRJxJyQJIUQ9U1p/NyGEEEIIUT/JtZ2410gSQoh6ZsWKFWXOGyyEEEIIIeqXG8caEOJeIANTClGPBAUF0bp1axYvXsy9MJ6LEEIIIYQQ4u4iSQgh6hFzc3PMzc155ZVXmDBhAhkZGfoOSQghhBBC3IEvvvhCxjYQ9xRJQghRj3To0IGmTZtibm7Opk2b6NmzJ6dPn9Z3WEIIIYQQooq+/PJLvvzyS32HIUStkSSEEPWMoaEh9vb2LF68mIiICHr27MmmTZv0HZYQQgghhBBC3JYkIYSohxRF4eWXX8bf359GjRoxfvx4Xn31VQoKCvQdmhBCCCGEEEKUSZIQQtRjAwYMICQkhN69e/PRRx8xZMgQEhMT9R2WEEIIIYQQQpRKkhBC1HMODg7s37+fZ599ln379uHp6ck///yj77CEEEIIIYQQ4haShBCinhk6dChDhw4tsczExIRly5axevVqkpOT6devH1999ZVM4ymEEEIIUceVdm0nxN1MkhBC1DOffPIJn3zySanrpkyZwsGDB3F0dOSZZ57hP//5D9nZ2bUcoRBCCCGEqKjyru3uRQcPHsTMzAwPD4/i18CBA6v1GBEREXh7e+Pi4oKXlxcnT54ss+3OnTvx9PTEw8ODzp07s3r1agCSk5NLxOji4oKRkREpKSkAPPfcc7Ru3RpFUQgLCyuxz9zcXGbNmkX79u3p0qULTzzxRPG68rarqJEjR7Js2bJblru7u+Pn51elfVYnSUIIcZfx8PAgODiYkSNHsnr1ary9vTl37py+wxJCCCGEEOK2QkJC8PHxISwsrPi1d+/eaj3GjBkzmD59OmfPnmXOnDlMnTq11HaqqvLEE0/w/fffExYWxq+//sqMGTPIyMjA2tq6RIzTp09nxIgRWFlZATBu3Dj++usvWrVqdct+X3vtNRRF4ezZsxw/fpzFixcXrytvu4ry9fVl1apVJZYFBweTkJDAww8/XOX9VhdJQghRz7z44ou8+OKL5baxtLRk+/btzJs3j6NHj9KjRw9+++23WopQCCGEEEJUVEWu7e4loaGheHl53bI8Pz+fCRMmMGDAAD766KMq7z8xMZHg4ODi6oOxY8cSFxdHZGRkqe0VRSEtLQ2A9PR0rK2tMTU1vaXdihUr8PX1Lf65X79+ODg43NIuKyuLFStW8P7776MoCgAtWrS47XalCQoKYtCgQfTo0YNu3bqxceNGAHx8fIiLi+PYsWPFbVeuXMmUKVMwNjau0L5rkpG+AxBCVM7u3bsr1M7AwIC3334bLy8vJk2axIMPPsjbb7/Nm2++iYGB5B+FEEIIIeqCil7b1bifHoXU6JrZt2UbePznCjUNCQkhICCANWvWFC/bvXs3e/fuxdvbmxdeeIFHH32UK1euYGNjU9xm4sSJhIeHl7rP7du34+joCEBcXBx2dnYYGWm3woqi4OTkRGxsLM7OziW2UxSF9evXM2bMGMzMzEhNTcXPzw8TE5MS7QIDA0lNTeWhhx667fuLiorCysqKBQsW4O/vT8OGDZk3bx6DBw+u0Pm5Li0tjenTp7Nz507s7OxISkrC09MTb29v7O3tmTx5MitXrmTp0qXk5OSwbt06AgMDK3WMmiJJCCHuciNHjiQkJISxY8cyb948Dh8+zNq1a7G0tNR3aEIIIYQQQhTLycnhzJkzpKSkYGZmVmJddHR0cYWEq6srQUFBjBw5snj9+vXrqz2egoIC5s+fj5+fH/369SMoKAgfHx+OHz9Os2bNitutWLGCKVOmFCc2brfP8+fP4+bmxsKFCzly5AhDhgzh5MmTNG/evMKxBQYGcu7cOUaMGFFieXh4OPb29vj6+tK/f38WLVqEn58frq6uuLq6VvzN1yBJQghxD2jbti2BgYHMnDmT1atX06NHDzZv3oyHh4e+QxNCCCGEEHVBBSsVatKxY8ewt7e/JQEB0KFDB/bv38+gQYMICAjAxcWlxPqKVkI4OjqSkJBAQUEBRkZGqKpKbGwsTk5Ot2wXFhbGxYsX6devHwBeXl44ODgUJw4AMjMz2bBhA0FBQRV6j05OThgYGDBp0iQAunXrRps2bTh+/HilkhCqqtKpU6cyqxvc3NxwdnZm+/btrFy5skRXEX2Tmmwh7hENGzZk1apVfPXVV8TFxdGnTx9++OEHfYclhBBCCCEEoI0H0blz51LX+fj4cOXKFYYMGYKNjQ22trYl1q9fv77EQJE3vq4nIABsbW3x9PRk7dq1AGzevBkHB4dbumLAvwmL06dPAxAZGUlUVBQdOnQocVx3d3c6duxYoffYrFkzBg8ezK5duwCtwiM6OrrSVQre3t5ER0fj7+9fvCwsLIy8vLzin319fVmwYAGHDx9m4sSJldp/TZIkhBD3EEVRePrppwkICMDa2popU6bw7LPPlvhjJYQQQgghhD6EhIQQGBhYYurLefPmAWBoaMhXX33Fnj17MDY2pk+fPlU+zvLly1m+fDkuLi4sXLjwlpkkpk2bxrZt22jevDnffPMNEyZMwN3dnUceeYRly5aVqJq4eUDK62bMmIGDgwPx8fEMGzasRJLj66+/5qOPPqJLly6MHj2a5cuXY29vf9vtbmRpacmOHTtYsGAB7u7uuLm58dprr6HT6YrbXK8OGT9+PI0bN67y+apuiqqq+o6hxjk4OKjx8fH6DkOIavHFF18A8Oyzz97RfhITE3n00UfZu3cvvXv3ZtOmTcV//IQQQgghRO2ormu7yigsLOTs2bO4uLhgaGhYa8e9E7GxsUyZMgUDAwNeeOEFfHx89B3SPa+sz5GiKBdUVS1zig9JQghxDysoKOD//u//WLRoEba2tqxfv54BAwboOywhhBBCCFGD6mMSQtQ9VU1CSHcMIe5hRkZGfPjhh2zatIlr167xwAMP8PHHH3MvJCeFEEIIIYQQtU+SEELUMz4+PtVefjZ27FiCgoJo3749s2fPZuLEiWRkZFTrMYQQQgghxK1q4tpOiLpMkhBC1DNRUVFERUVV+347duzI4cOHGTduHBs3bqRXr16cOXOm2o8jhBBCCCH+VVPXdkLUVZKEEEIUa9KkCRs2bOCjjz4iPDycnj174ufnp++whBBCCCGEEHcJSUIIIUpQFIXZs2fj7+9PgwYNGDt2LHPmzKGgoEDfoQkhhBBCCCHqOUlCCCFKNXDgQEJDQ+nduzeLFi1i2LBhJCYm6jssIYQQQgghRD0mSQghRJkcHBzYt28fzzzzDH/++Sfdu3fn0KFD+g5LCCGEEEIIUU8Z6TsAIUTlLFmypFaPZ2pqyhdffEGvXr2YMWMG/fr147PPPmP69OkoilKrsQghhBBC3G1q+9pOCH1TVFXVdww1zsHBQY2Pj9d3GELUe2FhYYwZM4bo6GimTp3Kl19+ScOGDfUdlhBCCCGEqITCwkLOnj2Li4sLhoaG+g5H1FNlfY4URbmgqqpDWdtJdwwhRIV5eHgQEhLCyJEj+f777+nbty/R0dH6DksIIYQQQtwlDh48iJmZGR4eHsWvgQMHVusxIiIi8Pb2xsXFBS8vL06ePFlm29zcXGbNmkX79u3p0qULTzzxBADJycklYnRxccHIyIiUlBQAdu7ciaenJx4eHnTu3JnVq1cX77O8ddetWrUKRVHYunVrpd/fyJEjWbZs2S3L3d3d68TMd9IdQ4h6plOnTgDl/rGsSZaWlmzfvp333nuPd955h+7du/PTTz8xfPhwvcQjhBBCCFGf6fvarq4JCQnBx8eHdevW1dgxZsyYwfTp05k6dSqbNm1i6tSpBAUFldr2tddeQ1EUzp49i6IoXLp0CQBra2vCwsKK2y1evJj9+/djZWWFqqo88cQT7Nu3j65duxITE0PHjh0ZM2YMjRs3LnNdkyZNAIiJieHbb7+ld+/eVXp/vr6+LFiwgFmzZhUvCw4OJiEhgYcffrhK+6xOUgkhhKg0AwMD3n77bX799VdUVWXkyJG899576HQ6fYcmhBBCCCHqsdDQULy8vG5Znp2dzciRI+nfvz//+c9/qrz/xMREgoODiysaxo4dS1xcHJGRkbe0zcrKYsWKFbz//vvFY6G1aNGi1P2uWLECX1/f4p8VRSEtLQ2A9PR0rK2tMTU1ve06nU7HtGnT+Pzzz4uXlSUoKIhBgwbRo0cPunXrxsaNGwHw8fEhLi6OY8eOFbdduXIlU6ZMwdjY+HanqMZJJYQQospGjhxJSEgIY8aM4a233uLw4cP88MMPWFhY6Ds0IYQQQghRCf/743/EZcTVyL4dmzjy+eDPK9Q2JCSEgIAA1qxZU7xs9+7dHDx4kPvuu4+5c+cyffp0Tpw4QefOnYvbTJw4kfDw8FL3uX37dhwdHQGIi4vDzs4OIyPtVlhRFJycnIiNjcXZ2bnEdlFRUVhZWbFgwQL8/f1p2LAh8+bNY/DgwSXaBQYGkpqaykMPPVS8z/Xr1zNmzBjMzMxITU3Fz88PExMTgHLXLVmyhL59+9K9e/dyz1NaWhrTp09n586d2NnZkZSUhKenJ97e3tjb2zN58mRWrlzJ0qVLycnJYd26dQQGBt72/NcGSUIIIe5I27ZtCQwM5Omnn+aHH36gR48e+Pn50bVrV32HJoQQQggh6pGcnBzOnDlDSkoKZmZmJda1adOGw4cPA5CZmUnTpk1LrF+/fn21x1NQUMD58+dxc3Nj4cKFHDlyhCFDhnDy5EmaN29e3G7FihVMmTKlOLFRUFDA/Pnz8fPzo1+/fgQFBeHj48Px48exsLAoc92lS5fYvHkzBw4cuG1sgYGBnDt3jhEjRpRYHh4ejr29Pb6+vvTv359Fixbh5+eHq6srrq6u1XuCqkiSEEKIO9aoUSNWr15Nnz59eP755+nduzfffPNNcZmbEEIIIYSo2ypaqVCTjh07hr29/S0JCABnZ2cCAgJwdXXF09OzuLLhuopWQjg6OpKQkEBBQQFGRkaoqkpsbCxOTk63bOfk5ISBgQGTJk0CoFu3brRp04bjx48XJyEyMzPZsGFDiTElwsLCuHjxIv369QPAy8sLBwcHjhw5gqWlZZnrIiMjiYmJoX379gBcunSJ6dOnk5CQwMyZM0vEpqoqnTp1KrO6wc3NDWdnZ7Zv387KlStLdBXRtzoxJoSiKJ8pihKjKIqqKIpHGW0GKIqSrShK2A0vmRtQiDpCURRmzpzJ/v37sbS0ZPLkyfzvf/8jLy9P36EJIYQQQoh6IDQ0tEQXixutXr2aiRMncvr0aZo1a3bLzff69esJCwsr9XVjwsLW1hZPT0/Wrl0LwObNm3FwcLilKwZAs2bNGDx4MLt27QIgOjqa6OjoEhUF69evx93dnY4dOxYvu57oOH36NACRkZFERUXRoUOHctfNnDmThIQEYmJiiImJKX6wd3MCAsDb25vo6Gj8/f2Ll4WFhZW49r4+QOXhw4eZOHFiGWe99tWVSohNwCLgr9u0C1dV1aPmwxGi7vrll1/0HUK5+vTpQ2hoKI8++ijLli0jNDSUjRs30rJlS32HJoQQQghR59T1a7vaFBISQmBgIB4eHsXLRo8ezbx589DpdFhZWQFgZWVVPLBjVSxfvpypU6eyYMECzM3NWbVqVYn106ZNw8fHBx8fH77++mt8fX2ZM2cOBgYGLF++HHt7++K2K1as4KmnniqxffPmzfnmm2+YMGECBgYG6HQ6li1bVlxtUd66irK0tGTHjh3Mnj2bl19+mfz8fJycnEpM6Tlx4kReeOEFJk6cSOPGjSt5lmqOoqqqvmMopihKDDBaVdWwUtYNAJZWJQnh4OCgxsfH32F0QojKKCgo4PXXX2fx4sU0b96c9evX079/f32HJYQQQghxzyssLOTs2bO4uLhgaGio73AqJDU1lYkTJ5KXl4elpSUbNmyoEzM93MvK+hwpinJBVVWHsrarE90xKqGdoiihiqIEKYryTFmNFEV5SVGU+OuvzMzM2oxRiBoVGRlZ6hRCdY2RkREfffQRGzduJCsri8GDB/PJJ59QlxKfQgghhBD6Vl+u7fTN0tKS3bt3s2/fPrZs2SIJiHqsPiUhQgEHVVU9gUeApxVFmVBaQ1VVl6iq6nD9VZdKT4S4U6NGjWLUqFH6DqPCxo0bx+HDh3F2duall17i0UcfRRKDQgghhBCa+nZtJ8SdqjdJCFVV01VVvVr0fTywDrhfv1EJISrC1dWVw4cPM3bsWDZs2ECvXr3KHL1YCCGEEEIIcfeqN0kIRVHsFEUxKPq+CfAQcES/UQkhKsrc3JyNGzeyaNEizpw5g5eXF1u2bNF3WEIIIYQQQohaVCeSEIqiLFcUJR5wAHYpihJZtPw7RVF8ipqNBY4rinIU+AfYA6wqdYdCiDpJURReeeUV9uzZQ4MGDRgzZgyvv/46BQUF+g5NCCGEEEIIUQvqxBSdqqrOKGP5tBu+XwYsq7WghBA1ZtCgQYSEhDBu3DgWLlxIUFAQ69atw8bGRt+hCSGEEEIIIWpQnaiEEELcexwdHTlw4ABPP/00f/zxB927d+fw4cP6DksIIYQQQghRgyQJIUQ9c/LkSU6ePKnvMKqFqakpX331FatWreLKlSvcf//9fPPNNzKNpxBCCCHuGXfTtZ0QFSFJCCGE3k2dOpXAwEBatmzJjBkzmDZtGtnZ2foOSwghhBBCCFHNJAkhRD2za9cudu3ape8wql23bt0ICQlh+PDhrFy5kvvuu4+YmBh9hyWEEEIIUaPu1ms7Icqi3Atlzw4ODmp8fLy+wxCiWnTq1Angri3bKyws5N133+Xdd9/FysqKn376iWHDhuk7LCGEEEKIGqGPa7vCwkLOnj2Li4sLhoaGtXZccXcp63OkKMoFVVUdytpOKiGEEHWKoaEh77zzDtu3b0en0zFixAjmz5+PTqfTd2hCCCGEEKKGHTx4EDMzMzw8PIpfAwcOrNZjRERE4O3tjYuLC15eXhVKAK1atQpFUdi6dSsAycnJJWJ0cXHByMiIlJQUAHbu3ImnpyceHh507tyZ1atXV+j45W1XUSNHjmTZslsnlnR3d8fPz6/S+6tukoQQQtRJDz30EMHBwXTp0oU333yT0aNHk5aWpu+whBBCCCFEDQoJCcHHx4ewsLDi1969e6v1GDNmzGD69OmcPXuWOXPmMHXq1HLbx8TE8O2339K7d+/iZdbW1iVinD59OiNGjMDKygpVVXniiSf4/vvvCQsL49dff2XGjBlkZGSUe/zbbVdRvr6+rFq1qsSy4OBgEhISePjhhyu1r5pgpO8AhBCiLO3atePgwYPMmDGDtWvX4uXlhZ+fH126dNF3aEIIIYQQd5W4mc+QFxdbI/s2cXTC8asvK9Q2NDQULy+vW5b//vvvLFy4EIDjx4/zxx9/4OHhUelYEhMTCQ4OZvfu3QCMHTuWWbNmERkZibOz8y3tdTod06ZN4/PPP+fll18uc78rVqzggw8+KP5ZUZTiB2jp6elYW1tjampa7vHbtWtX5nalCQoKYs6cOaSnp1NYWMjcuXMZP348Pj4+zJw5k2PHjtG1a1cAVq5cyZQpUzA2Nq70OatukoQQQtRpjRo1Ys2aNfTu3ZsXXniBXr168d133/H444/rOzQhhBBCCFHNQkJCCAgIYM2aNcXLdu/ezfDhwxk+fDiqqtKzZ0/c3d1LbDdx4kTCw8NL3ef27dtxdHQEIC4uDjs7O4yMtFthRVFwcnIiNja21CTEkiVL6Nu3L927dy8z5sDAQFJTU3nooYeK97l+/XrGjBmDmZkZqamp+Pn5YWJictvjl7XdzdLS0pg+fTo7d+7Ezs6OpKQkPD098fb2xt7ensmTJ7Ny5UqWLl1KTk4O69atIzAwsLxTX2skCSFEPdOuXTt9h1DrFEXh2WefpVu3bowfP55Jkybxzz//sHjx4lL/KAshhBBC1Bd15dquopUKNSknJ4czZ86QkpKCmZlZqW2CgoLo0aMHiqKUWL5+/fpqj+fEiRNs3ryZAwcOlNtuxYoVTJkypTixUFBQwPz58/Hz86Nfv34EBQXh4+PD8ePHy91Peds1a9asRNvAwEDOnTvHiBEjSiwPDw/H3t4eX19f+vfvz6JFi/Dz88PV1RVXV9cqnIXqJ0kIIeqZbdu26TsEvfH29iYkJISJEyfy+eefExoayoYNG2jZsqW+QxNCCCGEqJJ7+druZseOHcPe3r7MBATAL7/8wqhRo25ZXtFKCEdHRxISEigoKMDIyAhVVYmNjcXJyemW7QICAoiJiaF9+/YAXLp0ienTp5OQkMDMmTMByMzMZMOGDQQFBRVvFxYWxsWLF+nXrx8AXl5eODg4cOTIEdzd3cs8fnnbDRkypERsqqrSqVOnMqsb3NzccHZ2Zvv27axcuRJfX98yz2ltk4EphRD1SosWLfD39+ell17i77//pnv37gQEBOg7LCGEEEIIcYdCQ0Pp3LlzuW327t3LoEGDblm+fv36EgNF3vi6noAAsLW1xdPTk7Vr1wKwefNmHBwcSu2KMXPmTBISEoiJiSEmJobevXvzzTffFCcgrh/X3d2djh07Fi+7nug4ffo0AJGRkURFRdGhQ4dyj1/edjfz9vYmOjoaf3//4mVhYWHk5eUV/+zr68uCBQs4fPgwEydOLPe81iZJQghRz3zxxRd88cUX+g5Dr4yNjfn4449Zv349GRkZDBw4kKVLl6Kqqr5DE0IIIYSoFLm2+1dISAiBgYElpr6cN29e8fpz587h4OBwx91xly9fzvLly3FxcWHhwoW3zCQxbdq0CleorFix4pYqg+bNm/PNN98wYcIE3N3deeSRR1i2bFlxtUVZx7/ddjeytLRkx44dLFiwAHd3d9zc3HjttddKTGt/vTpk/PjxNG7cuFLnqCYp98JFu4ODgxofH6/vMISoFp06dQKo0HzG94JTp07xyCOPcPbsWSZOnMh3331Xp/7ICiGEEEKURx/XdoWFhZw9exYXFxcMDQ1r7bh36pNPPsHW1pZJkybpOxRB2Z8jRVEuqKrqUNZ2MiaEEKJec3NzIygoiKlTp7J+/XpOnDiBn58fLi4u+g5NCCGEEEJUoxdffFHfIYhqIN0xhBD1nrm5OZs3b2bhwoWcPn2aHj16sHXrVn2HJYQQQgghhLiJJCGEEHcFRVGYM2cOu3fvxtTUlEceeYTXX3+dwsJCfYcmhBBCCCGEKCJJCCHEXWXw4MGEhITg5eXFwoULGT58OFeuXNF3WEIIIYQQQghkTAgh6p2hQ4fqO4Q6z8nJiYCAAJ5//nmWL19O9+7d2bx5M15eXvoOTQghhBCiBLm2E/camR1DCHFXW7VqFTNnzkRVVZYtW8ZTTz2l75CEEEIIIfSqvs6OIeqWqs6OId0xhBB3tf/85z8EBgZiZ2fH9OnTmTZtGjk5OfoOSwghhBBCiHuSJCGEqGdefPFFmZ6okjw9PQkJCWHYsGGsWLGC++67j5iYGH2HJYQQQggh13biniNJCCHqmd27d7N79259h1HvWFtbs2PHDt58801CQkLo3r27nEchhBBC6J1c24l7jSQhhBD3DENDQ9599122bdtGYWEhw4cP5/3330en0+k7NCGEEEIIIe4JkoQQQtxzHn74YYKDg+nSpQtvvPEGjzzyCGlpafoOSwghhBDinnfw4EHMzMzw8PAofg0cOLBajxEREYG3tzcuLi54eXlx8uTJW9rk5OQwevRoXFxccHd3Z8iQIURGRpZok5uby6xZs2jfvj1dunThiSeeACA5OblE/C4uLhgZGZGSkgLAzp078fT0xMPDg86dO7N69eoKH/N2Ro4cybJly25Z7u7ujp+fX6X2VVMkCSGEuCc5Oztz8OBBJk2axLZt2/Dy8uL48eP6DksIIYQQ4p4WEhKCj48PYWFhxa+9e/dW6zFmzJjB9OnTOXv2LHPmzGHq1Kmltps+fTrh4eEcPXqUUaNGMW3atBLrX3vtNRRF4ezZsxw/fpzFixcDWjfgG+OfPn06I0aMwMrKClVVeeKJJ/j+++8JCwvj119/ZcaMGWRkZFTomLfj6+vLqlWrSiwLDg4mISGBhx9+uFL7qimShBBC3LMaNWrEDz/8wOeff05MTAy9e/dm3bp1+g5LCCGEEOKeFRoaipeXV6nrli9fzuDBgxkwYAD5+flV2n9iYiLBwcHFVQtjx44lLi7uloqDBg0aMHLkSBRFAaB3794lBjbPyspixYoVvP/++8VtWrRoUeoxV6xYga+vb/HPiqIUV+Gmp6djbW2NqanpbY95o6CgIAYNGkSPHj3o1q0bGzduBMDHx4e4uDiOHTtW3HblypVMmTIFY2PjCp6lmmWk7wCEEJXzzDPP6DuEu4qiKMyaNQtPT0/GjRvH448/zj///MPixYvrzB9qIYQQQty96sq13Y4vj3H1SnaN7LupTUMefKZrhdqGhIQQEBDAmjVripft3r2bnJwcjh8/zh9//FHqdhMnTiQ8PLzUddu3b8fR0RGAuLg47OzsMDLSboUVRcHJyYnY2FicnZ3LjOvTTz9l1KhRxT9HRUVhZWXFggUL8Pf3p2HDhsybN4/BgweX2C4wMJDU1FQeeuih4uOtX7+eMWPGYGZmRmpqKn5+fpiYmNz2mNelpaUxffp0du7ciZ2dHUlJSXh6euLt7Y29vT2TJ09m5cqVLF26lJycHNatW0dgYGCZ7622SRJCiHrm2Wef1XcIdyVvb29CQ0OZOHEin332GSEhIWzcuBE7Ozt9hyaEEEKIu5hc2/0rJyeHM2fOkJKSgpmZWYl13333HVlZWQwaNIh+/foxb968EuvXr19fY3EtWLCAyMjIEgmQgoICzp8/j5ubGwsXLuTIkSMMGTKEkydP0rx58+J2K1asYMqUKcVJj4KCAubPn4+fnx/9+vUjKCgIHx8fjh8/TrNmzco95nWBgYGcO3eOESNGlFgeHh6Ovb09vr6+9O/fn0WLFuHn54erqyuurq7VfVqqTJIQQghRpEWLFvj7+/Paa6+xZMkSPD092bBhA/fff7++QxNCCCGEqFEVrVSoSceOHcPe3v6WBARo3SgUReHPP//kySefJCwsDA8Pj+L1Fa2EcHR0JCEhgYKCAoyMjFBVldjYWJycnErddvHixfj5+eHv70+jRo2Klzs5OWFgYMCkSZMA6NatG23atOH48ePFSYjMzEw2bNhAUFBQ8XZhYWFcvHiRfv36AeDl5YWDg0NxEqO8Y16nqiqdOnUqs7rBzc0NZ2dntm/fzsqVK0t0BakLZEwIIeoZHx8ffHx89B3GXcvY2JiPP/6Yn3/+mYyMDAYNGsSnn36Kqqr6Dk0IIYQQdyG5tvtXaGgonTt3LnVd06ZN6d+/PwD9+vW7JeGwfv36EoNB3vi6noAAsLW1xdPTk7Vr1wKwefNmHBwcSu2KsWTJEtatW8eePXuwsLAosa5Zs2YMHjyYXbt2ARAdHU10dHSJioP169fj7u5Ox44di5ddT4KcPn0agMjISKKioujQocNtj3mdt7c30dHR+Pv7Fy8LCwsjLy+v+GdfX18WLFjA4cOHmThxYqn70RephBCinomKitJ3CPeEiRMn0rlzZ8aMGcMLL7zAoUOH+Pbbb0vNzAshhBBCVJVc2/0rJCSEwMDAEhUOo0ePZt68efTp04effvoJgOPHj/PYY49V+TjLly9n6tSpLFiwAHNz81tmk5g2bRr9+vXj5Zdfpm3btsVThJqamnLo0KHidl9//TW+vr7MmTMHAwMDli9fjr29ffH6FStW8NRTT5XYd/Pmzfnmm2+YMGECBgYG6HQ6li1bhpOTE/Hx8bc9JoClpSU7duxg9uzZvPzyy+Tn5+Pk5MTWrVuL20ycOJEXXniBiRMn0rhx4yqfq5qg3AtP9xwcHNT4+Hh9hyFEtejUqRNAqfMZi+p39epVpk6dytatW+ncuTN+fn60b99e32HVGTqdiqJQPIqzEEIIISpHH9d2hYWFnD17FhcXFwwNDWvtuHfqhRdeICwsDBcXF7755ht9h3PPK+tzpCjKBVVVHcraTiohhBCiHE2bNsXPz49FixYxd+5cevTowZo1a0odqfhulHA1mxMX0olIzCDicibnkrJIysglOSuX3AIdqgoGCpiZGmHRyBhHy0a0sm6EW8umdHO0oGOLJhgZSs8/IYQQQty5pUuX6jsEUQ0kCSGEELehKApz5syhe/fuPPbYY4wePZq5c+fy7rvv1qunBxWRnJnL/rNXOBiVzKHoFGJTrpVYb9PElObmpjjbNqahsSGGhgoFhToycwtIzszjaFwagVHJQBwA5g2M6OdiwxC35gxxa04jE/lvRwghhBDiXiZXg0IIUUEPPPAAISEhjBs3jgULFhAUFMRPP/1UYjql+uhiWja/nbjErpOXCI5JQVfUS6+1dSMe9XLEw9GC9s2b0L55Y8wbGJe7L1VVuZKZy/H4qxyJTSMgMolfjyXw67EEzEwMebCrHVP6tKazfdNaeGdCCCGEEKKukTEhhKhnro/AO2zYMD1Hcu/Kycnh+eef55tvvsHJyYnNmzfTo0cPfYdVKdfyCvj9xCU2h8YTGJWMqkIDYwP6tbdhaKcW3OfcjBZNG1TLsa5k5PLbiQQ2hcRzLP4qAH3aWvPsQGfua1+/EzhCCCHEndLHtV19HRNC1C1VHRNCkhBCCFFFK1eu5JlnngHgiy++qHNzMN9MVVXC4tL46VAsO48nkJVXiLGhwuCOzRndzZ7+LjY0NKnZC5ETF66y4q9oth+9SIFO5T7nZswZ3pEuDlIZIYQQQtQWSUKI6iBJiHJIEkIIUVNCQkIYO3Ys58+fZ9q0aXz++ec0aFA9FQTVJSe/kO1HL/LDP+eLKxHcHZoytrsDD3dtiaWZSa3HFJdyjU/8z7LlyAVUFR52b8n/jXSttuoLIYQQQpRNkhCiOkgSohyShBB3E5mis+5JTk7m8ccfZ/fu3fTo0YNNmzbRqlUrfYdFXMo1fjwUy/qgWFKv5dPQ2JDR3eyZ0qcVrnbm+g4PgDOX0vnwtzPsDb9CY1MjZg91YXKf1hgayJSfQggh7g0yRaeor2SKTiGE0BNra2t27tzJvHnzmD9/Pt27d2fdunUMGTKk1mPR6VT+jkpideB5/jhzGVWFNs3MmDWoPeO6O9C0YfkDS9a2ji3MWfWfnvifuszb204yb/sp/I5c4MOxXetMokQIIYQQQlQfSUIIIUQ1MDQ05L333sPLy4vJkyczfPhw5s+fz5w5czAwMKjx42fk5LM5JJ41B89zLikLRYHBHW2Z3Kc19zs3w6COVxY84NacPu2s+fSPCFb8Fc2oZX/z8lAXpt3f9p6pisgr0JGek092XiEGBgrNGptgaiRPp4QQQghxd5EkhBBCVCMfHx+Cg4MZM2YMc+fO5dChQ6xevZqmTWtm4MXIxAzWHDzP5pB4svIKadrQmOn92jK5dyscrRrVyDFripmpEXNHuvJgFzte3BDGB7+d4c8ziXw8wR0Hy/r1Xioi7Voef55JZP/ZK5y6mM65pCwKdSW7SDZrbEo3Jwt6tbHiAdfmtG5mpqdohRBCCCGqR80/nhNCiHtM+/bt+eeff3j88cf55Zdf8PLy4sSJE9W2/0Kdyu6Tl3jiu0M8sOQAaw6ex8najA/HduGf1wczd6RrvUtA3Mjd0YId/7ufKX1acSg6hRFLA9gcEs/dMIaRTqey/+wVfL8Povt8f17acJRfwi6SU1DIoI62PNHbien92vKfvq15sKsddk0b8OeZRObvOM2AxfsY/3Ugm0PiyS/U6futCCGEEDXi4MGDmJmZ4eHhUfwaOHBgtR4jIiICb29vXFxc8PLyKnc8joq0XbVqFYqisHXr1uJlrVu3pkOHDsXvYf369cXrfv/9d3r06EHXrl3p3bs3R48erdA+K2LkyJEsW7bsluXu7u74+flVal81RSohhBCiBpiZmbF27Vp69+7NSy+9RK9evVixYgWPPvpolfd56WoOm0PjWXc4lvjUbIwMFB7qaseT3q3p0coSRbl7ui00NDHk3VGdGdTRllc3HePljUfZG57I+490qXPjWlSEqqr8fuISH+85S2RiJgYK9HexYURnOwa52tKssWmZ22blFnAoOpmtRy6y6+QlgmKOsvSPszwzwJnx3R0wMqxfzxPSc/IJiUnlSGwqVzJzSc3Kx8TIANsmprSybkSfds1oZ2N2V32ehRBCVFxISAg+Pj6sW7euxo4xY8YMpk+fztSpU9m0aRNTp04lKCioSm1jYmL49ttv6d279y3brl+/Hg8PjxLLUlNTmTRpEgcOHKBTp04EBAQwadKkEg+sytvn7fj6+rJgwQJmzZpVvCw4OJiEhAQefvjhSu+vJsjsGELUM5GRkQA4OzvrORJRUX/99Rfjx4/n0qVLvPDCCyxatAhj44rdSOcX6vjzTCIbguLYG56ITtVK9B/v5cSkXk40N7/7p7RMzcrjdb/j/H7yEvYWDflkogc921jpO6wKUVWVgIgkPtoVzvELV2lkYsjk3q14oordZa5m57MmMIYVf0eTdi2fji2a8NbDbni3a1YD0VefvAId/qcv83NQHH9FXOHGXieKAjdfirRs2oCx3R14vJcTdk0b1m6wVZCSlUd0UibxqdkU6lQsGhnTsYU5LS3qfuxCCP3Tx7VdXZ4d47///S+dO3fmpZdeKrE8JiaGPn360KFDB5ycnFizZk2V9p+YmIizszMpKSkYGRmhqip2dnb89ddft/wb3K6tTqdj6NChfPjhh7z88su88MILjB49GtAqIbZu3XpLEiI4OJjHH3+cs2fPFi8zNzdn3759eHp6lrvPGwUFBTFnzhzS09MpLCxk7ty5jB8/nvz8fOzt7fH396dr164APPPMMzRq1IjFixdX6ZyVRWbHEOIeIcmH+ue+++4jNDSUiRMnsnTpUkJCQtiwYQMtWrQotb2qqpy5lMHWsAtsDrlAUmYuBgoM7GDLBC9HBnW0xbiePf2+E5ZmJnz1hCc/B8Xx7vZTPPrNQZ4d6Mxzg9vX6fMQl3KNedtO8seZREwMDfhP39Y8O9C53KqH22na0Jj/DW7Pf+5rw9f7ovgm4ByPf3uI0R4tefvhTliamVTjO7hzuQWFbAiO54s/I7mUnoORgcKgjrb0dW6GV2sr7C0aYt7QmPxCHVcycjlzKYO/I5PYc+oyn/8ZyZf7ohjl0ZKXh3bAvo7d0EcmZvBL2EV2Hk8g6kpWqW3sLRrSz8WGSb2c6GxfM+PC3Im4lGuEnE/l4tVs8gp0mDcwpk0zMzydLGnaqP5VHAlRX9WVa7sti97l6uVLNbLvps1b8Mirb1WobUhICAEBASWSDLt37wbgwQcf5Lvvvit1u4kTJxIeHl7quu3bt+Po6AhAXFwcdnZ2GBlpt8KKouDk5ERsbOwt/xa3a7tkyRL69u1L9+7dSz3ulClTUFWVnj17snDhQmxsbGjfvj3JyckEBgbi7e3Ntm3byMjIICYmBk9Pz9vuEyAtLY3p06ezc+dO7OzsSEpKwtPTE29vb+zt7Zk8eTIrV65k6dKl5OTksG7dOgIDA8vcX22TJIQQ9YxUQtRPdnZ2/PHHH7z66qssXboUT09PNm7cSN++fYvbnLuSyfajCWw/dpHIxEwAnKwaMXuoC+O6O9Ki6d1f9VAWRVF4rKcTPdtY8fzPR/j8z0gCIpL49FEPWlnXrcEa8wp0fBtwjs//jCAnX8fD7i2ZM7xDtQ6u2djUiNnDOjDRy5G3t51ka9hF/opM4r1RnRnRxa7ajnMn/E9dZt72k8SnZtOssQmvDu/A+O6O2DS5NQljaGCIo1UjHK0aMcStOW8+5MbeM4ms/Dsav9AL/Hosgf/2bcPzg9vT0ES/T+zC4tJY9mck/qcvA1pl0rjuDrS3bYyjVSOMDBSSMvM4Fp/G4egU1h2OZd3hWLo5WfDykA7c116/VSuJGTmsCTzPzuMJnEsqPXlibKhwn3MzRnez58Eudnrt8pNXoONQdDJ/nE7k5MWrJGXmAWDT2BS3luYMdWtOr7bWep9FJyUrj9MJ6VxOzwHAtkkDOrU0r3OJQVE3ybXdv3Jycjhz5gwpKSmYmZX8/z0mJoZdu3Zx//338/TTTzNp0qQS628cc6E2nDhxgs2bN3PgwIFS1x84cAAnJyfy8/N54403ePLJJ9m5cydNmzZl06ZNvP7662RmZtKnTx/c3NwwMjK67T6vCwwM5Ny5c4wYMaLE8vDwcOzt7fH19aV///4sWrQIPz8/XF1dcXV1rbb3fqekO4YQ9UynTp0Ayh1AR9RtP//8M76+vuTl5fHavPex8x7DzhMJnLiQDoCVmQkju7Tg4a4t8WptVeen16xteQU6Pt4dzvID5zAzMeSdUZ0Z62lfJ8YQOBiVzJu/nCAyMZO2zcx4d1TnGr/pVFWVX8IuMm/7SdKu5fNgFzveGdXpjiou7kTC1WzmbTvJrpOXaWxqxLMDnXnSuxWNTKr23OPA2St88NsZTiek42TViA/GdKGvc+3fyCem5/D+ztP8EnYRgGGdmjPVuw0921iVewN8PP4qa/85z5YjF8gr1NHfxYY3H3LD2bZxbYUOQFJmLh/vPsvmkHjyCnW0MG/AgA42eDs3o5VVI0yNDUi7ls/Zyxn4n07k78gkCnUqra0b8dzg9oz2sK/Vv0Vp1/JY+Vc0qw+e52p2PgAWjYxpUdQF7WJaNuk5BQDYNjHlid6t+O99bWhsWnvP17LzCvn12EV+OhzLkdi0Utv0bG3FRC9HRnaxq9UEWnZeIduPXuSPM5c5cSGdK5m5KEBLi4a4OzRliFsLBrva0sC49mLKLSgkMCqZI+dTuZCWg05VsTYzobN9U/q72NR6wuZqdj4nLlzlcnoOhgYKDpYN6dSyaa2eE9D+hru6dUIFwk+fqrXj1tXuGIcPH+bRRx/l3Llzt6zLzc2lsLAQRVEYNmwYW7Zswdraunh9RSshqqs7xp49e3j33XcxNdX+v7106RLm5ua88847zJw5s8R+EhIScHFxISMjo9T31aJFC4KCgiq8zx07dvD++++XW93Qp08fZs+ezVdffcVjjz2Gr69vmW2rqqrdMSQJIUQ9I0mI+i23oJCg6FR++v0vvn/3f2QnxdPIrT+tR73IyG6tedi9Jd7trOvdYIP68HdkEi9tCONyei4PdbXj3VGdsdLTU8crGbks2HmaLUcuYGpkwKyBzkzv3xZTo9q7sLuSkctbv5zgtxOXsDIz4b1RnXmwa+1VRRQU6lh98DxLdoeTlVfIg13seOtht2oZt6RQp7Lq72g+3n2W7PxCJvRw4P9GutVKl4GCQh3fB8aw1D+CzNwCBnW05bURHXFp3qRS+4lLucbi3eH8EnYREyMDnh/cnun92tZ4lyKdTmVDcBwf/HaGq9n5eDpZMKN/O4a4Ni83qZCSlccPB8/z3V/nyMgpwNPJgg/GdKVDi8q978q6Xkn05d5IsvIKaW3diHHdHRjaqQXtbRsXJxtVVSUiMZPtRy/iF3qBC2nZWJmZ8NwgZyb3aV2jlRHXz+mHv58h9Vo+DYwNeMC1Od1bWRaPA3IxLZugmBT8TyeSV6CjWWMTXhziwsQejjX69/3qtXy+3B/Jz4fjuJqdj4ECLs2bYNe0ATpV+xxer4Bpbm7KMwOcmejlWKM33ilZeaz46xxrDp4noyhxdDMjAwUfj5bM7N+O9pX83aoMnU7ltxOXWPvPeQ5FJ3PTrMjF/5Yz+rWji0PNdaFSVZWgmFR+PHSegIgkTnw6jcYNjEiJj6qxY96sriYhvv76a3bu3Mm2bdvKbfd///d/jBo1ip49e1bpOAMGDGDq1KnFg00uXLiQ4ODgO2o7YMCA4vEbsrKyyM/Px8LCAoAlS5awdevW4gqHhIQE7Oy0/6PfeOMNTp8+zebNm8vd541SU1Nxc3Pjhx9+4IEHHgAgLCwMNzc3TEy0a6HvvvuOr776ioiICC5evEjjxtWf/JYkRDkkCSHuJpKEqF8KCnUcu3CVg1HJBEYlERyTSm6BNr1i8waFpP22lLOH99K5cxe2bPGTUsxKSs3KY87mY+w+dRkrMxPeesiNUR4ta60qolCn8tOh8yzaFU5GTgEDOtjwjk8nvXYR+fXYRd7ceoLUa/mM7NKCd0d1rvGqiGPxaczdcpwTF9JxsGzIe6M6M7CjbbUfJy7lGnO3HCcgIgnbJqYseKQLD7g1r/bjXHc0Lo3X/I5zOkF7X/Me7nTHxws5n8Krm44RdSWLTi3N+XBs1xobL+Ls5Qz+b8txgmJSsW1iyjyfTozo3KJSvx9Xr+Xz6R8RfB8YjYGi8HT/dswa5FwjN61BMSnM9TtORFEl0fMPtOehri1vm1DIL9SxKSSeT/0juJSeg4ejBR+OrZmEyZlL6fzflhOEnNfO6cwB7Rjj6VDmrD1p1/LYHHqBr/ZFkpSZR4fmTXhvdOdqH1xXVVW2Hb3Ie7+eIikzj7Y2ZjzZpzWjPexvSdZdTs9hy5ELfBcQTVJmLvYWDZn/SGcGdqje39m8Ah1f74/iq31RZOcX0tbGjAk9HLnPuRltmplhaKCQcDWHoJgUNofEcyg6BYAxnvb830hXrKv579beM4ks2hXO6YR0TAwNGNDBht5trbG3bEihTiU6KYv9Z69wuCiO+9s3462H3Ko9KfJXRBKLd4cTFpcGQKeW5hz6aCoNTYyIiyr9KX5NqKtJiKeeeootW7bg4PDv/evo0aOZN28emZmZNG7cGFVVGT58ON9//33xjXxlhYeHM3XqVJKTkzE3N2fVqlV06dKleP20adPw8fHBx8fntm2vuzFhcO7cOcaOHUthYSGqqtK2bVs+/fRTWrduXfw+AwICKCgooE+fPnz++efFCYuy9nmz0NBQZs+eTXJyMvn5+Tg5ObF161YaNNCS/xkZGdjZ2TFx4kRWrFhRpfN0O5KEKIckIcTdRJIQdZeqqlxKzyEsNo2w+DSOxqVxPP4qWXmFAJgaGeDV2oo+7awZ7GpLh+ZNUFWVDz/8kDfeeIMmTZrwww8/1Jnpk+qL6xff724/RXJWHv1cbHhvVM0nAkJjU3ln20mOxl+lhXkD3n7YjeGVvMGrKUmZuby5tearIq5m57N4VzhrD53HUFF4ql9bnhtUs+M2qKrKppB43v31FBk5BYzyaMm8ah6UMyu3gMW7w1kdGFN84/3sQOdqe185+YUs+zOSr/ZrTz1n9GvLc4PbV9uNfXZeIZ//GcE3B85RqKpM6d2Kl4d1wLxB1StHbkzItG1mxofjuuLVunpupNOu5bHwtzP8HBSHSVEl0YwqVBJl5xWyZE84K/6KxtBAYeYAZ54d2K5aKpKu5RXw6R8RrAiIRqeqTOnTmpeGulT4nGbmFhQPJptXoONRL0deG9ERi0Z3/rmNScrizV9OEBCRhGUjY/7vQTfGdLt995nsvEJ++CeGT/0jyMorZLRHS956uFO1VJSFnE/htc1aQsnZtjEvPNCeEZ3tyk0ohcam8smeswREJNG0oTFzR3ZkQg/HO/6bmpiRw9u/nOS3E5cwNTLgSe/WzOjXtswkx6mL6XxzIIpfjl6s1r9rl9NzmL/jNNuPatVQYz0dmHZ/G9rZNNbLtV1dTUKUZ/fu3cydOxdjY2PGjRvHyy+/rO+Q7nmShCiHJCHE3USSEHVDdl4hUVcyOXs5g7OXM4m4nMHxC1dJzMgtbmNmYkgXh6b0bGONdztrujlZlHkxvGfPHh577DGSk5N54403mDdvXr25KKgrUrPyeH/naTaFxGNsqDClT2v+N8i5Wi7yb3T2cgaLd4Wz+9RlDA0U/tu3Nc8/4FKrfdErQlVVfj2WwFu/aFURD7g2540HXWnd7M6TM6qqsjXsAu/vOE1SZh5erS2ZP7pLjZfq3+hyeg7/t+U4/qcTadbYhHk+nXiwi90d37DsPZPIG1tPcCEtu8a7IJy8eJVXNx3j5MV02tqYsWhsV3rc4Y39vvBE3vzlBHEp2bjZmbNgTBc8HC2qJd78Qh3fBUTzif9Z8gt1TOndileHd8Ssip99VVXZfiyBd7efJCkzj77O1swf3YU2d/gZPRqXxpzNxzhzKYN2NmZ8MKbrHVUe+J+6zNvbTnIhLZsu9k15/5HOdHWwqNK+opOyeGPrcf6OTMbazIQ376B6K69AxzcHovjsz0jyCnRM6OHA6yNcK52Qu5iWzRtbT/DnmcQ7rijLyMln0e9aYtLYwID/DXJmRv92mBhVrAuKqmrdJd7ZfpLL6bl4t7Nm4ZiuOFlXfmBfVdW6zby/4zTpOQWM7NKCtx7qVOFBnsPi0pjrd5xTCem0sm7EwjFd6dPO+vYb3kSnU/npcCwf/naGjNwChrg15+2H3UoMVixJCFFfSRKiHJKEEHcTSULUDlVVSbuWT3xqNnGp14hLuVb0NZuY5CxiU65x459PY0OF9rZN8HCywMPBAg8nC9rZNK5Uv+Tz588zbtw4goODGTp0KD/99FOJAZdExfxzLpn3d5zm+IWrNDY1YlJvJ3z7tsH2DscmOHHhKiv/imZr2AV0Kgzv1ILZw1xwtq29G++quJKRyzvbT/LrsQRMDA140rsVT/Vri22Typ8PVVXZf/YKH+8+y/ELV7EyM+H1ER0Z191BLxUgNw/K2bONFW8+6FalvtxnLqWz8Lcz7Au/QmNTI14d3oEnerWq8cEY8wu1MRCW+keQX6hjrKcDLw91wa5p5aYkPXclk/d3nOaPM4k0MjHkpSEuTPVuXSPjD5y7ksmczccIiknF3qIhr4/sWOkEUNSVTN7dfor9Z69gZWbCGw+68ki36htgNr9QxzcHzvHpHxHFlQevj3Ct1Dgi565k8sFvZ9hzShtk9ZVhHXiid6s7Hm/iehLvvV9Pk5KVx33OzZg/unOlEoT7whN579dTRF3Jop2NGQse6UKvtlX//+J6QuidbSdJzsqjv4sN80d3xtGqYjf/1yvSFuw8zeX0XHq2seKDMV1oZ1O1PujpOfks/O0MPx2KpYGxAbOHdqjU5zn8UgZv/nKCw9Ep2DYx5b3RnRnWqfRpsctTUKhj1d8xfLwnnJx8HY/1dOL1kR0rXAETmZjJ637a74pd0wa8O6ozQ0rp0iVJCFFfSRKiHJKEEOLepqoquQU60rPzSc/J52p2Aek5+drP2flcyczjSkau9srMJano+7xC3S37MjUywMmqES7Nm9C+eWPtq21jWjczq5YB5nJycvjf//7Hd999R6tWrdi8eXO580SL0ul0KtuPXeTzPyOJTMzE2FBhcMfmjPG0p5+LTYXL3pMzc/n95CW2HrlAUEwqAH2drXllWMdqe7pcWw6dS+bdX09x8mI6JkYGjOvuwIQejrg7NL3tjV9WbgHbj17kx0OxHL9wFRNDAyb1duL5we2rvdKkKq7P/LA+KBadCgM62OB7Xxvuc25W7ntTVZWD55L54eB5fj95CVUFH/eWvD6yY6WTAHcqMjGTt345QWBUMg2MDXi8Zyue6O1E29vcxJ28eJUVAdFsO3qRAp3Kw+4teW1ER+wtajZ+nU7lx0PnWfR7OBm5Bbg7NOXZgc4M7Ghb7t/CyMRMvt4fhV9oPDpV6///xoNuNTaobHRSFv+35TiBUcmYNzBiat82/Ldv63I/tzFJWaz4K5qfDsdSqFN5sKsdbz1UPYOs3ig1S+uGsj5Y64bydP92TOnTqswxXK4PZvjVvkj2hl+hgbEBzw6o3kFwU7PymL/jNJtDtYqyx3s68ewg5zKTljqdyl+RSXz6RwQh51Np2tCYOcM78qiXY7Uk8AKjknjd7zjnk6/RtpkZLw5x4cEudmXuOzb5Gt/9dY4fD8WiU1Ue7+nEq8M7ljlmR0WdT87itc3HOXhOq2B5un87nujdqswuGhfTslm+P4p1h+PI12lVQ7OHdaDJHXSJqm6ShBDVQZIQ5ZAkhLhbZOUWlHgCr6J9c/Ovsareuk4tXqfe9HPxVqW0LX8bFbV4Yanryju+CgU6lUKdruirSkFh0debl5dYry3PK9CRU1BITr6OnPzCopf2ffZNP2fkFJSaULiZkYFCs8am2DQpejU2xcGyIY5WjXC0aoijZSOaNTatlWnqvvvuO2bNmgXAl19+yX//+98aP+bdSKdT8T99mdUHYwiMSkZV/x2bw9PJgtbNzLC3aIiJkQGGBgopWXlcTs/hdEIGR2JTOX7hKjoVTIwMeLhrS6Z6t67REdNr2vXz8cW+KI4WDYrmZNWIvs7WdLZvSisrMxqZahcRCWk5xCRncTAqmcMxKeQV6GhkYsgYT3ueGeBcPAtAXRJ+KYOl/mfZdfISOlWburG/iw1era2ws2iARUMTrmbnczk9h+DzKfwVmURcSjagJS5mD+1QY4NEVoSqquwLv8KHv5/hzCVtGjev1pb0aqN157Jt0gAVlYSrOYScT+XA2SvF7Xq3tWL20A533J2jslKy8vj8zwjW/nOe/EIVmyamPNjFju6tLHGwbIixoQFXMnM5eeEqv524xMmL2lTE3u2seXmoC91b1Xy81ysPlvpHcD75Gg2NDRnsaktf52a0s2lMIxNDrmbnczohnd2nLhcPTOjpZMHcka41fk4PnUtm7pbjRF3JwthQYYhbcwa42NLWxowGxoYkZeZy4sJVfj2WUPzvPcqjJXOGd6yx38PAqCQ+/D2co3FpmBgaMKijLf072OBs25iGRTGFxaXxS9hFopOyMFBgUq9WvDTEpdqn2szOK2T5gSi+C4gmM7cAJ6tGPNRV+4zZNmlAbkEhEYmZ/HE6kT/PXEangrujBe/6dMK9GpPFqqqyMTieT/zPknA1B2szEx7qakfvtta0tGhIgU7l3JVM9p29wu6Tl8gvVOnq0JS3H+5E91aW1RZHdZEkhKgOkoQohyQhxN3iYFQyo1//AoCGbeXp+I2MDBQaGhtiamxIA2MDGhgb0rDoe/MGxpg3NMa8gVHRV2PMGxoVL7+eeLBoaFwrCYaKCg4OZuzYscTGxjJ9+nQ+++yz4nmjReVdTMtm29GL/BWRRFBMSvEsJWWxMjPBq7Ulwzu3YLBr8zsa1K+uUVWVY/FX2X70IjuPJ3Dxak6ZbU2MDOjZ2ophnVsw2qNlnXqSV5a4lGusPXSeP04nEpmYWWa7VtaNeMC1OZN63b7ioDapqso/51JYe+g8f55OJDu/sNR2zRqbMLCDLU96t9Zr8gQg4Wo2m4Lj2RASV5zYuVmTBkYM79SCcd0d7qjrQFUVFOr49VgCP/xznpDzqaW2MTEyYHinFkzo4UhfZ+ta62aUV6Bj18lLrDscS2BUcqltmpgaMba7A0/0boWzbc1/XlVVZc+py3wfGFNmTJaNjJno5cSkXk4V7rpRVSlZeXwbcI6NwfEkZebesl5RYICLDU/d35Y+7Wru3y4nv5CfD8ey+uB5ooumO71ZzzZWPDOgHf1dbCoUx65duwAYNmxYtcZaHklCiOogSYhySBJC3C3iUq7R09MdgLkrdgLaf7ra15L/ySkKKCgl29ywTvu55Pob93Nr25vW37QcRbnt/m9cr6BgZKhgaKBgZGBQ9FXB0LDo683LDbT22vcGWtLBxJAGxoY0MDKo0XnX9SkpKYnHH3+cPXv24OXlxaZNm3ByctJ3WPVeTn4hMclZxCRlcTEth/xCrcLG2swEW3NT2jZrTCvrRnVipovacDk9h2PxV7mUnkN2XgE6FeyaNsDBsiGdWjatkekYa0t86jXCL2WQcDWHq9n5NG1ojLWZCV0cmpYYGK6uKijUceaSNvBtSlYeigI2jU1xa2mOawvzOpU4Be3GNepKJicupHMpPYdCnYpFI2Pa2zbB3bFptXUbuFNXMnIJjU0lLuUaOfmFmDc0pk0zMzwcLfSeaEtMzymKLZu8Qh1NGxrj0ly/5y85M5eQ86mcT75GXqEOy0YmdGjRmC72FhUedLK6FOpUTl68yqmL6SRn5WFiaICTdSO8WlvVWLee0qiqSkRiJkfj0kjMyMXYUMHBshHdW1lWuuuOjAkh6itJQpRDkhDibiIDU957CgsLeeutt1iwYAHNmjXj559/ZvDgwfoOSz+y0yAlCpLPQVYi5KRDQTYohmBoDI2swcwGrNqCTQcwrntdBoQQQogbSRJC1FdVTULUrfnEhBBC3MLQ0JD333+fnj17MmXKFIYOHcr777/PnDlz7u4n9QV5cPEIxB6E2H/gQjBkXan49ooBNOsAre+Dtv2h3WAwqftPvoUQQggh7maShBBCiHpi1KhRBAUFMWbMGF5//XUOHz7M999/j7m5ub5Dqz7ZqRCxB87sgMg/IE8bhA0DI2jRFZyHgHVbsGoH5i2hQVMwagCqDgrzICsJMi9DciRcPgnxwRD0rfYybgQuw6HbE9B2IBjcnV14hBBCCCHqsjqRhFAU5TPAB2gFdFNVNayMdr7Aa4AB8CfwjKqq+bUVpxBC6JuLiwuHDh1i2rRp/Pzzz5w8eRI/P7/iUs56qSAPInZB2Drtq64AUMDBC9oPAac+YN+9alUMqgrJURC5B05ugZN+2suqHfR6GjwnS5cNIYQQQohaVCeSEMAmYBHwV1kNFEVpA7wHeAKXgV+A6cAXtRGgEHVFu3bt9B2C0DMzMzN++uknevfuzezZs+nVqxcrVqxg4sSJ+g6tci4dh9Af4PhGyE7Ruk+0HQBuo7WKhSbN7/wYigLNnLVX75mQGgPBqyB0Dfz2CgR8DPe9AD18waj2BjQTQgghrpNrO3GvqRO1qKqqHlBV9XYjR44DtqmqeknVRtP8Gnis5qMTom7Ztm0b27Zt03cYQs8UReH555/nzz//pEmTJjz66KO89NJL5OfX8eIwXSGc3g6rHoSv74PDy8GsGTwwD148CZO3QPcnqycBURrL1jDkHXjpFAxfqC37/TX4qg+c3V0zxxRCCCHKIdd2JR08eBAzMzM8PDyKXwMHDtR3WABERETg7e2Ni4sLXl5e5Q4m+txzz9G6dWsURSEsLKzEut9//50ePXrQtWtXevfuzdGjRyt0jNzcXGbNmkX79u3p0qULTzzxRPG6oUOH0rVrVzw8PLj//vs5cuRIpd7byJEjWbZs2S3L3d3d8fPzq9S+bktV1TrzAmIAjzLWfQ68fsPPbkBsRfZrb2+vCiHE3erixYtq3759VUDt16+fmpCQoO+QbpWdpqp/f66qn3RW1bfNVfUda1XdPF1V44JUVafTX1x511R1/0eqOr+FFtfacaqaFKm/eIQQQohaUFBQoJ46dUotKCjQdyi3+Pzzz9VHH31U32GUauDAgeqqVatUVVXVjRs3qj169Ciz7f79+9W4uDi1VatW6pEjR4qXp6SkqFZWVuqJEydUVVXVAwcOqJ06darQMV544QV11qxZqq7o2unGa77U1NTi7/38/NSuXbtW6r1t2rRJ9fT0LLEsKChItbGxUfPy8krdpqzPERCvlnN/Xle6Y1QrRVFeAl66/nPTpk31GI0Q1euLL7QeSM8++6yeIxF1hZ2dHXv37mX27Nl89tlneHp6snHjRvr27avv0LTxGA59DUd+hPwsaNQM+s+BHv+FJi30HZ02HkS/2eD+GPi/rXUNiQ6AB96GnjNk8EohhBA1rq5c2yWtPklBck6N7NvIugHNnqzY+FWhoaF4eXmVuX7p0qX8+uuv+Pv7V1d4FZKYmEhwcDC7d2uVk2PHjmXWrFlERkbi7Ox8S/t+/fqVup+oqCisra2Lx/O6//77iY2NJTQ0FAcHhzKPYWdnx4oVK4iPjy+eHa1Fi3+vpSwsLIq/v3r1arkzqAUFBTFnzhzS09MpLCxk7ty5jB49mpkzZ3Ls2DG6du0KwMqVK5kyZQrGxsaVOFO3V5+SELHAjR2mWhctu4WqqkuAJdd/dnBwUGs0MiFq0Zdffgno/z8qUbcYGxvz6aef0qtXL5566ikGDBjAkiVLmDVrVu1P46mqcG4v/PO1NtAkQIsu0GsmdB4Lxg1qN56KaGoPY78Dzyfhl2e1LhqntsGoZWAtfXWFEELUHLm2KykkJISAgADWrFlTvGz37t3Y2tqSn59/S9eG6yZOnEh4eHip67Zv346jo+MdxRUXF4ednR1GRtottKIoODk5ERsbW2oSoizt27cnOTmZwMBAvL292bZtGxkZGcTExKCqapnHuHbtGlZWVixYsAB/f38aNmzIvHnzGDx4cPG+p0yZwt69ewHYuXNnqcdPS0tj+vTp7Ny5Ezs7O5KSkvD09MTb25vJkyezcuVKli5dSk5ODuvWrSMwMLCqp6xM9SkJsRn4S1GUeWgDUz4N/KzXiIQQoo55/PHH6dKlC2PGjOG5557j0KFDLF++HDMzs5o/eN41OLYeDi2HK6cBBTo+pA0I2aqvNkhkXdfmfpgZCH+8A4e/0catGPkReEyqH/HfCVWFlHPa4J256ZCfAw0tobEt2HQAk1r4DAkhhNCbilYq1KScnBzOnDlDSkpKqdcuP/zwA4899hgfffTRLevWr19fpWP26dOHiIiIUtcdOXLkjpMXN2vatCmbNm3i9ddfJzMzkz59+uDm5laceChLQUEB58+fx83NjYULF3LkyBGGDBnCyZMnad5cG0vreuJm9erVzJkzp9RERGBgIOfOnWPEiBElloeHh+Pr60v//v1ZtGgRfn5+uLq64urqWk3v/F91IgmhKMpy4EGgBbBLUZQMVVWdFUX5Dm0wym2qqp5TFOVt4O+izfYBy/UTsRBC1F1dunQhKCiIKVOm8OOPP3Ls2DH8/PwqlaWvlLQ4CPoOQldDdiqYmkOfWdDzKW0gyPrGtLGWeHD1gS0ztMqIqL3w0CfQwFzf0VWvrGQ4s10bLDQuCHKvlt7OwAjs3KHtQHB/FJq1r904hRBC3BOOHTuGvb19qQkInU7Hrl27WL9+falJiKpWQhw8eLBCsTk6OpKQkEBBQQFGRkaoqkpsbCxOTk4V2v5GAwcOLB5sMzc3lxYtWuDm5oa5uXmZx7CwsMDAwIBJkyYB0K1bN9q0acPx48eLkxDXPfnkkzz99NMkJydjbW1dYp2qqnTq1KnMCgdnZ2e2b9/OypUr8fX1rfR7q4g6kYRQVXVGGcun3fTzt8C3tRKUEELUYxYWFmzdupUPPviAN998kx49evDDDz/w8MMPV88BVBViArSqh/CdoOrAqh0MmAsej4Fpk+o5jj61uR+e/gt+mQUnNsGFYBi3Euy76zuyO3chBA5+Cae2gq4ADIzBoQfYeYCNCzRoCkYN4VoyZFyCi6EQe1DbLmAxOPaCvi9AhxF3f4WIEEKIWhMaGkrnzp1LXefn54ePj0+Z21a1EqKibG1t8fT0ZO3atUydOpXNmzfj4OBQpYc8CQkJ2NnZAfDee+8xaNCg4v2Ud4zBgweza9cuRo4cSXR0NNHR0bi6upKWlsa1a9do2bIlAFu3bsXa2horK6tbju3t7U10dDT+/v488MADAISFheHm5oaJiQm+vr4sWLCAiIgItm7dWpVTdVuKNnjl3c3BwUGNj7/dDKBC1A/XB7Epb0ogIW60e/duHnvsMVJSUnjjjTeYN28ehoaGVdtZXhYc26B1VUg8pS1rP1QbxLHdoLtzIEdV1So9dv0fqIUw+G2t0qM+vteLR8D/HW3MDoA2/cHjcXAZDg0tyt9Wp9MST2E/wcktUJgLLbpqU562G1TjoVervCw4fxCi92uDp2ZehvxsMLOGxs3BwQvaDoBmLpJkEULUOH1c2xUWFnL27FlcXFyqfk1QA5566im2bNmCg4ND8bLRo0czb9483n//ffbt24ehoSHBwcEsXLiQadOmlbO36hceHs7UqVNJTk7G3NycVatW0aVLFwCmTZuGj49PcaJkxowZ7Nixg0uXLmFtbU2TJk2IjIwsfp8BAQEUFBTQp08fPv/88+KBJcs7xrlz5/D19SUpKQkDAwPeeustxo4dy/nz5xk/fjzZ2dkYGBhgY2PD4sWL8fDwKPV9hIaGMnv2bJKTk8nPz8fJyYmtW7fSoEEDMjIysLOzY+LEiaxYsaLc81HW50hRlAuqqjqUtZ0kIYSoZ1588UUAPvnkEz1HIuqTmJgYxo0bR0hICMOGDePHH3+8pTyvXAnH4MhaOPYz5FzVulx4TNK6XNwrAzdeOg6b/gtJZ7XEy+ivwKyZvqOqmIzLsPv/tNk/UKDrBPB+DlqU/rTpttITIPAzCF4JBTla15VhC8CievvNVrsLoRC0QqtsKSgaAV4x1Ma9MC6q/Mi5oUtKsw7aZ9z90bpf3ZObCXGHtHE98jLB0BQsnLSqlcY2+o5OCFEOfVzb1dUkREU98MADtT47hriVJCHKIUkIIYTQBnt69tlnWblyJa1bt2bz5s14enqWvcG1FDi+CY78AJeOactsXMHLt37clNWEvCzY+QqE/QhN7LQZNVrfp++oyqbTwZE1sOct7ea6/VB4YB40r6bBx9JitQqR09vApDEMnQ/dp9a96oGLR8B/Hpzbp/3s0BPcRkHb/mDbqWRVS046nP8bIv+A4xu089bAQpta1msaGJno4Q2UIT9bq0w6ug7ig7SuNaWxbq91k+o2pe4lJHLStX+XK2e0vzkGhtrvVksPcOwNhnWi57AQd536noQQdYMkIcohSQghhPjXt99+Wzx151dffcV//vOff1fm50DUH1ry4cwOreTe1FybWrPbZLD3rHs3mPpw9Gf49SUoyNZuTvu9ot081SVXwmH7CxAbqN3UjfwIXKtpTJCbRfjD9ucg/QK0Gww+n2vTnupbVhLsmqvN2oICXSdCn2fBrmvFts/L0rY98DGkx4NlG3hoif67n+Rdg4PL4J+vIDsFjM20MUza9AdbV21Mj4IcrWon9pD2O515WRv7w3OyNnaLPpMROp02lkzwCogOAF1+6e0aWWtVNr2eBtuOtRvjzdJitW5I5/ZDSpRWeWLaWBsLx6mPltSycdFvjIUFcPk4JEVCXoaWGLRqp02RXFeSZ6oq/4fUEZKEENVBkhDlkCSEuJtIdwxRHYKCghg7dixxcXFMn+bLZ8+PxjTiVy3xkJuuNWp1n3bD4uoDJo30G3BdlBQBG/+jXfS3vh/GfAvmdvqOCgpyIWAJ/LUECvO1ypXBb2k3pjUp5yr8PhfC1oJpUy3p0XWCfm44VFVLpP0+R+ti4fwADHm36hUg+dnaDf+BxZCfBZ5TtKqPmj6nN7v+vvzf1hI+lq2h10xtXI/yZm4pzNd+tw9+AfGHwaQJ9H8Vej9T+5UGZ3bAn/O1MWUMTaBNP21MEoceYGYDukLthv/833By67/T/XYZBwPnglXb2o33fCDsXaCNhwJg1ACsnbVKsNwMSI78t2uP8xDw/p9WYVObLp+CQ1/BqV9Kdie6ztRcS0B6P1f7yZyEY1o3sJiAf5Mjpk21ONr00xKDtT3bTlqsVul0+aT298G4kdatsE0/aOlZu+P9qCokRfDiy7PByJRPVm6stUNLEkJUB0lClEOSEOJuIgNTimqReYUrhzfx2PPv8seJS3i1NGDzhEY4uvaATo9or7rev78uyM+B3W9A0LfQqBmMWqbNGKEvMX/Dry9oT8Bt3eDhT8GxZ+3GEP67VhWReVl7OvzQUmh06+jcNeZqPPz6IkTs1v5NRnyoVfJURzIk9bz23s7tgyYtweczaD/kzvdbEWlx2r9tpD80tIQBr0OP/4KhccX3oapa15k9b0FqjDbTy+ivwKZDTUX9r4zLsHO2dnxjM+g5TRvgtbFt+dvFB2tJgKg/tARA/1e1m+nKvO+qSIqE317VjqsYQqfR0HkcOA8GI9N/2xXmawmT4JXaVLeqDjqMhOEf1PwUxSnR2rk5vhFQtYqH9sO0sV4aNNWSJJdPQcQurUsSipaMeGBezY/lcyEE9rz9b/KmUTNo7qYlRLLTtORtzlUtpk6jof9rNZ8giTusna/rA/OWppmLNvNP1wk1+xm7lqIlNsN+gvR4On2ZCSaNORlfxjTJNUCSEKI6SBKiHJKEEHcTSUKIKsm7pg1aFxOg3UBdCAVUCnXwZrAVH/wWQzNrK35ev4HBgwfrO9r659Q22DZLu6juMkG78a3NG++sZO3p+JEftAEJB8yBPv/TXwl2VrJ2w3x6mzbbxKgvav5mXafTyvv952kDM3Z9VBss06wSA7BWhKpC6GrY9Yb2VLf7VK0qoqbGSNHpIGSVljjIywT3x2HY+3f2+crPhr3vQ+AyrRph4FztCX5NdClSVW0MlV1ztd8Pt1Ew4iNo0vz2294oOkBLLiVHQPPO2meqpUf1x1tYoHV12feBVuHQZQIMeK1iN+0p0fDne3Bis5YwGfCa9ntY3dUmhQVw8HPY+4HWZa7dYBj4f+BQzvTB8cFaJc/Z37TY+r2iJXOq+29EZiL8/ro2+KtioJ0/r2lawuvGCgNdIcT8pVXnROwCFOg1Awa9qXVzqU4p5+C317TjKAZaIqbzWG0WHDMb7ffq8imtSid0jfZ7bdkaHlyiJZ2qk6pqXbx2zdWqMJo6QscH6TTrRzAy5WR4VPUerxyShBDVQZIQ5ZAkhLibSBJCVEjGZbgYqj2NOh+oDVpXmKetMzXX+rS7DNduDM2asXXrVp588kkyMzNZsGABr776Kor0262c9ATtxvvs72Bmq3VHcBtVs90RdDrthviPdyA7VSsnfmhp3Zix5PrF9s5XtC4+3f9TdLNezTcYoN1A/PqClmhr6qidg/YPVP9xbpQWB788q03zadEKHvkaWnlX7zGSo2D781ry0NxBq2ypzvcVdxi2ztS6FDh4weivoVnl57svU0q09u9ybh80bgEPfgyuD1V9f/k5EPCx1tVIVeH+l7Sb6RsrE+7EpePav2nCUa3Lhc/nVfs3jT5QlDCJrP5qk8untBgvhmoxPvSJ9ntfUTF/a5+p68mc0V+Cnfudx6WqWkXGb69qf4vaD9Om77V1vf228cFa4iL+sPb7+/Cn1XPzryvUqg3+nK+N39NpjJZwK6/7R3YaHP4W/vpE63pVnUnl5CjtcxG9X6sMGfY+dBkPBoYyRaeotyQJUQ5JQoi7iSQhRAmqqpWfJ4VrF9AXQuDCEW0QveuMzaBVH23cgjb3Qwv3Up/MnT17ljFjxnDy5EkeeeQRvv/+e8zNy+lnLm6lqtpsBb+9Cjlp2kCBwxdqZcjV7fxBbdrNCyHaDd6w96uv20F1SovTbnRjArSniyM+Apeh1bPv/Gw48BH8/al2w9FzOgx+s/ZmbtHptK44e97Wnpr3eVZ7In2nY6gUFsA/X2rVCgU5WreLB94pf9yHqsrPhj/e045nZAqD39YGgryTfvG6Qjj0tXbzl39NG0NjyHvQ0KJ6Yk44Bluf0Ur6bd20G+mW3aq+v/ycos/RUu13uO9zWvcA4wZ3sM+bq01ev7OqiMJ8Lb59H4JaqFWuDHhdm1q2sgpytWROwMfaz/e/DPfPrnpVxNULRV2gdmmVBSMXa10sKkOng6DvtIRqXmZR0vK9qv8uJ57WkjUXQrRxRHw+r9xMRmmxsGN20Xuy1RIjHUdWLZaCPO1v1IGPtMoVzyna7/MNiQ1JQoj6SpIQ5ZAkhLibSBLiHqSqWv/RtPPahVFqtDbzwZVwre9/Xua/bRUDbRpN+27aAFv23bXB+CrYtzUzM5Np06axfv16XFxc2LJlC25uNXADfbfLTNQupo/8qCUFukyAfrOrZwC2+BCtVDxyj9ZXvfdMbYaOmrhBrS463Q03pVnQ4UF44O2qPx3W6bRy7z/na78XLbpoNwn25ZSj16SkSNgyAy4Ea09yhy3QSr6rkhCKDtCSSwlHq3bzVFXnA7VkUWqMNoXpyEVVu7GP/UdLwiUc1ZJOD39WMwM1FuZrA7AeWKT9jbzvRW28iMpWRcQe0rpSJZ3VPkc+y6q3m8eN1SZVrYqIPaTd5CeeBJuOMOrL8rteVFTC0aJkzglo3qWoKqKCM8fAv5VYe97Sqp2qo2og9byWPIgJAAsn7b22ub/i219P1uxfpE1Z2/uZqicGi5PKr2hdidwf05LKlUmmnQ/UZilKCodmHeDhpaVW10gSQtRXkoQohyQhxN3kiy++AODZZ5/VcyTijhXkaRc215K0m9asK0VfEyHzijaw39V4LfGQn3Xr9o1baFPC2XTULmpt3bSyWhOzOwpLVVU+/fRTZs+eTYMGDVi5ciUTJky4o33esy6EamMURO8HFG3QSs8ntdkaKvNENDdTm9Lw8LdayTJog+QNnFs3ul5U1NUL2kCeJ/0ARavc6POsdrNbkRv2vGvatge/1G7ITJtC/1e0GSJqe5aHmxUWwOFvtARRbrp2I3//S1pZ+u2qClRVu1kJ/EzrzmNgDH2eqfqT7qrKzYQ/3tWqO1RVm3WjojMqJByFv5Zq/z7X4+//Ws3PrHPpuHYjfemYNoVq/1e1m+HbfR4ST2uVCqe3/zuOSk0NeHljVYSBEfT4j1Z90KRF+dslRWjVCkfXadUUfV/QkpnV1f0EtP+HDnykHUdRtKf0/V4B85blb3duv5YEjD+sDdL68FJwGVY9MV2vivB/W6ukcRulDaZZ3swoqgrhvxXNvHI9WfOFNuvKnUq/CNue0xK/jay138vuU8v/rCRHabGc9NM+X/1egb7Pl1ltoo9rO0lCiOogSYhySBJCiHrqxr9PJf5WVeNyXUHRq7DoVVBymVp4U5ui7wvztZLWgmytlLf4a9ErP/vfr7kZ2k1JzlXISf/3++vTupXF0FSboaKpo/ZEyMJJ63tu4aQlHxpa3v4c3oGAgADGjx/P5cuXeemll/jwww8xMtLzjV59FXtIu8iP2A2o2oVs24HQdoBWqdKs/b9lxzodZKdog6nFB2sj70f6a58XQ1Nt1Pbez9RMF4/aEhcE+xdq7wu0G4ZOj2gzedh5QAML7cY9P0ebivJCCETthfAd2u+OcSOt60Xf52t3ANCKyEzURuAP+1Ebh8WqLXR8UEtG2HTQytVBq2C6dEJ74nvqF+1pNGj91ge/BVZt9PceLp+E31/TxjYA7bPa8UFt7AHr9tq/ja5Qqx44t08b0O/6LAjth8KwD6p3bInbKcyHwM+1J+A5V7W/kZ0egY4PQYuuWreK613Xov7QBo6MDgBUbSaLB97R/qbWtLjD2nm9EAJGDaHLWHAbrY3H0dBCizHrCsQe1MZXOP2rFmPbAVoXh5qcyvJimFbBEndIG7iyyzjts+jYU/vbdP38ndunfbZjD2oJle5Ta24K4JRzsPtNOPOrlthyG6X9/XPs9e/5SouFqD8h5HtICNPOq/f/qj9Zo6pw9Getwi0jQavy6f4fLbFs7awN6pqbCXH/aNPoHt+oXSu0H6bNlFIHk8WShBDVQZIQ5ZAkhLhrnD8IPz+mfV/mTTZlLK+hm/jqXn63MmmsXaSZmmtl86bm2s8NzLUBqhrbajcnjW21/qeNbbQ2eu7ff/HiRSZMmMDff/9N//79Wb9+Pc2bV3JUe/Gvq/FaF40zv2pPbm9kYKRd/Odna8mvYgq06qv1se70CJg1q82Ia9bFI9r5OL5RG0OjmKIlGm6uALLtBN2fhK4Tq298gZqSnqCNs3B8o3bTcp1Rg3+TmdeZmmtVB17TavZGszJUVbtpPvSVNvvL9c+kgZE2zkx+1r/vwcBY+2x6z6qeQQ6rKjtN6/YTshoyLhYtVLS/vwU5oMvXFhmaaMmS+16snifllXH9if2Bj7TBJa8zNtOm9yzI/ndZ+6Fw30vamD61FVvEHq2a58bYTBpriZ7CXO1nQxOt2qT/KzU/DSlog2nu++DfRBdo50uX/++Ay0YNtITIfS9VfuaVysjL0mb0OPS1NrsFaJ9/I9OSXSOd+mgzfbTuW3Ox3KG6nIQ4ePAgDzzwAO3b//v30NLSkr17y5letZZERETw5JNPkpSURNOmTfn++++Lu9OUZdWqVfz3v/9ly5YtjB49+rbrcnNzefnll9m1axcNGjTA3d2dtWvXArBz507eeOMNdDodBQUFvPLKKzz55JMADB06lEuXLmFgYECTJk347LPP6Nat4t3qRo4cyciRI5k1a1aJ5e7u7rz99tuMGTPmlm0kCVEOSUKIu0bCMXxGatPcbXve66Yb1Bu+r9PLKWO5nuIxMNaeYBgYlfLVqOTPimHJZcYNtQuf61+NGmhP3IwaFn0tepk2qZmp72pJXl4er7zyCp999hktW7Zk48aNeHtX8ywA96KMy9rTxKQIbaT63EztBsSooXYRbW6v9SG396yZp4x1SUGeVs4fH6SVUudc1S72G1pqZeE2rtrT4Kb2+o608nQ6SDiiPXlPO68N1GlooiVRLNto4z3Yd9ffdKoVkZ2qdReJ+VsbkyY/W0sSWbXRqiNa9a2ZWU+qSqfTbqIjdmtj5+Skab9XTe21qoMOI+rG79SVcK0a6NIJrfudokATO617UvuhWiWcviSe1hISl09o1RkGRlpVnmMvbVYlfVQgJUfB2V3a34rrMVk4gmNvrStIbY6Lk5+jVYXEBGhxFeRoDxJadNFiqeS4Hz4+PgBs27atBoItXV1OQixbtoy///6bdevW6TuUWwwaNIgpU6YwdepUNm3axIcffkhQUFCZ7WNiYnj88cdRVZU5c+aUSEKUte7FF1+koKCAzz77DEVRuHTpEi1atEBVVaytrdm3bx9du3YlJiaGjh07cuXKFZo0aUJaWhoWFhYAbNmyhXnz5nH06NEKv7fNmzezYMECQkJCipcFBwczcuRILly4gLHxrV2QqpqEkLpaIeoTu65E5RU9BZ36q35jEfcMExMTPv30U3r27MlTTz3FgAED+OSTT3jmmWdkGk8grzCPtNw00nPTKSx6WtzIqBFWDa1oZNSo7HPUpHnlR5C/WxmZgKOX9rrbGBgUJZP0NGhmdWhoqXXH6PigviOpGAMDrcKhtqscKsumQ/VN3VndbF0rNr1mbbJup401UhcYN4AOw7VXNYiKiqqW/dwtQkND8fK69f+Dw4cP8+KLL6KqKoMGDWL+/Pm1GldiYiLBwcHs3r0bgLFjxzJr1iwiIyNxdr61C5pOp2PatGl8/vnnvPzyyxVal5WVxYoVK4iPjy++fmjR4t/xYxRFIS0tDYD09HSsra0xNdW6Hl1PQABcvXq13Gu0oKAg5syZQ3p6OoWFhcydO5fRo0czc+ZMjh07Rteu2iC1K1euZMqUKaUmIO6EJCGEEEJUyKRJk+jSpQtjxoxh1qxZ/PPPPyxfvpxGjWp44Lk6QlVV4jPiOZp0lKOJRzmbepa4jDiuZF8pc5uGRg1p17QdzpbOeNh40LNFTxyaOEjyRgghRJ3z008/kZqaWiP7trS05PHHH69Q25CQEAICAlizZk3xst27d9OtWzf+/vtvAAYPHkx6enqJqcQnTpxIeHh4qfvcvn07jo53Vl0UFxeHnZ1d8fhYiqLg5OREbGxsqUmIJUuW0LdvX7p3vzUJXda6qKgorKysWLBgAf7+/jRs2JB58+YxePBgFEVh/fr1jBkzBjMzM1JTU/Hz88PE5N9KuilTphR3W9m5c2ep7yMtLY3p06ezc+dO7OzsSEpKwtPTE29vbyZPnszKlStZunQpOTk5rFu3jsDAwCqfs7JIEkIIIUSFde3aleDgYKZMmcLatWs5duwYfn5+tGtX9wbdqg7X8q9xMOEg++L28deFv0jKTipe18SkCa3NW9OjeQ8sG1hibmqOoWKIikp2QTYp2SlcyrpE1NUoTiSfYGvkVgBambdieOvhjGwzkrYW5Yz2LoQQQtxjcnJyOHPmDCkpKZiZlT7bV2FhIS1btrzlIcj69eurdMw+ffoQERFR6rojR45UKXlx4sQJNm/ezIEDByq1rqCggPPnz+Pm5sbChQs5cuQIQ4YM4eTJk1hbWzN//nz8/Pzo168fQUFB+Pj4cPz4cZo10yqlryduVq9ezZw5c0pNRAQGBnLu3DlGjBhRYnl4eDi+vr7079+fRYsW4efnh6urK66u1V8VJUkIIYQQlWJhYcHWrVv54IMPePPNN+nevTtr167loYce0ndo1SKvMI+A+AC2n9tOQHwAeTpt4DNnC2eGtBqCu407XW264tC44hUNSdlJBF8O5nDCYf6M/ZPlx5az/NhyerboyeMdH2eA4wAM6/G4IUIIIeq/ilYq1KRjx45hb29fZgLip59+Yt68eQwbNuyWGbuqWglx8ODBCsXm6OhIQkICBQUFGBkZoaoqsbGxODk53dI2ICCAmJiY4sE1L126xPTp00lI0AYqLmvd+PHjMTAwYNKkSQB069aNNm3acPz4cSwsLLh48SL9+vUDwMvLCwcHh+JExY2efPJJnn76aZKTk7G2ti6xTlVVOnXqVGaFg7OzM9u3b2flypX4+vpW6NxUmqqqd/3L3t5eFeJu4ebmprq5uek7DCFUVVXV33//XbWyslIB9a233lILCgr0HVKVnUs7p84/OF/tu66v2vn7zmqX77uo//39v+raU2vVuPS4ajtOQWGB+s/Ff9RX97+qeqzxUDt/31kdtWWU+lv0b2qhrrDajiOEEKJ+0Me1XUFBgXrq1Kk69//2V199pT788MPltiksLFTHjBmjHjt2rJai+lf//v3VVatWqaqqqhs3blS7d+9e4e22bNlSoXVDhgxRd+zYoaqqqp47d061trZW4+Pj1UuXLqmNGzdWT506paqqqkZERKiWlpbq+fPn1dTUVPXChQvF+9iyZYtqb2+v6nS6W46XkpKitmjRQt2zZ0/xsiNHjqi5ubmqqqrqt99+q3p6eqpNmjRRMzIyyn1fZX2OgHi1nPtzqYQQop5ZsmSJvkMQotiwYcMICQlh7NixvPvuuxw+fJgff/wRKys9jJxeBaqqEnw5mNUnV7M/fj+gVTz8t/N/GdlmJC3MWtxmD5VnaGBIL7te9LLrxSvZr/Dj6R/58fSPvLL/FVZZr2Jur7m42+hxmkMhhBC1Sq7t/hUSEkJgYCAeHh7Fy0aPHs28efPIzc3F1NS0eArKBg0a1Hp8y5cvZ+rUqSxYsABzc3NWrVpVvG7atGn4+PgUz3ZSVV9//TW+vr7MmTMHAwMDli9fjr29NjvUN998w4QJEzAwMECn07Fs2TKcnJw4f/4848ePJzs7GwMDA2xsbPj1119Lrdi0tLRkx44dzJ49m5dffpn8/HycnJzYunUroFWUvPDCC0ycOJHGjWtm5iOZolMIIcQdy87O5tlnn2XVqlW0bt0aPz+/Ss1NXdvyC/P5PeZ3fjj1A6dTTqOgMNBxIFM6TcHT1rPWB45MyUlhxfEV/HT6JwrUAh5xfoTnPZ/HuqH17TcWQgghKqkuT9FZlo0bN/LFF1+g0+no169frc+OIW5V1Sk6JQkhhBCiWqiqynfffcesWbMwMDDg66+/5sknn9R3WCVczb3KxrMbWXd6HYnZiTQ0asiodqOY7DYZJ/Nb+3TWtnNp51hweAGHEg7RxKQJc3vN5cE2D8psGkIIIapVfUxCiLpHkhDlkCSEuJt06tQJgJMnT+o5EiFKd/jwYcaNG0dcXBxPP/00S5cuLZ7DWl9i02NZe3otWyO3kl2QjW1DWx5zfYzxLuNpatpUr7HdTFVV9pzfw/uH3iclJ4UhrYbwZu83sWxgqe/QhBBC1AB9XNtJEkJUh6omIWRMCCGEENWqZ8+ehISE8Nhjj/H1119z5MgRNm3ahINDmf8X1QhVVQlNDGXNyTXsjduLikpHq45McZvC8NbDMTY0rtV4KkpRFIa2HkqPFj2Y/8989pzfQ+jlUObfN5/77O/Td3hCCCGEEHdEkhBCCCGqnY2NDb///jtvvvkmCxcuxNPTk59//plBgwbV+LHzdfn4n/dn9cnVnEzWnir1d+jPFLcpeLXwqjddG6waWPFx/4/ZEb2DBf8sYKb/TJ7q8hTPeDyDkcHd+9/31dyrhFwO4dzVc8Smx5JdkA2AmbEZrc1b09aiLT2a96CRcaPb7EkIIYQQddHdexUjhBBCr4yMjPjggw/o2bMnTz75JEOGDGHhwoXMnj27RhIB6Xnp+J3148czP3Ip6xKmhqZMcJnAE25P0KZpm2o/Xm1QFIWH2j6Eh40Hs/fP5tvj33Ik8Qgf9vsQ20a2+g6v2mTlZ/Fr1K/sjN7J0StHKVQLy21vYmBCT7uejGo3isGtBmNsUDerWoQQQghxK0lCCCGEqFGPPPIIbm5ujBkzhldffZV//vmHVatWYW5uXi37j7kaw7oz69gauZVrBdewbmDNLI9ZTOgw4a4ZR8GhiQNrRqzh4+CP+enMT4zfPp6F9y+kT8s++g7tjly5doWVJ1ayJXILWflZNDRqSD+Hftxnfx8drDrQqkkrmpg0AeBq3lVirsZwKvkU++P380/CP/x14S+aN2rOFLcpPNrxUUwMTfT8ju5cTkEORgZGd3W1ixBCiHubDEwpRD0jA1OK+iozMxNfX182bNhAx44d8fPzw9XVtUr70qk6Ai8G8uPpH/nrwl8AuFi6MNltMiPbjLwrbkbLsjtmN28Hvk1WfhbPeDzD9K7TMVAM9B1WpWTlZ/HNsW/46fRP5BTm0MGyA492fJSRbUZWuJtFSk4Km85u4uczP3Ml+wr2je15ofsLDGs1rN50ucnX5RN6OZQD8QcIvhzMxcyLpOWmAVr3E4fGDvRo0YPedr3pa99XKj6EuEvJwJSivpLZMcohSQhxN4mMjATA2dlZz5EIUXmqqrJ06VJeeeUVGjZsyMqVKxk/fnyFt7+ae5Ud53aw7sw6YtJjMFAMGOQ4iMddH6dH8x715ubzTsWmx/LSvpcITw2nr31fFt63EIsGFvoOq0L+uvAX7x58l4SsBNpbtue5bs/R36F/lf/tcgtz+en0T3x77Fsy8jPo79Cft/q8Vae7q1zNvcrmiM38ePpHEq8lAmDdwJpW5q1obtYcnaojPTediLQIkrKTALBtaMu4DuN4rMNjdfrf+lr+NUITQzmVfIqLmRfJLczFzNgMxyaO9GjeAzdrt3vm91SIitLHtZ0kIUR1kCREOSQJIYQQdcv+/fuZMGECiYmJzJ49mw8++AAjo9LLz3WqjsOXDrMlYgv+5/3J0+XRxKQJ49qPY2LHidg3tq/l6OuGnIIcFhxawJbILbQwa8GS/kvoYtNF32GVKS0njY+CP2Jb1DYaGTXixe4vMqHDhGqr4kjNSWVR0CJ+PfcrTUyaMMdrDj7tfOrUDW9+YT4/nfmJ5UeXk5GfgU1DG8a5jGOQ0yA6WHa4JVZVVYlOj8b/vD8bwjdw+dplmpg0YUbXGTzW8bE6VfFzMukkG89u5Lfo37hWcK3Mdi3MWjCi9Qgmu03GppFNLUZYPp2q40jiEQ4nHCYmPYbM/ExMDU1xaOyAu407vVv2xszYTN9h3kKn6ihUC6VKRlSaJCFEdZAkRDkkCSHuJlIJIe4WFy5cYPz48Rw8eJABAwbw888/07x58+L1CZkJ/BL1C1sjt3Ih8wIAnraePNL+EYa2GiqzIxTZErGF9w+9T6FayKter/Joh0fr1I23qqrsOr+LDw59QEpOCvfZ38dbvd/CrrFdjRxvX9w+3j34LleyrzDAYQDv9H0HqwZWNXKsyvgn4R/eO/gesRmx2De2Z6b7TEa2GVnhqWILdAX8HvM7n4V+RkJWAm2atuH9vu/rPfEUlRbF0tCl7IvbB4CrlSsPtn2QbrbdcGriRAOjBmTmZxKVFkVAfAB/xP5BfGY8JgYmjO8wnpnuM2lq2lRv8afmpLLm1Bq2RW0rrkoBbfDTPF1e8c9mxmb4tPPhsY6P6XWg23xdPntj9/JH7B8cvXKUS1mXKFQLaWTUCGcLZ3rZ9eIR50dwNHfUW4wAidcSCUsMIz4zntyCXJqaNqW9ZXvcbdz1njxTVZXsgmzydfk0Nm6MoYH+b8ClEkLUV5KEKIckIcTdRMaEEHeTvLw8Xn75ZZYtW4a9vT3f/PANyc2T2RWzi6NXjgLQrGEzfNr58IjzI7Ru2lq/AddRZ1LO8NK+l4jLiGNEmxHM6zOvTiRpEq8lMv+f+eyN24uFqQVzes7hwTYP1niS5GruVT44/AE7zu2gWcNmzO87n772fWv0mGXJzMtkScgSNp7dSEOj/2fvvsOjqNoGDv+2pPfeQ4DQQui9V2kqKEUUAVGwoPjaRVHBgnwW7KCvCoJYEKRJUxQU6b23kJBGet+07Xu+PwJ5RVoIu9kknPu6ciU7O3Pmmd1NMvPMOc9x4ZHWjzAhZgJOKqdqtacz6fj25Ld8eexLLMLCQ7EPMbXN1ConM6xFZ9Ix/8h8lpxagkVYGNRgEFNaTaGF37XrvAgh2Hp+K/899l9O5Z/C19mXFzq9UCOfi3/SmrQsOrGIJaeWUGYsI8w9jCFRQ+gf2Z8mPk1wUbtgtBg5X3yePZl7WBW/irjCOJQKJWOajmFa22k1OixGb9azKn4Vi04sIrMsE4BGXo2I8ozCSeVEga6A0wWnKTYUo0BBv4h+PNLmEVr6tayxGIUQbEvbxjcnvuFQzqErruPu4M6dje/kwZYP2iwReSUmi4ktqVv4Lek3DuUcokBXAIBaqaaZTzP6RPRhZPRIgtyCrtOS9VzsfbMrYxev3/06TionMs5l1Nj+a3MSYvfu3QwcOJAmTZpULvPx8eGvv/6yY1QV4uPjeeCBB8jLy8PLy4vFixdXnptflJ+fz4ABAyofl5eXk5iYSE5ODr6+vgwaNIisrCyUSiUeHh58+umntGvXDoD//Oc/rF27lpSUFA4fPkzbtm0r24mKisLJyQkXFxcAXn75ZcaOHXvd7apq2LBhDBs2jGnTpl2yvE2bNsyaNYuRI0deto1MQlyDTEJI9YlMQkj1ycXu5u9+8S4LX1+IxWQheFwwYYPC6BfRj6ENh9IzvKfsalwFxYZiXtvxGn+e/5OGXg15p9c7xPjF2CUWIQSr4lfxwYEPKDGWMLThUF7q/FKN90jYkLiB2XtmU2osZXyL8Tzd4elqX/xXx66MXczaNYussiw6B3fm9e6vE+FhnTvU8YXxvLLjFU4XnKapT1P+r9f/0dSnqVXavp6juUd5dcerJBcn08q/FS93fvmGe2QIIVifuJ73979Pob6QnmE9eaP7GzVSy+NIzhFe2/kaycXJRHlG8UTbJxgUNeiaQ4OEEBzKOcSnhz7lUM4hvJy8eLnzy9ze6PYajdfHyYfxMeMZ0XjEZRfMZouZfVn7+PH0j/yd9jcA9zS7hyfbPWnz3iaHsg8xZ+8c4grjcFA6MCByAD3CetDIqxHOamfytfmcyDvBpuRNxBXGoVaoGdlkJP9p/x+bxma2mNmYtJEvj31JSnEKSoWS5r7NaezVGEeVIznlORzLO4ZGr8FB6cDopqOZ0mqKTT+HZouZdYnr+OrYV5wvOQ9A/Ix43B3dyUvKs9l+L4ujFich5s2bx86dO1m6dKm9Q7lM//79mThxIpMmTWLFihW8++677N+//5rbzJ07l7///pt169YBUFRUhLe3NwCrV6/m9ddf5+jRihsv27Zto1GjRvTs2ZM1a9ZcloT497KLrrVdVa1cuZI5c+Zw8ODBymUHDhxg2LBhpKen4+Bw+blYdZMQCCHq/VdYWJiQpPoiJiZGxMTE2DsMSaq2UkOp2HZ+m5izZ44YsmKIiF0cK2IXx4qY2THCK9RLAOL+8feLsrIye4da51gsFrHo+CLRdklb0fbbtuLLo18Ko9lYozGkaFLEQ789JGIXx4r+y/uLv1L/qtH9/1taSZqYuHGiiF0cK+7+5W5xtuCszfdZaigVb+x6Q8QujhWdv+8slp1ZJswWs9X3YzAbxPzD80Wbb9uIdkvaicUnFttkPxfpTDrxwYEPROtvW4t2S9qJBccW3PTnq0hXJGZsnyFiF8eK7j92F+vPrRcWi8VKEV/qn/G3X9JeLDq+6Ibjt1gsYsO5DaLPT31E7OJY8cLWF0SRrsgm8WqNWjF3/9zKeL8+9rUoN5ZXadu4grjKz32fn/qIP1P+tEmM5cZy8e6+d0Wrxa1Eh+86iPf2vSeySrOuur7FYhE70naI8RvGi9jFsaLvsr7i9+TfbRJbiial8jXo+kNX8dmhz0Ruee5l6xnNRvFnyp/i3nX3itjFsaLLD13E8rjlNvkcHsg6IEavHS1iF8eKHkt7iA8OfCCO5RwTLWJa1Pi5nclkEqdOnRImk6lG91sVDz74oPjggw8uW759+3bRpUsX0a1bNzF37twajys7O1t4eHgIo7Hi74bFYhFBQUEiPj7+mts1b95crF69+orPLVq0SLRp0+ay5Q0aNBCHDx++7rKqbPdv+/btE/369RMdOnQQbdu2FcuXLxdCCGEwGERAQIA4evRo5bpTp04Vzz333FXbutrnCEgT17g+lz0hJKmOkT0hpLqmxFDC0dyj7M/az4GsA5zMP4lZmAEIcQuhd3hveof3pnNwZ7QlWiZOnMj69etp06YNq1atolGjRnY+grrndP5pXt7+Muc052gT0Ia3erxl83HsBrOBhScWsuDYAgwWA2OajuGZDs/g4ehh0/1WhdliZsHxBXxx9AtUChXPdnyWcc3H2aT7/77MfczcNZP00nQ6B3fmzR5v2rx46om8E7y8/WWSi5PpEtyF2T1nE+wWbNV9HM89zqs7XyVRk0isXyyze86msXdjq7X/Z+qfvLH7DQp0BdzW4DZe7fqqVXvOnMw7ySs7XuGc5pxV4i/QFfDGrjf48/yfBLoGMrvHbLqFdrNavP/s/dDKvxWze8ymkfeN/S0UQvDLuV94b/97lBhKGN54ONM7T8fT0dNqMb6681VSilNu+O+MEII1CWuYe2AuxYZihjUcxowuM6zSK8IiLPx05ic+PvQxWpOWcc3H8Xjbx6/bthCCv87/xZy9c8guz6ZLcBfe7PEmoe6hNx2T3qzns0OfseTUEtRKNeNjxvNwq4cr/z7Wlik6jx57BK021Sb7c3GJpE3rr6q0bps2bSgvL8fN7X/FYH///XdMJhP+/v44OjrSr18/NmzYgKvr/4Yejh07lri4uCu2uW7dOiIibq4n2sGDBxk3btwl++jcuTPvvPMO/fv3v+I2u3btYuTIkaSlpV1SgHvixImVw0s2btxIq1aX9ia7Uq+HqKgoPD09EUJU7jcgIOC62/1TUVER/fr1Y+PGjYSEhJCXl0f79u3ZvXs3YWFhPPfcc5jNZj7++GN0Oh0hISHs2rXrqlOqy+EY1yCTEFJ9IpMQUm1WaigloSiBk/knOZF3ghN5J0guTq583sPRg45BHekU3ImuIV2J9o6+7ELQYrHw9ttvM2vWLLy8vPjhhx8YNmxYDR9J3ac36/n00Kd8d+o7VEoVD7Z8kIdbP4yL2sXq+9qdsZs5e+eQXJxMY6/GvNbtNToEdbD6fm7WsdxjvLT9Jc6XnKdHWA/e6v6W1WZoKDeW88mhT/jxzI+4qF14uv3T3Nv8XqvN/lGV/X9w4AOWn12Oh6MHr3V9jaENh950u3qzni+OfMGik4tQKVQ83vZxJrWchFp55dlsbkahrpDZe2bze8rv+Dr7MrPrTAY0GHD9Da/BYDbw5bEvWXh8IQqFgsfbPM6DsQ9aJf6LF9Lv7HuHclM59za7l2c6PHNT9Vj+WWtDrVDzRLsnmBgz8abizS7LZtbuWexM30mQaxBvdn+T7mHdbzrGb09+i4PSgSfbPcmEmAnVKvCYp83jjd1vsPX8VoJcg3i759t0CelS7djSS9OZuXMm+7L2EeYexls93qJTcKcbaqPUUMoHBz9gxdkVuDm4Mb3TdO6KvqvaSctT+aeYsX0G5zTnaB3Qmjk959DAs8El68gkxP/odDq8vLwoKCi4JAnxbwMHDmT9+vU4OzvfdGzdunUjPj7+is8dPny4MnlRnSTE5MmT8fPz47333rvi899++y3Lli1j48aNlyy/UjIhNTWVyMhIjEYjr776KsePH6/Sdv+0ceNG7rvvPho2/F/CsKCggMWLF9O/f39OnTpFnz59SE9PZ8WKFcybN49du3ZdsS2QSYhrkkkIqT6RSQjJ3oQQ5GnzSC9NJ0mTREJRAuc05zhXdI6ssqxL1o3wiCDWL5ZWAa3oFNyJJt5Nqnyi+ttvvzFu3DiKioqYOXMmM2fORKmsmQu6+uRIzhFm75lNXGEcga6BPNbmMe6KvssqdTZO5p/kk4OfsDtzN84qZx5t8ygPxDxQ40USb0SZsYx39r3DmoQ1uDm4MbXNVMY1H1ftmIUQbEjawEcHPiJHm0P7wPa81eMtIj0jrRx51WxL28ZrO1+jQFfAkKghPNfxuWr3itiftZ+397zNOc05Wvq15K0eb9HEp8n1N7xJvyX9xuy9s9HoNdzR6A5e6vxSte6QH845zKxds0jSJNHctzmze8ymmW8zq8d7vuQ8r+18jYPZB4n0iOTtnm/TNrDtDbdzIOsAb+x+46Z6P1yNuFCn5b3971FuKueepvfwXMfnbjhhYosYL8b27v530Zq0TIiZwFPtn7qh+i0WYWFZ3DI+OvgRWpO22sf3TzvTdzJz50xytDn0jejLrG6z8Hfxr/L2RrORr45/xYJjCwB4vO3VE2C1JQlRG+zbt497772XxMTEq67zxx9/sGLFCr788stLltu6J0ROTg7R0dEUFBSgVqsRQhASEsKOHTuuOLNJaWkpISEh7N+/n+bNm1+1XRcXF9LS0vDz86tcdr1kQmZmJk2bNqWkpOSS5dfbbsOGDbz99tvXTCx069aN559/ni+++IL77ruPyZMnX3VdmYS4BpmEkCRJqhqj2Ui+Lp98bT75unzytHnka/PJLs8mrTSN9JJ0Mssy0Zv1l2znpHKioVdDGns3Jto7mha+LWjp1/Kmq8cnJSUxatQoDh8+zLBhw/juu+/w9bX/dIt1jcliYlncMr469hUFugLC3MO4r/l93BV91w1f3FmEhR3pO/ju1HfsydyDAgV3NLqDJ9o9YfNhB9b0V+pfvLv/XdJL04nwiOCh2IcY3nh4lacPtAgLW1K38PWxrzldcBovJy+ebPsko5uOtvuUf/8cKuCscubB2Ae5v8X9VX6vzxWd49NDn/Ln+T9xUDowtc1Uq/UeqKrc8lxe3/0629K2EegSyDMdn2FI1JAqxZBanMq8I/P4NelXHJWOPNbmMSbFTrJpgVuLsPD9qe/55NAnGC1G7mx8J0+2e7JKCaCssiw+PPhhZbzW6P1wNf/uKfBa19foHtr9unf5c8pzmHd4HqsTVuOodGRq26lW7xFzvvg8L+94maO5R4n0iOTZjs/SP6L/dWM7kXeC9/e/z6GcQ4S4hfB6t9dvqqfHP2n0GubsncPGpI34OPnwfKfnub3h7df9Hd+XuY//2/d/JBQl0NSnKbN7zL7uzDE1rbYmIf773/+yceNG1q5de8Xn09LSmDhxImvXrsXd3b2Go4O+ffsyadKkysKU77zzDgcOHLjiugsXLmTRokXs2LGjcllRURHl5eWEhlYM81mzZg3Tpk3j/Pnzl3zW/51MKCsrw2g0Vha0/PDDD1mzZg3btm27ZJ/XS0IUFhYSExPDd999x8CBAwE4cuQIMTExODpW/P9bsGABX3zxBfHx8WRkZFzzdZZJiGuQSQhJkuobi7BgtpgxWowYLUZ0Jh16sx6dWYfedOG7WY/epK/4btZTbiqnxFBCiaGEUmNp5c8XvzQGDRq95qr7dFI5EeoeSph7WOVXA88GRHtHE+YeZrMLL61Wy+OPP87ixYtp2LAhq1atqlbVZ6miy/73p7/nh9M/UKArwEnlRPfQ7vSL6EfHoI6EeYRdcfhAoa6QE3kn2Ja2jS2pW8jV5qJSqBjUYBCTW022yd3lmqAz6VhyagmLTy6mxFCCv4s/g6MGc1uD22jl3+qyhITRYiS+MJ4/Uv7gt6TfSCtNw1nlzOimo3mszWM2n4HgRm1P2877B94nSZOEs8qZ2xvdzpCGQ2gb0BZn9aVdmPO0eezN3Muq+FXsy9oHwKAGg3i6w9NWm9HjRl0c7vDe/vcoNZZWJs96h/cmyjPqkhN2g9nAjvQdbEjcwJbULZiFmR5hPZjeabrN66H8U2JRInP2zWFv5l4clY4MazSMOxrdQcegjpf8jTRZTBzJOcKyuGVsTtmMSZjoG96XFzu9SISnbV/vizUTPjr4ETqzjpZ+LXmg5QP0Ce9zSc8BIQSnC06zPG45a8+txWgx0i2kG692fdVmPX1MFhPfnvyWr459RbmpnPaB7RkfM56eYT0vGUpmtpjZn72f7099z99pf6NAwdhmY3m6w9O4OVy9C391bUrexOw9synSF9HQqyFTWk1hYOTAS14vo8XInow9LDq5iP1Z+1Er1TzS+hGmxE6plb3DamsS4uGHH2b16tWEh//v+vWuu+7i9ddfR6/Xc/vttzN//nyaNbPP/524uDgmTZpEfn4+np6eLFq0qLKew5QpUxg+fDjDhw8HoHv37jz88MM8+OCDldunpKQwZswYtFotSqWSgIAA5s6dW3le8+ijj7JhwwaysrLw8/PDw8ODhIQEEhMTGTVqFGazGSEEjRo14pNPPiEqKuqa213JoUOHeP7558nPz8doNBIZGcmaNWsqh7aUlJQQEhLC2LFjWbhw4TVfD5mEuAaZhJDqi7iCOJ778jkAIjtFIrj89/eyZZc9vHTBlf4GXLbOjbZ5pbjEtdepyt+i621zo3Fbo01rxW0RFszCjNlixizMmCymyscmYapcfvGxNShQ4O7gjoejB+6O7ng6euLv4o+fi1/Fd2e/yp8DXALwd/G3SSG/qhBC8NVXX/Hkk0+iUqn48ssvmThxol1iqQ8MZgObkjexKn4Vh3IOYREWAFzVrkR4RODm4IaTygmNQVPZE+aiBp4NGNRgEPc0u8fqxQ/tpcxYxoqzK/jpzE+klVacL6gUKiI9I/F19kUIQYmxhGRNMkaLEYBAl0CGRw9nfIvx+Ln4Xat5uzJajPyW9Bs/nv6RE/knAHBQOhDtHY23kzdmYSazLLNyqkC1Us1tDW5jfIvxtA5obc/QK2n0Gn488yM/nP6hMlEa5BpEhEcEjipHCnWFnCs6h8FiAKBLcBemtp1qt7okQgh2Zexi/pH5HM87DoCHgwcNvRvi7uBOiaGERE0iZcYyALqGdGVSy0n0COtRo3FmlGaw6MQiViesRm/Wo1aqaezVGF9nX/RmPUmaJAr1hQC0DWjLlFZT6B3eu0b+D+Rp85h/ZD5r4tdgEiYclY409m6Mt5M3ZaYyEgoTKDeVAxXJsqltphLtc3l3eGvS6DUsObWE7099T7mpHLVSTbR3ND5OPpQaK+ohaU1aVAoVwxsP55HWjxDucfUZCv9p06ZNAAwePNiWh3CJ2pqEuJZFixbxyiuv0LRpxXTEP/zwA2FhdacHXn0kkxDXIJMQUn1xIOsAvTr2AiD2nViAKp0MKLh0nX9v8+/nr7jssoc33+b1Yr9iG9fZz43GXZ02bfGaKxVK1Eo1KoUKlVKFWqFGpVRVPlYpVFd+TqHCUeWIs9oZJ5UTzipnnNROl/zsrKp4zkXtgoejR+WXm4NbjRXNs5a9e/cyevRo0tLSePzxx/noo48quw9K1VOkK2JHxg5O5p0kvjCe9NJ0yk3l6M16vBy98Hb2Jto7mpZ+LekQ1IGmPk3tloyyNSEEcYVx/JX6F3GFcZwrOkexoRgAF7ULjbwa0dSnKb3Ce9EusF2d+/05nX+a3Zm72Ze1j6SiJIr0RaiUKgJcAoj1j6VDUAd6h/e+oXHvNUlr0rIvcx/b07dzOOcw2eXZGM1GvJy8aOTViM4hnRnWcFitSo4lahLZkLiBA1kHSC1JpdxYjpuDGw08G9A+qD1Do4ba/OL5evK1+fya9Cu7M3eTUJiAxqDBSeVEuHs4bQLbMKjBoGrVuLCGPG0eGxM3sitzV8Xvo74YNwc3Ij0j6RzcmaENh9ZoTxeo+Jv5W/Jv7EjfwdnCsxQbiiv/PnQO7sztjW6vcvLhIlkTQqqrZBLiGmQSQqpPZGFK6VaXk5PDvffey19//UXXrl35+eefL+m2KUmSJEl1iUxCSHVVdZMQNVdhSJIkSZKsIDAwkN9//51XXnmF9957jw4dOrBs2TL69u1r79DsQhiN6BMT0Z08hSEpCUPaeUw5uVhKS7GUl6NQqVA4OqLy8cEhOBiHyAicY2JwiY1FHWCd6SklSZIkSZKqSiYhJEmSpDpHrVbz7rvv0rlzZyZNmsTAgQN55513eO655+rtUIGLhBAYzp2jbOdOSnfspHz/foROd8k6Kl9fVB4eKN3dwWxG6PXoTp2ifO/eS9ZzatYM99698BgyBOeYmHr/2kmSJEmSZH8yCSFJkiTVWaNGjaJly5aMHDmSF154gb179/LNN9/g4eFh79CsTp+QgGbDBoo3bMSYmgqAwsEBl/btcWnbFueWMThFR+MQFobSyemKbZhLyzAkJaI7eRLt4cOUbt9B/tcLyP96AU7NmuE9Zgzeo0aidHG54vaSJEmSJEk3SyYhJKmOady4sb1DkKRapXnz5uzdu5fJkyfz888/c+LECVavXk3z5s3tHdpNM5eWUbx+HYXLlqM/fRoAdUAAPvffj3vvXrh26oTS1fU6rfyPyt0Nl1atcGnVCp9770VYLGiPHkXzyy8Ub9hI9uzZ5M2bh8+E8fg+MAmVu/WnupMkSZIuJc/tpFuNLEwpSZIk1QtCCD788EOmT5+Oi4sLixcvZtSoUfYOq1r0CQkULv0JzZo1WMrKULq54TlsKJ63345rp04obFBEzKLVUrRqFQXfLMKYno7K1xf/Jx7H5557UDjUvjnuJUmSpOqThSkla5CzY1yDTEJIkiTdOrZu3crYsWPJycnhhRdeYM6cOajVtb/jnxCC8t27yV+wgLJdu4GKmg0+48bhdcftKN1qpleCMJkoWr2avE8/w5Sbi1Pz5oS89RYurWJrZP+SJEmS7ckkhGQNMglxDTIJIdUn8+fPB+CJJ56wcySSVHulpaUxZswY9uzZQ79+/fjpp58IDAy0d1hXJMxmSv7YTP7XX6M7eRJUKjyHDMHn/vtxadfWbsUiLeXl5H31FfkLFoLFgu+ECQQ89Z8bGv4hSZIkXZ89zu1kEkKyBpmEuAaZhJDqE3vMJS1JdZHBYODZZ59l/vz5hIWFsWLFCrp27WrvsCpZDAY0v/xCwYKFGFJSUDg54T16NL4PPohjeJi9w6ukiztL5szX0B09hkNEBGEfzMWldWt7hyVJklRv2OPcTiYhJGuobhJCWSPRSZIkSVINc3R0ZN68eXz77bfk5+fTu3dvvvjiC+ydfDeXlpG/8BvODRhI1mszMRUW4jf1MaL/3ELwa6/WqgQEgHOzpkT9+CNBM17GlJ1N8rj7yV+wAGGx2Ds0SZIkSZLqIJmEkCRJkuq1iRMnsnv3biIiInj88cd58MEH0Wq1NR6HqbCQnE8+IaF/f3Lefx8UCgJffJHoP/8k8KmnUPv51XhMVaVQqfCdOJGon5fj2KABOXM/4PyUKZjy8uwdmiRJklTP7N69Gzc3N9q2bVv51a9fP3uHBcB//vMfoqKiUCgUHDly5JrrxsfH0717d5o2bUqnTp0u6emi1+uZNm0aTZo0oVWrVowfP/6y7RctWoRCoWDNmjVV2m7jxo20b9+etm3bEhsby7fffntDxzZs2DDmzZt32fI2bdqwatWqG2rremp/pS5JkiRJuklt27blwIEDjB8/nm+//ZajR4+ycuVKGjVqZPN9GzMzyV+0iKKfVyC0WhwaRBL4wvN4jRiB0tHR5vu3JudmzWi44mey5/wfRT//TNKo0YR/9mm9HZ4hzGbK9x+gfN9edCdPoT93DktZGRa9HpWXFw6hoThFR+PWoztu3bqh8vCwd8iSJEl13sGDBxk+fDhLly61dyiXGT16NC+++CI9e/a87rqPPvoojzzyCJMmTWLFihVMmjSJ/fv3A/DSSy+hUCg4e/YsCoWCrKysS7ZNTk7m66+/vmwY6dW2E0Iwfvx4tm7dSuvWrUlOTqZ58+aMHDkSjyr+b5o8eTJz5sxh2rRplcsOHDhAZmYmd955Z5XaqCqZhJAkSZJuCT4+Pqxbt4633nqLN954g44dO/LDDz8wdOhQm+xPn5RE/oIFaNauA6MRpxYt8H/kYTwGDbLJFJs1ReniQshbb+LasQOZM2eRcv94gmfNxHv0aHuHZjWGtDQKliyheOOvmC/09lA4OODYqBEOwcEonJ0xFxZiOHcO7cGDFC1bBg4OeA4Zgu/943Bu08ZuBUUlSZKqa+KxRJK1Bpu0HeXiyJLWVUv8Hzp0iE6dOl22vKCggNtuu424uDhKS0utHWKV9O7du0rr5eTkcODAAX7//XcARo0axbRp00hISCAkJISFCxeSlpZW+b8iODi4cluLxcKUKVP47LPPeO655yqXl5WVXXM7hUJBUVERAMXFxfj5+eHk5HTF+Pbv38/06dMpLi7GbDYzY8YM7rrrLqZOncqxY8dofeHmwjfffMPEiRNxsPJU3TIJIUl1zKBBg+wdgiTVWUqlklmzZtGpUyfuv/9+br/9dmbNmsVrr72GUmmdEYraEyfJX7CAkk2bQAhcOnbA/5FHcOvVq15dmHqNGIFjdDTpT/6HzFdfQ3v8BEGvzKhzvTv+yZCSQu5n8yj+9Vcwm3GMisLnnjG49x+Ac9MmKK5wbIbUVMp27qR4468Ur1tH8bp1uHXvRuDzz+McE2OHo7Aes0aD4XwamIwoPTxwjIi44msgSdLNked2lzp48CDbt29nyZIllct+//13fHx8+OOPP7jnnnuuuN3YsWOJi4u74nPr1q0jIiLCJvFeyfnz5wkJCamcIlyhUBAZGUlqairl5eX4+voyZ84cNm/ejIuLC6+//joDBgwA4MMPP6RHjx506NDhkjbPnTt31e0UCgXLli1j5MiRuLm5UVhYyKpVq3C8wt/soqIiHnnkETZu3EhISAh5eXm0b9+e7t27M2HCBL755hs+/vhjdDodS5cuZdeuXVZ/fWQSQpLqmI8++sjeIUhSnTds2DAOHjzIqFGjeP3119m3bx/ff/89Pj4+1WpPmEyUbN5CwXffoT14EAD3Pn3we/QRXNu3t2botYpLy5ZErVxBxnPPUbRsGfozZwj79FMcgmrndKhXYy4uJm/+5xT8+CMYjbh174bflCm4dut23cSRY2QkjpGR+Nx3H7q4sxR88w2atWtJGjUar1EjCXrhBVReXjV0JDfHYjBQtn07xRs2Un7gAKacnEueVzg44BwTg1uP7niNHFXriqhKUl1VW87tqtpTwZZ0Oh1nzpyhoKAANze3y5739fW96rbLli2r1j67detGfHz8FZ87fPiw1ZMXJpOJlJQUYmJieOeddzh8+DC33XYbJ0+eJDc3l5UrV7Jt27Yb2s7Pz4/Zs2ezatUqevfuzf79+xk+fDjHjx/H39//knZ27dpFYmLiZT1B4+LimDx5Mn369OG9995j1apVtGjRghYtWlj1+EEmISRJkqRbVKNGjdi5cydTp05lyZIldOzYkZUrV9K2bdsqt2HWaChasYKCH37AlJGJwsEBr7vvxveBiTg3b2674GsRtY8PEV9/Te5HH5G/YCFJo0YR/snHuP7rDk5tVbp9B5mvvoopOxvn2FiCXpqOa8eO1WrLuVlTQt99B98HJ5H97rtoVqyk7O9tBL8+C48Ld7hqI0tZGQU//kjBN4swFxYC4NSiBW7duuHYMAqFoxPmoiJ0p0+jPXYM7dGj5H3xX9x69yLgyf/gEtvSzkdwdRa9nrLt2yk/eAhDaiqWkhIUzk44hIbi0roN7v36oq5m8lGSJOs7duwYYWFhV0xAXE91e0Ls3r37hvd1PREREWRmZmIymVCr1QghSE1NJTIyEm9vb5RKJffffz8A7dq1o2HDhhw/fpz4+HiSk5Np0qQJAFlZWTzyyCNkZmYyZsyYq27n7e1NRkZG5XCRTp06ER4eXpmo+CchBC1btrxqD4fo6GjWrVvHN998w+TJk63+2oBMQkhSnfPMM88AtSdrLkl1maurK4sXL6Zr16489dRTdOvWja+++ooJEyZcdRshBLrjxyn6eQWa9esRWi0qf3/8n5yGz9ixqP91x+FWoFCpKoYftGxJxiuvkvLAJIJmvIzPfffV2iEo5tIyct5/n6Jly1C6uRH85ht4jx6NwgrDcpybNyfym2/QrFpN9rvvkvbENLzvHUvQSy+hdHa2QvTWISwWin5eQe7HH2MuLEQdGkLg5OfwHDYMh9DQK29jNlO2cydFP/9MyeYtlP29Dc877yTw+edrVQ8YfWISBYu+ofi3TVhKSioWqlQo3d0RWi3CYKDop2UoHBxw798f3wnjq518sgUhBNoDByjduRN9fALmwkIUKhXqkGBcYlvh3r8fjuHh9g7zMsJgwKLToXRxQWHlMeT1mTy3+59Dhw4RGxtbrW2r2xPCFgIDA2nfvj3ff/89kyZNYuXKlYSHhxMdHQ3AgAED2LRpE8OGDSMpKYmkpCRatGjBwIEDmTp1amU7ffv25emnn+auu+665nZqtZrMzExOnz5NixYtSEhI4Ny5czRr1uyy2Lp3705SUhKbN29m4MCBABw5coSYmBgcHR0rC1TGx8dfMjOHNSnsPV96TQgPDxdpaWn2DkOSrKJly4o7Tv+c5keSpJu3Z88eRo8eTXp6Oo8//jgfffTRJWMpzUVFaNauo2jFCvRnzwLg3LIlPhPG4zlsWJ2uhWBNurNnSZv2JMbUVLxGjiR41kyUVymMZS9l+/aROeMVjGlpuHbtSujbs3EIs83QAmN2DhnTp1O+Zw9OTZoQ9tGHOF04CbUn3dmzZL02E+3Ro6gDA/F/4gm8777rhmo+6OLOkjN3LmXbt6P09CRoxst4jRhh18STMTuH3M8+RbN6DZjNOMW0wOvO4bj37oVjVBQKlQohBKasLMr27kWz5hfK9+wBwL1/fwKffw6nGpg152os5eUULl9O0U/LMCQnVyxUqVD5+CCMRiwaTeW6bj174v/4VLsO+RIWC+V796LZsIHyvfswpqWBEKBQ4BAZgVvnznjecSeunTvZ9XNhLimhfP8B9OcSsJSXo3R1xalxY1w7dkTl6Wm3uC5qGRMDFgsnz5ypsX2azWbOnj1L06ZNUdWiYskPP/wwq1evJvwfSba77rqL119/vfLxwIED2bx5sx2iq5jxYsOGDWRlZeHn54eHhwcJCQkATJkyheHDhzN8+HCgYnjDpEmTyM/Px9PTk0WLFtGqVSsAEhMTmTx5Mnl5eSiVSmbOnMmoUaMu29+/kxDX2m7p0qXMmTMHpVKJxWLh5ZdfZty4cVc8jkOHDvH888+Tn5+P0WgkMjKSNWvW4OzsTElJCSEhIYwdO5aFCxde8/W42udIoVCkCyGumimVSQhJqmNkEkKSbCcnJ4exY8eydetWunbtyvLvvsPr7Fk0GzZStm0bwlhRoM/rzjvxHj2qzhcetBWzRkP6Cy9Qtm07zrGxhH/2KQ4hIfYOC4tOR+5HH1Gw5DsUTk4EPv88PuPus0rvh2sRZjP5X39N7mfzUDg4EPzaq3iNHGmXizJhsVCwZAm5H3yIMJvxnTAe/yf/g8r9xrs+X1SyZQuZr7+OOTcP9wEDCJn9Vo0PcRBCoFnzC9n/939Yiotx7diRgGefqdIFuiE5mZyPP6Hkt9/AwYGAadPwm/wQCnXNdRgWQlC8YSM5c+diyspC5e2N18iReA4dgnPz5pW9CswaDeUHD6JZu66y+K1br14Ez5pZoz0jhBCU7dhBzocfoT99GgDHBg1wat4clacHZk0xurgzGFNSAXBp25aA/zxZpTor1qQ7dYq8L7+i5M8/wWi8fAUHBzz698f/sUdxtsG496sRQqA7epSi1Wso27mTIdu3oXJ3Jy4/v8ZiqK1JiOsZOHAghw8fpl27dnz88cfV7jUhWYdMQlyDTEJI9YlMQkiSbRmKi3nx4Yf5ZPly/NRqPggJobO7B66dO+N99114DBqE0sXF3mHWesJsJnfePPK/+C8qX1/CPvwQt65d7BaP9uhRMl56GUNSEi7t2hH6f3NwjIqq0RjKDx4k/fkXMGVm4nnnnQTPmnVTF/83ypidQ+bLL1O2axcODSIJe/99XC5Mw3azzEVFZL01m+ING1AHBhL63ns19n4bs3PImjWL0q1bUQX4EzJrFu4XqsXfiPJDh8l87TUM587h3Lo1oe++g1PDhjaK+n+M2dlkvjyDsl27UHp6EjBtGt5j77luDyJ9YhJ5X3xB8bp1KFxcCHz6KXwmTLB5Us2YlUXmq69RtmMHCkdHfO67D+97x17xtdInJlKwZAlFK1eB0YjHbbcRPGumzYetGTMzyfnoI4rXrgPAtVtXPAYOxDkmBpWXN5ZiDdpTpyjdvJmyXbtBocBr+J0EPPMMDv+Y8tAWdHFnyXn3XcoujMd3aBDJ7QcOoHBx4UwNXq/U1SSEVLvIJMQ1yCSEVJ/IJIQkWZ8xI4OSrVsp3bqV8j17EQYDv5cU80pODjqLhf+bOZPnZ86stfUNarOSzZvJmP4SlvJy/KZMIeDJaTU6zaNFrydv/ufkL1iAQqUi4Omn8J00CYWdTrpNhYVkzniF0r/+wjEqirCPP6qRIqbFv/9O1mszMWs0eI8ZQ9BL01FWo/DbtQgh0PzyC9lvvoVFq8Xv4Ycr3m8b1gYo3vQ7mTNnYtFoKhI7r8xA5e1d7fYsej25n3xKwaJFKFxcCH5lhk17rRT/tonMWbOwaDR4jRpJ4PPP33AvkrLdu8mcOQvj+fMVw4vefQeHoCDbxPvrr2TOeh1LcTFeI0YQ8PRTVerlZExPJ/v9uZT89hsqLy+CX5+F578q81uLZt16st58E0tJCW49exL4/HPX/B3TnT5NztwPKNu5E6WHB8EzZ+J5x+1Wf88tWi05H3xI4Y8/gsWC14jh+D70EM7Nmtnl3E4mISRrqPNJCIVC0QT4FvAHNMAkIcTJf63TF/gV+GfZ025CCO212pZJCKk+kUkISbp5pvx8yvfto2zPXsr37v3f2GsHB9w6dcS9b1/c+w8gsbSEu+++mzNnzjBmzBgWLlyIh4eHXWOvi/RJSWS88CK6EydwbtmS0Pffq5Fx99ojR8h45dWKO9stWxL6zv/hdKHiuD0JISj49ltyPvgQhUJB0IyX8R471iYXuubiYrLfnoPml19QeXsTMvstPC4UIrMVQ0oK6c89X/F+t2lN2Ny5OFp5ijtLWRlZc+agWbkKlY8PIW+9adXjKtuzl4zp0zFlZ+MxZAghb7xu1alWzaWlFe/L6tUV8c9+66ZmULFotWS/+y5FPy2ruMh/6008Bw2ybrxvvYXml7WofH0JmT0bj/79brid4k2/k/XGG5gLCvC66y6CXn3Var2BzMXFZL35FsXr16Py96/4TPSreowlf/5F5syZmPPy8Bg6hJDXrfeea4+fIOPFFyt6YrVvT9CMGZfMKiOTEFJdVR+SEH8CS4QQixUKxWhguhCi07/W6Qt8LIRoeyNtyySEVJ/Mnz8fgCeeeMLOkUhS3SCMRnRnz6I7dgztseNojx3DcO5c5fPq0BDcOnfBvW8f3Hr0QPWvJENJSQkPPfQQK1asoEWLFqxatYrmt8j0m9YkjEZy588n/6uvUTg64v/E4/g98IBNekWYS0vJ+2weBUuWoFCr8X/ySfweerBGx/hXhfbYMdKffQ5jWhoeQ4ZUdFO3Yi2Fsl27yJjxCqasLNz69CbkrbdwCKyZGSyEwUDup5+Sv2Bhxewjr8/C6847rdK29tgx0l94AWNKKm49exL6f3NQBwRYpe1/MhcVkfnaTEr++AN1SAhh772La6dO19/wOsoPHSLjxekY09Jw692L0Lfftlr8JVu2kPnKq5iLivAaPYrgl1++6R4v5QcPVsSbno57nz6EvD37poZTmPLyyJgxg7Jt23GIjCRs7s0PCyo/cID0F1/ElJGJe79+FXVJ/PxuPLaCArJmzaLkj81Wec+F2Uz+goXkfvYZKBQEXqUnlj3O7WQSQrKGOp2EUCgUgUAC4CuEMCkqbgVkAj2FEAn/WK8vMgkhSZIkXYEQAlNGBvqEBPTx8ejjL3w/dw6h11eu5xAWhku7drh17YJrly44hIdf9w60EIIPPviA6dOn4+bmxuLFixk5cqStD6leKj9wgMxXXsWQkoJjdGOCpr+EW88eVukFIMxmNGvWkPPRx5jz8nBp04aQOW/j1LixFSK3DXNxMZmvvkbJ77+j8vUlaMYMPG8fdlOvh6mwkNyPP6mYftTVlcCXpuM9ZoxdhhOV7txJxksvYc7Nw2vEcIJem1ntO98WvZ78L78i76uvUCiVFYVFx99v0xoIQgiKVqwge87/IXQ6/B59hIAnnqjWEBNhNJL7+efkf/kVCgcHAqe/aJNpbI05ORU1JnbuxLFBA0LnzsWl1Y0X77PodOTNn0/+wm9QODoS9NJ0q/XYEUJQ+P0P5Lz/PsJiqSgG+vCUGx4mZdHryfvss4oYnZwIeuklvMfec1MxXvKe6/UV7/njj9/we27MzCTjxemU79+PY3RjwubOrZGhV1UlkxCSNdT1JEQH4EchRLN/LNsHvCSE+PMfy/oC64B4wAwsEkJ8foX2ngWevfjYy8srrKioyFbhS5IkSTVAWCyYCwsx5eVhTM/AmJaGMT0Nw/m0ip/T0rCUl1+yjTowEKemTXFp3QrnVq1wadXqpu7g/fXXX4wdO5bc3FxefPFF3n77bdS17O56XWDR68lfsID8L79CGAy4dOxAwLRpuHbpUq2LB2E0olm/gfwvv8SQnIzKz4/AZ57G6+677Vb74UYIIShev57st+dgLirCtVMnAp55Btf27W6oHYtOR9Hyn8mdPx+LRoNr586EvD3b6kMhbpSpoIDMl2dQ+vffqIOCCHjmabyGD69y8kAIQenff5M95/8wpqbi1LQpoe+/j3OzpjaO/H/0iUlkPP88ulOncG7dmuBXX7mhu/elO3eSPef/KoYGxcRUDEmyYXJMWCwUfvcdOXM/QAhBwLQn8H3wwSpPl1u2bx9ZM2dhSE7GOTaW0PfetckQKl3cWTKefw59fAKunToR8tabVS4YW37oMFmzZqKPT8C5VauKQqJWjPGS97xNa0LnzKnSeybMZjSrV5P9/lwsGg0+48YR+OILKJ2drRabNcgkhGQNt0oSwpOKmDUKhSIc2AjMFkIsv1b7sieEVJ9cnHt47dq1do5EkqpHGI1Y9HosZWVYiosxl5RiKSnGXFyCuaQYy4XHpoJCTHm5mPLyMOfmYSooALP58gbVahxCQnAID8OpcTRO0dE4NW2CU+PGVh3DfVFaWhpjxoxhz5499O/fn6VLlxJYQ13c6xtjRgZ5X3xB0arVYDbj2KgR3mPG4DGgP46RkdfcVlgs6OPi0Kxbj2btWsx5eSjd3fGZMB6/hx66bFhNXWAqLCTngw/QrFoNFgtu3bvhPXo07gMGXPPi0XD+PJp16yj8/gfMBQWog4MJevEFPIYOrTXFVIUQFC1bRu5HH2PWaHBq1gyf+8fhdfvtVx0uYNHrKf3rL/K/+hrdqVMoXF0JeOIJfCdOsGmxy6upHGLyzSKwWPC47TZ8H5yES9u2V0yoCLOZ0u3bKfz+h4qZJJyd8Xt4Cv4PP1xjxVl1Z86Q/vzzGBLOoQ4Oxn/qVLxGDL/iBbEQAu3hw+TNm0/Zrl0onJwIeHJaxfABGyZbLTodOe/PpfCHH0Clwnv0aPwfe/SqBS91cXHkfvoZpVu2VEyp+sTj+E2ZYpMYhcFAziefULDwG1Aq8R41Cv/Hp14xNiEEZbt2kfvBh+hOnULl51dR66MKdSnscW4nkxCSNdT1JESVhmNcYbuXgVAhxJPXal8mIaT6wpSXR6sLc57vmTfvf09c4ff4qr/bV1p81XWvuHKV1716DFdYfrU/RbU1hqv+7az6uleMrbbEYDEjTGaE2QQmM8JsBrPpf8vMlz8vzCYwmrAY9AitDotej9DpsOh1CN3Fn/VXTiRchcLJCXVAAGp/f1T+fqj9/VH7+eMQGoJDWDiOEeGog4JqfKy/Xq/n2Wef5fPPPyc8PJwVK1bQpYv9pp+s6wwpKRQu/Ymi1auxaDQAODZogHPLljg2bIjKzxeFWo0wGDFmZmBISUF74CDmC70cHSIi8B41Cp9x96Hy9LTjkViHPjGJvHnzKN60CcxmlG5uuLRpjXOr1qj9fFE4OWMu1mBMTUV79Bj6s2cBcAgNxffBB/EeParWTiNr1mjI+++XFC5bhigvR+nqimvXrji3jEEdGIhCocCUl4f22HHKdu9GaLUonJ3xHj0avymTbT59YlXoExLI+fhjSjdvASrqynj07Ytjw0Yo3dywlBSji4+nbNcuTBmZoFTiOWQIgc8/h0NoaI3Ha9HrKVy6lPwvv8JcWIjSwwO3nj1wadkSlY8vFp0WQ2ISZbt2YUhKqoj39tsJmPYEjg0a1Fic5YcOkTP3A7SHDoFSiWvHjrh27IA6JATMFgypqZTv2YPu1CkAPAYPJuCpp3BqZPtpVLVHjpA9dy7aAwcrYuvSGdeOHXEICsJiMGA4l0jp9u0YU1PBwQHfiRPwnzoVlbt7ldqXhSmluqpOJyEAFArFVmDxPwpTviSE6PivdUKAbCGERaFQeAC/AQuFEN9cq22ZhJDqi7K9+2jTuxcA6xravrK8JN0QtRqFSoXCyQmlkxMKZ2eUzk4onJxRODuhdHKuWHbxOXc3VO4eKD09UHl4ovRwR+XpidLDA5WHBypfX5RubrXmTu6VLFmyhEcffRSLxcKnn37KI488Uqvjre0sOh2l27dTtm07Zbt3Y7za/26lEueYGFw7d8ajX19cOnasl6+7KS8Pzbr1lGzejO7kSYROd9k6Kj8/3Pv2wWPAQNx79bRLD4HqMJeWUrx+PZpf1qI9duzy5KRKhWu7drj364fXXSOqVWTQ1nRxcRSvW4dmw0ZMmZmXPe8QEYHnsGH4jL3HLsmHfzOXlqFZuQLN2nUVF/L/ugZQBfjjedsgfMaPr5EL+ysRQlC2fTuFy5ZTtnPnZZ95pZcXHv374zPuPlxatbJPbEt/qojNYLjkeXVwMJ5Dh+Jz/zgcw6967XVFMgkh1VX1IQnRDFgM+AHFwINCiOMKhWIBsFYIsVahUEwDpgImQA38DLwhrnMQMgkh1RemwkJatasYI7zvm3/n3q5wAn61c/IrnKxf9QT+SsuverJ/A+tecdV6EsMVl9fmGK7weVCrKsbSq9T/+/lCkgGVCsXFny9+Vyrr5UVgVRw5coSRI0eSlJTEpEmT+Pzzz3GppXeh6xpLeTmGlBTMmmKE2YRCpcIhJAR1SAjKGurOXlsIoxF9UhKWkhIs5VqU7m44RkWh8vau8797lvJy9ElJmPPzQQhUvr4VPWCqeBfZ3oQQmDIzMZxPw1JehtLNDccGUTgE1d5hWmaNBn1iIpbiYhSOjjiEh1epSG9NquhhcA5Tbi4olDiEhuAYFVUr6rxY9Hr08QmY8/NQODjgEBFxU6+fTEJIdVWdT0LYkkxCSPWJPf5RSZJ0bYWFhYwfP56NGzfSrl07Vq5cScOG9rmTWBsZdCaK83SUafQYtCaMejMqlQKVgwoXDwc8fJ1x83FCpbLdLAeSJEm1lUxCXGr37t0MHDiQJk2aVC7z8fHhr7/+smNUFf7zn/+wdu1aUlJSOHz4MG3btr3qulFRUTg5OVXemHj55ZcZO3YsAIMGDSIrKwulUomHhweffvop7dq1Iz8/nwEDBlS2UV5eTmJiIjk5Obi6unLvvfdy6tQpXFxcCAwM5IsvviA6OvqabVbVsGHDGDZsGNOmTbtkeZs2bZg1a9YVZwWrbhJClvSWJEmSpJvk4+PDunXreOutt3jjjTfo0KEDP/74I0OGDLF3aDVOWAS550s4f7qA7KRiclJKKCvSX3c7lYOSgAh3ghp60SDWj9Am3qjUMikhSZJ0qzl48CDDhw9n6dKl9g7lMqNHj+bFF1+kZ8+eVVp/2bJlV0xULF++HG9vbwBWr17NpEmTOHr0KH5+fhw5cqRyvblz5/L333/j6+uLTqfjkUceYeiFosPz5s1jypQpbN269ZptVtXkyZOZM2fOJUmIAwcOkJmZyZ133lnldqpCJiEkqY758MMP7R2CJElXoFQqmTVrFp06deL+++9n2LBhvPHGG7zyyisoqzgVYV1lNlpIOZFP4tFcUk/moy0xAqBQKvANdSOsqTeeAS64ezvh5OqA2lGJsAhMRgvlGgMlBToKMsvISS4mK7GYo1vO4+isIrpDIDE9wwiM8qhV3cQlSZKsSZ7bXerQoUN06tTpis89+eSTHDlyhKFDhzJjxowajgx69+5tlXYuJgsANBrNVf/HLVy4kP/7v/8DwNnZmWHDhlU+17VrV+bOnXvDbQLs37+f6dOnU1xcjNlsZsaMGdx1111MnTqVY8eO0frCFMTffPMNEydOxMHK9YZkEkKS6pjBgwfbOwRJkq5h2LBhHDx4kJEjRzJz5kz27dvHd999d8nJQX0ghCA7uZi4PVnEH8hGX2YCwC/MjebdQmjQ0o/Ahp44OFa9m68QgoKMMpKO5ZF4OJdTOzM5tTOTwAYedBgaRcPW/iiUMhkhSVL9UlvO7aZ8u5+U/HKbtN3Az5UFD1w5sfBvBw8eZPv27SxZsqRy2e+//05qaipqtZrt27czevRosrOzCQoKqlxn7NixxMXFXbHNdevWERERcXMHUQ0TJ05ECEHnzp155513CAgIuOS5i0NMNm7ceNm2u3btorCwkDvuuOOKbX/yySeMGDHisv1dq02AoqIiHnnkETZu3EhISAh5eXm0b9+e7t27M2HCBL755hs+/vhjdDodS5cuZdeuXdU69muRSQhJkiRJsrJGjRqxa9cuHnvsMb777js6duzIqlWrKu8s1GVmo4WEg9kc/TON3NQSAHxD3Wg/qAFNOgXh4etc7bYVCgV+Ye74hbnTcWgUuaklnNyezpndWfz63+P4hbvTY3Q0Ec19rXU4kiRJUi2i0+k4c+YMBQUFuLm5XfLczz//TP/+/QHo06cPBw8evKRnwLJly6q1z27duhEfH3/F5w4fPlzt5MW2bduIjIzEaDTy6quv8sADD1ySGLiYZPn222+ZPn36ZUmDhQsXMnHiRNRXmIZ8zpw5JCQksGXLlkuWX69NqEhuJCYmMnTo0EuWx8XFMXnyZPr06cN7773HqlWraNGiBS1atKjW8V+LTEJIUh0jC1NKUt3g6urKt99+S7du3Xjqqafo2rUrX331FePHj7d3aNVSXmzgxLZ0TmxLR1tsQO2opGXvMFr2DMU/wt0mwyUCIj3oe39zOt3RkMN/pHJiazprPz5Cwzb+9LynCZ5+chYSSZLqvtpyblfVngq2dOzYMcLCwi5LQEDFHfzY2FgAPDw8KCoquuT56vaE2L17980FfRWRkZEAODg48PTTT9O0adMrrvfAAw/w2GOPkZ+fj9+F6YhLS0tZvnw5+/fvv2z9uXPnsmrVKjZv3oyrq2uV27xICEHLli2v2sMhOjqadevW8c033zB58uQqH++NkEkISZIkSbIRhULB1KlTadu2LaNHj2bChAns3buXDz74AMc6MsVkmUbP4d9TObktHZPRgruvE91GNiamRyjObtYdI3o1bl5O9BzdhNZ9w9m16hznDuWQFldIj1HRxPQMlfUiJEmS6olDhw5VJhr+zdvbm+LiYgBKSkpo3LjxJc9XtyeELZSVlWE0GiuHYi5durRypoqioiLKy8sJDQ0FYM2aNfj5+eHr+79efsuWLaNNmzY0b978knY//PBDli5dyubNmy8Z5lmVNi/q3r07SUlJbN68mYEDBwIV043HxMTg6OhYWaAyPj6eNWvWWOsluYRMQkiSJEmSjXXr1o1Dhw5x7733Mm/ePA4dOsTPP/9cebJQG5UW6jn8ewond2RgNlrwj3Cnw5AoGrX1R2mnqTQ9/V0Y8kgsqSfz+ev7M2z9IY5zh3PpN775TQ0DkSRJkmqHgwcPsmvXrktmlLjrrrt4/fXX6dy5M0uXLuXOO+9k27Zt3HPPPTUe36OPPsqGDRvIyspi8ODBeHh4kJCQAMCUKVMYPnw4w4cPJzs7m1GjRmE2mxFC0KhRo8qhEhqNhjFjxqDValEqlQQEBLB+/fpLEuoLFy7k4YcfvmTfaWlpPPfcczRq1Ih+/foB4OTkxN69e6vU5kU+Pj5s2LCB559/nueeew6j0UhkZGRlwmHs2LE8/fTTjB07Fnd3d1u8jCiEEDZpuDYJDw8XaWlp9g5DkqyitnTZkyTpxplMJl5++WXmzp1LUFAQy5Yto0+fPvYO6xIlBToOb0rh1M5MzCYLAZEedLo9iqjW/rWqx4Fea2LninhO78zEyVXNgEkxNGztb++wJEmSbpg9zu3MZjNnz56ladOmqFRVLyBsb0888QTHjh1j8ODBvPrqq/YO55Z3tc+RQqFIF0KEX2072RNCkiRJkmqIWq3m/fffp0uXLjz44IMMGDCA999/n6efftruF/jF+VoObUrl9M4MLGZBYJQnnW6PokGsn91juxInFzX9J7SgUdsANi8+xcbPj9FuUCRdRzSyW08NSZIkybbmz59v7xAkK5BJCEmSJEmqYaNHj6Zly5bcfffdPPvss+zZs4eFCxfarNvjtRTnaTn4WwpndmdiMQuCG3nS6faGRMT41srkw79FtfJn7Cud2fT1CQ7/nkp2UjGDH47F1bNu1NywFiFEnXi/JEmSJEkOx5CkOubiuLPo6Gg7RyJJ0s0qLi7moYceYuXKlcTExLBq1SqaNWtWI/suyinn4G8pxO3JQlgEIdFedLq9IeHNferkxazZZGHXygSO/ZWGu48Twx5vTUCEh73DsgmTwUx6fBGpJ/PJSS6mOF9HebEBpVKBg5MKT38XAqM8CW3iRcPWATg41Z2u1pJ0K7LHuV1dHY4h1S7VHY4hkxCSJEmSZEdCCObOnctLL72Em5sb3377LXfffbfN9leQWcbBX5OJ35+NEBDW1JuOw6IIa1Y3kw//dnpXJlt/PINSqeC2B1vSqF2AvUOymqKcck78nc7pXZkYtCYAnN0c8Axwwd3bCYtFYNSbKMgoQ1tiBMDBSUXjDoG0HxSJT/DlU95JknRrkkkIyRpkEuIaZBJCqk9kTwhJqp/+/PNP7r33XnJzc3nppZd46623UKutN2oyP72UAxuTSTiUAwIiWvjQcVhDQpt4W20ftUVmQhG/fnkcbYmRLiMa0WFIgzqdYCkp0LFvXSJn9mSBAJ8QN5p3C6ZBSz98Q90uOzYhBCUFOpKP5RO3J5OclBIUCmjaOZjOwxvi6edipyOxDrPZQlmhHotF4OzmgJOruk6/v5Ike0JIdZVMQlyDTEJI9YmcHUOS6q/z588zevRo9u3bx4ABA1i6dCkBAdW/ky+EIOuchsN/pJJ0NA+ABrF+dBwWRXAjL2uFXSsV52vZ+Plx8tNLadIpiP4TmqN2rFsn2iajmYO/pXB4Uypmk4WwZj4VvVaaet/QRXdWooa9axNJO1OI2lFJl+GNaN0vvM4U8BRCkJ1UzNm9WWQkaCjMLsNi+t/5q7ObA2HNvGncLpAGrfxwdJYlz6S6Rc6OIdVVcnYMSZIkSarjIiIi2LZtG08//TT//e9/6dChAytWrKBz58431I7FbOHc4VyObD5PTnIxAA3b+NNxWBSBDTxtEXqt4+nnwsgX2rN50Sni92dTnKdl6GOtcPNysndoVZKRUMRf352hKLsc31A3eoyOJqJF9YqFBjfyYsTT7Ug9lc/fP8axc0UCCQdzGDS5JZ7+tbdXhLAI4g9mc2BDMoVZ5QC4+zgR0cIX70BXlCoFulIj+emlnDucy7lDuTi6qGkzIII2/cNxcnWw8xFcW35GKZkJGjQ55Rj1ZtSOKrwCXAhu5IV/hLvs3SFJUr1V5Z4QCoUiBggHtMBxIUSRDeOyKtkTQqpPZE8ISbo1LF68mKlTp2KxWPjss894+OGHr3tRYtCaOLUzg6N/nqe0QI/KQUnzrsG0GRBxy9YDEBbBnrWJHPotpaJg5dTWBETW3oKVFrOF/RuSOfhrMkqVkk53RNH2tkhUVuq1YDSY2bc2kSObz+Pooqb/hOY0bh9olbatKf1sIduXnSU/vQxHZxUtuofSrGvwVS/OyzR6Eg/ncnTLeTS5Wpxc1XS7uzExPUNr1cW8QWfi9M5MTu/OJD+t9Krr+QS7EtMzlBbdQ2pdMkVXaiT9bCH5GWXoSo0o1Qo8/ZwJbuRFQKRHrXq96wrZE0Kqq2wyHEOhUHgAzwMPA+VANuAMNAb2Ae8KIbZY5xBsRyYhpPpEJiEk6dZx+PBhRo4cSXJyMg899BDz5s3DxeXSO9dCCHKSSzi5I534/dmYDBZcPBxo1Tec2N5huHjcWlNVXk3c3iz++u4MCiUMfDCGxu1q34V3cZ6WP745SVZiMf4R7gya3NJmyaOUk/lsWXwKbYmRVn3C6DG6CSoH+w/P0GtN7F6VwMntGagclLTuF077wQ1wdqvahbjFbOHsvmz2/JJIWZGesKbe9J/Ywu49PixmC6d2ZrJvXSLaEiOOLmqadAykQSt/fEPccHJRY9CZKMwqJ/VkPnF7s9CXm3B2c6DLiEbE9AxFqbTvxX1WooZjf6Vx7lAOFvOVrx88/Jxp0z+Clr1DUTvY98JWV2Yk8Ugu6XGFFGVX9DZxclXjG+pORAtfolr51YohWvpyI63btkYBnDl7usb2K5MQkjXYKglxAFgCLBNCZP9juRLoBTwGbBVCfGmFY7AZmYSQ6hOZhJCkW0tBQQH3338/v/32G+3bt2flypVERUWhKzOScCCbE9szKu+oBjbwoGXvMJp2DrL7BUBtlJWoYeMXxyoKVg5vRIehtadg5dn9Wfz9QxwGnZm2AyPoOqKxzZMCZUV6/vjmJOlniwhs4MGQR1vh4ets031eS1aiht8XnKSkQEdYM2/63t8c70DXarWl15rYvfocJ7el4+iiZsADLWjU1j4zpRTllPPHwpPkpJTg4ulI5zsa0rxr8DUvgE1GM2f3ZbN3bSLlGgMBkR4MfDAG35Ca79FUnKdl+/J4ko9V1JUJa+ZNk45BBDbwxNXLEbPRQmF2OWmnCzi7L5vyYgNuXo50Ht6IFt1Davx3TFtqYP+GZE7tyMBstADg5u2Eo7MKXZmxcuYYZzcHOgxtQGyfsBr/e2kymDmzJ4vTuzLJSSlm9rKHcHRWkZJxrsZikEkIyRpslYRwEkLor7XjqqxjbzIJIdUnMgkhSbces9nMm2++yZtvvom3pw/PTHibANEci1ng4KyiWedgYnqG1uphBrVFSYGODZ8fIz+tdhSsNOhMbP/pLGf2ZOHi6cjAB1oQ2dKvxvZvsQj2rU3k4G8pOLs7MGhySyJa+NbY/qFiyMzhzansXZOIQqWg5+hoWvYOs8rFa+rJfP5YdApdqZE2AyLodndjVOqa6/ERtzeLv3+Mw2gw025gJB1vj7qhwpkGnYkDG5M58kcqSrWSHqOiie1jndfmeoRFcGTzefauS8RstBDdMZCOw6LwC3W/6jYmg5mT2zM4+Fsy2hIjkS196Te+Oe4+tk9uCYvg2F9p7FufhEFrIrCBB7F9wolq7YeL+/96hJUU6Dh3KIejW85TWqjH3ceJPuOaEdXK3/YxCkHCgRx2rU6gtECPg7OKyBhfnnh7FCoHJWcTztg8hotkEkKyBlslIT4GFgghTlgz2JomkxCSJElSXaUvN5J6soCkY3n88staFm2ag85QxrhhU5kxYwZNOgbj4CRPIG+EQWdi86JTJB3NIyDSg8EPt8QroHp33G9GdnIxfyw8iSZXS4NYP/pPbIGrp32GzyQeyWXL4lMY9Wa6jGhE+0ENUNRA939tiYHNi0+TejIfn2BXBj8ci1/Y1S9yq6O0UMfvC06SeU5DUENPBj8ca/MeHwadiW1LzxK3NwtXL0cGPhhDRPPqJ3cyE4r4Y9EpSvJ1NGoXQP8JzW1aK6K82MCWxadIPVWAd5Arve9rekPx68uN7Pg5njO7s3ByVdN/QgsatbNdT5TyYgObF5/i/KkCPPyc6XZ3Y6I7BF4zWWMymjnxdzr7NyRj0Jpo2SuU7qOibTa7SplGz+ZFp0g7U4iTq5qOw6KI6Rlqt9lcamsSYtiwYQwbNoxp06ZdsrxNmzbMmjWLkSNHMmbMGJ599lm6det2zbZ69erFkiVLaNiwoS1DvqXZKgnxCTAOSAIWAj8KIUqsF3bNkEkISZIkqa4QQlCUXV6ZeMiML8JiqfhfHdTQE5cwLS+9+wQnThznzjvvZMmSJXh7e9s36DpIWAT71idx4NdkHJxU9Lu/OU06BdXIvs1mCwd/TeHAxmQUSug+MprW/cLtPjSkKLucX788TkFGGQ3b+DNgUgxOLra7QDp/poDNi05RrjHQonsIvcY2tVlCzWy2sHdNIof/SMXZzYHbJscQGWObHic5KcX8vuBCcqmVHwMmtrBKbRaD1sRfP5wh4UAOnv7ODJoSS1CU9We7OX+mgM3fnKK8+Obfl6Rjefy55DS6UiOt+4XTfWS01YcZ/TPemB4h9BzbFIcb6N1UUqBjy7enSY8rxDvIlSGPWD8Rlnoyn80XarDE9Aih293ROLvbt+BobU1CrFy5kjlz5nDw4MHKZQcOHGDYsGGkp6dz+PBhXn75ZbZsuX5ZwjVr1rBq1SqWLFliy5BvaTZJQlxowAG4G3gQ6A6sARYKIbZZI/CaIJMQUn2yadMmAAYPHmznSCRJsgYhBJpcLRlni0iLKyQ9rpDyYgMAKrWS8BY+RLXyJ6qVP+4+FdNLlpeX8+ijj/L9998THR3NqlWraNWqlT0Po846f7qAPxadQnvhAqbHmCY2vTNZmFXG5kWnyEkpwS/MnYEPxuAfbt0Lnpth1Jv56/szxO/PxivAhaGPtbL6BZnZZGHv2oqEgIOjij7jmtGsS7BV93E1iUdy2fLtaQw6E51ub0inYVFW6/EhLIIjW86zZ805UED3u6Np3d+6ySUhBCe3Z7BjeTxCCHqMjqZVX+vsw2K2sG99Egd/S8HBUUXf+5vRtPPNvy+lhXp+X3iCzATNhZ5HsXgF3Hyh0EvivclE4sWhJ3vWnEOhUtD73qZWqWdhNlvYtzaJQ5tScHRW0W9CC6I7XF4U1x7ndle6eBw+fDjnztmmLkXjxo1Zu3btddczGo2EhYWxefNmWrduDcDjjz+Oq6src+fOZfLkyXTv3p3JkycDMGXKFPz9/XnnnXdITU1l8ODBfPXVV/Tq1Quj0UhoaCgJCQl4eXnZ5LhudTZLQlyyskIRBky68GURQjSrdsQ1SCYhpPpE1oSQpLpLCEF5sYG886VkJ2nITi4hJ7kYXZmxch2/MDfCmvoQ3tyH8Oa+V70DKYTg888/5+mnn8bBwYEFCxYwbty4mjqUeqW82MDmRSc5f7oQd18n+txn/fHhJqOZQ5tSOfRbChazhXaDGtD5joa1YkaKfxNCcHxrGjt/TkCpUtBtZDSt+oRZ5WK9MKuMP745RW5qCYFRngyaHFPjQ2E0ueX89tUJ8s6XEhnjy8AHY266p0JpoZ4/l5zi/OmKu+mDJre0aY2W3PMlbPrqBJpcrVWGZ5QU6PhjYcWQlYBIDwZNaVntoqBX8s+EgaPT1S/G7R1vVqKGTQtOUFqgp2mXIPrc16zaScmK2W5OkZWoIbCBB4OmXD35Ulum6KwNSQiA5557DrPZzMcff4xOpyMkJIRdu3bRokULGjduzC+//EJsbCwAmZmZtGnThk2bNjFx4kQ++OADBg0aVNlW//79efbZZ7njjjtscly3uppKQrQFHgLuA04KIfpWO+IaJJMQUn0ikxCSVPsJi6BMo0eTo6Ugs4yCjLLK7/9MOCjVCgIiPAhs4EloE2/Cmnrf8MXQrl27GDNmDBkZGTz55JPMnTsXR0c5LeeNEhbBiW3p7F5zDqPOTMM2/nS9q/FNz0YgLIJzh3PZveYcxblafIJd6Te+OSHR3tYJ3Ib+WYcgtIk3fe9vVu0pQ/+ZhDGbLXQY0oBOdzREpbJPEsZkMLN92VlO7czE2d2B3mObEt3x2jUErkQIwdl92WxfdhZ9uYkWPULoaePeNBdZY3iGEIKEgzn8vTQOfZmJ1v3D6X639YdMXJR6Kp/NiyqGJcT2CaPH6OgbmplCCEHc3iy2L4vHoDXZpNiorszIlm9Pk3wsr9rDM87uqyhIatCZaTMwgm53XTvG2pKEqC1OnTpFnz59SE9PZ8WKFcybN49du3YB4OTkRFpaGgEB/6sxMnPmTN5//31++OEHRo4ceUlb48aNo3fv3jz22GM1egy3ClsOx/ABxlORfAgAvgUWCSESrBJ5DZBJCKk+kUkISbIvs9mCrsRIebHhwpeeMo2BkgIdJXlaivN1lBTosJgu/f/q6KLGN8QN31A3/MPdCYzyxD/M3Son+1lZWYwdO5Zt27bRo0cPli9fTmho6E23eysqLdSx4+d4zh3KRaGApl2CadM/4obvapuNFhKP5nLwtxTy00pRO6nodHsUbfpH1OjsDDfLoKuY6vLE3+kolApa9gyl4+1RuHk5VWl7s9nC2b1ZHPg1heJcLb6hbvQZ14zQWpKEid+fzbZlZ9GVGols6UfXEY2q/F7npBSzY3k8mec0uHg40G98cxq2qdlpQC8ZnmERtOwTRqfboy6ZDeJqirLL2bbsLOdPFeDkpmbAxBY1Ev8/p4b1C3Ojx+gmVZqRpSCzjN2rz5F8LA9XL0f6jW9usxkthBAc3XKe3asqhmd0HNqANgMjr1troiinnN2rzpF4JBcXT0cGPNCCBlWY7UYmIS7XrVs3nn/+eb744gvuu+++yuEXPj4+HDt2jIiICADy8vIYOHAgmZmZbNiwgY4dO17SzsiRIxkxYgQPPPBAjR/DrcBWhSl/BoYAfwDfABuFEBbrhV0zZBJCqk9kEkKSboywCExGCyajGZPBgtloqXxsNlT8bDZaMBrMGHUm9FoTBq0JvdZc8b384mMT2hIDulLjVfeldlTi4eeCp78znhe+VyQe3HHzdrRp4UGj0chLL73Ehx9+SHBwMMuXL6dXr1422199l5WoYc+ac6SfLQIqioI2ahtAg1Z++Aa7XXFogkFnIjNBQ+qpfM7uy0ZXakTtoCS2bzjtB0VapTihvWQlati1MoHMcxqUKgUN2/jTvFsIodHeOP6reKUQgvz0Ms4dyiFuTxYlBTocXdR0GNKANgMj7Nb74Wq0JQZ2rIjn7N5sAKJa+9O0cxANYv0u69Fg1JtJPp7Hib/TyYgvQqGAlr3D6Hxnwypd+NtK7vkS/v4xjuykYhxd1MT2DqN5t+DLeq5YzBYy4os49lcaScfyQEDzbsF0Hxldo59Pi0VwYGMyB39LxmISRLTwoc2ASMJb+Fzy+RBCkJNSwomtacTtzUIIaNIpiN73NsXZzfaFHbMSNWxefApNjhY3byc6DGlAk05Bl+xbCEFhVjkntqVzcls6FrOgcbsAet/XrMqz3cgkxOUWLFjAF198QXx8PBkZGbi7V/RG6dOnD6+99hoDBw5Eo9Fw22238dxzz6HX61m4cCF///33Je20aNGCpUuX0rZtWzscRf1nqyTEC8ASIUS2VaOtYTIJIdUX+RmltO/YFoAvZ62+5Llr9mm6xpM3MiTr8m2tv2H1j6O6G1brqWsfQzVfF5scQ/Xf3up/NmzwPglRkUywWAQWs6j8WVx4XPmzRSAuPL748828BgBqByWOLmocXdS4eDjg6umEq6dj5ZfLhe8evs64eDjYfYaD5cuX89BDD6HT6Zg7dy5PPfWU3WOqy3JTSzj213kSDuZgMlTch1E7KPEOdsXFwxGlUoHJYKY4X0dpoR5xYSYTr0AXYnqG0rxriN2m3bQ2IQTJx/I4vjWN86cLKxYqwDfEDRd3B1QOKnSlBoqyyzHozAC4eDrSul84rfqG23SmDWvISytl//okEo/kAhWFYX1D3XD1qnj/yor0FGSUYTELlGoFjdsF0mFIA6sX7qwuIQQJB3LYuzYRTa4WADdvJ3yCXVE7qtCXG8lPL8OgNQEQ1cqP9oMb2HVoUHG+ln1rk4jblwUCHJxU+IW54+zugFFvoiCjDG1JReI3vLkPXYY3IrhRzRYYNJssnNyezv71yejKjCgU4BvmjoePE2azoCirnJICHQABkR70GB1NWFOfG9qHTEJcrqSkhJCQEMaOHcvChQsrl3/22WekpqbyxhtvMHjwYB544AGmTJmCxWKhQ4cOzJo1i7vuuguA5ORkBg0aRFxcnPw/aCM2rQmhUCjUwFNAtBBiqkKhaAw0EEL8aYXYbU4mIaT6Iv1sIUMG3Q7AY0NnX3Gda/6JvcYf4Ov+ab7WCtd4TnG9lq+5bTXjgeofa/XDvfY+b+Z/n61e35uKyfqv7/VeW6VSgUJ14buy4rtS9b+fFUpQVj6vrHhOAUqVErWjErWDEpWDErWDCrXjxZ8rHqscKtZxdFbj5Kr+33cXdZ3qOn/RqVOnuPvuuzl79iz33nsvX3/9deVdJKl6TEYzGWeLSD1VQEFmGYWZFRdzFRekSjz8nPHydyEk2ouIFr74hrrV65NeTW45SUfzyErUkJtagl5rwmSw4OSqxifIFb9wdxq1DSAk2hullWafqCllRXoSj+SSfDyP/PQytKUGFChw8XDAL9ydiOa+NO0cVGt7tgiLIO1MIYlHcsk8p6E4X4vZYMHRRY1PsCthzXxo2jmo2vU9bKE4T8vZfVmcP11IwYXfLbWDEq9AV0KbetOkY5BNpiO9EUa9mYSDOSQfyyMnpZjyYgNKlQJPfxdCor1p0iGQ0Kbe1fq9Hz58OECVCzdaQ21PQlxNaWkp3bt3Z/fu3bi5Xfsz/NJLLxEdHc2UKVNqKLpbj62TEP8FVEBPIUQLhULhDWwWQnS89pa1g0xCSJIkSbea4uJiJk2axOrVq2nZsiWrVq2iadOm9g5LkiRJqgXqahICYMuWLQQFBVXOkHE1n376KdOmTUOprHs3E+oKWychjggh2ioUisNCiHYXlh0VQrSxRvC2JpMQkiRJ0q1ICMF7773HjBkzcHd3Z8mSJYwYMcLeYdUqZpOJwow0CrMyKCsqolxThLCYEULg4OyCq5cXHr7++EdG4ebtU697N0iSdOuoy0kIqfaobhKiqoPzdP98oFAoVIBMKUmSHcyfPx+AJ554ws6RSJJU2ykUCqZPn07Hjh259957ueuuu3j55Zd56623btmTTqNeR3rcaVKPHyH1xDFyU5KwmE1V2tbVy5vI2DZEtWlPow6dcXG/sRkzJEmSrkSe20m3mqr2hPgK2Aa8AIwCpgM6IcSTtg3POmRPCKk+kbNjSJJUHampqYwePZr9+/czcOBAli5dir+/baa3q21MBgNJhw9wesdWEg/vx2ysKHTn7OFJaJNm+EdG4RsajruPH65eXijVahQKBYbycspLNGiys8hNTSYr4Sy5KUkAqNRqGnfqRusBg4mMbSN7SEiSVG32OLezWCzExcXJnhDSTTGZTMTHx9OsWbNLhr1YqyfEs8AHQDCwE1hDRSJCkiRJkqQ6IDIyku3bt/PUU0/x5Zdf0r59e1auXEmnTp3sHZrN5J1P4cim9ZzZuQ19eRkoFES0iKVhu45EtmpLYIOGKG5wrHBZUSGJh/dzatufnN29nbO7txPcuAld7h5L445dZDJCkqQ6QaFQoFAoMBqNMgkhVZtOp0OlUt1w3Y0q9YSo62RPCKk+kT0hJEm6WYsWLWLq1KkIIZg3bx4PP/ywvUOyGmGxcO7gPg7/tpbUE8cACGjQkBa9+tG8e288/KzX+6MoK5ODG9dw/M/fMRuNhDWPoe/Ehwlu3MRq+5Akqf6z17ldVlYWer2esLAwmUCVbogQAp1OR3p6OoGBgfj4XDot7U0VplQoFF2EEHuv8bwL0FAIcaoasdcYmYSQ6hOZhJAkyRoOHTrEyJEjSUlJYfLkycybNw9nZ2d7h1VtQgjOHdzHrmXfkZuajFKlomnXnrQbcgchTZrb9AS7rKiQ3St/4tgfvyKEhdYDh9D7/odwcnW12T4lSao/7HVuZ7FYSElJQafTXX9lSfoXlUpFQEDAZQkIuPkkxHLAB/gR2AtkA85AM2AIMAh4Rgjx100dgY3JJIRUn8gkhCRJ1pKfn8/999/Ppk2b6NChAytWrCAqKsreYd0QIQQpRw+xc/n3ZJ2LR+3oRNvBt9Nh2Ajcff1qNJa88yn8+c1/OX/qOO5+/gx+9D9EtWlfozFIklT32PvczmKxcCv0jpesR6FQXHMIxk1P0alQKDoBjwJ9gXCgDDgGrAQWCSHKbjzsmiWTEFJ98swzzwDw0Ucf2TkSSZLqA7PZzBtvvMFbb72Fr68vS5cuZdCgQfYOq0rOnzzGjmXfkxF3CpVaTeuBQ+l81xjcfXztFpOwWDj+5+/8/f1CDFotnUeMpsfYCSjlmGtJkq5CnttJ9c1NJyHqA5mEkCRJkqRrW7duHRMmTKC4uJi33nqLl19++YYLTdWUjLOn2bnse1JPHEWpUhHb9za6jLwHT/9Ae4dWSZOTzfpP3iUr4SyhzWK4/T8v4OkfYO+wJEmSJMnmZBICmYSQJEmSpKpISEhg5MiRHD9+nOHDh/Ptt9/i7e1t77AqZScmsHP59yQdPoBCoaRFr750G3Uf3sEh9g7tiswmI9t/XMzBDb/g7OHJnU+/RGRsa3uHJUmSJEk2JZMQyCSEVL/ILnuSJNlSWVkZjzzyCD/++CPR0dGsWrWKVq1a2TWmvNRkdv38I/H7dgHQrFsvuo0Zh19YhF3jqqqE/Xv4df6HmAx6BkyeSusBQ+wdkiRJtYg8t5PqG5mEQCYhpPrF3sWLJEmq/y5O3fnss8/i6OjIggULuO+++2o8joKMdHav+JEzu7aBEDTu2JUe99xPQIOGNR7LzcpPS2X1e2+iyc6i/bAR9Bn/UL2vE1Gcl0t2UgJ5qckYtFrMJiNOru74hoYREBmFX0QDOS2gJCHP7aT653pJCHVNBiNJkiRJUu2nUCh48sknad++PWPGjGHcuHHs2bOHuXPn4uDgYPP9a3Ky2L3iJ05t+xMhLES17UCPMfcTHN3U5vu2Fb/wSMbN/oC1H8zh0MZfKMxM546nXsTRpX5N41laWMCpbX9yZsdWclOTr7muV1AwTTp3p+2gYXgFBtdMgJIkSZLdVaknhEKheBP4ENAA64EuwKNCiJW2Dc86ZE8IqT6R2XJJkmpSVlYWY8eOZdu2bfTo0YOff/6ZkBDb1GAozs1h7+rlnNj6BxazmYiYVvQYO4Gw5jE22Z89mE1G/vhqPif/3kxAVCPunj4TD19/e4d100ry89j3y88c37IJs8mEs5s70Z27EdKkOUENG+Ps7o5SrUZbXExhZjrpcaeI37eb0vw8FEolLXrW7voekmRL8txOqm+sMhxDoVAcFUK0USgUtwHTgBeBn4QQ7awXqu3IJIRUn8h/VJIk1TSj0chLL73Ehx9+SHBwMMuXL6dXr15Wa784N4e9a5Zz4q/NWMwmQpu2oMfY8UTGtrHaPmoTIQR7Vy9n57LvcPf14+7pswiMamTvsKrFZDSyf+0K9q3+GZPRQHB0UzoPH03D9p1QX6fXjLBYSD1xjL1rlnP+5DFUDg50vXssHYePuu62tZHZZCTzbBw5yecoKchHWMw4u3ngGxZOWPOWuHn72DtEqZaS53ZSfWOtJMRhIUQ7hUIxGzgjhPheoVAcEkK0t2awtiKTEFJ9Iv9RSZJkL8uWLWPy5Mno9Xrmzp3Lf/7zn5sa01+cd6Hnw4XkQ0jT5nQfcz8NWrW9JWoFnN6xlU1ffIxS7cCdT0+nYbuO9g7phmScPcNvn39EYWY6vmER9JnwEA3bdqzWe3f+5DE2L/yCgvTz+IVHcvtTLxIQGWX9oG0gJzmRY1s2Ebd7O7qS4iuuo1AoadC6LTF9BtCsW0+UyvpdD0S6MfLcTqpvrJWE2AGsAx4GegA5wHEhRKy1ArUlmYSQ6pP58+cD8MQTT9g5EkmSbkUnT55k5MiRnD17lvvuu4+vv/4aNze3G2ojNzWZA+tWcWbn31jMZkKaNKtIPrRud0skH/4p7fQJfpn7NvryMgY8NJU2tw21d0jXJYTg4PrVbF/6LUqliq6j7qXjnXejUt9c7wWzyci+X1awZ+VPKJRK+k58mDa3Da21n4nCrAx2/vQdcbu3AxV1P5p170VYsxg8/ANQXRh+kpuSRMKBPSQdPoDFbMYvPJJe4ybRqH2n2ntsmemc3bOTtNMnKMhIx6Atx8HJGe/gEMKat6Rp1x51JklUF8hzO6m+sVYSIpqKYRjbhBCrLjweLYR4x3qh2o5MQkiSJEmS9Wg0GiZNmsSaNWuIjY1l1apVNGnS5JrbCCE4f/I4+9etJPnIQQDCY2LpMmIMDdq0r7UXYzWhICOd1e+8TlF2Jh3vHEnvcZNQKJX2DuuKtKUl/Pb5RyQe3IdPaDh3Pj3d6rOVZMbHsf6T9yjOzSamd39ue3gaakdHq+7jZphNJvb98jN7Vi7DYjbRqH0nuo0eR1Cj6Gt+jsuLNRz+dS0H1q/BZNAT3akrtz08DVcv75oL/jqyzsWzb83PxO/fDUKgcnDANzQcZzd3DDotBRnpGHVaACJiWtHr/kmERDezc9T/YzaZSD56iOSjB8lJTkJbrEGlVuMZGER4i1iaduleK4ugmgwGDDotrp5e9g5FkqxCTtGJTEJIkiRJkrUJIXjvvfeYMWMG7u7uLFmyhBEjRly2nkGn5fT2rRz9YyO5KUkoFEqadOlOpztH1unZLqytvFjDL+/PJuPsaZp06c7Qac/h4Ohk77AukXH2NOs/eY+SvFxa9OrHwCmP4+jsYpN96cvL2PjZXBIP7SckuhnDn5uBu6+fTfZ1I/LTz/PrvA/ITkzALzySgZMfJzzmxjoGlxbks/W7hcTt2oarlzeDH3uKRu072SjiqtGVlrL1uwWc3LoZgEYdOtNu8B1EtGx1SQ8Xi9lMRtxpjv+5idM7/kYIC8269aL/Q4/Z9QLabDJyZNNG9q9bSVlhAQDOHp64e/tgMhoozs3BYjaDQkGTTt3oNe4BfELC7BavEIKshLOc/HszKceOUJSTRdOuPbnz6el2i0mSrMlaPSFcgCeBtoDzxeVCiJFWiNHmZBJCqk+GDx8OwNq1a+0ciSRJEmzevJn77ruPvLw8ZsyYwZtvvolKpSIvNZmjm3/l1LY/MWi1OLq4ENO7Px2G3SVnQLgKk8HAr59/xNnd2wlp0oy7XnitVtwlFxYLBzasYceF4Rf9Jz9GbN/bbN57xWIxs/On79j3ywrcfXwZ8fyrdk1cnd2zg9+++ASTXk+nEaPoNnrcTRXQPLPzbzYv/Bx9WRnd77mfrnePtUsPmMRD+9n0308o1xTRoHU7+kyYXKWhFvlpqWz7cTGJB/dVJFOmPkWjdjWfTEk7c5LNX88nPy0VNx9f2t42jGbde+EdHFr5GTUa9Jw/cYyjm38l8eA+lCo17YbcQY97J9R4si8/LZWtSxaQfPQQAN7BIXy1ZSfO7h78vWdvjcYiSbZirSTE90AxMAz4AJhExdCMZ6wUp03JJIRUn8jiRZIk1TapqamMHj2a/fv306VdGx7o1YXyrHQAAiKjaDPodlr07IOji6udI639hMXCjp+WsO+XFXgFBnH3S6/jFxZht3i0JcUVwy8O7cc3NJw7nnmpxmsBnN75N79/8QkAg6Y+RYsefWp0/2aTie0/LubghjW4enlzx9PTiYhpZZW2NTnZ/DJ3NrkpSUR36srQJ56tsd8Ti8XMruU/snf1Mpzd3On7wMPE9O5/w8ml0zv/ZsuCz9GXl9Fp+Ch63jexRgpvmk0mdvy0hAPrVqFycKDLXffQafio6w7dSTtzkq3fLiA7MR6/8EjueOpF/GvgM20xm9m57Dv2r1uFsFho0bMvnYaPIqBBQ3luJ9U71kpCHBdCtFIoFMeEEK0VCoUHsEEI0duawdqKTEJI9Yn8RyVJUm2iLSkm8dB+jv39J58u+Z4951LxcXPl9SceZdRDDxPatPktXe+huo5t+Y3NCz7HycWV4c+/YrWL3huRcfY06z9+j5L8XGJ69WOADYdfXE/WuXh+ef8tSgsL6DpyLN3H3F8jvQZKCwtY//G7pJ85SWizGO58errVh4UY9To2/fdT4nZtwy88khHPv2LzoQLlxRo2fjaXlGOHCWrUhOHPvoxnQGC12yvOy2H9R++SmRBHw3Yduf0/L+DkemMFa29EaUE+6z95j/QzJwlp0owhjz+Lb2jVXzOLxcz+X1ayc/n3qFRqBkyeSmy/22wWb1lRIes/fpe00ycIatSEAQ89RkiT/9XSkOd2Un1jrSTEPiFEZ4VCcQjoJYQoUygUp4UQLawZrK3IJIRUn8h/VJIk2ZsmJ4uE/Xs5d2APaWdOIiwWlCoVUW3ac0pTzlsfVty1nj9/PpMnT7ZztHVX8pGDrPv4HUwGI4OnPkVMr341sl+Lxcz+tavYtfx7lCo1Ax56jJZ9B9o9mVRakM8vc2eTdS6e6E7dGDrtWZsmRc6fOs6GT96jrKiQ9sNG0Pv+B1Gp1TbZlxCCA+tXs/2HxTi6uHD7f16w2ZStWQlnWfvR/1GSl0vrAUPoN+kRqxT+NBkMbF7wOSf/3oxPaDh3vfAqvqFXvQaptvMnj7H+k/co1xTRfuhweo9/sNozs/wz0dZ6wBD6PfjoTQ2xuZK00ydY//G7lBUV0m7onfQZ/9Bl8cpzO6m+sVYS4jfgPuA5oC+QB7gJIWyXMrQimYSQ6hP5j0qSpJpWXqwh7dRxUk8cJfXEUQozMwBQOzgS2bot0Z260rhDl8rCdAcPHmTUqFGkpKQwZcoUPvvsM5ydna+1C+kqclOSWPXuG5Tm59FuyJ30vv9Bm84UocnJ5tf5H5J+5iS+YRHc+fT0GumqXlVGg55NX3xC3K5tBDRoyPDnXsE7yLqzHQiLhX2/rGDnsu9ROzkx6NEnad69Zjr/Jh89xIZP3kNXXkbPeyfSecRoqyV/hBAc/X0jW5d8jUKhtMndfyEEh39dy9bvFuLg5MztT71gtToRlYmaHxejdnRi8GP/oVm3Xjfdbnmxhg2fvk/q8SMERzflzmdextM/wCrxHtywhm0/LELt4FjxObrKUCJ5bifVN9ZKQqiEEGZFxV/B+wFvYIkQothqkdqQTEJI9Yn8RyVJki0Ji4X89PNkJsSRFX+WzPgz5KYmVz7v4R9Ag1ZtadShM1Gt2uFwleRCfn4+48aN4/fff6djx46sWLGCBg0a1NBR1C//7HruH9GAodOeIzCqkVX3IYTg1LY/+XPRlxi05bQbcie97p9U62bogIpY96z6iV3Lf8DJ1Y1Bjz5J0649rdL2P2tg+IVHMvy5GTa5m38tRVmZ/DJ3NnnnU2jarRdDHnvqqr9nVWXQlvP7V/OI27UNr6Bg7nzmZYIaNrZSxJdLOXaE9R+/g668jG6j7qPbqHtvaviMQVvOpv9+ytk9O/ANDWf4869YtVaKxWJm57Lv2bfmZ1w8PLnj6elExrapdnv68nJ+/+8nnN27syLe52bgFx551fXluZ1U38gpOpFJCKl+2bRpEwCDBw+2cySSJNV15cUa8s+nkJeWWvH9fCq5KYkYtNrKddx8fAlv3pLIVm2IbNkGr6DgKt+ZNZvNvP7668yePRs/Pz+WLl3KbbfViU6UtY7FYmbfmhXs+vkHANoPvZPuY+63ShHD/LRUtnzzX86fPIabtw+Dpz5Nw7YdbrpdW0s+cpCN8z9EW6whtt9t9Bk/GWd392q3F793F5sXfk65poiYXv0YOOWJm774ry6DTstv8z8ift8u/MIjGfrEswQ1iq5WW9lJ59jwyXsUZqbTpHN3Bk99yqb1Gi4qys5i7Qdvk5uSRMO2HRg89WncvH1uuJ2c5EQ2fPo+BennadqlB4OnPmWz4p3x+3bx2+cfYdTp6XnfRDoNH3XDPVGyEs6y/tP30GRn0bRbLwY/+uR145XndlJ9c1NJCIVCsVQIcZ9CoTgMXLaiEKK9dcK0LZmEkCRJkm5FRoOe8qJCNDk5aHKzKM7JRnPhqyg7k3JN0SXrO7m5ERDZkODopoQ0aUZIdDM8/PxvOo61a9cyYcIESktLmT17NtOnT0dph6kI64PspHNsXjCfrISzuHp503nEGFrfNqRaPRY0OVnsXfMzJ7duxmKx0KrfbfS874HKYTV1QWlBPr9+/hGpx4/g6uVNnwmTad6j9w3NzpCffp4dS78lYf8enN3c6ffgo7To2dfuNTCExcL+davYuex7hLDQecQYOt81usp1MAw6LbuW/8ChX9eiUCjoM/4h2g0dXqPHZTTo2bLgC07+vRlndw/6T3qE5lV8bc0mI3tXL2fv6uUIIeg1bhId77jb5vEXZKSx9oM55Kel0qRzdwZMnlql5InJYODAulXsXrkUhVJJn/EP0XbwHXb/HEmSPdxsEqKDEOKgQqG44gAmIcTfVojR5mQSQpIkSarLLGYzem05hvIydGVlGMrL0JeXoy8vq/gqK6O8uIjyoiLKNIWUa4ooKyrCoC2/YnsuHp54BQXjFx6Jf0QD/CMa4BcRibuPn81OmOPj4xk5ciQnTpxgxIgRfPvtt3h51Z2L3drEYjFzfMvv7F65lLLCAly9vInp3Z+Wvftft36D2WQk6cghTm/7k/j9uxEWC6HNYug7YfIl1frrkotDSbZ+txBdSTE+IWF0GjGKpl16XPWOvxCCjLjTHP9zE6e2/YUQFpp06c6Ah6p2wVmTclOS+PXzj8hNTsTF04vOI0bTqv9gnFyvfHddW1LM0T9+5fBv6yjXFBEc3ZTbHp5m9SE8N+Lsnh1s+ea/lGuKCGnanC53jaFR+85X/HtjMho5ufUP9v2yguLcHAIioxg89elq9wSpDoNOWzH8Y/d2HJxd6Dx8FO2HDb9ijwaL2Uz8vl1s/3ExmpxsfEPDuf2pF+36ekuSvcnhGMgkhFR/lGuKaN22HQDrvl985ZWq8jtdhXWq9JfhOu1Y6+9Lldqp0jFVpR0rxGKF/VhzX9dtxmqvnRViubC3m23IWvup6mfPYrEgLBYsZjMWixmL2fyvxxbEJd/NWCwWLGYTJoOh4sto+N/PBj1moxGTQY/JYMBiNlflgICKBIObtw+uXt6V3z0DAvEKDMIrIAjPwCC7TbNYVlbGI488wo8//kiTJk1YtWoVsbGxdomlPjAZDBzbsolDG9egyckGwMMvgNCmzfGLiMTFwwsHJyd0paWUaQrJPneWzIR4jLqK4TaRsW3ocvdYIlq2qhd3a7UlxRz6dS2Hf12HvrwMpUpNRMtWhDZtjod/ACqVmtLCAvLOp5ARd6ryNYuIaUXP+yYS2rT2TvpmNpk4uXUzu1f9RGl+HmpHJyJbtSGkcVPcL/RWKs3PIzMhjtTjRzEZDXj4BdDl7jG0GjD4hnqG2Iq2pJgdPy3h5NbNmE0mvIKCiWrTAf+IBjg6O6MtKSY76RxJhw+gKy3B2cOTjnfcTcc77qr27Bc3QwhBwv7dbPthEUVZmTg4OdOwXUdCopvi4umFQaclLyWZxMP7KS3Ix9HFla6j7qXdkDtveIYNWRNCqm+sVZjyLy4/WysCdgOfCiH0NxOkrckkhFRfnD91nE7dugPwwpArV1iWJKluUTs6oXZ0RO3gUPmzysGxYtnFLwdHHF1dcXJ1u/B14Wc3N5xc3HB0dcXV0wsXTy+bTSFoLUII5s2bx7PPPoujoyMLFy7k3nvvtXdYdZoQgvQzJzmzcxtpp0+Qn5Z6xfXUTk4EN25CVOv2tOjVF0//wBqOtGboyko5s3Mb5w7sIfXEMSxm02XreAYE0aRLd2J69atTd6xNBgOntv/F6e1/kXH29GUJSoVSSXiLWFr1H0TTrj1r5d+DkoI8Dm1cS9yu7ZTk5172fEBkFDG9+9P6tqF2S5j+k9lk5OTfWzjx1x9kJpy9LMvtHRRCi179aDtoGK5e3tXah0xCSPWNtZIQc4HWwLdUJCMmAglAAKARQjxinXBtQyYhpPqivFhDm7ZtAdi49Ierr1iVG1pVuOulqEpD12mnajfXqhBLVRqq0ipWOKbrt1C1A7fae1CVXV1vpaq8B9ffT00e0/XfJyu9B1VoRqlSo1AqUapUKJUqlKqKnxVK5YXHKhQXn1MqK35WKVEolPXiDnR17NixgzFjxpCVlcXTTz/Ne++9h8MN3j2UrkxXVkpxbg7akmKMej3O7u64uHviHRxSKy9Kbcmo11GQnkZZUSEWsxlnDw/8Ixrg7Fb9Apa1hUGnJT8tlXKNBgA3bx/8wiNwcKob0+EKISjOzaYwKxOTXo+Tmxt+4ZG1uiaJtrSE/LRUdCUlqJ2c8A0Ns0oyTyYhpPrGWkmIXUAvIYT5wmMHYDvQEzguhKi9/deQSQipfpH/qCRJqi8yMzMZO3Ys27dvp1evXixfvpzg4GB7hyVJklSj5LmdVN9cLwlR1XS4H5cOxxCAjxDCpFAodDcT4EUKhaIJFT0t/AENMEkIcdlvokKhmAy8BCiBP4HHhRBGa8QgSZIkSVLNCQkJYcuWLbz44ot8/PHHtG/fnp9//pkePXrYO7RaxaI1oU8txpBagim3HFOuFnOpAaEzI0wWFGolCkclKm9n1L7OOIS64RTlhWOEBwq1nIVEkiRJql2qmoTYAvyqUCi+v/B4HPCnQqFwB6xVD+JL4CshxGKFQjEaWAx0+ucKCoWiIfAW0B7IBn4BHgHmWykGSZIkSZJqkIODAx999BFdunRh8uTJ9O3blw8++IAnn3zylh2qAmDMLUd7Ih/d6XwM50v+dytIASovJ9Q+zihd1CjUSoTJgkVvxlyoR5tRivZ4XsWqjipcWvrh0jYA5yY+KJS37uspSZIk1R5VHY6hpuJif8CFRX8CXwohLq/0U50gFIpAKmpM+F7oXaEAMoGeQoiEf6z3AtBYCPHYhcfDgBlCiJ7Xal8Ox5Dqk4SEil+J6Oiam6pKkiSpJpw4cYKRI0cSHx/PuHHj+Oqrr3Bzu/IUi/WRRW9CeyyPsgPZGFKKAVA4qXBu4o1jQy+cGnjiEOSKwuHqMx0IoxnD+VL0SRq0Zwowni8BQO3njHvPMNw6Bl1ze0mSap48t5Pqm5uuCaFQKFTAJiHEQGsH9499dAB+FEI0+8eyfcBLQog//7HsMyBDCPF/Fx7HAL8JISKv1b5MQkiSJElS3aDRaHjggQf45ZdfaNWqFatWrar3J+amAh2lO9IpO5CFMFhQOChxifXHtV0gTo28bmpIhSlfS9mBbMr2ZmIpN6HycsTztihc2wfKnhGSJEmSTdx0TQghhFmhULgqFAqlEMJi3fBsQ6FQPAs8e/Gxl1ftrbIrSTdKZsslSarPvLy8WLVqFe+++y6vvvoqHTt25LvvvuPOO++0d2hWZ8wqo/iv82iP54IFHELccOsagmubAJTO1pnFQu3ngtfgKDz6RVC2L4uSP1MpXHGW0t0Z+IxqgmNo3Z8lQpLqOnluJ91qqjoc4xOgCfA9UHpxuRBirVWCkMMxJKnKZAVlSZJuFX/88Qf33Xcf+fn5vPrqq7z++uuoVHV/KIFJo6f49xTKD2WDAKcm3nj0Dscp2tvmdTAsWhPFf6VSuiMdAI8+EXgOiJQFLCXJjuS5nVTfWGt2jNYXvj/8j2UCsEoSQgiRo1AoDgHjqShIOQpI+2cC4oKVwA6FQvE6FYUpHwN+skYMkiRJkiTVLrfddhsHDx5k9OjRzJ49m3379vHjjz/i5+dn79CqxaIzUbI1jZId6WCy4BTtjdeQKBzDPWosBqWLGu9hjXBtE0jhyrOU/HUeXXwhfvc1R+3nUmNxSJIkSbeuKvWEqAkKhaIZFQkIP6AYeFAIcVyhUCwA1l7sdaFQKB6mYopOgK3AY9ebolP2hJDqE5ktlyTpVqPT6XjyySdZsGABDRo0YOXKlXTo0MHeYVWZMFko25tJ8Z+pWMpMOAS74jW0IU5Nfew6A4gwWyj+I5WSv8+jcFThe09TXFr62y0eSbpVyXM7qb656cKUFxpRA09RMRTicYVC0Rho8M+ikbWZTEJI9Yn8RyVJ0q1qXtYdGAAAdgJJREFUwYIFTJs2DYDPP/+chx56yM4RXZsQAu2JPIp/S8aUr0Pp6YjXoAa4tg+qVUUhdfGFFPwUh6XMiOfgBnj0jbilp0eVpJomz+2k+uZ6SYiqDgCcBzQH+l14nA+8d5OxSZIkSZIkVdmUKVPYsWMHQUFBTJ48mUcffRS9Xm/vsK5In6wh94ujFPxwBnNpxcV98PMdcesYXKsSEADOTXwInNYWh2A3ijelUPBTHMJotndYkiRJUj1V1SREVyHEw4AOQAhRBDjYKihJkiRJkqQr6dixIwcPHuS2227jq6++olevXqSmpto7rErG3HLyvjtF7n+PYUgrxa1bCMEvdMSzXyRKx9pbVFPt40zA1DY4x/ihPZpL7lfHMZddc7SrJEmSJFVLVYdj7BFCdFUoFIeFEO0UCoUKOCKEaGX7EG+eHI4hSZIkSfWL2Wxm5syZzJkzB39/f3766ScGDBhgv3hKDRRvTqVsXyZYwCXWD8/BUTgEuNotpuoQFkHx78mUbE1DHeiC/0OtUHs72TssmxMWgaXEgKlQh6XUiMJRhdJFjTrItVYnjyRJkmoja9WE+ArYBrxAxcwV0wGdEOJJawVqSzIJIUmSJEn10y+//MLEiRMpLS3l7bffZvr06TVaz8BiMFO6PZ2Sv9MQBjOOkR543d4IpwaeNRaDLZTsSEezPhGVlxP+k2NxCKxbyZSqEBaBLr4Q3Yl8tKfzsZReoeeHUoFjuDvOMX64dQxC5e5Y84FKkiTVMdZKQrgDHwB3XVi0BnhWCFFmhRhtTiYhpPpk06ZNAAwePNjOkUiSJNUOZ8+eZeTIkZw8eZK7776bxYsX4+lp2ySAMAvKD2aj2ZyCpdiA2t8FryFROLf0qzdFHcsO51D4cxxKZzX+D8biGFFzU4nakjALyg/nUPL3eUy5WgDUga44NfJC7euM0sMRYTBjKTNiSC1Bn6xB6MygUuDaNhCvQQ1QedX/3iFSzZHndlJ9Y5UkRF0nkxBSfSIrKEuSJF2urKyMKVOm8NNPP9G0aVNWrVpV+ffSmoQQ6E7mo9mUjClXi9LNAc+Bkbh1DkahqmqprbpDe6aA/O9Po1Aq8JvYAudoH3uHdFP0SRqKfknAmFWOwkmFe9cQ3DoFo/Z3ueo2wmxBezKf0p0ZGFKKUTgq8egXiUevMBTquv2eC5MFi9YEClC6OtS6oqm3CnluJ9U3VktCKBSKLkBjQH1xmRBiyU1HWANkEkKqT+Q/KkmSpCsTQvDpp5/y/PPP4+TkxMKFCxk7dqzV2tedK0LzWzLG8yUoHJW49wrHo1cYSmf19Teuw/TJGvIWn0QYLfiNa4FLSz97h3TDLHozmvWJlO3PApUCjz7hePQOv+H3TnumAM36REx5WhzC3PG9t1mdq/thyCilbH8W+oQiTHlauHgpoFLgGOqOczMfXDsGofZ2tmuctxJ5bifVN9YajvEFMBg4Alycs0kIIe6xRpC2JpMQUn0i/1FJkiRd2/bt27nnnnvIysrimWee4d1338XBofqTehnOl6D5IwX92UJQKXDvEoJH/4hbqj6AIaOUvIUnsGiN+Ixphlu7QHuHVGWG8yUU/HQGU74Op2hvfO6KvmbPh+sRJgvFW1Ip2XoehVqJ98gmdeL10MUXotmUjDGtFACVtxMOYe6oPBxBCEyFegznSxBaEygVuLYLxKNfBA438VrVFGGyYMwqw1SgA4tA6eqAQ4hbxbHVAfLcTqpvrJWEiAdaCSF01gyupsgkhFSfyH9UkiRJ15eZmcmYMWPYuXPn/7d33+FRlfn7x99nJr2TQGihd0IPTVREUUD8iUgRVAS7a9u1rrqurm5Td62s2L7qUlRAmhVBxYpIr9JbgFASQnqf8vz+SHRRQQKZzEkm9+si1yQzc865Z3LCPPOZpzBw4EBmz55No0aNTmsfpam55H1xoLz4YEFEj0RiLmxOUELNf1NWHVxHi8h8/Qc8uaXEXdaGqLOa2B3plApWHCbng91gQezFrYg6q4nPhhyU7skha9Z2PHllRA9qRsyQFjVyOIM7q4ScD3dTsjULghxE9GhAVL/GBCdF/Wr+EuMpn6wz/+s0yvbmgtMi5sIWRA9sWiOHG5UdyCd/6UFKthzDuLy/uj24cSSRfRoR2achVnDNXOXEuLwkdylv223ZvtXmNCK+4asixDfAeaaWTiChIoQEEhUhREQqx+Vycd999zF58mSaNGnCnDlzGDBgwG9uY4yhdHcu+V/sp3RPLlgQ3q0BMec3I7hRpJ+S11zunBIyX/8Bd2YxMUNbEnN+M7sjnZBxe8n5cDeFK47gjA8j4ZrOhDT2/e/Pk1/GselbKDuQT1hyAvHjOtSoJT2L1meQvWAXptRDeLf6xA5vVelhFqV7cshesAv30fKhJwlXdawxBThXRhG5n+wtL6wAIS1iCGsXR1D9cKwgB578Msr251O89RimxIMzLpTYi1sS3q1BjZg41ri9FG3KpGhNOqV7cxn86jVYYU62pe2yO5qIT/iqCPFvoDUwG/ipN4Qx5gNfhKxuKkJIIBkxYgQAH3xQK/78RERs984773DTTTdRVlbGc889x+233/7rT4BdXoo2HKXgu4O4DheCo7znQ/T5zWrdmP/q5skvI/PNH3AdLiT6vCRihrWsEW/sfuTJL+PY21spS80jtG0cCVd1xBFx5sNxTsW4PGTN3UnxhqMEN4mk/rXJOGPsXT3DuLxkv7eLojXpOKKDiR/bgbD2pz+pqHF5yVuyj/yv07BCg0i4sgNhHeKrIXEl83gNBd8dJHdxKrgN4V0SiLmoBcENT1xg8pZ5KFxxhLwl+zElbkLbxRF/RQdbh2kUb84k5+O9eLJKIMgitHUcE1+7C0d4EB9/uci2XCK+5KsixJcnuNoYYy6oSjh/URFCRESkbtu0aROjRo1i165dTJgwgVdffZWIiAg8eWUUrDhM4YrDeAtcWCEOIns3IursJjXmU9+ayFvkInPqZsr25xPZrxFxl7WtEUMRytLyOTZjC57cMqLOaUrsxa2wnNWfyxhD/pL95H2+H2dsKPWvTz7pG+Pq5skr49iMit4ZHepRb2z7Ks9fUrI9i2OztmNK3MQOa0nUwCS/F548BWVkzdxG6e5cguqHU29se0JbVG4pXk+hi9xP9lK0uqIoM74jYW3iqjfwL3iLXOR8sJui9UexwpxEn5dEVL/G1VogE7GLluhERQgRERGBnJwcJk6cyIcffkjX9sm8fsO/aZITBV5w1gslakATIns3whEe2Ktd+Iq31MOxGVso3ZVDePcGxF/R3tZ5A4rWZZA1bydgqHd5OyJTGvo9Q+HadLLn7sQKcZBwTWe/v9EtO1jAsemb8eSWET0oiZghLX1WHHIfKyZz+hbc6UVE9G5IvZFt/bZEqSu9kMxpW/BklRDZrxGxl7Q+o2EvReszyJ6/C+P2EDeyLVF9G1dD2l8rO1TAsWlb8OSWEtYxnnqj2uGMqR2TZoqcCV/1hAgC/gC0McbcZllWG6CFMeYL30WtPipCSCCZMmUKALfffrvNSUREag9jDK60AgrWpfPU5Kf595LXiA6N5OVbnuTym8YR1jmhRnySX9sYt5djM7dRsvmYX4Y+nDCDx5C7aC8F3x7EGRNSPv9Ds2i/Zjheya5sjs3YinF7iR/bnoge/lk5o2jTUbLf3YExhnqj21fLih3eEjfH3tlG6Y5sQlvHkjChU7X/vou3ZZE1cxvG5SVuZJsqFw5cR4vI/O9mPFklRJ2XROxQ3xVqTqR4cyZZs7ZjvIZ6l7Ulok/DX/UiUdtOAo2vihCvAE7gHGNMJ8uy4oDPjTG9fZa0GqkIIYFEE1OKiFSO8RrKDuRTvCmT4h8y8eSUAhBUP5zvzXZufOL3ZGVn8cgjj/CXv/wFp7PmTChYmxiPIeeDXRSuOEJQ/XASJnX22zwanvwyjr2zjbK9uYS0iCFhQqcasSyj60ghmW/+gCevjJihLYkeVH3DF4zXlC8ZumQ/jqhgEiZ2JrR55YYpnNHxPIacj3ZT+P1hghqEU39ScpWWPD3pcYyhYOkhchfuwREeRPzVnXzWs8RTUDGh6P58wrvWL+/F4+PVM4wx5H+VRt7iVByRFb+XkwwfUdtOAo2vihDrjTE9LMtaZ4zpWXHdBmNMdx9mrTYqQkgg0QuViMjJeQrKKN2VQ8mObEp25uDNLwPAGRdKeJf6hHetT0jzaCzLIjU1lTFjxrBmzRqGDh3K22+/TUJCgs2PoHYyxlD4/WFyPtqNFeIk4apOZzQR4uko3ZfHsbe34s0rI/KsxsRd0tpvwwMqw51byrH/bsZ1pLB83owRbX0+P4W31E3W7B2UbDlGcJNIEiYmExTnn0kxC747SM5H5QWChGs6E9oq1mf7Nu6KiTVXp1dbocO4PGS9u4PiTZmENIsmYWJnnxWwjMtL9vydFK3LILhRBAmTkgmqd/JVSdS2k0DjqyLEcmNM/x+LEJZlOYH1xpiuvgxbXVSEkECiFyoRkf/x5JdRmppH2b48Svfm4jpY8NNtQYkRhHWMJ6JrfYKTok74SXRJSQm33347b775Ji1btmTevHn06tXLnw8hoJTszObY29swpW6iBzUj5sLmPp8nwngM+d+kkffZPiynRb1R7YiohqEHvuAtcXPsra2U7sohrEO98iU8fTR84fg5GsK7N6De6HZ+Xx60eFsWWe9sw3i81BvjmyEgP1vdpH298iE+YdUzT4vxGvI+20f+lwdwxoVS/9rkKi/F68mvmBh0fz5hneKJH98BR+hv51fbTgKNr4oQrwHfAPcDo4EHgBJjzJ2+ClqdVISQQKIXKhGpi4wxePNduI4U4jpcSNnhAsr255cvc1fBERFEaNs4wtrVI7R9PYJiK/+J8P/93/9xxx13YFkWL7/8Mtddd111PIw6wZ1ZzLFZ23ClFRDcLJr40e2q/MbuR66MIrLn7qBsfz5BieEkXNXJZ/uuLsbtJXtB+XKZzrhQ4q/qWOXhEkXrM8h+bxem1EPssFZEDWxq2zKp5ZMuVkyGeUEzYi5qccZZSvflceytrXjz/bu6SeHqdLIX7MQKchB/ZUfCO57ZMqSlqbkce2cb3ryy05pvQm07CTS+KkJEAc8AIyuueg+42xhT5IOM1U5FCAkkeqESkUBmXF7c2SW4jxXjPlaCJ6sEV0YRrsOFeAtdP7tvUP1wQlrEENoihpCWMQTVD6/SBHOrVq1i9OjRHDhwgJtvvpnJkycTGuqfru2Bxri95Z8wf5MGFkSd3ZSYwc3P+BNtb4mbvM/3U7DsEBhT/gZ1SEus4Joz/OK3GGMoWpVO9ge7wWuIPrcp0YObn3bPBU9eGTkf7aZ4YyaOqGDir+hQ7cNeKpsrc/pmXGkFhLaLo96odr85/OCXjMtL3hf7yf/6AJbTQb3R7fw2oeePSvfkkDljK6bYTdSAJsRe3LLS80QYj6FgaRq5i1PL859m7xy17STQaIlOVISQwHL33XcD8Nxzz9mcRESkcowxmFIP3hI33kI3nvwyvPllePLK8OSX/e/nnFI8eWW/2t4KcRDcKLL8q3HFV8PIallK8+jRo1x55ZUsWbKEPn36MG/ePJo1a+bz49QVZQfyyX5/F660AqywIKLOakzUgCaVHnvvySuj4PtDFK44jLfITXBSFHGXtjnpBH81netIIVnvbsd1qBBnXCgxF7YgokeDU85l4S1xU7D0IPnfpGHKvIR1TqDeqLY4o+yfhPNH3jIPOR/spmh1OlaIg5jBzYns3/g3hyIYr6Fk6zFyF6XiPlpMcNMo4se2t613izurhKx3t1OWmkdQYjixw1oR1in+N3t2lO7LI+e9XbgOFxLUIJyECZ0Ibnh6+dW2k0CjIgQqQoiInIlKvz748mWk0vuqxB19/fLmw2w+f+mt1P5M+T+PAW/5l/nlpefnP//v+/JPKo3bU375qy8Pxl3x/Y/FhhIP3mI3psSNt9j92xktcEQF44wJJSghjKD4cIISwnDGhxGUEI4zJsSvy2d6PB4eeeQRnnjiCerXr8+sWbMYPHiw344faIzXULQ2nfyv0nBnFoMDQlvHEZ6cQHDTKIIbRvz0RtVb7MZ1tAjXgXyKt2ZRuicXvIag+uFED2pGRK/EWr+UqvEaCpcfJndxKqbUgyMqmMjejQjrUI/gJpE4QoPKhx8VuspXd9lYvrqLcXkJalDxxrjzb78xtlPJzmyy5+/Ek12KFeYksm8jwjsnENwkCkeIE+M1uDOLKdmZTeGKw7gziiHIIubCFkSfm+SX4Re/xXgN+V8fIP+LAxiXl+CkKKL6NSa0bRzOikk/vflllO7JpXBNOqU7c8BpET0wiejzm/l9Xg6RmkhFCFSEkMBRmppL5n992FWvsm9cfHi3yqrcf021/E3yae3Pz/sSOVMWWKFBOMKdOMKCcIQHYYUH/fS9IzwIZ3QIjpgQnNHlX46o4Br5xnLBggVMmjSJwsJC/vnPf/LHP/6xxr7xqw2M11C8OZOitRmU7MgGz3H/aVmAZZUXv34UZBHWJo7Ivo3LP42ugedIVXiL3RSuOkLBskM/LR8LQJCj/EXwuOcnpEUMkX0aEtEz0ecTfVYH4/JStC6D/G8qCk8VrGAHxu396fXKCnUS2b8x0ec0rRFLqx7Pk1dG/lcHKFhx+H+/C4dVfq7++LMF4V3qE3NRC4IT/bMsrUhtoCIEKkJI4Cg7XMjvJ/4OgL+N/+Nv39nHDeVqaXf7eqe+zmhTvkoftbJ3rI5fXp17rgPkXLUo/5TRYZW/oTvu8qfvnSe6DSynAyvEgRXsxAqq+D7IgRVccV1wxfdBjoB6s7hjxw4uv/xytmzZwuWXX87UqVOJiamdQwFqEm+Jm9I9ubjSC3FnFGPKPBgDjjAnQQ0iCG4YQWibOByhgf+psvEayg7kU7o3F3d6Ed4iF1gWzpgQghtFEtoujuAGtfMN7k+PbVcOrowivMVuHMEOnAlhhDaPIbRdvRr/O/YWuSjellU+EW5uKRhwxoQQkhRNWKd4nxRPNBxDAo3PihCWZUUAPSp+XF9bJqUEFSEksGjyIhER/yooKODGG29k9uzZtG/fngULFtC5c2e7Y4lIgFDbTgLNqYoQlZrRybKsAcA84EjFVQ0tyxptjPneBxlFREREaqyoqChmzpxJ//79ue++++jbty9vvvkmV1xxhd3Rag1jDEVFReTk5FBcXIzH48EYQ3h4OJGRkcTFxREU5PuJRkVEpOap7P/2zwJjjDHfwU9FieeA/tUVTERERKSmsCyLu+66i169enHFFVcwbtw4VqxYwVNPPaU3zyfg9XpJS0tj165dpKWlcfDgQUpLS096f6fTSWJiIs2aNaNDhw60bNkSp7Nmd9MXEZEzU9lXzfAfCxAAxphllmVVfvFfERERkQAwcOBA1q5dyxVXXMGzzz7LmjVrmD17Ng0bNrQ7mu2MMRw8eJC1a9eydetWiovLJyQMCgqicePGNGjQgLi4OCIjI38qMBQXF1NQUEBGRgaHDh1i5cqVrFy5kvDwcHr27Env3r2Jj4+382GJiIiPVbYIUWBZ1oXGmM8BLMsaDBRWXywRERGRmqlJkyZ88cUX3H///UyePJlevXoxZ84cBgwYYHc0W5SWlrJu3TrWrl1LRkYGAA0bNqRPnz60b9+exo0bV6pXgzGGjIwMtm3bxsaNG1m2bBnLli2ja9eunH/++SpGiIgEiEpNTGlZVm/K54TwVFzlAEYbY9ZUYzaf0cSUEkimTJkCwO23325zEhERefvtt7nppptwu90899xz3HbbbXVmGc+ioiJWrFjBypUrKS4uJiwsjG7dutGzZ08aN25cpX0bY9izZw/Lli1j9+7dOBwO+vXrx/nnn09ISM1aylGkqtS2k0Djy9UxgoEOFT9uN8a4fJDPL1SEEBERkeqyceNGRo0axe7du5kwYQKvvvoqERG1c0nFyigpKeG7775j+fLluFwu6tWrx9lnn0337t0JDg72+fH27t3LZ599xqFDh4iLi+PSSy+lTZs2Pj+OiIj4hk+KEJZlvWeMGXmq62oqFSFERESkOuXk5DBx4kQ+/PBDunXrxvz58wPujbLb7WbVqlV88803FBcX06BBAwYOHEjnzp2rfRJJr9fLypUrWbJkCS6XiwEDBnDBBRdoUlARkRrIV0WItcaYXr+4bpMxpqsPMlY7FSEkkIwYMQKADz74wOYkIiJyPK/XyxNPPMEjjzxCTEwMb731Fv/v//0/u2P5xPbt2/nkk0/IyckhJiaG888/n+7du+NwOPyaIzs7m3nz5pGWlkbTpk254ooriI2N9WsGEV9T204CTZWKEJZl3QL8DmgPbD/uplhgszFmhK+CVicVISSQJCcnA7B582abk4iIyIksXryYq666iqysLB599FEeffTRWrvcZFZWFosWLWLHjh2EhIQwcOBA+vXrVy3DLirL4/GwZMkSli1bRnR0NFdeeSVNmjSxLY9IValtJ4GmqkWIFkAr4GXKixE/ygM2GmM8J9ywhlERQgKJXqhERGq+1NRURo8ezdq1axk2bBhvv/12rVrdweVy8d1337F06VLcbjddunRhyJAhxMTE2B3tJ5s2beK9997D4XAwevRoOnbsaHckkTOitp0EmlMVIX5zIJ0xZh+wD+jk62AiIiIigaply5YsXbqU22+/nf/+97+kpKQwf/58evbsaXe0U9q5cycLFy4kOzub+vXrc8kll9CqVSu7Y/1K165diY2NZdasWcyaNYthw4bRv39/u2OJiMgpVGo2H8uyvgR+1WXCGHOBzxOJiIiIBIDw8HDeeOMNzjrrLO644w4GDBjAK6+8wqRJk+yOdkI5OTksWrSIbdu2ERwczEUXXUS/fv1q9OSPzZs358Ybb+Sdd95h0aJFlJaWMnDgwDqzTKqISG1U2VeVp4/7Pgy4Ctjh+zgiIiIigcOyLG666Sa6d+/OmDFjuPbaa1m+fDnPP/88oaGhdscDyle9WLZsGd988w1ut5vk5GSGDBlSayZ8jI+P57rrrmPGjBl8+eWXlJWVceGFF6oQISJSQ1VqdYxfbWRZQcAXxpiBvo/ke5oTQgLJ4sWLARg6dKjNSURE5HQcPXqUK6+8kiVLltCvXz/mzp1LUtJJh8z6xe7du1m4cCHHjh0jISGB4cOH19qlRYuLi3n77bdJS0ujb9++DBs2zO+rd/iTMYaMjAz27t3L0aNHKSoqwhhDZGQkiYmJtGnThvr169sdUypBbTsJND5ZovMEOw2lfHWMtlUJ5y8qQoiIiEhN4Ha7eeSRR3jyySdp0KABs2bN4oIL/D+6NScnh08//ZQtW7YQFBTEeeedx1lnnVWjh15URmlpKTNnziQ1NZU+ffowfPjwgOsRUVJSwurVq9mwYQNHjx79zfs2atSIHj16kJKSYuuKJiJSt/ikCGFZ1gL+NyeEE+gGfGKMuc0nKauZihAiIiJSkyxYsIBJkyZRWFjIk08+yX333eeXN8sul4tly5bx7bff4na76dSpE0OHDiUuLq7aj+0vLpeLt99+m9TUVM466yyGDBkSEIUIl8vFypUrWbp0KcXFxYSHh5OcnEyHDh1o3LgxkZGRGGMoLCzk8OHDbN26la1bt1JSUkJMTAyDBg2iR48eAd07RERqBl8VIY6fQckN7DLGrPBBPr9QEUICiZZxEhEJDNu3b2fUqFFs2bKFUaNG8d///rdal8Dcvn07ixYt+mnVi4svvrjWDr04lbKyMt566y3279/POeecw+DBg2t1ISItLY333nuPzMxMYmNjOe+88+jevTtOp/M3t3O5XKxevZpvvvmG4uJiWrVqxciRI2vNfB8nU1JSQl5e3k/DT6KiouyOVCVq20mgqa7hGE7gUmPMe1XI5jcqQkgg0QuViEjgKCgo4IYbbuDdd9+lY8eOzJ8/n06dfLsy+tGjR/n000/ZuXMnISEhnHfeeTV+1QtfKCkpYcaMGRw8eJBBgwYxaNAguyOdNq/Xy1dffcW3336Lw+HgvPPOY8CAAaf9uyspKeGzzz5jzZo1hIWFMXLkSDp27FhNqatHRkYGa9euZceOHWRlZf3stujoaNq1a0fPnj1p1qyZTQnPnNp2Emh8WoSwLKsDcAMwEUgzxvSuesTqpyKEBBK9UImIBBZjDM8//zz3338/4eHhvPnmm4wdO7bK+83Pz+err75i7dq1GGPo2rUrF110UbX2tqhpiouLmT59OocPH2bw4MGce+65dkeqtMLCQubNm8eePXto3Lgxl19+OYmJiVXa5/bt23n//fcpKipi8ODBnHPOOTW+h0h2djZffPEFmzZtAiA2NpYWLVoQFxeHw+EgLy+P/fv3k5mZCUCrVq0YPnw4DRo0sDN2peXn55OSkoJlWWzfvt3uOCI+UeUihGVZEcA44EagFRAOnGWM2ebLoNVJRQgJJCpCiIgEpq+//porrriCjIwM7rvvPp544okz6q1QWlrK999/z3fffYfL5aJ58+YMGTLE9pU47FJUVMS0adNIT09n6NChnHXWWXZHOqX09HTefvtt8vLySElJ4eKLL/ZZz5Xs7GxmzpxJRkYG3bt3Z8SIEacc1mEHr9fLsmXL+PLLL/F4PLRt25aBAwfSrFmzExZO0tPTWbZsGRs2bMDhcDBgwADOP//8GvnYSktLf5pcNCMjg5deeomQkBD0fkUCRZWKEJZl/R8wCvgGeBP4BNhpjGnl66DVSUUICSQqQoiIBK6DBw8yduxYvv/+ewYNGsSsWbNo2LBhpbYtKytj9erVfPfddxQWFpKQkMBFF11Ehw4davyn3dWtsLCQqVOncvToUYYPH07fvn3tjnRSe/fuZdasWbhcLi699FJ69uzp82OUlpYyb948duzYQYcOHRgzZkyNWj0jLy+PBQsWsHfv3tOev+TAgQMsXLiQw4cP06xZM8aOHVtjev94vV42btzI559/TkFBAeHh4bRv3557772XoKAgduzYYXdEEZ+oahEiH1gNPAUsNsYYy7L2GGNa+z5q9VERQgKJihAiIoGtrKyMe++9lxdffJGmTZsyd+5c+vfv/5v3X7VqFd999x1FRUVER0czcOBAevXqVSM/BbZLfn4+U6dO5dixYzW2ELFx40bee+89goODGTduHK1bV1+T2+Px8N5777Fp0yZatWrF+PHjCQ0NrbbjVdahQ4d45513KCgoICUlhaFDhxISEnJa+/B4PHz22WcsX76cyMhIrrzyStt7AuXn5zNv3jxSU1OJiIjg/PPPp2fPngQFBaltJwGnqkWIKMqHYtwAJAHTgUnGmFo144uKEBJIdu3aBUDbtm1tTiIiItXprbfe4uabb8btdvP8889z6623/qxHQ2FhIatXr2bFihU/FR/OPfdcevXqFfCTTp6pvLw8pk2bxrFjxxg2bNhvFnf8yRjD0qVLWbJkCTExMVx99dWV7gFTFV6vl08++YRVq1bRtGlTrr76aiIiIqr9uCezfft25s6di9frZeTIkXTt2rVK+/vhhx947733sCyL8ePH27YaTGpqKnPmzKGwsJDevXszePBgwsPDf7pdbTsJND6bmNKyrM7A9cA1wG7gLWPMSz5JWc1UhBAREZHaaMOGDYwaNYo9e/YwceJEXn75ZQoKCli+fDkbN27E7XYTExPDOeeco+JDJeXn5zNt2jQyMzMZMmQIAwYMsDWPx+Phk08+YfXq1TRs2JCrrrrKr0toGmP44osv+Pbbb0lMTGTixIm2LHm5cuVKPvnkE8LCwrjyyitp3ry5T/a7f/9+3nnnHcrKyhg9evRPvQ78Zf369XzwwQcEBQUxYsQIunTp4tfji9jB50t0WpYVBFwGXG+MuaSK+fxCRQgJJKqWi4jULdnZ2UyYMIGFCxfSvHlzRo4cSb169WjatClnnXUWnTp10rCL01RQUMC0adM4evQoF154Ieecc44tOcrKypg7dy47duygVatWjBs3jrCwMFuyLF26lM8//5z4+HgmTZrkt0KIMYYlS5awdOlS4uPjufrqq0lISPDpMdLT05kxYwYFBQVccskl9OnTx6f7PxFjDN999x2ff/45sbGxXH311Sdd3URtOwk0Pi9C1EYqQkgg0bhBEZG64/Dhw6xbt47169fz2Wef8fXXXxMREcGUKVOYNGmS3fFqtYKCAqZPn05GRgaDBg3ivPPO8+sEnnl5ecyaNYtDhw7RvXt3Lr30Utt7sqxcuZKFCxcSGxvLxIkTfV4M+CWPx8OHH37I+vXrSUpK4sorryQyMrJajpWdnc2MGTPIysqq9uVavV4vixcvZsWKFSQmJjJhwoTfnBxTbTsJNCpCoCKEBBa9UImIBC5jDEeOHGHr1q1s2bKFzMxMABo0aEDPnj1JT0/nhhtuICcnh0cffZRHH30Uh8Nhc+raq7CwkBkzZnDkyBFSUlIYPny4X3qVHDp0iJkzZ5Kfn8/AgQM5//zza8wKJuvXr+f9998nMjKSiRMnnvTT+6oqKytjzpw57Ny5k3bt2jF27NjTnoDydOXn5zNjxgwyMjI455xzGDx4sM+fd7fbzYIFC9i8eTMtWrRg/PjxP5v/4UTUtpNAoyIEKkJIYNELlYhIYHG5XBw4cIBdu3axdetWsrOzAYiMjKRTp0706NGDpk2b/vRmae/evYwePZp169YxfPhwZsyYQXx8vJ0PoVYrKSnh3XffZc+ePbRr147Ro0dX65CIzZs3s2DBAowxXHbZZXTr1q3ajnWmNm/ezLx58wgNDeWaa66hSZMmPt1/UVER77zzDmlpaXTv3p0RI0b4bUjR8cfu3bs3w4cP91khr6SkhFmzZpGamkrnzp25/PLLK7X0qdp2EmhUhEBFCAkseqESEandPB4P6enp7N27lz179rBv3z7cbjcAMTExdOrUiU6dOtG8efOTvjkqLi7mtttuY+rUqbRq1Yr58+fTo0cPPz6KwHL8sID4+HjGjRvn89UpPB4PX375JUuXLq0xy0b+lh07dvDuu+/icDgYPXo0HTp08Ml+jx49yqxZszh27Bhnn302F154od97gZSWljJr1iz27t1L165dGTlyZJWLIPn5+bz11lukp6fTp08fLr744koXN9S2k0CjIgQqQkhg0QuViEjtYYwhNzeXI0eOcODAAdLS0jh06BAulwsAp9NJ8+bNad26NW3atKFRo0aVfuNijOG1117jzjvvxOl08uqrrzJx4sTqfDgBzRjDypUrWbx4MU6nk6FDh5KSkuKTN8hZWVnMnz+ftLQ0mjRpwhVXXEFcXFzVQ1ez1NRUZs+eTXFxMYMHD+acc86p0vOxbds25s+fj8vlYtiwYfTr18+HaU+Py+Vi7ty5bN++nRYtWjB27NgzXhXk4MGDvPvuu+Tm5nLBBRdw7rnnntbzpLadBBoVIVARQgKLXqhERGoej8dDTk4O2dnZZGVlkZGRQXp6OhkZGZSWlv50v5CQEJo2bUpSUhItWrSgefPmVR4Hv2LFCsaMGUNaWhq33XYbzz33XLWPrQ9k+/btY968eeTl5dG6dWv+3//7f2c83MXtdvP999/z9ddf43a7GTBgABdccIHtE1CejuzsbGbOnElGRgatW7fmsssuO+2VM0pLS/nss89YvXo14eHhXHHFFbRq1aqaEleex+Ph008/ZcWKFcTExDB27FiaNWtW6e2NMaxZs4ZPPvkEgEsvvfSMeiSpbSeBRkUIVIQQERGRM+d2uykoKCA/P/9Xl7m5uWRlZZGbm8sv21RhYWE0bNjwp6+kpCQaNGhQLRNJZmRkMH78eL788kv69+/PnDlzanRX/5qupKSETz/9lLVr1+JwOOjVqxcDBw78zRUOjud2u9m0aRPffvstWVlZJCQkcMkll9C6detqTl49SktLWbRoEevWrSM0NJRBgwaRkpJyymKX1+tly5YtfP755+Tk5NCyZUtGjhxZ43qBrF+/ng8//BCPx0OfPn0YPHjwKecFOXr0KAsXLmTv3r3ExcUxbtw4Gjdu7KfEIjWbihCoCCEiIhKovF4vxhi8Xu+vvtxuNy6X66fL478//rqysjJKSkpO+nV8T4ZfCg4Opl69esTHxxMfH//T9w0aNCA6OtqvY93dbjcPP/ww//rXv0hMTGT27NkMGjTIb8cPRKmpqXz++eekpaVhWRZt27alW7duNG/enJiYmJ/9fl0uF4cOHWLr1q1s3ryZ/Px8QkNDOfvssxkwYECt6v1wMjt37uTDDz8kLy+PyMhI+vXrR+fOnUlISPjZc5Gfn8+2bdtYsWIFmZmZBAcHc+GFF9KnT58au5pLRkYGH330Efv37yciIoK+ffvStWtX4uPjf3psXq+XtLQ01q1bx4YNG/B6vfTq1YsLL7yQiIgImx+BSM2hIgQqQkjgOHz4MP/6178A6NKlyynvX51/39X9f4ey+3/f1b1/Zbdn/7U9+8kKDD9++ZplWYSHhxMWFvbTV3h4ONHR0URFRf3qMjw8vMYsrfijefPmce2111JcXMyTTz7JvffeW+My1ibGGHbs2MHq1avZtWvXT+d8REQEkZGROJ1OiouLyc3N/Wmb2NhY+vTpQ+/evat1pQ07uFwu1q5dy9KlS8nPzwfKn4vY2FgsyyI/P/+n60NCQujXrx/9+/cnMjLSztiV4vV6Wb9+PV9//fVPv88f/969Xi/Z2dmUlZUB0KxZM4YOHeqTHkeLFy8GYOjQoVXel0hNoCIEKkJI4Dhw4AB9+vQB4L777qvUNtXZ8KzuRq2y+3/f1b1/Zbdn/7U5u8PhOO0vy7JwOBwEBQURHBx8ysuQkJCfCg4hISEB8YZ927ZtjBo1iq1btzJmzBjefPNNoqOj7Y5V6+Xn57Nz504OHTrE4cOHKS0txe12ExoaSkJCAomJibRv357GjRsHxHn0W9xuN3v27GHnzp0cOXKE/Px8vF4vkZGRNGzYkFatWtGhQ4daWYTxeDzs2bOH7du3c+jQIQoKCnA6ncTGxtKsWTM6d+7s06EXmhNCAo2KEKgIIYFFL1QiIlIZ+fn53HDDDcyZM4eOHTuyYMECOnbsaHcsEfkFte0k0JyqCFEzB2WJiIiISJVER0cze/Zsnn76aXbu3EmfPn2YN2+e3bFERKSOq/0z5IiIiIjICVmWxb333ktKSgrjxo1jzJgx3H///fzzn/8MiIkS/c3jKSU/fxP5+T9QXHKQkpJDeL3FGOPF6QgjNKwRYWFJxMb0IDq6K05nqN2RRURqHNtffSzLcgAvAMMBAzxvjHnxJPdNBUqB4oqrnjDGzPZHThEREZHaatCgQaxZs4axY8fy73//m9WrVzNr1iwSExPtjlbjlZamk3F0MUePfkpOzmqMcR13q4XTGQ5YeL0lGOP56RaHI4T4+HNp1PAy6tcfjNNZ++ZGEBGpDrYXIYAJQGegPRALrLMs60tjzMkGRY0zxqz3VziRmqZNmzZ2RxARkVooKSmJr7/+mnvuuYcpU6aQkpLC3Llz6devn93RahxjvBw79jUHD80kM/NLwFtRVBhAbGwKsTE9CA9vSWhoIg5HcMU2HsrKMikq2ktO7hqys5eTmfklmZlLCA6Op3nzG0lqejVBQVH2PjipcdS2k7rG9okpLcv6GJhhjJlV8fO/gDJjzJ9PcN9UYOTpFiE0MaWIiIjI/0yfPp1bbrkFj8fD5MmTueWWWwJ+NYfKMMZDesZCUlNforBwB+AgIeE8GjceRUL8eQQFnd4yk6WlGRxJ/4ADB/5LaekRgoPr0abN/TRpPJbyzsAiIoGnxq+OYVnWJuBmY8z3FT/fBvQ3xkw8wX1TgTzAAlYCDxpjjp7qGCpCiIiIiPzc+vXrGT16NHv27GHSpEm8/PLLhIeH2x3LFsYYMjI+Zs/eFygq2oPTGUHTplfRLGkSYWFNqrx/r7eMw4fns2fv85SVHSU2thedOj5JZKQ+AReRwGP76hiWZX1vWVbmSb6anebuBhpjugG9gExg2kmOeY9lWWk/fhUUFFT1YYjUGFOmTGHKlCl2xxARkVquR48erF69muHDhzNt2jQGDBjA3r177Y7ld7l5G1iz9gp+2PwHSkszaNniNgac9TXt2j7kkwIElM8P0bTpeM7q/xlJSRPJzV3PylWXcejQXOz+QFDsp7ad1DU1oSdEpYdj/GK7xsAOY0z0qY6hnhASSLSWtIiI+JLX6+Vvf/sbjz/+OHFxcbz99ttcfPHFdseqdmVlWezc9U+OHFmAZTlp2uQqWrX6PSEh8dV+7OzslWzecjelpUdo1OhyOnX8Bw6HVtKoq9S2k0Bje0+ISpgD3GRZltOyrHhgHPCrFS8sy4q0LCvuuKuuBNb5J6KIiIhIYHI4HPzlL3/ho48+whjDJZdcwuOPP47X67U7WrXJyFjM8hXDOHJkAfHx59K3z0d06PCYXwoQAPXq9aVf34+on3ABR44sYO26CZSVZfrl2CIidqsJRYgZwDZgJ7AKeNYYswnAsqwRlmW9XnG/hsCXlmVtrJhH4jzgV/NGiIiIiMjpGz58OGvWrKF79+489thjXHrppWRnZ9sdy6fKyo6x6Yffs+mH2zDGQ3Ln5+jR/b9ERbX3e5bg4Hp06/YKzZvfSG7uWlatHkNRUarfc4iI+JvtwzH8QcMxJJCoy56IiFSnoqIibr31VqZPn07r1q2ZN28ePXr0sDtWlaVnfML27Y/icmXRoP5FdOjwN0JDG9gdC4CDB2exbfsjhIQk0LPHNKKiOtgdSfxIbTsJNLVhOIaIiIiI1BARERFMnTqVl156iQMHDnDWWWcxY8YMu2OdsfLeD3fyww93YIyX5M7P0bXryzWmAAHQtOl4unb5Dy5XDmvWXkle/g92RxIRqTYqQojUMkOGDGHIkCF2xxARkQBmWRa33nor33zzDQkJCUycOJHbb7+dsrIyu6OdlvSMhSxfMYyMjIU0aDCE/v0X06jRCCzLsjvaryQmDqN7t9fwektYv/5aCgq22x1J/ERtO6lrNBxDRERERE4qIyODcePG8dVXX9G/f3/mzp1L06ZN7Y71m8rKMtm+43EyMhYSHFyPDu0fIzHxkhpZfPilzGNfsXHj7wgOjiWl1ywiIlrZHUlE5LRoOIaIiIiInLHExEQ+++wz7r//fpYvX06vXr346quv7I51UunpH7N8xcUVvR+G0q/fIho2/H+1ogABUD9hEF26vIDLlc3adRMoLj5gdyQREZ9STwiRWubuu+8G4LnnnrM5iYiI1DVz587luuuuo7i4mKeeeop77rmnxry5LyvLZPv2x8g4+kmt6/1wIkeOfMDmLfcQHtaM3r3nEBJS3+5I1crjKSLz2Ffk5a6npOQQXm8pQUHRhEe0ol5cX+LiemNZTrtjVgu17STQnKonhIoQIrWMZlAWERE7bd26lVGjRrFt2zbGjh3LG2+8QXR0tG15jDFkZHzM9h2P4XJl06DBMDp2eDwg3rQfPDiTbdv/TEx0N3r1ehunM8LuSD6XX7CN/fteI+Pop3i9xRXXWjgcwXi9/5uDJCQkkWZJk2jWbBJOZ7g9YauJ2nYSaE5VhAjyZxgRERERqd06derEypUrue6665gzZw4//PAD8+fPp2PHjn7PUlp6lO07/sLRo4sJDo6nS5f/0DBxuN9zVJemTa+kpPQwqalT2PTDnXTr+ioOR2A030tL09m9+xkOH5kPGGJjetKw0QgS4s8lLKwZDkcQHk8RBQXbOXbsaw4fnsfuPf/mQNpU2rS+l8aNx9TaXi4idZ16QojUMqqWi4hITWCM4ZlnnuGBBx4gMjKSqVOnMmrUKL8d+/DhOezc9QRudx6JDS6mQ4fHAqL3wy8ZY9i69QEOH5lHkybj6NjhH7X+zXdGxiK2bvsTbncu9eqdRdu2DxIT3eU3t/F6yzh4aDapqS9SVpZJgwZD6NTxnwQH1/NT6uqjtp0EGk1MKSIiIiI+Z1kW9913H59//jlhYWGMHj2aBx54ALfbXa3HLSrax7r117B120M4HGF07foSXbu+GJAFCCh/njt2/Afx8edyqOJNeG3l9Zaydduf2PTD7ViWk65dX6JnjxmnLEAAOBwhNEu6hv79PiMx8RKOHv2UFSv/H/n5W/2Q3Pc8nmKOpH/I1q0PUVySRllZpt2RRPxGRQgREREROWPnn38+a9eupX///vzrX/9i6NChZGRk+Pw4Xq+bffteY8XK4WRnf0+TJuPo328xiQ2G+vxYNY3DEUzXLi8SHZXMnr3Pc+jQXLsjnbaysizWrpvIoUOzia93Nv36fkxig6Gn3asjODiGLskv0KnjU5SVZbFm7XiOHfu2mlL7nsdTwt7UKSz97iw2b76LQ4ffxXjLMMZrdzQRvwmMQWUidchtt91mdwQREZGfSUpK4quvvuKee+7hpZdeIiUlhblz59KvXz+f7D8nZzU7dvyV/ILNhIe3oFPHf1KvXn+f7Lu2CAqKonv311m9Zgzbtj9MaGgiCQkD7Y5VKUVF+1i//lqKS/bTrNn1tGv7YJVWurAsiyZNxhAe3pyNm25hw8Yb6dz5aRo1vNSHqX0vM/NLtu94jJKSNMLDW9K61d00aHAR9923wO5oIn6lOSFERERExGemT5/OLbfcgtfrZfLkydx8881nPIdBaWk6u3Y9xZH097GsYJo3v4FWLe/E6Qzzcerao7BwF6vXXIExblJ6zSQ6OtnuSL+psHAP69ZNoLTsKB06PE5S06t8vP9drFs/ibKyoyQnP18jJyY1xsPuPc+xb9/LOJ1RtG71B5KSJuBwhNgdTaRaaIlOVIQQERER8af169czatQo9u7dy7XXXstLL71EeHjll1X0eks5cGAqe1On4PEUkpAwiPbt/kxERKtqTF17ZOesYv36iQQFxdE7ZS7h4U3tjnRCBQU7WLf+GlyubJI7P0vDhv+vWo5TVLSXNWuvwuXKokuXyTVqiI7bXcimTbeRlb2UmOhudO06hbCwJnbHEqlWKkKgIoQElhEjRgDwwQcf2JxERETk5LKzs5kwYQILFy6kZ8+ezJs3j1atfruI4PW6OXLkPfbufYGS0kOEhzenfbtHqF//Aj+lrj3SMxbyww93EhHRlt4p7xIcHGt3pJ/Jz9/KuvUTcbvz6ZL8AomJ1VsYKCzczdp1V+Fy5dC1yxQaNLiwWo9XGW53Pus33EBu7hqaNL6CDh0ew+EI/dX91LaTQKPVMUQCzO7du9m9e7fdMURERH5TvXr1+PDDD3nsscdYv349KSkpLFq06IT3NcaQkbGIFSuHs3XbA7g9RbRt+yD9+i5SAeIkGiYOp13bhykq2sXGTb/D6y21O9JP8vI2snbd1bjdBXTr+lK1FyAAIiPb0LPnWwQFxbDphzvJyvqu2o/5W9zufNatv47c3DU0b34jHTv+84QFCFDbTuoeFSFEREREpFo4HA7+8pe/8NFHH2GMYfjw4fztb3/D6y1fCcAYD+kZn7Bq9Ug2/XA7paWHadnyDs4e8BUtmt+E03niN21Srnnz62mWdC05OSvZvOX+GrHCQm7uOtauuwavt4Tu3V7zaxEpKrIdPXtMx+kMZeOm35Gbu85vxz6ey5XLunUTyctbR4sWt9K2zYNnPC+KSCBSEUJEREREqtXw4cNZs2YN3bp149FHH2XEiEvZvOX/+H75Rfzwwx0UFu4kKWkSA876kjat7yYoKNruyLVGu3Z/okGDYWRkfMy27X/GzqHW2TmrWLd+EsZ46N7tdRISzvV7hujoTnTv/gbGGNZvuJ78gm1+Pb7Llc269deQl7+RVi3vpE3re1WAEPkFFSFEREREpNq1bt2aL76Yx8iRvfn444UMueg2tm37sefDN3Ro/yghIfXtjlnrWJaT5M7PEh9/LocOzWbHzr/aUojIyvqO9euvA6BHj/8SHz/A7xl+FBebQrdur+DxlLB+/SSKilL9ctyysmOsXXcN+fmbad3qLlq3vksFCJETUBFCRERERKqN1+vi6NFPWb/hetatH8rtdxzj3nvbcPSo4Y7b9/H9sgYqPlSR0xlKt64vExfXj7S06eza/aRfCxHlv98bcTiC6dljGvXi+vjt2CeTEH8OXZKfp6wsi3XrJ1JScrhaj1dWlsnadRMoKNhKm9b306rVndV6PJHaTKtjiNQyixcvBmDo0Jqz/JSIiMjxjPGSm7uW9IyPycj4hLKyo1iWk4SE82naZDwJCQNZvnwlY8aM4dChQ9xxxx0888wzhISE2B29VnO7C1m/4Vpyc9fSvPlNtG3zQLV/En/48AK2bnuA4OB69OgxjeiojtV6vNN16PBctm59gIiINqT0mklISILPj1FamsHadddQVLSLtm0fokXzG09re7XtJNBoiU5UhBARERGpbl5vGbm5a8k4+ilHMxZRWpYOQHh4Cxo3Hk2TxmMIDW34s23S09MZP348X331FQMGDGDOnDk0adLEjvgB48dVGfLy1tG48Vg6dvg7DkeQz49jjOFA2lR27vw7YaFN6NlzOhERv70Eq132H/gvO3f+ncjI9vTsMZ3Q0AY+23dJySHWrZ9IUdFe2rX7M82bXeezfYvUVipCoCKEiIiIiK8ZYyguTuVY1rdkZS0lO3s5Hk8hAOHhzUlMvISGicOJiur0m5/Gu91uHnroIZ5++mkaNmzI7NmzOe+88/z1MAKSx1PEph/u4Nixr0lIOJ8uyc/5dLJPr7eM7Tse49Ch2UREtKFnj6mEhdXs4tG+/f/Hrl1PEh7egl493/JJ3oLCnaxffy2lpUfo0P5xkpIm+CCpSO2nIgQqQkhgSU5OBmDz5s02JxERkbrE4yklP38TuXnryM1dS27uWsrKMgGwrCBiY3oSH38O9eufT1RU59MeBjB37lyuu+46iouL+fe//81dd2lSv6rwel1s2/YnDh+ZT3h4S7p1fZmoqPZV3m9JySE2b76HnNxVxMefS5fkyQQHx/ggcfVLS3ub7TseJTS0Ed26vkxMTLcz3ld29nI2broNj6eQzp3+TaNGI854X2rbSaBREQIVISSw6IVKRESqk9frprT0EIWFuyko2E5B4TYKCrZRVLQHYzwV93IQHdWJ2NhexMcPoF69s3zySfvWrVu5/PLL2b59O1dccQVvvPEGUVFRVd5vXWWMIS1tGjt3PYFlBdOmzb00S5qIZTnPaF/ly4A+gtudR7Oka2nb9qFqGepRnY4c+YCt2x4AoGOHf9C48ajT2t4Yw/79r7Fr99M4neF07fIfEhKq1nNHbTsJNCpCoCKEBBa9UImISFV4PMWUlmZQWpZBWWk6paXpFBXvp7h4H8XF+ygpOYQx7p9tEx7WnKioDkTHdCU2thcx0d0ICoqslnx5eXlcf/31zJs3j86dOzN//nw6dOhQLceqK7JzVrFly32UlKQRE9Oddu0eJi42pdLb5+dvYeeuJ8jOXkZwcAKdOz1F/frnV2Pi6pWXt5GNm26ltPQIDRoMoX27Ryo1PKOgcCc7d/yNrOzviIxsR9cuU4iMbFPlPGrbSaBREQIVISSw6IVKRKRuMsaL11uKx1OM11vys0uPtwSvpxi3Ow+XOw+3KxeXOxe3Kw+XO6fi5zzKyo7iduedcP8ORxjh4c0JD29ORHgLwiNaEh3VkcjI9gQF+bc3gjGGp59+mgcffJDIyEimTZvG5Zdf7tcMgcbjKWLPnufZf+C/gJe42D4kJU0gPn7gCYdTeL2lZGZ+xaHDczh27CsAGjceTZs29xMaAEuqlpVlsn3HX8nI+BinM4JmSZNo2vSqExYjCgv3cCBtGocOzcQYD40bj6V9u0d8VohT204CjYoQqAghgaOoaC/du/cD4KOPb6vcRmf4J27OaEM/bXMG/2/57fH48f/Umv2YavLv6AwOc4Z/SDX5d+S/v/EzOYy/Hk/5ln7ZxhiM8WCMG2M8eCsuy392/+y2/12Wf+/1uvB6S/B6S88gKzgcIQQFxREcHEtIcAKhoQ0JCU0kNLQhoSENCAltSER4c0JCEmvcHAxffPEF48eP5+jRozz44IP87W9/IyiodnX/r2kKC3ezb///ceTIexjjwrKcREclExrWmJDgeDzeYgoLd1JQsBNjygAH9etfQOtWdxEd3cnu+D537NjX7Nj5N4qK9gIQFdmByKgOBAVF4XLlUlCw5afbYmK6077do8TG9vBpBhUhJNCoCIGKEBI4srNX0LPnuQC88WYzm9OIiASKM3njffrbOBxBWFYQluWsuDz++59fOo6/zhGEwxGG0xmO0xGGwxmG0xFecRmGwxmOwxGK0xFOUFA0wcFxBAXFEBwcS1BQLE5n2Bk8vprjwIEDjBkzhpUrVzJ48GBmzpxJgwa+W2KxriotzSAzcwmZx74iL28DZWXHAC8AISGJREcnUy+uD40ajfzV0qqBxhgvx459RXr6R2TnrKC09MhPt4WFNSO+3lk0anQZcXH9qqVQpyKEBBoVIVARQgKH11vKtm3rAWjTpnXlNzzDF0z/bXX625xZI6DmbuPfTx9r8mOquduc+a+oJj+mQMsmgaq0tJS77rqLV155hWbNmjF37lz69u1rd6yAYowHlysHhyPU78NvahqPpwSPpxCnMwqnM7Taj7dr1y4A2rZtW+3HEvEHFSFQEUJEREQkEEydOpVbb70Vr9fLf/7zH2666SYVrEREaphTFSEc/gwjIlW3a9eunyrmIiIidcm1117LsmXLaNKkCbfccgs33ngjxcXFdscSqRK17aSuUU8IkVpG4wZFRKSuy8rK4uqrr2bRokX06tWLefPm0bJlS7tjBZxij5c1eYWsyyvih4Ji0ktdZLrcWEC400FiSDDJUeF0iw7nvHrRRAU57Y5cK6ltJ4HmVD0hNL2wiIiIiNQq8fHxfPTRR/z1r3/lr3/9KykpKbzzzjsMHTrU7mi1nscYPsvMY0FGNp8dy6PI4/3ptvhgJ/WDgwHIcrnZVlDC58fKl3wNdVicHx/NpCb1GRQfrWEyInJSKkKIiIiISK3jdDp5/PHH6dOnD9dccw0XX3wxf/3rX/nTn/6Ew6ERx6er0O1h+qFjvHHwKGklLgD6xEQypH4MfWIj6RodTqTz5z0dXF7DrqISlucW8lFGDp9m5rEoM49u0eH8sVVjLkyIseOhiEgNp+EYIrWMuuyJiIj83O7duxk1ahQbN27k0ksvZfr06cTFxdkdq1Yo9XqZfvAYz+9L55jLTf3gICY1TeDqxgk0CQs5rX2llZTx8v4M3j58jBKv4ZIGsfyjXRKNQoOrKX1gUNtOAo0mphQRERGRgNamTRu+//57JkyYwIcffkifPn3YtGmT3bFqvK+z8jl/5XYe2XWQYMviqfZJrBnQmftbNT7tAgRAUlgI/2ifxPL+nfl/DWL5+GguA1du5ZOjOb4PLyK1looQIiIiIlLrRUREMH36dF588UVSU1Pp168f77zzjt2xaqT0Uhe/25zKuA27OVzq4uHWjfm+fycmNa1PqA+GsjQKDeb1Lq2Y1rUVQZbFdT+k8tddh3B7A78HtoicmoZjiIiIiEhAWbZsGWPHjuXQoUPceeedPP3004SEnP4n+4FoQXo2D+5II9ftYWj9GP7eLolmZ9DrobIOlpRx8+ZU1uQVcVFCDK8mtyTCqc9BRQLZqYZjqAghIiIiIgHnyJEjjBs3jm+++Yazzz6bd999lyZNmtgdyza5LjcP7khjQUYO9YOD+HeHJC5uEOeXY5d5vdy7/QBzjmTTJyaS6d1aUS9Y8+OLBCrNCSESYBYvXszixYvtjiEiIlKjNWrUiM8//5x77rmH7777jpSUFL799lu7Y9liRU4BF6zazoKMHIbVj+Grvh39VoAACHE4mNyxObc3T2RVXiFj1u8i2+X22/FrOrXtpK5RTwiRWkYzKIuIiJyed999l+uvv56SkhKefvpp/vCHP2BZlt2xqp0xhjcOZvLYroMEWw7+0a4pVzaOt/WxT96Xzj/3HKZ7dDhzerQlJsh56o0CnNp2EmjUE0JERERE6rQrrriClStX0qZNG+6++26uuuoqCgoK7I5VrQo9Hm7fup8/7zxIi7BQPundjquaJNhefPl9i4bc27IhG/KLuWrDboo8XlvziIj/qQghIiIiIgGvc+fOrFq1issvv5xZs2bRv39/duzYYXesarGnqJRL1uxkfno2F9eP5ZPe7ekYGW53rJ/c17IRtzVLZHVeEbdtScVTB3pmi8j/qAghIiIiInVCTEwM8+bN48knn2Tr1q306dOH999/3+5YPvVpZi7D1mxnR2EJD7duzBtdWta4IQ+WZfFIm8aMaliPRZl5PLLzIHVhiLiIlFMRQkRERETqDMuyeOCBB/j0008JCQlh5MiR/OlPf8Lj8dgdrUo8xvDUnsNM3LSXIMtiVvc23NmiIY4aOveFZVk817EZA+KiePNgJm8ezLQ7koj4iYoQIrVMmzZtaNOmjd0xREREarXBgwezZs0a+vTpwxNPPMGwYcPIzKydb4SzXG4mbNzDc/vS6R4dzuLeHRgYH213rFMKdTj4b5eWtA4P5S+7DrIsO7Dn6TgZte2krtHqGCIiIiJSZ5WWlvKHP/yBV199lebNmzN37lz69Oljd6xK25hfxA0/pHKgpIyrG8fzj3ZJhDlr1+eM2wtLGL5mB2EOB4t7tycpLMTuSCJSBVodQ0RERETkJEJDQ3nllVd48803SU9P55xzzuH111+3O1alzDx8jEvX7iS91MUzHZrxTMfmta4AAdAhMoz/dGrOMZeb63/YS3EdWTGjxONleU4Bbx86xqeZuXbHEfEb9YQQqWWmTJkCwO23325zEhERkcCydu1aRo0axb59+7jhhht48cUXCQsLszvWr5R4vDyy6yAzDh2jaWgwr3dpRc+YCLtjVdlTew7z3L50xjWK54VOze2OU202FxTzyoEMPsrIpdjrpei92XSICGPVE3+xO5qIT5yqJ4SKECK1THJyMgCbN2+2OYmIiEjgOXbsGFdffTWLFy8mJSWFefPm0aJFC7tj/WR/cSk3bU5lQ34xA+tF8XLnliSEBNkdyye8xnDNxr0sycrj+Y7NGN84we5IPpXrcvPY7kPMPJwFQO+YCC5KiOW5YYMIcVjs2LLF5oQivqHhGCIiIiIilZSQkMDHH3/MI488wpo1a+jVqxeffvqp3bEAWHIsj6Grd7Ahv5i7WjRkZvc2AVOAAHBYFpM7NadJaDAP7UhjW2Gx3ZF85qusPAat2s7Mw1kMrBfFp73b81FKe/7QsiGRTgfBNXQVE5HqoCKEiIiIiMhxnE4nf/3rX/nggw/weDwMGzaMf/zjH3i99sxV4DGGf+09zISNe/AC07u24sHWjXEG4BvXhJAgXuncgjJjuPmHfRTW8qVTAV5PO8qVG/aQ7/bwTIdmzO7ehm7RtX/4jMiZUhFCREREROQELr30UlavXk2XLl3485//zOWXX05OTo5fMxwrc3P1hj08m5pOl6hwPu3dniH1Y/2awd/6xkXxYKvG7Cgq4eEdB+2Oc8Y8xvCnHWn8eedB2kSE8nmfDlzdJAErAItHIqdDRQgRERERkZNo27Yt33//PVdddRUffPABffr0YdOmTX459tLsfAav2s5X2flc3TieD3u1o0V4qF+ObbfbmydyQXw0s45k8e6RLLvjnDaPMdyz7QBvHszk7LgoPurVjpZ15HcncioqQojUMkOGDGHIkCF2xxAREakzIiMjeeutt5g8eTKpqan079+fmTNnVtvxyrxe/r77EGPX7ybf42Fyp+a1dvnNM1U+P0QLGocG88D2NHYUltgdqdK8xnDvtgPMPpLFhQkxvNO9NXHBJ5+7Q207qWu0OoaIiIiISCV99913jB07lsOHD/P73/+ep59+muDgYJ/tf3dRCbdu2cfG/GJ6RkfwUucWtIqou5+gL88pYPT6XbSNCOOTlPZE1PBCjDGGh3ce5M2DmQyOj+HNri0JddTszCK+ptUxRERERER85Oyzz2bt2rWce+65TJ48mfPPP5/Dhw9Xeb9eY3gz7SgXrd7BporVLz7o1a5OFyAA+sdF8UCrxmwvLOGhHTX/Q8WXDxz9aQjGG11UgBA5Ef1ViNQyd999N3fffbfdMUREROqsRo0asWTJEu6++26+++47evXqxbfffnvG+9tVVMLIdbv4086DxAc7mdejLQ+2bkywQxMYAtxRMT/E7CNZvHP4mN1xTuq99Gz+uvsQHSLDeLNLy0oPn1HbTuoaDccQqWWSk5MB2Lx5s81JREREZNasWdxwww2UlZXx9NNP8/vf/77Sqx+4vIZXDmTwdOoRyryGG5Lq81CrxkQGOas5de2T5XJz0artHHO5+ahXO7rUsCUul+cUcMX63cQHB/FRSjuSwkIqva3adhJoNBxDRERERKSajB8/npUrV9KqVSvuuusurr76agoLC0+53fKcAoat2c4/9hymeVgI7/dsy9/bJakAcRLxwUH8X3JLPAZu3JxKnttjd6Sf7Cgs4dpNewl2WLzVrdVpFSBE6iIVIUREREREqiA5OZlVq1YxcuRIZs6cSf/+/dm5c+cJ73uwpIzfbU5l5Lpd7Cws5a4WDfmsdwf6xkX5OXXt0ys2ksfaNiG1uIy7tu6nJvTozih1cdXG8lVMXk9uWeN6aIjURCpCiIiIiIhUUWxsLPPmzeOJJ55gy5Yt9O7dm/fff/+n23Ndbp7cc5hzVmzjvYwchiTE8HXfjjzYunGdWnqzqq5vWp+RiXEszMzl1QNHbc1S6PYwYdMe0kpcPN2hGecnxNiaR6S2sP1/PMuyLrEsa41lWaWWZT1/ivu2syxrmWVZOyzLWmVZVrKfYoqIiIiI/CaHw8GDDz7I4sWLCQkJYeTIkfzxoT8xec8h+i3fyvP70kkKC+adbq2Z3q11nV/54kxYlsXTHZrRLiKUv+05xLdZ+bbkcHkNN21OZWN+Mfe0bMiVjRNsySFSGwXZHQDYCVwPjAVO1Q/tVeA1Y8xUy7LGAFOBPtUbT6Rmue222+yOICIiIr/hwgsv5MvlK7hk9Gj+/eQThHz2JZ3+9m9e6NGZMY3q4azkxJVyYlFBTt7o0opL1uzgps2pLExpT2s/FnSMMfxxxwG+yMrnysbx3N+yUZX2p7ad1DU1ZnUMy7IeA+KMMXed5PZEYBcQb4xxW+XTDh8GzjHG7PqtfWt1DBERERHxh7SSMv57MJPpBzPJKy7G+/IzZL4/h2bNmzN/3jx69+5td8SA8cWxPCZs3EOr8FA+TmlHXLB/Pl/9197DPJuazvnx0Uzv2lpLqYr8QiCtjtEMOGyMcQOY8urJfqD5L+9oWdY9lmWl/fhVUFDg56giIiIiUld4jeHLY3lM2rSHvt9vYcr+DBqFBjO5WzsOzZ/NG2+8QUZ6Oueccw5vvPGG3XEDxgUJMfy1XVN2F5cycdNeijzeaj/m9IOZPJuaTrfocF5PbqkChMgZqPZyoWVZ3wPtTnJzT2PMAV8f0xjzLPDsjz8nJSXVjO4eIj4wYsQIAD744AObk4iIiNRtWwqKmZ+ezYL0bA6WurCACxNimNS0PhfER+OoGHZx/fXX0717d0aPHs2NN97I8uXL+c9//kNYWJi9DyAA3NC0PmklZbxy4Cg3/ZDK1K6tqq0wMPtwFg/sSKNFWAhvd2vts+VU1baTuqbaixDGmLN8tKsDQGPLsoKOG47RnPLeECJ1xu7du+2OICIiUicZY9hWWMKnmXksyMhmW2EJAE1Dg/l980QmNEmgefiJ5yZISUlhzZo1XHXVVbz++uusX7+euXPn0qJFC38+hIBjWRZ/adOEHJeHWUeyuG3LPqZ0bk6Iw7cdvucdyeKubftpGhbM3J5taRAS7LN9q20ndU1NmJiyUowxGZZlrQUmUD4h5Wgg7VTzQYiIiIiInKlCt4elOQUsOZbHkmN5HCx1ARAf7GRSkwRGNaxHn9jIn3o9/JaEhAQWLlzIY489xt///ndSUlKYOXMmF110UXU/jID244oZBR4PHx7NoWiTl9e7tCTcR0ufvp52lEd2HqRxaDDzerSlWViIT/YrUlfZPjGlZVmDgWlADGABucBtxpgPLMsaAYwwxtxYcd8OlBcgEoA84DpjzKZTHUMTU0ogSU4uX5l28+bNNicREREJPEdKXazMLWRVbgErcgvZXFCMp6K53Do8lMEJ0VwQH8M59aKr1O3/gw8+4JprrqGgoIC///3vPPDAAzh8/Ol9XeP2Gu7dfoDZR7LoHxvJ/3VpWaUeC15j+Pvuw7x0IIO2EaG83a01LU7S06Uq1LaTQHOqiSltL0L4g4oQEkj0QiUiIlJ1JR4v+0rK2FpQzObjvtLL3D/dJz7YSd/YSM6Oi2ZwQozPl4HcuXMno0aN4ocffuCyyy5j2rRpxMbG+vQYdY3XGB7fdYhX047SKCSY15Jb0Dcu6rT3c6TUxZ1b9/FtdgF9YiKZ1q0V8dW0+obadhJoTlWEqDXDMUREREREKqvE4yW9zEV6qYsjZW4OlJSRWlzK3qJS9haXcqjUxfEfxYVYFh0jw7ggIYY+sZH0jY2kTXgoViWGWZypdu3asXz5cm6++Wbeeecd+vTpw/z58+nSpUu1HTPQOSyLx9s1pVt0OPdtT2PU+l3ckNSAe1o0JLYSRQSPMcxLz+axXQfJcnmY2CSBx9s29dnQDhFRTwiRWmfx4sUADB061OYkIiIi1cNrDMVeLyWeikuvl2JP+Vehx0uu20O220Ouy02O20Ou20Ouy0O2202Wy0NGqYtst+eE+450OmgdHkqL8BBahYfSITKM5Khw2kaE2bbcojGGF198kXvuuYeQkBDeeOMNxo8fb0uWQLKtsJg/bN3Phvxi4oOd3NYskXGN4084RKPE42VRZi7P7Utne2EJ9YKcPNOxGcMbxFV7TrXtJNBoOAYqQkjg2FdcyoxDx854+6r+tVflvwtTxaNXOXsVt6/KDqqe3ebnztbHbvP2VXjwdr+66u+9Ctvr7/2MeQG3MXiMwW0Mbi//+94YPKbidn68z/9uL/Wa8kKD10up9/SDWEBskJN6wU4ahQbTKCSYhsddNg0NplVEKPWDg6q1d0NVLF26lLFjx3LkyBHuuusu/vWvfxEc7LtVGOoirzHMOZLNE3sOc6SsfBnVbtHhdIoMJzbYSbHHS2pxKavziijyeAl3OLilWQNubdagUj0nROTXVIRARQgJHMuyCxi1XgvCiIhIzRdsWQRZ4LQsgiyr4pLjvrdwHvdzqMMi3OEg3OkgzOEg3GlVXDrKr3c4CHNaRDqdxAY5iQtyEhv8v++jg5yVWqGipjt8+DDjxo3j22+/5dxzz+Xdd9+lUaNGdseq9cq8XhYezeXDozmsyCkk0/W/uT/CHRY9YiIYmhDL6Eb1fLr8pkhdpCIEKkJI4Cj2eOnetXyc6Gdr1tmWo6pNPF98AlXlDDZvD1DVp8GqYgqfPIaqbl8D3i/UiOexyueCvdv7JEMVn4Qa8RjsDoD95/OPRYVAKAbYyeVy8cc//pHnn3+exo0bM2fOHM4++2y7YwUMYwy5bg95bg9hDgf1Q4JsPWc1MaUEGk1MKRJAwp0OgiteJKtjiSgRERGxX3BwMM899xz9+vXjhhtuYNCgQTzzzDPceeedNXYoSW1iWRZxwUHEabiFiC00zauIiIiISA00fvx4VqxYQatWrfjDH/7AhAkTKCwstDuWiEiVqAghIiIiIlJDdenShVWrVnHZZZfxzjvvcNZZZ7Frl+aHEpHaS0UIEREREZEaLDY2lvnz5/PPf/6TzZs307t3bz788EO7Y4mInBEVIUREREREajiHw8FDDz3EokWLCAoKYsSIETzyyCN4PB67o8lpcnm8LNuVyQuf7+Ta/65k37EiMvJL7Y4l4jdaHUOklvmxC2bbtm1tTiIiIiJ22LdvH2PGjGH16tUMGTKEd955h4SEBLtjySkcyinm7RX7eHd1Gkcrig4hQQ7i3Vn0axXPC7dcbHNCEd/QEp2oCCEiIiIigaWkpIQ777yT119/nRYtWjBv3jxSUlLsjiUnkFvs4qWvdvHf71Ipc3tJqhfOFb2bcU67+nRpEktIkDqnS2BREQIVISSwqCeEiIiI/Oj111/njjvuAOCll17i+uuvtzmRHG/RD0d4eMEmjhWW0alxDPcPbc+g9ok4HP9balVtOwk0KkKgIoQEluTkZAA2b95scxIRERGpCVavXs3o0aPZv38/N998M5MnTyY0NNTuWHVaQambv7y/mXlr04iLCObh4Z0Y1SsJ53HFhx+pbSeB5lRFCPX9ERERERGpxXr37s2aNWu46KKLeO211zj33HPZv3+/3bHqrNTMQi6f8h3z1qYxqEMDFt81kLG9m52wACFSF6kIISIiIiJSy9WvX59PPvmEP/3pT6xatYqUlBSWLFlid6w659udRxnx4lJ2Hy3goYs78t9r+9AwJszuWCI1iooQIiIiIiIBwOl08o9//IP33nuPsrIyhgwZwpNPPkldGH5dE3y44RDXT10FwNTr+nLLeW2wLPV+EPklFSFERERERALIZZddxqpVq+jUqRMPPfQQo0ePJi8vz+5YAW3G8n38ftY64iNDmHvrAAa2b2B3JJEaS0UIEREREZEA0759e1asWMH48eNZsGABffr00cSH1cAYw3+W7OSR936gZUIkc383gPYNo+2OJVKjaXUMEREREZEAZYxh8uTJ3HfffYSGhvLGG28wbtw4u2MFjBc+38lzn++gc+MYpl3flwbRWpVERKtjiIiIiIjUUZZl8Yc//IEvvviC6Ohoxo8fzz333IPL5bI7Wq338le7ee7zHSQ3iWHmTf1VgBCpJBUhRGqZxYsXs3jxYrtjiIiISC1y7rnnsnbtWs4++2yee+45LrzwQo4cOWJ3rFrrjaV7eWrRNjo2iuatG/oRGxF8xvtS207qGg3HEKllkpOTATSuU0RERE6by+XivvvuY/LkyTRp0oQ5c+YwYMAAu2PVKjNX7ueh+ZtomxjFrJv7Uz+qaj0g1LaTQKPhGCIiIiIiAkBwcDAvvPACb7/9Njk5OZx33nm8+OKLWsazkj7dfISHF2yiRUIE79zYr8oFCJG6SEUIEREREZE65qqrrmL58uW0bNmSO++8k4kTJ1JUVGR3rBptzb4s7py5jnoRIUy/vi+JMWF2RxKplVSEEBERERGpg7p27cqqVau49NJLeeuttzjrrLPYtWuX3bFqpF0ZBdwwbTVOh8V/r+tDi4RIuyOJ1FoqQoiIiIiI1FFxcXG89957/P3vf2fTpk307t2bjz76yO5YNUp6XgmT3lxJQYmbl67uRbekOLsjidRqKkKI1DJt2rShTZs2dscQERGRAOFwOHj44YdZtGgRTqeTSy+9lEcffRSPx2N3NNvllbiY9OZKDuYU8+TobgzqkOjzY6htJ3WNVscQEREREREAUlNTGTNmDGvWrGHYsGG8/fbbxMfH2x3LFqVuD9e+uYrv9xzj/qEduP38tnZHEqkVtDqGiIiIiIhUSsuWLVm6dCnXX389ixYtIiUlhbVr19ody++8XsO9727g+z3HuKZ/C24bpJ4KIr6iIoRILTNlyhSmTJlidwwREREJUGFhYbzxxhu89tprHDp0iLPPPpupU6faHcuv/rFwKx9tPMyw5EY8NiIZy7Kq7Vhq20ldo+EYIrVMcnIyAJs3b7Y5iYiIiAS6VatWMXr0aA4cOMAtt9zCCy+8QGhoqN2xqtX/fbOHfyzcSp+W9ZhxQz/Cgp3Vejy17STQaDiGiIiIiIickT59+rBmzRoGDx7Mq6++ysCBAzlw4IDdsarN++sP8o+FW2mXGMXrE/tUewFCpC5SEUJERERERE6qQYMGLF68mIceeoiVK1fSq1cvlixZYncsn/t251Hum7OBRjFhTLu+L7ERwXZHEglIKkKIiIiIiMhvcjqd/POf/2T+/PmUlpYyZMgQnnrqKQJlaPfGtBx+N2MN4cFOpt/QlyZx4XZHEglYKkKIiIiIiEilXH755axevZqOHTvy4IMPMnr0aPLy8uyOVSV7Mwu57r+rcHsNb1zbh/YNo+2OJBLQguwOICKnZ8iQIXZHEBERkTqsffv2rFixghtvvJHZs2ezefNmFixYQOfOne2Odtoy8kuY+OYKsovKeGVCCn1axvs9g9p2UtdodQwRERERETltxhheeOEF7rvvPsLCwnjzzTe54oor7I5VafklLsa9upwth/N4clRXxvdtbnckkYCg1TFERERERMTnLMvirrvu4osvviAqKopx48Zx77334na77Y52SqVuD7fMWMOWw3ncc1F7FSBE/EhFCJFa5u677+buu++2O4aIiIgIAAMHDmTt2rUMGDCAZ599lgsvvJD09HS7Y52Uy+PlznfWsWz3Ma7p34I7L2hrax617aSu0ZwQIrXMp59+ancEERERkZ9p0qQJX375Jffddx//+c9/6NWrF3PmzGHAgAF2R/sZj9dw9+z1fLolnRHdm/DYiGQsy7I1k9p2UteoJ4SIiIiIiFRZSEgIkydPZsaMGWRnZzNo0CCmTJlSY5bx9HoN98/dwEcbDzMsuRHPXtEdp8PeAoRIXaQihIiIiIiI+MyECRNYvnw5zZs354477mDixIkUFRXZmskYw8Pv/cD8tQe5oGMik6/sSZBTb4VE7KC/PBERERER8alu3bqxevVqLr30Ut566y3OOussdu/ebUsWYwyPf7iFmSv3c267+rx0dS9CgvQ2SMQu+usTERERERGfi4uL47333uPvf/87mzZtIiUlhY8++sivGbxewyPv/8DUZan0bRXPa9f0JizY6dcMIvJzmphSpJa57bbb7I4gIiIiUikOh4OHH36Y3r17c9VVV3HppZfy6KOP8uijj+J0Vm8xwO3x8sC8Tcxbm8bZbRP4v4m9CQ+peQUIte2krrFqykQx1SkpKcmkpaXZHUNEREREpM5KTU1l9OjRrF27lmHDhvH2228THx9fLccqc3u5e/Z6Pt50mAs6JvLS1b3UA0LETyzLOmiMSTrZ7RqOISIiIiIi1a5ly5YsXbqU6667jkWLFpGSksK6det8fpyCUjc3Tl/Nx5sOc0nXxrwyIUUFCJEaREUIkVpmxIgRjBgxwu4YIiIiIqctPDycN954g9dee41Dhw4xYMAApk2b5rP9p+eVcMUr3/PNjqOM79OMF8b3qPGTUKptJ3VNzf6LFJFf2b17t22zS4uIiIhUlWVZ3HTTTXz77bc0aNCAa6+9lltvvZXS0tIq7Xdnej6jXlrGlsN53HtRe54Y1bVWLMOptp3UNTX/r1JERERERAJO3759WbNmDYMHD+aVV17hvPPO40zncftiWzqjXl5Gel4Jz4ztzp2D22FZlo8Ti4gvqAghIiIiIiK2aNCgAYsWLeLBBx9kxYoV9OrViy+++KLS23u9hv8s2ckN01bjdFhMu74vo1NOOh+eiNQAKkKIiIiIiIhtgoKCeOKJJ5g/fz4lJSVcdNFF/Pvf/+ZUq/jll7j43VtreOazHXRsFMOHd5zD2W3r+ym1iJwpFSFERERERMR2l19+OatWraJjx4788Y9/ZMyYMeTl5Z3wvmv2ZTN88rd8uiWdEd2bMP/WATSLj/BzYhE5E0F2BxCR0/Pss8/aHUFERESkWnTo0IEVK1Zwww038O6777Jlyxbmz59Pp06dAPB4DVO+3MULS3YS5LD462XJXNO/Ra2e/0FtO6lrrFN1cwoESUlJ5kwnuREREREREf8yxvD8889z//33Ex4ezptvvknP84bxwLxNrNmXTYeG0Uy+sicdGkXbHVVEfsGyrIPGmJNOzqIihIiIiIiI1Ehff/01V1xxBRkZGcT1G0XseZO47pw2PDCsI2HBTrvjicgJnKoIoTkhRGqZ5ORkkpOT7Y4hIiIiUu2sxp1p97sphDbpSM6K+dT/5t/8rm/9gCpAqG0ndY2KECIiIiIiUqNsP5LPpDdXMvHNlWR4InnyzbncetvtrFm+lJSUFJYvX253RBE5Q5qYUkREREREaoTUzEJe+moXc9ek4TUwskcT7h/WkaZx4TD0RQac1Z+bb76ZgQMH8vzzz3PrrbfW6kkpReoiFSFERERERMRWO9PzmfLlLj7YcAivgX6t4vnT8E50bxb3s/tNmDCBrl27MmrUKG6//XZWrFjByy+/TESElucUqS1sL0JYlnUJ8FegC/CyMeau37hvKlAKFFdc9YQxZnZ1ZxQREREREd/yeA1LtqYzY/k+vt2ZCcC57epzx/lt6dc64aTbde/endWrVzNx4kSmT5/Ohg0bmD9/Pq1bt/ZXdBGpAtuLEMBO4HpgLBBVifuPM8asr9ZEIiIiIiJSLfYdK+S9dYd4d/UBDuYU43RYDO/aiJvObU3P5vUqtY969erx/vvv849//IO//OUvpKSk8PbbbzN8+PBqTi8iVVVjlui0LOsxIK4SPSFGnm4RQkt0SiDZtWsXAG3btrU5iYiIiEjlHMgq4vOt6by//hDrD+QA0CA6lCv7Nueqvs1pFBt2xvtetGgRV111FTk5OTz66KM8+uijOBy1Z/59te0k0Jxqic7aWITIAyxgJfCgMeboqfatIoSIiIiIiP+Uub2s2ZfNl9sz+GJbBrsyCgCICHEyLLkRl/VsytltEghy+qZYsHfvXkaPHs26desYPnw4M2bMID4+3if7FpHTY3sRwrKs74F2J7m5pzHmQMX9HuPURYjmxpj9lmUFA38HuhpjftXnyrKse4B7fvw5Nja2aU5Ozhk/BpGaRNVyERERqWlyi1ys2Z/F6tRsVu/LZsOBHErdXgASo0M5v0Mi53dMZGD7+kSEVM+I8OLiYm677TamTp1Kq1atmD9/Pj169KiWY/mS2nYSaGwvQlRWZYoQv7h/Y2CHMSb6VPdVTwgJJMnJyQBs3rzZ5iQiIiJS1xSXeTiQXcTO9AK2Hclj6+F8th3JIy27+Kf7RIY46dm8Hv1axXN+x0Q6N47B4fDPMprGGF577TXuvPNOnE4nr776KhMnTvTLsc+U2nYSaE5VhKgJE1NWimVZkUCwMSan4qorgXX2JRIRERERCRxlbi/HCks5mv+/r8O5JRzIKmJ/VhH7soo4ml/6s22CHBZtE6MY2aMJPZvXI6VFPTo2ivbZMIvTZVkWt9xyCz169GDMmDFMmjSJFStW8NxzzxESEmJLJhH5OduLEJZlDQamATHlP1pjgNuMMR9YljUCGGGMuRFoCMyzLMtJ+ZwQe4CaXdYUEREREakiYwxeA26vF7fH4PYaPF6D2+stv/QYXB4vJS4vJW4PJWUeStweisu8lLh+/N5DictDfombvBIXecXll7nFLvKKXeQUu8gpcp00Q0JkCM3iIzirdQItEiJoVT+STo1jaNMgipCgmjcJZL9+/VizZg3jx4/npZdeYu3atcyZM4ekpJN+OCsiflJjhmNUJw3HkECxMS2Hs/v0BOCcB6dXaV819W/fV7EMvnt8vnyqfPms++p36NMzQc9V5ffl0+eqhp7vNfC/GV/+31cTz4caey74blc+zFVznyu3p6K48FOxoXr+mKJDg4gJDyY6rPyyQXQoDaJCyy8rvhpGh9E8IYKoUNs/uzwjbrebhx9+mH/9618kJiYye/ZsBg0aZHesn9FwDAk0ATMcQ0TA4zV4K1o6xWXuKu3LsnwzNtOnIzx9tDNfZaqO56gqe/xVnDPMZ/noGfLR0+MzNfGc9tVz5LP91LDfvc+e6xr2u69pz4+v/jagJj5HNevJ9tXzE+S0CHI4CHJYOB0WQU4L5/E/V1wX5HD87OewICdhwU7CQpyEBTkIC3YSHlxxXXD5z7HhwcSEBRMVFoTTT/M02CkoKIinnnqKvn37cu2113LhhRfy5JNPcu+99/r0b0NEKk89IURqGVXLRURERE7ftm3bGDVqFFu3bmXMmDG8+eabREefco77aqe2nQSaWrM6RnVSEUJERERERPLz87nhhhuYM2cOHTt2ZMGCBXTs2NHuWCIB5VRFiJo3i4yIiIiIiEg1iI6OZvbs2Tz99NPs3LmTPn36MG/ePLtjidQpKkKI1DKLFy9m8eLFdscQERERqZUsy+Lee+/l888/JyIigjFjxvDHP/4Rt7tq822dKbXtpK7RcAyRWkbjBkVERER8Iy0tjbFjx7J8+XLOP/98Zs2aRWJiol8zqG0ngUbDMURERERERE4gKSmJr7/+mttvv50vv/ySlJQUVqxYYXcskYCmIoSIiIiIiNRZISEhvPjii0ybNo3MzEzOPfdcXnnlFepCj3ERO6gIISIiIiIidd7EiRP5/vvvadasGbfeeivXXXcdxcXFdscSCTgqQoiIiIiIiAA9evRg9erVDB8+nGnTpjFgwAD27t1rdyyRgKIihEgt06ZNG9q0aWN3DBEREZGAVK9ePT788EMee+wxNmzYQEpKCp988km1HU9tO6lrtDqGiIiIiIjICSxcuJCrr76a3NxcHnvsMf785z/jcOhzXJHfotUxREREREREzsDw4cNZs2YN3bt35y9/+QsjRowgOzvb7lgitZqKECK1zJQpU5gyZYrdMURERETqhNatW/Pdd98xceJEPv74Y3r37s2GDRt8tn+17aSu0XAMkVomOTkZgM2bN9ucRERERKTuMMbwyiuv8Ic//IGgoCBee+01JkyYUOX9qm0ngUbDMURERERERKrIsixuvfVWvvnmG+Lj47nmmmu44447KCsrszuaSK2iIoSIiIiIiEgl9e/fn7Vr1zJo0CCmTJnCeeedx8GDB+2OJVJrqAghIiIiIiJyGhITE/nss8+4//77Wb58Ob169eKrr76yO5ZIraAihIiIiIiIyGkKCgriX//6F3PmzKGoqIgLL7yQZ555hrow555IVQTZHUBETs+QIUPsjiAiIiIiFcaMGUNycjKjRo3ivvvuY8WKFbzxxhtER0dXanu17aSu0eoYIiIiIiIiVZSfn891113HvHnz6NSpE/Pnz6djx452xxLxO62OISIiIiIiUs2io6OZM2cO//73v9m+fTt9+/Zl/vz5dscSqXFUhBCpZe6++27uvvtuu2OIiIiIyC9YlsV9993H559/TlhYGKNHj+aBBx7A7XafdBu17aSu0XAMkVomOTkZgM2bN9ucREREREROJi0tjTFjxrBixQouuOACZs6cSWJi4q/up7adBBoNxxAREREREfGzpKQkvv76a2699Va++OILUlJSWLFihd2xRGynIoSIiIiIiEg1CA0N5aWXXmLq1KlkZmYycOBAXn31VS3jKXWaihAiIiIiIiLVaNKkSXz//fc0bdqU3/3ud1x//fUUFxfbHUvEFipCiIiIiIiIVLMePXqwZs0ahg8fztSpUzn77LPZu3ev3bFE/C7I7gAicnpuu+02uyOIiIiIyBmoV68eH374IX/72994/PHHSUlJ4corr6Rz5852RxPxG62OISIiIiIi4mcLFy7k6quvJjc3l8cff5w///nPWJZldyyRKtPqGCIiIiIiIjXM8OHDWbNmDd26dSM9PV0FCKkzVIQQqWVGjBjBiBEj7I4hIiIiIlXUunVrmjRpQmpqqt1RRPxGc0KI1DK7d++2O4KIiIiI+Mi+ffvsjiDiV+oJISIiIiIiIiJ+oSKEiIiIiIiIiPiFihAiIiIiIiIi4hcqQoiIiIiIiIiIX2hiSpFa5tlnn7U7goiIiIj4iNp2UtdYxhi7M1S7pKQkk5aWZncMERERERERkYBmWdZBY0zSyW7XcAwRERERERER8QsVIURqmeTkZJKTk+2OISIiIiI+oLad1DUqQoiIiIiIiIiIX6gIISIiIiIiIiJ+oSKEiIiIiIiIiPiFihAiIiIiIiIi4hcqQoiIiIiIiIiIXwTZHUBETs/7779vdwQRERER8RG17aSuURFCpJZp27at3RFERERExEfUtpO6RsMxRGqZXbt2sWvXLrtjiIiIiIgPqG0ndY16QojUMpdddhkAmzdvtjmJiIiIiFSV2nZS16gnhIiIiIiIiIj4hYoQIiIiIiIiIuIXKkKIiIiIiIiIiF+oCCEiIiIiIiIifqEihIiIiIiIiIj4hWWMsTtDtbMsqxQ4ancOqZGigAK7Q4j4kM5pCSQ6nyXQ6JyWQKLzWU6mgTEm9GQ31okihMjJWJaVZoxJsjuHiK/onJZAovNZAo3OaQkkOp/lTGk4hoiIiIiIiIj4hYoQIiIiIiIiIuIXKkJIXfes3QFEfEzntAQSnc8SaHROSyDR+SxnRHNCiIiIiIiIiIhfqCeEiIiIiIiIiPiFihAiIiIiIiIi4hcqQkidZllWomVZ6ZZlvfeL6/9sWdbuiq9/2BRPpFIsy/q9ZVk/WJa1ybKsjZZlTfjF7TqfpVaxLKudZVnLLMvaYVnWKsuyku3OJFJZlmWFWZb1XsX5u8GyrM8sy2pbcVuiZVmLLMvaWfH/9kC784pUlmVZ11mWZSzLGlnxs85nOSMqQkhd9yrw0fFXVPwHeiXQDegMDLUs6xIbsolU1mbgbGNMV+AS4HnLstqAzmeptV4FXjPGtAeeAqbaG0fktL0GdDDGdAfeB16vuP5JYLkxph1wHfCOZVnBNmUUqTTLsloCNwHLj7ta57OcERUhpM6yLOsGYC/w7S9uGgfMMMYUGmNKgTcpfxMnUiMZY5YYY3Irvj8AHAGaVdys81lqFcuyEoHewFsVV80Dmv34SbJITWeMKTHGLDT/m/19OdCy4vsrgFcq7rcKOASc5/eQIqfBsiwH5YW0O4HS427S+SxnREUIqZMsy2oF/A54+AQ3Nwf2HfdzasV1IjWeZVkXAvWAVRVX6XyW2qYZcNgY4waoeCO3H523Unv9AXjfsqwEINgYc+S421LRuS013z3Ad8aYNT9eofNZqiLI7gAi1cGyrO+Bdie5uSflnwbfYYwptizLf8FEzsCpzueK3g9YltUV+C8wzhhT6K98IiJyYpZl/QloCwwGwm2OI3LaLMvqAowGNN+D+IyKEBKQjDFnnew2y7JiKR8fP7uiABEFRFiWtcQYM5jyT9xaHLdJy4rrRGzxW+fzjyzL6kz5/CbXG2OWHneTzmepbQ4AjS3LCjLGuK3y/6ibo/NWahnLsu4DRgEXGmOKgCLLstyWZTU67tPjlujclprtXMrP050V7eZGlM958hdA57OcEQ3HkDrHGJNrjEkwxrQ0xrQE7gM+rShAAMwBrrEsK9KyrFDgemCWTXFFTsmyrE7AQuBmY8xnv7hZ57PUKsaYDGAt8OMqL6OBNGPMLvtSiZwey7LuoXz+nYuMMTnH3TSH8uGgWJbVB2gKfO33gCKVZIx52RjT+Lh283LK2xsvo/NZzpB6Qoj8gjHmK8uyZgObKq6abYz56Le2EbHZZCAWeMqyrKcqrnvAGLNY57PUUrcAUyu6sudRPuu6SK1gWVYS8AywB/iy4tPjUmNMP+ABYIZlWTuBMmCCMcZlW1iRqtH5LGfE+t/EvSIiIiIiIiIi1UfDMURERERERETEL1SEEBERERERERG/UBFCRERERERERPxCRQgRERERERER8QsVIURERERERETEL1SEEBERERERERG/UBFCRERERERERPxCRQgRERGp8SzLGmZZ1gbLst6xLCvI7jwiIiJyZlSEEBERkdrgVuBSoBRoanMWEREROUMqQoiIiEiNYVnWHMuyzjrBTR8D+4AyY8y+ivt+a1lWK78GFBERkSpREUJERERqBMuy+gLxxpjvT3DzEGAJEHbcdc8Aj/sjm4iIiPiGihAiIiLiV5ZlvW5Z1pMV3ze3LGurZVnnArcA75zg/kOBKOBJoPtxN30MXGxZVqwfYouIiIgPWMYYuzOIiIhIHWJZVmNgAzAUmA7ca4z51LKs3cBlxpgfjrtvKLAGGA3kAAeAKGNMWcXtXwDPGmM+8u+jEBERkTOh2aVFRETEr4wxhy3LegVYBlxtjPm04qYkIP0Xd78fWGSM2Q5gWVYO0BlYX3H7kYrtREREpBZQEUJERET8yrKs+sAIIA/Yf9xNRRw354NlWS0pL0LkWZY1puLqaKAH/ytChAHF1RpYREREfEZzQoiIiIjfVMzfsBB4gvICwzPH3bwR6HDczy8AfzTGNDPGtDTGtASmUF6E+FEnyod2iIiISC2gIoSIiIj4hWVZEcBHwGvGmNnAW0CMZVkjK+4yl/J5IrAsazjQBnj9F7vZTEURoqKnhBMVIURERGoNTUwpIiIiNYJlWVGUzxNxljGmsBL3fxLYZYz5ZaFCREREaij1hBAREZEawRhTANwNtKrkJoeAN6svkYiIiPiaekKIiIiIiIiIiF+oJ4SIiIiIiIiI+IWKECIiIiIiIiLiFypCiIiIiIiIiIhfqAghIiIiIiIiIn6hIoSIiIiIiIiI+IWKECIiIiIiIiLiFypCiIiIiIiIiIhfqAghIiIiIiIiIn7x/wFYEsWk+XZGfgAAAABJRU5ErkJggg==\n",
          "text/plain": "<Figure size 1280x720 with 1 Axes>"
         },
         "metadata": {
          "needs_background": "light"
         },
         "output_type": "display_data"
        }
       ]
      }
     },
     "b9a6eadf664b4e9291384ff500d04757": {
      "model_module": "@jupyter-widgets/base",
      "model_module_version": "1.2.0",
      "model_name": "LayoutModel",
      "state": {}
     },
     "b9c6b37e62cb4b47833d022fc8eb716d": {
      "model_module": "@jupyter-widgets/controls",
      "model_module_version": "1.5.0",
      "model_name": "DescriptionStyleModel",
      "state": {
       "description_width": ""
      }
     },
     "baaddfc4d5ae4f338ab27c9575f2b6d2": {
      "model_module": "@jupyter-widgets/base",
      "model_module_version": "1.2.0",
      "model_name": "LayoutModel",
      "state": {}
     },
     "bc26396a03e243f6b56137267919f0c2": {
      "model_module": "@jupyter-widgets/controls",
      "model_module_version": "1.5.0",
      "model_name": "ButtonStyleModel",
      "state": {}
     },
     "be4c8c930713458f8f1b95d09c9a8de7": {
      "model_module": "@jupyter-widgets/base",
      "model_module_version": "1.2.0",
      "model_name": "LayoutModel",
      "state": {}
     },
     "bf24a05b6acd46ac90efea65271a0e28": {
      "model_module": "@jupyter-widgets/base",
      "model_module_version": "1.2.0",
      "model_name": "LayoutModel",
      "state": {}
     },
     "c02c770dea9240b28016e86cc6e94b36": {
      "model_module": "@jupyter-widgets/controls",
      "model_module_version": "1.5.0",
      "model_name": "ButtonModel",
      "state": {
       "description": "Diagonalizar",
       "disabled": true,
       "layout": "IPY_MODEL_7a6925e9534c49a5b97edf242a3563d4",
       "style": "IPY_MODEL_7c1b9a3a3f5b47e7a74b9210b48855d1"
      }
     },
     "c0b1325517424e68ad79b3ceb049ba03": {
      "model_module": "@jupyter-widgets/controls",
      "model_module_version": "1.5.0",
      "model_name": "ButtonStyleModel",
      "state": {}
     },
     "c0b70b9b251940c68ff77f4e6d4518ba": {
      "model_module": "@jupyter-widgets/controls",
      "model_module_version": "1.5.0",
      "model_name": "SliderStyleModel",
      "state": {
       "description_width": "initial"
      }
     },
     "c1c13c68015d4059937671f6e02282cd": {
      "model_module": "@jupyter-widgets/controls",
      "model_module_version": "1.5.0",
      "model_name": "DescriptionStyleModel",
      "state": {
       "description_width": ""
      }
     },
     "c24c37cb051a426ebac6e10f9bd7e5e3": {
      "model_module": "@jupyter-widgets/controls",
      "model_module_version": "1.5.0",
      "model_name": "ButtonModel",
      "state": {
       "description": "Poço Infinito",
       "layout": "IPY_MODEL_9b72927e28cc44ad874edc673dc743a4",
       "style": "IPY_MODEL_0b3fc53ecc2b4b81bc6089e911775318"
      }
     },
     "c524b3bfd5114007aa99ea354208f506": {
      "model_module": "@jupyter-widgets/controls",
      "model_module_version": "1.5.0",
      "model_name": "VBoxModel",
      "state": {
       "_dom_classes": [
        "widget-interact"
       ],
       "children": [
        "IPY_MODEL_49ed86399c2b44c48f69158cc81445c3",
        "IPY_MODEL_6d958fffba8d43fca6d8105faa240fb2",
        "IPY_MODEL_cbd99a56bd3040d9b9dd52b73711f368",
        "IPY_MODEL_51d572c357fb4789a406103056ff519c",
        "IPY_MODEL_04f2912bba3446b787f4aa23214b0d20"
       ],
       "layout": "IPY_MODEL_8c4d6f855805452781e7e3ebc138ae89"
      }
     },
     "c526414f80074f7c9bdf44fc4d8434b0": {
      "model_module": "@jupyter-widgets/controls",
      "model_module_version": "1.5.0",
      "model_name": "DescriptionStyleModel",
      "state": {
       "description_width": ""
      }
     },
     "c644beb1c2c844a1b69bbbdc4977f1d5": {
      "model_module": "@jupyter-widgets/controls",
      "model_module_version": "1.5.0",
      "model_name": "ButtonStyleModel",
      "state": {}
     },
     "c696ae336bf44c6e88da4c74bdaa4d4e": {
      "model_module": "@jupyter-widgets/base",
      "model_module_version": "1.2.0",
      "model_name": "LayoutModel",
      "state": {}
     },
     "c6b1cd7714844785834fd02ac13b8791": {
      "model_module": "@jupyter-widgets/controls",
      "model_module_version": "1.5.0",
      "model_name": "VBoxModel",
      "state": {
       "children": [
        "IPY_MODEL_e172d67923704cb38d8d0dcdd086f309",
        "IPY_MODEL_7c5ade70cd9f4cecb26225318a006fa4",
        "IPY_MODEL_f4268f698e6044b193fd07e5303f9c84"
       ],
       "layout": "IPY_MODEL_2d1052112add43269ca949fb4193ddda"
      }
     },
     "c8f5889c1b7c4f579ccb4c1188b4271a": {
      "model_module": "@jupyter-widgets/controls",
      "model_module_version": "1.5.0",
      "model_name": "ButtonStyleModel",
      "state": {}
     },
     "c968c40bc6a84bd0b0347dcb672df858": {
      "model_module": "@jupyter-widgets/controls",
      "model_module_version": "1.5.0",
      "model_name": "ButtonModel",
      "state": {
       "description": "Campo Uniforme (-)",
       "layout": "IPY_MODEL_881f38ebda4044c6b0bff1c17329be43",
       "style": "IPY_MODEL_a0909888bccd4e31a25ad063ed230371"
      }
     },
     "cb11e810d8ea4b8fa8fe3171c9195f4a": {
      "model_module": "@jupyter-widgets/base",
      "model_module_version": "1.2.0",
      "model_name": "LayoutModel",
      "state": {}
     },
     "cb5f63b2e4d04476b533114644917bc3": {
      "model_module": "@jupyter-widgets/controls",
      "model_module_version": "1.5.0",
      "model_name": "CheckboxModel",
      "state": {
       "description": "Auto limitar eixo y",
       "disabled": false,
       "layout": "IPY_MODEL_43d50f78025b48b78ae5d2ccd7e6f5f3",
       "style": "IPY_MODEL_516c7f1966a348b79c2845a69dff130c",
       "value": true
      }
     },
     "cbb48588f68048e08ce5c651a2fb4b14": {
      "model_module": "@jupyter-widgets/controls",
      "model_module_version": "1.5.0",
      "model_name": "ButtonStyleModel",
      "state": {}
     },
     "cbd99a56bd3040d9b9dd52b73711f368": {
      "model_module": "@jupyter-widgets/controls",
      "model_module_version": "1.5.0",
      "model_name": "TextModel",
      "state": {
       "description": "Expressão de $V(x)$: ",
       "layout": "IPY_MODEL_104be8a181874b009adcf4e868f42e5e",
       "placeholder": "Escreva a expressão aqui.",
       "style": "IPY_MODEL_2e57294f2e8843d3b7fa72b53dfeab30",
       "value": "0"
      }
     },
     "cdc5d8732fc8483686cb90ec4ff61a20": {
      "model_module": "@jupyter-widgets/controls",
      "model_module_version": "1.5.0",
      "model_name": "IntSliderModel",
      "state": {
       "description": "Altura da imagem (polegadas): ",
       "layout": "IPY_MODEL_104be8a181874b009adcf4e868f42e5e",
       "max": 20,
       "style": "IPY_MODEL_7a8a25610320474bb767d2a54ebf54ca",
       "value": 9
      }
     },
     "ce9921ca9c954acead6da870a5fefb6c": {
      "model_module": "@jupyter-widgets/controls",
      "model_module_version": "1.5.0",
      "model_name": "ButtonStyleModel",
      "state": {}
     },
     "d20cf73a820a44fd87fe6a5f3e4fea91": {
      "model_module": "@jupyter-widgets/controls",
      "model_module_version": "1.5.0",
      "model_name": "DescriptionStyleModel",
      "state": {
       "description_width": "initial"
      }
     },
     "d314f01beb46491998ce3efbf0918dfd": {
      "model_module": "@jupyter-widgets/controls",
      "model_module_version": "1.5.0",
      "model_name": "ButtonStyleModel",
      "state": {}
     },
     "d32bb80289304db5b21da6b9bdd2049b": {
      "model_module": "@jupyter-widgets/output",
      "model_module_version": "1.0.0",
      "model_name": "OutputModel",
      "state": {
       "layout": "IPY_MODEL_d5b398f81a0e4da4bdf5a5a2f98a258e",
       "outputs": [
        {
         "data": {
          "image/png": "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\n",
          "text/plain": "<Figure size 864x576 with 1 Axes>"
         },
         "metadata": {
          "needs_background": "light"
         },
         "output_type": "display_data"
        }
       ]
      }
     },
     "d5b398f81a0e4da4bdf5a5a2f98a258e": {
      "model_module": "@jupyter-widgets/base",
      "model_module_version": "1.2.0",
      "model_name": "LayoutModel",
      "state": {}
     },
     "d8d98be10be149e5a22c1101c8a2a62b": {
      "model_module": "@jupyter-widgets/controls",
      "model_module_version": "1.5.0",
      "model_name": "LabelModel",
      "state": {
       "layout": "IPY_MODEL_9936f6a9c6d64f428c5baba2fc738db3",
       "style": "IPY_MODEL_ac057557987749468ed1ba2a8caa4aad",
       "value": "Expressão V(x) ="
      }
     },
     "daf58e8d5e3b4ba09f3840bbe912de47": {
      "model_module": "@jupyter-widgets/controls",
      "model_module_version": "1.5.0",
      "model_name": "ButtonModel",
      "state": {
       "description": "Pöschl–Teller",
       "layout": "IPY_MODEL_e06a2791b1e749bd975023e7c73c5529",
       "style": "IPY_MODEL_45e2944617ad44c284b7dd312025efe2"
      }
     },
     "dd4befb50ce649aa87dacc65b96dac8e": {
      "model_module": "@jupyter-widgets/base",
      "model_module_version": "1.2.0",
      "model_name": "LayoutModel",
      "state": {}
     },
     "dea4aaeceafa4feba0b2b276c5a8ac20": {
      "model_module": "@jupyter-widgets/controls",
      "model_module_version": "1.5.0",
      "model_name": "ButtonModel",
      "state": {
       "description": "Oscilador Harmônico",
       "layout": "IPY_MODEL_eb90d0e0f43648409b11c6afd2c4122e",
       "style": "IPY_MODEL_915f5411a15c4e65a4fcdd4cde5a7328"
      }
     },
     "df729b7f03a343768546d5278159f14f": {
      "model_module": "@jupyter-widgets/controls",
      "model_module_version": "1.5.0",
      "model_name": "ButtonStyleModel",
      "state": {}
     },
     "e06a2791b1e749bd975023e7c73c5529": {
      "model_module": "@jupyter-widgets/base",
      "model_module_version": "1.2.0",
      "model_name": "LayoutModel",
      "state": {}
     },
     "e172d67923704cb38d8d0dcdd086f309": {
      "model_module": "@jupyter-widgets/controls",
      "model_module_version": "1.5.0",
      "model_name": "AccordionModel",
      "state": {
       "_titles": {
        "0": "Potenciais pré definidos"
       },
       "children": [
        "IPY_MODEL_67c3c63449b94c9284b02b6e82947091"
       ],
       "layout": "IPY_MODEL_2302c457287d461b9c0c00146489e98f"
      }
     },
     "e185677fcb364da99466254f3a2440b0": {
      "model_module": "@jupyter-widgets/controls",
      "model_module_version": "1.5.0",
      "model_name": "DescriptionStyleModel",
      "state": {
       "description_width": ""
      }
     },
     "e1d4e4f26b2d499da4a3382a3e8e4466": {
      "model_module": "@jupyter-widgets/base",
      "model_module_version": "1.2.0",
      "model_name": "LayoutModel",
      "state": {
       "display": "flex",
       "width": "90%"
      }
     },
     "e2885a4bd34e4af68c7491cacdf9a60d": {
      "model_module": "@jupyter-widgets/controls",
      "model_module_version": "1.5.0",
      "model_name": "ButtonModel",
      "state": {
       "description": "Poço Triangular",
       "layout": "IPY_MODEL_bf24a05b6acd46ac90efea65271a0e28",
       "style": "IPY_MODEL_c644beb1c2c844a1b69bbbdc4977f1d5"
      }
     },
     "e3159b0780bf4d3da3f5a8c1553890d0": {
      "model_module": "@jupyter-widgets/controls",
      "model_module_version": "1.5.0",
      "model_name": "IntSliderModel",
      "state": {
       "description": "Altura da imagem (polegadas): ",
       "layout": "IPY_MODEL_e1d4e4f26b2d499da4a3382a3e8e4466",
       "max": 20,
       "style": "IPY_MODEL_4c56fb78e2c147c08ace14154175ea87",
       "value": 9
      }
     },
     "e37847b69a0d416ba52aa49f2feab1dd": {
      "model_module": "@jupyter-widgets/base",
      "model_module_version": "1.2.0",
      "model_name": "LayoutModel",
      "state": {}
     },
     "e46cae0b0e9649c8a26e45d49f73deba": {
      "model_module": "@jupyter-widgets/controls",
      "model_module_version": "1.5.0",
      "model_name": "DescriptionStyleModel",
      "state": {
       "description_width": ""
      }
     },
     "e6c3b818796a4cc1bee95eccf58b06b7": {
      "model_module": "@jupyter-widgets/base",
      "model_module_version": "1.2.0",
      "model_name": "LayoutModel",
      "state": {}
     },
     "e9170506835b4d1dbaee532ae3810eac": {
      "model_module": "@jupyter-widgets/controls",
      "model_module_version": "1.5.0",
      "model_name": "SliderStyleModel",
      "state": {
       "description_width": "initial"
      }
     },
     "e9ed285e86e14d3899823be5d7d7797e": {
      "model_module": "@jupyter-widgets/base",
      "model_module_version": "1.2.0",
      "model_name": "LayoutModel",
      "state": {}
     },
     "eb90d0e0f43648409b11c6afd2c4122e": {
      "model_module": "@jupyter-widgets/base",
      "model_module_version": "1.2.0",
      "model_name": "LayoutModel",
      "state": {}
     },
     "ebfa8c944e38493cb6d31127b4ae4890": {
      "model_module": "@jupyter-widgets/controls",
      "model_module_version": "1.5.0",
      "model_name": "DescriptionStyleModel",
      "state": {
       "description_width": ""
      }
     },
     "ed6714282c3d4a40a45665cdf8fa3ad0": {
      "model_module": "@jupyter-widgets/controls",
      "model_module_version": "1.5.0",
      "model_name": "ButtonModel",
      "state": {
       "description": "Duffing Holmes (-)",
       "layout": "IPY_MODEL_5aba5d4ab7364c4eabc3f2aae35a037c",
       "style": "IPY_MODEL_3483000d6ec248c196fd485bcb3504a1"
      }
     },
     "eedea3faa2aa4acea69d1625ada760bf": {
      "model_module": "@jupyter-widgets/base",
      "model_module_version": "1.2.0",
      "model_name": "LayoutModel",
      "state": {}
     },
     "ef937a4934a24b8bad93c04611a6ed65": {
      "model_module": "@jupyter-widgets/controls",
      "model_module_version": "1.5.0",
      "model_name": "ButtonModel",
      "state": {
       "description": "Gerar",
       "layout": "IPY_MODEL_1661b416a2694e16bcdc4aeae42382c4",
       "style": "IPY_MODEL_cbb48588f68048e08ce5c651a2fb4b14"
      }
     },
     "f15961b5a1694d3c88e8fc05785ca91f": {
      "model_module": "@jupyter-widgets/controls",
      "model_module_version": "1.5.0",
      "model_name": "ButtonModel",
      "state": {
       "description": "Lennard Jones",
       "layout": "IPY_MODEL_ae416808da1743e2845f7c95b61a9c6f",
       "style": "IPY_MODEL_c0b1325517424e68ad79b3ceb049ba03"
      }
     },
     "f177f5b214f04a81b29dd5dae11d97ba": {
      "model_module": "@jupyter-widgets/controls",
      "model_module_version": "1.5.0",
      "model_name": "AccordionModel",
      "state": {
       "_titles": {
        "0": "Potenciais pré definidos"
       },
       "children": [
        "IPY_MODEL_9e8775f781ec4cfdae54f607a4ad6a4d"
       ],
       "layout": "IPY_MODEL_104dacdefe524bcb8315a2eae847bb84"
      }
     },
     "f2af17ee09fb45f1a218ea41fcf5d9cb": {
      "model_module": "@jupyter-widgets/base",
      "model_module_version": "1.2.0",
      "model_name": "LayoutModel",
      "state": {}
     },
     "f3130e5a6ec6439ea7e1724abac78dcf": {
      "model_module": "@jupyter-widgets/controls",
      "model_module_version": "1.5.0",
      "model_name": "ButtonModel",
      "state": {
       "description": "Campo Uniforme (-)",
       "layout": "IPY_MODEL_cb11e810d8ea4b8fa8fe3171c9195f4a",
       "style": "IPY_MODEL_fcab2d23bdc9472ab37e82389e649967"
      }
     },
     "f328fa0ea5d34461a8ba28c97d4b1b57": {
      "model_module": "@jupyter-widgets/controls",
      "model_module_version": "1.5.0",
      "model_name": "SliderStyleModel",
      "state": {
       "description_width": "initial"
      }
     },
     "f34fc4f63c5141cca8764ef557b4a385": {
      "model_module": "@jupyter-widgets/controls",
      "model_module_version": "1.5.0",
      "model_name": "DescriptionStyleModel",
      "state": {
       "description_width": "initial"
      }
     },
     "f41620f41c3e425a80d5f463a3e4c89f": {
      "model_module": "@jupyter-widgets/base",
      "model_module_version": "1.2.0",
      "model_name": "LayoutModel",
      "state": {}
     },
     "f4268f698e6044b193fd07e5303f9c84": {
      "model_module": "@jupyter-widgets/controls",
      "model_module_version": "1.5.0",
      "model_name": "AccordionModel",
      "state": {
       "_titles": {
        "0": "Diagonalizar/Informações"
       },
       "children": [
        "IPY_MODEL_73d00299285e4fb488f0ed7a42ce91ed"
       ],
       "layout": "IPY_MODEL_9e7d32a151384c89a56fc3beefef4499"
      }
     },
     "f44e0f5352b14bb5bcac2b1d127b08ed": {
      "model_module": "@jupyter-widgets/controls",
      "model_module_version": "1.5.0",
      "model_name": "ButtonModel",
      "state": {
       "description": "Duffing Holmes (-)",
       "layout": "IPY_MODEL_8f7fe591d3ed485bb648eab57f781ea1",
       "style": "IPY_MODEL_c8f5889c1b7c4f579ccb4c1188b4271a"
      }
     },
     "f552510c802748389e72c19db79d1ebc": {
      "model_module": "@jupyter-widgets/controls",
      "model_module_version": "1.5.0",
      "model_name": "DescriptionStyleModel",
      "state": {
       "description_width": ""
      }
     },
     "f66780b566f64f7ca5a0940e09f4377f": {
      "model_module": "@jupyter-widgets/controls",
      "model_module_version": "1.5.0",
      "model_name": "DescriptionStyleModel",
      "state": {
       "description_width": ""
      }
     },
     "f759b37bbacd45f4bb8240cf93e8a3bd": {
      "model_module": "@jupyter-widgets/base",
      "model_module_version": "1.2.0",
      "model_name": "LayoutModel",
      "state": {}
     },
     "f8131a65fe9847b480b1a1c1e4724340": {
      "model_module": "@jupyter-widgets/controls",
      "model_module_version": "1.5.0",
      "model_name": "SliderStyleModel",
      "state": {
       "description_width": "initial"
      }
     },
     "f9571fd3c1054ecd951c2f7905398cb7": {
      "model_module": "@jupyter-widgets/base",
      "model_module_version": "1.2.0",
      "model_name": "LayoutModel",
      "state": {}
     },
     "f9fb9684c7b04598aa8d0e5b1c6519db": {
      "model_module": "@jupyter-widgets/base",
      "model_module_version": "1.2.0",
      "model_name": "LayoutModel",
      "state": {
       "grid_template_columns": "repeat(auto-fill, 180px)"
      }
     },
     "fb764dc09b0e4cdc8ba181349ec9526a": {
      "model_module": "@jupyter-widgets/controls",
      "model_module_version": "1.5.0",
      "model_name": "ButtonStyleModel",
      "state": {}
     },
     "fcab2d23bdc9472ab37e82389e649967": {
      "model_module": "@jupyter-widgets/controls",
      "model_module_version": "1.5.0",
      "model_name": "ButtonStyleModel",
      "state": {}
     },
     "fdd2b28a4ea349ae8d23b2fcef555683": {
      "model_module": "@jupyter-widgets/base",
      "model_module_version": "1.2.0",
      "model_name": "LayoutModel",
      "state": {}
     },
     "fe10c97df33a4557a913ddce354460ea": {
      "model_module": "@jupyter-widgets/base",
      "model_module_version": "1.2.0",
      "model_name": "LayoutModel",
      "state": {}
     },
     "fe71916cf07e49e5a8dfafd56e2f9d7b": {
      "model_module": "@jupyter-widgets/controls",
      "model_module_version": "1.5.0",
      "model_name": "DescriptionStyleModel",
      "state": {
       "description_width": ""
      }
     },
     "fe72b1f9384348a58066c2af3358389d": {
      "model_module": "@jupyter-widgets/controls",
      "model_module_version": "1.5.0",
      "model_name": "ButtonModel",
      "state": {
       "description": "Poço Triangular",
       "layout": "IPY_MODEL_9c53d0de5cfc4d7dadf3c3338f0aab7c",
       "style": "IPY_MODEL_1dd8ac55dc1e43339377732a276e327f"
      }
     }
    },
    "version_major": 2,
    "version_minor": 0
   }
  }
 },
 "nbformat": 4,
 "nbformat_minor": 5
}
