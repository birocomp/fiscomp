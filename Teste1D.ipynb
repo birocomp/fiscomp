{
 "cells": [
  {
   "cell_type": "code",
   "execution_count": 1,
   "id": "dcdb271d",
   "metadata": {
    "tags": []
   },
   "outputs": [
    {
     "data": {
      "application/vnd.jupyter.widget-view+json": {
       "model_id": "594f9fe57dd64bdabd28f6ab03bce75b",
       "version_major": 2,
       "version_minor": 0
      },
      "text/plain": [
       "Tab(children=(VBox(children=(Accordion(children=(Box(children=(Button(description='Poço Infinito', style=Butto…"
      ]
     },
     "metadata": {},
     "output_type": "display_data"
    }
   ],
   "source": [
    "import numpy as np\n",
    "import scipy.sparse as sparse\n",
    "import matplotlib.pyplot as plt\n",
    "from numba import jit\n",
    "import ipywidgets as wid\n",
    "from ipywidgets import interactive,fixed, interactive_output\n",
    "\n",
    "RY=13.60566 #x*RY: Rydberg -> ev\n",
    "ang=1.88972 #X/ang: raio de bohr -> angstroms\n",
    "pot_exemplos=['(2e-4)*((x)**2)','0',\n",
    "             '(1e-5)*(x**2)+(1e-7)*(x**4)',\n",
    "             '(10)*( (49.2 / (x/ang+84) )**12 - (49.2 / (x/ang+84) )**6)']\n",
    "def diagg(boo):\n",
    "    global x,psi,prob,eig,V,L,N\n",
    "    DIAG.description='Diagonalizando...'\n",
    "    \n",
    "    @jit\n",
    "    def diagH(H,V):\n",
    "        H=H+V\n",
    "        eig, psi=np.linalg.eigh(H) #Resolve o sistema e atribui-se: eig=autovalores, psi=autovetores\n",
    "        prob=np.abs(psi)**2 #Atribui a densidade de probabilidade |Psi|² a variável prob\n",
    "        return H,V,psi,prob,eig\n",
    "    \n",
    "    N=x.size #Armazena o tamanho do vetor posição e o comprimento do espaço que ele representa\n",
    "    a=- 1/(dx**2) #Define 'a' por conveniência\n",
    "    H=sparse.diags([a,-2*a,a],[-1,0,1],shape=(N,N),dtype=np.complex128).toarray() #Cria a matriz Hamiltoniano\n",
    "    H,V,psi,prob,eig=diagH(H,V)\n",
    "    \n",
    "    V=np.diag(V)\n",
    "    PLOT.children[8].disabled=False\n",
    "    PLOT.children[8].description=('Plotar')\n",
    "    DIAG.disabled=True\n",
    "    DIAG.description='Diagonalizado!'\n",
    "    tab.selected_index=1\n",
    "    \n",
    "def syst(xx,N,potV):   \n",
    "    global x,dx,V,Vlim\n",
    "    def vetores(xx,N):\n",
    "        xmin,xmax=xx\n",
    "        x,dx=np.linspace(xmin*ang,xmax*ang, N, \n",
    "                         retstep=True,dtype=np.float64) #Define o vetor posição (raio de bohr)\n",
    "        return x,dx,xmin,xmax\n",
    "    \n",
    "    def pot(N,pot):\n",
    "        V=np.ones(shape=(N))\n",
    "        V=V*eval(pot)/RY\n",
    "        V=np.diag(V)\n",
    "        return V\n",
    "    \n",
    "    x, dx, xmin, xmax=vetores(xx,N)\n",
    "    V=pot(N,potV)\n",
    "    \n",
    "    xmin, xmax= x.min()/ang, x.max()/ang\n",
    "    L=xmax-xmin\n",
    "    Vlim=[V.min()*RY, V.max()*RY]\n",
    "    info.children[1].value=f\"{dx/ang: .2f}\"\n",
    "    info.children[3].value=f\"{L: .2f}\"\n",
    "    info.children[5].value=f\"[{Vlim[0]:.5f} , {Vlim[1]:.5f}]\"\n",
    "    info.children[7].value=SYST.children[2].value\n",
    "    info.children[9].value=f\"{SYST.children[1].value: 1d}\"\n",
    "    \n",
    "    fig1, ax1= plt.subplots(figsize=(12,8))\n",
    "    ax1.set_xlabel('$x (\\AA)$')\n",
    "    ax1.set_ylabel('Potencial (eV)')  \n",
    "    \n",
    "    plt.plot(x/ang,np.diag(V)*RY,'r-',label='$V(x)$')    \n",
    "    plt.axhline(Vlim[0], xmin, xmax,color='r',ls='--',label='limites de $V(x)$')\n",
    "    plt.axhline(Vlim[1], xmin, xmax,color='r',ls='--')\n",
    "    plt.axvline(x=x.min()/ang,color='k',ls='--',label='limites de $x$')\n",
    "    plt.axvline(x=x.max()/ang,color='k',ls='--',)\n",
    "    plt.setp(ax1, xticks=[xmin, xmax], yticks=Vlim)\n",
    "    leg=plt.legend(loc='upper right')\n",
    "    \n",
    "    DIAG.disabled=False\n",
    "    DIAG.description='Diagonalizar'\n",
    "    PLOT.children[8].disabled=True\n",
    "    PLOT.children[8].description=('Diagonalize...')\n",
    "    INFO.selected_index=0\n",
    "    return V,x,dx,xmin,xmax\n",
    "    \n",
    "def plotall(NES,limx,wav,xs,ys,dpi,limy,autolim):\n",
    "    fig, ax = plt.subplots(figsize=(xs,ys), dpi=dpi)\n",
    "    nmin,nmax = NES\n",
    "    En=eig*RY\n",
    "    #elim=(En.min(), En.max())###########\n",
    "    ax.set_xlim([x.min()/ang-limx, x.max()/ang +limx])\n",
    "    ax.set_xlabel('$x (\\AA)$')\n",
    "    ax.set_ylabel('Auto energias (eV)')\n",
    "    plt.title(f\"$\\Delta x$ = {dx/ang:.2f}, Ordem da matriz = {N} x {N}\")\n",
    "    probb=norm(prob,nmin,nmax,En,1)\n",
    "    if wav==1:\n",
    "        for i in range(nmax,nmin-1,-1):\n",
    "            fig=plt.plot(x/ang,probb[:,i]+En[i], \n",
    "                         label=f'$E_{{{i}}}={En[i]:.5f}$ eV')\n",
    "    elif wav==2:\n",
    "        for i in range(nmax,nmin-1,-1):\n",
    "            fig=plt.plot(x/ang,np.real(psi[:,i])+En[i], \n",
    "                         label=f'$E_{{{i}}}={En[i]:.5f}$ eV')\n",
    "    elif wav==3:\n",
    "        for i in range(nmax,nmin-1,-1):\n",
    "            fig=plt.plot(x/ang,np.imag(psi[:,i])+En[i], \n",
    "                         label=f'$E_{{{i}}}={En[i]:.5f}$ eV')\n",
    "    if autolim==False:\n",
    "        ax.set_ylim(limy)\n",
    "        \n",
    "    fig=plt.axvline(x=x.min()/ang,color='k',ls='--')\n",
    "    fig=plt.axvline(x=x.max()/ang,color='k',ls='--')\n",
    "    fig=plt.plot(x/ang,V*RY,'k',label='V($x$)')\n",
    "    leg=plt.legend(loc='upper right')\n",
    "    \n",
    "    plt.show()\n",
    "\n",
    "@jit\n",
    "def norm(prob,nmin,nmax,En,wav):\n",
    "    mmax=np.zeros(nmax+2)\n",
    "    if wav==1:\n",
    "        for i in range(0,nmax+2):\n",
    "            mmax[i]=(En[i+1]-En[i])*0.9\n",
    "        for i in range(0,nmax+2):\n",
    "            prob[:,i]=prob[:,i]*np.abs(mmax[i]/prob[:,i].max())\n",
    "    else:\n",
    "        for i in range(1,nmax+2):\n",
    "            mmax[i]=(prob[:,i+1].min()-prob[:,i-1].max() \\\n",
    "                    /(prob[:,i].max()-prob[:,i].min()))\n",
    "        for i in range(1,nmax+2):\n",
    "            prob[:,i-1]=prob[:,i-1]*np.abs(mmax[i]*0.9)\n",
    "    return prob\n",
    "\n",
    "def potlist(bo):\n",
    "    b=bo.description\n",
    "    if b=='Oscilador Harmônico':\n",
    "        SYST.children[2].value=pot_exemplos[0]\n",
    "    elif b=='Poço Infinito':\n",
    "        SYST.children[2].value=pot_exemplos[1]\n",
    "    elif b=='Oscilador Duffing Holmes':\n",
    "        SYST.children[2].value=pot_exemplos[2]\n",
    "    elif b=='Lennard Jones':\n",
    "        SYST.children[2].value=pot_exemplos[3]\n",
    "    SYST.children[0].value=[-35,35]\n",
    "    SYST.children[3].click()\n",
    "    \n",
    "################################STYLES/LAYOUT###############################\n",
    "lslider=wid.Layout(width='90%', display='flex')\n",
    "sty = {'description_width': 'initial'}\n",
    "\n",
    "\n",
    "################################INTERACTIVES################################\n",
    "SYST=interactive(syst, {'manual': True}, \n",
    "                    xx=wid.FloatRangeSlider(\n",
    "                        value=[-35.0, 35.0],\n",
    "                        min=-150.0,\n",
    "                        max=150.0,\n",
    "                        step=1,\n",
    "                        continuous_update=False,\n",
    "                        orientation='horizontal',\n",
    "                        readout_format='1d',\n",
    "                        layout=lslider,\n",
    "                        description=('Domínio de $\\Psi(x)$: '),\n",
    "                        style=sty),\n",
    "                    N=wid.IntSlider(value=550,\n",
    "                        min=50,\n",
    "                        max=1050,\n",
    "                        step=10,\n",
    "                        continuous_update=False, \n",
    "                        layout=lslider,\n",
    "                        description=('Número de pontos: '),\n",
    "                        style=sty),\n",
    "                    potV=wid.Text(description='Expressão de $V(x)$: ',\n",
    "                        value=\"0\",\n",
    "                        placeholder='Escreva a expressão aqui.',\n",
    "                        style=sty,\n",
    "                        layout=lslider))\n",
    "\n",
    "PLOT=interactive(plotall, {'manual': True},\n",
    "                    NES=wid.IntRangeSlider(\n",
    "                        value=[0, 6],\n",
    "                        min=0,\n",
    "                        max=20,\n",
    "                        step=1,\n",
    "                        description='Plotar estados:',\n",
    "                        continuous_update=False,\n",
    "                        orientation='horizontal',\n",
    "                        layout=lslider,\n",
    "                        style=sty),\n",
    "                    limx=wid.IntSlider(\n",
    "                        value=10,\n",
    "                        min=0,\n",
    "                        max=100,\n",
    "                        step=1,\n",
    "                        description='Margens horizontais  (angstroms):   ',\n",
    "                        continuous_update=False,\n",
    "                        layout=lslider,\n",
    "                        style=sty),\n",
    "                    wav=wid.Dropdown(\n",
    "                        options=[('densidades de probabilidades',1),\n",
    "                                 ('funções de onda (parte real, +)',2),\n",
    "                                 ('funções de onda (parte imaginária)',3)],\n",
    "                        value=1,\n",
    "                        description='Plotar as',\n",
    "                        style=sty),\n",
    "                    xs=wid.IntSlider(value=9,\n",
    "                        min=0,\n",
    "                        max=20,\n",
    "                        step=1,\n",
    "                        description='Largura da imagem (polegadas):',\n",
    "                        style=sty,\n",
    "                        layout=lslider),\n",
    "                    ys=wid.IntSlider(value=9,\n",
    "                        min=0,\n",
    "                        max=20,\n",
    "                        step=1,\n",
    "                        description='Altura da imagem (polegadas): ',\n",
    "                        style=sty,\n",
    "                        layout=lslider),\n",
    "                    dpi=wid.IntSlider(value=80,\n",
    "                        min=10,\n",
    "                        max=300,\n",
    "                        step=1,\n",
    "                        description='Pixels por polegada:',\n",
    "                        style=sty,layout=lslider),\n",
    "                    limy=wid.FloatRangeSlider(value=[0.,5.],\n",
    "                        min=-25.,\n",
    "                        max=25.,\n",
    "                        step=0.05,\n",
    "                        description='Limites do eixo y (angstroms):',\n",
    "                        orientation='horizontal',\n",
    "                        readout_format='.1f',\n",
    "                        layout=lslider,\n",
    "                        style=sty),\n",
    "                    autolim=wid.Checkbox(\n",
    "                        value=True,\n",
    "                        description='Auto limitar eixo y',\n",
    "                        style=sty))\n",
    "\n",
    "################################GRIDS################################\n",
    "items = [wid.Label('Passo $\\Delta x $ (angstroms) ='), wid.Label('dx'), \n",
    "        wid.Label('Largura do domínio (angstroms) ='), wid.Label('L'),\n",
    "        wid.Label('V(x)[min,max] (eV) ='), wid.Label('[V_min,V_max]'),\n",
    "        wid.Label('Expressão V(x) ='), wid.Label(''),\n",
    "        wid.Label('Número de pontos ='), wid.Label('')]\n",
    "info=wid.GridBox(items, layout=wid.Layout(grid_template_columns=\"repeat(2, 250px)\"))\n",
    "\n",
    "################################BOTOES################################\n",
    "DIAG=wid.Button(description='Diagonalizar',disabled=True)\n",
    "OHS=wid.Button(description='Oscilador Harmônico')\n",
    "POCO=wid.Button(description='Poço Infinito')\n",
    "DUFHOLMES=wid.Button(description='Oscilador Duffing Holmes', style=sty)\n",
    "LENJON=wid.Button(description='Lennard Jones', style=sty)\n",
    "\n",
    "################################ON_EVENTS###############################\n",
    "DIAG.on_click(diagg)\n",
    "OHS.on_click(potlist)\n",
    "POCO.on_click(potlist)\n",
    "DUFHOLMES.on_click(potlist)\n",
    "LENJON.on_click(potlist)\n",
    "\n",
    "################################BOXES###############################\n",
    "POTSBUT=wid.Box([POCO,OHS,DUFHOLMES,LENJON])\n",
    "POTLIST=wid.Accordion([POTSBUT])\n",
    "INFODIAG=wid.VBox([info,DIAG])\n",
    "INFO=wid.Accordion([INFODIAG])\n",
    "POTLIST.set_title(0,'Potenciais pré definidos')\n",
    "INFO.set_title(0,'Diagonalizar/Informações')\n",
    "SYSTBOX=wid.VBox([POTLIST,SYST,INFO])\n",
    "\n",
    "################################UI################################\n",
    "SYST.children[3].description=('Gerar')\n",
    "PLOT.children[8].description=('Plotar')\n",
    "PLOT.children[8].disabled=True\n",
    "INFO.selected_index=None\n",
    "################################TABS################################\n",
    "tab=wid.Tab(children=[SYSTBOX,PLOT])\n",
    "tab.set_title(0, 'Gerar o Sistema')\n",
    "tab.set_title(1, 'Funções de Onda')\n",
    "display(tab)"
   ]
  },
  {
   "cell_type": "markdown",
   "id": "4081ff1f-1d23-4bc7-a822-8a227cc31130",
   "metadata": {},
   "source": [
    "<details><summary>Como usar</summary>\n",
    "\n",
    "\n",
    "Esse aplicativo web é divido em 3 partes:\n",
    "1. **Gerar o seu sistema:** Isso pode ser feito após entrar as informações do domínio da função de onda $\\Psi(x)$, o número de pontos utilizados para representá-la, a forma do Potencial $V(x)$ e clicar em 'Gerar'.\n",
    "    * Após isso, uma figura com o sistema escolhido será mostrada.\n",
    "    * **Observação: Existem potenciais $V(x)$ pré definidos dentro do menu 'Potenciais pré definidos'. Se escolher uma opção pré definida, o domínio e o número de pontos serão selecionados automaticamente e, em seguida, o botão 'Gerar' será clicado.**\n",
    "\n",
    "2. **Diagonalizar a matriz do sistema:** Após o sistema ser gerado, o menu 'Diagonalizar/Informações' exibirá uma tabela com algumas informações sobre o sistema gerado. Se estiver tudo ok, clique em 'Diagonalizar' para diagnolizar a matriz correspondente ao sistema.\n",
    "\n",
    "3. **Plotar o resultado:** Após exibida a mensagem 'Diagonalizado!' no botão 'Diagonalizar', siga para a aba 'Funções de onda', onde você poderá clicar em 'Plotar' para plotar os gráficos correspondentes das soluçṍes do sistema escolhido.\n",
    "</details>"
   ]
  },
  {
   "cell_type": "markdown",
   "id": "99896775-43e8-4631-933f-1e5bf589bf42",
   "metadata": {},
   "source": [
    "<details><summary>Modelo Matemático</summary>\n",
    "Escrevemos a equação fazendo $RY=\\hbar^2 /(2m)=1$:\n",
    "$$-\\frac{\\partial^2 \\Psi}{\\partial x^2}+V(x)=E\\Psi$$\n",
    "\n",
    "Isso fará com que estejamos no sistema de unidades atômicas de Rydberg. Discretizamos as derivadas parciais utilizando o método de diferenças finitas, fazendo a primeira derivada pela direita e a segunda pela esquerda para diminuir o erro:\n",
    "\n",
    "$$\\frac{\\partial \\Psi}{\\partial x} \\approx \\frac{\\Psi(x+\\Delta x)-\\Psi(x)}{\\Delta x}$$\n",
    "\n",
    "$$\\frac{\\partial \\Psi}{\\partial x} \\approx \\frac{\\Psi(x)-\\Psi(x-\\Delta x)}{\\Delta x}$$\n",
    "\n",
    "Utilizando a notação com índices inteiros $[\\Psi(x-\\Delta x), \\Psi(x), \\Psi(x+\\Delta x)]\\rightarrow [\\Psi_{i-1},\\Psi_i, \\Psi_{i+1}]$  e aplicando as derivadas acima, a equação original fica:\n",
    "\n",
    "$$\\frac{-\\left(\\Psi_{i-1}-2\\Psi_{i}+\\Psi_{i+1}\\right)}{\\Delta x^2}+V_i \\Psi_i=E\\Psi_i$$\n",
    "\n",
    "Definindo $a={-1}/{\\Delta x ^2}$:\n",
    "$$a\\left(\\Psi_{i-1}-2\\Psi_{i}+\\Psi_{i+1}\\right)+V_i \\Psi_i=E\\Psi_i$$\n",
    " \n",
    "Suponha um vetor $\\Psi$ contendo todos os valores discretos de uma função de onda unidimensional representada por $N$ pontos com uma indexação de que vai $i=1$ até $i=N$, ou seja:\n",
    "\n",
    "$$\\Psi=\\begin{bmatrix}\\Psi_{1}\\\\\\Psi_{2}\\\\\\Psi_3\\\\\\vdots \\\\ \\Psi_{N}\\end{bmatrix}$$\n",
    "\n",
    "Rearrajando as equações de uma forma conveniente, ficamos com o seguinte sistema:\n",
    " \n",
    "$$\\begin{matrix}\n",
    "a\\Psi_{0}&+& (V_1-2a)\\Psi_{1}&+& a\\Psi_{2}  &= & E\\Psi_1 \\\\ \n",
    "a \\Psi_{1}&+&(V_2-2a)\\Psi_{2}&+&a\\Psi_{3}& = & E\\Psi_2 \\\\ \n",
    "a \\Psi_{2}&+&(V_3-2a)\\Psi_{3}&+&a\\Psi_{4}& = & E\\Psi_3 \\\\ \n",
    "\\vdots & +& \\vdots&+& \\vdots & = &\\vdots\\\\ \n",
    "a\\Psi_{N-1}&+&(V_{N}-2a)\\Psi_{N}&+&a\\Psi_{N+1}& = & E\\Psi_{N}\n",
    "\\end{matrix}$$\n",
    "\n",
    "Note que na primeira e última equações do sistema acima, do lado esquerdo da igualdade, temos os termos $\\Psi_0$ e $\\Psi_{N+1}$, que não correspondem a nenhuma componente do nosso vetor da função de onda discreta $\\Psi$. Nós iremos utilizá-los para definir as condições de contorno (o valor da função de onda nas bordas do sistema).\n",
    "\n",
    ">## Condições de contorno\n",
    ">### Fronteiras Fixas (poço infinito)\n",
    ">Nessa condição forçamos a função de onda a ser 0 nas bordas, ou seja\n",
    ">$$\\Psi_0=\\Psi_{N+1}=0$$\n",
    ">### Condição de contorno periódica\n",
    ">Nessa condição forçamos a função de onda no último ponto a ser igual ao valor do primeiro ponto no grid. \n",
    ">$$\\Psi_0=\\Psi_{N+1}=\\Psi_{1}=\\Psi_{N}$$\n",
    "## Equação matricial\n",
    "\n",
    "Aplicando a condição de contorno do poço infinito, temos:\n",
    "$$\\begin{matrix}\n",
    "0&+& \\color{blue}{(V_1-2a)}\\Psi_{1}&+& \\color{blue}a \\Psi_{2}  &= & E\\Psi_1 \\\\ \n",
    "\\color{red}a \\Psi_{1}&+&\\color{red}{(V_2-2a)}\\Psi_{2}&+&\\color{red}a\\Psi_{3}& = & E\\Psi_2 \\\\ \n",
    "\\color{orange}a \\Psi_{2}&+&\\color{orange}{(V_3-2a)}\\Psi_{3}&+&\\color{orange}a \\Psi_{4}& = & E\\Psi_3 \\\\ \n",
    "\\vdots & +& \\vdots&+& \\vdots & = &\\vdots\\\\ \n",
    "\\color{purple}a\\Psi_{N-2}&+&\\color{purple}{(V_{N-1}-2a)} \\Psi_{N-1}& +&\\color{purple}a \\Psi_{N}&= & E\\Psi_{N-1}\\\\\n",
    "\\color{green}a\\Psi_{N-1}&+&\\color{green}{(V_{N}-2a)} \\Psi_{N}&+&0& = & E\\Psi_{N}\n",
    "\\end{matrix}$$\n",
    "\n",
    "Esse sistema pode ser reescrito como uma matriz do tipo:\n",
    "$$\\begin{bmatrix}  \\color{blue}{(V_1-2a)} & \\color{blue}a & 0  & 0 & 0 & 0\\\\\n",
    "\\color{red}a & \\color{red}{(V_2-2a)} & \\color{red}a  & 0 & 0 &0 \\\\\n",
    "0&\\color{orange}a & \\color{orange}{(V_3-2a)} &  \\color{orange}a  & 0  &0  \\\\\n",
    " 0 & 0 & \\ddots & \\ddots & \\ddots & 0 \\\\\n",
    "0& 0 & 0  & \\color{purple}a & \\color{purple}{(V_{N-1}-2a)}& \\color{purple}a\\\\\n",
    "0& 0 & 0 & 0 & \\color{green}a & \\color{green}{(V_{N}-2a)} \n",
    "\\end{bmatrix} \n",
    "\\begin{bmatrix}\\Psi_{1}\\\\\\Psi_2\\\\\\Psi_3\\\\\\vdots \\\\\\Psi_{N-1}\\\\ \\Psi_{N}\\end{bmatrix}=E\\begin{bmatrix}\\Psi_{1}\\\\\\Psi_2\\\\\\Psi_3\\\\\\vdots \\\\ \\Psi_{N-1}\\\\\\Psi_{N}\\end{bmatrix}$$\n",
    "\n",
    "Isso é equivalente a um problema de autovetores e autovalores, onde a matriz quadrada de ordem $N$ acima é o operador Hamiltoniano $\\hat{H}$:\n",
    "\n",
    "$$\\hat{H}\\Psi=E\\Psi$$\n",
    "\n",
    "Podemos diagonalizá-lo para obter os autovalores e seus respectivos autovetores. Os autovetores serão vetores $\\Psi_n$ com $N$ componentes representando as respectivas funções de ondas dos estados $n$, e os autovalores $E$ serão as energias correspondentes aos respectivos estados. \n",
    "</details>\n"
   ]
  }
 ],
 "metadata": {
  "hide_input": false,
  "kernelspec": {
   "display_name": "Python 3",
   "language": "python",
   "name": "python3"
  },
  "language_info": {
   "codemirror_mode": {
    "name": "ipython",
    "version": 3
   },
   "file_extension": ".py",
   "mimetype": "text/x-python",
   "name": "python",
   "nbconvert_exporter": "python",
   "pygments_lexer": "ipython3",
   "version": "3.9.5"
  },
  "toc": {
   "base_numbering": 1,
   "nav_menu": {},
   "number_sections": true,
   "sideBar": true,
   "skip_h1_title": false,
   "title_cell": "Table of Contents",
   "title_sidebar": "Contents",
   "toc_cell": false,
   "toc_position": {},
   "toc_section_display": true,
   "toc_window_display": false
  },
  "widgets": {
   "application/vnd.jupyter.widget-state+json": {
    "state": {
     "0018aa3f6e994ad9936c41e7a5f97df2": {
      "model_module": "@jupyter-widgets/controls",
      "model_module_version": "1.5.0",
      "model_name": "DescriptionStyleModel",
      "state": {
       "description_width": ""
      }
     },
     "00b19b7ec71c4e2e9123dfa02115a5cb": {
      "model_module": "@jupyter-widgets/controls",
      "model_module_version": "1.5.0",
      "model_name": "SliderStyleModel",
      "state": {
       "description_width": "initial"
      }
     },
     "07a6dac4e9ee43f9849473098014b85a": {
      "model_module": "@jupyter-widgets/base",
      "model_module_version": "1.2.0",
      "model_name": "LayoutModel",
      "state": {}
     },
     "0b94d53a0a3d4d8ba413157230c71f3f": {
      "model_module": "@jupyter-widgets/controls",
      "model_module_version": "1.5.0",
      "model_name": "ButtonModel",
      "state": {
       "description": "Oscilador Harmônico",
       "layout": "IPY_MODEL_6a18edfe898545a186196686df590eda",
       "style": "IPY_MODEL_287920899233445382661ecd86515b28"
      }
     },
     "0d8eb11a70dc465f9cae6c483536fd04": {
      "model_module": "@jupyter-widgets/controls",
      "model_module_version": "1.5.0",
      "model_name": "ButtonStyleModel",
      "state": {}
     },
     "0ea51b3562594087bca9e40316cd8c28": {
      "model_module": "@jupyter-widgets/base",
      "model_module_version": "1.2.0",
      "model_name": "LayoutModel",
      "state": {}
     },
     "0fe0957602804d8d99c332758d7a2222": {
      "model_module": "@jupyter-widgets/base",
      "model_module_version": "1.2.0",
      "model_name": "LayoutModel",
      "state": {}
     },
     "10926cef73724a82a20ad07b06b4b366": {
      "model_module": "@jupyter-widgets/controls",
      "model_module_version": "1.5.0",
      "model_name": "LabelModel",
      "state": {
       "layout": "IPY_MODEL_7871e15b39b94c78a6dfebde700504fd",
       "style": "IPY_MODEL_142b3589313f42efa47a066180bba03f",
       "value": "Expressão V(x) ="
      }
     },
     "10da500f6a314f62a6a1f62d7a4bc3ed": {
      "model_module": "@jupyter-widgets/controls",
      "model_module_version": "1.5.0",
      "model_name": "SliderStyleModel",
      "state": {
       "description_width": "initial"
      }
     },
     "11c25266840b4e0aae87e41367187e4e": {
      "model_module": "@jupyter-widgets/controls",
      "model_module_version": "1.5.0",
      "model_name": "DescriptionStyleModel",
      "state": {
       "description_width": ""
      }
     },
     "12c836462acd426180425ae2b239ac9f": {
      "model_module": "@jupyter-widgets/controls",
      "model_module_version": "1.5.0",
      "model_name": "DescriptionStyleModel",
      "state": {
       "description_width": ""
      }
     },
     "142b3589313f42efa47a066180bba03f": {
      "model_module": "@jupyter-widgets/controls",
      "model_module_version": "1.5.0",
      "model_name": "DescriptionStyleModel",
      "state": {
       "description_width": ""
      }
     },
     "18ac8913df45481eaee47161fc1d5501": {
      "model_module": "@jupyter-widgets/base",
      "model_module_version": "1.2.0",
      "model_name": "LayoutModel",
      "state": {}
     },
     "223134c4793a4b37bd65e144e78ddbe4": {
      "model_module": "@jupyter-widgets/controls",
      "model_module_version": "1.5.0",
      "model_name": "ButtonModel",
      "state": {
       "description": "Oscilador Duffing Holmes",
       "layout": "IPY_MODEL_6a45d4560d194e09bf1c6fce5fc84c5a",
       "style": "IPY_MODEL_b0e8cea87b6f45e5a24d0fb23698ad35"
      }
     },
     "22c4659fe9ad4a67a63de21702fbc3b3": {
      "model_module": "@jupyter-widgets/controls",
      "model_module_version": "1.5.0",
      "model_name": "IntRangeSliderModel",
      "state": {
       "_model_name": "IntRangeSliderModel",
       "_view_name": "IntRangeSliderView",
       "continuous_update": false,
       "description": "Plotar estados:",
       "layout": "IPY_MODEL_898cac14b0d749f9bf10936f8db89d0e",
       "max": 20,
       "style": "IPY_MODEL_70ffedc511654f8483263729895806ec",
       "value": [
        0,
        6
       ]
      }
     },
     "22de212a02834634bb8399f6e23cc137": {
      "model_module": "@jupyter-widgets/controls",
      "model_module_version": "1.5.0",
      "model_name": "SliderStyleModel",
      "state": {
       "description_width": "initial"
      }
     },
     "22ebe8250c7a4810917fc9661ed6c1b6": {
      "model_module": "@jupyter-widgets/base",
      "model_module_version": "1.2.0",
      "model_name": "LayoutModel",
      "state": {}
     },
     "22ee91d38d654405822bc6fef4b1185b": {
      "model_module": "@jupyter-widgets/controls",
      "model_module_version": "1.5.0",
      "model_name": "IntSliderModel",
      "state": {
       "continuous_update": false,
       "description": "Margens horizontais  (angstroms):   ",
       "layout": "IPY_MODEL_898cac14b0d749f9bf10936f8db89d0e",
       "style": "IPY_MODEL_f2f6afc86d2640a69ceff33abe3dde35",
       "value": 10
      }
     },
     "25659f3d2fb94dad9cfacf52310bd43d": {
      "model_module": "@jupyter-widgets/base",
      "model_module_version": "1.2.0",
      "model_name": "LayoutModel",
      "state": {
       "grid_template_columns": "repeat(2, 250px)"
      }
     },
     "287920899233445382661ecd86515b28": {
      "model_module": "@jupyter-widgets/controls",
      "model_module_version": "1.5.0",
      "model_name": "ButtonStyleModel",
      "state": {}
     },
     "2978ca390b504965863374c8449b05d9": {
      "model_module": "@jupyter-widgets/base",
      "model_module_version": "1.2.0",
      "model_name": "LayoutModel",
      "state": {}
     },
     "2c807e1d145f4ff695f34a0b448e5498": {
      "model_module": "@jupyter-widgets/controls",
      "model_module_version": "1.5.0",
      "model_name": "ButtonStyleModel",
      "state": {}
     },
     "2f593e5603ec4376975e652c6ecdc8ad": {
      "model_module": "@jupyter-widgets/base",
      "model_module_version": "1.2.0",
      "model_name": "LayoutModel",
      "state": {}
     },
     "302fda239ab44681b4d7e29d202e60a6": {
      "model_module": "@jupyter-widgets/controls",
      "model_module_version": "1.5.0",
      "model_name": "SliderStyleModel",
      "state": {
       "description_width": "initial"
      }
     },
     "350dc6886add4894bf4dd029c0aa8cfc": {
      "model_module": "@jupyter-widgets/base",
      "model_module_version": "1.2.0",
      "model_name": "LayoutModel",
      "state": {}
     },
     "3548bcd5f1ca46c4b39df2cc6e421259": {
      "model_module": "@jupyter-widgets/controls",
      "model_module_version": "1.5.0",
      "model_name": "LabelModel",
      "state": {
       "layout": "IPY_MODEL_de530a3f56e74665a3583af962926aee",
       "style": "IPY_MODEL_89563908853c4754b4a9986742f5cc13",
       "value": "(2e-4)*((x)**2)"
      }
     },
     "36ba93f9e35a4a0eaa018eb67fc03436": {
      "model_module": "@jupyter-widgets/base",
      "model_module_version": "1.2.0",
      "model_name": "LayoutModel",
      "state": {}
     },
     "3808f592e68d461ca7259c324f418393": {
      "model_module": "@jupyter-widgets/output",
      "model_module_version": "1.0.0",
      "model_name": "OutputModel",
      "state": {
       "layout": "IPY_MODEL_f5369883c1b04d889d550ab2ee9aa494"
      }
     },
     "388ee147e0c0444eb7268878f4ad691f": {
      "model_module": "@jupyter-widgets/controls",
      "model_module_version": "1.5.0",
      "model_name": "DescriptionStyleModel",
      "state": {
       "description_width": ""
      }
     },
     "402fc2f5b1d0427d862a9620087d4b31": {
      "model_module": "@jupyter-widgets/controls",
      "model_module_version": "1.5.0",
      "model_name": "LabelModel",
      "state": {
       "layout": "IPY_MODEL_0ea51b3562594087bca9e40316cd8c28",
       "style": "IPY_MODEL_9c58fdfdd1b345d9bc81a1c9ad7e67b2",
       "value": "Largura do domínio (angstroms) ="
      }
     },
     "43477202b0314533a9b260e3da75d7ee": {
      "model_module": "@jupyter-widgets/controls",
      "model_module_version": "1.5.0",
      "model_name": "LabelModel",
      "state": {
       "layout": "IPY_MODEL_a07bd2b5532640c0beca38aa26e8f3c6",
       "style": "IPY_MODEL_388ee147e0c0444eb7268878f4ad691f",
       "value": "V(x)[min,max] (eV) ="
      }
     },
     "43b2c87f61354cb79c736b0d948423ba": {
      "model_module": "@jupyter-widgets/controls",
      "model_module_version": "1.5.0",
      "model_name": "IntSliderModel",
      "state": {
       "description": "Altura da imagem (polegadas): ",
       "layout": "IPY_MODEL_898cac14b0d749f9bf10936f8db89d0e",
       "max": 20,
       "style": "IPY_MODEL_7c22146fc746407ca440cca83f611e4c",
       "value": 9
      }
     },
     "478e0817fa014b68a259fdb2b8a5ec4f": {
      "model_module": "@jupyter-widgets/controls",
      "model_module_version": "1.5.0",
      "model_name": "ButtonModel",
      "state": {
       "description": "Plotar",
       "layout": "IPY_MODEL_350dc6886add4894bf4dd029c0aa8cfc",
       "style": "IPY_MODEL_2c807e1d145f4ff695f34a0b448e5498"
      }
     },
     "4a4b78be83b14a2dadd52be664bf9489": {
      "model_module": "@jupyter-widgets/controls",
      "model_module_version": "1.5.0",
      "model_name": "VBoxModel",
      "state": {
       "_dom_classes": [
        "widget-interact"
       ],
       "children": [
        "IPY_MODEL_4c3b3bebbad24014b1ef830920027951",
        "IPY_MODEL_4bf7d1f7a5ac4f8998bd2e40d76d8255",
        "IPY_MODEL_cfccd3ade0f8462ebb7fed12f7bbae54",
        "IPY_MODEL_77f2a35ac312465b8fbe993c1083acf2",
        "IPY_MODEL_5c4be6c52c454993a55e8908d132c71e"
       ],
       "layout": "IPY_MODEL_75115999fc654a72bfcc260fa07daa78"
      }
     },
     "4bf7d1f7a5ac4f8998bd2e40d76d8255": {
      "model_module": "@jupyter-widgets/controls",
      "model_module_version": "1.5.0",
      "model_name": "IntSliderModel",
      "state": {
       "continuous_update": false,
       "description": "Número de pontos: ",
       "layout": "IPY_MODEL_898cac14b0d749f9bf10936f8db89d0e",
       "max": 1050,
       "min": 50,
       "step": 10,
       "style": "IPY_MODEL_00b19b7ec71c4e2e9123dfa02115a5cb",
       "value": 550
      }
     },
     "4c3b3bebbad24014b1ef830920027951": {
      "model_module": "@jupyter-widgets/controls",
      "model_module_version": "1.5.0",
      "model_name": "FloatRangeSliderModel",
      "state": {
       "_model_name": "FloatRangeSliderModel",
       "_view_name": "FloatRangeSliderView",
       "continuous_update": false,
       "description": "Domínio de $\\Psi(x)$: ",
       "layout": "IPY_MODEL_898cac14b0d749f9bf10936f8db89d0e",
       "max": 150,
       "min": -150,
       "readout_format": "1d",
       "style": "IPY_MODEL_4f7dd07bd1084f948a9dcbe51904c57f",
       "value": [
        -35,
        35
       ]
      }
     },
     "4e4d32b4aa994b3790d1cb32b63b345f": {
      "model_module": "@jupyter-widgets/controls",
      "model_module_version": "1.5.0",
      "model_name": "ButtonModel",
      "state": {
       "description": "Poço Infinito",
       "layout": "IPY_MODEL_571be3be08e647b3a4cd28ee9ca59fe2",
       "style": "IPY_MODEL_0d8eb11a70dc465f9cae6c483536fd04"
      }
     },
     "4f7dd07bd1084f948a9dcbe51904c57f": {
      "model_module": "@jupyter-widgets/controls",
      "model_module_version": "1.5.0",
      "model_name": "SliderStyleModel",
      "state": {
       "description_width": "initial"
      }
     },
     "52fefe92aa9b440ca9974e58361d0aee": {
      "model_module": "@jupyter-widgets/controls",
      "model_module_version": "1.5.0",
      "model_name": "DropdownModel",
      "state": {
       "_options_labels": [
        "densidades de probabilidades",
        "funções de onda (parte real, +)",
        "funções de onda (parte imaginária)"
       ],
       "description": "Plotar as",
       "index": 0,
       "layout": "IPY_MODEL_36ba93f9e35a4a0eaa018eb67fc03436",
       "style": "IPY_MODEL_94c512f80b8c45139182be216b4db51f"
      }
     },
     "5568f3480cd2461bbe4a1757810799f3": {
      "model_module": "@jupyter-widgets/base",
      "model_module_version": "1.2.0",
      "model_name": "LayoutModel",
      "state": {}
     },
     "56e5037d8aa24c8a9b9439c8ee83f3a3": {
      "model_module": "@jupyter-widgets/controls",
      "model_module_version": "1.5.0",
      "model_name": "GridBoxModel",
      "state": {
       "children": [
        "IPY_MODEL_b76248910bed44818dbc8410e4cf36cb",
        "IPY_MODEL_c75ff9e50a9449e8ba042fbc49bed472",
        "IPY_MODEL_402fc2f5b1d0427d862a9620087d4b31",
        "IPY_MODEL_e37c0a6dd6d94b02873bbc6e074b1fae",
        "IPY_MODEL_43477202b0314533a9b260e3da75d7ee",
        "IPY_MODEL_5f5200703e9a474193f4ece74dae8b4f",
        "IPY_MODEL_10926cef73724a82a20ad07b06b4b366",
        "IPY_MODEL_3548bcd5f1ca46c4b39df2cc6e421259",
        "IPY_MODEL_a15d5903046b4937a2ff5b7aeceb1703",
        "IPY_MODEL_ca2b2af0d3f24620814770d8e4153dce"
       ],
       "layout": "IPY_MODEL_25659f3d2fb94dad9cfacf52310bd43d"
      }
     },
     "571be3be08e647b3a4cd28ee9ca59fe2": {
      "model_module": "@jupyter-widgets/base",
      "model_module_version": "1.2.0",
      "model_name": "LayoutModel",
      "state": {}
     },
     "57676a20188a44f5842451f061110d1d": {
      "model_module": "@jupyter-widgets/base",
      "model_module_version": "1.2.0",
      "model_name": "LayoutModel",
      "state": {}
     },
     "594f9fe57dd64bdabd28f6ab03bce75b": {
      "model_module": "@jupyter-widgets/controls",
      "model_module_version": "1.5.0",
      "model_name": "TabModel",
      "state": {
       "_titles": {
        "0": "Gerar o Sistema",
        "1": "Funções de Onda"
       },
       "children": [
        "IPY_MODEL_ff9557f229ed4ab785b969615d841c75",
        "IPY_MODEL_bc4720206cf040faa1f3f87a2c2dfd0e"
       ],
       "layout": "IPY_MODEL_b77128ba5d644ced9e4fc6fc7a5cde3c"
      }
     },
     "5ac08b00229641c38652e50ba65be8c7": {
      "model_module": "@jupyter-widgets/base",
      "model_module_version": "1.2.0",
      "model_name": "LayoutModel",
      "state": {}
     },
     "5c102932acf0497eac938d7342366803": {
      "model_module": "@jupyter-widgets/controls",
      "model_module_version": "1.5.0",
      "model_name": "IntSliderModel",
      "state": {
       "description": "Largura da imagem (polegadas):",
       "layout": "IPY_MODEL_898cac14b0d749f9bf10936f8db89d0e",
       "max": 20,
       "style": "IPY_MODEL_302fda239ab44681b4d7e29d202e60a6",
       "value": 9
      }
     },
     "5c4be6c52c454993a55e8908d132c71e": {
      "model_module": "@jupyter-widgets/output",
      "model_module_version": "1.0.0",
      "model_name": "OutputModel",
      "state": {
       "layout": "IPY_MODEL_d861c6795fc84e678f55acd2193278f6",
       "outputs": [
        {
         "data": {
          "image/png": "iVBORw0KGgoAAAANSUhEUgAAAt0AAAHlCAYAAAAp9kCvAAAAOXRFWHRTb2Z0d2FyZQBNYXRwbG90bGliIHZlcnNpb24zLjQuMiwgaHR0cHM6Ly9tYXRwbG90bGliLm9yZy8rg+JYAAAACXBIWXMAAAsTAAALEwEAmpwYAABb60lEQVR4nO3deZzNZf/H8ddl7FsLSaJoIaEk5UaJaFFaRKqbSiVbt1JIQhGhQouslZR0R1osaePXtNzctpo7ZMkaqTRkH9u4fn9cQ5ZhBud7ru855/18POZh5nzP+Z63mTPnfOY61/W5jLUWEREREREJTg7fAURERERE4p2KbhERERGRgKnoFhEREREJmIpuEREREZGAqegWEREREQmYim4RERERkYDl9B0gGooWLWpLly4d1ftcsWIFAGXKlInq/YqIiIgkMp812Ny5c1Ottadldiwhiu7SpUszZ86cqN5n7dq1AUhOTo7q/YqIiIgkMp81mDFm1ZGOaXqJiIiIiEjAVHSLiIiIiARMRbeIiIiISMASYk63D9WrV/cdQURERGLA7t27WbNmDTt27PAdJS706dMHgIULFwZ2H3nz5qVkyZLkypUr27cx1trAAoVF1apVbbQXUoqIiIhkx4oVKyhUqBBFihTBGOM7jmTBWsv69evZsmXLYR1SjDFzrbVVM7udppeIiIiIeLRjxw4V3DHEGEORIkWO+Z0JFd0BadSoEY0aNfIdQ0RERGKACu7IWbp0KUuXLg30Po7n56U53QFZv3697wgiIiIiCSc9Pd13hExppFtEREREJGAqukVEREQS3LJly6hUqdJBl+3cuZMyZcqwYMECrrrqqqOOIO/atYtatWqxZ8+eoKPGLBXdIiIiIgmuTJkyrFmzhr179+6/bMSIEdSqVYvk5GRuu+02kpKSjnj73LlzU7duXcaOHRuNuDFJRXdA6tatS926dX3HEBEREclSjhw5OOuss1i5ciUAaWlpDBgwgJ49ezJmzBhuueWW/detU6cOX375JQDdunWjXbt2ANx6662MGTMm6tkPVahQIQoVKuQ7xmG0kDIg3bt39x1BREREYk379pCSEtlzVq4ML72U5dXKly/PokWLOOeccxg8eDA33XQTJUqUYPny5ZQuXXr/9Xr27MlTTz3FunXr+OGHH5g4cSIAFStWZPbs2ZHNfhxKlCjhO0KmVHSLiIiICOXLl2fx4sXUqlWLV199lZkzZ5KamsrJJ5980PVq1aqFtZaBAweSnJy8f9pJUlISuXPnZsuWLaEcafYt0KLbGHM98DKQBLxure13yPGzgLeAkzOu84S1dooxpinQ6YCrXgRUsdamGGOSgTOAtIxj11pr1wX5/zge9evXB+DTTz/1nERERERiRjZGpINSvnx5pk2bxssvv0zTpk05/fTT+euvvw7bBGbevHn89ttvFClS5LDieufOneTNmzeasQ+zZMkSAMqWLes1x6ECm9NtjEkCBgP1gQuBu4wxFx5ytW7AOGvtJcCdwBAAa+0Ya21la21l4G5ghbU25YDbNd13PIwFN7i5UGlpaVlfUURERCQEypcvz6xZsxg5ciSdOrmxz1NOOYX09PT9hfdvv/1G06ZNmTBhAgULFuSzzz7bf/v169dTtGhRcuXK5SX/PtZarLVeM2QmyIWUlwNLrbXLrbW7gPeAWw65jgUKZ3x+ErA2k/PclXHb2LNzp+8EIiIiItlStmxZ5s2bR8uWLQ+aUnLttdfy3XffsX37dm677TYGDBhA+fLl6d69Oz179tx/va+++oobb7zRQ/JDHNCBJUyCnF5yJrD6gK/XANUOuU4P4AtjTDugAFAvk/PcweHF+pvGmHTgA6C3zerPmcWLoXZt9/nw4VCuHEyaBAMGHH7d0aOhVCkYOxaGDj38+PjxULQojBrlPg41ZQrkzw9z58K2bX/f7z7Jye7f/v1h8uSDj+XLB/umo/TqBdOmHXy8SBH44AP3eZcuMGPGwcdLloR33nGfZ7YQo2xZGDHCfd6yJWS8/bLfgQstmjWDNWsOPl69OvTt6z5v1AgO3XWzbl3Yt4C0fn04dKS/QQPo2NF9fuj3BaBJE2jbFrZvhxtuOPx48+buIzUVGjc+/HibNnDHHbB6Ndx99+HHO3SAm25yj4dWrQ4/3q0b1Kvnvm/t2x9+vE8fqFEDpk+HJ588/PhLL7nv4dSp0Lv34cej9dgbMgTGjTv8uB577nM99g4/rsee+1yPvcOP67HnPg/6sZea6n5GBypQwN0HwNKlcGiP7EKFYN+CwSVL4NBS6KSToHhx9/mh5wY45RQoVsydN2PL9DzAngUL/s5UtCjs3s1DN97Ii4MGUa9UKWbs+zls2ECtWrWY8fXX+8//7ogR9HvsMff16afDySfDjh2watXh93/GGVC4sHvsr159+PEzz4SCBWHrVvj118OPlyrlfvabN8Nvvx18bNs2yJlR4m7cCH/8cfjty5SB3Llhwwb488/Dj59zDuTK5b4Pme0yft557t8jPfYy4btl4F3AKGttSeAGYLQxZn8mY0w1YLu1dv4Bt2lqra0EXJnxkcmzDBhjWhpj5hhj5uzevTu4/8GRFCjgfgE2boz+fYuIiIhESJUKFahTrVqWm+PcWrcuZcuUiWKyTOzbnOcoPcV9MUHNeTHGVAd6WGuvy/i6C4C1tu8B11kAXG+tXZ3x9XLgH/vmaRtjXgT+tNb2OcJ9NAeqWmv/dbQsVatWtXPmzDnx/9Qx6N+3LzzzDB0bNoR3343qfYuIiEjsWLhwIeXLl/cdIz4sX87vf/0FJUpQ/IwzAr2rzH5uxpi51tqqmV0/yOkls4HzjTFlgF9xCyX/ech1fgHqAqOMMeWBvMCfABkj3k1wo9lkXJYTONlam2qMyQU0AKYG+H84bh27dIG1a91bS+vXu7epRERERCQYe/bAX39R/LTT3PSVkAlseom1dg/wL+BzYCGuS8kCY8wzxpibM67WAXjQGPM/4N9A8wPmZ9cCVltrlx9w2jzA58aYH4EUXDH/WlD/hxPWogXs2gUh2J1JREREJK5t2OCm9hYt6jtJpgKbXhImPqaX1M5YMJO8bZtbRPDjj2BMVDOIiIhI+Gl6SQRYCz/9BMawOGM+d7ly5QK9y2OdXuJ7IWX8a9EC5s+HEGyLKiIiIhKXtm933YNCOsoNKrqDd9ddrqXN66/7TiIiIiISn1JT3YyCU0/1neSIVHQHrXBh14f13/92vSZFREREJHLS09187lNO+bs/dwip6I6GFi1cwZ3N5ukiIiIikk0bN7rC+7TTfCc5KhXdAWnSpAlNmjRxX9SoARdcoCkmIiIiEloFCxYEoEaNGsd823232bhxI0OGDIloLoAePXrQv3//zA+mpkKePG4HS+CUU05h06ZNVKpU6aCr7dy5kzJlyrBgwQLS0tK46qqrjrjhz65du6hVqxZ79m22EwEqugPStm1b2rZt674wxo12z5gB+7ZXFREREQmh6dOnH/dtgiq6j2jHDtiyxS2gzOgSV6xYMapWrcqaNWvYu3fv/quOGDGCWrVqUaFCBUaOHMltt91G0hF2rsydOzd169Zl7NixEYuqojsg27dvZ/v27X9fcPfdkCsXvPGGv1AiIiIiWdg34r1y5UouuOACmjdvTtmyZWnatClTp06lZs2anH/++cyaNeuw2zzxxBMsW7aMypUr06lTJ9555x0uv/xyKleuTKtWrfaPLG/bto0bb7yRiy++mIoVK2Za3D777LOULVuWK664gsWLF++//KBztmjhznnAJoTp6elYaznrrLNYuXIlAGlpaQwYMICePXsCMGbMGG655RYA6tSpw5dffglAt27daNeuHQC33norYyK410p4Z5vHuBtuuAGA5ORkd0GxYnDLLfD229C3r3sbRERERORQGXt9HKRJE2jb1rXGy6gxDtK8uftITYXGjQ8+tq8WOQ5Lly7l/fffZ+TIkVx22WW8++67fPfdd0ycOJE+ffrw8ccfH3T9fv36MX/+fFJSUli4cCGPP/44//nPf8iVKxdt27ZlzJgx3HPPPXz22WeUKFGCTz75BIBNmzYddJ65c+fy3nvvkZKSwp49e6hSpQqXXnopCxcuZOzYse6cSUm0vfNOxnzzDfdUq3ZQZoDy5cuzaNEizjnnHAYPHsxNN91E6dKl2bVrF8uXL6d06dIA9OzZk6eeeop169bxww8/MHHiRAAqVqzI7Ai2fFbRHU0tWsD48TBhgvvlEREREQmxMmXK7J8bXaFCBerWrYsxhkqVKu0fRT6SadOmMXfuXC677DLAjTYXK1YMgEqVKtGhQwc6d+5MgwYNuPLKKw+67bfffkvDhg3Jnz8/ADfffPPh50xPJ23zZoqdc06m91++fHkWL15MrVq1ePXVV5k5cyYAqampnHzyyfuvV6tWLay1DBw4kOTk5P1TTpKSksidOzdbtmyhUKFCx/Bdy5yK7miqVw/OOsstqFTRLSIiIpk52sh0/vxHP1606AmNbB8qzwHvzOfIkWP/1zly5MhykaG1lnvvvZe+ffsedqxs2bJ8//33TJkyhW7dulG3bl2eeuqpLPMcdM4lS9yc7kMWTO5Tvnx5pk2bxssvv0zTpk05/fTTAciXLx87duzYf7158+bx22+/UaRIkcOK6507d5I3b94sc2WH5nRHU1IS3H8/fPklrFjhO42IiIhIRBUqVIgtW7YAULduXcaPH8+6desA2LBhA6tWrQJg7dq15M+fn2bNmtGpUye+//77g85Tq1YtPv74Y9LS0tiyZQuTJk06+JyrV8PmzWxISmLVL79kmqV8+fLMmjWLkSNH0qlTp/2Xn3LKKaSnp7Njxw5+++03mjZtyoQJEyhYsCCfffbZ/uutX7+eokWLkitXroh8b1R0R9t997nVtW++6TuJiIiISEQVKVKEmjVrUrFiRd5880169+7Ntddey0UXXcQ111zDb7/9BrjR5X2LIXv27Em3bt0OOk+VKlW44447uPjii6lfv/7+KSoXXnihO+f113PRXXdxzd137z/nocqWLcu8efNo2bLlQdNJAK699lq++OILbrvtNgYMGED58uXp3r37/oWWAF999RU33nhjxL43xlobsZOFVdWqVe2cOXOiep+jRo0CoHnz5ocfrF8f5s2DVavc6LeIiIgkrIULF1K+fHnfMWKHtfDjj26qzfnnH3Y4NTUVgKJFix7xFN9//z0vvvgio0ePPuJ1brvtNvr160fZsmUzPZ7Zz80YM9daWzWz62tOd0AyLbb3adHCrSz+/PPMVyCLiIiISOY2bYLdu4+4A+XRiu19qlSpQp06dUhPT8+0V/euXbu49dZbj1hwHw9NLwlIamrq/r+0DnPTTe6Boh0qRURERI7Nn3+6vU9OOinTw7t372b37t1Znub+++8/6uY499xzzwnFPJSK7oA0btyYxof2ydwnd264916YNAl+/z26wURERERi1a5dbqT7gB0oD7V8+XKWL18e5WBZU9HtywMPwJ49brMcEREREcnavlkE2ZhCEjYqun254AK44gp47TW3IEBEREREjsxaV3QXLhyTO3ur6PapZUtYuhS++sp3EhEREZFw27zZTS+JwVFuUNHtV+PGcMopMHy47yQiIiIi4fbnn5AzJxzScztWqGVgQNq0aZP1lfLlg+bNYdAg+OMPyNieVEREREQOsGsXbNwIxYtDjqOPGZ92hFaCvmmkOyB33HEHd9xxR9ZXbNnSLajUDpUiIiIimVu/3v2bjaklp556KqeeemrAgY6diu6ArF69mtWrV2d9xQsugKuucgsq9+4NPpiIiIhIJgoWLAhAjRo1jvm2+26zceNGhgwZEtFcWEuPZ56h/7hxkDdvllfftWsXu3btimyGCFDRHZC7776bu+++O3tXbtUKli+HqVODDSUiIiKShenTpx/3bQIpurdsgfR0yPijICsrVqxgxYoVkc0QASq6w+C229zbJVpQKSIiIp7tG/FeuXIlF1xwAc2bN6ds2bI0bdqUqVOnUrNmTc4//3xmzZp12G2eeOIJli1bRuXKlenUqRPvvPMOl19+OZUrV6ZVq1akp6cDsG3bNm688UYuvvhiKlasyNixYw/L8eyzz1K2bFmuuPpqFv/yi1sLB0c856Hq1KnDl19+CUC3bt1o165d5L5Jx0ELKcMgTx63oPLFF+G33+CMM3wnEhEREU9q16592GVNmjShbdu2bN++nRtuuOGw482bN6d58+akpqYetiN2cnLycWdZunQp77//PiNHjuSyyy7j3Xff5bvvvmPixIn06dOHjz/++KDr9+vXj/nz55OSksLChQt5/PHH+c9//kOuXLlo27YtY8aM4Z577uGzzz6jRIkSfPLJJwBs2rTpoPPMnTuX9957j5TZs9mTkkKVe+/l0nr1WLhwIWPHjs30nIfq2bMnTz31FOvWreOHH35g4sSJx/19iAQV3WHRsiX07w8jR0LXrr7TiIiIiFCmTBkqVaoEQIUKFahbty7GGCpVqsTKlSuPettp06Yxd+5cLrvsMgDS0tIoVqwYAJUqVaJDhw507tyZBg0acOWVVx5022+//ZaGDRuSPy0NChTg5ptvzvKch6pVqxbWWgYOHEhycjJJSUnH/X2IBBXdYXH++XD11W5B5RNPgOcHhoiIiPhxtJHp/PnzH/V40aJFT2hk+1B5Dtj5MUeOHPu/zpEjB3v27Dnqba213HvvvfTt2/ewY2XLluX7779nypQpdOvWjbp16/LUU08degLXm7tgQdefO4tzHmrevHn89ttvFClShEKFCmV5/aBpTndAOnToQIcOHY7tRq1awapV8MUXwYQSERERCVChQoXYsmULAHXr1mX8+PGsW7cOgA0bNrBq1SoA1q5dS/78+WnWrBmdOnXi+++/P+g8tWrV4uOPPiJt0ya25M3LpEmTsjznPqeffjrWWpo2bcqECRMoWLAgn332WaD/7+zQSHdAbrrppmO/0a23QrFibkFl/foRzyQiIiISpCJFilCzZk0qVqxI/fr16d27N9deey179+4lV65cDB48mLPPPpt58+bRqVMncuTIQa5cuRg6dOhB56lSpQp3XHcdFzdtSrFSpfZPJ7nwwguPeM59cufOzX333ceAAQMoX7483bt3p3Pnzlx//fVR/V4cylhrvQaIhqpVq9o5c+ZE9T4XL14MQLly5Y7thk884eZ2r1oFZ54ZQDIREREJk4ULF1K+fHnfMcJl92748Uc3GFmq1DHddMeOHQDkzUZP7xOR2c/NGDPXWls1s+treklAWrVqRatWrY79hg8+6HpRvvFG5EOJiIiIxILUVDen+zi2dF+1atVhU07CQEV32Jx7LlxzDbz+uiu+RURERBLJvgWUhQplawfKWKGiO4xatYLVq+HTT30nEREREYmuTZtg1y43tSSOqOgOo5tvhuLFtUOliIhIgkiENXbZ9uefkCsXnHSS7yRHdDw/LxXdYZQrFzzwAEyZ4ka8RUREJG7lzZuX9evXq/AG2LnTjXQXLQo5wlmmWmtZv379MS/UVMvAgHTr1u3ETvDgg9Cnj5vb3bNnZEKJiIhI6JQsWZI1a9bw559/+o7i38aNrujOkwc2bz6uU+zrXrJw4cIIBjtY3rx5KVmy5DHdRi0Dw+yGG+B//3PtA3Pq7yMRERGJY7t2ufaA1arBxIm+0xwXtQz0ICUlhZSUlBM7SatWsHYtfPJJRDKJiIiIhNbHH8O6ddCmzQmdJiI1WAA00h2Q2rVrA5CcnHz8J9mzB0qXhooVIQTbl4qIiIgEpk4dWLkSli6FpKTjPk1EarDjpJHuWJUzJ7RsCZ9/DsuW+U4jIiIiEoxFiyA52b3LfwIFd5ip6A67Fi1c8T1smO8kIiIiIsEYNsx1b7v/ft9JAqOiO+xKlICGDWHkSEhL851GREREJLK2b4e33oJGjeJuQ5wDqeiOBW3bwoYNMG6c7yQiIiIikTV2rGsV2Lq17ySB0kLKgEyfPh2AGjVqnPjJrIUKFaBQIZg588TPJyIiIhIW1arBli2wYAEYc8Kni2gNdoyOtpBSzZ8DEtEftDFutLtdO5gzB6pm+rMUERERiS3ffw+zZsHLL0ek4AY/xXZ2aHpJQKZPn77/L62IuPtuKFAAhg6N3DlFREREfBo2DPLlg3vuidgpI16DRYimlwQkkB6RrVu7hQZr18Ipp0TuvCIiIiLRtnEjlCwJd9wBb7wRsdOqT7ecuDZtYMcOePNN30lERERETsxbb8G2bW4KbQJQ0R1LLr4YatZ0U0z27vWdRkREROT47N0LQ4bAP/4Bl17qO01UqOiONW3buu1Rp071nURERETk+EybBkuWwEMP+U4SNSq6Y02jRnDaae6vQxEREZFY9Oqrrp65/XbfSaJGLQMD8tJLLwVz4jx53Nbwzz0Hv/wCZ50VzP2IiIiIBGHVKpg8GTp3dnVNhAVWg50gjXQHpHLlylSuXDmYk7dq5TbMGTEimPOLiIiIBGXYMPdvQDtQBlqDnQAV3QGZOnUqU4Oad3322dCgAbz2GuzaFcx9iIiIiETajh2ufrn55sDerQ+0BjsBml4SkN69ewNQr169YO6gbVuYNAk+/BDuvDOY+xARERGJpHHjYP36QBdQBl6DHSeNdMeqa6+Fc87RgkoRERGJHYMHQ7lyULeu7yRRp6I7VuXI4TbL+fZbmDfPdxoRERGRo5s9G2bNcqPcxvhOE3UqumPZffdB3ryu7Y6IiIhImA0eDAUKwD33+E7ihYruWFakCPzzn/DOO/DXX77TiIiIiGQuNRXee88V3Ced5DuNF1pIGZDhw4dH547atYORI91Hhw7RuU8RERGRY/HGG7BzZ1R2oIxaDXaMjLXWd4bAVa1a1c6ZM8d3jOBceSX8+iv8/DMkJflOIyIiIvK39HQ491woXRqSk32nCZQxZq61tmpmxzS9JCCTJk1i0qRJ0bmzhx+GFStgypTo3J+IiIhIdk2Z4nahjMIoN0S5BjsGGukOSO3atQFIjsZfdLt3Q5kycOGF8MUXwd+fiIiISHZddx3Mnw8rV0KuXIHfXVRrsENopDve5crl2gd++SUsWuQ7jYiIiIizZIkbEGzVKioFd5ip6I4XDz4IuXOrfaCIiIiEx9ChkDOnq1MSnIrueFGsmNsO/q23YNMm32lEREQk0W3Z4rqrNW4MZ5zhO413KrrjSbt2sHUrjBrlO4mIiIgkurffhs2b4ZFHfCcJBS2kDMjq1asBKFWqVFTvl+rVXQP6xYvdVvEiIiIi0bZ3L5Qv7zbCmTkzqtu+e6vB0EJKL0qVKuXlh027drB0KXz+efTvW0RERATc4sklS9wodxQLbvBYg2VBRXdAxo4dy9ixY6N/x40bQ/HiMGhQ9O9bREREBOCVV1w9cvvtUb9rbzVYFlR0B2To0KEMHTo0+necO7dry/Ppp26HShEREZFoWrzY1SGtW7u6JMq81WBZUNEdj1q1cu15Bg/2nUREREQSzauvup7crVv7ThIqKrrj0RlnQJMm8OabrpuJiIiISDRs2uS6qN15J5x+uu80oaKiO161a+fa9Lz9tu8kIiIikij2DfipTeBhVHTHq2rVoGpVt6AyAdpCioiIiGfp6a7uqFEDLr3Ud5rQyek7QLwaP3683wDGuNHue++FL7+Ea6/1m0dERETi25QpsHw59OnjNYb3GuwItDlOPNu5E84+G6pUcb8IIiIiIkG55hpYuBBWrHALKROQNsfxYNSoUYzyvR17njzQtq1r27Nokd8sIiIiEr9++gmmTnV1h+eCOxQ1WCZUdAckND/w1q1d8f3KK76TiIiISLx65RVXb7Rs6TtJeGqwQ6jojnfFikHTpvDWW7Bhg+80IiIiEm/++st1S2vaFIoW9Z0mtFR0J4JHHoHt2+G113wnERERkXjzxhuQlgYPP+w7Saip6E4EF10EV1/tdojavdt3GhEREYkXe/a4+uKqq+Dii32nCTUV3YmifXtYswY+/NB3EhEREYkXkybBqlUa5c4GtQwMyPbt2wHInz9/VO/3iPbuhXLl3FyrGTN8pxEREZF4UKsW/PILLF0KOcOx/YvPGkwtAz3Inz9/eApugBw53Nzu//7XfYiIiIiciDlz4NtvXX0RkoIbQliDZVDRHZAhQ4YwZMgQ3zEO1rw5nHQSvPSS7yQiIiIS6158EQoVggce8J3kIKGswVDRHZhx48Yxbtw43zEOVrAgtGgB48fD6tW+04iIiEisWr0axo1zdUXhwr7THCSUNRgquhNPu3ZgLQwe7DuJiIiIxKpXX3XrxbSAMttUdCeas8+G226DESNg2zbfaURERCTWbN3q6ohGjaB0ad9pYoaK7kTUvv3fu0eJiIiIHItRo2DjRnj0Ud9JYoqK7kRUowZUrQovv+zeGhIRERHJjvR015DhH/+A6tV9p4kp4envEmeSk5N9RzgyY9xfp02bwuefQ/36vhOJiIhILJg8GZYtg759fSc5orDWYBrpTlSNG0OJEq7dj4iIiEh2DBzo1oc1bOg7ScxR0R2Q/v37079/f98xjix3bnjoIfjyS/jxR99pREREJOzmzoVvvnEdS0K0Gc6hwlqDqegOyOTJk5k8ebLvGEfXujXkz+/+ahURERE5mpBuhnOosNZgKroT2amnul+cd9+FtWt9pxEREZGwWrMGxo51m+GcdJLvNDFJRXeia9/erUQeNMh3EhEREQkrbYZzwlR0J7pzznGb5Qwb5prdi4iIiBxo61YYPtzVC9oM57ip6A5Ivnz5yJcvn+8Y2dOhg2tyP3Kk7yQiIiISNm+95eqExx7znSRbwlqDGWut7wyBq1q1qp0zZ47vGOF2xRXw66/w88+hXpEsIiIiUbR3L5QrB0WKwH//6ztN6Blj5lprq2Z2TCPd4nTsCCtXwkcf+U4iIiIiYTFxIixdqi3fI0Aj3QHp1asXAN27d4/q/R639HS44AI45RSYOdPtWikiIiKJrWZN1+Esht4J91mDaaTbg2nTpjFt2jTfMbIvKcnN1Zo9G777zncaERER8W36dPfx2GMxU3BDeGswFd3yt3vvdXO2BgzwnURERER8e+EFt6fH/ff7ThIXVHTL3/Lnh7Zt3fytJUt8pxERERFfliyBCRNcXVCggO80cUFFtxzsoYcgd2631auIiIgkpgEDXD3wr3/5ThI3VHQHpEiRIhQpUsR3jGN3+ulw990wahT8+afvNCIiIhJtf/zhenPfe6+rC2JMWGswdS+Rwy1cCBdeCD16wNNP+04jIiIi0dS9Ozz7LCxaBGXL+k4TU9S9RI5N+fLQoAEMHgxpab7TiIiISLRs3epe/2+5RQV3hKnoDkiXLl3o0qWL7xjHr0MHN71k9GjfSURERCRaRo6Ev/6CTp18JzluYa3BYqfpYoyZMWOG7wgn5qqr4NJLoX9/eOAB18dbRERE4teePa6RQs2aUKOG7zTHLaw1mEa6JXPGwOOPux2oPv7YdxoREREJ2vjxsHJlTI9yh5mKbjmyRo3g3HPhuecgARbcioiIJCxr3WY45crBTTf5ThOXVHTLkSUlub92Z8+G5GTfaURERCQoX30F33/v1nTlUHkYBH1XA1KyZElKlizpO8aJ29ej87nnfCcRERGRoLzwwt97dcS4sNZgWkgZkHfeecd3hMjImxceeQSefBJSUqByZd+JREREJJLmzYPPPoPevd3rfowLaw2mkW7JWps2UKiQRrtFRETiUf/+UKCAe72XwKjoDkj79u1p37697xiRcfLJ0KoVjBsHy5f7TiMiIiKRsno1vPuuaw986qm+00REWGswFd0BSUlJISUlxXeMyHn0UciZEwYM8J1EREREImXf63qHDn5zRFBYazAV3ZI9JUq4xRUjR8K6db7TiIiIyIlKTYXXXoOmTeGss3yniXsquiX7OnWCnTth0CDfSUREROREvfIKbN8OnTv7TpIQVHRL9pUrB7feCoMHw9atvtOIiIjI8dqyxQ2i3XorlC/vO01CUNEdkLJly1K2bFnfMSKvc2f46y/3dpSIiIjEphEjYONG6NLFd5KIC2sNZmwCbO9dtWpVO2fOHN8x4kft2rB0qetkkju37zQiIiJyLHbuhHPOgQsugGnTfKeJK8aYudbaqpkd00i3HLsnnoBff3UthkRERCS2vP02rF0bl6PcYaaR7oC0bNkSgBEjRkT1fqPCWrjkEti1C+bPhxz6201ERCQmpKe7Ee6TToLZs8EY34kizmcNdrSRbm0DH5AlS5b4jhAcY+Dxx12LoUmT4JZbfCcSERGR7PjgAzdFdPz4uCy4Ibw1mIYo5fg0aQJlykCfPm7kW0RERMLNWujb13Uja9jQd5qEo6Jbjk/OnK6TyaxZWoQhIiISCz7/HFJS3Ou3poZGnb7jcvyaN3c7Vfbp4zuJiIiIZKVvXyhZ0k0PlajTnO6AVK5c2XeE4OXJAx07wmOPwYwZUL2670QiIiKSmenT4Ztv4MUX477db1hrMHUvkROzbRuULg3VqsHkyb7TiIiISGZuvtkV3qtWQYECvtPELfXpluAUKADt28Mnn7h5YiIiIhIu8+e7bmMPP6yC2yMV3QFp1qwZzZo18x0jOh56CAoX1txuERGRMOrXzxXb//qX7yRREdYaTEV3QNasWcOaNWt8x4iOk092v8jjx8OiRb7TiIiIyD5Ll8K//w2tW8Opp/pOExVhrcFUdEtktG8PefO6v6ZFREQkHPr2dQsnO3b0nSThqeiWyDjtNGjZEt55B1au9J1GREREVq2Ct9+GBx+E4sV9p0l4Krolcjp2dM32n3/edxIRERF57jm31XunTr6TCOrTHZjqidizumRJt2HOyJHQvTuccYbvRCIiIonp11/hjTfgvvugVCnfaaIqrDWY+nRLZC1bBmXLwqOPQv/+vtOIiIgkpkcfhUGD4OefoUwZ32kShvp0S/Scey7cdRcMGwbr1/tOIyIiknjWrYPhw6FZMxXcIaKiOyCNGjWiUaNGvmP40aWL26ny5Zd9JxEREUk8AwbAzp3w5JO+k3gR1hpMRXdA1q9fz/pEHemtUAEaNnRva23e7DuNiIhI4li/HoYMgTvucNM9E1BYazAV3RKMrl1h40ZXeIuIiEh0vPwybN2asKPcYaaiW4Jx6aVw440wcCBs2eI7jYiISPzbtAleeQVuuw0qVvSdRg6holuC8/TTsGEDvPqq7yQiIiLx79VXXeHdtavvJJIJ9ekOSN26dX1H8O+yy6B+fbego107KFjQdyIREZH4tHUrvPiie5e5ShXfabwKaw2mPt0SrJkz4R//gH79oHNn32lERETi0wsvwOOPw4wZ7nVXvFCfbvGnWjW47jq3Uc7Wrb7TiIiIxJ+0NPc6W6+eCu4QU9EdkPr161O/fn3fMcLh6achNRWGDvWdREREJP689prbEKd7d99JQiGsNZiK7oCkpaWRlpbmO0Y4VK8O11zj3vrats13GhERkfiRlgZ9+8JVV0GtWr7ThEJYazAV3RIdTz8Nf/7ptocXERGRyBgxAn7/HXr08J1EsqCiW6KjZk2oWxeefx62b/edRkREJPalpblGBbVruw8JNRXdEj1PP+3mnA0f7juJiIhI7Bs2zI1y9+zpO4lkg/p0B6RBgwa+I4TPlVdCnTputLt1a8iXz3ciERGR2LR9Ozz3HFx9teZyHyKsNZj6dEt0ff21ewvspZfgkUd8pxEREYlNAwZAx47w7bdwxRW+00gG9emW8LjqKvfx3HOwY4fvNCIiIrFn2zb3OlqvngruGKKiOyC1a9emthY1ZO7pp+G331xfURERETk2Q4e6jmDqWJKpsNZg2Sq6jTHFjDENjTEPGWPuN8ZcboxRwS7Hp3ZtN7+7Xz+NdouIiByLbdvc2qhrrnGdwSRmHLVwNsbUMcZ8DnwC1AfOAC4EugHzjDE9jTGFg48pccUYt9J67Vp1MhERETkWgwe7UW51LIk5WXUvuQF40Fr7y6EHjDE5gQbANcAHAWSTeFanjvvo0wdatIACBXwnEhERCbetW93uztdd53Z7lpiS1RSRAZkV3ADW2j3W2o+ttSq45fj06uX6dg8e7DuJiIhI+L36KqSmapQ7RmU10p1ijJkP/Bv4wFq7MfhI8aFJkya+I4RfzZpw/fV/9+0urJlKIiIimdqyBfr3h/r1oVo132lCLaw12FH7dBtjkoB6wJ24qSb/xRXgE6y1aVFJGAHq0x1is2fD5ZfDM89A9+6+04iIiIRT377w5JMwc6Z73ZRQOu4+3dbadGvt59ba+4BSwEjgFmCFMWZM5KPGj+3bt7N9+3bfMcLvssvglltck/+//vKdRkREJHz2jXLfcIMK7mwIaw2W7bZ/1tpdwE/AQmAzUD6oUPHghhtu4IYbbvAdIzY88wxs2gQDB/pOIiIiEj4vvQQbNqgvdzaFtQbLsug2xpQyxnQyxnwPTM64zc3W2iqBp5PEcNFFcPvt7kklNdV3GhERkfDYsMGNct96q3t3WGJWVn26pwPfAcVwrQPLWWt7WGsXRSWdJI4ePf5u+C8iIiLO88+76SW9evlOIicoq5HuJ4DS1tpO1tq50QgkCerCC6FpU9cO6ffffacRERHx7/ff4ZVX4K67oGJF32nkBGW1kPIba601xpQ1xkzLaB+IMeYiY0y36ESUhPH007Brl9seXkREJNH16eNeF9WXOy5k1ad7n9eATsBwAGvtj8aYd4HeQQWLdc2bN/cdIfacdx7cey8MGwYdO0LJkr4TiYiI+PHLLzB8ONx/v3t9lGwLaw121D7d+69kzGxr7WXGmB+stZdkXJZira0cdMBIUJ/uGLJyJZQtCw88AEOH+k4jIiLiR4sWMHo0LF0KpUr5TiPZdNx9ug+Qaow5F7AZJ2wM/BahfHEpNTWVVHXiOHalS7snmjfecAW4iIhIolmyBEaNgjZtVHAfh7DWYNkd6T4HGAHUAP4CVgBNrbWrgo0XGT5GumvXrg1AcnJyVO83Lvz6K5x7LvzznzBypO80IiIi0XXXXTBxIixfDqef7jtNzPFZg53wSLe1drm1th5wGnCBtfaKWCm4JQadeSa0bQtvvQULF/pOIyIiEj0//gjvvQePPKKCO85k1ae7mTFm/3WstdustVsOOH6uMeaKIANKgurSBQoUgG5qkiMiIgmke3c46STo1Ml3EomwrLqXFAF+MMbMBeYCfwJ5gfOAq4BUXC9vkcg67TTXweTpp2HWLLj8ct+JREREgjVzpptW0rs3nHKK7zQSYVn16X4ZqAL8Gze1pG7G178Cd1trG1lrfw48pSSmRx91xXeXLr6TiIiIBK9rV/e698gjvpNIALLs022tTQe+zPiQbGrTpo3vCLGvUCE3veSRR2DqVKhXz3ciERGRYHz1FUybBgMHQsGCvtPEtLDWYNnqXhLr1Kc7hu3cCeXKQdGiMHs2GOM7kYiISGRZCzVrwurV8PPPkDev70RynCLRp1uO0erVq1m9erXvGLEvTx545hmYOxc++MB3GhERkcibNAlmzHCLKFVwn7Cw1mAa6Q6I+nRHUHo6XHwx7N4NCxZAzixnRYmIiMSGPXvca9yePXqNi5Cw9uk+6k/WGPPY0Y5baweeSDCRbElKgj594JZb3A5dLVr4TiQiIhIZb78NP/3k3s1VwR3XsppeUiiLD5HouOkmqF4devSAtDTfaURERE5cWho89RRUqwYNG/pOIwE76p9U1tqe0QoiclTGQN++ULs2DB7seniLiIjEskGD4NdfYcwYNQpIANl6H8MYkxd4AKiA2xwHAGvt/QHlEjncVVfB9de7qSYtWsDJJ/tOJCIicnw2bHCDSTfe6F7fJO5ld/LQaGARcB3wDNAUWBhUqHjQoUMH3xHiU58+UKUK9O/vduwSERGJRf36waZNrvCWiAprDZat7iXGmB+stZcYY3601l5kjMkFfGut/UfwEU+c+nTHmbvuctvkLlsGxYv7TiMiInJsVq+G88+HO+90DQIkbkSiT/fujH83GmMqAicBxSIRLl4tXryYxYsX+44Rn3r1gl27XP9uERGRWPP00+5fvY4FIqw1WHanl4wwxpwCdAcmAgWBpwJLFQdatWoFqE93IM47D1q1gmHD4OGH4YILfCcSERHJnvnz4a234NFH4ayzfKeJS2GtwbI10m2tfd1a+5e19mtr7TnW2mLW2mFBhxM5oqefhvz54YknfCcRERHJviefhEKFoEsX30kkyrLaHKeZtfadI22So81xxJvTTnMFd9eu8O23cOWVvhOJiIgc3bffui3f+/aFIkV8p5Eoy2qku0DGv9ocR8KnfXs480zXszsbC4JFRES8sRY6d4YSJdzUSEk4WW2OMzzjX22SI+GTP79rG3jffTBuHNxxh+9EIiIimfv4Y5gxA157zb1+ScLJbsvAt4BHrLUbM74+BRgQK5vj+GgZOHXqVADq1asX1ftNOOnprm/3li2wcCHkyeM7kYiIyMF274ZKldyuk/PmQc7s9rGQ4+GzBjtay8Ds/tQv2ldwA1hr/zLGXBKJcPFKxXaUJCXB88+7nSqHDnVTTkRERMJkxAhYvBgmTFDBHQVhrcGy26c7R8boNgDGmFPJfsGekFJSUkhJSfEdIzFcdx1cc43r371xo+80IiIif9u40XXcql0bbrrJd5qEENYaLLuF8wBghjHmfcAAjYFnA0sVB9pnjLiGrUdk3HrhBbjkErdN/PPP+04jIiLi9OkDGzbAgAFueokELqw1WHb7dL8NNAL+AH4HbrPWjg4ymMgxufhiuOceeOUVWLXKdxoRERFYsQJeftm9PlWp4juNeJbd6SUAi4APcTtSbjXGaBslCZfevd0oQteuvpOIiIi4DXCSkuBZTQ6QbBbdxph2uFHuL4HJwCcZ/4qER8mSblvdMWNg7lzfaUREJJH9978wdqzbS+LMM32nkRDI7kj3I0A5a20Fa+1F1tpK1tqLggwmclw6d4aiRaFTJ22YIyIiflgLjz0GxYvD44/7TiMhkd2FlKuBTUEGiTd9+vTxHSExnXSSWyXerh1MnqyV4iIiEn3jx/+9EU7Bgr7TJJyw1mDZ3RznDaAcblrJzn2XW2sHBhctcnxsjiMe7duEwFq3CUHu3L4TiYhIoti5E8qXd8X2Dz+4Od2SMI62OU52p5f8gpvPnRsodMCHHMH06dOZPn267xiJKVcuGDgQliyBIUN8pxERkUQyaJDrWtK/vwpuT8Jag2VrpHv/lY3Jb63dHmCeQPgY6a5duzYQvh6RCcNaqF8fZs6En39287xFRESClJoK550HNWrAlCm+0yQsnzXYCY90G2OqG2N+wrUNxBhzsTFGQ4gSXsa40e4tW9wcbxERkaA984x73XnhBd9JJISyO73kJeA6YD2AtfZ/QK2AMolExoUXQps2MGwYzJ/vO42IiMSzJUtg6FB48EGoUMF3GgmhbG+OY61dfchF6RHOIhJ5PXpA4cKudZNaCIqISFA6doS8eaFnT99JJKSyW3SvNsbUAKwxJpcxpiOwMMBcIpFRpIgrvL/8UvPrREQkGJ9/DpMmQffucPrpvtNISGW3ZWBR4GWgHmCAL4CHrbUbgo0XGT4WUqakpABQuXLlqN6vZOLAFoLz57vuJiIiIpGwezdcfDHs2gULFkCePL4TJTyfNdjRFlJmd3OcctbapoectCbwnxMNF69UbIdIrlwwYAA0aACDB0P79r4TiYhIvBg6FBYuhAkTVHCHRFhrsOyOdH9vra2S1WVh5WOke+rUqQDUq1cvqvcrR6AWgiIiEmmpqXD++XDZZW6KiTG+Ewl+a7DjHuk2xlQHagCnGWMeO+BQYUAd34+id+/egIru0DDGjXZffLGb4/3qq74TiYhIrOve3bUIfOklFdwhEtYaLKuFlLmBgrji/MCdKDcDjYONJhJhFSpA69auheCCBb7TiIhILPvf/2DECHjoIdeiViQLRx3pttZ+DXxtjBllrV1ljCmYcfnWqKQTibQePWDMGNdC8LPPNDIhIiLHzlq3PuiUU9zrikg2ZLdlYCFjzA/AAmCBMWauMaZigLlEglG0qHuC/OIL195JRETkWH34ISQnQ69ervAWyYbsFt0jgMestWdba88GOmRcJhJ72rZ1U03at4e0NN9pREQklqSluY1wKlVyu0+KZFN2WwYWsNZ+te8La22yMaZAQJniwvDhw31HkCPJlQsGDYKrr4YXXoCnnvKdSEREYsXAgbByJUybBjmzW0ZJNIW1Bstuy8CPgO+B0RkXNQMutdY2DDBbxPhoGSgx4M47XV/VhQuhdGnfaUREJOzWrIFy5eD66+GDD3ynkRA6WsvA7E4vuR84DfgQ+AAomnGZHMGkSZOYpDnD4da/P+TI4RZVioiIZKVDB9i7171+SGiFtQbLqk93XqA1cB4wD+hgrd0djWCxbsCAAQDcdNNNnpPIEZUs6XqsduniNjW47jrfiUREJKymTYNx49xi/DJlfKeRowhrDZbVSPdbQFVcwV0feCHwRCLR9Oijbjexhx+GXbt8pxERkTDatQvatYNzzoHHH/edRmJUVkX3hdbaZtba4bjNcGpFIZNI9OTJA6+8AkuWuB3FREREDvXyy279z8svQ758vtNIjMqq6N4/lcRauyfgLCJ+XH893HILPPMM/Pqr7zQiIhImv/4KPXtCgwbuQ+Q4ZVV0X2yM2ZzxsQW4aN/nxpjN0QgoEhUvvgh79kCnTr6TiIhImHTs6F4fXn7ZdxKJcVltA58UrSDxZvTo0VlfScKjTBl44gk3mtGqFVx1le9EIiLi21dfwXvvwdNPu/ncEhPCWoNlq093rFOfbsmWtDS48EIoWBB++EGbHoiIJLLdu6FyZffasGCB5nJLtkSiT7cco7FjxzJ27FjfMeRY5MvnppnMnw+DB/tOIyIiPr3yCvz0kxZPxqCw1mAa6Q5I7dq1AUhOTo7q/coJshbq14cZM2DRIjjjDN+JREQk2taudTtPXnUVTJ7sO40cI581mEa6RbLLGHj1Vdi5UztViogkqo4d3fQSLZ6UCFLRLXKo886DJ590i2e++MJ3GhERiaapU+Hf/4bOneHcc32nkTiiolskM507Q9my0LatW0QjIiLxb8cO97x/3nnQpYvvNBJnVHSLZCZPHhgyBJYtg379fKcREZFo6NcPfv4Zhg6FvHl9p5E4o4WUAUlNTQWgaNGiUb1fibCmTWH8eJg3z418i4hIfFq8GC66CBo3hjFjfKeRE+CzBtNCSg+KFi2qgjseDBjgWkW1bes6m4iISPyx1j3P58vnnvclpoW1BlPRHZBRo0YxatQo3zHkRBUvDn36wLRpbmGNiIjEnzFj4P/+z00vKV7cdxo5QWGtwTS9JCDq0x1H0tOhenVYtcq9/Xjyyb4TiYhIpGzYABdc4DqV/Oc/kEPjkbFOfbpFYlVSEgwbBqmp0LWr7zQiIhJJXbq4wnvYMBXcEig9ukSyo0oV+Ne/3Ir2mTN9pxERkUiYPh1GjID27eHii32nkTinolsku3r1ctvCP/ig26lMRERi1+7d0Lo1lCoFPXr4TiMJQEW3SHYVLgyDB7v2gf37+04jIiIn4sUX3fP5oEFQsKDvNJIAtJAyINu3bwcgf/78Ub1fiYLGjWHyZPjxR/XuFhGJRUuXQqVKcP318NFHvtNIhPmswbSQ0oP8+fOr4I5Xgwa5ncpatVLvbhGRWGMttGwJuXO7dy8l7oS1BlPRHZAhQ4YwZMgQ3zEkCGecAS+8AMnJMHKk7zQiInIsRo6Er75yz+MlSvhOIwEIaw2m6SUBUZ/uOLd3L9Sp46aYLFyozRRERGLBb79B+fJQubLbDEctAuOS+nSLxJMcOVybqbQ0ePhh32lERCQ72rWDHTvc87cKbokyPeJEjle5ctC9O7z/Pkyc6DuNiIgczUcfwQcfwNNPaxG8eKGiW+REdOrkVsC3bQubN/tOIyIimdm4ER56yG2A07Gj7zSSoFR0i5yI3Lnhtddg7Vp48knfaUREJDOPPw5//AGvvw65cvlOIwlKCylFIqF9e3jlFfj6a7jySt9pRERkn+Rkt/C9Y0fXsUQkQEdbSKmiWyQStm6Fiy6CpCT43/8ghP1BRUQSTlqam1KSnu52n9RzswRM3Us86N+/P/21VXjiKFgQ3njD7XLWvbvvNCIiAu75+OefYfhwFdwJJKw1mIrugEyePJnJkyf7jiHRVKcOtGkDL74I06f7TiMiktimT4eBA93uk/Xq+U4jURTWGkxFt0gkPfccnHUW3Hefe1tTRESiLy3NPQ+XKqV53BIaKrpFIqlQIbc6fskS1wtWRESir3t39zz8xhtQuLDvNCKAim6RyKtXz72dOWAAzJzpO42ISGLRtBIJKRXdAcmXLx/58uXzHUN8eeEFOPNM9/bmjh2+04iIJAZNKxHCW4Pl9B0gXn366ae+I4hPhQu7TXOuvx569oS+fX0nEhGJf/umlXz5paaVJLCw1mAa6RYJynXXwQMPwPPPw+zZvtOIiMQ3TSuRkNPmOAHp1asXAN3VszmxbdoEFSrASSfB3LmQN6/vRCIi8SctDSpXdtP55s3TKHeC81mDaXMcD6ZNm8a0adN8xxDfTjrJrZ7/6Sfo2tV3GhGR+KRuJXKAsNZgKrpFgnbdddC2rds0JznZdxoRkfjyzTduWkmrVppWIqGmolskGp5/Hs49F5o3h82bfacREYkPmzfDPffAOedACLf9FjmQim6RaChQAN5+G1avhvbtfacREYkP7du759W334aCBX2nETkqFd0BKVKkCEWKFPEdQ8KkenV44gl4802YMMF3GhGR2DZhgns+feIJqFHDdxoJkbDWYOpeIhJNu3ZBtWrw668wfz4UK+Y7kYhI7PnjD6hUCUqWhP/+F3Ln9p1IBFD3EpHwyJ0bRo92rQRbtoQE+KNXRCSirIUHH3TzuUePVsEtMUNFd0C6dOlCly5dfMeQMKpYEZ591r01+vbbvtOIiMSWkSNh0iS302+FCr7TSAiFtQbTNvABmTFjhu8IEmaPPgoTJ0K7dlC7Npx9tu9EIiLht3y5WzxZpw488ojvNBJSYa3BNNIt4kNSErz1lnubtFkzSE/3nUhEJNzS0117wBw5YNQo969IDNEjVsSXMmVgyBD47jvo08d3GhGRcHvhBfjPf+DVV+Gss3ynETlmKrpFfGrWDO66C3r2hJC+HSYi4t2sWW6r99tvd8+bIjFIc7oDUrJkSd8RJBYYA0OHuoK7aVNISYHChX2nEhEJjy1b3OBEiRIwYoR73hQ5irDWYOrTLRIG//kP1KoF//yna4ElIiLOPffAmDHwzTdQs6bvNCJHpT7dImFXsyY89RS88457cREREfd8OHq0e35UwS0xTiPdAWnfvj0AL730UlTvV2LYnj2ufeCPP8L//ucWWoqIJKrly6FyZbjoIkhOhpyaESvZ47MGO9pItx7BAUlJSfEdQWJNzpxupPvii9387m++0YuMiCSm3bvddLscOdxot54L5RiEtQbT9BKRMCldGoYNcwsre/XynUZExI8ePWDmTLdwUpuHSZxQ0S0SNnfd5RYO9e7t3lIVEUkkX33ltni//35o0sR3GpGIUdEtEkavvgrnnefeXl23zncaEZHoSE2Fu++G88+HV17xnUYkojRJKiBly5b1HUFiWaFCMG4cVKvmXoA+/VRbHotIfNu7F+69F/78EyZOhAIFfCeSGBXWGkzdS0TCbPhwaN3abRPfpYvvNCIiwXnuOXjiCRg8GNq29Z1G5LioT7dIrGrZEu64w21//N13vtOIiATju++ga1e3zXubNr7TiARCRXdAWrZsScuWLX3HkFhnjFu9X6YM3Hmnm+8oIhJP/vzTPb+VLg2vv65t3uWEhbUG05zugCxZssR3BIkXhQu7+d3/+Ieb7zhpkuZ3i0h82LvXrVtJTXWtUgsX9p1I4kBYazC9covEgksugYEDYcoUGDDAdxoRkch47jn4/HN46SX3PCcSx1R0i8SKtm2hcWO3oHL6dN9pREROzDffQLdubt1Kq1a+04gETkW3SKwwxs13PPts9yL155++E4mIHJ9169w87nPPdetWNI9bEoDmdAekcuXKviNIPDrpJBg/HmrUcC9Yn38OOfVrLCIxJD0dmjWDDRvcHgSaxy0RFtYaTH26RWLRqFFw332up23fvr7TiIhkX9eubu+B116DFi18pxGJKPXpFok3zZu7OZD9+sHHH/tOIyKSPRMmuIK7RQsV3JJwVHQHpFmzZjRr1sx3DIlnL78Ml13m2giGtD2SiMh+S5bAPfdA1aowaJDvNBLHwlqDqegOyJo1a1izZo3vGBLP8uRx87tz5YLbboNt23wnEhHJ3Nat0LAh5M4NH3wAefP6TiRxLKw1mIpukVh21lnw3nuwcCE8+CAkwBoNEYkx1sIDD8CiRe756qyzfCcS8UJFt0isq1cPeveGf/8bXn3VdxoRkYO9+KLbVbdvX6hb13caEW9UdIvEg86d4eab4bHH4NtvfacREXGSk+Hxx6FRI+jUyXcaEa/U4Dcg1atX9x1BEkmOHPDWW1CtmntxmzNHb+GKiF9r1riNvM4/H958UxvgSNSEtQZTn26ReLJokSu8zz0XvvsO8uf3nUhEElFaGtSq5Z6TZs2C8uV9JxKJCvXpFkkUF1zg5nanpMD992thpYhE376Fk3PnwrvvquAWyaCiOyCNGjWiUaNGvmNIIrrhBrdgaexYt3mOiEg09evn/vjv0wduusl3GklAYa3BNKc7IOvXr/cdQRLZ44/Djz+67ZYrVtQLn4hEx8SJ7nnnn/90C7xFPAhrDaaRbpF4ZAy8/jpUqQJNm8JPP/lOJCLxbv5893xz6aXu+UcLJ0UOoqJbJF7lywcff+wWU95yC/z1l+9EIhKv1q93bUsLFXLPO/ny+U4kEjoqukXiWcmS8OGH8MsvrnXXnj2+E4lIvNm9Gxo3hrVr4aOP4MwzfScSCSXN6Q5IXe26JWFRowYMG+a6mbRrB0OG6G1fEYmcRx5xm+CMHu1alop4FtYaTH26RRLFE0/Ac8/BgAFu50oRkRP1yiuu6O7UCZ5/3ncaEe+O1qdbI90iiaJPH1i2DDp2hHPOgVtv9Z1IRGLZxInQvj00bOjalIrIUWlOd0Dq169P/fr1fccQ+VuOHPD223DZZa7DwNy5vhOJSKyaOxfuuguqVoV33oGkJN+JRPYLaw2mojsgaWlppKWl+Y4hcrB8+dzo1Gmnud7dq1f7TiQisWbVKmjQwD2PTJrkOiSJhEhYazAV3SKJ5vTT4ZNPYNs298K5ZYvvRCISKzZtcs8baWkwZYp7PhGRbFHRLZKIKlSA8eNhwQK1EhSR7Nm9G26/HRYtgg8+gAsv9J1IJKao6BZJVNdc49oHfvopPPwwJEAnIxE5TtZC27bw5ZcwYgSEtCWbSJipe0lAGjRo4DuCSNZatoTly10rwTPPhK5dfScSkTDq189t7d61K9x3n+80IkcV1hpMfbpFEp210Ly562zyxhtuEx0RkX1GjXKF9l13wZgx2lxL5CjUp1tEjswYN4L1xx9u5LtYMbdQSkTkk0+gRQuoV88V3yq4RY6b5nQHpHbt2tSuXdt3DJHsyZXLLay85BJo0gRmzPCdSER8mz7dLZysXBk+/BBy5/adSCRbwlqDqegWEadgQTeqdeaZbqR70SLfiUTEl59+cs8DJUu61oCFCvlOJBLzVHSLyN+KFYPPP4ecOeG66+DXX30nEpFoW73a/f7nyeOeD4oV851IJC6o6BaRg51zjmsjuGED1K8PGzf6TiQi0bJhgyu4N2+Gzz6DMmV8JxKJGyq6ReRwVarARx+5KSY33ABbt/pOJCJB277dTSlZvhwmToSLL/adSCSuqHtJQJo0aeI7gsiJqVcP/v1vt7Dy1lth8mTIm9d3KhEJws6d0LAh/Pe/blH1VVf5TiRy3MJag6lPt4gc3dtvw733wk03ua2fc+XynUhEImnf9u4TJsDIkdr8RuQEHK1Pt6aXBGT79u1s377ddwyRE3fPPTB4MEya5D5PT/edSEQiJT3d/VE9YQK8+qoKbokLYa3BNL0kIDfccAMAycnJfoOIRELbtm5ed+fOrrXgiBHaJEMk1u3dC61auWlkzz0HDz3kO5FIRIS1BlPRLSLZ8/jjrqPBs8+6wnvgQBXeIrHKWmjfHt54A7p3d7/fIhIoFd0ikn29esGWLfDSS26zjGee8Z1IRI6VtfDkkzBoEDz2GPTs6TuRSEJQ0S0i2WcMvPgibNvmCvCkJHj6ad+pRORYPPss9OsHrVtD//56x0okSlR0i8ixyZEDhg93C7B69HCXqfAWiQ19+rjpJPsWSKvgFokaFd0Bad68ue8IIsFJSoLXX3efq/AWiQ3PPgvdukHTpq41YA41MJP4FNYaTEV3QML6AxeJmEMLb2v/LsBFJFx69YKnnoK774Y333S/vyJxKqw1mIrugKSmpgJQtGhRz0lEAnRg4b1vMZYKb5Fw6dnT/V7ec48b4VbBLXEurDWYiu6ANG7cGAhfj0iRiFPhLRJePXq438vmzd3vqQpuSQBhrcFUdIvIiTu08E5Pd+0EtUhLxA9r3YLJZ591u0y+9poKbhHPVHSLSGTsK7yTkqB3b9fP+8UXVXiLRNvevfDoo/DKK9Cihes2pEWTIt6p6BaRyElKclvEFywIL7/sto4fPlwjbCLRkp4OLVu6udvt22vnWJEQUdEtIpGVI4cb4S5c+O8dLEePhty5fScTiW+7dkGzZvD++65TSY8eKrhFQkRFd0DatGnjO4KIP8a4Od2FCsHjj7sdLN9/H/Ll851MJD6lpUHjxjBlCrzwAnTs6DuRiDdhrcGMtdZ3hsBVrVrVzpkzx3cMkcQ0fDi0aQNXXQUTJrgRcBGJnM2b4ZZb4OuvYdgwN71ERLwwxsy11lbN7JhWVgRk9erVrF692ncMEf9atXLTS779FmrXht9/951IJH78/rv7g/a779zvmQpukdDWYJpeEpC7774bCF+PSBEvmjaFU091b3/XqAGffw7nn+87lUhsW7IErr8e/vgDJk1yn4tIaGswjXSLSHTUrw9ffeUWVtaoAbNn+04kErtmz4aaNd3v01dfqeAWiQEqukUkei6/HP7zH9dSsE4d+Owz34lEYs9nn7mpWoUKwfTp7vdKREJPRbeIRFfZsjBjhptectNN8NZbvhOJxI633nK/N2XLuoJb07REYoaKbhGJvuLFXaeFq66C5s3ddtV79/pOJRJee/dCt27u9+Wqq9zvT/HivlOJyDHQQsqAdOjQwXcEkXArXBg+/dS1E+zdG37+Gd58U728RQ6VluaK7XHj4IEHYOhQyJXLdyqR0AprDaY+3SLil7VuM4/OneEf/3C9vIsV851KJBz++MP14J41C557zm16o10mRUJLfbo9WLx4MYsXL/YdQyT8jHG7Vn7wAfzvf1CtGixY4DuViH8LFrjfhx9/dL8fnTqp4BbJhrDWYCq6A9KqVStatWrlO4ZI7LjtNvjmG9ixw7UUnDLFdyIRfz75xP0e7Nrlfi8aNvSdSCRmhLUGU9EtIuFRtap7G/2cc6BBA+jb100/EUkU1kKfPq5DybnnwsyZ7vdCRGKeim4RCZdSpVwv7zvvhCefhCZNYOtW36lEgrd1K9x+O3TtCnfd5bZ2L1XKdyoRiRAV3SISPvnzw5gx0L8/fPghVK8Oy5b5TiUSnGXL3OP8o4/c4/6dd9zvgYjEDRXdIhJOxkCHDm73vV9/hcsugy++8J1KJPI+/9w9vteudZ936KAFkyJxSH26A9KtWzffEUTiwzXXwJw5cOutcP31biOdp56CpCTfyUROTHo6PPMM9OoFFSvCxx+79QwickLCWoOpT7eIxIZt2+Chh9w22HXruuknp5/uO5XI8fnjD/jnP+H//s9tfDN4sKaTiMQB9en2ICUlhZSUFN8xROJHgQIwahSMHOkWWlau7LbCFok1ycnu8Ttjhns8v/mmCm6RCAprDaaiOyDt27enffv2vmOIxJ/77nNt1AoXhquvdu3V9u71nUoka3v3usdr3bpw0knucXzffb5TicSdsNZgKrpFJPZcdJGb592kiWuvdu21brGlSFj9+qt7nHbt6h63s2dDpUq+U4lIFKnoFpHYVKgQvPsujBjh3qa/6CK3VbZI2HzwgSuwZ8yA115zj9tChXynEpEoU9EtIrHLGHjwQfjhB9f1oXFjaNFCm+lIOGzdCg884B6X557rHqctWqgdoEiCUtEtIrGvbFmYPt3tYDlyJFxyidtOXsSXWbPc4/DNN93jcvp09zgVkYSlPt0B6dOnj+8IIoklVy549lk3b/buu6FGDejUCZ5+GvLm9Z1OEsWOHdCzJzz/PJQs6TqV1KrlO5VIQglrDaY+3SISfzZudLv6jRwJ5cu70cZq1Xynknj33//C/ffDwoVuWkn//nDyyb5TiUgUqU+3B9OnT2f69Om+Y4gkppNPhjfegE8/hS1b3Kj3449DWprvZBKP0tLcuyo1a7p53J99Bq+/roJbxJOw1mAa6Q5I7dq1AUhOTo7q/YrIITZvdgXRiBFQrpzrHnHllb5TSbz49lu3mHfxYmjZEl54wfWQFxFvfNZgGukWkcRVuDAMHw5ffOHm29aq5aYApKb6Tiax7M8/3cY2tWq5x9WXX7rHmQpuETkCFd0ikhiuuQYWLIAnnoDRo92o9xtvaDdLOTZ797qpIxdcAO+84x5PP/0E9er5TiYiIaeiW0QSR4EC0LcvpKRAxYquZ/KVV8K8eb6TSSz48Uf3eHnwQff4+d//3OMpf37fyUQkBqjoFpHEU6GCa+U2ahQsWQKVK0Pbtm7KgMih/vwT2rRxfbeXLHGPm+RkuPBC38lEJIZoIWVAUlJSAKhcuXJU71dEjtGGDdCjBwwZAgULQrdu0K4d5MnjO5n4tnMnDBoEvXrBtm3uD7MePeDUU30nE5Gj8FmDHW0hpYpuERFwvZU7doQpU9yW3S+8ALfeqi27E5G18PHHruvNsmVw442u5/YFF/hOJiIhp+4lHkydOpWpU6f6jiEi2VW+PHzyieuxnCcP3HYbXHEFfP2172QSTcnJ7ud+221uJ9PPP4fJk1Vwi8SQsNZgGukOiPp0i8SwPXtcZ5NnnoG1a13nk2efhcsu851MgjJ7NnTt6lr/lSgBTz3ldpXMmdN3MhE5RurTLSISK3LmhFatYOlSN63g++/h8suhYUOYP993Oomk+fPdz/Xyy+GHH2DAAPdzb9VKBbeIRJSKbhGRI8mXDzp0gBUr3Kj3//0fVKrkirRZs3ynkxMxc6abs1+pkvu5PvMMLF8Ojz3mfu4iIhGmoltEJCuFCkH37q74fuopN8+7WjWoWxemTnUL7yT8rHXTR66+Gv7xD/jmG/fzXLHC/XwLFfKdUETimIpuEZHsOvVU6NkTVq1y004WLnTzvS+/HMaOhd27fSeUzOze7X4+l18O114Lixa5n9+qVe7nqRaAIhIFWkgZkMWLFwNQrly5qN6viETRzp3w9tvw/PNuHnCJEtC6NbRsCaef7jud/PEHjBgBw4a5BbHnnQePPw733KM+7CJxzGcNpj7d6tMtIkFKT4dPP3UbqXzxBeTODU2auE12LrtMvb6jyVrXiWTQIBg3Dnbtguuucz+L+vUhh97gFZHgqHuJB5MmTWLSpEm+Y4hINCQlQYMGrqfzokVupPvjj92874sugoEDYd063ynj27p17vt80UXu+/7xx+7nsGiR671+440quEUSRFhrMI10B0R9ukUS3ObN8O678OabrtNJzpyu8LvvPrjhBsiVy3fC2Ld7t9tB9M033cZGe/a4edv33Qf//CcULuw7oYh4ENY+3WpCKiIShMKF3fzu1q1hwQIYNQpGj4YJE9zCvVtvhdtvd500cuf2nTZ27NoF06bB+++70ey//nLz59u3d8X2hRf6TigikikV3SIiQatQAV54Afr0cVNQ3nvPFY0jR8Ipp8Att0Djxq4AV4/ow6WluV7a48e7QnvjRvdHzc03wx13uDnbeudAREJORbeISLTkyuXmfjdoADt2uJ7R778PH37oRsLz5oXatd2Cv/r14fzzfSf25+ef3eLUTz+F5GT3/Spc2P2BcvvtrvWfOpCISAxR0S0i4kPevHDTTe5j5043kvvZZ67IfOQR93HuuVCvHlx5pfs46yzfqYPzyy/w7bfuY+pUWLbMXX7++W5BZP36UKeOCm0RiVmBLqQ0xlwPvAwkAa9ba/sdcjwP8DZwKbAeuMNauzLjWBfgASAdeNha+3l2zpkZHwspV69eDUCpUqWier8iEgeWLfu7AP/mG9iyxV1+1llwxRXuo2pVqFgxNqejpKXB/PkwZw58950rtDOeMylUCGrVckX29de7PzxERI6BzxrMS59uY0wSsAS4BlgDzAbustb+dMB12gIXWWtbG2PuBBpaa+8wxlwI/Bu4HCgBTAXKZtzsqOfMjPp0i0jMSk+HH3/8uzj99lv4/Xd3LCkJLrgAKleGSy5xRfj557viPGcI3sjcs8eNYP/8M8ybBykp7mPRIvf/Aihe/O+R/CuucC3/kpJ8phYROW6+updcDiy11i7PCPEecAtwYIF8C9Aj4/PxwKvGGJNx+XvW2p3ACmPM0ozzkY1zhsLYsWMBuOOOOzwnEZGYlpTkCupLLnEbvFgLK1a44vWHH9y/yckwZszft8mZE8qUcQX4eefBmWe64vaMM9y/xYtDkSIn1rd6715Yv979AfD77/Dbb+7fX391u3P+/LPLuWfP37cpWdL9gdCw4d//p9KltXmQiERUWGuwIIvuM4HVB3y9Bqh2pOtYa/cYYzYBRTIu/+8htz0z4/Osznm4xYvd4iSA4cOhXDmYNAkGDDj8uqNHQ6lSMHYsDB16+PHx46FoUbfoadSow49PmQL58zO0e3dYt447Dj3Hvp6R/fvD5MkHH8uXz72dDNCrl2uLdaAiReCDD9znXbrAjBkHHy9ZEt55x33evr17MT5Q2bJuS2RwcySXLDn4eOXK8NJL7vNmzWDNmoOPV68Offu6zxs1ci+4B6pbF7p3d5/Xr+/eQj5QgwbQsaP7fN/P40BNmkDbtrB9u+tjfKjmzd1Haqrr9HCoNm1cJ4PVq+Huuw8/3qGDmz+7eDG0anX48W7d3PzZlBT3/TtUnz5QowZMnw5PPnn48Zdect/DqVOhd+/Dj0fpsceQIW4nvkPpsec+j8fH3uTJrrAePdp9n7dvd630vv7aTVPZu/fw24ArupOS3Pb1p5zibvfHH4dfr1w516pv7Vp33vT0o58zXz73ccYZ7jE5YgSULw9vveWy7huxBz32Yv2xp+c997kee4cf9/jYG5qSAmXLuqLb12MvEyF4/zEYxpiWQEuAi7TwRkTi3WmnuakZxYsffmzgQDdX+oMP3AvNrl1uY5n0dPdRubIbQd+3ePFQuXO78+bNC6tWuUI9Kcl1Y8md2734lS7tXtwmTjz89rVqRfA/KiISm4Kc010d6GGtvS7j6y4A1tq+B1zn84zrzDDG5AR+B04Dnjjwuvuul3Gzo54zM9qRUkRERCQxhHVHyhOY0Jel2cD5xpgyxpjcwJ3AoUMgE4F7Mz5vDPyfdX8FTATuNMbkMcaUAc4HZmXznCIiIiIioRLY9JKMOdr/Aj7Htfcbaa1dYIx5BphjrZ0IvAGMzlgouQFXRJNxvXG4BZJ7gIestekAmZ0zqP+DiIiIiEgkBNqnOyx8TC9JTU0FoGjRolG9XxEREZFE5rMG89UyMKGp2BYRERGJvrDWYEHO6U5oo0aNYlRmLWZEREREJDBhrcFUdAckrD9wERERkXgW1hpMRbeIiIiISMBUdIuIiIiIBExFt4iIiIhIwFR0i4iIiIgETC0DAzJlyhTfEUREREQSTlhrMBXdAcmfP7/vCCIiIiIJJ6w1mKaXBGTIkCEMGTLEdwwRERGRhBLWGkxFd0DGjRvHuHHjfMcQERERSShhrcFUdIuIiIiIBExFt4iIiIhIwFR0i4iIiIgETEW3iIiIiEjAjLXWd4bAGWP+BFZ5uOuiQKqH+xURERFJZL5qsLOttadldiAhim5fjDFzrLVVfecQERERSSRhrME0vUREREREJGAqukVEREREAqaiO1gjfAcQERERSUChq8E0p1tEREREJGAa6RYRERERCZiK7gAYY3oZY340xqQYY74wxpTIuLy2MWZTxuUpxpinfGcVERERiVXGmLzGmFnGmP8ZYxYYY3pmXD7KGLPigJqrsueoml4SBGNMYWvt5ozPHwYutNa2NsbUBjpaaxv4zCciIiISD4wxBihgrd1qjMkFfAc8ArQGJltrx3sNeICcvgPEo30Fd4YCgP6yEREREYkw60aPt2Z8mSvjI5R1l6aXBMQY86wxZjXQFDhwGkn1jLdAPjXGVPAUT0RERCQuGGOSjDEpwDrgS2vtzIxDz2ZM933RGJPHX0JH00uOkzFmKlA8k0NdrbUTDrheFyCvtfZpY0xhYG/GWyA3AC9ba8+PUmQRERGRuGWMORn4CGgHrAd+B3Lj2gcus9Y+4y+diu7AGWPOAqZYaytmcmwlUNVamxr1YCIiIiJxJqNJxXZrbf8DLqtNCNbUaXpJAIwxB45e3wIsyri8eMaEf4wxl+O+/+ujn1BEREQk9hljTssY4cYYkw+4BlhkjDkj4zID3ArM95VxHy2kDEY/Y0w5YC+wCreCFqAx0MYYswdIA+60eqtBRERE5HidAbxljEnCDWaOs9ZONsb8nzHmNMAAKfxdi3mj6SUiIiIiIgHT9BIRERERkYCp6BYRERERCZiKbhERERGRgKnoFhEREREJmIpuEREREZGAqegWEREREQmYim4RERERkYCp6BYRkaMyxgwyxnxvjLnMdxYRkViloltERI7IGFMAKAa0Ahp4jiMiErNUdIuICADGmHzGmK8ztlMGwFq7DbfNcjLwijEmtzHmG2NMTl85RURikYpuERHZ537gQ2tt+r4LjDFFgPzAFmCPtXYXMA24w09EEZHYpKJbRCTBGGO+MsZck/F5b2PMoIxDTYEJh1y9G9AfWABUyLjs44zriohINqnoFhFJPE8DXY0xTYFLgPbGmNzAOdbalfuuZIwpDdQAxgIL+bvong9oUaWIyDFQ0S0ikmCstd8ABngMuDNjOklRYOMhV+0NPGOttRxQdGdcf5cxplDUQouIxDgthBERSTDGmEq4xZHrrbVbMi5OA/IecJ3KwG3AFcaYwRnH5h1wmjzAjqgEFhGJAxrpFhFJIMaYM4AxwC3AVmPM9QDW2r+AJGPMvsL7OeBma21pa21p4GIyRrozFlemWmt3Rzu/iEisUtEtIpIgjDH5gQ+BDtbahUAv3Pzufb7AjWxfDeS31k7dd8Ba+wdQ0BhzKlAH+CR6yUVEYp9xU/VERCTRGWOqAI9aa+/O4nofAk9Ya5dEJ5mISOzTSLeIiABgrf0e+OrAzXEOldHl5GMV3CIix0Yj3SIiIiIiAdNIt4iIiIhIwFR0i4iIiIgETEW3iIiIiEjAVHSLiIiIiARMRbeIiIiISMBUdIuIiIiIBExFt4iIiIhIwP4ff4bmz2JQNA8AAAAASUVORK5CYII=\n",
          "text/plain": "<Figure size 864x576 with 1 Axes>"
         },
         "metadata": {
          "needs_background": "light"
         },
         "output_type": "display_data"
        }
       ]
      }
     },
     "5f5200703e9a474193f4ece74dae8b4f": {
      "model_module": "@jupyter-widgets/controls",
      "model_module_version": "1.5.0",
      "model_name": "LabelModel",
      "state": {
       "layout": "IPY_MODEL_717604055cfb4ab5b6eef8715d1b2ab0",
       "style": "IPY_MODEL_11c25266840b4e0aae87e41367187e4e",
       "value": "[0.00000 , 0.87491]"
      }
     },
     "600b14980d874055b5fb5a74fb7e9414": {
      "model_module": "@jupyter-widgets/controls",
      "model_module_version": "1.5.0",
      "model_name": "ButtonStyleModel",
      "state": {}
     },
     "67609b6bdd9840959817ae05e0869adc": {
      "model_module": "@jupyter-widgets/controls",
      "model_module_version": "1.5.0",
      "model_name": "DescriptionStyleModel",
      "state": {
       "description_width": ""
      }
     },
     "6a18edfe898545a186196686df590eda": {
      "model_module": "@jupyter-widgets/base",
      "model_module_version": "1.2.0",
      "model_name": "LayoutModel",
      "state": {}
     },
     "6a45d4560d194e09bf1c6fce5fc84c5a": {
      "model_module": "@jupyter-widgets/base",
      "model_module_version": "1.2.0",
      "model_name": "LayoutModel",
      "state": {}
     },
     "70ffedc511654f8483263729895806ec": {
      "model_module": "@jupyter-widgets/controls",
      "model_module_version": "1.5.0",
      "model_name": "SliderStyleModel",
      "state": {
       "description_width": "initial"
      }
     },
     "715d3af6c18043e1af01698d2d4cffa1": {
      "model_module": "@jupyter-widgets/controls",
      "model_module_version": "1.5.0",
      "model_name": "BoxModel",
      "state": {
       "children": [
        "IPY_MODEL_4e4d32b4aa994b3790d1cb32b63b345f",
        "IPY_MODEL_0b94d53a0a3d4d8ba413157230c71f3f",
        "IPY_MODEL_223134c4793a4b37bd65e144e78ddbe4",
        "IPY_MODEL_b412a8f26f61403f9d18b7038fc8569a"
       ],
       "layout": "IPY_MODEL_07a6dac4e9ee43f9849473098014b85a"
      }
     },
     "717604055cfb4ab5b6eef8715d1b2ab0": {
      "model_module": "@jupyter-widgets/base",
      "model_module_version": "1.2.0",
      "model_name": "LayoutModel",
      "state": {}
     },
     "73b0034d57744a1ebdd20c43858e6f12": {
      "model_module": "@jupyter-widgets/controls",
      "model_module_version": "1.5.0",
      "model_name": "AccordionModel",
      "state": {
       "_titles": {
        "0": "Potenciais pré definidos"
       },
       "children": [
        "IPY_MODEL_715d3af6c18043e1af01698d2d4cffa1"
       ],
       "layout": "IPY_MODEL_57676a20188a44f5842451f061110d1d"
      }
     },
     "75115999fc654a72bfcc260fa07daa78": {
      "model_module": "@jupyter-widgets/base",
      "model_module_version": "1.2.0",
      "model_name": "LayoutModel",
      "state": {}
     },
     "77f2a35ac312465b8fbe993c1083acf2": {
      "model_module": "@jupyter-widgets/controls",
      "model_module_version": "1.5.0",
      "model_name": "ButtonModel",
      "state": {
       "description": "Gerar",
       "layout": "IPY_MODEL_ff25729b288e4f3a8f747f2c1eeb5834",
       "style": "IPY_MODEL_84a0618cd2b845b4bef238e6dbdc2987"
      }
     },
     "7871e15b39b94c78a6dfebde700504fd": {
      "model_module": "@jupyter-widgets/base",
      "model_module_version": "1.2.0",
      "model_name": "LayoutModel",
      "state": {}
     },
     "7c22146fc746407ca440cca83f611e4c": {
      "model_module": "@jupyter-widgets/controls",
      "model_module_version": "1.5.0",
      "model_name": "SliderStyleModel",
      "state": {
       "description_width": "initial"
      }
     },
     "8209b6c2f4464fe3a59d3752dc3918ba": {
      "model_module": "@jupyter-widgets/controls",
      "model_module_version": "1.5.0",
      "model_name": "DescriptionStyleModel",
      "state": {
       "description_width": "initial"
      }
     },
     "821d02884a5a4ad6a389a9e5be52bfe0": {
      "model_module": "@jupyter-widgets/base",
      "model_module_version": "1.2.0",
      "model_name": "LayoutModel",
      "state": {}
     },
     "84a0618cd2b845b4bef238e6dbdc2987": {
      "model_module": "@jupyter-widgets/controls",
      "model_module_version": "1.5.0",
      "model_name": "ButtonStyleModel",
      "state": {}
     },
     "89563908853c4754b4a9986742f5cc13": {
      "model_module": "@jupyter-widgets/controls",
      "model_module_version": "1.5.0",
      "model_name": "DescriptionStyleModel",
      "state": {
       "description_width": ""
      }
     },
     "898cac14b0d749f9bf10936f8db89d0e": {
      "model_module": "@jupyter-widgets/base",
      "model_module_version": "1.2.0",
      "model_name": "LayoutModel",
      "state": {
       "display": "flex",
       "width": "90%"
      }
     },
     "94c512f80b8c45139182be216b4db51f": {
      "model_module": "@jupyter-widgets/controls",
      "model_module_version": "1.5.0",
      "model_name": "DescriptionStyleModel",
      "state": {
       "description_width": "initial"
      }
     },
     "982e2f51a3f34fdaa187ffb06840799d": {
      "model_module": "@jupyter-widgets/base",
      "model_module_version": "1.2.0",
      "model_name": "LayoutModel",
      "state": {}
     },
     "9916396f4b864c97bd9336047d534839": {
      "model_module": "@jupyter-widgets/controls",
      "model_module_version": "1.5.0",
      "model_name": "DescriptionStyleModel",
      "state": {
       "description_width": "initial"
      }
     },
     "9a1c88786d964af185ce1b344ba39ded": {
      "model_module": "@jupyter-widgets/controls",
      "model_module_version": "1.5.0",
      "model_name": "IntSliderModel",
      "state": {
       "description": "Pixels por polegada:",
       "layout": "IPY_MODEL_898cac14b0d749f9bf10936f8db89d0e",
       "max": 300,
       "min": 10,
       "style": "IPY_MODEL_22de212a02834634bb8399f6e23cc137",
       "value": 80
      }
     },
     "9a4f700f61e540d8a865254b87127fba": {
      "model_module": "@jupyter-widgets/controls",
      "model_module_version": "1.5.0",
      "model_name": "VBoxModel",
      "state": {
       "children": [
        "IPY_MODEL_56e5037d8aa24c8a9b9439c8ee83f3a3",
        "IPY_MODEL_d9b28b5f3a3e4614a80f98df799b9361"
       ],
       "layout": "IPY_MODEL_fc76707ffda84d008326cd0faa554596"
      }
     },
     "9c58fdfdd1b345d9bc81a1c9ad7e67b2": {
      "model_module": "@jupyter-widgets/controls",
      "model_module_version": "1.5.0",
      "model_name": "DescriptionStyleModel",
      "state": {
       "description_width": ""
      }
     },
     "9d1f3eae55d94bcba264940d5dac5cbc": {
      "model_module": "@jupyter-widgets/controls",
      "model_module_version": "1.5.0",
      "model_name": "ButtonStyleModel",
      "state": {}
     },
     "a07bd2b5532640c0beca38aa26e8f3c6": {
      "model_module": "@jupyter-widgets/base",
      "model_module_version": "1.2.0",
      "model_name": "LayoutModel",
      "state": {}
     },
     "a15d5903046b4937a2ff5b7aeceb1703": {
      "model_module": "@jupyter-widgets/controls",
      "model_module_version": "1.5.0",
      "model_name": "LabelModel",
      "state": {
       "layout": "IPY_MODEL_5568f3480cd2461bbe4a1757810799f3",
       "style": "IPY_MODEL_cbd3142cbfd8484d91378a367731f4b5",
       "value": "Número de pontos ="
      }
     },
     "a1c8a8d00567434396e26a5703b2eba4": {
      "model_module": "@jupyter-widgets/base",
      "model_module_version": "1.2.0",
      "model_name": "LayoutModel",
      "state": {}
     },
     "b0e8cea87b6f45e5a24d0fb23698ad35": {
      "model_module": "@jupyter-widgets/controls",
      "model_module_version": "1.5.0",
      "model_name": "ButtonStyleModel",
      "state": {}
     },
     "b412a8f26f61403f9d18b7038fc8569a": {
      "model_module": "@jupyter-widgets/controls",
      "model_module_version": "1.5.0",
      "model_name": "ButtonModel",
      "state": {
       "description": "Lennard Jones",
       "layout": "IPY_MODEL_982e2f51a3f34fdaa187ffb06840799d",
       "style": "IPY_MODEL_600b14980d874055b5fb5a74fb7e9414"
      }
     },
     "b76248910bed44818dbc8410e4cf36cb": {
      "model_module": "@jupyter-widgets/controls",
      "model_module_version": "1.5.0",
      "model_name": "LabelModel",
      "state": {
       "layout": "IPY_MODEL_18ac8913df45481eaee47161fc1d5501",
       "style": "IPY_MODEL_0018aa3f6e994ad9936c41e7a5f97df2",
       "value": "Passo $\\Delta x $ (angstroms) ="
      }
     },
     "b77128ba5d644ced9e4fc6fc7a5cde3c": {
      "model_module": "@jupyter-widgets/base",
      "model_module_version": "1.2.0",
      "model_name": "LayoutModel",
      "state": {}
     },
     "bc4720206cf040faa1f3f87a2c2dfd0e": {
      "model_module": "@jupyter-widgets/controls",
      "model_module_version": "1.5.0",
      "model_name": "VBoxModel",
      "state": {
       "_dom_classes": [
        "widget-interact"
       ],
       "children": [
        "IPY_MODEL_22c4659fe9ad4a67a63de21702fbc3b3",
        "IPY_MODEL_22ee91d38d654405822bc6fef4b1185b",
        "IPY_MODEL_52fefe92aa9b440ca9974e58361d0aee",
        "IPY_MODEL_5c102932acf0497eac938d7342366803",
        "IPY_MODEL_43b2c87f61354cb79c736b0d948423ba",
        "IPY_MODEL_9a1c88786d964af185ce1b344ba39ded",
        "IPY_MODEL_c70a38cf8f6e428b8090f8d181d3581e",
        "IPY_MODEL_e8add815ab9c4210acc05544a9c09e85",
        "IPY_MODEL_478e0817fa014b68a259fdb2b8a5ec4f",
        "IPY_MODEL_3808f592e68d461ca7259c324f418393"
       ],
       "layout": "IPY_MODEL_a1c8a8d00567434396e26a5703b2eba4"
      }
     },
     "c1bd5f2f7ba8401e8819f0f3d9f738c5": {
      "model_module": "@jupyter-widgets/base",
      "model_module_version": "1.2.0",
      "model_name": "LayoutModel",
      "state": {}
     },
     "c70a38cf8f6e428b8090f8d181d3581e": {
      "model_module": "@jupyter-widgets/controls",
      "model_module_version": "1.5.0",
      "model_name": "FloatRangeSliderModel",
      "state": {
       "_model_name": "FloatRangeSliderModel",
       "_view_name": "FloatRangeSliderView",
       "description": "Limites do eixo y (angstroms):",
       "layout": "IPY_MODEL_898cac14b0d749f9bf10936f8db89d0e",
       "max": 25,
       "min": -25,
       "readout_format": ".1f",
       "step": 0.05,
       "style": "IPY_MODEL_10da500f6a314f62a6a1f62d7a4bc3ed",
       "value": [
        0,
        5
       ]
      }
     },
     "c75ff9e50a9449e8ba042fbc49bed472": {
      "model_module": "@jupyter-widgets/controls",
      "model_module_version": "1.5.0",
      "model_name": "LabelModel",
      "state": {
       "layout": "IPY_MODEL_2f593e5603ec4376975e652c6ecdc8ad",
       "style": "IPY_MODEL_12c836462acd426180425ae2b239ac9f",
       "value": " 0.13"
      }
     },
     "ca2b2af0d3f24620814770d8e4153dce": {
      "model_module": "@jupyter-widgets/controls",
      "model_module_version": "1.5.0",
      "model_name": "LabelModel",
      "state": {
       "layout": "IPY_MODEL_22ebe8250c7a4810917fc9661ed6c1b6",
       "style": "IPY_MODEL_67609b6bdd9840959817ae05e0869adc",
       "value": " 550"
      }
     },
     "cbd3142cbfd8484d91378a367731f4b5": {
      "model_module": "@jupyter-widgets/controls",
      "model_module_version": "1.5.0",
      "model_name": "DescriptionStyleModel",
      "state": {
       "description_width": ""
      }
     },
     "cfccd3ade0f8462ebb7fed12f7bbae54": {
      "model_module": "@jupyter-widgets/controls",
      "model_module_version": "1.5.0",
      "model_name": "TextModel",
      "state": {
       "description": "Expressão de $V(x)$: ",
       "layout": "IPY_MODEL_898cac14b0d749f9bf10936f8db89d0e",
       "placeholder": "Escreva a expressão aqui.",
       "style": "IPY_MODEL_9916396f4b864c97bd9336047d534839",
       "value": "(2e-4)*((x)**2)"
      }
     },
     "d861c6795fc84e678f55acd2193278f6": {
      "model_module": "@jupyter-widgets/base",
      "model_module_version": "1.2.0",
      "model_name": "LayoutModel",
      "state": {}
     },
     "d9b28b5f3a3e4614a80f98df799b9361": {
      "model_module": "@jupyter-widgets/controls",
      "model_module_version": "1.5.0",
      "model_name": "ButtonModel",
      "state": {
       "description": "Diagonalizado!",
       "disabled": true,
       "layout": "IPY_MODEL_5ac08b00229641c38652e50ba65be8c7",
       "style": "IPY_MODEL_9d1f3eae55d94bcba264940d5dac5cbc"
      }
     },
     "dab527aa27cc4926ad17e06796aadf0e": {
      "model_module": "@jupyter-widgets/controls",
      "model_module_version": "1.5.0",
      "model_name": "DescriptionStyleModel",
      "state": {
       "description_width": ""
      }
     },
     "de530a3f56e74665a3583af962926aee": {
      "model_module": "@jupyter-widgets/base",
      "model_module_version": "1.2.0",
      "model_name": "LayoutModel",
      "state": {}
     },
     "e37c0a6dd6d94b02873bbc6e074b1fae": {
      "model_module": "@jupyter-widgets/controls",
      "model_module_version": "1.5.0",
      "model_name": "LabelModel",
      "state": {
       "layout": "IPY_MODEL_2978ca390b504965863374c8449b05d9",
       "style": "IPY_MODEL_dab527aa27cc4926ad17e06796aadf0e",
       "value": " 70.00"
      }
     },
     "e8add815ab9c4210acc05544a9c09e85": {
      "model_module": "@jupyter-widgets/controls",
      "model_module_version": "1.5.0",
      "model_name": "CheckboxModel",
      "state": {
       "description": "Auto limitar eixo y",
       "disabled": false,
       "layout": "IPY_MODEL_0fe0957602804d8d99c332758d7a2222",
       "style": "IPY_MODEL_8209b6c2f4464fe3a59d3752dc3918ba",
       "value": true
      }
     },
     "f138a86170714356adb524cee09bcf2a": {
      "model_module": "@jupyter-widgets/controls",
      "model_module_version": "1.5.0",
      "model_name": "AccordionModel",
      "state": {
       "_titles": {
        "0": "Diagonalizar/Informações"
       },
       "children": [
        "IPY_MODEL_9a4f700f61e540d8a865254b87127fba"
       ],
       "layout": "IPY_MODEL_c1bd5f2f7ba8401e8819f0f3d9f738c5"
      }
     },
     "f2f6afc86d2640a69ceff33abe3dde35": {
      "model_module": "@jupyter-widgets/controls",
      "model_module_version": "1.5.0",
      "model_name": "SliderStyleModel",
      "state": {
       "description_width": "initial"
      }
     },
     "f5369883c1b04d889d550ab2ee9aa494": {
      "model_module": "@jupyter-widgets/base",
      "model_module_version": "1.2.0",
      "model_name": "LayoutModel",
      "state": {}
     },
     "fc76707ffda84d008326cd0faa554596": {
      "model_module": "@jupyter-widgets/base",
      "model_module_version": "1.2.0",
      "model_name": "LayoutModel",
      "state": {}
     },
     "ff25729b288e4f3a8f747f2c1eeb5834": {
      "model_module": "@jupyter-widgets/base",
      "model_module_version": "1.2.0",
      "model_name": "LayoutModel",
      "state": {}
     },
     "ff9557f229ed4ab785b969615d841c75": {
      "model_module": "@jupyter-widgets/controls",
      "model_module_version": "1.5.0",
      "model_name": "VBoxModel",
      "state": {
       "children": [
        "IPY_MODEL_73b0034d57744a1ebdd20c43858e6f12",
        "IPY_MODEL_4a4b78be83b14a2dadd52be664bf9489",
        "IPY_MODEL_f138a86170714356adb524cee09bcf2a"
       ],
       "layout": "IPY_MODEL_821d02884a5a4ad6a389a9e5be52bfe0"
      }
     }
    },
    "version_major": 2,
    "version_minor": 0
   }
  }
 },
 "nbformat": 4,
 "nbformat_minor": 5
}
