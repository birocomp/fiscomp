{
 "cells": [
  {
   "cell_type": "code",
   "execution_count": 76,
   "id": "dcdb271d",
   "metadata": {},
   "outputs": [
    {
     "data": {
      "application/vnd.jupyter.widget-view+json": {
       "model_id": "e489ca9b5ad545af98f0a459ef10d3b5",
       "version_major": 2,
       "version_minor": 0
      },
      "text/plain": [
       "Tab(children=(VBox(children=(Accordion(children=(Box(children=(Button(description='Poço Infinito', style=Butto…"
      ]
     },
     "metadata": {},
     "output_type": "display_data"
    }
   ],
   "source": [
    "import numpy as np\n",
    "import scipy.sparse as sparse\n",
    "import matplotlib.pyplot as plt\n",
    "from numba import jit\n",
    "import ipywidgets as wid\n",
    "from ipywidgets import interactive,fixed, interactive_output\n",
    "import numpy.polynomial.polynomial as poly\n",
    "\n",
    "RY=13.60566 #x*RY: Rydberg -> ev\n",
    "ang=1.88972 #X/ang: raio de bohr -> angstroms\n",
    "pot_exemplos=['(2e-4)*((x)**2)','0',\n",
    "             '(1e-5)*(x**2)+(1e-7)*(x**4)',\n",
    "             '(10)*( (49.2 / (x/ang+84) )**12 - (49.2 / (x/ang+84) )**6)']\n",
    "def diagg(boo):\n",
    "    global x,psi,prob,eig,V,L,N\n",
    "    DIAG.description='Diagonalizando...'\n",
    "    \n",
    "    @jit\n",
    "    def diagH(H,V):\n",
    "        H=H+V\n",
    "        eig, psi=np.linalg.eigh(H) #Resolve o sistema e atribui-se: eig=autovalores, psi=autovetores\n",
    "        prob=np.abs(psi)**2 #Atribui a densidade de probabilidade |Psi|² a variável prob\n",
    "        return H,V,psi,prob,eig\n",
    "    \n",
    "    N=x.size #Armazena o tamanho do vetor posição e o comprimento do espaço que ele representa\n",
    "    a=- 1/(dx**2) #Define 'a' por conveniência\n",
    "    H=sparse.diags([a,-2*a,a],[-1,0,1],shape=(N,N),dtype=np.complex128).toarray() #Cria a matriz Hamiltoniano\n",
    "    H,V,psi,prob,eig=diagH(H,V)\n",
    "    \n",
    "    V=np.diag(V)\n",
    "    PLOT.children[8].disabled=False\n",
    "    PLOT.children[8].description=('Plotar')\n",
    "    DIAG.disabled=True\n",
    "    DIAG.description='Diagonalizado!'\n",
    "    tab.selected_index=1\n",
    "    \n",
    "def syst(xx,N,potV):   \n",
    "    global x,dx,V,Vlim\n",
    "    def vetores(xx,N):\n",
    "        xmin,xmax=xx\n",
    "        x,dx=np.linspace(xmin*ang,xmax*ang, N, \n",
    "                         retstep=True,dtype=np.float64) #Define o vetor posição (raio de bohr)\n",
    "        return x,dx,xmin,xmax\n",
    "    \n",
    "    def pot(N,pot):\n",
    "        V=np.ones(shape=(N))\n",
    "        V=V*eval(pot)/RY\n",
    "        V=np.diag(V)\n",
    "        return V\n",
    "    \n",
    "    x, dx, xmin, xmax=vetores(xx,N)\n",
    "    V=pot(N,potV)\n",
    "    \n",
    "    xmin, xmax= x.min()/ang, x.max()/ang\n",
    "    L=xmax-xmin\n",
    "    Vlim=[V.min()*RY, V.max()*RY]\n",
    "    info.children[1].value=f\"{dx/ang: .2f}\"\n",
    "    info.children[3].value=f\"{L: .2f}\"\n",
    "    info.children[5].value=f\"[{Vlim[0]:.5f} , {Vlim[1]:.5f}]\"\n",
    "    info.children[7].value=SYST.children[2].value\n",
    "    info.children[9].value=f\"{SYST.children[1].value: 1d}\"\n",
    "    \n",
    "    fig1, ax1= plt.subplots(figsize=(12,8))\n",
    "    ax1.set_xlabel('$x (\\AA)$')\n",
    "    ax1.set_ylabel('Potencial (eV)')  \n",
    "    \n",
    "    plt.plot(x/ang,np.diag(V)*RY,'r-',label='$V(x)$')    \n",
    "    plt.axhline(Vlim[0], xmin, xmax,color='r',ls='--',label='limites de $V(x)$')\n",
    "    plt.axhline(Vlim[1], xmin, xmax,color='r',ls='--')\n",
    "    plt.axvline(x=x.min()/ang,color='k',ls='--',label='limites de $x$')\n",
    "    plt.axvline(x=x.max()/ang,color='k',ls='--',)\n",
    "    plt.setp(ax1, xticks=[xmin, xmax], yticks=Vlim)\n",
    "    leg=plt.legend(loc='upper right')\n",
    "    \n",
    "    DIAG.disabled=False\n",
    "    DIAG.description='Diagonalizar'\n",
    "    PLOT.children[8].disabled=True\n",
    "    PLOT.children[8].description=('Diagonalize...')\n",
    "    INFO.selected_index=0\n",
    "    return V,x,dx,xmin,xmax\n",
    "    \n",
    "def plotall(NES,limx,wav,xs,ys,dpi,limy,autolim):\n",
    "    fig, ax = plt.subplots(figsize=(xs,ys), dpi=dpi)\n",
    "    nmin,nmax = NES\n",
    "    En=eig*RY\n",
    "    #elim=(En.min(), En.max())###########\n",
    "    ax.set_xlim([x.min()/ang-limx, x.max()/ang +limx])\n",
    "    ax.set_xlabel('$x (\\AA)$')\n",
    "    ax.set_ylabel('Auto energias (eV)')\n",
    "    plt.title(f\"$\\Delta x$ = {dx/ang:.2f}, Ordem da matriz = {N} x {N}\")\n",
    "    probb=norm(prob,nmin,nmax,En,1)\n",
    "    if wav==1:\n",
    "        for i in range(nmax,nmin-1,-1):\n",
    "            fig=plt.plot(x/ang,probb[:,i]+En[i], \n",
    "                         label=f'$E_{{{i}}}={En[i]:.5f}$ eV')\n",
    "    elif wav==2:\n",
    "        for i in range(nmax,nmin-1,-1):\n",
    "            fig=plt.plot(x/ang,np.real(psi[:,i])+En[i], \n",
    "                         label=f'$E_{{{i}}}={En[i]:.5f}$ eV')\n",
    "    elif wav==3:\n",
    "        for i in range(nmax,nmin-1,-1):\n",
    "            fig=plt.plot(x/ang,np.imag(psi[:,i])+En[i], \n",
    "                         label=f'$E_{{{i}}}={En[i]:.5f}$ eV')\n",
    "    if autolim==False:\n",
    "        ax.set_ylim(limy)\n",
    "        \n",
    "    fig=plt.axvline(x=x.min()/ang,color='k',ls='--')\n",
    "    fig=plt.axvline(x=x.max()/ang,color='k',ls='--')\n",
    "    fig=plt.plot(x/ang,V*RY,'k',label='V($x$)')\n",
    "    leg=plt.legend(loc='upper right')\n",
    "    \n",
    "    plt.show()\n",
    "\n",
    "@jit\n",
    "def norm(prob,nmin,nmax,En,wav):\n",
    "    mmax=np.zeros(nmax+2)\n",
    "    if wav==1:\n",
    "        for i in range(0,nmax+2):\n",
    "            mmax[i]=(En[i+1]-En[i])*0.9\n",
    "        for i in range(0,nmax+2):\n",
    "            prob[:,i]=prob[:,i]*np.abs(mmax[i]/prob[:,i].max())\n",
    "    else:\n",
    "        for i in range(1,nmax+2):\n",
    "            mmax[i]=(prob[:,i+1].min()-prob[:,i-1].max() \\\n",
    "                    /(prob[:,i].max()-prob[:,i].min()))\n",
    "        for i in range(1,nmax+2):\n",
    "            prob[:,i-1]=prob[:,i-1]*np.abs(mmax[i]*0.9)\n",
    "    return prob\n",
    "\n",
    "def potlist(bo):\n",
    "    b=bo.description\n",
    "    if b=='Oscilador Harmônico':\n",
    "        SYST.children[2].value=pot_exemplos[0]\n",
    "    elif b=='Poço Infinito':\n",
    "        SYST.children[2].value=pot_exemplos[1]\n",
    "    elif b=='Oscilador Duffing Holmes':\n",
    "        SYST.children[2].value=pot_exemplos[2]\n",
    "    elif b=='Lennard Jones':\n",
    "        SYST.children[2].value=pot_exemplos[3]\n",
    "    SYST.children[0].value=[-35,35]\n",
    "    SYST.children[3].click()\n",
    "    \n",
    "################################STYLES/LAYOUT###############################\n",
    "lslider=wid.Layout(width='90%', display='flex')\n",
    "sty = {'description_width': 'initial'}\n",
    "\n",
    "\n",
    "################################INTERACTIVES################################\n",
    "SYST=interactive(syst, {'manual': True}, \n",
    "                    xx=wid.FloatRangeSlider(\n",
    "                        value=[-35.0, 35.0],\n",
    "                        min=-150.0,\n",
    "                        max=150.0,\n",
    "                        step=1,\n",
    "                        continuous_update=False,\n",
    "                        orientation='horizontal',\n",
    "                        readout_format='1d',\n",
    "                        layout=lslider,\n",
    "                        description=('Domínio de $\\Psi(x)$: '),\n",
    "                        style=sty),\n",
    "                    N=wid.IntSlider(value=550,\n",
    "                        min=50,\n",
    "                        max=1050,\n",
    "                        step=10,\n",
    "                        continuous_update=False, \n",
    "                        layout=lslider,\n",
    "                        description=('Número de pontos: '),\n",
    "                        style=sty),\n",
    "                    potV=wid.Text(description='Expressão de $V(x)$: ',\n",
    "                        value=\"0\",\n",
    "                        placeholder='Escreva a expressão aqui.',\n",
    "                        style=sty,\n",
    "                        layout=lslider))\n",
    "\n",
    "PLOT=interactive(plotall, {'manual': True},\n",
    "                    NES=wid.IntRangeSlider(\n",
    "                        value=[0, 6],\n",
    "                        min=0,\n",
    "                        max=20,\n",
    "                        step=1,\n",
    "                        description='Plotar estados:',\n",
    "                        continuous_update=False,\n",
    "                        orientation='horizontal',\n",
    "                        layout=lslider,\n",
    "                        style=sty),\n",
    "                    limx=wid.IntSlider(\n",
    "                        value=10,\n",
    "                        min=0,\n",
    "                        max=100,\n",
    "                        step=1,\n",
    "                        description='Margens horizontais  (angstroms):   ',\n",
    "                        continuous_update=False,\n",
    "                        layout=lslider,\n",
    "                        style=sty),\n",
    "                    wav=wid.Dropdown(\n",
    "                        options=[('densidades de probabilidades',1),\n",
    "                                 ('funções de onda (parte real, +)',2),\n",
    "                                 ('funções de onda (parte imaginária)',3)],\n",
    "                        value=1,\n",
    "                        description='Plotar as',\n",
    "                        style=sty),\n",
    "                    xs=wid.IntSlider(value=9,\n",
    "                        min=0,\n",
    "                        max=20,\n",
    "                        step=1,\n",
    "                        description='Largura da imagem (polegadas):',\n",
    "                        style=sty,\n",
    "                        layout=lslider),\n",
    "                    ys=wid.IntSlider(value=9,\n",
    "                        min=0,\n",
    "                        max=20,\n",
    "                        step=1,\n",
    "                        description='Altura da imagem (polegadas): ',\n",
    "                        style=sty,\n",
    "                        layout=lslider),\n",
    "                    dpi=wid.IntSlider(value=80,\n",
    "                        min=10,\n",
    "                        max=300,\n",
    "                        step=1,\n",
    "                        description='Pixels por polegada:',\n",
    "                        style=sty,layout=lslider),\n",
    "                    limy=wid.FloatRangeSlider(value=[0.,5.],\n",
    "                        min=-25.,\n",
    "                        max=25.,\n",
    "                        step=0.05,\n",
    "                        description='Limites do eixo y (angstroms):',\n",
    "                        orientation='horizontal',\n",
    "                        readout_format='.1f',\n",
    "                        layout=lslider,\n",
    "                        style=sty),\n",
    "                    autolim=wid.Checkbox(\n",
    "                        value=True,\n",
    "                        description='Auto limitar eixo y',\n",
    "                        style=sty))\n",
    "\n",
    "################################GRIDS################################\n",
    "items = [wid.Label('Passo $\\Delta x $ (angstroms) ='), wid.Label('dx'), \n",
    "        wid.Label('Largura do domínio (angstroms) ='), wid.Label('L'),\n",
    "        wid.Label('V(x)[min,max] (eV) ='), wid.Label('[V_min,V_max]'),\n",
    "        wid.Label('Expressão V(x) ='), wid.Label(''),\n",
    "        wid.Label('Número de pontos ='), wid.Label('')]\n",
    "info=wid.GridBox(items, layout=wid.Layout(grid_template_columns=\"repeat(2, 250px)\"))\n",
    "\n",
    "################################BOTOES################################\n",
    "DIAG=wid.Button(description='Diagonalizar',disabled=True)\n",
    "OHS=wid.Button(description='Oscilador Harmônico')\n",
    "POCO=wid.Button(description='Poço Infinito')\n",
    "DUFHOLMES=wid.Button(description='Oscilador Duffing Holmes', style=sty)\n",
    "LENJON=wid.Button(description='Lennard Jones', style=sty)\n",
    "\n",
    "################################ON_EVENTS###############################\n",
    "DIAG.on_click(diagg)\n",
    "OHS.on_click(potlist)\n",
    "POCO.on_click(potlist)\n",
    "DUFHOLMES.on_click(potlist)\n",
    "LENJON.on_click(potlist)\n",
    "\n",
    "################################BOXES###############################\n",
    "POTSBUT=wid.Box([POCO,OHS,DUFHOLMES,LENJON])\n",
    "POTLIST=wid.Accordion([POTSBUT])\n",
    "INFODIAG=wid.VBox([info,DIAG])\n",
    "INFO=wid.Accordion([INFODIAG])\n",
    "POTLIST.set_title(0,'Potenciais pré definidos')\n",
    "INFO.set_title(0,'Diagonalizar/Informações')\n",
    "SYSTBOX=wid.VBox([POTLIST,SYST,INFO])\n",
    "\n",
    "################################UI################################\n",
    "SYST.children[3].description=('Gerar')\n",
    "PLOT.children[8].description=('Plotar')\n",
    "PLOT.children[8].disabled=True\n",
    "INFO.selected_index=None\n",
    "################################TABS################################\n",
    "tab=wid.Tab(children=[SYSTBOX,PLOT])\n",
    "tab.set_title(0, 'Gerar o Sistema')\n",
    "tab.set_title(1, 'Funções de Onda')\n",
    "display(tab)"
   ]
  },
  {
   "cell_type": "code",
   "execution_count": null,
   "id": "88d58d7e",
   "metadata": {},
   "outputs": [],
   "source": []
  }
 ],
 "metadata": {
  "hide_input": false,
  "kernelspec": {
   "display_name": "Python 3",
   "language": "python",
   "name": "python3"
  },
  "language_info": {
   "codemirror_mode": {
    "name": "ipython",
    "version": 3
   },
   "file_extension": ".py",
   "mimetype": "text/x-python",
   "name": "python",
   "nbconvert_exporter": "python",
   "pygments_lexer": "ipython3",
   "version": "3.9.5"
  },
  "toc": {
   "base_numbering": 1,
   "nav_menu": {},
   "number_sections": true,
   "sideBar": true,
   "skip_h1_title": false,
   "title_cell": "Table of Contents",
   "title_sidebar": "Contents",
   "toc_cell": false,
   "toc_position": {},
   "toc_section_display": true,
   "toc_window_display": false
  },
  "widgets": {
   "application/vnd.jupyter.widget-state+json": {
    "state": {
     "0003b8ccd6e142159d18f332ef9b2a9d": {
      "model_module": "@jupyter-widgets/base",
      "model_module_version": "1.2.0",
      "model_name": "LayoutModel",
      "state": {}
     },
     "015637ec22094202bb55344a9c99fbf0": {
      "model_module": "@jupyter-widgets/controls",
      "model_module_version": "1.5.0",
      "model_name": "SliderStyleModel",
      "state": {
       "description_width": "initial"
      }
     },
     "015a77c18daf47f5a6abbc2d15097d88": {
      "model_module": "@jupyter-widgets/controls",
      "model_module_version": "1.5.0",
      "model_name": "IntSliderModel",
      "state": {
       "description": "Altura da imagem (polegadas): ",
       "layout": "IPY_MODEL_c7d0f380059549978636c35d4e6a4c0c",
       "max": 20,
       "style": "IPY_MODEL_3d04172189b0414195253cf969e4a314",
       "value": 9
      }
     },
     "03839166f3e34807b9bef564da71d926": {
      "model_module": "@jupyter-widgets/controls",
      "model_module_version": "1.5.0",
      "model_name": "SliderStyleModel",
      "state": {
       "description_width": "initial"
      }
     },
     "03a2c86167724ca19e5165b01e4343d2": {
      "model_module": "@jupyter-widgets/base",
      "model_module_version": "1.2.0",
      "model_name": "LayoutModel",
      "state": {}
     },
     "03f27e7e9ef549ceb184a9d52ba40139": {
      "model_module": "@jupyter-widgets/controls",
      "model_module_version": "1.5.0",
      "model_name": "DescriptionStyleModel",
      "state": {
       "description_width": ""
      }
     },
     "048221b228ac4651a3a4f65a0ec30370": {
      "model_module": "@jupyter-widgets/controls",
      "model_module_version": "1.5.0",
      "model_name": "ButtonModel",
      "state": {
       "description": "Oscilador Duffing Holmes",
       "layout": "IPY_MODEL_5065c4ff34b44f47bf17af588313e190",
       "style": "IPY_MODEL_e4f4efee0ea2441586d2e8ba161266f9"
      }
     },
     "0542c081be3c4ab39d4b301fcb85b0a0": {
      "model_module": "@jupyter-widgets/controls",
      "model_module_version": "1.5.0",
      "model_name": "BoxModel",
      "state": {
       "children": [
        "IPY_MODEL_8fdcf8a9982040319892609f41bbe095",
        "IPY_MODEL_cde5ecb0201e49bbb87a30b761c00a37",
        "IPY_MODEL_7ca7d05fa8c6401cbb09c598b55189a3",
        "IPY_MODEL_c749af0ae1dc4f05b74f74392cf2c6a2"
       ],
       "layout": "IPY_MODEL_e1c4142e69ac449e97bae86223a575c8"
      }
     },
     "056306a341ab4a2b9fd2b58ca58bfe58": {
      "model_module": "@jupyter-widgets/base",
      "model_module_version": "1.2.0",
      "model_name": "LayoutModel",
      "state": {}
     },
     "05a263d8d2154dd59ce60ac8224f3354": {
      "model_module": "@jupyter-widgets/base",
      "model_module_version": "1.2.0",
      "model_name": "LayoutModel",
      "state": {}
     },
     "0759d2f5a7cb43059a5e3bb49fcbf9c1": {
      "model_module": "@jupyter-widgets/controls",
      "model_module_version": "1.5.0",
      "model_name": "VBoxModel",
      "state": {
       "children": [
        "IPY_MODEL_6716d2ab732945139b050d7682ecf486",
        "IPY_MODEL_1079e3371ebd43c293f32f8525d95f47",
        "IPY_MODEL_a5f0165ed00141ecb467ea26cca7cb35",
        "IPY_MODEL_6f629fffe1a0475097e80b3940c64a1a"
       ],
       "layout": "IPY_MODEL_7d55a96c54b3400586a953265ec3207f"
      }
     },
     "07ac490018444e57ae47a5850425231b": {
      "model_module": "@jupyter-widgets/controls",
      "model_module_version": "1.5.0",
      "model_name": "ButtonModel",
      "state": {
       "description": "Oscilador Harmônico",
       "layout": "IPY_MODEL_422fbb49a3cb4fe8aaa8619a96a57a73",
       "style": "IPY_MODEL_3255f51709cd4e6681f9ca8a925dc48b"
      }
     },
     "0808bc98b95c4703bddf5c74288081de": {
      "model_module": "@jupyter-widgets/base",
      "model_module_version": "1.2.0",
      "model_name": "LayoutModel",
      "state": {}
     },
     "088c6575937147a3bb96b78fd9605d01": {
      "model_module": "@jupyter-widgets/base",
      "model_module_version": "1.2.0",
      "model_name": "LayoutModel",
      "state": {}
     },
     "090d8df1e2b4404aa774a120c1180e07": {
      "model_module": "@jupyter-widgets/base",
      "model_module_version": "1.2.0",
      "model_name": "LayoutModel",
      "state": {}
     },
     "096a041b0588428096a0237679117998": {
      "model_module": "@jupyter-widgets/controls",
      "model_module_version": "1.5.0",
      "model_name": "SliderStyleModel",
      "state": {
       "description_width": "initial"
      }
     },
     "097892167feb41e88faa6ff872d69362": {
      "model_module": "@jupyter-widgets/base",
      "model_module_version": "1.2.0",
      "model_name": "LayoutModel",
      "state": {}
     },
     "0a6cb9fc0910440784691e8abf368a70": {
      "model_module": "@jupyter-widgets/controls",
      "model_module_version": "1.5.0",
      "model_name": "DropdownModel",
      "state": {
       "_options_labels": [
        "densidades de probabilidades",
        "funções de onda (parte real, +)",
        "funções de onda (parte imaginária)"
       ],
       "description": "Plotar as",
       "index": 1,
       "layout": "IPY_MODEL_8734663b02544ff5ac085d515428567a",
       "style": "IPY_MODEL_472f7eab3fa74fc78ded24c775ef343d"
      }
     },
     "0b774841309d4d66ba2ced44b0552543": {
      "model_module": "@jupyter-widgets/controls",
      "model_module_version": "1.5.0",
      "model_name": "TabModel",
      "state": {
       "_titles": {
        "0": "Gerar o Sistema",
        "1": "Funções de Onda"
       },
       "children": [
        "IPY_MODEL_1db00c77eda6462397e238076d8f1ece",
        "IPY_MODEL_a9bf74350c6a4d39a3ef289e29147315"
       ],
       "layout": "IPY_MODEL_910d973d1d4044df8a2204a34f281cbc",
       "selected_index": 1
      }
     },
     "0bfcf43412d94d07840c8826caa5f505": {
      "model_module": "@jupyter-widgets/base",
      "model_module_version": "1.2.0",
      "model_name": "LayoutModel",
      "state": {}
     },
     "0c086777fd1c45469913c216ca743027": {
      "model_module": "@jupyter-widgets/controls",
      "model_module_version": "1.5.0",
      "model_name": "VBoxModel",
      "state": {
       "_dom_classes": [
        "widget-interact"
       ],
       "children": [
        "IPY_MODEL_dd6669f2205c44c6bfc691d63b12bbdd",
        "IPY_MODEL_6980c8d2ba584d2aac4538df52227eef",
        "IPY_MODEL_0a6cb9fc0910440784691e8abf368a70",
        "IPY_MODEL_f85e511863774f51b235396d3b941d7e",
        "IPY_MODEL_a0780c0c604e48319e9f3574bbb672d7",
        "IPY_MODEL_86791f4427e74dee936506ac733b51e6",
        "IPY_MODEL_10af26c3d40d49749e935dcf8c4c7209",
        "IPY_MODEL_df87cb5796a84d9c8726c38772377450",
        "IPY_MODEL_e43cb62b1a364d02a3d4666d4c9649de",
        "IPY_MODEL_12d1c47880bd4ca5a769a93708d44632"
       ],
       "layout": "IPY_MODEL_933558b1b021419888fc655680ca58d0"
      }
     },
     "0c4c044bcbcf44beb658110057ab6dbf": {
      "model_module": "@jupyter-widgets/controls",
      "model_module_version": "1.5.0",
      "model_name": "LabelModel",
      "state": {
       "layout": "IPY_MODEL_ac2989c2643d440d862c471c25b87287",
       "style": "IPY_MODEL_e7c8be458bb844c3bcc89236f1f0a504",
       "value": "[0.00000 , 0.00000]"
      }
     },
     "0c5bfbb6aea74ff68f99da592d7be346": {
      "model_module": "@jupyter-widgets/controls",
      "model_module_version": "1.5.0",
      "model_name": "LabelModel",
      "state": {
       "layout": "IPY_MODEL_330a11d6fd864d2db4fa5be1bc6c0487",
       "style": "IPY_MODEL_d8820da0f4c24d3a9c75d43aa59193e2",
       "value": " 0.13"
      }
     },
     "0d436c320e694a31a4df4b74c05f4228": {
      "model_module": "@jupyter-widgets/controls",
      "model_module_version": "1.5.0",
      "model_name": "DescriptionStyleModel",
      "state": {
       "description_width": "initial"
      }
     },
     "0d83b44b486c413783e865f5633f9374": {
      "model_module": "@jupyter-widgets/controls",
      "model_module_version": "1.5.0",
      "model_name": "ButtonStyleModel",
      "state": {}
     },
     "0da412f6dddc43189c6901c5c9faf9c1": {
      "model_module": "@jupyter-widgets/controls",
      "model_module_version": "1.5.0",
      "model_name": "IntRangeSliderModel",
      "state": {
       "_model_name": "IntRangeSliderModel",
       "_view_name": "IntRangeSliderView",
       "continuous_update": false,
       "description": "Plotar estados:",
       "layout": "IPY_MODEL_d76ef0b3a9a34f99b86bdc3988c4da73",
       "max": 20,
       "style": "IPY_MODEL_4ef1b905928e4afcb655032a5ae03690",
       "value": [
        0,
        6
       ]
      }
     },
     "0eaaaf4d88d24404b6874c808217d54c": {
      "model_module": "@jupyter-widgets/controls",
      "model_module_version": "1.5.0",
      "model_name": "ButtonModel",
      "state": {
       "description": "Poço Infinito",
       "layout": "IPY_MODEL_6f0e13a69abd48998873f234014d051b",
       "style": "IPY_MODEL_5fca3a2ee9ef4f5582d1d8c659786d16"
      }
     },
     "0f6ce375716e4bcea0b8bb8d42040a1d": {
      "model_module": "@jupyter-widgets/controls",
      "model_module_version": "1.5.0",
      "model_name": "ButtonStyleModel",
      "state": {}
     },
     "1079e3371ebd43c293f32f8525d95f47": {
      "model_module": "@jupyter-widgets/controls",
      "model_module_version": "1.5.0",
      "model_name": "BoxModel",
      "state": {
       "children": [
        "IPY_MODEL_13742e30150e4f2cbfe2a350e16f070e",
        "IPY_MODEL_592e83b017cc41be8b45e3153fdf1ff9",
        "IPY_MODEL_d05ffc82a8dd4c719cd8d54b1d61d869",
        "IPY_MODEL_449fa96b1b534d40ac905b841c30386e"
       ],
       "layout": "IPY_MODEL_c22158cb99fa48589206c4dfc2a8af07"
      }
     },
     "109ea970454143f3a15ecde640c7e80f": {
      "model_module": "@jupyter-widgets/controls",
      "model_module_version": "1.5.0",
      "model_name": "SliderStyleModel",
      "state": {
       "description_width": "initial"
      }
     },
     "10af26c3d40d49749e935dcf8c4c7209": {
      "model_module": "@jupyter-widgets/controls",
      "model_module_version": "1.5.0",
      "model_name": "FloatRangeSliderModel",
      "state": {
       "_model_name": "FloatRangeSliderModel",
       "_view_name": "FloatRangeSliderView",
       "description": "Limites do eixo y (angstroms):",
       "layout": "IPY_MODEL_9caac3cd92b74d8589b76eba8f40dc88",
       "max": 25,
       "min": -25,
       "readout_format": ".1f",
       "step": 0.05,
       "style": "IPY_MODEL_ad4927e75cf6482bb40c4268b34fe613",
       "value": [
        0,
        5
       ]
      }
     },
     "114e87d03f474e219a341c849807c8df": {
      "model_module": "@jupyter-widgets/controls",
      "model_module_version": "1.5.0",
      "model_name": "VBoxModel",
      "state": {
       "_dom_classes": [
        "widget-interact"
       ],
       "children": [
        "IPY_MODEL_384cc75f672b45de98c0e76c57e761aa",
        "IPY_MODEL_502aee396f194e72accf835bd27916c3",
        "IPY_MODEL_27d94f7c99784ac18d6429fc8906f094",
        "IPY_MODEL_87d57b093d6943729d0cc25c9e797d61",
        "IPY_MODEL_7a47f4425b9b46fdab94410310f577f6"
       ],
       "layout": "IPY_MODEL_89dd703a19f745beab0dd8849e6b956e"
      }
     },
     "115aa75780ea4bd9af723e9bac490b6e": {
      "model_module": "@jupyter-widgets/controls",
      "model_module_version": "1.5.0",
      "model_name": "DescriptionStyleModel",
      "state": {
       "description_width": "initial"
      }
     },
     "1190b275aa614a53a0221472925ab546": {
      "model_module": "@jupyter-widgets/base",
      "model_module_version": "1.2.0",
      "model_name": "LayoutModel",
      "state": {}
     },
     "11ae0d32d2504f7c83ff41fc7a3f58d6": {
      "model_module": "@jupyter-widgets/controls",
      "model_module_version": "1.5.0",
      "model_name": "DescriptionStyleModel",
      "state": {
       "description_width": ""
      }
     },
     "1219736c752a4ac69d46e01bbb6d77f8": {
      "model_module": "@jupyter-widgets/controls",
      "model_module_version": "1.5.0",
      "model_name": "IntSliderModel",
      "state": {
       "description": "Largura da imagem (polegadas):",
       "layout": "IPY_MODEL_c7d0f380059549978636c35d4e6a4c0c",
       "max": 20,
       "style": "IPY_MODEL_19e41da74e4a4923b95ea1ab41f015ff",
       "value": 9
      }
     },
     "12286911181c451dabf6a87242838044": {
      "model_module": "@jupyter-widgets/controls",
      "model_module_version": "1.5.0",
      "model_name": "ButtonModel",
      "state": {
       "description": "Diagonalizado!",
       "disabled": true,
       "layout": "IPY_MODEL_b9d6639be2a94a2ea6c12a1a940694b6",
       "style": "IPY_MODEL_b049845aa4614f55a4573f7d2fe8cc07"
      }
     },
     "12787c985f5c4390b52eacacb9dbf91c": {
      "model_module": "@jupyter-widgets/output",
      "model_module_version": "1.0.0",
      "model_name": "OutputModel",
      "state": {
       "layout": "IPY_MODEL_cb639107804f45c4804bbbc4a868797f",
       "outputs": [
        {
         "data": {
          "image/png": "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\n",
          "text/plain": "<Figure size 720x720 with 1 Axes>"
         },
         "metadata": {
          "needs_background": "light"
         },
         "output_type": "display_data"
        }
       ]
      }
     },
     "12d1c47880bd4ca5a769a93708d44632": {
      "model_module": "@jupyter-widgets/output",
      "model_module_version": "1.0.0",
      "model_name": "OutputModel",
      "state": {
       "layout": "IPY_MODEL_7f6a25a25de14e52b8ae81a7ceb8556c",
       "outputs": [
        {
         "data": {
          "image/png": "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\n",
          "text/plain": "<Figure size 720x720 with 1 Axes>"
         },
         "metadata": {
          "needs_background": "light"
         },
         "output_type": "display_data"
        }
       ]
      }
     },
     "13742e30150e4f2cbfe2a350e16f070e": {
      "model_module": "@jupyter-widgets/controls",
      "model_module_version": "1.5.0",
      "model_name": "ButtonModel",
      "state": {
       "description": "Poço Infinito",
       "layout": "IPY_MODEL_c056b0f3808649b498c81d606b523bba",
       "style": "IPY_MODEL_fa6a1c18a7d24abeab7e27ea27ce5929"
      }
     },
     "139ffd245c8c4ebda5384230f9404307": {
      "model_module": "@jupyter-widgets/base",
      "model_module_version": "1.2.0",
      "model_name": "LayoutModel",
      "state": {}
     },
     "14a638425cbb4164bd3e15e8d382a453": {
      "model_module": "@jupyter-widgets/controls",
      "model_module_version": "1.5.0",
      "model_name": "IntSliderModel",
      "state": {
       "description": "Altura da imagem (polegadas): ",
       "layout": "IPY_MODEL_3fca809f6f8141d6911c90092b398fa2",
       "max": 20,
       "style": "IPY_MODEL_e8e906d9211c4a869271a3b77805e657",
       "value": 9
      }
     },
     "158aeac59cd44e6888f6ba3abc8091e8": {
      "model_module": "@jupyter-widgets/controls",
      "model_module_version": "1.5.0",
      "model_name": "ButtonStyleModel",
      "state": {}
     },
     "158aef295b8246ba8ea637e8e35f5a06": {
      "model_module": "@jupyter-widgets/controls",
      "model_module_version": "1.5.0",
      "model_name": "GridBoxModel",
      "state": {
       "children": [
        "IPY_MODEL_dbb55760515c45088d30d4d1b2fedcd3",
        "IPY_MODEL_f8a67e4185e94362b3a18ae786756acd",
        "IPY_MODEL_a15dd5d61f9f42bb93093751948ca373",
        "IPY_MODEL_1bb606db7e164f39b716f7d944ef3f37",
        "IPY_MODEL_3401f333d3114cf9b9120a45ba73f97b",
        "IPY_MODEL_89fe92888f764acda1a4d0e58d20f399"
       ],
       "layout": "IPY_MODEL_754d33f50ffb4616be696f265226c762"
      }
     },
     "1611e638a1134854afcb2a9f8fcb79cf": {
      "model_module": "@jupyter-widgets/base",
      "model_module_version": "1.2.0",
      "model_name": "LayoutModel",
      "state": {}
     },
     "16197f7f4e804c54b5a4ab256e7bf637": {
      "model_module": "@jupyter-widgets/controls",
      "model_module_version": "1.5.0",
      "model_name": "DescriptionStyleModel",
      "state": {
       "description_width": ""
      }
     },
     "16d5c7a093da4a599bbeaabe0ded15fc": {
      "model_module": "@jupyter-widgets/output",
      "model_module_version": "1.0.0",
      "model_name": "OutputModel",
      "state": {
       "layout": "IPY_MODEL_45d616eef73a4c1f9b560c0715aa78df"
      }
     },
     "16e9a17652004a4ca7c7622b592b5e9a": {
      "model_module": "@jupyter-widgets/controls",
      "model_module_version": "1.5.0",
      "model_name": "IntSliderModel",
      "state": {
       "description": "Pixels por polegada:",
       "layout": "IPY_MODEL_fd05a5284de34c708d27d9381129e32c",
       "max": 300,
       "min": 10,
       "style": "IPY_MODEL_795bed352bd34c05a5bb8863f1934f36",
       "value": 80
      }
     },
     "16f0fa6dc49e4ebc9c3ad71eb035ba5a": {
      "model_module": "@jupyter-widgets/controls",
      "model_module_version": "1.5.0",
      "model_name": "ButtonModel",
      "state": {
       "description": "Poço Infinito",
       "layout": "IPY_MODEL_64864d876ec6486dbfa507c1566bc492",
       "style": "IPY_MODEL_a4573de677ce4607a0ad93d89b59fa57"
      }
     },
     "16f60a01bef64a8fb8abf92cc5d125bd": {
      "model_module": "@jupyter-widgets/base",
      "model_module_version": "1.2.0",
      "model_name": "LayoutModel",
      "state": {}
     },
     "179035fef2c14bb2af1f146af2cd96e7": {
      "model_module": "@jupyter-widgets/controls",
      "model_module_version": "1.5.0",
      "model_name": "CheckboxModel",
      "state": {
       "description": "Auto limitar eixo y",
       "disabled": false,
       "layout": "IPY_MODEL_7e1116fbd24247b98eae4336846436c9",
       "style": "IPY_MODEL_186e179852564b5bb90c5aacca17af58",
       "value": true
      }
     },
     "1821b62bd9b84e4292ea6d995b85b29a": {
      "model_module": "@jupyter-widgets/controls",
      "model_module_version": "1.5.0",
      "model_name": "SliderStyleModel",
      "state": {
       "description_width": "initial"
      }
     },
     "18596fe2504d49cdafc31d6f1ef933c3": {
      "model_module": "@jupyter-widgets/base",
      "model_module_version": "1.2.0",
      "model_name": "LayoutModel",
      "state": {}
     },
     "1867698c10b64fa5ad1b06e93c489564": {
      "model_module": "@jupyter-widgets/base",
      "model_module_version": "1.2.0",
      "model_name": "LayoutModel",
      "state": {}
     },
     "186e179852564b5bb90c5aacca17af58": {
      "model_module": "@jupyter-widgets/controls",
      "model_module_version": "1.5.0",
      "model_name": "DescriptionStyleModel",
      "state": {
       "description_width": "initial"
      }
     },
     "186fb10dc54c44e4ad6ee2bc40726294": {
      "model_module": "@jupyter-widgets/controls",
      "model_module_version": "1.5.0",
      "model_name": "DescriptionStyleModel",
      "state": {
       "description_width": ""
      }
     },
     "18832e622478473b883cc24d3cefcd5b": {
      "model_module": "@jupyter-widgets/base",
      "model_module_version": "1.2.0",
      "model_name": "LayoutModel",
      "state": {}
     },
     "18b39d2e79544b52a6319b3ef27b07e2": {
      "model_module": "@jupyter-widgets/controls",
      "model_module_version": "1.5.0",
      "model_name": "TabModel",
      "state": {
       "_titles": {
        "0": "Gerar o Sistema",
        "1": "Funções de Onda"
       },
       "children": [
        "IPY_MODEL_9c854c2c8bb44c45a49f3a97e0f59648",
        "IPY_MODEL_6c082da8abff4b4dbf178dd72da9e2f5"
       ],
       "layout": "IPY_MODEL_e7a53257bcc84210b6f5104ef920747c"
      }
     },
     "18cfc0ff393a4743993ebe9d14e235ae": {
      "model_module": "@jupyter-widgets/base",
      "model_module_version": "1.2.0",
      "model_name": "LayoutModel",
      "state": {}
     },
     "18e4f5a2862c4325b5ee7ee828054c9b": {
      "model_module": "@jupyter-widgets/base",
      "model_module_version": "1.2.0",
      "model_name": "LayoutModel",
      "state": {}
     },
     "195181d7509c4b198799cfb6335928c3": {
      "model_module": "@jupyter-widgets/base",
      "model_module_version": "1.2.0",
      "model_name": "LayoutModel",
      "state": {}
     },
     "197ee9c419034c2c92cf9879c0ce7176": {
      "model_module": "@jupyter-widgets/controls",
      "model_module_version": "1.5.0",
      "model_name": "VBoxModel",
      "state": {
       "_dom_classes": [
        "widget-interact"
       ],
       "children": [
        "IPY_MODEL_de767e09c19442fba74c30646c8a4a00",
        "IPY_MODEL_70b7c452abaf4aea825ebf2495a62119",
        "IPY_MODEL_f4d9d31a921a44c3a9eff0afa97ae077",
        "IPY_MODEL_aac29f53529a459f9fd0cf00c6e364f1",
        "IPY_MODEL_2ef38b902d2647c78ff78a28d39b507c",
        "IPY_MODEL_7196e51abb1a4ef6b16290863aea73c5",
        "IPY_MODEL_b4166f2b3f7a48eeb931b9ec3becdc8f",
        "IPY_MODEL_b338fec84c024854a2848316ae289ce8",
        "IPY_MODEL_5bfdc702a3cc4a65b807d615aa20624c",
        "IPY_MODEL_12787c985f5c4390b52eacacb9dbf91c"
       ],
       "layout": "IPY_MODEL_e5030f9c43fb4e668e6198628db571ae"
      }
     },
     "19ac531ca6074645a2046bc71c36247e": {
      "model_module": "@jupyter-widgets/base",
      "model_module_version": "1.2.0",
      "model_name": "LayoutModel",
      "state": {}
     },
     "19e41da74e4a4923b95ea1ab41f015ff": {
      "model_module": "@jupyter-widgets/controls",
      "model_module_version": "1.5.0",
      "model_name": "SliderStyleModel",
      "state": {
       "description_width": "initial"
      }
     },
     "1a686ae60c53477e8efd7db6476743ef": {
      "model_module": "@jupyter-widgets/controls",
      "model_module_version": "1.5.0",
      "model_name": "IntSliderModel",
      "state": {
       "continuous_update": false,
       "description": "Margens horizontais  (angstroms):   ",
       "layout": "IPY_MODEL_d76ef0b3a9a34f99b86bdc3988c4da73",
       "style": "IPY_MODEL_8ae824daf31f4afc89ca56c6a7e79a2a",
       "value": 10
      }
     },
     "1b20e8414ddb425f8239a74230b9328b": {
      "model_module": "@jupyter-widgets/controls",
      "model_module_version": "1.5.0",
      "model_name": "ButtonModel",
      "state": {
       "description": "Poço Infinito",
       "layout": "IPY_MODEL_1611e638a1134854afcb2a9f8fcb79cf",
       "style": "IPY_MODEL_c34f733c091f4d0f87652a3dc6096123"
      }
     },
     "1bb606db7e164f39b716f7d944ef3f37": {
      "model_module": "@jupyter-widgets/controls",
      "model_module_version": "1.5.0",
      "model_name": "LabelModel",
      "state": {
       "layout": "IPY_MODEL_cf3e158eaa114365bfdfc13b7218981a",
       "style": "IPY_MODEL_3636aac59a044909a31d6aaaf15f1812",
       "value": " 70.00"
      }
     },
     "1bdefeb0066c486baefce7517180b5a8": {
      "model_module": "@jupyter-widgets/controls",
      "model_module_version": "1.5.0",
      "model_name": "TabModel",
      "state": {
       "_titles": {
        "0": "Gerar o Sistema",
        "1": "Funções de Onda"
       },
       "children": [
        "IPY_MODEL_b7d9e8c5b20a4b8995b600e1b6218829",
        "IPY_MODEL_197ee9c419034c2c92cf9879c0ce7176"
       ],
       "layout": "IPY_MODEL_0003b8ccd6e142159d18f332ef9b2a9d",
       "selected_index": 1
      }
     },
     "1c2c282ef7d74c3fb64ad4b54af87f9c": {
      "model_module": "@jupyter-widgets/controls",
      "model_module_version": "1.5.0",
      "model_name": "ButtonStyleModel",
      "state": {}
     },
     "1cafbf17e5604b379beb5140ae31d5ce": {
      "model_module": "@jupyter-widgets/base",
      "model_module_version": "1.2.0",
      "model_name": "LayoutModel",
      "state": {}
     },
     "1d948dd5f3bb48c8add87ec7b7daedc2": {
      "model_module": "@jupyter-widgets/base",
      "model_module_version": "1.2.0",
      "model_name": "LayoutModel",
      "state": {}
     },
     "1db00c77eda6462397e238076d8f1ece": {
      "model_module": "@jupyter-widgets/controls",
      "model_module_version": "1.5.0",
      "model_name": "VBoxModel",
      "state": {
       "children": [
        "IPY_MODEL_593eca6634494dc4a5e82755dabd02e3",
        "IPY_MODEL_c8536e1d173f442a915dbd5e255c17c5",
        "IPY_MODEL_d4fb9ba138344984926ebe473657a868",
        "IPY_MODEL_1fa39b1270d84b7d82bab7d48f9545b1"
       ],
       "layout": "IPY_MODEL_278f4f2b0395453085469813a9a13a1e"
      }
     },
     "1e17be3337dd47b5ac8f98e78fbacb9a": {
      "model_module": "@jupyter-widgets/base",
      "model_module_version": "1.2.0",
      "model_name": "LayoutModel",
      "state": {}
     },
     "1e513ee4fe6047f7808ee98dca0dc009": {
      "model_module": "@jupyter-widgets/controls",
      "model_module_version": "1.5.0",
      "model_name": "DescriptionStyleModel",
      "state": {
       "description_width": "initial"
      }
     },
     "1e72992eed274f36bb223e75b3a9f621": {
      "model_module": "@jupyter-widgets/controls",
      "model_module_version": "1.5.0",
      "model_name": "SliderStyleModel",
      "state": {
       "description_width": "initial"
      }
     },
     "1ebf37dafd84471f8d844c3d037b6a6b": {
      "model_module": "@jupyter-widgets/controls",
      "model_module_version": "1.5.0",
      "model_name": "SliderStyleModel",
      "state": {
       "description_width": "initial"
      }
     },
     "1f8cbf76fd4746febeca0d1267a0d1d3": {
      "model_module": "@jupyter-widgets/base",
      "model_module_version": "1.2.0",
      "model_name": "LayoutModel",
      "state": {}
     },
     "1f8fda6b96a7439184676ac61440c80b": {
      "model_module": "@jupyter-widgets/controls",
      "model_module_version": "1.5.0",
      "model_name": "DescriptionStyleModel",
      "state": {
       "description_width": "initial"
      }
     },
     "1f9c667b251042aba32012c76de719b7": {
      "model_module": "@jupyter-widgets/base",
      "model_module_version": "1.2.0",
      "model_name": "LayoutModel",
      "state": {}
     },
     "1fa39b1270d84b7d82bab7d48f9545b1": {
      "model_module": "@jupyter-widgets/controls",
      "model_module_version": "1.5.0",
      "model_name": "ButtonModel",
      "state": {
       "description": "Diagonalizado!",
       "disabled": true,
       "layout": "IPY_MODEL_139ffd245c8c4ebda5384230f9404307",
       "style": "IPY_MODEL_4eddb8dfc9a0434ea3f77af67f9cfe5e"
      }
     },
     "1fb6d4f2f9ef4d559bf40c6f5e066542": {
      "model_module": "@jupyter-widgets/controls",
      "model_module_version": "1.5.0",
      "model_name": "DescriptionStyleModel",
      "state": {
       "description_width": ""
      }
     },
     "2002dbea3cd84a4891c61a12a773d1d1": {
      "model_module": "@jupyter-widgets/controls",
      "model_module_version": "1.5.0",
      "model_name": "DescriptionStyleModel",
      "state": {
       "description_width": ""
      }
     },
     "20691413d0584d7398a3ddc321890a56": {
      "model_module": "@jupyter-widgets/base",
      "model_module_version": "1.2.0",
      "model_name": "LayoutModel",
      "state": {}
     },
     "207b80bac6984befa38850f1d172cc7c": {
      "model_module": "@jupyter-widgets/controls",
      "model_module_version": "1.5.0",
      "model_name": "GridBoxModel",
      "state": {
       "children": [
        "IPY_MODEL_e12c9ffcdf3c416cb82bf2282ee77809",
        "IPY_MODEL_0c5bfbb6aea74ff68f99da592d7be346",
        "IPY_MODEL_c067671168d04b67918fe5c1aed1f8df",
        "IPY_MODEL_bb83e1adcfa84eb9b7c7250771f39654",
        "IPY_MODEL_9db10007d1a84219a95d476d96c67061",
        "IPY_MODEL_0c4c044bcbcf44beb658110057ab6dbf"
       ],
       "layout": "IPY_MODEL_bccfe509720142a2bbce9f7fcadc3cd2"
      }
     },
     "20f234abade2459f86a6f5b0c388eb1c": {
      "model_module": "@jupyter-widgets/controls",
      "model_module_version": "1.5.0",
      "model_name": "IntSliderModel",
      "state": {
       "description": "Pixels por polegada:",
       "layout": "IPY_MODEL_d76ef0b3a9a34f99b86bdc3988c4da73",
       "max": 300,
       "min": 10,
       "style": "IPY_MODEL_f3e0debf8bee4f49bfafd2cf3c24ac4a",
       "value": 80
      }
     },
     "213121a442d148c8a769d0db96dabf37": {
      "model_module": "@jupyter-widgets/controls",
      "model_module_version": "1.5.0",
      "model_name": "SliderStyleModel",
      "state": {
       "description_width": "initial"
      }
     },
     "219da8d07bc1473ead604b38d83c51b4": {
      "model_module": "@jupyter-widgets/controls",
      "model_module_version": "1.5.0",
      "model_name": "ButtonModel",
      "state": {
       "description": "Lennard Jones",
       "layout": "IPY_MODEL_f3e68b8cf5f84d4685f411e26c30be6d",
       "style": "IPY_MODEL_49f23587a8fc4337a7d89c964a297ad0"
      }
     },
     "22fda4802cf247f5b3b067aa118b211c": {
      "model_module": "@jupyter-widgets/controls",
      "model_module_version": "1.5.0",
      "model_name": "DescriptionStyleModel",
      "state": {
       "description_width": "initial"
      }
     },
     "2361341e99b54f918e829d160fda2183": {
      "model_module": "@jupyter-widgets/controls",
      "model_module_version": "1.5.0",
      "model_name": "ButtonModel",
      "state": {
       "description": "Oscilador Harmônico",
       "layout": "IPY_MODEL_63abb9d947da4d21b26987c72077f1f3",
       "style": "IPY_MODEL_1c2c282ef7d74c3fb64ad4b54af87f9c"
      }
     },
     "23b46cd154bb43f880caee4d684e46d4": {
      "model_module": "@jupyter-widgets/controls",
      "model_module_version": "1.5.0",
      "model_name": "IntSliderModel",
      "state": {
       "continuous_update": false,
       "description": "Número de pontos: ",
       "layout": "IPY_MODEL_d76ef0b3a9a34f99b86bdc3988c4da73",
       "max": 1050,
       "min": 50,
       "step": 10,
       "style": "IPY_MODEL_5bfc58b7249a4d129be68f2accf2a309",
       "value": 550
      }
     },
     "240895c93bb3430c8eee956ee5e4323e": {
      "model_module": "@jupyter-widgets/base",
      "model_module_version": "1.2.0",
      "model_name": "LayoutModel",
      "state": {}
     },
     "246477e9f00e4535b638da6caa74d462": {
      "model_module": "@jupyter-widgets/controls",
      "model_module_version": "1.5.0",
      "model_name": "DescriptionStyleModel",
      "state": {
       "description_width": ""
      }
     },
     "2480ee03f1e949c89ec81adce841367a": {
      "model_module": "@jupyter-widgets/base",
      "model_module_version": "1.2.0",
      "model_name": "LayoutModel",
      "state": {}
     },
     "24a144cd43e049cba4311caa6758934b": {
      "model_module": "@jupyter-widgets/base",
      "model_module_version": "1.2.0",
      "model_name": "LayoutModel",
      "state": {}
     },
     "24c6189908d543f58a3b23cca7b851c3": {
      "model_module": "@jupyter-widgets/controls",
      "model_module_version": "1.5.0",
      "model_name": "ButtonStyleModel",
      "state": {}
     },
     "25eddf14829949a3b550fcded7bcee49": {
      "model_module": "@jupyter-widgets/controls",
      "model_module_version": "1.5.0",
      "model_name": "DescriptionStyleModel",
      "state": {
       "description_width": "initial"
      }
     },
     "262945bafcd845888d597bcb218cc4d9": {
      "model_module": "@jupyter-widgets/base",
      "model_module_version": "1.2.0",
      "model_name": "LayoutModel",
      "state": {}
     },
     "262d0760a33c49f0a02f0c55583d70e8": {
      "model_module": "@jupyter-widgets/controls",
      "model_module_version": "1.5.0",
      "model_name": "IntSliderModel",
      "state": {
       "description": "Altura da imagem (polegadas): ",
       "layout": "IPY_MODEL_315fe54d9fa04976a04d9ef9ef0a80a6",
       "max": 20,
       "style": "IPY_MODEL_686fbf8d5a224ef29557181eca8a443f",
       "value": 9
      }
     },
     "27460c3a28d54836a7d11cf0c13733ee": {
      "model_module": "@jupyter-widgets/base",
      "model_module_version": "1.2.0",
      "model_name": "LayoutModel",
      "state": {}
     },
     "274dd3f5283046959a691713971ba9a3": {
      "model_module": "@jupyter-widgets/controls",
      "model_module_version": "1.5.0",
      "model_name": "ButtonStyleModel",
      "state": {}
     },
     "278f4f2b0395453085469813a9a13a1e": {
      "model_module": "@jupyter-widgets/base",
      "model_module_version": "1.2.0",
      "model_name": "LayoutModel",
      "state": {}
     },
     "27d94f7c99784ac18d6429fc8906f094": {
      "model_module": "@jupyter-widgets/controls",
      "model_module_version": "1.5.0",
      "model_name": "TextModel",
      "state": {
       "description": "Expressão de $V(x)$: ",
       "layout": "IPY_MODEL_c7d0f380059549978636c35d4e6a4c0c",
       "placeholder": "Escreva a expressão aqui.",
       "style": "IPY_MODEL_22fda4802cf247f5b3b067aa118b211c",
       "value": "(10)*( (49.2 / (x/ang+84) )**12 - (49.2 / (x/ang+84) )**6)"
      }
     },
     "28dedd683cf7442d8c8ef5292ddb86e0": {
      "model_module": "@jupyter-widgets/controls",
      "model_module_version": "1.5.0",
      "model_name": "DescriptionStyleModel",
      "state": {
       "description_width": "initial"
      }
     },
     "294ff3360f4948c995a2fd683b354b3e": {
      "model_module": "@jupyter-widgets/controls",
      "model_module_version": "1.5.0",
      "model_name": "IntRangeSliderModel",
      "state": {
       "_model_name": "IntRangeSliderModel",
       "_view_name": "IntRangeSliderView",
       "continuous_update": false,
       "description": "Plotar estados:",
       "layout": "IPY_MODEL_3fca809f6f8141d6911c90092b398fa2",
       "max": 20,
       "style": "IPY_MODEL_b8e88827bac14448bb1f9717fcac5558",
       "value": [
        0,
        6
       ]
      }
     },
     "2967840bd25540a480bf960c9e0f8f68": {
      "model_module": "@jupyter-widgets/controls",
      "model_module_version": "1.5.0",
      "model_name": "GridBoxModel",
      "state": {
       "children": [
        "IPY_MODEL_4b7a63ec38a647fc9b36264e3a8f0cb9",
        "IPY_MODEL_b19b6aa18b644a47b2070653b8367abc",
        "IPY_MODEL_2ad2d799e0e04b848f6d80f4901b7a95",
        "IPY_MODEL_d1315fbaecf24044aa9d3d7c7ea29dd4",
        "IPY_MODEL_d174251e1a8c41a9a5194b7db8436bcb",
        "IPY_MODEL_63f42d7428f745b99185815362ac4887"
       ],
       "layout": "IPY_MODEL_7e3d36f1143e49b88ffa66e6622eb386"
      }
     },
     "29c8dfb8a1fe40939ed93779d2d352d5": {
      "model_module": "@jupyter-widgets/base",
      "model_module_version": "1.2.0",
      "model_name": "LayoutModel",
      "state": {}
     },
     "2a166e3b34bc4577ad03bfbed9679c34": {
      "model_module": "@jupyter-widgets/controls",
      "model_module_version": "1.5.0",
      "model_name": "FloatRangeSliderModel",
      "state": {
       "_model_name": "FloatRangeSliderModel",
       "_view_name": "FloatRangeSliderView",
       "description": "Limites do eixo y (angstroms):",
       "layout": "IPY_MODEL_315fe54d9fa04976a04d9ef9ef0a80a6",
       "max": 25,
       "min": -25,
       "readout_format": ".1f",
       "step": 0.05,
       "style": "IPY_MODEL_b9ceb4ff76b94bbaa8cccdb01ab7cdea",
       "value": [
        0,
        5
       ]
      }
     },
     "2a17a25c926349d4bacfb2a2be0d8f35": {
      "model_module": "@jupyter-widgets/base",
      "model_module_version": "1.2.0",
      "model_name": "LayoutModel",
      "state": {}
     },
     "2a2d2e15fe2c4d44af6dbf82ec4de189": {
      "model_module": "@jupyter-widgets/base",
      "model_module_version": "1.2.0",
      "model_name": "LayoutModel",
      "state": {}
     },
     "2ad2d799e0e04b848f6d80f4901b7a95": {
      "model_module": "@jupyter-widgets/controls",
      "model_module_version": "1.5.0",
      "model_name": "LabelModel",
      "state": {
       "layout": "IPY_MODEL_9f8b131fc8a74388b6af5dce990a0d51",
       "style": "IPY_MODEL_63d6e0defb5f46b7971532347e3e0648",
       "value": "Largura do domínio (angstroms) ="
      }
     },
     "2b353896c2434bd78a3afe491e8cf19b": {
      "model_module": "@jupyter-widgets/controls",
      "model_module_version": "1.5.0",
      "model_name": "ButtonStyleModel",
      "state": {}
     },
     "2b6af5757be647a59f96bc0e8077ece0": {
      "model_module": "@jupyter-widgets/base",
      "model_module_version": "1.2.0",
      "model_name": "LayoutModel",
      "state": {}
     },
     "2b9647677f914831a0073d4ac989a40b": {
      "model_module": "@jupyter-widgets/base",
      "model_module_version": "1.2.0",
      "model_name": "LayoutModel",
      "state": {}
     },
     "2c2e757176984d84bd7e54040d68f137": {
      "model_module": "@jupyter-widgets/controls",
      "model_module_version": "1.5.0",
      "model_name": "DescriptionStyleModel",
      "state": {
       "description_width": ""
      }
     },
     "2d7c43b1cb4e429394f645ca52669d07": {
      "model_module": "@jupyter-widgets/controls",
      "model_module_version": "1.5.0",
      "model_name": "DescriptionStyleModel",
      "state": {
       "description_width": ""
      }
     },
     "2dcab277168844848936bdb9b2375027": {
      "model_module": "@jupyter-widgets/base",
      "model_module_version": "1.2.0",
      "model_name": "LayoutModel",
      "state": {}
     },
     "2e07fb662a9541a6be8c186268977bdf": {
      "model_module": "@jupyter-widgets/base",
      "model_module_version": "1.2.0",
      "model_name": "LayoutModel",
      "state": {}
     },
     "2e4425542c4b407e80ce11e35960c7d6": {
      "model_module": "@jupyter-widgets/controls",
      "model_module_version": "1.5.0",
      "model_name": "SliderStyleModel",
      "state": {
       "description_width": "initial"
      }
     },
     "2ef38b902d2647c78ff78a28d39b507c": {
      "model_module": "@jupyter-widgets/controls",
      "model_module_version": "1.5.0",
      "model_name": "IntSliderModel",
      "state": {
       "description": "Altura da imagem (polegadas): ",
       "layout": "IPY_MODEL_a08954f2eb8940219940b492d167ad23",
       "max": 20,
       "style": "IPY_MODEL_46d1541c6879487da8e0d218171176f9",
       "value": 9
      }
     },
     "2f27f9e46f7b46b48b864fed9aabfefc": {
      "model_module": "@jupyter-widgets/controls",
      "model_module_version": "1.5.0",
      "model_name": "DescriptionStyleModel",
      "state": {
       "description_width": ""
      }
     },
     "2f86c422bef94306b7a6b611254cd2e9": {
      "model_module": "@jupyter-widgets/base",
      "model_module_version": "1.2.0",
      "model_name": "LayoutModel",
      "state": {}
     },
     "2fe0998343804386a4905a66c011eb89": {
      "model_module": "@jupyter-widgets/controls",
      "model_module_version": "1.5.0",
      "model_name": "FloatRangeSliderModel",
      "state": {
       "_model_name": "FloatRangeSliderModel",
       "_view_name": "FloatRangeSliderView",
       "continuous_update": false,
       "description": "Domínio de $\\Psi(x)$: ",
       "layout": "IPY_MODEL_3fca809f6f8141d6911c90092b398fa2",
       "max": 150,
       "min": -150,
       "readout_format": "1d",
       "style": "IPY_MODEL_1e72992eed274f36bb223e75b3a9f621",
       "value": [
        -35,
        35
       ]
      }
     },
     "3012513f91634b1f9f0019326c79b88d": {
      "model_module": "@jupyter-widgets/controls",
      "model_module_version": "1.5.0",
      "model_name": "ButtonStyleModel",
      "state": {}
     },
     "3017adc0661141b2bbd5114321e148c7": {
      "model_module": "@jupyter-widgets/controls",
      "model_module_version": "1.5.0",
      "model_name": "ButtonModel",
      "state": {
       "description": "Oscilador Duffing Holmes",
       "layout": "IPY_MODEL_d2f76019e5284ed083525a294e9a5b29",
       "style": "IPY_MODEL_f2e46a20c064420eb3867566aa9fc05c"
      }
     },
     "3067d2378dfd4547ac2875d557a72bbb": {
      "model_module": "@jupyter-widgets/base",
      "model_module_version": "1.2.0",
      "model_name": "LayoutModel",
      "state": {}
     },
     "30bec94746c54ec980f045988b69ee02": {
      "model_module": "@jupyter-widgets/controls",
      "model_module_version": "1.5.0",
      "model_name": "DescriptionStyleModel",
      "state": {
       "description_width": ""
      }
     },
     "315fe54d9fa04976a04d9ef9ef0a80a6": {
      "model_module": "@jupyter-widgets/base",
      "model_module_version": "1.2.0",
      "model_name": "LayoutModel",
      "state": {
       "display": "flex",
       "width": "90%"
      }
     },
     "319a30846a6a41b688c1b124fa63e620": {
      "model_module": "@jupyter-widgets/controls",
      "model_module_version": "1.5.0",
      "model_name": "ButtonModel",
      "state": {
       "description": "Oscilador Harmônico",
       "layout": "IPY_MODEL_d8a54240ae504d498221ea92e686fb28",
       "style": "IPY_MODEL_70bd3f52ac4c46dfb7e8240bcddc3855"
      }
     },
     "31c757ac67e449c4a1e051b78cd47f0a": {
      "model_module": "@jupyter-widgets/controls",
      "model_module_version": "1.5.0",
      "model_name": "SliderStyleModel",
      "state": {
       "description_width": "initial"
      }
     },
     "3239fa7fddf7486aaeaa16fe3188a6b9": {
      "model_module": "@jupyter-widgets/controls",
      "model_module_version": "1.5.0",
      "model_name": "SliderStyleModel",
      "state": {
       "description_width": "initial"
      }
     },
     "3255f51709cd4e6681f9ca8a925dc48b": {
      "model_module": "@jupyter-widgets/controls",
      "model_module_version": "1.5.0",
      "model_name": "ButtonStyleModel",
      "state": {}
     },
     "327905d643614d02ae792242b11bd92d": {
      "model_module": "@jupyter-widgets/controls",
      "model_module_version": "1.5.0",
      "model_name": "DescriptionStyleModel",
      "state": {
       "description_width": "initial"
      }
     },
     "328727cf536a4f76b4e6d008a99cab2c": {
      "model_module": "@jupyter-widgets/controls",
      "model_module_version": "1.5.0",
      "model_name": "LabelModel",
      "state": {
       "layout": "IPY_MODEL_f266d3c2f9bc416fbb06fefb0b601215",
       "style": "IPY_MODEL_30bec94746c54ec980f045988b69ee02",
       "value": "[V_min , V_max] (eV) ="
      }
     },
     "32b5a8f3717f4fefbc8f25c688341e28": {
      "model_module": "@jupyter-widgets/controls",
      "model_module_version": "1.5.0",
      "model_name": "ButtonStyleModel",
      "state": {}
     },
     "330a11d6fd864d2db4fa5be1bc6c0487": {
      "model_module": "@jupyter-widgets/base",
      "model_module_version": "1.2.0",
      "model_name": "LayoutModel",
      "state": {}
     },
     "33105227ccf649538f93d3e41ffdc268": {
      "model_module": "@jupyter-widgets/controls",
      "model_module_version": "1.5.0",
      "model_name": "IntSliderModel",
      "state": {
       "description": "Largura da imagem (polegadas):",
       "layout": "IPY_MODEL_fd05a5284de34c708d27d9381129e32c",
       "max": 20,
       "style": "IPY_MODEL_a752256596db4c06a6aa6ad353ecc5db",
       "value": 9
      }
     },
     "331f16c0b3b0428ebba82733d2575ea4": {
      "model_module": "@jupyter-widgets/controls",
      "model_module_version": "1.5.0",
      "model_name": "SliderStyleModel",
      "state": {
       "description_width": "initial"
      }
     },
     "3401f333d3114cf9b9120a45ba73f97b": {
      "model_module": "@jupyter-widgets/controls",
      "model_module_version": "1.5.0",
      "model_name": "LabelModel",
      "state": {
       "layout": "IPY_MODEL_2b9647677f914831a0073d4ac989a40b",
       "style": "IPY_MODEL_9ca32bfa77334ad298392ac895c471ab",
       "value": "[V_min , V_max] (eV) ="
      }
     },
     "34254d83549a4136962c8b6177794d78": {
      "model_module": "@jupyter-widgets/controls",
      "model_module_version": "1.5.0",
      "model_name": "LabelModel",
      "state": {
       "layout": "IPY_MODEL_f17119a0d30844d6a42b64f58faa0bc8",
       "style": "IPY_MODEL_afb67ee671e84785b5e4251b6cb9da92",
       "value": " 0.13"
      }
     },
     "346ee73b8a504020a3a4e55e987b7431": {
      "model_module": "@jupyter-widgets/base",
      "model_module_version": "1.2.0",
      "model_name": "LayoutModel",
      "state": {}
     },
     "352f4fd00bdb4ee69c6ebcee54443ffc": {
      "model_module": "@jupyter-widgets/controls",
      "model_module_version": "1.5.0",
      "model_name": "DescriptionStyleModel",
      "state": {
       "description_width": ""
      }
     },
     "357ad770f261442baf501920f32662ff": {
      "model_module": "@jupyter-widgets/controls",
      "model_module_version": "1.5.0",
      "model_name": "SliderStyleModel",
      "state": {
       "description_width": "initial"
      }
     },
     "362a46bd689043bdb73330aaf8e3f540": {
      "model_module": "@jupyter-widgets/base",
      "model_module_version": "1.2.0",
      "model_name": "LayoutModel",
      "state": {}
     },
     "3636aac59a044909a31d6aaaf15f1812": {
      "model_module": "@jupyter-widgets/controls",
      "model_module_version": "1.5.0",
      "model_name": "DescriptionStyleModel",
      "state": {
       "description_width": ""
      }
     },
     "370273fa7b0c4c6f839d4f76e8f90e75": {
      "model_module": "@jupyter-widgets/controls",
      "model_module_version": "1.5.0",
      "model_name": "BoxModel",
      "state": {
       "children": [
        "IPY_MODEL_1b20e8414ddb425f8239a74230b9328b",
        "IPY_MODEL_c39c5bbb20a04a17b5147cf9798d8489",
        "IPY_MODEL_048221b228ac4651a3a4f65a0ec30370",
        "IPY_MODEL_219da8d07bc1473ead604b38d83c51b4"
       ],
       "layout": "IPY_MODEL_c6955805d7c54caf9aab083121b8283a"
      }
     },
     "3748b908de424766a96f80d92c3f6c95": {
      "model_module": "@jupyter-widgets/controls",
      "model_module_version": "1.5.0",
      "model_name": "FloatRangeSliderModel",
      "state": {
       "_model_name": "FloatRangeSliderModel",
       "_view_name": "FloatRangeSliderView",
       "continuous_update": false,
       "description": "Domínio de $\\Psi(x)$: ",
       "layout": "IPY_MODEL_fd05a5284de34c708d27d9381129e32c",
       "max": 150,
       "min": -150,
       "readout_format": "1d",
       "style": "IPY_MODEL_8827d57afdb94bf38b568444c3e1cdf2",
       "value": [
        -35,
        35
       ]
      }
     },
     "379d6cea9d454efe97e58b7727184596": {
      "model_module": "@jupyter-widgets/controls",
      "model_module_version": "1.5.0",
      "model_name": "ButtonModel",
      "state": {
       "description": "Gerar",
       "layout": "IPY_MODEL_97b4e5e793804fd28696389163b2e91a",
       "style": "IPY_MODEL_b8ceb4883e6e47279a39ece8ded7596d"
      }
     },
     "382d2be51a0744fea75da3008224614d": {
      "model_module": "@jupyter-widgets/controls",
      "model_module_version": "1.5.0",
      "model_name": "DescriptionStyleModel",
      "state": {
       "description_width": ""
      }
     },
     "38352d5f475f4c69a522d3175ff942d6": {
      "model_module": "@jupyter-widgets/controls",
      "model_module_version": "1.5.0",
      "model_name": "FloatRangeSliderModel",
      "state": {
       "_model_name": "FloatRangeSliderModel",
       "_view_name": "FloatRangeSliderView",
       "description": "Limites do eixo y (angstroms):",
       "layout": "IPY_MODEL_d76ef0b3a9a34f99b86bdc3988c4da73",
       "max": 25,
       "min": -25,
       "readout_format": ".1f",
       "step": 0.05,
       "style": "IPY_MODEL_e39ec3b5325341ef9e0aa44a84fae255",
       "value": [
        0,
        5
       ]
      }
     },
     "384cc75f672b45de98c0e76c57e761aa": {
      "model_module": "@jupyter-widgets/controls",
      "model_module_version": "1.5.0",
      "model_name": "FloatRangeSliderModel",
      "state": {
       "_model_name": "FloatRangeSliderModel",
       "_view_name": "FloatRangeSliderView",
       "continuous_update": false,
       "description": "Domínio de $\\Psi(x)$: ",
       "layout": "IPY_MODEL_c7d0f380059549978636c35d4e6a4c0c",
       "max": 150,
       "min": -150,
       "readout_format": "1d",
       "style": "IPY_MODEL_1ebf37dafd84471f8d844c3d037b6a6b",
       "value": [
        -35,
        35
       ]
      }
     },
     "39b4d9545a304ceb89786a0bb6a62fcd": {
      "model_module": "@jupyter-widgets/controls",
      "model_module_version": "1.5.0",
      "model_name": "DescriptionStyleModel",
      "state": {
       "description_width": ""
      }
     },
     "3afb720dba254c42810acc2d29045df9": {
      "model_module": "@jupyter-widgets/controls",
      "model_module_version": "1.5.0",
      "model_name": "SliderStyleModel",
      "state": {
       "description_width": "initial"
      }
     },
     "3b2c22237f114c9ba019eb0eccbf3f19": {
      "model_module": "@jupyter-widgets/controls",
      "model_module_version": "1.5.0",
      "model_name": "IntSliderModel",
      "state": {
       "description": "Pixels por polegada:",
       "layout": "IPY_MODEL_c7d0f380059549978636c35d4e6a4c0c",
       "max": 300,
       "min": 10,
       "style": "IPY_MODEL_1821b62bd9b84e4292ea6d995b85b29a",
       "value": 80
      }
     },
     "3bee8814f7ab446eb02cc4572323ae48": {
      "model_module": "@jupyter-widgets/controls",
      "model_module_version": "1.5.0",
      "model_name": "VBoxModel",
      "state": {
       "_dom_classes": [
        "widget-interact"
       ],
       "children": [
        "IPY_MODEL_97f85d5f56294fcba58cd3c89e0a970d",
        "IPY_MODEL_e4f2d86708df41d6ba5ef5c8a27ed7e3",
        "IPY_MODEL_e72a75b21d4344b7a87d1ae5c4278b32",
        "IPY_MODEL_b471c779fafd4495977fb0bf3545c059",
        "IPY_MODEL_a40bbe809bc248df942080e68a3c992f"
       ],
       "layout": "IPY_MODEL_e23ec3ad2b5f4e2aaf20ec51e0fa82f4"
      }
     },
     "3d04172189b0414195253cf969e4a314": {
      "model_module": "@jupyter-widgets/controls",
      "model_module_version": "1.5.0",
      "model_name": "SliderStyleModel",
      "state": {
       "description_width": "initial"
      }
     },
     "3d0b1f5be68943bcb9f8169ba4439c1a": {
      "model_module": "@jupyter-widgets/controls",
      "model_module_version": "1.5.0",
      "model_name": "DescriptionStyleModel",
      "state": {
       "description_width": ""
      }
     },
     "3d59e6dd6608421aa35585c078fe1657": {
      "model_module": "@jupyter-widgets/controls",
      "model_module_version": "1.5.0",
      "model_name": "ButtonModel",
      "state": {
       "description": "Diagonalizado!",
       "disabled": true,
       "layout": "IPY_MODEL_7aa03fe11d6e4441aa9f765b5077b054",
       "style": "IPY_MODEL_498a5097fb2e461ab27a11696d56a63a"
      }
     },
     "3e7c2c55e681425ebb98a56d7f69b154": {
      "model_module": "@jupyter-widgets/controls",
      "model_module_version": "1.5.0",
      "model_name": "IntRangeSliderModel",
      "state": {
       "_model_name": "IntRangeSliderModel",
       "_view_name": "IntRangeSliderView",
       "continuous_update": false,
       "description": "Plotar estados:",
       "layout": "IPY_MODEL_315fe54d9fa04976a04d9ef9ef0a80a6",
       "max": 20,
       "style": "IPY_MODEL_c9635f8be7d844be86ecd48e33556ec5",
       "value": [
        0,
        6
       ]
      }
     },
     "3f8f182e067542f9b99f5dcb0a1b3b8c": {
      "model_module": "@jupyter-widgets/controls",
      "model_module_version": "1.5.0",
      "model_name": "SliderStyleModel",
      "state": {
       "description_width": "initial"
      }
     },
     "3fca809f6f8141d6911c90092b398fa2": {
      "model_module": "@jupyter-widgets/base",
      "model_module_version": "1.2.0",
      "model_name": "LayoutModel",
      "state": {
       "display": "flex",
       "width": "90%"
      }
     },
     "4012668367774cbda3a96cf1bcde6314": {
      "model_module": "@jupyter-widgets/base",
      "model_module_version": "1.2.0",
      "model_name": "LayoutModel",
      "state": {}
     },
     "4014fee220ba4cb39b01d9f116580028": {
      "model_module": "@jupyter-widgets/controls",
      "model_module_version": "1.5.0",
      "model_name": "DescriptionStyleModel",
      "state": {
       "description_width": ""
      }
     },
     "4051415fc1804b168317dc615fb3a7cd": {
      "model_module": "@jupyter-widgets/base",
      "model_module_version": "1.2.0",
      "model_name": "LayoutModel",
      "state": {}
     },
     "40639b125eae46a4adbc5764222831d4": {
      "model_module": "@jupyter-widgets/controls",
      "model_module_version": "1.5.0",
      "model_name": "IntSliderModel",
      "state": {
       "continuous_update": false,
       "description": "Margens horizontais  (angstroms):   ",
       "layout": "IPY_MODEL_3fca809f6f8141d6911c90092b398fa2",
       "style": "IPY_MODEL_d1c43e8a8ab7499a9a3cc21722be52f3",
       "value": 10
      }
     },
     "40817f9084e346d08eaa4781c81fae57": {
      "model_module": "@jupyter-widgets/controls",
      "model_module_version": "1.5.0",
      "model_name": "DescriptionStyleModel",
      "state": {
       "description_width": ""
      }
     },
     "40c37227e3884305842d8dcbc02f68c4": {
      "model_module": "@jupyter-widgets/controls",
      "model_module_version": "1.5.0",
      "model_name": "IntSliderModel",
      "state": {
       "description": "Altura da imagem (polegadas): ",
       "layout": "IPY_MODEL_fd05a5284de34c708d27d9381129e32c",
       "max": 20,
       "style": "IPY_MODEL_4a993131bb774dce8066bb62183be8fb",
       "value": 9
      }
     },
     "40ffdb80c3c44285bb457854cd162531": {
      "model_module": "@jupyter-widgets/controls",
      "model_module_version": "1.5.0",
      "model_name": "LabelModel",
      "state": {
       "layout": "IPY_MODEL_f445e887805b4682ba1b2827dd917c6b",
       "style": "IPY_MODEL_47a118c45e1a417a9cc17e2ad0b50037",
       "value": "Largura do domínio (angstroms) ="
      }
     },
     "414ee81b906b42b1bfcc65f916cb775f": {
      "model_module": "@jupyter-widgets/controls",
      "model_module_version": "1.5.0",
      "model_name": "ButtonStyleModel",
      "state": {}
     },
     "422fbb49a3cb4fe8aaa8619a96a57a73": {
      "model_module": "@jupyter-widgets/base",
      "model_module_version": "1.2.0",
      "model_name": "LayoutModel",
      "state": {}
     },
     "42cd669ba3334fe6bc4d5e267f806d98": {
      "model_module": "@jupyter-widgets/controls",
      "model_module_version": "1.5.0",
      "model_name": "ButtonModel",
      "state": {
       "description": "Lennard Jones",
       "layout": "IPY_MODEL_7c797bb0b6c7474e8e3dfbe16ea1631a",
       "style": "IPY_MODEL_8880488567ca4a33a4683a022bcd0474"
      }
     },
     "42fbc92e788f40baa2aa1d4f9fc74ad1": {
      "model_module": "@jupyter-widgets/controls",
      "model_module_version": "1.5.0",
      "model_name": "ButtonModel",
      "state": {
       "description": "Gerar",
       "layout": "IPY_MODEL_eed10c7dadcd4e2a80b7fd171b8d9c4c",
       "style": "IPY_MODEL_274dd3f5283046959a691713971ba9a3"
      }
     },
     "43105c0f5cd14e99900b4d6594cd4492": {
      "model_module": "@jupyter-widgets/controls",
      "model_module_version": "1.5.0",
      "model_name": "SliderStyleModel",
      "state": {
       "description_width": "initial"
      }
     },
     "43390d2ba92c482785f82c23898732e7": {
      "model_module": "@jupyter-widgets/controls",
      "model_module_version": "1.5.0",
      "model_name": "GridBoxModel",
      "state": {
       "children": [
        "IPY_MODEL_5270de79da244b09b4edfac78a9b0914",
        "IPY_MODEL_34254d83549a4136962c8b6177794d78",
        "IPY_MODEL_f953fdf264634609a366e4f770205c51",
        "IPY_MODEL_e04740e62923469a8bffd2fab1d7a688",
        "IPY_MODEL_db3451a2cea94f7a83ecc49246babd86",
        "IPY_MODEL_9e2fd70e31fb4120955e60ab4c687b83"
       ],
       "layout": "IPY_MODEL_f9f3483cba65448b9be4c6d4c0246a87"
      }
     },
     "449fa96b1b534d40ac905b841c30386e": {
      "model_module": "@jupyter-widgets/controls",
      "model_module_version": "1.5.0",
      "model_name": "ButtonModel",
      "state": {
       "description": "Lennard Jones",
       "layout": "IPY_MODEL_27460c3a28d54836a7d11cf0c13733ee",
       "style": "IPY_MODEL_414ee81b906b42b1bfcc65f916cb775f"
      }
     },
     "4510cf3103e34e12a75f27f5f1ac8f59": {
      "model_module": "@jupyter-widgets/controls",
      "model_module_version": "1.5.0",
      "model_name": "VBoxModel",
      "state": {
       "_dom_classes": [
        "widget-interact"
       ],
       "children": [
        "IPY_MODEL_fc958f27cd004286b477895983e42d9b",
        "IPY_MODEL_471bf0f749b34146a4e922f851427e02",
        "IPY_MODEL_884f344892e2450eac658fec99a9f043",
        "IPY_MODEL_33105227ccf649538f93d3e41ffdc268",
        "IPY_MODEL_40c37227e3884305842d8dcbc02f68c4",
        "IPY_MODEL_16e9a17652004a4ca7c7622b592b5e9a",
        "IPY_MODEL_d1b3179740b14ad9b60ac4576fe04c0e",
        "IPY_MODEL_94ffe1a40d7642d69a78c5f701b0997e",
        "IPY_MODEL_8db0711536594eb184347e73e32bf622",
        "IPY_MODEL_16d5c7a093da4a599bbeaabe0ded15fc"
       ],
       "layout": "IPY_MODEL_097892167feb41e88faa6ff872d69362"
      }
     },
     "4573114559474fa4817c9223eea2bca6": {
      "model_module": "@jupyter-widgets/base",
      "model_module_version": "1.2.0",
      "model_name": "LayoutModel",
      "state": {}
     },
     "45d616eef73a4c1f9b560c0715aa78df": {
      "model_module": "@jupyter-widgets/base",
      "model_module_version": "1.2.0",
      "model_name": "LayoutModel",
      "state": {}
     },
     "46d1541c6879487da8e0d218171176f9": {
      "model_module": "@jupyter-widgets/controls",
      "model_module_version": "1.5.0",
      "model_name": "SliderStyleModel",
      "state": {
       "description_width": "initial"
      }
     },
     "471bf0f749b34146a4e922f851427e02": {
      "model_module": "@jupyter-widgets/controls",
      "model_module_version": "1.5.0",
      "model_name": "IntSliderModel",
      "state": {
       "continuous_update": false,
       "description": "Margens horizontais  (angstroms):   ",
       "layout": "IPY_MODEL_fd05a5284de34c708d27d9381129e32c",
       "style": "IPY_MODEL_c3810ff34a3d443bb37daebf41715b92",
       "value": 10
      }
     },
     "4724c7107abf49ecacda249e5b550cb5": {
      "model_module": "@jupyter-widgets/controls",
      "model_module_version": "1.5.0",
      "model_name": "ButtonModel",
      "state": {
       "description": "Plotar",
       "layout": "IPY_MODEL_fd76bca77c0045409d1dbe81d51e2219",
       "style": "IPY_MODEL_47d67529772d4370ac62366e5563a4d3"
      }
     },
     "472f7eab3fa74fc78ded24c775ef343d": {
      "model_module": "@jupyter-widgets/controls",
      "model_module_version": "1.5.0",
      "model_name": "DescriptionStyleModel",
      "state": {
       "description_width": "initial"
      }
     },
     "4779d2391d2d45a3beef92900d56a219": {
      "model_module": "@jupyter-widgets/base",
      "model_module_version": "1.2.0",
      "model_name": "LayoutModel",
      "state": {}
     },
     "47a118c45e1a417a9cc17e2ad0b50037": {
      "model_module": "@jupyter-widgets/controls",
      "model_module_version": "1.5.0",
      "model_name": "DescriptionStyleModel",
      "state": {
       "description_width": ""
      }
     },
     "47d67529772d4370ac62366e5563a4d3": {
      "model_module": "@jupyter-widgets/controls",
      "model_module_version": "1.5.0",
      "model_name": "ButtonStyleModel",
      "state": {}
     },
     "4800719e34a54949a3741bb977e0944b": {
      "model_module": "@jupyter-widgets/controls",
      "model_module_version": "1.5.0",
      "model_name": "SliderStyleModel",
      "state": {
       "description_width": "initial"
      }
     },
     "48ae5a15a558441aa2662665b371c948": {
      "model_module": "@jupyter-widgets/base",
      "model_module_version": "1.2.0",
      "model_name": "LayoutModel",
      "state": {}
     },
     "492b72f310a944f6b49dd92f19f9a40b": {
      "model_module": "@jupyter-widgets/base",
      "model_module_version": "1.2.0",
      "model_name": "LayoutModel",
      "state": {}
     },
     "498a5097fb2e461ab27a11696d56a63a": {
      "model_module": "@jupyter-widgets/controls",
      "model_module_version": "1.5.0",
      "model_name": "ButtonStyleModel",
      "state": {}
     },
     "49948709ff7f4f32a11fd6b996a7448b": {
      "model_module": "@jupyter-widgets/controls",
      "model_module_version": "1.5.0",
      "model_name": "ButtonModel",
      "state": {
       "description": "Oscilador Duffing Holmes",
       "layout": "IPY_MODEL_e56cc7916e09482f90dff7c010585b87",
       "style": "IPY_MODEL_a1eca37f58254357a5afd6bc60c0128c"
      }
     },
     "49a458073abe49408d3de14de5781202": {
      "model_module": "@jupyter-widgets/controls",
      "model_module_version": "1.5.0",
      "model_name": "IntSliderModel",
      "state": {
       "continuous_update": false,
       "description": "Número de pontos: ",
       "layout": "IPY_MODEL_a08954f2eb8940219940b492d167ad23",
       "max": 1050,
       "min": 50,
       "step": 10,
       "style": "IPY_MODEL_e2b60875b3f84bffb0b3a9f62d2f6cc0",
       "value": 550
      }
     },
     "49cc7c978cac4c24b0ea063ede6abd8f": {
      "model_module": "@jupyter-widgets/base",
      "model_module_version": "1.2.0",
      "model_name": "LayoutModel",
      "state": {}
     },
     "49f23587a8fc4337a7d89c964a297ad0": {
      "model_module": "@jupyter-widgets/controls",
      "model_module_version": "1.5.0",
      "model_name": "ButtonStyleModel",
      "state": {}
     },
     "4a126b174966415dbbc26b508eb442ee": {
      "model_module": "@jupyter-widgets/controls",
      "model_module_version": "1.5.0",
      "model_name": "BoxModel",
      "state": {
       "children": [
        "IPY_MODEL_61855809f6e843c4b85c09a64f8e6d2f",
        "IPY_MODEL_319a30846a6a41b688c1b124fa63e620",
        "IPY_MODEL_a8f78ab15f3b4094817e40e4d6b473e9",
        "IPY_MODEL_4f6101b5701e4e679d1a85f7c243762a"
       ],
       "layout": "IPY_MODEL_cfb69e84364e4e86be8d5f16a5c1d6ef"
      }
     },
     "4a15f97750734aefa282b704714e89e9": {
      "model_module": "@jupyter-widgets/output",
      "model_module_version": "1.0.0",
      "model_name": "OutputModel",
      "state": {
       "layout": "IPY_MODEL_f31a6452b6614c998a6de81a2c62fc4d"
      }
     },
     "4a993131bb774dce8066bb62183be8fb": {
      "model_module": "@jupyter-widgets/controls",
      "model_module_version": "1.5.0",
      "model_name": "SliderStyleModel",
      "state": {
       "description_width": "initial"
      }
     },
     "4b28587e7cb14df1ba9b8f6e579a0ad0": {
      "model_module": "@jupyter-widgets/controls",
      "model_module_version": "1.5.0",
      "model_name": "DropdownModel",
      "state": {
       "_options_labels": [
        "densidades de probabilidades",
        "funções de onda (parte real, +)",
        "funções de onda (parte imaginária)"
       ],
       "description": "Plotar as",
       "index": 0,
       "layout": "IPY_MODEL_d1b70250736d45da9093dc2e1bdc5df3",
       "style": "IPY_MODEL_d11b7b60eff8460daa810ae44fa1e4f1"
      }
     },
     "4b77e3c2f5f4466b81f82437d0288371": {
      "model_module": "@jupyter-widgets/controls",
      "model_module_version": "1.5.0",
      "model_name": "LabelModel",
      "state": {
       "layout": "IPY_MODEL_c89c20c7d2e14b94aa25a30579b9519e",
       "style": "IPY_MODEL_77491f451e0548368a1d8a3369ab7a8e",
       "value": "[V_min , V_max] (eV) ="
      }
     },
     "4b7a63ec38a647fc9b36264e3a8f0cb9": {
      "model_module": "@jupyter-widgets/controls",
      "model_module_version": "1.5.0",
      "model_name": "LabelModel",
      "state": {
       "layout": "IPY_MODEL_865363b20877488eb566425dc3c8035a",
       "style": "IPY_MODEL_16197f7f4e804c54b5a4ab256e7bf637",
       "value": "Passo $\\Delta x $ (angstroms) ="
      }
     },
     "4ba82c2bca8d47d599872b8895df9fab": {
      "model_module": "@jupyter-widgets/controls",
      "model_module_version": "1.5.0",
      "model_name": "LabelModel",
      "state": {
       "layout": "IPY_MODEL_24a144cd43e049cba4311caa6758934b",
       "style": "IPY_MODEL_d2e75bb11c8b41dbba549866ff21a95a",
       "value": "[0.00000 , 0.00000]"
      }
     },
     "4bb12051fac34be2b4d9d7aaa9bcc9d7": {
      "model_module": "@jupyter-widgets/controls",
      "model_module_version": "1.5.0",
      "model_name": "VBoxModel",
      "state": {
       "children": [
        "IPY_MODEL_b8ea349242a943de97d68a9e7bf35f92",
        "IPY_MODEL_4a126b174966415dbbc26b508eb442ee",
        "IPY_MODEL_2967840bd25540a480bf960c9e0f8f68",
        "IPY_MODEL_ecf8b877a7c94b95b27141f3d4f336d2"
       ],
       "layout": "IPY_MODEL_ccb4ff5a8ba547cf96c4d7614a37725d"
      }
     },
     "4be100a2aba044329d92a6816a5c53a3": {
      "model_module": "@jupyter-widgets/controls",
      "model_module_version": "1.5.0",
      "model_name": "FloatRangeSliderModel",
      "state": {
       "_model_name": "FloatRangeSliderModel",
       "_view_name": "FloatRangeSliderView",
       "description": "Limites do eixo y (angstroms):",
       "layout": "IPY_MODEL_c7d0f380059549978636c35d4e6a4c0c",
       "max": 25,
       "min": -25,
       "readout_format": ".1f",
       "step": 0.05,
       "style": "IPY_MODEL_de6dd1422e93466a9c6f3aa2086bb8c3",
       "value": [
        0,
        5
       ]
      }
     },
     "4cae518a491b40c8935915517a2a5138": {
      "model_module": "@jupyter-widgets/output",
      "model_module_version": "1.0.0",
      "model_name": "OutputModel",
      "state": {
       "layout": "IPY_MODEL_b507e166b8994e518813840cc29415d0",
       "outputs": [
        {
         "data": {
          "image/png": "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\n",
          "text/plain": "<Figure size 720x720 with 1 Axes>"
         },
         "metadata": {
          "needs_background": "light"
         },
         "output_type": "display_data"
        }
       ]
      }
     },
     "4d528de08d18405d9dfc09a8fe954f6f": {
      "model_module": "@jupyter-widgets/controls",
      "model_module_version": "1.5.0",
      "model_name": "DescriptionStyleModel",
      "state": {
       "description_width": ""
      }
     },
     "4e69c368ae414eaca6e10c179f5383b4": {
      "model_module": "@jupyter-widgets/controls",
      "model_module_version": "1.5.0",
      "model_name": "SliderStyleModel",
      "state": {
       "description_width": "initial"
      }
     },
     "4eddb8dfc9a0434ea3f77af67f9cfe5e": {
      "model_module": "@jupyter-widgets/controls",
      "model_module_version": "1.5.0",
      "model_name": "ButtonStyleModel",
      "state": {}
     },
     "4ef1b905928e4afcb655032a5ae03690": {
      "model_module": "@jupyter-widgets/controls",
      "model_module_version": "1.5.0",
      "model_name": "SliderStyleModel",
      "state": {
       "description_width": "initial"
      }
     },
     "4f4e29251607416a97cb3aeb9ccdf9ba": {
      "model_module": "@jupyter-widgets/controls",
      "model_module_version": "1.5.0",
      "model_name": "ButtonModel",
      "state": {
       "description": "Plotar",
       "layout": "IPY_MODEL_d5412ffc2cbf4efb89b5c91a7e4ff5c8",
       "style": "IPY_MODEL_a2f755ca2f044823bc8f6e90ed64791b"
      }
     },
     "4f6101b5701e4e679d1a85f7c243762a": {
      "model_module": "@jupyter-widgets/controls",
      "model_module_version": "1.5.0",
      "model_name": "ButtonModel",
      "state": {
       "description": "Lennard Jones",
       "layout": "IPY_MODEL_84b12c9ae1c04466b498409cea974aac",
       "style": "IPY_MODEL_9eda03e7bafc488e82eb7734f5e03f66"
      }
     },
     "501c4cfdba5f42dd92996e5d5af4ca30": {
      "model_module": "@jupyter-widgets/controls",
      "model_module_version": "1.5.0",
      "model_name": "DescriptionStyleModel",
      "state": {
       "description_width": "initial"
      }
     },
     "502aee396f194e72accf835bd27916c3": {
      "model_module": "@jupyter-widgets/controls",
      "model_module_version": "1.5.0",
      "model_name": "IntSliderModel",
      "state": {
       "continuous_update": false,
       "description": "Número de pontos: ",
       "layout": "IPY_MODEL_c7d0f380059549978636c35d4e6a4c0c",
       "max": 1050,
       "min": 50,
       "step": 10,
       "style": "IPY_MODEL_d123716308d44855b639e338fc8faaf5",
       "value": 550
      }
     },
     "5035e07735da4175a3e963af55072f55": {
      "model_module": "@jupyter-widgets/base",
      "model_module_version": "1.2.0",
      "model_name": "LayoutModel",
      "state": {}
     },
     "5065c4ff34b44f47bf17af588313e190": {
      "model_module": "@jupyter-widgets/base",
      "model_module_version": "1.2.0",
      "model_name": "LayoutModel",
      "state": {}
     },
     "50dd73968d324339b6c0d888fafc2a53": {
      "model_module": "@jupyter-widgets/controls",
      "model_module_version": "1.5.0",
      "model_name": "DescriptionStyleModel",
      "state": {
       "description_width": ""
      }
     },
     "50e9f2c9299e4f11b0545a033bf9a8b5": {
      "model_module": "@jupyter-widgets/controls",
      "model_module_version": "1.5.0",
      "model_name": "LabelModel",
      "state": {
       "layout": "IPY_MODEL_e6d194d52da74e38b050203ca0d5f0ab",
       "style": "IPY_MODEL_40817f9084e346d08eaa4781c81fae57",
       "value": "[V_min , V_max] (eV) ="
      }
     },
     "516d2f33b20f4d34b7c4c3269a53e9e1": {
      "model_module": "@jupyter-widgets/controls",
      "model_module_version": "1.5.0",
      "model_name": "IntSliderModel",
      "state": {
       "continuous_update": false,
       "description": "Margens horizontais  (angstroms):   ",
       "layout": "IPY_MODEL_74f2c7edb61a4833873164a150fb7eca",
       "style": "IPY_MODEL_89127a7f6d5e4bbbb82d479843ffdd81",
       "value": 10
      }
     },
     "5270de79da244b09b4edfac78a9b0914": {
      "model_module": "@jupyter-widgets/controls",
      "model_module_version": "1.5.0",
      "model_name": "LabelModel",
      "state": {
       "layout": "IPY_MODEL_362a46bd689043bdb73330aaf8e3f540",
       "style": "IPY_MODEL_f2804cfe19b04b9d9a4142d03b74bce4",
       "value": "Passo $\\Delta x $ (angstroms) ="
      }
     },
     "52d56ab3dc8b4f87ad4b0178d8d5217a": {
      "model_module": "@jupyter-widgets/base",
      "model_module_version": "1.2.0",
      "model_name": "LayoutModel",
      "state": {
       "grid_template_columns": "repeat(2, 250px)"
      }
     },
     "54434043d9854d569400692a495dbe22": {
      "model_module": "@jupyter-widgets/controls",
      "model_module_version": "1.5.0",
      "model_name": "BoxModel",
      "state": {
       "children": [
        "IPY_MODEL_0eaaaf4d88d24404b6874c808217d54c",
        "IPY_MODEL_d4154f70adb040bfbb8fda261a56900a",
        "IPY_MODEL_49948709ff7f4f32a11fd6b996a7448b",
        "IPY_MODEL_71872ca73d1742529137fd4a96cab6f4"
       ],
       "layout": "IPY_MODEL_d5610c2bd75845398daec351b9e9a7ba"
      }
     },
     "549b1cddf2aa49de99ca535838b22a24": {
      "model_module": "@jupyter-widgets/base",
      "model_module_version": "1.2.0",
      "model_name": "LayoutModel",
      "state": {}
     },
     "5710c4eaad5b4e1fa77ecf161a1342d8": {
      "model_module": "@jupyter-widgets/controls",
      "model_module_version": "1.5.0",
      "model_name": "ButtonStyleModel",
      "state": {}
     },
     "582fff85774e4abe862c7540b5a770b8": {
      "model_module": "@jupyter-widgets/controls",
      "model_module_version": "1.5.0",
      "model_name": "SliderStyleModel",
      "state": {
       "description_width": "initial"
      }
     },
     "591650ee00ab475488e84e00d2dc9c87": {
      "model_module": "@jupyter-widgets/output",
      "model_module_version": "1.0.0",
      "model_name": "OutputModel",
      "state": {
       "layout": "IPY_MODEL_6cdf249802ac41e480b7fb25d28d2025",
       "outputs": [
        {
         "ename": "TypeError",
         "evalue": "not enough arguments: expected 5, got 4",
         "output_type": "error",
         "traceback": [
          "\u001b[0;31m---------------------------------------------------------------------------\u001b[0m",
          "\u001b[0;31mTypeError\u001b[0m                                 Traceback (most recent call last)",
          "\u001b[0;32m~/miniconda3/lib/python3.9/site-packages/ipywidgets/widgets/interaction.py\u001b[0m in \u001b[0;36mupdate\u001b[0;34m(self, *args)\u001b[0m\n\u001b[1;32m    254\u001b[0m                     \u001b[0mvalue\u001b[0m \u001b[0;34m=\u001b[0m \u001b[0mwidget\u001b[0m\u001b[0;34m.\u001b[0m\u001b[0mget_interact_value\u001b[0m\u001b[0;34m(\u001b[0m\u001b[0;34m)\u001b[0m\u001b[0;34m\u001b[0m\u001b[0;34m\u001b[0m\u001b[0m\n\u001b[1;32m    255\u001b[0m                     \u001b[0mself\u001b[0m\u001b[0;34m.\u001b[0m\u001b[0mkwargs\u001b[0m\u001b[0;34m[\u001b[0m\u001b[0mwidget\u001b[0m\u001b[0;34m.\u001b[0m\u001b[0m_kwarg\u001b[0m\u001b[0;34m]\u001b[0m \u001b[0;34m=\u001b[0m \u001b[0mvalue\u001b[0m\u001b[0;34m\u001b[0m\u001b[0;34m\u001b[0m\u001b[0m\n\u001b[0;32m--> 256\u001b[0;31m                 \u001b[0mself\u001b[0m\u001b[0;34m.\u001b[0m\u001b[0mresult\u001b[0m \u001b[0;34m=\u001b[0m \u001b[0mself\u001b[0m\u001b[0;34m.\u001b[0m\u001b[0mf\u001b[0m\u001b[0;34m(\u001b[0m\u001b[0;34m**\u001b[0m\u001b[0mself\u001b[0m\u001b[0;34m.\u001b[0m\u001b[0mkwargs\u001b[0m\u001b[0;34m)\u001b[0m\u001b[0;34m\u001b[0m\u001b[0;34m\u001b[0m\u001b[0m\n\u001b[0m\u001b[1;32m    257\u001b[0m                 \u001b[0mshow_inline_matplotlib_plots\u001b[0m\u001b[0;34m(\u001b[0m\u001b[0;34m)\u001b[0m\u001b[0;34m\u001b[0m\u001b[0;34m\u001b[0m\u001b[0m\n\u001b[1;32m    258\u001b[0m                 \u001b[0;32mif\u001b[0m \u001b[0mself\u001b[0m\u001b[0;34m.\u001b[0m\u001b[0mauto_display\u001b[0m \u001b[0;32mand\u001b[0m \u001b[0mself\u001b[0m\u001b[0;34m.\u001b[0m\u001b[0mresult\u001b[0m \u001b[0;32mis\u001b[0m \u001b[0;32mnot\u001b[0m \u001b[0;32mNone\u001b[0m\u001b[0;34m:\u001b[0m\u001b[0;34m\u001b[0m\u001b[0;34m\u001b[0m\u001b[0m\n",
          "\u001b[0;32m<ipython-input-2-37b37c2f2abd>\u001b[0m in \u001b[0;36mplotall\u001b[0;34m(NES, limx, wav, xs, ys, dpi, limy, autolim)\u001b[0m\n\u001b[1;32m     87\u001b[0m \u001b[0;34m\u001b[0m\u001b[0m\n\u001b[1;32m     88\u001b[0m     \u001b[0;32mif\u001b[0m \u001b[0mwav\u001b[0m\u001b[0;34m==\u001b[0m\u001b[0;36m1\u001b[0m\u001b[0;34m:\u001b[0m\u001b[0;34m\u001b[0m\u001b[0;34m\u001b[0m\u001b[0m\n\u001b[0;32m---> 89\u001b[0;31m         \u001b[0mprobb\u001b[0m\u001b[0;34m=\u001b[0m\u001b[0mnorm\u001b[0m\u001b[0;34m(\u001b[0m\u001b[0mprob\u001b[0m\u001b[0;34m,\u001b[0m\u001b[0mnmin\u001b[0m\u001b[0;34m,\u001b[0m\u001b[0mnmax\u001b[0m\u001b[0;34m,\u001b[0m\u001b[0mEn\u001b[0m\u001b[0;34m)\u001b[0m\u001b[0;34m\u001b[0m\u001b[0;34m\u001b[0m\u001b[0m\n\u001b[0m\u001b[1;32m     90\u001b[0m         \u001b[0;32mfor\u001b[0m \u001b[0mi\u001b[0m \u001b[0;32min\u001b[0m \u001b[0mrange\u001b[0m\u001b[0;34m(\u001b[0m\u001b[0mnmax\u001b[0m\u001b[0;34m,\u001b[0m\u001b[0mnmin\u001b[0m\u001b[0;34m-\u001b[0m\u001b[0;36m1\u001b[0m\u001b[0;34m,\u001b[0m\u001b[0;34m-\u001b[0m\u001b[0;36m1\u001b[0m\u001b[0;34m)\u001b[0m\u001b[0;34m:\u001b[0m\u001b[0;34m\u001b[0m\u001b[0;34m\u001b[0m\u001b[0m\n\u001b[1;32m     91\u001b[0m             fig=plt.plot(x/ang,probb[:,i]+En[i], \n",
          "\u001b[0;31mTypeError\u001b[0m: not enough arguments: expected 5, got 4"
         ]
        }
       ]
      }
     },
     "592e83b017cc41be8b45e3153fdf1ff9": {
      "model_module": "@jupyter-widgets/controls",
      "model_module_version": "1.5.0",
      "model_name": "ButtonModel",
      "state": {
       "description": "Oscilador Harmônico",
       "layout": "IPY_MODEL_03a2c86167724ca19e5165b01e4343d2",
       "style": "IPY_MODEL_32b5a8f3717f4fefbc8f25c688341e28"
      }
     },
     "593a4c1269364f388d427de80fce8834": {
      "model_module": "@jupyter-widgets/base",
      "model_module_version": "1.2.0",
      "model_name": "LayoutModel",
      "state": {}
     },
     "593eca6634494dc4a5e82755dabd02e3": {
      "model_module": "@jupyter-widgets/controls",
      "model_module_version": "1.5.0",
      "model_name": "VBoxModel",
      "state": {
       "_dom_classes": [
        "widget-interact"
       ],
       "children": [
        "IPY_MODEL_2fe0998343804386a4905a66c011eb89",
        "IPY_MODEL_6fc5fd9d11274e34b3fd76a3cfea93b9",
        "IPY_MODEL_a60f5fda68ef4e9fac956104707512ba",
        "IPY_MODEL_379d6cea9d454efe97e58b7727184596",
        "IPY_MODEL_bf68ba8355ff42c98fada977f13ceebf"
       ],
       "layout": "IPY_MODEL_262945bafcd845888d597bcb218cc4d9"
      }
     },
     "5a455975ab7044798e37745f3a0773b5": {
      "model_module": "@jupyter-widgets/controls",
      "model_module_version": "1.5.0",
      "model_name": "ButtonModel",
      "state": {
       "description": "Gerar",
       "layout": "IPY_MODEL_a104291db3d04a45a195440d50caebe5",
       "style": "IPY_MODEL_7aa64e49c64d475d9fca9ced3256fb44"
      }
     },
     "5ae3aa4dce4b49a88db53c1c24d2aadf": {
      "model_module": "@jupyter-widgets/controls",
      "model_module_version": "1.5.0",
      "model_name": "DescriptionStyleModel",
      "state": {
       "description_width": ""
      }
     },
     "5bfc58b7249a4d129be68f2accf2a309": {
      "model_module": "@jupyter-widgets/controls",
      "model_module_version": "1.5.0",
      "model_name": "SliderStyleModel",
      "state": {
       "description_width": "initial"
      }
     },
     "5bfdc702a3cc4a65b807d615aa20624c": {
      "model_module": "@jupyter-widgets/controls",
      "model_module_version": "1.5.0",
      "model_name": "ButtonModel",
      "state": {
       "description": "Plotar",
       "layout": "IPY_MODEL_f3ce96c0048f4cc58fe4d8274afd679b",
       "style": "IPY_MODEL_d39636d038b94db9b9f3a0576913d78f"
      }
     },
     "5c5f3ab82be945b09bbfc22af07fc2f4": {
      "model_module": "@jupyter-widgets/controls",
      "model_module_version": "1.5.0",
      "model_name": "CheckboxModel",
      "state": {
       "description": "Auto limitar eixo y",
       "disabled": false,
       "layout": "IPY_MODEL_f600db16473b4349b9c3461c0ca64697",
       "style": "IPY_MODEL_1e513ee4fe6047f7808ee98dca0dc009",
       "value": true
      }
     },
     "5c8ab2218dd44f278a90c2dc6c9d1c23": {
      "model_module": "@jupyter-widgets/controls",
      "model_module_version": "1.5.0",
      "model_name": "TabModel",
      "state": {
       "_titles": {
        "0": "Gerar o Sistema",
        "1": "Funções de Onda"
       },
       "children": [
        "IPY_MODEL_d22890b43326467094d28018c2013db8",
        "IPY_MODEL_78bb6f89137b42339146a9323ab0ea6c"
       ],
       "layout": "IPY_MODEL_593a4c1269364f388d427de80fce8834"
      }
     },
     "5ce680f6327840b2b71b65aaa415975e": {
      "model_module": "@jupyter-widgets/base",
      "model_module_version": "1.2.0",
      "model_name": "LayoutModel",
      "state": {}
     },
     "5e9a86dc98b64472879521906e233081": {
      "model_module": "@jupyter-widgets/base",
      "model_module_version": "1.2.0",
      "model_name": "LayoutModel",
      "state": {}
     },
     "5ed60e778cec4e78963db4e99c37417e": {
      "model_module": "@jupyter-widgets/base",
      "model_module_version": "1.2.0",
      "model_name": "LayoutModel",
      "state": {}
     },
     "5f18a1f57233433bbb933d61b87c37ef": {
      "model_module": "@jupyter-widgets/controls",
      "model_module_version": "1.5.0",
      "model_name": "IntSliderModel",
      "state": {
       "continuous_update": false,
       "description": "Margens horizontais  (angstroms):   ",
       "layout": "IPY_MODEL_c7d0f380059549978636c35d4e6a4c0c",
       "style": "IPY_MODEL_e8cf0c5fa5244f9492d09683f84d62e0",
       "value": 10
      }
     },
     "5fc8e0e4e38045a7b9994490568bb048": {
      "model_module": "@jupyter-widgets/controls",
      "model_module_version": "1.5.0",
      "model_name": "ButtonStyleModel",
      "state": {}
     },
     "5fca3a2ee9ef4f5582d1d8c659786d16": {
      "model_module": "@jupyter-widgets/controls",
      "model_module_version": "1.5.0",
      "model_name": "ButtonStyleModel",
      "state": {}
     },
     "61855809f6e843c4b85c09a64f8e6d2f": {
      "model_module": "@jupyter-widgets/controls",
      "model_module_version": "1.5.0",
      "model_name": "ButtonModel",
      "state": {
       "description": "Poço Infinito",
       "layout": "IPY_MODEL_4012668367774cbda3a96cf1bcde6314",
       "style": "IPY_MODEL_976343340b9f484286dd86f6b5253ee2"
      }
     },
     "61f2ea49dc9e4deabc01a72203f49754": {
      "model_module": "@jupyter-widgets/controls",
      "model_module_version": "1.5.0",
      "model_name": "BoxModel",
      "state": {
       "children": [
        "IPY_MODEL_16f0fa6dc49e4ebc9c3ad71eb035ba5a",
        "IPY_MODEL_2361341e99b54f918e829d160fda2183",
        "IPY_MODEL_863bacd7b5a542db999aaffa6ef0fa5e",
        "IPY_MODEL_42cd669ba3334fe6bc4d5e267f806d98"
       ],
       "layout": "IPY_MODEL_195181d7509c4b198799cfb6335928c3"
      }
     },
     "62632d9b52d84736a99b62a4def4bb15": {
      "model_module": "@jupyter-widgets/controls",
      "model_module_version": "1.5.0",
      "model_name": "ButtonModel",
      "state": {
       "description": "Diagonalizado!",
       "disabled": true,
       "layout": "IPY_MODEL_1190b275aa614a53a0221472925ab546",
       "style": "IPY_MODEL_83f7c850792643c197249d13f030d53d"
      }
     },
     "637531dcaf0f48339d0dce9433440078": {
      "model_module": "@jupyter-widgets/controls",
      "model_module_version": "1.5.0",
      "model_name": "LabelModel",
      "state": {
       "layout": "IPY_MODEL_ba4a8b7b8f614186a75014de18905286",
       "style": "IPY_MODEL_352f4fd00bdb4ee69c6ebcee54443ffc",
       "value": " 70.00"
      }
     },
     "63abb9d947da4d21b26987c72077f1f3": {
      "model_module": "@jupyter-widgets/base",
      "model_module_version": "1.2.0",
      "model_name": "LayoutModel",
      "state": {}
     },
     "63b2e32175a54d0eac5d12829ad56953": {
      "model_module": "@jupyter-widgets/controls",
      "model_module_version": "1.5.0",
      "model_name": "LabelModel",
      "state": {
       "layout": "IPY_MODEL_29c8dfb8a1fe40939ed93779d2d352d5",
       "style": "IPY_MODEL_4d528de08d18405d9dfc09a8fe954f6f",
       "value": "Largura do domínio (angstroms) ="
      }
     },
     "63d6e0defb5f46b7971532347e3e0648": {
      "model_module": "@jupyter-widgets/controls",
      "model_module_version": "1.5.0",
      "model_name": "DescriptionStyleModel",
      "state": {
       "description_width": ""
      }
     },
     "63dc3928bfc04529898c4a675c7c3c34": {
      "model_module": "@jupyter-widgets/base",
      "model_module_version": "1.2.0",
      "model_name": "LayoutModel",
      "state": {}
     },
     "63e1411b19164a33accde7c063a50167": {
      "model_module": "@jupyter-widgets/output",
      "model_module_version": "1.0.0",
      "model_name": "OutputModel",
      "state": {
       "layout": "IPY_MODEL_1e17be3337dd47b5ac8f98e78fbacb9a",
       "outputs": [
        {
         "data": {
          "image/png": "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\n",
          "text/plain": "<Figure size 864x576 with 1 Axes>"
         },
         "metadata": {
          "needs_background": "light"
         },
         "output_type": "display_data"
        }
       ]
      }
     },
     "63f42d7428f745b99185815362ac4887": {
      "model_module": "@jupyter-widgets/controls",
      "model_module_version": "1.5.0",
      "model_name": "LabelModel",
      "state": {
       "layout": "IPY_MODEL_ed2ba1bb5055488083bd43986ebd5935",
       "style": "IPY_MODEL_c8772a7677404a3e9ded0eb5f8d29de2",
       "value": "[0.00000 , 1.95739]"
      }
     },
     "644ae7183fc441b3aac13fb176364af8": {
      "model_module": "@jupyter-widgets/controls",
      "model_module_version": "1.5.0",
      "model_name": "DescriptionStyleModel",
      "state": {
       "description_width": "initial"
      }
     },
     "64864d876ec6486dbfa507c1566bc492": {
      "model_module": "@jupyter-widgets/base",
      "model_module_version": "1.2.0",
      "model_name": "LayoutModel",
      "state": {}
     },
     "65983dc26cdc41d584b62202f3088cf8": {
      "model_module": "@jupyter-widgets/controls",
      "model_module_version": "1.5.0",
      "model_name": "DescriptionStyleModel",
      "state": {
       "description_width": ""
      }
     },
     "65e787d3ab15412089c75d1067caac3a": {
      "model_module": "@jupyter-widgets/controls",
      "model_module_version": "1.5.0",
      "model_name": "LabelModel",
      "state": {
       "layout": "IPY_MODEL_1d948dd5f3bb48c8add87ec7b7daedc2",
       "style": "IPY_MODEL_b5b8153f0d744c96a4a0c269e517d765",
       "value": "dx"
      }
     },
     "65e8f9c09da9427d9ccf29ae670ed138": {
      "model_module": "@jupyter-widgets/controls",
      "model_module_version": "1.5.0",
      "model_name": "ButtonStyleModel",
      "state": {}
     },
     "66501a4e9a4b491aa2998afd8d702d29": {
      "model_module": "@jupyter-widgets/controls",
      "model_module_version": "1.5.0",
      "model_name": "SliderStyleModel",
      "state": {
       "description_width": "initial"
      }
     },
     "6716d2ab732945139b050d7682ecf486": {
      "model_module": "@jupyter-widgets/controls",
      "model_module_version": "1.5.0",
      "model_name": "VBoxModel",
      "state": {
       "_dom_classes": [
        "widget-interact"
       ],
       "children": [
        "IPY_MODEL_3748b908de424766a96f80d92c3f6c95",
        "IPY_MODEL_ebc9ca8495fc4f7db15798522a197328",
        "IPY_MODEL_6c05bc885f2141cdb8d9bf164a0bb453",
        "IPY_MODEL_5a455975ab7044798e37745f3a0773b5",
        "IPY_MODEL_4a15f97750734aefa282b704714e89e9"
       ],
       "layout": "IPY_MODEL_ce59e257a68c4b469377b8f34dd24552"
      }
     },
     "671e3d79c5164738a88ec770f1e2a5eb": {
      "model_module": "@jupyter-widgets/controls",
      "model_module_version": "1.5.0",
      "model_name": "LabelModel",
      "state": {
       "layout": "IPY_MODEL_c13527a028964095bbc8977fcf51f8e9",
       "style": "IPY_MODEL_83c11f6b5b80408e9ab329233de1e8d4",
       "value": "Largura do domínio (angstroms) ="
      }
     },
     "686fbf8d5a224ef29557181eca8a443f": {
      "model_module": "@jupyter-widgets/controls",
      "model_module_version": "1.5.0",
      "model_name": "SliderStyleModel",
      "state": {
       "description_width": "initial"
      }
     },
     "6980c8d2ba584d2aac4538df52227eef": {
      "model_module": "@jupyter-widgets/controls",
      "model_module_version": "1.5.0",
      "model_name": "IntSliderModel",
      "state": {
       "continuous_update": false,
       "description": "Margens horizontais  (angstroms):   ",
       "layout": "IPY_MODEL_9caac3cd92b74d8589b76eba8f40dc88",
       "style": "IPY_MODEL_ecb106f439384a66a2b2013826035c79",
       "value": 10
      }
     },
     "6b2ffb1b13484047a2b1ce6138551ba6": {
      "model_module": "@jupyter-widgets/base",
      "model_module_version": "1.2.0",
      "model_name": "LayoutModel",
      "state": {}
     },
     "6b9b6d5e85644afa9a2f48f20c5538b2": {
      "model_module": "@jupyter-widgets/base",
      "model_module_version": "1.2.0",
      "model_name": "LayoutModel",
      "state": {}
     },
     "6c05bc885f2141cdb8d9bf164a0bb453": {
      "model_module": "@jupyter-widgets/controls",
      "model_module_version": "1.5.0",
      "model_name": "TextModel",
      "state": {
       "description": "Expressão de $V(x)$: ",
       "layout": "IPY_MODEL_fd05a5284de34c708d27d9381129e32c",
       "placeholder": "Escreva a expressão aqui.",
       "style": "IPY_MODEL_b3c144d46ce4410a99376be60710c002",
       "value": "0"
      }
     },
     "6c082da8abff4b4dbf178dd72da9e2f5": {
      "model_module": "@jupyter-widgets/controls",
      "model_module_version": "1.5.0",
      "model_name": "VBoxModel",
      "state": {
       "_dom_classes": [
        "widget-interact"
       ],
       "children": [
        "IPY_MODEL_0da412f6dddc43189c6901c5c9faf9c1",
        "IPY_MODEL_1a686ae60c53477e8efd7db6476743ef",
        "IPY_MODEL_4b28587e7cb14df1ba9b8f6e579a0ad0",
        "IPY_MODEL_bb78d943a01c42fc992d34511c773741",
        "IPY_MODEL_736768da0b8d41a18f4fe6e018879dc0",
        "IPY_MODEL_20f234abade2459f86a6f5b0c388eb1c",
        "IPY_MODEL_38352d5f475f4c69a522d3175ff942d6",
        "IPY_MODEL_6d7f593bc4564382961c24570754359d",
        "IPY_MODEL_4f4e29251607416a97cb3aeb9ccdf9ba",
        "IPY_MODEL_591650ee00ab475488e84e00d2dc9c87"
       ],
       "layout": "IPY_MODEL_fdfabe00af034582a24d314cc282e80d"
      }
     },
     "6cdf249802ac41e480b7fb25d28d2025": {
      "model_module": "@jupyter-widgets/base",
      "model_module_version": "1.2.0",
      "model_name": "LayoutModel",
      "state": {}
     },
     "6ce92b73bd964205a31aacf8a7d8dd4e": {
      "model_module": "@jupyter-widgets/controls",
      "model_module_version": "1.5.0",
      "model_name": "ButtonModel",
      "state": {
       "description": "Gerar",
       "layout": "IPY_MODEL_ad809159514e429bb000909883d0e7f1",
       "style": "IPY_MODEL_d931ebb48ba44adaa1f1e314f01d57da"
      }
     },
     "6d7f593bc4564382961c24570754359d": {
      "model_module": "@jupyter-widgets/controls",
      "model_module_version": "1.5.0",
      "model_name": "CheckboxModel",
      "state": {
       "description": "Auto limitar eixo y",
       "disabled": false,
       "layout": "IPY_MODEL_ba8da8f00d884c0290c6712586dfd015",
       "style": "IPY_MODEL_e8cc804f73c54a5c8fb0c1ea7333e9c6",
       "value": true
      }
     },
     "6f0e13a69abd48998873f234014d051b": {
      "model_module": "@jupyter-widgets/base",
      "model_module_version": "1.2.0",
      "model_name": "LayoutModel",
      "state": {}
     },
     "6f629fffe1a0475097e80b3940c64a1a": {
      "model_module": "@jupyter-widgets/controls",
      "model_module_version": "1.5.0",
      "model_name": "ButtonModel",
      "state": {
       "description": "Diagonalizar",
       "disabled": true,
       "layout": "IPY_MODEL_492b72f310a944f6b49dd92f19f9a40b",
       "style": "IPY_MODEL_f5c549923fd242019fa2b4566d905eb0"
      }
     },
     "6fa34492ffb449a694d75d17f8160826": {
      "model_module": "@jupyter-widgets/controls",
      "model_module_version": "1.5.0",
      "model_name": "IntSliderModel",
      "state": {
       "description": "Pixels por polegada:",
       "layout": "IPY_MODEL_3fca809f6f8141d6911c90092b398fa2",
       "max": 300,
       "min": 10,
       "style": "IPY_MODEL_31c757ac67e449c4a1e051b78cd47f0a",
       "value": 80
      }
     },
     "6fc5fd9d11274e34b3fd76a3cfea93b9": {
      "model_module": "@jupyter-widgets/controls",
      "model_module_version": "1.5.0",
      "model_name": "IntSliderModel",
      "state": {
       "continuous_update": false,
       "description": "Número de pontos: ",
       "layout": "IPY_MODEL_3fca809f6f8141d6911c90092b398fa2",
       "max": 1050,
       "min": 50,
       "step": 10,
       "style": "IPY_MODEL_e18fe7ba49fd4ef4abc9a9383b63ec8d",
       "value": 550
      }
     },
     "6feacdceb8ba4a7988a0fba7c942f3b4": {
      "model_module": "@jupyter-widgets/base",
      "model_module_version": "1.2.0",
      "model_name": "LayoutModel",
      "state": {}
     },
     "7024a9bbf6cc468e9996dd6c311a21ad": {
      "model_module": "@jupyter-widgets/output",
      "model_module_version": "1.0.0",
      "model_name": "OutputModel",
      "state": {
       "layout": "IPY_MODEL_f8429a22170d43dcaab96b0254b7757b",
       "outputs": [
        {
         "data": {
          "image/png": "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\n",
          "text/plain": "<Figure size 720x720 with 1 Axes>"
         },
         "metadata": {
          "needs_background": "light"
         },
         "output_type": "display_data"
        }
       ]
      }
     },
     "70551c985a2a42ef8cf652a726a06829": {
      "model_module": "@jupyter-widgets/base",
      "model_module_version": "1.2.0",
      "model_name": "LayoutModel",
      "state": {}
     },
     "70b7c452abaf4aea825ebf2495a62119": {
      "model_module": "@jupyter-widgets/controls",
      "model_module_version": "1.5.0",
      "model_name": "IntSliderModel",
      "state": {
       "continuous_update": false,
       "description": "Margens horizontais  (angstroms):   ",
       "layout": "IPY_MODEL_a08954f2eb8940219940b492d167ad23",
       "style": "IPY_MODEL_03839166f3e34807b9bef564da71d926",
       "value": 10
      }
     },
     "70bd3f52ac4c46dfb7e8240bcddc3855": {
      "model_module": "@jupyter-widgets/controls",
      "model_module_version": "1.5.0",
      "model_name": "ButtonStyleModel",
      "state": {}
     },
     "70c39cfbcc444f0998ec41b0cf2e6899": {
      "model_module": "@jupyter-widgets/controls",
      "model_module_version": "1.5.0",
      "model_name": "TabModel",
      "state": {
       "_titles": {
        "0": "Gerar o Sistema",
        "1": "Funções de Onda"
       },
       "children": [
        "IPY_MODEL_0759d2f5a7cb43059a5e3bb49fcbf9c1",
        "IPY_MODEL_4510cf3103e34e12a75f27f5f1ac8f59"
       ],
       "layout": "IPY_MODEL_70551c985a2a42ef8cf652a726a06829"
      }
     },
     "7160c0f4b8ae4243be1b55c0b31294bd": {
      "model_module": "@jupyter-widgets/controls",
      "model_module_version": "1.5.0",
      "model_name": "LabelModel",
      "state": {
       "layout": "IPY_MODEL_090d8df1e2b4404aa774a120c1180e07",
       "style": "IPY_MODEL_246477e9f00e4535b638da6caa74d462",
       "value": " 70.00"
      }
     },
     "71872ca73d1742529137fd4a96cab6f4": {
      "model_module": "@jupyter-widgets/controls",
      "model_module_version": "1.5.0",
      "model_name": "ButtonModel",
      "state": {
       "description": "Lennard Jones",
       "layout": "IPY_MODEL_bcff4b6d29d0484c92993c7a368f9942",
       "style": "IPY_MODEL_766b87395ec040ff9145636c2dbe717f"
      }
     },
     "7196e51abb1a4ef6b16290863aea73c5": {
      "model_module": "@jupyter-widgets/controls",
      "model_module_version": "1.5.0",
      "model_name": "IntSliderModel",
      "state": {
       "description": "Pixels por polegada:",
       "layout": "IPY_MODEL_a08954f2eb8940219940b492d167ad23",
       "max": 300,
       "min": 10,
       "style": "IPY_MODEL_9f4aa31c19a746b9aca65b72c01f69eb",
       "value": 80
      }
     },
     "71bb86fd286d4552aafffb8cff01d17a": {
      "model_module": "@jupyter-widgets/controls",
      "model_module_version": "1.5.0",
      "model_name": "SliderStyleModel",
      "state": {
       "description_width": "initial"
      }
     },
     "71cc2ee963ba437fbd0403075a2493ff": {
      "model_module": "@jupyter-widgets/controls",
      "model_module_version": "1.5.0",
      "model_name": "FloatRangeSliderModel",
      "state": {
       "_model_name": "FloatRangeSliderModel",
       "_view_name": "FloatRangeSliderView",
       "continuous_update": false,
       "description": "Domínio de $\\Psi(x)$: ",
       "layout": "IPY_MODEL_74f2c7edb61a4833873164a150fb7eca",
       "max": 150,
       "min": -150,
       "readout_format": "1d",
       "style": "IPY_MODEL_43105c0f5cd14e99900b4d6594cd4492",
       "value": [
        -35,
        35
       ]
      }
     },
     "71f14f73479d47a4932c0c87e71eca87": {
      "model_module": "@jupyter-widgets/controls",
      "model_module_version": "1.5.0",
      "model_name": "SliderStyleModel",
      "state": {
       "description_width": "initial"
      }
     },
     "721fa2db7aba4b51a4854aa715a6d9c6": {
      "model_module": "@jupyter-widgets/controls",
      "model_module_version": "1.5.0",
      "model_name": "FloatRangeSliderModel",
      "state": {
       "_model_name": "FloatRangeSliderModel",
       "_view_name": "FloatRangeSliderView",
       "continuous_update": false,
       "description": "Domínio de $\\Psi(x)$: ",
       "layout": "IPY_MODEL_315fe54d9fa04976a04d9ef9ef0a80a6",
       "max": 150,
       "min": -150,
       "readout_format": "1d",
       "style": "IPY_MODEL_109ea970454143f3a15ecde640c7e80f",
       "value": [
        -35,
        35
       ]
      }
     },
     "722b8331df474715abb4ef2f461fe349": {
      "model_module": "@jupyter-widgets/controls",
      "model_module_version": "1.5.0",
      "model_name": "VBoxModel",
      "state": {
       "children": [
        "IPY_MODEL_114e87d03f474e219a341c849807c8df",
        "IPY_MODEL_0542c081be3c4ab39d4b301fcb85b0a0",
        "IPY_MODEL_158aef295b8246ba8ea637e8e35f5a06",
        "IPY_MODEL_b7c4c1a86d5549cf9f462970b6dfb38a"
       ],
       "layout": "IPY_MODEL_0bfcf43412d94d07840c8826caa5f505"
      }
     },
     "727dcce56ea44224bc5f0ce87ea72c1e": {
      "model_module": "@jupyter-widgets/controls",
      "model_module_version": "1.5.0",
      "model_name": "IntSliderModel",
      "state": {
       "continuous_update": false,
       "description": "Margens horizontais  (angstroms):   ",
       "layout": "IPY_MODEL_315fe54d9fa04976a04d9ef9ef0a80a6",
       "style": "IPY_MODEL_cc7880c477b544b88d0bed56425638c9",
       "value": 10
      }
     },
     "736768da0b8d41a18f4fe6e018879dc0": {
      "model_module": "@jupyter-widgets/controls",
      "model_module_version": "1.5.0",
      "model_name": "IntSliderModel",
      "state": {
       "description": "Altura da imagem (polegadas): ",
       "layout": "IPY_MODEL_d76ef0b3a9a34f99b86bdc3988c4da73",
       "max": 20,
       "style": "IPY_MODEL_71f14f73479d47a4932c0c87e71eca87",
       "value": 9
      }
     },
     "740b0f2abf3f4fd1b47025c5f7d88e3f": {
      "model_module": "@jupyter-widgets/base",
      "model_module_version": "1.2.0",
      "model_name": "LayoutModel",
      "state": {}
     },
     "74dad0608bd04b77906931ede501222d": {
      "model_module": "@jupyter-widgets/controls",
      "model_module_version": "1.5.0",
      "model_name": "LabelModel",
      "state": {
       "layout": "IPY_MODEL_1f9c667b251042aba32012c76de719b7",
       "style": "IPY_MODEL_2d7c43b1cb4e429394f645ca52669d07",
       "value": " 0.13"
      }
     },
     "74f2c7edb61a4833873164a150fb7eca": {
      "model_module": "@jupyter-widgets/base",
      "model_module_version": "1.2.0",
      "model_name": "LayoutModel",
      "state": {
       "display": "flex",
       "width": "90%"
      }
     },
     "754d33f50ffb4616be696f265226c762": {
      "model_module": "@jupyter-widgets/base",
      "model_module_version": "1.2.0",
      "model_name": "LayoutModel",
      "state": {
       "grid_template_columns": "repeat(2, 250px)"
      }
     },
     "75670cd6da2d48c2a2ab10b17a502e03": {
      "model_module": "@jupyter-widgets/base",
      "model_module_version": "1.2.0",
      "model_name": "LayoutModel",
      "state": {}
     },
     "75e05aee12d7485eaf63ce1df784cc47": {
      "model_module": "@jupyter-widgets/controls",
      "model_module_version": "1.5.0",
      "model_name": "VBoxModel",
      "state": {
       "_dom_classes": [
        "widget-interact"
       ],
       "children": [
        "IPY_MODEL_908ad20ff6af489493b495c42acbd234",
        "IPY_MODEL_5f18a1f57233433bbb933d61b87c37ef",
        "IPY_MODEL_83ea9f05808241dc8d8bff6136178748",
        "IPY_MODEL_1219736c752a4ac69d46e01bbb6d77f8",
        "IPY_MODEL_015a77c18daf47f5a6abbc2d15097d88",
        "IPY_MODEL_3b2c22237f114c9ba019eb0eccbf3f19",
        "IPY_MODEL_4be100a2aba044329d92a6816a5c53a3",
        "IPY_MODEL_78d2ac06038a4bde91714c0612c8e989",
        "IPY_MODEL_f9b488dffcbc48479875570e94ba468f",
        "IPY_MODEL_4cae518a491b40c8935915517a2a5138"
       ],
       "layout": "IPY_MODEL_df245e09593a46a4af3f33ae0d888419"
      }
     },
     "766b87395ec040ff9145636c2dbe717f": {
      "model_module": "@jupyter-widgets/controls",
      "model_module_version": "1.5.0",
      "model_name": "ButtonStyleModel",
      "state": {}
     },
     "76fce855c24f44ce814634b9eae97676": {
      "model_module": "@jupyter-widgets/controls",
      "model_module_version": "1.5.0",
      "model_name": "ButtonStyleModel",
      "state": {}
     },
     "773c38bf32f74524b245ff6836169f78": {
      "model_module": "@jupyter-widgets/controls",
      "model_module_version": "1.5.0",
      "model_name": "VBoxModel",
      "state": {
       "_dom_classes": [
        "widget-interact"
       ],
       "children": [
        "IPY_MODEL_8d122445075d4e3e9329bb12f28e647d",
        "IPY_MODEL_23b46cd154bb43f880caee4d684e46d4",
        "IPY_MODEL_e84aed9f30014aefbadfb4b91ee8ab94",
        "IPY_MODEL_42fbc92e788f40baa2aa1d4f9fc74ad1",
        "IPY_MODEL_87b56b51f79f48fca6c8bb427e765c5b"
       ],
       "layout": "IPY_MODEL_2a17a25c926349d4bacfb2a2be0d8f35"
      }
     },
     "77491f451e0548368a1d8a3369ab7a8e": {
      "model_module": "@jupyter-widgets/controls",
      "model_module_version": "1.5.0",
      "model_name": "DescriptionStyleModel",
      "state": {
       "description_width": ""
      }
     },
     "77f44b8d4ed94a72af3727a3686d6aea": {
      "model_module": "@jupyter-widgets/controls",
      "model_module_version": "1.5.0",
      "model_name": "ButtonModel",
      "state": {
       "description": "Lennard Jones",
       "layout": "IPY_MODEL_a549fbb918324e119415ae6b1729deb7",
       "style": "IPY_MODEL_76fce855c24f44ce814634b9eae97676"
      }
     },
     "78bb6f89137b42339146a9323ab0ea6c": {
      "model_module": "@jupyter-widgets/controls",
      "model_module_version": "1.5.0",
      "model_name": "VBoxModel",
      "state": {
       "_dom_classes": [
        "widget-interact"
       ],
       "children": [
        "IPY_MODEL_d8e0dadee39748faab9769818e2b81b4",
        "IPY_MODEL_516d2f33b20f4d34b7c4c3269a53e9e1",
        "IPY_MODEL_8c5dafbaa7464313bbdc6c39f01210d2",
        "IPY_MODEL_a70a3ed7daf642ec9b67ea7a11bcb0c4",
        "IPY_MODEL_7ce136f7c26e4dc8a0756b1bd5561ee6",
        "IPY_MODEL_dc259d40573e4c0ca878a2ff3ca9afcd",
        "IPY_MODEL_dd3f7d24b1c9475197a64908728c9d84",
        "IPY_MODEL_5c5f3ab82be945b09bbfc22af07fc2f4",
        "IPY_MODEL_b6355fdd4fd34ba2ab91f909481cc813",
        "IPY_MODEL_7024a9bbf6cc468e9996dd6c311a21ad"
       ],
       "layout": "IPY_MODEL_0808bc98b95c4703bddf5c74288081de"
      }
     },
     "78c4f33ffbe446cd9de72b86b21b9e96": {
      "model_module": "@jupyter-widgets/base",
      "model_module_version": "1.2.0",
      "model_name": "LayoutModel",
      "state": {}
     },
     "78d2ac06038a4bde91714c0612c8e989": {
      "model_module": "@jupyter-widgets/controls",
      "model_module_version": "1.5.0",
      "model_name": "CheckboxModel",
      "state": {
       "description": "Auto limitar eixo y",
       "disabled": false,
       "layout": "IPY_MODEL_e03a8a61c51048b78ffbef98dba9bcc9",
       "style": "IPY_MODEL_115aa75780ea4bd9af723e9bac490b6e",
       "value": true
      }
     },
     "795bed352bd34c05a5bb8863f1934f36": {
      "model_module": "@jupyter-widgets/controls",
      "model_module_version": "1.5.0",
      "model_name": "SliderStyleModel",
      "state": {
       "description_width": "initial"
      }
     },
     "79a008922dc240679dea102d66354e85": {
      "model_module": "@jupyter-widgets/base",
      "model_module_version": "1.2.0",
      "model_name": "LayoutModel",
      "state": {}
     },
     "79b3e8f555d44fb98a0bbc414b197458": {
      "model_module": "@jupyter-widgets/base",
      "model_module_version": "1.2.0",
      "model_name": "LayoutModel",
      "state": {}
     },
     "79f8617e2af543a487f3ef159a854d8a": {
      "model_module": "@jupyter-widgets/base",
      "model_module_version": "1.2.0",
      "model_name": "LayoutModel",
      "state": {}
     },
     "79fb1d2ce85c45099da5bc2913025f53": {
      "model_module": "@jupyter-widgets/controls",
      "model_module_version": "1.5.0",
      "model_name": "TabModel",
      "state": {
       "_titles": {
        "0": "Gerar o Sistema",
        "1": "Funções de Onda"
       },
       "children": [
        "IPY_MODEL_4bb12051fac34be2b4d9d7aaa9bcc9d7",
        "IPY_MODEL_d94a6d19ab0d4c239c5d68f45804f7df"
       ],
       "layout": "IPY_MODEL_fbd30649b1184904994ed581a5eee20f",
       "selected_index": 1
      }
     },
     "7a47f4425b9b46fdab94410310f577f6": {
      "model_module": "@jupyter-widgets/output",
      "model_module_version": "1.0.0",
      "model_name": "OutputModel",
      "state": {
       "layout": "IPY_MODEL_f4b48a0cf3bd4d0f96a5c1bc2460db79",
       "outputs": [
        {
         "data": {
          "image/png": "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\n",
          "text/plain": "<Figure size 864x576 with 1 Axes>"
         },
         "metadata": {
          "needs_background": "light"
         },
         "output_type": "display_data"
        }
       ]
      }
     },
     "7a85e8e94e9c484bb440271f7d55ff00": {
      "model_module": "@jupyter-widgets/controls",
      "model_module_version": "1.5.0",
      "model_name": "DescriptionStyleModel",
      "state": {
       "description_width": ""
      }
     },
     "7aa03fe11d6e4441aa9f765b5077b054": {
      "model_module": "@jupyter-widgets/base",
      "model_module_version": "1.2.0",
      "model_name": "LayoutModel",
      "state": {}
     },
     "7aa64e49c64d475d9fca9ced3256fb44": {
      "model_module": "@jupyter-widgets/controls",
      "model_module_version": "1.5.0",
      "model_name": "ButtonStyleModel",
      "state": {}
     },
     "7c797bb0b6c7474e8e3dfbe16ea1631a": {
      "model_module": "@jupyter-widgets/base",
      "model_module_version": "1.2.0",
      "model_name": "LayoutModel",
      "state": {}
     },
     "7ca7d05fa8c6401cbb09c598b55189a3": {
      "model_module": "@jupyter-widgets/controls",
      "model_module_version": "1.5.0",
      "model_name": "ButtonModel",
      "state": {
       "description": "Oscilador Duffing Holmes",
       "layout": "IPY_MODEL_d8680e7aac6449aab593d904ba9995f7",
       "style": "IPY_MODEL_24c6189908d543f58a3b23cca7b851c3"
      }
     },
     "7ce136f7c26e4dc8a0756b1bd5561ee6": {
      "model_module": "@jupyter-widgets/controls",
      "model_module_version": "1.5.0",
      "model_name": "IntSliderModel",
      "state": {
       "description": "Altura da imagem (polegadas): ",
       "layout": "IPY_MODEL_74f2c7edb61a4833873164a150fb7eca",
       "max": 20,
       "style": "IPY_MODEL_fee0b943b21a4beda2f978f37077af9e",
       "value": 9
      }
     },
     "7cf2ca7ae15f47f681d3ad72e932442e": {
      "model_module": "@jupyter-widgets/controls",
      "model_module_version": "1.5.0",
      "model_name": "DescriptionStyleModel",
      "state": {
       "description_width": "initial"
      }
     },
     "7d55a96c54b3400586a953265ec3207f": {
      "model_module": "@jupyter-widgets/base",
      "model_module_version": "1.2.0",
      "model_name": "LayoutModel",
      "state": {}
     },
     "7de41f5064a04bbcb82e27f936f905b3": {
      "model_module": "@jupyter-widgets/controls",
      "model_module_version": "1.5.0",
      "model_name": "FloatRangeSliderModel",
      "state": {
       "_model_name": "FloatRangeSliderModel",
       "_view_name": "FloatRangeSliderView",
       "continuous_update": false,
       "description": "Domínio de $\\Psi(x)$: ",
       "layout": "IPY_MODEL_a08954f2eb8940219940b492d167ad23",
       "max": 150,
       "min": -150,
       "readout_format": "1d",
       "style": "IPY_MODEL_eb3c4e3f3d0e47cdb92512e1167160e4",
       "value": [
        -35,
        35
       ]
      }
     },
     "7e1116fbd24247b98eae4336846436c9": {
      "model_module": "@jupyter-widgets/base",
      "model_module_version": "1.2.0",
      "model_name": "LayoutModel",
      "state": {}
     },
     "7e3d36f1143e49b88ffa66e6622eb386": {
      "model_module": "@jupyter-widgets/base",
      "model_module_version": "1.2.0",
      "model_name": "LayoutModel",
      "state": {
       "grid_template_columns": "repeat(2, 250px)"
      }
     },
     "7ed7e5c87b6a4bb0bd9b0a09d092c5f4": {
      "model_module": "@jupyter-widgets/controls",
      "model_module_version": "1.5.0",
      "model_name": "IntSliderModel",
      "state": {
       "description": "Largura da imagem (polegadas):",
       "layout": "IPY_MODEL_3fca809f6f8141d6911c90092b398fa2",
       "max": 20,
       "style": "IPY_MODEL_9281e3fd0b7b47d9bf44e96b7c07141b",
       "value": 9
      }
     },
     "7ef2a50f2dd24a19bcd7ba26b7f34410": {
      "model_module": "@jupyter-widgets/base",
      "model_module_version": "1.2.0",
      "model_name": "LayoutModel",
      "state": {}
     },
     "7efa6aa4d2ce414098ec5eef7b375de6": {
      "model_module": "@jupyter-widgets/controls",
      "model_module_version": "1.5.0",
      "model_name": "ButtonModel",
      "state": {
       "description": "Poço Infinito",
       "layout": "IPY_MODEL_16f60a01bef64a8fb8abf92cc5d125bd",
       "style": "IPY_MODEL_0d83b44b486c413783e865f5633f9374"
      }
     },
     "7f024ff82ee3477dab34f9569b79ca23": {
      "model_module": "@jupyter-widgets/controls",
      "model_module_version": "1.5.0",
      "model_name": "ButtonModel",
      "state": {
       "description": "Oscilador Duffing Holmes",
       "layout": "IPY_MODEL_4051415fc1804b168317dc615fb3a7cd",
       "style": "IPY_MODEL_a9dbf86402ac483683755148c39564f4"
      }
     },
     "7f1b3234fc2d47dc9ea18ce456fe58a1": {
      "model_module": "@jupyter-widgets/controls",
      "model_module_version": "1.5.0",
      "model_name": "ButtonStyleModel",
      "state": {}
     },
     "7f6a25a25de14e52b8ae81a7ceb8556c": {
      "model_module": "@jupyter-widgets/base",
      "model_module_version": "1.2.0",
      "model_name": "LayoutModel",
      "state": {}
     },
     "7f76b0dfff9b426a9c295691c45e861b": {
      "model_module": "@jupyter-widgets/controls",
      "model_module_version": "1.5.0",
      "model_name": "DescriptionStyleModel",
      "state": {
       "description_width": "initial"
      }
     },
     "82505c8eb7ca403cbc19142ca7e3895f": {
      "model_module": "@jupyter-widgets/controls",
      "model_module_version": "1.5.0",
      "model_name": "IntSliderModel",
      "state": {
       "continuous_update": false,
       "description": "Número de pontos: ",
       "layout": "IPY_MODEL_74f2c7edb61a4833873164a150fb7eca",
       "max": 1050,
       "min": 50,
       "step": 10,
       "style": "IPY_MODEL_8c30efa545fa47e1a5d3d5c39ea4992b",
       "value": 550
      }
     },
     "825466b382b34e5281c11f1bbc1bbf26": {
      "model_module": "@jupyter-widgets/controls",
      "model_module_version": "1.5.0",
      "model_name": "DescriptionStyleModel",
      "state": {
       "description_width": ""
      }
     },
     "83c11f6b5b80408e9ab329233de1e8d4": {
      "model_module": "@jupyter-widgets/controls",
      "model_module_version": "1.5.0",
      "model_name": "DescriptionStyleModel",
      "state": {
       "description_width": ""
      }
     },
     "83ea9f05808241dc8d8bff6136178748": {
      "model_module": "@jupyter-widgets/controls",
      "model_module_version": "1.5.0",
      "model_name": "DropdownModel",
      "state": {
       "_options_labels": [
        "densidades de probabilidades",
        "funções de onda (parte real, +)",
        "funções de onda (parte imaginária)"
       ],
       "description": "Plotar as",
       "index": 1,
       "layout": "IPY_MODEL_5e9a86dc98b64472879521906e233081",
       "style": "IPY_MODEL_fb66bd8f46de4889bf1081e7db2a9837"
      }
     },
     "83f7c850792643c197249d13f030d53d": {
      "model_module": "@jupyter-widgets/controls",
      "model_module_version": "1.5.0",
      "model_name": "ButtonStyleModel",
      "state": {}
     },
     "845a214100f149b296264f3f0e16a326": {
      "model_module": "@jupyter-widgets/controls",
      "model_module_version": "1.5.0",
      "model_name": "SliderStyleModel",
      "state": {
       "description_width": "initial"
      }
     },
     "84b12c9ae1c04466b498409cea974aac": {
      "model_module": "@jupyter-widgets/base",
      "model_module_version": "1.2.0",
      "model_name": "LayoutModel",
      "state": {}
     },
     "863bacd7b5a542db999aaffa6ef0fa5e": {
      "model_module": "@jupyter-widgets/controls",
      "model_module_version": "1.5.0",
      "model_name": "ButtonModel",
      "state": {
       "description": "Oscilador Duffing Holmes",
       "layout": "IPY_MODEL_93c1017e7b1a416fa78a9427f9dadee5",
       "style": "IPY_MODEL_f8820de4f0fa411d9f14fe632e037e48"
      }
     },
     "865363b20877488eb566425dc3c8035a": {
      "model_module": "@jupyter-widgets/base",
      "model_module_version": "1.2.0",
      "model_name": "LayoutModel",
      "state": {}
     },
     "86791f4427e74dee936506ac733b51e6": {
      "model_module": "@jupyter-widgets/controls",
      "model_module_version": "1.5.0",
      "model_name": "IntSliderModel",
      "state": {
       "description": "Pixels por polegada:",
       "layout": "IPY_MODEL_9caac3cd92b74d8589b76eba8f40dc88",
       "max": 300,
       "min": 10,
       "style": "IPY_MODEL_3afb720dba254c42810acc2d29045df9",
       "value": 80
      }
     },
     "869ec866db73411b88dd04f6468625c7": {
      "model_module": "@jupyter-widgets/controls",
      "model_module_version": "1.5.0",
      "model_name": "ButtonStyleModel",
      "state": {}
     },
     "871afd6764ef487b9ea347193e6ce44f": {
      "model_module": "@jupyter-widgets/controls",
      "model_module_version": "1.5.0",
      "model_name": "ButtonStyleModel",
      "state": {}
     },
     "8734663b02544ff5ac085d515428567a": {
      "model_module": "@jupyter-widgets/base",
      "model_module_version": "1.2.0",
      "model_name": "LayoutModel",
      "state": {}
     },
     "87b56b51f79f48fca6c8bb427e765c5b": {
      "model_module": "@jupyter-widgets/output",
      "model_module_version": "1.0.0",
      "model_name": "OutputModel",
      "state": {
       "layout": "IPY_MODEL_18cfc0ff393a4743993ebe9d14e235ae",
       "outputs": [
        {
         "data": {
          "image/png": "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\n",
          "text/plain": "<Figure size 864x576 with 1 Axes>"
         },
         "metadata": {
          "needs_background": "light"
         },
         "output_type": "display_data"
        }
       ]
      }
     },
     "87d57b093d6943729d0cc25c9e797d61": {
      "model_module": "@jupyter-widgets/controls",
      "model_module_version": "1.5.0",
      "model_name": "ButtonModel",
      "state": {
       "description": "Gerar",
       "layout": "IPY_MODEL_20691413d0584d7398a3ddc321890a56",
       "style": "IPY_MODEL_3012513f91634b1f9f0019326c79b88d"
      }
     },
     "8827d57afdb94bf38b568444c3e1cdf2": {
      "model_module": "@jupyter-widgets/controls",
      "model_module_version": "1.5.0",
      "model_name": "SliderStyleModel",
      "state": {
       "description_width": "initial"
      }
     },
     "882ec5bac5e14575b2d6a91a0409bb97": {
      "model_module": "@jupyter-widgets/controls",
      "model_module_version": "1.5.0",
      "model_name": "ButtonStyleModel",
      "state": {}
     },
     "884f344892e2450eac658fec99a9f043": {
      "model_module": "@jupyter-widgets/controls",
      "model_module_version": "1.5.0",
      "model_name": "DropdownModel",
      "state": {
       "_options_labels": [
        "densidades de probabilidades",
        "funções de onda (parte real, +)",
        "funções de onda (parte imaginária)"
       ],
       "description": "Plotar as",
       "index": 0,
       "layout": "IPY_MODEL_2b6af5757be647a59f96bc0e8077ece0",
       "style": "IPY_MODEL_b9912fa32ff94b09a5b57a3fd5e8b51c"
      }
     },
     "8880488567ca4a33a4683a022bcd0474": {
      "model_module": "@jupyter-widgets/controls",
      "model_module_version": "1.5.0",
      "model_name": "ButtonStyleModel",
      "state": {}
     },
     "88868c9a4e3f4550b938a3c0bc4ed8e5": {
      "model_module": "@jupyter-widgets/controls",
      "model_module_version": "1.5.0",
      "model_name": "LabelModel",
      "state": {
       "layout": "IPY_MODEL_4779d2391d2d45a3beef92900d56a219",
       "style": "IPY_MODEL_2f27f9e46f7b46b48b864fed9aabfefc",
       "value": " 0.13"
      }
     },
     "89127a7f6d5e4bbbb82d479843ffdd81": {
      "model_module": "@jupyter-widgets/controls",
      "model_module_version": "1.5.0",
      "model_name": "SliderStyleModel",
      "state": {
       "description_width": "initial"
      }
     },
     "89347022973e4b5c88cc6fd2af4f6d67": {
      "model_module": "@jupyter-widgets/base",
      "model_module_version": "1.2.0",
      "model_name": "LayoutModel",
      "state": {}
     },
     "8989101ba1934437b113661f00264cf0": {
      "model_module": "@jupyter-widgets/controls",
      "model_module_version": "1.5.0",
      "model_name": "LabelModel",
      "state": {
       "layout": "IPY_MODEL_79b3e8f555d44fb98a0bbc414b197458",
       "style": "IPY_MODEL_5ae3aa4dce4b49a88db53c1c24d2aadf",
       "value": " 0.13"
      }
     },
     "89dd703a19f745beab0dd8849e6b956e": {
      "model_module": "@jupyter-widgets/base",
      "model_module_version": "1.2.0",
      "model_name": "LayoutModel",
      "state": {}
     },
     "89fe92888f764acda1a4d0e58d20f399": {
      "model_module": "@jupyter-widgets/controls",
      "model_module_version": "1.5.0",
      "model_name": "LabelModel",
      "state": {
       "layout": "IPY_MODEL_18832e622478473b883cc24d3cefcd5b",
       "style": "IPY_MODEL_ec8a5a060ba74edd86a1d13efcdfdbc1",
       "value": "[-2.49998 , 0.25353]"
      }
     },
     "8ae824daf31f4afc89ca56c6a7e79a2a": {
      "model_module": "@jupyter-widgets/controls",
      "model_module_version": "1.5.0",
      "model_name": "SliderStyleModel",
      "state": {
       "description_width": "initial"
      }
     },
     "8b526df970b34425afdccd1a71512621": {
      "model_module": "@jupyter-widgets/controls",
      "model_module_version": "1.5.0",
      "model_name": "GridBoxModel",
      "state": {
       "children": [
        "IPY_MODEL_d44b7005fdcd4c7da08650b0365ad48f",
        "IPY_MODEL_74dad0608bd04b77906931ede501222d",
        "IPY_MODEL_63b2e32175a54d0eac5d12829ad56953",
        "IPY_MODEL_7160c0f4b8ae4243be1b55c0b31294bd",
        "IPY_MODEL_4b77e3c2f5f4466b81f82437d0288371",
        "IPY_MODEL_e68c6c4986e74c3eb567d27ee732a150"
       ],
       "layout": "IPY_MODEL_e946ec62a2c74037aeb99ba73525df2b"
      }
     },
     "8b9ac6a3ad9142eeb9c0389b92c9ddcb": {
      "model_module": "@jupyter-widgets/base",
      "model_module_version": "1.2.0",
      "model_name": "LayoutModel",
      "state": {}
     },
     "8c30efa545fa47e1a5d3d5c39ea4992b": {
      "model_module": "@jupyter-widgets/controls",
      "model_module_version": "1.5.0",
      "model_name": "SliderStyleModel",
      "state": {
       "description_width": "initial"
      }
     },
     "8c5dafbaa7464313bbdc6c39f01210d2": {
      "model_module": "@jupyter-widgets/controls",
      "model_module_version": "1.5.0",
      "model_name": "DropdownModel",
      "state": {
       "_options_labels": [
        "densidades de probabilidades",
        "funções de onda (parte real, +)",
        "funções de onda (parte imaginária)"
       ],
       "description": "Plotar as",
       "index": 1,
       "layout": "IPY_MODEL_740b0f2abf3f4fd1b47025c5f7d88e3f",
       "style": "IPY_MODEL_501c4cfdba5f42dd92996e5d5af4ca30"
      }
     },
     "8c63d5049ecb4d5886fbb39dcbc15877": {
      "model_module": "@jupyter-widgets/controls",
      "model_module_version": "1.5.0",
      "model_name": "TextModel",
      "state": {
       "description": "Expressão de $V(x)$: ",
       "layout": "IPY_MODEL_a08954f2eb8940219940b492d167ad23",
       "placeholder": "Escreva a expressão aqui.",
       "style": "IPY_MODEL_ae6c25de302f4ea99f0da9af65652a69",
       "value": "0"
      }
     },
     "8c8cb6689af241c485ade33967a7fae0": {
      "model_module": "@jupyter-widgets/controls",
      "model_module_version": "1.5.0",
      "model_name": "DescriptionStyleModel",
      "state": {
       "description_width": ""
      }
     },
     "8cc615e17cfa43c19aa75c876fa40707": {
      "model_module": "@jupyter-widgets/controls",
      "model_module_version": "1.5.0",
      "model_name": "ButtonModel",
      "state": {
       "description": "Gerar",
       "layout": "IPY_MODEL_48ae5a15a558441aa2662665b371c948",
       "style": "IPY_MODEL_882ec5bac5e14575b2d6a91a0409bb97"
      }
     },
     "8d122445075d4e3e9329bb12f28e647d": {
      "model_module": "@jupyter-widgets/controls",
      "model_module_version": "1.5.0",
      "model_name": "FloatRangeSliderModel",
      "state": {
       "_model_name": "FloatRangeSliderModel",
       "_view_name": "FloatRangeSliderView",
       "continuous_update": false,
       "description": "Domínio de $\\Psi(x)$: ",
       "layout": "IPY_MODEL_d76ef0b3a9a34f99b86bdc3988c4da73",
       "max": 150,
       "min": -150,
       "readout_format": "1d",
       "style": "IPY_MODEL_015637ec22094202bb55344a9c99fbf0",
       "value": [
        -35,
        35
       ]
      }
     },
     "8db0711536594eb184347e73e32bf622": {
      "model_module": "@jupyter-widgets/controls",
      "model_module_version": "1.5.0",
      "model_name": "ButtonModel",
      "state": {
       "description": "Plotar",
       "disabled": true,
       "layout": "IPY_MODEL_78c4f33ffbe446cd9de72b86b21b9e96",
       "style": "IPY_MODEL_f6755b403ac346b1a4fb0f0ccb233ce6"
      }
     },
     "8eedb0305b2741da89f5b220f388471f": {
      "model_module": "@jupyter-widgets/base",
      "model_module_version": "1.2.0",
      "model_name": "LayoutModel",
      "state": {}
     },
     "8f5fa219e9434930997b13dd7443ece4": {
      "model_module": "@jupyter-widgets/controls",
      "model_module_version": "1.5.0",
      "model_name": "ButtonStyleModel",
      "state": {}
     },
     "8fdcf8a9982040319892609f41bbe095": {
      "model_module": "@jupyter-widgets/controls",
      "model_module_version": "1.5.0",
      "model_name": "ButtonModel",
      "state": {
       "description": "Poço Infinito",
       "layout": "IPY_MODEL_977af407480849f0ae042cca5cb1ddcb",
       "style": "IPY_MODEL_0f6ce375716e4bcea0b8bb8d42040a1d"
      }
     },
     "908ad20ff6af489493b495c42acbd234": {
      "model_module": "@jupyter-widgets/controls",
      "model_module_version": "1.5.0",
      "model_name": "IntRangeSliderModel",
      "state": {
       "_model_name": "IntRangeSliderModel",
       "_view_name": "IntRangeSliderView",
       "continuous_update": false,
       "description": "Plotar estados:",
       "layout": "IPY_MODEL_c7d0f380059549978636c35d4e6a4c0c",
       "max": 20,
       "style": "IPY_MODEL_331f16c0b3b0428ebba82733d2575ea4",
       "value": [
        0,
        6
       ]
      }
     },
     "909d70ecce73421faab9ec6edbf12901": {
      "model_module": "@jupyter-widgets/base",
      "model_module_version": "1.2.0",
      "model_name": "LayoutModel",
      "state": {}
     },
     "910d973d1d4044df8a2204a34f281cbc": {
      "model_module": "@jupyter-widgets/base",
      "model_module_version": "1.2.0",
      "model_name": "LayoutModel",
      "state": {}
     },
     "92240bb4075e47168a7932bf45c7e012": {
      "model_module": "@jupyter-widgets/controls",
      "model_module_version": "1.5.0",
      "model_name": "VBoxModel",
      "state": {
       "_dom_classes": [
        "widget-interact"
       ],
       "children": [
        "IPY_MODEL_71cc2ee963ba437fbd0403075a2493ff",
        "IPY_MODEL_82505c8eb7ca403cbc19142ca7e3895f",
        "IPY_MODEL_dcf419705c65418e9f0f3baf5026861d",
        "IPY_MODEL_8cc615e17cfa43c19aa75c876fa40707",
        "IPY_MODEL_63e1411b19164a33accde7c063a50167"
       ],
       "layout": "IPY_MODEL_c26f65e91f01474782ef6d83af2598e1"
      }
     },
     "9281e3fd0b7b47d9bf44e96b7c07141b": {
      "model_module": "@jupyter-widgets/controls",
      "model_module_version": "1.5.0",
      "model_name": "SliderStyleModel",
      "state": {
       "description_width": "initial"
      }
     },
     "92b4207a34b04adcb91d59bf21996a0f": {
      "model_module": "@jupyter-widgets/controls",
      "model_module_version": "1.5.0",
      "model_name": "ButtonStyleModel",
      "state": {}
     },
     "9309e54a5717415ebb512a27d30afd31": {
      "model_module": "@jupyter-widgets/controls",
      "model_module_version": "1.5.0",
      "model_name": "ButtonStyleModel",
      "state": {}
     },
     "933558b1b021419888fc655680ca58d0": {
      "model_module": "@jupyter-widgets/base",
      "model_module_version": "1.2.0",
      "model_name": "LayoutModel",
      "state": {}
     },
     "93c1017e7b1a416fa78a9427f9dadee5": {
      "model_module": "@jupyter-widgets/base",
      "model_module_version": "1.2.0",
      "model_name": "LayoutModel",
      "state": {}
     },
     "944008d65c97401fb9ce7fa34f7afe40": {
      "model_module": "@jupyter-widgets/controls",
      "model_module_version": "1.5.0",
      "model_name": "ButtonModel",
      "state": {
       "description": "Plotar",
       "layout": "IPY_MODEL_cdb85cfa410940fdb2559a8449f9f226",
       "style": "IPY_MODEL_65e8f9c09da9427d9ccf29ae670ed138"
      }
     },
     "94ffe1a40d7642d69a78c5f701b0997e": {
      "model_module": "@jupyter-widgets/controls",
      "model_module_version": "1.5.0",
      "model_name": "CheckboxModel",
      "state": {
       "description": "Auto limitar eixo y",
       "disabled": false,
       "layout": "IPY_MODEL_909d70ecce73421faab9ec6edbf12901",
       "style": "IPY_MODEL_25eddf14829949a3b550fcded7bcee49",
       "value": true
      }
     },
     "965d6ac8f328427488a9d9334ec061d6": {
      "model_module": "@jupyter-widgets/controls",
      "model_module_version": "1.5.0",
      "model_name": "FloatRangeSliderModel",
      "state": {
       "_model_name": "FloatRangeSliderModel",
       "_view_name": "FloatRangeSliderView",
       "description": "Limites do eixo y (angstroms):",
       "layout": "IPY_MODEL_3fca809f6f8141d6911c90092b398fa2",
       "max": 25,
       "min": -25,
       "readout_format": ".1f",
       "step": 0.05,
       "style": "IPY_MODEL_71bb86fd286d4552aafffb8cff01d17a",
       "value": [
        0,
        5
       ]
      }
     },
     "976343340b9f484286dd86f6b5253ee2": {
      "model_module": "@jupyter-widgets/controls",
      "model_module_version": "1.5.0",
      "model_name": "ButtonStyleModel",
      "state": {}
     },
     "977af407480849f0ae042cca5cb1ddcb": {
      "model_module": "@jupyter-widgets/base",
      "model_module_version": "1.2.0",
      "model_name": "LayoutModel",
      "state": {}
     },
     "97b11114fa3a4714b3fb56c946933020": {
      "model_module": "@jupyter-widgets/controls",
      "model_module_version": "1.5.0",
      "model_name": "TabModel",
      "state": {
       "_titles": {
        "0": "Gerar o Sistema",
        "1": "Funções de Onda"
       },
       "children": [
        "IPY_MODEL_e2b4d1417eca4ac08220ea5a79a266c9",
        "IPY_MODEL_0c086777fd1c45469913c216ca743027"
       ],
       "layout": "IPY_MODEL_5ce680f6327840b2b71b65aaa415975e",
       "selected_index": 1
      }
     },
     "97b4e5e793804fd28696389163b2e91a": {
      "model_module": "@jupyter-widgets/base",
      "model_module_version": "1.2.0",
      "model_name": "LayoutModel",
      "state": {}
     },
     "97f85d5f56294fcba58cd3c89e0a970d": {
      "model_module": "@jupyter-widgets/controls",
      "model_module_version": "1.5.0",
      "model_name": "FloatRangeSliderModel",
      "state": {
       "_model_name": "FloatRangeSliderModel",
       "_view_name": "FloatRangeSliderView",
       "continuous_update": false,
       "description": "Domínio de $\\Psi(x)$: ",
       "layout": "IPY_MODEL_9caac3cd92b74d8589b76eba8f40dc88",
       "max": 150,
       "min": -150,
       "readout_format": "1d",
       "style": "IPY_MODEL_3f8f182e067542f9b99f5dcb0a1b3b8c",
       "value": [
        -35,
        35
       ]
      }
     },
     "9a209e94900e48bbae779dd5d9716ed1": {
      "model_module": "@jupyter-widgets/controls",
      "model_module_version": "1.5.0",
      "model_name": "SliderStyleModel",
      "state": {
       "description_width": "initial"
      }
     },
     "9c854c2c8bb44c45a49f3a97e0f59648": {
      "model_module": "@jupyter-widgets/controls",
      "model_module_version": "1.5.0",
      "model_name": "VBoxModel",
      "state": {
       "children": [
        "IPY_MODEL_773c38bf32f74524b245ff6836169f78",
        "IPY_MODEL_54434043d9854d569400692a495dbe22",
        "IPY_MODEL_43390d2ba92c482785f82c23898732e7",
        "IPY_MODEL_62632d9b52d84736a99b62a4def4bb15"
       ],
       "layout": "IPY_MODEL_19ac531ca6074645a2046bc71c36247e"
      }
     },
     "9ca32bfa77334ad298392ac895c471ab": {
      "model_module": "@jupyter-widgets/controls",
      "model_module_version": "1.5.0",
      "model_name": "DescriptionStyleModel",
      "state": {
       "description_width": ""
      }
     },
     "9caac3cd92b74d8589b76eba8f40dc88": {
      "model_module": "@jupyter-widgets/base",
      "model_module_version": "1.2.0",
      "model_name": "LayoutModel",
      "state": {
       "display": "flex",
       "width": "90%"
      }
     },
     "9cd9272210b04eea847d93f38ac964d8": {
      "model_module": "@jupyter-widgets/base",
      "model_module_version": "1.2.0",
      "model_name": "LayoutModel",
      "state": {}
     },
     "9db10007d1a84219a95d476d96c67061": {
      "model_module": "@jupyter-widgets/controls",
      "model_module_version": "1.5.0",
      "model_name": "LabelModel",
      "state": {
       "layout": "IPY_MODEL_2e07fb662a9541a6be8c186268977bdf",
       "style": "IPY_MODEL_11ae0d32d2504f7c83ff41fc7a3f58d6",
       "value": "[V_min , V_max] (eV) ="
      }
     },
     "9e2fd70e31fb4120955e60ab4c687b83": {
      "model_module": "@jupyter-widgets/controls",
      "model_module_version": "1.5.0",
      "model_name": "LabelModel",
      "state": {
       "layout": "IPY_MODEL_346ee73b8a504020a3a4e55e987b7431",
       "style": "IPY_MODEL_825466b382b34e5281c11f1bbc1bbf26",
       "value": "[0.00000 , 0.00000]"
      }
     },
     "9e841c70f4e14b15bfde40824173dc06": {
      "model_module": "@jupyter-widgets/base",
      "model_module_version": "1.2.0",
      "model_name": "LayoutModel",
      "state": {}
     },
     "9eda03e7bafc488e82eb7734f5e03f66": {
      "model_module": "@jupyter-widgets/controls",
      "model_module_version": "1.5.0",
      "model_name": "ButtonStyleModel",
      "state": {}
     },
     "9f4aa31c19a746b9aca65b72c01f69eb": {
      "model_module": "@jupyter-widgets/controls",
      "model_module_version": "1.5.0",
      "model_name": "SliderStyleModel",
      "state": {
       "description_width": "initial"
      }
     },
     "9f8b131fc8a74388b6af5dce990a0d51": {
      "model_module": "@jupyter-widgets/base",
      "model_module_version": "1.2.0",
      "model_name": "LayoutModel",
      "state": {}
     },
     "9f9161d3f5c14b9a9ed5b4a753523a04": {
      "model_module": "@jupyter-widgets/controls",
      "model_module_version": "1.5.0",
      "model_name": "ButtonStyleModel",
      "state": {}
     },
     "9f9666f8b95a4d42878d5f7792629795": {
      "model_module": "@jupyter-widgets/base",
      "model_module_version": "1.2.0",
      "model_name": "LayoutModel",
      "state": {
       "grid_template_columns": "repeat(2, 250px)"
      }
     },
     "a029e0fc46d7454ea4a01237b8a04296": {
      "model_module": "@jupyter-widgets/controls",
      "model_module_version": "1.5.0",
      "model_name": "DescriptionStyleModel",
      "state": {
       "description_width": ""
      }
     },
     "a0780c0c604e48319e9f3574bbb672d7": {
      "model_module": "@jupyter-widgets/controls",
      "model_module_version": "1.5.0",
      "model_name": "IntSliderModel",
      "state": {
       "description": "Altura da imagem (polegadas): ",
       "layout": "IPY_MODEL_9caac3cd92b74d8589b76eba8f40dc88",
       "max": 20,
       "style": "IPY_MODEL_b19a61eeb5a64f2380dafbdf9828e37c",
       "value": 9
      }
     },
     "a08954f2eb8940219940b492d167ad23": {
      "model_module": "@jupyter-widgets/base",
      "model_module_version": "1.2.0",
      "model_name": "LayoutModel",
      "state": {
       "display": "flex",
       "width": "90%"
      }
     },
     "a104291db3d04a45a195440d50caebe5": {
      "model_module": "@jupyter-widgets/base",
      "model_module_version": "1.2.0",
      "model_name": "LayoutModel",
      "state": {}
     },
     "a15dd5d61f9f42bb93093751948ca373": {
      "model_module": "@jupyter-widgets/controls",
      "model_module_version": "1.5.0",
      "model_name": "LabelModel",
      "state": {
       "layout": "IPY_MODEL_b3ca8ccb721e4539914169254c646689",
       "style": "IPY_MODEL_cbc627033e204827ae493b4b9e75160b",
       "value": "Largura do domínio (angstroms) ="
      }
     },
     "a1a4d47239a24d4aa1e4cad716a72468": {
      "model_module": "@jupyter-widgets/controls",
      "model_module_version": "1.5.0",
      "model_name": "LabelModel",
      "state": {
       "layout": "IPY_MODEL_6b9b6d5e85644afa9a2f48f20c5538b2",
       "style": "IPY_MODEL_e3cac2d0e1cf4619bf60028356c686fd",
       "value": "Passo $\\Delta x $ (angstroms) ="
      }
     },
     "a1eca37f58254357a5afd6bc60c0128c": {
      "model_module": "@jupyter-widgets/controls",
      "model_module_version": "1.5.0",
      "model_name": "ButtonStyleModel",
      "state": {}
     },
     "a2311b3850e94845b2b5bd12d38c0585": {
      "model_module": "@jupyter-widgets/controls",
      "model_module_version": "1.5.0",
      "model_name": "SliderStyleModel",
      "state": {
       "description_width": "initial"
      }
     },
     "a2f755ca2f044823bc8f6e90ed64791b": {
      "model_module": "@jupyter-widgets/controls",
      "model_module_version": "1.5.0",
      "model_name": "ButtonStyleModel",
      "state": {}
     },
     "a381617953fe42a98b74f10ccc42126a": {
      "model_module": "@jupyter-widgets/base",
      "model_module_version": "1.2.0",
      "model_name": "LayoutModel",
      "state": {}
     },
     "a3f230b3e3a64b17b00ddcb028e38be6": {
      "model_module": "@jupyter-widgets/base",
      "model_module_version": "1.2.0",
      "model_name": "LayoutModel",
      "state": {}
     },
     "a40bbe809bc248df942080e68a3c992f": {
      "model_module": "@jupyter-widgets/output",
      "model_module_version": "1.0.0",
      "model_name": "OutputModel",
      "state": {
       "layout": "IPY_MODEL_7ef2a50f2dd24a19bcd7ba26b7f34410",
       "outputs": [
        {
         "data": {
          "image/png": "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\n",
          "text/plain": "<Figure size 864x576 with 1 Axes>"
         },
         "metadata": {
          "needs_background": "light"
         },
         "output_type": "display_data"
        }
       ]
      }
     },
     "a4573de677ce4607a0ad93d89b59fa57": {
      "model_module": "@jupyter-widgets/controls",
      "model_module_version": "1.5.0",
      "model_name": "ButtonStyleModel",
      "state": {}
     },
     "a549fbb918324e119415ae6b1729deb7": {
      "model_module": "@jupyter-widgets/base",
      "model_module_version": "1.2.0",
      "model_name": "LayoutModel",
      "state": {}
     },
     "a5f0165ed00141ecb467ea26cca7cb35": {
      "model_module": "@jupyter-widgets/controls",
      "model_module_version": "1.5.0",
      "model_name": "GridBoxModel",
      "state": {
       "children": [
        "IPY_MODEL_a1a4d47239a24d4aa1e4cad716a72468",
        "IPY_MODEL_65e787d3ab15412089c75d1067caac3a",
        "IPY_MODEL_671e3d79c5164738a88ec770f1e2a5eb",
        "IPY_MODEL_f0d0f77b76114c558a4afc8e0d84f9ab",
        "IPY_MODEL_50e9f2c9299e4f11b0545a033bf9a8b5",
        "IPY_MODEL_b53c390a302f495e8c011a181f92960f"
       ],
       "layout": "IPY_MODEL_52d56ab3dc8b4f87ad4b0178d8d5217a"
      }
     },
     "a60f5fda68ef4e9fac956104707512ba": {
      "model_module": "@jupyter-widgets/controls",
      "model_module_version": "1.5.0",
      "model_name": "TextModel",
      "state": {
       "description": "Expressão de $V(x)$: ",
       "layout": "IPY_MODEL_3fca809f6f8141d6911c90092b398fa2",
       "placeholder": "Escreva a expressão aqui.",
       "style": "IPY_MODEL_eb3a9053e0a34cceb36a643df383ac4f",
       "value": "0"
      }
     },
     "a70a3ed7daf642ec9b67ea7a11bcb0c4": {
      "model_module": "@jupyter-widgets/controls",
      "model_module_version": "1.5.0",
      "model_name": "IntSliderModel",
      "state": {
       "description": "Largura da imagem (polegadas):",
       "layout": "IPY_MODEL_74f2c7edb61a4833873164a150fb7eca",
       "max": 20,
       "style": "IPY_MODEL_a2311b3850e94845b2b5bd12d38c0585",
       "value": 9
      }
     },
     "a752256596db4c06a6aa6ad353ecc5db": {
      "model_module": "@jupyter-widgets/controls",
      "model_module_version": "1.5.0",
      "model_name": "SliderStyleModel",
      "state": {
       "description_width": "initial"
      }
     },
     "a83db5a2c8e54696a38b8acb2a068502": {
      "model_module": "@jupyter-widgets/base",
      "model_module_version": "1.2.0",
      "model_name": "LayoutModel",
      "state": {}
     },
     "a8f78ab15f3b4094817e40e4d6b473e9": {
      "model_module": "@jupyter-widgets/controls",
      "model_module_version": "1.5.0",
      "model_name": "ButtonModel",
      "state": {
       "description": "Oscilador Duffing Holmes",
       "layout": "IPY_MODEL_e76782bcd80148b3bf2d63ec0ca1e1aa",
       "style": "IPY_MODEL_9f9161d3f5c14b9a9ed5b4a753523a04"
      }
     },
     "a9bf74350c6a4d39a3ef289e29147315": {
      "model_module": "@jupyter-widgets/controls",
      "model_module_version": "1.5.0",
      "model_name": "VBoxModel",
      "state": {
       "_dom_classes": [
        "widget-interact"
       ],
       "children": [
        "IPY_MODEL_294ff3360f4948c995a2fd683b354b3e",
        "IPY_MODEL_40639b125eae46a4adbc5764222831d4",
        "IPY_MODEL_b9aa7497e6bd44f0990cff6ccac7d5a7",
        "IPY_MODEL_7ed7e5c87b6a4bb0bd9b0a09d092c5f4",
        "IPY_MODEL_14a638425cbb4164bd3e15e8d382a453",
        "IPY_MODEL_6fa34492ffb449a694d75d17f8160826",
        "IPY_MODEL_965d6ac8f328427488a9d9334ec061d6",
        "IPY_MODEL_179035fef2c14bb2af1f146af2cd96e7",
        "IPY_MODEL_944008d65c97401fb9ce7fa34f7afe40",
        "IPY_MODEL_c55d65de3661464b87d1d265945b537f"
       ],
       "layout": "IPY_MODEL_9cd9272210b04eea847d93f38ac964d8"
      }
     },
     "a9dbf86402ac483683755148c39564f4": {
      "model_module": "@jupyter-widgets/controls",
      "model_module_version": "1.5.0",
      "model_name": "ButtonStyleModel",
      "state": {}
     },
     "aab50d4cfdf047c0a384f5d190e6a2b2": {
      "model_module": "@jupyter-widgets/controls",
      "model_module_version": "1.5.0",
      "model_name": "DescriptionStyleModel",
      "state": {
       "description_width": ""
      }
     },
     "aac29f53529a459f9fd0cf00c6e364f1": {
      "model_module": "@jupyter-widgets/controls",
      "model_module_version": "1.5.0",
      "model_name": "IntSliderModel",
      "state": {
       "description": "Largura da imagem (polegadas):",
       "layout": "IPY_MODEL_a08954f2eb8940219940b492d167ad23",
       "max": 20,
       "style": "IPY_MODEL_582fff85774e4abe862c7540b5a770b8",
       "value": 9
      }
     },
     "ac2989c2643d440d862c471c25b87287": {
      "model_module": "@jupyter-widgets/base",
      "model_module_version": "1.2.0",
      "model_name": "LayoutModel",
      "state": {}
     },
     "ac2d4c72202144ff81344e2dbbc70e7e": {
      "model_module": "@jupyter-widgets/base",
      "model_module_version": "1.2.0",
      "model_name": "LayoutModel",
      "state": {}
     },
     "ad3ca0ce2e2b4161b4e084226166adde": {
      "model_module": "@jupyter-widgets/controls",
      "model_module_version": "1.5.0",
      "model_name": "VBoxModel",
      "state": {
       "_dom_classes": [
        "widget-interact"
       ],
       "children": [
        "IPY_MODEL_7de41f5064a04bbcb82e27f936f905b3",
        "IPY_MODEL_49a458073abe49408d3de14de5781202",
        "IPY_MODEL_8c63d5049ecb4d5886fbb39dcbc15877",
        "IPY_MODEL_f3729a4866194090b82ff1dd527f78b2",
        "IPY_MODEL_bd575bbd46554fce88196bf5ea05849f"
       ],
       "layout": "IPY_MODEL_89347022973e4b5c88cc6fd2af4f6d67"
      }
     },
     "ad4927e75cf6482bb40c4268b34fe613": {
      "model_module": "@jupyter-widgets/controls",
      "model_module_version": "1.5.0",
      "model_name": "SliderStyleModel",
      "state": {
       "description_width": "initial"
      }
     },
     "ad809159514e429bb000909883d0e7f1": {
      "model_module": "@jupyter-widgets/base",
      "model_module_version": "1.2.0",
      "model_name": "LayoutModel",
      "state": {}
     },
     "ad982649b3924c668174119b729e5f61": {
      "model_module": "@jupyter-widgets/controls",
      "model_module_version": "1.5.0",
      "model_name": "LabelModel",
      "state": {
       "layout": "IPY_MODEL_2480ee03f1e949c89ec81adce841367a",
       "style": "IPY_MODEL_3d0b1f5be68943bcb9f8169ba4439c1a",
       "value": "[V_min , V_max] (eV) ="
      }
     },
     "ae6c25de302f4ea99f0da9af65652a69": {
      "model_module": "@jupyter-widgets/controls",
      "model_module_version": "1.5.0",
      "model_name": "DescriptionStyleModel",
      "state": {
       "description_width": "initial"
      }
     },
     "ae86de15252d450bbd5fa1edbfd7484c": {
      "model_module": "@jupyter-widgets/base",
      "model_module_version": "1.2.0",
      "model_name": "LayoutModel",
      "state": {}
     },
     "af285c25c00a4692b19d09148ee282fc": {
      "model_module": "@jupyter-widgets/controls",
      "model_module_version": "1.5.0",
      "model_name": "SliderStyleModel",
      "state": {
       "description_width": "initial"
      }
     },
     "af2c491e1a35411aba93bca1b4e7f8f3": {
      "model_module": "@jupyter-widgets/controls",
      "model_module_version": "1.5.0",
      "model_name": "ButtonStyleModel",
      "state": {}
     },
     "afb67ee671e84785b5e4251b6cb9da92": {
      "model_module": "@jupyter-widgets/controls",
      "model_module_version": "1.5.0",
      "model_name": "DescriptionStyleModel",
      "state": {
       "description_width": ""
      }
     },
     "b0433735ac7d4972a7311ca9f97b530d": {
      "model_module": "@jupyter-widgets/controls",
      "model_module_version": "1.5.0",
      "model_name": "SliderStyleModel",
      "state": {
       "description_width": "initial"
      }
     },
     "b049845aa4614f55a4573f7d2fe8cc07": {
      "model_module": "@jupyter-widgets/controls",
      "model_module_version": "1.5.0",
      "model_name": "ButtonStyleModel",
      "state": {}
     },
     "b19a61eeb5a64f2380dafbdf9828e37c": {
      "model_module": "@jupyter-widgets/controls",
      "model_module_version": "1.5.0",
      "model_name": "SliderStyleModel",
      "state": {
       "description_width": "initial"
      }
     },
     "b19b6aa18b644a47b2070653b8367abc": {
      "model_module": "@jupyter-widgets/controls",
      "model_module_version": "1.5.0",
      "model_name": "LabelModel",
      "state": {
       "layout": "IPY_MODEL_05a263d8d2154dd59ce60ac8224f3354",
       "style": "IPY_MODEL_b55027fcaf854e019f35cf0882430330",
       "value": " 0.13"
      }
     },
     "b3189f698dc847c5bf13df57c79bdca8": {
      "model_module": "@jupyter-widgets/controls",
      "model_module_version": "1.5.0",
      "model_name": "ButtonModel",
      "state": {
       "description": "Lennard Jones",
       "layout": "IPY_MODEL_8eedb0305b2741da89f5b220f388471f",
       "style": "IPY_MODEL_92b4207a34b04adcb91d59bf21996a0f"
      }
     },
     "b338fec84c024854a2848316ae289ce8": {
      "model_module": "@jupyter-widgets/controls",
      "model_module_version": "1.5.0",
      "model_name": "CheckboxModel",
      "state": {
       "description": "Auto limitar eixo y",
       "disabled": false,
       "layout": "IPY_MODEL_db7d71336835435d908344710775e908",
       "style": "IPY_MODEL_ee21e0b90cc14fb5a84ab7eaa82344fb",
       "value": true
      }
     },
     "b3c144d46ce4410a99376be60710c002": {
      "model_module": "@jupyter-widgets/controls",
      "model_module_version": "1.5.0",
      "model_name": "DescriptionStyleModel",
      "state": {
       "description_width": "initial"
      }
     },
     "b3ca8ccb721e4539914169254c646689": {
      "model_module": "@jupyter-widgets/base",
      "model_module_version": "1.2.0",
      "model_name": "LayoutModel",
      "state": {}
     },
     "b4166f2b3f7a48eeb931b9ec3becdc8f": {
      "model_module": "@jupyter-widgets/controls",
      "model_module_version": "1.5.0",
      "model_name": "FloatRangeSliderModel",
      "state": {
       "_model_name": "FloatRangeSliderModel",
       "_view_name": "FloatRangeSliderView",
       "description": "Limites do eixo y (angstroms):",
       "layout": "IPY_MODEL_a08954f2eb8940219940b492d167ad23",
       "max": 25,
       "min": -25,
       "readout_format": ".1f",
       "step": 0.05,
       "style": "IPY_MODEL_c45025797a384b4591912007b009f202",
       "value": [
        0,
        5
       ]
      }
     },
     "b43c5f40d8d94c60935633c6a05cb706": {
      "model_module": "@jupyter-widgets/base",
      "model_module_version": "1.2.0",
      "model_name": "LayoutModel",
      "state": {}
     },
     "b471c779fafd4495977fb0bf3545c059": {
      "model_module": "@jupyter-widgets/controls",
      "model_module_version": "1.5.0",
      "model_name": "ButtonModel",
      "state": {
       "description": "Gerar",
       "layout": "IPY_MODEL_b881595edbad46c3a916206d50f46bd4",
       "style": "IPY_MODEL_e7474512ede3438aba1c58eb1a9980c8"
      }
     },
     "b4852f4ba48f4f988ef3381af26c6926": {
      "model_module": "@jupyter-widgets/controls",
      "model_module_version": "1.5.0",
      "model_name": "ButtonStyleModel",
      "state": {}
     },
     "b4a9fb3650b24d3da65eecdd3fd404a4": {
      "model_module": "@jupyter-widgets/base",
      "model_module_version": "1.2.0",
      "model_name": "LayoutModel",
      "state": {}
     },
     "b4c9d04463e24c7294b62d4f5587a5b3": {
      "model_module": "@jupyter-widgets/controls",
      "model_module_version": "1.5.0",
      "model_name": "ButtonStyleModel",
      "state": {}
     },
     "b507e166b8994e518813840cc29415d0": {
      "model_module": "@jupyter-widgets/base",
      "model_module_version": "1.2.0",
      "model_name": "LayoutModel",
      "state": {}
     },
     "b53c390a302f495e8c011a181f92960f": {
      "model_module": "@jupyter-widgets/controls",
      "model_module_version": "1.5.0",
      "model_name": "LabelModel",
      "state": {
       "layout": "IPY_MODEL_1f8cbf76fd4746febeca0d1267a0d1d3",
       "style": "IPY_MODEL_8c8cb6689af241c485ade33967a7fae0",
       "value": "[V_min,V_max]"
      }
     },
     "b55027fcaf854e019f35cf0882430330": {
      "model_module": "@jupyter-widgets/controls",
      "model_module_version": "1.5.0",
      "model_name": "DescriptionStyleModel",
      "state": {
       "description_width": ""
      }
     },
     "b595aeb984ee4904b758b94aac600055": {
      "model_module": "@jupyter-widgets/base",
      "model_module_version": "1.2.0",
      "model_name": "LayoutModel",
      "state": {}
     },
     "b5b8153f0d744c96a4a0c269e517d765": {
      "model_module": "@jupyter-widgets/controls",
      "model_module_version": "1.5.0",
      "model_name": "DescriptionStyleModel",
      "state": {
       "description_width": ""
      }
     },
     "b6355fdd4fd34ba2ab91f909481cc813": {
      "model_module": "@jupyter-widgets/controls",
      "model_module_version": "1.5.0",
      "model_name": "ButtonModel",
      "state": {
       "description": "Plotar",
       "layout": "IPY_MODEL_9e841c70f4e14b15bfde40824173dc06",
       "style": "IPY_MODEL_7f1b3234fc2d47dc9ea18ce456fe58a1"
      }
     },
     "b6cc349c042f4631a670d006b8f48e76": {
      "model_module": "@jupyter-widgets/controls",
      "model_module_version": "1.5.0",
      "model_name": "DescriptionStyleModel",
      "state": {
       "description_width": ""
      }
     },
     "b7c4c1a86d5549cf9f462970b6dfb38a": {
      "model_module": "@jupyter-widgets/controls",
      "model_module_version": "1.5.0",
      "model_name": "ButtonModel",
      "state": {
       "description": "Diagonalizado!",
       "disabled": true,
       "layout": "IPY_MODEL_dbb0e02e55a24584940644f2902f1ce5",
       "style": "IPY_MODEL_de7aee559561433895ecf78b64d3fef1"
      }
     },
     "b7d9e8c5b20a4b8995b600e1b6218829": {
      "model_module": "@jupyter-widgets/controls",
      "model_module_version": "1.5.0",
      "model_name": "VBoxModel",
      "state": {
       "children": [
        "IPY_MODEL_ad3ca0ce2e2b4161b4e084226166adde",
        "IPY_MODEL_61f2ea49dc9e4deabc01a72203f49754",
        "IPY_MODEL_cdf2badd3a0e4367b4d05d70950618f6",
        "IPY_MODEL_12286911181c451dabf6a87242838044"
       ],
       "layout": "IPY_MODEL_18e4f5a2862c4325b5ee7ee828054c9b"
      }
     },
     "b82c1e1a37594698a6f93b83caf313c2": {
      "model_module": "@jupyter-widgets/controls",
      "model_module_version": "1.5.0",
      "model_name": "LabelModel",
      "state": {
       "layout": "IPY_MODEL_2dcab277168844848936bdb9b2375027",
       "style": "IPY_MODEL_1fb6d4f2f9ef4d559bf40c6f5e066542",
       "value": " 70.00"
      }
     },
     "b881595edbad46c3a916206d50f46bd4": {
      "model_module": "@jupyter-widgets/base",
      "model_module_version": "1.2.0",
      "model_name": "LayoutModel",
      "state": {}
     },
     "b8ceb4883e6e47279a39ece8ded7596d": {
      "model_module": "@jupyter-widgets/controls",
      "model_module_version": "1.5.0",
      "model_name": "ButtonStyleModel",
      "state": {}
     },
     "b8e88827bac14448bb1f9717fcac5558": {
      "model_module": "@jupyter-widgets/controls",
      "model_module_version": "1.5.0",
      "model_name": "SliderStyleModel",
      "state": {
       "description_width": "initial"
      }
     },
     "b8ea349242a943de97d68a9e7bf35f92": {
      "model_module": "@jupyter-widgets/controls",
      "model_module_version": "1.5.0",
      "model_name": "VBoxModel",
      "state": {
       "_dom_classes": [
        "widget-interact"
       ],
       "children": [
        "IPY_MODEL_721fa2db7aba4b51a4854aa715a6d9c6",
        "IPY_MODEL_b9d8a38cacf9430eaf1058e1d5f6db71",
        "IPY_MODEL_e50b6a4d4aa54841a6724a6ebcef744c",
        "IPY_MODEL_6ce92b73bd964205a31aacf8a7d8dd4e",
        "IPY_MODEL_e9199a5f34524058aa0bd03af159ac41"
       ],
       "layout": "IPY_MODEL_e03a8a825f8a4b65a3ae14ee57d5cc48"
      }
     },
     "b9912fa32ff94b09a5b57a3fd5e8b51c": {
      "model_module": "@jupyter-widgets/controls",
      "model_module_version": "1.5.0",
      "model_name": "DescriptionStyleModel",
      "state": {
       "description_width": "initial"
      }
     },
     "b9a10932992d4468a8ebe0753f5a3dd6": {
      "model_module": "@jupyter-widgets/base",
      "model_module_version": "1.2.0",
      "model_name": "LayoutModel",
      "state": {}
     },
     "b9aa7497e6bd44f0990cff6ccac7d5a7": {
      "model_module": "@jupyter-widgets/controls",
      "model_module_version": "1.5.0",
      "model_name": "DropdownModel",
      "state": {
       "_options_labels": [
        "densidades de probabilidades",
        "funções de onda (parte real, +)",
        "funções de onda (parte imaginária)"
       ],
       "description": "Plotar as",
       "index": 1,
       "layout": "IPY_MODEL_2a2d2e15fe2c4d44af6dbf82ec4de189",
       "style": "IPY_MODEL_0d436c320e694a31a4df4b74c05f4228"
      }
     },
     "b9ceb4ff76b94bbaa8cccdb01ab7cdea": {
      "model_module": "@jupyter-widgets/controls",
      "model_module_version": "1.5.0",
      "model_name": "SliderStyleModel",
      "state": {
       "description_width": "initial"
      }
     },
     "b9d6639be2a94a2ea6c12a1a940694b6": {
      "model_module": "@jupyter-widgets/base",
      "model_module_version": "1.2.0",
      "model_name": "LayoutModel",
      "state": {}
     },
     "b9d8a38cacf9430eaf1058e1d5f6db71": {
      "model_module": "@jupyter-widgets/controls",
      "model_module_version": "1.5.0",
      "model_name": "IntSliderModel",
      "state": {
       "continuous_update": false,
       "description": "Número de pontos: ",
       "layout": "IPY_MODEL_315fe54d9fa04976a04d9ef9ef0a80a6",
       "max": 1050,
       "min": 50,
       "step": 10,
       "style": "IPY_MODEL_66501a4e9a4b491aa2998afd8d702d29",
       "value": 550
      }
     },
     "ba4a8b7b8f614186a75014de18905286": {
      "model_module": "@jupyter-widgets/base",
      "model_module_version": "1.2.0",
      "model_name": "LayoutModel",
      "state": {}
     },
     "ba82095a59f14cf3947ad68d5d2d3f9e": {
      "model_module": "@jupyter-widgets/base",
      "model_module_version": "1.2.0",
      "model_name": "LayoutModel",
      "state": {}
     },
     "ba8da8f00d884c0290c6712586dfd015": {
      "model_module": "@jupyter-widgets/base",
      "model_module_version": "1.2.0",
      "model_name": "LayoutModel",
      "state": {}
     },
     "bb78d943a01c42fc992d34511c773741": {
      "model_module": "@jupyter-widgets/controls",
      "model_module_version": "1.5.0",
      "model_name": "IntSliderModel",
      "state": {
       "description": "Largura da imagem (polegadas):",
       "layout": "IPY_MODEL_d76ef0b3a9a34f99b86bdc3988c4da73",
       "max": 20,
       "style": "IPY_MODEL_2e4425542c4b407e80ce11e35960c7d6",
       "value": 9
      }
     },
     "bb83e1adcfa84eb9b7c7250771f39654": {
      "model_module": "@jupyter-widgets/controls",
      "model_module_version": "1.5.0",
      "model_name": "LabelModel",
      "state": {
       "layout": "IPY_MODEL_c38ef2a286744291b87b3551232afd19",
       "style": "IPY_MODEL_b6cc349c042f4631a670d006b8f48e76",
       "value": " 70.00"
      }
     },
     "bccfe509720142a2bbce9f7fcadc3cd2": {
      "model_module": "@jupyter-widgets/base",
      "model_module_version": "1.2.0",
      "model_name": "LayoutModel",
      "state": {
       "grid_template_columns": "repeat(2, 250px)"
      }
     },
     "bcff4b6d29d0484c92993c7a368f9942": {
      "model_module": "@jupyter-widgets/base",
      "model_module_version": "1.2.0",
      "model_name": "LayoutModel",
      "state": {}
     },
     "bd575bbd46554fce88196bf5ea05849f": {
      "model_module": "@jupyter-widgets/output",
      "model_module_version": "1.0.0",
      "model_name": "OutputModel",
      "state": {
       "layout": "IPY_MODEL_a83db5a2c8e54696a38b8acb2a068502",
       "outputs": [
        {
         "data": {
          "image/png": "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\n",
          "text/plain": "<Figure size 864x576 with 1 Axes>"
         },
         "metadata": {
          "needs_background": "light"
         },
         "output_type": "display_data"
        }
       ]
      }
     },
     "bf68ba8355ff42c98fada977f13ceebf": {
      "model_module": "@jupyter-widgets/output",
      "model_module_version": "1.0.0",
      "model_name": "OutputModel",
      "state": {
       "layout": "IPY_MODEL_549b1cddf2aa49de99ca535838b22a24",
       "outputs": [
        {
         "data": {
          "image/png": "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\n",
          "text/plain": "<Figure size 864x576 with 1 Axes>"
         },
         "metadata": {
          "needs_background": "light"
         },
         "output_type": "display_data"
        }
       ]
      }
     },
     "bf720f54bec048909ed63644115078d0": {
      "model_module": "@jupyter-widgets/controls",
      "model_module_version": "1.5.0",
      "model_name": "ButtonModel",
      "state": {
       "description": "Oscilador Harmônico",
       "layout": "IPY_MODEL_fa6b1dee151a4b008792d22e597a1c98",
       "style": "IPY_MODEL_9309e54a5717415ebb512a27d30afd31"
      }
     },
     "c056b0f3808649b498c81d606b523bba": {
      "model_module": "@jupyter-widgets/base",
      "model_module_version": "1.2.0",
      "model_name": "LayoutModel",
      "state": {}
     },
     "c067671168d04b67918fe5c1aed1f8df": {
      "model_module": "@jupyter-widgets/controls",
      "model_module_version": "1.5.0",
      "model_name": "LabelModel",
      "state": {
       "layout": "IPY_MODEL_b595aeb984ee4904b758b94aac600055",
       "style": "IPY_MODEL_aab50d4cfdf047c0a384f5d190e6a2b2",
       "value": "Largura do domínio (angstroms) ="
      }
     },
     "c13527a028964095bbc8977fcf51f8e9": {
      "model_module": "@jupyter-widgets/base",
      "model_module_version": "1.2.0",
      "model_name": "LayoutModel",
      "state": {}
     },
     "c160fdfeeec64fd3b1fe9dabb8a37d88": {
      "model_module": "@jupyter-widgets/controls",
      "model_module_version": "1.5.0",
      "model_name": "DescriptionStyleModel",
      "state": {
       "description_width": "initial"
      }
     },
     "c22158cb99fa48589206c4dfc2a8af07": {
      "model_module": "@jupyter-widgets/base",
      "model_module_version": "1.2.0",
      "model_name": "LayoutModel",
      "state": {}
     },
     "c26f65e91f01474782ef6d83af2598e1": {
      "model_module": "@jupyter-widgets/base",
      "model_module_version": "1.2.0",
      "model_name": "LayoutModel",
      "state": {}
     },
     "c28db3a9ed624780bf2e7afc402dfac5": {
      "model_module": "@jupyter-widgets/base",
      "model_module_version": "1.2.0",
      "model_name": "LayoutModel",
      "state": {}
     },
     "c34f733c091f4d0f87652a3dc6096123": {
      "model_module": "@jupyter-widgets/controls",
      "model_module_version": "1.5.0",
      "model_name": "ButtonStyleModel",
      "state": {}
     },
     "c3810ff34a3d443bb37daebf41715b92": {
      "model_module": "@jupyter-widgets/controls",
      "model_module_version": "1.5.0",
      "model_name": "SliderStyleModel",
      "state": {
       "description_width": "initial"
      }
     },
     "c38ef2a286744291b87b3551232afd19": {
      "model_module": "@jupyter-widgets/base",
      "model_module_version": "1.2.0",
      "model_name": "LayoutModel",
      "state": {}
     },
     "c39c5bbb20a04a17b5147cf9798d8489": {
      "model_module": "@jupyter-widgets/controls",
      "model_module_version": "1.5.0",
      "model_name": "ButtonModel",
      "state": {
       "description": "Oscilador Harmônico",
       "layout": "IPY_MODEL_ae86de15252d450bbd5fa1edbfd7484c",
       "style": "IPY_MODEL_e465f48e8f99442eb8803bb7a170b636"
      }
     },
     "c4092018e56c491ba0a673dbe1a9042f": {
      "model_module": "@jupyter-widgets/base",
      "model_module_version": "1.2.0",
      "model_name": "LayoutModel",
      "state": {}
     },
     "c45025797a384b4591912007b009f202": {
      "model_module": "@jupyter-widgets/controls",
      "model_module_version": "1.5.0",
      "model_name": "SliderStyleModel",
      "state": {
       "description_width": "initial"
      }
     },
     "c4bd523cda6a47e7b9571d9dafa107e3": {
      "model_module": "@jupyter-widgets/base",
      "model_module_version": "1.2.0",
      "model_name": "LayoutModel",
      "state": {}
     },
     "c55d65de3661464b87d1d265945b537f": {
      "model_module": "@jupyter-widgets/output",
      "model_module_version": "1.0.0",
      "model_name": "OutputModel",
      "state": {
       "layout": "IPY_MODEL_e8e95dfa74ec4d1b9350239441f3c1ba",
       "outputs": [
        {
         "data": {
          "image/png": "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\n",
          "text/plain": "<Figure size 720x720 with 1 Axes>"
         },
         "metadata": {
          "needs_background": "light"
         },
         "output_type": "display_data"
        }
       ]
      }
     },
     "c6955805d7c54caf9aab083121b8283a": {
      "model_module": "@jupyter-widgets/base",
      "model_module_version": "1.2.0",
      "model_name": "LayoutModel",
      "state": {}
     },
     "c749af0ae1dc4f05b74f74392cf2c6a2": {
      "model_module": "@jupyter-widgets/controls",
      "model_module_version": "1.5.0",
      "model_name": "ButtonModel",
      "state": {
       "description": "Lennard Jones",
       "layout": "IPY_MODEL_b4a9fb3650b24d3da65eecdd3fd404a4",
       "style": "IPY_MODEL_b4852f4ba48f4f988ef3381af26c6926"
      }
     },
     "c7d0f380059549978636c35d4e6a4c0c": {
      "model_module": "@jupyter-widgets/base",
      "model_module_version": "1.2.0",
      "model_name": "LayoutModel",
      "state": {
       "display": "flex",
       "width": "90%"
      }
     },
     "c8536e1d173f442a915dbd5e255c17c5": {
      "model_module": "@jupyter-widgets/controls",
      "model_module_version": "1.5.0",
      "model_name": "BoxModel",
      "state": {
       "children": [
        "IPY_MODEL_c8ce7e69c5c7411181368aca5c2a2459",
        "IPY_MODEL_bf720f54bec048909ed63644115078d0",
        "IPY_MODEL_7f024ff82ee3477dab34f9569b79ca23",
        "IPY_MODEL_b3189f698dc847c5bf13df57c79bdca8"
       ],
       "layout": "IPY_MODEL_79f8617e2af543a487f3ef159a854d8a"
      }
     },
     "c8772a7677404a3e9ded0eb5f8d29de2": {
      "model_module": "@jupyter-widgets/controls",
      "model_module_version": "1.5.0",
      "model_name": "DescriptionStyleModel",
      "state": {
       "description_width": ""
      }
     },
     "c89c20c7d2e14b94aa25a30579b9519e": {
      "model_module": "@jupyter-widgets/base",
      "model_module_version": "1.2.0",
      "model_name": "LayoutModel",
      "state": {}
     },
     "c8ce7e69c5c7411181368aca5c2a2459": {
      "model_module": "@jupyter-widgets/controls",
      "model_module_version": "1.5.0",
      "model_name": "ButtonModel",
      "state": {
       "description": "Poço Infinito",
       "layout": "IPY_MODEL_2f86c422bef94306b7a6b611254cd2e9",
       "style": "IPY_MODEL_b4c9d04463e24c7294b62d4f5587a5b3"
      }
     },
     "c9635f8be7d844be86ecd48e33556ec5": {
      "model_module": "@jupyter-widgets/controls",
      "model_module_version": "1.5.0",
      "model_name": "SliderStyleModel",
      "state": {
       "description_width": "initial"
      }
     },
     "cb639107804f45c4804bbbc4a868797f": {
      "model_module": "@jupyter-widgets/base",
      "model_module_version": "1.2.0",
      "model_name": "LayoutModel",
      "state": {}
     },
     "cbc627033e204827ae493b4b9e75160b": {
      "model_module": "@jupyter-widgets/controls",
      "model_module_version": "1.5.0",
      "model_name": "DescriptionStyleModel",
      "state": {
       "description_width": ""
      }
     },
     "cc7880c477b544b88d0bed56425638c9": {
      "model_module": "@jupyter-widgets/controls",
      "model_module_version": "1.5.0",
      "model_name": "SliderStyleModel",
      "state": {
       "description_width": "initial"
      }
     },
     "ccb4ff5a8ba547cf96c4d7614a37725d": {
      "model_module": "@jupyter-widgets/base",
      "model_module_version": "1.2.0",
      "model_name": "LayoutModel",
      "state": {}
     },
     "cdb85cfa410940fdb2559a8449f9f226": {
      "model_module": "@jupyter-widgets/base",
      "model_module_version": "1.2.0",
      "model_name": "LayoutModel",
      "state": {}
     },
     "cde5ecb0201e49bbb87a30b761c00a37": {
      "model_module": "@jupyter-widgets/controls",
      "model_module_version": "1.5.0",
      "model_name": "ButtonModel",
      "state": {
       "description": "Oscilador Harmônico",
       "layout": "IPY_MODEL_6feacdceb8ba4a7988a0fba7c942f3b4",
       "style": "IPY_MODEL_5710c4eaad5b4e1fa77ecf161a1342d8"
      }
     },
     "cdf2badd3a0e4367b4d05d70950618f6": {
      "model_module": "@jupyter-widgets/controls",
      "model_module_version": "1.5.0",
      "model_name": "GridBoxModel",
      "state": {
       "children": [
        "IPY_MODEL_f093fe311b0e47988e29ab36b9d3b7b9",
        "IPY_MODEL_8989101ba1934437b113661f00264cf0",
        "IPY_MODEL_d695f810900a4a4ab609d1cbf51f1342",
        "IPY_MODEL_b82c1e1a37594698a6f93b83caf313c2",
        "IPY_MODEL_328727cf536a4f76b4e6d008a99cab2c",
        "IPY_MODEL_4ba82c2bca8d47d599872b8895df9fab"
       ],
       "layout": "IPY_MODEL_9f9666f8b95a4d42878d5f7792629795"
      }
     },
     "ce0fe4cd31b1410a9d6625ddce80086b": {
      "model_module": "@jupyter-widgets/controls",
      "model_module_version": "1.5.0",
      "model_name": "IntSliderModel",
      "state": {
       "description": "Largura da imagem (polegadas):",
       "layout": "IPY_MODEL_315fe54d9fa04976a04d9ef9ef0a80a6",
       "max": 20,
       "style": "IPY_MODEL_357ad770f261442baf501920f32662ff",
       "value": 9
      }
     },
     "ce59e257a68c4b469377b8f34dd24552": {
      "model_module": "@jupyter-widgets/base",
      "model_module_version": "1.2.0",
      "model_name": "LayoutModel",
      "state": {}
     },
     "ce8ca1938fcd4148a048bee148aec6b5": {
      "model_module": "@jupyter-widgets/base",
      "model_module_version": "1.2.0",
      "model_name": "LayoutModel",
      "state": {}
     },
     "cf3e158eaa114365bfdfc13b7218981a": {
      "model_module": "@jupyter-widgets/base",
      "model_module_version": "1.2.0",
      "model_name": "LayoutModel",
      "state": {}
     },
     "cfb69e84364e4e86be8d5f16a5c1d6ef": {
      "model_module": "@jupyter-widgets/base",
      "model_module_version": "1.2.0",
      "model_name": "LayoutModel",
      "state": {}
     },
     "d01503e7c1024905bba8b7c44ba95696": {
      "model_module": "@jupyter-widgets/base",
      "model_module_version": "1.2.0",
      "model_name": "LayoutModel",
      "state": {}
     },
     "d05ffc82a8dd4c719cd8d54b1d61d869": {
      "model_module": "@jupyter-widgets/controls",
      "model_module_version": "1.5.0",
      "model_name": "ButtonModel",
      "state": {
       "description": "Oscilador Duffing Holmes",
       "layout": "IPY_MODEL_240895c93bb3430c8eee956ee5e4323e",
       "style": "IPY_MODEL_871afd6764ef487b9ea347193e6ce44f"
      }
     },
     "d11b7b60eff8460daa810ae44fa1e4f1": {
      "model_module": "@jupyter-widgets/controls",
      "model_module_version": "1.5.0",
      "model_name": "DescriptionStyleModel",
      "state": {
       "description_width": "initial"
      }
     },
     "d123716308d44855b639e338fc8faaf5": {
      "model_module": "@jupyter-widgets/controls",
      "model_module_version": "1.5.0",
      "model_name": "SliderStyleModel",
      "state": {
       "description_width": "initial"
      }
     },
     "d1315fbaecf24044aa9d3d7c7ea29dd4": {
      "model_module": "@jupyter-widgets/controls",
      "model_module_version": "1.5.0",
      "model_name": "LabelModel",
      "state": {
       "layout": "IPY_MODEL_5ed60e778cec4e78963db4e99c37417e",
       "style": "IPY_MODEL_2002dbea3cd84a4891c61a12a773d1d1",
       "value": " 70.00"
      }
     },
     "d174251e1a8c41a9a5194b7db8436bcb": {
      "model_module": "@jupyter-widgets/controls",
      "model_module_version": "1.5.0",
      "model_name": "LabelModel",
      "state": {
       "layout": "IPY_MODEL_fb0ed6351067496187d15941fce849d5",
       "style": "IPY_MODEL_2c2e757176984d84bd7e54040d68f137",
       "value": "[V_min , V_max] (eV) ="
      }
     },
     "d1b3179740b14ad9b60ac4576fe04c0e": {
      "model_module": "@jupyter-widgets/controls",
      "model_module_version": "1.5.0",
      "model_name": "FloatRangeSliderModel",
      "state": {
       "_model_name": "FloatRangeSliderModel",
       "_view_name": "FloatRangeSliderView",
       "description": "Limites do eixo y (angstroms):",
       "layout": "IPY_MODEL_fd05a5284de34c708d27d9381129e32c",
       "max": 25,
       "min": -25,
       "readout_format": ".1f",
       "step": 0.05,
       "style": "IPY_MODEL_213121a442d148c8a769d0db96dabf37",
       "value": [
        0,
        5
       ]
      }
     },
     "d1b70250736d45da9093dc2e1bdc5df3": {
      "model_module": "@jupyter-widgets/base",
      "model_module_version": "1.2.0",
      "model_name": "LayoutModel",
      "state": {}
     },
     "d1c43e8a8ab7499a9a3cc21722be52f3": {
      "model_module": "@jupyter-widgets/controls",
      "model_module_version": "1.5.0",
      "model_name": "SliderStyleModel",
      "state": {
       "description_width": "initial"
      }
     },
     "d1e1e2bc24b342a79234616787260a82": {
      "model_module": "@jupyter-widgets/base",
      "model_module_version": "1.2.0",
      "model_name": "LayoutModel",
      "state": {}
     },
     "d22890b43326467094d28018c2013db8": {
      "model_module": "@jupyter-widgets/controls",
      "model_module_version": "1.5.0",
      "model_name": "VBoxModel",
      "state": {
       "children": [
        "IPY_MODEL_92240bb4075e47168a7932bf45c7e012",
        "IPY_MODEL_370273fa7b0c4c6f839d4f76e8f90e75",
        "IPY_MODEL_207b80bac6984befa38850f1d172cc7c",
        "IPY_MODEL_3d59e6dd6608421aa35585c078fe1657"
       ],
       "layout": "IPY_MODEL_088c6575937147a3bb96b78fd9605d01"
      }
     },
     "d2bed6c925b8439bb031c1a9eceb5aac": {
      "model_module": "@jupyter-widgets/base",
      "model_module_version": "1.2.0",
      "model_name": "LayoutModel",
      "state": {}
     },
     "d2e75bb11c8b41dbba549866ff21a95a": {
      "model_module": "@jupyter-widgets/controls",
      "model_module_version": "1.5.0",
      "model_name": "DescriptionStyleModel",
      "state": {
       "description_width": ""
      }
     },
     "d2f76019e5284ed083525a294e9a5b29": {
      "model_module": "@jupyter-widgets/base",
      "model_module_version": "1.2.0",
      "model_name": "LayoutModel",
      "state": {}
     },
     "d39636d038b94db9b9f3a0576913d78f": {
      "model_module": "@jupyter-widgets/controls",
      "model_module_version": "1.5.0",
      "model_name": "ButtonStyleModel",
      "state": {}
     },
     "d3ca4d1967b242ac93eb6397a8ca4be7": {
      "model_module": "@jupyter-widgets/base",
      "model_module_version": "1.2.0",
      "model_name": "LayoutModel",
      "state": {}
     },
     "d4154f70adb040bfbb8fda261a56900a": {
      "model_module": "@jupyter-widgets/controls",
      "model_module_version": "1.5.0",
      "model_name": "ButtonModel",
      "state": {
       "description": "Oscilador Harmônico",
       "layout": "IPY_MODEL_d1e1e2bc24b342a79234616787260a82",
       "style": "IPY_MODEL_8f5fa219e9434930997b13dd7443ece4"
      }
     },
     "d44b7005fdcd4c7da08650b0365ad48f": {
      "model_module": "@jupyter-widgets/controls",
      "model_module_version": "1.5.0",
      "model_name": "LabelModel",
      "state": {
       "layout": "IPY_MODEL_75670cd6da2d48c2a2ab10b17a502e03",
       "style": "IPY_MODEL_50dd73968d324339b6c0d888fafc2a53",
       "value": "Passo $\\Delta x $ (angstroms) ="
      }
     },
     "d4fb9ba138344984926ebe473657a868": {
      "model_module": "@jupyter-widgets/controls",
      "model_module_version": "1.5.0",
      "model_name": "GridBoxModel",
      "state": {
       "children": [
        "IPY_MODEL_ff1b4c5e505149ca9de9bea319d0d173",
        "IPY_MODEL_88868c9a4e3f4550b938a3c0bc4ed8e5",
        "IPY_MODEL_40ffdb80c3c44285bb457854cd162531",
        "IPY_MODEL_637531dcaf0f48339d0dce9433440078",
        "IPY_MODEL_ad982649b3924c668174119b729e5f61",
        "IPY_MODEL_fe3d7d75aafd479b86d3201f2e33e0e5"
       ],
       "layout": "IPY_MODEL_e6387edaa4df4a1bb14b44cc9540f00d"
      }
     },
     "d5412ffc2cbf4efb89b5c91a7e4ff5c8": {
      "model_module": "@jupyter-widgets/base",
      "model_module_version": "1.2.0",
      "model_name": "LayoutModel",
      "state": {}
     },
     "d5610c2bd75845398daec351b9e9a7ba": {
      "model_module": "@jupyter-widgets/base",
      "model_module_version": "1.2.0",
      "model_name": "LayoutModel",
      "state": {}
     },
     "d695f810900a4a4ab609d1cbf51f1342": {
      "model_module": "@jupyter-widgets/controls",
      "model_module_version": "1.5.0",
      "model_name": "LabelModel",
      "state": {
       "layout": "IPY_MODEL_ce8ca1938fcd4148a048bee148aec6b5",
       "style": "IPY_MODEL_03f27e7e9ef549ceb184a9d52ba40139",
       "value": "Largura do domínio (angstroms) ="
      }
     },
     "d71e23f6563b47788b702c83e1ba5327": {
      "model_module": "@jupyter-widgets/controls",
      "model_module_version": "1.5.0",
      "model_name": "DescriptionStyleModel",
      "state": {
       "description_width": ""
      }
     },
     "d76ef0b3a9a34f99b86bdc3988c4da73": {
      "model_module": "@jupyter-widgets/base",
      "model_module_version": "1.2.0",
      "model_name": "LayoutModel",
      "state": {
       "display": "flex",
       "width": "90%"
      }
     },
     "d8680e7aac6449aab593d904ba9995f7": {
      "model_module": "@jupyter-widgets/base",
      "model_module_version": "1.2.0",
      "model_name": "LayoutModel",
      "state": {}
     },
     "d8820da0f4c24d3a9c75d43aa59193e2": {
      "model_module": "@jupyter-widgets/controls",
      "model_module_version": "1.5.0",
      "model_name": "DescriptionStyleModel",
      "state": {
       "description_width": ""
      }
     },
     "d8a54240ae504d498221ea92e686fb28": {
      "model_module": "@jupyter-widgets/base",
      "model_module_version": "1.2.0",
      "model_name": "LayoutModel",
      "state": {}
     },
     "d8e0dadee39748faab9769818e2b81b4": {
      "model_module": "@jupyter-widgets/controls",
      "model_module_version": "1.5.0",
      "model_name": "IntRangeSliderModel",
      "state": {
       "_model_name": "IntRangeSliderModel",
       "_view_name": "IntRangeSliderView",
       "continuous_update": false,
       "description": "Plotar estados:",
       "layout": "IPY_MODEL_74f2c7edb61a4833873164a150fb7eca",
       "max": 20,
       "style": "IPY_MODEL_9a209e94900e48bbae779dd5d9716ed1",
       "value": [
        0,
        6
       ]
      }
     },
     "d931ebb48ba44adaa1f1e314f01d57da": {
      "model_module": "@jupyter-widgets/controls",
      "model_module_version": "1.5.0",
      "model_name": "ButtonStyleModel",
      "state": {}
     },
     "d94a6d19ab0d4c239c5d68f45804f7df": {
      "model_module": "@jupyter-widgets/controls",
      "model_module_version": "1.5.0",
      "model_name": "VBoxModel",
      "state": {
       "_dom_classes": [
        "widget-interact"
       ],
       "children": [
        "IPY_MODEL_3e7c2c55e681425ebb98a56d7f69b154",
        "IPY_MODEL_727dcce56ea44224bc5f0ce87ea72c1e",
        "IPY_MODEL_dc0f4ae6224d40a8b0cd14d5004845bd",
        "IPY_MODEL_ce0fe4cd31b1410a9d6625ddce80086b",
        "IPY_MODEL_262d0760a33c49f0a02f0c55583d70e8",
        "IPY_MODEL_ffb337593c264c77a0098ca1f1ac353d",
        "IPY_MODEL_2a166e3b34bc4577ad03bfbed9679c34",
        "IPY_MODEL_fbfb8ba9b20242b894bd759bc9697e0a",
        "IPY_MODEL_4724c7107abf49ecacda249e5b550cb5",
        "IPY_MODEL_ff5556ba2fcf43bfa3d7ce64cc72eb17"
       ],
       "layout": "IPY_MODEL_a381617953fe42a98b74f10ccc42126a"
      }
     },
     "db3451a2cea94f7a83ecc49246babd86": {
      "model_module": "@jupyter-widgets/controls",
      "model_module_version": "1.5.0",
      "model_name": "LabelModel",
      "state": {
       "layout": "IPY_MODEL_6b2ffb1b13484047a2b1ce6138551ba6",
       "style": "IPY_MODEL_4014fee220ba4cb39b01d9f116580028",
       "value": "[V_min , V_max] (eV) ="
      }
     },
     "db7d71336835435d908344710775e908": {
      "model_module": "@jupyter-widgets/base",
      "model_module_version": "1.2.0",
      "model_name": "LayoutModel",
      "state": {}
     },
     "dbb0e02e55a24584940644f2902f1ce5": {
      "model_module": "@jupyter-widgets/base",
      "model_module_version": "1.2.0",
      "model_name": "LayoutModel",
      "state": {}
     },
     "dbb55760515c45088d30d4d1b2fedcd3": {
      "model_module": "@jupyter-widgets/controls",
      "model_module_version": "1.5.0",
      "model_name": "LabelModel",
      "state": {
       "layout": "IPY_MODEL_d2bed6c925b8439bb031c1a9eceb5aac",
       "style": "IPY_MODEL_ec3fcd28140c46cb9557ed08bbe9f7a6",
       "value": "Passo $\\Delta x $ (angstroms) ="
      }
     },
     "dc0f4ae6224d40a8b0cd14d5004845bd": {
      "model_module": "@jupyter-widgets/controls",
      "model_module_version": "1.5.0",
      "model_name": "DropdownModel",
      "state": {
       "_options_labels": [
        "densidades de probabilidades",
        "funções de onda (parte real, +)",
        "funções de onda (parte imaginária)"
       ],
       "description": "Plotar as",
       "index": 0,
       "layout": "IPY_MODEL_1cafbf17e5604b379beb5140ae31d5ce",
       "style": "IPY_MODEL_28dedd683cf7442d8c8ef5292ddb86e0"
      }
     },
     "dc259d40573e4c0ca878a2ff3ca9afcd": {
      "model_module": "@jupyter-widgets/controls",
      "model_module_version": "1.5.0",
      "model_name": "IntSliderModel",
      "state": {
       "description": "Pixels por polegada:",
       "layout": "IPY_MODEL_74f2c7edb61a4833873164a150fb7eca",
       "max": 300,
       "min": 10,
       "style": "IPY_MODEL_f60204177a0e4f61b0e76a58c24cad1d",
       "value": 80
      }
     },
     "dcf419705c65418e9f0f3baf5026861d": {
      "model_module": "@jupyter-widgets/controls",
      "model_module_version": "1.5.0",
      "model_name": "TextModel",
      "state": {
       "description": "Expressão de $V(x)$: ",
       "layout": "IPY_MODEL_74f2c7edb61a4833873164a150fb7eca",
       "placeholder": "Escreva a expressão aqui.",
       "style": "IPY_MODEL_c160fdfeeec64fd3b1fe9dabb8a37d88",
       "value": "0"
      }
     },
     "dd3f7d24b1c9475197a64908728c9d84": {
      "model_module": "@jupyter-widgets/controls",
      "model_module_version": "1.5.0",
      "model_name": "FloatRangeSliderModel",
      "state": {
       "_model_name": "FloatRangeSliderModel",
       "_view_name": "FloatRangeSliderView",
       "description": "Limites do eixo y (angstroms):",
       "layout": "IPY_MODEL_74f2c7edb61a4833873164a150fb7eca",
       "max": 25,
       "min": -25,
       "readout_format": ".1f",
       "step": 0.05,
       "style": "IPY_MODEL_096a041b0588428096a0237679117998",
       "value": [
        0,
        5
       ]
      }
     },
     "dd6669f2205c44c6bfc691d63b12bbdd": {
      "model_module": "@jupyter-widgets/controls",
      "model_module_version": "1.5.0",
      "model_name": "IntRangeSliderModel",
      "state": {
       "_model_name": "IntRangeSliderModel",
       "_view_name": "IntRangeSliderView",
       "continuous_update": false,
       "description": "Plotar estados:",
       "layout": "IPY_MODEL_9caac3cd92b74d8589b76eba8f40dc88",
       "max": 20,
       "style": "IPY_MODEL_845a214100f149b296264f3f0e16a326",
       "value": [
        0,
        6
       ]
      }
     },
     "de6afac1fdc24beda17ad3a4d355c827": {
      "model_module": "@jupyter-widgets/controls",
      "model_module_version": "1.5.0",
      "model_name": "ButtonModel",
      "state": {
       "description": "Diagonalizado!",
       "disabled": true,
       "layout": "IPY_MODEL_4573114559474fa4817c9223eea2bca6",
       "style": "IPY_MODEL_2b353896c2434bd78a3afe491e8cf19b"
      }
     },
     "de6dd1422e93466a9c6f3aa2086bb8c3": {
      "model_module": "@jupyter-widgets/controls",
      "model_module_version": "1.5.0",
      "model_name": "SliderStyleModel",
      "state": {
       "description_width": "initial"
      }
     },
     "de767e09c19442fba74c30646c8a4a00": {
      "model_module": "@jupyter-widgets/controls",
      "model_module_version": "1.5.0",
      "model_name": "IntRangeSliderModel",
      "state": {
       "_model_name": "IntRangeSliderModel",
       "_view_name": "IntRangeSliderView",
       "continuous_update": false,
       "description": "Plotar estados:",
       "layout": "IPY_MODEL_a08954f2eb8940219940b492d167ad23",
       "max": 20,
       "style": "IPY_MODEL_3239fa7fddf7486aaeaa16fe3188a6b9",
       "value": [
        0,
        6
       ]
      }
     },
     "de7aee559561433895ecf78b64d3fef1": {
      "model_module": "@jupyter-widgets/controls",
      "model_module_version": "1.5.0",
      "model_name": "ButtonStyleModel",
      "state": {}
     },
     "df245e09593a46a4af3f33ae0d888419": {
      "model_module": "@jupyter-widgets/base",
      "model_module_version": "1.2.0",
      "model_name": "LayoutModel",
      "state": {}
     },
     "df87cb5796a84d9c8726c38772377450": {
      "model_module": "@jupyter-widgets/controls",
      "model_module_version": "1.5.0",
      "model_name": "CheckboxModel",
      "state": {
       "description": "Auto limitar eixo y",
       "disabled": false,
       "layout": "IPY_MODEL_d3ca4d1967b242ac93eb6397a8ca4be7",
       "style": "IPY_MODEL_f40a3a9deaf54830b068eaf4722d38fb",
       "value": true
      }
     },
     "e03a8a61c51048b78ffbef98dba9bcc9": {
      "model_module": "@jupyter-widgets/base",
      "model_module_version": "1.2.0",
      "model_name": "LayoutModel",
      "state": {}
     },
     "e03a8a825f8a4b65a3ae14ee57d5cc48": {
      "model_module": "@jupyter-widgets/base",
      "model_module_version": "1.2.0",
      "model_name": "LayoutModel",
      "state": {}
     },
     "e04740e62923469a8bffd2fab1d7a688": {
      "model_module": "@jupyter-widgets/controls",
      "model_module_version": "1.5.0",
      "model_name": "LabelModel",
      "state": {
       "layout": "IPY_MODEL_a3f230b3e3a64b17b00ddcb028e38be6",
       "style": "IPY_MODEL_fa04276a6e4e40d485f58f7b58562f4c",
       "value": " 70.00"
      }
     },
     "e12c9ffcdf3c416cb82bf2282ee77809": {
      "model_module": "@jupyter-widgets/controls",
      "model_module_version": "1.5.0",
      "model_name": "LabelModel",
      "state": {
       "layout": "IPY_MODEL_79a008922dc240679dea102d66354e85",
       "style": "IPY_MODEL_186fb10dc54c44e4ad6ee2bc40726294",
       "value": "Passo $\\Delta x $ (angstroms) ="
      }
     },
     "e18fe7ba49fd4ef4abc9a9383b63ec8d": {
      "model_module": "@jupyter-widgets/controls",
      "model_module_version": "1.5.0",
      "model_name": "SliderStyleModel",
      "state": {
       "description_width": "initial"
      }
     },
     "e1c4142e69ac449e97bae86223a575c8": {
      "model_module": "@jupyter-widgets/base",
      "model_module_version": "1.2.0",
      "model_name": "LayoutModel",
      "state": {}
     },
     "e23ec3ad2b5f4e2aaf20ec51e0fa82f4": {
      "model_module": "@jupyter-widgets/base",
      "model_module_version": "1.2.0",
      "model_name": "LayoutModel",
      "state": {}
     },
     "e2b4d1417eca4ac08220ea5a79a266c9": {
      "model_module": "@jupyter-widgets/controls",
      "model_module_version": "1.5.0",
      "model_name": "VBoxModel",
      "state": {
       "children": [
        "IPY_MODEL_3bee8814f7ab446eb02cc4572323ae48",
        "IPY_MODEL_fa1b7f91e780481d9d163ce0e3fefe84",
        "IPY_MODEL_8b526df970b34425afdccd1a71512621",
        "IPY_MODEL_de6afac1fdc24beda17ad3a4d355c827"
       ],
       "layout": "IPY_MODEL_d01503e7c1024905bba8b7c44ba95696"
      }
     },
     "e2b60875b3f84bffb0b3a9f62d2f6cc0": {
      "model_module": "@jupyter-widgets/controls",
      "model_module_version": "1.5.0",
      "model_name": "SliderStyleModel",
      "state": {
       "description_width": "initial"
      }
     },
     "e39ec3b5325341ef9e0aa44a84fae255": {
      "model_module": "@jupyter-widgets/controls",
      "model_module_version": "1.5.0",
      "model_name": "SliderStyleModel",
      "state": {
       "description_width": "initial"
      }
     },
     "e3cac2d0e1cf4619bf60028356c686fd": {
      "model_module": "@jupyter-widgets/controls",
      "model_module_version": "1.5.0",
      "model_name": "DescriptionStyleModel",
      "state": {
       "description_width": ""
      }
     },
     "e43cb62b1a364d02a3d4666d4c9649de": {
      "model_module": "@jupyter-widgets/controls",
      "model_module_version": "1.5.0",
      "model_name": "ButtonModel",
      "state": {
       "description": "Plotar",
       "layout": "IPY_MODEL_056306a341ab4a2b9fd2b58ca58bfe58",
       "style": "IPY_MODEL_869ec866db73411b88dd04f6468625c7"
      }
     },
     "e465f48e8f99442eb8803bb7a170b636": {
      "model_module": "@jupyter-widgets/controls",
      "model_module_version": "1.5.0",
      "model_name": "ButtonStyleModel",
      "state": {}
     },
     "e4f2d86708df41d6ba5ef5c8a27ed7e3": {
      "model_module": "@jupyter-widgets/controls",
      "model_module_version": "1.5.0",
      "model_name": "IntSliderModel",
      "state": {
       "continuous_update": false,
       "description": "Número de pontos: ",
       "layout": "IPY_MODEL_9caac3cd92b74d8589b76eba8f40dc88",
       "max": 1050,
       "min": 50,
       "step": 10,
       "style": "IPY_MODEL_4800719e34a54949a3741bb977e0944b",
       "value": 550
      }
     },
     "e4f4efee0ea2441586d2e8ba161266f9": {
      "model_module": "@jupyter-widgets/controls",
      "model_module_version": "1.5.0",
      "model_name": "ButtonStyleModel",
      "state": {}
     },
     "e5030f9c43fb4e668e6198628db571ae": {
      "model_module": "@jupyter-widgets/base",
      "model_module_version": "1.2.0",
      "model_name": "LayoutModel",
      "state": {}
     },
     "e50b6a4d4aa54841a6724a6ebcef744c": {
      "model_module": "@jupyter-widgets/controls",
      "model_module_version": "1.5.0",
      "model_name": "TextModel",
      "state": {
       "description": "Expressão de $V(x)$: ",
       "layout": "IPY_MODEL_315fe54d9fa04976a04d9ef9ef0a80a6",
       "placeholder": "Escreva a expressão aqui.",
       "style": "IPY_MODEL_644ae7183fc441b3aac13fb176364af8",
       "value": "(1e-5)*(x**2)+(1e-7)*(x**4)"
      }
     },
     "e56cc7916e09482f90dff7c010585b87": {
      "model_module": "@jupyter-widgets/base",
      "model_module_version": "1.2.0",
      "model_name": "LayoutModel",
      "state": {}
     },
     "e6387edaa4df4a1bb14b44cc9540f00d": {
      "model_module": "@jupyter-widgets/base",
      "model_module_version": "1.2.0",
      "model_name": "LayoutModel",
      "state": {
       "grid_template_columns": "repeat(2, 250px)"
      }
     },
     "e68c6c4986e74c3eb567d27ee732a150": {
      "model_module": "@jupyter-widgets/controls",
      "model_module_version": "1.5.0",
      "model_name": "LabelModel",
      "state": {
       "layout": "IPY_MODEL_c4092018e56c491ba0a673dbe1a9042f",
       "style": "IPY_MODEL_d71e23f6563b47788b702c83e1ba5327",
       "value": "[0.00000 , 0.00000]"
      }
     },
     "e6d194d52da74e38b050203ca0d5f0ab": {
      "model_module": "@jupyter-widgets/base",
      "model_module_version": "1.2.0",
      "model_name": "LayoutModel",
      "state": {}
     },
     "e72a75b21d4344b7a87d1ae5c4278b32": {
      "model_module": "@jupyter-widgets/controls",
      "model_module_version": "1.5.0",
      "model_name": "TextModel",
      "state": {
       "description": "Expressão de $V(x)$: ",
       "layout": "IPY_MODEL_9caac3cd92b74d8589b76eba8f40dc88",
       "placeholder": "Escreva a expressão aqui.",
       "style": "IPY_MODEL_327905d643614d02ae792242b11bd92d",
       "value": "0"
      }
     },
     "e7474512ede3438aba1c58eb1a9980c8": {
      "model_module": "@jupyter-widgets/controls",
      "model_module_version": "1.5.0",
      "model_name": "ButtonStyleModel",
      "state": {}
     },
     "e76782bcd80148b3bf2d63ec0ca1e1aa": {
      "model_module": "@jupyter-widgets/base",
      "model_module_version": "1.2.0",
      "model_name": "LayoutModel",
      "state": {}
     },
     "e7a53257bcc84210b6f5104ef920747c": {
      "model_module": "@jupyter-widgets/base",
      "model_module_version": "1.2.0",
      "model_name": "LayoutModel",
      "state": {}
     },
     "e7c8be458bb844c3bcc89236f1f0a504": {
      "model_module": "@jupyter-widgets/controls",
      "model_module_version": "1.5.0",
      "model_name": "DescriptionStyleModel",
      "state": {
       "description_width": ""
      }
     },
     "e84aed9f30014aefbadfb4b91ee8ab94": {
      "model_module": "@jupyter-widgets/controls",
      "model_module_version": "1.5.0",
      "model_name": "TextModel",
      "state": {
       "description": "Expressão de $V(x)$: ",
       "layout": "IPY_MODEL_d76ef0b3a9a34f99b86bdc3988c4da73",
       "placeholder": "Escreva a expressão aqui.",
       "style": "IPY_MODEL_1f8fda6b96a7439184676ac61440c80b",
       "value": "0"
      }
     },
     "e8cc804f73c54a5c8fb0c1ea7333e9c6": {
      "model_module": "@jupyter-widgets/controls",
      "model_module_version": "1.5.0",
      "model_name": "DescriptionStyleModel",
      "state": {
       "description_width": "initial"
      }
     },
     "e8cf0c5fa5244f9492d09683f84d62e0": {
      "model_module": "@jupyter-widgets/controls",
      "model_module_version": "1.5.0",
      "model_name": "SliderStyleModel",
      "state": {
       "description_width": "initial"
      }
     },
     "e8e906d9211c4a869271a3b77805e657": {
      "model_module": "@jupyter-widgets/controls",
      "model_module_version": "1.5.0",
      "model_name": "SliderStyleModel",
      "state": {
       "description_width": "initial"
      }
     },
     "e8e95dfa74ec4d1b9350239441f3c1ba": {
      "model_module": "@jupyter-widgets/base",
      "model_module_version": "1.2.0",
      "model_name": "LayoutModel",
      "state": {}
     },
     "e9199a5f34524058aa0bd03af159ac41": {
      "model_module": "@jupyter-widgets/output",
      "model_module_version": "1.0.0",
      "model_name": "OutputModel",
      "state": {
       "layout": "IPY_MODEL_fc40f4856cf148059c095e0cced3c64b",
       "outputs": [
        {
         "data": {
          "image/png": "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\n",
          "text/plain": "<Figure size 864x576 with 1 Axes>"
         },
         "metadata": {
          "needs_background": "light"
         },
         "output_type": "display_data"
        }
       ]
      }
     },
     "e946ec62a2c74037aeb99ba73525df2b": {
      "model_module": "@jupyter-widgets/base",
      "model_module_version": "1.2.0",
      "model_name": "LayoutModel",
      "state": {
       "grid_template_columns": "repeat(2, 250px)"
      }
     },
     "eb3a9053e0a34cceb36a643df383ac4f": {
      "model_module": "@jupyter-widgets/controls",
      "model_module_version": "1.5.0",
      "model_name": "DescriptionStyleModel",
      "state": {
       "description_width": "initial"
      }
     },
     "eb3c4e3f3d0e47cdb92512e1167160e4": {
      "model_module": "@jupyter-widgets/controls",
      "model_module_version": "1.5.0",
      "model_name": "SliderStyleModel",
      "state": {
       "description_width": "initial"
      }
     },
     "ebc9ca8495fc4f7db15798522a197328": {
      "model_module": "@jupyter-widgets/controls",
      "model_module_version": "1.5.0",
      "model_name": "IntSliderModel",
      "state": {
       "continuous_update": false,
       "description": "Número de pontos: ",
       "layout": "IPY_MODEL_fd05a5284de34c708d27d9381129e32c",
       "max": 1050,
       "min": 50,
       "step": 10,
       "style": "IPY_MODEL_4e69c368ae414eaca6e10c179f5383b4",
       "value": 550
      }
     },
     "ec3fcd28140c46cb9557ed08bbe9f7a6": {
      "model_module": "@jupyter-widgets/controls",
      "model_module_version": "1.5.0",
      "model_name": "DescriptionStyleModel",
      "state": {
       "description_width": ""
      }
     },
     "ec8a5a060ba74edd86a1d13efcdfdbc1": {
      "model_module": "@jupyter-widgets/controls",
      "model_module_version": "1.5.0",
      "model_name": "DescriptionStyleModel",
      "state": {
       "description_width": ""
      }
     },
     "ecb106f439384a66a2b2013826035c79": {
      "model_module": "@jupyter-widgets/controls",
      "model_module_version": "1.5.0",
      "model_name": "SliderStyleModel",
      "state": {
       "description_width": "initial"
      }
     },
     "ecf8b877a7c94b95b27141f3d4f336d2": {
      "model_module": "@jupyter-widgets/controls",
      "model_module_version": "1.5.0",
      "model_name": "ButtonModel",
      "state": {
       "description": "Diagonalizado!",
       "disabled": true,
       "layout": "IPY_MODEL_c28db3a9ed624780bf2e7afc402dfac5",
       "style": "IPY_MODEL_158aeac59cd44e6888f6ba3abc8091e8"
      }
     },
     "ed2ba1bb5055488083bd43986ebd5935": {
      "model_module": "@jupyter-widgets/base",
      "model_module_version": "1.2.0",
      "model_name": "LayoutModel",
      "state": {}
     },
     "ee21e0b90cc14fb5a84ab7eaa82344fb": {
      "model_module": "@jupyter-widgets/controls",
      "model_module_version": "1.5.0",
      "model_name": "DescriptionStyleModel",
      "state": {
       "description_width": "initial"
      }
     },
     "eed10c7dadcd4e2a80b7fd171b8d9c4c": {
      "model_module": "@jupyter-widgets/base",
      "model_module_version": "1.2.0",
      "model_name": "LayoutModel",
      "state": {}
     },
     "ef0347bcb973487aa81e04e95528516b": {
      "model_module": "@jupyter-widgets/controls",
      "model_module_version": "1.5.0",
      "model_name": "TabModel",
      "state": {
       "_titles": {
        "0": "Gerar o Sistema",
        "1": "Funções de Onda"
       },
       "children": [
        "IPY_MODEL_722b8331df474715abb4ef2f461fe349",
        "IPY_MODEL_75e05aee12d7485eaf63ce1df784cc47"
       ],
       "layout": "IPY_MODEL_1867698c10b64fa5ad1b06e93c489564",
       "selected_index": 1
      }
     },
     "f093fe311b0e47988e29ab36b9d3b7b9": {
      "model_module": "@jupyter-widgets/controls",
      "model_module_version": "1.5.0",
      "model_name": "LabelModel",
      "state": {
       "layout": "IPY_MODEL_ac2d4c72202144ff81344e2dbbc70e7e",
       "style": "IPY_MODEL_fdaec6271cfd47db97c99348108f0230",
       "value": "Passo $\\Delta x $ (angstroms) ="
      }
     },
     "f0d0f77b76114c558a4afc8e0d84f9ab": {
      "model_module": "@jupyter-widgets/controls",
      "model_module_version": "1.5.0",
      "model_name": "LabelModel",
      "state": {
       "layout": "IPY_MODEL_3067d2378dfd4547ac2875d557a72bbb",
       "style": "IPY_MODEL_7a85e8e94e9c484bb440271f7d55ff00",
       "value": "L"
      }
     },
     "f17119a0d30844d6a42b64f58faa0bc8": {
      "model_module": "@jupyter-widgets/base",
      "model_module_version": "1.2.0",
      "model_name": "LayoutModel",
      "state": {}
     },
     "f266d3c2f9bc416fbb06fefb0b601215": {
      "model_module": "@jupyter-widgets/base",
      "model_module_version": "1.2.0",
      "model_name": "LayoutModel",
      "state": {}
     },
     "f2804cfe19b04b9d9a4142d03b74bce4": {
      "model_module": "@jupyter-widgets/controls",
      "model_module_version": "1.5.0",
      "model_name": "DescriptionStyleModel",
      "state": {
       "description_width": ""
      }
     },
     "f2e46a20c064420eb3867566aa9fc05c": {
      "model_module": "@jupyter-widgets/controls",
      "model_module_version": "1.5.0",
      "model_name": "ButtonStyleModel",
      "state": {}
     },
     "f31a6452b6614c998a6de81a2c62fc4d": {
      "model_module": "@jupyter-widgets/base",
      "model_module_version": "1.2.0",
      "model_name": "LayoutModel",
      "state": {}
     },
     "f3729a4866194090b82ff1dd527f78b2": {
      "model_module": "@jupyter-widgets/controls",
      "model_module_version": "1.5.0",
      "model_name": "ButtonModel",
      "state": {
       "description": "Gerar",
       "layout": "IPY_MODEL_49cc7c978cac4c24b0ea063ede6abd8f",
       "style": "IPY_MODEL_af2c491e1a35411aba93bca1b4e7f8f3"
      }
     },
     "f3ce96c0048f4cc58fe4d8274afd679b": {
      "model_module": "@jupyter-widgets/base",
      "model_module_version": "1.2.0",
      "model_name": "LayoutModel",
      "state": {}
     },
     "f3e0debf8bee4f49bfafd2cf3c24ac4a": {
      "model_module": "@jupyter-widgets/controls",
      "model_module_version": "1.5.0",
      "model_name": "SliderStyleModel",
      "state": {
       "description_width": "initial"
      }
     },
     "f3e68b8cf5f84d4685f411e26c30be6d": {
      "model_module": "@jupyter-widgets/base",
      "model_module_version": "1.2.0",
      "model_name": "LayoutModel",
      "state": {}
     },
     "f40a3a9deaf54830b068eaf4722d38fb": {
      "model_module": "@jupyter-widgets/controls",
      "model_module_version": "1.5.0",
      "model_name": "DescriptionStyleModel",
      "state": {
       "description_width": "initial"
      }
     },
     "f445e887805b4682ba1b2827dd917c6b": {
      "model_module": "@jupyter-widgets/base",
      "model_module_version": "1.2.0",
      "model_name": "LayoutModel",
      "state": {}
     },
     "f4aa6510a6aa4e898f004c04ba151536": {
      "model_module": "@jupyter-widgets/controls",
      "model_module_version": "1.5.0",
      "model_name": "SliderStyleModel",
      "state": {
       "description_width": "initial"
      }
     },
     "f4b48a0cf3bd4d0f96a5c1bc2460db79": {
      "model_module": "@jupyter-widgets/base",
      "model_module_version": "1.2.0",
      "model_name": "LayoutModel",
      "state": {}
     },
     "f4d9d31a921a44c3a9eff0afa97ae077": {
      "model_module": "@jupyter-widgets/controls",
      "model_module_version": "1.5.0",
      "model_name": "DropdownModel",
      "state": {
       "_options_labels": [
        "densidades de probabilidades",
        "funções de onda (parte real, +)",
        "funções de onda (parte imaginária)"
       ],
       "description": "Plotar as",
       "index": 1,
       "layout": "IPY_MODEL_c4bd523cda6a47e7b9571d9dafa107e3",
       "style": "IPY_MODEL_7f76b0dfff9b426a9c295691c45e861b"
      }
     },
     "f5c549923fd242019fa2b4566d905eb0": {
      "model_module": "@jupyter-widgets/controls",
      "model_module_version": "1.5.0",
      "model_name": "ButtonStyleModel",
      "state": {}
     },
     "f600db16473b4349b9c3461c0ca64697": {
      "model_module": "@jupyter-widgets/base",
      "model_module_version": "1.2.0",
      "model_name": "LayoutModel",
      "state": {}
     },
     "f60204177a0e4f61b0e76a58c24cad1d": {
      "model_module": "@jupyter-widgets/controls",
      "model_module_version": "1.5.0",
      "model_name": "SliderStyleModel",
      "state": {
       "description_width": "initial"
      }
     },
     "f6755b403ac346b1a4fb0f0ccb233ce6": {
      "model_module": "@jupyter-widgets/controls",
      "model_module_version": "1.5.0",
      "model_name": "ButtonStyleModel",
      "state": {}
     },
     "f6c45a14251e4a5982b4521bbdaaa91c": {
      "model_module": "@jupyter-widgets/base",
      "model_module_version": "1.2.0",
      "model_name": "LayoutModel",
      "state": {}
     },
     "f8429a22170d43dcaab96b0254b7757b": {
      "model_module": "@jupyter-widgets/base",
      "model_module_version": "1.2.0",
      "model_name": "LayoutModel",
      "state": {}
     },
     "f85e511863774f51b235396d3b941d7e": {
      "model_module": "@jupyter-widgets/controls",
      "model_module_version": "1.5.0",
      "model_name": "IntSliderModel",
      "state": {
       "description": "Largura da imagem (polegadas):",
       "layout": "IPY_MODEL_9caac3cd92b74d8589b76eba8f40dc88",
       "max": 20,
       "style": "IPY_MODEL_b0433735ac7d4972a7311ca9f97b530d",
       "value": 9
      }
     },
     "f8820de4f0fa411d9f14fe632e037e48": {
      "model_module": "@jupyter-widgets/controls",
      "model_module_version": "1.5.0",
      "model_name": "ButtonStyleModel",
      "state": {}
     },
     "f8a67e4185e94362b3a18ae786756acd": {
      "model_module": "@jupyter-widgets/controls",
      "model_module_version": "1.5.0",
      "model_name": "LabelModel",
      "state": {
       "layout": "IPY_MODEL_8b9ac6a3ad9142eeb9c0389b92c9ddcb",
       "style": "IPY_MODEL_65983dc26cdc41d584b62202f3088cf8",
       "value": " 0.13"
      }
     },
     "f953fdf264634609a366e4f770205c51": {
      "model_module": "@jupyter-widgets/controls",
      "model_module_version": "1.5.0",
      "model_name": "LabelModel",
      "state": {
       "layout": "IPY_MODEL_f6c45a14251e4a5982b4521bbdaaa91c",
       "style": "IPY_MODEL_39b4d9545a304ceb89786a0bb6a62fcd",
       "value": "Largura do domínio (angstroms) ="
      }
     },
     "f9b488dffcbc48479875570e94ba468f": {
      "model_module": "@jupyter-widgets/controls",
      "model_module_version": "1.5.0",
      "model_name": "ButtonModel",
      "state": {
       "description": "Plotar",
       "layout": "IPY_MODEL_18596fe2504d49cdafc31d6f1ef933c3",
       "style": "IPY_MODEL_5fc8e0e4e38045a7b9994490568bb048"
      }
     },
     "f9f3483cba65448b9be4c6d4c0246a87": {
      "model_module": "@jupyter-widgets/base",
      "model_module_version": "1.2.0",
      "model_name": "LayoutModel",
      "state": {
       "grid_template_columns": "repeat(2, 250px)"
      }
     },
     "fa04276a6e4e40d485f58f7b58562f4c": {
      "model_module": "@jupyter-widgets/controls",
      "model_module_version": "1.5.0",
      "model_name": "DescriptionStyleModel",
      "state": {
       "description_width": ""
      }
     },
     "fa1b7f91e780481d9d163ce0e3fefe84": {
      "model_module": "@jupyter-widgets/controls",
      "model_module_version": "1.5.0",
      "model_name": "BoxModel",
      "state": {
       "children": [
        "IPY_MODEL_7efa6aa4d2ce414098ec5eef7b375de6",
        "IPY_MODEL_07ac490018444e57ae47a5850425231b",
        "IPY_MODEL_3017adc0661141b2bbd5114321e148c7",
        "IPY_MODEL_77f44b8d4ed94a72af3727a3686d6aea"
       ],
       "layout": "IPY_MODEL_ba82095a59f14cf3947ad68d5d2d3f9e"
      }
     },
     "fa6a1c18a7d24abeab7e27ea27ce5929": {
      "model_module": "@jupyter-widgets/controls",
      "model_module_version": "1.5.0",
      "model_name": "ButtonStyleModel",
      "state": {}
     },
     "fa6b1dee151a4b008792d22e597a1c98": {
      "model_module": "@jupyter-widgets/base",
      "model_module_version": "1.2.0",
      "model_name": "LayoutModel",
      "state": {}
     },
     "fb0ed6351067496187d15941fce849d5": {
      "model_module": "@jupyter-widgets/base",
      "model_module_version": "1.2.0",
      "model_name": "LayoutModel",
      "state": {}
     },
     "fb66bd8f46de4889bf1081e7db2a9837": {
      "model_module": "@jupyter-widgets/controls",
      "model_module_version": "1.5.0",
      "model_name": "DescriptionStyleModel",
      "state": {
       "description_width": "initial"
      }
     },
     "fbd30649b1184904994ed581a5eee20f": {
      "model_module": "@jupyter-widgets/base",
      "model_module_version": "1.2.0",
      "model_name": "LayoutModel",
      "state": {}
     },
     "fbfb8ba9b20242b894bd759bc9697e0a": {
      "model_module": "@jupyter-widgets/controls",
      "model_module_version": "1.5.0",
      "model_name": "CheckboxModel",
      "state": {
       "description": "Auto limitar eixo y",
       "disabled": false,
       "layout": "IPY_MODEL_5035e07735da4175a3e963af55072f55",
       "style": "IPY_MODEL_7cf2ca7ae15f47f681d3ad72e932442e",
       "value": true
      }
     },
     "fc40f4856cf148059c095e0cced3c64b": {
      "model_module": "@jupyter-widgets/base",
      "model_module_version": "1.2.0",
      "model_name": "LayoutModel",
      "state": {}
     },
     "fc958f27cd004286b477895983e42d9b": {
      "model_module": "@jupyter-widgets/controls",
      "model_module_version": "1.5.0",
      "model_name": "IntRangeSliderModel",
      "state": {
       "_model_name": "IntRangeSliderModel",
       "_view_name": "IntRangeSliderView",
       "continuous_update": false,
       "description": "Plotar estados:",
       "layout": "IPY_MODEL_fd05a5284de34c708d27d9381129e32c",
       "max": 20,
       "style": "IPY_MODEL_af285c25c00a4692b19d09148ee282fc",
       "value": [
        0,
        6
       ]
      }
     },
     "fd05a5284de34c708d27d9381129e32c": {
      "model_module": "@jupyter-widgets/base",
      "model_module_version": "1.2.0",
      "model_name": "LayoutModel",
      "state": {
       "display": "flex",
       "width": "90%"
      }
     },
     "fd76bca77c0045409d1dbe81d51e2219": {
      "model_module": "@jupyter-widgets/base",
      "model_module_version": "1.2.0",
      "model_name": "LayoutModel",
      "state": {}
     },
     "fdaec6271cfd47db97c99348108f0230": {
      "model_module": "@jupyter-widgets/controls",
      "model_module_version": "1.5.0",
      "model_name": "DescriptionStyleModel",
      "state": {
       "description_width": ""
      }
     },
     "fdfabe00af034582a24d314cc282e80d": {
      "model_module": "@jupyter-widgets/base",
      "model_module_version": "1.2.0",
      "model_name": "LayoutModel",
      "state": {}
     },
     "fe3d7d75aafd479b86d3201f2e33e0e5": {
      "model_module": "@jupyter-widgets/controls",
      "model_module_version": "1.5.0",
      "model_name": "LabelModel",
      "state": {
       "layout": "IPY_MODEL_b9a10932992d4468a8ebe0753f5a3dd6",
       "style": "IPY_MODEL_a029e0fc46d7454ea4a01237b8a04296",
       "value": "[0.00000 , 0.00000]"
      }
     },
     "fee0b943b21a4beda2f978f37077af9e": {
      "model_module": "@jupyter-widgets/controls",
      "model_module_version": "1.5.0",
      "model_name": "SliderStyleModel",
      "state": {
       "description_width": "initial"
      }
     },
     "ff1b4c5e505149ca9de9bea319d0d173": {
      "model_module": "@jupyter-widgets/controls",
      "model_module_version": "1.5.0",
      "model_name": "LabelModel",
      "state": {
       "layout": "IPY_MODEL_63dc3928bfc04529898c4a675c7c3c34",
       "style": "IPY_MODEL_382d2be51a0744fea75da3008224614d",
       "value": "Passo $\\Delta x $ (angstroms) ="
      }
     },
     "ff5556ba2fcf43bfa3d7ce64cc72eb17": {
      "model_module": "@jupyter-widgets/output",
      "model_module_version": "1.0.0",
      "model_name": "OutputModel",
      "state": {
       "layout": "IPY_MODEL_b43c5f40d8d94c60935633c6a05cb706",
       "outputs": [
        {
         "data": {
          "image/png": "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\n",
          "text/plain": "<Figure size 720x720 with 1 Axes>"
         },
         "metadata": {
          "needs_background": "light"
         },
         "output_type": "display_data"
        }
       ]
      }
     },
     "ffb337593c264c77a0098ca1f1ac353d": {
      "model_module": "@jupyter-widgets/controls",
      "model_module_version": "1.5.0",
      "model_name": "IntSliderModel",
      "state": {
       "description": "Pixels por polegada:",
       "layout": "IPY_MODEL_315fe54d9fa04976a04d9ef9ef0a80a6",
       "max": 300,
       "min": 10,
       "style": "IPY_MODEL_f4aa6510a6aa4e898f004c04ba151536",
       "value": 80
      }
     }
    },
    "version_major": 2,
    "version_minor": 0
   }
  }
 },
 "nbformat": 4,
 "nbformat_minor": 5
}
