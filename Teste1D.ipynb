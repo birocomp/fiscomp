{
 "cells": [
  {
   "cell_type": "markdown",
   "id": "83e7512f",
   "metadata": {},
   "source": [
    "# Como usar\n",
    "\n",
    "## 1. Na aba 'Gerar o Sistema':escolha os parâmetros e clique em 'Gerar/Resolver' para gerar a equação matricial e resolvê-la.\n",
    "\n",
    "## 2. Na aba 'Funções de Onda' escolha os parâmetros do plot e clique em 'Plotar'.\n",
    "\n",
    "***"
   ]
  },
  {
   "cell_type": "code",
   "execution_count": 1,
   "id": "2b172b49",
   "metadata": {},
   "outputs": [
    {
     "data": {
      "application/vnd.jupyter.widget-view+json": {
       "model_id": "af476c6c3d9f451a9a649f0eb6b119e6",
       "version_major": 2,
       "version_minor": 0
      },
      "text/plain": [
       "Tab(children=(interactive(children=(FloatRangeSlider(value=(-50.0, 50.0), continuous_update=False, description…"
      ]
     },
     "metadata": {},
     "output_type": "display_data"
    }
   ],
   "source": [
    "import numpy as np\n",
    "import scipy.sparse as sparse\n",
    "import matplotlib.pyplot as plt\n",
    "from numba import jit\n",
    "import ipywidgets as wid\n",
    "from ipywidgets import interactive\n",
    "\n",
    "RY=13.6056980659 #x*RY: Rydberg -> ev\n",
    "ang=1.88973 #X/ang: raio de bohr -> angstroms\n",
    "\n",
    "def diag(xx,N):\n",
    "    global x,psi,prob,eig,V,L\n",
    "    def vetores(xx,N):\n",
    "        xmin,xmax=xx\n",
    "        x,dx=np.linspace(xmin*ang,xmax*ang, N, retstep=True) #Define o vetor posição (raio de bohr)\n",
    "        return x,dx,xmin,xmax\n",
    "    \n",
    "    @jit\n",
    "    def diagH(H,V):\n",
    "        H=H+V\n",
    "        eig, psi=np.linalg.eigh(H) #Resolve o sistema e atribui-se: eig=autovalores, psi=autovetores\n",
    "        prob=np.abs(psi)**2 #Atribui a densidade de probabilidade |Psi|² a variável psi, por conveniência\n",
    "        return H,V,psi,prob,eig\n",
    "    \n",
    "    x,dx,xmin,xmax=vetores(xx,N)\n",
    "    a=- 1/(dx**2) #Define 'a' por conveniência\n",
    "    N=x.size #Armazena o tamanho do vetor posição e o comprimento do espaço que ele representa\n",
    "    V=sparse.diags([0],[0],shape=(N,N)).toarray() #Cria uma matriz NxN com o potencial V(x)\n",
    "    H=sparse.diags([a,-2*a,a],[-1,0,1],shape=(N,N)).toarray() #Cria a matriz Hamiltoniano\n",
    "    H,V,psi,prob,eig=diagH(H,V)\n",
    "    \n",
    "    eig=eig*RY #Ryd->eV\n",
    "    x=x/ang #RBohr->angstroms\n",
    "    L=x.max()-x.min()\n",
    "    \n",
    "    print('\\n #########Propriedades espaciais do sistema resolvido (angstroms)######### ')\n",
    "    print(f\"\\n Largura do domínio =  {L:.2f}\")\n",
    "    print(f\"\\n dx =  {dx:.2f}\")\n",
    "    print(\"\\n #########################################################################\")\n",
    "    print(\"\\n Siga para a aba 'Funções de onda' para plotar o resultado.\")\n",
    "\n",
    "def plotall(NES,limx,wav):\n",
    "    global V\n",
    "    V=np.diag(V,k=0)\n",
    "    fig, ax=plt.subplots(figsize=(16,9))\n",
    "    nmin,nmax=NES\n",
    "    ax.set_xlim([x.min()-limx, x.max()+ limx])\n",
    "    ax.set_xlabel('$x (\\AA$)')\n",
    "    ax.set_ylabel('Auto energias (eV)')\n",
    "    \n",
    "    if wav==1:\n",
    "        for i in range(nmax,nmin-1,-1):\n",
    "            fig=plt.plot(x,prob[:,i]+eig[i], \n",
    "                         label=f'$E_{i}={eig[i]:2f}$ eV')\n",
    "    elif wav==2:\n",
    "        for i in range(nmax,nmin-1,-1):\n",
    "            fig=plt.plot(x,np.real(psi[:,i])+eig[i], \n",
    "                         label=f'$E_{i}={eig[i]:2f}$ eV')\n",
    "    elif wav==3:\n",
    "        for i in range(nmax,nmin-1,-1):\n",
    "            fig=plt.plot(x,np.imag(psi[:,i])+eig[i], \n",
    "                         label=f'$E_{i}={eig[i]:2f}$ eV')\n",
    "            \n",
    "    fig=plt.axvline(x=x.min(),color='k',ls='--')\n",
    "    fig=plt.axvline(x=x.max(),color='k',ls='--')\n",
    "    #fig=plt.plot(x,V,'k',label='V($x$)')\n",
    "    leg=plt.legend(loc='upper right')\n",
    "    plt.show()\n",
    "\n",
    "lslider=wid.Layout(width='90%', display='flex');\n",
    "sty = {'description_width': 'initial'};\n",
    "\n",
    "MAIN=interactive(diag, {'manual': True}, \n",
    "                    xx=wid.FloatRangeSlider(\n",
    "                        value=[-50.0, 50.0],\n",
    "                        min=-150.0,\n",
    "                        max=150.0,\n",
    "                        step=1,\n",
    "                        continuous_update=False,\n",
    "                        orientation='horizontal',\n",
    "                        readout_format='1d',\n",
    "                        layout=lslider,\n",
    "                        description=('$x_{min}-x_{max}$'),\n",
    "                        style=sty), \n",
    "                    N=wid.IntSlider(value=500,\n",
    "                        min=200,\n",
    "                        max=2000,\n",
    "                        step=10,\n",
    "                        continuous_update=False, \n",
    "                        layout=lslider,\n",
    "                        description=('Número de pontos/Ordem da Matriz: '),\n",
    "                        style=sty));\n",
    "\n",
    "\n",
    "PLOT=interactive(plotall, {'manual': True}, \n",
    "                    NES=wid.IntRangeSlider(\n",
    "                        value=[0, 3],\n",
    "                        min=0,\n",
    "                        max=10,\n",
    "                        step=1,\n",
    "                        description='Plotar N. Estados:',\n",
    "                        continuous_update=False,\n",
    "                        orientation='horizontal',\n",
    "                        readout_format='.1d',\n",
    "                        layout=lslider,\n",
    "                        style=sty),\n",
    "                    limx=wid.IntSlider(\n",
    "                        value=20,\n",
    "                        min=0,\n",
    "                        max=80,\n",
    "                        step=1,\n",
    "                        description='Margens em $x$:   ',\n",
    "                        continuous_update=False,\n",
    "                        layout=lslider,\n",
    "                        style=sty),\n",
    "                    wav=wid.Dropdown(\n",
    "                        options=[('densidades de probabilidades',1),\n",
    "                                 ('funções de onda (parte real)',2),\n",
    "                                 ('funções de onda (parte imaginária)',3)],\n",
    "                        value=1,\n",
    "                        description='Plotar as'),\n",
    "                        continuous_update=False);\n",
    "\n",
    "MAIN.children[2].description=('Gerar/Resolver');\n",
    "PLOT.children[3].description=('Plotar');\n",
    "\n",
    "tab=wid.Tab(children=[MAIN,PLOT]);\n",
    "tab.set_title(0, 'Gerar o Sistema');\n",
    "tab.set_title(1, 'Funções de Onda');\n",
    "\n",
    "display(tab)\n"
   ]
  },
  {
   "cell_type": "code",
   "execution_count": null,
   "id": "7053032b",
   "metadata": {},
   "outputs": [],
   "source": []
  }
 ],
 "metadata": {
  "hide_input": false,
  "kernelspec": {
   "display_name": "Python 3",
   "language": "python",
   "name": "python3"
  },
  "language_info": {
   "codemirror_mode": {
    "name": "ipython",
    "version": 3
   },
   "file_extension": ".py",
   "mimetype": "text/x-python",
   "name": "python",
   "nbconvert_exporter": "python",
   "pygments_lexer": "ipython3",
   "version": "3.9.5"
  },
  "toc": {
   "base_numbering": 1,
   "nav_menu": {},
   "number_sections": true,
   "sideBar": true,
   "skip_h1_title": false,
   "title_cell": "Table of Contents",
   "title_sidebar": "Contents",
   "toc_cell": false,
   "toc_position": {},
   "toc_section_display": true,
   "toc_window_display": false
  },
  "widgets": {
   "application/vnd.jupyter.widget-state+json": {
    "state": {
     "01002f85642f438ea1cc8286c4be4a92": {
      "model_module": "@jupyter-widgets/controls",
      "model_module_version": "1.5.0",
      "model_name": "SliderStyleModel",
      "state": {
       "description_width": "initial"
      }
     },
     "0a76da88f9a447cd9a28b636991d831c": {
      "model_module": "@jupyter-widgets/base",
      "model_module_version": "1.2.0",
      "model_name": "LayoutModel",
      "state": {}
     },
     "132887a397104ddfab68417d78e7dc7c": {
      "model_module": "@jupyter-widgets/controls",
      "model_module_version": "1.5.0",
      "model_name": "SliderStyleModel",
      "state": {
       "description_width": "initial"
      }
     },
     "196aec78abce471c91750b0b1dc183bb": {
      "model_module": "@jupyter-widgets/controls",
      "model_module_version": "1.5.0",
      "model_name": "ButtonModel",
      "state": {
       "description": "Plotar",
       "layout": "IPY_MODEL_e536a81e3305462b90f25c05671195e5",
       "style": "IPY_MODEL_21c6cb64fe424687a5bbfbd23eb7fd76"
      }
     },
     "21c6cb64fe424687a5bbfbd23eb7fd76": {
      "model_module": "@jupyter-widgets/controls",
      "model_module_version": "1.5.0",
      "model_name": "ButtonStyleModel",
      "state": {}
     },
     "2c085098a2e84098a60cb16540339a91": {
      "model_module": "@jupyter-widgets/output",
      "model_module_version": "1.0.0",
      "model_name": "OutputModel",
      "state": {
       "layout": "IPY_MODEL_3135a7dbd34047b7866e894fd9096d88"
      }
     },
     "3135a7dbd34047b7866e894fd9096d88": {
      "model_module": "@jupyter-widgets/base",
      "model_module_version": "1.2.0",
      "model_name": "LayoutModel",
      "state": {}
     },
     "3351c68f5dc8483bb989ab31b67e651d": {
      "model_module": "@jupyter-widgets/controls",
      "model_module_version": "1.5.0",
      "model_name": "VBoxModel",
      "state": {
       "_dom_classes": [
        "widget-interact"
       ],
       "children": [
        "IPY_MODEL_9a38627ee3144623a4d8f5d5927ee7f5",
        "IPY_MODEL_e5ae424b6a3b4b69b243e57e75caf2e6",
        "IPY_MODEL_8e9cc85145244246b089593794181454",
        "IPY_MODEL_196aec78abce471c91750b0b1dc183bb",
        "IPY_MODEL_2c085098a2e84098a60cb16540339a91"
       ],
       "layout": "IPY_MODEL_49fd4fe3215a4bf99265d8098018681a"
      }
     },
     "39071909dcae4a098e5c2089564ee633": {
      "model_module": "@jupyter-widgets/controls",
      "model_module_version": "1.5.0",
      "model_name": "IntSliderModel",
      "state": {
       "continuous_update": false,
       "description": "Número de pontos/Ordem da Matriz: ",
       "layout": "IPY_MODEL_f9571cda34b54b66b7ae5ef0bb8184b6",
       "max": 2000,
       "min": 200,
       "step": 10,
       "style": "IPY_MODEL_f9967d0444d045c698f41ce682957b27",
       "value": 500
      }
     },
     "40136359ac4647f89f26b9f4bd65ec56": {
      "model_module": "@jupyter-widgets/output",
      "model_module_version": "1.0.0",
      "model_name": "OutputModel",
      "state": {
       "layout": "IPY_MODEL_c93dad59a2ba42daac125de56cc43ed3"
      }
     },
     "4852b9683c6c460ab078f74dc618167f": {
      "model_module": "@jupyter-widgets/controls",
      "model_module_version": "1.5.0",
      "model_name": "ButtonStyleModel",
      "state": {}
     },
     "49fd4fe3215a4bf99265d8098018681a": {
      "model_module": "@jupyter-widgets/base",
      "model_module_version": "1.2.0",
      "model_name": "LayoutModel",
      "state": {}
     },
     "706f8b268e9f44268e5f480368f19d9b": {
      "model_module": "@jupyter-widgets/controls",
      "model_module_version": "1.5.0",
      "model_name": "ButtonModel",
      "state": {
       "description": "Gerar/Resolver",
       "layout": "IPY_MODEL_9faa181e77ec4da18db6328eb582438c",
       "style": "IPY_MODEL_4852b9683c6c460ab078f74dc618167f"
      }
     },
     "717e712e0a2341449eb24ae35da39796": {
      "model_module": "@jupyter-widgets/controls",
      "model_module_version": "1.5.0",
      "model_name": "FloatRangeSliderModel",
      "state": {
       "_model_name": "FloatRangeSliderModel",
       "_view_name": "FloatRangeSliderView",
       "continuous_update": false,
       "description": "$x_{min}-x_{max}$",
       "layout": "IPY_MODEL_f9571cda34b54b66b7ae5ef0bb8184b6",
       "max": 150,
       "min": -150,
       "readout_format": "1d",
       "style": "IPY_MODEL_e91530e5b911425294792ff102adec57",
       "value": [
        -50,
        50
       ]
      }
     },
     "7a4e71986c08486694b17ada404e71fd": {
      "model_module": "@jupyter-widgets/controls",
      "model_module_version": "1.5.0",
      "model_name": "DescriptionStyleModel",
      "state": {
       "description_width": ""
      }
     },
     "8e9cc85145244246b089593794181454": {
      "model_module": "@jupyter-widgets/controls",
      "model_module_version": "1.5.0",
      "model_name": "DropdownModel",
      "state": {
       "_options_labels": [
        "densidades de probabilidades",
        "funções de onda (parte real)",
        "funções de onda (parte imaginária)"
       ],
       "description": "Plotar as",
       "index": 0,
       "layout": "IPY_MODEL_9d47728d578b49a9b42d1513500c38b8",
       "style": "IPY_MODEL_7a4e71986c08486694b17ada404e71fd"
      }
     },
     "9a38627ee3144623a4d8f5d5927ee7f5": {
      "model_module": "@jupyter-widgets/controls",
      "model_module_version": "1.5.0",
      "model_name": "IntRangeSliderModel",
      "state": {
       "_model_name": "IntRangeSliderModel",
       "_view_name": "IntRangeSliderView",
       "continuous_update": false,
       "description": "Plotar N. Estados:",
       "layout": "IPY_MODEL_f9571cda34b54b66b7ae5ef0bb8184b6",
       "max": 10,
       "readout_format": ".1d",
       "style": "IPY_MODEL_01002f85642f438ea1cc8286c4be4a92",
       "value": [
        0,
        3
       ]
      }
     },
     "9d47728d578b49a9b42d1513500c38b8": {
      "model_module": "@jupyter-widgets/base",
      "model_module_version": "1.2.0",
      "model_name": "LayoutModel",
      "state": {}
     },
     "9faa181e77ec4da18db6328eb582438c": {
      "model_module": "@jupyter-widgets/base",
      "model_module_version": "1.2.0",
      "model_name": "LayoutModel",
      "state": {}
     },
     "a90489d8fe9e4ea7b0c08aa1d7035581": {
      "model_module": "@jupyter-widgets/controls",
      "model_module_version": "1.5.0",
      "model_name": "VBoxModel",
      "state": {
       "_dom_classes": [
        "widget-interact"
       ],
       "children": [
        "IPY_MODEL_717e712e0a2341449eb24ae35da39796",
        "IPY_MODEL_39071909dcae4a098e5c2089564ee633",
        "IPY_MODEL_706f8b268e9f44268e5f480368f19d9b",
        "IPY_MODEL_40136359ac4647f89f26b9f4bd65ec56"
       ],
       "layout": "IPY_MODEL_0a76da88f9a447cd9a28b636991d831c"
      }
     },
     "af476c6c3d9f451a9a649f0eb6b119e6": {
      "model_module": "@jupyter-widgets/controls",
      "model_module_version": "1.5.0",
      "model_name": "TabModel",
      "state": {
       "_titles": {
        "0": "Gerar o Sistema",
        "1": "Funções de Onda"
       },
       "children": [
        "IPY_MODEL_a90489d8fe9e4ea7b0c08aa1d7035581",
        "IPY_MODEL_3351c68f5dc8483bb989ab31b67e651d"
       ],
       "layout": "IPY_MODEL_d72cc008d2e34c15a256db659d69dfea"
      }
     },
     "c93dad59a2ba42daac125de56cc43ed3": {
      "model_module": "@jupyter-widgets/base",
      "model_module_version": "1.2.0",
      "model_name": "LayoutModel",
      "state": {}
     },
     "d72cc008d2e34c15a256db659d69dfea": {
      "model_module": "@jupyter-widgets/base",
      "model_module_version": "1.2.0",
      "model_name": "LayoutModel",
      "state": {}
     },
     "e536a81e3305462b90f25c05671195e5": {
      "model_module": "@jupyter-widgets/base",
      "model_module_version": "1.2.0",
      "model_name": "LayoutModel",
      "state": {}
     },
     "e5ae424b6a3b4b69b243e57e75caf2e6": {
      "model_module": "@jupyter-widgets/controls",
      "model_module_version": "1.5.0",
      "model_name": "IntSliderModel",
      "state": {
       "continuous_update": false,
       "description": "Margens em $x$:   ",
       "layout": "IPY_MODEL_f9571cda34b54b66b7ae5ef0bb8184b6",
       "max": 80,
       "style": "IPY_MODEL_132887a397104ddfab68417d78e7dc7c",
       "value": 20
      }
     },
     "e91530e5b911425294792ff102adec57": {
      "model_module": "@jupyter-widgets/controls",
      "model_module_version": "1.5.0",
      "model_name": "SliderStyleModel",
      "state": {
       "description_width": "initial"
      }
     },
     "f9571cda34b54b66b7ae5ef0bb8184b6": {
      "model_module": "@jupyter-widgets/base",
      "model_module_version": "1.2.0",
      "model_name": "LayoutModel",
      "state": {
       "display": "flex",
       "width": "90%"
      }
     },
     "f9967d0444d045c698f41ce682957b27": {
      "model_module": "@jupyter-widgets/controls",
      "model_module_version": "1.5.0",
      "model_name": "SliderStyleModel",
      "state": {
       "description_width": "initial"
      }
     }
    },
    "version_major": 2,
    "version_minor": 0
   }
  }
 },
 "nbformat": 4,
 "nbformat_minor": 5
}
