{
 "cells": [
  {
   "cell_type": "markdown",
   "id": "4081ff1f-1d23-4bc7-a822-8a227cc31130",
   "metadata": {},
   "source": [
    "# Como usar\n",
    "\n",
    "Esse aplicativo web é divido em 3 partes:\n",
    "1. **Gerar o seu sistema:** Isso pode ser feito após entrar as informações do domínio da função de onda $\\Psi(x)$, o número de pontos utilizados para representá-la, a forma da **energia potencial $V(x)$** e clicar em `Gerar`.\n",
    "    * Existem energias potenciais $V(x)$ pré definidas dentro do menu `Potenciais pré definidos`. Se escolher uma opção pré definida, o domínio e o número de pontos serão selecionados automaticamente e, em seguida, o botão 'Gerar' será clicado.\n",
    "    * A expressão para $V(x)$ está em eletron-volts, e $x$ estará em unidades Raio de Bohr (veja sobre as unidades de Rydberg abaixo).\n",
    "    * Caso você deseje utilizar $x$ em Angstroms, divida-o sempre por `ang`. Por exemplo:\n",
    "        * **$V(x)=((x/ang) - 10)^2$ resultará em um potencial harmônico em eletron-volts, centrado em $x=10$ Angstroms.**\n",
    "        * **$V(x)=(x - 10)^2$ resultará em um potencial harmônico em eletron-volts, centrado em $x=10$ Raio de Bohr.**\n",
    "\n",
    "\n",
    "2. **Diagonalizar a matriz do sistema:** Após o sistema ser gerado, o menu `Diagonalizar/Informações` exibirá uma tabela com algumas informações sobre o sistema gerado. Se estiver tudo como você quer, clique em `Diagonalizar` para resolver a matriz correspondente ao sistema, gerando as auto funções e os auto valores.\n",
    "\n",
    "3. **Plotar o resultado:** Após exibida a mensagem `Diagonalizado!` no botão `Diagonalizar`, siga para a aba `Funções de onda`, onde você poderá clicar em 'Plotar' para plotar os gráficos correspondentes das soluções do sistema escolhido.\n",
    "\n",
    "***"
   ]
  },
  {
   "cell_type": "code",
   "execution_count": 3,
   "id": "dcdb271d",
   "metadata": {
    "tags": []
   },
   "outputs": [
    {
     "data": {
      "application/vnd.jupyter.widget-view+json": {
       "model_id": "98d7455712dd4eac879a2982f3041ba7",
       "version_major": 2,
       "version_minor": 0
      },
      "text/plain": [
       "Tab(children=(VBox(children=(Accordion(children=(GridBox(children=(Button(description='Poço Infinito', style=B…"
      ]
     },
     "metadata": {},
     "output_type": "display_data"
    }
   ],
   "source": [
    "import numpy as np\n",
    "import scipy.sparse as sparse\n",
    "import matplotlib.pyplot as plt\n",
    "from numba import jit\n",
    "import ipywidgets as wid\n",
    "from ipywidgets import interactive,fixed, interactive_output\n",
    "\n",
    "RY=13.60566 #x*RY: Rydberg -> ev\n",
    "ang=1.88972 #X/ang: raio de bohr -> angstroms\n",
    "pot_exemplos=['(2e-4)*((x)**2)','0',\n",
    "             '(1e-5)*(x**2)+(1e-7)*(x**4)',\n",
    "             '(10)*( (49.2 / (x/ang+84) )**12 - (49.2 / (x/ang+84) )**6)',\n",
    "             '3.5*(np.exp(-2*(0.1*(x/ang) + 2.75)) - 2*np.exp(-(0.1*(x/ang) + 2.75)))',\n",
    "             '-4*(np.cosh(0.1*x/ang)**(-2))',\n",
    "             '0.05*abs(x/ang)-1.5',\n",
    "             '(1e-5)*(x**2)-(2e-7)*(x**4)',\n",
    "             '0.05*x/ang',\n",
    "             '-0.05*x/ang']\n",
    "def diagg(boo):\n",
    "    global x,psi,prob,eig,V,L,N\n",
    "    DIAG.description='Diagonalizando...'\n",
    "    \n",
    "    @jit\n",
    "    def diagH(H,V):\n",
    "        H=H+V\n",
    "        eig, psi=np.linalg.eigh(H) #Resolve o sistema e atribui-se: eig=autovalores, psi=autovetores\n",
    "        prob=np.abs(psi)**2 #Atribui a densidade de probabilidade |Psi|² a variável prob\n",
    "        return H,V,psi,prob,eig\n",
    "    \n",
    "    N=x.size #Armazena o tamanho do vetor posição e o comprimento do espaço que ele representa\n",
    "    a=- 1/(dx**2) #Define 'a' por conveniência\n",
    "    H=sparse.diags([a,-2*a,a],[-1,0,1],shape=(N,N),dtype=np.complex128).toarray() #Cria a matriz Hamiltoniano\n",
    "    H,V,psi,prob,eig=diagH(H,V)\n",
    "    \n",
    "    V=np.diag(V)\n",
    "    PLOT.children[8].disabled=False\n",
    "    PLOT.children[8].description=('Plotar')\n",
    "    PLOT.children[8].click()\n",
    "    DIAG.disabled=True\n",
    "    DIAG.description='Diagonalizado!'\n",
    "    tab.selected_index=1\n",
    "    \n",
    "def syst(xx,N,potV):   \n",
    "    global x,dx,V,Vlim\n",
    "    def vetores(xx,N):\n",
    "        xmin,xmax=xx\n",
    "        x,dx=np.linspace(xmin*ang,xmax*ang, N, \n",
    "                         retstep=True,dtype=np.float64) #Define o vetor posição (raio de bohr)\n",
    "        return x,dx,xmin,xmax\n",
    "    \n",
    "    def pot(N,pot):\n",
    "        V=np.ones(shape=(N))\n",
    "        V=V*eval(pot)/RY\n",
    "        V=np.diag(V)\n",
    "        return V\n",
    "    \n",
    "    x, dx, xmin, xmax=vetores(xx,N)\n",
    "    V=pot(N,potV)\n",
    "    \n",
    "    xmin, xmax= x.min()/ang, x.max()/ang\n",
    "    L=xmax-xmin\n",
    "    Vlim=[V.min()*RY, V.max()*RY]\n",
    "    info.children[1].value=f\"{dx/ang: .2f}\"\n",
    "    info.children[3].value=f\"{L: .2f}\"\n",
    "    info.children[5].value=f\"[{Vlim[0]:.5f} , {Vlim[1]:.5f}]\"\n",
    "    info.children[7].value=SYST.children[2].value\n",
    "    info.children[9].value=f\"{SYST.children[1].value: 1d}\"\n",
    "    \n",
    "    fig1, ax1= plt.subplots(figsize=(12,8))\n",
    "    ax1.set_xlabel('$x (\\AA)$')\n",
    "    ax1.set_ylabel('Potencial (eV)')  \n",
    "    \n",
    "    plt.plot(x/ang,np.diag(V)*RY,'r-',label='$V(x)$')    \n",
    "    plt.axhline(Vlim[0], xmin, xmax,color='r',ls='--',label='limites de $V(x)$')\n",
    "    plt.axhline(Vlim[1], xmin, xmax,color='r',ls='--')\n",
    "    plt.axvline(x=x.min()/ang,color='k',ls='--',label='limites de $x$')\n",
    "    plt.axvline(x=x.max()/ang,color='k',ls='--',)\n",
    "    plt.setp(ax1, xticks=[xmin, xmax], yticks=Vlim)\n",
    "    leg=plt.legend(loc='upper right')\n",
    "    \n",
    "    DIAG.disabled=False\n",
    "    DIAG.description='Diagonalizar'\n",
    "    PLOT.children[8].disabled=True\n",
    "    PLOT.children[8].description=('Diagonalize...')\n",
    "    INFO.selected_index=0\n",
    "    return V,x,dx,xmin,xmax\n",
    "    \n",
    "def plotall(NES,limx,wav,xs,ys,dpi,limy,autolim):\n",
    "    fig, ax = plt.subplots(figsize=(xs,ys), dpi=dpi)\n",
    "    nmin,nmax = NES\n",
    "    En=eig*RY\n",
    "    #elim=(En.min(), En.max())###########\n",
    "    ax.set_xlim([x.min()/ang-limx, x.max()/ang +limx])\n",
    "    ax.set_xlabel('$x (\\AA)$')\n",
    "    ax.set_ylabel('Auto energias (eV)')\n",
    "    plt.title(f\"$\\Delta x$ = {dx/ang:.2f}, Ordem da matriz = {N} x {N}\")\n",
    "    probb=norm(prob,nmin,nmax,En,1)\n",
    "    if wav==1:\n",
    "        for i in range(nmax,nmin-1,-1):\n",
    "            fig=plt.plot(x/ang,probb[:,i]+En[i], \n",
    "                         label=f'$E_{{{i}}}={En[i]:.5f}$ eV')\n",
    "    elif wav==2:\n",
    "        for i in range(nmax,nmin-1,-1):\n",
    "            fig=plt.plot(x/ang,np.real(psi[:,i])+En[i], \n",
    "                         label=f'$E_{{{i}}}={En[i]:.5f}$ eV')\n",
    "    elif wav==3:\n",
    "        for i in range(nmax,nmin-1,-1):\n",
    "            fig=plt.plot(x/ang,np.imag(psi[:,i])+En[i], \n",
    "                         label=f'$E_{{{i}}}={En[i]:.5f}$ eV')\n",
    "    if autolim==False:\n",
    "        ax.set_ylim(limy)\n",
    "        \n",
    "    fig=plt.axvline(x=x.min()/ang,color='k',ls='--')\n",
    "    fig=plt.axvline(x=x.max()/ang,color='k',ls='--')\n",
    "    fig=plt.plot(x/ang,V*RY,'k',label='V($x$)')\n",
    "    leg=plt.legend(loc='upper right')\n",
    "    \n",
    "    plt.show()\n",
    "\n",
    "@jit\n",
    "def norm(prob,nmin,nmax,En,wav):\n",
    "    mmax=np.zeros(nmax+2)\n",
    "    if wav==1:\n",
    "        for i in range(0,nmax+2):\n",
    "            mmax[i]=(En[i+1]-En[i])*0.9\n",
    "        for i in range(0,nmax+2):\n",
    "            prob[:,i]=prob[:,i]*np.abs(mmax[i]/prob[:,i].max())\n",
    "    else:\n",
    "        for i in range(1,nmax+2):\n",
    "            mmax[i]=(prob[:,i+1].min()-prob[:,i-1].max() \\\n",
    "                    /(prob[:,i].max()-prob[:,i].min()))\n",
    "        for i in range(1,nmax+2):\n",
    "            prob[:,i-1]=prob[:,i-1]*np.abs(mmax[i]*0.9)\n",
    "    return prob\n",
    "\n",
    "def potlist(bo):\n",
    "    b=bo.description\n",
    "    if b=='Oscilador Harmônico':\n",
    "        SYST.children[2].value=pot_exemplos[0]\n",
    "    elif b=='Poço Infinito':\n",
    "        SYST.children[2].value=pot_exemplos[1]\n",
    "    elif b=='Duffing Holmes (+)':\n",
    "        SYST.children[2].value=pot_exemplos[2]\n",
    "    elif b=='Lennard Jones':\n",
    "        SYST.children[2].value=pot_exemplos[3]\n",
    "    elif b=='Morse':\n",
    "        SYST.children[2].value=pot_exemplos[4]\n",
    "    elif b=='Pöschl–Teller':\n",
    "        SYST.children[2].value=pot_exemplos[5]\n",
    "    elif b=='Poço Triangular':\n",
    "        SYST.children[2].value=pot_exemplos[6]\n",
    "    elif b=='Duffing Holmes (-)':\n",
    "        SYST.children[2].value=pot_exemplos[7]\n",
    "    elif b=='Campo Uniforme (-)':\n",
    "        SYST.children[2].value=pot_exemplos[8]\n",
    "    elif b=='Campo Uniforme (+)':\n",
    "        SYST.children[2].value=pot_exemplos[9]\n",
    "    SYST.children[0].value=[-35,35]\n",
    "    SYST.children[3].click()\n",
    "    \n",
    "################################STYLES/LAYOUT###############################\n",
    "lslider=wid.Layout(width='90%', display='flex')\n",
    "sty = {'description_width': 'initial'}\n",
    "\n",
    "\n",
    "################################INTERACTIVES################################\n",
    "SYST=interactive(syst, {'manual': True}, \n",
    "                    xx=wid.FloatRangeSlider(\n",
    "                        value=[-35.0, 35.0],\n",
    "                        min=-150.0,\n",
    "                        max=150.0,\n",
    "                        step=1,\n",
    "                        continuous_update=False,\n",
    "                        orientation='horizontal',\n",
    "                        readout_format='1d',\n",
    "                        layout=lslider,\n",
    "                        description=('Domínio de $\\Psi(x)$: '),\n",
    "                        style=sty),\n",
    "                    N=wid.IntSlider(value=550,\n",
    "                        min=50,\n",
    "                        max=1050,\n",
    "                        step=10,\n",
    "                        continuous_update=False, \n",
    "                        layout=lslider,\n",
    "                        description=('Número de pontos: '),\n",
    "                        style=sty),\n",
    "                    potV=wid.Text(description='Expressão de $V(x)$: ',\n",
    "                        value=\"0\",\n",
    "                        placeholder='Escreva a expressão aqui.',\n",
    "                        style=sty,\n",
    "                        layout=lslider))\n",
    "\n",
    "PLOT=interactive(plotall, {'manual': True},\n",
    "                    NES=wid.IntRangeSlider(\n",
    "                        value=[0, 10],\n",
    "                        min=0,\n",
    "                        max=20,\n",
    "                        step=1,\n",
    "                        description='Plotar estados:',\n",
    "                        continuous_update=False,\n",
    "                        orientation='horizontal',\n",
    "                        layout=lslider,\n",
    "                        style=sty),\n",
    "                    limx=wid.IntSlider(\n",
    "                        value=20,\n",
    "                        min=0,\n",
    "                        max=100,\n",
    "                        step=1,\n",
    "                        description='Margens horizontais  (angstroms):   ',\n",
    "                        continuous_update=False,\n",
    "                        layout=lslider,\n",
    "                        style=sty),\n",
    "                    wav=wid.Dropdown(\n",
    "                        options=[('densidades de probabilidades',1),\n",
    "                                 ('funções de onda (parte real, +)',2),\n",
    "                                 ('funções de onda (parte imaginária)',3)],\n",
    "                        value=1,\n",
    "                        description='Plotar as',\n",
    "                        style=sty),\n",
    "                    xs=wid.IntSlider(value=16,\n",
    "                        min=0,\n",
    "                        max=20,\n",
    "                        step=1,\n",
    "                        description='Largura da imagem (polegadas):',\n",
    "                        style=sty,\n",
    "                        layout=lslider),\n",
    "                    ys=wid.IntSlider(value=9,\n",
    "                        min=0,\n",
    "                        max=20,\n",
    "                        step=1,\n",
    "                        description='Altura da imagem (polegadas): ',\n",
    "                        style=sty,\n",
    "                        layout=lslider),\n",
    "                    dpi=wid.IntSlider(value=80,\n",
    "                        min=10,\n",
    "                        max=300,\n",
    "                        step=1,\n",
    "                        description='Pixels por polegada:',\n",
    "                        style=sty,layout=lslider),\n",
    "                    limy=wid.FloatRangeSlider(value=[0.,5.],\n",
    "                        min=-25.,\n",
    "                        max=25.,\n",
    "                        step=0.05,\n",
    "                        description='Limites do eixo y (angstroms):',\n",
    "                        orientation='horizontal',\n",
    "                        readout_format='.1f',\n",
    "                        layout=lslider,\n",
    "                        style=sty),\n",
    "                    autolim=wid.Checkbox(\n",
    "                        value=True,\n",
    "                        description='Auto limitar eixo y',\n",
    "                        style=sty))\n",
    "\n",
    "################################GRIDS################################\n",
    "items = [wid.Label('Passo $\\Delta x $ (angstroms) ='), wid.Label('dx'), \n",
    "        wid.Label('Largura do domínio (angstroms) ='), wid.Label('L'),\n",
    "        wid.Label('V(x)[min,max] (eV) ='), wid.Label('[V_min,V_max]'),\n",
    "        wid.Label('Expressão V(x) ='), wid.Label(''),\n",
    "        wid.Label('Número de pontos ='), wid.Label('')]\n",
    "info=wid.GridBox(items, layout=wid.Layout(grid_template_columns=\"repeat(2, 250px)\"))\n",
    "\n",
    "################################BOTOES################################\n",
    "DIAG=wid.Button(description='Diagonalizar',disabled=True)\n",
    "OHS=wid.Button(description='Oscilador Harmônico')\n",
    "POCO=wid.Button(description='Poço Infinito')\n",
    "DUFHOLMES=wid.Button(description='Duffing Holmes (+)', style=sty)\n",
    "MDUFHOLMES=wid.Button(description='Duffing Holmes (-)', style=sty)\n",
    "LENJON=wid.Button(description='Lennard Jones', style=sty)\n",
    "MORSE=wid.Button(description='Morse', style=sty)\n",
    "POSTEL=wid.Button(description='Pöschl–Teller', style=sty)\n",
    "TRIANG=wid.Button(description='Poço Triangular', style=sty)\n",
    "CAMPMENOS=wid.Button(description='Campo Uniforme (-)', style=sty)\n",
    "CAMPMAIS=wid.Button(description='Campo Uniforme (+)', style=sty)\n",
    "\n",
    "################################ON_EVENTS###############################\n",
    "DIAG.on_click(diagg)\n",
    "OHS.on_click(potlist)\n",
    "POCO.on_click(potlist)\n",
    "DUFHOLMES.on_click(potlist)\n",
    "MDUFHOLMES.on_click(potlist)\n",
    "LENJON.on_click(potlist)\n",
    "MORSE.on_click(potlist)\n",
    "POSTEL.on_click(potlist)\n",
    "TRIANG.on_click(potlist)\n",
    "CAMPMAIS.on_click(potlist)\n",
    "CAMPMENOS.on_click(potlist)\n",
    "\n",
    "\n",
    "################################BOXES###############################\n",
    "POTSBUT=wid.GridBox([POCO,TRIANG,CAMPMAIS,CAMPMENOS,OHS,DUFHOLMES,\n",
    "                MDUFHOLMES,LENJON,MORSE,POSTEL],\n",
    "    layout=wid.Layout(grid_template_columns=\"repeat(auto-fill, 180px)\"))\n",
    "POTLIST=wid.Accordion([POTSBUT])\n",
    "INFODIAG=wid.VBox([info,DIAG])\n",
    "INFO=wid.Accordion([INFODIAG])\n",
    "POTLIST.set_title(0,'Potenciais pré definidos')\n",
    "INFO.set_title(0,'Diagonalizar/Informações')\n",
    "SYSTBOX=wid.VBox([POTLIST,SYST,INFO])\n",
    "\n",
    "################################UI################################\n",
    "SYST.children[3].description=('Gerar')\n",
    "PLOT.children[8].description=('Plotar')\n",
    "PLOT.children[8].disabled=True\n",
    "INFO.selected_index=None\n",
    "################################TABS################################\n",
    "tab=wid.Tab(children=[SYSTBOX,PLOT])\n",
    "tab.set_title(0, 'Gerar o Sistema')\n",
    "tab.set_title(1, 'Funções de Onda')\n",
    "display(tab)"
   ]
  },
  {
   "cell_type": "markdown",
   "id": "b2e792b6-1657-44c5-8baf-1760a8c0b568",
   "metadata": {},
   "source": [
    "***\n",
    "# Unidades atômicas de Rydberg\n",
    "Tabela de conversão de unidades entre o sistema de Rydberg e o MKSA, que é a base constante do SI. Cheque a fonte original mais abaixo para um tabela mais completa em inglês.\n",
    "\n",
    "Fonte da tabela: [(Departamento de Física, Universidade Rei Fahd de Petróleos e Minerais)](https://faculty.kfupm.edu.sa/phys/aanaqvi/rydberg.pdf)\n",
    "\n",
    "|Dimensão |  Sistema de Unidades Rydberg | MKSA (base do SI) | Outras equivalências|\n",
    "| :- |  :-: | :-: | :-:|\n",
    "|Comprimento | $$1=a_0$$ | $$5.2917725 \\times 10^{-11} $$ | $$\\approx 0.5291772 \\text{ Å}$$|\n",
    "|Massa| $$1=2m_e$$ | $$1.8218779\\times 10^{-30} \\text{ kg} $$| - |\n",
    "|Tempo |$$1$$| $$1 4.8377687 \\times 10^{-17} \\text{ s}$$ | $$=1/20 \\text{ fs}$$ |\n",
    "|Frequência | $$1$$ | $$ 2.0670687 \\times 10^{16} \\text{ Hz}$$ | - |\n",
    "|Velocidade| $$1$$ | $$1.0938457 \\times 10^{6} \\text{ m/s}$$| -|\n",
    "|Momento| $$1$$ | $$1.9928534 \\times 10^{-24} \\text{ kg.m/s}$$| - |\n",
    "|Energia| $$1=E_{Ryd}=e^2/(2a_0)$$ | $$2.1798741 \\times 10 ^{-18} \\text{ J}$$| $$3.605698 \\text{ eV}$$|\n",
    "|Carga | $$1=e/\\sqrt{2}$$ | $$1.1329105\\times 10^{-19} \\text{ C}$$| - |\n",
    "|Campo Elétrico |$$1$$| $$1 3.6360903 \\times 10^{11} \\text{ V/m}$$|-|\n",
    "|Potencial | $$1$$ | $$19.241363 \\text{ V}$$|-|\n",
    "\n",
    "|Constantes Úteis | Símbolo |Sistema de Unidades Rydberg | MKSA (base do SI) |\n",
    "|:-|:-:|:-:|:-|\n",
    "|Constante de Planck reduzida | $$\\hbar$$| $$1$$| $$1.05457266\\times 10 ^{-34} \\text{ J.s}$$|\n",
    "|$h= 2\\pi\\hbar$| $$h$$ | $$2\\pi$$ | $$6.6260755\\times 10^{-34} \\text{ J.s}$$|\n",
    "|Carga do elétron | $$e$$ | $$\\sqrt{2}$$| $$1.60217733\\times 10 ^{-19} \\text{ C}$$|\n",
    "|Raio de Bohr|$$a_0$$| $$1=\\hbar^2/(me^2)$$| $$5.29177249\\times 10^{-11} \\text{ m}$$|\n",
    "|Energia de Hartree| $$E_h$$|$$2=e^2/(a_0)$$ | $$4.3597482\\times 10^{-18} \\text{ J}$$|\n",
    "|Constante de estrutura fina| $$\\alpha$$| $$e^2/(\\hbar c)=1/137.0359895 $$| - |\n",
    "|Velocidade da luz | $$c$$ | $$2/\\alpha \\approx 274$$ | $$2.99792458\\times 10^{8} \\text{ m/s}$$|\n",
    "|Permeabilidade do vácuo| $$\\mu_0$$ | $$\\pi\\alpha^2\\approx 1.7 \\times 10^{-4}$$| $$4\\pi \\times 10^{-7} \\text{ H/m}$$|\n",
    "|Permissividade do vácuo| $$\\epsilon_0$$| $$1/(4\\pi)\\approx 0.08$$| $$8.854187817\\times 10^{-12} \\text{ F/m}$$|\n",
    "|Massa do elétron| $$m_e$$| $$1/2$$ |$$9.1093897 \\times 10^{-31} \\text{ kg}$$|\n",
    "|Massa do próton| $$m_p$$ | $$918.07638$$ | $$1.6726231\\times 10^{-27} kg$$|"
   ]
  },
  {
   "cell_type": "markdown",
   "id": "99896775-43e8-4631-933f-1e5bf589bf42",
   "metadata": {
    "tags": []
   },
   "source": [
    "# Modelo Matemático\n",
    "<details><summary>Clique aqui para mostrar</summary>\n",
    "Escrevemos a equação fazendo $\\hbar^2 /(2m)=1$, já que utilizaremos o sistema de unidades atômicas de Rydberg:\n",
    "$$-\\frac{\\partial^2 \\Psi}{\\partial x^2}+V(x)=E\\Psi$$\n",
    "\n",
    "Discretizamos as derivadas parciais utilizando o método de diferenças finitas, fazendo a primeira derivada pela direita e a segunda pela esquerda para diminuir o erro:\n",
    "\n",
    "$$\\frac{\\partial \\Psi}{\\partial x} \\approx \\frac{\\Psi(x+\\Delta x)-\\Psi(x)}{\\Delta x}$$\n",
    "\n",
    "$$\\frac{\\partial \\Psi}{\\partial x} \\approx \\frac{\\Psi(x)-\\Psi(x-\\Delta x)}{\\Delta x}$$\n",
    "\n",
    "Utilizando a notação com índices inteiros $[\\Psi(x-\\Delta x), \\Psi(x), \\Psi(x+\\Delta x)]\\rightarrow [\\Psi_{i-1},\\Psi_i, \\Psi_{i+1}]$  e aplicando as derivadas acima, a equação original fica:\n",
    "\n",
    "$$\\frac{-\\left(\\Psi_{i-1}-2\\Psi_{i}+\\Psi_{i+1}\\right)}{\\Delta x^2}+V_i \\Psi_i=E\\Psi_i$$\n",
    "\n",
    "Definindo $a={-1}/{\\Delta x ^2}$:\n",
    "$$a\\left(\\Psi_{i-1}-2\\Psi_{i}+\\Psi_{i+1}\\right)+V_i \\Psi_i=E\\Psi_i$$\n",
    " \n",
    "Suponha um vetor $\\Psi$ contendo todos os valores discretos de uma função de onda unidimensional representada por $N$ pontos com uma indexação de que vai $i=1$ até $i=N$, ou seja:\n",
    "\n",
    "$$\\Psi=\\begin{bmatrix}\\Psi_{1}\\\\\\Psi_{2}\\\\\\Psi_3\\\\\\vdots \\\\ \\Psi_{N}\\end{bmatrix}$$\n",
    "\n",
    "Rearrajando as equações de uma forma conveniente, ficamos com o seguinte sistema:\n",
    " \n",
    "$$\\begin{matrix}\n",
    "a\\Psi_{0}&+& (V_1-2a)\\Psi_{1}&+& a\\Psi_{2}  &= & E\\Psi_1 \\\\ \n",
    "a \\Psi_{1}&+&(V_2-2a)\\Psi_{2}&+&a\\Psi_{3}& = & E\\Psi_2 \\\\ \n",
    "a \\Psi_{2}&+&(V_3-2a)\\Psi_{3}&+&a\\Psi_{4}& = & E\\Psi_3 \\\\ \n",
    "\\vdots & +& \\vdots&+& \\vdots & = &\\vdots\\\\ \n",
    "a\\Psi_{N-1}&+&(V_{N}-2a)\\Psi_{N}&+&a\\Psi_{N+1}& = & E\\Psi_{N}\n",
    "\\end{matrix}$$\n",
    "\n",
    "Note que na primeira e última equações do sistema acima, do lado esquerdo da igualdade, temos os termos $\\Psi_0$ e $\\Psi_{N+1}$, que não correspondem a nenhuma componente do nosso vetor da função de onda discreta $\\Psi$. Nós iremos utilizá-los para definir as condições de contorno (o valor da função de onda nas bordas do sistema).\n",
    "\n",
    ">## Condições de contorno\n",
    ">### Fronteiras Fixas (poço infinito)\n",
    ">Nessa condição forçamos a função de onda a ser 0 nas bordas, ou seja\n",
    ">$$\\Psi_0=\\Psi_{N+1}=0$$\n",
    ">### Condição de contorno periódica\n",
    ">Nessa condição forçamos a função de onda no último ponto a ser igual ao valor do primeiro ponto no grid. \n",
    ">$$\\Psi_0=\\Psi_{N+1}=\\Psi_{1}=\\Psi_{N}$$\n",
    "## Equação matricial\n",
    "\n",
    "Aplicando a condição de contorno do poço infinito, temos:\n",
    "$$\\begin{matrix}\n",
    "0&+& \\color{blue}{(V_1-2a)}\\Psi_{1}&+& \\color{blue}a \\Psi_{2}  &= & E\\Psi_1 \\\\ \n",
    "\\color{red}a \\Psi_{1}&+&\\color{red}{(V_2-2a)}\\Psi_{2}&+&\\color{red}a\\Psi_{3}& = & E\\Psi_2 \\\\ \n",
    "\\color{orange}a \\Psi_{2}&+&\\color{orange}{(V_3-2a)}\\Psi_{3}&+&\\color{orange}a \\Psi_{4}& = & E\\Psi_3 \\\\ \n",
    "\\vdots & +& \\vdots&+& \\vdots & = &\\vdots\\\\ \n",
    "\\color{purple}a\\Psi_{N-2}&+&\\color{purple}{(V_{N-1}-2a)} \\Psi_{N-1}& +&\\color{purple}a \\Psi_{N}&= & E\\Psi_{N-1}\\\\\n",
    "\\color{green}a\\Psi_{N-1}&+&\\color{green}{(V_{N}-2a)} \\Psi_{N}&+&0& = & E\\Psi_{N}\n",
    "\\end{matrix}$$\n",
    "\n",
    "Esse sistema pode ser reescrito como uma matriz do tipo:\n",
    "$$\\begin{bmatrix}  \\color{blue}{(V_1-2a)} & \\color{blue}a & 0  & 0 & 0 & 0\\\\\n",
    "\\color{red}a & \\color{red}{(V_2-2a)} & \\color{red}a  & 0 & 0 &0 \\\\\n",
    "0&\\color{orange}a & \\color{orange}{(V_3-2a)} &  \\color{orange}a  & 0  &0  \\\\\n",
    " 0 & 0 & \\ddots & \\ddots & \\ddots & 0 \\\\\n",
    "0& 0 & 0  & \\color{purple}a & \\color{purple}{(V_{N-1}-2a)}& \\color{purple}a\\\\\n",
    "0& 0 & 0 & 0 & \\color{green}a & \\color{green}{(V_{N}-2a)} \n",
    "\\end{bmatrix} \n",
    "\\begin{bmatrix}\\Psi_{1}\\\\\\Psi_2\\\\\\Psi_3\\\\\\vdots \\\\\\Psi_{N-1}\\\\ \\Psi_{N}\\end{bmatrix}=E\\begin{bmatrix}\\Psi_{1}\\\\\\Psi_2\\\\\\Psi_3\\\\\\vdots \\\\ \\Psi_{N-1}\\\\\\Psi_{N}\\end{bmatrix}$$\n",
    "\n",
    "Isso é equivalente a um problema de autovetores e autovalores, onde a matriz quadrada de ordem $N$ acima é o operador Hamiltoniano $\\hat{H}$:\n",
    "\n",
    "$$\\hat{H}\\Psi=E\\Psi$$\n",
    "\n",
    "Podemos diagonalizá-lo para obter os autovalores e seus respectivos autovetores. Os autovetores serão vetores $\\Psi_n$ com $N$ componentes representando as respectivas funções de ondas dos estados $n$, e os autovalores $E$ serão as energias correspondentes aos respectivos estados. \n",
    "</details>\n"
   ]
  },
  {
   "cell_type": "code",
   "execution_count": null,
   "id": "62fa85dc-8497-4f59-ab12-f52ee80202a3",
   "metadata": {},
   "outputs": [],
   "source": []
  }
 ],
 "metadata": {
  "hide_input": false,
  "kernelspec": {
   "display_name": "Python 3",
   "language": "python",
   "name": "python3"
  },
  "language_info": {
   "codemirror_mode": {
    "name": "ipython",
    "version": 3
   },
   "file_extension": ".py",
   "mimetype": "text/x-python",
   "name": "python",
   "nbconvert_exporter": "python",
   "pygments_lexer": "ipython3",
   "version": "3.9.5"
  },
  "toc": {
   "base_numbering": 1,
   "nav_menu": {},
   "number_sections": true,
   "sideBar": true,
   "skip_h1_title": false,
   "title_cell": "Table of Contents",
   "title_sidebar": "Contents",
   "toc_cell": false,
   "toc_position": {},
   "toc_section_display": true,
   "toc_window_display": false
  },
  "widgets": {
   "application/vnd.jupyter.widget-state+json": {
    "state": {
     "01a9a3781d0142f1a07b65dc3165c3fe": {
      "model_module": "@jupyter-widgets/controls",
      "model_module_version": "1.5.0",
      "model_name": "ButtonStyleModel",
      "state": {}
     },
     "02aa2d1edb3745128ee8231ac04ec373": {
      "model_module": "@jupyter-widgets/controls",
      "model_module_version": "1.5.0",
      "model_name": "IntSliderModel",
      "state": {
       "continuous_update": false,
       "description": "Número de pontos: ",
       "layout": "IPY_MODEL_50fa53754c7f4d958d57f6541f5fac1b",
       "max": 1050,
       "min": 50,
       "step": 10,
       "style": "IPY_MODEL_5d4483a8e6bf4f58b044f24d4f0e588a",
       "value": 550
      }
     },
     "02e8791aafc64eaeb133400b7e0b2c12": {
      "model_module": "@jupyter-widgets/base",
      "model_module_version": "1.2.0",
      "model_name": "LayoutModel",
      "state": {}
     },
     "0421df43a94a4a47b0bb2c4f5e84cc4f": {
      "model_module": "@jupyter-widgets/base",
      "model_module_version": "1.2.0",
      "model_name": "LayoutModel",
      "state": {}
     },
     "04f66eb3f33c435fb25dc21e90e185ef": {
      "model_module": "@jupyter-widgets/controls",
      "model_module_version": "1.5.0",
      "model_name": "DescriptionStyleModel",
      "state": {
       "description_width": ""
      }
     },
     "05d3219c3da54f008e85e46c013ae9bf": {
      "model_module": "@jupyter-widgets/controls",
      "model_module_version": "1.5.0",
      "model_name": "DescriptionStyleModel",
      "state": {
       "description_width": "initial"
      }
     },
     "07c144c3951e4dc1b655f86e91925d05": {
      "model_module": "@jupyter-widgets/controls",
      "model_module_version": "1.5.0",
      "model_name": "ButtonModel",
      "state": {
       "description": "Lennard Jones",
       "layout": "IPY_MODEL_37e16a0a277f41378f93cd1765a47d01",
       "style": "IPY_MODEL_95472099adab42f59b4576998ad35577"
      }
     },
     "0807ee3910f04c4aa9fad9440ab6b227": {
      "model_module": "@jupyter-widgets/controls",
      "model_module_version": "1.5.0",
      "model_name": "ButtonStyleModel",
      "state": {}
     },
     "0844ed942d004990837038eefd2be5b3": {
      "model_module": "@jupyter-widgets/controls",
      "model_module_version": "1.5.0",
      "model_name": "ButtonModel",
      "state": {
       "description": "Oscilador Harmônico",
       "layout": "IPY_MODEL_8f85fff320794bb08bae4b7c38beadee",
       "style": "IPY_MODEL_2b39f974d4404cdba3062b69c86c7b14"
      }
     },
     "0995f6a5930440cdb4c14b595fa445eb": {
      "model_module": "@jupyter-widgets/base",
      "model_module_version": "1.2.0",
      "model_name": "LayoutModel",
      "state": {}
     },
     "09e65671bd064de1a87bb2d11e906ea5": {
      "model_module": "@jupyter-widgets/controls",
      "model_module_version": "1.5.0",
      "model_name": "ButtonModel",
      "state": {
       "description": "Diagonalizado!",
       "disabled": true,
       "layout": "IPY_MODEL_53d45ab0f606434bb73a1acafff100fa",
       "style": "IPY_MODEL_11921a22c51044fdbdbb3f2c09937307"
      }
     },
     "0a01df226e314a958e1985ca8710eee5": {
      "model_module": "@jupyter-widgets/controls",
      "model_module_version": "1.5.0",
      "model_name": "AccordionModel",
      "state": {
       "_titles": {
        "0": "Diagonalizar/Informações"
       },
       "children": [
        "IPY_MODEL_6d1d400765f0446791bca6a15a8405f4"
       ],
       "layout": "IPY_MODEL_b5dca09dd9ea4c57a1a294dab9915e99"
      }
     },
     "0b3376ce995d4a53a9d8a1486a78807c": {
      "model_module": "@jupyter-widgets/base",
      "model_module_version": "1.2.0",
      "model_name": "LayoutModel",
      "state": {}
     },
     "0bb15325db984e1292c3c7255e29ba4d": {
      "model_module": "@jupyter-widgets/base",
      "model_module_version": "1.2.0",
      "model_name": "LayoutModel",
      "state": {}
     },
     "0d3f319df1d14fb4bf1377327379fe67": {
      "model_module": "@jupyter-widgets/controls",
      "model_module_version": "1.5.0",
      "model_name": "LabelModel",
      "state": {
       "layout": "IPY_MODEL_5c62a6a5aebc4a6c9b5ed94c389eac2e",
       "style": "IPY_MODEL_a211d5ade127437a80984bdea05f16ed",
       "value": "Largura do domínio (angstroms) ="
      }
     },
     "0db6551a27764b66a04180af252feb9b": {
      "model_module": "@jupyter-widgets/controls",
      "model_module_version": "1.5.0",
      "model_name": "ButtonModel",
      "state": {
       "description": "Gerar",
       "layout": "IPY_MODEL_92b74d60850141edbf5b365027e13814",
       "style": "IPY_MODEL_99030cac50e948d6b0549bc03cd28827"
      }
     },
     "0df8f33e61eb404ba9d28e6faf29b9eb": {
      "model_module": "@jupyter-widgets/controls",
      "model_module_version": "1.5.0",
      "model_name": "ButtonStyleModel",
      "state": {}
     },
     "0ed09b4cf40947928ea3c9b010893d9c": {
      "model_module": "@jupyter-widgets/controls",
      "model_module_version": "1.5.0",
      "model_name": "LabelModel",
      "state": {
       "layout": "IPY_MODEL_d03d468ec0cc435099df56a1eddfd09e",
       "style": "IPY_MODEL_d53fc7f16cac4d6fb7d54b7312413a86",
       "value": "Expressão V(x) ="
      }
     },
     "0f874efa471d446db8d8f3273631126f": {
      "model_module": "@jupyter-widgets/controls",
      "model_module_version": "1.5.0",
      "model_name": "VBoxModel",
      "state": {
       "children": [
        "IPY_MODEL_275d878fcb5a44e696940e346ff9d17d",
        "IPY_MODEL_74cba6ccc9e44e638e60281c81f97292",
        "IPY_MODEL_0a01df226e314a958e1985ca8710eee5"
       ],
       "layout": "IPY_MODEL_74e90eaa2d8b454ab58a38211d85acc6"
      }
     },
     "0fa9a3ce72e84af1a531618959e97555": {
      "model_module": "@jupyter-widgets/controls",
      "model_module_version": "1.5.0",
      "model_name": "SliderStyleModel",
      "state": {
       "description_width": "initial"
      }
     },
     "10872907f13d46da9d3f2492f9b10d8f": {
      "model_module": "@jupyter-widgets/base",
      "model_module_version": "1.2.0",
      "model_name": "LayoutModel",
      "state": {}
     },
     "11921a22c51044fdbdbb3f2c09937307": {
      "model_module": "@jupyter-widgets/controls",
      "model_module_version": "1.5.0",
      "model_name": "ButtonStyleModel",
      "state": {}
     },
     "12ebbe531bbe44b48a68c846d45f7778": {
      "model_module": "@jupyter-widgets/controls",
      "model_module_version": "1.5.0",
      "model_name": "FloatRangeSliderModel",
      "state": {
       "_model_name": "FloatRangeSliderModel",
       "_view_name": "FloatRangeSliderView",
       "description": "Limites do eixo y (angstroms):",
       "layout": "IPY_MODEL_5e001233358d4bf7a3fc2911f4c6a8d3",
       "max": 25,
       "min": -25,
       "readout_format": ".1f",
       "step": 0.05,
       "style": "IPY_MODEL_3c205bc618be4b65ac51e7819aa995e8",
       "value": [
        0,
        5
       ]
      }
     },
     "13ad35a30801495e8540547e384f54e1": {
      "model_module": "@jupyter-widgets/controls",
      "model_module_version": "1.5.0",
      "model_name": "DescriptionStyleModel",
      "state": {
       "description_width": ""
      }
     },
     "1480316cdb69421fa952e6f01838adfb": {
      "model_module": "@jupyter-widgets/controls",
      "model_module_version": "1.5.0",
      "model_name": "ButtonStyleModel",
      "state": {}
     },
     "156cc28434ad4aebaea8b08abee8d8b9": {
      "model_module": "@jupyter-widgets/controls",
      "model_module_version": "1.5.0",
      "model_name": "SliderStyleModel",
      "state": {
       "description_width": "initial"
      }
     },
     "188b4411b6c6447bb29f3608fbe2e799": {
      "model_module": "@jupyter-widgets/controls",
      "model_module_version": "1.5.0",
      "model_name": "TabModel",
      "state": {
       "_titles": {
        "0": "Gerar o Sistema",
        "1": "Funções de Onda"
       },
       "children": [
        "IPY_MODEL_84a71b2411fb47148b593d08dfa8a770",
        "IPY_MODEL_67c84c7e67fa47cdbeb0f78bc808c28e"
       ],
       "layout": "IPY_MODEL_352a1a59a03344769584e0cd5d7ff5c4",
       "selected_index": 1
      }
     },
     "18cf373151a64e5da44624cf0ad7d301": {
      "model_module": "@jupyter-widgets/base",
      "model_module_version": "1.2.0",
      "model_name": "LayoutModel",
      "state": {}
     },
     "1b7acf7813434aee8739a20d821c3c4d": {
      "model_module": "@jupyter-widgets/base",
      "model_module_version": "1.2.0",
      "model_name": "LayoutModel",
      "state": {}
     },
     "1c889080132f4c7d8860ed0c3c37146e": {
      "model_module": "@jupyter-widgets/base",
      "model_module_version": "1.2.0",
      "model_name": "LayoutModel",
      "state": {}
     },
     "1ec2a3a27cb24211a55ddb8d2f61e562": {
      "model_module": "@jupyter-widgets/controls",
      "model_module_version": "1.5.0",
      "model_name": "GridBoxModel",
      "state": {
       "children": [
        "IPY_MODEL_49d26b74079d4093809ed7a8b0908a83",
        "IPY_MODEL_73f77863b9de41e9a1be9b391ff5f46d",
        "IPY_MODEL_7fdda410c6e54278b7792e1c79a069d3",
        "IPY_MODEL_236e5cb0ca0c4736a26fd3967eb81d37",
        "IPY_MODEL_0844ed942d004990837038eefd2be5b3",
        "IPY_MODEL_3e7ba36da28342b0951599d8d809e2a7",
        "IPY_MODEL_6e2b312eca00403f8893bbf5152e125c",
        "IPY_MODEL_f24361dbb92c4acbae63a24762e6b5a5",
        "IPY_MODEL_d0b47e329f7642d7917cb5df44c6c9e6",
        "IPY_MODEL_af3872cdb62a4cd8a6e637ae9e33dd5d"
       ],
       "layout": "IPY_MODEL_c16bfe860e4d449a9d813cb6cce535a4"
      }
     },
     "1f854b8b9bf849979f2caf57d43564f1": {
      "model_module": "@jupyter-widgets/controls",
      "model_module_version": "1.5.0",
      "model_name": "DescriptionStyleModel",
      "state": {
       "description_width": ""
      }
     },
     "218e4959c78b49149752ed6fb8dc3ead": {
      "model_module": "@jupyter-widgets/base",
      "model_module_version": "1.2.0",
      "model_name": "LayoutModel",
      "state": {}
     },
     "220c8f2d71584505b4e3171e2f0ff398": {
      "model_module": "@jupyter-widgets/base",
      "model_module_version": "1.2.0",
      "model_name": "LayoutModel",
      "state": {}
     },
     "230a8415a61a435382882e982e1b2ccc": {
      "model_module": "@jupyter-widgets/base",
      "model_module_version": "1.2.0",
      "model_name": "LayoutModel",
      "state": {}
     },
     "235e515771564e6cac2333caf85d6a4a": {
      "model_module": "@jupyter-widgets/base",
      "model_module_version": "1.2.0",
      "model_name": "LayoutModel",
      "state": {}
     },
     "236e5cb0ca0c4736a26fd3967eb81d37": {
      "model_module": "@jupyter-widgets/controls",
      "model_module_version": "1.5.0",
      "model_name": "ButtonModel",
      "state": {
       "description": "Campo Uniforme (-)",
       "layout": "IPY_MODEL_dc402b5402de4ec1bea4a20ba797506e",
       "style": "IPY_MODEL_01a9a3781d0142f1a07b65dc3165c3fe"
      }
     },
     "24e68b8416c74c8c86d17d1001326961": {
      "model_module": "@jupyter-widgets/controls",
      "model_module_version": "1.5.0",
      "model_name": "DescriptionStyleModel",
      "state": {
       "description_width": ""
      }
     },
     "2551f9b8831b41b4b7229583613d57c4": {
      "model_module": "@jupyter-widgets/controls",
      "model_module_version": "1.5.0",
      "model_name": "SliderStyleModel",
      "state": {
       "description_width": "initial"
      }
     },
     "2695fa60a1ff4982aa6452ca858ba270": {
      "model_module": "@jupyter-widgets/controls",
      "model_module_version": "1.5.0",
      "model_name": "SliderStyleModel",
      "state": {
       "description_width": "initial"
      }
     },
     "26f39588ec8e4b9896eb6fb6dbdeccae": {
      "model_module": "@jupyter-widgets/controls",
      "model_module_version": "1.5.0",
      "model_name": "ButtonModel",
      "state": {
       "description": "Duffing Holmes (+)",
       "layout": "IPY_MODEL_cb510ae90a534754b5b0cb873735090a",
       "style": "IPY_MODEL_573818982ce644ac9ca6a065b55e038d"
      }
     },
     "275d878fcb5a44e696940e346ff9d17d": {
      "model_module": "@jupyter-widgets/controls",
      "model_module_version": "1.5.0",
      "model_name": "AccordionModel",
      "state": {
       "_titles": {
        "0": "Potenciais pré definidos"
       },
       "children": [
        "IPY_MODEL_1ec2a3a27cb24211a55ddb8d2f61e562"
       ],
       "layout": "IPY_MODEL_62d3b996fff24a1aa53b22103325a2fe"
      }
     },
     "27f989018f734762bc70d36424aadeb1": {
      "model_module": "@jupyter-widgets/controls",
      "model_module_version": "1.5.0",
      "model_name": "DescriptionStyleModel",
      "state": {
       "description_width": "initial"
      }
     },
     "299727116b5944959be2e50f630cffa5": {
      "model_module": "@jupyter-widgets/controls",
      "model_module_version": "1.5.0",
      "model_name": "DescriptionStyleModel",
      "state": {
       "description_width": ""
      }
     },
     "29eb9d82238b4d04b6a036b3e38b6b61": {
      "model_module": "@jupyter-widgets/base",
      "model_module_version": "1.2.0",
      "model_name": "LayoutModel",
      "state": {}
     },
     "2b39f974d4404cdba3062b69c86c7b14": {
      "model_module": "@jupyter-widgets/controls",
      "model_module_version": "1.5.0",
      "model_name": "ButtonStyleModel",
      "state": {}
     },
     "2d4726deb98e43fd929d9448ea4ac320": {
      "model_module": "@jupyter-widgets/controls",
      "model_module_version": "1.5.0",
      "model_name": "ButtonModel",
      "state": {
       "description": "Diagonalizado!",
       "disabled": true,
       "layout": "IPY_MODEL_4b6cd81716e4417c83f84b32ba02c557",
       "style": "IPY_MODEL_5856075eea1c4135aa243fb0e3e4cd96"
      }
     },
     "2dfeaea5249c45a485694ab2f0fa1ce4": {
      "model_module": "@jupyter-widgets/controls",
      "model_module_version": "1.5.0",
      "model_name": "FloatRangeSliderModel",
      "state": {
       "_model_name": "FloatRangeSliderModel",
       "_view_name": "FloatRangeSliderView",
       "continuous_update": false,
       "description": "Domínio de $\\Psi(x)$: ",
       "layout": "IPY_MODEL_50fa53754c7f4d958d57f6541f5fac1b",
       "max": 150,
       "min": -150,
       "readout_format": "1d",
       "style": "IPY_MODEL_2551f9b8831b41b4b7229583613d57c4",
       "value": [
        -35,
        35
       ]
      }
     },
     "2e1fb7e918a94b8585efb9d815b22e36": {
      "model_module": "@jupyter-widgets/output",
      "model_module_version": "1.0.0",
      "model_name": "OutputModel",
      "state": {
       "layout": "IPY_MODEL_f7020cf4822841168ecb4a0d53357409",
       "outputs": [
        {
         "data": {
          "image/png": "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\n",
          "text/plain": "<Figure size 864x576 with 1 Axes>"
         },
         "metadata": {
          "needs_background": "light"
         },
         "output_type": "display_data"
        }
       ]
      }
     },
     "2e84c8a951384c6c83105abebe9df37e": {
      "model_module": "@jupyter-widgets/controls",
      "model_module_version": "1.5.0",
      "model_name": "VBoxModel",
      "state": {
       "children": [
        "IPY_MODEL_5270d2437dbe41dc804a84e649534aa4",
        "IPY_MODEL_eb65add524eb4830a0cede9db7cd87e8",
        "IPY_MODEL_3eb3929f638549d79ce13fe73920711b"
       ],
       "layout": "IPY_MODEL_3830b36833644a36bd9178403d103da8"
      }
     },
     "2eb18f2c3b174e3d9f16c511521c3a3a": {
      "model_module": "@jupyter-widgets/controls",
      "model_module_version": "1.5.0",
      "model_name": "IntSliderModel",
      "state": {
       "continuous_update": false,
       "description": "Margens horizontais  (angstroms):   ",
       "layout": "IPY_MODEL_50fa53754c7f4d958d57f6541f5fac1b",
       "style": "IPY_MODEL_693cf8f0082b453fad1a7e181a4c307d",
       "value": 20
      }
     },
     "2ed11bd3a6a04f07966e1cdf2b2acf62": {
      "model_module": "@jupyter-widgets/controls",
      "model_module_version": "1.5.0",
      "model_name": "IntSliderModel",
      "state": {
       "continuous_update": false,
       "description": "Número de pontos: ",
       "layout": "IPY_MODEL_5e001233358d4bf7a3fc2911f4c6a8d3",
       "max": 1050,
       "min": 50,
       "step": 10,
       "style": "IPY_MODEL_af02a8ca565e41d1b6e7ecafdb981750",
       "value": 550
      }
     },
     "2f8559f7590549ddaf5297ed9eb8a1e7": {
      "model_module": "@jupyter-widgets/controls",
      "model_module_version": "1.5.0",
      "model_name": "SliderStyleModel",
      "state": {
       "description_width": "initial"
      }
     },
     "2fcfbc91ca8246f089ae59c5bc18cc40": {
      "model_module": "@jupyter-widgets/controls",
      "model_module_version": "1.5.0",
      "model_name": "ButtonModel",
      "state": {
       "description": "Poço Triangular",
       "layout": "IPY_MODEL_75df70c5d1804a7cb14ad05a227b9d31",
       "style": "IPY_MODEL_b6d7ed8cb1334771befcbc78f506078e"
      }
     },
     "30808b510bf34ce4844ce5b36b13ff8d": {
      "model_module": "@jupyter-widgets/controls",
      "model_module_version": "1.5.0",
      "model_name": "ButtonStyleModel",
      "state": {}
     },
     "3141f2f00ada4bdc87afc6d8e7976999": {
      "model_module": "@jupyter-widgets/controls",
      "model_module_version": "1.5.0",
      "model_name": "LabelModel",
      "state": {
       "layout": "IPY_MODEL_3464ef01774449ffbb73b40edd9395fe",
       "style": "IPY_MODEL_ba2ca9cf2ba4442393a4def5ac88912e",
       "value": " 0.13"
      }
     },
     "31725bfb01d24afa80acdd210fe1254c": {
      "model_module": "@jupyter-widgets/controls",
      "model_module_version": "1.5.0",
      "model_name": "ButtonModel",
      "state": {
       "description": "Poço Infinito",
       "layout": "IPY_MODEL_e65814a2e88c44e6b8707fd5dbad6ad4",
       "style": "IPY_MODEL_1480316cdb69421fa952e6f01838adfb"
      }
     },
     "31cd410b9593400f8b7377accdf7207b": {
      "model_module": "@jupyter-widgets/controls",
      "model_module_version": "1.5.0",
      "model_name": "SliderStyleModel",
      "state": {
       "description_width": "initial"
      }
     },
     "31d61879b24e4f4f8fbbea0509db27cc": {
      "model_module": "@jupyter-widgets/controls",
      "model_module_version": "1.5.0",
      "model_name": "SliderStyleModel",
      "state": {
       "description_width": "initial"
      }
     },
     "3219828c12b64952a2b63344203c53c0": {
      "model_module": "@jupyter-widgets/controls",
      "model_module_version": "1.5.0",
      "model_name": "ButtonStyleModel",
      "state": {}
     },
     "32b7d2a7aecb4f5d93557c748f8153eb": {
      "model_module": "@jupyter-widgets/controls",
      "model_module_version": "1.5.0",
      "model_name": "GridBoxModel",
      "state": {
       "children": [
        "IPY_MODEL_ae85c3d593674764beb908c07b3a46fd",
        "IPY_MODEL_a9dc7542569b47aba1a9f9cb06c657b4",
        "IPY_MODEL_57fc3d49daa8461eaf19db5a314244b3",
        "IPY_MODEL_6edf92ffc05d4d019132e2a59875768d",
        "IPY_MODEL_5fc7455005134ab8a8ba7a1a7e8c94c1",
        "IPY_MODEL_daa13c9f871643f5a27f621d8301fafd",
        "IPY_MODEL_0ed09b4cf40947928ea3c9b010893d9c",
        "IPY_MODEL_ccc5f9a66a0445b3bfca842ad498dece",
        "IPY_MODEL_75da689a49db4dd890a417023064d233",
        "IPY_MODEL_e64bce52b75644e99d4482fa35586a06"
       ],
       "layout": "IPY_MODEL_e3af7dbc37134a6bafd0c5b99c5be6f2"
      }
     },
     "33334961003f42dd8d3940cdc9151bc3": {
      "model_module": "@jupyter-widgets/controls",
      "model_module_version": "1.5.0",
      "model_name": "ButtonModel",
      "state": {
       "description": "Duffing Holmes (-)",
       "layout": "IPY_MODEL_4eec89d0acc740169286cc685210b399",
       "style": "IPY_MODEL_b1e3584bda7d46a9941f586becc6fd2d"
      }
     },
     "3464ef01774449ffbb73b40edd9395fe": {
      "model_module": "@jupyter-widgets/base",
      "model_module_version": "1.2.0",
      "model_name": "LayoutModel",
      "state": {}
     },
     "3479ebdff2be4edb97075c75a1b02134": {
      "model_module": "@jupyter-widgets/base",
      "model_module_version": "1.2.0",
      "model_name": "LayoutModel",
      "state": {}
     },
     "352a1a59a03344769584e0cd5d7ff5c4": {
      "model_module": "@jupyter-widgets/base",
      "model_module_version": "1.2.0",
      "model_name": "LayoutModel",
      "state": {}
     },
     "3687e3a6e3544e5391a6ec228ee0a3d8": {
      "model_module": "@jupyter-widgets/base",
      "model_module_version": "1.2.0",
      "model_name": "LayoutModel",
      "state": {}
     },
     "37738261cf684c778edefd8048eba164": {
      "model_module": "@jupyter-widgets/controls",
      "model_module_version": "1.5.0",
      "model_name": "IntSliderModel",
      "state": {
       "description": "Pixels por polegada:",
       "layout": "IPY_MODEL_5e001233358d4bf7a3fc2911f4c6a8d3",
       "max": 300,
       "min": 10,
       "style": "IPY_MODEL_ec0ca6ede85349c9b811854ed6b1bc3f",
       "value": 80
      }
     },
     "37e16a0a277f41378f93cd1765a47d01": {
      "model_module": "@jupyter-widgets/base",
      "model_module_version": "1.2.0",
      "model_name": "LayoutModel",
      "state": {}
     },
     "38157c4bb644452ba26b501930e5579f": {
      "model_module": "@jupyter-widgets/controls",
      "model_module_version": "1.5.0",
      "model_name": "IntSliderModel",
      "state": {
       "description": "Altura da imagem (polegadas): ",
       "layout": "IPY_MODEL_defdc383c0d34935862daf651561b46a",
       "max": 20,
       "style": "IPY_MODEL_3a92765b84664ae4bfbd611e7ad0029a",
       "value": 9
      }
     },
     "3830b36833644a36bd9178403d103da8": {
      "model_module": "@jupyter-widgets/base",
      "model_module_version": "1.2.0",
      "model_name": "LayoutModel",
      "state": {}
     },
     "3a909e335b254d51a704cda363a94a3c": {
      "model_module": "@jupyter-widgets/controls",
      "model_module_version": "1.5.0",
      "model_name": "ButtonStyleModel",
      "state": {}
     },
     "3a92765b84664ae4bfbd611e7ad0029a": {
      "model_module": "@jupyter-widgets/controls",
      "model_module_version": "1.5.0",
      "model_name": "SliderStyleModel",
      "state": {
       "description_width": "initial"
      }
     },
     "3ba65f2ee2bc4222b6005e3800092d2a": {
      "model_module": "@jupyter-widgets/base",
      "model_module_version": "1.2.0",
      "model_name": "LayoutModel",
      "state": {}
     },
     "3c205bc618be4b65ac51e7819aa995e8": {
      "model_module": "@jupyter-widgets/controls",
      "model_module_version": "1.5.0",
      "model_name": "SliderStyleModel",
      "state": {
       "description_width": "initial"
      }
     },
     "3ce21f5135534448ad46b0fc59741b4b": {
      "model_module": "@jupyter-widgets/controls",
      "model_module_version": "1.5.0",
      "model_name": "ButtonStyleModel",
      "state": {}
     },
     "3dab0863d2874bd69cea4e88c6ef8925": {
      "model_module": "@jupyter-widgets/controls",
      "model_module_version": "1.5.0",
      "model_name": "ButtonModel",
      "state": {
       "description": "Campo Uniforme (-)",
       "layout": "IPY_MODEL_f88c18c9d8284133a125f6920003227f",
       "style": "IPY_MODEL_a9927489a80545da94a91c0d5df446e7"
      }
     },
     "3e7071c52d29452dbafd8e1186b10ffe": {
      "model_module": "@jupyter-widgets/controls",
      "model_module_version": "1.5.0",
      "model_name": "DescriptionStyleModel",
      "state": {
       "description_width": ""
      }
     },
     "3e7ba36da28342b0951599d8d809e2a7": {
      "model_module": "@jupyter-widgets/controls",
      "model_module_version": "1.5.0",
      "model_name": "ButtonModel",
      "state": {
       "description": "Duffing Holmes (+)",
       "layout": "IPY_MODEL_89fc512b846f4928bb988b9b5d6bf3d9",
       "style": "IPY_MODEL_7de39c181fed4428a88d5fa563f206b9"
      }
     },
     "3eb3929f638549d79ce13fe73920711b": {
      "model_module": "@jupyter-widgets/controls",
      "model_module_version": "1.5.0",
      "model_name": "AccordionModel",
      "state": {
       "_titles": {
        "0": "Diagonalizar/Informações"
       },
       "children": [
        "IPY_MODEL_f6a5a48a16b94300b6fb64a6be65032e"
       ],
       "layout": "IPY_MODEL_72415100b2ba4af2b1ea7221be1f4fe2"
      }
     },
     "3f949c29c7f84bb99d64d5013d6ac988": {
      "model_module": "@jupyter-widgets/controls",
      "model_module_version": "1.5.0",
      "model_name": "FloatRangeSliderModel",
      "state": {
       "_model_name": "FloatRangeSliderModel",
       "_view_name": "FloatRangeSliderView",
       "description": "Limites do eixo y (angstroms):",
       "layout": "IPY_MODEL_50fa53754c7f4d958d57f6541f5fac1b",
       "max": 25,
       "min": -25,
       "readout_format": ".1f",
       "step": 0.05,
       "style": "IPY_MODEL_60ec602845dc417899949d1d2f88b0a0",
       "value": [
        0,
        5
       ]
      }
     },
     "3faec41034964527b959b0bcd555a62a": {
      "model_module": "@jupyter-widgets/controls",
      "model_module_version": "1.5.0",
      "model_name": "ButtonStyleModel",
      "state": {}
     },
     "419c8408805047819ed583cf73321204": {
      "model_module": "@jupyter-widgets/base",
      "model_module_version": "1.2.0",
      "model_name": "LayoutModel",
      "state": {}
     },
     "42d7caf626e44752910e6289ec772288": {
      "model_module": "@jupyter-widgets/output",
      "model_module_version": "1.0.0",
      "model_name": "OutputModel",
      "state": {
       "layout": "IPY_MODEL_e8c0c7c8941d446b84dcce546cd24060",
       "outputs": [
        {
         "data": {
          "image/png": "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\n",
          "text/plain": "<Figure size 960x720 with 1 Axes>"
         },
         "metadata": {
          "needs_background": "light"
         },
         "output_type": "display_data"
        }
       ]
      }
     },
     "43d34aa4a20c483daaca1202f29400d2": {
      "model_module": "@jupyter-widgets/base",
      "model_module_version": "1.2.0",
      "model_name": "LayoutModel",
      "state": {}
     },
     "4445e8d45b5d45fd9a048a6c1793a786": {
      "model_module": "@jupyter-widgets/controls",
      "model_module_version": "1.5.0",
      "model_name": "ButtonModel",
      "state": {
       "description": "Duffing Holmes (-)",
       "layout": "IPY_MODEL_3ba65f2ee2bc4222b6005e3800092d2a",
       "style": "IPY_MODEL_fadef4ca2bf24bccb4605f953bb3a0d9"
      }
     },
     "4465997660ba43cb860c978ddf964e60": {
      "model_module": "@jupyter-widgets/base",
      "model_module_version": "1.2.0",
      "model_name": "LayoutModel",
      "state": {}
     },
     "4577dfbdff894d03a576090bc9d3f83b": {
      "model_module": "@jupyter-widgets/controls",
      "model_module_version": "1.5.0",
      "model_name": "DescriptionStyleModel",
      "state": {
       "description_width": ""
      }
     },
     "45e461f042d844d28ba9692cceff355e": {
      "model_module": "@jupyter-widgets/controls",
      "model_module_version": "1.5.0",
      "model_name": "DescriptionStyleModel",
      "state": {
       "description_width": ""
      }
     },
     "47962b76d6e947268be834810363d6ce": {
      "model_module": "@jupyter-widgets/controls",
      "model_module_version": "1.5.0",
      "model_name": "IntSliderModel",
      "state": {
       "description": "Largura da imagem (polegadas):",
       "layout": "IPY_MODEL_50fa53754c7f4d958d57f6541f5fac1b",
       "max": 20,
       "style": "IPY_MODEL_6f67fc523dee44ae8db098e46fd8b305",
       "value": 16
      }
     },
     "47aac2aa7f6641149427f30524e9bb22": {
      "model_module": "@jupyter-widgets/base",
      "model_module_version": "1.2.0",
      "model_name": "LayoutModel",
      "state": {}
     },
     "4810cee0725640a7ae94573b1a244b79": {
      "model_module": "@jupyter-widgets/controls",
      "model_module_version": "1.5.0",
      "model_name": "LabelModel",
      "state": {
       "layout": "IPY_MODEL_9113593087124735b5d413a1b004395e",
       "style": "IPY_MODEL_aa0b5cafd0824c0d93dc7cbcca971547",
       "value": "(1e-5)*(x**2)-(2e-7)*(x**4)"
      }
     },
     "48df729186ab47debfd7d407aee5f09d": {
      "model_module": "@jupyter-widgets/base",
      "model_module_version": "1.2.0",
      "model_name": "LayoutModel",
      "state": {}
     },
     "49d26b74079d4093809ed7a8b0908a83": {
      "model_module": "@jupyter-widgets/controls",
      "model_module_version": "1.5.0",
      "model_name": "ButtonModel",
      "state": {
       "description": "Poço Infinito",
       "layout": "IPY_MODEL_0995f6a5930440cdb4c14b595fa445eb",
       "style": "IPY_MODEL_d32f72f8df1b4819996e767c7e9293a7"
      }
     },
     "49f5f93bc18c4c32a5d1e85339aa857b": {
      "model_module": "@jupyter-widgets/controls",
      "model_module_version": "1.5.0",
      "model_name": "DescriptionStyleModel",
      "state": {
       "description_width": ""
      }
     },
     "4b6cd81716e4417c83f84b32ba02c557": {
      "model_module": "@jupyter-widgets/base",
      "model_module_version": "1.2.0",
      "model_name": "LayoutModel",
      "state": {}
     },
     "4bcf1535ceda4398acc3ba4bd5a82a19": {
      "model_module": "@jupyter-widgets/base",
      "model_module_version": "1.2.0",
      "model_name": "LayoutModel",
      "state": {}
     },
     "4cac465219564cbba39a400302aa73f9": {
      "model_module": "@jupyter-widgets/controls",
      "model_module_version": "1.5.0",
      "model_name": "LabelModel",
      "state": {
       "layout": "IPY_MODEL_220c8f2d71584505b4e3171e2f0ff398",
       "style": "IPY_MODEL_875057cafbf645359f5a6a6030c7ce39",
       "value": " 70.00"
      }
     },
     "4eec89d0acc740169286cc685210b399": {
      "model_module": "@jupyter-widgets/base",
      "model_module_version": "1.2.0",
      "model_name": "LayoutModel",
      "state": {}
     },
     "4f86257405c84780812f2e5a2e6cc37d": {
      "model_module": "@jupyter-widgets/controls",
      "model_module_version": "1.5.0",
      "model_name": "SliderStyleModel",
      "state": {
       "description_width": "initial"
      }
     },
     "4fdb34a65fdf4f0094693fa3be658370": {
      "model_module": "@jupyter-widgets/controls",
      "model_module_version": "1.5.0",
      "model_name": "DescriptionStyleModel",
      "state": {
       "description_width": ""
      }
     },
     "5031178a716c4998aaa0c6613977099d": {
      "model_module": "@jupyter-widgets/base",
      "model_module_version": "1.2.0",
      "model_name": "LayoutModel",
      "state": {}
     },
     "50fa53754c7f4d958d57f6541f5fac1b": {
      "model_module": "@jupyter-widgets/base",
      "model_module_version": "1.2.0",
      "model_name": "LayoutModel",
      "state": {
       "display": "flex",
       "width": "90%"
      }
     },
     "52612c3462c34e7b8d274ea81b0d2994": {
      "model_module": "@jupyter-widgets/controls",
      "model_module_version": "1.5.0",
      "model_name": "LabelModel",
      "state": {
       "layout": "IPY_MODEL_fa7690cecddf43878431495b9428c301",
       "style": "IPY_MODEL_fe149d82730b4c2e8a39889166a138eb",
       "value": "Passo $\\Delta x $ (angstroms) ="
      }
     },
     "5270d2437dbe41dc804a84e649534aa4": {
      "model_module": "@jupyter-widgets/controls",
      "model_module_version": "1.5.0",
      "model_name": "AccordionModel",
      "state": {
       "_titles": {
        "0": "Potenciais pré definidos"
       },
       "children": [
        "IPY_MODEL_a4a8117b1c5d455c8afb5aa5233a7b0d"
       ],
       "layout": "IPY_MODEL_87ae6c7360bb4b9f8af68396b244b98f"
      }
     },
     "52738e57dda447b28610f632ad6e8515": {
      "model_module": "@jupyter-widgets/controls",
      "model_module_version": "1.5.0",
      "model_name": "DropdownModel",
      "state": {
       "_options_labels": [
        "densidades de probabilidades",
        "funções de onda (parte real, +)",
        "funções de onda (parte imaginária)"
       ],
       "description": "Plotar as",
       "index": 0,
       "layout": "IPY_MODEL_d353454f30fe4ffc928f8ea2495c9680",
       "style": "IPY_MODEL_05d3219c3da54f008e85e46c013ae9bf"
      }
     },
     "5321199b0beb4cb7951ace86dea7a8ee": {
      "model_module": "@jupyter-widgets/base",
      "model_module_version": "1.2.0",
      "model_name": "LayoutModel",
      "state": {}
     },
     "53d45ab0f606434bb73a1acafff100fa": {
      "model_module": "@jupyter-widgets/base",
      "model_module_version": "1.2.0",
      "model_name": "LayoutModel",
      "state": {}
     },
     "54691dd00a1049a4b1d9ac1d0fcaeb1f": {
      "model_module": "@jupyter-widgets/controls",
      "model_module_version": "1.5.0",
      "model_name": "ButtonModel",
      "state": {
       "description": "Pöschl–Teller",
       "layout": "IPY_MODEL_a271b41bfa9546b49b80a7c04c3b20f3",
       "style": "IPY_MODEL_3a909e335b254d51a704cda363a94a3c"
      }
     },
     "5562d186496743d294f7f5af31d74c54": {
      "model_module": "@jupyter-widgets/controls",
      "model_module_version": "1.5.0",
      "model_name": "ButtonModel",
      "state": {
       "description": "Morse",
       "layout": "IPY_MODEL_7729dc2318244861ac590f006c420f17",
       "style": "IPY_MODEL_3faec41034964527b959b0bcd555a62a"
      }
     },
     "557de5a5a03c4908b734721ec2092fab": {
      "model_module": "@jupyter-widgets/base",
      "model_module_version": "1.2.0",
      "model_name": "LayoutModel",
      "state": {}
     },
     "573818982ce644ac9ca6a065b55e038d": {
      "model_module": "@jupyter-widgets/controls",
      "model_module_version": "1.5.0",
      "model_name": "ButtonStyleModel",
      "state": {}
     },
     "578a308cf64449bb9219097f2288352a": {
      "model_module": "@jupyter-widgets/output",
      "model_module_version": "1.0.0",
      "model_name": "OutputModel",
      "state": {
       "layout": "IPY_MODEL_1b7acf7813434aee8739a20d821c3c4d",
       "outputs": [
        {
         "data": {
          "image/png": "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\n",
          "text/plain": "<Figure size 1280x720 with 1 Axes>"
         },
         "metadata": {
          "needs_background": "light"
         },
         "output_type": "display_data"
        }
       ]
      }
     },
     "57fc3d49daa8461eaf19db5a314244b3": {
      "model_module": "@jupyter-widgets/controls",
      "model_module_version": "1.5.0",
      "model_name": "LabelModel",
      "state": {
       "layout": "IPY_MODEL_9cf86732e39d4563852dbb64415c2d74",
       "style": "IPY_MODEL_a4b7c82418a74a6bbe831969afce2daf",
       "value": "Largura do domínio (angstroms) ="
      }
     },
     "5856075eea1c4135aa243fb0e3e4cd96": {
      "model_module": "@jupyter-widgets/controls",
      "model_module_version": "1.5.0",
      "model_name": "ButtonStyleModel",
      "state": {}
     },
     "585aaec44331429fb6175907e10fefde": {
      "model_module": "@jupyter-widgets/controls",
      "model_module_version": "1.5.0",
      "model_name": "ButtonStyleModel",
      "state": {}
     },
     "5944414910fe4fc5877a1cb4592777a0": {
      "model_module": "@jupyter-widgets/controls",
      "model_module_version": "1.5.0",
      "model_name": "DescriptionStyleModel",
      "state": {
       "description_width": ""
      }
     },
     "5a5d4a8a51464026ae1ead8aa749ce80": {
      "model_module": "@jupyter-widgets/base",
      "model_module_version": "1.2.0",
      "model_name": "LayoutModel",
      "state": {}
     },
     "5c62a6a5aebc4a6c9b5ed94c389eac2e": {
      "model_module": "@jupyter-widgets/base",
      "model_module_version": "1.2.0",
      "model_name": "LayoutModel",
      "state": {}
     },
     "5d4483a8e6bf4f58b044f24d4f0e588a": {
      "model_module": "@jupyter-widgets/controls",
      "model_module_version": "1.5.0",
      "model_name": "SliderStyleModel",
      "state": {
       "description_width": "initial"
      }
     },
     "5dc6c5b3029b4033b9e06a0eaa0f8b0d": {
      "model_module": "@jupyter-widgets/controls",
      "model_module_version": "1.5.0",
      "model_name": "ButtonStyleModel",
      "state": {}
     },
     "5e001233358d4bf7a3fc2911f4c6a8d3": {
      "model_module": "@jupyter-widgets/base",
      "model_module_version": "1.2.0",
      "model_name": "LayoutModel",
      "state": {
       "display": "flex",
       "width": "90%"
      }
     },
     "5e551db2a9d84c9082dc71a022295993": {
      "model_module": "@jupyter-widgets/base",
      "model_module_version": "1.2.0",
      "model_name": "LayoutModel",
      "state": {
       "grid_template_columns": "repeat(auto-fill, 180px)"
      }
     },
     "5ec627d183194a82937b5e1a7bad2ac9": {
      "model_module": "@jupyter-widgets/controls",
      "model_module_version": "1.5.0",
      "model_name": "ButtonModel",
      "state": {
       "description": "Plotar",
       "layout": "IPY_MODEL_0b3376ce995d4a53a9d8a1486a78807c",
       "style": "IPY_MODEL_f78204ac1b1d4517a84be3b8bcbe9ac9"
      }
     },
     "5ef14be38ff040269016910ece9d20e8": {
      "model_module": "@jupyter-widgets/controls",
      "model_module_version": "1.5.0",
      "model_name": "DescriptionStyleModel",
      "state": {
       "description_width": ""
      }
     },
     "5f3306112d07471e9ea533b21ca9e84d": {
      "model_module": "@jupyter-widgets/base",
      "model_module_version": "1.2.0",
      "model_name": "LayoutModel",
      "state": {}
     },
     "5f9000d87f364921a2b61c1b738af9db": {
      "model_module": "@jupyter-widgets/base",
      "model_module_version": "1.2.0",
      "model_name": "LayoutModel",
      "state": {}
     },
     "5fc7455005134ab8a8ba7a1a7e8c94c1": {
      "model_module": "@jupyter-widgets/controls",
      "model_module_version": "1.5.0",
      "model_name": "LabelModel",
      "state": {
       "layout": "IPY_MODEL_854b490183964a33aed3fca058037661",
       "style": "IPY_MODEL_89c4ca9cdb1a4426ab895be87725bcde",
       "value": "V(x)[min,max] (eV) ="
      }
     },
     "60c576e4224347599fc0a1089a14235e": {
      "model_module": "@jupyter-widgets/controls",
      "model_module_version": "1.5.0",
      "model_name": "TabModel",
      "state": {
       "_titles": {
        "0": "Gerar o Sistema",
        "1": "Funções de Onda"
       },
       "children": [
        "IPY_MODEL_0f874efa471d446db8d8f3273631126f",
        "IPY_MODEL_de362d051542480c8b4042f5d3a5c95c"
       ],
       "layout": "IPY_MODEL_3687e3a6e3544e5391a6ec228ee0a3d8",
       "selected_index": 1
      }
     },
     "60ec602845dc417899949d1d2f88b0a0": {
      "model_module": "@jupyter-widgets/controls",
      "model_module_version": "1.5.0",
      "model_name": "SliderStyleModel",
      "state": {
       "description_width": "initial"
      }
     },
     "6123a284d4c54cde9d09db746bc6468a": {
      "model_module": "@jupyter-widgets/controls",
      "model_module_version": "1.5.0",
      "model_name": "ButtonModel",
      "state": {
       "description": "Oscilador Harmônico",
       "layout": "IPY_MODEL_8b2f14f4489c4c54a0438ebd5cb47639",
       "style": "IPY_MODEL_c46c9d8471474bf783e06cccca7ba071"
      }
     },
     "62d3b996fff24a1aa53b22103325a2fe": {
      "model_module": "@jupyter-widgets/base",
      "model_module_version": "1.2.0",
      "model_name": "LayoutModel",
      "state": {}
     },
     "6336a9b8dce5461091f2be86dead4182": {
      "model_module": "@jupyter-widgets/controls",
      "model_module_version": "1.5.0",
      "model_name": "SliderStyleModel",
      "state": {
       "description_width": "initial"
      }
     },
     "6351626f15b34bcb8cd083c3c5dfa16d": {
      "model_module": "@jupyter-widgets/output",
      "model_module_version": "1.0.0",
      "model_name": "OutputModel",
      "state": {
       "layout": "IPY_MODEL_6f55f444ecb14c129c200b32710fc219",
       "outputs": [
        {
         "data": {
          "image/png": "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\n",
          "text/plain": "<Figure size 864x576 with 1 Axes>"
         },
         "metadata": {
          "needs_background": "light"
         },
         "output_type": "display_data"
        }
       ]
      }
     },
     "63af41d5d8494a83acd30941edd71381": {
      "model_module": "@jupyter-widgets/controls",
      "model_module_version": "1.5.0",
      "model_name": "SliderStyleModel",
      "state": {
       "description_width": "initial"
      }
     },
     "655571388be846fa8ed5d7f0f3eb7f82": {
      "model_module": "@jupyter-widgets/controls",
      "model_module_version": "1.5.0",
      "model_name": "AccordionModel",
      "state": {
       "_titles": {
        "0": "Diagonalizar/Informações"
       },
       "children": [
        "IPY_MODEL_743000a36fe44ca391f5335df6e4bfe5"
       ],
       "layout": "IPY_MODEL_0421df43a94a4a47b0bb2c4f5e84cc4f"
      }
     },
     "6560e34105804364909bae7a53a2efc5": {
      "model_module": "@jupyter-widgets/base",
      "model_module_version": "1.2.0",
      "model_name": "LayoutModel",
      "state": {}
     },
     "665eb98960ec4da18152da4ec27ba3eb": {
      "model_module": "@jupyter-widgets/controls",
      "model_module_version": "1.5.0",
      "model_name": "ButtonStyleModel",
      "state": {}
     },
     "67c84c7e67fa47cdbeb0f78bc808c28e": {
      "model_module": "@jupyter-widgets/controls",
      "model_module_version": "1.5.0",
      "model_name": "VBoxModel",
      "state": {
       "_dom_classes": [
        "widget-interact"
       ],
       "children": [
        "IPY_MODEL_a036d15c75604011ae9df7b1e811f290",
        "IPY_MODEL_a981ade65db24237a068f7b8817dc60f",
        "IPY_MODEL_c1b7f259afa344439c33e427e041fceb",
        "IPY_MODEL_76baf257ee1443da9e80ddc317803258",
        "IPY_MODEL_b67fac3ee20b42328054616c7c7f17da",
        "IPY_MODEL_37738261cf684c778edefd8048eba164",
        "IPY_MODEL_12ebbe531bbe44b48a68c846d45f7778",
        "IPY_MODEL_ee80f28ce0e9406280b5989c01545677",
        "IPY_MODEL_cf6b785e1b584aa49e882c6aea416fa3",
        "IPY_MODEL_780751d62b4c4e5b920d65e0e8a58cff"
       ],
       "layout": "IPY_MODEL_5321199b0beb4cb7951ace86dea7a8ee"
      }
     },
     "693cf8f0082b453fad1a7e181a4c307d": {
      "model_module": "@jupyter-widgets/controls",
      "model_module_version": "1.5.0",
      "model_name": "SliderStyleModel",
      "state": {
       "description_width": "initial"
      }
     },
     "6946f5dd6e884c5b832674db1eb07dbe": {
      "model_module": "@jupyter-widgets/controls",
      "model_module_version": "1.5.0",
      "model_name": "DescriptionStyleModel",
      "state": {
       "description_width": "initial"
      }
     },
     "694a2dbf8e204a0f9b7f77bbd2e85604": {
      "model_module": "@jupyter-widgets/base",
      "model_module_version": "1.2.0",
      "model_name": "LayoutModel",
      "state": {}
     },
     "6a75360c3c9b440cbebf6b6ab94743d8": {
      "model_module": "@jupyter-widgets/controls",
      "model_module_version": "1.5.0",
      "model_name": "AccordionModel",
      "state": {
       "_titles": {
        "0": "Potenciais pré definidos"
       },
       "children": [
        "IPY_MODEL_d66024ac05984b76a035f0b9a8b0b4bb"
       ],
       "layout": "IPY_MODEL_1c889080132f4c7d8860ed0c3c37146e"
      }
     },
     "6b63f91586944a89af1118e60717f253": {
      "model_module": "@jupyter-widgets/base",
      "model_module_version": "1.2.0",
      "model_name": "LayoutModel",
      "state": {
       "grid_template_columns": "repeat(2, 250px)"
      }
     },
     "6c01525c527743118c96ec35398751de": {
      "model_module": "@jupyter-widgets/base",
      "model_module_version": "1.2.0",
      "model_name": "LayoutModel",
      "state": {}
     },
     "6c0219613a8a473b8e4a92792cc2b86e": {
      "model_module": "@jupyter-widgets/base",
      "model_module_version": "1.2.0",
      "model_name": "LayoutModel",
      "state": {}
     },
     "6c3873f77d4d4a7e99f90d21a6f3f993": {
      "model_module": "@jupyter-widgets/controls",
      "model_module_version": "1.5.0",
      "model_name": "ButtonStyleModel",
      "state": {}
     },
     "6c9b63e12b134de9beddaa341ebbb697": {
      "model_module": "@jupyter-widgets/controls",
      "model_module_version": "1.5.0",
      "model_name": "ButtonModel",
      "state": {
       "description": "Duffing Holmes (+)",
       "layout": "IPY_MODEL_18cf373151a64e5da44624cf0ad7d301",
       "style": "IPY_MODEL_665eb98960ec4da18152da4ec27ba3eb"
      }
     },
     "6d1d400765f0446791bca6a15a8405f4": {
      "model_module": "@jupyter-widgets/controls",
      "model_module_version": "1.5.0",
      "model_name": "VBoxModel",
      "state": {
       "children": [
        "IPY_MODEL_f4820f28a7a4487a82b30751138518eb",
        "IPY_MODEL_2d4726deb98e43fd929d9448ea4ac320"
       ],
       "layout": "IPY_MODEL_c74bf82c1d844110b97f623c9ba182ca"
      }
     },
     "6e2b312eca00403f8893bbf5152e125c": {
      "model_module": "@jupyter-widgets/controls",
      "model_module_version": "1.5.0",
      "model_name": "ButtonModel",
      "state": {
       "description": "Duffing Holmes (-)",
       "layout": "IPY_MODEL_e602f55378ff46ba91a3e6819c673654",
       "style": "IPY_MODEL_c4090f525f874ac08063e01e3d7dd764"
      }
     },
     "6e506c7f82aa4464b68d81accc256001": {
      "model_module": "@jupyter-widgets/controls",
      "model_module_version": "1.5.0",
      "model_name": "DescriptionStyleModel",
      "state": {
       "description_width": "initial"
      }
     },
     "6ed92c607bdd449387bf0405735cde4e": {
      "model_module": "@jupyter-widgets/controls",
      "model_module_version": "1.5.0",
      "model_name": "ButtonModel",
      "state": {
       "description": "Poço Triangular",
       "layout": "IPY_MODEL_c797579296a44cf2814db76424c87135",
       "style": "IPY_MODEL_3219828c12b64952a2b63344203c53c0"
      }
     },
     "6edf92ffc05d4d019132e2a59875768d": {
      "model_module": "@jupyter-widgets/controls",
      "model_module_version": "1.5.0",
      "model_name": "LabelModel",
      "state": {
       "layout": "IPY_MODEL_a49abe07e1404268b1b5480f93a7c8b6",
       "style": "IPY_MODEL_49f5f93bc18c4c32a5d1e85339aa857b",
       "value": " 70.00"
      }
     },
     "6f55f444ecb14c129c200b32710fc219": {
      "model_module": "@jupyter-widgets/base",
      "model_module_version": "1.2.0",
      "model_name": "LayoutModel",
      "state": {}
     },
     "6f67fc523dee44ae8db098e46fd8b305": {
      "model_module": "@jupyter-widgets/controls",
      "model_module_version": "1.5.0",
      "model_name": "SliderStyleModel",
      "state": {
       "description_width": "initial"
      }
     },
     "6f925d7e595949139903f9ca235335f7": {
      "model_module": "@jupyter-widgets/base",
      "model_module_version": "1.2.0",
      "model_name": "LayoutModel",
      "state": {}
     },
     "72415100b2ba4af2b1ea7221be1f4fe2": {
      "model_module": "@jupyter-widgets/base",
      "model_module_version": "1.2.0",
      "model_name": "LayoutModel",
      "state": {}
     },
     "72b2742a9a5e4c8ea1b44541d01ed88a": {
      "model_module": "@jupyter-widgets/base",
      "model_module_version": "1.2.0",
      "model_name": "LayoutModel",
      "state": {}
     },
     "730a8bad02334a158d27da284074e428": {
      "model_module": "@jupyter-widgets/controls",
      "model_module_version": "1.5.0",
      "model_name": "IntSliderModel",
      "state": {
       "description": "Pixels por polegada:",
       "layout": "IPY_MODEL_50fa53754c7f4d958d57f6541f5fac1b",
       "max": 300,
       "min": 10,
       "style": "IPY_MODEL_e52fc79f56b24d1bb343b9277541e714",
       "value": 80
      }
     },
     "734eb79dce0f4c4bbd9fc50ff4bc98f0": {
      "model_module": "@jupyter-widgets/controls",
      "model_module_version": "1.5.0",
      "model_name": "LabelModel",
      "state": {
       "layout": "IPY_MODEL_a70a16c703ef4c6e9f8cea74d48b017b",
       "style": "IPY_MODEL_b70f2ee6940649dea1a1132c543368c5",
       "value": "Número de pontos ="
      }
     },
     "73f5468c70fd410cb1d91d34ca370c62": {
      "model_module": "@jupyter-widgets/base",
      "model_module_version": "1.2.0",
      "model_name": "LayoutModel",
      "state": {}
     },
     "73f77863b9de41e9a1be9b391ff5f46d": {
      "model_module": "@jupyter-widgets/controls",
      "model_module_version": "1.5.0",
      "model_name": "ButtonModel",
      "state": {
       "description": "Poço Triangular",
       "layout": "IPY_MODEL_47aac2aa7f6641149427f30524e9bb22",
       "style": "IPY_MODEL_30808b510bf34ce4844ce5b36b13ff8d"
      }
     },
     "740fea3fb9d34cb9a867de6382691966": {
      "model_module": "@jupyter-widgets/controls",
      "model_module_version": "1.5.0",
      "model_name": "ButtonModel",
      "state": {
       "description": "Poço Infinito",
       "layout": "IPY_MODEL_dd3b33e50b734c95a1350ca69dd532c4",
       "style": "IPY_MODEL_3ce21f5135534448ad46b0fc59741b4b"
      }
     },
     "743000a36fe44ca391f5335df6e4bfe5": {
      "model_module": "@jupyter-widgets/controls",
      "model_module_version": "1.5.0",
      "model_name": "VBoxModel",
      "state": {
       "children": [
        "IPY_MODEL_32b7d2a7aecb4f5d93557c748f8153eb",
        "IPY_MODEL_09e65671bd064de1a87bb2d11e906ea5"
       ],
       "layout": "IPY_MODEL_02e8791aafc64eaeb133400b7e0b2c12"
      }
     },
     "746ebc7669534f259237ce72bb698133": {
      "model_module": "@jupyter-widgets/controls",
      "model_module_version": "1.5.0",
      "model_name": "DescriptionStyleModel",
      "state": {
       "description_width": ""
      }
     },
     "74cba6ccc9e44e638e60281c81f97292": {
      "model_module": "@jupyter-widgets/controls",
      "model_module_version": "1.5.0",
      "model_name": "VBoxModel",
      "state": {
       "_dom_classes": [
        "widget-interact"
       ],
       "children": [
        "IPY_MODEL_ceeafaa133ec4c00a01d03857458b237",
        "IPY_MODEL_fc77911291cb41a3b6b6e485917175b1",
        "IPY_MODEL_a4e310794e5e4bcd8e27d6a3d3ce0122",
        "IPY_MODEL_85f519336b4d4e838ee6ada99b7f79d1",
        "IPY_MODEL_df3a2d78ad5141388a3382c6eb033b16"
       ],
       "layout": "IPY_MODEL_4bcf1535ceda4398acc3ba4bd5a82a19"
      }
     },
     "74e90eaa2d8b454ab58a38211d85acc6": {
      "model_module": "@jupyter-widgets/base",
      "model_module_version": "1.2.0",
      "model_name": "LayoutModel",
      "state": {}
     },
     "759e1ea77cc74ce293861b5fb99751ef": {
      "model_module": "@jupyter-widgets/base",
      "model_module_version": "1.2.0",
      "model_name": "LayoutModel",
      "state": {}
     },
     "75da689a49db4dd890a417023064d233": {
      "model_module": "@jupyter-widgets/controls",
      "model_module_version": "1.5.0",
      "model_name": "LabelModel",
      "state": {
       "layout": "IPY_MODEL_800cbe281eb5410184c430a9803f529b",
       "style": "IPY_MODEL_7fb989a95430497190a314fa0fe0bf98",
       "value": "Número de pontos ="
      }
     },
     "75df70c5d1804a7cb14ad05a227b9d31": {
      "model_module": "@jupyter-widgets/base",
      "model_module_version": "1.2.0",
      "model_name": "LayoutModel",
      "state": {}
     },
     "76a653af45114832b6e7c342e1a88640": {
      "model_module": "@jupyter-widgets/controls",
      "model_module_version": "1.5.0",
      "model_name": "LabelModel",
      "state": {
       "layout": "IPY_MODEL_0bb15325db984e1292c3c7255e29ba4d",
       "style": "IPY_MODEL_3e7071c52d29452dbafd8e1186b10ffe",
       "value": " 550"
      }
     },
     "76baf257ee1443da9e80ddc317803258": {
      "model_module": "@jupyter-widgets/controls",
      "model_module_version": "1.5.0",
      "model_name": "IntSliderModel",
      "state": {
       "description": "Largura da imagem (polegadas):",
       "layout": "IPY_MODEL_5e001233358d4bf7a3fc2911f4c6a8d3",
       "max": 20,
       "style": "IPY_MODEL_d0a90d3a63774597a42d8719b876ee0f",
       "value": 16
      }
     },
     "7729dc2318244861ac590f006c420f17": {
      "model_module": "@jupyter-widgets/base",
      "model_module_version": "1.2.0",
      "model_name": "LayoutModel",
      "state": {}
     },
     "780751d62b4c4e5b920d65e0e8a58cff": {
      "model_module": "@jupyter-widgets/output",
      "model_module_version": "1.0.0",
      "model_name": "OutputModel",
      "state": {
       "layout": "IPY_MODEL_7ecef1874c0e4cfc8fc5d6d51aeecc48",
       "outputs": [
        {
         "data": {
          "image/png": "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\n",
          "text/plain": "<Figure size 1280x720 with 1 Axes>"
         },
         "metadata": {
          "needs_background": "light"
         },
         "output_type": "display_data"
        }
       ]
      }
     },
     "7a3a4a310ff9497db9760887b614c3fb": {
      "model_module": "@jupyter-widgets/controls",
      "model_module_version": "1.5.0",
      "model_name": "ButtonStyleModel",
      "state": {}
     },
     "7d09909b238a4b9e8eb463c5b39f56f2": {
      "model_module": "@jupyter-widgets/base",
      "model_module_version": "1.2.0",
      "model_name": "LayoutModel",
      "state": {}
     },
     "7de39c181fed4428a88d5fa563f206b9": {
      "model_module": "@jupyter-widgets/controls",
      "model_module_version": "1.5.0",
      "model_name": "ButtonStyleModel",
      "state": {}
     },
     "7ecef1874c0e4cfc8fc5d6d51aeecc48": {
      "model_module": "@jupyter-widgets/base",
      "model_module_version": "1.2.0",
      "model_name": "LayoutModel",
      "state": {}
     },
     "7fb989a95430497190a314fa0fe0bf98": {
      "model_module": "@jupyter-widgets/controls",
      "model_module_version": "1.5.0",
      "model_name": "DescriptionStyleModel",
      "state": {
       "description_width": ""
      }
     },
     "7fdda410c6e54278b7792e1c79a069d3": {
      "model_module": "@jupyter-widgets/controls",
      "model_module_version": "1.5.0",
      "model_name": "ButtonModel",
      "state": {
       "description": "Campo Uniforme (+)",
       "layout": "IPY_MODEL_235e515771564e6cac2333caf85d6a4a",
       "style": "IPY_MODEL_cb9c69f1a37e4e18b98b9bc318a7fb51"
      }
     },
     "800cbe281eb5410184c430a9803f529b": {
      "model_module": "@jupyter-widgets/base",
      "model_module_version": "1.2.0",
      "model_name": "LayoutModel",
      "state": {}
     },
     "806cb0854f064593a647c59158fbdb69": {
      "model_module": "@jupyter-widgets/base",
      "model_module_version": "1.2.0",
      "model_name": "LayoutModel",
      "state": {}
     },
     "823d0d228fad41938db75c7c9b48c6f8": {
      "model_module": "@jupyter-widgets/controls",
      "model_module_version": "1.5.0",
      "model_name": "DescriptionStyleModel",
      "state": {
       "description_width": ""
      }
     },
     "835c721aa3534739a8194d3964d88aad": {
      "model_module": "@jupyter-widgets/controls",
      "model_module_version": "1.5.0",
      "model_name": "ButtonStyleModel",
      "state": {}
     },
     "8454b2b169c64ee9a6c924ff5a66acc5": {
      "model_module": "@jupyter-widgets/base",
      "model_module_version": "1.2.0",
      "model_name": "LayoutModel",
      "state": {}
     },
     "84a71b2411fb47148b593d08dfa8a770": {
      "model_module": "@jupyter-widgets/controls",
      "model_module_version": "1.5.0",
      "model_name": "VBoxModel",
      "state": {
       "children": [
        "IPY_MODEL_6a75360c3c9b440cbebf6b6ab94743d8",
        "IPY_MODEL_f2ad61daccc04e0d83275db2b3bc3751",
        "IPY_MODEL_655571388be846fa8ed5d7f0f3eb7f82"
       ],
       "layout": "IPY_MODEL_be852a07c3fc40dbae02b5808d769ca7"
      }
     },
     "854b490183964a33aed3fca058037661": {
      "model_module": "@jupyter-widgets/base",
      "model_module_version": "1.2.0",
      "model_name": "LayoutModel",
      "state": {}
     },
     "85f519336b4d4e838ee6ada99b7f79d1": {
      "model_module": "@jupyter-widgets/controls",
      "model_module_version": "1.5.0",
      "model_name": "ButtonModel",
      "state": {
       "description": "Gerar",
       "layout": "IPY_MODEL_73f5468c70fd410cb1d91d34ca370c62",
       "style": "IPY_MODEL_93ea43d302154535867b1b7e30aecf02"
      }
     },
     "8603ccb9703f4a67bd0bfffc3e633ae5": {
      "model_module": "@jupyter-widgets/controls",
      "model_module_version": "1.5.0",
      "model_name": "IntSliderModel",
      "state": {
       "description": "Pixels por polegada:",
       "layout": "IPY_MODEL_defdc383c0d34935862daf651561b46a",
       "max": 300,
       "min": 10,
       "style": "IPY_MODEL_6336a9b8dce5461091f2be86dead4182",
       "value": 80
      }
     },
     "86cea94cae554dd98ad2204ed1f86c9b": {
      "model_module": "@jupyter-widgets/controls",
      "model_module_version": "1.5.0",
      "model_name": "LabelModel",
      "state": {
       "layout": "IPY_MODEL_bbcbd42bd3df49858fe096d99876d073",
       "style": "IPY_MODEL_4577dfbdff894d03a576090bc9d3f83b",
       "value": " 70.00"
      }
     },
     "86e5c18f345c46efb4b858194c506f9b": {
      "model_module": "@jupyter-widgets/controls",
      "model_module_version": "1.5.0",
      "model_name": "FloatRangeSliderModel",
      "state": {
       "_model_name": "FloatRangeSliderModel",
       "_view_name": "FloatRangeSliderView",
       "continuous_update": false,
       "description": "Domínio de $\\Psi(x)$: ",
       "layout": "IPY_MODEL_5e001233358d4bf7a3fc2911f4c6a8d3",
       "max": 150,
       "min": -150,
       "readout_format": "1d",
       "style": "IPY_MODEL_31cd410b9593400f8b7377accdf7207b",
       "value": [
        -35,
        35
       ]
      }
     },
     "875057cafbf645359f5a6a6030c7ce39": {
      "model_module": "@jupyter-widgets/controls",
      "model_module_version": "1.5.0",
      "model_name": "DescriptionStyleModel",
      "state": {
       "description_width": ""
      }
     },
     "87ae6c7360bb4b9f8af68396b244b98f": {
      "model_module": "@jupyter-widgets/base",
      "model_module_version": "1.2.0",
      "model_name": "LayoutModel",
      "state": {}
     },
     "898c77a970784f128aefaadbc06d4f07": {
      "model_module": "@jupyter-widgets/controls",
      "model_module_version": "1.5.0",
      "model_name": "LabelModel",
      "state": {
       "layout": "IPY_MODEL_8ea3e5bbb3ea4a69b4e40fa3de3de17b",
       "style": "IPY_MODEL_4fdb34a65fdf4f0094693fa3be658370",
       "value": "V(x)[min,max] (eV) ="
      }
     },
     "89c4ca9cdb1a4426ab895be87725bcde": {
      "model_module": "@jupyter-widgets/controls",
      "model_module_version": "1.5.0",
      "model_name": "DescriptionStyleModel",
      "state": {
       "description_width": ""
      }
     },
     "89fc512b846f4928bb988b9b5d6bf3d9": {
      "model_module": "@jupyter-widgets/base",
      "model_module_version": "1.2.0",
      "model_name": "LayoutModel",
      "state": {}
     },
     "8a54a0bbc0aa4e5a859eccfe045c7b2a": {
      "model_module": "@jupyter-widgets/base",
      "model_module_version": "1.2.0",
      "model_name": "LayoutModel",
      "state": {}
     },
     "8b2f14f4489c4c54a0438ebd5cb47639": {
      "model_module": "@jupyter-widgets/base",
      "model_module_version": "1.2.0",
      "model_name": "LayoutModel",
      "state": {}
     },
     "8c3367d0c08341ed9fd171c26ac3f142": {
      "model_module": "@jupyter-widgets/controls",
      "model_module_version": "1.5.0",
      "model_name": "TextModel",
      "state": {
       "description": "Expressão de $V(x)$: ",
       "layout": "IPY_MODEL_50fa53754c7f4d958d57f6541f5fac1b",
       "placeholder": "Escreva a expressão aqui.",
       "style": "IPY_MODEL_27f989018f734762bc70d36424aadeb1",
       "value": "0.05*abs(x/ang)-1.5"
      }
     },
     "8e5775df4ac7434081ddb7dea5b96538": {
      "model_module": "@jupyter-widgets/controls",
      "model_module_version": "1.5.0",
      "model_name": "FloatRangeSliderModel",
      "state": {
       "_model_name": "FloatRangeSliderModel",
       "_view_name": "FloatRangeSliderView",
       "description": "Limites do eixo y (angstroms):",
       "layout": "IPY_MODEL_defdc383c0d34935862daf651561b46a",
       "max": 25,
       "min": -25,
       "readout_format": ".1f",
       "step": 0.05,
       "style": "IPY_MODEL_63af41d5d8494a83acd30941edd71381",
       "value": [
        0,
        5
       ]
      }
     },
     "8e5d2c1278a846d7b8f145019bfd06cc": {
      "model_module": "@jupyter-widgets/controls",
      "model_module_version": "1.5.0",
      "model_name": "LabelModel",
      "state": {
       "layout": "IPY_MODEL_72b2742a9a5e4c8ea1b44541d01ed88a",
       "style": "IPY_MODEL_823d0d228fad41938db75c7c9b48c6f8",
       "value": "Expressão V(x) ="
      }
     },
     "8e96abe4c3f34599a333f1567d6f293c": {
      "model_module": "@jupyter-widgets/controls",
      "model_module_version": "1.5.0",
      "model_name": "ButtonModel",
      "state": {
       "description": "Gerar",
       "layout": "IPY_MODEL_db7fddd411c34f52a61f0e1fc94bffdc",
       "style": "IPY_MODEL_9920deead04a4d85ade05be6c1c4436c"
      }
     },
     "8ea3e5bbb3ea4a69b4e40fa3de3de17b": {
      "model_module": "@jupyter-widgets/base",
      "model_module_version": "1.2.0",
      "model_name": "LayoutModel",
      "state": {}
     },
     "8f1845b16afb4739b037334eff1691ed": {
      "model_module": "@jupyter-widgets/controls",
      "model_module_version": "1.5.0",
      "model_name": "ButtonModel",
      "state": {
       "description": "Diagonalizar",
       "layout": "IPY_MODEL_feec5a99a5ca41ad9c6c7d453837dec4",
       "style": "IPY_MODEL_585aaec44331429fb6175907e10fefde"
      }
     },
     "8f85fff320794bb08bae4b7c38beadee": {
      "model_module": "@jupyter-widgets/base",
      "model_module_version": "1.2.0",
      "model_name": "LayoutModel",
      "state": {}
     },
     "909a17f3954044379f652ba9be8b28b1": {
      "model_module": "@jupyter-widgets/controls",
      "model_module_version": "1.5.0",
      "model_name": "ButtonStyleModel",
      "state": {}
     },
     "9113593087124735b5d413a1b004395e": {
      "model_module": "@jupyter-widgets/base",
      "model_module_version": "1.2.0",
      "model_name": "LayoutModel",
      "state": {}
     },
     "9199166c51864832bdcc4bb74bd6ff0f": {
      "model_module": "@jupyter-widgets/controls",
      "model_module_version": "1.5.0",
      "model_name": "SliderStyleModel",
      "state": {
       "description_width": "initial"
      }
     },
     "92b74d60850141edbf5b365027e13814": {
      "model_module": "@jupyter-widgets/base",
      "model_module_version": "1.2.0",
      "model_name": "LayoutModel",
      "state": {}
     },
     "93ce1630615f4bb29b508781350a4e29": {
      "model_module": "@jupyter-widgets/controls",
      "model_module_version": "1.5.0",
      "model_name": "DescriptionStyleModel",
      "state": {
       "description_width": ""
      }
     },
     "93ea43d302154535867b1b7e30aecf02": {
      "model_module": "@jupyter-widgets/controls",
      "model_module_version": "1.5.0",
      "model_name": "ButtonStyleModel",
      "state": {}
     },
     "94efc167ecbf4cd69c0f6ce06fff960e": {
      "model_module": "@jupyter-widgets/controls",
      "model_module_version": "1.5.0",
      "model_name": "LabelModel",
      "state": {
       "layout": "IPY_MODEL_6560e34105804364909bae7a53a2efc5",
       "style": "IPY_MODEL_04f66eb3f33c435fb25dc21e90e185ef",
       "value": " 0.13"
      }
     },
     "94f8a2cc3c1b4a0d80ce31c53153aade": {
      "model_module": "@jupyter-widgets/controls",
      "model_module_version": "1.5.0",
      "model_name": "LabelModel",
      "state": {
       "layout": "IPY_MODEL_ef6c9ee227454bc589f399039d07aad6",
       "style": "IPY_MODEL_299727116b5944959be2e50f630cffa5",
       "value": "[-1.49681 , 0.25000]"
      }
     },
     "95472099adab42f59b4576998ad35577": {
      "model_module": "@jupyter-widgets/controls",
      "model_module_version": "1.5.0",
      "model_name": "ButtonStyleModel",
      "state": {}
     },
     "957842537ee74abca2b786099aafdefa": {
      "model_module": "@jupyter-widgets/controls",
      "model_module_version": "1.5.0",
      "model_name": "LabelModel",
      "state": {
       "layout": "IPY_MODEL_806cb0854f064593a647c59158fbdb69",
       "style": "IPY_MODEL_1f854b8b9bf849979f2caf57d43564f1",
       "value": "Largura do domínio (angstroms) ="
      }
     },
     "95a5484b5aef48d1bcbd76ff04a5153f": {
      "model_module": "@jupyter-widgets/base",
      "model_module_version": "1.2.0",
      "model_name": "LayoutModel",
      "state": {}
     },
     "98d7455712dd4eac879a2982f3041ba7": {
      "model_module": "@jupyter-widgets/controls",
      "model_module_version": "1.5.0",
      "model_name": "TabModel",
      "state": {
       "_titles": {
        "0": "Gerar o Sistema",
        "1": "Funções de Onda"
       },
       "children": [
        "IPY_MODEL_2e84c8a951384c6c83105abebe9df37e",
        "IPY_MODEL_ce6ffe4c44b64b1ca306528e3b59ab33"
       ],
       "layout": "IPY_MODEL_f599f8ae6912443288c0e3e171637440"
      }
     },
     "99030cac50e948d6b0549bc03cd28827": {
      "model_module": "@jupyter-widgets/controls",
      "model_module_version": "1.5.0",
      "model_name": "ButtonStyleModel",
      "state": {}
     },
     "9915052705ce442ea54e8bccfa69e0f4": {
      "model_module": "@jupyter-widgets/controls",
      "model_module_version": "1.5.0",
      "model_name": "SliderStyleModel",
      "state": {
       "description_width": "initial"
      }
     },
     "9920deead04a4d85ade05be6c1c4436c": {
      "model_module": "@jupyter-widgets/controls",
      "model_module_version": "1.5.0",
      "model_name": "ButtonStyleModel",
      "state": {}
     },
     "9929fe0468d34b6f8d1d03f8da09ac95": {
      "model_module": "@jupyter-widgets/base",
      "model_module_version": "1.2.0",
      "model_name": "LayoutModel",
      "state": {
       "grid_template_columns": "repeat(2, 250px)"
      }
     },
     "996c895e0a604124b20b4b6009eba955": {
      "model_module": "@jupyter-widgets/controls",
      "model_module_version": "1.5.0",
      "model_name": "SliderStyleModel",
      "state": {
       "description_width": "initial"
      }
     },
     "9ca2f2153db44cfbb4b6349695cd7cb5": {
      "model_module": "@jupyter-widgets/controls",
      "model_module_version": "1.5.0",
      "model_name": "DescriptionStyleModel",
      "state": {
       "description_width": "initial"
      }
     },
     "9cf86732e39d4563852dbb64415c2d74": {
      "model_module": "@jupyter-widgets/base",
      "model_module_version": "1.2.0",
      "model_name": "LayoutModel",
      "state": {}
     },
     "9d8b5c928c35434ca1fe9dccabddc239": {
      "model_module": "@jupyter-widgets/controls",
      "model_module_version": "1.5.0",
      "model_name": "IntSliderModel",
      "state": {
       "continuous_update": false,
       "description": "Margens horizontais  (angstroms):   ",
       "layout": "IPY_MODEL_defdc383c0d34935862daf651561b46a",
       "style": "IPY_MODEL_31d61879b24e4f4f8fbbea0509db27cc",
       "value": 27
      }
     },
     "9ed5e57eaec245a3b37922b6c1383c28": {
      "model_module": "@jupyter-widgets/base",
      "model_module_version": "1.2.0",
      "model_name": "LayoutModel",
      "state": {}
     },
     "9f988e0490974f56bf8a0805ed9dbee0": {
      "model_module": "@jupyter-widgets/base",
      "model_module_version": "1.2.0",
      "model_name": "LayoutModel",
      "state": {}
     },
     "a00765e1c18445e3b636b7a076eada86": {
      "model_module": "@jupyter-widgets/base",
      "model_module_version": "1.2.0",
      "model_name": "LayoutModel",
      "state": {}
     },
     "a036d15c75604011ae9df7b1e811f290": {
      "model_module": "@jupyter-widgets/controls",
      "model_module_version": "1.5.0",
      "model_name": "IntRangeSliderModel",
      "state": {
       "_model_name": "IntRangeSliderModel",
       "_view_name": "IntRangeSliderView",
       "continuous_update": false,
       "description": "Plotar estados:",
       "layout": "IPY_MODEL_5e001233358d4bf7a3fc2911f4c6a8d3",
       "max": 20,
       "style": "IPY_MODEL_4f86257405c84780812f2e5a2e6cc37d",
       "value": [
        0,
        10
       ]
      }
     },
     "a134cadc11034ef194692f6a2a82c05a": {
      "model_module": "@jupyter-widgets/controls",
      "model_module_version": "1.5.0",
      "model_name": "ButtonStyleModel",
      "state": {}
     },
     "a211d5ade127437a80984bdea05f16ed": {
      "model_module": "@jupyter-widgets/controls",
      "model_module_version": "1.5.0",
      "model_name": "DescriptionStyleModel",
      "state": {
       "description_width": ""
      }
     },
     "a271b41bfa9546b49b80a7c04c3b20f3": {
      "model_module": "@jupyter-widgets/base",
      "model_module_version": "1.2.0",
      "model_name": "LayoutModel",
      "state": {}
     },
     "a34dacdf6af4451da641ffa5f6e67a0c": {
      "model_module": "@jupyter-widgets/base",
      "model_module_version": "1.2.0",
      "model_name": "LayoutModel",
      "state": {}
     },
     "a3bb17b1f86d44fa9eff546cdcce0029": {
      "model_module": "@jupyter-widgets/controls",
      "model_module_version": "1.5.0",
      "model_name": "ButtonModel",
      "state": {
       "description": "Diagonalize...",
       "disabled": true,
       "layout": "IPY_MODEL_3479ebdff2be4edb97075c75a1b02134",
       "style": "IPY_MODEL_909a17f3954044379f652ba9be8b28b1"
      }
     },
     "a49abe07e1404268b1b5480f93a7c8b6": {
      "model_module": "@jupyter-widgets/base",
      "model_module_version": "1.2.0",
      "model_name": "LayoutModel",
      "state": {}
     },
     "a4a8117b1c5d455c8afb5aa5233a7b0d": {
      "model_module": "@jupyter-widgets/controls",
      "model_module_version": "1.5.0",
      "model_name": "GridBoxModel",
      "state": {
       "children": [
        "IPY_MODEL_740fea3fb9d34cb9a867de6382691966",
        "IPY_MODEL_6ed92c607bdd449387bf0405735cde4e",
        "IPY_MODEL_b2f419c7d7424694ad1fd70c78ea8239",
        "IPY_MODEL_a4d2f258bdb7468d9809637c6ab079a5",
        "IPY_MODEL_6123a284d4c54cde9d09db746bc6468a",
        "IPY_MODEL_26f39588ec8e4b9896eb6fb6dbdeccae",
        "IPY_MODEL_33334961003f42dd8d3940cdc9151bc3",
        "IPY_MODEL_07c144c3951e4dc1b655f86e91925d05",
        "IPY_MODEL_5562d186496743d294f7f5af31d74c54",
        "IPY_MODEL_d31d32ef91c947da8cff2d564e82274d"
       ],
       "layout": "IPY_MODEL_5e551db2a9d84c9082dc71a022295993"
      }
     },
     "a4b7c82418a74a6bbe831969afce2daf": {
      "model_module": "@jupyter-widgets/controls",
      "model_module_version": "1.5.0",
      "model_name": "DescriptionStyleModel",
      "state": {
       "description_width": ""
      }
     },
     "a4d2f258bdb7468d9809637c6ab079a5": {
      "model_module": "@jupyter-widgets/controls",
      "model_module_version": "1.5.0",
      "model_name": "ButtonModel",
      "state": {
       "description": "Campo Uniforme (-)",
       "layout": "IPY_MODEL_557de5a5a03c4908b734721ec2092fab",
       "style": "IPY_MODEL_d1ce643835194bfd855093389feba289"
      }
     },
     "a4e310794e5e4bcd8e27d6a3d3ce0122": {
      "model_module": "@jupyter-widgets/controls",
      "model_module_version": "1.5.0",
      "model_name": "TextModel",
      "state": {
       "description": "Expressão de $V(x)$: ",
       "layout": "IPY_MODEL_defdc383c0d34935862daf651561b46a",
       "placeholder": "Escreva a expressão aqui.",
       "style": "IPY_MODEL_ec61aee38dcd4df98e80f65d39cebe18",
       "value": "(1e-5)*(x**2)-(2e-7)*(x**4)"
      }
     },
     "a70a16c703ef4c6e9f8cea74d48b017b": {
      "model_module": "@jupyter-widgets/base",
      "model_module_version": "1.2.0",
      "model_name": "LayoutModel",
      "state": {}
     },
     "a889d795fc8c412ebb42b3ea34de08b4": {
      "model_module": "@jupyter-widgets/base",
      "model_module_version": "1.2.0",
      "model_name": "LayoutModel",
      "state": {}
     },
     "a981ade65db24237a068f7b8817dc60f": {
      "model_module": "@jupyter-widgets/controls",
      "model_module_version": "1.5.0",
      "model_name": "IntSliderModel",
      "state": {
       "continuous_update": false,
       "description": "Margens horizontais  (angstroms):   ",
       "layout": "IPY_MODEL_5e001233358d4bf7a3fc2911f4c6a8d3",
       "style": "IPY_MODEL_9199166c51864832bdcc4bb74bd6ff0f",
       "value": 20
      }
     },
     "a9927489a80545da94a91c0d5df446e7": {
      "model_module": "@jupyter-widgets/controls",
      "model_module_version": "1.5.0",
      "model_name": "ButtonStyleModel",
      "state": {}
     },
     "a9983d571f894f09b43678481a36f60e": {
      "model_module": "@jupyter-widgets/controls",
      "model_module_version": "1.5.0",
      "model_name": "ButtonStyleModel",
      "state": {}
     },
     "a9dc7542569b47aba1a9f9cb06c657b4": {
      "model_module": "@jupyter-widgets/controls",
      "model_module_version": "1.5.0",
      "model_name": "LabelModel",
      "state": {
       "layout": "IPY_MODEL_43d34aa4a20c483daaca1202f29400d2",
       "style": "IPY_MODEL_f8b860f8b0b94539a1b8824ebaf22f31",
       "value": " 0.13"
      }
     },
     "aa0b5cafd0824c0d93dc7cbcca971547": {
      "model_module": "@jupyter-widgets/controls",
      "model_module_version": "1.5.0",
      "model_name": "DescriptionStyleModel",
      "state": {
       "description_width": ""
      }
     },
     "aa82fb0f38b84095853670d1538847e8": {
      "model_module": "@jupyter-widgets/controls",
      "model_module_version": "1.5.0",
      "model_name": "IntRangeSliderModel",
      "state": {
       "_model_name": "IntRangeSliderModel",
       "_view_name": "IntRangeSliderView",
       "continuous_update": false,
       "description": "Plotar estados:",
       "layout": "IPY_MODEL_50fa53754c7f4d958d57f6541f5fac1b",
       "max": 20,
       "style": "IPY_MODEL_2f8559f7590549ddaf5297ed9eb8a1e7",
       "value": [
        0,
        10
       ]
      }
     },
     "aaeb5c63b13347f0815f97391ca6c69f": {
      "model_module": "@jupyter-widgets/controls",
      "model_module_version": "1.5.0",
      "model_name": "LabelModel",
      "state": {
       "layout": "IPY_MODEL_95a5484b5aef48d1bcbd76ff04a5153f",
       "style": "IPY_MODEL_ace6b8a7b360425e8df98b358f7955e2",
       "value": "[-3.78355 , 0.00012]"
      }
     },
     "acd752d96f4e4f058e163aeb683cb9e2": {
      "model_module": "@jupyter-widgets/controls",
      "model_module_version": "1.5.0",
      "model_name": "LabelModel",
      "state": {
       "layout": "IPY_MODEL_48df729186ab47debfd7d407aee5f09d",
       "style": "IPY_MODEL_ce8286a65fee4aeabd352554a34b5218",
       "value": "Número de pontos ="
      }
     },
     "ace6b8a7b360425e8df98b358f7955e2": {
      "model_module": "@jupyter-widgets/controls",
      "model_module_version": "1.5.0",
      "model_name": "DescriptionStyleModel",
      "state": {
       "description_width": ""
      }
     },
     "ae85c3d593674764beb908c07b3a46fd": {
      "model_module": "@jupyter-widgets/controls",
      "model_module_version": "1.5.0",
      "model_name": "LabelModel",
      "state": {
       "layout": "IPY_MODEL_6f925d7e595949139903f9ca235335f7",
       "style": "IPY_MODEL_13ad35a30801495e8540547e384f54e1",
       "value": "Passo $\\Delta x $ (angstroms) ="
      }
     },
     "af02a8ca565e41d1b6e7ecafdb981750": {
      "model_module": "@jupyter-widgets/controls",
      "model_module_version": "1.5.0",
      "model_name": "SliderStyleModel",
      "state": {
       "description_width": "initial"
      }
     },
     "af3872cdb62a4cd8a6e637ae9e33dd5d": {
      "model_module": "@jupyter-widgets/controls",
      "model_module_version": "1.5.0",
      "model_name": "ButtonModel",
      "state": {
       "description": "Pöschl–Teller",
       "layout": "IPY_MODEL_5f3306112d07471e9ea533b21ca9e84d",
       "style": "IPY_MODEL_a134cadc11034ef194692f6a2a82c05a"
      }
     },
     "b1e3584bda7d46a9941f586becc6fd2d": {
      "model_module": "@jupyter-widgets/controls",
      "model_module_version": "1.5.0",
      "model_name": "ButtonStyleModel",
      "state": {}
     },
     "b2c8a939051b406aa8fb7831a3d61150": {
      "model_module": "@jupyter-widgets/base",
      "model_module_version": "1.2.0",
      "model_name": "LayoutModel",
      "state": {}
     },
     "b2f419c7d7424694ad1fd70c78ea8239": {
      "model_module": "@jupyter-widgets/controls",
      "model_module_version": "1.5.0",
      "model_name": "ButtonModel",
      "state": {
       "description": "Campo Uniforme (+)",
       "layout": "IPY_MODEL_fe9617ec7fcb4926a5fd70d5e09799d5",
       "style": "IPY_MODEL_a9983d571f894f09b43678481a36f60e"
      }
     },
     "b5dca09dd9ea4c57a1a294dab9915e99": {
      "model_module": "@jupyter-widgets/base",
      "model_module_version": "1.2.0",
      "model_name": "LayoutModel",
      "state": {}
     },
     "b67fac3ee20b42328054616c7c7f17da": {
      "model_module": "@jupyter-widgets/controls",
      "model_module_version": "1.5.0",
      "model_name": "IntSliderModel",
      "state": {
       "description": "Altura da imagem (polegadas): ",
       "layout": "IPY_MODEL_5e001233358d4bf7a3fc2911f4c6a8d3",
       "max": 20,
       "style": "IPY_MODEL_9915052705ce442ea54e8bccfa69e0f4",
       "value": 9
      }
     },
     "b6d7ed8cb1334771befcbc78f506078e": {
      "model_module": "@jupyter-widgets/controls",
      "model_module_version": "1.5.0",
      "model_name": "ButtonStyleModel",
      "state": {}
     },
     "b70f2ee6940649dea1a1132c543368c5": {
      "model_module": "@jupyter-widgets/controls",
      "model_module_version": "1.5.0",
      "model_name": "DescriptionStyleModel",
      "state": {
       "description_width": ""
      }
     },
     "b8c554c533dc40f2b290407d9c2b749c": {
      "model_module": "@jupyter-widgets/controls",
      "model_module_version": "1.5.0",
      "model_name": "LabelModel",
      "state": {
       "layout": "IPY_MODEL_9f988e0490974f56bf8a0805ed9dbee0",
       "style": "IPY_MODEL_5ef14be38ff040269016910ece9d20e8",
       "value": "Passo $\\Delta x $ (angstroms) ="
      }
     },
     "b8f611d78a564e918e3164ac51033688": {
      "model_module": "@jupyter-widgets/base",
      "model_module_version": "1.2.0",
      "model_name": "LayoutModel",
      "state": {}
     },
     "b9171eee3549401eac99437afe14d86c": {
      "model_module": "@jupyter-widgets/controls",
      "model_module_version": "1.5.0",
      "model_name": "DescriptionStyleModel",
      "state": {
       "description_width": ""
      }
     },
     "ba236bba904747aaaf6ba24b6bfce142": {
      "model_module": "@jupyter-widgets/base",
      "model_module_version": "1.2.0",
      "model_name": "LayoutModel",
      "state": {}
     },
     "ba2ca9cf2ba4442393a4def5ac88912e": {
      "model_module": "@jupyter-widgets/controls",
      "model_module_version": "1.5.0",
      "model_name": "DescriptionStyleModel",
      "state": {
       "description_width": ""
      }
     },
     "baba5663eff449c9b5909cd4fc5fd58e": {
      "model_module": "@jupyter-widgets/controls",
      "model_module_version": "1.5.0",
      "model_name": "DescriptionStyleModel",
      "state": {
       "description_width": "initial"
      }
     },
     "bbcbd42bd3df49858fe096d99876d073": {
      "model_module": "@jupyter-widgets/base",
      "model_module_version": "1.2.0",
      "model_name": "LayoutModel",
      "state": {}
     },
     "bda0d1cb3e6049fb98072d167aaf76ce": {
      "model_module": "@jupyter-widgets/controls",
      "model_module_version": "1.5.0",
      "model_name": "IntSliderModel",
      "state": {
       "description": "Altura da imagem (polegadas): ",
       "layout": "IPY_MODEL_50fa53754c7f4d958d57f6541f5fac1b",
       "max": 20,
       "style": "IPY_MODEL_bff39a25b2f742d294ec1ad38a785e49",
       "value": 9
      }
     },
     "be852a07c3fc40dbae02b5808d769ca7": {
      "model_module": "@jupyter-widgets/base",
      "model_module_version": "1.2.0",
      "model_name": "LayoutModel",
      "state": {}
     },
     "bff39a25b2f742d294ec1ad38a785e49": {
      "model_module": "@jupyter-widgets/controls",
      "model_module_version": "1.5.0",
      "model_name": "SliderStyleModel",
      "state": {
       "description_width": "initial"
      }
     },
     "c16bfe860e4d449a9d813cb6cce535a4": {
      "model_module": "@jupyter-widgets/base",
      "model_module_version": "1.2.0",
      "model_name": "LayoutModel",
      "state": {
       "grid_template_columns": "repeat(auto-fill, 180px)"
      }
     },
     "c1b7f259afa344439c33e427e041fceb": {
      "model_module": "@jupyter-widgets/controls",
      "model_module_version": "1.5.0",
      "model_name": "DropdownModel",
      "state": {
       "_options_labels": [
        "densidades de probabilidades",
        "funções de onda (parte real, +)",
        "funções de onda (parte imaginária)"
       ],
       "description": "Plotar as",
       "index": 0,
       "layout": "IPY_MODEL_ba236bba904747aaaf6ba24b6bfce142",
       "style": "IPY_MODEL_c65c15c7188f40d0b25e2f893ddd4aa2"
      }
     },
     "c2919b958c6a440e9c7f8368c09e9c9d": {
      "model_module": "@jupyter-widgets/controls",
      "model_module_version": "1.5.0",
      "model_name": "DescriptionStyleModel",
      "state": {
       "description_width": ""
      }
     },
     "c4090f525f874ac08063e01e3d7dd764": {
      "model_module": "@jupyter-widgets/controls",
      "model_module_version": "1.5.0",
      "model_name": "ButtonStyleModel",
      "state": {}
     },
     "c46c9d8471474bf783e06cccca7ba071": {
      "model_module": "@jupyter-widgets/controls",
      "model_module_version": "1.5.0",
      "model_name": "ButtonStyleModel",
      "state": {}
     },
     "c65c15c7188f40d0b25e2f893ddd4aa2": {
      "model_module": "@jupyter-widgets/controls",
      "model_module_version": "1.5.0",
      "model_name": "DescriptionStyleModel",
      "state": {
       "description_width": "initial"
      }
     },
     "c66b3e4aeb7345baac6299e0b606a788": {
      "model_module": "@jupyter-widgets/controls",
      "model_module_version": "1.5.0",
      "model_name": "ButtonModel",
      "state": {
       "description": "Morse",
       "layout": "IPY_MODEL_8a54a0bbc0aa4e5a859eccfe045c7b2a",
       "style": "IPY_MODEL_cd1d720a5d744a7ea55ec534ff0e506d"
      }
     },
     "c74bf82c1d844110b97f623c9ba182ca": {
      "model_module": "@jupyter-widgets/base",
      "model_module_version": "1.2.0",
      "model_name": "LayoutModel",
      "state": {}
     },
     "c797579296a44cf2814db76424c87135": {
      "model_module": "@jupyter-widgets/base",
      "model_module_version": "1.2.0",
      "model_name": "LayoutModel",
      "state": {}
     },
     "c7c3eac67a594f518f4a58e91e6c9062": {
      "model_module": "@jupyter-widgets/base",
      "model_module_version": "1.2.0",
      "model_name": "LayoutModel",
      "state": {}
     },
     "cb510ae90a534754b5b0cb873735090a": {
      "model_module": "@jupyter-widgets/base",
      "model_module_version": "1.2.0",
      "model_name": "LayoutModel",
      "state": {}
     },
     "cb9c69f1a37e4e18b98b9bc318a7fb51": {
      "model_module": "@jupyter-widgets/controls",
      "model_module_version": "1.5.0",
      "model_name": "ButtonStyleModel",
      "state": {}
     },
     "ccc5f9a66a0445b3bfca842ad498dece": {
      "model_module": "@jupyter-widgets/controls",
      "model_module_version": "1.5.0",
      "model_name": "LabelModel",
      "state": {
       "layout": "IPY_MODEL_5a5d4a8a51464026ae1ead8aa749ce80",
       "style": "IPY_MODEL_45e461f042d844d28ba9692cceff355e",
       "value": "0.05*abs(x/ang)-1.5"
      }
     },
     "cd1d720a5d744a7ea55ec534ff0e506d": {
      "model_module": "@jupyter-widgets/controls",
      "model_module_version": "1.5.0",
      "model_name": "ButtonStyleModel",
      "state": {}
     },
     "ce6ffe4c44b64b1ca306528e3b59ab33": {
      "model_module": "@jupyter-widgets/controls",
      "model_module_version": "1.5.0",
      "model_name": "VBoxModel",
      "state": {
       "_dom_classes": [
        "widget-interact"
       ],
       "children": [
        "IPY_MODEL_aa82fb0f38b84095853670d1538847e8",
        "IPY_MODEL_2eb18f2c3b174e3d9f16c511521c3a3a",
        "IPY_MODEL_52738e57dda447b28610f632ad6e8515",
        "IPY_MODEL_47962b76d6e947268be834810363d6ce",
        "IPY_MODEL_bda0d1cb3e6049fb98072d167aaf76ce",
        "IPY_MODEL_730a8bad02334a158d27da284074e428",
        "IPY_MODEL_3f949c29c7f84bb99d64d5013d6ac988",
        "IPY_MODEL_d89790b086a94a5ab48b4d4d557c53ac",
        "IPY_MODEL_a3bb17b1f86d44fa9eff546cdcce0029",
        "IPY_MODEL_578a308cf64449bb9219097f2288352a"
       ],
       "layout": "IPY_MODEL_b2c8a939051b406aa8fb7831a3d61150"
      }
     },
     "ce8286a65fee4aeabd352554a34b5218": {
      "model_module": "@jupyter-widgets/controls",
      "model_module_version": "1.5.0",
      "model_name": "DescriptionStyleModel",
      "state": {
       "description_width": ""
      }
     },
     "ceeafaa133ec4c00a01d03857458b237": {
      "model_module": "@jupyter-widgets/controls",
      "model_module_version": "1.5.0",
      "model_name": "FloatRangeSliderModel",
      "state": {
       "_model_name": "FloatRangeSliderModel",
       "_view_name": "FloatRangeSliderView",
       "continuous_update": false,
       "description": "Domínio de $\\Psi(x)$: ",
       "layout": "IPY_MODEL_defdc383c0d34935862daf651561b46a",
       "max": 150,
       "min": -150,
       "readout_format": "1d",
       "style": "IPY_MODEL_0fa9a3ce72e84af1a531618959e97555",
       "value": [
        -35,
        35
       ]
      }
     },
     "cf0d480e1e374dd2850b9c2a1cbefec0": {
      "model_module": "@jupyter-widgets/base",
      "model_module_version": "1.2.0",
      "model_name": "LayoutModel",
      "state": {}
     },
     "cf6b785e1b584aa49e882c6aea416fa3": {
      "model_module": "@jupyter-widgets/controls",
      "model_module_version": "1.5.0",
      "model_name": "ButtonModel",
      "state": {
       "description": "Plotar",
       "layout": "IPY_MODEL_c7c3eac67a594f518f4a58e91e6c9062",
       "style": "IPY_MODEL_0807ee3910f04c4aa9fad9440ab6b227"
      }
     },
     "d03d468ec0cc435099df56a1eddfd09e": {
      "model_module": "@jupyter-widgets/base",
      "model_module_version": "1.2.0",
      "model_name": "LayoutModel",
      "state": {}
     },
     "d0a90d3a63774597a42d8719b876ee0f": {
      "model_module": "@jupyter-widgets/controls",
      "model_module_version": "1.5.0",
      "model_name": "SliderStyleModel",
      "state": {
       "description_width": "initial"
      }
     },
     "d0b47e329f7642d7917cb5df44c6c9e6": {
      "model_module": "@jupyter-widgets/controls",
      "model_module_version": "1.5.0",
      "model_name": "ButtonModel",
      "state": {
       "description": "Morse",
       "layout": "IPY_MODEL_218e4959c78b49149752ed6fb8dc3ead",
       "style": "IPY_MODEL_e4b7543f69194c6090c99b38ac8f59ab"
      }
     },
     "d1ce643835194bfd855093389feba289": {
      "model_module": "@jupyter-widgets/controls",
      "model_module_version": "1.5.0",
      "model_name": "ButtonStyleModel",
      "state": {}
     },
     "d31d32ef91c947da8cff2d564e82274d": {
      "model_module": "@jupyter-widgets/controls",
      "model_module_version": "1.5.0",
      "model_name": "ButtonModel",
      "state": {
       "description": "Pöschl–Teller",
       "layout": "IPY_MODEL_a00765e1c18445e3b636b7a076eada86",
       "style": "IPY_MODEL_0df8f33e61eb404ba9d28e6faf29b9eb"
      }
     },
     "d32f72f8df1b4819996e767c7e9293a7": {
      "model_module": "@jupyter-widgets/controls",
      "model_module_version": "1.5.0",
      "model_name": "ButtonStyleModel",
      "state": {}
     },
     "d353454f30fe4ffc928f8ea2495c9680": {
      "model_module": "@jupyter-widgets/base",
      "model_module_version": "1.2.0",
      "model_name": "LayoutModel",
      "state": {}
     },
     "d4175d26d4e94c02889a3fe6f1b8d1a3": {
      "model_module": "@jupyter-widgets/controls",
      "model_module_version": "1.5.0",
      "model_name": "IntRangeSliderModel",
      "state": {
       "_model_name": "IntRangeSliderModel",
       "_view_name": "IntRangeSliderView",
       "continuous_update": false,
       "description": "Plotar estados:",
       "layout": "IPY_MODEL_defdc383c0d34935862daf651561b46a",
       "max": 20,
       "style": "IPY_MODEL_996c895e0a604124b20b4b6009eba955",
       "value": [
        0,
        10
       ]
      }
     },
     "d476b25a30d940ffb17e23fec12a71fd": {
      "model_module": "@jupyter-widgets/controls",
      "model_module_version": "1.5.0",
      "model_name": "GridBoxModel",
      "state": {
       "children": [
        "IPY_MODEL_52612c3462c34e7b8d274ea81b0d2994",
        "IPY_MODEL_94efc167ecbf4cd69c0f6ce06fff960e",
        "IPY_MODEL_0d3f319df1d14fb4bf1377327379fe67",
        "IPY_MODEL_86cea94cae554dd98ad2204ed1f86c9b",
        "IPY_MODEL_898c77a970784f128aefaadbc06d4f07",
        "IPY_MODEL_94f8a2cc3c1b4a0d80ce31c53153aade",
        "IPY_MODEL_efa481b6019b49ed8e312b8cc1db88dd",
        "IPY_MODEL_d5e84ff0662d4ed499e818e3f4b6499c",
        "IPY_MODEL_734eb79dce0f4c4bbd9fc50ff4bc98f0",
        "IPY_MODEL_d83d501e4b74488aa99e7785c53ba7f4"
       ],
       "layout": "IPY_MODEL_6b63f91586944a89af1118e60717f253"
      }
     },
     "d489b1ab4ef64ec38d967f44ec3eecd4": {
      "model_module": "@jupyter-widgets/controls",
      "model_module_version": "1.5.0",
      "model_name": "IntSliderModel",
      "state": {
       "description": "Largura da imagem (polegadas):",
       "layout": "IPY_MODEL_defdc383c0d34935862daf651561b46a",
       "max": 20,
       "style": "IPY_MODEL_2695fa60a1ff4982aa6452ca858ba270",
       "value": 12
      }
     },
     "d53fc7f16cac4d6fb7d54b7312413a86": {
      "model_module": "@jupyter-widgets/controls",
      "model_module_version": "1.5.0",
      "model_name": "DescriptionStyleModel",
      "state": {
       "description_width": ""
      }
     },
     "d5e84ff0662d4ed499e818e3f4b6499c": {
      "model_module": "@jupyter-widgets/controls",
      "model_module_version": "1.5.0",
      "model_name": "LabelModel",
      "state": {
       "layout": "IPY_MODEL_5031178a716c4998aaa0c6613977099d",
       "style": "IPY_MODEL_5944414910fe4fc5877a1cb4592777a0",
       "value": "0.05*abs(x/ang)-1.5"
      }
     },
     "d66024ac05984b76a035f0b9a8b0b4bb": {
      "model_module": "@jupyter-widgets/controls",
      "model_module_version": "1.5.0",
      "model_name": "GridBoxModel",
      "state": {
       "children": [
        "IPY_MODEL_31725bfb01d24afa80acdd210fe1254c",
        "IPY_MODEL_2fcfbc91ca8246f089ae59c5bc18cc40",
        "IPY_MODEL_d85555ab3a39451d9fa86da5592193e8",
        "IPY_MODEL_3dab0863d2874bd69cea4e88c6ef8925",
        "IPY_MODEL_e165b6dbeb354fa9834ae84b0f45faad",
        "IPY_MODEL_6c9b63e12b134de9beddaa341ebbb697",
        "IPY_MODEL_4445e8d45b5d45fd9a048a6c1793a786",
        "IPY_MODEL_dc1321c8f7f645c895da681eb4dea3b0",
        "IPY_MODEL_c66b3e4aeb7345baac6299e0b606a788",
        "IPY_MODEL_54691dd00a1049a4b1d9ac1d0fcaeb1f"
       ],
       "layout": "IPY_MODEL_f6e1f2ed95c74e43a4e9ec5066174013"
      }
     },
     "d83d501e4b74488aa99e7785c53ba7f4": {
      "model_module": "@jupyter-widgets/controls",
      "model_module_version": "1.5.0",
      "model_name": "LabelModel",
      "state": {
       "layout": "IPY_MODEL_b8f611d78a564e918e3164ac51033688",
       "style": "IPY_MODEL_24e68b8416c74c8c86d17d1001326961",
       "value": " 550"
      }
     },
     "d85555ab3a39451d9fa86da5592193e8": {
      "model_module": "@jupyter-widgets/controls",
      "model_module_version": "1.5.0",
      "model_name": "ButtonModel",
      "state": {
       "description": "Campo Uniforme (+)",
       "layout": "IPY_MODEL_5f9000d87f364921a2b61c1b738af9db",
       "style": "IPY_MODEL_7a3a4a310ff9497db9760887b614c3fb"
      }
     },
     "d89790b086a94a5ab48b4d4d557c53ac": {
      "model_module": "@jupyter-widgets/controls",
      "model_module_version": "1.5.0",
      "model_name": "CheckboxModel",
      "state": {
       "description": "Auto limitar eixo y",
       "disabled": false,
       "layout": "IPY_MODEL_8454b2b169c64ee9a6c924ff5a66acc5",
       "style": "IPY_MODEL_6e506c7f82aa4464b68d81accc256001",
       "value": true
      }
     },
     "daa13c9f871643f5a27f621d8301fafd": {
      "model_module": "@jupyter-widgets/controls",
      "model_module_version": "1.5.0",
      "model_name": "LabelModel",
      "state": {
       "layout": "IPY_MODEL_a34dacdf6af4451da641ffa5f6e67a0c",
       "style": "IPY_MODEL_93ce1630615f4bb29b508781350a4e29",
       "value": "[-1.49681 , 0.25000]"
      }
     },
     "db7fddd411c34f52a61f0e1fc94bffdc": {
      "model_module": "@jupyter-widgets/base",
      "model_module_version": "1.2.0",
      "model_name": "LayoutModel",
      "state": {}
     },
     "dc1321c8f7f645c895da681eb4dea3b0": {
      "model_module": "@jupyter-widgets/controls",
      "model_module_version": "1.5.0",
      "model_name": "ButtonModel",
      "state": {
       "description": "Lennard Jones",
       "layout": "IPY_MODEL_759e1ea77cc74ce293861b5fb99751ef",
       "style": "IPY_MODEL_6c3873f77d4d4a7e99f90d21a6f3f993"
      }
     },
     "dc402b5402de4ec1bea4a20ba797506e": {
      "model_module": "@jupyter-widgets/base",
      "model_module_version": "1.2.0",
      "model_name": "LayoutModel",
      "state": {}
     },
     "dd3b33e50b734c95a1350ca69dd532c4": {
      "model_module": "@jupyter-widgets/base",
      "model_module_version": "1.2.0",
      "model_name": "LayoutModel",
      "state": {}
     },
     "de362d051542480c8b4042f5d3a5c95c": {
      "model_module": "@jupyter-widgets/controls",
      "model_module_version": "1.5.0",
      "model_name": "VBoxModel",
      "state": {
       "_dom_classes": [
        "widget-interact"
       ],
       "children": [
        "IPY_MODEL_d4175d26d4e94c02889a3fe6f1b8d1a3",
        "IPY_MODEL_9d8b5c928c35434ca1fe9dccabddc239",
        "IPY_MODEL_ee27590d50424368bfd8dc28b487f61d",
        "IPY_MODEL_d489b1ab4ef64ec38d967f44ec3eecd4",
        "IPY_MODEL_38157c4bb644452ba26b501930e5579f",
        "IPY_MODEL_8603ccb9703f4a67bd0bfffc3e633ae5",
        "IPY_MODEL_8e5775df4ac7434081ddb7dea5b96538",
        "IPY_MODEL_e1c3d62bf3f54efb9a1a21ff4aa7cf05",
        "IPY_MODEL_5ec627d183194a82937b5e1a7bad2ac9",
        "IPY_MODEL_42d7caf626e44752910e6289ec772288"
       ],
       "layout": "IPY_MODEL_9ed5e57eaec245a3b37922b6c1383c28"
      }
     },
     "defdc383c0d34935862daf651561b46a": {
      "model_module": "@jupyter-widgets/base",
      "model_module_version": "1.2.0",
      "model_name": "LayoutModel",
      "state": {
       "display": "flex",
       "width": "90%"
      }
     },
     "df3a2d78ad5141388a3382c6eb033b16": {
      "model_module": "@jupyter-widgets/output",
      "model_module_version": "1.0.0",
      "model_name": "OutputModel",
      "state": {
       "layout": "IPY_MODEL_419c8408805047819ed583cf73321204",
       "outputs": [
        {
         "data": {
          "image/png": "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\n",
          "text/plain": "<Figure size 864x576 with 1 Axes>"
         },
         "metadata": {
          "needs_background": "light"
         },
         "output_type": "display_data"
        }
       ]
      }
     },
     "e06381008628400c86b49eb54b0f4f25": {
      "model_module": "@jupyter-widgets/base",
      "model_module_version": "1.2.0",
      "model_name": "LayoutModel",
      "state": {}
     },
     "e165b6dbeb354fa9834ae84b0f45faad": {
      "model_module": "@jupyter-widgets/controls",
      "model_module_version": "1.5.0",
      "model_name": "ButtonModel",
      "state": {
       "description": "Oscilador Harmônico",
       "layout": "IPY_MODEL_4465997660ba43cb860c978ddf964e60",
       "style": "IPY_MODEL_835c721aa3534739a8194d3964d88aad"
      }
     },
     "e1c3d62bf3f54efb9a1a21ff4aa7cf05": {
      "model_module": "@jupyter-widgets/controls",
      "model_module_version": "1.5.0",
      "model_name": "CheckboxModel",
      "state": {
       "description": "Auto limitar eixo y",
       "disabled": false,
       "layout": "IPY_MODEL_cf0d480e1e374dd2850b9c2a1cbefec0",
       "style": "IPY_MODEL_baba5663eff449c9b5909cd4fc5fd58e",
       "value": true
      }
     },
     "e3af7dbc37134a6bafd0c5b99c5be6f2": {
      "model_module": "@jupyter-widgets/base",
      "model_module_version": "1.2.0",
      "model_name": "LayoutModel",
      "state": {
       "grid_template_columns": "repeat(2, 250px)"
      }
     },
     "e4b7543f69194c6090c99b38ac8f59ab": {
      "model_module": "@jupyter-widgets/controls",
      "model_module_version": "1.5.0",
      "model_name": "ButtonStyleModel",
      "state": {}
     },
     "e52fc79f56b24d1bb343b9277541e714": {
      "model_module": "@jupyter-widgets/controls",
      "model_module_version": "1.5.0",
      "model_name": "SliderStyleModel",
      "state": {
       "description_width": "initial"
      }
     },
     "e602f55378ff46ba91a3e6819c673654": {
      "model_module": "@jupyter-widgets/base",
      "model_module_version": "1.2.0",
      "model_name": "LayoutModel",
      "state": {}
     },
     "e64bce52b75644e99d4482fa35586a06": {
      "model_module": "@jupyter-widgets/controls",
      "model_module_version": "1.5.0",
      "model_name": "LabelModel",
      "state": {
       "layout": "IPY_MODEL_7d09909b238a4b9e8eb463c5b39f56f2",
       "style": "IPY_MODEL_c2919b958c6a440e9c7f8368c09e9c9d",
       "value": " 550"
      }
     },
     "e65814a2e88c44e6b8707fd5dbad6ad4": {
      "model_module": "@jupyter-widgets/base",
      "model_module_version": "1.2.0",
      "model_name": "LayoutModel",
      "state": {}
     },
     "e8c0c7c8941d446b84dcce546cd24060": {
      "model_module": "@jupyter-widgets/base",
      "model_module_version": "1.2.0",
      "model_name": "LayoutModel",
      "state": {}
     },
     "ea9d53fec136452db5e0f6a863b7ce35": {
      "model_module": "@jupyter-widgets/controls",
      "model_module_version": "1.5.0",
      "model_name": "DescriptionStyleModel",
      "state": {
       "description_width": "initial"
      }
     },
     "ead9099a474245e88ac3443a961fac1b": {
      "model_module": "@jupyter-widgets/controls",
      "model_module_version": "1.5.0",
      "model_name": "LabelModel",
      "state": {
       "layout": "IPY_MODEL_6c0219613a8a473b8e4a92792cc2b86e",
       "style": "IPY_MODEL_b9171eee3549401eac99437afe14d86c",
       "value": "V(x)[min,max] (eV) ="
      }
     },
     "eb65add524eb4830a0cede9db7cd87e8": {
      "model_module": "@jupyter-widgets/controls",
      "model_module_version": "1.5.0",
      "model_name": "VBoxModel",
      "state": {
       "_dom_classes": [
        "widget-interact"
       ],
       "children": [
        "IPY_MODEL_2dfeaea5249c45a485694ab2f0fa1ce4",
        "IPY_MODEL_02aa2d1edb3745128ee8231ac04ec373",
        "IPY_MODEL_8c3367d0c08341ed9fd171c26ac3f142",
        "IPY_MODEL_8e96abe4c3f34599a333f1567d6f293c",
        "IPY_MODEL_6351626f15b34bcb8cd083c3c5dfa16d"
       ],
       "layout": "IPY_MODEL_694a2dbf8e204a0f9b7f77bbd2e85604"
      }
     },
     "ec0ca6ede85349c9b811854ed6b1bc3f": {
      "model_module": "@jupyter-widgets/controls",
      "model_module_version": "1.5.0",
      "model_name": "SliderStyleModel",
      "state": {
       "description_width": "initial"
      }
     },
     "ec61aee38dcd4df98e80f65d39cebe18": {
      "model_module": "@jupyter-widgets/controls",
      "model_module_version": "1.5.0",
      "model_name": "DescriptionStyleModel",
      "state": {
       "description_width": "initial"
      }
     },
     "ee27590d50424368bfd8dc28b487f61d": {
      "model_module": "@jupyter-widgets/controls",
      "model_module_version": "1.5.0",
      "model_name": "DropdownModel",
      "state": {
       "_options_labels": [
        "densidades de probabilidades",
        "funções de onda (parte real, +)",
        "funções de onda (parte imaginária)"
       ],
       "description": "Plotar as",
       "index": 0,
       "layout": "IPY_MODEL_230a8415a61a435382882e982e1b2ccc",
       "style": "IPY_MODEL_6946f5dd6e884c5b832674db1eb07dbe"
      }
     },
     "ee80f28ce0e9406280b5989c01545677": {
      "model_module": "@jupyter-widgets/controls",
      "model_module_version": "1.5.0",
      "model_name": "CheckboxModel",
      "state": {
       "description": "Auto limitar eixo y",
       "disabled": false,
       "layout": "IPY_MODEL_6c01525c527743118c96ec35398751de",
       "style": "IPY_MODEL_9ca2f2153db44cfbb4b6349695cd7cb5",
       "value": true
      }
     },
     "ef6c9ee227454bc589f399039d07aad6": {
      "model_module": "@jupyter-widgets/base",
      "model_module_version": "1.2.0",
      "model_name": "LayoutModel",
      "state": {}
     },
     "efa481b6019b49ed8e312b8cc1db88dd": {
      "model_module": "@jupyter-widgets/controls",
      "model_module_version": "1.5.0",
      "model_name": "LabelModel",
      "state": {
       "layout": "IPY_MODEL_e06381008628400c86b49eb54b0f4f25",
       "style": "IPY_MODEL_746ebc7669534f259237ce72bb698133",
       "value": "Expressão V(x) ="
      }
     },
     "f24361dbb92c4acbae63a24762e6b5a5": {
      "model_module": "@jupyter-widgets/controls",
      "model_module_version": "1.5.0",
      "model_name": "ButtonModel",
      "state": {
       "description": "Lennard Jones",
       "layout": "IPY_MODEL_a889d795fc8c412ebb42b3ea34de08b4",
       "style": "IPY_MODEL_5dc6c5b3029b4033b9e06a0eaa0f8b0d"
      }
     },
     "f2ad61daccc04e0d83275db2b3bc3751": {
      "model_module": "@jupyter-widgets/controls",
      "model_module_version": "1.5.0",
      "model_name": "VBoxModel",
      "state": {
       "_dom_classes": [
        "widget-interact"
       ],
       "children": [
        "IPY_MODEL_86e5c18f345c46efb4b858194c506f9b",
        "IPY_MODEL_2ed11bd3a6a04f07966e1cdf2b2acf62",
        "IPY_MODEL_fe6717e9fc1e4f6aa40acefd94bc6929",
        "IPY_MODEL_0db6551a27764b66a04180af252feb9b",
        "IPY_MODEL_2e1fb7e918a94b8585efb9d815b22e36"
       ],
       "layout": "IPY_MODEL_10872907f13d46da9d3f2492f9b10d8f"
      }
     },
     "f4820f28a7a4487a82b30751138518eb": {
      "model_module": "@jupyter-widgets/controls",
      "model_module_version": "1.5.0",
      "model_name": "GridBoxModel",
      "state": {
       "children": [
        "IPY_MODEL_b8c554c533dc40f2b290407d9c2b749c",
        "IPY_MODEL_3141f2f00ada4bdc87afc6d8e7976999",
        "IPY_MODEL_957842537ee74abca2b786099aafdefa",
        "IPY_MODEL_4cac465219564cbba39a400302aa73f9",
        "IPY_MODEL_ead9099a474245e88ac3443a961fac1b",
        "IPY_MODEL_aaeb5c63b13347f0815f97391ca6c69f",
        "IPY_MODEL_8e5d2c1278a846d7b8f145019bfd06cc",
        "IPY_MODEL_4810cee0725640a7ae94573b1a244b79",
        "IPY_MODEL_acd752d96f4e4f058e163aeb683cb9e2",
        "IPY_MODEL_76a653af45114832b6e7c342e1a88640"
       ],
       "layout": "IPY_MODEL_9929fe0468d34b6f8d1d03f8da09ac95"
      }
     },
     "f599f8ae6912443288c0e3e171637440": {
      "model_module": "@jupyter-widgets/base",
      "model_module_version": "1.2.0",
      "model_name": "LayoutModel",
      "state": {}
     },
     "f6a5a48a16b94300b6fb64a6be65032e": {
      "model_module": "@jupyter-widgets/controls",
      "model_module_version": "1.5.0",
      "model_name": "VBoxModel",
      "state": {
       "children": [
        "IPY_MODEL_d476b25a30d940ffb17e23fec12a71fd",
        "IPY_MODEL_8f1845b16afb4739b037334eff1691ed"
       ],
       "layout": "IPY_MODEL_29eb9d82238b4d04b6a036b3e38b6b61"
      }
     },
     "f6e1f2ed95c74e43a4e9ec5066174013": {
      "model_module": "@jupyter-widgets/base",
      "model_module_version": "1.2.0",
      "model_name": "LayoutModel",
      "state": {
       "grid_template_columns": "repeat(auto-fill, 180px)"
      }
     },
     "f7020cf4822841168ecb4a0d53357409": {
      "model_module": "@jupyter-widgets/base",
      "model_module_version": "1.2.0",
      "model_name": "LayoutModel",
      "state": {}
     },
     "f78204ac1b1d4517a84be3b8bcbe9ac9": {
      "model_module": "@jupyter-widgets/controls",
      "model_module_version": "1.5.0",
      "model_name": "ButtonStyleModel",
      "state": {}
     },
     "f88c18c9d8284133a125f6920003227f": {
      "model_module": "@jupyter-widgets/base",
      "model_module_version": "1.2.0",
      "model_name": "LayoutModel",
      "state": {}
     },
     "f8b860f8b0b94539a1b8824ebaf22f31": {
      "model_module": "@jupyter-widgets/controls",
      "model_module_version": "1.5.0",
      "model_name": "DescriptionStyleModel",
      "state": {
       "description_width": ""
      }
     },
     "fa7690cecddf43878431495b9428c301": {
      "model_module": "@jupyter-widgets/base",
      "model_module_version": "1.2.0",
      "model_name": "LayoutModel",
      "state": {}
     },
     "fadef4ca2bf24bccb4605f953bb3a0d9": {
      "model_module": "@jupyter-widgets/controls",
      "model_module_version": "1.5.0",
      "model_name": "ButtonStyleModel",
      "state": {}
     },
     "fc77911291cb41a3b6b6e485917175b1": {
      "model_module": "@jupyter-widgets/controls",
      "model_module_version": "1.5.0",
      "model_name": "IntSliderModel",
      "state": {
       "continuous_update": false,
       "description": "Número de pontos: ",
       "layout": "IPY_MODEL_defdc383c0d34935862daf651561b46a",
       "max": 1050,
       "min": 50,
       "step": 10,
       "style": "IPY_MODEL_156cc28434ad4aebaea8b08abee8d8b9",
       "value": 550
      }
     },
     "fe149d82730b4c2e8a39889166a138eb": {
      "model_module": "@jupyter-widgets/controls",
      "model_module_version": "1.5.0",
      "model_name": "DescriptionStyleModel",
      "state": {
       "description_width": ""
      }
     },
     "fe6717e9fc1e4f6aa40acefd94bc6929": {
      "model_module": "@jupyter-widgets/controls",
      "model_module_version": "1.5.0",
      "model_name": "TextModel",
      "state": {
       "description": "Expressão de $V(x)$: ",
       "layout": "IPY_MODEL_5e001233358d4bf7a3fc2911f4c6a8d3",
       "placeholder": "Escreva a expressão aqui.",
       "style": "IPY_MODEL_ea9d53fec136452db5e0f6a863b7ce35",
       "value": "0.05*abs(x/ang)-1.5"
      }
     },
     "fe9617ec7fcb4926a5fd70d5e09799d5": {
      "model_module": "@jupyter-widgets/base",
      "model_module_version": "1.2.0",
      "model_name": "LayoutModel",
      "state": {}
     },
     "feec5a99a5ca41ad9c6c7d453837dec4": {
      "model_module": "@jupyter-widgets/base",
      "model_module_version": "1.2.0",
      "model_name": "LayoutModel",
      "state": {}
     }
    },
    "version_major": 2,
    "version_minor": 0
   }
  }
 },
 "nbformat": 4,
 "nbformat_minor": 5
}
