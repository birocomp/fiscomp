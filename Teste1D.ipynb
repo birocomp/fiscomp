{
 "cells": [
  {
   "cell_type": "code",
   "execution_count": 3,
   "id": "2b172b49",
   "metadata": {
    "tags": []
   },
   "outputs": [
    {
     "data": {
      "application/vnd.jupyter.widget-view+json": {
       "model_id": "82b4352b8110416ea39382bdafa2c42a",
       "version_major": 2,
       "version_minor": 0
      },
      "text/plain": [
       "Tab(children=(VBox(children=(interactive(children=(FloatRangeSlider(value=(-50.0, 50.0), continuous_update=Fal…"
      ]
     },
     "metadata": {},
     "output_type": "display_data"
    }
   ],
   "source": [
    "import numpy as np\n",
    "import scipy.sparse as sparse\n",
    "import matplotlib.pyplot as plt\n",
    "from numba import jit\n",
    "import ipywidgets as wid\n",
    "from ipywidgets import interactive\n",
    "\n",
    "RY=13.60566 #x*RY: Rydberg -> ev\n",
    "ang=1.88972 #X/ang: raio de bohr -> angstroms\n",
    "\n",
    "def diagg(boo):\n",
    "    global x,psi,prob,eig,V,L\n",
    "    \n",
    "    @jit\n",
    "    def diagH(H,V):\n",
    "        H=H+V\n",
    "        eig, psi=np.linalg.eigh(H) #Resolve o sistema e atribui-se: eig=autovalores, psi=autovetores\n",
    "        prob=np.abs(psi)**2 #Atribui a densidade de probabilidade |Psi|² a variável prob\n",
    "        return H,V,psi,prob,eig\n",
    "    \n",
    "    N=x.size #Armazena o tamanho do vetor posição e o comprimento do espaço que ele representa\n",
    "    \n",
    "    \n",
    "    a=- 1/(dx**2) #Define 'a' por conveniência\n",
    "    H=sparse.diags([a,-2*a,a],[-1,0,1],shape=(N,N),dtype=np.float64).toarray() #Cria a matriz Hamiltoniano\n",
    "    H,V,psi,prob,eig=diagH(H,V)\n",
    "    \n",
    "    eig=eig*RY #Ryd->eV\n",
    "    x=x/ang #RBohr->angstroms\n",
    "    DIAG.disabled=True\n",
    "    DIAG.description='Diagonalizado!'\n",
    "    \n",
    "def syst(xx,N):   \n",
    "    global x,dx,V\n",
    "    \n",
    "    def vetores(xx,N):\n",
    "        xmin,xmax=xx\n",
    "        x,dx=np.linspace(xmin*ang,xmax*ang, N, retstep=True,dtype=np.float64) #Define o vetor posição (raio de bohr)\n",
    "        return x,dx,xmin,xmax\n",
    "    \n",
    "    def pot(N):\n",
    "        V=sparse.diags([0],[0],shape=(N,N),dtype=np.float64).toarray() #Cria uma matriz NxN com o potencial V(x)\n",
    "        return V\n",
    "    \n",
    "    x,dx,xmin,xmax=vetores(xx,N)\n",
    "    L=(x.max()-x.min())\n",
    "    V=pot(N)\n",
    "    info.children[1].value=f\"{dx/ang: .2f}\"\n",
    "    info.children[3].value=f\"{L/ang: .2f}\"\n",
    "    \n",
    "    \n",
    "#    fig1, ax1= plt.subplots(figsize=(12,8))\n",
    "    \n",
    "#    ax1.set_xlabel('$x (\\AA)$')\n",
    "#    ax1.set_ylabel('Potencial (eV)')   \n",
    "#    plt.plot(x,np.diag(V)*RY,'k-',label='$V(x)$')\n",
    "#    plt.axvline(x=x.min(),color='k',ls='--',label='x mínimo')\n",
    "#    plt.axvline(x=x.max(),color='k',ls='--',label='x máximo')\n",
    "#    leg=plt.legend(loc='upper right')\n",
    "    DIAG.disabled=False\n",
    "    DIAG.description='Diagonalizar'\n",
    "    return V,x,dx,xmin,xmax\n",
    "    \n",
    "def plotall(NES,limx,wav,xs,ys):\n",
    "    global V\n",
    "    #V=np.diag(V,k=0)\n",
    "    fig, ax= plt.subplots(figsize=(xs,ys))\n",
    "    nmin,nmax=NES\n",
    "    \n",
    "    ax.set_xlim([x.min()-limx, x.max()+ limx])\n",
    "    ax.set_xlabel('$x (\\AA)$')\n",
    "    ax.set_ylabel('Auto energias (eV)')\n",
    "    \n",
    "    if wav==1:\n",
    "        for i in range(nmax,nmin-1,-1):\n",
    "            fig=plt.plot(x,prob[:,i]+eig[i], \n",
    "                         label=f'$E_{i}={eig[i]:2f}$ eV')\n",
    "    elif wav==2:\n",
    "        for i in range(nmax,nmin-1,-1):\n",
    "            fig=plt.plot(x,np.real(-1*psi[:,i])+eig[i], \n",
    "                         label=f'$E_{i}={eig[i]:2f}$ eV')\n",
    "    elif wav==3:\n",
    "        for i in range(nmax,nmin-1,-1):\n",
    "            fig=plt.plot(x,np.real(psi[:,i])+eig[i], \n",
    "                         label=f'$E_{i}={eig[i]:2f}$ eV')\n",
    "    elif wav==4:\n",
    "        for i in range(nmax,nmin-1,-1):\n",
    "            fig=plt.plot(x,np.imag(psi[:,i])+eig[i], \n",
    "                         label=f'$E_{i}={eig[i]:2f}$ eV')\n",
    "            \n",
    "    fig=plt.axvline(x=x.min(),color='k',ls='--')\n",
    "    fig=plt.axvline(x=x.max(),color='k',ls='--')\n",
    "    #fig=plt.plot(x,V,'k',label='V($x$)')\n",
    "    leg=plt.legend(loc='upper right')\n",
    "    plt.show()\n",
    "\n",
    "lslider=wid.Layout(width='90%', display='flex');\n",
    "sty = {'description_width': 'initial'};\n",
    "\n",
    "\n",
    "DIAG=wid.Button(description='Diagonalizar',\n",
    "                disabled=True)\n",
    "\n",
    "SYST=interactive(syst, {'manual': True}, \n",
    "                    xx=wid.FloatRangeSlider(\n",
    "                        value=[-50.0, 50.0],\n",
    "                        min=-150.0,\n",
    "                        max=150.0,\n",
    "                        step=1,\n",
    "                        continuous_update=False,\n",
    "                        orientation='horizontal',\n",
    "                        readout_format='1d',\n",
    "                        layout=lslider,\n",
    "                        description=('Domínio de $\\Psi(x)$: '),\n",
    "                        style=sty),\n",
    "                    N=wid.IntSlider(value=500,\n",
    "                        min=50,\n",
    "                        max=5000,\n",
    "                        step=10,\n",
    "                        continuous_update=False, \n",
    "                        layout=lslider,\n",
    "                        description=('Número de pontos: '),\n",
    "                        style=sty))\n",
    "\n",
    "\n",
    "PLOT=interactive(plotall, {'manual': True}, \n",
    "                    NES=wid.IntRangeSlider(\n",
    "                        value=[0, 3],\n",
    "                        min=0,\n",
    "                        max=10,\n",
    "                        step=1,\n",
    "                        description='Número de estados:',\n",
    "                        continuous_update=False,\n",
    "                        orientation='horizontal',\n",
    "                        readout_format='.1d',\n",
    "                        layout=lslider,\n",
    "                        style=sty),\n",
    "                    limx=wid.IntSlider(\n",
    "                        value=20,\n",
    "                        min=0,\n",
    "                        max=80,\n",
    "                        step=1,\n",
    "                        description='Margens horizontais em $x$:   ',\n",
    "                        continuous_update=False,\n",
    "                        layout=lslider,\n",
    "                        style=sty),\n",
    "                    wav=wid.Dropdown(\n",
    "                        options=[('densidades de probabilidades',1),\n",
    "                                 ('Funções de onda (parte real, +)',2),\n",
    "                                 ('Funções de onda (parte real, -)',3),\n",
    "                                 ('Funções de onda (parte imaginária)',4)],\n",
    "                        value=1,\n",
    "                        description='Plotar as',\n",
    "                        continuous_update=False,\n",
    "                        style=sty),\n",
    "                    xs=wid.BoundedIntText(\n",
    "                        value=16,\n",
    "                        min=0,\n",
    "                        max=20,\n",
    "                        step=1,\n",
    "                        description='Tamanho da figura (X):',\n",
    "                        continuous_update=False,\n",
    "                        style=sty),\n",
    "                    ys=wid.BoundedIntText(\n",
    "                        value=9,\n",
    "                        min=0,\n",
    "                        max=20,\n",
    "                        step=1,\n",
    "                        description='Tamanho da figura (Y):',\n",
    "                        continuous_update=False,\n",
    "                        style=sty))\n",
    "\n",
    "items = [wid.Label('Passo $\\Delta x (Å)$ ='), wid.Label('dx'), \n",
    "            wid.Label('Largura do domínio $(Å)$ ='), wid.Label('L')]\n",
    "info=wid.GridBox(items, layout=wid.Layout(grid_template_columns=\"repeat(2, 200px)\"))\n",
    "\n",
    "SYST.children[2].description=('Gerar');\n",
    "PLOT.children[5].description=('Plotar');\n",
    "DIAG.on_click(diagg)\n",
    "\n",
    "uip=wid.VBox([SYST,info,DIAG])\n",
    "\n",
    "tab=wid.Tab(children=[uip,PLOT])\n",
    "tab.set_title(0, 'Gerar o Sistema')\n",
    "tab.set_title(1, 'Funções de Onda')\n",
    "\n",
    "display(tab)"
   ]
  },
  {
   "cell_type": "markdown",
   "id": "ef823dda",
   "metadata": {},
   "source": [
    "***\n",
    "# Como usar\n",
    "\n",
    "* 1. Execute o código acima.\n",
    "\n",
    "* 2. Na aba 'Gerar o Sistema' escolha os parâmetros e clique em 'Gerar' para gerar a equação matricial.\n",
    "    * Domínio de $\\Psi(x)$: o intervalo fechado $X=[x_{min},x_{max}]$ onde a função de onda será descrita.\n",
    "    * Número de pontos: o número de pontos que serão usados para descrever a função de onda.\n",
    "    \n",
    "* 3. Clique em 'Diagonalizar' para resolver o sistema matricial. \n",
    "\n",
    "* 4. Na aba 'Funções de Onda' escolha os parâmetros do plot e clique em 'Plotar'.\n",
    "\n",
    "***"
   ]
  },
  {
   "cell_type": "code",
   "execution_count": null,
   "id": "86ed8549",
   "metadata": {},
   "outputs": [],
   "source": []
  }
 ],
 "metadata": {
  "hide_input": false,
  "kernelspec": {
   "display_name": "Python 3",
   "language": "python",
   "name": "python3"
  },
  "language_info": {
   "codemirror_mode": {
    "name": "ipython",
    "version": 3
   },
   "file_extension": ".py",
   "mimetype": "text/x-python",
   "name": "python",
   "nbconvert_exporter": "python",
   "pygments_lexer": "ipython3",
   "version": "3.9.5"
  },
  "toc": {
   "base_numbering": 1,
   "nav_menu": {},
   "number_sections": true,
   "sideBar": true,
   "skip_h1_title": false,
   "title_cell": "Table of Contents",
   "title_sidebar": "Contents",
   "toc_cell": false,
   "toc_position": {},
   "toc_section_display": true,
   "toc_window_display": false
  },
  "widgets": {
   "application/vnd.jupyter.widget-state+json": {
    "state": {
     "00dbf525b7bc4555b5811f5e5c8cde02": {
      "model_module": "@jupyter-widgets/controls",
      "model_module_version": "1.5.0",
      "model_name": "TabModel",
      "state": {
       "_titles": {
        "0": "Gerar o Sistema",
        "1": "Funções de Onda"
       },
       "children": [
        "IPY_MODEL_eeb3ea769f7a4a54ba58caac1fbc947b",
        "IPY_MODEL_722ff1cef34a45d19101185f1eed92ca"
       ],
       "layout": "IPY_MODEL_5978b74be5f14865a1b020756b861f4b",
       "selected_index": 1
      }
     },
     "014f3e6a760c49bd8a9f54ce792df4fd": {
      "model_module": "@jupyter-widgets/output",
      "model_module_version": "1.0.0",
      "model_name": "OutputModel",
      "state": {
       "layout": "IPY_MODEL_da3a92a5f6e84b6fa54b313b8600f476",
       "outputs": [
        {
         "data": {
          "image/png": "iVBORw0KGgoAAAANSUhEUgAAAt8AAAHlCAYAAAAtA5CSAAAAOXRFWHRTb2Z0d2FyZQBNYXRwbG90bGliIHZlcnNpb24zLjQuMiwgaHR0cHM6Ly9tYXRwbG90bGliLm9yZy8rg+JYAAAACXBIWXMAAAsTAAALEwEAmpwYAAAx+klEQVR4nO3df7hWdZ3v/+cbfxHqqIGSiQ04ipJiWFD+mFEMtHQEnXTQCU2OnUGtpiinrz+GLMPxsjmiVKZfPY2DOmkQzRg6zjhCUTk6KSYnNcVIacRjKmiOCpjQ+/yxb2iLG/aGvdcP9no+rouLfa973Xu99uLe8OKzP+uzIjORJEmSVLw+VQeQJEmSmsLyLUmSJJXE8i1JkiSVxPItSZIklcTyLUmSJJXE8i1JkiSVZNuqA5RpwIABOXjw4FKP+dRTTwEwZMiQUo8rSZLUZFV2sAcffHB5Zu7e0XONKt+DBw9m4cKFpR5z9OjRACxYsKDU40qSJDVZlR0sIn61seecdiJJkiSVxPItSZIklcTyLUmSJJWkUXO+q3DYYYdVHUGSJAmAN954g2XLlrF69eqqoxTusssuA+Cxxx4r7Bh9+/Zl0KBBbLfddl1+TWRmYYHqZuTIkVn2BZeSJEl18dRTT7HzzjvTv39/IqLqOFu1zGTFihW88sorb1lRJSIezMyRHb3OaSeSJEkNsXr1aot3D4kI+vfvv9k/RbB8F+zkk0/m5JNPrjqGJEkSQGOK95IlS1iyZEmhx9iSc+mc74KtWLGi6giSJEmNs3bt2qojdMiRb0mSJKkklm9JkiSV5pe//CXDhw9/07bXX3+dIUOG8Oijj3LUUUdtctT6t7/9LUceeSRr1qwpOmohLN+SJEkqzZAhQ1i2bBm/+93v1m+7/vrrOfLII1mwYAEf+chH2GabbTb6+u23354xY8Ywa9asMuL2OMt3wcaMGcOYMWOqjiFJklQLffr04V3vehdLly4FYNWqVUyfPp1LLrmEb33rW5x44onr9z366KO5++67AZg6dSp/9Vd/BcBJJ53Et771rU0eZ+edd2bnnXcu5ovoBi+4LNgXvvCFqiNIkiS9xZQpU1i0aFGPfs4RI0YwY8aMTvcbNmwYjz/+OPvssw/f+MY3GDduHO985zt58sknGTx48Pr9LrnkEi6++GKef/55HnroIebOnQvAQQcdxAMPPLDJY7zzne/szpdSGMu3JEmSSjVs2DAWL17MkUceydVXX81PfvITli9fzq677vqm/Y488kgykyuvvJIFCxasn46yzTbbsP322/PKK6/UcnR7UyzfBTvuuOMA+Nd//deKk0iSJP1eV0aoizJs2DDmz5/PV7/6VSZOnMjAgQN56aWX3nLDmocffphnn32W/v37v6Vkv/766/Tt23ejx3jiiScAGDp0aM9/Ad3gnO+CrVq1ilWrVlUdQ5IkqTaGDRvG/fffzw033MDnP/95AHbbbTfWrl27voA/++yzTJw4ke9973vstNNO/Nu//dv6169YsYIBAwaw3XbbbfQYmUlmFvuFbAHLtyRJkko1dOhQHn74YSZPnvymqSbHHnss99xzDytXruQjH/kI06dPZ9iwYXzhC1/gkksuWb/fD37wA/70T/+0guTd57QTSZIklWqHHXbocJ3uT37yk1x11VWMHTuW++67b/32I4888k2Pb7nlFi6//PJSsvY0R74lSZJUC+9973s5+uijO73JzkknnVS7udxd5ch3wU444YSqI0iSJG01zjrrrE0+v/322/Oxj32s08+zyy679FSkHmX5Lthf//VfVx1BkiSpcd7xjndUHaFDTjuRJEmSSmL5Ltjo0aMZPXp01TEkSZIaZfHixSxevLjqGG9h+ZYkSZJKYvmWJEnSVmnRokXceeedVcfYLJZvSZIkbXVee+01zjvvPEaOHLnRfZ577jlOOeWUElN1zvItSZKkrc4jjzzCVVddxR577LHRfQYOHMicOXNKTNU5y3fBJkyYwIQJE6qOIUmSVLkHHniAgw8+mNWrV/Paa69x4IEH8sgjj7xpn6VLl3LAAQcwadIkhg4dysSJE5k3bx5HHHEE++23H/fffz8Ajz32GNdffz0AkyZN4tOf/jSHH344++yzD3PmzGG33XbjlVde4aCDDgJg5syZnHTSSRxzzDEMHjyYq6++miuvvJJDDjmEQw89lBdffBFom8py6KGHcvDBB/Nnf/ZnvPTSSz16Dlznu2Cf+MQnqo4gSZLUoY5WZJswYQKf+MQnWLlyJccff/xbnp80aRKTJk1i+fLlb5nSsWDBgk0eb9SoUYwfP56pU6eyatUqTj/99PXluL0lS5bwne98hxtuuIFRo0Zxyy23cM899zB37lwuu+wybrvttre85tlnn+Wee+7h8ccfZ/z48SxZsoSVK1e+aZ9HHnmEhx56iNWrV7Pvvvvyla98hYceeojPfvaz3HTTTUyZMoWPfexjfP3rX+eoo47i4osv5pJLLmHGjBmb/Lo2h+W7YOv+0Pv161dxEkmSpOpdfPHFjBo1ir59+/K1r32tw32GDBnC8OHDATjwwAMZM2YMEcHw4cNZunRph6856aST6NOnD+9+97t57rnnWLt27VtuU3/00Uez8847s/POO7PLLrswbtw4AIYPH87PfvYzXn75ZX7zm99w1FFHAXDmmWfy53/+5z30lbexfBds3f8YO/ufoCRJUtk21U/69eu3yecHDBiwRf1mxYoVvPrqq7zxxhusXr2aHXfc8S377LDDDus/7tOnz/rHffr0Yc2aNR1+3vavyUyWLFnCsmXLuv15e5pzviVJklSas88+m2nTpjFx4kTOP//8quO8yS677MJuu+3Gj3/8YwBuvvnm9aPgPcWRb0mSJJXipptuYrvttuOjH/0oa9eu5fDDD+f73/8+H/zgB6uOtt6NN97IOeecw8qVK9lnn334h3/4hx79/JGZPfoJ62zkyJG5cOHCUo+57kIGp51IkqSqPfbYYwwbNqzqGKVYd2v5/fffv9DjdHROI+LBzOxwAXKnnUiSJEklcdpJwSZNmlR1BEmSpMbp379/1RE6ZPkumOVbkiSpfAMGDKg6QoecdlKw5cuXs3z58qpjSJIkNcobb7zBG2+8UXWMt3Dku2Dr7vzkBZeSJEnlefLJJ4HiL7jcXI58S5Ikaau1du1aZsyYUdpNcrrL8i1JkqSt1lVXXcVOO+3EtttuekLH3Llzufzyy0tKtXFOO5EkSdJW6Xe/+x0DBw7kjDPO6HTf8ePHM378+BJSbZoj35IkSSrFAw88wMEHH8zq1at57bXXOPDAA3nkkUfetM/SpUs54IADmDRpEkOHDmXixInMmzePI444gv3224/7778fgPvvv58jjjiCK6+8ksMPP3z9TXWuuuoqzjrrLKDtRjsHHXQQK1euZObMmXzqU58C2lajO/fcczn00EPZZ599WLBgAWeddRbDhg1700p1t956K8OHD+eggw7i/PPP75Fz4Mh3wc4999yqI0iSJHVo3Z2425swYQKf+MQnWLlyJccff/xbnp80aRKTJk1i+fLl6xeWWKezBSZGjRrF+PHjmTp1KqtWreL000/noIMOest+S5Ys4Tvf+Q433HADo0aN4pZbbuGee+5h7ty5XHbZZdx2220ccMAB/PjHP2bbbbflrrvu4qKLLuK73/0un/nMZxg9ejQ/+clPuPLKK7nuuuvo16/fW47x0ksvcd999zF37lzGjx/Pf/zHf/DNb36TUaNGsWjRIvbYYw/OP/98HnzwQXbbbTeOPfZYbrvtNk466aRNfo2dsXwX7NRTT606giRJUm1cfPHFjBo1ir59+/K1r32tw32GDBnC8OHDATjwwAMZM2YMEcHw4cNZunQpAK+88gp/+Zd/yTPPPENmsmLFCgD69OnDzJkzOfjggzn77LM54ogjOjzGuHHj1n/OgQMHvul4S5cu5Ve/+hWjR49m9913B2DixIn86Ec/snzX3dNPPw3A3nvvXXESSZKkN9vUSHW/fv02+fyAAQO2aCnlFStW8Oqrr/LGG2+wevVqdtxxx7fss8MOO6z/uE+fPusf9+nTZ/2qJlOnTuXoo4/mnHPO4amnnuLoo49e/5pf/OIX7LTTTixbtmyjOdp/zg2Pt2bNGrbbbrvN/tq6wjnfBTvjjDO6dBGAJElSE5x99tlMmzaNiRMndmse9UsvvbR+VHrmzJnrt7/88st8+tOfZubMmSxbtow5c+Zs0ed///vfzw9/+EOWL1/O2rVrufXWWznqqKO2OO86lm9JkiSV4qabbmK77bbjox/9KBdccAEPPPAA3//+97foc33+85/nwgsv5JBDDmHt2rXrt3/2s5/lk5/8JEOGDOFv//ZvueCCC3j++ec3+/PvueeeXH755Rx99NG85z3v4X3vex8nnnjiFmVtLzKz259kazFy5MhcuHBhqcdcdyGDd7iUJElVe+yxxxg2bFjVMUqxbvWTou9w2dE5jYgHM3NkR/s78i1JkiSVxPItSZIklcTVTgp23nnnVR1BkiSpcQYOHFh1hA5Zvgs2bty4qiNIkiStl5lERNUxCrfrrrsWfowtuXbSaScFW7x48foJ/5IkSVXq27cvK1as2KLSuLVZvXo1q1evLuzzr7uxT9++fTfrdZWOfEfEh4GvAtsA38zMyzd4fgfgJuB9wArg1Mxc2u75dwE/B76UmVeUlXtznH322YCrnUiSpOoNGjSIZcuW8cILL1QdpXC//vWvAXjHO95R2DH69u3LoEGDNus1lZXviNgG+AZwDLAMeCAi5mbmz9vt9nHgpczcNyJOA74CtL9f+5XAv5aVWZIkaWu23XbbMWTIkKpjlOLcc88F6jcAWuW0k/cDSzLzycz8LfBtYMOVy08Ebmx9PAcYE61JShFxEvAU8Gg5cSVJkqTuqbJ87wU83e7xsta2DvfJzDXAy0D/iNgJOB+4pLODRMTkiFgYEQub8CMWSZIk1dfWesHll4CrMvPVznbMzOszc2Rmjtx9992LTyZJkiRtRJUXXD4D7N3u8aDWto72WRYR2wK70Hbh5QeAUyLi74Bdgd9FxOrMvLrw1Jtp6tSpVUeQJElqnLp2sCrL9wPAfhExhLaSfRrw0Q32mQucCdwHnAJ8P9vWxvmTdTtExJeAV+tYvAHGjh1bdQRJkqTGqWsHq6x8Z+aaiPgUcBdtSw3ekJmPRsSXgYWZORf4e+DmiFgCvEhbQd+qLFq0CIARI0ZUmkOSJKlJ6trBogmLrK8zcuTIXLhwYanHHD16NFC/ZW4kSZJ6syo7WEQ8mJkjO3pua73gUpIkSdrqWL4lSZKkkli+JUmSpJJYviVJkqSSVLnUYCNcdtllVUeQJElqnLp2MMt3wQ4//PCqI0iSJDVOXTuY004Kdu+993LvvfdWHUOSJKlR6trBHPku2EUXXQS4zrckSVKZ6trBHPmWJEmSSmL5liRJkkpi+ZYkSZJKYvmWJEmSSuIFlwWbMWNG1REkSZIap64dzPJdsBEjRlQdQZIkqXHq2sGcdlKwefPmMW/evKpjSJIkNUpdO5gj3wW79NJLARg7dmzFSSRJkpqjrh3MkW9JkiSpJJZvSZIkqSSWb0mSJKkklm9JkiSpJF5wWbDrrruu6giSJEmNU9cOZvku2P777191BEmSpMapawdz2knBbr/9dm6//faqY0iSJDVKXTuYI98Fmz59OgDjxo2rOIkkSVJz1LWDOfItSZIklcTyLUmSJJXE8i1JkiSVxPItSZIklcQLLgt28803Vx1BkiSpcerawSzfBdt7772rjiBJktQ4de1gTjsp2KxZs5g1a1bVMSRJkhqlrh3Mke+CXXvttQCceuqpFSeRJElqjrp2MEe+JUmSpJJYviVJkqSSWL4lSZKkkli+JUmSpJJ4wWXB5syZU3UESZKkxqlrB7N8F2zAgAFVR5AkSWqcunYwp50UbObMmcycObPqGJIkSY1S1w5m+S5YXf/gJUmSerO6djDLtyRJklQSy7ckSZJUEsu3JEmSVBLLtyRJklQSlxos2J133ll1BEmSpMapawezfBesX79+VUeQJElqnLp2MKedFOyaa67hmmuuqTqGJElSo9S1g1m+CzZ79mxmz55ddQxJkqRGqWsHs3xLkiRJJbF8S5IkSSWxfEuSJEklsXxLkiRJJXGpwYItWLCg6giSJEmNU9cO5si3JEmSVBLLd8GuuOIKrrjiiqpjSJIkNUpdO5jlu2B33HEHd9xxR9UxJEmSGqWuHczyLUmSJJXE8i1JkiSVxPItSZIklcSlBgv2tre9reoIkiRJjVPXDhaZWXWG0owcOTIXLlxYdQxJkiT1YhHxYGaO7Og5p51IkiRJJbF8F2zatGlMmzat6hiSJEmNUtcOZvku2Pz585k/f37VMSRJkhqlrh3M8i1JkiSVxPItSZIklcTyLUmSJJXEdb4L1r9//6ojSJIkNU5dO5jrfEuSJEk9yHW+JUmSpBqotHxHxIcjYnFELImICzp4foeImNV6/icRMbi1/ZiIeDAiHm79/sHSw3fRhRdeyIUXXlh1DEmSpEapawerbM53RGwDfAM4BlgGPBARczPz5+12+zjwUmbuGxGnAV8BTgWWA+My8/9GxEHAXcBe5X4FXXPfffdVHUGSJKlx6trBqhz5fj+wJDOfzMzfAt8GTtxgnxOBG1sfzwHGRERk5kOZ+X9b2x8F3hYRO5SSWpIkSdpCVZbvvYCn2z1exltHr9fvk5lrgJeBDS9dPRn4aWa+3tFBImJyRCyMiIUvvPBCjwSXJEmStsRWfcFlRBxI21SUsze2T2Zen5kjM3Pk7rvvXl44SZIkaQNVrvP9DLB3u8eDWts62mdZRGwL7AKsAIiIQcA/Ax/LzF8WH3fLDBo0qOoIkiRJjVPXDlZl+X4A2C8ihtBWsk8DPrrBPnOBM4H7gFOA72dmRsSuwL8AF2Tmf5QXefP94z/+Y9URJEmSGqeuHayyaSetOdyfom2lkseA2Zn5aER8OSLGt3b7e6B/RCwBPgesW47wU8C+wMURsaj1a4+SvwRJkiRps3iHy4JNmTIFgBkzZpR6XEmSpCarsoNt6g6XVU47aYRFixZVHUGSJKlx6trBturVTiRJkqStieVbkiRJKonlW5IkSSqJc74LNnTo0KojSJIkNU5dO5irnUiSJEk9aFOrnTjtRJIkSSqJ5btgkydPZvLkyVXHkCRJapS6djDnfBfsiSeeqDqCJElS49S1gznyLUmSJJXE8i1JkiSVxPItSZIklcQ53wUbMWJE1REkSZIap64dzHW+JUmSpB7kOt+SJElSDVi+C3b66adz+umnVx1DkiSpUerawZzzXbBly5ZVHUGSJKlx6trBHPmWJEmSSmL5liRJkkpi+ZYkSZJK4pzvgh122GFVR5AkSWqcunYw1/mWJEmSepDrfEuSJEk1YPku2Mknn8zJJ59cdQxJkqRGqWsHc853wVasWFF1BEmSpMapawdz5FuSJEkqieVbkiRJKonlW5IkSSqJc74LNmbMmKojSJIkNU5dO5jrfEuSJEk9yHW+JUmSpBqwfBfsuOOO47jjjqs6hiRJUqPUtYM557tgq1atqjqCJElS49S1gznyLUmSJJXE8i1JkiSVxPItSZIklcQ53wU74YQTqo4gSZLUOHXtYK7zLUmSJPUg1/mWJEmSasDyXbDRo0czevToqmNIkiQ1Sl07WJfmfEfEHsARwDuBVcAjwMLM/F2B2SRJkqReZZPlOyKOBi4A3g48BDwP9AVOAv4oIuYA0zPzvwvOKUmSJG31Ohv5Ph74y8z8rw2fiIhtgROAY4DvFpBNkiRJ6lU6K9/TM/PXHT2RmWuA23o8kSRJktRLdVa+F0XEI8CtwHcz8zfFR+pdJkyYUHUESZKkxqlrB9vkOt8RsQ0wFjiNtiko/0lbEf9eZq4qJWEPcp1vSZIkFW2L1/nOzLWZeVdm/g9gb+AG4ETgqYj4Vs9H7X1WrlzJypUrq44hSZLUKHXtYF2+vXxm/jYifg48BrwPGFZYql7k+OOPB2DBggXVBpEkSWqQunawTm+yExF7R8TnI+KnwB2t14zPzPcWnk6SJEnqRTpb5/teYC9gNm1LDj5YSipJkiSpF+ps2skFwI9zU1dlSpIkSeqSzi64/FFmZkQMjYj5rWUHiYiDI2JqORElSZKk3qGrF1z+b+DzwHUAmfmziLgFuLSoYL3FpEmTqo4gSZLUOHXtYF0t3/0y8/6IaL9tTQF5ep26/sFLkiT1ZnXtYJ2udtKyPCL+CEiAiDgFeLawVL3I8uXLWb58edUxJEmSGqWuHayrI9+fBK4HDoiIZ4CngImFpepFTjnlFKB+a0xKkiT1ZnXtYF0q35n5JDA2InYE+mTmK8XGkiRJknqfTU47iYjTI2L9Ppn5WvviHRF/FBF/XGRASZIkqbfobOS7P/BQRDwIPAi8APQF9gWOApbTtha4JEmSpE5ssnxn5lcj4mrgg8ARwMHAKuAx4IzM/K/iI0qSJEm9Q6dzvjNzLXB365c207nnnlt1BEmSpMapaweLJt05fuTIkblw4cKqY0iSJKkXi4gHM3NkR891dZ1vbaGnn36ap59+uuoYkiRJjVLXDtbVdb61hc444wygfmtMSpIk9WZ17WCbLN8R8blNPZ+ZV/ZsHEmSJKn36mzke+dSUkiSJEkN0NlSg5eUFUSSJEnq7bo05zsi+gIfBw6k7SY7AGTmWQXlkiRJknqdrl5weTPwOPAh4MvARNputKNOnHfeeVVHkCRJapy6drAurfMdEQ9l5iER8bPMPDgitgN+nJmHFh+x57jOtyRJkorWE+t8v9H6/TcRcRCwC7BHDwT7cEQsjoglEXFBB8/vEBGzWs//JCIGt3vuwtb2xRHxoe5mKcrixYtZvHhx1TEkSZIapa4drKvTTq6PiN2ALwBzgZ2Ai7tz4IjYBvgGcAywDHggIuZm5s/b7fZx4KXM3DciTgO+ApwaEe8GTqNtDvo7gXkRMTQz13YnUxHOPvtsoH5rTEqSJPVmde1gXSrfmfnN1oc/BPbpoWO/H1iSmU8CRMS3gROB9uX7ROBLrY/nAFdHRLS2fzszXweeioglrc93Xw9l6zFLlizh1VdfZfTo0VVHkSRJaoxFixax0047VR3jLTq7yc7pmfmPG7vZTjdvsrMX0P6en8uAD2xsn8xcExEvA/1b2/9zg9fu1dFBImIyMBngXe96VzfiSpIkSd3T2cj3jq3ft9qb7WTm9cD10HbBZdnH33fffYH6/chDkiSpN6vrrIPObrJzXev3Im628wywd7vHg1rbOtpnWURsS9uFniu6+FpJkiSpVrp6k50bgc9k5m9aj3cDpnfzJjsPAPtFxBDaivNpwEc32GcucCZtc7lPAb6fmRkRc4FbIuJK2i643A+4vxtZCjN16tSqI0iSJDVOXTtYV1c7OXhd8QbIzJci4pDuHLg1h/tTwF3ANsANmfloRHwZWJiZc4G/B25uXVD5Im0FndZ+s2m7OHMN8Mk6rnQCMHbs2KojSJIkNU5dO1hXb7Lzf4DRmflS6/HbgR9m5vCC8/WoKm6ys2jRIgBGjBhR6nElSZKarMoOtqmb7HR15Hs6cF9EfAcI2qaA/G0P5evVpkyZAnjBpSRJUpnq2sG6us73TRHxIHB0a9NHNrgZjiRJkqROdHXkG+Bx4KV1r4mId2XmfxWSSpIkSeqFurrayV8BXwSeA9bSNvUkgYOLiyZJkiT1Ll0d+f4MsH9mrigyjCRJktSbdbV8Pw28XGSQ3uqyyy6rOoIkSVLj1LWDdbV8PwksiIh/AV5ftzEzrywkVS9y+OGHVx1BkiSpcerawbpavv+r9Wv71i910b333gvU9w0gSZLUG9W1g3XpJjvrd47ol5krC8xTqCpusjN69GigfmtMSpIk9WZVdrBN3WSnTxc/wWER8XPalhskIt4TEdf0YEZJkiSp1+tS+QZmAB8CVgBk5v8BjiwokyRJktQrdbV8k5lPb7BpbQ9nkSRJknq1Li81GBGHAxkR29G27vdjxcWSJEmSep+ulu9zgK8CewHPAP8OfKKoUL3JjBkzqo4gSZLUOHXtYF0t3/tn5sT2GyLiCOA/ej5S7zJixIiqI0iSJDVOXTtYV+d8f72L27SBefPmMW/evKpjSJIkNUpdO9gmR74j4jDgcGD3iPhcu6f+ANimyGC9xaWXXgrA2LFjK04iSZLUHHXtYJ1NO9ke2Km1387ttv83cEpRoSRJkqTeaJPlOzN/CPwwImZm5q8iYqfW9ldLSSdJkiT1Il294HLniHgIeDtARCwHzszMRwpLJkmSJPUyXb3g8nrgc5n5h5n5h8B5rW2SJEmSuqirI987ZuYP1j3IzAURsWNBmXqV6667ruoIkiRJjVPXDtbV8v1kRHwBuLn1+HTgyWIi9S77779/1REkSZIap64drKvTTs4Cdgf+CfguMKC1TZ24/fbbuf3226uOIUmS1Ch17WCdrfPdl7Zby+8LPAycl5lvlBGst5g+fToA48aNqziJJElSc9S1g3U28n0jMJK24n0c8L8KTyRJkiT1Up3N+X53Zg4HiIi/B+4vPpIkSZLUO3U28r1+iklmrik4iyRJktSrdTby/Z6I+O/WxwG8rfU4gMzMPyg0nSRJktSLdHZ7+W3KCtJb3XzzzZ3vJEmSpB5V1w7W1XW+tYX23nvvqiNIkiQ1Tl07WFfX+dYWmjVrFrNmzao6hiRJUqPUtYM58l2wa6+9FoBTTz214iSSJEnNUdcO5si3JEmSVBLLtyRJklQSy7ckSZJUEsu3JEmSVBIvuCzYnDlzqo4gSZLUOHXtYJbvgg0YMKDqCJIkSY1T1w7mtJOCzZw5k5kzZ1YdQ5IkqVHq2sEs3wWr6x+8JElSb1bXDmb5liRJkkpi+ZYkSZJKYvmWJEmSSmL5liRJkkriUoMFu/POO6uOIEmS1Dh17WCW74L169ev6giSJEmNU9cO5rSTgl1zzTVcc801VceQJElqlLp2MMt3wWbPns3s2bOrjiFJktQode1glm9JkiSpJJZvSZIkqSSWb0mSJKkklm9JkiSpJC41WLAFCxZUHUGSJKlx6trBHPmWJEmSSmL5LtgVV1zBFVdcUXUMSZKkRqlrB7N8F+yOO+7gjjvuqDqGJElSo9S1g1m+JUmSpJJYviVJkqSSWL4lSZKkkrjUYMHe9ra3VR1BkiSpcerawSIzq85QmpEjR+bChQurjiFJkqReLCIezMyRHT3ntBNJkiSpJJbvgk2bNo1p06ZVHUOSJKlR6trBLN8Fmz9/PvPnz686hiRJUqPUtYNZviVJkqSSWL4lSZKkkli+JUmSpJK4znfB+vfvX3UESZKkxqlrB3Odb0mSJKkH1W6d74h4e0TcHRG/aP2+20b2O7O1zy8i4szWtn4R8S8R8XhEPBoRl5ebXpIkSdoyVc35vgCYn5n7AfNbj98kIt4OfBH4APB+4IvtSvoVmXkAcAhwREQcV07szXfhhRdy4YUXVh1DkiSpUerawaqa830iMLr18Y3AAuD8Dfb5EHB3Zr4IEBF3Ax/OzFuBHwBk5m8j4qfAoBIyb5H77ruv6giSJEmNU9cOVtXI98DMfLb18a+BgR3ssxfwdLvHy1rb1ouIXYFxtI2edygiJkfEwohY+MILL3QrtCRJktQdhY18R8Q84B0dPPU37R9kZkbEZl/1GRHbArcCX8vMJze2X2ZeD1wPbRdcbu5xJEmSpJ5SWPnOzLEbey4inouIPTPz2YjYE3i+g92e4fdTU6BtasmCdo+vB36RmTO6n1aSJEkqXlXTTuYCZ7Y+PhP4Xgf73AUcGxG7tS60PLa1jYi4FNgFmFJ81O4ZNGgQgwbVdkq6JElSr1TXDlbJOt8R0R+YDbwL+BUwITNfjIiRwDmZ+T9b+50FXNR62d9m5j9ExCDa5oI/Drzeeu7qzPxmZ8d1nW9JkiQVbVPrfHuTHUmSJKkH1e4mO00yZcoUpkyZUnUMSZKkRqlrB6tqne/GWLRoUdURJEmSGqeuHcyRb0mSJKkklm9JkiSpJJZvSZIkqSTO+S7Y0KFDq44gSZLUOHXtYC41KEmSJPUglxqUJEmSasDyXbDJkyczefLkqmNIkiQ1Sl07mHO+C/bEE09UHUGSJKlx6trBHPmWJEmSSmL5liRJkkpi+ZYkSZJK4pzvgo0YMaLqCJIkSY1T1w7mOt+SJElSD3Kdb0mSJKkGLN8FO/300zn99NOrjiFJktQode1gzvku2LJly6qOIEmS1Dh17WCOfEuSJEklsXxLkiRJJbF8S5IkSSVxznfBDjvssKojSJIkNU5dO5jrfEuSJEk9yHW+JUmSpBqwfBfs5JNP5uSTT646hiRJUqPUtYM557tgK1asqDqCJElS49S1gznyLUmSJJXE8i1JkiSVxPItSZIklcQ53wUbM2ZM1REkSZIap64dzHW+JUmSpB7kOt+SJElSDVi+C3bcccdx3HHHVR1DkiSpUerawZzzXbBVq1ZVHUGSJKlx6trBHPmWJEmSSmL5liRJkkpi+ZYkSZJK4pzvgp1wwglVR5AkSWqcunYw1/mWJEmSepDrfEuSJEk1YPku2OjRoxk9enTVMSRJkhqlrh3M8i1JkiSVxPItSZIklcTyLUmSJJXE8i1JkiSVxHW+CzZhwoSqI0iSJDVOXTuY63xLkiRJPch1viu0cuVKVq5cWXUMSZKkRqlrB3PaScGOP/54ABYsWFBtEEmSpAapawdz5FuSJEkqieVbkiRJKonlW5IkSSqJ5VuSJEkqiRdcFmzSpElVR5AkSWqcunYw1/mWJEmSepDrfFdo+fLlLF++vOoYkiRJjVLXDua0k4KdcsopQP3WmJQkSerN6trBHPmWJEmSSmL5liRJkkpi+ZYkSZJKYvmWJEmSSuIFlwU799xzq44gSZLUOHXtYK7zLUmSJPUg1/mu0NNPP83TTz9ddQxJkqRGqWsHc9pJwc444wygfmtMSpIk9WZ17WCOfEuSJEklsXxLkiRJJbF8S5IkSSWxfEuSJEkl8YLLgp133nlVR5AkSWqcunawStb5joi3A7OAwcBSYEJmvtTBfmcCU1sPL83MGzd4fi6wT2Ye1JXjus63JEmSilbHdb4vAOZn5n7A/NbjN2kV9C8CHwDeD3wxInZr9/xHgFfLibvlFi9ezOLFi6uOIUmS1Ch17WBVTTs5ERjd+vhGYAFw/gb7fAi4OzNfBIiIu4EPA7dGxE7A54DJwOwS8m6xs88+G6jfGpOSJEm9WV07WFUj3wMz89nWx78GBnawz15A+9sSLWttA5gGTAdWdnagiJgcEQsjYuELL7zQjciSJElS9xQ28h0R84B3dPDU37R/kJkZEV2eeB4RI4A/yszPRsTgzvbPzOuB66FtzndXjyNJkiT1tMLKd2aO3dhzEfFcROyZmc9GxJ7A8x3s9gy/n5oCMIi26SmHASMjYilt+feIiAWZORpJkiSpxqqadjIXOLP18ZnA9zrY5y7g2IjYrXWh5bHAXZl5bWa+MzMHA38MPGHxliRJ0tagqgsuLwdmR8THgV8BEwAiYiRwTmb+z8x8MSKmAQ+0XvPldRdfbk2mTp3a+U6SJEnqUXXtYJWs810V1/mWJElS0eq4zndjLFq0iEWLFlUdQ5IkqVHq2sG8vXzBpkyZAtRvjUlJkqTerK4dzJFvSZIkqSSWb0mSJKkklm9JkiSpJJZvSZIkqSRecFmwyy67rOoIkiRJjVPXDmb5Ltjhhx9edQRJkqTGqWsHc9pJwe69917uvffeqmNIkiQ1Sl07mCPfBbvooouA+q0xKUmS1JvVtYM58i1JkiSVxPItSZIklcTyLUmSJJXE8i1JkiSVxAsuCzZjxoyqI0iSJDVOXTuY5btgI0aMqDqCJElS49S1gzntpGDz5s1j3rx5VceQJElqlLp2MEe+C3bppZcCMHbs2IqTSJIkNUddO5gj35IkSVJJLN+SJElSSSzfkiRJUkks35IkSVJJvOCyYNddd13VESRJkhqnrh3M8l2w/fffv+oIkiRJjVPXDua0k4Ldfvvt3H777VXHkCRJapS6djBHvgs2ffp0AMaNG1dxEkmSpOaoawdz5FuSJEkqieVbkiRJKonlW5IkSSqJ5VuSJEkqiRdcFuzmm2+uOoIkSVLj1LWDWb4Ltvfee1cdQZIkqXHq2sGcdlKwWbNmMWvWrKpjSJIkNUpdO5gj3wW79tprATj11FMrTiJJktQcde1gjnxLkiRJJbF8S5IkSSWxfEuSJEklsXxLkiRJJfGCy4LNmTOn6giSJEmNU9cOZvku2IABA6qOIEmS1Dh17WBOOynYzJkzmTlzZtUxJEmSGqWuHczyXbC6/sFLkiT1ZnXtYJZvSZIkqSSWb0mSJKkklm9JkiSpJJZvSZIkqSQuNViwO++8s+oIkiRJjVPXDmb5Lli/fv2qjiBJktQ4de1gTjsp2DXXXMM111xTdQxJkqRGqWsHs3wXbPbs2cyePbvqGJIkSY1S1w5m+ZYkSZJKYvmWJEmSSmL5liRJkkpi+ZYkSZJKEplZdYbSRMQLwK824yUDgOUFxWkKz2H3eP66z3PYPZ6/7vMcdp/nsHs8f923uefwDzNz946eaFT53lwRsTAzR1adY2vmOewez1/3eQ67x/PXfZ7D7vMcdo/nr/t68hw67USSJEkqieVbkiRJKonle9OurzpAL+A57B7PX/d5DrvH89d9nsPu8xx2j+ev+3rsHDrnW5IkSSqJI9+SJElSSSzfLRHx5xHxaET8LiJGbvDchRGxJCIWR8SH2m3/cGvbkoi4oPzU9RQRsyJiUevX0ohY1No+OCJWtXvu/684am1FxJci4pl25+r4ds91+H7Um0XE/4qIxyPiZxHxzxGxa2u778Mu8u+4zRMRe0fEDyLi561/Tz7T2r7R72e9VevfjYdb52pha9vbI+LuiPhF6/fdqs5ZVxGxf7v32qKI+O+ImOL7cOMi4oaIeD4iHmm3rcP3XLT5WuvvxZ9FxHs3+3hOO2kTEcOA3wHXAX+dmeu+4d8N3Aq8H3gnMA8Y2nrZE8AxwDLgAeAvMvPnJUevtYiYDrycmV+OiMHAHZl5UMWxai8ivgS8mplXbLC9w/djZq4tPWTNRcSxwPczc01EfAUgM8/3fdg1EbEN/h23WSJiT2DPzPxpROwMPAicBEygg+9ndSwilgIjM3N5u21/B7yYmZe3/iO4W2aeX1XGrUXr+/gZ4APA/8D3YYci4kjgVeCmdf82bOw91/pPy18Bx9N2Xr+amR/YnOM58t2SmY9l5uIOnjoR+HZmvp6ZTwFLaCs+7weWZOaTmflb4NutfdUSEUHbPzq3Vp2lF9nY+1EbyMx/z8w1rYf/CQyqMs9WyL/jNlNmPpuZP219/ArwGLBXtal6jROBG1sf30jbf2rUuTHALzNzc24w2DiZ+SPgxQ02b+w9dyJtJT0z8z+BXVv/8e4yy3fn9gKebvd4WWvbxrbr9/4EeC4zf9Fu25CIeCgifhgRf1JVsK3Ep1o/0rqh3Y9Yfd9tmbOAf2332Pdh53yvdUPrJyyHAD9pbero+1kdS+DfI+LBiJjc2jYwM59tffxrYGA10bY6p/HmATDfh123sfdct/9ubFT5joh5EfFIB78czdlMXTyXf8Gbv+mfBd6VmYcAnwNuiYg/KDN3nXRyDq8F/ggYQdt5m15l1rrqyvswIv4GWAN8q7XJ96EKFRE7Ad8FpmTmf+P38+b648x8L3Ac8MnWlID1sm2+rHNmOxER2wPjge+0Nvk+3EI9/Z7btqc+0dYgM8duwcueAfZu93hQaxub2N7rdXYuI2Jb4CPA+9q95nXg9dbHD0bEL2mbP7+wwKi11dX3Y0T8b+CO1sNNvR8bpwvvw0nACcCY1l+evg+7zvfaFoiI7Wgr3t/KzH8CyMzn2j3f/vtZHcjMZ1q/Px8R/0zbFKjnImLPzHy29SP+5ysNuXU4Dvjpuvef78PNtrH3XLf/bmzUyPcWmgucFhE7RMQQYD/gftouPtovIoa0/nd5WmtftRkLPJ6Zy9ZtiIjdWxd/EBH70HYun6woX61tMH/sz4B1V2Bv7P2oDUTEh4H/DxifmSvbbfd92DX+HbeZWte5/D3wWGZe2W77xr6ftYGI2LF1sSoRsSNwLG3nay5wZmu3M4HvVZNwq/Kmnz77PtxsG3vPzQU+1lr15FDaFpV4tqNPsDGNGvnelIj4M+DrwO7Av0TEosz8UGY+GhGzgZ/T9qPrT65bWSIiPgXcBWwD3JCZj1YUv442nGcGcCTw5Yh4g7aVZc7JzA0vcFCbv4uIEbT9mGspcDbApt6PeourgR2Au9s6Ef+Zmefg+7BLWqvE+Hfc5jkCOAN4OFpLrAIXAX/R0fezOjQQ+OfW9+y2wC2Z+W8R8QAwOyI+DvyKtov5tRGt/7gcw5vfax3+uyKIiFuB0cCAiFgGfBG4nI7fc3fSttLJEmAlbavIbN7xXGpQkiRJKofTTiRJkqSSWL4lSZKkkli+JUmSpJJYviVJkqSSWL4lSZKkkli+JUmSpJJYviVJkqSSWL4lSV0SEV+PiJ9GxKiqs0jS1sryLUnqVOuOeXvQdle8EyqOI0lbLcu3JOlNIuJtEfHDiNhm3bbMfA3YE1gAfC0ito+IH0XEtlXllKStkeVbkrShs4B/ysy16zZERH+gH/AKsCYzfwvMB06tJqIkbZ0s35LUUBHxg4g4pvXxpRHx9dZTE4HvbbD7VOAK4FHgwNa221r7SpK6yPItSc31ReBvImIicAgwJSK2B/bJzKXrdoqIwcDhwCzgMX5fvh8BvPhSkjaD5VuSGiozfwQE8DngtNY0kwHAbzbY9VLgy5mZtCvfrf1/GxE7lxZakrZyXigjSQ0VEcNpu4hyRWa+0tq8Cujbbp8RwEeAP46Ib7See7jdp9kBWF1KYEnqBRz5lqQGiog9gW8BJwKvRsSHATLzJWCbiFhXwL8CjM/MwZk5GHgPrZHv1kWYyzPzjbLzS9LWyvItSQ0TEf2AfwLOy8zHgGm0zf9e599pG+n+INAvM+eteyIznwN2ioi3A0cD/1Jeckna+kXbFD5JktpExHuBz2bmGZ3s90/ABZn5RDnJJGnr58i3JOlNMvOnwA/a32RnQ61VUW6zeEvS5nHkW5IkSSqJI9+SJElSSSzfkiRJUkks35IkSVJJLN+SJElSSSzfkiRJUkks35IkSVJJLN+SJElSSf4fDtLBVJevuGQAAAAASUVORK5CYII=\n",
          "text/plain": "<Figure size 864x576 with 1 Axes>"
         },
         "metadata": {
          "needs_background": "light"
         },
         "output_type": "display_data"
        }
       ]
      }
     },
     "04b1883cd7f44ff2a1b845511d27e4bd": {
      "model_module": "@jupyter-widgets/controls",
      "model_module_version": "1.5.0",
      "model_name": "BoundedIntTextModel",
      "state": {
       "description": "Tamanho da figura (Y):",
       "layout": "IPY_MODEL_eabc2c3f90954c39b2be5b6ae1e00e1e",
       "max": 20,
       "style": "IPY_MODEL_cb3eb65d6a2141f4b6f10cfe7d9f47f2",
       "value": 9
      }
     },
     "04d58a72294640429c9a2788932597bc": {
      "model_module": "@jupyter-widgets/controls",
      "model_module_version": "1.5.0",
      "model_name": "VBoxModel",
      "state": {
       "children": [
        "IPY_MODEL_e1f4d6fa8eea421693b713c88a60d458",
        "IPY_MODEL_74f2cf44faea47139491a97cd3f7ea9f"
       ],
       "layout": "IPY_MODEL_7667de47cf6542d8b742d3cc83e4c206"
      }
     },
     "055b3f0915a14b33b86d22686670d8d5": {
      "model_module": "@jupyter-widgets/controls",
      "model_module_version": "1.5.0",
      "model_name": "SliderStyleModel",
      "state": {
       "description_width": "initial"
      }
     },
     "0a2d8de5dd4e4aee9462b8eb3f72450b": {
      "model_module": "@jupyter-widgets/controls",
      "model_module_version": "1.5.0",
      "model_name": "DescriptionStyleModel",
      "state": {
       "description_width": "initial"
      }
     },
     "0d4e89470dad411f9bab33e4f9b5f70f": {
      "model_module": "@jupyter-widgets/base",
      "model_module_version": "1.2.0",
      "model_name": "LayoutModel",
      "state": {}
     },
     "10b84eed6cf64b968ae86fff8dc90cc5": {
      "model_module": "@jupyter-widgets/controls",
      "model_module_version": "1.5.0",
      "model_name": "DropdownModel",
      "state": {
       "_options_labels": [
        "densidades de probabilidades",
        "Funções de onda (parte real, +)",
        "Funções de onda (parte real, -)",
        "Funções de onda (parte imaginária)"
       ],
       "description": "Plotar as",
       "index": 0,
       "layout": "IPY_MODEL_db68ec5f4b2f4b5186575d9e9fbace6e",
       "style": "IPY_MODEL_de791dfdff4d4e5e90fa929ed0566f44"
      }
     },
     "1194c2da0f9845f8b7e036ea79e941ad": {
      "model_module": "@jupyter-widgets/base",
      "model_module_version": "1.2.0",
      "model_name": "LayoutModel",
      "state": {}
     },
     "1304ca1874014912b078042f1fd48bf4": {
      "model_module": "@jupyter-widgets/controls",
      "model_module_version": "1.5.0",
      "model_name": "VBoxModel",
      "state": {
       "_dom_classes": [
        "widget-interact"
       ],
       "children": [
        "IPY_MODEL_818d9aab11a243e49ea3d407267d5492",
        "IPY_MODEL_6c176969093d42a9bb5e0d1747cddda5",
        "IPY_MODEL_10b84eed6cf64b968ae86fff8dc90cc5",
        "IPY_MODEL_c14c254d935e4ec686fa389eb5177720",
        "IPY_MODEL_04b1883cd7f44ff2a1b845511d27e4bd",
        "IPY_MODEL_c2018da257b4420f8b9d2ad1ed9a3d7b",
        "IPY_MODEL_e754b8d2ed094578a37d8f36e3f797d4"
       ],
       "layout": "IPY_MODEL_cd5bea4b63ac476db403d5080c369eae"
      }
     },
     "13377ec0383345099727b04c1d3fce04": {
      "model_module": "@jupyter-widgets/controls",
      "model_module_version": "1.5.0",
      "model_name": "ButtonModel",
      "state": {
       "description": "Gerar",
       "layout": "IPY_MODEL_d84845b6d036451f881997b0687e37e5",
       "style": "IPY_MODEL_91dabc9f618448499f0cfd4f0fe187cf"
      }
     },
     "148114540d9b4d37906db348ba3ed21c": {
      "model_module": "@jupyter-widgets/output",
      "model_module_version": "1.0.0",
      "model_name": "OutputModel",
      "state": {
       "layout": "IPY_MODEL_ce308ed1a97442ae935ec7011dc804e4"
      }
     },
     "17f8738a95684d979ff5c2b54241454c": {
      "model_module": "@jupyter-widgets/output",
      "model_module_version": "1.0.0",
      "model_name": "OutputModel",
      "state": {
       "layout": "IPY_MODEL_ff99da7ac33b480581148e7016082104",
       "outputs": [
        {
         "data": {
          "image/png": "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\n",
          "text/plain": "<Figure size 864x576 with 1 Axes>"
         },
         "metadata": {
          "needs_background": "light"
         },
         "output_type": "display_data"
        }
       ]
      }
     },
     "1a2757987cd7421fa3fb684eba5ea28e": {
      "model_module": "@jupyter-widgets/base",
      "model_module_version": "1.2.0",
      "model_name": "LayoutModel",
      "state": {}
     },
     "1f265cdba4384070803d5e97cd8efa09": {
      "model_module": "@jupyter-widgets/controls",
      "model_module_version": "1.5.0",
      "model_name": "ButtonModel",
      "state": {
       "description": "Gerar",
       "layout": "IPY_MODEL_9ba4b6f5d26f4945bcd3d2642f761cc4",
       "style": "IPY_MODEL_399754172ce6476696a49de2f2c8ad7f"
      }
     },
     "20f2bfdad93f48a48f1d08e90a65e356": {
      "model_module": "@jupyter-widgets/base",
      "model_module_version": "1.2.0",
      "model_name": "LayoutModel",
      "state": {}
     },
     "2389019c5111438095819f602d9a5469": {
      "model_module": "@jupyter-widgets/controls",
      "model_module_version": "1.5.0",
      "model_name": "ButtonModel",
      "state": {
       "description": "Gerar",
       "layout": "IPY_MODEL_b71255c308bd4eb3b2181a514ef4e9d0",
       "style": "IPY_MODEL_ff1473f310e14b499d325c15c00800ba"
      }
     },
     "2a7d5b434d864f7c86306aec05a3e348": {
      "model_module": "@jupyter-widgets/base",
      "model_module_version": "1.2.0",
      "model_name": "LayoutModel",
      "state": {}
     },
     "2dc848a4537149b7a0d085233ece24d6": {
      "model_module": "@jupyter-widgets/controls",
      "model_module_version": "1.5.0",
      "model_name": "FloatRangeSliderModel",
      "state": {
       "_model_name": "FloatRangeSliderModel",
       "_view_name": "FloatRangeSliderView",
       "continuous_update": false,
       "description": "Domínio de $\\Psi(x)$: ",
       "layout": "IPY_MODEL_885ae294c69d4897b3f8578129714f06",
       "max": 150,
       "min": -150,
       "readout_format": "1d",
       "style": "IPY_MODEL_b09576aa1b5d40c6b2dc75f9bff30170",
       "value": [
        -50,
        50
       ]
      }
     },
     "3049ee9dc1bf4605905c77e497992031": {
      "model_module": "@jupyter-widgets/controls",
      "model_module_version": "1.5.0",
      "model_name": "ButtonStyleModel",
      "state": {}
     },
     "307be17527d8405eaee2ed8971ef175e": {
      "model_module": "@jupyter-widgets/controls",
      "model_module_version": "1.5.0",
      "model_name": "BoundedIntTextModel",
      "state": {
       "description": "Tamanho da figura (Y):",
       "layout": "IPY_MODEL_7cdbaef76f4b40c9bb24719603de3a75",
       "max": 20,
       "style": "IPY_MODEL_dac264d704784c788c0dab700c5f3863",
       "value": 9
      }
     },
     "332ad7e0a0c64a54b579d9c4d94b2619": {
      "model_module": "@jupyter-widgets/controls",
      "model_module_version": "1.5.0",
      "model_name": "DescriptionStyleModel",
      "state": {
       "description_width": "initial"
      }
     },
     "33682df335ff403abdf424c0db436f7a": {
      "model_module": "@jupyter-widgets/base",
      "model_module_version": "1.2.0",
      "model_name": "LayoutModel",
      "state": {}
     },
     "35b757a199294394b3047cbc46d8a879": {
      "model_module": "@jupyter-widgets/controls",
      "model_module_version": "1.5.0",
      "model_name": "SliderStyleModel",
      "state": {
       "description_width": "initial"
      }
     },
     "399754172ce6476696a49de2f2c8ad7f": {
      "model_module": "@jupyter-widgets/controls",
      "model_module_version": "1.5.0",
      "model_name": "ButtonStyleModel",
      "state": {}
     },
     "3c3715f1914a4e7084013725cd840833": {
      "model_module": "@jupyter-widgets/controls",
      "model_module_version": "1.5.0",
      "model_name": "SliderStyleModel",
      "state": {
       "description_width": "initial"
      }
     },
     "3c4389e58d3944b5a94bf84b8455b04a": {
      "model_module": "@jupyter-widgets/controls",
      "model_module_version": "1.5.0",
      "model_name": "IntSliderModel",
      "state": {
       "continuous_update": false,
       "description": "Número de pontos: ",
       "layout": "IPY_MODEL_cb7f6a00aacf4b41ae16aab752cecb85",
       "max": 5000,
       "min": 50,
       "step": 10,
       "style": "IPY_MODEL_3e6fb04a691543ddbb99a9a1ffd848a3",
       "value": 500
      }
     },
     "3e6fb04a691543ddbb99a9a1ffd848a3": {
      "model_module": "@jupyter-widgets/controls",
      "model_module_version": "1.5.0",
      "model_name": "SliderStyleModel",
      "state": {
       "description_width": "initial"
      }
     },
     "4079c2c1e9504dc88363d70e8cf21cd8": {
      "model_module": "@jupyter-widgets/base",
      "model_module_version": "1.2.0",
      "model_name": "LayoutModel",
      "state": {}
     },
     "412ffaaf16a1422d99fa795b7e879827": {
      "model_module": "@jupyter-widgets/controls",
      "model_module_version": "1.5.0",
      "model_name": "IntSliderModel",
      "state": {
       "continuous_update": false,
       "description": "Número de pontos: ",
       "layout": "IPY_MODEL_885ae294c69d4897b3f8578129714f06",
       "max": 5000,
       "min": 50,
       "step": 10,
       "style": "IPY_MODEL_a1016781fc704fd38c7c2c9d5188ec35",
       "value": 500
      }
     },
     "44b562079d4d4c06863efb19d30e0558": {
      "model_module": "@jupyter-widgets/base",
      "model_module_version": "1.2.0",
      "model_name": "LayoutModel",
      "state": {}
     },
     "4879868083eb412497e4c80b50c4f96b": {
      "model_module": "@jupyter-widgets/output",
      "model_module_version": "1.0.0",
      "model_name": "OutputModel",
      "state": {
       "layout": "IPY_MODEL_d2dea1afdaa747bab3460c2589fdf714"
      }
     },
     "4a1742f35fee40eb83e157debd970819": {
      "model_module": "@jupyter-widgets/controls",
      "model_module_version": "1.5.0",
      "model_name": "SliderStyleModel",
      "state": {
       "description_width": "initial"
      }
     },
     "4b08c77d2724458994d019a36a55d1fa": {
      "model_module": "@jupyter-widgets/controls",
      "model_module_version": "1.5.0",
      "model_name": "VBoxModel",
      "state": {
       "_dom_classes": [
        "widget-interact"
       ],
       "children": [
        "IPY_MODEL_b8df8053190844c0948d1d79c9d0bdff",
        "IPY_MODEL_6b50e165c5d744f4bbe0e06ec83ab36a",
        "IPY_MODEL_a55e3e4cd998421f9011dbb2c9720b1f",
        "IPY_MODEL_014f3e6a760c49bd8a9f54ce792df4fd"
       ],
       "layout": "IPY_MODEL_cb298e86abbb4fae997a9402d1c0c9a4"
      }
     },
     "51b8e81a17924443bdd055c98b125f55": {
      "model_module": "@jupyter-widgets/controls",
      "model_module_version": "1.5.0",
      "model_name": "ButtonModel",
      "state": {
       "description": "Diagonalizar",
       "layout": "IPY_MODEL_e35a550d9462402b8071a2154df2a5b3",
       "style": "IPY_MODEL_db5f8b2df880488b90535c73e54122ba"
      }
     },
     "5331a0f289a5479c88012429fa4348e4": {
      "model_module": "@jupyter-widgets/output",
      "model_module_version": "1.0.0",
      "model_name": "OutputModel",
      "state": {
       "layout": "IPY_MODEL_33682df335ff403abdf424c0db436f7a",
       "outputs": [
        {
         "ename": "NameError",
         "evalue": "name 'prob' is not defined",
         "output_type": "error",
         "traceback": [
          "\u001b[0;31m---------------------------------------------------------------------------\u001b[0m",
          "\u001b[0;31mNameError\u001b[0m                                 Traceback (most recent call last)",
          "\u001b[0;32m~/miniconda3/lib/python3.9/site-packages/ipywidgets/widgets/interaction.py\u001b[0m in \u001b[0;36mupdate\u001b[0;34m(self, *args)\u001b[0m\n\u001b[1;32m    254\u001b[0m                     \u001b[0mvalue\u001b[0m \u001b[0;34m=\u001b[0m \u001b[0mwidget\u001b[0m\u001b[0;34m.\u001b[0m\u001b[0mget_interact_value\u001b[0m\u001b[0;34m(\u001b[0m\u001b[0;34m)\u001b[0m\u001b[0;34m\u001b[0m\u001b[0;34m\u001b[0m\u001b[0m\n\u001b[1;32m    255\u001b[0m                     \u001b[0mself\u001b[0m\u001b[0;34m.\u001b[0m\u001b[0mkwargs\u001b[0m\u001b[0;34m[\u001b[0m\u001b[0mwidget\u001b[0m\u001b[0;34m.\u001b[0m\u001b[0m_kwarg\u001b[0m\u001b[0;34m]\u001b[0m \u001b[0;34m=\u001b[0m \u001b[0mvalue\u001b[0m\u001b[0;34m\u001b[0m\u001b[0;34m\u001b[0m\u001b[0m\n\u001b[0;32m--> 256\u001b[0;31m                 \u001b[0mself\u001b[0m\u001b[0;34m.\u001b[0m\u001b[0mresult\u001b[0m \u001b[0;34m=\u001b[0m \u001b[0mself\u001b[0m\u001b[0;34m.\u001b[0m\u001b[0mf\u001b[0m\u001b[0;34m(\u001b[0m\u001b[0;34m**\u001b[0m\u001b[0mself\u001b[0m\u001b[0;34m.\u001b[0m\u001b[0mkwargs\u001b[0m\u001b[0;34m)\u001b[0m\u001b[0;34m\u001b[0m\u001b[0;34m\u001b[0m\u001b[0m\n\u001b[0m\u001b[1;32m    257\u001b[0m                 \u001b[0mshow_inline_matplotlib_plots\u001b[0m\u001b[0;34m(\u001b[0m\u001b[0;34m)\u001b[0m\u001b[0;34m\u001b[0m\u001b[0;34m\u001b[0m\u001b[0m\n\u001b[1;32m    258\u001b[0m                 \u001b[0;32mif\u001b[0m \u001b[0mself\u001b[0m\u001b[0;34m.\u001b[0m\u001b[0mauto_display\u001b[0m \u001b[0;32mand\u001b[0m \u001b[0mself\u001b[0m\u001b[0;34m.\u001b[0m\u001b[0mresult\u001b[0m \u001b[0;32mis\u001b[0m \u001b[0;32mnot\u001b[0m \u001b[0;32mNone\u001b[0m\u001b[0;34m:\u001b[0m\u001b[0;34m\u001b[0m\u001b[0;34m\u001b[0m\u001b[0m\n",
          "\u001b[0;32m<ipython-input-3-b9035f2d8f7b>\u001b[0m in \u001b[0;36mplotall\u001b[0;34m(NES, limx, wav, xs, ys)\u001b[0m\n\u001b[1;32m     74\u001b[0m     \u001b[0;32mif\u001b[0m \u001b[0mwav\u001b[0m\u001b[0;34m==\u001b[0m\u001b[0;36m1\u001b[0m\u001b[0;34m:\u001b[0m\u001b[0;34m\u001b[0m\u001b[0;34m\u001b[0m\u001b[0m\n\u001b[1;32m     75\u001b[0m         \u001b[0;32mfor\u001b[0m \u001b[0mi\u001b[0m \u001b[0;32min\u001b[0m \u001b[0mrange\u001b[0m\u001b[0;34m(\u001b[0m\u001b[0mnmax\u001b[0m\u001b[0;34m,\u001b[0m\u001b[0mnmin\u001b[0m\u001b[0;34m-\u001b[0m\u001b[0;36m1\u001b[0m\u001b[0;34m,\u001b[0m\u001b[0;34m-\u001b[0m\u001b[0;36m1\u001b[0m\u001b[0;34m)\u001b[0m\u001b[0;34m:\u001b[0m\u001b[0;34m\u001b[0m\u001b[0;34m\u001b[0m\u001b[0m\n\u001b[0;32m---> 76\u001b[0;31m             fig=plt.plot(x,prob[:,i]+eig[i], \n\u001b[0m\u001b[1;32m     77\u001b[0m                          label=f'$E_{i}={eig[i]:2f}$ eV')\n\u001b[1;32m     78\u001b[0m     \u001b[0;32melif\u001b[0m \u001b[0mwav\u001b[0m\u001b[0;34m==\u001b[0m\u001b[0;36m2\u001b[0m\u001b[0;34m:\u001b[0m\u001b[0;34m\u001b[0m\u001b[0;34m\u001b[0m\u001b[0m\n",
          "\u001b[0;31mNameError\u001b[0m: name 'prob' is not defined"
         ]
        }
       ]
      }
     },
     "5978b74be5f14865a1b020756b861f4b": {
      "model_module": "@jupyter-widgets/base",
      "model_module_version": "1.2.0",
      "model_name": "LayoutModel",
      "state": {}
     },
     "5a9f48ca45a044b1a45d610d32422a58": {
      "model_module": "@jupyter-widgets/base",
      "model_module_version": "1.2.0",
      "model_name": "LayoutModel",
      "state": {}
     },
     "5ab48603caf34c8d8b8d3fbe50733c94": {
      "model_module": "@jupyter-widgets/controls",
      "model_module_version": "1.5.0",
      "model_name": "IntSliderModel",
      "state": {
       "continuous_update": false,
       "description": "Número de pontos: ",
       "layout": "IPY_MODEL_d71700a4080f4abaaeb4dec4dc9cb245",
       "max": 5000,
       "min": 50,
       "step": 10,
       "style": "IPY_MODEL_4a1742f35fee40eb83e157debd970819",
       "value": 500
      }
     },
     "5c07d6719f404d20ad5fe159bb57c6fd": {
      "model_module": "@jupyter-widgets/base",
      "model_module_version": "1.2.0",
      "model_name": "LayoutModel",
      "state": {}
     },
     "5caf2ece00d34f919a371c95557f821a": {
      "model_module": "@jupyter-widgets/base",
      "model_module_version": "1.2.0",
      "model_name": "LayoutModel",
      "state": {}
     },
     "5cec74b7d6e04124b44b327f8e7bf8b9": {
      "model_module": "@jupyter-widgets/controls",
      "model_module_version": "1.5.0",
      "model_name": "DropdownModel",
      "state": {
       "_options_labels": [
        "densidades de probabilidades",
        "Funções de onda (parte real, +)",
        "Funções de onda (parte real, -)",
        "Funções de onda (parte imaginária)"
       ],
       "description": "Plotar as",
       "index": 0,
       "layout": "IPY_MODEL_7f96081177d941fbbb0c4c97e2e34120",
       "style": "IPY_MODEL_6e9222c38d0d44bbbdd627396ed0caa4"
      }
     },
     "5e0b66b525ff4703aebf69ede01390eb": {
      "model_module": "@jupyter-widgets/controls",
      "model_module_version": "1.5.0",
      "model_name": "ButtonStyleModel",
      "state": {}
     },
     "5e733dda8d1f4352bdfe5373b66b52b6": {
      "model_module": "@jupyter-widgets/controls",
      "model_module_version": "1.5.0",
      "model_name": "SliderStyleModel",
      "state": {
       "description_width": "initial"
      }
     },
     "60bc72943eea43f7acd27bab07d18399": {
      "model_module": "@jupyter-widgets/controls",
      "model_module_version": "1.5.0",
      "model_name": "ButtonStyleModel",
      "state": {}
     },
     "6ad2e50d07e84e1299992ac55e22c86c": {
      "model_module": "@jupyter-widgets/base",
      "model_module_version": "1.2.0",
      "model_name": "LayoutModel",
      "state": {}
     },
     "6b50e165c5d744f4bbe0e06ec83ab36a": {
      "model_module": "@jupyter-widgets/controls",
      "model_module_version": "1.5.0",
      "model_name": "IntSliderModel",
      "state": {
       "continuous_update": false,
       "description": "Número de pontos: ",
       "layout": "IPY_MODEL_d0e96f6d4aff41418fa06d512f231aa8",
       "max": 5000,
       "min": 50,
       "step": 10,
       "style": "IPY_MODEL_055b3f0915a14b33b86d22686670d8d5",
       "value": 500
      }
     },
     "6c176969093d42a9bb5e0d1747cddda5": {
      "model_module": "@jupyter-widgets/controls",
      "model_module_version": "1.5.0",
      "model_name": "IntSliderModel",
      "state": {
       "continuous_update": false,
       "description": "Margens horizontais em $x$:   ",
       "layout": "IPY_MODEL_cb7f6a00aacf4b41ae16aab752cecb85",
       "max": 80,
       "style": "IPY_MODEL_7f004e941a72491ca4dab5bbdf31793a",
       "value": 20
      }
     },
     "6e7fe77eeff04d06ac077786a8b53334": {
      "model_module": "@jupyter-widgets/controls",
      "model_module_version": "1.5.0",
      "model_name": "SliderStyleModel",
      "state": {
       "description_width": "initial"
      }
     },
     "6e9222c38d0d44bbbdd627396ed0caa4": {
      "model_module": "@jupyter-widgets/controls",
      "model_module_version": "1.5.0",
      "model_name": "DescriptionStyleModel",
      "state": {
       "description_width": "initial"
      }
     },
     "70105d2c4e964647810d77128b8e0355": {
      "model_module": "@jupyter-widgets/base",
      "model_module_version": "1.2.0",
      "model_name": "LayoutModel",
      "state": {}
     },
     "7080a277a3e94e1baefbcc01f7ac58eb": {
      "model_module": "@jupyter-widgets/base",
      "model_module_version": "1.2.0",
      "model_name": "LayoutModel",
      "state": {}
     },
     "708ef625cb644584a2cd785e3cc7b755": {
      "model_module": "@jupyter-widgets/controls",
      "model_module_version": "1.5.0",
      "model_name": "IntSliderModel",
      "state": {
       "continuous_update": false,
       "description": "Margens horizontais em $x$:   ",
       "layout": "IPY_MODEL_d71700a4080f4abaaeb4dec4dc9cb245",
       "max": 80,
       "style": "IPY_MODEL_5e733dda8d1f4352bdfe5373b66b52b6",
       "value": 20
      }
     },
     "71dbd8ccf3734a248ee44ebe190b031c": {
      "model_module": "@jupyter-widgets/base",
      "model_module_version": "1.2.0",
      "model_name": "LayoutModel",
      "state": {}
     },
     "722ff1cef34a45d19101185f1eed92ca": {
      "model_module": "@jupyter-widgets/controls",
      "model_module_version": "1.5.0",
      "model_name": "VBoxModel",
      "state": {
       "_dom_classes": [
        "widget-interact"
       ],
       "children": [
        "IPY_MODEL_fa43acd7b1d84e7b8d75d9919c2ad4b9",
        "IPY_MODEL_bd5a5ada8d3a4352a16cea7310e338da",
        "IPY_MODEL_de7f87f6ca31412cbc5a6ab103fd6f3a",
        "IPY_MODEL_ea643edab27543e9acaa16010bf83793",
        "IPY_MODEL_cdf49a48d59847ec8a8ee5eec13ce2de",
        "IPY_MODEL_8fcc2fe0291048cbbcd0939be5460aa1",
        "IPY_MODEL_5331a0f289a5479c88012429fa4348e4"
       ],
       "layout": "IPY_MODEL_0d4e89470dad411f9bab33e4f9b5f70f"
      }
     },
     "7455f97b98f247978a2ae8ce08d2050d": {
      "model_module": "@jupyter-widgets/controls",
      "model_module_version": "1.5.0",
      "model_name": "ButtonModel",
      "state": {
       "description": "Diagonalizar",
       "layout": "IPY_MODEL_44b562079d4d4c06863efb19d30e0558",
       "style": "IPY_MODEL_fd59d0a598ca4de5a40e21eb9752385f"
      }
     },
     "74f2cf44faea47139491a97cd3f7ea9f": {
      "model_module": "@jupyter-widgets/controls",
      "model_module_version": "1.5.0",
      "model_name": "ButtonModel",
      "state": {
       "description": "Diagonalizar",
       "layout": "IPY_MODEL_b06397bdf4244e189f18b299fcb629eb",
       "style": "IPY_MODEL_e61241d6ab0740b78a1c0c9d23b9cdfc"
      }
     },
     "7667de47cf6542d8b742d3cc83e4c206": {
      "model_module": "@jupyter-widgets/base",
      "model_module_version": "1.2.0",
      "model_name": "LayoutModel",
      "state": {}
     },
     "77e6e7e96fff4a61b049b440c9d70865": {
      "model_module": "@jupyter-widgets/controls",
      "model_module_version": "1.5.0",
      "model_name": "IntSliderModel",
      "state": {
       "continuous_update": false,
       "description": "Margens horizontais em $x$:   ",
       "layout": "IPY_MODEL_885ae294c69d4897b3f8578129714f06",
       "max": 80,
       "style": "IPY_MODEL_8b96125ad7dd4253b8bfdc16b109e499",
       "value": 20
      }
     },
     "7cdbaef76f4b40c9bb24719603de3a75": {
      "model_module": "@jupyter-widgets/base",
      "model_module_version": "1.2.0",
      "model_name": "LayoutModel",
      "state": {}
     },
     "7db8da004a1948d6b995398e425e5883": {
      "model_module": "@jupyter-widgets/controls",
      "model_module_version": "1.5.0",
      "model_name": "BoundedIntTextModel",
      "state": {
       "description": "Tamanho da figura (X):",
       "layout": "IPY_MODEL_a3d3e19aca8644df925ed43c90c692b0",
       "max": 20,
       "style": "IPY_MODEL_f4d8c167641c414da47d520bfa5c6455",
       "value": 16
      }
     },
     "7f004e941a72491ca4dab5bbdf31793a": {
      "model_module": "@jupyter-widgets/controls",
      "model_module_version": "1.5.0",
      "model_name": "SliderStyleModel",
      "state": {
       "description_width": "initial"
      }
     },
     "7f46128e1acf47afb414fd016f73380e": {
      "model_module": "@jupyter-widgets/controls",
      "model_module_version": "1.5.0",
      "model_name": "DescriptionStyleModel",
      "state": {
       "description_width": "initial"
      }
     },
     "7f96081177d941fbbb0c4c97e2e34120": {
      "model_module": "@jupyter-widgets/base",
      "model_module_version": "1.2.0",
      "model_name": "LayoutModel",
      "state": {}
     },
     "818d9aab11a243e49ea3d407267d5492": {
      "model_module": "@jupyter-widgets/controls",
      "model_module_version": "1.5.0",
      "model_name": "IntRangeSliderModel",
      "state": {
       "_model_name": "IntRangeSliderModel",
       "_view_name": "IntRangeSliderView",
       "continuous_update": false,
       "description": "Número de estados:",
       "layout": "IPY_MODEL_cb7f6a00aacf4b41ae16aab752cecb85",
       "max": 10,
       "readout_format": ".1d",
       "style": "IPY_MODEL_ed9f4b1fc54044d0905146b8ba497259",
       "value": [
        0,
        3
       ]
      }
     },
     "81c620f0fc3e44d1b1387743fd6d884d": {
      "model_module": "@jupyter-widgets/controls",
      "model_module_version": "1.5.0",
      "model_name": "ButtonStyleModel",
      "state": {}
     },
     "859c9c785f0d4f1089c5497ad7282b41": {
      "model_module": "@jupyter-widgets/controls",
      "model_module_version": "1.5.0",
      "model_name": "FloatRangeSliderModel",
      "state": {
       "_model_name": "FloatRangeSliderModel",
       "_view_name": "FloatRangeSliderView",
       "continuous_update": false,
       "description": "Domínio de $\\Psi(x)$: ",
       "layout": "IPY_MODEL_cb7f6a00aacf4b41ae16aab752cecb85",
       "max": 150,
       "min": -150,
       "readout_format": "1d",
       "style": "IPY_MODEL_af6906b5319f46b9bedd417717aaceea",
       "value": [
        -50,
        50
       ]
      }
     },
     "885ae294c69d4897b3f8578129714f06": {
      "model_module": "@jupyter-widgets/base",
      "model_module_version": "1.2.0",
      "model_name": "LayoutModel",
      "state": {
       "display": "flex",
       "width": "90%"
      }
     },
     "8b96125ad7dd4253b8bfdc16b109e499": {
      "model_module": "@jupyter-widgets/controls",
      "model_module_version": "1.5.0",
      "model_name": "SliderStyleModel",
      "state": {
       "description_width": "initial"
      }
     },
     "8e11359ccc8b43dda1b9f688f6e393b2": {
      "model_module": "@jupyter-widgets/controls",
      "model_module_version": "1.5.0",
      "model_name": "TabModel",
      "state": {
       "_titles": {
        "0": "Gerar o Sistema",
        "1": "Funções de Onda"
       },
       "children": [
        "IPY_MODEL_04d58a72294640429c9a2788932597bc",
        "IPY_MODEL_909c226ed8684f7c9702f49719d42329"
       ],
       "layout": "IPY_MODEL_20f2bfdad93f48a48f1d08e90a65e356"
      }
     },
     "8fcc2fe0291048cbbcd0939be5460aa1": {
      "model_module": "@jupyter-widgets/controls",
      "model_module_version": "1.5.0",
      "model_name": "ButtonModel",
      "state": {
       "description": "Plotar",
       "layout": "IPY_MODEL_b398fe1a2191429eb6f888d0a8ebf0c3",
       "style": "IPY_MODEL_3049ee9dc1bf4605905c77e497992031"
      }
     },
     "909c226ed8684f7c9702f49719d42329": {
      "model_module": "@jupyter-widgets/controls",
      "model_module_version": "1.5.0",
      "model_name": "VBoxModel",
      "state": {
       "_dom_classes": [
        "widget-interact"
       ],
       "children": [
        "IPY_MODEL_a304fb38a97342be97f3884bdb1af303",
        "IPY_MODEL_77e6e7e96fff4a61b049b440c9d70865",
        "IPY_MODEL_e0cb76e70ab24b209fa48b22a61fad0f",
        "IPY_MODEL_a025b9b9885d4150a7bfbc13835e8467",
        "IPY_MODEL_e77723a656374e6cbc8cbee09cbd77ce",
        "IPY_MODEL_cccfdb8d97df4f288334f880ddbf4321",
        "IPY_MODEL_148114540d9b4d37906db348ba3ed21c"
       ],
       "layout": "IPY_MODEL_4079c2c1e9504dc88363d70e8cf21cd8"
      }
     },
     "91dabc9f618448499f0cfd4f0fe187cf": {
      "model_module": "@jupyter-widgets/controls",
      "model_module_version": "1.5.0",
      "model_name": "ButtonStyleModel",
      "state": {}
     },
     "9ba4b6f5d26f4945bcd3d2642f761cc4": {
      "model_module": "@jupyter-widgets/base",
      "model_module_version": "1.2.0",
      "model_name": "LayoutModel",
      "state": {}
     },
     "9da94899865246bfb80206dbcf3332ea": {
      "model_module": "@jupyter-widgets/base",
      "model_module_version": "1.2.0",
      "model_name": "LayoutModel",
      "state": {}
     },
     "a025b9b9885d4150a7bfbc13835e8467": {
      "model_module": "@jupyter-widgets/controls",
      "model_module_version": "1.5.0",
      "model_name": "BoundedIntTextModel",
      "state": {
       "description": "Tamanho da figura (X):",
       "layout": "IPY_MODEL_eb426be3911d473aac35d7a4574f2d6d",
       "max": 20,
       "style": "IPY_MODEL_cdd82936596643feaed5aa4b2b9ee96d",
       "value": 16
      }
     },
     "a0f9702b099d4dd6af50cc5063ba6506": {
      "model_module": "@jupyter-widgets/controls",
      "model_module_version": "1.5.0",
      "model_name": "ButtonStyleModel",
      "state": {}
     },
     "a1016781fc704fd38c7c2c9d5188ec35": {
      "model_module": "@jupyter-widgets/controls",
      "model_module_version": "1.5.0",
      "model_name": "SliderStyleModel",
      "state": {
       "description_width": "initial"
      }
     },
     "a304fb38a97342be97f3884bdb1af303": {
      "model_module": "@jupyter-widgets/controls",
      "model_module_version": "1.5.0",
      "model_name": "IntRangeSliderModel",
      "state": {
       "_model_name": "IntRangeSliderModel",
       "_view_name": "IntRangeSliderView",
       "continuous_update": false,
       "description": "Número de estados:",
       "layout": "IPY_MODEL_885ae294c69d4897b3f8578129714f06",
       "max": 10,
       "readout_format": ".1d",
       "style": "IPY_MODEL_35b757a199294394b3047cbc46d8a879",
       "value": [
        0,
        3
       ]
      }
     },
     "a3d3e19aca8644df925ed43c90c692b0": {
      "model_module": "@jupyter-widgets/base",
      "model_module_version": "1.2.0",
      "model_name": "LayoutModel",
      "state": {}
     },
     "a495366fde104aa8ac83cbdb2b3cdd0e": {
      "model_module": "@jupyter-widgets/controls",
      "model_module_version": "1.5.0",
      "model_name": "ButtonModel",
      "state": {
       "description": "Diagonalizar",
       "layout": "IPY_MODEL_5a9f48ca45a044b1a45d610d32422a58",
       "style": "IPY_MODEL_a0f9702b099d4dd6af50cc5063ba6506"
      }
     },
     "a55e3e4cd998421f9011dbb2c9720b1f": {
      "model_module": "@jupyter-widgets/controls",
      "model_module_version": "1.5.0",
      "model_name": "ButtonModel",
      "state": {
       "description": "Gerar",
       "layout": "IPY_MODEL_fcd6689b24604d26b0209e733788de2e",
       "style": "IPY_MODEL_81c620f0fc3e44d1b1387743fd6d884d"
      }
     },
     "a5afd45560f64286b1a5797e2dbac868": {
      "model_module": "@jupyter-widgets/base",
      "model_module_version": "1.2.0",
      "model_name": "LayoutModel",
      "state": {}
     },
     "a68bc72ef94047c69763b595e33908a8": {
      "model_module": "@jupyter-widgets/controls",
      "model_module_version": "1.5.0",
      "model_name": "SliderStyleModel",
      "state": {
       "description_width": "initial"
      }
     },
     "a85c55f17ff949c2affd95cb97b235d1": {
      "model_module": "@jupyter-widgets/base",
      "model_module_version": "1.2.0",
      "model_name": "LayoutModel",
      "state": {}
     },
     "a909d246ffb74ec695b0baac44a1a71e": {
      "model_module": "@jupyter-widgets/output",
      "model_module_version": "1.0.0",
      "model_name": "OutputModel",
      "state": {
       "layout": "IPY_MODEL_f251a36c606049748db66f2277d3a417",
       "outputs": [
        {
         "data": {
          "image/png": "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\n",
          "text/plain": "<Figure size 864x576 with 1 Axes>"
         },
         "metadata": {
          "needs_background": "light"
         },
         "output_type": "display_data"
        }
       ]
      }
     },
     "ab6a0fcbc389471cb018c0bfaec7e551": {
      "model_module": "@jupyter-widgets/controls",
      "model_module_version": "1.5.0",
      "model_name": "VBoxModel",
      "state": {
       "_dom_classes": [
        "widget-interact"
       ],
       "children": [
        "IPY_MODEL_859c9c785f0d4f1089c5497ad7282b41",
        "IPY_MODEL_3c4389e58d3944b5a94bf84b8455b04a",
        "IPY_MODEL_1f265cdba4384070803d5e97cd8efa09",
        "IPY_MODEL_a909d246ffb74ec695b0baac44a1a71e"
       ],
       "layout": "IPY_MODEL_ff5647710e4b4c318665e7c7622d7d93"
      }
     },
     "af6906b5319f46b9bedd417717aaceea": {
      "model_module": "@jupyter-widgets/controls",
      "model_module_version": "1.5.0",
      "model_name": "SliderStyleModel",
      "state": {
       "description_width": "initial"
      }
     },
     "b06397bdf4244e189f18b299fcb629eb": {
      "model_module": "@jupyter-widgets/base",
      "model_module_version": "1.2.0",
      "model_name": "LayoutModel",
      "state": {}
     },
     "b09576aa1b5d40c6b2dc75f9bff30170": {
      "model_module": "@jupyter-widgets/controls",
      "model_module_version": "1.5.0",
      "model_name": "SliderStyleModel",
      "state": {
       "description_width": "initial"
      }
     },
     "b26a498d11d34e1ab15c635481b7d1e4": {
      "model_module": "@jupyter-widgets/base",
      "model_module_version": "1.2.0",
      "model_name": "LayoutModel",
      "state": {}
     },
     "b398fe1a2191429eb6f888d0a8ebf0c3": {
      "model_module": "@jupyter-widgets/base",
      "model_module_version": "1.2.0",
      "model_name": "LayoutModel",
      "state": {}
     },
     "b71255c308bd4eb3b2181a514ef4e9d0": {
      "model_module": "@jupyter-widgets/base",
      "model_module_version": "1.2.0",
      "model_name": "LayoutModel",
      "state": {}
     },
     "b8df8053190844c0948d1d79c9d0bdff": {
      "model_module": "@jupyter-widgets/controls",
      "model_module_version": "1.5.0",
      "model_name": "FloatRangeSliderModel",
      "state": {
       "_model_name": "FloatRangeSliderModel",
       "_view_name": "FloatRangeSliderView",
       "continuous_update": false,
       "description": "Domínio de $\\Psi(x)$: ",
       "layout": "IPY_MODEL_d0e96f6d4aff41418fa06d512f231aa8",
       "max": 150,
       "min": -150,
       "readout_format": "1d",
       "style": "IPY_MODEL_6e7fe77eeff04d06ac077786a8b53334",
       "value": [
        -50,
        50
       ]
      }
     },
     "b9a19280897b4236b78ae0c8d94985f1": {
      "model_module": "@jupyter-widgets/controls",
      "model_module_version": "1.5.0",
      "model_name": "VBoxModel",
      "state": {
       "children": [
        "IPY_MODEL_ab6a0fcbc389471cb018c0bfaec7e551",
        "IPY_MODEL_7455f97b98f247978a2ae8ce08d2050d"
       ],
       "layout": "IPY_MODEL_b26a498d11d34e1ab15c635481b7d1e4"
      }
     },
     "bd5a5ada8d3a4352a16cea7310e338da": {
      "model_module": "@jupyter-widgets/controls",
      "model_module_version": "1.5.0",
      "model_name": "IntSliderModel",
      "state": {
       "continuous_update": false,
       "description": "Margens horizontais em $x$:   ",
       "layout": "IPY_MODEL_d0e96f6d4aff41418fa06d512f231aa8",
       "max": 80,
       "style": "IPY_MODEL_a68bc72ef94047c69763b595e33908a8",
       "value": 20
      }
     },
     "c14c254d935e4ec686fa389eb5177720": {
      "model_module": "@jupyter-widgets/controls",
      "model_module_version": "1.5.0",
      "model_name": "BoundedIntTextModel",
      "state": {
       "description": "Tamanho da figura (X):",
       "layout": "IPY_MODEL_5c07d6719f404d20ad5fe159bb57c6fd",
       "max": 20,
       "style": "IPY_MODEL_d75a28d4065e48e99fbd076ae611dff8",
       "value": 16
      }
     },
     "c2018da257b4420f8b9d2ad1ed9a3d7b": {
      "model_module": "@jupyter-widgets/controls",
      "model_module_version": "1.5.0",
      "model_name": "ButtonModel",
      "state": {
       "description": "Plotar",
       "layout": "IPY_MODEL_c5cc7e5141d54448a6f3a3696a4187bf",
       "style": "IPY_MODEL_60bc72943eea43f7acd27bab07d18399"
      }
     },
     "c2c0342ef469405193a43971996a1785": {
      "model_module": "@jupyter-widgets/controls",
      "model_module_version": "1.5.0",
      "model_name": "ButtonStyleModel",
      "state": {}
     },
     "c48fd8f89a8d41658e765e8ad6c3441b": {
      "model_module": "@jupyter-widgets/controls",
      "model_module_version": "1.5.0",
      "model_name": "SliderStyleModel",
      "state": {
       "description_width": "initial"
      }
     },
     "c5cc7e5141d54448a6f3a3696a4187bf": {
      "model_module": "@jupyter-widgets/base",
      "model_module_version": "1.2.0",
      "model_name": "LayoutModel",
      "state": {}
     },
     "c6bff3d0b31f4790ba563a4e99b81feb": {
      "model_module": "@jupyter-widgets/base",
      "model_module_version": "1.2.0",
      "model_name": "LayoutModel",
      "state": {}
     },
     "c85362ff819645cc9b6f4ee976ae66b5": {
      "model_module": "@jupyter-widgets/controls",
      "model_module_version": "1.5.0",
      "model_name": "ButtonModel",
      "state": {
       "description": "Plotar",
       "layout": "IPY_MODEL_6ad2e50d07e84e1299992ac55e22c86c",
       "style": "IPY_MODEL_c2c0342ef469405193a43971996a1785"
      }
     },
     "cb298e86abbb4fae997a9402d1c0c9a4": {
      "model_module": "@jupyter-widgets/base",
      "model_module_version": "1.2.0",
      "model_name": "LayoutModel",
      "state": {}
     },
     "cb3eb65d6a2141f4b6f10cfe7d9f47f2": {
      "model_module": "@jupyter-widgets/controls",
      "model_module_version": "1.5.0",
      "model_name": "DescriptionStyleModel",
      "state": {
       "description_width": "initial"
      }
     },
     "cb40744ff92d43bdbc8ef01d60894138": {
      "model_module": "@jupyter-widgets/controls",
      "model_module_version": "1.5.0",
      "model_name": "VBoxModel",
      "state": {
       "children": [
        "IPY_MODEL_fb9ac0fc59d94d339ff31e037106359f",
        "IPY_MODEL_51b8e81a17924443bdd055c98b125f55"
       ],
       "layout": "IPY_MODEL_70105d2c4e964647810d77128b8e0355"
      }
     },
     "cb7f6a00aacf4b41ae16aab752cecb85": {
      "model_module": "@jupyter-widgets/base",
      "model_module_version": "1.2.0",
      "model_name": "LayoutModel",
      "state": {
       "display": "flex",
       "width": "90%"
      }
     },
     "cccfdb8d97df4f288334f880ddbf4321": {
      "model_module": "@jupyter-widgets/controls",
      "model_module_version": "1.5.0",
      "model_name": "ButtonModel",
      "state": {
       "description": "Plotar",
       "layout": "IPY_MODEL_1194c2da0f9845f8b7e036ea79e941ad",
       "style": "IPY_MODEL_5e0b66b525ff4703aebf69ede01390eb"
      }
     },
     "cd5bea4b63ac476db403d5080c369eae": {
      "model_module": "@jupyter-widgets/base",
      "model_module_version": "1.2.0",
      "model_name": "LayoutModel",
      "state": {}
     },
     "cd854491a1ef43b8a1e2e5bc37bce3a6": {
      "model_module": "@jupyter-widgets/base",
      "model_module_version": "1.2.0",
      "model_name": "LayoutModel",
      "state": {}
     },
     "cdd82936596643feaed5aa4b2b9ee96d": {
      "model_module": "@jupyter-widgets/controls",
      "model_module_version": "1.5.0",
      "model_name": "DescriptionStyleModel",
      "state": {
       "description_width": "initial"
      }
     },
     "cdec879325484ac3badebe4dfbd80ef4": {
      "model_module": "@jupyter-widgets/controls",
      "model_module_version": "1.5.0",
      "model_name": "IntRangeSliderModel",
      "state": {
       "_model_name": "IntRangeSliderModel",
       "_view_name": "IntRangeSliderView",
       "continuous_update": false,
       "description": "Número de estados:",
       "layout": "IPY_MODEL_d71700a4080f4abaaeb4dec4dc9cb245",
       "max": 10,
       "readout_format": ".1d",
       "style": "IPY_MODEL_c48fd8f89a8d41658e765e8ad6c3441b",
       "value": [
        0,
        3
       ]
      }
     },
     "cdf49a48d59847ec8a8ee5eec13ce2de": {
      "model_module": "@jupyter-widgets/controls",
      "model_module_version": "1.5.0",
      "model_name": "BoundedIntTextModel",
      "state": {
       "description": "Tamanho da figura (Y):",
       "layout": "IPY_MODEL_a5afd45560f64286b1a5797e2dbac868",
       "max": 20,
       "style": "IPY_MODEL_de9539d516cb41a29458dfc8770124e2",
       "value": 9
      }
     },
     "ce308ed1a97442ae935ec7011dc804e4": {
      "model_module": "@jupyter-widgets/base",
      "model_module_version": "1.2.0",
      "model_name": "LayoutModel",
      "state": {}
     },
     "cfbfe6b13e814ec5be8da6564b5b0d4f": {
      "model_module": "@jupyter-widgets/controls",
      "model_module_version": "1.5.0",
      "model_name": "TabModel",
      "state": {
       "_titles": {
        "0": "Gerar o Sistema",
        "1": "Funções de Onda"
       },
       "children": [
        "IPY_MODEL_b9a19280897b4236b78ae0c8d94985f1",
        "IPY_MODEL_1304ca1874014912b078042f1fd48bf4"
       ],
       "layout": "IPY_MODEL_d96d011209a743cdb82bc057db1666d5",
       "selected_index": 1
      }
     },
     "d0e96f6d4aff41418fa06d512f231aa8": {
      "model_module": "@jupyter-widgets/base",
      "model_module_version": "1.2.0",
      "model_name": "LayoutModel",
      "state": {
       "display": "flex",
       "width": "90%"
      }
     },
     "d2dea1afdaa747bab3460c2589fdf714": {
      "model_module": "@jupyter-widgets/base",
      "model_module_version": "1.2.0",
      "model_name": "LayoutModel",
      "state": {}
     },
     "d71700a4080f4abaaeb4dec4dc9cb245": {
      "model_module": "@jupyter-widgets/base",
      "model_module_version": "1.2.0",
      "model_name": "LayoutModel",
      "state": {
       "display": "flex",
       "width": "90%"
      }
     },
     "d75a28d4065e48e99fbd076ae611dff8": {
      "model_module": "@jupyter-widgets/controls",
      "model_module_version": "1.5.0",
      "model_name": "DescriptionStyleModel",
      "state": {
       "description_width": "initial"
      }
     },
     "d84845b6d036451f881997b0687e37e5": {
      "model_module": "@jupyter-widgets/base",
      "model_module_version": "1.2.0",
      "model_name": "LayoutModel",
      "state": {}
     },
     "d84872d6e2ce4677839ba5b494c68e7f": {
      "model_module": "@jupyter-widgets/base",
      "model_module_version": "1.2.0",
      "model_name": "LayoutModel",
      "state": {}
     },
     "d96d011209a743cdb82bc057db1666d5": {
      "model_module": "@jupyter-widgets/base",
      "model_module_version": "1.2.0",
      "model_name": "LayoutModel",
      "state": {}
     },
     "da3a92a5f6e84b6fa54b313b8600f476": {
      "model_module": "@jupyter-widgets/base",
      "model_module_version": "1.2.0",
      "model_name": "LayoutModel",
      "state": {}
     },
     "dac264d704784c788c0dab700c5f3863": {
      "model_module": "@jupyter-widgets/controls",
      "model_module_version": "1.5.0",
      "model_name": "DescriptionStyleModel",
      "state": {
       "description_width": "initial"
      }
     },
     "db5f8b2df880488b90535c73e54122ba": {
      "model_module": "@jupyter-widgets/controls",
      "model_module_version": "1.5.0",
      "model_name": "ButtonStyleModel",
      "state": {}
     },
     "db68ec5f4b2f4b5186575d9e9fbace6e": {
      "model_module": "@jupyter-widgets/base",
      "model_module_version": "1.2.0",
      "model_name": "LayoutModel",
      "state": {}
     },
     "de791dfdff4d4e5e90fa929ed0566f44": {
      "model_module": "@jupyter-widgets/controls",
      "model_module_version": "1.5.0",
      "model_name": "DescriptionStyleModel",
      "state": {
       "description_width": "initial"
      }
     },
     "de7f87f6ca31412cbc5a6ab103fd6f3a": {
      "model_module": "@jupyter-widgets/controls",
      "model_module_version": "1.5.0",
      "model_name": "DropdownModel",
      "state": {
       "_options_labels": [
        "densidades de probabilidades",
        "Funções de onda (parte real, +)",
        "Funções de onda (parte real, -)",
        "Funções de onda (parte imaginária)"
       ],
       "description": "Plotar as",
       "index": 0,
       "layout": "IPY_MODEL_7080a277a3e94e1baefbcc01f7ac58eb",
       "style": "IPY_MODEL_0a2d8de5dd4e4aee9462b8eb3f72450b"
      }
     },
     "de9539d516cb41a29458dfc8770124e2": {
      "model_module": "@jupyter-widgets/controls",
      "model_module_version": "1.5.0",
      "model_name": "DescriptionStyleModel",
      "state": {
       "description_width": "initial"
      }
     },
     "deecc1dbb68e40ee8fcb32d1c06f7237": {
      "model_module": "@jupyter-widgets/controls",
      "model_module_version": "1.5.0",
      "model_name": "FloatRangeSliderModel",
      "state": {
       "_model_name": "FloatRangeSliderModel",
       "_view_name": "FloatRangeSliderView",
       "continuous_update": false,
       "description": "Domínio de $\\Psi(x)$: ",
       "layout": "IPY_MODEL_d71700a4080f4abaaeb4dec4dc9cb245",
       "max": 150,
       "min": -150,
       "readout_format": "1d",
       "style": "IPY_MODEL_f352a01cf32e4f898618409fdc0b05d7",
       "value": [
        -50,
        50
       ]
      }
     },
     "e0cb76e70ab24b209fa48b22a61fad0f": {
      "model_module": "@jupyter-widgets/controls",
      "model_module_version": "1.5.0",
      "model_name": "DropdownModel",
      "state": {
       "_options_labels": [
        "densidades de probabilidades",
        "Funções de onda (parte real, +)",
        "Funções de onda (parte real, -)",
        "Funções de onda (parte imaginária)"
       ],
       "description": "Plotar as",
       "index": 0,
       "layout": "IPY_MODEL_efc14feed0674cacbe95742a004748da",
       "style": "IPY_MODEL_7f46128e1acf47afb414fd016f73380e"
      }
     },
     "e0deaf8cfb2b4101836e07b1305c6963": {
      "model_module": "@jupyter-widgets/controls",
      "model_module_version": "1.5.0",
      "model_name": "TabModel",
      "state": {
       "_titles": {
        "0": "Gerar o Sistema",
        "1": "Funções de Onda"
       },
       "children": [
        "IPY_MODEL_cb40744ff92d43bdbc8ef01d60894138",
        "IPY_MODEL_f1001af95e4a4ebba9816562a7afaaf1"
       ],
       "layout": "IPY_MODEL_5caf2ece00d34f919a371c95557f821a"
      }
     },
     "e1f4d6fa8eea421693b713c88a60d458": {
      "model_module": "@jupyter-widgets/controls",
      "model_module_version": "1.5.0",
      "model_name": "VBoxModel",
      "state": {
       "_dom_classes": [
        "widget-interact"
       ],
       "children": [
        "IPY_MODEL_2dc848a4537149b7a0d085233ece24d6",
        "IPY_MODEL_412ffaaf16a1422d99fa795b7e879827",
        "IPY_MODEL_13377ec0383345099727b04c1d3fce04",
        "IPY_MODEL_17f8738a95684d979ff5c2b54241454c"
       ],
       "layout": "IPY_MODEL_9da94899865246bfb80206dbcf3332ea"
      }
     },
     "e35a550d9462402b8071a2154df2a5b3": {
      "model_module": "@jupyter-widgets/base",
      "model_module_version": "1.2.0",
      "model_name": "LayoutModel",
      "state": {}
     },
     "e61241d6ab0740b78a1c0c9d23b9cdfc": {
      "model_module": "@jupyter-widgets/controls",
      "model_module_version": "1.5.0",
      "model_name": "ButtonStyleModel",
      "state": {}
     },
     "e754b8d2ed094578a37d8f36e3f797d4": {
      "model_module": "@jupyter-widgets/output",
      "model_module_version": "1.0.0",
      "model_name": "OutputModel",
      "state": {
       "layout": "IPY_MODEL_a85c55f17ff949c2affd95cb97b235d1",
       "outputs": [
        {
         "ename": "NameError",
         "evalue": "name 'prob' is not defined",
         "output_type": "error",
         "traceback": [
          "\u001b[0;31m---------------------------------------------------------------------------\u001b[0m",
          "\u001b[0;31mNameError\u001b[0m                                 Traceback (most recent call last)",
          "\u001b[0;32m~/miniconda3/lib/python3.9/site-packages/ipywidgets/widgets/interaction.py\u001b[0m in \u001b[0;36mupdate\u001b[0;34m(self, *args)\u001b[0m\n\u001b[1;32m    254\u001b[0m                     \u001b[0mvalue\u001b[0m \u001b[0;34m=\u001b[0m \u001b[0mwidget\u001b[0m\u001b[0;34m.\u001b[0m\u001b[0mget_interact_value\u001b[0m\u001b[0;34m(\u001b[0m\u001b[0;34m)\u001b[0m\u001b[0;34m\u001b[0m\u001b[0;34m\u001b[0m\u001b[0m\n\u001b[1;32m    255\u001b[0m                     \u001b[0mself\u001b[0m\u001b[0;34m.\u001b[0m\u001b[0mkwargs\u001b[0m\u001b[0;34m[\u001b[0m\u001b[0mwidget\u001b[0m\u001b[0;34m.\u001b[0m\u001b[0m_kwarg\u001b[0m\u001b[0;34m]\u001b[0m \u001b[0;34m=\u001b[0m \u001b[0mvalue\u001b[0m\u001b[0;34m\u001b[0m\u001b[0;34m\u001b[0m\u001b[0m\n\u001b[0;32m--> 256\u001b[0;31m                 \u001b[0mself\u001b[0m\u001b[0;34m.\u001b[0m\u001b[0mresult\u001b[0m \u001b[0;34m=\u001b[0m \u001b[0mself\u001b[0m\u001b[0;34m.\u001b[0m\u001b[0mf\u001b[0m\u001b[0;34m(\u001b[0m\u001b[0;34m**\u001b[0m\u001b[0mself\u001b[0m\u001b[0;34m.\u001b[0m\u001b[0mkwargs\u001b[0m\u001b[0;34m)\u001b[0m\u001b[0;34m\u001b[0m\u001b[0;34m\u001b[0m\u001b[0m\n\u001b[0m\u001b[1;32m    257\u001b[0m                 \u001b[0mshow_inline_matplotlib_plots\u001b[0m\u001b[0;34m(\u001b[0m\u001b[0;34m)\u001b[0m\u001b[0;34m\u001b[0m\u001b[0;34m\u001b[0m\u001b[0m\n\u001b[1;32m    258\u001b[0m                 \u001b[0;32mif\u001b[0m \u001b[0mself\u001b[0m\u001b[0;34m.\u001b[0m\u001b[0mauto_display\u001b[0m \u001b[0;32mand\u001b[0m \u001b[0mself\u001b[0m\u001b[0;34m.\u001b[0m\u001b[0mresult\u001b[0m \u001b[0;32mis\u001b[0m \u001b[0;32mnot\u001b[0m \u001b[0;32mNone\u001b[0m\u001b[0;34m:\u001b[0m\u001b[0;34m\u001b[0m\u001b[0;34m\u001b[0m\u001b[0m\n",
          "\u001b[0;32m<ipython-input-1-b6a9151c491a>\u001b[0m in \u001b[0;36mplotall\u001b[0;34m(NES, limx, wav, xs, ys)\u001b[0m\n\u001b[1;32m     77\u001b[0m     \u001b[0;32mif\u001b[0m \u001b[0mwav\u001b[0m\u001b[0;34m==\u001b[0m\u001b[0;36m1\u001b[0m\u001b[0;34m:\u001b[0m\u001b[0;34m\u001b[0m\u001b[0;34m\u001b[0m\u001b[0m\n\u001b[1;32m     78\u001b[0m         \u001b[0;32mfor\u001b[0m \u001b[0mi\u001b[0m \u001b[0;32min\u001b[0m \u001b[0mrange\u001b[0m\u001b[0;34m(\u001b[0m\u001b[0mnmax\u001b[0m\u001b[0;34m,\u001b[0m\u001b[0mnmin\u001b[0m\u001b[0;34m-\u001b[0m\u001b[0;36m1\u001b[0m\u001b[0;34m,\u001b[0m\u001b[0;34m-\u001b[0m\u001b[0;36m1\u001b[0m\u001b[0;34m)\u001b[0m\u001b[0;34m:\u001b[0m\u001b[0;34m\u001b[0m\u001b[0;34m\u001b[0m\u001b[0m\n\u001b[0;32m---> 79\u001b[0;31m             fig=plt.plot(x,prob[:,i]+eig[i], \n\u001b[0m\u001b[1;32m     80\u001b[0m                          label=f'$E_{i}={eig[i]:2f}$ eV')\n\u001b[1;32m     81\u001b[0m     \u001b[0;32melif\u001b[0m \u001b[0mwav\u001b[0m\u001b[0;34m==\u001b[0m\u001b[0;36m2\u001b[0m\u001b[0;34m:\u001b[0m\u001b[0;34m\u001b[0m\u001b[0;34m\u001b[0m\u001b[0m\n",
          "\u001b[0;31mNameError\u001b[0m: name 'prob' is not defined"
         ]
        }
       ]
      }
     },
     "e77723a656374e6cbc8cbee09cbd77ce": {
      "model_module": "@jupyter-widgets/controls",
      "model_module_version": "1.5.0",
      "model_name": "BoundedIntTextModel",
      "state": {
       "description": "Tamanho da figura (Y):",
       "layout": "IPY_MODEL_1a2757987cd7421fa3fb684eba5ea28e",
       "max": 20,
       "style": "IPY_MODEL_332ad7e0a0c64a54b579d9c4d94b2619",
       "value": 9
      }
     },
     "ea643edab27543e9acaa16010bf83793": {
      "model_module": "@jupyter-widgets/controls",
      "model_module_version": "1.5.0",
      "model_name": "BoundedIntTextModel",
      "state": {
       "description": "Tamanho da figura (X):",
       "layout": "IPY_MODEL_71dbd8ccf3734a248ee44ebe190b031c",
       "max": 20,
       "style": "IPY_MODEL_f178cd555c974005aea1c079ec299b64",
       "value": 16
      }
     },
     "eabc2c3f90954c39b2be5b6ae1e00e1e": {
      "model_module": "@jupyter-widgets/base",
      "model_module_version": "1.2.0",
      "model_name": "LayoutModel",
      "state": {}
     },
     "eb426be3911d473aac35d7a4574f2d6d": {
      "model_module": "@jupyter-widgets/base",
      "model_module_version": "1.2.0",
      "model_name": "LayoutModel",
      "state": {}
     },
     "eb5f7e169ba3490896332418a365a0f9": {
      "model_module": "@jupyter-widgets/output",
      "model_module_version": "1.0.0",
      "model_name": "OutputModel",
      "state": {
       "layout": "IPY_MODEL_cd854491a1ef43b8a1e2e5bc37bce3a6",
       "outputs": [
        {
         "data": {
          "image/png": "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\n",
          "text/plain": "<Figure size 864x576 with 1 Axes>"
         },
         "metadata": {
          "needs_background": "light"
         },
         "output_type": "display_data"
        }
       ]
      }
     },
     "ed9f4b1fc54044d0905146b8ba497259": {
      "model_module": "@jupyter-widgets/controls",
      "model_module_version": "1.5.0",
      "model_name": "SliderStyleModel",
      "state": {
       "description_width": "initial"
      }
     },
     "eeb3ea769f7a4a54ba58caac1fbc947b": {
      "model_module": "@jupyter-widgets/controls",
      "model_module_version": "1.5.0",
      "model_name": "VBoxModel",
      "state": {
       "children": [
        "IPY_MODEL_4b08c77d2724458994d019a36a55d1fa",
        "IPY_MODEL_a495366fde104aa8ac83cbdb2b3cdd0e"
       ],
       "layout": "IPY_MODEL_d84872d6e2ce4677839ba5b494c68e7f"
      }
     },
     "efc14feed0674cacbe95742a004748da": {
      "model_module": "@jupyter-widgets/base",
      "model_module_version": "1.2.0",
      "model_name": "LayoutModel",
      "state": {}
     },
     "f1001af95e4a4ebba9816562a7afaaf1": {
      "model_module": "@jupyter-widgets/controls",
      "model_module_version": "1.5.0",
      "model_name": "VBoxModel",
      "state": {
       "_dom_classes": [
        "widget-interact"
       ],
       "children": [
        "IPY_MODEL_cdec879325484ac3badebe4dfbd80ef4",
        "IPY_MODEL_708ef625cb644584a2cd785e3cc7b755",
        "IPY_MODEL_5cec74b7d6e04124b44b327f8e7bf8b9",
        "IPY_MODEL_7db8da004a1948d6b995398e425e5883",
        "IPY_MODEL_307be17527d8405eaee2ed8971ef175e",
        "IPY_MODEL_c85362ff819645cc9b6f4ee976ae66b5",
        "IPY_MODEL_4879868083eb412497e4c80b50c4f96b"
       ],
       "layout": "IPY_MODEL_2a7d5b434d864f7c86306aec05a3e348"
      }
     },
     "f178cd555c974005aea1c079ec299b64": {
      "model_module": "@jupyter-widgets/controls",
      "model_module_version": "1.5.0",
      "model_name": "DescriptionStyleModel",
      "state": {
       "description_width": "initial"
      }
     },
     "f251a36c606049748db66f2277d3a417": {
      "model_module": "@jupyter-widgets/base",
      "model_module_version": "1.2.0",
      "model_name": "LayoutModel",
      "state": {}
     },
     "f352a01cf32e4f898618409fdc0b05d7": {
      "model_module": "@jupyter-widgets/controls",
      "model_module_version": "1.5.0",
      "model_name": "SliderStyleModel",
      "state": {
       "description_width": "initial"
      }
     },
     "f4d8c167641c414da47d520bfa5c6455": {
      "model_module": "@jupyter-widgets/controls",
      "model_module_version": "1.5.0",
      "model_name": "DescriptionStyleModel",
      "state": {
       "description_width": "initial"
      }
     },
     "fa43acd7b1d84e7b8d75d9919c2ad4b9": {
      "model_module": "@jupyter-widgets/controls",
      "model_module_version": "1.5.0",
      "model_name": "IntRangeSliderModel",
      "state": {
       "_model_name": "IntRangeSliderModel",
       "_view_name": "IntRangeSliderView",
       "continuous_update": false,
       "description": "Número de estados:",
       "layout": "IPY_MODEL_d0e96f6d4aff41418fa06d512f231aa8",
       "max": 10,
       "readout_format": ".1d",
       "style": "IPY_MODEL_3c3715f1914a4e7084013725cd840833",
       "value": [
        0,
        3
       ]
      }
     },
     "fb9ac0fc59d94d339ff31e037106359f": {
      "model_module": "@jupyter-widgets/controls",
      "model_module_version": "1.5.0",
      "model_name": "VBoxModel",
      "state": {
       "_dom_classes": [
        "widget-interact"
       ],
       "children": [
        "IPY_MODEL_deecc1dbb68e40ee8fcb32d1c06f7237",
        "IPY_MODEL_5ab48603caf34c8d8b8d3fbe50733c94",
        "IPY_MODEL_2389019c5111438095819f602d9a5469",
        "IPY_MODEL_eb5f7e169ba3490896332418a365a0f9"
       ],
       "layout": "IPY_MODEL_c6bff3d0b31f4790ba563a4e99b81feb"
      }
     },
     "fcd6689b24604d26b0209e733788de2e": {
      "model_module": "@jupyter-widgets/base",
      "model_module_version": "1.2.0",
      "model_name": "LayoutModel",
      "state": {}
     },
     "fd59d0a598ca4de5a40e21eb9752385f": {
      "model_module": "@jupyter-widgets/controls",
      "model_module_version": "1.5.0",
      "model_name": "ButtonStyleModel",
      "state": {}
     },
     "ff1473f310e14b499d325c15c00800ba": {
      "model_module": "@jupyter-widgets/controls",
      "model_module_version": "1.5.0",
      "model_name": "ButtonStyleModel",
      "state": {}
     },
     "ff5647710e4b4c318665e7c7622d7d93": {
      "model_module": "@jupyter-widgets/base",
      "model_module_version": "1.2.0",
      "model_name": "LayoutModel",
      "state": {}
     },
     "ff99da7ac33b480581148e7016082104": {
      "model_module": "@jupyter-widgets/base",
      "model_module_version": "1.2.0",
      "model_name": "LayoutModel",
      "state": {}
     }
    },
    "version_major": 2,
    "version_minor": 0
   }
  }
 },
 "nbformat": 4,
 "nbformat_minor": 5
}
