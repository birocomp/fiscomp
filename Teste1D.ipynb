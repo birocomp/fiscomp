{
 "cells": [
  {
   "cell_type": "markdown",
   "id": "83e7512f",
   "metadata": {},
   "source": [
    "# Como usar\n",
    "\n",
    "## 1. Na aba 'Gerar o Sistema':escolha os parâmetros e clique em 'Gerar/Resolver' para gerar a equação matricial e resolvê-la.\n",
    "\n",
    "## 2. Na aba 'Funções de Onda' escolha os parâmetros do plot e clique em 'Plotar'.\n",
    "\n",
    "***"
   ]
  },
  {
   "cell_type": "code",
   "execution_count": 1,
   "id": "2b172b49",
   "metadata": {},
   "outputs": [
    {
     "data": {
      "application/vnd.jupyter.widget-view+json": {
       "model_id": "b2d065dd03a74f05b85e4a030b52dc34",
       "version_major": 2,
       "version_minor": 0
      },
      "text/plain": [
       "Tab(children=(interactive(children=(FloatRangeSlider(value=(-50.0, 50.0), continuous_update=False, description…"
      ]
     },
     "metadata": {},
     "output_type": "display_data"
    }
   ],
   "source": [
    "import numpy as np\n",
    "import scipy.sparse as sparse\n",
    "import matplotlib.pyplot as plt\n",
    "from numba import jit\n",
    "import ipywidgets as wid\n",
    "from ipywidgets import interactive\n",
    "from ipywidgets.embed import embed_minimal_html\n",
    "\n",
    "RY=13.6056980659 #x*RY: Rydberg -> ev\n",
    "ang=1.88973 #X/ang: raio de bohr -> angstroms\n",
    "\n",
    "def diag(xx,N):\n",
    "    global x,psi,prob,eig,V,L\n",
    "    def vetores(xx,N):\n",
    "        xmin,xmax=xx\n",
    "        x,dx=np.linspace(xmin*ang,xmax*ang, N, retstep=True) #Define o vetor posição (raio de bohr)\n",
    "        return x,dx,xmin,xmax\n",
    "    \n",
    "    @jit\n",
    "    def diagH(H,V):\n",
    "        H=H+V\n",
    "        eig, psi=np.linalg.eigh(H) #Resolve o sistema e atribui-se: eig=autovalores, psi=autovetores\n",
    "        prob=np.abs(psi)**2 #Atribui a densidade de probabilidade |Psi|² a variável psi, por conveniência\n",
    "        return H,V,psi,prob,eig\n",
    "    \n",
    "    x,dx,xmin,xmax=vetores(xx,N)\n",
    "    a=- 1/(dx**2) #Define 'a' por conveniência\n",
    "    N=x.size #Armazena o tamanho do vetor posição e o comprimento do espaço que ele representa\n",
    "    V=sparse.diags([0],[0],shape=(N,N)).toarray() #Cria uma matriz NxN com o potencial V(x)\n",
    "    H=sparse.diags([a,-2*a,a],[-1,0,1],shape=(N,N)).toarray() #Cria a matriz Hamiltoniano\n",
    "    H,V,psi,prob,eig=diagH(H,V)\n",
    "    \n",
    "    eig=eig*RY #Ryd->eV\n",
    "    x=x/ang #RBohr->angstroms\n",
    "    L=x.max()-x.min()\n",
    "    \n",
    "    print('\\n #########Propriedades espaciais do sistema resolvido (angstroms)######### ')\n",
    "    print(f\"\\n Largura do domínio =  {L:.2f}\")\n",
    "    print(f\"\\n dx =  {dx:.2f}\")\n",
    "    print(\"\\n #########################################################################\")\n",
    "    print(\"\\n Siga para a aba 'Funções de onda' para plotar o resultado.\")\n",
    "    \n",
    "def plotall(NES,limx,wav):\n",
    "    global V\n",
    "    #V=np.diag(V,k=0)\n",
    "    fig, ax= plt.subplots(figsize(9,16))\n",
    "    nmin,nmax=NES\n",
    "    ax.set_xlim([x.min()-limx, x.max()+ limx])\n",
    "    ax.set_xlabel('$x (\\AA$)')\n",
    "    ax.set_ylabel('Auto energias (eV)')\n",
    "    \n",
    "    if wav==1:\n",
    "        for i in range(nmax,nmin-1,-1):\n",
    "            fig=plt.plot(x,prob[:,i]+eig[i], \n",
    "                         label=f'$E_{i}={eig[i]:2f}$ eV')\n",
    "    elif wav==2:\n",
    "        for i in range(nmax,nmin-1,-1):\n",
    "            fig=plt.plot(x,np.real(psi[:,i])+eig[i], \n",
    "                         label=f'$E_{i}={eig[i]:2f}$ eV')\n",
    "    elif wav==3:\n",
    "        for i in range(nmax,nmin-1,-1):\n",
    "            fig=plt.plot(x,np.imag(psi[:,i])+eig[i], \n",
    "                         label=f'$E_{i}={eig[i]:2f}$ eV')\n",
    "            \n",
    "    fig=plt.axvline(x=x.min(),color='k',ls='--')\n",
    "    fig=plt.axvline(x=x.max(),color='k',ls='--')\n",
    "    #fig=plt.plot(x,V,'k',label='V($x$)')\n",
    "    leg=plt.legend(loc='upper right')\n",
    "    plt.show()\n",
    "\n",
    "\n",
    "lslider=wid.Layout(width='90%', display='flex');\n",
    "sty = {'description_width': 'initial'};\n",
    "\n",
    "MAIN=interactive(diag, {'manual': True}, \n",
    "                    xx=wid.FloatRangeSlider(\n",
    "                        value=[-50.0, 50.0],\n",
    "                        min=-150.0,\n",
    "                        max=150.0,\n",
    "                        step=1,\n",
    "                        continuous_update=False,\n",
    "                        orientation='horizontal',\n",
    "                        readout_format='1d',\n",
    "                        layout=lslider,\n",
    "                        description=('$x_{min}-x_{max}$'),\n",
    "                        style=sty), \n",
    "                    N=wid.IntSlider(value=500,\n",
    "                        min=200,\n",
    "                        max=2000,\n",
    "                        step=10,\n",
    "                        continuous_update=False, \n",
    "                        layout=lslider,\n",
    "                        description=('Número de pontos: '),\n",
    "                        style=sty))\n",
    "\n",
    "\n",
    "PLOT=interactive(plotall, {'manual': True}, \n",
    "                    NES=wid.IntRangeSlider(\n",
    "                        value=[0, 3],\n",
    "                        min=0,\n",
    "                        max=10,\n",
    "                        step=1,\n",
    "                        description='Plotar N. Estados:',\n",
    "                        continuous_update=False,\n",
    "                        orientation='horizontal',\n",
    "                        readout_format='.1d',\n",
    "                        layout=lslider,\n",
    "                        style=sty),\n",
    "                    limx=wid.IntSlider(\n",
    "                        value=20,\n",
    "                        min=0,\n",
    "                        max=80,\n",
    "                        step=1,\n",
    "                        description='Margens em $x$:   ',\n",
    "                        continuous_update=False,\n",
    "                        layout=lslider,\n",
    "                        style=sty),\n",
    "                    wav=wid.Dropdown(\n",
    "                        options=[('densidades de probabilidades',1),\n",
    "                                 ('funções de onda (parte real)',2),\n",
    "                                 ('funções de onda (parte imaginária)',3)],\n",
    "                        value=1,\n",
    "                        description='Plotar as',\n",
    "                        continuous_update=False))\n",
    "\n",
    "MAIN.children[2].description=('Gerar/Resolver');\n",
    "PLOT.children[3].description=('Plotar');\n",
    "\n",
    "tab=wid.Tab(children=[MAIN,PLOT])\n",
    "tab.set_title(0, 'Gerar o Sistema')\n",
    "tab.set_title(1, 'Funções de Onda')\n",
    "\n",
    "display(tab)\n"
   ]
  },
  {
   "cell_type": "code",
   "execution_count": null,
   "id": "7053032b",
   "metadata": {},
   "outputs": [],
   "source": []
  }
 ],
 "metadata": {
  "hide_input": false,
  "kernelspec": {
   "display_name": "Python 3",
   "language": "python",
   "name": "python3"
  },
  "language_info": {
   "codemirror_mode": {
    "name": "ipython",
    "version": 3
   },
   "file_extension": ".py",
   "mimetype": "text/x-python",
   "name": "python",
   "nbconvert_exporter": "python",
   "pygments_lexer": "ipython3",
   "version": "3.9.5"
  },
  "toc": {
   "base_numbering": 1,
   "nav_menu": {},
   "number_sections": true,
   "sideBar": true,
   "skip_h1_title": false,
   "title_cell": "Table of Contents",
   "title_sidebar": "Contents",
   "toc_cell": false,
   "toc_position": {},
   "toc_section_display": true,
   "toc_window_display": false
  },
  "widgets": {
   "application/vnd.jupyter.widget-state+json": {
    "state": {
     "0317c9a37a58494187e2ed0fc2ec9bc0": {
      "model_module": "@jupyter-widgets/controls",
      "model_module_version": "1.5.0",
      "model_name": "VBoxModel",
      "state": {
       "_dom_classes": [
        "widget-interact"
       ],
       "children": [
        "IPY_MODEL_6fb0b8bf8e164c5eb35754dce18c90ed",
        "IPY_MODEL_70ba5b29337b4758a99b1cfb9c921231",
        "IPY_MODEL_23af9965e9de47beb01f0bc78b998d78",
        "IPY_MODEL_194ac2d64d444bcc97f4a78c6ccecbab",
        "IPY_MODEL_ff4b7300dbbb4c0e8609a9195d64c83b"
       ],
       "layout": "IPY_MODEL_c476b2f8b820410d97a7b396aebd0105"
      }
     },
     "158ac0bbd26a4080b2e92aa972a7d142": {
      "model_module": "@jupyter-widgets/controls",
      "model_module_version": "1.5.0",
      "model_name": "SliderStyleModel",
      "state": {
       "description_width": "initial"
      }
     },
     "194ac2d64d444bcc97f4a78c6ccecbab": {
      "model_module": "@jupyter-widgets/controls",
      "model_module_version": "1.5.0",
      "model_name": "ButtonModel",
      "state": {
       "description": "Plotar",
       "layout": "IPY_MODEL_6c4210864a5045c3aeecafe1aaf3218a",
       "style": "IPY_MODEL_c3eccb19adf746b8955c157b17b37c82"
      }
     },
     "23af9965e9de47beb01f0bc78b998d78": {
      "model_module": "@jupyter-widgets/controls",
      "model_module_version": "1.5.0",
      "model_name": "DropdownModel",
      "state": {
       "_options_labels": [
        "densidades de probabilidades",
        "funções de onda (parte real)",
        "funções de onda (parte imaginária)"
       ],
       "description": "Plotar as",
       "index": 0,
       "layout": "IPY_MODEL_8cc35d0db1d6477e8daecbc54e21b722",
       "style": "IPY_MODEL_f77331fd94bc4462a4b1e0e1a6c1ae83"
      }
     },
     "2b791f11c35a467fae834544be8dbc06": {
      "model_module": "@jupyter-widgets/base",
      "model_module_version": "1.2.0",
      "model_name": "LayoutModel",
      "state": {}
     },
     "4d11a1427cc34f58b137cb6185abe77c": {
      "model_module": "@jupyter-widgets/controls",
      "model_module_version": "1.5.0",
      "model_name": "FloatRangeSliderModel",
      "state": {
       "_model_name": "FloatRangeSliderModel",
       "_view_name": "FloatRangeSliderView",
       "continuous_update": false,
       "description": "$x_{min}-x_{max}$",
       "layout": "IPY_MODEL_4f0d8588946d45149f49540728dfcddf",
       "max": 150,
       "min": -150,
       "readout_format": "1d",
       "style": "IPY_MODEL_8f02cdfa6c7c498cbc0c2ff2c05107cc",
       "value": [
        -50,
        50
       ]
      }
     },
     "4f0d8588946d45149f49540728dfcddf": {
      "model_module": "@jupyter-widgets/base",
      "model_module_version": "1.2.0",
      "model_name": "LayoutModel",
      "state": {
       "display": "flex",
       "width": "90%"
      }
     },
     "58764eed10464344ac6a9fe0e2285c40": {
      "model_module": "@jupyter-widgets/controls",
      "model_module_version": "1.5.0",
      "model_name": "VBoxModel",
      "state": {
       "_dom_classes": [
        "widget-interact"
       ],
       "children": [
        "IPY_MODEL_4d11a1427cc34f58b137cb6185abe77c",
        "IPY_MODEL_fba50344e4544478a2516054dae505af",
        "IPY_MODEL_fb12a228e66945949f75f86dfa354284",
        "IPY_MODEL_a670e313b4484b438a39efe3d791644e"
       ],
       "layout": "IPY_MODEL_b0fdeb3fb40e413f9494491c460ba1eb"
      }
     },
     "61e1e5a7d34843b5a359997fa3ea37c3": {
      "model_module": "@jupyter-widgets/controls",
      "model_module_version": "1.5.0",
      "model_name": "SliderStyleModel",
      "state": {
       "description_width": "initial"
      }
     },
     "68ca3c0bd7c8481fadf1596d16cb607b": {
      "model_module": "@jupyter-widgets/controls",
      "model_module_version": "1.5.0",
      "model_name": "SliderStyleModel",
      "state": {
       "description_width": "initial"
      }
     },
     "6c4210864a5045c3aeecafe1aaf3218a": {
      "model_module": "@jupyter-widgets/base",
      "model_module_version": "1.2.0",
      "model_name": "LayoutModel",
      "state": {}
     },
     "6fb0b8bf8e164c5eb35754dce18c90ed": {
      "model_module": "@jupyter-widgets/controls",
      "model_module_version": "1.5.0",
      "model_name": "IntRangeSliderModel",
      "state": {
       "_model_name": "IntRangeSliderModel",
       "_view_name": "IntRangeSliderView",
       "continuous_update": false,
       "description": "Plotar N. Estados:",
       "layout": "IPY_MODEL_4f0d8588946d45149f49540728dfcddf",
       "max": 10,
       "readout_format": ".1d",
       "style": "IPY_MODEL_158ac0bbd26a4080b2e92aa972a7d142",
       "value": [
        0,
        3
       ]
      }
     },
     "70ba5b29337b4758a99b1cfb9c921231": {
      "model_module": "@jupyter-widgets/controls",
      "model_module_version": "1.5.0",
      "model_name": "IntSliderModel",
      "state": {
       "continuous_update": false,
       "description": "Margens em $x$:   ",
       "layout": "IPY_MODEL_4f0d8588946d45149f49540728dfcddf",
       "max": 80,
       "style": "IPY_MODEL_61e1e5a7d34843b5a359997fa3ea37c3",
       "value": 20
      }
     },
     "778aaf21e2154d3095f46eceab0ffdd9": {
      "model_module": "@jupyter-widgets/base",
      "model_module_version": "1.2.0",
      "model_name": "LayoutModel",
      "state": {}
     },
     "8cc35d0db1d6477e8daecbc54e21b722": {
      "model_module": "@jupyter-widgets/base",
      "model_module_version": "1.2.0",
      "model_name": "LayoutModel",
      "state": {}
     },
     "8f02cdfa6c7c498cbc0c2ff2c05107cc": {
      "model_module": "@jupyter-widgets/controls",
      "model_module_version": "1.5.0",
      "model_name": "SliderStyleModel",
      "state": {
       "description_width": "initial"
      }
     },
     "a670e313b4484b438a39efe3d791644e": {
      "model_module": "@jupyter-widgets/output",
      "model_module_version": "1.0.0",
      "model_name": "OutputModel",
      "state": {
       "layout": "IPY_MODEL_2b791f11c35a467fae834544be8dbc06"
      }
     },
     "aa3bac72211a4dceb798df06adb9fcd1": {
      "model_module": "@jupyter-widgets/base",
      "model_module_version": "1.2.0",
      "model_name": "LayoutModel",
      "state": {}
     },
     "aeddf63de7c04e9ab0d2003f3a6d7084": {
      "model_module": "@jupyter-widgets/base",
      "model_module_version": "1.2.0",
      "model_name": "LayoutModel",
      "state": {}
     },
     "b0fdeb3fb40e413f9494491c460ba1eb": {
      "model_module": "@jupyter-widgets/base",
      "model_module_version": "1.2.0",
      "model_name": "LayoutModel",
      "state": {}
     },
     "b2d065dd03a74f05b85e4a030b52dc34": {
      "model_module": "@jupyter-widgets/controls",
      "model_module_version": "1.5.0",
      "model_name": "TabModel",
      "state": {
       "_titles": {
        "0": "Gerar o Sistema",
        "1": "Funções de Onda"
       },
       "children": [
        "IPY_MODEL_58764eed10464344ac6a9fe0e2285c40",
        "IPY_MODEL_0317c9a37a58494187e2ed0fc2ec9bc0"
       ],
       "layout": "IPY_MODEL_aa3bac72211a4dceb798df06adb9fcd1"
      }
     },
     "c3eccb19adf746b8955c157b17b37c82": {
      "model_module": "@jupyter-widgets/controls",
      "model_module_version": "1.5.0",
      "model_name": "ButtonStyleModel",
      "state": {}
     },
     "c476b2f8b820410d97a7b396aebd0105": {
      "model_module": "@jupyter-widgets/base",
      "model_module_version": "1.2.0",
      "model_name": "LayoutModel",
      "state": {}
     },
     "d3aff02c31204028867c79b66302e6cc": {
      "model_module": "@jupyter-widgets/controls",
      "model_module_version": "1.5.0",
      "model_name": "ButtonStyleModel",
      "state": {}
     },
     "f77331fd94bc4462a4b1e0e1a6c1ae83": {
      "model_module": "@jupyter-widgets/controls",
      "model_module_version": "1.5.0",
      "model_name": "DescriptionStyleModel",
      "state": {
       "description_width": ""
      }
     },
     "fb12a228e66945949f75f86dfa354284": {
      "model_module": "@jupyter-widgets/controls",
      "model_module_version": "1.5.0",
      "model_name": "ButtonModel",
      "state": {
       "description": "Gerar/Resolver",
       "layout": "IPY_MODEL_778aaf21e2154d3095f46eceab0ffdd9",
       "style": "IPY_MODEL_d3aff02c31204028867c79b66302e6cc"
      }
     },
     "fba50344e4544478a2516054dae505af": {
      "model_module": "@jupyter-widgets/controls",
      "model_module_version": "1.5.0",
      "model_name": "IntSliderModel",
      "state": {
       "continuous_update": false,
       "description": "Número de pontos: ",
       "layout": "IPY_MODEL_4f0d8588946d45149f49540728dfcddf",
       "max": 2000,
       "min": 200,
       "step": 10,
       "style": "IPY_MODEL_68ca3c0bd7c8481fadf1596d16cb607b",
       "value": 500
      }
     },
     "ff4b7300dbbb4c0e8609a9195d64c83b": {
      "model_module": "@jupyter-widgets/output",
      "model_module_version": "1.0.0",
      "model_name": "OutputModel",
      "state": {
       "layout": "IPY_MODEL_aeddf63de7c04e9ab0d2003f3a6d7084"
      }
     }
    },
    "version_major": 2,
    "version_minor": 0
   }
  }
 },
 "nbformat": 4,
 "nbformat_minor": 5
}
