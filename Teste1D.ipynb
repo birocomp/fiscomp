{
 "cells": [
  {
   "cell_type": "markdown",
   "id": "83e7512f",
   "metadata": {},
   "source": [
    "# Como usar\n",
    "\n",
    "## 1. Na aba 'Gerar o Sistema':escolha os parâmetros e clique em 'Gerar/Resolver' para gerar a equação matricial e resolvê-la.\n",
    "\n",
    "## 2. Na aba 'Funções de Onda' escolha os parâmetros do plot e clique em 'Plotar'.\n",
    "\n",
    "***"
   ]
  },
  {
   "cell_type": "code",
   "execution_count": 11,
   "id": "2b172b49",
   "metadata": {
    "tags": []
   },
   "outputs": [
    {
     "data": {
      "application/vnd.jupyter.widget-view+json": {
       "model_id": "3ba3fdad64764375bde9e5f0676aa4f8",
       "version_major": 2,
       "version_minor": 0
      },
      "text/plain": [
       "Tab(children=(interactive(children=(FloatRangeSlider(value=(-50.0, 50.0), continuous_update=False, description…"
      ]
     },
     "metadata": {},
     "output_type": "display_data"
    }
   ],
   "source": [
    "import numpy as np\n",
    "import scipy.sparse as sparse\n",
    "import matplotlib.pyplot as plt\n",
    "from numba import jit\n",
    "import ipywidgets as wid\n",
    "from ipywidgets import interactive\n",
    "\n",
    "RY=13.6056980659 #x*RY: Rydberg -> ev\n",
    "ang=1.88973 #X/ang: raio de bohr -> angstroms\n",
    "\n",
    "def diag(xx,N):\n",
    "    global x,psi,prob,eig,V,L\n",
    "    def vetores(xx,N):\n",
    "        xmin,xmax=xx\n",
    "        x,dx=np.linspace(xmin*ang,xmax*ang, N, retstep=True) #Define o vetor posição (raio de bohr)\n",
    "        return x,dx,xmin,xmax\n",
    "    \n",
    "    @jit\n",
    "    def diagH(H,V):\n",
    "        H=H+V\n",
    "        eig, psi=np.linalg.eigh(H) #Resolve o sistema e atribui-se: eig=autovalores, psi=autovetores\n",
    "        prob=np.abs(psi)**2 #Atribui a densidade de probabilidade |Psi|² a variável psi, por conveniência\n",
    "        return H,V,psi,prob,eig\n",
    "    \n",
    "    x,dx,xmin,xmax=vetores(xx,N)\n",
    "    a=- 1/(dx**2) #Define 'a' por conveniência\n",
    "    N=x.size #Armazena o tamanho do vetor posição e o comprimento do espaço que ele representa\n",
    "    V=sparse.diags([0],[0],shape=(N,N)).toarray() #Cria uma matriz NxN com o potencial V(x)\n",
    "    H=sparse.diags([a,-2*a,a],[-1,0,1],shape=(N,N)).toarray() #Cria a matriz Hamiltoniano\n",
    "    H,V,psi,prob,eig=diagH(H,V)\n",
    "    \n",
    "    eig=eig*RY #Ryd->eV\n",
    "    x=x/ang #RBohr->angstroms\n",
    "    L=x.max()-x.min()\n",
    "    \n",
    "    print('\\n #########Propriedades espaciais do sistema resolvido (angstroms)######### ')\n",
    "    print(f\"\\n Largura do domínio =  {L:.2f}\")\n",
    "    print(f\"\\n dx =  {dx:.2f}\")\n",
    "    print(\"\\n #########################################################################\")\n",
    "    print(\"\\n Siga para a aba 'Funções de onda' para plotar o resultado.\")\n",
    "    \n",
    "def plotall(NES,limx,wav,xs,ys):\n",
    "    global V\n",
    "    #V=np.diag(V,k=0)\n",
    "    fig, ax= plt.subplots(figsize=(xs,ys))\n",
    "    nmin,nmax=NES\n",
    "    \n",
    "    ax.set_xlim([x.min()-limx, x.max()+ limx])\n",
    "    ax.set_xlabel('$x (\\AA$)')\n",
    "    ax.set_ylabel('Auto energias (eV)')\n",
    "    \n",
    "    if wav==1:\n",
    "        for i in range(nmax,nmin-1,-1):\n",
    "            fig=plt.plot(x,prob[:,i]+eig[i], \n",
    "                         label=f'$E_{i}={eig[i]:2f}$ eV')\n",
    "    elif wav==2:\n",
    "        for i in range(nmax,nmin-1,-1):\n",
    "            fig=plt.plot(x,np.real(-1*psi[:,i])+eig[i], \n",
    "                         label=f'$E_{i}={eig[i]:2f}$ eV')\n",
    "    elif wav==3:\n",
    "        for i in range(nmax,nmin-1,-1):\n",
    "            fig=plt.plot(x,np.real(psi[:,i])+eig[i], \n",
    "                         label=f'$E_{i}={eig[i]:2f}$ eV')\n",
    "    elif wav==4:\n",
    "        for i in range(nmax,nmin-1,-1):\n",
    "            fig=plt.plot(x,np.imag(psi[:,i])+eig[i], \n",
    "                         label=f'$E_{i}={eig[i]:2f}$ eV')\n",
    "            \n",
    "    fig=plt.axvline(x=x.min(),color='k',ls='--')\n",
    "    fig=plt.axvline(x=x.max(),color='k',ls='--')\n",
    "    #fig=plt.plot(x,V,'k',label='V($x$)')\n",
    "    leg=plt.legend(loc='upper right')\n",
    "    plt.show()\n",
    "\n",
    "\n",
    "lslider=wid.Layout(width='90%', display='flex');\n",
    "sty = {'description_width': 'initial'};\n",
    "\n",
    "MAIN=interactive(diag, {'manual': True}, \n",
    "                    xx=wid.FloatRangeSlider(\n",
    "                        value=[-50.0, 50.0],\n",
    "                        min=-150.0,\n",
    "                        max=150.0,\n",
    "                        step=1,\n",
    "                        continuous_update=False,\n",
    "                        orientation='horizontal',\n",
    "                        readout_format='1d',\n",
    "                        layout=lslider,\n",
    "                        description=('Domínio de $\\Psi(x)$: '),\n",
    "                        style=sty), \n",
    "                    N=wid.IntSlider(value=500,\n",
    "                        min=200,\n",
    "                        max=2000,\n",
    "                        step=10,\n",
    "                        continuous_update=False, \n",
    "                        layout=lslider,\n",
    "                        description=('Número de pontos: '),\n",
    "                        style=sty))\n",
    "\n",
    "\n",
    "PLOT=interactive(plotall, {'manual': True}, \n",
    "                    NES=wid.IntRangeSlider(\n",
    "                        value=[0, 3],\n",
    "                        min=0,\n",
    "                        max=10,\n",
    "                        step=1,\n",
    "                        description='Número de estados:',\n",
    "                        continuous_update=False,\n",
    "                        orientation='horizontal',\n",
    "                        readout_format='.1d',\n",
    "                        layout=lslider,\n",
    "                        style=sty),\n",
    "                    limx=wid.IntSlider(\n",
    "                        value=20,\n",
    "                        min=0,\n",
    "                        max=80,\n",
    "                        step=1,\n",
    "                        description='Margens horizontais em $x$:   ',\n",
    "                        continuous_update=False,\n",
    "                        layout=lslider,\n",
    "                        style=sty),\n",
    "                    wav=wid.Dropdown(\n",
    "                        options=[('densidades de probabilidades',1),\n",
    "                                 ('Funções de onda (parte real, +)',2),\n",
    "                                 ('Funções de onda (parte real, -)',3),\n",
    "                                 ('Funções de onda (parte imaginária)',4)],\n",
    "                        value=1,\n",
    "                        description='Plotar as',\n",
    "                        continuous_update=False,\n",
    "                        style=sty),\n",
    "                    xs=wid.BoundedIntText(\n",
    "                        value=16,\n",
    "                        min=0,\n",
    "                        max=20,\n",
    "                        step=1,\n",
    "                        description='Tamanho da figura (X):',\n",
    "                        continuous_update=False,\n",
    "                        style=sty),\n",
    "                    ys=wid.BoundedIntText(\n",
    "                        value=9,\n",
    "                        min=0,\n",
    "                        max=20,\n",
    "                        step=1,\n",
    "                        description='Tamanho da figura (Y):',\n",
    "                        continuous_update=False,\n",
    "                        style=sty))\n",
    "\n",
    "MAIN.children[2].description=('Gerar/Resolver');\n",
    "PLOT.children[5].description=('Plotar');\n",
    "\n",
    "tab=wid.Tab(children=[MAIN,PLOT])\n",
    "tab.set_title(0, 'Gerar o Sistema')\n",
    "tab.set_title(1, 'Funções de Onda')\n",
    "\n",
    "display(tab)\n"
   ]
  },
  {
   "cell_type": "code",
   "execution_count": null,
   "id": "7053032b",
   "metadata": {},
   "outputs": [],
   "source": []
  }
 ],
 "metadata": {
  "hide_input": false,
  "kernelspec": {
   "display_name": "Python 3",
   "language": "python",
   "name": "python3"
  },
  "language_info": {
   "codemirror_mode": {
    "name": "ipython",
    "version": 3
   },
   "file_extension": ".py",
   "mimetype": "text/x-python",
   "name": "python",
   "nbconvert_exporter": "python",
   "pygments_lexer": "ipython3",
   "version": "3.9.5"
  },
  "toc": {
   "base_numbering": 1,
   "nav_menu": {},
   "number_sections": true,
   "sideBar": true,
   "skip_h1_title": false,
   "title_cell": "Table of Contents",
   "title_sidebar": "Contents",
   "toc_cell": false,
   "toc_position": {},
   "toc_section_display": true,
   "toc_window_display": false
  },
  "widgets": {
   "application/vnd.jupyter.widget-state+json": {
    "state": {
     "0011ea62ec9544738f0b10d9236e5932": {
      "model_module": "@jupyter-widgets/controls",
      "model_module_version": "1.5.0",
      "model_name": "DescriptionStyleModel",
      "state": {
       "description_width": "initial"
      }
     },
     "0023372fff034858abb75ccedabe4ed0": {
      "model_module": "@jupyter-widgets/controls",
      "model_module_version": "1.5.0",
      "model_name": "IntRangeSliderModel",
      "state": {
       "_model_name": "IntRangeSliderModel",
       "_view_name": "IntRangeSliderView",
       "continuous_update": false,
       "description": "Número de estados:",
       "layout": "IPY_MODEL_997d2cd4ed274d45a6d9f447916d352e",
       "max": 10,
       "readout_format": ".1d",
       "style": "IPY_MODEL_b1c65c02b6bc4717905abba671b4f7cd",
       "value": [
        0,
        3
       ]
      }
     },
     "00d888d3b55b4797880f013d4dacccb9": {
      "model_module": "@jupyter-widgets/controls",
      "model_module_version": "1.5.0",
      "model_name": "IntRangeSliderModel",
      "state": {
       "_model_name": "IntRangeSliderModel",
       "_view_name": "IntRangeSliderView",
       "continuous_update": false,
       "description": "Número de estados:",
       "layout": "IPY_MODEL_87018481a1cf4850a7c40e8f612860e7",
       "max": 10,
       "readout_format": ".1d",
       "style": "IPY_MODEL_6abb5af5280e4b3dbac7a0373e86da36",
       "value": [
        0,
        3
       ]
      }
     },
     "011737fe42ee4610a43b7beab84580ef": {
      "model_module": "@jupyter-widgets/base",
      "model_module_version": "1.2.0",
      "model_name": "LayoutModel",
      "state": {}
     },
     "0485e5dcb0c24200aec305a133239ba1": {
      "model_module": "@jupyter-widgets/base",
      "model_module_version": "1.2.0",
      "model_name": "LayoutModel",
      "state": {}
     },
     "059b2c9deb524547b7d5c6745e2c7ab5": {
      "model_module": "@jupyter-widgets/controls",
      "model_module_version": "1.5.0",
      "model_name": "ButtonStyleModel",
      "state": {}
     },
     "07339236cbea4508b380e8d3d2001876": {
      "model_module": "@jupyter-widgets/controls",
      "model_module_version": "1.5.0",
      "model_name": "ButtonModel",
      "state": {
       "description": "Plotar",
       "layout": "IPY_MODEL_de8519a69fc94a4a998d4cd0d0de90e9",
       "style": "IPY_MODEL_3c21e66bdb95418696555ce002ac9b5b"
      }
     },
     "07772a8966c84e8e8ee596fd4721f1b1": {
      "model_module": "@jupyter-widgets/controls",
      "model_module_version": "1.5.0",
      "model_name": "FloatRangeSliderModel",
      "state": {
       "_model_name": "FloatRangeSliderModel",
       "_view_name": "FloatRangeSliderView",
       "continuous_update": false,
       "description": "Domínio de $\\Psi(x)$: ",
       "layout": "IPY_MODEL_71ad72815bc945048c486c0319304401",
       "max": 150,
       "min": -150,
       "readout_format": "1d",
       "style": "IPY_MODEL_12c56d3694d047a59c22050a1d18dcbc",
       "value": [
        -50,
        50
       ]
      }
     },
     "08954ad7df4e4732ad855e87fa61343d": {
      "model_module": "@jupyter-widgets/base",
      "model_module_version": "1.2.0",
      "model_name": "LayoutModel",
      "state": {}
     },
     "09906fcd4def4f67b89a64a1f3ba6da0": {
      "model_module": "@jupyter-widgets/base",
      "model_module_version": "1.2.0",
      "model_name": "LayoutModel",
      "state": {}
     },
     "0999e8270b8c48bba7151e79c7200093": {
      "model_module": "@jupyter-widgets/controls",
      "model_module_version": "1.5.0",
      "model_name": "ButtonStyleModel",
      "state": {}
     },
     "0a66ecc2841f44d2a0f53db844dd2e61": {
      "model_module": "@jupyter-widgets/base",
      "model_module_version": "1.2.0",
      "model_name": "LayoutModel",
      "state": {}
     },
     "0c07e2836f284d15ad7bb07e5f499f0c": {
      "model_module": "@jupyter-widgets/controls",
      "model_module_version": "1.5.0",
      "model_name": "SliderStyleModel",
      "state": {
       "description_width": "initial"
      }
     },
     "0c43a232be6a493ab4242a82bb78b30e": {
      "model_module": "@jupyter-widgets/controls",
      "model_module_version": "1.5.0",
      "model_name": "IntSliderModel",
      "state": {
       "continuous_update": false,
       "description": "Margens horizontais em $x$:   ",
       "layout": "IPY_MODEL_e2df21a014bc4e48850a21fb73aec939",
       "max": 80,
       "style": "IPY_MODEL_e9c8e1ce25ac422fb3dbf33cb732e197",
       "value": 20
      }
     },
     "0d4de66c8e604467b8603aa9f9b6c2db": {
      "model_module": "@jupyter-widgets/controls",
      "model_module_version": "1.5.0",
      "model_name": "BoundedIntTextModel",
      "state": {
       "description": "Tamanho da figura (Y):",
       "layout": "IPY_MODEL_be1823aec8eb41bfa7d2eecb96cdfc13",
       "max": 20,
       "style": "IPY_MODEL_950e6770b58f4a389d2b339922d301cf",
       "value": 16
      }
     },
     "0d78f92c802d4c9fabb1d7b667642243": {
      "model_module": "@jupyter-widgets/controls",
      "model_module_version": "1.5.0",
      "model_name": "ButtonModel",
      "state": {
       "description": "Plotar",
       "layout": "IPY_MODEL_1c97a365d1a14088aea4393244118777",
       "style": "IPY_MODEL_6382e9716f4d41878eb21301788866be"
      }
     },
     "0e5cc5e66f954e2d91daa792766c2bea": {
      "model_module": "@jupyter-widgets/controls",
      "model_module_version": "1.5.0",
      "model_name": "IntRangeSliderModel",
      "state": {
       "_model_name": "IntRangeSliderModel",
       "_view_name": "IntRangeSliderView",
       "continuous_update": false,
       "description": "Plotar N. Estados:",
       "layout": "IPY_MODEL_46fb4fa55a21404fb6bddefd66cf88ea",
       "max": 10,
       "readout_format": ".1d",
       "style": "IPY_MODEL_a21af7154c344307ab0571d41cc049c0",
       "value": [
        0,
        3
       ]
      }
     },
     "0f80f19dac404eb3ab9fc79fa5573a03": {
      "model_module": "@jupyter-widgets/controls",
      "model_module_version": "1.5.0",
      "model_name": "DropdownModel",
      "state": {
       "_options_labels": [
        "densidades de probabilidades",
        "funções de onda (parte real)",
        "funções de onda (parte imaginária)"
       ],
       "description": "Plotar as",
       "index": 0,
       "layout": "IPY_MODEL_9fb0abf6c03d41ff96560de5320b213c",
       "style": "IPY_MODEL_7920093a97304669abe89e38c1646608"
      }
     },
     "1081b79e9d5f4dd08ef0e1016ab16f10": {
      "model_module": "@jupyter-widgets/base",
      "model_module_version": "1.2.0",
      "model_name": "LayoutModel",
      "state": {}
     },
     "11eae6d4052a4cf18467082a3506a0cd": {
      "model_module": "@jupyter-widgets/base",
      "model_module_version": "1.2.0",
      "model_name": "LayoutModel",
      "state": {}
     },
     "1265479a8379425891bdc0fdd25633f2": {
      "model_module": "@jupyter-widgets/controls",
      "model_module_version": "1.5.0",
      "model_name": "VBoxModel",
      "state": {
       "_dom_classes": [
        "widget-interact"
       ],
       "children": [
        "IPY_MODEL_0023372fff034858abb75ccedabe4ed0",
        "IPY_MODEL_90757714142b4609a3afbda8282b67c2",
        "IPY_MODEL_d1819aadbb434df9b62ad2547ec81401",
        "IPY_MODEL_6175fc23fedf41a0be760e9f5f1068f0",
        "IPY_MODEL_f40b9bef5b4c42148b181b6da6f212f4",
        "IPY_MODEL_07339236cbea4508b380e8d3d2001876",
        "IPY_MODEL_e17c669d73284e6a80d33ced0966186e"
       ],
       "layout": "IPY_MODEL_7064766ffe1c483f8e1c5f4ef8f0a6fd"
      }
     },
     "1294b7c86a2b4b7da199c64cfa1798e0": {
      "model_module": "@jupyter-widgets/controls",
      "model_module_version": "1.5.0",
      "model_name": "DescriptionStyleModel",
      "state": {
       "description_width": "initial"
      }
     },
     "12c56d3694d047a59c22050a1d18dcbc": {
      "model_module": "@jupyter-widgets/controls",
      "model_module_version": "1.5.0",
      "model_name": "SliderStyleModel",
      "state": {
       "description_width": "initial"
      }
     },
     "12f69137269d4b69aa5262f4f9a67450": {
      "model_module": "@jupyter-widgets/controls",
      "model_module_version": "1.5.0",
      "model_name": "IntSliderModel",
      "state": {
       "continuous_update": false,
       "description": "Margens horizontais em $x$:   ",
       "layout": "IPY_MODEL_6ce0116eae74499caec0404235a27b03",
       "max": 80,
       "style": "IPY_MODEL_6619723454354482b8b6af515dbf50cf",
       "value": 20
      }
     },
     "13cefaed12ec47149b07880c47829d31": {
      "model_module": "@jupyter-widgets/controls",
      "model_module_version": "1.5.0",
      "model_name": "DescriptionStyleModel",
      "state": {
       "description_width": ""
      }
     },
     "15bd936f35c248b4b182ce7a2a5567a1": {
      "model_module": "@jupyter-widgets/base",
      "model_module_version": "1.2.0",
      "model_name": "LayoutModel",
      "state": {}
     },
     "17817297ea7c46149a47ab8aa5aadd72": {
      "model_module": "@jupyter-widgets/controls",
      "model_module_version": "1.5.0",
      "model_name": "IntSliderModel",
      "state": {
       "continuous_update": false,
       "description": "Número de pontos: ",
       "layout": "IPY_MODEL_997d2cd4ed274d45a6d9f447916d352e",
       "max": 2000,
       "min": 200,
       "step": 10,
       "style": "IPY_MODEL_362cdb7c24ac48448aa23069285d1593",
       "value": 500
      }
     },
     "17bb18a45871458bb61a388173bb142f": {
      "model_module": "@jupyter-widgets/controls",
      "model_module_version": "1.5.0",
      "model_name": "BoundedIntTextModel",
      "state": {
       "description": "Plotar",
       "layout": "IPY_MODEL_d04918f8ded6464bbe275ffc84ce746a",
       "max": 20,
       "style": "IPY_MODEL_64bae70e8ebc4541909dc838f4c9e377",
       "value": 9
      }
     },
     "198ce5e447b946a694271b6029e658d7": {
      "model_module": "@jupyter-widgets/base",
      "model_module_version": "1.2.0",
      "model_name": "LayoutModel",
      "state": {}
     },
     "1a835f4b946549ce88dfcdf48224fb8e": {
      "model_module": "@jupyter-widgets/controls",
      "model_module_version": "1.5.0",
      "model_name": "ButtonModel",
      "state": {
       "description": "Plotar",
       "layout": "IPY_MODEL_1e20cdf42cee4dfba0ddb02d5422410b",
       "style": "IPY_MODEL_6903a62c28434bc6a606b0469e4ec258"
      }
     },
     "1b4941e2c34949faaf159ed237e8f174": {
      "model_module": "@jupyter-widgets/base",
      "model_module_version": "1.2.0",
      "model_name": "LayoutModel",
      "state": {}
     },
     "1c0db39cf4fe4056a20250010016fac5": {
      "model_module": "@jupyter-widgets/controls",
      "model_module_version": "1.5.0",
      "model_name": "DescriptionStyleModel",
      "state": {
       "description_width": ""
      }
     },
     "1c2d0ebc462948e7936b5914b241e743": {
      "model_module": "@jupyter-widgets/controls",
      "model_module_version": "1.5.0",
      "model_name": "DropdownModel",
      "state": {
       "_options_labels": [
        "densidades de probabilidades",
        "$\\Psi(x)$ (parte real, +)",
        "$\\Psi(x)$ (parte real, -)",
        "$\\Psi(x)$ (parte imaginária)"
       ],
       "description": "Plotar as",
       "index": 2,
       "layout": "IPY_MODEL_011737fe42ee4610a43b7beab84580ef",
       "style": "IPY_MODEL_ffdec49998114b8ea5e32f4a93287728"
      }
     },
     "1c429d318b684de38acf2988cac6a5f9": {
      "model_module": "@jupyter-widgets/output",
      "model_module_version": "1.0.0",
      "model_name": "OutputModel",
      "state": {
       "layout": "IPY_MODEL_fac082a33c094346980137c6a9ce5aeb"
      }
     },
     "1c97a365d1a14088aea4393244118777": {
      "model_module": "@jupyter-widgets/base",
      "model_module_version": "1.2.0",
      "model_name": "LayoutModel",
      "state": {}
     },
     "1c9d71612abe49f584e6f8e73c8368a5": {
      "model_module": "@jupyter-widgets/controls",
      "model_module_version": "1.5.0",
      "model_name": "DescriptionStyleModel",
      "state": {
       "description_width": "initial"
      }
     },
     "1d1e777ad63348be87a3ddd123e7f384": {
      "model_module": "@jupyter-widgets/controls",
      "model_module_version": "1.5.0",
      "model_name": "IntRangeSliderModel",
      "state": {
       "_model_name": "IntRangeSliderModel",
       "_view_name": "IntRangeSliderView",
       "continuous_update": false,
       "description": "Número de estados:",
       "layout": "IPY_MODEL_6fc5533628f04fa797f831bdd493347d",
       "max": 10,
       "readout_format": ".1d",
       "style": "IPY_MODEL_9da3f7b63b52443a806e4624d305a748",
       "value": [
        0,
        3
       ]
      }
     },
     "1d2ea0959810475b855ec997d8f51820": {
      "model_module": "@jupyter-widgets/base",
      "model_module_version": "1.2.0",
      "model_name": "LayoutModel",
      "state": {}
     },
     "1deca86e914e405c8253645481046cc4": {
      "model_module": "@jupyter-widgets/controls",
      "model_module_version": "1.5.0",
      "model_name": "SliderStyleModel",
      "state": {
       "description_width": "initial"
      }
     },
     "1e0f20b60826488d8675848cdba000be": {
      "model_module": "@jupyter-widgets/controls",
      "model_module_version": "1.5.0",
      "model_name": "BoundedIntTextModel",
      "state": {
       "description": "Tamanho da figura (X):",
       "layout": "IPY_MODEL_a84f33bdf06747a1b3a091e1c6e2a000",
       "max": 20,
       "style": "IPY_MODEL_59810ce1d74848b59ff490439c1d0476",
       "value": 9
      }
     },
     "1e20cdf42cee4dfba0ddb02d5422410b": {
      "model_module": "@jupyter-widgets/base",
      "model_module_version": "1.2.0",
      "model_name": "LayoutModel",
      "state": {}
     },
     "1e67990b2c5549fcb1d4905b990c029b": {
      "model_module": "@jupyter-widgets/controls",
      "model_module_version": "1.5.0",
      "model_name": "SliderStyleModel",
      "state": {
       "description_width": "initial"
      }
     },
     "1fdce1ad610e41b7aced2574532e05dd": {
      "model_module": "@jupyter-widgets/controls",
      "model_module_version": "1.5.0",
      "model_name": "FloatRangeSliderModel",
      "state": {
       "_model_name": "FloatRangeSliderModel",
       "_view_name": "FloatRangeSliderView",
       "continuous_update": false,
       "description": "Domínio de $\\Psi(x)$: ",
       "layout": "IPY_MODEL_997d2cd4ed274d45a6d9f447916d352e",
       "max": 150,
       "min": -150,
       "readout_format": "1d",
       "style": "IPY_MODEL_bddc862bf6f242cc94289bffb4b61d02",
       "value": [
        -50,
        50
       ]
      }
     },
     "20c5044043c94b479677ca4246d69272": {
      "model_module": "@jupyter-widgets/base",
      "model_module_version": "1.2.0",
      "model_name": "LayoutModel",
      "state": {}
     },
     "2341e0796ce74c538c593132c3863359": {
      "model_module": "@jupyter-widgets/controls",
      "model_module_version": "1.5.0",
      "model_name": "BoundedIntTextModel",
      "state": {
       "description": "Tamanho da figura (Y):",
       "layout": "IPY_MODEL_fcd22cb1f7b1405f85ad0145fbb88fe3",
       "max": 20,
       "style": "IPY_MODEL_dc0f76bbf8b44c1295cd616b1b8688e3",
       "value": 16
      }
     },
     "2345eb9451114da695a930ac87dbb4dc": {
      "model_module": "@jupyter-widgets/controls",
      "model_module_version": "1.5.0",
      "model_name": "DropdownModel",
      "state": {
       "_options_labels": [
        "densidades de probabilidades",
        "Funções de onda (parte real, +)",
        "Funções de onda (parte real, -)",
        "Funções de onda (parte imaginária)"
       ],
       "description": "Plotar as",
       "index": 1,
       "layout": "IPY_MODEL_355484895c234541b592d6a440ca9a7d",
       "style": "IPY_MODEL_782759cd49ae4eee8119fcb397102a41"
      }
     },
     "24f43097451b49599c822a6a1a1ce4d9": {
      "model_module": "@jupyter-widgets/base",
      "model_module_version": "1.2.0",
      "model_name": "LayoutModel",
      "state": {}
     },
     "253c58bbc8cf4cd69eb295fd26328318": {
      "model_module": "@jupyter-widgets/output",
      "model_module_version": "1.0.0",
      "model_name": "OutputModel",
      "state": {
       "layout": "IPY_MODEL_ab6023caf24c4c3ba9ff36c83da39346"
      }
     },
     "254a278af1894608bdd28a4e776e8dcc": {
      "model_module": "@jupyter-widgets/output",
      "model_module_version": "1.0.0",
      "model_name": "OutputModel",
      "state": {
       "layout": "IPY_MODEL_9fb32064ecdd41f79825095e6eb1f9d6"
      }
     },
     "258df7d84f5c44be87775aae9c2b5c0a": {
      "model_module": "@jupyter-widgets/controls",
      "model_module_version": "1.5.0",
      "model_name": "BoundedIntTextModel",
      "state": {
       "description": "Tamanho da figura (Y):",
       "layout": "IPY_MODEL_5a3388303b6d48e1b0dd34511d5687ca",
       "max": 20,
       "style": "IPY_MODEL_aa875af309df4bf4b18ffcef231b403e",
       "value": 16
      }
     },
     "27025e01055a4f578795f6dbb79219b4": {
      "model_module": "@jupyter-widgets/base",
      "model_module_version": "1.2.0",
      "model_name": "LayoutModel",
      "state": {}
     },
     "27be68aac7dc4bd9abaca2fd2243ed32": {
      "model_module": "@jupyter-widgets/controls",
      "model_module_version": "1.5.0",
      "model_name": "DropdownModel",
      "state": {
       "_options_labels": [
        "densidades de probabilidades",
        "Funções de onda (parte real, +)",
        "Funções de onda (parte real, -)",
        "Funções de onda (parte imaginária)"
       ],
       "description": "Plotar as",
       "index": 0,
       "layout": "IPY_MODEL_8a5c529e74324973b724dda59e26d5a1",
       "style": "IPY_MODEL_5ca75f34391a42038e11f3ceb388eb91"
      }
     },
     "2a4ac6281cce4660a9496ef80bee3ef6": {
      "model_module": "@jupyter-widgets/controls",
      "model_module_version": "1.5.0",
      "model_name": "DropdownModel",
      "state": {
       "_options_labels": [
        "densidades de probabilidades",
        "Funções de onda (parte real, +)",
        "Funções de onda (parte real, -)",
        "Funções de onda (parte imaginária)"
       ],
       "description": "Plotar as",
       "index": 0,
       "layout": "IPY_MODEL_a42dfb25a68c49bc9604d2ae49d9f557",
       "style": "IPY_MODEL_6ed89f68f5d7485caa5778ad22122071"
      }
     },
     "2a792251ef1341f890ac8a31b4b20785": {
      "model_module": "@jupyter-widgets/base",
      "model_module_version": "1.2.0",
      "model_name": "LayoutModel",
      "state": {}
     },
     "2b6ab2c0e74241d593061c0c2e1cfd82": {
      "model_module": "@jupyter-widgets/controls",
      "model_module_version": "1.5.0",
      "model_name": "BoundedIntTextModel",
      "state": {
       "description": "Tamanho da figura (X):",
       "layout": "IPY_MODEL_0a66ecc2841f44d2a0f53db844dd2e61",
       "max": 20,
       "style": "IPY_MODEL_2ed060fee1be4521865cd0f3894a72d3",
       "value": 9
      }
     },
     "2ba1a4e7450f443c9e0b09cf81df7cab": {
      "model_module": "@jupyter-widgets/controls",
      "model_module_version": "1.5.0",
      "model_name": "BoundedIntTextModel",
      "state": {
       "description": "Tamanho da figura (X):",
       "layout": "IPY_MODEL_88523f0813964b0bb78b4204706f8c90",
       "max": 20,
       "style": "IPY_MODEL_941643b7209f4fbdb09146e092e6a5d2",
       "value": 9
      }
     },
     "2dda4b017f58494fb98657ab51fc6d7d": {
      "model_module": "@jupyter-widgets/base",
      "model_module_version": "1.2.0",
      "model_name": "LayoutModel",
      "state": {}
     },
     "2ed060fee1be4521865cd0f3894a72d3": {
      "model_module": "@jupyter-widgets/controls",
      "model_module_version": "1.5.0",
      "model_name": "DescriptionStyleModel",
      "state": {
       "description_width": ""
      }
     },
     "303c97e031ac42be8f3cfae5922b06a5": {
      "model_module": "@jupyter-widgets/controls",
      "model_module_version": "1.5.0",
      "model_name": "ButtonStyleModel",
      "state": {}
     },
     "309c6444a50b4b7e9b73149480e23b70": {
      "model_module": "@jupyter-widgets/controls",
      "model_module_version": "1.5.0",
      "model_name": "SliderStyleModel",
      "state": {
       "description_width": "initial"
      }
     },
     "3257c0541e9c4ff49e664332fe9f814c": {
      "model_module": "@jupyter-widgets/base",
      "model_module_version": "1.2.0",
      "model_name": "LayoutModel",
      "state": {
       "display": "flex",
       "width": "90%"
      }
     },
     "32f54860fd6d4a28bb4edd2a1a9a75b8": {
      "model_module": "@jupyter-widgets/controls",
      "model_module_version": "1.5.0",
      "model_name": "TabModel",
      "state": {
       "_titles": {
        "0": "Gerar o Sistema",
        "1": "Funções de Onda"
       },
       "children": [
        "IPY_MODEL_b311d412ab934dc5aa7e73605bd0eafd",
        "IPY_MODEL_e774e6747a4142a1ae571eea4b300ff4"
       ],
       "layout": "IPY_MODEL_7138033fd06a43a6bf318065fb10f7be",
       "selected_index": 1
      }
     },
     "33258697695d427dbd74f46f06abbb16": {
      "model_module": "@jupyter-widgets/controls",
      "model_module_version": "1.5.0",
      "model_name": "DescriptionStyleModel",
      "state": {
       "description_width": "initial"
      }
     },
     "3362f1e773ff4d1f98d8e5c61ffa9ec0": {
      "model_module": "@jupyter-widgets/controls",
      "model_module_version": "1.5.0",
      "model_name": "VBoxModel",
      "state": {
       "_dom_classes": [
        "widget-interact"
       ],
       "children": [
        "IPY_MODEL_53cc9e75003e4bc7b7fe3da425bfd549",
        "IPY_MODEL_3a67df7523254a0bba5654572efe90b2",
        "IPY_MODEL_c3cee7104583405993a5646bb88b04f1",
        "IPY_MODEL_a1f640cf31c94d3fb83e0b26f35ee470"
       ],
       "layout": "IPY_MODEL_e1470f7d4a9346a39c11b299a5ddffda"
      }
     },
     "33657767d0d14a328cbcc2b21e2baa54": {
      "model_module": "@jupyter-widgets/base",
      "model_module_version": "1.2.0",
      "model_name": "LayoutModel",
      "state": {
       "display": "flex",
       "width": "90%"
      }
     },
     "3380986b031a4074bd62469c284645e5": {
      "model_module": "@jupyter-widgets/controls",
      "model_module_version": "1.5.0",
      "model_name": "SliderStyleModel",
      "state": {
       "description_width": "initial"
      }
     },
     "34b99a8a8dc148a7b479d33fce599b8b": {
      "model_module": "@jupyter-widgets/controls",
      "model_module_version": "1.5.0",
      "model_name": "FloatRangeSliderModel",
      "state": {
       "_model_name": "FloatRangeSliderModel",
       "_view_name": "FloatRangeSliderView",
       "continuous_update": false,
       "description": "Domínio de $\\Psi(x)$: ",
       "layout": "IPY_MODEL_e2df21a014bc4e48850a21fb73aec939",
       "max": 150,
       "min": -150,
       "readout_format": "1d",
       "style": "IPY_MODEL_c181fb6aa4db43e7b1c2f371dccf9ab8",
       "value": [
        -50,
        50
       ]
      }
     },
     "355484895c234541b592d6a440ca9a7d": {
      "model_module": "@jupyter-widgets/base",
      "model_module_version": "1.2.0",
      "model_name": "LayoutModel",
      "state": {}
     },
     "362cdb7c24ac48448aa23069285d1593": {
      "model_module": "@jupyter-widgets/controls",
      "model_module_version": "1.5.0",
      "model_name": "SliderStyleModel",
      "state": {
       "description_width": "initial"
      }
     },
     "365054c336584b2e98b316f0f16a631a": {
      "model_module": "@jupyter-widgets/controls",
      "model_module_version": "1.5.0",
      "model_name": "DescriptionStyleModel",
      "state": {
       "description_width": "initial"
      }
     },
     "37287dbe686849ad848a59eb88137577": {
      "model_module": "@jupyter-widgets/controls",
      "model_module_version": "1.5.0",
      "model_name": "IntSliderModel",
      "state": {
       "continuous_update": false,
       "description": "Número de pontos: ",
       "layout": "IPY_MODEL_71ad72815bc945048c486c0319304401",
       "max": 2000,
       "min": 200,
       "step": 10,
       "style": "IPY_MODEL_c9cdc1d7ceb040cb94940e5c74b87531",
       "value": 500
      }
     },
     "37aa103dc5b040c9a38663cfce4e64b7": {
      "model_module": "@jupyter-widgets/base",
      "model_module_version": "1.2.0",
      "model_name": "LayoutModel",
      "state": {}
     },
     "38049d12d454449782e39f8480eb5d67": {
      "model_module": "@jupyter-widgets/base",
      "model_module_version": "1.2.0",
      "model_name": "LayoutModel",
      "state": {}
     },
     "3879c60bbbb84f518e996a74e57d256d": {
      "model_module": "@jupyter-widgets/controls",
      "model_module_version": "1.5.0",
      "model_name": "BoundedIntTextModel",
      "state": {
       "description": "Tamanho da figura (X):",
       "layout": "IPY_MODEL_738bb8f029ab406ca0836d784e0b817f",
       "max": 20,
       "style": "IPY_MODEL_3a9da916a0c844168970eb5a6b5c251a",
       "value": 5
      }
     },
     "389c42ff22a347db91514ec6fc661b84": {
      "model_module": "@jupyter-widgets/base",
      "model_module_version": "1.2.0",
      "model_name": "LayoutModel",
      "state": {}
     },
     "393f519614504bc4b840c615c6434dc9": {
      "model_module": "@jupyter-widgets/controls",
      "model_module_version": "1.5.0",
      "model_name": "TabModel",
      "state": {
       "_titles": {
        "0": "Gerar o Sistema",
        "1": "Funções de Onda"
       },
       "children": [
        "IPY_MODEL_71609fc1b7e6489b8b43a39a7ba0fa4e",
        "IPY_MODEL_a233c0cc7c3646c3994f7b3796d335fe"
       ],
       "layout": "IPY_MODEL_f5b7818e0d6344d3aa441640fd0b90a0",
       "selected_index": 1
      }
     },
     "39b6a11d9bd445cab5b12fc5309ff0bc": {
      "model_module": "@jupyter-widgets/controls",
      "model_module_version": "1.5.0",
      "model_name": "SliderStyleModel",
      "state": {
       "description_width": "initial"
      }
     },
     "3a67df7523254a0bba5654572efe90b2": {
      "model_module": "@jupyter-widgets/controls",
      "model_module_version": "1.5.0",
      "model_name": "IntSliderModel",
      "state": {
       "continuous_update": false,
       "description": "Número de pontos: ",
       "layout": "IPY_MODEL_33657767d0d14a328cbcc2b21e2baa54",
       "max": 2000,
       "min": 200,
       "step": 10,
       "style": "IPY_MODEL_da39f123a4104241bd5e5eed0adb1a52",
       "value": 500
      }
     },
     "3a9da916a0c844168970eb5a6b5c251a": {
      "model_module": "@jupyter-widgets/controls",
      "model_module_version": "1.5.0",
      "model_name": "DescriptionStyleModel",
      "state": {
       "description_width": "initial"
      }
     },
     "3b9bcefcc9cd4d04a2bbf3c1b45ae637": {
      "model_module": "@jupyter-widgets/base",
      "model_module_version": "1.2.0",
      "model_name": "LayoutModel",
      "state": {}
     },
     "3ba3fdad64764375bde9e5f0676aa4f8": {
      "model_module": "@jupyter-widgets/controls",
      "model_module_version": "1.5.0",
      "model_name": "TabModel",
      "state": {
       "_titles": {
        "0": "Gerar o Sistema",
        "1": "Funções de Onda"
       },
       "children": [
        "IPY_MODEL_729793e4dc654f1abd2ba251bb8c8423",
        "IPY_MODEL_8d49b04c012744baa23efeace472d5ed"
       ],
       "layout": "IPY_MODEL_cc992d459dba4d289a514f667154ce80",
       "selected_index": 1
      }
     },
     "3c214a708339435997672c5c2bf0dafe": {
      "model_module": "@jupyter-widgets/output",
      "model_module_version": "1.0.0",
      "model_name": "OutputModel",
      "state": {
       "layout": "IPY_MODEL_3b9bcefcc9cd4d04a2bbf3c1b45ae637"
      }
     },
     "3c21e66bdb95418696555ce002ac9b5b": {
      "model_module": "@jupyter-widgets/controls",
      "model_module_version": "1.5.0",
      "model_name": "ButtonStyleModel",
      "state": {}
     },
     "3db38cf11b474ca1a42c1ef2f87fa316": {
      "model_module": "@jupyter-widgets/controls",
      "model_module_version": "1.5.0",
      "model_name": "IntRangeSliderModel",
      "state": {
       "_model_name": "IntRangeSliderModel",
       "_view_name": "IntRangeSliderView",
       "continuous_update": false,
       "description": "Número de estados:",
       "layout": "IPY_MODEL_6ce0116eae74499caec0404235a27b03",
       "max": 10,
       "readout_format": ".1d",
       "style": "IPY_MODEL_41707dc5268141dfa77752e22e0ac88b",
       "value": [
        0,
        3
       ]
      }
     },
     "3db7ab91be9142edb20cb128b246704f": {
      "model_module": "@jupyter-widgets/controls",
      "model_module_version": "1.5.0",
      "model_name": "DescriptionStyleModel",
      "state": {
       "description_width": "initial"
      }
     },
     "3dedd1d5f772404f914ed1095986b49d": {
      "model_module": "@jupyter-widgets/controls",
      "model_module_version": "1.5.0",
      "model_name": "DescriptionStyleModel",
      "state": {
       "description_width": ""
      }
     },
     "403bf35a9ae8464aa76ce0be4a336763": {
      "model_module": "@jupyter-widgets/controls",
      "model_module_version": "1.5.0",
      "model_name": "ButtonStyleModel",
      "state": {}
     },
     "41707dc5268141dfa77752e22e0ac88b": {
      "model_module": "@jupyter-widgets/controls",
      "model_module_version": "1.5.0",
      "model_name": "SliderStyleModel",
      "state": {
       "description_width": "initial"
      }
     },
     "42b5d9830766451c817a67bbf2c35efb": {
      "model_module": "@jupyter-widgets/base",
      "model_module_version": "1.2.0",
      "model_name": "LayoutModel",
      "state": {}
     },
     "43539aa83e5a4a4087054ff70b462416": {
      "model_module": "@jupyter-widgets/base",
      "model_module_version": "1.2.0",
      "model_name": "LayoutModel",
      "state": {}
     },
     "43b9dfb8ab6448a09d2263f7bf985c70": {
      "model_module": "@jupyter-widgets/controls",
      "model_module_version": "1.5.0",
      "model_name": "VBoxModel",
      "state": {
       "_dom_classes": [
        "widget-interact"
       ],
       "children": [
        "IPY_MODEL_fa1911f65b2e486c838c90e2f53772be",
        "IPY_MODEL_0c43a232be6a493ab4242a82bb78b30e",
        "IPY_MODEL_b97a59fff6af43c9920fc5d93518cd56",
        "IPY_MODEL_d34fc3262a2f475db4b6aad1eec65ba5",
        "IPY_MODEL_0d4de66c8e604467b8603aa9f9b6c2db",
        "IPY_MODEL_6fdd52b4b2754f10902bed9bc20db7f9",
        "IPY_MODEL_edaabfabbbbd49908872dfeea96b2193"
       ],
       "layout": "IPY_MODEL_198ce5e447b946a694271b6029e658d7"
      }
     },
     "43bf14ac12c04b58aad412ea72481bfb": {
      "model_module": "@jupyter-widgets/controls",
      "model_module_version": "1.5.0",
      "model_name": "IntSliderModel",
      "state": {
       "continuous_update": false,
       "description": "Margens horizontais em $x$:   ",
       "layout": "IPY_MODEL_3257c0541e9c4ff49e664332fe9f814c",
       "max": 80,
       "style": "IPY_MODEL_6c933971b9fd4bf799318c4b8440deb7",
       "value": 20
      }
     },
     "44586ef87cc64bf39149d3fd3b846f8d": {
      "model_module": "@jupyter-widgets/base",
      "model_module_version": "1.2.0",
      "model_name": "LayoutModel",
      "state": {}
     },
     "447d538c90d44b96a03b481f1627798f": {
      "model_module": "@jupyter-widgets/controls",
      "model_module_version": "1.5.0",
      "model_name": "ButtonModel",
      "state": {
       "description": "Plotar",
       "layout": "IPY_MODEL_e87f7564819f49f98b9f846627515646",
       "style": "IPY_MODEL_0999e8270b8c48bba7151e79c7200093"
      }
     },
     "4578b96cd6424a5da1c47f116adfd2cc": {
      "model_module": "@jupyter-widgets/controls",
      "model_module_version": "1.5.0",
      "model_name": "IntSliderModel",
      "state": {
       "continuous_update": false,
       "description": "Margens em $x$:   ",
       "layout": "IPY_MODEL_46fb4fa55a21404fb6bddefd66cf88ea",
       "max": 80,
       "style": "IPY_MODEL_86205ca569c14bbfa34518e4807b2cc7",
       "value": 20
      }
     },
     "46626bf664534a338dac785ffd8f2d28": {
      "model_module": "@jupyter-widgets/controls",
      "model_module_version": "1.5.0",
      "model_name": "ButtonStyleModel",
      "state": {}
     },
     "46fae573ebed44da891ca538e9a66ed0": {
      "model_module": "@jupyter-widgets/controls",
      "model_module_version": "1.5.0",
      "model_name": "ButtonStyleModel",
      "state": {}
     },
     "46fb4fa55a21404fb6bddefd66cf88ea": {
      "model_module": "@jupyter-widgets/base",
      "model_module_version": "1.2.0",
      "model_name": "LayoutModel",
      "state": {
       "display": "flex",
       "width": "90%"
      }
     },
     "473939a1a4f940dea8e4cc44871c236f": {
      "model_module": "@jupyter-widgets/controls",
      "model_module_version": "1.5.0",
      "model_name": "SliderStyleModel",
      "state": {
       "description_width": "initial"
      }
     },
     "47f27460a6154d8c8c4f980576aa5fc5": {
      "model_module": "@jupyter-widgets/output",
      "model_module_version": "1.0.0",
      "model_name": "OutputModel",
      "state": {
       "layout": "IPY_MODEL_b8c88bf145794aaa87afa9d9e72736af"
      }
     },
     "4896bd81e7064b1396423e338985b77a": {
      "model_module": "@jupyter-widgets/controls",
      "model_module_version": "1.5.0",
      "model_name": "DescriptionStyleModel",
      "state": {
       "description_width": "initial"
      }
     },
     "4949280281d1465e81e90da302282805": {
      "model_module": "@jupyter-widgets/controls",
      "model_module_version": "1.5.0",
      "model_name": "VBoxModel",
      "state": {
       "_dom_classes": [
        "widget-interact"
       ],
       "children": [
        "IPY_MODEL_1fdce1ad610e41b7aced2574532e05dd",
        "IPY_MODEL_17817297ea7c46149a47ab8aa5aadd72",
        "IPY_MODEL_afb41c2efd9748638dd9e3ea56eeb2a9",
        "IPY_MODEL_253c58bbc8cf4cd69eb295fd26328318"
       ],
       "layout": "IPY_MODEL_5069f7e8524d4733a772cf588826d910"
      }
     },
     "49ea48e3c5ec4489849701869f110c23": {
      "model_module": "@jupyter-widgets/controls",
      "model_module_version": "1.5.0",
      "model_name": "DescriptionStyleModel",
      "state": {
       "description_width": "initial"
      }
     },
     "4ac60fa399c7406b9c381cafbedb6eb8": {
      "model_module": "@jupyter-widgets/controls",
      "model_module_version": "1.5.0",
      "model_name": "ButtonModel",
      "state": {
       "description": "Plotar",
       "layout": "IPY_MODEL_42b5d9830766451c817a67bbf2c35efb",
       "style": "IPY_MODEL_da0ca789a9df4179b355b04138eef127"
      }
     },
     "4c4cca6b527d4359aeb24458f09cf5c8": {
      "model_module": "@jupyter-widgets/base",
      "model_module_version": "1.2.0",
      "model_name": "LayoutModel",
      "state": {}
     },
     "4d054785c0ca42f2869aee77b675f27d": {
      "model_module": "@jupyter-widgets/base",
      "model_module_version": "1.2.0",
      "model_name": "LayoutModel",
      "state": {}
     },
     "4e71b8d7ce8f4947b38de3f8d226d969": {
      "model_module": "@jupyter-widgets/controls",
      "model_module_version": "1.5.0",
      "model_name": "BoundedIntTextModel",
      "state": {
       "description": "Tamanho da figura (Y):",
       "layout": "IPY_MODEL_e8f73c008eaa4558b5c7682a42db1801",
       "max": 20,
       "style": "IPY_MODEL_4edaede9eab54a2b951e3f6edd115627",
       "value": 9
      }
     },
     "4edaede9eab54a2b951e3f6edd115627": {
      "model_module": "@jupyter-widgets/controls",
      "model_module_version": "1.5.0",
      "model_name": "DescriptionStyleModel",
      "state": {
       "description_width": "initial"
      }
     },
     "4f4eca36f8dd499387ab6d54f1179d8c": {
      "model_module": "@jupyter-widgets/output",
      "model_module_version": "1.0.0",
      "model_name": "OutputModel",
      "state": {
       "layout": "IPY_MODEL_5ec27336054046e2a25975aa031ce312",
       "outputs": [
        {
         "data": {
          "image/png": "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\n",
          "text/plain": "<Figure size 1152x360 with 1 Axes>"
         },
         "metadata": {
          "needs_background": "light"
         },
         "output_type": "display_data"
        }
       ]
      }
     },
     "5069f7e8524d4733a772cf588826d910": {
      "model_module": "@jupyter-widgets/base",
      "model_module_version": "1.2.0",
      "model_name": "LayoutModel",
      "state": {}
     },
     "5086e17c4ff8468b8788970fb9f22a03": {
      "model_module": "@jupyter-widgets/base",
      "model_module_version": "1.2.0",
      "model_name": "LayoutModel",
      "state": {
       "display": "flex",
       "width": "90%"
      }
     },
     "509ffdde03e74e26a9927f93e3fc881a": {
      "model_module": "@jupyter-widgets/controls",
      "model_module_version": "1.5.0",
      "model_name": "IntSliderModel",
      "state": {
       "continuous_update": false,
       "description": "Margens horizontais em $x$:   ",
       "layout": "IPY_MODEL_6fc5533628f04fa797f831bdd493347d",
       "max": 80,
       "style": "IPY_MODEL_1e67990b2c5549fcb1d4905b990c029b",
       "value": 20
      }
     },
     "511fbdc0cbf64df4a4ad4cf767654619": {
      "model_module": "@jupyter-widgets/base",
      "model_module_version": "1.2.0",
      "model_name": "LayoutModel",
      "state": {}
     },
     "53cc9e75003e4bc7b7fe3da425bfd549": {
      "model_module": "@jupyter-widgets/controls",
      "model_module_version": "1.5.0",
      "model_name": "FloatRangeSliderModel",
      "state": {
       "_model_name": "FloatRangeSliderModel",
       "_view_name": "FloatRangeSliderView",
       "continuous_update": false,
       "description": "Domínio de $\\Psi(x)$: ",
       "layout": "IPY_MODEL_33657767d0d14a328cbcc2b21e2baa54",
       "max": 150,
       "min": -150,
       "readout_format": "1d",
       "style": "IPY_MODEL_6da00cfc450d467ca805a398ad9f4490",
       "value": [
        -50,
        50
       ]
      }
     },
     "546effeaeea24d138910d79232b6588e": {
      "model_module": "@jupyter-widgets/base",
      "model_module_version": "1.2.0",
      "model_name": "LayoutModel",
      "state": {}
     },
     "54b32767535b4a5791b7ef8d61519d4f": {
      "model_module": "@jupyter-widgets/controls",
      "model_module_version": "1.5.0",
      "model_name": "TabModel",
      "state": {
       "_titles": {
        "0": "Gerar o Sistema",
        "1": "Funções de Onda"
       },
       "children": [
        "IPY_MODEL_6056151cbe3940f0a3e9dd8537811c9b",
        "IPY_MODEL_a050cedad9e74494adf267e48c00f58b"
       ],
       "layout": "IPY_MODEL_df961b9cf19a497c982a43b7ab0347bb",
       "selected_index": 1
      }
     },
     "558f881ceb1e438eb663e08e9878354b": {
      "model_module": "@jupyter-widgets/controls",
      "model_module_version": "1.5.0",
      "model_name": "DropdownModel",
      "state": {
       "_options_labels": [
        "densidades de probabilidades",
        "funções de onda (parte real)",
        "funções de onda (parte imaginária)"
       ],
       "description": "Plotar as",
       "index": 0,
       "layout": "IPY_MODEL_91b495150a51454cbd67a1a5a20858e2",
       "style": "IPY_MODEL_1c0db39cf4fe4056a20250010016fac5"
      }
     },
     "55e7c0b7003e4f7387a403b1589d4df0": {
      "model_module": "@jupyter-widgets/controls",
      "model_module_version": "1.5.0",
      "model_name": "IntSliderModel",
      "state": {
       "continuous_update": false,
       "description": "Número de pontos: ",
       "layout": "IPY_MODEL_5086e17c4ff8468b8788970fb9f22a03",
       "max": 2000,
       "min": 200,
       "step": 10,
       "style": "IPY_MODEL_1deca86e914e405c8253645481046cc4",
       "value": 500
      }
     },
     "55e91531ab4646b6baeab0125a43a67f": {
      "model_module": "@jupyter-widgets/controls",
      "model_module_version": "1.5.0",
      "model_name": "FloatRangeSliderModel",
      "state": {
       "_model_name": "FloatRangeSliderModel",
       "_view_name": "FloatRangeSliderView",
       "continuous_update": false,
       "description": "Domínio de $\\Psi(x)$: ",
       "layout": "IPY_MODEL_3257c0541e9c4ff49e664332fe9f814c",
       "max": 150,
       "min": -150,
       "readout_format": "1d",
       "style": "IPY_MODEL_7448f93ed38d48b3965b9c8e47e221eb",
       "value": [
        -50,
        50
       ]
      }
     },
     "588669a6a6b542cba6a861ccbcc878bb": {
      "model_module": "@jupyter-widgets/controls",
      "model_module_version": "1.5.0",
      "model_name": "DescriptionStyleModel",
      "state": {
       "description_width": ""
      }
     },
     "593d7527d20c4f4ca5fe8cacc8d81f66": {
      "model_module": "@jupyter-widgets/base",
      "model_module_version": "1.2.0",
      "model_name": "LayoutModel",
      "state": {}
     },
     "59810ce1d74848b59ff490439c1d0476": {
      "model_module": "@jupyter-widgets/controls",
      "model_module_version": "1.5.0",
      "model_name": "DescriptionStyleModel",
      "state": {
       "description_width": "initial"
      }
     },
     "5a3388303b6d48e1b0dd34511d5687ca": {
      "model_module": "@jupyter-widgets/base",
      "model_module_version": "1.2.0",
      "model_name": "LayoutModel",
      "state": {}
     },
     "5a5970178f6541e3a2eeb34dc92a471a": {
      "model_module": "@jupyter-widgets/base",
      "model_module_version": "1.2.0",
      "model_name": "LayoutModel",
      "state": {}
     },
     "5b286cacdcb141c98a7f1878148f4e7e": {
      "model_module": "@jupyter-widgets/controls",
      "model_module_version": "1.5.0",
      "model_name": "BoundedIntTextModel",
      "state": {
       "description": "Tamanho da figura (X):",
       "layout": "IPY_MODEL_5db98dd92c844cd6825d4defe10a15ae",
       "max": 20,
       "style": "IPY_MODEL_aa64a4a6a7344beca501968917ee287a",
       "value": 13
      }
     },
     "5b84c90e88d64ca2a8d3b78ddba4ead1": {
      "model_module": "@jupyter-widgets/controls",
      "model_module_version": "1.5.0",
      "model_name": "BoundedIntTextModel",
      "state": {
       "description": "Tamanho da figura (X):",
       "layout": "IPY_MODEL_fe0c489d12e6406db5040f074103f20d",
       "max": 20,
       "style": "IPY_MODEL_fc4f629d9429483dbafad729b5ebf846",
       "value": 9
      }
     },
     "5ca75f34391a42038e11f3ceb388eb91": {
      "model_module": "@jupyter-widgets/controls",
      "model_module_version": "1.5.0",
      "model_name": "DescriptionStyleModel",
      "state": {
       "description_width": "initial"
      }
     },
     "5d93eafc77bc49319d8a9c35f98a314a": {
      "model_module": "@jupyter-widgets/controls",
      "model_module_version": "1.5.0",
      "model_name": "DescriptionStyleModel",
      "state": {
       "description_width": ""
      }
     },
     "5db98dd92c844cd6825d4defe10a15ae": {
      "model_module": "@jupyter-widgets/base",
      "model_module_version": "1.2.0",
      "model_name": "LayoutModel",
      "state": {}
     },
     "5e27ae71cb464142858a8f3e91d12c99": {
      "model_module": "@jupyter-widgets/controls",
      "model_module_version": "1.5.0",
      "model_name": "IntSliderModel",
      "state": {
       "continuous_update": false,
       "description": "Margens horizontais em $x$:   ",
       "layout": "IPY_MODEL_33657767d0d14a328cbcc2b21e2baa54",
       "max": 80,
       "style": "IPY_MODEL_7812de5921ca40b4ab1e7fdfd7c3dd9f",
       "value": 20
      }
     },
     "5e8c6259713d44f69f4b12d2aaf7ada3": {
      "model_module": "@jupyter-widgets/controls",
      "model_module_version": "1.5.0",
      "model_name": "ButtonModel",
      "state": {
       "description": "Gerar/Resolver",
       "layout": "IPY_MODEL_24f43097451b49599c822a6a1a1ce4d9",
       "style": "IPY_MODEL_c1e22502989e429e85865475bfb6d319"
      }
     },
     "5ec27336054046e2a25975aa031ce312": {
      "model_module": "@jupyter-widgets/base",
      "model_module_version": "1.2.0",
      "model_name": "LayoutModel",
      "state": {}
     },
     "5fe1b419b74c4c65bb693128b00be797": {
      "model_module": "@jupyter-widgets/controls",
      "model_module_version": "1.5.0",
      "model_name": "IntSliderModel",
      "state": {
       "continuous_update": false,
       "description": "Número de pontos: ",
       "layout": "IPY_MODEL_e2df21a014bc4e48850a21fb73aec939",
       "max": 2000,
       "min": 200,
       "step": 10,
       "style": "IPY_MODEL_71c50786bc074b78af7338c2b984ac0b",
       "value": 500
      }
     },
     "6056151cbe3940f0a3e9dd8537811c9b": {
      "model_module": "@jupyter-widgets/controls",
      "model_module_version": "1.5.0",
      "model_name": "VBoxModel",
      "state": {
       "_dom_classes": [
        "widget-interact"
       ],
       "children": [
        "IPY_MODEL_627007190457451b84eecf8ab6d825ad",
        "IPY_MODEL_55e7c0b7003e4f7387a403b1589d4df0",
        "IPY_MODEL_eced33caaca349c2b1b18525605f1b30",
        "IPY_MODEL_47f27460a6154d8c8c4f980576aa5fc5"
       ],
       "layout": "IPY_MODEL_a72145d632aa4a44b7262b71c2008a5f"
      }
     },
     "6071efb8360a4023afb3436e04dee3de": {
      "model_module": "@jupyter-widgets/controls",
      "model_module_version": "1.5.0",
      "model_name": "VBoxModel",
      "state": {
       "_dom_classes": [
        "widget-interact"
       ],
       "children": [
        "IPY_MODEL_92dd7b94903b482aa661643abb121159",
        "IPY_MODEL_b61593d351174c8e829b091105c000f0",
        "IPY_MODEL_66ae4cf01a0d4a57a271de8747b0179f",
        "IPY_MODEL_f7a2f44cc8e54230a653181dcb0538ae"
       ],
       "layout": "IPY_MODEL_15bd936f35c248b4b182ce7a2a5567a1"
      }
     },
     "613ef1deb6784df3be3b3c6899aa518b": {
      "model_module": "@jupyter-widgets/controls",
      "model_module_version": "1.5.0",
      "model_name": "ButtonModel",
      "state": {
       "description": "Gerar/Resolver",
       "layout": "IPY_MODEL_deb5a23be8f745a3bf19749f133546a0",
       "style": "IPY_MODEL_872b6599773c40a1b3027f380d765453"
      }
     },
     "6175fc23fedf41a0be760e9f5f1068f0": {
      "model_module": "@jupyter-widgets/controls",
      "model_module_version": "1.5.0",
      "model_name": "BoundedIntTextModel",
      "state": {
       "description": "Tamanho da figura (X):",
       "layout": "IPY_MODEL_a6ede98da5f34147a1ac0f9c2021d4ec",
       "max": 20,
       "style": "IPY_MODEL_49ea48e3c5ec4489849701869f110c23",
       "value": 9
      }
     },
     "61a40f3ec36f43afbb65daf06d5bf7a1": {
      "model_module": "@jupyter-widgets/controls",
      "model_module_version": "1.5.0",
      "model_name": "ButtonModel",
      "state": {
       "description": "Gerar/Resolver",
       "layout": "IPY_MODEL_c37054e9ece44b4885f19b38c2e28e37",
       "style": "IPY_MODEL_303c97e031ac42be8f3cfae5922b06a5"
      }
     },
     "627007190457451b84eecf8ab6d825ad": {
      "model_module": "@jupyter-widgets/controls",
      "model_module_version": "1.5.0",
      "model_name": "FloatRangeSliderModel",
      "state": {
       "_model_name": "FloatRangeSliderModel",
       "_view_name": "FloatRangeSliderView",
       "continuous_update": false,
       "description": "Domínio de $\\Psi(x)$: ",
       "layout": "IPY_MODEL_5086e17c4ff8468b8788970fb9f22a03",
       "max": 150,
       "min": -150,
       "readout_format": "1d",
       "style": "IPY_MODEL_8b9a1af89f1741cb8afd0461e44f36d3",
       "value": [
        -50,
        50
       ]
      }
     },
     "635c3af870f340bea9f0daee071683c3": {
      "model_module": "@jupyter-widgets/base",
      "model_module_version": "1.2.0",
      "model_name": "LayoutModel",
      "state": {}
     },
     "6382e9716f4d41878eb21301788866be": {
      "model_module": "@jupyter-widgets/controls",
      "model_module_version": "1.5.0",
      "model_name": "ButtonStyleModel",
      "state": {}
     },
     "64bae70e8ebc4541909dc838f4c9e377": {
      "model_module": "@jupyter-widgets/controls",
      "model_module_version": "1.5.0",
      "model_name": "DescriptionStyleModel",
      "state": {
       "description_width": ""
      }
     },
     "6619723454354482b8b6af515dbf50cf": {
      "model_module": "@jupyter-widgets/controls",
      "model_module_version": "1.5.0",
      "model_name": "SliderStyleModel",
      "state": {
       "description_width": "initial"
      }
     },
     "66ae4cf01a0d4a57a271de8747b0179f": {
      "model_module": "@jupyter-widgets/controls",
      "model_module_version": "1.5.0",
      "model_name": "ButtonModel",
      "state": {
       "description": "Gerar/Resolver",
       "layout": "IPY_MODEL_afba0042be40470fb760495b29453b5d",
       "style": "IPY_MODEL_d384fd49af854705b079b54798e62417"
      }
     },
     "6903a62c28434bc6a606b0469e4ec258": {
      "model_module": "@jupyter-widgets/controls",
      "model_module_version": "1.5.0",
      "model_name": "ButtonStyleModel",
      "state": {}
     },
     "698ccf1ff8a146f19de16bfec3c6afaa": {
      "model_module": "@jupyter-widgets/controls",
      "model_module_version": "1.5.0",
      "model_name": "SliderStyleModel",
      "state": {
       "description_width": "initial"
      }
     },
     "6abb5af5280e4b3dbac7a0373e86da36": {
      "model_module": "@jupyter-widgets/controls",
      "model_module_version": "1.5.0",
      "model_name": "SliderStyleModel",
      "state": {
       "description_width": "initial"
      }
     },
     "6acfde56b43445e9b911d9add7d9a613": {
      "model_module": "@jupyter-widgets/base",
      "model_module_version": "1.2.0",
      "model_name": "LayoutModel",
      "state": {}
     },
     "6af00389c4384961b55df74cc9128d46": {
      "model_module": "@jupyter-widgets/base",
      "model_module_version": "1.2.0",
      "model_name": "LayoutModel",
      "state": {}
     },
     "6b8ecf9c6e7340569c7ef1c36fe35c74": {
      "model_module": "@jupyter-widgets/base",
      "model_module_version": "1.2.0",
      "model_name": "LayoutModel",
      "state": {}
     },
     "6bc2104331344694900c4e3b452aa07d": {
      "model_module": "@jupyter-widgets/controls",
      "model_module_version": "1.5.0",
      "model_name": "BoundedIntTextModel",
      "state": {
       "description": "Tamanho da figura (Y):",
       "layout": "IPY_MODEL_20c5044043c94b479677ca4246d69272",
       "max": 20,
       "style": "IPY_MODEL_13cefaed12ec47149b07880c47829d31",
       "value": 16
      }
     },
     "6c933971b9fd4bf799318c4b8440deb7": {
      "model_module": "@jupyter-widgets/controls",
      "model_module_version": "1.5.0",
      "model_name": "SliderStyleModel",
      "state": {
       "description_width": "initial"
      }
     },
     "6c97cdfb962c4febaef4569504e222d9": {
      "model_module": "@jupyter-widgets/base",
      "model_module_version": "1.2.0",
      "model_name": "LayoutModel",
      "state": {}
     },
     "6ce0116eae74499caec0404235a27b03": {
      "model_module": "@jupyter-widgets/base",
      "model_module_version": "1.2.0",
      "model_name": "LayoutModel",
      "state": {
       "display": "flex",
       "width": "90%"
      }
     },
     "6d116a2f3b454cb482c88c62a0135b1e": {
      "model_module": "@jupyter-widgets/base",
      "model_module_version": "1.2.0",
      "model_name": "LayoutModel",
      "state": {}
     },
     "6d6dfaae0ca9429283ba467cf0e329a9": {
      "model_module": "@jupyter-widgets/controls",
      "model_module_version": "1.5.0",
      "model_name": "BoundedIntTextModel",
      "state": {
       "description": "Tamanho da figura (X):",
       "layout": "IPY_MODEL_11eae6d4052a4cf18467082a3506a0cd",
       "max": 20,
       "style": "IPY_MODEL_947ea181df524f63b73ee37a014388dd",
       "value": 16
      }
     },
     "6da00cfc450d467ca805a398ad9f4490": {
      "model_module": "@jupyter-widgets/controls",
      "model_module_version": "1.5.0",
      "model_name": "SliderStyleModel",
      "state": {
       "description_width": "initial"
      }
     },
     "6ed89f68f5d7485caa5778ad22122071": {
      "model_module": "@jupyter-widgets/controls",
      "model_module_version": "1.5.0",
      "model_name": "DescriptionStyleModel",
      "state": {
       "description_width": "initial"
      }
     },
     "6fad5c3332494a6c8600fb844325dacc": {
      "model_module": "@jupyter-widgets/controls",
      "model_module_version": "1.5.0",
      "model_name": "ButtonModel",
      "state": {
       "description": "Gerar/Resolver",
       "layout": "IPY_MODEL_1b4941e2c34949faaf159ed237e8f174",
       "style": "IPY_MODEL_c8b95b8daace486bac4fcf32658b00c7"
      }
     },
     "6fc5533628f04fa797f831bdd493347d": {
      "model_module": "@jupyter-widgets/base",
      "model_module_version": "1.2.0",
      "model_name": "LayoutModel",
      "state": {
       "display": "flex",
       "width": "90%"
      }
     },
     "6fdd52b4b2754f10902bed9bc20db7f9": {
      "model_module": "@jupyter-widgets/controls",
      "model_module_version": "1.5.0",
      "model_name": "ButtonModel",
      "state": {
       "description": "Plotar",
       "layout": "IPY_MODEL_ecc412a3f55340f8b4dd85f526b98ccd",
       "style": "IPY_MODEL_46626bf664534a338dac785ffd8f2d28"
      }
     },
     "705d0c816dcb427bb7e0875c2b2f2ed3": {
      "model_module": "@jupyter-widgets/base",
      "model_module_version": "1.2.0",
      "model_name": "LayoutModel",
      "state": {}
     },
     "7064766ffe1c483f8e1c5f4ef8f0a6fd": {
      "model_module": "@jupyter-widgets/base",
      "model_module_version": "1.2.0",
      "model_name": "LayoutModel",
      "state": {}
     },
     "70847b8318d549ceaf9b8f484f5304f7": {
      "model_module": "@jupyter-widgets/base",
      "model_module_version": "1.2.0",
      "model_name": "LayoutModel",
      "state": {}
     },
     "7138033fd06a43a6bf318065fb10f7be": {
      "model_module": "@jupyter-widgets/base",
      "model_module_version": "1.2.0",
      "model_name": "LayoutModel",
      "state": {}
     },
     "71609fc1b7e6489b8b43a39a7ba0fa4e": {
      "model_module": "@jupyter-widgets/controls",
      "model_module_version": "1.5.0",
      "model_name": "VBoxModel",
      "state": {
       "_dom_classes": [
        "widget-interact"
       ],
       "children": [
        "IPY_MODEL_9309fb82c48e4f33b26773626d14bcbc",
        "IPY_MODEL_8a41f51dee9c489192f8e4a2b822b8d2",
        "IPY_MODEL_844926560c1c4e37ac317b2ad271526f",
        "IPY_MODEL_7b308284d4db47cc8359b715eba90756"
       ],
       "layout": "IPY_MODEL_791820f7e81d4d2399ebff05bbbbd114"
      }
     },
     "71666d9f5a18479fa66b9c965b866699": {
      "model_module": "@jupyter-widgets/controls",
      "model_module_version": "1.5.0",
      "model_name": "VBoxModel",
      "state": {
       "_dom_classes": [
        "widget-interact"
       ],
       "children": [
        "IPY_MODEL_55e91531ab4646b6baeab0125a43a67f",
        "IPY_MODEL_aecc4c362eb24981ba0a961f9424072f",
        "IPY_MODEL_61a40f3ec36f43afbb65daf06d5bf7a1",
        "IPY_MODEL_ce9e3b0057154064ab2501443e2b4a53"
       ],
       "layout": "IPY_MODEL_cc701aa7eb224e3bbecf4f4541419d5b"
      }
     },
     "71ad72815bc945048c486c0319304401": {
      "model_module": "@jupyter-widgets/base",
      "model_module_version": "1.2.0",
      "model_name": "LayoutModel",
      "state": {
       "display": "flex",
       "width": "90%"
      }
     },
     "71c50786bc074b78af7338c2b984ac0b": {
      "model_module": "@jupyter-widgets/controls",
      "model_module_version": "1.5.0",
      "model_name": "SliderStyleModel",
      "state": {
       "description_width": "initial"
      }
     },
     "729793e4dc654f1abd2ba251bb8c8423": {
      "model_module": "@jupyter-widgets/controls",
      "model_module_version": "1.5.0",
      "model_name": "VBoxModel",
      "state": {
       "_dom_classes": [
        "widget-interact"
       ],
       "children": [
        "IPY_MODEL_07772a8966c84e8e8ee596fd4721f1b1",
        "IPY_MODEL_37287dbe686849ad848a59eb88137577",
        "IPY_MODEL_fc9ba54d14fc4ecab90a608ac83673aa",
        "IPY_MODEL_901f82690fbb48c5b6a72de3ebd99fcb"
       ],
       "layout": "IPY_MODEL_d5bb0146673a49af943d38f220340c0a"
      }
     },
     "736b4b5228414a38a8bc5a9fec92a6dc": {
      "model_module": "@jupyter-widgets/controls",
      "model_module_version": "1.5.0",
      "model_name": "VBoxModel",
      "state": {
       "_dom_classes": [
        "widget-interact"
       ],
       "children": [
        "IPY_MODEL_a52fb45877fa486b9b2bfb31d0846334",
        "IPY_MODEL_5e27ae71cb464142858a8f3e91d12c99",
        "IPY_MODEL_1c2d0ebc462948e7936b5914b241e743",
        "IPY_MODEL_2ba1a4e7450f443c9e0b09cf81df7cab",
        "IPY_MODEL_258df7d84f5c44be87775aae9c2b5c0a",
        "IPY_MODEL_f34715e6001441a6bd68290d5b0d94eb",
        "IPY_MODEL_92c7de915eca46beae8eaeda2714f065"
       ],
       "layout": "IPY_MODEL_c6ebeb1be06148d99f05ff798116e900"
      }
     },
     "738bb8f029ab406ca0836d784e0b817f": {
      "model_module": "@jupyter-widgets/base",
      "model_module_version": "1.2.0",
      "model_name": "LayoutModel",
      "state": {}
     },
     "7448f93ed38d48b3965b9c8e47e221eb": {
      "model_module": "@jupyter-widgets/controls",
      "model_module_version": "1.5.0",
      "model_name": "SliderStyleModel",
      "state": {
       "description_width": "initial"
      }
     },
     "754bd1e5b1cc4a3f899753b2a64f761f": {
      "model_module": "@jupyter-widgets/base",
      "model_module_version": "1.2.0",
      "model_name": "LayoutModel",
      "state": {}
     },
     "756f62f85a1a46249302b98ebe7fdd82": {
      "model_module": "@jupyter-widgets/output",
      "model_module_version": "1.0.0",
      "model_name": "OutputModel",
      "state": {
       "layout": "IPY_MODEL_43539aa83e5a4a4087054ff70b462416"
      }
     },
     "75700f88980b4f8d8b7deca0075179d3": {
      "model_module": "@jupyter-widgets/controls",
      "model_module_version": "1.5.0",
      "model_name": "SliderStyleModel",
      "state": {
       "description_width": "initial"
      }
     },
     "76d93a7ba2214801aa7cc1a22522cc6f": {
      "model_module": "@jupyter-widgets/controls",
      "model_module_version": "1.5.0",
      "model_name": "IntSliderModel",
      "state": {
       "continuous_update": false,
       "description": "Margens horizontais em $x$:   ",
       "layout": "IPY_MODEL_87018481a1cf4850a7c40e8f612860e7",
       "max": 80,
       "style": "IPY_MODEL_bf602e4e691444a0bf2bba522a710182",
       "value": 20
      }
     },
     "77b3636d847e401aa486e038b75e845b": {
      "model_module": "@jupyter-widgets/base",
      "model_module_version": "1.2.0",
      "model_name": "LayoutModel",
      "state": {}
     },
     "7812de5921ca40b4ab1e7fdfd7c3dd9f": {
      "model_module": "@jupyter-widgets/controls",
      "model_module_version": "1.5.0",
      "model_name": "SliderStyleModel",
      "state": {
       "description_width": "initial"
      }
     },
     "782759cd49ae4eee8119fcb397102a41": {
      "model_module": "@jupyter-widgets/controls",
      "model_module_version": "1.5.0",
      "model_name": "DescriptionStyleModel",
      "state": {
       "description_width": "initial"
      }
     },
     "787fb18c62214a2899217d20c224cfa5": {
      "model_module": "@jupyter-widgets/controls",
      "model_module_version": "1.5.0",
      "model_name": "ButtonModel",
      "state": {
       "description": "Plotar",
       "layout": "IPY_MODEL_d3d56e79412b45e2b0c9b1282eb94a88",
       "style": "IPY_MODEL_baa62b35a8474ef3904cb89ebb6a2b81"
      }
     },
     "791820f7e81d4d2399ebff05bbbbd114": {
      "model_module": "@jupyter-widgets/base",
      "model_module_version": "1.2.0",
      "model_name": "LayoutModel",
      "state": {}
     },
     "7920093a97304669abe89e38c1646608": {
      "model_module": "@jupyter-widgets/controls",
      "model_module_version": "1.5.0",
      "model_name": "DescriptionStyleModel",
      "state": {
       "description_width": ""
      }
     },
     "7954116f759d41cba2ab4d8719ed09d3": {
      "model_module": "@jupyter-widgets/controls",
      "model_module_version": "1.5.0",
      "model_name": "ButtonModel",
      "state": {
       "description": "Gerar/Resolver",
       "layout": "IPY_MODEL_0485e5dcb0c24200aec305a133239ba1",
       "style": "IPY_MODEL_91dfd2e49d754425b09e332aa7b1034d"
      }
     },
     "7b308284d4db47cc8359b715eba90756": {
      "model_module": "@jupyter-widgets/output",
      "model_module_version": "1.0.0",
      "model_name": "OutputModel",
      "state": {
       "layout": "IPY_MODEL_754bd1e5b1cc4a3f899753b2a64f761f"
      }
     },
     "7bd79bf23b6047f0be9e554b5bce2a04": {
      "model_module": "@jupyter-widgets/controls",
      "model_module_version": "1.5.0",
      "model_name": "BoundedIntTextModel",
      "state": {
       "description": "Tamanho da figura (Y):",
       "layout": "IPY_MODEL_e9b196ddb4284766aced81aa8705bed2",
       "max": 20,
       "style": "IPY_MODEL_33258697695d427dbd74f46f06abbb16",
       "value": 16
      }
     },
     "7be5a11a5c3a4fc581f9a691e9e9e53f": {
      "model_module": "@jupyter-widgets/controls",
      "model_module_version": "1.5.0",
      "model_name": "SliderStyleModel",
      "state": {
       "description_width": "initial"
      }
     },
     "7eb0813439334eb5a66956d303db6be8": {
      "model_module": "@jupyter-widgets/controls",
      "model_module_version": "1.5.0",
      "model_name": "IntSliderModel",
      "state": {
       "continuous_update": false,
       "description": "Margens horizontais em $x$:   ",
       "layout": "IPY_MODEL_5086e17c4ff8468b8788970fb9f22a03",
       "max": 80,
       "style": "IPY_MODEL_effa7db61ba74ea2bb5e7f7485afbc2d",
       "value": 20
      }
     },
     "7fc1307f257a451180a0848eab2366d2": {
      "model_module": "@jupyter-widgets/controls",
      "model_module_version": "1.5.0",
      "model_name": "TabModel",
      "state": {
       "_titles": {
        "0": "Gerar o Sistema",
        "1": "Funções de Onda"
       },
       "children": [
        "IPY_MODEL_3362f1e773ff4d1f98d8e5c61ffa9ec0",
        "IPY_MODEL_736b4b5228414a38a8bc5a9fec92a6dc"
       ],
       "layout": "IPY_MODEL_08954ad7df4e4732ad855e87fa61343d",
       "selected_index": 1
      }
     },
     "82ca48b522bb42c5bf7476c6709127ba": {
      "model_module": "@jupyter-widgets/base",
      "model_module_version": "1.2.0",
      "model_name": "LayoutModel",
      "state": {}
     },
     "844926560c1c4e37ac317b2ad271526f": {
      "model_module": "@jupyter-widgets/controls",
      "model_module_version": "1.5.0",
      "model_name": "ButtonModel",
      "state": {
       "description": "Gerar/Resolver",
       "layout": "IPY_MODEL_ad646446594e4ec48c26286d61dba15c",
       "style": "IPY_MODEL_967fd1cfbf76410388939aa64e241661"
      }
     },
     "86205ca569c14bbfa34518e4807b2cc7": {
      "model_module": "@jupyter-widgets/controls",
      "model_module_version": "1.5.0",
      "model_name": "SliderStyleModel",
      "state": {
       "description_width": "initial"
      }
     },
     "87018481a1cf4850a7c40e8f612860e7": {
      "model_module": "@jupyter-widgets/base",
      "model_module_version": "1.2.0",
      "model_name": "LayoutModel",
      "state": {
       "display": "flex",
       "width": "90%"
      }
     },
     "872b6599773c40a1b3027f380d765453": {
      "model_module": "@jupyter-widgets/controls",
      "model_module_version": "1.5.0",
      "model_name": "ButtonStyleModel",
      "state": {}
     },
     "875c674e6b5a4efda78bc6d547cfdf7f": {
      "model_module": "@jupyter-widgets/controls",
      "model_module_version": "1.5.0",
      "model_name": "FloatRangeSliderModel",
      "state": {
       "_model_name": "FloatRangeSliderModel",
       "_view_name": "FloatRangeSliderView",
       "continuous_update": false,
       "description": "$x_{min}-x_{max}$",
       "layout": "IPY_MODEL_46fb4fa55a21404fb6bddefd66cf88ea",
       "max": 150,
       "min": -150,
       "readout_format": "1d",
       "style": "IPY_MODEL_f0cd98cacf9c4ec8a966dc4c045bd2ae",
       "value": [
        -50,
        50
       ]
      }
     },
     "88523f0813964b0bb78b4204706f8c90": {
      "model_module": "@jupyter-widgets/base",
      "model_module_version": "1.2.0",
      "model_name": "LayoutModel",
      "state": {}
     },
     "89a227654e72419c97cec09b93bd1ff6": {
      "model_module": "@jupyter-widgets/base",
      "model_module_version": "1.2.0",
      "model_name": "LayoutModel",
      "state": {}
     },
     "89ea674ce51b405687f8d50ad05474fe": {
      "model_module": "@jupyter-widgets/output",
      "model_module_version": "1.0.0",
      "model_name": "OutputModel",
      "state": {
       "layout": "IPY_MODEL_38049d12d454449782e39f8480eb5d67"
      }
     },
     "8a41f51dee9c489192f8e4a2b822b8d2": {
      "model_module": "@jupyter-widgets/controls",
      "model_module_version": "1.5.0",
      "model_name": "IntSliderModel",
      "state": {
       "continuous_update": false,
       "description": "Número de pontos: ",
       "layout": "IPY_MODEL_6fc5533628f04fa797f831bdd493347d",
       "max": 2000,
       "min": 200,
       "step": 10,
       "style": "IPY_MODEL_75700f88980b4f8d8b7deca0075179d3",
       "value": 500
      }
     },
     "8a5c529e74324973b724dda59e26d5a1": {
      "model_module": "@jupyter-widgets/base",
      "model_module_version": "1.2.0",
      "model_name": "LayoutModel",
      "state": {}
     },
     "8b2bb657dddb48b89d5bf42a89c3c6aa": {
      "model_module": "@jupyter-widgets/controls",
      "model_module_version": "1.5.0",
      "model_name": "IntRangeSliderModel",
      "state": {
       "_model_name": "IntRangeSliderModel",
       "_view_name": "IntRangeSliderView",
       "continuous_update": false,
       "description": "Número de estados:",
       "layout": "IPY_MODEL_d4d5dd73f63846cfb83d63b8a4f31782",
       "max": 10,
       "readout_format": ".1d",
       "style": "IPY_MODEL_edd15b122a474884b63abdf5f81abb00",
       "value": [
        0,
        3
       ]
      }
     },
     "8b9a1af89f1741cb8afd0461e44f36d3": {
      "model_module": "@jupyter-widgets/controls",
      "model_module_version": "1.5.0",
      "model_name": "SliderStyleModel",
      "state": {
       "description_width": "initial"
      }
     },
     "8d49b04c012744baa23efeace472d5ed": {
      "model_module": "@jupyter-widgets/controls",
      "model_module_version": "1.5.0",
      "model_name": "VBoxModel",
      "state": {
       "_dom_classes": [
        "widget-interact"
       ],
       "children": [
        "IPY_MODEL_8e22d3f893014a7db7aac3387f24a369",
        "IPY_MODEL_a078277a6dc2413e8b4c059726922881",
        "IPY_MODEL_2345eb9451114da695a930ac87dbb4dc",
        "IPY_MODEL_6d6dfaae0ca9429283ba467cf0e329a9",
        "IPY_MODEL_4e71b8d7ce8f4947b38de3f8d226d969",
        "IPY_MODEL_e37b1fa586a34e95a4be2332c678a171",
        "IPY_MODEL_c69a536d063a4575803f37e90d234f3b"
       ],
       "layout": "IPY_MODEL_ba090fb3edbf4d4295f9b20ad8cdbea0"
      }
     },
     "8e22d3f893014a7db7aac3387f24a369": {
      "model_module": "@jupyter-widgets/controls",
      "model_module_version": "1.5.0",
      "model_name": "IntRangeSliderModel",
      "state": {
       "_model_name": "IntRangeSliderModel",
       "_view_name": "IntRangeSliderView",
       "continuous_update": false,
       "description": "Número de estados:",
       "layout": "IPY_MODEL_71ad72815bc945048c486c0319304401",
       "max": 10,
       "readout_format": ".1d",
       "style": "IPY_MODEL_7be5a11a5c3a4fc581f9a691e9e9e53f",
       "value": [
        0,
        0
       ]
      }
     },
     "8f5e771879594df2b37a5ae2bf2d888b": {
      "model_module": "@jupyter-widgets/controls",
      "model_module_version": "1.5.0",
      "model_name": "SliderStyleModel",
      "state": {
       "description_width": "initial"
      }
     },
     "8f619bacf4a34ba88b1cb9f5f7ee7ccb": {
      "model_module": "@jupyter-widgets/controls",
      "model_module_version": "1.5.0",
      "model_name": "FloatRangeSliderModel",
      "state": {
       "_model_name": "FloatRangeSliderModel",
       "_view_name": "FloatRangeSliderView",
       "continuous_update": false,
       "description": "Domínio de $\\Psi(x)$: ",
       "layout": "IPY_MODEL_6ce0116eae74499caec0404235a27b03",
       "max": 150,
       "min": -150,
       "readout_format": "1d",
       "style": "IPY_MODEL_309c6444a50b4b7e9b73149480e23b70",
       "value": [
        -50,
        50
       ]
      }
     },
     "8fa9d984b2234b5aa00ee026f733753d": {
      "model_module": "@jupyter-widgets/controls",
      "model_module_version": "1.5.0",
      "model_name": "TabModel",
      "state": {
       "_titles": {
        "0": "Gerar o Sistema",
        "1": "Funções de Onda"
       },
       "children": [
        "IPY_MODEL_dd051bd1fea6478180d32331b362b181",
        "IPY_MODEL_bafedde525a84bc886abfe03149bb76d"
       ],
       "layout": "IPY_MODEL_d37d82b5d25d428c806910dbae828733"
      }
     },
     "901f82690fbb48c5b6a72de3ebd99fcb": {
      "model_module": "@jupyter-widgets/output",
      "model_module_version": "1.0.0",
      "model_name": "OutputModel",
      "state": {
       "layout": "IPY_MODEL_e3465db1c6784344b9afe87e01650db9"
      }
     },
     "90757714142b4609a3afbda8282b67c2": {
      "model_module": "@jupyter-widgets/controls",
      "model_module_version": "1.5.0",
      "model_name": "IntSliderModel",
      "state": {
       "continuous_update": false,
       "description": "Margens horizontais em $x$:   ",
       "layout": "IPY_MODEL_997d2cd4ed274d45a6d9f447916d352e",
       "max": 80,
       "style": "IPY_MODEL_b449a1e8500f4650be32608298ea3e21",
       "value": 20
      }
     },
     "90fb901fba9040e1882a06c745a19dbf": {
      "model_module": "@jupyter-widgets/controls",
      "model_module_version": "1.5.0",
      "model_name": "DescriptionStyleModel",
      "state": {
       "description_width": ""
      }
     },
     "91b495150a51454cbd67a1a5a20858e2": {
      "model_module": "@jupyter-widgets/base",
      "model_module_version": "1.2.0",
      "model_name": "LayoutModel",
      "state": {}
     },
     "91dfd2e49d754425b09e332aa7b1034d": {
      "model_module": "@jupyter-widgets/controls",
      "model_module_version": "1.5.0",
      "model_name": "ButtonStyleModel",
      "state": {}
     },
     "92c7de915eca46beae8eaeda2714f065": {
      "model_module": "@jupyter-widgets/output",
      "model_module_version": "1.0.0",
      "model_name": "OutputModel",
      "state": {
       "layout": "IPY_MODEL_5a5970178f6541e3a2eeb34dc92a471a"
      }
     },
     "92dd7b94903b482aa661643abb121159": {
      "model_module": "@jupyter-widgets/controls",
      "model_module_version": "1.5.0",
      "model_name": "FloatRangeSliderModel",
      "state": {
       "_model_name": "FloatRangeSliderModel",
       "_view_name": "FloatRangeSliderView",
       "continuous_update": false,
       "description": "Domínio de $\\Psi(x)$: ",
       "layout": "IPY_MODEL_d4d5dd73f63846cfb83d63b8a4f31782",
       "max": 150,
       "min": -150,
       "readout_format": "1d",
       "style": "IPY_MODEL_8f5e771879594df2b37a5ae2bf2d888b",
       "value": [
        -50,
        50
       ]
      }
     },
     "9309fb82c48e4f33b26773626d14bcbc": {
      "model_module": "@jupyter-widgets/controls",
      "model_module_version": "1.5.0",
      "model_name": "FloatRangeSliderModel",
      "state": {
       "_model_name": "FloatRangeSliderModel",
       "_view_name": "FloatRangeSliderView",
       "continuous_update": false,
       "description": "Domínio de $\\Psi(x)$: ",
       "layout": "IPY_MODEL_6fc5533628f04fa797f831bdd493347d",
       "max": 150,
       "min": -150,
       "readout_format": "1d",
       "style": "IPY_MODEL_0c07e2836f284d15ad7bb07e5f499f0c",
       "value": [
        -50,
        50
       ]
      }
     },
     "941643b7209f4fbdb09146e092e6a5d2": {
      "model_module": "@jupyter-widgets/controls",
      "model_module_version": "1.5.0",
      "model_name": "DescriptionStyleModel",
      "state": {
       "description_width": "initial"
      }
     },
     "947ea181df524f63b73ee37a014388dd": {
      "model_module": "@jupyter-widgets/controls",
      "model_module_version": "1.5.0",
      "model_name": "DescriptionStyleModel",
      "state": {
       "description_width": "initial"
      }
     },
     "950e6770b58f4a389d2b339922d301cf": {
      "model_module": "@jupyter-widgets/controls",
      "model_module_version": "1.5.0",
      "model_name": "DescriptionStyleModel",
      "state": {
       "description_width": "initial"
      }
     },
     "967fd1cfbf76410388939aa64e241661": {
      "model_module": "@jupyter-widgets/controls",
      "model_module_version": "1.5.0",
      "model_name": "ButtonStyleModel",
      "state": {}
     },
     "9749ad8ef75640298af8b0ffe6252d84": {
      "model_module": "@jupyter-widgets/base",
      "model_module_version": "1.2.0",
      "model_name": "LayoutModel",
      "state": {}
     },
     "997d2cd4ed274d45a6d9f447916d352e": {
      "model_module": "@jupyter-widgets/base",
      "model_module_version": "1.2.0",
      "model_name": "LayoutModel",
      "state": {
       "display": "flex",
       "width": "90%"
      }
     },
     "9cf1b88a19a042b3800c96c5e1b31b22": {
      "model_module": "@jupyter-widgets/output",
      "model_module_version": "1.0.0",
      "model_name": "OutputModel",
      "state": {
       "layout": "IPY_MODEL_4c4cca6b527d4359aeb24458f09cf5c8"
      }
     },
     "9da3f7b63b52443a806e4624d305a748": {
      "model_module": "@jupyter-widgets/controls",
      "model_module_version": "1.5.0",
      "model_name": "SliderStyleModel",
      "state": {
       "description_width": "initial"
      }
     },
     "9fb0abf6c03d41ff96560de5320b213c": {
      "model_module": "@jupyter-widgets/base",
      "model_module_version": "1.2.0",
      "model_name": "LayoutModel",
      "state": {}
     },
     "9fb32064ecdd41f79825095e6eb1f9d6": {
      "model_module": "@jupyter-widgets/base",
      "model_module_version": "1.2.0",
      "model_name": "LayoutModel",
      "state": {}
     },
     "a050cedad9e74494adf267e48c00f58b": {
      "model_module": "@jupyter-widgets/controls",
      "model_module_version": "1.5.0",
      "model_name": "VBoxModel",
      "state": {
       "_dom_classes": [
        "widget-interact"
       ],
       "children": [
        "IPY_MODEL_d57e8738ab374dd496258545e82fb2bb",
        "IPY_MODEL_7eb0813439334eb5a66956d303db6be8",
        "IPY_MODEL_558f881ceb1e438eb663e08e9878354b",
        "IPY_MODEL_17bb18a45871458bb61a388173bb142f",
        "IPY_MODEL_ba16848f19774837956eaf894ca790d6",
        "IPY_MODEL_f8791939d6e643d983957925a9a789d4",
        "IPY_MODEL_1c429d318b684de38acf2988cac6a5f9"
       ],
       "layout": "IPY_MODEL_6af00389c4384961b55df74cc9128d46"
      }
     },
     "a078277a6dc2413e8b4c059726922881": {
      "model_module": "@jupyter-widgets/controls",
      "model_module_version": "1.5.0",
      "model_name": "IntSliderModel",
      "state": {
       "continuous_update": false,
       "description": "Margens horizontais em $x$:   ",
       "layout": "IPY_MODEL_71ad72815bc945048c486c0319304401",
       "max": 80,
       "style": "IPY_MODEL_dd5c0cc04c194619b3a1bdbe1737e22d",
       "value": 20
      }
     },
     "a0ce2ca0fb274752ae1047cd318f6a64": {
      "model_module": "@jupyter-widgets/controls",
      "model_module_version": "1.5.0",
      "model_name": "ButtonStyleModel",
      "state": {}
     },
     "a19914a50b56469a933ef96a4cbcb1e1": {
      "model_module": "@jupyter-widgets/base",
      "model_module_version": "1.2.0",
      "model_name": "LayoutModel",
      "state": {}
     },
     "a1f640cf31c94d3fb83e0b26f35ee470": {
      "model_module": "@jupyter-widgets/output",
      "model_module_version": "1.0.0",
      "model_name": "OutputModel",
      "state": {
       "layout": "IPY_MODEL_9749ad8ef75640298af8b0ffe6252d84"
      }
     },
     "a21af7154c344307ab0571d41cc049c0": {
      "model_module": "@jupyter-widgets/controls",
      "model_module_version": "1.5.0",
      "model_name": "SliderStyleModel",
      "state": {
       "description_width": "initial"
      }
     },
     "a233c0cc7c3646c3994f7b3796d335fe": {
      "model_module": "@jupyter-widgets/controls",
      "model_module_version": "1.5.0",
      "model_name": "VBoxModel",
      "state": {
       "_dom_classes": [
        "widget-interact"
       ],
       "children": [
        "IPY_MODEL_1d1e777ad63348be87a3ddd123e7f384",
        "IPY_MODEL_509ffdde03e74e26a9927f93e3fc881a",
        "IPY_MODEL_b3f51a790d6942e69a7e96ae3be42b97",
        "IPY_MODEL_2b6ab2c0e74241d593061c0c2e1cfd82",
        "IPY_MODEL_6bc2104331344694900c4e3b452aa07d",
        "IPY_MODEL_1a835f4b946549ce88dfcdf48224fb8e",
        "IPY_MODEL_89ea674ce51b405687f8d50ad05474fe"
       ],
       "layout": "IPY_MODEL_e24f6008bc81473ead223b4c8ac2c412"
      }
     },
     "a35c16746d284aabbd855ae87298955c": {
      "model_module": "@jupyter-widgets/base",
      "model_module_version": "1.2.0",
      "model_name": "LayoutModel",
      "state": {}
     },
     "a42dfb25a68c49bc9604d2ae49d9f557": {
      "model_module": "@jupyter-widgets/base",
      "model_module_version": "1.2.0",
      "model_name": "LayoutModel",
      "state": {}
     },
     "a4567e5336d1461eb248b08fa4df83bb": {
      "model_module": "@jupyter-widgets/controls",
      "model_module_version": "1.5.0",
      "model_name": "ButtonStyleModel",
      "state": {}
     },
     "a5130886199340ceb533bdcf17514937": {
      "model_module": "@jupyter-widgets/output",
      "model_module_version": "1.0.0",
      "model_name": "OutputModel",
      "state": {
       "layout": "IPY_MODEL_77b3636d847e401aa486e038b75e845b"
      }
     },
     "a52fb45877fa486b9b2bfb31d0846334": {
      "model_module": "@jupyter-widgets/controls",
      "model_module_version": "1.5.0",
      "model_name": "IntRangeSliderModel",
      "state": {
       "_model_name": "IntRangeSliderModel",
       "_view_name": "IntRangeSliderView",
       "continuous_update": false,
       "description": "Número de estados:",
       "layout": "IPY_MODEL_33657767d0d14a328cbcc2b21e2baa54",
       "max": 10,
       "readout_format": ".1d",
       "style": "IPY_MODEL_e27824c2a68f4356ba4ccbd9b46714bd",
       "value": [
        0,
        3
       ]
      }
     },
     "a6ede98da5f34147a1ac0f9c2021d4ec": {
      "model_module": "@jupyter-widgets/base",
      "model_module_version": "1.2.0",
      "model_name": "LayoutModel",
      "state": {}
     },
     "a72145d632aa4a44b7262b71c2008a5f": {
      "model_module": "@jupyter-widgets/base",
      "model_module_version": "1.2.0",
      "model_name": "LayoutModel",
      "state": {}
     },
     "a84f33bdf06747a1b3a091e1c6e2a000": {
      "model_module": "@jupyter-widgets/base",
      "model_module_version": "1.2.0",
      "model_name": "LayoutModel",
      "state": {}
     },
     "a8777203adba4bd3933f3577a22fcc57": {
      "model_module": "@jupyter-widgets/controls",
      "model_module_version": "1.5.0",
      "model_name": "TabModel",
      "state": {
       "_titles": {
        "0": "Gerar o Sistema",
        "1": "Funções de Onda"
       },
       "children": [
        "IPY_MODEL_c2ea3489d5e143a2b2722485f908715e",
        "IPY_MODEL_43b9dfb8ab6448a09d2263f7bf985c70"
       ],
       "layout": "IPY_MODEL_1081b79e9d5f4dd08ef0e1016ab16f10",
       "selected_index": 1
      }
     },
     "a9a08e6772ef40e4a85cd4e71c3faa5c": {
      "model_module": "@jupyter-widgets/controls",
      "model_module_version": "1.5.0",
      "model_name": "BoundedIntTextModel",
      "state": {
       "description": "Tamanho da figura (Y):",
       "layout": "IPY_MODEL_546effeaeea24d138910d79232b6588e",
       "max": 20,
       "style": "IPY_MODEL_3db7ab91be9142edb20cb128b246704f",
       "value": 16
      }
     },
     "aa64a4a6a7344beca501968917ee287a": {
      "model_module": "@jupyter-widgets/controls",
      "model_module_version": "1.5.0",
      "model_name": "DescriptionStyleModel",
      "state": {
       "description_width": "initial"
      }
     },
     "aa875af309df4bf4b18ffcef231b403e": {
      "model_module": "@jupyter-widgets/controls",
      "model_module_version": "1.5.0",
      "model_name": "DescriptionStyleModel",
      "state": {
       "description_width": "initial"
      }
     },
     "ab6023caf24c4c3ba9ff36c83da39346": {
      "model_module": "@jupyter-widgets/base",
      "model_module_version": "1.2.0",
      "model_name": "LayoutModel",
      "state": {}
     },
     "ad646446594e4ec48c26286d61dba15c": {
      "model_module": "@jupyter-widgets/base",
      "model_module_version": "1.2.0",
      "model_name": "LayoutModel",
      "state": {}
     },
     "aead35e31d134264b470750d17b7ae60": {
      "model_module": "@jupyter-widgets/base",
      "model_module_version": "1.2.0",
      "model_name": "LayoutModel",
      "state": {}
     },
     "aecc4c362eb24981ba0a961f9424072f": {
      "model_module": "@jupyter-widgets/controls",
      "model_module_version": "1.5.0",
      "model_name": "IntSliderModel",
      "state": {
       "continuous_update": false,
       "description": "Número de pontos: ",
       "layout": "IPY_MODEL_3257c0541e9c4ff49e664332fe9f814c",
       "max": 2000,
       "min": 200,
       "step": 10,
       "style": "IPY_MODEL_cda252056de44fea9641baa0c64b6965",
       "value": 500
      }
     },
     "afb41c2efd9748638dd9e3ea56eeb2a9": {
      "model_module": "@jupyter-widgets/controls",
      "model_module_version": "1.5.0",
      "model_name": "ButtonModel",
      "state": {
       "description": "Gerar/Resolver",
       "layout": "IPY_MODEL_b7ac5247619941feadc390f61cd5d313",
       "style": "IPY_MODEL_46fae573ebed44da891ca538e9a66ed0"
      }
     },
     "afba0042be40470fb760495b29453b5d": {
      "model_module": "@jupyter-widgets/base",
      "model_module_version": "1.2.0",
      "model_name": "LayoutModel",
      "state": {}
     },
     "b03e1f1c016342a6844b7f97066f2c12": {
      "model_module": "@jupyter-widgets/base",
      "model_module_version": "1.2.0",
      "model_name": "LayoutModel",
      "state": {}
     },
     "b1c65c02b6bc4717905abba671b4f7cd": {
      "model_module": "@jupyter-widgets/controls",
      "model_module_version": "1.5.0",
      "model_name": "SliderStyleModel",
      "state": {
       "description_width": "initial"
      }
     },
     "b2a1bcc32d7b4315a89a36b24cdd3264": {
      "model_module": "@jupyter-widgets/controls",
      "model_module_version": "1.5.0",
      "model_name": "BoundedIntTextModel",
      "state": {
       "description": "Tamanho da figura (Y):",
       "layout": "IPY_MODEL_389c42ff22a347db91514ec6fc661b84",
       "max": 20,
       "style": "IPY_MODEL_0011ea62ec9544738f0b10d9236e5932",
       "value": 16
      }
     },
     "b311d412ab934dc5aa7e73605bd0eafd": {
      "model_module": "@jupyter-widgets/controls",
      "model_module_version": "1.5.0",
      "model_name": "VBoxModel",
      "state": {
       "_dom_classes": [
        "widget-interact"
       ],
       "children": [
        "IPY_MODEL_f2cf6ab47b3b415681ab816d640ad9e4",
        "IPY_MODEL_c53b91b030d04cd4ae24de4bf98efcff",
        "IPY_MODEL_6fad5c3332494a6c8600fb844325dacc",
        "IPY_MODEL_3c214a708339435997672c5c2bf0dafe"
       ],
       "layout": "IPY_MODEL_1d2ea0959810475b855ec997d8f51820"
      }
     },
     "b33dc9c0a5bb42a2b2d9fed7e4d608eb": {
      "model_module": "@jupyter-widgets/controls",
      "model_module_version": "1.5.0",
      "model_name": "VBoxModel",
      "state": {
       "_dom_classes": [
        "widget-interact"
       ],
       "children": [
        "IPY_MODEL_c4167a16ff2543a4af37283df50055a9",
        "IPY_MODEL_43bf14ac12c04b58aad412ea72481bfb",
        "IPY_MODEL_2a4ac6281cce4660a9496ef80bee3ef6",
        "IPY_MODEL_3879c60bbbb84f518e996a74e57d256d",
        "IPY_MODEL_b2a1bcc32d7b4315a89a36b24cdd3264",
        "IPY_MODEL_4ac60fa399c7406b9c381cafbedb6eb8",
        "IPY_MODEL_4f4eca36f8dd499387ab6d54f1179d8c"
       ],
       "layout": "IPY_MODEL_d16c522bb6fd4f2fa7fae2be015dc45d"
      }
     },
     "b3f51a790d6942e69a7e96ae3be42b97": {
      "model_module": "@jupyter-widgets/controls",
      "model_module_version": "1.5.0",
      "model_name": "DropdownModel",
      "state": {
       "_options_labels": [
        "densidades de probabilidades",
        "funções de onda (parte real)",
        "funções de onda (parte imaginária)"
       ],
       "description": "Plotar as",
       "index": 0,
       "layout": "IPY_MODEL_6b8ecf9c6e7340569c7ef1c36fe35c74",
       "style": "IPY_MODEL_3dedd1d5f772404f914ed1095986b49d"
      }
     },
     "b449a1e8500f4650be32608298ea3e21": {
      "model_module": "@jupyter-widgets/controls",
      "model_module_version": "1.5.0",
      "model_name": "SliderStyleModel",
      "state": {
       "description_width": "initial"
      }
     },
     "b61593d351174c8e829b091105c000f0": {
      "model_module": "@jupyter-widgets/controls",
      "model_module_version": "1.5.0",
      "model_name": "IntSliderModel",
      "state": {
       "continuous_update": false,
       "description": "Número de pontos: ",
       "layout": "IPY_MODEL_d4d5dd73f63846cfb83d63b8a4f31782",
       "max": 2000,
       "min": 200,
       "step": 10,
       "style": "IPY_MODEL_698ccf1ff8a146f19de16bfec3c6afaa",
       "value": 500
      }
     },
     "b6ddcb1e23564823a432ce11a055e846": {
      "model_module": "@jupyter-widgets/base",
      "model_module_version": "1.2.0",
      "model_name": "LayoutModel",
      "state": {}
     },
     "b7ac5247619941feadc390f61cd5d313": {
      "model_module": "@jupyter-widgets/base",
      "model_module_version": "1.2.0",
      "model_name": "LayoutModel",
      "state": {}
     },
     "b8c88bf145794aaa87afa9d9e72736af": {
      "model_module": "@jupyter-widgets/base",
      "model_module_version": "1.2.0",
      "model_name": "LayoutModel",
      "state": {}
     },
     "b97a59fff6af43c9920fc5d93518cd56": {
      "model_module": "@jupyter-widgets/controls",
      "model_module_version": "1.5.0",
      "model_name": "DropdownModel",
      "state": {
       "_options_labels": [
        "densidades de probabilidades",
        "Funções de onda (parte real, +)",
        "Funções de onda (parte real, -)",
        "Funções de onda (parte imaginária)"
       ],
       "description": "Plotar as",
       "index": 2,
       "layout": "IPY_MODEL_2a792251ef1341f890ac8a31b4b20785",
       "style": "IPY_MODEL_4896bd81e7064b1396423e338985b77a"
      }
     },
     "b9dec51cf0e64f35b899d2e8246faa60": {
      "model_module": "@jupyter-widgets/controls",
      "model_module_version": "1.5.0",
      "model_name": "VBoxModel",
      "state": {
       "_dom_classes": [
        "widget-interact"
       ],
       "children": [
        "IPY_MODEL_8b2bb657dddb48b89d5bf42a89c3c6aa",
        "IPY_MODEL_c692a4ab5cf94d269fcff0e76dc284a3",
        "IPY_MODEL_cf13e127044e413594166684cc7b0a72",
        "IPY_MODEL_1e0f20b60826488d8675848cdba000be",
        "IPY_MODEL_a9a08e6772ef40e4a85cd4e71c3faa5c",
        "IPY_MODEL_447d538c90d44b96a03b481f1627798f",
        "IPY_MODEL_254a278af1894608bdd28a4e776e8dcc"
       ],
       "layout": "IPY_MODEL_f76f8279fe304fbe8365b84d891c2774"
      }
     },
     "ba090fb3edbf4d4295f9b20ad8cdbea0": {
      "model_module": "@jupyter-widgets/base",
      "model_module_version": "1.2.0",
      "model_name": "LayoutModel",
      "state": {}
     },
     "ba132cd59d794c84b5a2ac593b137b18": {
      "model_module": "@jupyter-widgets/base",
      "model_module_version": "1.2.0",
      "model_name": "LayoutModel",
      "state": {}
     },
     "ba16848f19774837956eaf894ca790d6": {
      "model_module": "@jupyter-widgets/controls",
      "model_module_version": "1.5.0",
      "model_name": "BoundedIntTextModel",
      "state": {
       "description": "Tamanho da figura (Y):",
       "layout": "IPY_MODEL_de934d17fd4b4925a44988d075790612",
       "max": 20,
       "style": "IPY_MODEL_c3556bcaa5bb4b8eb7d090ea73f71d9a",
       "value": 16
      }
     },
     "baa62b35a8474ef3904cb89ebb6a2b81": {
      "model_module": "@jupyter-widgets/controls",
      "model_module_version": "1.5.0",
      "model_name": "ButtonStyleModel",
      "state": {}
     },
     "bafedde525a84bc886abfe03149bb76d": {
      "model_module": "@jupyter-widgets/controls",
      "model_module_version": "1.5.0",
      "model_name": "VBoxModel",
      "state": {
       "_dom_classes": [
        "widget-interact"
       ],
       "children": [
        "IPY_MODEL_0e5cc5e66f954e2d91daa792766c2bea",
        "IPY_MODEL_4578b96cd6424a5da1c47f116adfd2cc",
        "IPY_MODEL_0f80f19dac404eb3ab9fc79fa5573a03",
        "IPY_MODEL_bd794dac9e76452583f091ab11910c3e",
        "IPY_MODEL_2341e0796ce74c538c593132c3863359",
        "IPY_MODEL_de2d3acbd655469bae9c611574cb8594",
        "IPY_MODEL_756f62f85a1a46249302b98ebe7fdd82"
       ],
       "layout": "IPY_MODEL_e804a1c6d23f4b4bafb0877c2c973d56"
      }
     },
     "bd794dac9e76452583f091ab11910c3e": {
      "model_module": "@jupyter-widgets/controls",
      "model_module_version": "1.5.0",
      "model_name": "BoundedIntTextModel",
      "state": {
       "description": "Plotar",
       "layout": "IPY_MODEL_635c3af870f340bea9f0daee071683c3",
       "max": 20,
       "style": "IPY_MODEL_588669a6a6b542cba6a861ccbcc878bb",
       "value": 9
      }
     },
     "bddc862bf6f242cc94289bffb4b61d02": {
      "model_module": "@jupyter-widgets/controls",
      "model_module_version": "1.5.0",
      "model_name": "SliderStyleModel",
      "state": {
       "description_width": "initial"
      }
     },
     "be1823aec8eb41bfa7d2eecb96cdfc13": {
      "model_module": "@jupyter-widgets/base",
      "model_module_version": "1.2.0",
      "model_name": "LayoutModel",
      "state": {}
     },
     "bf602e4e691444a0bf2bba522a710182": {
      "model_module": "@jupyter-widgets/controls",
      "model_module_version": "1.5.0",
      "model_name": "SliderStyleModel",
      "state": {
       "description_width": "initial"
      }
     },
     "c181fb6aa4db43e7b1c2f371dccf9ab8": {
      "model_module": "@jupyter-widgets/controls",
      "model_module_version": "1.5.0",
      "model_name": "SliderStyleModel",
      "state": {
       "description_width": "initial"
      }
     },
     "c1e22502989e429e85865475bfb6d319": {
      "model_module": "@jupyter-widgets/controls",
      "model_module_version": "1.5.0",
      "model_name": "ButtonStyleModel",
      "state": {}
     },
     "c2ea3489d5e143a2b2722485f908715e": {
      "model_module": "@jupyter-widgets/controls",
      "model_module_version": "1.5.0",
      "model_name": "VBoxModel",
      "state": {
       "_dom_classes": [
        "widget-interact"
       ],
       "children": [
        "IPY_MODEL_34b99a8a8dc148a7b479d33fce599b8b",
        "IPY_MODEL_5fe1b419b74c4c65bb693128b00be797",
        "IPY_MODEL_5e8c6259713d44f69f4b12d2aaf7ada3",
        "IPY_MODEL_f0486cdf442b431a88e68affaa2440d9"
       ],
       "layout": "IPY_MODEL_ea7514f321e943399b97ce5f1f0e03f2"
      }
     },
     "c3556bcaa5bb4b8eb7d090ea73f71d9a": {
      "model_module": "@jupyter-widgets/controls",
      "model_module_version": "1.5.0",
      "model_name": "DescriptionStyleModel",
      "state": {
       "description_width": ""
      }
     },
     "c37054e9ece44b4885f19b38c2e28e37": {
      "model_module": "@jupyter-widgets/base",
      "model_module_version": "1.2.0",
      "model_name": "LayoutModel",
      "state": {}
     },
     "c3cee7104583405993a5646bb88b04f1": {
      "model_module": "@jupyter-widgets/controls",
      "model_module_version": "1.5.0",
      "model_name": "ButtonModel",
      "state": {
       "description": "Gerar/Resolver",
       "layout": "IPY_MODEL_2dda4b017f58494fb98657ab51fc6d7d",
       "style": "IPY_MODEL_c8e84f1c1046448484324e44f98f8419"
      }
     },
     "c3f4d2016e5e4fe9aabb56d025426d88": {
      "model_module": "@jupyter-widgets/controls",
      "model_module_version": "1.5.0",
      "model_name": "TabModel",
      "state": {
       "_titles": {
        "0": "Gerar o Sistema",
        "1": "Funções de Onda"
       },
       "children": [
        "IPY_MODEL_f0385aca523d44678883824576dd29f0",
        "IPY_MODEL_de5b38c79619412eaaea396055dcb31d"
       ],
       "layout": "IPY_MODEL_d9d78816be694c85be55913ebf70c08b",
       "selected_index": 1
      }
     },
     "c4167a16ff2543a4af37283df50055a9": {
      "model_module": "@jupyter-widgets/controls",
      "model_module_version": "1.5.0",
      "model_name": "IntRangeSliderModel",
      "state": {
       "_model_name": "IntRangeSliderModel",
       "_view_name": "IntRangeSliderView",
       "continuous_update": false,
       "description": "Número de estados:",
       "layout": "IPY_MODEL_3257c0541e9c4ff49e664332fe9f814c",
       "max": 10,
       "readout_format": ".1d",
       "style": "IPY_MODEL_e82c53850a3c4bbdabfa14a61ce5b7ef",
       "value": [
        0,
        3
       ]
      }
     },
     "c4ef44921f214beb9ffe4b82161a0bd6": {
      "model_module": "@jupyter-widgets/controls",
      "model_module_version": "1.5.0",
      "model_name": "DropdownModel",
      "state": {
       "_options_labels": [
        "densidades de probabilidades",
        "$\\Psi(x)$ (parte real, +)",
        "$\\Psi(x)$ (parte real, -)",
        "$\\Psi(x)$ (parte imaginária)"
       ],
       "description": "Plotar as",
       "index": 2,
       "layout": "IPY_MODEL_44586ef87cc64bf39149d3fd3b846f8d",
       "style": "IPY_MODEL_5d93eafc77bc49319d8a9c35f98a314a"
      }
     },
     "c53b91b030d04cd4ae24de4bf98efcff": {
      "model_module": "@jupyter-widgets/controls",
      "model_module_version": "1.5.0",
      "model_name": "IntSliderModel",
      "state": {
       "continuous_update": false,
       "description": "Número de pontos: ",
       "layout": "IPY_MODEL_87018481a1cf4850a7c40e8f612860e7",
       "max": 2000,
       "min": 200,
       "step": 10,
       "style": "IPY_MODEL_fe0122b6f6244488ae3f6803f447d925",
       "value": 500
      }
     },
     "c65d6eba2db541dbb6db266752c42efb": {
      "model_module": "@jupyter-widgets/base",
      "model_module_version": "1.2.0",
      "model_name": "LayoutModel",
      "state": {}
     },
     "c692a4ab5cf94d269fcff0e76dc284a3": {
      "model_module": "@jupyter-widgets/controls",
      "model_module_version": "1.5.0",
      "model_name": "IntSliderModel",
      "state": {
       "continuous_update": false,
       "description": "Margens horizontais em $x$:   ",
       "layout": "IPY_MODEL_d4d5dd73f63846cfb83d63b8a4f31782",
       "max": 80,
       "style": "IPY_MODEL_f6c16481a64d435b9890f12e9c10f91d",
       "value": 20
      }
     },
     "c696fe9d553547a591491dfedf7a0b65": {
      "model_module": "@jupyter-widgets/controls",
      "model_module_version": "1.5.0",
      "model_name": "ButtonStyleModel",
      "state": {}
     },
     "c69a536d063a4575803f37e90d234f3b": {
      "model_module": "@jupyter-widgets/output",
      "model_module_version": "1.0.0",
      "model_name": "OutputModel",
      "state": {
       "layout": "IPY_MODEL_6d116a2f3b454cb482c88c62a0135b1e",
       "outputs": [
        {
         "data": {
          "image/png": "iVBORw0KGgoAAAANSUhEUgAAA7YAAAIfCAYAAABEnkAKAAAAOXRFWHRTb2Z0d2FyZQBNYXRwbG90bGliIHZlcnNpb24zLjQuMiwgaHR0cHM6Ly9tYXRwbG90bGliLm9yZy8rg+JYAAAACXBIWXMAAAsTAAALEwEAmpwYAAB4V0lEQVR4nO3dd3xUVf7/8fdJJ5QAgdASSgi9CgjSQbCABRXsYhcUdcXV3VW3r67ufldXXRUFewdEVxHBhlRBpIj0koSS0AkQSnpyfn8k7g+RgQCZnLkzr+fjkYfJvXdm3uxsks8n59xzjLVWAAAAAAB4VZjrAAAAAAAAnAkaWwAAAACAp9HYAgAAAAA8jcYWAAAAAOBpNLYAAAAAAE+jsQUAAAAAeJpfG1tjzIXGmPXGmFRjzEPHOR9tjJlUdn6RMaZp2fHrjTHLj/ooMcZ09mdWAAAAAIA3GX/tY2uMCZe0QdJ5kjIlLZZ0rbV2zVHXjJHU0Vp7pzHmGkmXW2uvPuZ5Okj62Frb3C9BAQAAAACe5s8R2+6SUq216dbaAkkTJQ075pphkt4s+3yKpEHGGHPMNdeWPRYAAAAAgF/wZ2PbSFLGUV9nlh077jXW2iJJ2ZLij7nmaknv+ykjAAAAAMDjIlwHOBFjTA9JOdbaVT7Oj5I0SpKqVq3atXXr1pUZDwFi/fr1kqRWrVo5TgIAAAB/ou4LbUuXLt1rra17vHP+bGy3SUo66uvEsmPHuybTGBMhKU5S1lHnr9EJRmuttRMkTZCkbt262SVLllRAbHjNgAEDJEmzZ892mgMAAAD+Rd0X2owxW3yd8+dU5MWSWhhjmhljolTapE495pqpkm4q+3yEpG9s2WpWxpgwSVeJ+2sBAAAAACfgtxFba22RMeYeSV9ICpf0mrV2tTHmb5KWWGunSnpV0tvGmFRJ+1Ta/P6kn6QMa226vzICAAAAALzPb9v9VDamIoeunJwcSVJsbKzjJAAAAPAn6r7QZoxZaq3tdrxzAb14FFAe/GADAAAIboWFhcrMzFReXp7rKKgEMTExSkxMVGRkZLkfQ2MLzxs3bpwkacyYMY6TAAAAwB8yMzNVvXp1xcbGyhijhIQE15HgJ9ZaZWVlKTMzU82aNSv34/y5eBRQKSZPnqzJkye7jgEAAAA/ycvLU3x8vA4cOKD9+/e7jgM/MsYoPj7+lEfnaWwBAAAABDxjjOsIqCSn817T2AIAAAAAPI3GFgAAAADgaTS2AAAAAFAO48ePV4MGDdS5c+f/faxcubJCnvvzzz9Xq1atlJKSon/84x+nfM3xzuXl5al79+7q1KmT2rVrpz//+c+SpPXr1//s31CjRg0988wzJ3xMeTP6MnDgQH3xxRc/O/bMM8/orrvuOqXn8claGxQfXbt2tQAAAACCz5o1a1xHsNZae/fdd9tXXnmlwp+3qKjIJicn27S0NJufn287duxoV69eXe5rfJ0rKSmxhw4dstZaW1BQYLt3724XLlz4i+etV6+e3bx5s7XW+nxMeTKeyPjx4+3NN9/8s2M9evSwc+bMOe71x3vPJS2xPvpBRmwBAAAAoBxWrFihzp07V/jzfv/990pJSVFycrKioqJ0zTXX6JNPPin3Nb7OGWNUrVo1SaV7ARcWFv5iYaaZM2eqefPmatKkiST5fEx5Mv7knXfeUffu3dW5c2eNHj1axcXFGjFihD777DMVFBRIkjZv3qzt27erb9++FfK/IfvYwvOefPJJSdKDDz7oOAkAAAD8aefOnXp6doY2ZxdV6PO2bVhDf76k3UmvW716tW655RaFhZWOD44ZM0ajRo064WP69u2rQ4cO/eL4k08+qcGDB0uStm3bpqSkpP+dS0xM1KJFi352/YmuOdG54uJide3aVampqbr77rvVo0ePnz3vxIkTde211/7s2PEeM2XKlJNmlKS1a9dq0qRJ+vbbbxUZGakxY8bo3Xff1Y033qju3btrxowZGjZsmCZOnKirrrqqwla7prGF502bNk0SjS0AAECwy87OVn5BvqTwSn/tjIwM1a1bVytWrPjZ8SNHjmjMmDGKiorSgAEDdP311//s/Lx58yoz5i+Eh4dr+fLlOnDggC6//HKtWrVK7du3lyQVFBRo6tSpeuKJJ076mPKaOXOmli5dqrPPPluSlJubq4SEBEnStddeq4kTJ/6vsX311Vcr6F9JYwsAAADAQ+7qUVetWrWq9NdduXKl2rRp84vjH330kUaMGKFLLrlEV1999S8a2/KM2DZq1EgZGRn/O5eZmalGjRr97PoTXVOex9esWVMDBw7U559//r/GdsaMGerSpYvq1at33H/z0Y/p3bv3SV9DKl3D6aabbvpFsyxJw4YN0/33369ly5YpJydHXbt2Pe7rng7usQUAAACAk1ixYoVat279i+OZmZn/m6IbHv7LkeR58+Zp+fLlv/j4qamVpLPPPlsbN27Upk2bVFBQoIkTJ+rSSy/92fOc6Bpf5/bs2aMDBw5IKh05/eqrr372b3j//fd/MQ3Z12PKk1GSBg0apClTpmj37t2SpH379mnLli2SpGrVqmngwIG69dZbf/G6Z4oRWwAAAAA4iZUrV2rOnDmaMWOGpNJFlubNm6fExERlZmaqc+fOKikpOa3njoiI0PPPP68LLrhAxcXFuvXWW9WuXek9v0OHDtUrr7yihg0b+rzG1+NXrFihm266ScXFxSopKdFVV12liy++WFLpFOqvvvpK48eP/1mWHTt2+HyMr9c/Wtu2bfXYY4/p/PPPV0lJiSIjI/XCCy/8b3Gqa6+9VpdffrkmTpx4Wv9b+WJKV032vm7dutklS5a4jgEHhgwZIkn/+yEDAACA4LJ27Vq1adNGGzZskCS1bNnScaL/78iRI7rnnnsUExOjPn36/GIqMk7PT+/50YwxS6213Y53PSO28DwaWgAAgNAQSA3tT6pWrarXX3/ddYyQR2MLAIBjRcUl2pGdp4z9OcrYl6Od2fnan1NQ9lGoAzkFOpRXpIKiEhWVlKiw2KqwuEQlJVbRkeGKiQhTTGS4oiPDFRsVrlqxUapbPUp1qkWrTrVo1a0eraRasWpaJ1bVYyJd/3MBAKhwNLbwvEcffVSS9Mc//tFxEgA4seISqy1ZR7Rmx0Gt2X5Qa3ccVNqeI9p+IFdFJT+/Nah6dIRqVY1SrdhI1a4apSbxVRUVHqbIcKOIcKPI8DCFGaP8omLlFZYor7D0v7mFRcrcn6PlGQe070i+jnla1akWpabxVdW0TlW1rl9dHRNrql3DGqoaTUkAIPBt375dktSwYUPHSRBo+C0Gz5s5c6YkGlsAgedgXqGWbtmvxZv2afHmfVq17aByC4slSRFhRikJ1dQxMU4Xd2ygxrVjlVQ7Vkm1YlU/LkZREWe+cUFxidX+nALtPpivrfuOaNPeHG3ee0Sbso5o9vo9mrI0U5JkjJRcp6o6NIpT1ya11LN5vJrXrSZjzBlnAICKdLxtcwCJxhYAgApTUFSixZv36Zt1u/VdepbW7jioElvaxHZIjNM13ZPUtkENtW1YQykJ1RQd8cttISpSeJj533Tktg1r/OL87kN5WrUtWyszD2rltgNakJalj5eXjobUrR6tc5Lj1TM5Xv1a1lFirVi/ZgWAkwmWRW9xcqfzXtPYAgBwBvYeztesdbv1zbrdmrdxrw7nFykqIkxdG9fSvee2UI9mtdW5cU3FRgXer9yE6jE6t3WMzm1dT1JpIbElK0cL07O0MC1LC9Oz9OmPpY1umwY1dF7bejq/bT21a1iD0VwAlSomJkZZWVmy1vLzJ8hZa5WVlaWYmJhTelzg/ZYFACDAZecU6vPVOzT1x+1amJalEivVqxGtSzo11LmtE9Q7JT4gG9mTMcaoaZ3S+2+v7d5Y1lql7Tmsb9bt1ldrdun5bzbqPzM3qmFcjC5oX1+Xn9VIHRrFUWQC8Luf9ordvn27jDGnvV8svCEmJkaJiYmn9Bjv/dYFjhEfH+86AoAQkF9UrK/W7NIny7drzvo9KiguUdP4WN0zMEUXtK+vtg2CbxTTGKOUhOpKSaiuUf2aK+twvmaWNbnvfrdVr3+7Wc3rVtUVXRJ12VmN1KhmFdeRAQSpyMhINWvWTA8++KAk6cMPP3ScCIHGBMtc9W7dutklS5a4jgEACDKb9x7R+99v1QdLM7XvSIESqpeOzF7aqaE6JobuaGV2TqE+W7lD//0hU4s375ck9WoerxvOaaLz2tZTZPiZL34FAMDRjDFLrbXdjnuOxhYAgJ8rKi4pHZVctFXzU/cqPMxocJsEXdejifqk1FF4WGg2s75k7MvRf3/YpkmLM7TtQK7q1YjWdd2b6NruSUqocWr3SAEA4AuNLYLaww8/LEl64oknHCcB4HU5BUWatDhDr87fpMz9uWoYF6NruzfWVWcnqR4N2kkVl1jNWrdbb323RXM37FFEmNGQDg00ul+y2jeKcx0PQBCg7gttJ2psuccWnrdw4ULXEQB43J5D+Xpr4Wa9tXCLsnML1a1JLf3x4rYa3KYeo7OnIDzMaHDbehrctp427T2id77bosmLM/Tpj9vVr2VdjRnQXD2a1Q7Z6dsAzhx1H3yhsQUAhKzdB/M0bnaa3vt+qwqLS3Rem3oa3T9ZXZvUdh3N85rVqao/XtxWvxrUQu98t0Wvf7tJ10z4Tl0a19SYASka1CaBBhcAUGFobAEAISfrcL5empOmt7/bosJiq+FdGml0/+ZqXrea62hBJ65KpO4emKLb+jTT5CUZGj8nXbe/tUSdkmrqtxe0Uu+UOq4jAgCCAI0tACBkZOcUavzcNL2xYLPyCot1WedG+tWgFmpap6rraEEvJjJcN/Zsqmu7N9ZHyzL17Ncbdf0ri9Srebx+c0ErndW4luuIAAAPo7GF553q5s0AQk9hcYne/W6Lnpm5UQdyCnVxxwYaO7ilUhIYoa1skeFhuvrsxhrWuZHeW7RVL8xK1eXjFui8tvX08JDWSmbUHMAJUPfBF1ZFBgAELWutZq3frb9/tlZpe46oV/N4/f6iNmrXkBV6A8WR/CK9/u0mjZ+TrtzCYt3Su6nuHdRCNWIiXUcDAAQYtvsBAIScDbsO6W+frtH81L1KrlNVjwxtw4JFAWzPoXw99eV6TVqSodqxUXrwgla6qlsSq1IDAP6HxhZBbezYsZKkZ555xmkOAIEhp6BI/5mZqlfmpatqdITGDm6h63s0UVREmOtoKIdV27L1109Xa/Hm/WrboIYevay9ujbh/lsApaj7Qhv72CKoLV++3HUEAAFi5tpd+tMnq7XtQK6u6paoh4a0Ue2qUa5j4RS0bxSnyaN7atqKHXp8+lqNeGmBbujRRL+5sBXTkwFQ98EnGlsAgOftyM7VX6au1herd6lFQjVNHt1T3ZuxF61XGWN0SaeGGtg6QU9+sV5vLtysL9fs1F8vba8L29d3HQ8AEIBobAEAnmWt1eQlGXp02loVlZTotxe20u19kpl2HCSqRUfoL5e202VnNdLDH63Une8s1Xlt6+nRYe1VPy7GdTwAQADhNz8AwJN2ZOfq5tcX63cfrlS7hjX05dj+GjMghaY2CHVOqqmp9/TWw0Naa97GPTr/6Tn6ZPk2Bcs6IQCAM8eILTyvZcuWriMAqETWWn24bJv++ulqFRVb/fXSdhp5ThOFsXpuUIsMD9Po/s11frv6emDyct03cbm+WL1Tj13WgfuogRBC3QdfWBUZAOAZWYfz9bsPV+rrtbvUvWlt/evKjmoSX9V1LFSy4hKr8XPT9PRXGxRXJUr/uKKDBret5zoWAMDPTrQqMvO1AACeMH/jXg15dp7mbtyjP1zURhNHnUNTG6LCw4zGDEjR1Hv6qE61KN3+1hI9/NEK5RYUu44GAHCExhaeN2rUKI0aNcp1DAB+UlBUoidmrNXI1xapRpVIfXJ3b93eN5mpx1CbBjU09Z4+urN/c01cnKFhL8zXhl2HXMcC4EfUffCFe2zheRs2bHAdAYCfbN57RL+a+INWZGbr2u6N9aeL26pKVLjrWAggURFhemhIa/VOidf9k5br0ufn68+XtNM1ZyfJGP74AQQb6j74wogtACAgzVi5Qxc/N1+b9x7Ri9d30RNXdKCphU99W9TV9Pv6qluT2nr4o5W69/0fdDCv0HUsAEAlobEFAASUouIS/f2zNbrr3WVqnlBNM8b205AODVzHggckVI/RW7d2128uaKUZq3bq0ufma93Og65jAQAqAY0tACBg7D6Yp+teWaSX523SyHOaaPLoc9SoZhXXseAhYWFGdw9M0cRR5+hIQbEuf2GBpv643XUsAICfcY8tPK9z586uIwCoAN9v2qe731umQ3mFevrqTrr8rETXkeBhZzetrc/u7aMx7y7Tr97/QSsyDuihIa0VEc7f9AEvo+6DL+xjCwBw7u3vtuivU1crqXasXryhi1rXr+E6EoJEQVHp1PY3F27ROcm19fx1XVSnWrTrWACA08A+tgCAgFRYXKI/frxKf/x4lfq2qKNP7ulNU4sKFRURpr8Oa69/X9VJP2w9oEufm68127nvFgCCDY0tPO+GG27QDTfc4DoGgFO0/0iBbnz1e7393RaN7pesV246WzViIl3HQpC6okuiPryrl6ykES8t0FdrdrmOBOA0UPfBFxpbeF5mZqYyMzNdxwBwCjbuOqRhL3yrpVv266krO+nhoW0UHsaeo/Cv9o3i9MndvdUioZpGvb1EL81JU7DckgWECuo++EJjCwCoVHM37NHl4xYop6BY7486R8O7skgUKk9CjRhNGt1TQzs00D9mrNNvpqxQflGx61gAgDPEqsgAgEozeUmGHvlopVISqum1m89WQ7bygQMxkeF6/tqzlFK3mp6duVFbs3L08o3dFBfLVHgA8CpGbAEAfmet1dNfbdBvp6zQOcnx+uDOnjS1cMoYo/vPa6lnr+ms5RkHNOKlBdp2INd1LADAaWLEFp7Xs2dP1xEAnEBhcYke+WilPliaqeFdEvXEFR0UFcHfVREYhnVupITqMRr19hJdMe5bvXFLd7VpwMrcQKCi7oMv7GMLAPCbw/lFuuudpZq3ca9+NaiF7h/cQsawSBQCz7qdB3Xza4t1JL9I40d2Va+UOq4jAQCOwT62AIBKt+9Iga57+TstSMvSP4d30K/Pa0lTi4DVun4NfTSmlxrUjNFNr3+vT5Zvcx0JAHAKaGzhecOHD9fw4cNdxwBwlO0HcnXlSwu0fuchjb+hq64+u7HrSMBJNaxZRR/c2UtdGtfSfROX662Fm11HAnAM6j74wj228LysrCzXEQAcJX3PYY189XsdzC3UW7d2V4/keNeRgHKLqxKpN2/trnvf/0F/+mS1DuUVacyA5sw2AAIEdR98YcQWAFBhVm3L1pUvLVReYeketTS18KKYyHCNu76LLj+rkf71xXr94/N1CpY1SQAgWDFiCwCoEIs379Mtry9WXJVIvX1bdyXXreY6EnDaIsPD9NSVnVQtOkLj56TrUF6RHh3WXuFhjNwCQCCisQUAnLGFaVm69Y3FalAzRu/e3kMN4tijFt4XFmb0t2HtVD0mQuNmp+lwXpGeuqqTIsOZ8AYAgcavja0x5kJJz0oKl/SKtfYfx5yPlvSWpK6SsiRdba3dXHauo6TxkmpIKpF0trU2z5954U2DBg1yHQEIad+m7tVtby5WUq1YvXtHDyVUj3EdCagwxhj99sLWqh4TqX9+vk6FxSX6z7Vn0dwCjlD3wRe/7WNrjAmXtEHSeZIyJS2WdK21ds1R14yR1NFae6cx5hpJl1trrzbGREhaJmmktfZHY0y8pAPW2mJfr8c+tgBQ+eZu2KM73lqipvFV9e4dPVSnWrTrSIDfvDp/kx6dtkbnt62n56/roqgImlsAqEyu9rHtLinVWpturS2QNFHSsGOuGSbpzbLPp0gaZEqXHTxf0gpr7Y+SZK3NOlFTCwCofLPW7dbtby1Rct1qen/UOTS1CHq39Wmmv1zSVl+u2aUx7y5TfhGlCQAECn82to0kZRz1dWbZseNeY60tkpQtKV5SS0nWGPOFMWaZMea3fswJjxsyZIiGDBniOgYQUr5es0uj316qlvWq6f07eqh21SjXkYBKcXPvZvrbsHb6eu0u3fUOzS1Q2aj74EugzqGJkNRH0vVl/73cGPOLCfXGmFHGmCXGmCV79uyp7IwIELm5ucrNzXUdAwgZX67eqbveXao2Darr3dvOUc1YmlqElht7NtVjl7XXN+t2a/TbS5VXSHMLVBbqPvjiz8Z2m6Sko75OLDt23GvK7quNU+kiUpmS5lpr91prcyRNl9Tl2Bew1k6w1naz1narW7euH/4JAICjzVq3W3e/t0ztGsbp7dt7KC420nUkwIkbzmmixy/voNnr9+ie95apsLjEdSQACGn+bGwXS2phjGlmjImSdI2kqcdcM1XSTWWfj5D0jS1dzeoLSR2MMbFlDW9/SWsEAHBmQepe3fnOUrWqX11v3dZdNWJoahHaruvRWI8Oa6ev1+7W/ZOWq7jEPwtyAgBOzm/b/Vhri4wx96i0SQ2X9Jq1drUx5m+Sllhrp0p6VdLbxphUSftU2vzKWrvfGPNvlTbHVtJ0a+1n/soKADixpVv26fa3lqhJfKzeurUHTS1QZmTPpsopKNYTM9YpJjJc/ze8o8LCjOtYABBy/LqPrbV2ukqnER997E9HfZ4n6Uofj31H0jv+zIfgcPHFF7uOAAS1lZnZuvm1xapXI0bv3M5CUcCxRvdvrpyCYj07c6OqRIbrb8PaqXSTBwAVjboPvvhtH9vKxj62AFDx1u88pKsnLFTVqAh9cGdPNaxZxXUkICBZa/WPGes0fm66RvVL1sNDWtPcAkAFO9E+tn4dsQUAeFf6nsO6/pVFio4I03t39KCpBU7AGKOHhrRWbmGxJsxNV5XIcN1/XkvXsQAgZNDYwvMGDBggSZo9e7bTHEAw2XYgV9e/skjWWr17e081ia/qOhIQ8Iwx+ssl7f43LbladITu6JfsOhYQVKj74AuNLQDgZ/YdKdDIVxfpcH6RJo3qqZSEaq4jAZ4RFmb0z+EdlVtQrL9PX6vaVaM0vGui61gAEPRobAEA/5NTUKRb31iszP25evvW7mrbsIbrSIDnhIcZ/fvqTtqfU6DffrhCtatFaWCrBNexACCo+XMfWwCAhxQWl+jud5dpReYBPXftWeqRHO86EuBZ0RHhGj+yq1rXr64x7yzTD1v3u44EAEGNxhYAIGutfvfhCs1av0ePXdZBF7Sr7zoS4HnVYyL1xi3dlVAjWre+sVipuw+7jgQAQYupyPC8q666ynUEwPP+8fk6fbRsm359Xktd16Ox6zhA0KhbPVpv3dpdw19coJte+14f3tVL9eNiXMcCPIu6D76wjy0AhLhX5qXrsc/WauQ5TfS3Ye3YexPwg1XbsnXNhO/UqGYVTR7dU3Gxka4jAYDnnGgfW6Yiw/NycnKUk5PjOgbgSZ8s36bHPluroR3q6y+X0tQC/tK+UZwmjOyq9L2Hdftbi5VXWOw6EuBJ1H3whcYWnjd06FANHTrUdQzAc77ftE+/+WCFejSrrX9f1VnhYTS1gD/1Sqmjf1/VWYs379dvpqxQSUlwzJoDKhN1H3zhHlsACEHpew5r1NtLlFi7isaP7KqYyHDXkYCQcEmnhsrcn6t/fr5OTWrH6sELWrmOBABBgcYWAELMviMFuvWNxQozRq/ffLZqxka5jgSElDv7J2tL1hE9PytVjeNjdVW3JNeRAMDzaGwBIITkFRZr1FtLtD07T+/f0UNN4qu6jgSEHGOMHr2svbYdyNUjH61UYs0q6pVSx3UsAPA07rEFgBBhrdVvp6zQki379e+rOqlrk9quIwEhKzI8TC9c30XJdatq9DtLlbr7kOtIAOBpjNjC826++WbXEQBP+PdXGzT1x+367YWtdHHHhq7jACGvRkykXrv5bF32wgLd/Ppi/XdMb9WtHu06FhDQqPvgC/vYAkAI+GBJhn4zZYWu7pakfwzvwLY+QAD5MeOArp6wUK3q19DEO85RlSgWcwOA42EfWwS1vXv3au/eva5jAAFr8eZ9euS/K9UnpY4eu7w9TS0QYDol1dSz15ylFZkH9JspPypYBh0Af6Dugy80tvC8ESNGaMSIEa5jAAFp24Fc3fn2UiXVitUL13dRZDg/9oFAdEG7+vrtBa01bcUOjZud5joOELCo++AL99gCQJDKKSjSHW8uUUFRiV6+qZviqkS6jgTgBO7sn6x1Ow/qyS/Xq2W96jqvbT3XkQDAM/jTPQAEIWutHvzgR63deVD/ue4sNa9bzXUkACdhjNE/h3dU+4ZxGjvxB23YxUrJAFBeNLYAEISe+yZV01fu1MNDWmtgqwTXcQCUU0xkuCbc2FWx0RG6/c0l2n+kwHUkAPAEGlsACDKfr9qpf3+1QZef1Uh39E12HQfAKWoQV0XjR3bVzuw83f3eMhUWl7iOBAABj3ts4Xl33XWX6whAwFi386B+PXm5OiXV1BNXsK0P4FVdGtfS41d00IMf/Ki/f7ZWf7m0netIQECg7oMvNLbwvKuvvtp1BCAg7DtSoNvfXKJq0RGaMLKrYiLZCxPwshFdE7Vux0G9Mn+TWtevrmu6N3YdCXCOug++MBUZnpeRkaGMjAzXMQCnikusfvX+D9p9KF8TbuymejViXEcCUAEeGtJafVvU0Z8+Wa3lGQdcxwGco+6DLzS28LyRI0dq5MiRrmMATv37q/Wan7pXjw5rp85JNV3HAVBBIsLD9Ny1ZymhRrTuemepsg7nu44EOEXdB19obAHA475cvVMvzErTNWcn6eqzmaoIBJuasVF66Yau2nekQPe+/4OKWEwKAH6BxhYAPCx9z2E9MPlHdUyMY3EZIIi1bxSnxy5rrwVpWXryyw2u4wBAwKGxBQCPyiko0p3vLFVEuNG467uwWBQQ5K7slqTrejTWS3PS9PmqHa7jAEBAobEFAA+y1uqhD1cqdfdhPXdtFyXWinUdCUAl+PMlbdUpqaYe/GCFUncfdh0HAAIG2/3A8x544AHXEYBK9/q3mzX1x+36zQWt1KdFHddxAFSS6IhwvXh9F1383Hzd+c5SfXJ3b1WNppxD6KDugy/GWus6Q4Xo1q2bXbJkiesYAOB332/ap+te/k4DWydo/A1dFRZmXEcCUMkWpO7VDa8u0pD2DfT8dWfJGH4OAAh+xpil1tpuxzvHVGR43vr167V+/XrXMYBKsfdwvu55b5mSasfqqas60dQCIapXSh399sLW+mzlDr25YLPrOECloe6DL8xdgeeNHj1akjR79my3QQA/Kymxun/ScmXnFurNW7urRkyk60gAHBrdL1lLNu/T36evVZcmtdQxsabrSIDfUffBF0ZsAcAjxs1O1byNe/WXS9upTYMaruMAcMwYoyev7KSE6jG6+71lys4tdB0JAJyhsQUAD/guPUv//mqDLuvcUNecneQ6DoAAUTM2Ss9dd5Z2HMjT76asULCsnQIAp4rGFgAC3N7D+frV+z+oaZ2q+vvlHVgkBsDPdGlcSw8Naa3PV+/kflsAIYvGFgACWPFR99W+cF0XtvUAcFy39WmmwW0S9Pfpa/VjxgHXcQCg0lEhwfP+8Ic/uI4A+M24WaX31f7jig7cVwvAp5/ut73oP/N193vL9Nmv+iquCgvMIfhQ98EX9rEFgAC1MC1L17/ynS7t1FBPX92ZKcgATmrZ1v266qWFGtQmQS/d0JWfGwCCCvvYIqgtX75cy5cvdx0DqFBZh/N130TuqwVwan663/aL1bv0BvfbIghR98EXpiLD88aOHSuJ/cwQPKy1+s2UFTpQtl8t99UCOBW39Wmm79Kz9MT0derRLF5tG3IbA4IHdR98YcQWAALMmws265t1u/X7oW24rxbAKTPG6P9GdFLN2Ej9auIPyi0odh0JAPyOxhYAAsjaHQf1+Ix1GtQ6QTf2bOI6DgCPql01Sk9f3Vlpew7r0c/WuI4DAH5HYwsAASK3oFj3vv+D4qpE6v9GdOS+WgBnpHdKHY3ql6z3Fm3V56t2uI4DAH5FYwsAAeKxz9Yodfdh/fuqToqvFu06DoAg8MB5rdQxMU6/+3CldmTnuo4DAH7DiiTwvMcff9x1BOCMfb5qp95dtFWj+yWrb4u6ruMACBJREWF69pqzdNF/5mnsxOV6745zFB7GbBB4F3UffGEfWwBwbEd2roY8O09JtWL14V29FBXBZBoAFWvK0kw9+MGPevD8lrrn3Bau4wDAaWEfWwS1BQsWaMGCBa5jAKeluMTq/knLVVBUomev6UxTC8AvhndppEs7NdTTX2/Usq37XccBTht1H3xhxBaeN2DAAEnsZwZvemFWqv71xXr934iOuqpbkus4AILYwbxCDX12noyRpv+qr6rHRLqOBJwy6r7QxogtAASgVduy9fRXGzS0Q31d2TXRdRwAQa5GTKSevaaztu3P1aPT2AIIQHChsQUAB/IKi3X/pOWqXTVKf7+sA1v7AKgUXZvU1l0Dmmvykkx9uXqn6zgAUGFobAHAgX99sV4bdx/Wv67spFpVo1zHARBC7hvUUu0a1tDDH63UnkP5ruMAQIWgsQWASvZt6l69On+TbuzZRP1bsrUPgMoVFRGmZ67urEP5RXr4oxUKlvVWAIQ29rGF5z3zzDOuIwDllp1bqAc/+FHJdarq4SFtXMcBEKJa1Kuuhy5srb9NW6NJizN0TffGriMB5ULdB19obOF5nTt3dh0BKLc/f7JKuw/l66O7eqlKVLjrOABC2M29mmrmul3627Q16tk8Xk3iq7qOBJwUdR98YSoyPO/rr7/W119/7ToGcFLTVmzXx8u3695zU9QpqabrOABCXFiY0b9GdFJ4mNGvJ/+o4hKmJCPwUffBF/axheexnxm8YGd2ni54Zq6a1qmqKXf2VGQ4f1cEEBg+Wb5N901crt9c0Ep3D0xxHQc4Ieq+0MY+tgDgkLVWv/1whfKLivX0VZ1oagEElEs7NdTFHRvo6a82aNW2bNdxAOC0UF0BgJ9NXJyhuRv26JGhbZRct5rrOADwM8YYPXZZe9WuGqUHP/hRBUUlriMBwCmjsQUAP8rcn6PHpq1Rz+R43dCjies4AHBcNWOj9MQVHbRu5yE9981G13EA4JT5tbE1xlxojFlvjEk1xjx0nPPRxphJZecXGWOalh1vaozJNcYsL/t4yZ85AcAfrLV66MOVspL+b0RHhYUZ15EAwKdBberpii6NNG52mlZmMiUZgLf4bbsfY0y4pBcknScpU9JiY8xUa+2aoy67TdJ+a22KMeYaSf+UdHXZuTRrbWd/5UPwGD9+vOsIwHG99/1WzU/dq8cua6+k2rGu4wDASf354nb6NnWvHvzgR029t7eiI9iWDIGFug+++HPEtrukVGtturW2QNJEScOOuWaYpDfLPp8iaZAxhiENnJJWrVqpVatWrmMAP5OxL0ePf7ZWvVPidX2Pxq7jAEC5xMVG6h9XdNT6XYf03MxU13GAX6Dugy/+bGwbSco46uvMsmPHvcZaWyQpW1J82blmxpgfjDFzjDF9/ZgTHvfpp5/q008/dR0D+B9rrR76aIUk6Z/DO4q/1wHwkoGtEzSia6JenJOmFZkHXMcBfoa6D74E6uJROyQ1ttaeJenXkt4zxtQ49iJjzChjzBJjzJI9e/ZUekgEhqeeekpPPfWU6xjA/7y7aKu+Tc3SIxe1UWItpiAD8J4/XtxWdatF68EPflR+UbHrOMD/UPfBF382ttskJR31dWLZseNeY4yJkBQnKctam2+tzZIka+1SSWmSWh77AtbaCdbabtbabnXr1vXDPwEATk3Gvhw9Pn2t+qTU0XXdmYIMwJviqkTqieEdtGHXYf1nJqskAwh8/mxsF0tqYYxpZoyJknSNpKnHXDNV0k1ln4+Q9I211hpj6pYtPiVjTLKkFpLS/ZgVAM5YSYnVb6esUJgx+sfwDkxBBuBpA1sl6MquiXpxdpp+zDjgOg4AnJDfGtuye2bvkfSFpLWSJltrVxtj/maMubTsslclxRtjUlU65finLYH6SVphjFmu0kWl7rTW7vNXVgCoCO8u2qKF6Vn6PVOQAQSJP1zcVvVqxOjBD35UXiFTkgEELr9t9yNJ1trpkqYfc+xPR32eJ+nK4zzuQ0kf+jMbAFSkjH05emLGOvVtUUfXnJ108gcAgAfEVYnUP4Z31E2vfa9nZ27U7y5s7ToSAByXXxtboDK8/fbbriMgxFlr9bsPf5qCzCrIAIJL/5Z1dXW3JI2fk6ah7RuoQ2Kc60gIYdR98CVQV0UGyi0pKUlJSYyQwZ0PlmRqQVqWHhrSWo1qVnEdBwAq3CMXtVGdatH67YcrVFhc4joOQhh1H3yhsYXnTZo0SZMmTXIdAyFq96E8PfbZGnVvVptVkAEErbgqkXr0svZau+OgJsxlPU+4Q90HX2hs4XkvvviiXnzxRdcxEKL+MnW18opK9MQVHRQWxhRkAMHrgnb1NaR9fT07c6PS9xx2HQchiroPvtDYAsBp+mL1Tk1fuVP3DWqh5nWruY4DAH7312HtFBMRpoc+WqmSEus6DgD8D40tAJyGg3mF+tMnq9SmQQ2N6pfsOg4AVIqE6jH6w0Vt9f2mfXp/8VbXcQDgf2hsAeA0PDF9nfYcytc/h3dQZDg/SgGEjiu7JapX83j9Y/o67czOcx0HACTR2ALAKfsuPUvvf79Vt/Vppo6JNV3HAYBKZYzRE1d0UEFxif74ySpZy5RkAO6xjy08b8qUKa4jIITkFRbr4Y9WqnHtWP36vFau4wCAE03iq+rX57XUEzPWafrKnbqoYwPXkRAiqPvgCyO28Lw6deqoTp06rmMgRPxn5kZt2ntET1zRQVWiwl3HAQBnbuvTTB0axenPU1fpQE6B6zgIEdR98IXGFp73xhtv6I033nAdAyFg9fZsjZ+briu7Jqp3Cr9UAYS2iPAw/WN4B+3PKdTfP1vrOg5CBHUffKGxhefxAw6Voai4RA99uFK1YqP0h4vauo4DAAGhXcM4jeqXrA+WZmr+xr2u4yAEUPfBFxpbACiHNxZs1spt2frrpe0UFxvpOg4ABIz7BrVQszpV9fuPVyqvsNh1HAAhisYWAE5i+4Fc/furDTq3dYKGdqjvOg4ABJSYyHD9/bL22pKVoxdmpbqOAyBE0dgCwEn8ZepqlVirv17aTsYY13EAIOD0Sqmjy89qpJfmpCl19yHXcQCEIBpbADiBr9bs0pdrdmns4JZKqh3rOg4ABKzfX9RGVSLD9fv/srctgMrHPrbwvOnTp7uOgCB1JL9If/5klVrVq67b+jRzHQcAAlqdatF6aEgbPfLflfpw2TaN6JroOhKCEHUffGHEFp4XGxur2FhG0lDxnp25Uduz8/T4Fe0VGc6PSwA4mWvOTlLXJrX0+PS12n+EvW1R8aj74AuVGjxv3LhxGjdunOsYCDJrth/Uq/M36druSerapLbrOADgCWFhRn+/vL2ycwv1jxnrXMdBEKLugy80tvC8yZMna/Lkya5jIIiUlFj9/uOVqlklUr+7sLXrOADgKa3r19DtfZpp0pIMfb9pn+s4CDLUffCFxhYAjvHe91v1w9YD+v1FbVQzNsp1HADwnPsGt1CjmlX0+/+uVEFRies4AEIAjS0AHGXPoXz98/N16tU8Xpef1ch1HADwpNioCP1tWDtt3H1YL89Ldx0HQAigsQWAozz22RrlF5bo0cvas2ctAJyBQW3q6cJ29fWfmRu1NSvHdRwAQY7GFgDKzNu4R58s3647BzRX87rVXMcBAM/786VtFRFm9Kep7G0LwL/YxxaeN3v2bNcREATyi4r1x49XqVmdqhozoLnrOAAQFBrEVdGvz2+lR6et0YxVOzW0QwPXkeBx1H3whRFbAJD08tx0bc7K0V8vbaeYyHDXcQAgaNzUs4naNKihR6etUU5Bkes4AIIUjS0878knn9STTz7pOgY8LHN/jp6flaqhHeqrX8u6ruMAQFCJCA/To8PaaUd2np77JtV1HHgcdR98obGF502bNk3Tpk1zHQMe9ui0NTIy+sNFbV1HAYCg1K1pbQ3vkqhX5qUrbc9h13HgYdR98IXGFkBIm7V+t75YvUv3DkpRw5pVXMcBgKD10JDWiokM11+mrmYhKQAVjsYWQMjKLyrWX6euVnKdqrq9T7LrOAAQ1OpWj9YD57XUvI17NWPVTtdxAAQZGlsAIeunBaP+cmk7RUXw4xAA/O2Gc1hICoB/UMnB86pUqaIqVZhCilPz04JRQ9qzYBQAVBYWksKZou6DL+xjC8+bMWOG6wjwoP8tGHUxC0YBQGU6eiGpEV0T1bxuNdeR4CHUffCFEVsAIWd22YJR95ybokYsGAUAlY6FpABUNBpbeN6jjz6qRx991HUMeER+UbH+8tOCUX2buY4DACHp6IWkPmchKZwC6j74QmMLz5s5c6ZmzpzpOgY84ugFo6Ijwl3HAYCQxUJSOB3UffCFxhZAyGDBKAAIHD8tJLU9O0/Ps5AUgDNEYwsgZPz9s7UsGAUAAeSnhaRenpeuTXuPuI4DwMNobAGEhAVpezVj1U6NGdCcBaMAIID8bkgrRUeE67Fpa1xHAeBhNLbwvPj4eMXHx7uOgQBWVFyiv05do8RaVXRHv2TXcQAAR0moHqN7z03RzHW7NXv9btdxEOCo++AL+9jC8z788EPXERDg3vt+q9bvOqSXbuiimEgWjAKAQHNL72aauDhDf5u2Rr2a11FUBGMvOD7qPvjCTw0AQW3/kQI99eUG9Woerwva1XcdBwBwHFERYfrjxW2UvueI3lq42XUcAB5EYwvPe/jhh/Xwww+7joEA9e+vNuhQXqH+fEk7GWNcxwEA+HBu63oa0Kqunv16o/YcyncdBwGKug++0NjC8xYuXKiFCxe6joEAtHbHQb27aItuOKeJWtWv7joOAOAk/nhxW+UWFuvJL9a7joIARd0HX2hsAQQla63+9uka1agSqV+f19J1HABAOTSvW0239G6qyUsztDIz23UcAB5CYwsgKH2+aqcWpmfpgfNaqmZslOs4AIByundQC8VXjdJfP10ta63rOAA8gsYWQNDJKyzWY5+tVev61XVt98au4wAATkGNmEj95oJWWrJlv6b+uN11HAAeQWMLz0tMTFRiYqLrGAggE+ama9uBXP3pkraKCOfHHAB4zZVdk9ShUZyemL5OOQVFruMggFD3wRcTLFM8unXrZpcsWeI6BgDHth/I1blPzdbAVgl68YauruMAAE7T0i37NPzFhbpnYIoevKCV6zgAAoAxZqm1ttvxzjGUASCoPDFjnayVHhnaxnUUAMAZ6Nqkti7r3FAT5qVra1aO6zgAAhyNLTxv7NixGjt2rOsYCABLNu/Tpz9u1+h+yUqqHes6DgDgDD00pI0iwowen77WdRQECOo++BLhOgBwppYvX+46AgJASYnVo9PWqF6NaN05oLnrOACAClA/LkZ39W+up77aoEXpWeqRHO86Ehyj7oMvJx2xNcZ0M8bcb4z5lzHmb8aYq4wxtSojHACU19Qft+vHzGz95oLWio3ib3YAECxu75usBnExeuyztSopCY61YQBUPJ+NrTHmFmPMMkkPS6oiab2k3ZL6SPraGPOmMYZ9NAA4l1tQrH9+vk7tG9XQFWc1ch0HAFCBqkSF63cXttbKbdn67w/bXMcBEKBONKwRK6m3tTb3eCeNMZ0ltZC01Q+5AKDcXpmXrh3ZeXr66s4KCzOu4wAAKtilnRrq9W836V9frNeQDvWZmQPgF040Ffl7X02tJFlrl1trZ/ohE3BKWrZsqZYtW7qOAUd2H8zTi3PSdEG7ejqHe68AICiFhRn94eK22nkwTy/P3eQ6Dhyi7oMvJ/pz1wRjTDVJEyW9b61dU0mZgFMyYcIE1xHg0FNfblBhcYkeHsL2PgAQzM5uWltDO9TXS3PSdE33JNWrEeM6Ehyg7oMvPkdsrbVnSbpYUpGkKcaYH40xDxljmlZWOAA4kdXbszV5aYZu6tlUTetUdR0HAOBnD13YRsUlVv/6Yr3rKAACzAlXRbbWrrfW/tVa21bSjZLiJM00xnxbKemAchg1apRGjRrlOgYqmbVWf/9srWpWidS957ZwHQcAUAkax8fqlt5N9eGyTK3alu06Dhyg7oMvJ93uR5KMMWGSEiTVk1RVpasjAwFhw4YN2rBhg+sYqGQz1+7WgrQsjR3cUnGxka7jAAAqyd3npqhWbJQe+2yNrGX7n1BD3QdfTtjYGmP6GmPGScqU9KCkeZJaWWsvr4xwAHA8BUUlenz6WiXXrarrerDrGACEkhoxkbr/vJb6Ln2fvlyzy3UcAAHiRPvYZkh6QtIaSZ2ttRdYa1+31jLvA4BT7y7aovS9R/T7oW0UGV6uiScAgCBy7dlJSkmopiemr1VBUYnrOAACwIkqwj7W2j7W2uettbuNMbGn+uTGmAuNMeuNManGmIeOcz7aGDOp7PyiYxemMsY0NsYcNsY8eKqvDSA4Hcgp0DNfb1SflDo6t3WC6zgAAAciwsP0+4vaaHNWjt7+bovrOAACwIlWRd4iScaYnsaYNZLWlX3dqWx68gkZY8IlvSBpiKS2kq41xrQ95rLbJO231qZIelrSP485/29JM8r5b0GI6ty5szp37uw6BirJc9+k6mBeoX5/URsZY1zHAQA4MqBlXfVtUUf/mblRB3IKXMdBJaHugy8n2sf2J89IukDSVEmy1v5ojOlXjsd1l5RqrU2XJGPMREnDVDq1+SfDJP2l7PMpkp43xhhrrTXGXCZpk6Qj5XgthLBnnnnGdQRUkk17j+ithZt1dbcktWlQw3UcAIBDxhj94aK2GvLsXD3z9Ub95dJ2riOhElD3wZdy3Zxmrc045lBxOR7WSNLRj8ssO3bca6y1RZKyJcUbY6pJ+p2kv57oBYwxo4wxS4wxS/bs2VOOSAC87InpaxUVHqZfn9/SdRQAQABoVb+6runeWO98t0Vpew67jgPAofI0thnGmF6SrDEmsux+17V+zvUXSU9ba0/4E8paO8Fa281a261u3bp+joRAdcMNN+iGG25wHQN+tig9S1+u2aW7BjRXQvUY13EAAAHi/sEtFRMZriemr3MdBZWAug++lGcq8p2SnlXp6Oo2SV9Kurscj9smKemorxPLjh3vmkxjTISkOElZknpIGmGM+T9JNSWVGGPyrLXPl+N1EWIyMzNdR4CfWWv1+PS1ahAXo9v7JruOAwAIIHWrR+uuAc31ry/W6/tN+9S9WW3XkeBH1H3w5aQjttbavdba66219ay1CdbaG6y1WeV47sWSWhhjmhljoiRdo7L7dI8yVdJNZZ+PkPSNLdXXWtvUWttUpff4Pk5TC4Suz1bu0I+Z2fr1eaV/lQcA4Gi39m6mejWi9fj0tbLWuo4DwIET7WP7B2OMzz95GWPONcZc7Ot82T2z90j6QqVTlydba1cbY/5mjLm07LJXVXpPbaqkX0v6xZZAAEJbQVGJ/u/z9Wpdv7qu6JLoOg4AIABViQrXA+e10vKMA5qxaqfrOAAcONFU5JWSPjXG5ElaJmmPpBhJLSR1lvS1pMdP9OTW2umSph9z7E9HfZ4n6cqTPMdfTnQeQHB7d9EWbd2XozduOVvhYWzvAwA4vuFdE/XK/HT93+frNLhNPUVFlGuNVABBwmdja639RNInxpgWknpLaiDpoKR3JI2y1uZWTkTgxHr27Ok6AvzkYF6h/jNzo3qnxKt/SxaIAwD4Fh5m9PCQNrrljcV6//utuqlXU9eR4AfUffDFBMt9CN26dbNLlixxHQNABfq/z9dp3Ow0Tbu3j9o3inMdBwAQ4Ky1uu7lRVq/65Dm/GaAqsdEuo4EoAIZY5Zaa7sd7xxzNAAEpB3ZuXp1/iZd1rkhTS0AoFyMMXp4aGvtO1Kg8XPSXccBUIlobOF5w4cP1/Dhw13HQAX795cbZK30wPmtXEcBAHhIx8SaurRTQ70yP107s/Ncx0EFo+6DLzS28LysrCxlZZVnByp4xbqdBzVlWaZu6tVESbVjXccBAHjMby5opeISq6e/2uA6CioYdR98OWlja4z5P2NMDWNMpDFmpjFmjzHmhsoIByA0/XPGOlWPjtDdA1NcRwEAeFBS7Vjd2LOpPliaoQ27DrmOA6ASlGfE9nxr7UFJF0vaLClF0m/8GQpA6FqQulez1u/RPeemqGZslOs4AACPumdgiqpGR+ifM9a5jgKgEpSnsf1pS6CLJH1grc32Yx4AIaykxOqJGevUqGYV3dizqes4AAAPq1U1SncPTNHMdbu1MI2pq0Cw87mP7VGmGWPWScqVdJcxpq4k7sRHwBg0aJDrCKggn67YrpXbsvX01Z0UExnuOg4AwONu7tVUby3YrCdmrNXHY3orLMy4joQzRN0HX8q1j60xprakbGttsTEmVlINa+1Ov6c7BexjC3hbflGxBj01RzViIjXt3j4UHwCACvHh0kw98MGPeu7as3RJp4au4wA4AxWxj21DScONMTdKGiHp/IoKBwCS9PbCLcrcn6tHhrahqQUAVJjLzmqkNg1q6P++WKf8omLXcQD4SXlWRf6zpOfKPgZK+j9Jl/o5F1BuQ4YM0ZAhQ1zHwBnIzi3U87NS1a9lXfVpUcd1HABAEAkPM3p4SGtl7MvVO99tdR0HZ4i6D76UZ8R2hKRBknZaa2+R1ElSnF9TAacgNzdXubm5rmPgDIyfk6YDOYX63YWtXEcBAAShfi3rqk9KHb0wK1WH8gpdx8EZoO6DL+VpbHOttSWSiowxNSTtlpTk31gAQsXug3l67dtNGta5odo15G9mAAD/+M0FrbTvSIFembfJdRQAflCexnaJMaampJclLZW0TNJCf4YCEDr+881GFRVb/fq8lq6jAACCWKekmhraob5emZeuvYfzXccBUMFO2thaa8dYaw9Ya1+SdJ6km8qmJAPAGdm894gmfp+ha7s3VpP4qq7jAACC3APnt1JeUYlemJXqOgqACuZzH1tjTGtr7TpjTJfjnOtirV3m32hA+Vx88cWuI+A0/furDYoMD9O956a4jgIACAHN61bTlV0T9e53W3Vr72ZKqh3rOhJOEXUffPG5j60xZoK1dpQxZtZxTltr7bn+jXZq2McW8JbV27N10X/m6+6BzfWbC1q7jgMACBE7snM14F+zdVHHBvr3VZ1dxwFwCk60j63PEVtr7aiy/w70VzAAoetfX6xXXJVIjerX3HUUAEAIaRBXRTf3aqoJ89I1ul9ztapf3XUkABWgPPvYXnGcj0HGmITKCAiczIABAzRgwADXMXAKvkvP0uz1ezRmQHPFVYl0HQcAEGLuGtBc1aIj9K8v1ruOglNE3QdfyrMq8m2SXpF0fdnHy5J+J+lbY8xIP2YDEISstfrn5+tUv0aMburV1HUcAEAIqhkbpTv7N9fXa3dp6ZZ9ruMAqADlaWwjJLWx1g631g6X1FaSldRDpQ0uAJTbV2t26YetBzR2cAvFRIa7jgMACFG39G6qOtWi9c8Z6+VrzRkA3lGexjbJWrvrqK93lx3bJ6nQP7EABKPiEqt/fbFeyXWqakTXRNdxAAAhLDYqQvcNStH3m/dp9oY9ruMAOEPlaWxnG2OmGWNuMsbcJOmTsmNVJR3wazoAQeW/P2zTxt2H9eAFrRQRXp4fPwAA+M/VZzdW49qx+r/P16ukhFFbwMt8ror8E2vtGGPMcEl9yg69JelDWzpngxWT4dxVV13lOgLKIb+oWE9/tUEdGsVpSPv6ruMAAKCoiDA9cH5L3TdxuT5dsV3DOjdyHQknQd0HX3zuYytJxphwSauttQG/yST72AKB7bX5m/S3aWv0zm091KdFHddxAACQJJWUWF303HwdyS/S17/ur6gIZhQBgepE+9ie8DvXWlssab0xprFfkgEVICcnRzk5Oa5j4AQO5xfp+Vmp6p0ST1MLAAgoYWFGv72wlbbuy9GkxVtdx8FJUPfBl5NORZZUS9JqY8z3ko78dNBae6nfUgGnYOjQoZKk2bNnuw0Cn16Zl659Rwr02wsCfvIHACAEDWhZV92b1dazM1M1vGuiYqPKUyLDBeo++FKe79o/+j0FgKCVdThfL89N15D29dUpqabrOAAA/IIxRr+7sJWGv7hQr3+7WXcPTHEdCcApOulNBNbaOZI2S4os+3yxpGV+zgUgSLw0J025hcV64PyWrqMAAOBT1ya1NbhNgsbPSVN2LjtaAl5z0sbWGHOHpCmSxpcdaiTpYz9mAhAkdh3M01sLt+iysxopJaG66zgAAJzQ/ee11MG8Ir0yL911FACnqDzLvt0tqbekg5Jkrd0oKcGfoQAEh+e/SVVxidXYQYzWAgACX7uGcbqoYwO9Nn+Tsg7nu44D4BSU5x7bfGttgTFGkmSMiZDEDtYIGDfffLPrCDiOjH05mrh4q646O0mN42NdxwEAoFzuH9xSM1bu0Etz0vT7i9q6joNjUPfBl/I0tnOMMY9IqmKMOU/SGEmf+jcWUH78gAtM/5m5UcYY3XsuC3AAALwjJaGaLj8rUW8t3KLb+yarXo0Y15FwFOo++FKeqcgPSdojaaWk0ZKmS/qDP0MBp2Lv3r3au3ev6xg4Stqew/pwWaZGntNEDeKquI4DAMApuW9QCxWXWD33zUbXUXAM6j74ctIRW2ttiaSXyz6AgDNixAhJ7GcWSJ75eqNiIsN114DmrqMAAHDKGsfH6uqzkzRpcYZG92uupNrcUhMoqPvgS3lWRe5tjPnKGLPBGJNujNlkjGGpOADHtXbHQX3643bd0rup6lSLdh0HAIDTcs+5KTLG6NmZjNoCXlCeqcivSvq3pD6SzpbUrey/APALT325QdVjIjSqL6O1AADvahBXRSPPaaKPlmUqbc9h13EAnER5Gttsa+0Ma+1ua23WTx9+TwbAc5ZnHNDXa3dpVN9kxcVGuo4DAMAZuWtAc8VEhuvprza4jgLgJMrT2M4yxvzLGNPTGNPlpw+/JwPgOU99uV61q0bplj7NXEcBAOCM1akWrVt6N9W0FTu0dsdB13EAnEB5tvvpUfbfbkcds5LOrfg4wKm76667XEeApO/SszRv4179fmgbVYsuz48WAAAC36i+zfXWwi166ssNeuWmbid/APyKug++lGdV5IGVEQQ4XVdffbXrCCHPWqunvlyvhOrRGtmzies4AABUmLjYSI3qm6ynvtqg5RkH1DmpputIIY26D76UZ1XkesaYV40xM8q+bmuMuc3/0YDyycjIUEZGhusYIW3uxr1avHm/7j03RTGR4a7jAABQoW7p00y1q0bpqS/Xu44S8qj74Et57rF9Q9IXkhqWfb1B0lg/5QFO2ciRIzVy5EjXMULWT6O1jWpW0dVnN3YdBwCAClctOkJ39W+ueRv36rt01lB1iboPvpSnsa1jrZ0sqUSSrLVFkor9mgqAZ3y5ZpdWZGbrvsEtFBVRnh8pAAB4z8ieTZRQPVpPfble1lrXcQAcozxV6BFjTLxKF4ySMeYcSdl+TQXAE4pLrP795QYl16mqK85q5DoOAAB+ExMZrnvPTdHizfs1d+Ne13EAHKM8je2vJU2V1NwY862ktyTd69dUADxh2ortWr/rkMae11IR4YzWAgCC29VnN1ajmlUYtQUC0EkrUWvtMkn9JfWSNFpSO2vtCn8HAxDYiopL9PRXG9S6fnVd3KGB6zgAAPhdVESY7hvcQisys/Xlml2u4wA4Srk2myy7r3a1n7MAp+WBBx5wHSEkfbRsmzZn5WjCyK4KCzOu4wAAUCmuOKuRXpqdpn9/uUHntanH78BKRt0HX8rV2AKB7JJLLnEdIeQUFpfouVkb1TExTue1rec6DgAAlSYivHTU9r6JyzVj1U5d1JFZS5WJug++cFMcPG/9+vVav5595SrTh0szlbEvV2MHt5Ax/KUaABBaLu7YUCkJ1fTszA0qKeFe28pE3QdfyjVia4y5VFK/si/nWGs/9V8k4NSMHj1akjR79my3QUJEQVGJnvsmVZ2SampgqwTXcQAAqHThYUa/GtRCv3r/B322cocu6dTQdaSQQd0HX046YmuMeULSfZLWlH38yhjzuL+DAQhMU5ZmatsBRmsBAKHtog4N1CKhmp6duVHFjNoCzpVnKvJFks6z1r5mrX1N0oWSLvZvLACBKL+oWM9/s1Gdk2pqQMu6ruMAAOBMeJjRfYNbKHX3YU1bsd11HCDklfce25pHfR7nhxwAPGDykkxtz87Tr89ryWgtACDkDW3fQK3qVWfUFggA5Wlsn5D0gzHmDWPMm5KWSmIqMhBi8ouKNW5Wqro2qaW+Leq4jgMAgHNhYUZjB7dQ+p4jmvrjNtdxgJB20sWjrLXvG2NmSzq77NDvrLU7/ZoKOAV/+MMfXEcICZMWZ2hHdp7+NaITo7UAAJS5oF19ta5fXf+ZmapLOjZURDibjvgTdR98OWlja4yZaa0dJGnqcY4Bzg0ePNh1hKCXV1isF2al6uymtdQ7Jd51HAAAAkbpqG1L3fnOUn2yfLuGd010HSmoUffBF59/UjLGxBhjakuqY4ypZYypXfbRVFKjSksInMTy5cu1fPly1zGC2sTvt2rXwXzdP5h7awEAONYF7eqpbYMa+s83G1VUXOI6TlCj7oMvJxqxHS1prKSGkpYddfygpOf9mAk4JWPHjpXEfmb+kldYrBdmp6l7s9rq2ZzRWgAAjmVM6b22o95eqo9+2KaruiW5jhS0qPvgi88RW2vts9baZpIetNY2O+qjk7WWxhYIEe8u2qo9h/JZCRkAgBM4r209tW9UQ899s1GFjNoCla48d7dnG2NuPPbD78kAOJdbUKwXZ6epZ3K8zklmtBYAAF+MMbp/cEtl7MvVR8syXccBQk55Gtuzj/roK+kvki4tz5MbYy40xqw3xqQaYx46zvloY8yksvOLyu7flTGmuzFmednHj8aYy8v7DwJQcd5dtEV7D+fr/vNauo4CAEDAO7d1gjolxum5b1JVUMSoLVCZTtrYWmvvPerjDkldJFU72eOMMeGSXpA0RFJbSdcaY9oec9ltkvZba1MkPS3pn2XHV0nqZq3tLOlCSeONMSddwRlAxckpKNJLc9LUOyVe3ZvVdh0HAICAV3qvbUtl7s/Vh4zaApXqdJrFI5KaleO67pJSrbXpkmSMmShpmKQ1R10zTKUjwJI0RdLzxhhjrc056poYSfY0ciJEPP74464jBKV3vtuivYcL9NJgRmsBACivAa3qqnNSTT3/TaqGd0lUVAT72lYk6j74Up59bD/V/28sw1Q6+vpBOZ67kaSMo77OlNTD1zXW2iJjTLakeEl7jTE9JL0mqYmkkdbaouNkGyVplCQ1bty4HJEQjHr16uU6QtA5kl+k8XPS1bdFHXVrymgtAADl9dMKyTe/vlgfLM3Q9T2auI4UVKj74Et5RmyfPOrzIklbrLV+n1thrV0kqZ0xpo2kN40xM6y1ecdcM0HSBEnq1q0bo7ohasGCBZL4QVeR3lq4RVlHCjSW0VoAAE5Z/5Z11aVx6ajtiK6Jio4Idx0paFD3wZfy3GM756iPbyU1Nca8UI7n3ibp6E28EsuOHfeasnto4yRlHfP6ayUdltS+HK+JEPTII4/okUcecR0jaBzOL9KEuWnq37Kuujap5ToOAACeY4zR/ee11I7sPE1enHHyB6DcqPvgS7km/RtjzjLG/MsYs1nSo5LWleNhiyW1MMY0M8ZESbpG0tRjrpkq6aayz0dI+sZaa8seE1H22k0ktZa0uTxZAZyZtxZu1v6cQlZCBgDgDPRJqaNuTWrphVlpyissdh0HCHo+G1tjTEtjzJ+NMeskPSdpqyRjrR1orX3uZE9cdk/sPZK+kLRW0mRr7WpjzN+MMT9tF/SqpHhjTKqkX0v6aUugPpJ+NMYsl/RfSWOstXtP758IoLyO5Bfp5bnp6t+ydOELAABwen5aIXnnwTx9sJQVkgF/O9E9tuskzZN0sbU2VZKMMfefypNba6dLmn7MsT8d9XmepCuP87i3Jb19Kq8F4My9890W7c8p1H2DW7iOAgCA5/VOiVeXxjX14qxUXd0tiRWSAT860XfXFZJ2SJpljHnZGDNIkqmcWAAqW25BsSbMLV0JuUtj7q0FAOBMGWN03+CW2p6dx762gJ/5HLG11n4s6WNjTFWV7jc7VlKCMeZFSf+11n5ZKQmBk3jmmWdcRwgK7y4qXQn5vkGM1gIAUFH6taijTkk19cKs0hWSI8MZtT0T1H3wpTyrIh+x1r5nrb1EpSsb/yDpd35PBpRT586d1blzZ9cxPC2vsFjj56arV/N49q0FAKACGWN036AUZe7P1X9/OHaDEJwq6j74ckp/MrLW7rfWTrDWDvJXIOBUff311/r6669dx/C0id9v1Z5D+foVo7UAAFS4ga0S1L5RDb0wK1VFxSWu43gadR98YS4EPO+xxx7TY4895jqGZ+UVFuvFOWnq3qy2zkmOdx0HAICgY4zRr85toS1ZOZr643bXcTyNug++0NgCIe6DJRnadTCfe2sBAPCj89rWU5sGNfT8N6kqLrGu4wBBh8YWCGH5RcUaNztN3ZrUUq/mjNYCAOAvP91rm773iKatYNQWqGg0tkAI+3DpNu3IztOvBrWQMezmBQCAP53ftr5a1auu5xi1BSocjS0QogqLS/TCrFR1Tqqpvi3quI4DAEDQCwszundQilJ3H9aMVTtcxwGCis99bAGvGD9+vOsInvTfZdu07UCuHrusPaO1AABUkiHtGyglYaOem5mqoe0bKCyM38GngroPvjBiC89r1aqVWrVq5TqGpxQVl+j5Wanq0ChOA1rVdR0HAICQER5mdO+5KVq/65C+XLPTdRzPoe6DLzS28LxPP/1Un376qesYnvLJ8u3aui+He2sBAHDg4o4NlVynqp6dmSprudf2VFD3wRcaW3jeU089paeeesp1DM/4abS2bYMaGtwmwXUcAABCTniY0d0DU7R2x0F9tWaX6zieQt0HX2hsgRAzbcUObdp7hNFaAAAcGta5oZrEx+o/32xk1BaoADS2QAgpLrF67puNal2/us5vW891HAAAQlZEeJjuHpiiVdsOatb63a7jAJ5HYwuEkOkrdyhtzxHde24LVmEEAMCxy89qpMRaVbjXFqgANLZAiCgpG61tkVBNQ9rXdx0HAICQF1k2avtjxgHN3bjXdRzA09jHFp739ttvu47gCV+s3qkNuw7r2Ws6M1oLAECAGN4lUc/N3Khnv96gfi3qsP7FSVD3wRdGbOF5SUlJSkpKch0joJWUWD07c6OS61bVxR0buo4DAADKREWE6a6BKVq29YAWpGW5jhPwqPvgC40tPG/SpEmaNGmS6xgB7au1u7Ru5yHde26KwhmtBQAgoFzVLVH1a8To2a9ZIflkqPvgC40tPO/FF1/Uiy++6DpGwLK29N7apvGxuoTRWgAAAk50RLjuGtBc32/ep+/S97mOE9Co++ALjS0Q5Gav36NV2w5qzMAURYTzLQ8AQCC6+uwk1a0erednbXQdBfAkqlwgiP00WtuoZhVdflYj13EAAIAPMZHhGtU3Wd+mZmnZ1v2u4wCeQ2MLBLGF6VlatvWA7uyfrEhGawEACGjX9WisWrGReuGbVNdRAM+h0gWC2AuzUlW3erSu7MbqgQAABLqq0RG6tXczzVy3W6u3Z7uOA3gK+9jC86ZMmeI6QkBatnW/vk3N0u+HtlFMZLjrOAAAoBxu7NVUE+ama9ysNL1wfRfXcQIOdR98YcQWnlenTh3VqVPHdYyA88I3qaoZG6nrejR2HQUAAJRTXJVI3diriaav2qHU3Ydcxwk41H3whcYWnvfGG2/ojTfecB0joKzZflAz1+3Wbb2bqWo0EzMAAPCSW3s3U0xEuMbNTnMdJeBQ98EXGlt4Hj/gfumF2amqHh2hG3s1dR0FAACcovhq0bquR2N9sny7tmbluI4TUKj74AuNLRBkUncf1vSVOzSyZxPFVYl0HQcAAJyGUf2SFW6MXprLqC1QHjS2QJB5cXaaoiPCdFufZq6jAACA01SvRoyu7JaoKUsytTM7z3UcIODR2AJBJGNfjj5evk3XdW+i+GrRruMAAIAzcGf/5iq2VhPmpruOAgQ8GlsgiLw0J03hxmhUv2TXUQAAwBlKqh2ryzo30nvfb1HW4XzXcYCAxnKp8Lzp06e7jhAQdh3M0wdLMjWiW6Lqx8W4jgMAACrAmIHN9dEPmXp1/ib99sLWruM4R90HXxixhefFxsYqNjbWdQznXp6brmJrdVf/5q6jAACACtK8bjUN7dBAby3couycQtdxnKPugy80tvC8cePGady4ca5jOLXvSIHeXbRVwzo1VFJtftgDABBM7h6QosP5RXpz4WbXUZyj7oMvNLbwvMmTJ2vy5MmuYzj12vxNyisq1piBjNYCABBs2jasocFtEvTat5t0JL/IdRynqPvgC40t4HHZuYV6c8FmDWlfXykJ1V3HAQAAfnD3wBQdyCnUu4u2uI4CBCQaW8Dj3l64WYfyizRmQIrrKAAAwE/OalxLfVLq6OV5m5RXWOw6DhBwaGwBD8spKNKr8zfp3NYJat8oznUcAADgR3cPTNGeQ/mavCTDdRQg4NDYAh723qKt2p9TqLsHMloLAECwOye5tro1qaXxc9JVUFTiOg4QUNjHFp43e/Zs1xGcyCss1oS56eqZHK+uTWq5jgMAAPzMGKO7z03RLa8v1sc/bNNVZye5jlTpQrXuw8kxYgt41JSlmdp9KF/3nstoLQAAoWJAy7pq36iGxs1OVXGJdR0HCBg0tvC8J598Uk8++aTrGJWqsLhEL81J01mNa6pn83jXcQAAQCUxxuiegSnanJWjaSu2u45T6UKx7kP50NjC86ZNm6Zp06a5jlGpPlm+XZn7c3XPwBQZY1zHAQAAlej8tvXVIqGaxs1KU0mIjdqGYt2H8qGxBTymuMRq3OxUtWlQQ+e2TnAdBwAAVLKwMKMxA5tr/a5Dmrlut+s4QECgsQU85vNVO5W+5wijtQAAhLBLOjZUYq0qGjc7VdaG1qgtcDw0toCHWGv1wqxUJdetqgvb13cdBwAAOBIRHqbR/Zvrh60H9F36PtdxAOdobOF5VapUUZUqVVzHqBSzN+zRmh0HdVf/5goPY7QWAIBQdmXXRNWpFq1xs1NdR6k0oVT34dSwjy08b8aMGa4jVJoXZ6WpYVyMhnVu5DoKAABwLCYyXLf1aaZ/fr5OKzOz1SExznUkvwulug+nhhFbwCOWbN6n7zfv0x39khUVwbcuAACQbjinsarHRITUqC1wPFTH8LxHH31Ujz76qOsYfjdudppqV43SNWc3dh0FAAAEiOoxkbqxZxN9vnqnUncfdh3H70Kl7sOpo7GF582cOVMzZ850HcOv1u44qG/W7dYtvZqqSlS46zgAACCA3NK7maIjwjR+TprrKH4XCnUfTg+NLeABL85OU9WocN3Ys6nrKAAAIMDUqRata85urP/+sE3bDuS6jgM4QWMLBLgtWUc0bcV23XBOE8XFRrqOAwAAAtAd/ZIlSS/PTXecBHCDxhYIcBPmpisiLEy39mnmOgoAAAhQjWpW0bDOjTRx8VZlHc53HQeodDS28Lz4+HjFx8e7juEXuw/l6YOlmRreNVH1asS4jgMAAALYXQOSlV9UojcWbHYdxW+Cue7DmWEfW3jehx9+6DqC37w6f5OKikt0Z/9k11EAAECAS0morvPb1tObCzZrVL9kVY8JvluYgrnuw5lhxBYIUNm5hXr3u626qGNDNYmv6joOAADwgDEDUnQwr0jvLdrqOgpQqWhs4XkPP/ywHn74YdcxKtzbCzfrcH6R7urf3HUUAADgEZ2SaqpPSh29Mn+T8gqLXcepcMFa9+HM0djC8xYuXKiFCxe6jlGhcguK9dq3mzWwVV21bVjDdRwAAOAhYwY0155D+ZqyNNN1lAoXjHUfKoZfG1tjzIXGmPXGmFRjzEPHOR9tjJlUdn6RMaZp2fHzjDFLjTEry/57rj9zAoFm0uKt2nekQHcNSHEdBQAAeEzP5vHqlFRT4+emqai4xHUcoFL4rbE1xoRLekHSEEltJV1rjGl7zGW3SdpvrU2R9LSkf5Yd3yvpEmttB0k3SXrbXzmBQFNYXKKX521Stya11L1ZbddxAACAxxhjNGZAc2Xsy9VnK3e4jgNUCn+O2HaXlGqtTbfWFkiaKGnYMdcMk/Rm2edTJA0yxhhr7Q/W2u1lx1dLqmKMifZjViBgfLJ8u7YdyNWYgdxbCwAATs95beqpRUI1jZuVppIS6zoO4Hf+bGwbSco46uvMsmPHvcZaWyQpW9KxG1MNl7TMWstO0ziuxMREJSYmuo5RIUpKrF6ak6bW9atrYKsE13EAAIBHhYUZ3TWgudbvOqRv1u12HafCBFPdh4oV0PvYGmPaqXR68vk+zo+SNEqSGjduXInJEEjeeecd1xEqzFdrdyl192E9e01nGWNcxwEAAB52SaeGeurLDRo3O1WD2iQERW0RTHUfKpY/R2y3SUo66uvEsmPHvcYYEyEpTlJW2deJkv4r6UZrbdrxXsBaO8Fa281a261u3boVHB+oXNZajZudpsa1Y3VRhwau4wAAAI+LDA/T6P7JWrb1gBZt2uc6DuBX/mxsF0tqYYxpZoyJknSNpKnHXDNVpYtDSdIISd9Ya60xpqakzyQ9ZK391o8ZEQTGjh2rsWPHuo5xxhamZenHjAMa3T9ZEeHsxAUAAM7cVd2SVKdalMbNPu44kecES92Hiue3qcjW2iJjzD2SvpAULuk1a+1qY8zfJC2x1k6V9Kqkt40xqZL2qbT5laR7JKVI+pMx5k9lx8631gbPDQKoMMuXL3cdoUKMm52mutWjNbwL940AAICKERMZrlt6N9O/vlivlZnZ6pAY5zrSGQmWug8Vz6/DQtba6dbaltba5tbav5cd+1NZUytrbZ619kprbYq1tru1Nr3s+GPW2qrW2s5HfdDUImityDyg+al7dVufZoqJDHcdBwAABJGRPZuoenSEXpyT6joK4DfMdwQCwLhZaaoRE6Hre7AIGgAAqFg1YiI1smcTzVi1U2l7DruOA/gFjS3gWOruw/pizU7d2LOpqsdEuo4DAACC0K19mikqPEzj5wTHvbbAsWhs4XktW7ZUy5YtXcc4bePnpCk6Iky39G7qOgoAAAhSdapF66puSfrvD9u0IzvXdZzT5vW6D/4T0PvYAuUxYcIE1xFO2/YDufrvD9t0wzlNFF8t2nUcAAAQxEb1S9Z732/Va/M36fcXtXUd57R4ue6DfzFiCzj08rx0SdLtfZs5TgIAAIJdUu1YXdShgd5btFXZOYWu4wAVisYWnjdq1CiNGjXKdYxTtu9IgSZ+n6FLOzdUYq1Y13EAAEAIGN0/WUcKivXOoi2uo5wWr9Z98D+mIsPzNmzY4DrCaXnj203KLSzWXf2bu44CAABCRLuGcerXsq5e/3aTJ7cZ9GrdB/9jxBZw4Eh+kd5cuEXnt62nFvWqu44DAABCyJ39k7X3cIGmLM10HQWoMDS2gAPvf79V2bmFunMAo7UAAKBy9UyOV6fEOE2Ym66i4hLXcYAKQWMLVLKCohK9On+TujerrS6Na7mOAwAAQowxRnf2b66t+3I0Y9VO13GACsE9tvC8zp07u45wSj79cbt2ZOfp8cs7uI4CAABC1Pnt6iu5TlW9NCdNF3dsIGOM60jl4rW6D5XHWGtdZ6gQ3bp1s0uWLHEdAzihkhKrC5+dqzBjNOO+vp75JQIAAILPxO+36qGPVurt27qrb4u6ruMAJ2WMWWqt7Xa8c0xFBirRrPW7tWHXYY3un0xTCwAAnLq8SyMlVI/WS3PSXEcBzhiNLTzvhhtu0A033OA6Rrm8NCdNjWpW0cUdG7qOAgAAQlx0RLhu7dNM36ZmaWVmtus45eKlug+Vi8YWnpeZmanMzMBfrn7pln1avHm/buvTTJHhfOsBAAD3ruvRWNWjIzwzauuVug+Vj+oaqCQvzUlXzdhIXdM9yXUUAAAASVKNmEhdf04TzVi1Q5v3HnEdBzhtNLZAJUjdfUhfrdmlG3s2VWwUi5EDAIDAcWvvpooIC9OEeemuowCnjcYWqATj56QrJjJMN/Vs4joKAADAzyTUiNHwromasjRTuw/luY4DnBYaW3hez5491bNnT9cxfNqZnaePl2/TVd2SFF8t2nUcAACAXxjVL1mFxSV6/dvNrqOcUKDXfXCHOZHwvCeeeMJ1hBN67dtNKrHSHX2TXUcBAAA4rmZ1qmpI+/p657stGjOguarHRLqOdFyBXvfBHUZsAT/Kzi3Ue4u26qIODZRUO9Z1HAAAAJ/u7N9ch/KK9N6ira6jAKeMxhaeN3z4cA0fPtx1jON657stOpxfpNH9Ga0FAACBrWNiTfVqHq9X529SflGx6zjHFch1H9yisYXnZWVlKSsry3WMX8grLNbr325W3xZ11K5hnOs4AAAAJ3Vn/+bafShfH/+wzXWU4wrUug/u0dgCfvLRsm3aezhfd/Vv7joKAABAuZT+Qb6Gxs9NV0mJdR0HKDcaW8APikusJsxNU8fEOPVsHu86DgAAQLkYYzS6f3Ol7zmiL9fsch0HKDcaW8APvli9U5uzcnRn/+YyxriOAwAAUG5D29dX49qxenFOmqxl1BbewHY/8LxBgwa5jvAz1lqNn5OmpvGxuqBdfddxAAAATklEeJju6JesP368St+l7wuo2WeBVvchcJhg+StMt27d7JIlS1zHALQgba+ue3mR/n55e13fo4nrOAAAAKcsr7BYff75jdo1jNObt3Z3HQeQJBljllprux3vHFORgQr20px01akWreFdEl1HAQAAOC0xkeG6uVdTzdmwR2u2H3QdBzgpGlt43pAhQzRkyBDXMSRJq7dna+6GPbqld1PFRIa7jgMAAHDaRp7TVFWjwjV+bprrKP8TSHUfAguNLTwvNzdXubm5rmNIkibMTVfVqHDdcA5TkAEAgLfFxUbq2u6NNW3FDmXsy3EdR1Jg1X0ILDS2QAXJ2JejaSt26LoejRVXJdJ1HAAAgDN2W99mCjPSK/PSXUcBTojGFqggr8xLV5iRbuuT7DoKAABAhWgQV0WXdW6kSUsylHU433UcwCcaW6ACZB3O16QlGbqscyPVj4txHQcAAKDCjO6frLzCEr25YLPrKIBP7GMLz7v44otdR9BbC7cor7BEo/szWgsAAIJLSkJ1nde2nt5cuEWj+zdX1Wh3LUQg1H0ITDS28LwHH3zQ6evnFBTpzYWbdV7bekpJqO40CwAAgD/c2b+5vlqzS5OXZOiW3s2c5XBd9yFwMRUZOEOTFmfoQE6h7mS0FgAABKmuTWqpW5NaemXeJhUVl7iOA/wCjS08b8CAARowYICT1y4sLtEr8zbp7Ka11LVJbScZAAAAKsPo/s217UCuPlu5w1kGl3UfAhuNLXAGpq3Yrm0HcnVn/+auowAAAPjVoNYJal63qsbPSZe11nUc4GdobIHTZK3V+Dnpalmvmga2SnAdBwAAwK/CwoxG9UvWmh0H9W1qlus4wM/Q2AKnafaGPVq385BG9WuusDDjOg4AAIDfXXZWI9WtHq3xc9NcRwF+hsYWOE0vzU5Tg7gYXdqpoesoAAAAlSI6Ily39G6qeRv3avX2bNdxgP9hux943lVXXVXpr/nD1v1atGmf/nBRG0VF8PchAAAQOq7v0UQvfJOqCXPT9ew1Z1Xqa7uo++ANNLbwvDFjxlT6a06Ym64aMRG6tnvjSn9tAAAAl+KqROra7o31+oLN+s0FrZRYK7bSXttF3QdvYKgJnpeTk6OcnJxKe73Ne4/o89U7NbJnE1WN5m9DAAAg9Nzap5mMpFfnb6rU163sug/eQWMLzxs6dKiGDh1aaa/3yvx0RYaF6aZeTSvtNQEAAAJJw5pVdGmnhpq0OEMHcgoq7XUru+6Dd9DYAqdg7+F8fbAkU1d0aaSE6jGu4wAAADhzR79k5RQU653vtriOAtDYAqfirYVblF9Uotv7JruOAgAA4FSbBjXUv2VdvbFgs/IKi13HQYijsQXKKbegWG8v3KzBbeopJaGa6zgAAADOje6XrL2HC/TRsm2uoyDE0dgC5fTB0gztzynU6P6M1gIAAEhSz+bx6tAoTq/MS1dxiXUdByGMJV3heTfffLPfX6O4xOqVeZt0VuOa6taklt9fDwAAwAuMMRrVL1n3vv+DvlqzSxe2r+/X16uMug/eRGMLz6uMH3Cfr9qprfty9MjQ1jLG+P31AAAAvGJI+/pKql1F4+em6YJ29fxaK9HYwhemIsPz9u7dq7179/rt+a21mjA3TU3jY3VeW//+FRIAAMBrIsLDdHufZP2w9YCWbNnv19fyd90H76KxheeNGDFCI0aM8NvzL9q0Tz9mZuv2vskKD2O0FgAA4FhXdktUrdhIjZ+T7tfX8XfdB++isQVOYsLcdMVXjdKIromuowAAAASk2KgIjezZVF+v3aXU3Ydcx0EIorEFTmDjrkP6Zt1u3dizqWIiw13HAQAACFg39Wyi6IgwvTx3k+soCEE0tsAJTJibrpjIMI3s2cR1FAAAgIAWXy1aV3ZL1H9/2KbdB/Ncx0GIobEFfNh1ME8fL9+mq7olqXbVKNdxAAAAAt7tfZJVVFKi1xdsdh0FIYbtfuB5d911l1+e9/VvN6u4xOr2Psl+eX4AAIBg07ROVV3Yvr7e+W6L7h6YomrRFdtu+Kvug/fR2MLzrr766gp/zsP5RXp30RYNad9AjeNjK/z5AQAAgtXofs01feVOTfx+q27vW7EDBP6o+xAcmIoMz8vIyFBGRkaFPufE77fqUF6RRvVjtBYAAOBUdEqqqR7NauvV+ZtUWFxSoc/tj7oPwYHGFp43cuRIjRw5ssKer7C4RK/N36QezWqrU1LNCnteAACAUHFn/+bakZ2nT3/cXqHPW9F1H4KHXxtbY8yFxpj1xphUY8xDxzkfbYyZVHZ+kTGmadnxeGPMLGPMYWPM8/7MCBxr2ort2p6dp9H9Ga0FAAA4HQNa1VXLetU0YW66rLWu4yAE+K2xNcaES3pB0hBJbSVda4xpe8xlt0nab61NkfS0pH+WHc+T9EdJD/orH3A81lqNn5OuFgnVNKBlgus4AAAAnmSM0ah+zbVu5yHN2bDHdRyEAH+O2HaXlGqtTbfWFkiaKGnYMdcMk/Rm2edTJA0yxhhr7RFr7XyVNrhApZm3ca/W7TykO/olKyzMuI4DAADgWZd2aqj6NWI0YW666ygIAf5sbBtJOvrO7syyY8e9xlpbJClbUrwfMwEnNGFuuhKqR2tY54auowAAAHhaVESYbu3TVAvSsrQyM9t1HAQ5T2/3Y4wZJWmUJDVu3NhxGrjywAMPVMjzrNqWrfmpe/W7C1srOiK8Qp4TAAAglF3bvbGem5mq8XPT9Px1Xc74+Sqq7kPw8Wdju01S0lFfJ5YdO941mcaYCElxkrLK+wLW2gmSJkhSt27duCs9RF1yySUV8jwvz0tXtegIXdeDP5IAAABUhOoxkbrunMZ6eW66tmblqHF87Bk9X0XVfQg+/pyKvFhSC2NMM2NMlKRrJE095pqpkm4q+3yEpG8sy6bhFK1fv17r168/o+fI3J+jaSt26NruSYqrEllByQAAAHBr72YKDzN6df6Z32tbEXUfgpPfRmyttUXGmHskfSEpXNJr1trVxpi/SVpirZ0q6VVJbxtjUiXtU2nzK0kyxmyWVENSlDHmMknnW2vX+CsvvGv06NGSpNmzZ5/2c7w2f7OMpFt6N6uYUAAAAJAk1asRo8s6N9KkJRm6b3BL1a4addrPVRF1H4KTX++xtdZOlzT9mGN/OurzPElX+nhsU39mA36SnVOoiYu36tJODdWwZhXXcQAAAILOqH7J+mBppt5euEX3DW7hOg6CkD+nIgOe8M6iLcopKNYd/ZJdRwEAAAhKLepV16DWCXpz4WblFhS7joMgRGOLkJZfVKw3FmxWv5Z11aZBDddxAAAAgtaofsnad6RAU5Zluo6CIERji5D28Q/btOdQvkYzWgsAAOBX3ZvVVuekmnplXrqKS1gvFhXL0/vYApL0hz/84bQeV1JiNWFuuto1rKFezeMrOBUAAACOZozR6H7JuuvdZfpi9U4N7dDglJ/jdOs+BD8aW3je4MGDT+tx36zbrbQ9R/TsNZ1ljKngVAAAADjW+e3qq2l8rMbPSdOQ9vVPuQY73boPwY+pyPC85cuXa/ny5af8uAlz09WoZhVddBp/LQQAAMCpCw8zur1vsn7MzNZ36ftO+fGnW/ch+NHYwvPGjh2rsWPHntJjfti6X99v3qfb+jRTRDjfBgAAAJVlRNdExVeN0svz0k/5sadT9yE0UNEjJE2Ym664KpG6+uwk11EAAABCSkxkuG7s2VTfrNutjbsOuY6DIEFji5Czee8Rfb56p244p7GqRnObOQAAQGUb2bOJYiLDTmvUFjgeGluEnFfmpysyLEw39WrqOgoAAEBIql01Sld2TdLHP2zX7oN5ruMgCNDYIqTsPZyvD5Zk6ooujZRQPcZ1HAAAgJB1e99mKiop0esLNruOgiDAPEx43uOPP17ua99auEX5RSW6vW+yHxMBAADgZJrEV9WF7evr3e+26O6BKapWjlvETqXuQ2ihsYXn9erVq1zX5RYU6+2FmzW4TT2lJFTzcyoAAACczB19kzV95U5NWpyh2/o0O+n15a37EHqYigzPW7BggRYsWHDS6z5YmqH9OYUa3Z/RWgAAgEBwVuNa6t60tl6bv0mFxSUnvb68dR9CD40tPO+RRx7RI488csJrikusXpm3SWc1rqluTWpVUjIAAACczKh+ydp2IFfTV+446bXlqfsQmmhsERI+X7VTW/flaHS/ZBljXMcBAABAmXNbJ6h53aqaMDdd1lrXceBRNLYIetZaTZibpqbxsTqvbX3XcQAAAHCUsDCjO/oma/X2g1qQluU6DjyKxhZBb9GmffoxM1u3901WeBijtQAAAIHmsrMaqU61aE2Ym+46CjyKxhZBb8LcdMVXjdKIromuowAAAOA4YiLDdUvvppqzYY/W7TzoOg48iO1+4HnPPPOMz3Mbdx3SN+t26/7BLRUTGV55oQAAAHBKru/RWC/MStWEuen691Wdj3vNieo+hDYaW3he586dfZ6bMDddMZFhGtmzSeUFAgAAwCmrGRulq7ol6Z3vtug3F7RSg7gqv7jmRHUfQhtTkeF5X3/9tb7++utfHN91ME8fL9+mq7olqXbVKAfJAAAAcCpu69NMJdbqjW83H/e8r7oPYMQWnvfYY49JkgYPHvyz469/u1nFJVa390l2EQsAAACnKKl2rIZ2aKD3Fm3VPeemqHpM5M/O+6r7AEZsEZQO5xfp3UVbNKR9AzWOj3UdBwAAAOU0ul9zHcov0sTvM1xHgYfQ2CIoTfx+qw7lFWlUP0ZrAQAAvKRDYpx6JsfrtW83qbC4xHUceASNLYJOYXGJXpu/ST2a1VanpJqu4wAAAOAUjeqXrB3Zefr0x+2uo8AjaGwRdKat2K7t2Xka3Z/RWgAAAC8a0KquWtarpglz02WtdR0HHsDiUfC88ePH/+9za63Gz0lXi4RqGtAywWEqAAAAnC5jjO7om6zfTFmheRv3ql/LupJ+XvcBR2PEFp7XqlUrtWrVSpI0b+Nerdt5SHf0S1ZYmHGcDAAAAKdrWOdGqlcjWhPmpv/v2NF1H3A0Glt43qeffqpPP/1UkjRhbroSqkdrWOeGjlMBAADgTERFhOnmXs00P3WvVm3LlvTzug84Go0tPO+pp57SU089pVXbsjU/da9u6d1M0RHhrmMBAADgDF3Xo7GqRoXrlXmlo7Y/1X3AsWhsETRenpeuqlHhuq5HY9dRAAAAUAHiqkTq2u6N9emKHdp2INd1HAQwGlsEhfyiEk1bsUPXdm+suCqRruMAAACggtzSp5kk6bX5mxwnQSCjsUVQ2JmdJyPp1rIffAAAAAgOjWpW0SUdG2ji91tVVMLWPzg+Glt4XlGJ1e5Debq0U0M1rFnFdRwAAABUsDv6JetIQbF2H8xzHQUBin1s4XkX3v2YNs9J0x39kl1HAQAAgB+0axinPil1tPK8+/TKmF6u4yAAMWILTysoKtEnqfk6t1tbtWlQw3UcAAAA+MmofsnKDo/T8n2MzeGXaGzhaVERYRpec4s65q92HQUAAAB+1LdFHQ2vuUU56+a6joIARGMLz/v8g7c1bdKbrmMAAADAj4wxWvr5ZL328gTXURCAaGwBAAAAAJ5GYwsAAAAA8DQaWwAAAACAp9HYAgAAAAA8jbWy4XlTpkxxHQEAAACVgLoPvtDYwvPq1KnjOgIAAAAqAXUffGEqMjzvjTfe0BtvvOE6BgAAAPyMug++0NjC8/gBBwAAEBqo++ALjS0AAAAAwNNobAEAAAAAnkZjCwAAAADwNBpbAAAAAICnsd0PPG/69OmuIwAAAKASUPfBFxpbeF5sbKzrCAAAAKgE1H3whanI8Lxx48Zp3LhxrmMAAADAz6j74AuNLTxv8uTJmjx5susYAAAA8DPqPvhCYwsAAAAA8DQaWwAAAACAp9HYAgAAAAA8jcYWAAAAAOBpxlrrOkOFMMbskbTFdQ6H6kja6zoEnOH9D12896GN9z908d6HNt7/0BXq730Ta23d450ImsY21Bljllhru7nOATd4/0MX731o4/0PXbz3oY33P3Tx3vvGVGQAAAAAgKfR2AIAAAAAPI3GNnhMcB0ATvH+hy7e+9DG+x+6eO9DG+9/6OK994F7bAEAAAAAnsaILQAAAADA02hsg4Ax5l5jzDpjzGpjzP8ddfxhY0yqMWa9MeYClxnhP8aYB4wx1hhTp+xrY4z5T9l7v8IY08V1RlQ8Y8y/yr7vVxhj/muMqXnUOb73g5wx5sKy9zfVGPOQ6zzwL2NMkjFmljFmTdnv+vvKjtc2xnxljNlY9t9arrPCP4wx4caYH4wx08q+bmaMWVT2M2CSMSbKdUb4hzGmpjFmStnv/LXGmJ587x8fja3HGWMGShomqZO1tp2kJ8uOt5V0jaR2ki6UNM4YE+4sKPzCGJMk6XxJW486PERSi7KPUZJedBAN/veVpPbW2o6SNkh6WOJ7PxSUvZ8vqPR7va2ka8vedwSvIkkPWGvbSjpH0t1l7/lDkmZaa1tImln2NYLTfZLWHvX1PyU9ba1NkbRf0m1OUqEyPCvpc2tta0mdVPr/A773j4PG1vvukvQPa22+JFlrd5cdHyZporU231q7SVKqpO6OMsJ/npb0W0lH3yw/TNJbttR3kmoaYxo4SQe/sdZ+aa0tKvvyO0mJZZ/zvR/8uktKtdamW2sLJE1U6fuOIGWt3WGtXVb2+SGVFraNVPq+v1l22ZuSLnMSEH5ljEmUdJGkV8q+NpLOlTSl7BLe+yBljImT1E/Sq5JkrS2w1h4Q3/vHRWPrfS0l9S2bjjLHGHN22fFGkjKOui6z7BiChDFmmKRt1tofjznFex96bpU0o+xz3v/gx3scwowxTSWdJWmRpHrW2h1lp3ZKqucqF/zqGZX+Ebuk7Ot4SQeO+uMmPwOCVzNJeyS9XjYV/RVjTFXxvX9cEa4D4OSMMV9Lqn+cU79X6XtYW6VTk86WNNkYk1yJ8eBHJ3nvH1HpNGQEqRO9/9baT8qu+b1Kpym+W5nZAFQ+Y0w1SR9KGmutPVg6cFfKWmuNMWx1EWSMMRdL2m2tXWqMGeA4DipfhKQuku611i4yxjyrY6Yd873//9HYeoC1drCvc8aYuyR9ZEv3bfreGFMiqY6kbZKSjro0sewYPMTXe2+M6aDSv+L9WFbYJEpaZozpLt77oHGi731JMsbcLOliSYPs/9+7jfc/+PEehyBjTKRKm9p3rbUflR3eZYxpYK3dUXbLyW7fzwCP6i3pUmPMUEkxkmqo9J7LmsaYiLJRW34GBK9MSZnW2kVlX09RaWPL9/5xMBXZ+z6WNFCSjDEtJUVJ2itpqqRrjDHRxphmKl1I6HtXIVGxrLUrrbUJ1tqm1tqmKv3B18Vau1Ol7/2NZasjnyMp+6jpKggSxpgLVTo17VJrbc5Rp/jeD36LJbUoWxU1SqWLhU11nAl+VHZP5auS1lpr/33UqamSbir7/CZJn1R2NviXtfZha21i2e/6ayR9Y629XtIsSSPKLuO9D1JldV2GMaZV2aFBktaI7/3jYsTW+16T9JoxZpWkAkk3lY3crDbGTFbp//mLJN1trS12mBOVZ7qkoSpdNChH0i1u48BPnpcULemrslH776y1d1pr+d4PctbaImPMPZK+kBQu6TVr7WrHseBfvSWNlLTSGLO87Ngjkv6h0luQbpO0RdJVbuLBgd9JmmiMeUzSDypbXAhB6V5J75b9ITNdpXVdmPje/wXz/2evAQAAAADgPUxFBgAAAAB4Go0tAAAAAMDTaGwBAAAAAJ5GYwsAAAAA8DQaWwAAAACAp9HYAgAAAAA8jcYWAAAAAOBpNLYAAAQBY8xzxphlxpizXWcBAKCy0dgCAOBxxpiqkhIkjZZ0seM4AABUOhpbAAA8xBhTxRgzxxgT/tMxa+0RSQ0kzZb0H2NMlDFmrjEmwlVOAAAqE40tAADecqukj6y1xT8dMMbES4qVdEhSkbW2QNJMSVe7iQgAQOWisQUAIAAZY2YZY84r+/wxY8xzZaeul/TJMZf/QdKTklZLald27OOyawEACHo0tgAABKY/S/q9MeZ6SWdJGmuMiZKUbK3d/NNFxpimknpJmiRprf5/Y7tKEgtJAQBCAo0tAAAByFo7V5KR9GtJ15RNPa4j6cAxlz4m6W/WWqujGtuy6wuMMdUrLTQAAI6wqAQAAAHIGNNBpQtCZVlrD5UdzpUUc9Q1nSVdIamPMeaFsnMrj3qaaEl5lRIYAACHGLEFACDAGGMaSHpX0jBJh40xF0qStXa/pHBjzE/N7T8lXWqtbWqtbSqpk8pGbMsWlNprrS2s7PwAAFQ2GlsAAAKIMSZW0keSHrDWrpX0qErvt/3JlyodoT1XUqy19uufTlhrd0mqZoypLWmgpM8qLzkAAO6Y0ltyAACAFxhjuki631o78iTXfSTpIWvthspJBgCAO4zYAgDgIdbaZZJmGWPCfV1TtnryxzS1AIBQwYgtAAAAAMDTGLEFAAAAAHgajS0AAAAAwNNobAEAAAAAnkZjCwAAAADwNBpbAAAAAICn0dgCAAAAADyNxhYAAAAA4Gn/D7gDIMouwJf8AAAAAElFTkSuQmCC\n",
          "text/plain": "<Figure size 1152x648 with 1 Axes>"
         },
         "metadata": {
          "needs_background": "light"
         },
         "output_type": "display_data"
        }
       ]
      }
     },
     "c6ebeb1be06148d99f05ff798116e900": {
      "model_module": "@jupyter-widgets/base",
      "model_module_version": "1.2.0",
      "model_name": "LayoutModel",
      "state": {}
     },
     "c8b95b8daace486bac4fcf32658b00c7": {
      "model_module": "@jupyter-widgets/controls",
      "model_module_version": "1.5.0",
      "model_name": "ButtonStyleModel",
      "state": {}
     },
     "c8e84f1c1046448484324e44f98f8419": {
      "model_module": "@jupyter-widgets/controls",
      "model_module_version": "1.5.0",
      "model_name": "ButtonStyleModel",
      "state": {}
     },
     "c9cdc1d7ceb040cb94940e5c74b87531": {
      "model_module": "@jupyter-widgets/controls",
      "model_module_version": "1.5.0",
      "model_name": "SliderStyleModel",
      "state": {
       "description_width": "initial"
      }
     },
     "cc5a15a7ae6845549c663f60ad0a5bfb": {
      "model_module": "@jupyter-widgets/controls",
      "model_module_version": "1.5.0",
      "model_name": "TabModel",
      "state": {
       "_titles": {
        "0": "Gerar o Sistema",
        "1": "Funções de Onda"
       },
       "children": [
        "IPY_MODEL_71666d9f5a18479fa66b9c965b866699",
        "IPY_MODEL_b33dc9c0a5bb42a2b2d9fed7e4d608eb"
       ],
       "layout": "IPY_MODEL_a35c16746d284aabbd855ae87298955c",
       "selected_index": 1
      }
     },
     "cc701aa7eb224e3bbecf4f4541419d5b": {
      "model_module": "@jupyter-widgets/base",
      "model_module_version": "1.2.0",
      "model_name": "LayoutModel",
      "state": {}
     },
     "cc992d459dba4d289a514f667154ce80": {
      "model_module": "@jupyter-widgets/base",
      "model_module_version": "1.2.0",
      "model_name": "LayoutModel",
      "state": {}
     },
     "cda252056de44fea9641baa0c64b6965": {
      "model_module": "@jupyter-widgets/controls",
      "model_module_version": "1.5.0",
      "model_name": "SliderStyleModel",
      "state": {
       "description_width": "initial"
      }
     },
     "ce9e3b0057154064ab2501443e2b4a53": {
      "model_module": "@jupyter-widgets/output",
      "model_module_version": "1.0.0",
      "model_name": "OutputModel",
      "state": {
       "layout": "IPY_MODEL_b03e1f1c016342a6844b7f97066f2c12"
      }
     },
     "cf13e127044e413594166684cc7b0a72": {
      "model_module": "@jupyter-widgets/controls",
      "model_module_version": "1.5.0",
      "model_name": "DropdownModel",
      "state": {
       "_options_labels": [
        "densidades de probabilidades",
        "funções de onda (parte real)",
        "funções de onda (parte imaginária)"
       ],
       "description": "Plotar as",
       "index": 0,
       "layout": "IPY_MODEL_82ca48b522bb42c5bf7476c6709127ba",
       "style": "IPY_MODEL_90fb901fba9040e1882a06c745a19dbf"
      }
     },
     "d04918f8ded6464bbe275ffc84ce746a": {
      "model_module": "@jupyter-widgets/base",
      "model_module_version": "1.2.0",
      "model_name": "LayoutModel",
      "state": {}
     },
     "d16c522bb6fd4f2fa7fae2be015dc45d": {
      "model_module": "@jupyter-widgets/base",
      "model_module_version": "1.2.0",
      "model_name": "LayoutModel",
      "state": {}
     },
     "d1819aadbb434df9b62ad2547ec81401": {
      "model_module": "@jupyter-widgets/controls",
      "model_module_version": "1.5.0",
      "model_name": "DropdownModel",
      "state": {
       "_options_labels": [
        "densidades de probabilidades",
        "$\\Psi(x)$ (parte real, +)",
        "$\\Psi(x)$ (parte real, -)",
        "$\\Psi(x)$ (parte imaginária)"
       ],
       "description": "Plotar as",
       "index": 1,
       "layout": "IPY_MODEL_f5bfb75378bd4ff89e032fb1769bbc05",
       "style": "IPY_MODEL_f28c9f6d124c439da67c7acc9302d875"
      }
     },
     "d22a694023a843248a5dc97d16c8910d": {
      "model_module": "@jupyter-widgets/base",
      "model_module_version": "1.2.0",
      "model_name": "LayoutModel",
      "state": {}
     },
     "d34fc3262a2f475db4b6aad1eec65ba5": {
      "model_module": "@jupyter-widgets/controls",
      "model_module_version": "1.5.0",
      "model_name": "BoundedIntTextModel",
      "state": {
       "description": "Tamanho da figura (X):",
       "layout": "IPY_MODEL_b6ddcb1e23564823a432ce11a055e846",
       "max": 20,
       "style": "IPY_MODEL_365054c336584b2e98b316f0f16a631a",
       "value": 9
      }
     },
     "d37d82b5d25d428c806910dbae828733": {
      "model_module": "@jupyter-widgets/base",
      "model_module_version": "1.2.0",
      "model_name": "LayoutModel",
      "state": {}
     },
     "d384fd49af854705b079b54798e62417": {
      "model_module": "@jupyter-widgets/controls",
      "model_module_version": "1.5.0",
      "model_name": "ButtonStyleModel",
      "state": {}
     },
     "d3d56e79412b45e2b0c9b1282eb94a88": {
      "model_module": "@jupyter-widgets/base",
      "model_module_version": "1.2.0",
      "model_name": "LayoutModel",
      "state": {}
     },
     "d4023f38ceb347788052d5e48af5ad64": {
      "model_module": "@jupyter-widgets/base",
      "model_module_version": "1.2.0",
      "model_name": "LayoutModel",
      "state": {}
     },
     "d4d5dd73f63846cfb83d63b8a4f31782": {
      "model_module": "@jupyter-widgets/base",
      "model_module_version": "1.2.0",
      "model_name": "LayoutModel",
      "state": {
       "display": "flex",
       "width": "90%"
      }
     },
     "d57e8738ab374dd496258545e82fb2bb": {
      "model_module": "@jupyter-widgets/controls",
      "model_module_version": "1.5.0",
      "model_name": "IntRangeSliderModel",
      "state": {
       "_model_name": "IntRangeSliderModel",
       "_view_name": "IntRangeSliderView",
       "continuous_update": false,
       "description": "Número de estados:",
       "layout": "IPY_MODEL_5086e17c4ff8468b8788970fb9f22a03",
       "max": 10,
       "readout_format": ".1d",
       "style": "IPY_MODEL_dba7865ef8864c4ea4b35619ef4d2ea0",
       "value": [
        0,
        3
       ]
      }
     },
     "d5bb0146673a49af943d38f220340c0a": {
      "model_module": "@jupyter-widgets/base",
      "model_module_version": "1.2.0",
      "model_name": "LayoutModel",
      "state": {}
     },
     "d6d6139b428b4654a29c4b2b71f21f82": {
      "model_module": "@jupyter-widgets/base",
      "model_module_version": "1.2.0",
      "model_name": "LayoutModel",
      "state": {}
     },
     "d9d78816be694c85be55913ebf70c08b": {
      "model_module": "@jupyter-widgets/base",
      "model_module_version": "1.2.0",
      "model_name": "LayoutModel",
      "state": {}
     },
     "da0ca789a9df4179b355b04138eef127": {
      "model_module": "@jupyter-widgets/controls",
      "model_module_version": "1.5.0",
      "model_name": "ButtonStyleModel",
      "state": {}
     },
     "da39f123a4104241bd5e5eed0adb1a52": {
      "model_module": "@jupyter-widgets/controls",
      "model_module_version": "1.5.0",
      "model_name": "SliderStyleModel",
      "state": {
       "description_width": "initial"
      }
     },
     "dba7865ef8864c4ea4b35619ef4d2ea0": {
      "model_module": "@jupyter-widgets/controls",
      "model_module_version": "1.5.0",
      "model_name": "SliderStyleModel",
      "state": {
       "description_width": "initial"
      }
     },
     "dc0f76bbf8b44c1295cd616b1b8688e3": {
      "model_module": "@jupyter-widgets/controls",
      "model_module_version": "1.5.0",
      "model_name": "DescriptionStyleModel",
      "state": {
       "description_width": ""
      }
     },
     "dc12d4dc6fa64997b1d6aa7850d72976": {
      "model_module": "@jupyter-widgets/controls",
      "model_module_version": "1.5.0",
      "model_name": "TabModel",
      "state": {
       "_titles": {
        "0": "Gerar o Sistema",
        "1": "Funções de Onda"
       },
       "children": [
        "IPY_MODEL_6071efb8360a4023afb3436e04dee3de",
        "IPY_MODEL_b9dec51cf0e64f35b899d2e8246faa60"
       ],
       "layout": "IPY_MODEL_09906fcd4def4f67b89a64a1f3ba6da0",
       "selected_index": 1
      }
     },
     "dd051bd1fea6478180d32331b362b181": {
      "model_module": "@jupyter-widgets/controls",
      "model_module_version": "1.5.0",
      "model_name": "VBoxModel",
      "state": {
       "_dom_classes": [
        "widget-interact"
       ],
       "children": [
        "IPY_MODEL_875c674e6b5a4efda78bc6d547cfdf7f",
        "IPY_MODEL_e89af2856e5a40f797f377a976a73cc4",
        "IPY_MODEL_7954116f759d41cba2ab4d8719ed09d3",
        "IPY_MODEL_9cf1b88a19a042b3800c96c5e1b31b22"
       ],
       "layout": "IPY_MODEL_511fbdc0cbf64df4a4ad4cf767654619"
      }
     },
     "dd5c0cc04c194619b3a1bdbe1737e22d": {
      "model_module": "@jupyter-widgets/controls",
      "model_module_version": "1.5.0",
      "model_name": "SliderStyleModel",
      "state": {
       "description_width": "initial"
      }
     },
     "de2d3acbd655469bae9c611574cb8594": {
      "model_module": "@jupyter-widgets/controls",
      "model_module_version": "1.5.0",
      "model_name": "ButtonModel",
      "state": {
       "description": "Run Interact",
       "layout": "IPY_MODEL_ba132cd59d794c84b5a2ac593b137b18",
       "style": "IPY_MODEL_403bf35a9ae8464aa76ce0be4a336763"
      }
     },
     "de5b38c79619412eaaea396055dcb31d": {
      "model_module": "@jupyter-widgets/controls",
      "model_module_version": "1.5.0",
      "model_name": "VBoxModel",
      "state": {
       "_dom_classes": [
        "widget-interact"
       ],
       "children": [
        "IPY_MODEL_3db38cf11b474ca1a42c1ef2f87fa316",
        "IPY_MODEL_12f69137269d4b69aa5262f4f9a67450",
        "IPY_MODEL_c4ef44921f214beb9ffe4b82161a0bd6",
        "IPY_MODEL_5b84c90e88d64ca2a8d3b78ddba4ead1",
        "IPY_MODEL_e2ea94722d4345aea5a8acb379851b3c",
        "IPY_MODEL_787fb18c62214a2899217d20c224cfa5",
        "IPY_MODEL_e911301e069447e6abd91bf3f03f7702"
       ],
       "layout": "IPY_MODEL_27025e01055a4f578795f6dbb79219b4"
      }
     },
     "de8519a69fc94a4a998d4cd0d0de90e9": {
      "model_module": "@jupyter-widgets/base",
      "model_module_version": "1.2.0",
      "model_name": "LayoutModel",
      "state": {}
     },
     "de934d17fd4b4925a44988d075790612": {
      "model_module": "@jupyter-widgets/base",
      "model_module_version": "1.2.0",
      "model_name": "LayoutModel",
      "state": {}
     },
     "deb5a23be8f745a3bf19749f133546a0": {
      "model_module": "@jupyter-widgets/base",
      "model_module_version": "1.2.0",
      "model_name": "LayoutModel",
      "state": {}
     },
     "df961b9cf19a497c982a43b7ab0347bb": {
      "model_module": "@jupyter-widgets/base",
      "model_module_version": "1.2.0",
      "model_name": "LayoutModel",
      "state": {}
     },
     "e1470f7d4a9346a39c11b299a5ddffda": {
      "model_module": "@jupyter-widgets/base",
      "model_module_version": "1.2.0",
      "model_name": "LayoutModel",
      "state": {}
     },
     "e17c669d73284e6a80d33ced0966186e": {
      "model_module": "@jupyter-widgets/output",
      "model_module_version": "1.0.0",
      "model_name": "OutputModel",
      "state": {
       "layout": "IPY_MODEL_4d054785c0ca42f2869aee77b675f27d"
      }
     },
     "e24f6008bc81473ead223b4c8ac2c412": {
      "model_module": "@jupyter-widgets/base",
      "model_module_version": "1.2.0",
      "model_name": "LayoutModel",
      "state": {}
     },
     "e27824c2a68f4356ba4ccbd9b46714bd": {
      "model_module": "@jupyter-widgets/controls",
      "model_module_version": "1.5.0",
      "model_name": "SliderStyleModel",
      "state": {
       "description_width": "initial"
      }
     },
     "e2df21a014bc4e48850a21fb73aec939": {
      "model_module": "@jupyter-widgets/base",
      "model_module_version": "1.2.0",
      "model_name": "LayoutModel",
      "state": {
       "display": "flex",
       "width": "90%"
      }
     },
     "e2ea94722d4345aea5a8acb379851b3c": {
      "model_module": "@jupyter-widgets/controls",
      "model_module_version": "1.5.0",
      "model_name": "BoundedIntTextModel",
      "state": {
       "description": "Tamanho da figura (Y):",
       "layout": "IPY_MODEL_705d0c816dcb427bb7e0875c2b2f2ed3",
       "max": 20,
       "style": "IPY_MODEL_1c9d71612abe49f584e6f8e73c8368a5",
       "value": 16
      }
     },
     "e3465db1c6784344b9afe87e01650db9": {
      "model_module": "@jupyter-widgets/base",
      "model_module_version": "1.2.0",
      "model_name": "LayoutModel",
      "state": {}
     },
     "e37b1fa586a34e95a4be2332c678a171": {
      "model_module": "@jupyter-widgets/controls",
      "model_module_version": "1.5.0",
      "model_name": "ButtonModel",
      "state": {
       "description": "Plotar",
       "layout": "IPY_MODEL_6acfde56b43445e9b911d9add7d9a613",
       "style": "IPY_MODEL_a4567e5336d1461eb248b08fa4df83bb"
      }
     },
     "e774e6747a4142a1ae571eea4b300ff4": {
      "model_module": "@jupyter-widgets/controls",
      "model_module_version": "1.5.0",
      "model_name": "VBoxModel",
      "state": {
       "_dom_classes": [
        "widget-interact"
       ],
       "children": [
        "IPY_MODEL_00d888d3b55b4797880f013d4dacccb9",
        "IPY_MODEL_76d93a7ba2214801aa7cc1a22522cc6f",
        "IPY_MODEL_27be68aac7dc4bd9abaca2fd2243ed32",
        "IPY_MODEL_5b286cacdcb141c98a7f1878148f4e7e",
        "IPY_MODEL_7bd79bf23b6047f0be9e554b5bce2a04",
        "IPY_MODEL_0d78f92c802d4c9fabb1d7b667642243",
        "IPY_MODEL_f3331d1c841745338a773bb78ec66a18"
       ],
       "layout": "IPY_MODEL_aead35e31d134264b470750d17b7ae60"
      }
     },
     "e7ab680d794a4a5b91d3440152765fda": {
      "model_module": "@jupyter-widgets/base",
      "model_module_version": "1.2.0",
      "model_name": "LayoutModel",
      "state": {}
     },
     "e804a1c6d23f4b4bafb0877c2c973d56": {
      "model_module": "@jupyter-widgets/base",
      "model_module_version": "1.2.0",
      "model_name": "LayoutModel",
      "state": {}
     },
     "e82c53850a3c4bbdabfa14a61ce5b7ef": {
      "model_module": "@jupyter-widgets/controls",
      "model_module_version": "1.5.0",
      "model_name": "SliderStyleModel",
      "state": {
       "description_width": "initial"
      }
     },
     "e87f7564819f49f98b9f846627515646": {
      "model_module": "@jupyter-widgets/base",
      "model_module_version": "1.2.0",
      "model_name": "LayoutModel",
      "state": {}
     },
     "e89af2856e5a40f797f377a976a73cc4": {
      "model_module": "@jupyter-widgets/controls",
      "model_module_version": "1.5.0",
      "model_name": "IntSliderModel",
      "state": {
       "continuous_update": false,
       "description": "Número de pontos: ",
       "layout": "IPY_MODEL_46fb4fa55a21404fb6bddefd66cf88ea",
       "max": 2000,
       "min": 200,
       "step": 10,
       "style": "IPY_MODEL_3380986b031a4074bd62469c284645e5",
       "value": 500
      }
     },
     "e8f73c008eaa4558b5c7682a42db1801": {
      "model_module": "@jupyter-widgets/base",
      "model_module_version": "1.2.0",
      "model_name": "LayoutModel",
      "state": {}
     },
     "e911301e069447e6abd91bf3f03f7702": {
      "model_module": "@jupyter-widgets/output",
      "model_module_version": "1.0.0",
      "model_name": "OutputModel",
      "state": {
       "layout": "IPY_MODEL_d6d6139b428b4654a29c4b2b71f21f82"
      }
     },
     "e9b196ddb4284766aced81aa8705bed2": {
      "model_module": "@jupyter-widgets/base",
      "model_module_version": "1.2.0",
      "model_name": "LayoutModel",
      "state": {}
     },
     "e9c8e1ce25ac422fb3dbf33cb732e197": {
      "model_module": "@jupyter-widgets/controls",
      "model_module_version": "1.5.0",
      "model_name": "SliderStyleModel",
      "state": {
       "description_width": "initial"
      }
     },
     "ea7514f321e943399b97ce5f1f0e03f2": {
      "model_module": "@jupyter-widgets/base",
      "model_module_version": "1.2.0",
      "model_name": "LayoutModel",
      "state": {}
     },
     "ecc412a3f55340f8b4dd85f526b98ccd": {
      "model_module": "@jupyter-widgets/base",
      "model_module_version": "1.2.0",
      "model_name": "LayoutModel",
      "state": {}
     },
     "eced33caaca349c2b1b18525605f1b30": {
      "model_module": "@jupyter-widgets/controls",
      "model_module_version": "1.5.0",
      "model_name": "ButtonModel",
      "state": {
       "description": "Gerar/Resolver",
       "layout": "IPY_MODEL_70847b8318d549ceaf9b8f484f5304f7",
       "style": "IPY_MODEL_c696fe9d553547a591491dfedf7a0b65"
      }
     },
     "edaabfabbbbd49908872dfeea96b2193": {
      "model_module": "@jupyter-widgets/output",
      "model_module_version": "1.0.0",
      "model_name": "OutputModel",
      "state": {
       "layout": "IPY_MODEL_89a227654e72419c97cec09b93bd1ff6",
       "outputs": [
        {
         "data": {
          "image/png": "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\n",
          "text/plain": "<Figure size 648x1152 with 1 Axes>"
         },
         "metadata": {
          "needs_background": "light"
         },
         "output_type": "display_data"
        }
       ]
      }
     },
     "edd15b122a474884b63abdf5f81abb00": {
      "model_module": "@jupyter-widgets/controls",
      "model_module_version": "1.5.0",
      "model_name": "SliderStyleModel",
      "state": {
       "description_width": "initial"
      }
     },
     "ef15f14c6e1245978cf7d914cfa3f1e1": {
      "model_module": "@jupyter-widgets/controls",
      "model_module_version": "1.5.0",
      "model_name": "SliderStyleModel",
      "state": {
       "description_width": "initial"
      }
     },
     "ef9769ab43934ab9bb63b5ef72858f7c": {
      "model_module": "@jupyter-widgets/base",
      "model_module_version": "1.2.0",
      "model_name": "LayoutModel",
      "state": {}
     },
     "effa7db61ba74ea2bb5e7f7485afbc2d": {
      "model_module": "@jupyter-widgets/controls",
      "model_module_version": "1.5.0",
      "model_name": "SliderStyleModel",
      "state": {
       "description_width": "initial"
      }
     },
     "f0385aca523d44678883824576dd29f0": {
      "model_module": "@jupyter-widgets/controls",
      "model_module_version": "1.5.0",
      "model_name": "VBoxModel",
      "state": {
       "_dom_classes": [
        "widget-interact"
       ],
       "children": [
        "IPY_MODEL_8f619bacf4a34ba88b1cb9f5f7ee7ccb",
        "IPY_MODEL_f8da0872e35544b49fd51042132dc11b",
        "IPY_MODEL_613ef1deb6784df3be3b3c6899aa518b",
        "IPY_MODEL_a5130886199340ceb533bdcf17514937"
       ],
       "layout": "IPY_MODEL_d22a694023a843248a5dc97d16c8910d"
      }
     },
     "f0486cdf442b431a88e68affaa2440d9": {
      "model_module": "@jupyter-widgets/output",
      "model_module_version": "1.0.0",
      "model_name": "OutputModel",
      "state": {
       "layout": "IPY_MODEL_d4023f38ceb347788052d5e48af5ad64",
       "outputs": [
        {
         "name": "stdout",
         "output_type": "stream",
         "text": "\n #########Propriedades espaciais do sistema resolvido (angstroms)######### \n\n Largura do domínio =  100.00\n\n dx =  0.38\n\n #########################################################################\n\n Siga para a aba 'Funções de onda' para plotar o resultado.\n"
        }
       ]
      }
     },
     "f0cd98cacf9c4ec8a966dc4c045bd2ae": {
      "model_module": "@jupyter-widgets/controls",
      "model_module_version": "1.5.0",
      "model_name": "SliderStyleModel",
      "state": {
       "description_width": "initial"
      }
     },
     "f28c9f6d124c439da67c7acc9302d875": {
      "model_module": "@jupyter-widgets/controls",
      "model_module_version": "1.5.0",
      "model_name": "DescriptionStyleModel",
      "state": {
       "description_width": ""
      }
     },
     "f2bd9747065540fa932b38e12d497cd4": {
      "model_module": "@jupyter-widgets/controls",
      "model_module_version": "1.5.0",
      "model_name": "ButtonStyleModel",
      "state": {}
     },
     "f2cf6ab47b3b415681ab816d640ad9e4": {
      "model_module": "@jupyter-widgets/controls",
      "model_module_version": "1.5.0",
      "model_name": "FloatRangeSliderModel",
      "state": {
       "_model_name": "FloatRangeSliderModel",
       "_view_name": "FloatRangeSliderView",
       "continuous_update": false,
       "description": "Domínio de $\\Psi(x)$: ",
       "layout": "IPY_MODEL_87018481a1cf4850a7c40e8f612860e7",
       "max": 150,
       "min": -150,
       "readout_format": "1d",
       "style": "IPY_MODEL_ef15f14c6e1245978cf7d914cfa3f1e1",
       "value": [
        -50,
        50
       ]
      }
     },
     "f3331d1c841745338a773bb78ec66a18": {
      "model_module": "@jupyter-widgets/output",
      "model_module_version": "1.0.0",
      "model_name": "OutputModel",
      "state": {
       "layout": "IPY_MODEL_e7ab680d794a4a5b91d3440152765fda",
       "outputs": [
        {
         "data": {
          "image/png": "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\n",
          "text/plain": "<Figure size 936x1152 with 1 Axes>"
         },
         "metadata": {
          "needs_background": "light"
         },
         "output_type": "display_data"
        }
       ]
      }
     },
     "f34715e6001441a6bd68290d5b0d94eb": {
      "model_module": "@jupyter-widgets/controls",
      "model_module_version": "1.5.0",
      "model_name": "ButtonModel",
      "state": {
       "description": "Plotar",
       "layout": "IPY_MODEL_a19914a50b56469a933ef96a4cbcb1e1",
       "style": "IPY_MODEL_a0ce2ca0fb274752ae1047cd318f6a64"
      }
     },
     "f40b9bef5b4c42148b181b6da6f212f4": {
      "model_module": "@jupyter-widgets/controls",
      "model_module_version": "1.5.0",
      "model_name": "BoundedIntTextModel",
      "state": {
       "description": "Tamanho da figura (Y):",
       "layout": "IPY_MODEL_593d7527d20c4f4ca5fe8cacc8d81f66",
       "max": 20,
       "style": "IPY_MODEL_1294b7c86a2b4b7da199c64cfa1798e0",
       "value": 16
      }
     },
     "f5b7818e0d6344d3aa441640fd0b90a0": {
      "model_module": "@jupyter-widgets/base",
      "model_module_version": "1.2.0",
      "model_name": "LayoutModel",
      "state": {}
     },
     "f5bfb75378bd4ff89e032fb1769bbc05": {
      "model_module": "@jupyter-widgets/base",
      "model_module_version": "1.2.0",
      "model_name": "LayoutModel",
      "state": {}
     },
     "f6c16481a64d435b9890f12e9c10f91d": {
      "model_module": "@jupyter-widgets/controls",
      "model_module_version": "1.5.0",
      "model_name": "SliderStyleModel",
      "state": {
       "description_width": "initial"
      }
     },
     "f76f8279fe304fbe8365b84d891c2774": {
      "model_module": "@jupyter-widgets/base",
      "model_module_version": "1.2.0",
      "model_name": "LayoutModel",
      "state": {}
     },
     "f7a2f44cc8e54230a653181dcb0538ae": {
      "model_module": "@jupyter-widgets/output",
      "model_module_version": "1.0.0",
      "model_name": "OutputModel",
      "state": {
       "layout": "IPY_MODEL_ef9769ab43934ab9bb63b5ef72858f7c"
      }
     },
     "f8791939d6e643d983957925a9a789d4": {
      "model_module": "@jupyter-widgets/controls",
      "model_module_version": "1.5.0",
      "model_name": "ButtonModel",
      "state": {
       "description": "Run Interact",
       "layout": "IPY_MODEL_c65d6eba2db541dbb6db266752c42efb",
       "style": "IPY_MODEL_f2bd9747065540fa932b38e12d497cd4"
      }
     },
     "f8da0872e35544b49fd51042132dc11b": {
      "model_module": "@jupyter-widgets/controls",
      "model_module_version": "1.5.0",
      "model_name": "IntSliderModel",
      "state": {
       "continuous_update": false,
       "description": "Número de pontos: ",
       "layout": "IPY_MODEL_6ce0116eae74499caec0404235a27b03",
       "max": 2000,
       "min": 200,
       "step": 10,
       "style": "IPY_MODEL_473939a1a4f940dea8e4cc44871c236f",
       "value": 500
      }
     },
     "fa1911f65b2e486c838c90e2f53772be": {
      "model_module": "@jupyter-widgets/controls",
      "model_module_version": "1.5.0",
      "model_name": "IntRangeSliderModel",
      "state": {
       "_model_name": "IntRangeSliderModel",
       "_view_name": "IntRangeSliderView",
       "continuous_update": false,
       "description": "Número de estados:",
       "layout": "IPY_MODEL_e2df21a014bc4e48850a21fb73aec939",
       "max": 10,
       "readout_format": ".1d",
       "style": "IPY_MODEL_39b6a11d9bd445cab5b12fc5309ff0bc",
       "value": [
        0,
        1
       ]
      }
     },
     "fac082a33c094346980137c6a9ce5aeb": {
      "model_module": "@jupyter-widgets/base",
      "model_module_version": "1.2.0",
      "model_name": "LayoutModel",
      "state": {}
     },
     "fac3193cc4364ca5a666796ceeb88efa": {
      "model_module": "@jupyter-widgets/controls",
      "model_module_version": "1.5.0",
      "model_name": "TabModel",
      "state": {
       "_titles": {
        "0": "Gerar o Sistema",
        "1": "Funções de Onda"
       },
       "children": [
        "IPY_MODEL_4949280281d1465e81e90da302282805",
        "IPY_MODEL_1265479a8379425891bdc0fdd25633f2"
       ],
       "layout": "IPY_MODEL_6c97cdfb962c4febaef4569504e222d9",
       "selected_index": 1
      }
     },
     "fc4f629d9429483dbafad729b5ebf846": {
      "model_module": "@jupyter-widgets/controls",
      "model_module_version": "1.5.0",
      "model_name": "DescriptionStyleModel",
      "state": {
       "description_width": "initial"
      }
     },
     "fc9ba54d14fc4ecab90a608ac83673aa": {
      "model_module": "@jupyter-widgets/controls",
      "model_module_version": "1.5.0",
      "model_name": "ButtonModel",
      "state": {
       "description": "Gerar/Resolver",
       "layout": "IPY_MODEL_37aa103dc5b040c9a38663cfce4e64b7",
       "style": "IPY_MODEL_059b2c9deb524547b7d5c6745e2c7ab5"
      }
     },
     "fcd22cb1f7b1405f85ad0145fbb88fe3": {
      "model_module": "@jupyter-widgets/base",
      "model_module_version": "1.2.0",
      "model_name": "LayoutModel",
      "state": {}
     },
     "fe0122b6f6244488ae3f6803f447d925": {
      "model_module": "@jupyter-widgets/controls",
      "model_module_version": "1.5.0",
      "model_name": "SliderStyleModel",
      "state": {
       "description_width": "initial"
      }
     },
     "fe0c489d12e6406db5040f074103f20d": {
      "model_module": "@jupyter-widgets/base",
      "model_module_version": "1.2.0",
      "model_name": "LayoutModel",
      "state": {}
     },
     "ffdec49998114b8ea5e32f4a93287728": {
      "model_module": "@jupyter-widgets/controls",
      "model_module_version": "1.5.0",
      "model_name": "DescriptionStyleModel",
      "state": {
       "description_width": ""
      }
     }
    },
    "version_major": 2,
    "version_minor": 0
   }
  }
 },
 "nbformat": 4,
 "nbformat_minor": 5
}
